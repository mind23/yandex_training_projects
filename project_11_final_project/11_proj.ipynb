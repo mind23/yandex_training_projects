{
 "cells": [
  {
   "cell_type": "markdown",
   "metadata": {},
   "source": [
    "# Формирование модели монетизации в игровом приложении «Космические братья»"
   ]
  },
  {
   "cell_type": "markdown",
   "metadata": {},
   "source": [
    "В мобильной игре «Космические братья» пользователи строят свою космическую программу и пытаются преуспеть в нелёгком деле колонизации галактики.\n",
    "\n",
    "Основная монетизация игры — только планируется. Но предполагается, что в приложении будет происходить показ рекламы на экране с выбором типа объекта для постройки.\n",
    "\n",
    "В датасете представлены данные по игре пользователей на первом уровне. Завершение первого уровня требует от игрока выполнения одного из двух условий:\n",
    "\n",
    "- Победа над первым врагом\n",
    "- Реализация проекта \"разработка орбитальной сборки спутников\"\n",
    "\n",
    "Датасет содержит когорты пользователей, которые начали пользоваться приложением в период с 4 по 10 мая включительно.\n",
    "\n",
    "**Цель исследования:** предложить стратегию  монетизации игрового приложения, основываясь на данных о поведении первых пользователей и рекламе."
   ]
  },
  {
   "cell_type": "markdown",
   "metadata": {},
   "source": [
    "**Декомпозиция задачи (ход выполнения):**\n",
    "\n",
    "1. Открытие и изучение данных\n",
    "- Изучение документации о датасетах\n",
    "- Импорт библиотек, которые могут понадобиться для исследования\n",
    "- Открытие данных из файла\n",
    "- Проверка на соблюдение стиля наименований колонок\n",
    "- Проверка на явные и неявные дубликаты\n",
    "- Проверка на корректность типов данных\n",
    "- Проверка на пропуски в данных\n",
    "- Вывод по этапу\n",
    "\n",
    "2. Предобработка данных \n",
    "- Корректировка названий при необходимости\n",
    "- Обработка дубликатов при необходимости\n",
    "- Обработка пропусков в данных при необходимости\n",
    "- Изменение типов данных при необходимости\n",
    "- Вывод по этапу\n",
    "\n",
    "3. Исследовательский анализ данных \n",
    "\n",
    "- Вывод основных характеристик датасетов и мер центральной тенденции\n",
    "- Проверка на временной охват\n",
    "- Оценить рапределение пользователей по событиям \n",
    "- Оценить рапределение по типу построек\n",
    "- Оценить ежедневную активность пользователей (DAU)\n",
    "- Оценить удержание (Retention Rate)\n",
    "- Оценить CAC (стоимость привлечения клиента)\n",
    "- Вывод по этапу\n",
    "\n",
    "4. Анализ влияния событий на совершение целевого события (завершение первого уровня игроком)\n",
    "- Посмотреть среднее время прохождения уровня игроков выбравших военный путь победы\n",
    "- Посмотреть среднее время прохождения уровня игроков выбравших путь реализации проекта\n",
    "- Посмотреть среднее время оттока игроков непрошедших уровень\n",
    "- Вывод по этапу\n",
    "\n",
    "5. Проверка статистических гипотез \n",
    "- Проверка гипотезы различия времени прохождения уровня между пользователями, которые заканчивают уровень через реализацию проекта, и пользователями, которые заканчивают уровень победой над другим игроком.\n",
    "- Проверка гипотезы о различии времени прохождения первого уровня пользователями из различных источников траффика\n",
    "- Вывод по этапу\n",
    "\n",
    "6. Модель монетизации\n",
    "\n",
    "\n",
    "7. Общий вывод и рекомендации\n",
    "\n",
    "\n",
    "8. Построение дашборда\n",
    "* Набор №1\n",
    "    1. Построить диаграмму распределения количества построенных объектов\n",
    "    2. Добавить индикатор количества пользователей\n",
    "    3. Добавить фильтр дашборда по признаку завершения уровня\n",
    "*  Набор №2\n",
    "    1. Построить диаграмму, отображающую количество событий по дням\n",
    "    2. Построить гистограмму, отображающую количество пользователей, пришедших из разных источников\n",
    "    3. Добавить фильтр дашборда по типу события\n",
    "    \n",
    "9. Подготовка презентации"
   ]
  },
  {
   "cell_type": "markdown",
   "metadata": {},
   "source": [
    "**Содержание**\n",
    "    \n",
    "    \n",
    "1. [Открытие и изучение данных](#open)\n",
    "\n",
    "\n",
    "2. [Предобработка данных](#prep)\n",
    "        \n",
    "        \n",
    "3. [Исследовательский анализ](#eda)\n",
    "\n",
    "\n",
    "4. [Анализ влияния событий на совершение целевого события](#an)\n",
    "\n",
    "\n",
    "5. [Проверка гиппотез](#hyp)\n",
    "\n",
    "\n",
    "6. [Модель монетизации](#mon)\n",
    "\n",
    "\n",
    "7. [Общий вывод и рекомендации](#summary)\n",
    "\n",
    "\n",
    "8. [Дашборд и презентация](#summary2)"
   ]
  },
  {
   "cell_type": "markdown",
   "metadata": {},
   "source": [
    "<a id=\"open\"></a>\n",
    "## 1. Открытие и изучение данных"
   ]
  },
  {
   "cell_type": "markdown",
   "metadata": {},
   "source": [
    "**Описание данных:**\n",
    "\n",
    "Датасет *game_actions.csv*:\n",
    "\n",
    "- `event_datetime` — время события;\n",
    "- `event` — одно из трёх событий:\n",
    "    1. `building` — объект построен,\n",
    "    2. `finished_stage_1` — первый уровень завершён,\n",
    "    3. `project` — проект завершён;\n",
    "- `building_type` — один из трёх типов здания:\n",
    "    1. `assembly_shop` — сборочный цех,\n",
    "    2. `spaceport` — космопорт,\n",
    "    3. `research_center` — исследовательский центр;\n",
    "- `user_id` — идентификатор пользователя;\n",
    "- `project_type` — тип реализованного проекта;\n",
    "\n",
    "Помимо основного датасета есть два датасета с информацией о рекламных активностях. Они также помогут в решении задачи.\n",
    "\n",
    "Датасет *ad_costs.csv* содержит колонки:\n",
    "\n",
    "- `day` - день, в который был совершен клик по объявлению\n",
    "- `source` - источник трафика\n",
    "- `cost` - стоимость кликов\n",
    "\n",
    "Датасет user_source.csv содержит колонки:\n",
    "\n",
    "- `user_id` - идентификатор пользователя\n",
    "- `source` - источников, с которого пришёл пользователь, установивший приложение"
   ]
  },
  {
   "cell_type": "code",
   "execution_count": 1,
   "metadata": {},
   "outputs": [],
   "source": [
    "# Импортируем библиотеки\n",
    "\n",
    "import pandas as pd\n",
    "import seaborn as sb\n",
    "import datetime as dt\n",
    "import matplotlib.pyplot as plt\n",
    "import numpy as np\n",
    "import math as m\n",
    "import scipy as sc\n",
    "import warnings\n",
    "import plotly.express as px\n",
    "from plotly import graph_objects as go\n",
    "\n",
    "warnings.filterwarnings('ignore')\n",
    "pd.set_option('display.max_columns', None)\n",
    "pd.set_option('display.float_format', '{:,.3f}'.format)\n",
    "pd.set_option('display.max_colwidth', 500)\n",
    "pd.options.mode.chained_assignment = None\n",
    "\n",
    "# from pandas.plotting import register_matplotlib_converters\n",
    "# register_matplotlib_converters()"
   ]
  },
  {
   "cell_type": "code",
   "execution_count": 2,
   "metadata": {},
   "outputs": [],
   "source": [
    "# Открываем таблицы\n",
    "\n",
    "path = '/datasets/'\n",
    "events = pd.read_csv(path +'game_actions.csv')\n",
    "costs = pd.read_csv(path +'ad_costs.csv')\n",
    "traffic = pd.read_csv(path +'user_source.csv')"
   ]
  },
  {
   "cell_type": "code",
   "execution_count": 3,
   "metadata": {
    "scrolled": false
   },
   "outputs": [
    {
     "data": {
      "text/html": [
       "<div>\n",
       "<style scoped>\n",
       "    .dataframe tbody tr th:only-of-type {\n",
       "        vertical-align: middle;\n",
       "    }\n",
       "\n",
       "    .dataframe tbody tr th {\n",
       "        vertical-align: top;\n",
       "    }\n",
       "\n",
       "    .dataframe thead th {\n",
       "        text-align: right;\n",
       "    }\n",
       "</style>\n",
       "<table border=\"1\" class=\"dataframe\">\n",
       "  <thead>\n",
       "    <tr style=\"text-align: right;\">\n",
       "      <th></th>\n",
       "      <th>event_datetime</th>\n",
       "      <th>event</th>\n",
       "      <th>building_type</th>\n",
       "      <th>user_id</th>\n",
       "      <th>project_type</th>\n",
       "    </tr>\n",
       "  </thead>\n",
       "  <tbody>\n",
       "    <tr>\n",
       "      <th>117536</th>\n",
       "      <td>2020-05-16 11:38:58</td>\n",
       "      <td>building</td>\n",
       "      <td>spaceport</td>\n",
       "      <td>7aaaba15-46ce-4dce-9c49-40d3e7b66aed</td>\n",
       "      <td>NaN</td>\n",
       "    </tr>\n",
       "    <tr>\n",
       "      <th>29643</th>\n",
       "      <td>2020-05-07 05:41:37</td>\n",
       "      <td>building</td>\n",
       "      <td>assembly_shop</td>\n",
       "      <td>f6e68b19-9917-4ca0-bc46-4c3f58bc625c</td>\n",
       "      <td>NaN</td>\n",
       "    </tr>\n",
       "    <tr>\n",
       "      <th>126447</th>\n",
       "      <td>2020-05-18 20:35:39</td>\n",
       "      <td>building</td>\n",
       "      <td>spaceport</td>\n",
       "      <td>15d4959a-e94d-4165-b8f9-789b9211097d</td>\n",
       "      <td>NaN</td>\n",
       "    </tr>\n",
       "    <tr>\n",
       "      <th>19039</th>\n",
       "      <td>2020-05-06 04:31:30</td>\n",
       "      <td>building</td>\n",
       "      <td>assembly_shop</td>\n",
       "      <td>4c11189f-600c-4bc5-b382-0d1c60a70cf3</td>\n",
       "      <td>NaN</td>\n",
       "    </tr>\n",
       "    <tr>\n",
       "      <th>98625</th>\n",
       "      <td>2020-05-13 12:56:55</td>\n",
       "      <td>building</td>\n",
       "      <td>spaceport</td>\n",
       "      <td>9e2e9872-8eab-4fcc-a650-16d02fc7eeb1</td>\n",
       "      <td>NaN</td>\n",
       "    </tr>\n",
       "    <tr>\n",
       "      <th>46036</th>\n",
       "      <td>2020-05-08 16:03:06</td>\n",
       "      <td>building</td>\n",
       "      <td>assembly_shop</td>\n",
       "      <td>4ec9957b-c1fd-4497-9117-25c758271a72</td>\n",
       "      <td>NaN</td>\n",
       "    </tr>\n",
       "    <tr>\n",
       "      <th>90398</th>\n",
       "      <td>2020-05-12 11:27:58</td>\n",
       "      <td>building</td>\n",
       "      <td>spaceport</td>\n",
       "      <td>d990f9bf-2c6c-4a25-9679-19e07d482b03</td>\n",
       "      <td>NaN</td>\n",
       "    </tr>\n",
       "    <tr>\n",
       "      <th>10399</th>\n",
       "      <td>2020-05-05 06:04:59</td>\n",
       "      <td>building</td>\n",
       "      <td>spaceport</td>\n",
       "      <td>1d311498-6af1-4ea2-941e-d971945f53cf</td>\n",
       "      <td>NaN</td>\n",
       "    </tr>\n",
       "    <tr>\n",
       "      <th>107695</th>\n",
       "      <td>2020-05-14 19:21:56</td>\n",
       "      <td>building</td>\n",
       "      <td>spaceport</td>\n",
       "      <td>7718ea2c-f63e-4e3f-b4e5-6df443187f0f</td>\n",
       "      <td>NaN</td>\n",
       "    </tr>\n",
       "    <tr>\n",
       "      <th>129919</th>\n",
       "      <td>2020-05-20 09:27:15</td>\n",
       "      <td>building</td>\n",
       "      <td>spaceport</td>\n",
       "      <td>0850a0ab-c90e-41c0-b009-0fcb973a80fd</td>\n",
       "      <td>NaN</td>\n",
       "    </tr>\n",
       "  </tbody>\n",
       "</table>\n",
       "</div>"
      ],
      "text/plain": [
       "             event_datetime     event  building_type  \\\n",
       "117536  2020-05-16 11:38:58  building      spaceport   \n",
       "29643   2020-05-07 05:41:37  building  assembly_shop   \n",
       "126447  2020-05-18 20:35:39  building      spaceport   \n",
       "19039   2020-05-06 04:31:30  building  assembly_shop   \n",
       "98625   2020-05-13 12:56:55  building      spaceport   \n",
       "46036   2020-05-08 16:03:06  building  assembly_shop   \n",
       "90398   2020-05-12 11:27:58  building      spaceport   \n",
       "10399   2020-05-05 06:04:59  building      spaceport   \n",
       "107695  2020-05-14 19:21:56  building      spaceport   \n",
       "129919  2020-05-20 09:27:15  building      spaceport   \n",
       "\n",
       "                                     user_id project_type  \n",
       "117536  7aaaba15-46ce-4dce-9c49-40d3e7b66aed          NaN  \n",
       "29643   f6e68b19-9917-4ca0-bc46-4c3f58bc625c          NaN  \n",
       "126447  15d4959a-e94d-4165-b8f9-789b9211097d          NaN  \n",
       "19039   4c11189f-600c-4bc5-b382-0d1c60a70cf3          NaN  \n",
       "98625   9e2e9872-8eab-4fcc-a650-16d02fc7eeb1          NaN  \n",
       "46036   4ec9957b-c1fd-4497-9117-25c758271a72          NaN  \n",
       "90398   d990f9bf-2c6c-4a25-9679-19e07d482b03          NaN  \n",
       "10399   1d311498-6af1-4ea2-941e-d971945f53cf          NaN  \n",
       "107695  7718ea2c-f63e-4e3f-b4e5-6df443187f0f          NaN  \n",
       "129919  0850a0ab-c90e-41c0-b009-0fcb973a80fd          NaN  "
      ]
     },
     "metadata": {},
     "output_type": "display_data"
    },
    {
     "name": "stdout",
     "output_type": "stream",
     "text": [
      "<class 'pandas.core.frame.DataFrame'>\n",
      "RangeIndex: 135640 entries, 0 to 135639\n",
      "Data columns (total 5 columns):\n",
      " #   Column          Non-Null Count   Dtype \n",
      "---  ------          --------------   ----- \n",
      " 0   event_datetime  135640 non-null  object\n",
      " 1   event           135640 non-null  object\n",
      " 2   building_type   127957 non-null  object\n",
      " 3   user_id         135640 non-null  object\n",
      " 4   project_type    1866 non-null    object\n",
      "dtypes: object(5)\n",
      "memory usage: 5.2+ MB\n"
     ]
    }
   ],
   "source": [
    "# Изучаем таблицу events\n",
    "\n",
    "display(events.sample(10))\n",
    "events.tail(10)\n",
    "events.head(5)\n",
    "events.info()"
   ]
  },
  {
   "cell_type": "code",
   "execution_count": 4,
   "metadata": {},
   "outputs": [
    {
     "data": {
      "text/html": [
       "<div>\n",
       "<style scoped>\n",
       "    .dataframe tbody tr th:only-of-type {\n",
       "        vertical-align: middle;\n",
       "    }\n",
       "\n",
       "    .dataframe tbody tr th {\n",
       "        vertical-align: top;\n",
       "    }\n",
       "\n",
       "    .dataframe thead th {\n",
       "        text-align: right;\n",
       "    }\n",
       "</style>\n",
       "<table border=\"1\" class=\"dataframe\">\n",
       "  <thead>\n",
       "    <tr style=\"text-align: right;\">\n",
       "      <th></th>\n",
       "      <th>source</th>\n",
       "      <th>day</th>\n",
       "      <th>cost</th>\n",
       "    </tr>\n",
       "  </thead>\n",
       "  <tbody>\n",
       "    <tr>\n",
       "      <th>23</th>\n",
       "      <td>youtube_channel_reklama</td>\n",
       "      <td>2020-05-05</td>\n",
       "      <td>147.042</td>\n",
       "    </tr>\n",
       "    <tr>\n",
       "      <th>6</th>\n",
       "      <td>facebook_ads</td>\n",
       "      <td>2020-05-09</td>\n",
       "      <td>38.723</td>\n",
       "    </tr>\n",
       "    <tr>\n",
       "      <th>17</th>\n",
       "      <td>yandex_direct</td>\n",
       "      <td>2020-05-06</td>\n",
       "      <td>180.917</td>\n",
       "    </tr>\n",
       "    <tr>\n",
       "      <th>2</th>\n",
       "      <td>facebook_ads</td>\n",
       "      <td>2020-05-05</td>\n",
       "      <td>260.186</td>\n",
       "    </tr>\n",
       "    <tr>\n",
       "      <th>9</th>\n",
       "      <td>instagram_new_adverts</td>\n",
       "      <td>2020-05-05</td>\n",
       "      <td>313.971</td>\n",
       "    </tr>\n",
       "    <tr>\n",
       "      <th>18</th>\n",
       "      <td>yandex_direct</td>\n",
       "      <td>2020-05-07</td>\n",
       "      <td>114.429</td>\n",
       "    </tr>\n",
       "    <tr>\n",
       "      <th>21</th>\n",
       "      <td>youtube_channel_reklama</td>\n",
       "      <td>2020-05-03</td>\n",
       "      <td>454.225</td>\n",
       "    </tr>\n",
       "    <tr>\n",
       "      <th>0</th>\n",
       "      <td>facebook_ads</td>\n",
       "      <td>2020-05-03</td>\n",
       "      <td>935.883</td>\n",
       "    </tr>\n",
       "    <tr>\n",
       "      <th>8</th>\n",
       "      <td>instagram_new_adverts</td>\n",
       "      <td>2020-05-04</td>\n",
       "      <td>502.925</td>\n",
       "    </tr>\n",
       "    <tr>\n",
       "      <th>15</th>\n",
       "      <td>yandex_direct</td>\n",
       "      <td>2020-05-04</td>\n",
       "      <td>554.651</td>\n",
       "    </tr>\n",
       "  </tbody>\n",
       "</table>\n",
       "</div>"
      ],
      "text/plain": [
       "                     source         day    cost\n",
       "23  youtube_channel_reklama  2020-05-05 147.042\n",
       "6              facebook_ads  2020-05-09  38.723\n",
       "17            yandex_direct  2020-05-06 180.917\n",
       "2              facebook_ads  2020-05-05 260.186\n",
       "9     instagram_new_adverts  2020-05-05 313.971\n",
       "18            yandex_direct  2020-05-07 114.429\n",
       "21  youtube_channel_reklama  2020-05-03 454.225\n",
       "0              facebook_ads  2020-05-03 935.883\n",
       "8     instagram_new_adverts  2020-05-04 502.925\n",
       "15            yandex_direct  2020-05-04 554.651"
      ]
     },
     "metadata": {},
     "output_type": "display_data"
    },
    {
     "name": "stdout",
     "output_type": "stream",
     "text": [
      "<class 'pandas.core.frame.DataFrame'>\n",
      "RangeIndex: 28 entries, 0 to 27\n",
      "Data columns (total 3 columns):\n",
      " #   Column  Non-Null Count  Dtype  \n",
      "---  ------  --------------  -----  \n",
      " 0   source  28 non-null     object \n",
      " 1   day     28 non-null     object \n",
      " 2   cost    28 non-null     float64\n",
      "dtypes: float64(1), object(2)\n",
      "memory usage: 800.0+ bytes\n"
     ]
    }
   ],
   "source": [
    "# Изучаем таблицу costs\n",
    "\n",
    "display(costs.sample(10))\n",
    "costs.tail(10)\n",
    "costs.head(5)\n",
    "costs.info()"
   ]
  },
  {
   "cell_type": "code",
   "execution_count": 5,
   "metadata": {},
   "outputs": [
    {
     "data": {
      "text/html": [
       "<div>\n",
       "<style scoped>\n",
       "    .dataframe tbody tr th:only-of-type {\n",
       "        vertical-align: middle;\n",
       "    }\n",
       "\n",
       "    .dataframe tbody tr th {\n",
       "        vertical-align: top;\n",
       "    }\n",
       "\n",
       "    .dataframe thead th {\n",
       "        text-align: right;\n",
       "    }\n",
       "</style>\n",
       "<table border=\"1\" class=\"dataframe\">\n",
       "  <thead>\n",
       "    <tr style=\"text-align: right;\">\n",
       "      <th></th>\n",
       "      <th>user_id</th>\n",
       "      <th>source</th>\n",
       "    </tr>\n",
       "  </thead>\n",
       "  <tbody>\n",
       "    <tr>\n",
       "      <th>10744</th>\n",
       "      <td>ca88179a-eae4-4961-825e-efc8f67f25ec</td>\n",
       "      <td>yandex_direct</td>\n",
       "    </tr>\n",
       "    <tr>\n",
       "      <th>10656</th>\n",
       "      <td>c8f184aa-ad67-44da-8cf9-b30e936c87cc</td>\n",
       "      <td>facebook_ads</td>\n",
       "    </tr>\n",
       "    <tr>\n",
       "      <th>821</th>\n",
       "      <td>0f1f5f2c-b187-4110-971d-e0d95a4d8a83</td>\n",
       "      <td>youtube_channel_reklama</td>\n",
       "    </tr>\n",
       "    <tr>\n",
       "      <th>8576</th>\n",
       "      <td>a1cb11d5-9a8c-4497-aaf6-ef35bc831336</td>\n",
       "      <td>yandex_direct</td>\n",
       "    </tr>\n",
       "    <tr>\n",
       "      <th>4069</th>\n",
       "      <td>4af345ef-533a-4dda-96cb-6db4e24abfe8</td>\n",
       "      <td>yandex_direct</td>\n",
       "    </tr>\n",
       "    <tr>\n",
       "      <th>8415</th>\n",
       "      <td>9ec06422-9e25-4e0c-880e-ba9c0a565807</td>\n",
       "      <td>instagram_new_adverts</td>\n",
       "    </tr>\n",
       "    <tr>\n",
       "      <th>9646</th>\n",
       "      <td>b614a737-1f32-4143-a1ca-1837c8ffc8db</td>\n",
       "      <td>instagram_new_adverts</td>\n",
       "    </tr>\n",
       "    <tr>\n",
       "      <th>10499</th>\n",
       "      <td>c6266e53-6ea3-4676-8f1d-18747de8d56f</td>\n",
       "      <td>facebook_ads</td>\n",
       "    </tr>\n",
       "    <tr>\n",
       "      <th>6346</th>\n",
       "      <td>761f0f95-dedf-40e5-b283-dd432c1e70e8</td>\n",
       "      <td>instagram_new_adverts</td>\n",
       "    </tr>\n",
       "    <tr>\n",
       "      <th>11124</th>\n",
       "      <td>d2bacfc0-b15d-42c9-a762-53f362a29b81</td>\n",
       "      <td>yandex_direct</td>\n",
       "    </tr>\n",
       "  </tbody>\n",
       "</table>\n",
       "</div>"
      ],
      "text/plain": [
       "                                    user_id                   source\n",
       "10744  ca88179a-eae4-4961-825e-efc8f67f25ec            yandex_direct\n",
       "10656  c8f184aa-ad67-44da-8cf9-b30e936c87cc             facebook_ads\n",
       "821    0f1f5f2c-b187-4110-971d-e0d95a4d8a83  youtube_channel_reklama\n",
       "8576   a1cb11d5-9a8c-4497-aaf6-ef35bc831336            yandex_direct\n",
       "4069   4af345ef-533a-4dda-96cb-6db4e24abfe8            yandex_direct\n",
       "8415   9ec06422-9e25-4e0c-880e-ba9c0a565807    instagram_new_adverts\n",
       "9646   b614a737-1f32-4143-a1ca-1837c8ffc8db    instagram_new_adverts\n",
       "10499  c6266e53-6ea3-4676-8f1d-18747de8d56f             facebook_ads\n",
       "6346   761f0f95-dedf-40e5-b283-dd432c1e70e8    instagram_new_adverts\n",
       "11124  d2bacfc0-b15d-42c9-a762-53f362a29b81            yandex_direct"
      ]
     },
     "metadata": {},
     "output_type": "display_data"
    },
    {
     "name": "stdout",
     "output_type": "stream",
     "text": [
      "<class 'pandas.core.frame.DataFrame'>\n",
      "RangeIndex: 13576 entries, 0 to 13575\n",
      "Data columns (total 2 columns):\n",
      " #   Column   Non-Null Count  Dtype \n",
      "---  ------   --------------  ----- \n",
      " 0   user_id  13576 non-null  object\n",
      " 1   source   13576 non-null  object\n",
      "dtypes: object(2)\n",
      "memory usage: 212.2+ KB\n"
     ]
    }
   ],
   "source": [
    "# Изучаем таблицу traffic\n",
    "\n",
    "display(traffic.sample(10))\n",
    "traffic.tail(10)\n",
    "traffic.head(5)\n",
    "traffic.info()"
   ]
  },
  {
   "cell_type": "markdown",
   "metadata": {},
   "source": [
    "* В таблице events 135640 записей\n",
    "* В таблице costs 28 записей\n",
    "* В таблице traffic 13576 записей\n",
    "\n",
    "Наименования колонок во всех трех датафреймах выполнены в одном \"змеином\" стиле."
   ]
  },
  {
   "cell_type": "markdown",
   "metadata": {},
   "source": [
    "Проверим датафреймы на явные полные дубликаты"
   ]
  },
  {
   "cell_type": "code",
   "execution_count": 6,
   "metadata": {},
   "outputs": [
    {
     "name": "stdout",
     "output_type": "stream",
     "text": [
      "1\n",
      "0\n",
      "0\n"
     ]
    }
   ],
   "source": [
    "ds = [events, costs, traffic]\n",
    "for d in ds:\n",
    "    print(d.duplicated().sum())"
   ]
  },
  {
   "cell_type": "markdown",
   "metadata": {},
   "source": [
    "Поищем неявные дубликаты в категориальных переменных"
   ]
  },
  {
   "cell_type": "code",
   "execution_count": 7,
   "metadata": {
    "scrolled": false
   },
   "outputs": [
    {
     "name": "stdout",
     "output_type": "stream",
     "text": [
      "['building' 'finished_stage_1' 'project']\n",
      "\n",
      "['assembly_shop' 'spaceport' nan 'research_center']\n",
      "\n",
      "[nan 'satellite_orbital_assembly']\n",
      "\n",
      "['facebook_ads' 'instagram_new_adverts' 'yandex_direct'\n",
      " 'youtube_channel_reklama']\n",
      "\n",
      "['facebook_ads' 'yandex_direct' 'youtube_channel_reklama'\n",
      " 'instagram_new_adverts']\n"
     ]
    }
   ],
   "source": [
    "print(events['event'].unique(), end='\\n\\n')\n",
    "print(events['building_type'].unique(), end='\\n\\n')\n",
    "print(events['project_type'].unique(), end='\\n\\n')\n",
    "print(costs['source'].unique(), end='\\n\\n')\n",
    "print(traffic['source'].unique())"
   ]
  },
  {
   "cell_type": "markdown",
   "metadata": {},
   "source": [
    "Неявных дубликатов не обнаружено."
   ]
  },
  {
   "cell_type": "markdown",
   "metadata": {},
   "source": [
    "Не все типы данных выглядят корректно:\n",
    "* event_datetime из events следует привести к типу datetime\n",
    "* day из costs следует привести к типу datetime."
   ]
  },
  {
   "cell_type": "markdown",
   "metadata": {},
   "source": [
    "В таблицах имеются пропуски:\n",
    "* В events building_type пропущено 5.6% значений\n",
    "* В events project_type пропущено 98.6% значений.\n",
    "\n",
    "Характер полей с пропусками не позволяет заполнить их какими-либо осмысленными данными. Будем считать,что пропуски в building_type говорят об отсутствии построек пользователями, а пропуски в project_type означают, что лишь очень малая часть пользователей завершила проект \"разработка орбитальной сборки спутников\". Проверим последнюю гипотезу на данных."
   ]
  },
  {
   "cell_type": "code",
   "execution_count": 8,
   "metadata": {},
   "outputs": [
    {
     "name": "stdout",
     "output_type": "stream",
     "text": [
      "project    1866\n",
      "Name: event, dtype: int64\n"
     ]
    },
    {
     "data": {
      "text/plain": [
       "(1866, 5)"
      ]
     },
     "execution_count": 8,
     "metadata": {},
     "output_type": "execute_result"
    }
   ],
   "source": [
    "projnotna =events.query('project_type.notna()')\n",
    "print(projnotna['event'].value_counts())\n",
    "\n",
    "events.query('event==\"project\"').shape"
   ]
  },
  {
   "cell_type": "markdown",
   "metadata": {},
   "source": [
    "У всех пользователей с заполненным project_type - проект завершён и кол-во записей с завершенным проектом равны кол-ву записей с заполненным project_type. Видимо гипотеза верна - тогда пропуски связаны с механикой сбора данных, и не являются ошибками.\n"
   ]
  },
  {
   "cell_type": "markdown",
   "metadata": {},
   "source": [
    "### Вывод\n",
    "\n",
    "Данные были открыты и изучены. \n",
    "* В таблице events 135640 записей\n",
    "* В таблице costs 28 записей\n",
    "* В таблице traffic 13576 записей\n",
    "* Наименования колонок во всех трех датафреймах выполнены в одном \"змеином\" стиле.\n",
    "* В данных присутствует 1 полный дубликат, неявные дубликаты не обнаружены.\n",
    "* Не все типы данных выглядят корректно: event_datetime из events следует привести к типу datetime, day из costs следует также привести к типу datetime.\n",
    "* В таблицах имеются пропуски: в events building_type пропущено 5.6% значений, в events project_type пропущено 98.6% значений. Данные пропуски не требуют заполнения."
   ]
  },
  {
   "cell_type": "markdown",
   "metadata": {},
   "source": [
    "<a id=\"prep\"></a>\n",
    "## 2. Предобработка данных"
   ]
  },
  {
   "cell_type": "markdown",
   "metadata": {},
   "source": [
    "В соответствии с выводами предыдущего раздела удалим полный дубликат."
   ]
  },
  {
   "cell_type": "code",
   "execution_count": 9,
   "metadata": {},
   "outputs": [
    {
     "name": "stdout",
     "output_type": "stream",
     "text": [
      "(135639, 5)\n"
     ]
    }
   ],
   "source": [
    "events = events.drop_duplicates()\n",
    "print(events.shape)"
   ]
  },
  {
   "cell_type": "markdown",
   "metadata": {},
   "source": [
    "А также изменим типы данных колонок с датой."
   ]
  },
  {
   "cell_type": "code",
   "execution_count": 10,
   "metadata": {},
   "outputs": [
    {
     "name": "stdout",
     "output_type": "stream",
     "text": [
      "<class 'pandas.core.frame.DataFrame'>\n",
      "Int64Index: 135639 entries, 0 to 135639\n",
      "Data columns (total 5 columns):\n",
      " #   Column          Non-Null Count   Dtype         \n",
      "---  ------          --------------   -----         \n",
      " 0   event_datetime  135639 non-null  datetime64[ns]\n",
      " 1   event           135639 non-null  object        \n",
      " 2   building_type   127956 non-null  object        \n",
      " 3   user_id         135639 non-null  object        \n",
      " 4   project_type    1866 non-null    object        \n",
      "dtypes: datetime64[ns](1), object(4)\n",
      "memory usage: 6.2+ MB\n"
     ]
    },
    {
     "data": {
      "text/html": [
       "<div>\n",
       "<style scoped>\n",
       "    .dataframe tbody tr th:only-of-type {\n",
       "        vertical-align: middle;\n",
       "    }\n",
       "\n",
       "    .dataframe tbody tr th {\n",
       "        vertical-align: top;\n",
       "    }\n",
       "\n",
       "    .dataframe thead th {\n",
       "        text-align: right;\n",
       "    }\n",
       "</style>\n",
       "<table border=\"1\" class=\"dataframe\">\n",
       "  <thead>\n",
       "    <tr style=\"text-align: right;\">\n",
       "      <th></th>\n",
       "      <th>event_datetime</th>\n",
       "      <th>event</th>\n",
       "      <th>building_type</th>\n",
       "      <th>user_id</th>\n",
       "      <th>project_type</th>\n",
       "    </tr>\n",
       "  </thead>\n",
       "  <tbody>\n",
       "    <tr>\n",
       "      <th>0</th>\n",
       "      <td>2020-05-04 00:00:01</td>\n",
       "      <td>building</td>\n",
       "      <td>assembly_shop</td>\n",
       "      <td>55e92310-cb8e-4754-b622-597e124b03de</td>\n",
       "      <td>NaN</td>\n",
       "    </tr>\n",
       "    <tr>\n",
       "      <th>1</th>\n",
       "      <td>2020-05-04 00:00:03</td>\n",
       "      <td>building</td>\n",
       "      <td>assembly_shop</td>\n",
       "      <td>c07b1c10-f477-44dc-81dc-ec82254b1347</td>\n",
       "      <td>NaN</td>\n",
       "    </tr>\n",
       "    <tr>\n",
       "      <th>2</th>\n",
       "      <td>2020-05-04 00:00:16</td>\n",
       "      <td>building</td>\n",
       "      <td>assembly_shop</td>\n",
       "      <td>6edd42cc-e753-4ff6-a947-2107cd560710</td>\n",
       "      <td>NaN</td>\n",
       "    </tr>\n",
       "  </tbody>\n",
       "</table>\n",
       "</div>"
      ],
      "text/plain": [
       "       event_datetime     event  building_type  \\\n",
       "0 2020-05-04 00:00:01  building  assembly_shop   \n",
       "1 2020-05-04 00:00:03  building  assembly_shop   \n",
       "2 2020-05-04 00:00:16  building  assembly_shop   \n",
       "\n",
       "                                user_id project_type  \n",
       "0  55e92310-cb8e-4754-b622-597e124b03de          NaN  \n",
       "1  c07b1c10-f477-44dc-81dc-ec82254b1347          NaN  \n",
       "2  6edd42cc-e753-4ff6-a947-2107cd560710          NaN  "
      ]
     },
     "metadata": {},
     "output_type": "display_data"
    }
   ],
   "source": [
    "events['event_datetime'] = events['event_datetime'].astype('datetime64')\n",
    "events.info()\n",
    "display(events.head(3))"
   ]
  },
  {
   "cell_type": "code",
   "execution_count": 11,
   "metadata": {},
   "outputs": [
    {
     "name": "stdout",
     "output_type": "stream",
     "text": [
      "<class 'pandas.core.frame.DataFrame'>\n",
      "RangeIndex: 28 entries, 0 to 27\n",
      "Data columns (total 3 columns):\n",
      " #   Column  Non-Null Count  Dtype         \n",
      "---  ------  --------------  -----         \n",
      " 0   source  28 non-null     object        \n",
      " 1   day     28 non-null     datetime64[ns]\n",
      " 2   cost    28 non-null     float64       \n",
      "dtypes: datetime64[ns](1), float64(1), object(1)\n",
      "memory usage: 800.0+ bytes\n"
     ]
    },
    {
     "data": {
      "text/html": [
       "<div>\n",
       "<style scoped>\n",
       "    .dataframe tbody tr th:only-of-type {\n",
       "        vertical-align: middle;\n",
       "    }\n",
       "\n",
       "    .dataframe tbody tr th {\n",
       "        vertical-align: top;\n",
       "    }\n",
       "\n",
       "    .dataframe thead th {\n",
       "        text-align: right;\n",
       "    }\n",
       "</style>\n",
       "<table border=\"1\" class=\"dataframe\">\n",
       "  <thead>\n",
       "    <tr style=\"text-align: right;\">\n",
       "      <th></th>\n",
       "      <th>source</th>\n",
       "      <th>day</th>\n",
       "      <th>cost</th>\n",
       "    </tr>\n",
       "  </thead>\n",
       "  <tbody>\n",
       "    <tr>\n",
       "      <th>0</th>\n",
       "      <td>facebook_ads</td>\n",
       "      <td>2020-05-03</td>\n",
       "      <td>935.883</td>\n",
       "    </tr>\n",
       "    <tr>\n",
       "      <th>1</th>\n",
       "      <td>facebook_ads</td>\n",
       "      <td>2020-05-04</td>\n",
       "      <td>548.354</td>\n",
       "    </tr>\n",
       "    <tr>\n",
       "      <th>2</th>\n",
       "      <td>facebook_ads</td>\n",
       "      <td>2020-05-05</td>\n",
       "      <td>260.186</td>\n",
       "    </tr>\n",
       "  </tbody>\n",
       "</table>\n",
       "</div>"
      ],
      "text/plain": [
       "         source        day    cost\n",
       "0  facebook_ads 2020-05-03 935.883\n",
       "1  facebook_ads 2020-05-04 548.354\n",
       "2  facebook_ads 2020-05-05 260.186"
      ]
     },
     "metadata": {},
     "output_type": "display_data"
    }
   ],
   "source": [
    "costs['day'] = costs['day'].astype('datetime64')\n",
    "costs.info()\n",
    "display(costs.head(3))"
   ]
  },
  {
   "cell_type": "markdown",
   "metadata": {},
   "source": [
    "### Вывод\n",
    "\n",
    "Предобработка данных в соответствии с нашими выводами завершена.\n"
   ]
  },
  {
   "cell_type": "markdown",
   "metadata": {},
   "source": [
    "<a id=\"eda\"></a>\n",
    "## 3. Исследовательский анализ"
   ]
  },
  {
   "cell_type": "markdown",
   "metadata": {},
   "source": [
    "**Выведем основные характеристики и меры центральной тенденции датафрэймов**"
   ]
  },
  {
   "cell_type": "code",
   "execution_count": 12,
   "metadata": {},
   "outputs": [
    {
     "data": {
      "text/html": [
       "<div>\n",
       "<style scoped>\n",
       "    .dataframe tbody tr th:only-of-type {\n",
       "        vertical-align: middle;\n",
       "    }\n",
       "\n",
       "    .dataframe tbody tr th {\n",
       "        vertical-align: top;\n",
       "    }\n",
       "\n",
       "    .dataframe thead th {\n",
       "        text-align: right;\n",
       "    }\n",
       "</style>\n",
       "<table border=\"1\" class=\"dataframe\">\n",
       "  <thead>\n",
       "    <tr style=\"text-align: right;\">\n",
       "      <th></th>\n",
       "      <th>count</th>\n",
       "      <th>unique</th>\n",
       "      <th>top</th>\n",
       "      <th>freq</th>\n",
       "      <th>first</th>\n",
       "      <th>last</th>\n",
       "    </tr>\n",
       "  </thead>\n",
       "  <tbody>\n",
       "    <tr>\n",
       "      <th>event_datetime</th>\n",
       "      <td>135639</td>\n",
       "      <td>128790</td>\n",
       "      <td>2020-05-10 03:08:18</td>\n",
       "      <td>4</td>\n",
       "      <td>2020-05-04 00:00:01</td>\n",
       "      <td>2020-06-05 12:32:49</td>\n",
       "    </tr>\n",
       "    <tr>\n",
       "      <th>event</th>\n",
       "      <td>135639</td>\n",
       "      <td>3</td>\n",
       "      <td>building</td>\n",
       "      <td>127956</td>\n",
       "      <td>NaT</td>\n",
       "      <td>NaT</td>\n",
       "    </tr>\n",
       "    <tr>\n",
       "      <th>building_type</th>\n",
       "      <td>127956</td>\n",
       "      <td>3</td>\n",
       "      <td>spaceport</td>\n",
       "      <td>59325</td>\n",
       "      <td>NaT</td>\n",
       "      <td>NaT</td>\n",
       "    </tr>\n",
       "    <tr>\n",
       "      <th>user_id</th>\n",
       "      <td>135639</td>\n",
       "      <td>13576</td>\n",
       "      <td>ff841992-d93b-462e-bc6e-18c24a514f36</td>\n",
       "      <td>22</td>\n",
       "      <td>NaT</td>\n",
       "      <td>NaT</td>\n",
       "    </tr>\n",
       "    <tr>\n",
       "      <th>project_type</th>\n",
       "      <td>1866</td>\n",
       "      <td>1</td>\n",
       "      <td>satellite_orbital_assembly</td>\n",
       "      <td>1866</td>\n",
       "      <td>NaT</td>\n",
       "      <td>NaT</td>\n",
       "    </tr>\n",
       "  </tbody>\n",
       "</table>\n",
       "</div>"
      ],
      "text/plain": [
       "                 count  unique                                   top    freq  \\\n",
       "event_datetime  135639  128790                   2020-05-10 03:08:18       4   \n",
       "event           135639       3                              building  127956   \n",
       "building_type   127956       3                             spaceport   59325   \n",
       "user_id         135639   13576  ff841992-d93b-462e-bc6e-18c24a514f36      22   \n",
       "project_type      1866       1            satellite_orbital_assembly    1866   \n",
       "\n",
       "                             first                last  \n",
       "event_datetime 2020-05-04 00:00:01 2020-06-05 12:32:49  \n",
       "event                          NaT                 NaT  \n",
       "building_type                  NaT                 NaT  \n",
       "user_id                        NaT                 NaT  \n",
       "project_type                   NaT                 NaT  "
      ]
     },
     "metadata": {},
     "output_type": "display_data"
    }
   ],
   "source": [
    "display(events.describe().T)"
   ]
  },
  {
   "cell_type": "markdown",
   "metadata": {},
   "source": [
    "Можем видеть, что период логирования действий игроков охватывает с 4 мая по 5 июня 2020 г. Уникальных пользователей 13576. "
   ]
  },
  {
   "cell_type": "code",
   "execution_count": 13,
   "metadata": {
    "scrolled": true
   },
   "outputs": [
    {
     "data": {
      "text/html": [
       "<div>\n",
       "<style scoped>\n",
       "    .dataframe tbody tr th:only-of-type {\n",
       "        vertical-align: middle;\n",
       "    }\n",
       "\n",
       "    .dataframe tbody tr th {\n",
       "        vertical-align: top;\n",
       "    }\n",
       "\n",
       "    .dataframe thead th {\n",
       "        text-align: right;\n",
       "    }\n",
       "</style>\n",
       "<table border=\"1\" class=\"dataframe\">\n",
       "  <thead>\n",
       "    <tr style=\"text-align: right;\">\n",
       "      <th></th>\n",
       "      <th>count</th>\n",
       "      <th>mean</th>\n",
       "      <th>std</th>\n",
       "      <th>min</th>\n",
       "      <th>25%</th>\n",
       "      <th>50%</th>\n",
       "      <th>75%</th>\n",
       "      <th>max</th>\n",
       "    </tr>\n",
       "  </thead>\n",
       "  <tbody>\n",
       "    <tr>\n",
       "      <th>cost</th>\n",
       "      <td>28.000</td>\n",
       "      <td>271.556</td>\n",
       "      <td>286.868</td>\n",
       "      <td>23.315</td>\n",
       "      <td>66.747</td>\n",
       "      <td>160.056</td>\n",
       "      <td>349.034</td>\n",
       "      <td>969.139</td>\n",
       "    </tr>\n",
       "  </tbody>\n",
       "</table>\n",
       "</div>"
      ],
      "text/plain": [
       "      count    mean     std    min    25%     50%     75%     max\n",
       "cost 28.000 271.556 286.868 23.315 66.747 160.056 349.034 969.139"
      ]
     },
     "metadata": {},
     "output_type": "display_data"
    }
   ],
   "source": [
    "display(costs.describe().T)"
   ]
  },
  {
   "cell_type": "code",
   "execution_count": 14,
   "metadata": {},
   "outputs": [
    {
     "name": "stdout",
     "output_type": "stream",
     "text": [
      "Начало периода costs:  2020-05-03 00:00:00\n",
      "Конец периода costs:  2020-05-09 00:00:00\n"
     ]
    }
   ],
   "source": [
    "print('Начало периода costs: ', min(costs.day))\n",
    "print('Конец периода costs: ', max(costs.day))"
   ]
  },
  {
   "cell_type": "markdown",
   "metadata": {},
   "source": [
    "Данные о рекламной кампании имеются за период c 3 мая по 9 мая. Известно, что датасет содержит когорты пользователей, которые начали пользоваться приложением в период с 4 по 10 мая включительно.\n",
    "\n",
    "Средние затраты составили 271. Разброс затрат большой: от 23 до 969, разброс подтверждается также высоким стандартным отклонением (286)."
   ]
  },
  {
   "cell_type": "code",
   "execution_count": 15,
   "metadata": {},
   "outputs": [
    {
     "data": {
      "text/html": [
       "<div>\n",
       "<style scoped>\n",
       "    .dataframe tbody tr th:only-of-type {\n",
       "        vertical-align: middle;\n",
       "    }\n",
       "\n",
       "    .dataframe tbody tr th {\n",
       "        vertical-align: top;\n",
       "    }\n",
       "\n",
       "    .dataframe thead th {\n",
       "        text-align: right;\n",
       "    }\n",
       "</style>\n",
       "<table border=\"1\" class=\"dataframe\">\n",
       "  <thead>\n",
       "    <tr style=\"text-align: right;\">\n",
       "      <th></th>\n",
       "      <th>count</th>\n",
       "      <th>unique</th>\n",
       "      <th>top</th>\n",
       "      <th>freq</th>\n",
       "    </tr>\n",
       "  </thead>\n",
       "  <tbody>\n",
       "    <tr>\n",
       "      <th>user_id</th>\n",
       "      <td>13576</td>\n",
       "      <td>13576</td>\n",
       "      <td>26bb6bcd-da7e-44d9-898f-6ab75ade65ed</td>\n",
       "      <td>1</td>\n",
       "    </tr>\n",
       "    <tr>\n",
       "      <th>source</th>\n",
       "      <td>13576</td>\n",
       "      <td>4</td>\n",
       "      <td>yandex_direct</td>\n",
       "      <td>4817</td>\n",
       "    </tr>\n",
       "  </tbody>\n",
       "</table>\n",
       "</div>"
      ],
      "text/plain": [
       "         count unique                                   top  freq\n",
       "user_id  13576  13576  26bb6bcd-da7e-44d9-898f-6ab75ade65ed     1\n",
       "source   13576      4                         yandex_direct  4817"
      ]
     },
     "metadata": {},
     "output_type": "display_data"
    }
   ],
   "source": [
    "display(traffic.describe().T)"
   ]
  },
  {
   "cell_type": "markdown",
   "metadata": {},
   "source": [
    "Данные по исчточнику траффика имеются по всем (13576) уникальным пользователм датасета. Всего 4 источника."
   ]
  },
  {
   "cell_type": "markdown",
   "metadata": {},
   "source": [
    "**Посмотрим на рапределение типов событий**"
   ]
  },
  {
   "cell_type": "code",
   "execution_count": 16,
   "metadata": {},
   "outputs": [
    {
     "data": {
      "text/html": [
       "<div>\n",
       "<style scoped>\n",
       "    .dataframe tbody tr th:only-of-type {\n",
       "        vertical-align: middle;\n",
       "    }\n",
       "\n",
       "    .dataframe tbody tr th {\n",
       "        vertical-align: top;\n",
       "    }\n",
       "\n",
       "    .dataframe thead th {\n",
       "        text-align: right;\n",
       "    }\n",
       "</style>\n",
       "<table border=\"1\" class=\"dataframe\">\n",
       "  <thead>\n",
       "    <tr style=\"text-align: right;\">\n",
       "      <th></th>\n",
       "      <th>index</th>\n",
       "      <th>event</th>\n",
       "      <th>share</th>\n",
       "    </tr>\n",
       "  </thead>\n",
       "  <tbody>\n",
       "    <tr>\n",
       "      <th>0</th>\n",
       "      <td>building</td>\n",
       "      <td>127956</td>\n",
       "      <td>94.340</td>\n",
       "    </tr>\n",
       "    <tr>\n",
       "      <th>1</th>\n",
       "      <td>finished_stage_1</td>\n",
       "      <td>5817</td>\n",
       "      <td>4.290</td>\n",
       "    </tr>\n",
       "    <tr>\n",
       "      <th>2</th>\n",
       "      <td>project</td>\n",
       "      <td>1866</td>\n",
       "      <td>1.380</td>\n",
       "    </tr>\n",
       "  </tbody>\n",
       "</table>\n",
       "</div>"
      ],
      "text/plain": [
       "              index   event  share\n",
       "0          building  127956 94.340\n",
       "1  finished_stage_1    5817  4.290\n",
       "2           project    1866  1.380"
      ]
     },
     "metadata": {},
     "output_type": "display_data"
    },
    {
     "data": {
      "image/png": "[encoded data removed]",
      "text/plain": [
       "<Figure size 432x288 with 1 Axes>"
      ]
     },
     "metadata": {
      "needs_background": "light"
     },
     "output_type": "display_data"
    }
   ],
   "source": [
    "# events_users = events.pivot_table(index='event',values='user_id',aggfunc='nunique').reset_index().sort_values(by='user_id', ascending=False)\n",
    "\n",
    "events_users = events['event'].value_counts().reset_index()\n",
    "events_users['share'] = (events_users['event']/events_users['event'].sum()*100).round(2)\n",
    "display(events_users)\n",
    "\n",
    "bar = sb.barplot(y='event', x='index', data=events_users.sort_values(by='share', ascending=False))\n",
    "sb.set(rc = {'figure.figsize':(14,7)})\n",
    "bar.set(xlabel='Событие', ylabel='Кол-во пользователей', title='Распределение событий по типам')\n",
    "plt.show()\n",
    "\n",
    "# print('Среднее количество пользователей на событие:', events_users['user_id'].mean().astype('int'))"
   ]
  },
  {
   "cell_type": "markdown",
   "metadata": {},
   "source": [
    "128 тыс. (около 94%) событий приходится на строительство зданий, 5817 (около 4.5%) событий на факт прохождения первого уровеня, только 1866 (около 1.5%) событий на факт реализации проекта."
   ]
  },
  {
   "cell_type": "markdown",
   "metadata": {},
   "source": [
    "Посмотрим на долю уникальных пользователей завершивших первый уровень"
   ]
  },
  {
   "cell_type": "code",
   "execution_count": 17,
   "metadata": {},
   "outputs": [
    {
     "name": "stdout",
     "output_type": "stream",
     "text": [
      "Доля прошедших уровень пользователей: 42.8\n"
     ]
    }
   ],
   "source": [
    "users_win_share = events[events['event']=='finished_stage_1']['user_id'].nunique() / events['user_id'].nunique()\n",
    "print('Доля прошедших уровень пользователей:',round(users_win_share,3)*100)"
   ]
  },
  {
   "cell_type": "code",
   "execution_count": 18,
   "metadata": {},
   "outputs": [
    {
     "name": "stdout",
     "output_type": "stream",
     "text": [
      "Доля прошедших уровень реализацией проекта среди победителей: 32.1\n"
     ]
    }
   ],
   "source": [
    "users_win_proj_share = events[events['event']=='project']['user_id'].nunique() / events[events['event']=='finished_stage_1']['user_id'].nunique()\n",
    "print('Доля прошедших уровень реализацией проекта среди победителей:',round(users_win_proj_share,3)*100)"
   ]
  },
  {
   "cell_type": "markdown",
   "metadata": {},
   "source": [
    "Около 43% среди всех пользователей прошли первый уровень, из них около 32% прошли его через реализацию проекта. Соответственно, среди прошедших первый уровень остальные две трети игроков выбрали военный путь достижения цели."
   ]
  },
  {
   "cell_type": "markdown",
   "metadata": {},
   "source": [
    "**Посмотрим на рапределение типа построек**"
   ]
  },
  {
   "cell_type": "code",
   "execution_count": 19,
   "metadata": {},
   "outputs": [
    {
     "data": {
      "text/html": [
       "<div>\n",
       "<style scoped>\n",
       "    .dataframe tbody tr th:only-of-type {\n",
       "        vertical-align: middle;\n",
       "    }\n",
       "\n",
       "    .dataframe tbody tr th {\n",
       "        vertical-align: top;\n",
       "    }\n",
       "\n",
       "    .dataframe thead th {\n",
       "        text-align: right;\n",
       "    }\n",
       "</style>\n",
       "<table border=\"1\" class=\"dataframe\">\n",
       "  <thead>\n",
       "    <tr style=\"text-align: right;\">\n",
       "      <th></th>\n",
       "      <th>index</th>\n",
       "      <th>building_type</th>\n",
       "      <th>share</th>\n",
       "    </tr>\n",
       "  </thead>\n",
       "  <tbody>\n",
       "    <tr>\n",
       "      <th>0</th>\n",
       "      <td>spaceport</td>\n",
       "      <td>59325</td>\n",
       "      <td>46.360</td>\n",
       "    </tr>\n",
       "    <tr>\n",
       "      <th>1</th>\n",
       "      <td>assembly_shop</td>\n",
       "      <td>54494</td>\n",
       "      <td>42.590</td>\n",
       "    </tr>\n",
       "    <tr>\n",
       "      <th>2</th>\n",
       "      <td>research_center</td>\n",
       "      <td>14137</td>\n",
       "      <td>11.050</td>\n",
       "    </tr>\n",
       "  </tbody>\n",
       "</table>\n",
       "</div>"
      ],
      "text/plain": [
       "             index  building_type  share\n",
       "0        spaceport          59325 46.360\n",
       "1    assembly_shop          54494 42.590\n",
       "2  research_center          14137 11.050"
      ]
     },
     "metadata": {},
     "output_type": "display_data"
    },
    {
     "data": {
      "image/png": "[encoded data removed]",
      "text/plain": [
       "<Figure size 1008x504 with 1 Axes>"
      ]
     },
     "metadata": {},
     "output_type": "display_data"
    }
   ],
   "source": [
    "buildings_users = events['building_type'].value_counts().reset_index()\n",
    "buildings_users['share'] = (buildings_users['building_type']/buildings_users['building_type'].sum()*100).round(2)\n",
    "display(buildings_users)\n",
    "\n",
    "bar = sb.barplot(y='building_type', x='index', data=buildings_users.sort_values(by='share', ascending=False))\n",
    "sb.set(rc = {'figure.figsize':(14,7)})\n",
    "bar.set(xlabel='Тип постройки', ylabel='Кол-во пользователей', title='Распределение пользователей по постройкам')\n",
    "plt.show()\n"
   ]
  },
  {
   "cell_type": "markdown",
   "metadata": {},
   "source": [
    "59 тыс. построек (около 46%) приходится на spaceport, 54 тыс. (около 43%) на assembly_shop и только 14 тыс. (около 11%) на research_center."
   ]
  },
  {
   "cell_type": "markdown",
   "metadata": {},
   "source": [
    "**Посмотрим на ежедневную активность пользователей (DAU) в разрезе источников траффика**"
   ]
  },
  {
   "cell_type": "code",
   "execution_count": 20,
   "metadata": {},
   "outputs": [
    {
     "data": {
      "text/html": [
       "<div>\n",
       "<style scoped>\n",
       "    .dataframe tbody tr th:only-of-type {\n",
       "        vertical-align: middle;\n",
       "    }\n",
       "\n",
       "    .dataframe tbody tr th {\n",
       "        vertical-align: top;\n",
       "    }\n",
       "\n",
       "    .dataframe thead th {\n",
       "        text-align: right;\n",
       "    }\n",
       "</style>\n",
       "<table border=\"1\" class=\"dataframe\">\n",
       "  <thead>\n",
       "    <tr style=\"text-align: right;\">\n",
       "      <th></th>\n",
       "      <th>event_date</th>\n",
       "      <th>source</th>\n",
       "      <th>user_id</th>\n",
       "    </tr>\n",
       "  </thead>\n",
       "  <tbody>\n",
       "    <tr>\n",
       "      <th>12</th>\n",
       "      <td>2020-05-07</td>\n",
       "      <td>facebook_ads</td>\n",
       "      <td>1535</td>\n",
       "    </tr>\n",
       "    <tr>\n",
       "      <th>19</th>\n",
       "      <td>2020-05-08</td>\n",
       "      <td>youtube_channel_reklama</td>\n",
       "      <td>1562</td>\n",
       "    </tr>\n",
       "    <tr>\n",
       "      <th>45</th>\n",
       "      <td>2020-05-15</td>\n",
       "      <td>instagram_new_adverts</td>\n",
       "      <td>1175</td>\n",
       "    </tr>\n",
       "    <tr>\n",
       "      <th>105</th>\n",
       "      <td>2020-05-30</td>\n",
       "      <td>instagram_new_adverts</td>\n",
       "      <td>10</td>\n",
       "    </tr>\n",
       "    <tr>\n",
       "      <th>75</th>\n",
       "      <td>2020-05-22</td>\n",
       "      <td>youtube_channel_reklama</td>\n",
       "      <td>148</td>\n",
       "    </tr>\n",
       "  </tbody>\n",
       "</table>\n",
       "</div>"
      ],
      "text/plain": [
       "     event_date                   source  user_id\n",
       "12   2020-05-07             facebook_ads     1535\n",
       "19   2020-05-08  youtube_channel_reklama     1562\n",
       "45   2020-05-15    instagram_new_adverts     1175\n",
       "105  2020-05-30    instagram_new_adverts       10\n",
       "75   2020-05-22  youtube_channel_reklama      148"
      ]
     },
     "metadata": {},
     "output_type": "display_data"
    },
    {
     "data": {
      "image/png": "[encoded data removed]",
      "text/plain": [
       "<Figure size 1008x504 with 1 Axes>"
      ]
     },
     "metadata": {},
     "output_type": "display_data"
    },
    {
     "name": "stdout",
     "output_type": "stream",
     "text": [
      "Медианное значение DAU по всей выборке: 1480 пользователей в день\n"
     ]
    }
   ],
   "source": [
    "events['event_date'] = pd.to_datetime(events['event_datetime']).dt.date\n",
    "events_traffic = events.merge(traffic, how='left', on='user_id')\n",
    "dau = events_traffic.groupby(['event_date', 'source']).agg({'user_id':'nunique'}).sort_values(['event_date', 'source']).reset_index()\n",
    "display(dau.sample(5))\n",
    "\n",
    "# Построим график\n",
    "plt.figure(figsize=(14,7))\n",
    "plt.xlabel('Дата')\n",
    "plt.ylabel('Кол-во пользователей')\n",
    "plt.title('DAU')\n",
    "sb.lineplot(data=dau, x=\"event_date\", y=\"user_id\", hue=\"source\", style=\"source\")\n",
    "plt.show()\n",
    "\n",
    "dau_mean = events.groupby('event_date')['user_id'].nunique().reset_index()\n",
    "print('Медианное значение DAU по всей выборке:',format(int(dau_mean.median())),'пользователей в день')"
   ]
  },
  {
   "cell_type": "markdown",
   "metadata": {},
   "source": [
    "В первую неделю наблюдается рост активности по всем каналам в связи с рекламной кампанией. После 10 мая по ее завершению виден резкий спад активности, продолжающийся вплоть до конца периода исследования. После 25 мая активности почти нет, это может быть связано с тем, что данные приведены только о пользователях на первом уровне игры, который к 25 маю почти все игроки преодолели либо забросили игру. Наибольшая активность видна среди пользователей пришедших из канала yandex_direct, на втором месте из instagram. Активность траффика из остальных каналов примерно одинакова."
   ]
  },
  {
   "cell_type": "markdown",
   "metadata": {},
   "source": [
    "**Оценим удержание пользователей (Retention Rate)**"
   ]
  },
  {
   "cell_type": "markdown",
   "metadata": {},
   "source": [
    "Определим первое действие каждого уникального пользователя"
   ]
  },
  {
   "cell_type": "code",
   "execution_count": 21,
   "metadata": {},
   "outputs": [
    {
     "data": {
      "text/html": [
       "<div>\n",
       "<style scoped>\n",
       "    .dataframe tbody tr th:only-of-type {\n",
       "        vertical-align: middle;\n",
       "    }\n",
       "\n",
       "    .dataframe tbody tr th {\n",
       "        vertical-align: top;\n",
       "    }\n",
       "\n",
       "    .dataframe thead th {\n",
       "        text-align: right;\n",
       "    }\n",
       "</style>\n",
       "<table border=\"1\" class=\"dataframe\">\n",
       "  <thead>\n",
       "    <tr style=\"text-align: right;\">\n",
       "      <th></th>\n",
       "      <th>event_datetime</th>\n",
       "      <th>event</th>\n",
       "      <th>building_type</th>\n",
       "      <th>user_id</th>\n",
       "      <th>project_type</th>\n",
       "      <th>event_date</th>\n",
       "      <th>source</th>\n",
       "      <th>first_user_act</th>\n",
       "    </tr>\n",
       "  </thead>\n",
       "  <tbody>\n",
       "    <tr>\n",
       "      <th>14973</th>\n",
       "      <td>2020-05-05 18:08:01</td>\n",
       "      <td>building</td>\n",
       "      <td>assembly_shop</td>\n",
       "      <td>3f0b6af6-a5e7-46df-b2dc-910f7caa6fed</td>\n",
       "      <td>NaN</td>\n",
       "      <td>2020-05-05</td>\n",
       "      <td>facebook_ads</td>\n",
       "      <td>2020-05-05</td>\n",
       "    </tr>\n",
       "    <tr>\n",
       "      <th>93560</th>\n",
       "      <td>2020-05-12 21:06:41</td>\n",
       "      <td>building</td>\n",
       "      <td>spaceport</td>\n",
       "      <td>96fbf3d3-d23c-4cfc-87a5-66bc8890108c</td>\n",
       "      <td>NaN</td>\n",
       "      <td>2020-05-12</td>\n",
       "      <td>instagram_new_adverts</td>\n",
       "      <td>2020-05-06</td>\n",
       "    </tr>\n",
       "    <tr>\n",
       "      <th>75793</th>\n",
       "      <td>2020-05-10 20:05:04</td>\n",
       "      <td>building</td>\n",
       "      <td>spaceport</td>\n",
       "      <td>e47f5780-7848-4ef1-a440-7433d6e8e1c7</td>\n",
       "      <td>NaN</td>\n",
       "      <td>2020-05-10</td>\n",
       "      <td>instagram_new_adverts</td>\n",
       "      <td>2020-05-04</td>\n",
       "    </tr>\n",
       "    <tr>\n",
       "      <th>85018</th>\n",
       "      <td>2020-05-11 19:30:40</td>\n",
       "      <td>building</td>\n",
       "      <td>spaceport</td>\n",
       "      <td>ec7a26e8-be91-4352-9ebb-e341ca7d312d</td>\n",
       "      <td>NaN</td>\n",
       "      <td>2020-05-11</td>\n",
       "      <td>instagram_new_adverts</td>\n",
       "      <td>2020-05-06</td>\n",
       "    </tr>\n",
       "    <tr>\n",
       "      <th>56265</th>\n",
       "      <td>2020-05-09 11:49:35</td>\n",
       "      <td>finished_stage_1</td>\n",
       "      <td>NaN</td>\n",
       "      <td>9048ee38-f48e-44ee-9188-0af3553b5ce3</td>\n",
       "      <td>NaN</td>\n",
       "      <td>2020-05-09</td>\n",
       "      <td>youtube_channel_reklama</td>\n",
       "      <td>2020-05-06</td>\n",
       "    </tr>\n",
       "    <tr>\n",
       "      <th>129519</th>\n",
       "      <td>2020-05-20 04:31:23</td>\n",
       "      <td>building</td>\n",
       "      <td>research_center</td>\n",
       "      <td>6c7f5d43-7b59-46a9-bc19-bbd3f3fb5cb5</td>\n",
       "      <td>NaN</td>\n",
       "      <td>2020-05-20</td>\n",
       "      <td>yandex_direct</td>\n",
       "      <td>2020-05-07</td>\n",
       "    </tr>\n",
       "  </tbody>\n",
       "</table>\n",
       "</div>"
      ],
      "text/plain": [
       "            event_datetime             event    building_type  \\\n",
       "14973  2020-05-05 18:08:01          building    assembly_shop   \n",
       "93560  2020-05-12 21:06:41          building        spaceport   \n",
       "75793  2020-05-10 20:05:04          building        spaceport   \n",
       "85018  2020-05-11 19:30:40          building        spaceport   \n",
       "56265  2020-05-09 11:49:35  finished_stage_1              NaN   \n",
       "129519 2020-05-20 04:31:23          building  research_center   \n",
       "\n",
       "                                     user_id project_type  event_date  \\\n",
       "14973   3f0b6af6-a5e7-46df-b2dc-910f7caa6fed          NaN  2020-05-05   \n",
       "93560   96fbf3d3-d23c-4cfc-87a5-66bc8890108c          NaN  2020-05-12   \n",
       "75793   e47f5780-7848-4ef1-a440-7433d6e8e1c7          NaN  2020-05-10   \n",
       "85018   ec7a26e8-be91-4352-9ebb-e341ca7d312d          NaN  2020-05-11   \n",
       "56265   9048ee38-f48e-44ee-9188-0af3553b5ce3          NaN  2020-05-09   \n",
       "129519  6c7f5d43-7b59-46a9-bc19-bbd3f3fb5cb5          NaN  2020-05-20   \n",
       "\n",
       "                         source first_user_act  \n",
       "14973              facebook_ads     2020-05-05  \n",
       "93560     instagram_new_adverts     2020-05-06  \n",
       "75793     instagram_new_adverts     2020-05-04  \n",
       "85018     instagram_new_adverts     2020-05-06  \n",
       "56265   youtube_channel_reklama     2020-05-06  \n",
       "129519            yandex_direct     2020-05-07  "
      ]
     },
     "metadata": {},
     "output_type": "display_data"
    }
   ],
   "source": [
    "first_user_act = events_traffic.groupby('user_id')['event_date'].min().reset_index()\n",
    "first_user_act.columns = ['user_id','first_user_act']\n",
    "events_traffic = pd.merge(events_traffic, first_user_act, how='left', on='user_id')\n",
    "display(events_traffic.sample(6))"
   ]
  },
  {
   "cell_type": "markdown",
   "metadata": {},
   "source": [
    "Найдем лайфтайм, как разницу между текущим и первым дейтсвием пользователя в рамках когорты в неделях."
   ]
  },
  {
   "cell_type": "code",
   "execution_count": 22,
   "metadata": {
    "scrolled": false
   },
   "outputs": [
    {
     "data": {
      "text/html": [
       "<div>\n",
       "<style scoped>\n",
       "    .dataframe tbody tr th:only-of-type {\n",
       "        vertical-align: middle;\n",
       "    }\n",
       "\n",
       "    .dataframe tbody tr th {\n",
       "        vertical-align: top;\n",
       "    }\n",
       "\n",
       "    .dataframe thead th {\n",
       "        text-align: right;\n",
       "    }\n",
       "</style>\n",
       "<table border=\"1\" class=\"dataframe\">\n",
       "  <thead>\n",
       "    <tr style=\"text-align: right;\">\n",
       "      <th></th>\n",
       "      <th>event_datetime</th>\n",
       "      <th>event</th>\n",
       "      <th>building_type</th>\n",
       "      <th>user_id</th>\n",
       "      <th>project_type</th>\n",
       "      <th>event_date</th>\n",
       "      <th>source</th>\n",
       "      <th>first_user_act</th>\n",
       "      <th>lifetime</th>\n",
       "    </tr>\n",
       "  </thead>\n",
       "  <tbody>\n",
       "    <tr>\n",
       "      <th>132355</th>\n",
       "      <td>2020-05-22 00:18:41</td>\n",
       "      <td>building</td>\n",
       "      <td>spaceport</td>\n",
       "      <td>896eccba-2ecd-471b-a3f5-512f5dabb15d</td>\n",
       "      <td>NaN</td>\n",
       "      <td>2020-05-22</td>\n",
       "      <td>yandex_direct</td>\n",
       "      <td>2020-05-09</td>\n",
       "      <td>2</td>\n",
       "    </tr>\n",
       "    <tr>\n",
       "      <th>99598</th>\n",
       "      <td>2020-05-13 16:02:10</td>\n",
       "      <td>building</td>\n",
       "      <td>research_center</td>\n",
       "      <td>912d8bd6-f105-4092-8765-57f50b218aa5</td>\n",
       "      <td>NaN</td>\n",
       "      <td>2020-05-13</td>\n",
       "      <td>instagram_new_adverts</td>\n",
       "      <td>2020-05-06</td>\n",
       "      <td>1</td>\n",
       "    </tr>\n",
       "    <tr>\n",
       "      <th>63825</th>\n",
       "      <td>2020-05-10 01:04:04</td>\n",
       "      <td>building</td>\n",
       "      <td>research_center</td>\n",
       "      <td>0587fefd-2b92-4a30-afeb-4a0fb27763ef</td>\n",
       "      <td>NaN</td>\n",
       "      <td>2020-05-10</td>\n",
       "      <td>youtube_channel_reklama</td>\n",
       "      <td>2020-05-04</td>\n",
       "      <td>1</td>\n",
       "    </tr>\n",
       "    <tr>\n",
       "      <th>98970</th>\n",
       "      <td>2020-05-13 13:59:01</td>\n",
       "      <td>building</td>\n",
       "      <td>spaceport</td>\n",
       "      <td>148da3bb-5441-40a8-a682-6993494a3eb0</td>\n",
       "      <td>NaN</td>\n",
       "      <td>2020-05-13</td>\n",
       "      <td>yandex_direct</td>\n",
       "      <td>2020-05-05</td>\n",
       "      <td>1</td>\n",
       "    </tr>\n",
       "    <tr>\n",
       "      <th>63681</th>\n",
       "      <td>2020-05-10 00:47:38</td>\n",
       "      <td>building</td>\n",
       "      <td>assembly_shop</td>\n",
       "      <td>b92265a4-6cfa-4fe2-b905-17ee707dc5d1</td>\n",
       "      <td>NaN</td>\n",
       "      <td>2020-05-10</td>\n",
       "      <td>instagram_new_adverts</td>\n",
       "      <td>2020-05-06</td>\n",
       "      <td>1</td>\n",
       "    </tr>\n",
       "  </tbody>\n",
       "</table>\n",
       "</div>"
      ],
      "text/plain": [
       "            event_datetime     event    building_type  \\\n",
       "132355 2020-05-22 00:18:41  building        spaceport   \n",
       "99598  2020-05-13 16:02:10  building  research_center   \n",
       "63825  2020-05-10 01:04:04  building  research_center   \n",
       "98970  2020-05-13 13:59:01  building        spaceport   \n",
       "63681  2020-05-10 00:47:38  building    assembly_shop   \n",
       "\n",
       "                                     user_id project_type event_date  \\\n",
       "132355  896eccba-2ecd-471b-a3f5-512f5dabb15d          NaN 2020-05-22   \n",
       "99598   912d8bd6-f105-4092-8765-57f50b218aa5          NaN 2020-05-13   \n",
       "63825   0587fefd-2b92-4a30-afeb-4a0fb27763ef          NaN 2020-05-10   \n",
       "98970   148da3bb-5441-40a8-a682-6993494a3eb0          NaN 2020-05-13   \n",
       "63681   b92265a4-6cfa-4fe2-b905-17ee707dc5d1          NaN 2020-05-10   \n",
       "\n",
       "                         source first_user_act  lifetime  \n",
       "132355            yandex_direct     2020-05-09         2  \n",
       "99598     instagram_new_adverts     2020-05-06         1  \n",
       "63825   youtube_channel_reklama     2020-05-04         1  \n",
       "98970             yandex_direct     2020-05-05         1  \n",
       "63681     instagram_new_adverts     2020-05-06         1  "
      ]
     },
     "metadata": {},
     "output_type": "display_data"
    }
   ],
   "source": [
    "events_traffic['first_user_act'] = pd.to_datetime(events_traffic['first_user_act'])\n",
    "events_traffic['event_date'] = pd.to_datetime(events_traffic['event_date'])\n",
    "events_traffic['lifetime']=((events_traffic['event_date']-events_traffic['first_user_act'])/np.timedelta64(1,'W')).round().astype(int)\n",
    "display(events_traffic.sample(5))"
   ]
  },
  {
   "cell_type": "markdown",
   "metadata": {},
   "source": [
    "Сгруппируем активность по первому дню и лайфтайм, вычислим для каждой когорты количество активных пользователей на определённую неделю и начальное кол-во пользователей в когорте."
   ]
  },
  {
   "cell_type": "code",
   "execution_count": 23,
   "metadata": {},
   "outputs": [
    {
     "data": {
      "text/html": [
       "<div>\n",
       "<style scoped>\n",
       "    .dataframe tbody tr th:only-of-type {\n",
       "        vertical-align: middle;\n",
       "    }\n",
       "\n",
       "    .dataframe tbody tr th {\n",
       "        vertical-align: top;\n",
       "    }\n",
       "\n",
       "    .dataframe thead th {\n",
       "        text-align: right;\n",
       "    }\n",
       "</style>\n",
       "<table border=\"1\" class=\"dataframe\">\n",
       "  <thead>\n",
       "    <tr style=\"text-align: right;\">\n",
       "      <th></th>\n",
       "      <th>first_user_act</th>\n",
       "      <th>lifetime</th>\n",
       "      <th>cnt_users</th>\n",
       "      <th>users_cohort</th>\n",
       "    </tr>\n",
       "  </thead>\n",
       "  <tbody>\n",
       "    <tr>\n",
       "      <th>29</th>\n",
       "      <td>2020-05-09</td>\n",
       "      <td>4</td>\n",
       "      <td>1</td>\n",
       "      <td>440</td>\n",
       "    </tr>\n",
       "    <tr>\n",
       "      <th>7</th>\n",
       "      <td>2020-05-05</td>\n",
       "      <td>2</td>\n",
       "      <td>1666</td>\n",
       "      <td>3361</td>\n",
       "    </tr>\n",
       "    <tr>\n",
       "      <th>1</th>\n",
       "      <td>2020-05-04</td>\n",
       "      <td>1</td>\n",
       "      <td>5761</td>\n",
       "      <td>5860</td>\n",
       "    </tr>\n",
       "    <tr>\n",
       "      <th>31</th>\n",
       "      <td>2020-05-10</td>\n",
       "      <td>1</td>\n",
       "      <td>246</td>\n",
       "      <td>271</td>\n",
       "    </tr>\n",
       "    <tr>\n",
       "      <th>3</th>\n",
       "      <td>2020-05-04</td>\n",
       "      <td>3</td>\n",
       "      <td>421</td>\n",
       "      <td>5860</td>\n",
       "    </tr>\n",
       "  </tbody>\n",
       "</table>\n",
       "</div>"
      ],
      "text/plain": [
       "   first_user_act  lifetime  cnt_users  users_cohort\n",
       "29     2020-05-09         4          1           440\n",
       "7      2020-05-05         2       1666          3361\n",
       "1      2020-05-04         1       5761          5860\n",
       "31     2020-05-10         1        246           271\n",
       "3      2020-05-04         3        421          5860"
      ]
     },
     "execution_count": 23,
     "metadata": {},
     "output_type": "execute_result"
    }
   ],
   "source": [
    "cohort = events_traffic.groupby(['first_user_act','lifetime'])['user_id'].nunique().reset_index().rename(columns={'user_id':'cnt_users'})\n",
    "cohort.sample(5)\n",
    "# Найдем начальное кол-во пользователей в когорте\n",
    "init_amount = cohort[cohort['lifetime'] == 0][['first_user_act','cnt_users']].rename(columns={'cnt_users':'users_cohort'})\n",
    "init_amount.sample(5)\n",
    "# Объединим информацию по когортам с исходным количеством пользователей в них.\n",
    "cohort = cohort.merge(init_amount,on='first_user_act')\n",
    "cohort.sample(5)"
   ]
  },
  {
   "cell_type": "markdown",
   "metadata": {},
   "source": [
    "Теперь мы можем расчитать retention rate"
   ]
  },
  {
   "cell_type": "code",
   "execution_count": 24,
   "metadata": {
    "scrolled": true
   },
   "outputs": [
    {
     "data": {
      "text/html": [
       "<div>\n",
       "<style scoped>\n",
       "    .dataframe tbody tr th:only-of-type {\n",
       "        vertical-align: middle;\n",
       "    }\n",
       "\n",
       "    .dataframe tbody tr th {\n",
       "        vertical-align: top;\n",
       "    }\n",
       "\n",
       "    .dataframe thead th {\n",
       "        text-align: right;\n",
       "    }\n",
       "</style>\n",
       "<table border=\"1\" class=\"dataframe\">\n",
       "  <thead>\n",
       "    <tr style=\"text-align: right;\">\n",
       "      <th>lifetime</th>\n",
       "      <th>0</th>\n",
       "      <th>1</th>\n",
       "      <th>2</th>\n",
       "      <th>3</th>\n",
       "      <th>4</th>\n",
       "    </tr>\n",
       "    <tr>\n",
       "      <th>first_user_act</th>\n",
       "      <th></th>\n",
       "      <th></th>\n",
       "      <th></th>\n",
       "      <th></th>\n",
       "      <th></th>\n",
       "    </tr>\n",
       "  </thead>\n",
       "  <tbody>\n",
       "    <tr>\n",
       "      <th>2020-05-04</th>\n",
       "      <td>1.000</td>\n",
       "      <td>0.983</td>\n",
       "      <td>0.556</td>\n",
       "      <td>0.072</td>\n",
       "      <td>0.003</td>\n",
       "    </tr>\n",
       "    <tr>\n",
       "      <th>2020-05-05</th>\n",
       "      <td>1.000</td>\n",
       "      <td>0.972</td>\n",
       "      <td>0.496</td>\n",
       "      <td>0.058</td>\n",
       "      <td>0.004</td>\n",
       "    </tr>\n",
       "    <tr>\n",
       "      <th>2020-05-06</th>\n",
       "      <td>1.000</td>\n",
       "      <td>0.947</td>\n",
       "      <td>0.439</td>\n",
       "      <td>0.056</td>\n",
       "      <td>0.003</td>\n",
       "    </tr>\n",
       "    <tr>\n",
       "      <th>2020-05-07</th>\n",
       "      <td>1.000</td>\n",
       "      <td>0.902</td>\n",
       "      <td>0.418</td>\n",
       "      <td>0.072</td>\n",
       "      <td>0.009</td>\n",
       "    </tr>\n",
       "    <tr>\n",
       "      <th>2020-05-08</th>\n",
       "      <td>1.000</td>\n",
       "      <td>0.887</td>\n",
       "      <td>0.392</td>\n",
       "      <td>0.048</td>\n",
       "      <td>0.003</td>\n",
       "    </tr>\n",
       "    <tr>\n",
       "      <th>2020-05-09</th>\n",
       "      <td>1.000</td>\n",
       "      <td>0.898</td>\n",
       "      <td>0.400</td>\n",
       "      <td>0.066</td>\n",
       "      <td>0.002</td>\n",
       "    </tr>\n",
       "    <tr>\n",
       "      <th>2020-05-10</th>\n",
       "      <td>1.000</td>\n",
       "      <td>0.908</td>\n",
       "      <td>0.410</td>\n",
       "      <td>0.048</td>\n",
       "      <td>NaN</td>\n",
       "    </tr>\n",
       "    <tr>\n",
       "      <th>mean</th>\n",
       "      <td>1.000</td>\n",
       "      <td>0.928</td>\n",
       "      <td>0.444</td>\n",
       "      <td>0.060</td>\n",
       "      <td>0.004</td>\n",
       "    </tr>\n",
       "  </tbody>\n",
       "</table>\n",
       "</div>"
      ],
      "text/plain": [
       "lifetime           0     1     2     3     4\n",
       "first_user_act                              \n",
       "2020-05-04     1.000 0.983 0.556 0.072 0.003\n",
       "2020-05-05     1.000 0.972 0.496 0.058 0.004\n",
       "2020-05-06     1.000 0.947 0.439 0.056 0.003\n",
       "2020-05-07     1.000 0.902 0.418 0.072 0.009\n",
       "2020-05-08     1.000 0.887 0.392 0.048 0.003\n",
       "2020-05-09     1.000 0.898 0.400 0.066 0.002\n",
       "2020-05-10     1.000 0.908 0.410 0.048   NaN\n",
       "mean           1.000 0.928 0.444 0.060 0.004"
      ]
     },
     "metadata": {},
     "output_type": "display_data"
    }
   ],
   "source": [
    "cohort['retention'] = cohort['cnt_users']/cohort['users_cohort'] \n",
    "\n",
    "# Сделаем сводную таблицу\n",
    "cohort['first_user_act'] = pd.to_datetime(cohort['first_user_act']).dt.date\n",
    "retention_pivot = cohort.pivot_table(index='first_user_act',columns='lifetime',values='retention',aggfunc='sum')\n",
    "# retention_pivot.columns=['0','1','2','3','4']\n",
    "retention_pivot.loc['mean'] = retention_pivot.mean()\n",
    "display(retention_pivot)"
   ]
  },
  {
   "cell_type": "code",
   "execution_count": 25,
   "metadata": {},
   "outputs": [
    {
     "data": {
      "text/plain": [
       "Text(0.5, 57.5, 'День жизни')"
      ]
     },
     "execution_count": 25,
     "metadata": {},
     "output_type": "execute_result"
    },
    {
     "data": {
      "image/png": "[encoded data removed]",
      "text/plain": [
       "<Figure size 936x648 with 2 Axes>"
      ]
     },
     "metadata": {},
     "output_type": "display_data"
    }
   ],
   "source": [
    "# Построим тепловую карту\n",
    "sb.set(style='dark')\n",
    "plt.figure(figsize=(13, 9))\n",
    "plt.title('Удержание')\n",
    "hm = sb.heatmap(retention_pivot, annot=True, fmt='.2%', linewidths=1, linecolor='gray')\n",
    "hm.set_ylabel('Когорта')\n",
    "hm.set_xlabel('День жизни')"
   ]
  },
  {
   "cell_type": "markdown",
   "metadata": {},
   "source": [
    "На третьей неделе средний Retention Rate по когортам составляет уже 44%, а затем резко уменьшается до 6%. Вероятно, спад связан с прохождением уровня у одних пользователей и отсутствием дальнейшего интереса у других. Когорта от 5 мая ведет себя лучше других, особенно это заметно на 2-ю неделю жизни."
   ]
  },
  {
   "cell_type": "markdown",
   "metadata": {},
   "source": [
    "**Оценим CAC (стоимость привлечения клиента)**"
   ]
  },
  {
   "cell_type": "markdown",
   "metadata": {},
   "source": [
    "Прежде всего необходимо рассчитать затраты на каждый рекламный источник"
   ]
  },
  {
   "cell_type": "code",
   "execution_count": 26,
   "metadata": {
    "scrolled": true
   },
   "outputs": [
    {
     "data": {
      "text/html": [
       "<div>\n",
       "<style scoped>\n",
       "    .dataframe tbody tr th:only-of-type {\n",
       "        vertical-align: middle;\n",
       "    }\n",
       "\n",
       "    .dataframe tbody tr th {\n",
       "        vertical-align: top;\n",
       "    }\n",
       "\n",
       "    .dataframe thead th {\n",
       "        text-align: right;\n",
       "    }\n",
       "</style>\n",
       "<table border=\"1\" class=\"dataframe\">\n",
       "  <thead>\n",
       "    <tr style=\"text-align: right;\">\n",
       "      <th></th>\n",
       "      <th>source</th>\n",
       "      <th>cost</th>\n",
       "    </tr>\n",
       "  </thead>\n",
       "  <tbody>\n",
       "    <tr>\n",
       "      <th>0</th>\n",
       "      <td>yandex_direct</td>\n",
       "      <td>2,233.111</td>\n",
       "    </tr>\n",
       "    <tr>\n",
       "      <th>1</th>\n",
       "      <td>instagram_new_adverts</td>\n",
       "      <td>2,161.442</td>\n",
       "    </tr>\n",
       "    <tr>\n",
       "      <th>2</th>\n",
       "      <td>facebook_ads</td>\n",
       "      <td>2,140.905</td>\n",
       "    </tr>\n",
       "    <tr>\n",
       "      <th>3</th>\n",
       "      <td>youtube_channel_reklama</td>\n",
       "      <td>1,068.119</td>\n",
       "    </tr>\n",
       "  </tbody>\n",
       "</table>\n",
       "</div>"
      ],
      "text/plain": [
       "                    source      cost\n",
       "0            yandex_direct 2,233.111\n",
       "1    instagram_new_adverts 2,161.442\n",
       "2             facebook_ads 2,140.905\n",
       "3  youtube_channel_reklama 1,068.119"
      ]
     },
     "metadata": {},
     "output_type": "display_data"
    }
   ],
   "source": [
    "costs_sum = costs.groupby('source')['cost'].sum().sort_values(ascending=False).reset_index()\n",
    "display(costs_sum)"
   ]
  },
  {
   "cell_type": "markdown",
   "metadata": {},
   "source": [
    "Посмотрим, сколько всего пользователей было привлечено по рекламным источникам:"
   ]
  },
  {
   "cell_type": "code",
   "execution_count": 27,
   "metadata": {
    "scrolled": false
   },
   "outputs": [
    {
     "data": {
      "image/png": "[encoded data removed]",
      "text/plain": [
       "<Figure size 1008x504 with 1 Axes>"
      ]
     },
     "metadata": {},
     "output_type": "display_data"
    }
   ],
   "source": [
    "source_users_cnt = traffic.groupby('source').agg({'user_id':'nunique'}).sort_values(by='user_id', ascending=False).reset_index()\n",
    "# display(source_users_cnt)\n",
    "\n",
    "# Построим график\n",
    "bar = sb.barplot(y='user_id', x='source', data=source_users_cnt)\n",
    "sb.set(rc = {'figure.figsize':(14,7)})\n",
    "bar.set(xlabel='Рекламный источник', ylabel='Кол-во пользователей', title='Распределение пользователей по источникам траффика')\n",
    "plt.show()"
   ]
  },
  {
   "cell_type": "markdown",
   "metadata": {},
   "source": [
    "Как мы видим, больше всего траффика привлечено по каналу yandex_direct. \n",
    "\n",
    "Соберем сводную таблицу по затратам на рекламу по дням."
   ]
  },
  {
   "cell_type": "code",
   "execution_count": 28,
   "metadata": {},
   "outputs": [
    {
     "data": {
      "text/html": [
       "<div>\n",
       "<style scoped>\n",
       "    .dataframe tbody tr th:only-of-type {\n",
       "        vertical-align: middle;\n",
       "    }\n",
       "\n",
       "    .dataframe tbody tr th {\n",
       "        vertical-align: top;\n",
       "    }\n",
       "\n",
       "    .dataframe thead th {\n",
       "        text-align: right;\n",
       "    }\n",
       "</style>\n",
       "<table border=\"1\" class=\"dataframe\">\n",
       "  <thead>\n",
       "    <tr style=\"text-align: right;\">\n",
       "      <th>day</th>\n",
       "      <th>2020-05-03</th>\n",
       "      <th>2020-05-04</th>\n",
       "      <th>2020-05-05</th>\n",
       "      <th>2020-05-06</th>\n",
       "      <th>2020-05-07</th>\n",
       "      <th>2020-05-08</th>\n",
       "      <th>2020-05-09</th>\n",
       "      <th>total</th>\n",
       "    </tr>\n",
       "    <tr>\n",
       "      <th>source</th>\n",
       "      <th></th>\n",
       "      <th></th>\n",
       "      <th></th>\n",
       "      <th></th>\n",
       "      <th></th>\n",
       "      <th></th>\n",
       "      <th></th>\n",
       "      <th></th>\n",
       "    </tr>\n",
       "  </thead>\n",
       "  <tbody>\n",
       "    <tr>\n",
       "      <th>facebook_ads</th>\n",
       "      <td>935.883</td>\n",
       "      <td>548.354</td>\n",
       "      <td>260.186</td>\n",
       "      <td>177.982</td>\n",
       "      <td>111.767</td>\n",
       "      <td>68.009</td>\n",
       "      <td>38.723</td>\n",
       "      <td>2,140.905</td>\n",
       "    </tr>\n",
       "    <tr>\n",
       "      <th>instagram_new_adverts</th>\n",
       "      <td>943.205</td>\n",
       "      <td>502.925</td>\n",
       "      <td>313.971</td>\n",
       "      <td>173.071</td>\n",
       "      <td>109.915</td>\n",
       "      <td>71.579</td>\n",
       "      <td>46.775</td>\n",
       "      <td>2,161.442</td>\n",
       "    </tr>\n",
       "    <tr>\n",
       "      <th>yandex_direct</th>\n",
       "      <td>969.139</td>\n",
       "      <td>554.651</td>\n",
       "      <td>308.233</td>\n",
       "      <td>180.917</td>\n",
       "      <td>114.429</td>\n",
       "      <td>62.962</td>\n",
       "      <td>42.780</td>\n",
       "      <td>2,233.111</td>\n",
       "    </tr>\n",
       "    <tr>\n",
       "      <th>youtube_channel_reklama</th>\n",
       "      <td>454.225</td>\n",
       "      <td>259.073</td>\n",
       "      <td>147.042</td>\n",
       "      <td>88.506</td>\n",
       "      <td>55.741</td>\n",
       "      <td>40.218</td>\n",
       "      <td>23.315</td>\n",
       "      <td>1,068.119</td>\n",
       "    </tr>\n",
       "    <tr>\n",
       "      <th>total</th>\n",
       "      <td>3,302.452</td>\n",
       "      <td>1,865.005</td>\n",
       "      <td>1,029.431</td>\n",
       "      <td>620.477</td>\n",
       "      <td>391.852</td>\n",
       "      <td>242.768</td>\n",
       "      <td>151.593</td>\n",
       "      <td>7,603.577</td>\n",
       "    </tr>\n",
       "  </tbody>\n",
       "</table>\n",
       "</div>"
      ],
      "text/plain": [
       "day                      2020-05-03  2020-05-04  2020-05-05  2020-05-06  \\\n",
       "source                                                                    \n",
       "facebook_ads                935.883     548.354     260.186     177.982   \n",
       "instagram_new_adverts       943.205     502.925     313.971     173.071   \n",
       "yandex_direct               969.139     554.651     308.233     180.917   \n",
       "youtube_channel_reklama     454.225     259.073     147.042      88.506   \n",
       "total                     3,302.452   1,865.005   1,029.431     620.477   \n",
       "\n",
       "day                      2020-05-07  2020-05-08  2020-05-09     total  \n",
       "source                                                                 \n",
       "facebook_ads                111.767      68.009      38.723 2,140.905  \n",
       "instagram_new_adverts       109.915      71.579      46.775 2,161.442  \n",
       "yandex_direct               114.429      62.962      42.780 2,233.111  \n",
       "youtube_channel_reklama      55.741      40.218      23.315 1,068.119  \n",
       "total                       391.852     242.768     151.593 7,603.577  "
      ]
     },
     "metadata": {},
     "output_type": "display_data"
    },
    {
     "name": "stdout",
     "output_type": "stream",
     "text": [
      "\n"
     ]
    },
    {
     "data": {
      "image/png": "[encoded data removed]",
      "text/plain": [
       "<Figure size 1008x504 with 1 Axes>"
      ]
     },
     "metadata": {},
     "output_type": "display_data"
    }
   ],
   "source": [
    "costs['day'] = pd.to_datetime(costs['day']).dt.date\n",
    "pivot_costs = costs.pivot_table(index='source', columns='day', values='cost', aggfunc='sum', margins=True, margins_name='total')\n",
    "display(pivot_costs)\n",
    "print()\n",
    "pivot_costs.drop('total', axis=1, inplace=True)\n",
    "\n",
    "# Построим грфик\n",
    "pivot_costs.T.plot(kind='bar', figsize=(14,7), grid=True)\n",
    "plt.title('Затраты по рекламным источникам в разные дни')\n",
    "plt.ylabel('Расходы')\n",
    "plt.xlabel('')\n",
    "plt.xticks(rotation=30)\n",
    "plt.show()"
   ]
  },
  {
   "cell_type": "markdown",
   "metadata": {},
   "source": [
    "Общие затраты на рекламу составили около 3300 в первый день, а затем снижались вплоть до 152 в последний день периода. При этом затраты по каналу yandex_direct всегда немного опережали другие каналы. Меьшего всего (во всем периоде) было потрачено на рекламу по youtube_channel_reklama."
   ]
  },
  {
   "cell_type": "markdown",
   "metadata": {},
   "source": []
  },
  {
   "cell_type": "markdown",
   "metadata": {},
   "source": [
    "**Вычислим стоимость привлечения клиента (CAC)**"
   ]
  },
  {
   "cell_type": "code",
   "execution_count": 29,
   "metadata": {
    "scrolled": true
   },
   "outputs": [
    {
     "data": {
      "text/html": [
       "<div>\n",
       "<style scoped>\n",
       "    .dataframe tbody tr th:only-of-type {\n",
       "        vertical-align: middle;\n",
       "    }\n",
       "\n",
       "    .dataframe tbody tr th {\n",
       "        vertical-align: top;\n",
       "    }\n",
       "\n",
       "    .dataframe thead th {\n",
       "        text-align: right;\n",
       "    }\n",
       "</style>\n",
       "<table border=\"1\" class=\"dataframe\">\n",
       "  <thead>\n",
       "    <tr style=\"text-align: right;\">\n",
       "      <th></th>\n",
       "      <th>source</th>\n",
       "      <th>user_id</th>\n",
       "      <th>cost</th>\n",
       "      <th>cac</th>\n",
       "    </tr>\n",
       "  </thead>\n",
       "  <tbody>\n",
       "    <tr>\n",
       "      <th>3</th>\n",
       "      <td>youtube_channel_reklama</td>\n",
       "      <td>2686</td>\n",
       "      <td>1,068.119</td>\n",
       "      <td>0.398</td>\n",
       "    </tr>\n",
       "    <tr>\n",
       "      <th>0</th>\n",
       "      <td>yandex_direct</td>\n",
       "      <td>4817</td>\n",
       "      <td>2,233.111</td>\n",
       "      <td>0.464</td>\n",
       "    </tr>\n",
       "    <tr>\n",
       "      <th>1</th>\n",
       "      <td>instagram_new_adverts</td>\n",
       "      <td>3347</td>\n",
       "      <td>2,161.442</td>\n",
       "      <td>0.646</td>\n",
       "    </tr>\n",
       "    <tr>\n",
       "      <th>2</th>\n",
       "      <td>facebook_ads</td>\n",
       "      <td>2726</td>\n",
       "      <td>2,140.905</td>\n",
       "      <td>0.785</td>\n",
       "    </tr>\n",
       "  </tbody>\n",
       "</table>\n",
       "</div>"
      ],
      "text/plain": [
       "                    source  user_id      cost   cac\n",
       "3  youtube_channel_reklama     2686 1,068.119 0.398\n",
       "0            yandex_direct     4817 2,233.111 0.464\n",
       "1    instagram_new_adverts     3347 2,161.442 0.646\n",
       "2             facebook_ads     2726 2,140.905 0.785"
      ]
     },
     "metadata": {},
     "output_type": "display_data"
    }
   ],
   "source": [
    "cac = source_users_cnt.merge(costs_sum, on ='source')\n",
    "cac['cac'] = round(cac['cost']/cac['user_id'],3)\n",
    "display(cac.sort_values('cac'))"
   ]
  },
  {
   "cell_type": "markdown",
   "metadata": {},
   "source": [
    "Наименьший CAC (0.4) получился у канала youtube_channel_reklama. Самым дорогим оказался facebook_ads (0.79)"
   ]
  },
  {
   "cell_type": "markdown",
   "metadata": {},
   "source": [
    "### Вывод\n",
    "\n",
    "Произведен исследовательский анализ данных.\n",
    "Были рассмотрены основные характеристики датасетов. Мы увидели, что:\n",
    "* период логирования действий игроков охватывает с 4 мая по 5 июня 2020 г. Уникальных пользователей 13576. \n",
    "* данные о рекламной кампании имеются за период c 3 мая по 9 мая.\n",
    "* средние затраты составили 271. Разброс затрат большой: от 23 до 969, разброс подтверждается также высоким стандартным отклонением (286).\n",
    "* данные по исчточнику траффика имеются по всем (13576) уникальным пользователм датасета. Всего 4 источника.\n",
    "\n",
    "Показано рапределение типов событий\n",
    "* 128 тыс. (около 94%) событий приходится на строительство зданий, 5817 (около 4.5%) событий на факт прохождения первого уровеня, только 1866 (около 1.5%) событий на факт реализации проекта.\n",
    "* около 43% среди всех пользователей прошли первый уровень, из них около 32% прошли его через реализацию проекта. Соответственно, среди прошедших первый уровень остальные две трети игроков выбрали военный путь достижения цели.\n",
    "\n",
    "Показано рапределение типа построек\n",
    "* 59 тыс. построек (около 46%) приходится на spaceport, 54 тыс. (около 43%) на assembly_shop и только 14 тыс. (около 11%) на research_center.\n",
    "\n",
    "Рассмотрена ежедневная активность пользователей (DAU) в разрезе источников траффика:\n",
    "* В первую неделю наблюдается рост активности по всем каналам в связи с рекламной кампанией. После 10 мая по ее завершению виден резкий спад активности, продолжающийся вплоть до конца периода исследования, что быть связано с прохождением первого уровня, который к 25 маю почти все пользователи преодолели, либо забросили игру.\n",
    "* Наибольшая активность видна среди пользователей пришедших из канала yandex_direct, на втором месте из instagram. \n",
    "* Активность траффика из остальных каналов примерно одинакова.\n",
    "\n",
    "Было оценено удержание пользователей (Retention Rate):\n",
    "* На третьей неделе средний Retention Rate по когортам составил уже 44%, а затем резко уменьшается до 6%. \n",
    "* Вероятно, спад связан с прохождением уровня у одних пользователей и отсутствием дальнейшего интереса у других. \n",
    "* Когорта от 5 мая ведет себя лучше других, особенно это заметно на 2-ю неделю жизни.\n",
    "\n",
    "Была оценена CAC (стоимость привлечения клиента)\n",
    "* Общие затраты на рекламу составили около 3300  в первый день, а затем снижались вплоть до 152 в последний день периода. При этом затраты по каналу yandex_direct всегда немного опережали другие каналы. Меьшего всего (во всем периоде) было потрачено на рекламу по youtube_channel_reklama.\n",
    "* Наименьший CAC (0.4) получился у канала youtube_channel_reklama. Самым дорогим оказался facebook_ads (0.79) - стоит провести дополнительное исследование по вопросу перераспределения средств на маркетинг."
   ]
  },
  {
   "cell_type": "markdown",
   "metadata": {},
   "source": [
    "<a id=\"an\"></a>\n",
    "## 4. Анализ влияния событий на совершение целевого события"
   ]
  },
  {
   "cell_type": "markdown",
   "metadata": {},
   "source": [
    "Целевым событием является завершение первого уровня, так как в рамках первого уровня заказчик хочет завлечь как можно больше пользователей в игру (согласно ТЗ).\n",
    "\n",
    "Найдем кол-во дней активности пользователя."
   ]
  },
  {
   "cell_type": "code",
   "execution_count": 30,
   "metadata": {},
   "outputs": [
    {
     "data": {
      "text/html": [
       "<div>\n",
       "<style scoped>\n",
       "    .dataframe tbody tr th:only-of-type {\n",
       "        vertical-align: middle;\n",
       "    }\n",
       "\n",
       "    .dataframe tbody tr th {\n",
       "        vertical-align: top;\n",
       "    }\n",
       "\n",
       "    .dataframe thead th {\n",
       "        text-align: right;\n",
       "    }\n",
       "</style>\n",
       "<table border=\"1\" class=\"dataframe\">\n",
       "  <thead>\n",
       "    <tr style=\"text-align: right;\">\n",
       "      <th></th>\n",
       "      <th>user_id</th>\n",
       "      <th>project_type</th>\n",
       "    </tr>\n",
       "  </thead>\n",
       "  <tbody>\n",
       "    <tr>\n",
       "      <th>47121</th>\n",
       "      <td>e3c66498-9d45-4000-9392-f81e6796e7da</td>\n",
       "      <td>satellite_orbital_assembly</td>\n",
       "    </tr>\n",
       "    <tr>\n",
       "      <th>57398</th>\n",
       "      <td>936e7af6-8338-4703-a1df-fc6c3f5b8e34</td>\n",
       "      <td>satellite_orbital_assembly</td>\n",
       "    </tr>\n",
       "    <tr>\n",
       "      <th>58797</th>\n",
       "      <td>a4491c86-c498-4f74-a56e-65c136d0e9a1</td>\n",
       "      <td>satellite_orbital_assembly</td>\n",
       "    </tr>\n",
       "    <tr>\n",
       "      <th>61174</th>\n",
       "      <td>85d9e675-562b-4329-8bbd-14d3b39096be</td>\n",
       "      <td>satellite_orbital_assembly</td>\n",
       "    </tr>\n",
       "    <tr>\n",
       "      <th>63770</th>\n",
       "      <td>1889ca71-3c57-4e61-9ea6-a711971bbf0a</td>\n",
       "      <td>satellite_orbital_assembly</td>\n",
       "    </tr>\n",
       "    <tr>\n",
       "      <th>...</th>\n",
       "      <td>...</td>\n",
       "      <td>...</td>\n",
       "    </tr>\n",
       "    <tr>\n",
       "      <th>135602</th>\n",
       "      <td>9d98001c-7e14-40d7-896e-46b3047365fd</td>\n",
       "      <td>satellite_orbital_assembly</td>\n",
       "    </tr>\n",
       "    <tr>\n",
       "      <th>135603</th>\n",
       "      <td>df4a1e13-eba9-4928-a7cf-ee303d6f80f9</td>\n",
       "      <td>satellite_orbital_assembly</td>\n",
       "    </tr>\n",
       "    <tr>\n",
       "      <th>135609</th>\n",
       "      <td>82e46f34-e243-4728-8e20-2e171fc33ea4</td>\n",
       "      <td>satellite_orbital_assembly</td>\n",
       "    </tr>\n",
       "    <tr>\n",
       "      <th>135617</th>\n",
       "      <td>fe032991-71e0-48c5-889f-4c3805ba4c9b</td>\n",
       "      <td>satellite_orbital_assembly</td>\n",
       "    </tr>\n",
       "    <tr>\n",
       "      <th>135630</th>\n",
       "      <td>d477dde8-7c22-4f23-9c4f-4ec31a1aa4c8</td>\n",
       "      <td>satellite_orbital_assembly</td>\n",
       "    </tr>\n",
       "  </tbody>\n",
       "</table>\n",
       "<p>1866 rows × 2 columns</p>\n",
       "</div>"
      ],
      "text/plain": [
       "                                     user_id                project_type\n",
       "47121   e3c66498-9d45-4000-9392-f81e6796e7da  satellite_orbital_assembly\n",
       "57398   936e7af6-8338-4703-a1df-fc6c3f5b8e34  satellite_orbital_assembly\n",
       "58797   a4491c86-c498-4f74-a56e-65c136d0e9a1  satellite_orbital_assembly\n",
       "61174   85d9e675-562b-4329-8bbd-14d3b39096be  satellite_orbital_assembly\n",
       "63770   1889ca71-3c57-4e61-9ea6-a711971bbf0a  satellite_orbital_assembly\n",
       "...                                      ...                         ...\n",
       "135602  9d98001c-7e14-40d7-896e-46b3047365fd  satellite_orbital_assembly\n",
       "135603  df4a1e13-eba9-4928-a7cf-ee303d6f80f9  satellite_orbital_assembly\n",
       "135609  82e46f34-e243-4728-8e20-2e171fc33ea4  satellite_orbital_assembly\n",
       "135617  fe032991-71e0-48c5-889f-4c3805ba4c9b  satellite_orbital_assembly\n",
       "135630  d477dde8-7c22-4f23-9c4f-4ec31a1aa4c8  satellite_orbital_assembly\n",
       "\n",
       "[1866 rows x 2 columns]"
      ]
     },
     "execution_count": 30,
     "metadata": {},
     "output_type": "execute_result"
    }
   ],
   "source": [
    "events.query('project_type.notna()')[['user_id','project_type']]"
   ]
  },
  {
   "cell_type": "code",
   "execution_count": 31,
   "metadata": {
    "scrolled": true
   },
   "outputs": [
    {
     "data": {
      "text/html": [
       "<div>\n",
       "<style scoped>\n",
       "    .dataframe tbody tr th:only-of-type {\n",
       "        vertical-align: middle;\n",
       "    }\n",
       "\n",
       "    .dataframe tbody tr th {\n",
       "        vertical-align: top;\n",
       "    }\n",
       "\n",
       "    .dataframe thead th {\n",
       "        text-align: right;\n",
       "    }\n",
       "</style>\n",
       "<table border=\"1\" class=\"dataframe\">\n",
       "  <thead>\n",
       "    <tr style=\"text-align: right;\">\n",
       "      <th></th>\n",
       "      <th>user_id</th>\n",
       "      <th>first_user_act</th>\n",
       "      <th>last_user_act</th>\n",
       "      <th>project_type</th>\n",
       "      <th>event</th>\n",
       "      <th>event_datetime</th>\n",
       "      <th>action_days</th>\n",
       "    </tr>\n",
       "  </thead>\n",
       "  <tbody>\n",
       "    <tr>\n",
       "      <th>10164</th>\n",
       "      <td>bff35ff1-66d3-4dd6-ae0e-b765e0d47cda</td>\n",
       "      <td>2020-05-04 02:57:17</td>\n",
       "      <td>2020-05-13 23:43:01</td>\n",
       "      <td>NaN</td>\n",
       "      <td>finished_stage_1</td>\n",
       "      <td>2020-05-13 23:43:01</td>\n",
       "      <td>9</td>\n",
       "    </tr>\n",
       "    <tr>\n",
       "      <th>6407</th>\n",
       "      <td>775d3f74-6d85-40b7-b615-c9f7268a53a7</td>\n",
       "      <td>2020-05-04 22:05:58</td>\n",
       "      <td>2020-05-12 19:36:32</td>\n",
       "      <td>NaN</td>\n",
       "      <td>finished_stage_1</td>\n",
       "      <td>2020-05-12 19:36:32</td>\n",
       "      <td>7</td>\n",
       "    </tr>\n",
       "    <tr>\n",
       "      <th>7115</th>\n",
       "      <td>84a980a4-0bdb-427e-9c71-031c09718e17</td>\n",
       "      <td>2020-05-04 09:10:09</td>\n",
       "      <td>2020-05-18 06:40:44</td>\n",
       "      <td>NaN</td>\n",
       "      <td>finished_stage_1</td>\n",
       "      <td>2020-05-18 06:40:44</td>\n",
       "      <td>13</td>\n",
       "    </tr>\n",
       "  </tbody>\n",
       "</table>\n",
       "</div>"
      ],
      "text/plain": [
       "                                    user_id      first_user_act  \\\n",
       "10164  bff35ff1-66d3-4dd6-ae0e-b765e0d47cda 2020-05-04 02:57:17   \n",
       "6407   775d3f74-6d85-40b7-b615-c9f7268a53a7 2020-05-04 22:05:58   \n",
       "7115   84a980a4-0bdb-427e-9c71-031c09718e17 2020-05-04 09:10:09   \n",
       "\n",
       "            last_user_act project_type             event      event_datetime  \\\n",
       "10164 2020-05-13 23:43:01          NaN  finished_stage_1 2020-05-13 23:43:01   \n",
       "6407  2020-05-12 19:36:32          NaN  finished_stage_1 2020-05-12 19:36:32   \n",
       "7115  2020-05-18 06:40:44          NaN  finished_stage_1 2020-05-18 06:40:44   \n",
       "\n",
       "       action_days  \n",
       "10164            9  \n",
       "6407             7  \n",
       "7115            13  "
      ]
     },
     "metadata": {},
     "output_type": "display_data"
    }
   ],
   "source": [
    "# Дата первого действия по юзерам.\n",
    "first_user_act = events.groupby('user_id')['event_datetime'].min().reset_index()\n",
    "first_user_act.columns = ['user_id','first_user_act']\n",
    "\n",
    "# Дата последнего действия по юзерам.\n",
    "last_user_act = events.groupby('user_id')['event_datetime'].max().reset_index()\n",
    "last_user_act.columns = ['user_id','last_user_act']\n",
    "\n",
    "# Объединим таблицы с нужными признаками\n",
    "users = (first_user_act.merge(last_user_act, on='user_id')\n",
    "           .merge(events.query('project_type.notna()')[['user_id','project_type']] , on='user_id', how='left')\n",
    "           .merge(events[['user_id','event','event_datetime']],\n",
    "           left_on=['user_id', 'last_user_act'], right_on=['user_id', 'event_datetime'], how='left'))\n",
    "# users\n",
    "\n",
    "#Найдем кол-во дней активности пользователя\n",
    "users['action_days'] = (users['last_user_act'] - users['first_user_act']).astype('timedelta64[D]').astype('int')\n",
    "display(users.sample(3))"
   ]
  },
  {
   "cell_type": "markdown",
   "metadata": {},
   "source": [
    "Посмотрим сколько дней в среднем потребовалось игрокам для прохождения уровня через реализацию проекта (игрокам-строителям) и через победу над врагом (игрокам-воинам)"
   ]
  },
  {
   "cell_type": "code",
   "execution_count": 32,
   "metadata": {},
   "outputs": [
    {
     "name": "stdout",
     "output_type": "stream",
     "text": [
      "Среднее время прохождения уровня у игроков-строителей: 13.0 дней.\n",
      "Среднее время прохождения уровня у игроков-воинов: 10.6 дней.\n"
     ]
    }
   ],
   "source": [
    "users_builders = users.query('project_type.notna()')\n",
    "users_warriors = users.query('project_type.isna() and event==\"finished_stage_1\"')\n",
    "\n",
    "print('Среднее время прохождения уровня у игроков-строителей:', round(users_builders['action_days'].mean(),1), 'дней.')\n",
    "print('Среднее время прохождения уровня у игроков-воинов:', round(users_warriors['action_days'].mean(),1), 'дней.')"
   ]
  },
  {
   "cell_type": "markdown",
   "metadata": {},
   "source": [
    "Посмотрим сколько дней в среднем играли те, кто в итоге не завершил первый уровень (остановился на очередной постройке)"
   ]
  },
  {
   "cell_type": "code",
   "execution_count": 33,
   "metadata": {
    "scrolled": true
   },
   "outputs": [
    {
     "name": "stdout",
     "output_type": "stream",
     "text": [
      "Среднее время игры у игроков оставивших игру: 9.3 дней.\n"
     ]
    }
   ],
   "source": [
    "users_leavers = users.query('event == \"building\"')\n",
    "\n",
    "print('Среднее время игры у игроков оставивших игру:', round(users_leavers['action_days'].mean(),1), 'дней.')"
   ]
  },
  {
   "cell_type": "markdown",
   "metadata": {},
   "source": [
    "### Вывод\n",
    "\n",
    "В среднем, игроки-строители проводят в игре на 2.6 дня больше, чем игроки-воины (13 дней против 10.6 дней). Можно сказать, что игроки-строители - наиболее ценные пользователи с точки зрения удержания и монетизации. \n",
    "\n",
    "Также мы выяснили, что среднее время до оттока у остальных игроков - 9.3 дня. Вероятно, этим игрокам надоедает процесс строительства, возможно для них особенно актуален был бы платный ускоритель развития."
   ]
  },
  {
   "cell_type": "markdown",
   "metadata": {},
   "source": [
    "<a id=\"hyp\"></a>\n",
    "## 5. Проверка статистических гипотез "
   ]
  },
  {
   "cell_type": "markdown",
   "metadata": {},
   "source": [
    "**Проверим гипотезу различия времени прохождения уровня между пользователями, которые заканчивают уровень через реализацию проекта, и пользователями, которые заканчивают уровень победой над другим игроком**"
   ]
  },
  {
   "cell_type": "markdown",
   "metadata": {},
   "source": [
    "Воспользуемся T-критерием Стьюдента. \n",
    "\n",
    "Нулевая гипотеза: статистически значимых различий между средним временем прохождения уровня пользователями из двух выборок отсутствует.\n",
    "\n",
    "Гипотеза Н1: статистически значимые различия между средним временем прохождения уровня пользователями из двух выборок есть."
   ]
  },
  {
   "cell_type": "code",
   "execution_count": 34,
   "metadata": {},
   "outputs": [
    {
     "name": "stdout",
     "output_type": "stream",
     "text": [
      "Различие в дисперсии выборок составляет: 26.2 %\n"
     ]
    }
   ],
   "source": [
    "disp_diff = (100- np.var(users_builders['action_days'], ddof=1)/np.var(users_warriors['action_days'], ddof=1)*100)\n",
    "print('Различие в дисперсии выборок составляет:', disp_diff.round(1), '%')"
   ]
  },
  {
   "cell_type": "code",
   "execution_count": 35,
   "metadata": {},
   "outputs": [
    {
     "name": "stdout",
     "output_type": "stream",
     "text": [
      "p-value: 2.6237027268062713e-106\n",
      "Отвергаем нулевую гипотезу, статистически значимое различие средних между выборками есть\n"
     ]
    }
   ],
   "source": [
    "# Перейдем к проверки с параметром equal_var = False\n",
    "\n",
    "alpha = 0.05\n",
    "\n",
    "results = sc.stats.ttest_ind(users_builders['action_days'], users_warriors['action_days'], equal_var=False)\n",
    "print('p-value:', results.pvalue)\n",
    "if (results.pvalue < alpha):\n",
    "    print('Отвергаем нулевую гипотезу, статистически значимое различие средних между выборками есть')\n",
    "else:\n",
    "    print('Не получилось отвергнуть нулевую гипотезу, статистически значимое различие средних между выборками отсутствует')"
   ]
  },
  {
   "cell_type": "markdown",
   "metadata": {},
   "source": [
    "**Проверим гипотезу о различии времени прохождения первого уровня пользователями из различных источников траффика**"
   ]
  },
  {
   "cell_type": "markdown",
   "metadata": {},
   "source": [
    "В связи с одновременной проверкой 4-х выборок воспользуемся критерием Краскела-Уоллиса.\n",
    "\n",
    "Нулевая гипотеза: между четырьмя выборками по различным рекламным каналам существуют лишь случайные различия по времени прохождения уровня.\n",
    "\n",
    "Гипотеза Н1: между четырьмя выборками по различным рекламным каналам существуют неслучайные различия по времени прохождения уровня."
   ]
  },
  {
   "cell_type": "code",
   "execution_count": 36,
   "metadata": {
    "scrolled": true
   },
   "outputs": [],
   "source": [
    "# Добавим источники траффика в датафрейм users\n",
    "users = users.merge(traffic[['user_id','source']], on='user_id', how='left')\n",
    "# users"
   ]
  },
  {
   "cell_type": "code",
   "execution_count": 37,
   "metadata": {},
   "outputs": [
    {
     "name": "stdout",
     "output_type": "stream",
     "text": [
      "p-value:  0.2544880661165931\n",
      "Не получилось отвергнуть нулевую гипотезу, различия по времени прохождения уровня между выборками случайны\n"
     ]
    }
   ],
   "source": [
    "# Проведем тест\n",
    "alpha = 0.05\n",
    "\n",
    "results = sc.stats.kruskal(users['action_days'][users['source']=='instagram_new_adverts'],\n",
    "              users['action_days'][users['source']=='youtube_channel_reklama'],                           \n",
    "              users['action_days'][users['source']=='facebook_ads'],\n",
    "              users['action_days'][users['source']=='yandex_direct'])\n",
    "\n",
    "print('p-value: ', results.pvalue)\n",
    "if (results.pvalue < alpha):\n",
    "    print(\"Отвергаем нулевую гипотезу, различия по времени прохождения уровня между выборками неслучайны\")\n",
    "else:\n",
    "    print(\"Не получилось отвергнуть нулевую гипотезу, различия по времени прохождения уровня между выборками случайны\") "
   ]
  },
  {
   "cell_type": "markdown",
   "metadata": {},
   "source": [
    "### Вывод\n",
    "\n",
    "Согласно результатам статистических тестов, можно сказать, что: \n",
    "* есть статистически значимое различие среднего времени прохождения уровня между пользователями, которые заканчивают уровень через реализацию проекта, и пользователями, которые заканчивают уровень победой над другим игроком. Это логично, постройка всех необходимых зданий занимает больше времени, чем сражение с другим игроком.\n",
    "* нет статистически значимой разницы по времени прохождения уровня между пользователями, пришедшими из разных источников траффика\n",
    "* поскольку стратегия pvp явно популярнее среди игроков, возникает игровой дисбаланс, который в конечном счете может привести к  потерям прибыли. Рекомендуем геймдизайнерам по возможности сократить дисбаланс в выборе стратегий победы."
   ]
  },
  {
   "cell_type": "markdown",
   "metadata": {},
   "source": [
    "<a id=\"mon\"></a>\n",
    "## 6. Модель монетизации"
   ]
  },
  {
   "cell_type": "markdown",
   "metadata": {},
   "source": [
    "Посчитаем цену показа одного баннера в окне постройки длявыхода на уровень окупаемости исходя из CAC и количества построек производимых игроками."
   ]
  },
  {
   "cell_type": "markdown",
   "metadata": {},
   "source": [
    "Ранее мы посчитали CAC для различных источников траффика:"
   ]
  },
  {
   "cell_type": "code",
   "execution_count": 38,
   "metadata": {},
   "outputs": [
    {
     "data": {
      "text/html": [
       "<div>\n",
       "<style scoped>\n",
       "    .dataframe tbody tr th:only-of-type {\n",
       "        vertical-align: middle;\n",
       "    }\n",
       "\n",
       "    .dataframe tbody tr th {\n",
       "        vertical-align: top;\n",
       "    }\n",
       "\n",
       "    .dataframe thead th {\n",
       "        text-align: right;\n",
       "    }\n",
       "</style>\n",
       "<table border=\"1\" class=\"dataframe\">\n",
       "  <thead>\n",
       "    <tr style=\"text-align: right;\">\n",
       "      <th></th>\n",
       "      <th>source</th>\n",
       "      <th>user_id</th>\n",
       "      <th>cost</th>\n",
       "      <th>cac</th>\n",
       "    </tr>\n",
       "  </thead>\n",
       "  <tbody>\n",
       "    <tr>\n",
       "      <th>0</th>\n",
       "      <td>yandex_direct</td>\n",
       "      <td>4817</td>\n",
       "      <td>2,233.111</td>\n",
       "      <td>0.464</td>\n",
       "    </tr>\n",
       "    <tr>\n",
       "      <th>1</th>\n",
       "      <td>instagram_new_adverts</td>\n",
       "      <td>3347</td>\n",
       "      <td>2,161.442</td>\n",
       "      <td>0.646</td>\n",
       "    </tr>\n",
       "    <tr>\n",
       "      <th>2</th>\n",
       "      <td>facebook_ads</td>\n",
       "      <td>2726</td>\n",
       "      <td>2,140.905</td>\n",
       "      <td>0.785</td>\n",
       "    </tr>\n",
       "    <tr>\n",
       "      <th>3</th>\n",
       "      <td>youtube_channel_reklama</td>\n",
       "      <td>2686</td>\n",
       "      <td>1,068.119</td>\n",
       "      <td>0.398</td>\n",
       "    </tr>\n",
       "  </tbody>\n",
       "</table>\n",
       "</div>"
      ],
      "text/plain": [
       "                    source  user_id      cost   cac\n",
       "0            yandex_direct     4817 2,233.111 0.464\n",
       "1    instagram_new_adverts     3347 2,161.442 0.646\n",
       "2             facebook_ads     2726 2,140.905 0.785\n",
       "3  youtube_channel_reklama     2686 1,068.119 0.398"
      ]
     },
     "metadata": {},
     "output_type": "display_data"
    },
    {
     "name": "stdout",
     "output_type": "stream",
     "text": [
      "Средний CAC: 0.57\n"
     ]
    }
   ],
   "source": [
    "display(cac)\n",
    "cac_mean = round(cac['cac'].mean(),2)\n",
    "print('Средний CAC:',cac_mean)"
   ]
  },
  {
   "cell_type": "markdown",
   "metadata": {},
   "source": [
    "Теперь посмотрим на среднее количество построек возводимых игроками, выделив, также средние по самому \"дорогому\" и самому \"дешевому\" каналу."
   ]
  },
  {
   "cell_type": "code",
   "execution_count": 39,
   "metadata": {},
   "outputs": [
    {
     "name": "stdout",
     "output_type": "stream",
     "text": [
      "Среднее кол-во построек на одного игрока пришедшего из youtube_channel_reklama: 9.3\n",
      "Среднее кол-во построек на одного игрока пришедшего из facebook_ads: 9.59\n",
      "Среднее кол-во построек на одного игрока: 9.43\n"
     ]
    }
   ],
   "source": [
    "traffic_buildings = events.merge(traffic, on ='user_id', how='left')\n",
    "user_buildings = traffic_buildings.query('event == \"building\"').groupby('user_id')['event'].count().reset_index()\n",
    "\n",
    "avg_buildings_youtube = round(traffic_buildings.query('event==\"building\" and source==\"youtube_channel_reklama\"').groupby('user_id').agg({'building_type':'count'}).mean(),2)\n",
    "avg_buildings_facebook = round(traffic_buildings.query('event==\"building\" and source==\"facebook_ads\"').groupby('user_id').agg({'building_type':'count'}).mean(),2)\n",
    "avg_buildings = round(events.query('event==\"building\"').groupby('user_id').agg({'building_type': 'count'}).mean(),2)\n",
    "\n",
    "print('Среднее кол-во построек на одного игрока пришедшего из youtube_channel_reklama:',avg_buildings_youtube['building_type'])\n",
    "print('Среднее кол-во построек на одного игрока пришедшего из facebook_ads:',avg_buildings_facebook['building_type'])\n",
    "print('Среднее кол-во построек на одного игрока:',avg_buildings['building_type'])\n"
   ]
  },
  {
   "cell_type": "markdown",
   "metadata": {},
   "source": [
    "Соответственно, чтобы выйти на уровень окупаемости цена показа одного баннера в окне постройки должна быть не менее:"
   ]
  },
  {
   "cell_type": "code",
   "execution_count": 40,
   "metadata": {
    "scrolled": true
   },
   "outputs": [
    {
     "name": "stdout",
     "output_type": "stream",
     "text": [
      "Минимальная цена показа одного баннера для среднего игрока: 0.061\n",
      "Минимальный цена показа одного баннера для самого дорогого среднего игрока (из facebook_ads): 0.082\n"
     ]
    }
   ],
   "source": [
    "print('Минимальная цена показа одного баннера для среднего игрока:',round(cac['cac'].mean()/avg_buildings['building_type'],3))\n",
    "\n",
    "print('Минимальный цена показа одного баннера для самого дорогого среднего игрока (из facebook_ads):',\n",
    "      round(0.790/avg_buildings_facebook['building_type'],3))"
   ]
  },
  {
   "cell_type": "markdown",
   "metadata": {},
   "source": [
    "Заказчик сообщил, что реальная цена показа баннера состовляет 0.07. Увеличим расчетную цену показа баннера, чтобы покрыть вероятный отток после появления рекламы в игре, приняв ее за 0.1. \n",
    "\n",
    "Посчитаем, сколько показов рекламы при выбранной цене необходимо сделать, чтобы покрыть стоимость привлечения игрока. "
   ]
  },
  {
   "cell_type": "code",
   "execution_count": 41,
   "metadata": {},
   "outputs": [
    {
     "name": "stdout",
     "output_type": "stream",
     "text": [
      "Необходимый минимум показов баннера на игрока для окупаемости привлечения в среднем: 6 раз\n"
     ]
    }
   ],
   "source": [
    "price_show = 0.1\n",
    "print('Необходимый минимум показов баннера на игрока для окупаемости привлечения в среднем:',m.ceil((cac_mean/price_show)), 'раз')"
   ]
  },
  {
   "cell_type": "markdown",
   "metadata": {},
   "source": [
    "Посчитаем выручку от показов баннера, если начать показы, начиная с постройки второго здания (не отпугивая игроков на первой постройке)."
   ]
  },
  {
   "cell_type": "code",
   "execution_count": 42,
   "metadata": {
    "scrolled": false
   },
   "outputs": [
    {
     "name": "stdout",
     "output_type": "stream",
     "text": [
      "При показах рекламы, начиная со второй постройки зданий, месячный доход может составить: 11438\n",
      "Суммарные затраты на рекламу составили: 7603\n",
      "Возможная выручка модели: 50.4 %\n"
     ]
    }
   ],
   "source": [
    "user_buildings['income'] = (user_buildings['event'] - 1) * price_show\n",
    "# user_buildings.head(10)\n",
    "\n",
    "print('При показах рекламы, начиная со второй постройки зданий, месячный доход может составить:',\n",
    "      user_buildings['income'].sum().astype('int'))\n",
    "\n",
    "print('Суммарные затраты на рекламу составили:',cac['cost'].sum().astype('int'))\n",
    "\n",
    "print( 'Возможная выручка модели:',\n",
    "      ((user_buildings['income'].sum().astype('int') - cac['cost'].sum().astype('int'))/cac['cost'].sum().astype('int')).round(3)*100, '%')"
   ]
  },
  {
   "cell_type": "markdown",
   "metadata": {},
   "source": [
    "Повторим расчеты при условии, что цена баннера не будет увеличена."
   ]
  },
  {
   "cell_type": "code",
   "execution_count": 43,
   "metadata": {},
   "outputs": [
    {
     "name": "stdout",
     "output_type": "stream",
     "text": [
      "При показах рекламы, начиная со второй постройки зданий, месячный доход может составить: 8006\n",
      "Суммарные затраты на рекламу составили: 7603\n",
      "Возможная выручка модели: 5.3 %\n"
     ]
    }
   ],
   "source": [
    "price_show = 0.07\n",
    "user_buildings['income'] = (user_buildings['event'] -1) * price_show\n",
    "\n",
    "print('При показах рекламы, начиная со второй постройки зданий, месячный доход может составить:',\n",
    "      user_buildings['income'].sum().astype('int'))\n",
    "\n",
    "print('Суммарные затраты на рекламу составили:',cac['cost'].sum().astype('int'))\n",
    "\n",
    "print( 'Возможная выручка модели:',\n",
    "      ((user_buildings['income'].sum().astype('int') - cac['cost'].sum().astype('int'))/cac['cost'].sum().astype('int')).round(3)*100, '%')"
   ]
  },
  {
   "cell_type": "code",
   "execution_count": 44,
   "metadata": {
    "scrolled": false
   },
   "outputs": [
    {
     "data": {
      "image/png": "[encoded data removed]",
      "text/plain": [
       "<Figure size 1008x504 with 1 Axes>"
      ]
     },
     "metadata": {},
     "output_type": "display_data"
    }
   ],
   "source": [
    "plt.figure(figsize=(14,7))\n",
    "user_buildings['income'].hist(bins=9)\n",
    "plt.title('Распределение выручки от показов баннера по игрокам', fontsize='14')\n",
    "plt.xlabel('Выручка')\n",
    "plt.ylabel('Кол-во игроков')\n",
    "plt.show()"
   ]
  },
  {
   "cell_type": "markdown",
   "metadata": {},
   "source": [
    "При такой модели монетизации доход от показов баннера также покрывает рекламу, однако, вероятный отток из-за введения рекламы, наверняка, приведет к убыткам."
   ]
  },
  {
   "cell_type": "markdown",
   "metadata": {},
   "source": [
    "Повторим расчеты при условии, что цена баннера будет увеличена до 0.1, а показы баннера будут происходить только в двух случаях открытия экрана постройки зданий из трех."
   ]
  },
  {
   "cell_type": "code",
   "execution_count": 45,
   "metadata": {},
   "outputs": [
    {
     "name": "stdout",
     "output_type": "stream",
     "text": [
      "При показах рекламы в 2/3 случаев постройки месячный доход может составить: 8530\n",
      "Суммарные затраты на рекламу составили: 7603\n",
      "Возможная выручка модели: 12.2 %\n"
     ]
    }
   ],
   "source": [
    "price_show = 0.1\n",
    "user_buildings['income'] = (user_buildings['event'] * (2/3)) * price_show\n",
    "\n",
    "print('При показах рекламы в 2/3 случаев постройки месячный доход может составить:',\n",
    "      user_buildings['income'].sum().astype('int'))\n",
    "\n",
    "print('Суммарные затраты на рекламу составили:',cac['cost'].sum().astype('int'))\n",
    "\n",
    "print( 'Возможная выручка модели:',\n",
    "      ((user_buildings['income'].sum().astype('int') - cac['cost'].sum().astype('int'))/cac['cost'].sum().astype('int')).round(3)*100, '%')"
   ]
  },
  {
   "cell_type": "markdown",
   "metadata": {},
   "source": [
    "### Вывод\n",
    "\n",
    "Мы рассмотрели три возможных модели монетизации исходя из разной цены рекламного баннера и количества показов на экране постройки зданий:\n",
    "\n",
    "* Наиболее выгодной выглядит третья модель, в которой цена рекламного баннера увеличена до 0.1, а показы происходят лишь в 2х из трех случаях постройки зданий. Такая модель минимизирует отток из-за рекламы, полностью окупает рекламные расходы и могла бы принести выручку до 12% (8530) от игроков первой когорты. Однако, согласно уточненным условиям, мы не можем менять стоимость рекламы. Модель отвергается.\n",
    "\n",
    "* При текущей цене за баннер (0.07) и показах начиная со второй постройки здания, расходы на привлечение игроков окупились бы только при сохранении текущего оттока (что выглядит маловероятным), выручка составила бы до 5.3 % (8006). Прелагаем взять на вооружение данную модель, но также разработать стратегии сокращения возможного оттока и добавить дополнительные способы монетизации, такие как прямая покупка игровой валюты, платный уход от рекламы и др."
   ]
  },
  {
   "cell_type": "markdown",
   "metadata": {},
   "source": [
    "<a id=\"summary\"></a>\n",
    "## 7. Общий вывод и рекомендации"
   ]
  },
  {
   "cell_type": "markdown",
   "metadata": {},
   "source": [
    "Данные об игре были открыты и изучены:\n",
    "* В таблице events 135640 записей\n",
    "* В таблице costs 28 записей\n",
    "* В таблице traffic 13576 записей.\n",
    "\n",
    "Была произведена предобработка данных:\n",
    "* Избавились от дубликатов\n",
    "* Типы данных с колонками дат приведены к корректным\n",
    "* Обнаружены пропуски, не требующие заполнения.\n",
    "\n",
    "Произведен исследовательский анализ данных. Рассмотрены основные характеристики датасетов. Мы увидели, что:\n",
    "* период логирования действий игроков охватывает с 4 мая по 5 июня 2020 г. Уникальных пользователей 13576. \n",
    "* данные о рекламной кампании имеются за период c 3 мая по 9 мая.\n",
    "* средние затраты составили 271. Разброс затрат большой: от 23 до 969, разброс подтверждается также высоким стандартным отклонением (286).\n",
    "* данные по исчточнику траффика имеются по всем (13576) уникальным пользователм датасета. Всего 4 источника.\n",
    "\n",
    "Показано рапределение типов событий\n",
    "* 128 тыс. (около 94%) событий приходится на строительство зданий, 5817 (около 4.5%) событий на факт прохождения первого уровеня, только 1866 (около 1.5%) событий на факт реализации проекта.\n",
    "* около 43% среди всех пользователей прошли первый уровень, из них около 32% прошли его через реализацию проекта. Соответственно, среди прошедших первый уровень остальные две трети игроков выбрали военный путь достижения цели.\n",
    "\n",
    "Показано рапределение типа построек\n",
    "* 59 тыс. построек (около 46%) приходится на spaceport, 54 тыс. (около 43%) на assembly_shop и только 14 тыс. (около 11%) на research_center.\n",
    "\n",
    "Рассмотрена ежедневная активность пользователей (DAU) в разрезе источников траффика:\n",
    "* В первую неделю наблюдается рост активности по всем каналам в связи с рекламной кампанией. После 10 мая по ее завершению виден резкий спад активности, продолжающийся вплоть до конца периода исследования, что быть связано с прохождением первого уровня, который к 25 маю почти все пользователи преодолели, либо забросили игру.\n",
    "* Наибольшая активность видна среди пользователей пришедших из канала yandex_direct, на втором месте из instagram. \n",
    "* Активность траффика из остальных каналов примерно одинакова.\n",
    "\n",
    "Было оценено удержание пользователей (Retention Rate):\n",
    "* На третьей неделе средний Retention Rate по когортам составил уже 44%, а затем резко уменьшается до 6%. \n",
    "* Вероятно, спад связан с прохождением уровня у одних пользователей и отсутствием дальнейшего интереса у других. \n",
    "* Когорта от 5 мая ведет себя лучше других, особенно это заметно на 2-ю неделю жизни.\n",
    "\n",
    "Была оценена CAC (стоимость привлечения клиента)\n",
    "* Общие затраты на рекламу составили около 3300 в первый день, а затем снижались вплоть до 152 в последний день периода. При этом затраты по каналу yandex_direct всегда немного опережали другие каналы. Меьшего всего (во всем периоде) было потрачено на рекламу по youtube_channel_reklama.\n",
    "* Наименьший CAC (0.4) получился у канала youtube_channel_reklama. Самым дорогим оказался facebook_ads (0.79) - стоит провести дополнительное исследование по вопросу перераспределения средств на маркетинг.\n",
    "\n",
    "Произведена оценка влияния событий на завершение первого уровня.\n",
    "* в среднем, игроки-строители проводят в игре на 2.6 дня больше, чем игроки-воины (13 дней против 10.6 дней). Можно сказать, что игроки-строители - наиболее ценные пользователи с точки зрения удержания и монетизации. \n",
    "* также мы выяснили, что среднее время до оттока у остальных игроков - 9.3 дня. Вероятно, этим игрокам надоедает процесс строительства, возможно для них особенно актуален был бы платный ускоритель развития.\n",
    "\n",
    "Осуществлена проверка гипотез:\n",
    "* есть статистически значимое различие по времени прохождения уровня между пользователями, которые заканчивают уровень через реализацию проекта, и пользователями, которые заканчивают уровень победой над другим игроком. \n",
    "* нет статистически значимой разницы по времени прохождения уровня между пользователями, пришедшими из разных источников траффика\n",
    "* поскольку стратегия pvp явно популярнее среди игроков, возникает игровой дисбаланс, который в конечном счете может привести к  потерям прибыли. Рекомендуем геймдизайнерам по возможности сократить дисбаланс в выборе стратегий победы.\n",
    "\n",
    "Рассмотрены несколько вариантов модели монетизации исходя из разной цены рекламного баннера и количества показов на экране постройки зданий:\n",
    "* Наиболее выгодной выглядит третья модель, в которой цена рекламного баннера увеличена до 0.1, а показы происходят лишь в 2х из трех случаях постройки зданий. Такая модель минимизирует отток из-за рекламы, полностью окупает рекламные расходы и могла бы принести выручку до 12% (8530) от игроков первой когорты.\n",
    "* При текущей цене за баннер (0.07) и показах начиная со второй постройки здания, расходы на привлечение игроков окупились бы только при сохранении текущего оттока (что выглядит маловероятным), выручка составила бы до 5.3 % (8006)."
   ]
  },
  {
   "cell_type": "markdown",
   "metadata": {},
   "source": [
    "**Рекомендации:**\n",
    "\n",
    "* Среди игроков 57% не добрались до конца первого уровня. Рекомендуем добавить возмоность покупки ускорителей развития за игровую валюту, а также уникальный контент для повышения интереса к игре у таких игроков.\n",
    "* Наиболее ценными игроками с точки зрения монетизации являются игроки-строители, так как они проводят в среднем на 2.6 дней больше времени в игре. В то же время таких игроков в 2 раза меньше, чем игроков-воинов. Рекомендуем стимулировать игроков больше строить и меньше воевать, например, увеличив сложность через победу над другими игроками при минимальном количестве построек, а также предоставляя игровой бонус через победу засчет проекта.\n",
    "* Среди рекламных источников самым эффективным с точки зрения затрат (CAC) можно считать youtube_channel_reklama  (0.4 в среднем за игрока), а самым дорогим -facebook_ads (0.78 в среднем за игрока). Рекомендуем уменьшить затраты по каналу facebook_ads и увеличить по каналу youtube_channel_reklama.\n",
    "* Рекомендуемая модель монетизации: при текущей цене за баннер (0.07) и показах начиная со второй постройки здания, расходы на привлечение игроков окупились бы только при сохранении текущего оттока, выручка составила бы до 5.3 % (8006), однако, с учетом невозможности изменения цены баннера, прелагаем взять на вооружение данную модель, но также разработать стратегии сокращения возможного оттока и рассмотреть дополнительные способы монетизации.\n",
    "* Дополнительно стоит рассмотреть возможность показов рекламы на других экранах, а также показывать дорогую видео-рекламу при завершении уровня.\n",
    "* Кроме того, нужно предусмотреть возможность платного отключения рекламы. Это повысит монетизацию и может понизить отток самых увлеченных игроков.\n",
    "* По предложенным обновлениям рекомендуем провести A/B тесты прежде, чем реализовывать их для всех игроков."
   ]
  },
  {
   "cell_type": "markdown",
   "metadata": {},
   "source": [
    "<a id=\"summary2\"></a>\n",
    "## 7. Дашборд и презентация"
   ]
  },
  {
   "cell_type": "markdown",
   "metadata": {},
   "source": [
    "**Дашборд**\n",
    "\n",
    "https://public.tableau.com/views/final_project_game/Dashboard1?:language=en-US&publish=yes&:display_count=n&:origin=viz_share_link"
   ]
  },
  {
   "cell_type": "markdown",
   "metadata": {},
   "source": [
    "**Презентация**\n",
    "\n",
    "https://disk.yandex.ru/i/THpHHOcdKu2oTw"
   ]
  }
 ],
 "metadata": {
  "ExecuteTimeLog": [
   {
    "duration": 177,
    "start_time": "2022-04-29T13:47:30.716Z"
   },
   {
    "duration": 1445,
    "start_time": "2022-04-29T15:41:21.802Z"
   },
   {
    "duration": 188,
    "start_time": "2022-04-29T15:49:34.866Z"
   },
   {
    "duration": 1166,
    "start_time": "2022-04-29T15:58:41.739Z"
   },
   {
    "duration": 364,
    "start_time": "2022-04-29T15:58:53.136Z"
   },
   {
    "duration": 344,
    "start_time": "2022-04-29T15:58:57.861Z"
   },
   {
    "duration": 297,
    "start_time": "2022-04-29T16:10:12.741Z"
   },
   {
    "duration": 219,
    "start_time": "2022-04-29T16:10:22.952Z"
   },
   {
    "duration": 363,
    "start_time": "2022-04-29T16:12:30.876Z"
   },
   {
    "duration": 217,
    "start_time": "2022-04-29T16:13:22.970Z"
   },
   {
    "duration": 237,
    "start_time": "2022-04-29T16:13:29.465Z"
   },
   {
    "duration": 239,
    "start_time": "2022-04-29T16:13:42.854Z"
   },
   {
    "duration": 618,
    "start_time": "2022-04-29T16:21:51.968Z"
   },
   {
    "duration": 363,
    "start_time": "2022-04-29T16:21:58.908Z"
   },
   {
    "duration": 398,
    "start_time": "2022-04-29T16:22:20.557Z"
   },
   {
    "duration": 355,
    "start_time": "2022-04-29T16:22:27.053Z"
   },
   {
    "duration": 246,
    "start_time": "2022-04-29T16:24:02.852Z"
   },
   {
    "duration": 72,
    "start_time": "2022-04-29T16:26:00.463Z"
   },
   {
    "duration": 16,
    "start_time": "2022-04-29T16:26:23.973Z"
   },
   {
    "duration": 15,
    "start_time": "2022-04-29T16:26:34.017Z"
   },
   {
    "duration": 39,
    "start_time": "2022-04-29T16:26:46.857Z"
   },
   {
    "duration": 66,
    "start_time": "2022-04-29T16:26:58.718Z"
   },
   {
    "duration": 72,
    "start_time": "2022-04-29T16:27:22.177Z"
   },
   {
    "duration": 18,
    "start_time": "2022-04-29T16:36:04.553Z"
   },
   {
    "duration": 17,
    "start_time": "2022-04-29T16:36:40.090Z"
   },
   {
    "duration": 206,
    "start_time": "2022-04-29T16:54:35.704Z"
   },
   {
    "duration": 8,
    "start_time": "2022-04-29T16:56:15.870Z"
   },
   {
    "duration": 177,
    "start_time": "2022-04-29T16:58:12.568Z"
   },
   {
    "duration": 9,
    "start_time": "2022-04-29T16:58:17.911Z"
   },
   {
    "duration": 108,
    "start_time": "2022-04-29T16:58:49.668Z"
   },
   {
    "duration": 125,
    "start_time": "2022-04-29T16:59:09.605Z"
   },
   {
    "duration": 80,
    "start_time": "2022-04-29T16:59:56.849Z"
   },
   {
    "duration": 8,
    "start_time": "2022-04-29T17:00:29.183Z"
   },
   {
    "duration": 74,
    "start_time": "2022-04-29T17:00:42.950Z"
   },
   {
    "duration": 13,
    "start_time": "2022-04-29T17:04:43.807Z"
   },
   {
    "duration": 15,
    "start_time": "2022-04-29T17:04:51.339Z"
   },
   {
    "duration": 16,
    "start_time": "2022-04-29T17:05:09.387Z"
   },
   {
    "duration": 40,
    "start_time": "2022-04-29T17:06:21.812Z"
   },
   {
    "duration": 152,
    "start_time": "2022-04-29T17:07:22.062Z"
   },
   {
    "duration": 39,
    "start_time": "2022-04-29T17:07:27.211Z"
   },
   {
    "duration": 38,
    "start_time": "2022-04-29T17:07:37.511Z"
   },
   {
    "duration": 40,
    "start_time": "2022-04-29T17:07:43.202Z"
   },
   {
    "duration": 39,
    "start_time": "2022-04-29T17:07:56.167Z"
   },
   {
    "duration": 4,
    "start_time": "2022-04-29T17:13:53.763Z"
   },
   {
    "duration": 356,
    "start_time": "2022-04-29T17:13:53.774Z"
   },
   {
    "duration": 41,
    "start_time": "2022-04-29T17:13:54.131Z"
   },
   {
    "duration": 14,
    "start_time": "2022-04-29T17:13:54.173Z"
   },
   {
    "duration": 43,
    "start_time": "2022-04-29T17:13:54.190Z"
   },
   {
    "duration": 129,
    "start_time": "2022-04-29T17:13:54.235Z"
   },
   {
    "duration": 41,
    "start_time": "2022-04-29T17:13:54.366Z"
   },
   {
    "duration": 2981,
    "start_time": "2022-04-29T17:19:11.038Z"
   },
   {
    "duration": 2865,
    "start_time": "2022-04-29T17:19:32.058Z"
   },
   {
    "duration": 22,
    "start_time": "2022-04-29T17:19:42.330Z"
   },
   {
    "duration": 25,
    "start_time": "2022-04-29T17:49:41.370Z"
   },
   {
    "duration": 32,
    "start_time": "2022-04-29T17:50:48.573Z"
   },
   {
    "duration": 15,
    "start_time": "2022-04-29T17:51:24.920Z"
   },
   {
    "duration": 19,
    "start_time": "2022-04-29T17:51:30.749Z"
   },
   {
    "duration": 2758,
    "start_time": "2022-04-29T17:51:58.387Z"
   },
   {
    "duration": 2958,
    "start_time": "2022-04-29T17:52:08.697Z"
   },
   {
    "duration": 27,
    "start_time": "2022-04-29T17:52:18.871Z"
   },
   {
    "duration": 2725,
    "start_time": "2022-04-29T17:52:49.025Z"
   },
   {
    "duration": 20,
    "start_time": "2022-04-29T17:52:56.849Z"
   },
   {
    "duration": 24,
    "start_time": "2022-04-29T17:53:28.797Z"
   },
   {
    "duration": 22,
    "start_time": "2022-04-29T17:53:42.217Z"
   },
   {
    "duration": 17,
    "start_time": "2022-04-29T17:54:58.360Z"
   },
   {
    "duration": 17,
    "start_time": "2022-04-29T17:55:27.381Z"
   },
   {
    "duration": 18,
    "start_time": "2022-04-29T17:56:36.576Z"
   },
   {
    "duration": 13,
    "start_time": "2022-04-29T17:56:50.945Z"
   },
   {
    "duration": 12,
    "start_time": "2022-04-29T17:57:20.402Z"
   },
   {
    "duration": 19,
    "start_time": "2022-04-29T18:00:23.957Z"
   },
   {
    "duration": 23,
    "start_time": "2022-04-29T18:00:36.968Z"
   },
   {
    "duration": 24,
    "start_time": "2022-04-29T18:00:59.385Z"
   },
   {
    "duration": 32,
    "start_time": "2022-04-29T18:01:02.338Z"
   },
   {
    "duration": 168,
    "start_time": "2022-04-29T18:08:13.799Z"
   },
   {
    "duration": 76,
    "start_time": "2022-04-29T18:11:21.742Z"
   },
   {
    "duration": 69,
    "start_time": "2022-04-29T18:11:29.855Z"
   },
   {
    "duration": 141,
    "start_time": "2022-04-29T18:11:37.388Z"
   },
   {
    "duration": 89,
    "start_time": "2022-04-29T18:11:45.181Z"
   },
   {
    "duration": 42,
    "start_time": "2022-04-29T18:13:07.551Z"
   },
   {
    "duration": 13,
    "start_time": "2022-04-29T18:13:18.452Z"
   },
   {
    "duration": 43,
    "start_time": "2022-04-29T18:13:57.357Z"
   },
   {
    "duration": 57,
    "start_time": "2022-04-29T18:14:18.666Z"
   },
   {
    "duration": 45,
    "start_time": "2022-04-29T18:14:51.997Z"
   },
   {
    "duration": 75,
    "start_time": "2022-04-29T18:14:59.424Z"
   },
   {
    "duration": 5,
    "start_time": "2022-04-29T18:15:03.290Z"
   },
   {
    "duration": 245,
    "start_time": "2022-04-29T18:15:03.301Z"
   },
   {
    "duration": 67,
    "start_time": "2022-04-29T18:15:03.548Z"
   },
   {
    "duration": 21,
    "start_time": "2022-04-29T18:15:03.617Z"
   },
   {
    "duration": 16,
    "start_time": "2022-04-29T18:15:03.641Z"
   },
   {
    "duration": 96,
    "start_time": "2022-04-29T18:15:03.659Z"
   },
   {
    "duration": 22,
    "start_time": "2022-04-29T18:15:03.757Z"
   },
   {
    "duration": 32,
    "start_time": "2022-04-29T18:15:03.781Z"
   },
   {
    "duration": 86,
    "start_time": "2022-04-29T18:15:03.815Z"
   },
   {
    "duration": 71,
    "start_time": "2022-04-29T18:15:05.981Z"
   },
   {
    "duration": 19,
    "start_time": "2022-04-29T18:15:23.043Z"
   },
   {
    "duration": 0,
    "start_time": "2022-04-29T18:15:23.064Z"
   },
   {
    "duration": 1567,
    "start_time": "2022-04-29T18:15:40.422Z"
   },
   {
    "duration": 455,
    "start_time": "2022-04-29T18:15:41.991Z"
   },
   {
    "duration": 44,
    "start_time": "2022-04-29T18:15:42.448Z"
   },
   {
    "duration": 16,
    "start_time": "2022-04-29T18:15:42.494Z"
   },
   {
    "duration": 21,
    "start_time": "2022-04-29T18:15:42.511Z"
   },
   {
    "duration": 103,
    "start_time": "2022-04-29T18:15:42.533Z"
   },
   {
    "duration": 38,
    "start_time": "2022-04-29T18:15:42.638Z"
   },
   {
    "duration": 43,
    "start_time": "2022-04-29T18:15:42.678Z"
   },
   {
    "duration": 98,
    "start_time": "2022-04-29T18:15:42.722Z"
   },
   {
    "duration": 86,
    "start_time": "2022-04-29T18:15:42.822Z"
   },
   {
    "duration": 3,
    "start_time": "2022-04-29T18:15:42.910Z"
   },
   {
    "duration": 30,
    "start_time": "2022-04-29T18:16:21.253Z"
   },
   {
    "duration": 11,
    "start_time": "2022-04-29T18:16:23.276Z"
   },
   {
    "duration": 35,
    "start_time": "2022-04-29T18:17:10.096Z"
   },
   {
    "duration": 24,
    "start_time": "2022-04-29T18:17:14.854Z"
   },
   {
    "duration": 89,
    "start_time": "2022-04-29T18:20:24.375Z"
   },
   {
    "duration": 12,
    "start_time": "2022-04-29T18:21:32.220Z"
   },
   {
    "duration": 31,
    "start_time": "2022-04-29T18:21:47.555Z"
   },
   {
    "duration": 7,
    "start_time": "2022-05-01T09:17:54.464Z"
   },
   {
    "duration": 9,
    "start_time": "2022-05-01T09:18:02.148Z"
   },
   {
    "duration": 1573,
    "start_time": "2022-05-01T09:18:11.035Z"
   },
   {
    "duration": 1388,
    "start_time": "2022-05-01T09:18:12.610Z"
   },
   {
    "duration": 77,
    "start_time": "2022-05-01T09:18:14.000Z"
   },
   {
    "duration": 16,
    "start_time": "2022-05-01T09:18:14.079Z"
   },
   {
    "duration": 17,
    "start_time": "2022-05-01T09:18:14.097Z"
   },
   {
    "duration": 99,
    "start_time": "2022-05-01T09:18:14.116Z"
   },
   {
    "duration": 41,
    "start_time": "2022-05-01T09:18:14.227Z"
   },
   {
    "duration": 22,
    "start_time": "2022-05-01T09:18:14.270Z"
   },
   {
    "duration": 109,
    "start_time": "2022-05-01T09:18:14.294Z"
   },
   {
    "duration": 101,
    "start_time": "2022-05-01T09:18:14.405Z"
   },
   {
    "duration": 39,
    "start_time": "2022-05-01T09:18:14.508Z"
   },
   {
    "duration": 126,
    "start_time": "2022-05-01T09:18:14.549Z"
   },
   {
    "duration": 13,
    "start_time": "2022-05-01T09:18:14.677Z"
   },
   {
    "duration": 15,
    "start_time": "2022-05-01T09:18:14.692Z"
   },
   {
    "duration": 50,
    "start_time": "2022-05-01T09:18:14.709Z"
   },
   {
    "duration": 4,
    "start_time": "2022-05-01T09:19:55.001Z"
   },
   {
    "duration": 22,
    "start_time": "2022-05-01T09:31:29.254Z"
   },
   {
    "duration": 155,
    "start_time": "2022-05-01T09:34:02.289Z"
   },
   {
    "duration": 165,
    "start_time": "2022-05-01T09:37:35.105Z"
   },
   {
    "duration": 140,
    "start_time": "2022-05-01T09:37:53.393Z"
   },
   {
    "duration": 37,
    "start_time": "2022-05-01T09:38:20.837Z"
   },
   {
    "duration": 5765,
    "start_time": "2022-05-01T09:38:28.750Z"
   },
   {
    "duration": 196,
    "start_time": "2022-05-01T09:41:09.249Z"
   },
   {
    "duration": 193,
    "start_time": "2022-05-01T09:41:20.945Z"
   },
   {
    "duration": 720,
    "start_time": "2022-05-01T09:41:27.371Z"
   },
   {
    "duration": 590,
    "start_time": "2022-05-01T09:42:23.311Z"
   },
   {
    "duration": 172,
    "start_time": "2022-05-01T09:47:54.400Z"
   },
   {
    "duration": 219,
    "start_time": "2022-05-01T09:48:04.998Z"
   },
   {
    "duration": 175,
    "start_time": "2022-05-01T09:48:26.275Z"
   },
   {
    "duration": 160,
    "start_time": "2022-05-01T09:48:33.068Z"
   },
   {
    "duration": 213,
    "start_time": "2022-05-01T09:48:45.329Z"
   },
   {
    "duration": 4950,
    "start_time": "2022-05-01T09:48:57.089Z"
   },
   {
    "duration": 191,
    "start_time": "2022-05-01T09:52:26.338Z"
   },
   {
    "duration": 278,
    "start_time": "2022-05-01T09:52:54.790Z"
   },
   {
    "duration": 172,
    "start_time": "2022-05-01T09:54:37.558Z"
   },
   {
    "duration": 250,
    "start_time": "2022-05-01T09:54:43.884Z"
   },
   {
    "duration": 204,
    "start_time": "2022-05-01T09:54:50.452Z"
   },
   {
    "duration": 1550,
    "start_time": "2022-05-01T09:55:46.524Z"
   },
   {
    "duration": 150,
    "start_time": "2022-05-01T09:56:19.897Z"
   },
   {
    "duration": 1183,
    "start_time": "2022-05-01T09:56:35.427Z"
   },
   {
    "duration": 396,
    "start_time": "2022-05-01T10:00:56.961Z"
   },
   {
    "duration": 703,
    "start_time": "2022-05-01T10:01:07.469Z"
   },
   {
    "duration": 494,
    "start_time": "2022-05-01T10:02:08.399Z"
   },
   {
    "duration": 677,
    "start_time": "2022-05-01T10:02:34.272Z"
   },
   {
    "duration": 397,
    "start_time": "2022-05-01T10:02:58.899Z"
   },
   {
    "duration": 412,
    "start_time": "2022-05-01T10:03:32.358Z"
   },
   {
    "duration": 195,
    "start_time": "2022-05-01T10:03:55.583Z"
   },
   {
    "duration": 408,
    "start_time": "2022-05-01T10:04:01.641Z"
   },
   {
    "duration": 165,
    "start_time": "2022-05-01T10:29:00.655Z"
   },
   {
    "duration": 272,
    "start_time": "2022-05-01T10:29:31.604Z"
   },
   {
    "duration": 183,
    "start_time": "2022-05-01T10:29:48.419Z"
   },
   {
    "duration": 241,
    "start_time": "2022-05-01T10:31:00.465Z"
   },
   {
    "duration": 617,
    "start_time": "2022-05-01T10:31:06.157Z"
   },
   {
    "duration": 627,
    "start_time": "2022-05-01T10:31:45.525Z"
   },
   {
    "duration": 809,
    "start_time": "2022-05-01T10:31:51.983Z"
   },
   {
    "duration": 501,
    "start_time": "2022-05-01T10:33:43.782Z"
   },
   {
    "duration": 612,
    "start_time": "2022-05-01T10:34:04.850Z"
   },
   {
    "duration": 813,
    "start_time": "2022-05-01T10:34:20.302Z"
   },
   {
    "duration": 644,
    "start_time": "2022-05-01T10:35:05.271Z"
   },
   {
    "duration": 866,
    "start_time": "2022-05-01T10:35:10.392Z"
   },
   {
    "duration": 893,
    "start_time": "2022-05-01T10:36:02.785Z"
   },
   {
    "duration": 496,
    "start_time": "2022-05-01T10:36:24.554Z"
   },
   {
    "duration": 604,
    "start_time": "2022-05-01T10:36:45.917Z"
   },
   {
    "duration": 645,
    "start_time": "2022-05-01T10:37:15.378Z"
   },
   {
    "duration": 719,
    "start_time": "2022-05-01T10:37:36.478Z"
   },
   {
    "duration": 573,
    "start_time": "2022-05-01T10:38:07.464Z"
   },
   {
    "duration": 784,
    "start_time": "2022-05-01T10:38:18.747Z"
   },
   {
    "duration": 632,
    "start_time": "2022-05-01T10:38:34.064Z"
   },
   {
    "duration": 518,
    "start_time": "2022-05-01T10:39:05.717Z"
   },
   {
    "duration": 22482,
    "start_time": "2022-05-01T10:56:26.171Z"
   },
   {
    "duration": 23947,
    "start_time": "2022-05-01T10:57:09.607Z"
   },
   {
    "duration": 62,
    "start_time": "2022-05-01T10:57:36.680Z"
   },
   {
    "duration": 225,
    "start_time": "2022-05-01T10:57:47.136Z"
   },
   {
    "duration": 297,
    "start_time": "2022-05-01T10:57:59.386Z"
   },
   {
    "duration": 208,
    "start_time": "2022-05-01T10:58:06.779Z"
   },
   {
    "duration": 194,
    "start_time": "2022-05-01T10:58:42.535Z"
   },
   {
    "duration": 297,
    "start_time": "2022-05-01T10:58:51.588Z"
   },
   {
    "duration": 191,
    "start_time": "2022-05-01T10:58:56.681Z"
   },
   {
    "duration": 219,
    "start_time": "2022-05-01T11:00:04.011Z"
   },
   {
    "duration": 220,
    "start_time": "2022-05-01T11:01:58.231Z"
   },
   {
    "duration": 215,
    "start_time": "2022-05-01T11:02:04.426Z"
   },
   {
    "duration": 198,
    "start_time": "2022-05-01T11:02:58.671Z"
   },
   {
    "duration": 260,
    "start_time": "2022-05-01T11:04:10.169Z"
   },
   {
    "duration": 213,
    "start_time": "2022-05-01T11:04:17.347Z"
   },
   {
    "duration": 207,
    "start_time": "2022-05-01T11:07:11.187Z"
   },
   {
    "duration": 203,
    "start_time": "2022-05-01T11:07:17.760Z"
   },
   {
    "duration": 215,
    "start_time": "2022-05-01T11:09:07.497Z"
   },
   {
    "duration": 204,
    "start_time": "2022-05-01T11:09:56.624Z"
   },
   {
    "duration": 213,
    "start_time": "2022-05-01T11:10:08.761Z"
   },
   {
    "duration": 255,
    "start_time": "2022-05-01T11:13:04.631Z"
   },
   {
    "duration": 376,
    "start_time": "2022-05-01T11:13:15.366Z"
   },
   {
    "duration": 228,
    "start_time": "2022-05-01T11:13:17.853Z"
   },
   {
    "duration": 244,
    "start_time": "2022-05-01T11:14:20.624Z"
   },
   {
    "duration": 210,
    "start_time": "2022-05-01T11:14:35.543Z"
   },
   {
    "duration": 164,
    "start_time": "2022-05-01T11:14:49.314Z"
   },
   {
    "duration": 235,
    "start_time": "2022-05-01T11:14:54.627Z"
   },
   {
    "duration": 229,
    "start_time": "2022-05-01T11:14:59.493Z"
   },
   {
    "duration": 242,
    "start_time": "2022-05-01T11:15:12.515Z"
   },
   {
    "duration": 244,
    "start_time": "2022-05-01T11:16:38.612Z"
   },
   {
    "duration": 73,
    "start_time": "2022-05-01T11:20:57.225Z"
   },
   {
    "duration": 200,
    "start_time": "2022-05-01T11:21:09.553Z"
   },
   {
    "duration": 74,
    "start_time": "2022-05-01T11:21:11.787Z"
   },
   {
    "duration": 71,
    "start_time": "2022-05-01T11:21:47.088Z"
   },
   {
    "duration": 62,
    "start_time": "2022-05-01T11:22:00.856Z"
   },
   {
    "duration": 213,
    "start_time": "2022-05-01T11:22:22.117Z"
   },
   {
    "duration": 208,
    "start_time": "2022-05-01T11:22:31.750Z"
   },
   {
    "duration": 229,
    "start_time": "2022-05-01T11:24:01.846Z"
   },
   {
    "duration": 235,
    "start_time": "2022-05-01T11:29:27.018Z"
   },
   {
    "duration": 232,
    "start_time": "2022-05-01T11:37:05.242Z"
   },
   {
    "duration": 235,
    "start_time": "2022-05-01T11:41:11.885Z"
   },
   {
    "duration": 237,
    "start_time": "2022-05-01T11:44:19.032Z"
   },
   {
    "duration": 347,
    "start_time": "2022-05-01T11:44:38.798Z"
   },
   {
    "duration": 226,
    "start_time": "2022-05-01T11:45:22.963Z"
   },
   {
    "duration": 2717,
    "start_time": "2022-05-01T11:46:38.892Z"
   },
   {
    "duration": 2748,
    "start_time": "2022-05-01T11:46:57.833Z"
   },
   {
    "duration": 50,
    "start_time": "2022-05-01T11:47:11.529Z"
   },
   {
    "duration": 205,
    "start_time": "2022-05-01T11:47:38.419Z"
   },
   {
    "duration": 233,
    "start_time": "2022-05-01T11:48:01.614Z"
   },
   {
    "duration": 218,
    "start_time": "2022-05-01T11:48:20.785Z"
   },
   {
    "duration": 246,
    "start_time": "2022-05-01T11:48:39.121Z"
   },
   {
    "duration": 279,
    "start_time": "2022-05-01T11:49:05.792Z"
   },
   {
    "duration": 237,
    "start_time": "2022-05-01T11:50:49.653Z"
   },
   {
    "duration": 257,
    "start_time": "2022-05-01T11:55:19.604Z"
   },
   {
    "duration": 2634,
    "start_time": "2022-05-01T12:00:35.549Z"
   },
   {
    "duration": 2850,
    "start_time": "2022-05-01T12:00:45.673Z"
   },
   {
    "duration": 32,
    "start_time": "2022-05-01T12:01:01.144Z"
   },
   {
    "duration": 34,
    "start_time": "2022-05-01T12:01:25.085Z"
   },
   {
    "duration": 256,
    "start_time": "2022-05-01T12:01:58.238Z"
   },
   {
    "duration": 255,
    "start_time": "2022-05-01T12:02:14.505Z"
   },
   {
    "duration": 203,
    "start_time": "2022-05-01T12:03:14.231Z"
   },
   {
    "duration": 18,
    "start_time": "2022-05-01T12:22:23.854Z"
   },
   {
    "duration": 16,
    "start_time": "2022-05-01T12:22:45.674Z"
   },
   {
    "duration": 21,
    "start_time": "2022-05-01T12:24:35.868Z"
   },
   {
    "duration": 21,
    "start_time": "2022-05-01T12:24:51.667Z"
   },
   {
    "duration": 21,
    "start_time": "2022-05-01T12:26:24.698Z"
   },
   {
    "duration": 40,
    "start_time": "2022-05-01T12:26:58.158Z"
   },
   {
    "duration": 40,
    "start_time": "2022-05-01T12:27:28.074Z"
   },
   {
    "duration": 43,
    "start_time": "2022-05-01T12:28:32.077Z"
   },
   {
    "duration": 43,
    "start_time": "2022-05-01T12:28:43.659Z"
   },
   {
    "duration": 45,
    "start_time": "2022-05-01T12:28:59.367Z"
   },
   {
    "duration": 38,
    "start_time": "2022-05-01T12:29:28.175Z"
   },
   {
    "duration": 59,
    "start_time": "2022-05-01T12:30:24.130Z"
   },
   {
    "duration": 39,
    "start_time": "2022-05-01T12:30:51.771Z"
   },
   {
    "duration": 55,
    "start_time": "2022-05-01T12:31:06.037Z"
   },
   {
    "duration": 46,
    "start_time": "2022-05-01T12:31:16.955Z"
   },
   {
    "duration": 58,
    "start_time": "2022-05-01T12:31:39.654Z"
   },
   {
    "duration": 618,
    "start_time": "2022-05-01T12:35:18.598Z"
   },
   {
    "duration": 38,
    "start_time": "2022-05-01T12:35:23.078Z"
   },
   {
    "duration": 42,
    "start_time": "2022-05-01T12:35:30.086Z"
   },
   {
    "duration": 41,
    "start_time": "2022-05-01T12:35:38.161Z"
   },
   {
    "duration": 55,
    "start_time": "2022-05-01T12:35:54.219Z"
   },
   {
    "duration": 39,
    "start_time": "2022-05-01T12:36:05.154Z"
   },
   {
    "duration": 39,
    "start_time": "2022-05-01T12:36:21.467Z"
   },
   {
    "duration": 39,
    "start_time": "2022-05-01T12:36:24.863Z"
   },
   {
    "duration": 38,
    "start_time": "2022-05-01T12:36:50.698Z"
   },
   {
    "duration": 42,
    "start_time": "2022-05-01T12:36:59.843Z"
   },
   {
    "duration": 38,
    "start_time": "2022-05-01T12:37:04.264Z"
   },
   {
    "duration": 33,
    "start_time": "2022-05-01T12:38:00.333Z"
   },
   {
    "duration": 23,
    "start_time": "2022-05-01T12:38:06.028Z"
   },
   {
    "duration": 43,
    "start_time": "2022-05-01T12:38:58.925Z"
   },
   {
    "duration": 49,
    "start_time": "2022-05-01T12:39:50.592Z"
   },
   {
    "duration": 699,
    "start_time": "2022-05-01T12:45:14.654Z"
   },
   {
    "duration": 581,
    "start_time": "2022-05-01T12:45:42.209Z"
   },
   {
    "duration": 717,
    "start_time": "2022-05-01T12:46:20.633Z"
   },
   {
    "duration": 606,
    "start_time": "2022-05-01T12:46:48.937Z"
   },
   {
    "duration": 590,
    "start_time": "2022-05-01T12:46:59.278Z"
   },
   {
    "duration": 626,
    "start_time": "2022-05-01T12:47:12.017Z"
   },
   {
    "duration": 702,
    "start_time": "2022-05-01T12:47:29.468Z"
   },
   {
    "duration": 623,
    "start_time": "2022-05-01T12:48:20.860Z"
   },
   {
    "duration": 602,
    "start_time": "2022-05-01T12:48:48.909Z"
   },
   {
    "duration": 666,
    "start_time": "2022-05-01T12:49:10.131Z"
   },
   {
    "duration": 656,
    "start_time": "2022-05-01T12:49:26.336Z"
   },
   {
    "duration": 679,
    "start_time": "2022-05-01T12:49:42.664Z"
   },
   {
    "duration": 628,
    "start_time": "2022-05-01T12:52:18.578Z"
   },
   {
    "duration": 599,
    "start_time": "2022-05-01T12:52:33.538Z"
   },
   {
    "duration": 598,
    "start_time": "2022-05-01T14:13:55.466Z"
   },
   {
    "duration": 603,
    "start_time": "2022-05-01T14:14:12.053Z"
   },
   {
    "duration": 21,
    "start_time": "2022-05-01T14:18:29.276Z"
   },
   {
    "duration": 58,
    "start_time": "2022-05-01T14:22:31.626Z"
   },
   {
    "duration": 117,
    "start_time": "2022-05-01T14:22:40.408Z"
   },
   {
    "duration": 97,
    "start_time": "2022-05-01T14:23:14.590Z"
   },
   {
    "duration": 97,
    "start_time": "2022-05-01T14:23:27.713Z"
   },
   {
    "duration": 96,
    "start_time": "2022-05-01T14:23:37.928Z"
   },
   {
    "duration": 113,
    "start_time": "2022-05-01T14:24:30.375Z"
   },
   {
    "duration": 99,
    "start_time": "2022-05-01T14:24:41.766Z"
   },
   {
    "duration": 1350,
    "start_time": "2022-05-01T14:24:58.855Z"
   },
   {
    "duration": 1400,
    "start_time": "2022-05-01T14:25:00.207Z"
   },
   {
    "duration": 67,
    "start_time": "2022-05-01T14:25:01.609Z"
   },
   {
    "duration": 18,
    "start_time": "2022-05-01T14:25:01.679Z"
   },
   {
    "duration": 32,
    "start_time": "2022-05-01T14:25:01.699Z"
   },
   {
    "duration": 121,
    "start_time": "2022-05-01T14:25:01.733Z"
   },
   {
    "duration": 27,
    "start_time": "2022-05-01T14:25:01.857Z"
   },
   {
    "duration": 52,
    "start_time": "2022-05-01T14:25:01.886Z"
   },
   {
    "duration": 97,
    "start_time": "2022-05-01T14:25:01.942Z"
   },
   {
    "duration": 89,
    "start_time": "2022-05-01T14:25:02.043Z"
   },
   {
    "duration": 24,
    "start_time": "2022-05-01T14:25:02.134Z"
   },
   {
    "duration": 122,
    "start_time": "2022-05-01T14:25:02.160Z"
   },
   {
    "duration": 12,
    "start_time": "2022-05-01T14:25:02.284Z"
   },
   {
    "duration": 17,
    "start_time": "2022-05-01T14:25:02.298Z"
   },
   {
    "duration": 39,
    "start_time": "2022-05-01T14:25:02.323Z"
   },
   {
    "duration": 201,
    "start_time": "2022-05-01T14:25:02.364Z"
   },
   {
    "duration": 68,
    "start_time": "2022-05-01T14:25:02.567Z"
   },
   {
    "duration": 31,
    "start_time": "2022-05-01T14:25:02.637Z"
   },
   {
    "duration": 196,
    "start_time": "2022-05-01T14:25:02.670Z"
   },
   {
    "duration": 449,
    "start_time": "2022-05-01T14:25:02.868Z"
   },
   {
    "duration": 0,
    "start_time": "2022-05-01T14:25:03.319Z"
   },
   {
    "duration": 931,
    "start_time": "2022-05-01T14:25:21.144Z"
   },
   {
    "duration": 117,
    "start_time": "2022-05-01T14:25:26.513Z"
   },
   {
    "duration": 80,
    "start_time": "2022-05-01T14:26:45.450Z"
   },
   {
    "duration": 114,
    "start_time": "2022-05-01T14:26:52.368Z"
   },
   {
    "duration": 1347,
    "start_time": "2022-05-01T14:27:02.060Z"
   },
   {
    "duration": 281,
    "start_time": "2022-05-01T14:27:03.410Z"
   },
   {
    "duration": 67,
    "start_time": "2022-05-01T14:27:03.693Z"
   },
   {
    "duration": 19,
    "start_time": "2022-05-01T14:27:03.762Z"
   },
   {
    "duration": 18,
    "start_time": "2022-05-01T14:27:03.783Z"
   },
   {
    "duration": 131,
    "start_time": "2022-05-01T14:27:03.823Z"
   },
   {
    "duration": 25,
    "start_time": "2022-05-01T14:27:03.958Z"
   },
   {
    "duration": 23,
    "start_time": "2022-05-01T14:27:03.985Z"
   },
   {
    "duration": 106,
    "start_time": "2022-05-01T14:27:04.010Z"
   },
   {
    "duration": 87,
    "start_time": "2022-05-01T14:27:04.122Z"
   },
   {
    "duration": 27,
    "start_time": "2022-05-01T14:27:04.223Z"
   },
   {
    "duration": 135,
    "start_time": "2022-05-01T14:27:04.251Z"
   },
   {
    "duration": 14,
    "start_time": "2022-05-01T14:27:04.388Z"
   },
   {
    "duration": 20,
    "start_time": "2022-05-01T14:27:04.405Z"
   },
   {
    "duration": 41,
    "start_time": "2022-05-01T14:27:04.428Z"
   },
   {
    "duration": 181,
    "start_time": "2022-05-01T14:27:04.471Z"
   },
   {
    "duration": 40,
    "start_time": "2022-05-01T14:27:04.654Z"
   },
   {
    "duration": 44,
    "start_time": "2022-05-01T14:27:04.696Z"
   },
   {
    "duration": 210,
    "start_time": "2022-05-01T14:27:04.747Z"
   },
   {
    "duration": 713,
    "start_time": "2022-05-01T14:27:04.959Z"
   },
   {
    "duration": 126,
    "start_time": "2022-05-01T14:27:05.674Z"
   },
   {
    "duration": 176,
    "start_time": "2022-05-01T14:34:28.237Z"
   },
   {
    "duration": 182,
    "start_time": "2022-05-01T14:34:44.915Z"
   },
   {
    "duration": 18,
    "start_time": "2022-05-01T14:35:07.582Z"
   },
   {
    "duration": 17,
    "start_time": "2022-05-01T14:35:26.378Z"
   },
   {
    "duration": 29,
    "start_time": "2022-05-01T14:36:00.779Z"
   },
   {
    "duration": 24,
    "start_time": "2022-05-01T14:36:43.572Z"
   },
   {
    "duration": 3480,
    "start_time": "2022-05-01T14:38:15.829Z"
   },
   {
    "duration": 18,
    "start_time": "2022-05-01T14:38:37.745Z"
   },
   {
    "duration": 137,
    "start_time": "2022-05-01T14:40:25.130Z"
   },
   {
    "duration": 44,
    "start_time": "2022-05-01T14:40:57.793Z"
   },
   {
    "duration": 42,
    "start_time": "2022-05-01T14:41:26.505Z"
   },
   {
    "duration": 54,
    "start_time": "2022-05-01T14:41:31.939Z"
   },
   {
    "duration": 61,
    "start_time": "2022-05-01T14:42:07.930Z"
   },
   {
    "duration": 117,
    "start_time": "2022-05-01T14:43:18.260Z"
   },
   {
    "duration": 47,
    "start_time": "2022-05-01T14:44:59.633Z"
   },
   {
    "duration": 39,
    "start_time": "2022-05-01T14:45:59.869Z"
   },
   {
    "duration": 36,
    "start_time": "2022-05-01T14:46:20.574Z"
   },
   {
    "duration": 18,
    "start_time": "2022-05-01T14:48:47.176Z"
   },
   {
    "duration": 16,
    "start_time": "2022-05-01T14:48:56.885Z"
   },
   {
    "duration": 16,
    "start_time": "2022-05-01T14:49:07.113Z"
   },
   {
    "duration": 89,
    "start_time": "2022-05-01T14:49:17.277Z"
   },
   {
    "duration": 87,
    "start_time": "2022-05-01T14:50:26.264Z"
   },
   {
    "duration": 87,
    "start_time": "2022-05-01T14:52:55.206Z"
   },
   {
    "duration": 77,
    "start_time": "2022-05-01T14:53:26.822Z"
   },
   {
    "duration": 70,
    "start_time": "2022-05-01T14:53:32.267Z"
   },
   {
    "duration": 78,
    "start_time": "2022-05-01T14:54:37.637Z"
   },
   {
    "duration": 85,
    "start_time": "2022-05-01T14:54:44.222Z"
   },
   {
    "duration": 51,
    "start_time": "2022-05-01T14:56:06.092Z"
   },
   {
    "duration": 58,
    "start_time": "2022-05-01T14:57:59.843Z"
   },
   {
    "duration": 56,
    "start_time": "2022-05-01T15:01:36.826Z"
   },
   {
    "duration": 63,
    "start_time": "2022-05-01T15:01:57.568Z"
   },
   {
    "duration": 62,
    "start_time": "2022-05-01T15:02:03.550Z"
   },
   {
    "duration": 79,
    "start_time": "2022-05-01T15:03:38.180Z"
   },
   {
    "duration": 70,
    "start_time": "2022-05-01T15:04:34.638Z"
   },
   {
    "duration": 89,
    "start_time": "2022-05-01T15:05:02.742Z"
   },
   {
    "duration": 101,
    "start_time": "2022-05-01T15:05:09.954Z"
   },
   {
    "duration": 131,
    "start_time": "2022-05-01T15:06:09.045Z"
   },
   {
    "duration": 168,
    "start_time": "2022-05-01T15:06:15.217Z"
   },
   {
    "duration": 1377,
    "start_time": "2022-05-01T15:06:32.853Z"
   },
   {
    "duration": 271,
    "start_time": "2022-05-01T15:06:34.234Z"
   },
   {
    "duration": 68,
    "start_time": "2022-05-01T15:06:34.507Z"
   },
   {
    "duration": 16,
    "start_time": "2022-05-01T15:06:34.577Z"
   },
   {
    "duration": 33,
    "start_time": "2022-05-01T15:06:34.594Z"
   },
   {
    "duration": 98,
    "start_time": "2022-05-01T15:06:34.629Z"
   },
   {
    "duration": 37,
    "start_time": "2022-05-01T15:06:34.729Z"
   },
   {
    "duration": 20,
    "start_time": "2022-05-01T15:06:34.768Z"
   },
   {
    "duration": 125,
    "start_time": "2022-05-01T15:06:34.789Z"
   },
   {
    "duration": 85,
    "start_time": "2022-05-01T15:06:34.917Z"
   },
   {
    "duration": 30,
    "start_time": "2022-05-01T15:06:35.003Z"
   },
   {
    "duration": 128,
    "start_time": "2022-05-01T15:06:35.038Z"
   },
   {
    "duration": 13,
    "start_time": "2022-05-01T15:06:35.167Z"
   },
   {
    "duration": 8,
    "start_time": "2022-05-01T15:06:35.181Z"
   },
   {
    "duration": 56,
    "start_time": "2022-05-01T15:06:35.190Z"
   },
   {
    "duration": 153,
    "start_time": "2022-05-01T15:06:35.248Z"
   },
   {
    "duration": 60,
    "start_time": "2022-05-01T15:06:35.402Z"
   },
   {
    "duration": 33,
    "start_time": "2022-05-01T15:06:35.464Z"
   },
   {
    "duration": 211,
    "start_time": "2022-05-01T15:06:35.499Z"
   },
   {
    "duration": 730,
    "start_time": "2022-05-01T15:06:35.712Z"
   },
   {
    "duration": 151,
    "start_time": "2022-05-01T15:06:36.443Z"
   },
   {
    "duration": 71,
    "start_time": "2022-05-01T15:06:36.596Z"
   },
   {
    "duration": 170,
    "start_time": "2022-05-01T15:06:36.669Z"
   },
   {
    "duration": 5,
    "start_time": "2022-05-01T15:10:40.499Z"
   },
   {
    "duration": 304,
    "start_time": "2022-05-01T15:10:40.506Z"
   },
   {
    "duration": 66,
    "start_time": "2022-05-01T15:10:40.812Z"
   },
   {
    "duration": 21,
    "start_time": "2022-05-01T15:10:40.880Z"
   },
   {
    "duration": 47,
    "start_time": "2022-05-01T15:10:40.903Z"
   },
   {
    "duration": 101,
    "start_time": "2022-05-01T15:10:40.954Z"
   },
   {
    "duration": 27,
    "start_time": "2022-05-01T15:10:41.057Z"
   },
   {
    "duration": 45,
    "start_time": "2022-05-01T15:10:41.085Z"
   },
   {
    "duration": 90,
    "start_time": "2022-05-01T15:10:41.134Z"
   },
   {
    "duration": 86,
    "start_time": "2022-05-01T15:10:41.227Z"
   },
   {
    "duration": 22,
    "start_time": "2022-05-01T15:10:41.325Z"
   },
   {
    "duration": 131,
    "start_time": "2022-05-01T15:10:41.349Z"
   },
   {
    "duration": 14,
    "start_time": "2022-05-01T15:10:41.481Z"
   },
   {
    "duration": 16,
    "start_time": "2022-05-01T15:10:41.497Z"
   },
   {
    "duration": 40,
    "start_time": "2022-05-01T15:10:41.522Z"
   },
   {
    "duration": 211,
    "start_time": "2022-05-01T15:10:41.565Z"
   },
   {
    "duration": 58,
    "start_time": "2022-05-01T15:10:41.779Z"
   },
   {
    "duration": 41,
    "start_time": "2022-05-01T15:10:41.843Z"
   },
   {
    "duration": 212,
    "start_time": "2022-05-01T15:10:41.886Z"
   },
   {
    "duration": 690,
    "start_time": "2022-05-01T15:10:42.101Z"
   },
   {
    "duration": 113,
    "start_time": "2022-05-01T15:10:42.793Z"
   },
   {
    "duration": 97,
    "start_time": "2022-05-01T15:10:49.721Z"
   },
   {
    "duration": 51,
    "start_time": "2022-05-01T15:15:50.719Z"
   },
   {
    "duration": 145,
    "start_time": "2022-05-01T15:19:09.669Z"
   },
   {
    "duration": 66,
    "start_time": "2022-05-01T15:19:22.264Z"
   },
   {
    "duration": 102,
    "start_time": "2022-05-01T15:22:09.928Z"
   },
   {
    "duration": 67,
    "start_time": "2022-05-01T15:22:27.868Z"
   },
   {
    "duration": 76,
    "start_time": "2022-05-01T15:22:54.691Z"
   },
   {
    "duration": 4,
    "start_time": "2022-05-01T15:23:07.999Z"
   },
   {
    "duration": 310,
    "start_time": "2022-05-01T15:23:08.005Z"
   },
   {
    "duration": 67,
    "start_time": "2022-05-01T15:23:08.317Z"
   },
   {
    "duration": 17,
    "start_time": "2022-05-01T15:23:08.386Z"
   },
   {
    "duration": 35,
    "start_time": "2022-05-01T15:23:08.405Z"
   },
   {
    "duration": 115,
    "start_time": "2022-05-01T15:23:08.442Z"
   },
   {
    "duration": 28,
    "start_time": "2022-05-01T15:23:08.558Z"
   },
   {
    "duration": 51,
    "start_time": "2022-05-01T15:23:08.588Z"
   },
   {
    "duration": 100,
    "start_time": "2022-05-01T15:23:08.644Z"
   },
   {
    "duration": 83,
    "start_time": "2022-05-01T15:23:08.749Z"
   },
   {
    "duration": 30,
    "start_time": "2022-05-01T15:23:08.834Z"
   },
   {
    "duration": 128,
    "start_time": "2022-05-01T15:23:08.866Z"
   },
   {
    "duration": 13,
    "start_time": "2022-05-01T15:23:08.996Z"
   },
   {
    "duration": 24,
    "start_time": "2022-05-01T15:23:09.011Z"
   },
   {
    "duration": 35,
    "start_time": "2022-05-01T15:23:09.037Z"
   },
   {
    "duration": 195,
    "start_time": "2022-05-01T15:23:09.074Z"
   },
   {
    "duration": 38,
    "start_time": "2022-05-01T15:23:09.272Z"
   },
   {
    "duration": 48,
    "start_time": "2022-05-01T15:23:09.322Z"
   },
   {
    "duration": 283,
    "start_time": "2022-05-01T15:23:09.373Z"
   },
   {
    "duration": 888,
    "start_time": "2022-05-01T15:23:09.658Z"
   },
   {
    "duration": 157,
    "start_time": "2022-05-01T15:23:10.549Z"
   },
   {
    "duration": 152,
    "start_time": "2022-05-01T15:23:10.708Z"
   },
   {
    "duration": 78,
    "start_time": "2022-05-01T15:23:16.812Z"
   },
   {
    "duration": 68,
    "start_time": "2022-05-01T15:23:36.685Z"
   },
   {
    "duration": 68,
    "start_time": "2022-05-01T15:23:46.487Z"
   },
   {
    "duration": 96,
    "start_time": "2022-05-01T15:24:19.931Z"
   },
   {
    "duration": 58,
    "start_time": "2022-05-01T15:24:33.048Z"
   },
   {
    "duration": 1381,
    "start_time": "2022-05-01T15:24:42.295Z"
   },
   {
    "duration": 292,
    "start_time": "2022-05-01T15:24:43.678Z"
   },
   {
    "duration": 49,
    "start_time": "2022-05-01T15:24:43.972Z"
   },
   {
    "duration": 31,
    "start_time": "2022-05-01T15:24:44.023Z"
   },
   {
    "duration": 16,
    "start_time": "2022-05-01T15:24:44.057Z"
   },
   {
    "duration": 122,
    "start_time": "2022-05-01T15:24:44.075Z"
   },
   {
    "duration": 56,
    "start_time": "2022-05-01T15:24:44.200Z"
   },
   {
    "duration": 21,
    "start_time": "2022-05-01T15:24:44.257Z"
   },
   {
    "duration": 111,
    "start_time": "2022-05-01T15:24:44.279Z"
   },
   {
    "duration": 88,
    "start_time": "2022-05-01T15:24:44.392Z"
   },
   {
    "duration": 16,
    "start_time": "2022-05-01T15:24:44.481Z"
   },
   {
    "duration": 139,
    "start_time": "2022-05-01T15:24:44.499Z"
   },
   {
    "duration": 18,
    "start_time": "2022-05-01T15:24:44.641Z"
   },
   {
    "duration": 4,
    "start_time": "2022-05-01T15:24:44.661Z"
   },
   {
    "duration": 28,
    "start_time": "2022-05-01T15:24:44.666Z"
   },
   {
    "duration": 171,
    "start_time": "2022-05-01T15:24:44.695Z"
   },
   {
    "duration": 39,
    "start_time": "2022-05-01T15:24:44.868Z"
   },
   {
    "duration": 50,
    "start_time": "2022-05-01T15:24:44.909Z"
   },
   {
    "duration": 219,
    "start_time": "2022-05-01T15:24:44.961Z"
   },
   {
    "duration": 721,
    "start_time": "2022-05-01T15:24:45.182Z"
   },
   {
    "duration": 142,
    "start_time": "2022-05-01T15:24:45.904Z"
   },
   {
    "duration": 52,
    "start_time": "2022-05-01T15:24:46.047Z"
   },
   {
    "duration": 78,
    "start_time": "2022-05-01T15:24:46.100Z"
   },
   {
    "duration": 67,
    "start_time": "2022-05-01T15:25:24.080Z"
   },
   {
    "duration": 65,
    "start_time": "2022-05-01T15:25:39.948Z"
   },
   {
    "duration": 182,
    "start_time": "2022-05-01T15:26:40.132Z"
   },
   {
    "duration": 85,
    "start_time": "2022-05-01T15:26:51.398Z"
   },
   {
    "duration": 1522,
    "start_time": "2022-05-01T15:27:03.564Z"
   },
   {
    "duration": 358,
    "start_time": "2022-05-01T15:27:05.089Z"
   },
   {
    "duration": 55,
    "start_time": "2022-05-01T15:27:05.455Z"
   },
   {
    "duration": 37,
    "start_time": "2022-05-01T15:27:05.512Z"
   },
   {
    "duration": 22,
    "start_time": "2022-05-01T15:27:05.557Z"
   },
   {
    "duration": 133,
    "start_time": "2022-05-01T15:27:05.581Z"
   },
   {
    "duration": 43,
    "start_time": "2022-05-01T15:27:05.724Z"
   },
   {
    "duration": 22,
    "start_time": "2022-05-01T15:27:05.769Z"
   },
   {
    "duration": 161,
    "start_time": "2022-05-01T15:27:05.793Z"
   },
   {
    "duration": 90,
    "start_time": "2022-05-01T15:27:05.957Z"
   },
   {
    "duration": 17,
    "start_time": "2022-05-01T15:27:06.053Z"
   },
   {
    "duration": 132,
    "start_time": "2022-05-01T15:27:06.072Z"
   },
   {
    "duration": 30,
    "start_time": "2022-05-01T15:27:06.206Z"
   },
   {
    "duration": 5,
    "start_time": "2022-05-01T15:27:06.241Z"
   },
   {
    "duration": 33,
    "start_time": "2022-05-01T15:27:06.248Z"
   },
   {
    "duration": 181,
    "start_time": "2022-05-01T15:27:06.287Z"
   },
   {
    "duration": 39,
    "start_time": "2022-05-01T15:27:06.470Z"
   },
   {
    "duration": 47,
    "start_time": "2022-05-01T15:27:06.511Z"
   },
   {
    "duration": 216,
    "start_time": "2022-05-01T15:27:06.560Z"
   },
   {
    "duration": 718,
    "start_time": "2022-05-01T15:27:06.777Z"
   },
   {
    "duration": 140,
    "start_time": "2022-05-01T15:27:07.497Z"
   },
   {
    "duration": 58,
    "start_time": "2022-05-01T15:27:07.639Z"
   },
   {
    "duration": 97,
    "start_time": "2022-05-01T15:27:07.699Z"
   },
   {
    "duration": 177,
    "start_time": "2022-05-01T15:28:16.151Z"
   },
   {
    "duration": 73,
    "start_time": "2022-05-01T15:28:24.012Z"
   },
   {
    "duration": 194,
    "start_time": "2022-05-01T15:28:31.904Z"
   },
   {
    "duration": 56,
    "start_time": "2022-05-01T15:28:36.876Z"
   },
   {
    "duration": 64,
    "start_time": "2022-05-01T15:28:52.784Z"
   },
   {
    "duration": 1390,
    "start_time": "2022-05-01T15:29:00.628Z"
   },
   {
    "duration": 281,
    "start_time": "2022-05-01T15:29:02.022Z"
   },
   {
    "duration": 68,
    "start_time": "2022-05-01T15:29:02.305Z"
   },
   {
    "duration": 17,
    "start_time": "2022-05-01T15:29:02.375Z"
   },
   {
    "duration": 44,
    "start_time": "2022-05-01T15:29:02.394Z"
   },
   {
    "duration": 110,
    "start_time": "2022-05-01T15:29:02.440Z"
   },
   {
    "duration": 26,
    "start_time": "2022-05-01T15:29:02.555Z"
   },
   {
    "duration": 21,
    "start_time": "2022-05-01T15:29:02.583Z"
   },
   {
    "duration": 108,
    "start_time": "2022-05-01T15:29:02.606Z"
   },
   {
    "duration": 87,
    "start_time": "2022-05-01T15:29:02.723Z"
   },
   {
    "duration": 39,
    "start_time": "2022-05-01T15:29:02.811Z"
   },
   {
    "duration": 116,
    "start_time": "2022-05-01T15:29:02.853Z"
   },
   {
    "duration": 13,
    "start_time": "2022-05-01T15:29:02.971Z"
   },
   {
    "duration": 5,
    "start_time": "2022-05-01T15:29:02.986Z"
   },
   {
    "duration": 63,
    "start_time": "2022-05-01T15:29:02.992Z"
   },
   {
    "duration": 150,
    "start_time": "2022-05-01T15:29:03.058Z"
   },
   {
    "duration": 52,
    "start_time": "2022-05-01T15:29:03.209Z"
   },
   {
    "duration": 25,
    "start_time": "2022-05-01T15:29:03.262Z"
   },
   {
    "duration": 211,
    "start_time": "2022-05-01T15:29:03.289Z"
   },
   {
    "duration": 742,
    "start_time": "2022-05-01T15:29:03.502Z"
   },
   {
    "duration": 117,
    "start_time": "2022-05-01T15:29:04.248Z"
   },
   {
    "duration": 71,
    "start_time": "2022-05-01T15:29:04.368Z"
   },
   {
    "duration": 68,
    "start_time": "2022-05-01T15:29:04.441Z"
   },
   {
    "duration": 59,
    "start_time": "2022-05-01T15:30:28.252Z"
   },
   {
    "duration": 75,
    "start_time": "2022-05-01T15:30:38.868Z"
   },
   {
    "duration": 80,
    "start_time": "2022-05-01T15:31:43.002Z"
   },
   {
    "duration": 4,
    "start_time": "2022-05-01T15:33:59.975Z"
   },
   {
    "duration": 10,
    "start_time": "2022-05-01T15:34:06.924Z"
   },
   {
    "duration": 127,
    "start_time": "2022-05-01T15:34:52.948Z"
   },
   {
    "duration": 64,
    "start_time": "2022-05-01T15:34:58.056Z"
   },
   {
    "duration": 165,
    "start_time": "2022-05-01T15:35:07.349Z"
   },
   {
    "duration": 132,
    "start_time": "2022-05-01T15:37:12.411Z"
   },
   {
    "duration": 5,
    "start_time": "2022-05-01T15:37:17.085Z"
   },
   {
    "duration": 304,
    "start_time": "2022-05-01T15:37:17.093Z"
   },
   {
    "duration": 68,
    "start_time": "2022-05-01T15:37:17.398Z"
   },
   {
    "duration": 19,
    "start_time": "2022-05-01T15:37:17.469Z"
   },
   {
    "duration": 60,
    "start_time": "2022-05-01T15:37:17.492Z"
   },
   {
    "duration": 106,
    "start_time": "2022-05-01T15:37:17.555Z"
   },
   {
    "duration": 26,
    "start_time": "2022-05-01T15:37:17.663Z"
   },
   {
    "duration": 50,
    "start_time": "2022-05-01T15:37:17.691Z"
   },
   {
    "duration": 112,
    "start_time": "2022-05-01T15:37:17.747Z"
   },
   {
    "duration": 96,
    "start_time": "2022-05-01T15:37:17.862Z"
   },
   {
    "duration": 18,
    "start_time": "2022-05-01T15:37:17.960Z"
   },
   {
    "duration": 146,
    "start_time": "2022-05-01T15:37:17.980Z"
   },
   {
    "duration": 22,
    "start_time": "2022-05-01T15:37:18.129Z"
   },
   {
    "duration": 9,
    "start_time": "2022-05-01T15:37:18.153Z"
   },
   {
    "duration": 25,
    "start_time": "2022-05-01T15:37:18.163Z"
   },
   {
    "duration": 218,
    "start_time": "2022-05-01T15:37:18.190Z"
   },
   {
    "duration": 56,
    "start_time": "2022-05-01T15:37:18.410Z"
   },
   {
    "duration": 26,
    "start_time": "2022-05-01T15:37:18.468Z"
   },
   {
    "duration": 220,
    "start_time": "2022-05-01T15:37:18.496Z"
   },
   {
    "duration": 652,
    "start_time": "2022-05-01T15:37:18.723Z"
   },
   {
    "duration": 1234,
    "start_time": "2022-05-01T15:37:29.535Z"
   },
   {
    "duration": 75,
    "start_time": "2022-05-01T15:37:50.583Z"
   },
   {
    "duration": 85,
    "start_time": "2022-05-01T15:37:53.122Z"
   },
   {
    "duration": 26,
    "start_time": "2022-05-01T15:37:59.382Z"
   },
   {
    "duration": 15,
    "start_time": "2022-05-01T15:40:09.901Z"
   },
   {
    "duration": 835,
    "start_time": "2022-05-01T15:40:24.711Z"
   },
   {
    "duration": 1953,
    "start_time": "2022-05-01T15:42:40.625Z"
   },
   {
    "duration": 29,
    "start_time": "2022-05-01T15:43:11.251Z"
   },
   {
    "duration": 2138,
    "start_time": "2022-05-01T15:44:09.467Z"
   },
   {
    "duration": 33,
    "start_time": "2022-05-01T15:44:26.954Z"
   },
   {
    "duration": 36,
    "start_time": "2022-05-01T15:44:54.610Z"
   },
   {
    "duration": 158,
    "start_time": "2022-05-01T15:45:52.349Z"
   },
   {
    "duration": 207,
    "start_time": "2022-05-01T15:46:08.141Z"
   },
   {
    "duration": 34,
    "start_time": "2022-05-01T15:46:12.591Z"
   },
   {
    "duration": 40,
    "start_time": "2022-05-01T15:46:35.701Z"
   },
   {
    "duration": 1415,
    "start_time": "2022-05-01T15:46:58.020Z"
   },
   {
    "duration": 340,
    "start_time": "2022-05-01T15:46:59.438Z"
   },
   {
    "duration": 77,
    "start_time": "2022-05-01T15:46:59.780Z"
   },
   {
    "duration": 16,
    "start_time": "2022-05-01T15:46:59.859Z"
   },
   {
    "duration": 19,
    "start_time": "2022-05-01T15:46:59.877Z"
   },
   {
    "duration": 151,
    "start_time": "2022-05-01T15:46:59.897Z"
   },
   {
    "duration": 26,
    "start_time": "2022-05-01T15:47:00.050Z"
   },
   {
    "duration": 21,
    "start_time": "2022-05-01T15:47:00.077Z"
   },
   {
    "duration": 124,
    "start_time": "2022-05-01T15:47:00.099Z"
   },
   {
    "duration": 108,
    "start_time": "2022-05-01T15:47:00.226Z"
   },
   {
    "duration": 25,
    "start_time": "2022-05-01T15:47:00.336Z"
   },
   {
    "duration": 132,
    "start_time": "2022-05-01T15:47:00.363Z"
   },
   {
    "duration": 13,
    "start_time": "2022-05-01T15:47:00.497Z"
   },
   {
    "duration": 18,
    "start_time": "2022-05-01T15:47:00.527Z"
   },
   {
    "duration": 50,
    "start_time": "2022-05-01T15:47:00.547Z"
   },
   {
    "duration": 180,
    "start_time": "2022-05-01T15:47:00.599Z"
   },
   {
    "duration": 54,
    "start_time": "2022-05-01T15:47:00.781Z"
   },
   {
    "duration": 40,
    "start_time": "2022-05-01T15:47:00.837Z"
   },
   {
    "duration": 306,
    "start_time": "2022-05-01T15:47:00.880Z"
   },
   {
    "duration": 839,
    "start_time": "2022-05-01T15:47:01.188Z"
   },
   {
    "duration": 1379,
    "start_time": "2022-05-01T15:47:02.028Z"
   },
   {
    "duration": 85,
    "start_time": "2022-05-01T15:47:03.409Z"
   },
   {
    "duration": 81,
    "start_time": "2022-05-01T15:47:03.496Z"
   },
   {
    "duration": 27,
    "start_time": "2022-05-01T15:47:03.578Z"
   },
   {
    "duration": 379,
    "start_time": "2022-05-01T15:47:03.606Z"
   },
   {
    "duration": 30,
    "start_time": "2022-05-01T15:47:09.521Z"
   },
   {
    "duration": 2164,
    "start_time": "2022-05-01T15:47:49.819Z"
   },
   {
    "duration": 28,
    "start_time": "2022-05-01T15:48:02.660Z"
   },
   {
    "duration": 41,
    "start_time": "2022-05-01T15:48:32.108Z"
   },
   {
    "duration": 685,
    "start_time": "2022-05-01T15:49:53.104Z"
   },
   {
    "duration": 757,
    "start_time": "2022-05-01T15:50:51.439Z"
   },
   {
    "duration": 36,
    "start_time": "2022-05-01T15:51:13.055Z"
   },
   {
    "duration": 734,
    "start_time": "2022-05-01T15:51:40.023Z"
   },
   {
    "duration": 37,
    "start_time": "2022-05-01T15:52:02.826Z"
   },
   {
    "duration": 190,
    "start_time": "2022-05-01T15:52:14.270Z"
   },
   {
    "duration": 36,
    "start_time": "2022-05-01T15:53:30.708Z"
   },
   {
    "duration": 175,
    "start_time": "2022-05-01T15:53:33.192Z"
   },
   {
    "duration": 39,
    "start_time": "2022-05-01T15:54:12.519Z"
   },
   {
    "duration": 352,
    "start_time": "2022-05-01T15:54:23.663Z"
   },
   {
    "duration": 33,
    "start_time": "2022-05-01T15:55:00.025Z"
   },
   {
    "duration": 234,
    "start_time": "2022-05-01T15:55:02.490Z"
   },
   {
    "duration": 44,
    "start_time": "2022-05-01T15:55:35.331Z"
   },
   {
    "duration": 602,
    "start_time": "2022-05-01T15:55:38.307Z"
   },
   {
    "duration": 2827,
    "start_time": "2022-05-01T15:56:40.781Z"
   },
   {
    "duration": 3174,
    "start_time": "2022-05-01T15:56:55.189Z"
   },
   {
    "duration": 30,
    "start_time": "2022-05-01T15:57:08.828Z"
   },
   {
    "duration": 34,
    "start_time": "2022-05-01T15:57:15.303Z"
   },
   {
    "duration": 33,
    "start_time": "2022-05-01T15:57:20.522Z"
   },
   {
    "duration": 21,
    "start_time": "2022-05-01T15:59:19.934Z"
   },
   {
    "duration": 587,
    "start_time": "2022-05-01T15:59:30.230Z"
   },
   {
    "duration": 622,
    "start_time": "2022-05-01T16:00:20.076Z"
   },
   {
    "duration": 587,
    "start_time": "2022-05-01T16:01:07.978Z"
   },
   {
    "duration": 545,
    "start_time": "2022-05-01T16:01:22.841Z"
   },
   {
    "duration": 731,
    "start_time": "2022-05-01T16:02:18.422Z"
   },
   {
    "duration": 650,
    "start_time": "2022-05-01T16:02:37.057Z"
   },
   {
    "duration": 583,
    "start_time": "2022-05-01T16:03:37.297Z"
   },
   {
    "duration": 721,
    "start_time": "2022-05-01T16:04:04.944Z"
   },
   {
    "duration": 683,
    "start_time": "2022-05-01T16:04:32.854Z"
   },
   {
    "duration": 10,
    "start_time": "2022-05-01T16:19:32.057Z"
   },
   {
    "duration": 11,
    "start_time": "2022-05-01T16:19:38.090Z"
   },
   {
    "duration": 19,
    "start_time": "2022-05-01T16:22:29.437Z"
   },
   {
    "duration": 19,
    "start_time": "2022-05-01T16:22:35.589Z"
   },
   {
    "duration": 185,
    "start_time": "2022-05-01T16:22:55.017Z"
   },
   {
    "duration": 175,
    "start_time": "2022-05-01T16:23:26.925Z"
   },
   {
    "duration": 158,
    "start_time": "2022-05-01T16:23:35.746Z"
   },
   {
    "duration": 188,
    "start_time": "2022-05-01T16:28:29.777Z"
   },
   {
    "duration": 178,
    "start_time": "2022-05-01T16:29:33.937Z"
   },
   {
    "duration": 249,
    "start_time": "2022-05-01T17:19:51.594Z"
   },
   {
    "duration": 42,
    "start_time": "2022-05-01T17:21:12.965Z"
   },
   {
    "duration": 38,
    "start_time": "2022-05-01T17:22:00.873Z"
   },
   {
    "duration": 387,
    "start_time": "2022-05-01T17:24:05.316Z"
   },
   {
    "duration": 337,
    "start_time": "2022-05-01T17:24:41.870Z"
   },
   {
    "duration": 292,
    "start_time": "2022-05-01T17:26:05.423Z"
   },
   {
    "duration": 297,
    "start_time": "2022-05-01T17:26:18.504Z"
   },
   {
    "duration": 411,
    "start_time": "2022-05-01T17:26:36.951Z"
   },
   {
    "duration": 261,
    "start_time": "2022-05-01T17:26:53.290Z"
   },
   {
    "duration": 284,
    "start_time": "2022-05-01T17:27:09.117Z"
   },
   {
    "duration": 387,
    "start_time": "2022-05-01T17:28:16.687Z"
   },
   {
    "duration": 265,
    "start_time": "2022-05-01T17:28:24.925Z"
   },
   {
    "duration": 292,
    "start_time": "2022-05-01T17:29:21.205Z"
   },
   {
    "duration": 21,
    "start_time": "2022-05-01T17:32:02.382Z"
   },
   {
    "duration": 23,
    "start_time": "2022-05-01T17:32:20.506Z"
   },
   {
    "duration": 283,
    "start_time": "2022-05-01T17:33:00.739Z"
   },
   {
    "duration": 357,
    "start_time": "2022-05-01T17:35:14.311Z"
   },
   {
    "duration": 305,
    "start_time": "2022-05-01T17:39:34.739Z"
   },
   {
    "duration": 336,
    "start_time": "2022-05-01T17:42:35.123Z"
   },
   {
    "duration": 48,
    "start_time": "2022-05-01T17:44:03.917Z"
   },
   {
    "duration": 49,
    "start_time": "2022-05-01T17:44:15.747Z"
   },
   {
    "duration": 330,
    "start_time": "2022-05-01T17:44:38.785Z"
   },
   {
    "duration": 408,
    "start_time": "2022-05-01T17:44:56.082Z"
   },
   {
    "duration": 12,
    "start_time": "2022-05-01T17:45:45.278Z"
   },
   {
    "duration": 15,
    "start_time": "2022-05-01T17:45:53.942Z"
   },
   {
    "duration": 17,
    "start_time": "2022-05-01T17:46:46.806Z"
   },
   {
    "duration": 15,
    "start_time": "2022-05-01T17:46:58.680Z"
   },
   {
    "duration": 14,
    "start_time": "2022-05-01T17:47:34.516Z"
   },
   {
    "duration": 1343,
    "start_time": "2022-05-01T18:09:29.642Z"
   },
   {
    "duration": 268,
    "start_time": "2022-05-01T18:09:30.988Z"
   },
   {
    "duration": 55,
    "start_time": "2022-05-01T18:09:31.258Z"
   },
   {
    "duration": 15,
    "start_time": "2022-05-01T18:09:31.315Z"
   },
   {
    "duration": 21,
    "start_time": "2022-05-01T18:09:31.332Z"
   },
   {
    "duration": 104,
    "start_time": "2022-05-01T18:09:31.355Z"
   },
   {
    "duration": 25,
    "start_time": "2022-05-01T18:09:31.460Z"
   },
   {
    "duration": 37,
    "start_time": "2022-05-01T18:09:31.486Z"
   },
   {
    "duration": 87,
    "start_time": "2022-05-01T18:09:31.525Z"
   },
   {
    "duration": 68,
    "start_time": "2022-05-01T18:09:31.623Z"
   },
   {
    "duration": 31,
    "start_time": "2022-05-01T18:09:31.693Z"
   },
   {
    "duration": 101,
    "start_time": "2022-05-01T18:09:31.726Z"
   },
   {
    "duration": 11,
    "start_time": "2022-05-01T18:09:31.828Z"
   },
   {
    "duration": 7,
    "start_time": "2022-05-01T18:09:31.842Z"
   },
   {
    "duration": 21,
    "start_time": "2022-05-01T18:09:31.850Z"
   },
   {
    "duration": 190,
    "start_time": "2022-05-01T18:09:31.872Z"
   },
   {
    "duration": 46,
    "start_time": "2022-05-01T18:09:32.064Z"
   },
   {
    "duration": 33,
    "start_time": "2022-05-01T18:09:32.112Z"
   },
   {
    "duration": 177,
    "start_time": "2022-05-01T18:09:32.147Z"
   },
   {
    "duration": 603,
    "start_time": "2022-05-01T18:09:32.326Z"
   },
   {
    "duration": 1133,
    "start_time": "2022-05-01T18:09:32.931Z"
   },
   {
    "duration": 80,
    "start_time": "2022-05-01T18:09:34.066Z"
   },
   {
    "duration": 57,
    "start_time": "2022-05-01T18:09:34.148Z"
   },
   {
    "duration": 24,
    "start_time": "2022-05-01T18:09:34.222Z"
   },
   {
    "duration": 514,
    "start_time": "2022-05-01T18:09:34.247Z"
   },
   {
    "duration": 10,
    "start_time": "2022-05-01T18:09:34.763Z"
   },
   {
    "duration": 172,
    "start_time": "2022-05-01T18:09:34.774Z"
   },
   {
    "duration": 393,
    "start_time": "2022-05-01T18:09:34.948Z"
   },
   {
    "duration": 14,
    "start_time": "2022-05-01T18:09:35.343Z"
   },
   {
    "duration": 1598,
    "start_time": "2022-05-03T07:58:25.913Z"
   },
   {
    "duration": 240,
    "start_time": "2022-05-03T07:58:27.513Z"
   },
   {
    "duration": 48,
    "start_time": "2022-05-03T07:58:27.754Z"
   },
   {
    "duration": 15,
    "start_time": "2022-05-03T07:58:27.804Z"
   },
   {
    "duration": 19,
    "start_time": "2022-05-03T07:58:27.823Z"
   },
   {
    "duration": 107,
    "start_time": "2022-05-03T07:58:27.843Z"
   },
   {
    "duration": 25,
    "start_time": "2022-05-03T07:58:27.952Z"
   },
   {
    "duration": 19,
    "start_time": "2022-05-03T07:58:27.978Z"
   },
   {
    "duration": 89,
    "start_time": "2022-05-03T07:58:28.025Z"
   },
   {
    "duration": 74,
    "start_time": "2022-05-03T07:58:28.126Z"
   },
   {
    "duration": 32,
    "start_time": "2022-05-03T07:58:28.202Z"
   },
   {
    "duration": 112,
    "start_time": "2022-05-03T07:58:28.236Z"
   },
   {
    "duration": 12,
    "start_time": "2022-05-03T07:58:28.350Z"
   },
   {
    "duration": 7,
    "start_time": "2022-05-03T07:58:28.364Z"
   },
   {
    "duration": 25,
    "start_time": "2022-05-03T07:58:28.372Z"
   },
   {
    "duration": 181,
    "start_time": "2022-05-03T07:58:28.398Z"
   },
   {
    "duration": 42,
    "start_time": "2022-05-03T07:58:28.580Z"
   },
   {
    "duration": 27,
    "start_time": "2022-05-03T07:58:28.626Z"
   },
   {
    "duration": 182,
    "start_time": "2022-05-03T07:58:28.655Z"
   },
   {
    "duration": 644,
    "start_time": "2022-05-03T07:58:28.839Z"
   },
   {
    "duration": 1081,
    "start_time": "2022-05-03T07:58:29.485Z"
   },
   {
    "duration": 76,
    "start_time": "2022-05-03T07:58:30.568Z"
   },
   {
    "duration": 51,
    "start_time": "2022-05-03T07:58:30.646Z"
   },
   {
    "duration": 39,
    "start_time": "2022-05-03T07:58:30.699Z"
   },
   {
    "duration": 569,
    "start_time": "2022-05-03T07:58:30.739Z"
   },
   {
    "duration": 13,
    "start_time": "2022-05-03T07:58:31.310Z"
   },
   {
    "duration": 165,
    "start_time": "2022-05-03T07:58:31.325Z"
   },
   {
    "duration": 389,
    "start_time": "2022-05-03T07:58:31.491Z"
   },
   {
    "duration": 14,
    "start_time": "2022-05-03T07:58:31.882Z"
   },
   {
    "duration": 32,
    "start_time": "2022-05-03T07:58:31.897Z"
   },
   {
    "duration": 87,
    "start_time": "2022-05-03T07:58:31.936Z"
   },
   {
    "duration": 179,
    "start_time": "2022-05-03T08:04:04.839Z"
   },
   {
    "duration": 122,
    "start_time": "2022-05-03T08:04:18.470Z"
   },
   {
    "duration": 1364,
    "start_time": "2022-05-03T08:05:15.103Z"
   },
   {
    "duration": 278,
    "start_time": "2022-05-03T08:05:16.469Z"
   },
   {
    "duration": 52,
    "start_time": "2022-05-03T08:05:16.749Z"
   },
   {
    "duration": 37,
    "start_time": "2022-05-03T08:05:16.803Z"
   },
   {
    "duration": 18,
    "start_time": "2022-05-03T08:05:16.843Z"
   },
   {
    "duration": 116,
    "start_time": "2022-05-03T08:05:16.863Z"
   },
   {
    "duration": 27,
    "start_time": "2022-05-03T08:05:16.981Z"
   },
   {
    "duration": 24,
    "start_time": "2022-05-03T08:05:17.026Z"
   },
   {
    "duration": 109,
    "start_time": "2022-05-03T08:05:17.052Z"
   },
   {
    "duration": 95,
    "start_time": "2022-05-03T08:05:17.163Z"
   },
   {
    "duration": 16,
    "start_time": "2022-05-03T08:05:17.259Z"
   },
   {
    "duration": 133,
    "start_time": "2022-05-03T08:05:17.277Z"
   },
   {
    "duration": 13,
    "start_time": "2022-05-03T08:05:17.412Z"
   },
   {
    "duration": 6,
    "start_time": "2022-05-03T08:05:17.429Z"
   },
   {
    "duration": 25,
    "start_time": "2022-05-03T08:05:17.440Z"
   },
   {
    "duration": 173,
    "start_time": "2022-05-03T08:05:17.467Z"
   },
   {
    "duration": 57,
    "start_time": "2022-05-03T08:05:17.642Z"
   },
   {
    "duration": 47,
    "start_time": "2022-05-03T08:05:17.701Z"
   },
   {
    "duration": 188,
    "start_time": "2022-05-03T08:05:17.750Z"
   },
   {
    "duration": 700,
    "start_time": "2022-05-03T08:05:17.943Z"
   },
   {
    "duration": 1275,
    "start_time": "2022-05-03T08:05:18.645Z"
   },
   {
    "duration": 74,
    "start_time": "2022-05-03T08:05:19.922Z"
   },
   {
    "duration": 76,
    "start_time": "2022-05-03T08:05:19.997Z"
   },
   {
    "duration": 26,
    "start_time": "2022-05-03T08:05:20.074Z"
   },
   {
    "duration": 564,
    "start_time": "2022-05-03T08:05:20.102Z"
   },
   {
    "duration": 10,
    "start_time": "2022-05-03T08:05:20.667Z"
   },
   {
    "duration": 181,
    "start_time": "2022-05-03T08:05:20.679Z"
   },
   {
    "duration": 408,
    "start_time": "2022-05-03T08:05:20.861Z"
   },
   {
    "duration": 16,
    "start_time": "2022-05-03T08:05:21.272Z"
   },
   {
    "duration": 126,
    "start_time": "2022-05-03T08:05:21.290Z"
   },
   {
    "duration": 7,
    "start_time": "2022-05-03T08:05:21.421Z"
   },
   {
    "duration": 158,
    "start_time": "2022-05-03T08:06:08.057Z"
   },
   {
    "duration": 135,
    "start_time": "2022-05-03T08:09:49.162Z"
   },
   {
    "duration": 1357,
    "start_time": "2022-05-03T08:10:08.218Z"
   },
   {
    "duration": 282,
    "start_time": "2022-05-03T08:10:09.578Z"
   },
   {
    "duration": 54,
    "start_time": "2022-05-03T08:10:09.862Z"
   },
   {
    "duration": 23,
    "start_time": "2022-05-03T08:10:09.918Z"
   },
   {
    "duration": 16,
    "start_time": "2022-05-03T08:10:09.944Z"
   },
   {
    "duration": 116,
    "start_time": "2022-05-03T08:10:09.962Z"
   },
   {
    "duration": 24,
    "start_time": "2022-05-03T08:10:10.079Z"
   },
   {
    "duration": 42,
    "start_time": "2022-05-03T08:10:10.105Z"
   },
   {
    "duration": 105,
    "start_time": "2022-05-03T08:10:10.149Z"
   },
   {
    "duration": 89,
    "start_time": "2022-05-03T08:10:10.257Z"
   },
   {
    "duration": 18,
    "start_time": "2022-05-03T08:10:10.348Z"
   },
   {
    "duration": 131,
    "start_time": "2022-05-03T08:10:10.368Z"
   },
   {
    "duration": 22,
    "start_time": "2022-05-03T08:10:10.502Z"
   },
   {
    "duration": 5,
    "start_time": "2022-05-03T08:10:10.528Z"
   },
   {
    "duration": 24,
    "start_time": "2022-05-03T08:10:10.539Z"
   },
   {
    "duration": 183,
    "start_time": "2022-05-03T08:10:10.565Z"
   },
   {
    "duration": 41,
    "start_time": "2022-05-03T08:10:10.750Z"
   },
   {
    "duration": 48,
    "start_time": "2022-05-03T08:10:10.794Z"
   },
   {
    "duration": 199,
    "start_time": "2022-05-03T08:10:10.843Z"
   },
   {
    "duration": 731,
    "start_time": "2022-05-03T08:10:11.044Z"
   },
   {
    "duration": 1188,
    "start_time": "2022-05-03T08:10:11.777Z"
   },
   {
    "duration": 79,
    "start_time": "2022-05-03T08:10:12.966Z"
   },
   {
    "duration": 81,
    "start_time": "2022-05-03T08:10:13.047Z"
   },
   {
    "duration": 24,
    "start_time": "2022-05-03T08:10:13.130Z"
   },
   {
    "duration": 566,
    "start_time": "2022-05-03T08:10:13.156Z"
   },
   {
    "duration": 11,
    "start_time": "2022-05-03T08:10:13.730Z"
   },
   {
    "duration": 179,
    "start_time": "2022-05-03T08:10:13.743Z"
   },
   {
    "duration": 406,
    "start_time": "2022-05-03T08:10:13.924Z"
   },
   {
    "duration": 17,
    "start_time": "2022-05-03T08:10:14.333Z"
   },
   {
    "duration": 139,
    "start_time": "2022-05-03T08:10:14.351Z"
   },
   {
    "duration": 2,
    "start_time": "2022-05-03T08:10:14.492Z"
   },
   {
    "duration": 2734,
    "start_time": "2022-05-03T08:11:52.625Z"
   },
   {
    "duration": 140,
    "start_time": "2022-05-03T08:12:28.172Z"
   },
   {
    "duration": 4,
    "start_time": "2022-05-03T08:12:36.154Z"
   },
   {
    "duration": 287,
    "start_time": "2022-05-03T08:12:36.161Z"
   },
   {
    "duration": 56,
    "start_time": "2022-05-03T08:12:36.450Z"
   },
   {
    "duration": 23,
    "start_time": "2022-05-03T08:12:36.507Z"
   },
   {
    "duration": 19,
    "start_time": "2022-05-03T08:12:36.533Z"
   },
   {
    "duration": 137,
    "start_time": "2022-05-03T08:12:36.554Z"
   },
   {
    "duration": 48,
    "start_time": "2022-05-03T08:12:36.694Z"
   },
   {
    "duration": 20,
    "start_time": "2022-05-03T08:12:36.744Z"
   },
   {
    "duration": 104,
    "start_time": "2022-05-03T08:12:36.766Z"
   },
   {
    "duration": 87,
    "start_time": "2022-05-03T08:12:36.872Z"
   },
   {
    "duration": 17,
    "start_time": "2022-05-03T08:12:36.960Z"
   },
   {
    "duration": 127,
    "start_time": "2022-05-03T08:12:36.980Z"
   },
   {
    "duration": 21,
    "start_time": "2022-05-03T08:12:37.109Z"
   },
   {
    "duration": 5,
    "start_time": "2022-05-03T08:12:37.137Z"
   },
   {
    "duration": 23,
    "start_time": "2022-05-03T08:12:37.143Z"
   },
   {
    "duration": 198,
    "start_time": "2022-05-03T08:12:37.168Z"
   },
   {
    "duration": 40,
    "start_time": "2022-05-03T08:12:37.367Z"
   },
   {
    "duration": 46,
    "start_time": "2022-05-03T08:12:37.409Z"
   },
   {
    "duration": 203,
    "start_time": "2022-05-03T08:12:37.456Z"
   },
   {
    "duration": 605,
    "start_time": "2022-05-03T08:12:37.661Z"
   },
   {
    "duration": 1334,
    "start_time": "2022-05-03T08:12:38.268Z"
   },
   {
    "duration": 91,
    "start_time": "2022-05-03T08:12:39.604Z"
   },
   {
    "duration": 72,
    "start_time": "2022-05-03T08:12:39.697Z"
   },
   {
    "duration": 23,
    "start_time": "2022-05-03T08:12:39.770Z"
   },
   {
    "duration": 617,
    "start_time": "2022-05-03T08:12:39.795Z"
   },
   {
    "duration": 17,
    "start_time": "2022-05-03T08:12:40.414Z"
   },
   {
    "duration": 184,
    "start_time": "2022-05-03T08:12:40.433Z"
   },
   {
    "duration": 345,
    "start_time": "2022-05-03T08:12:40.622Z"
   },
   {
    "duration": 15,
    "start_time": "2022-05-03T08:12:40.969Z"
   },
   {
    "duration": 150,
    "start_time": "2022-05-03T08:12:40.985Z"
   },
   {
    "duration": 2739,
    "start_time": "2022-05-03T08:13:12.783Z"
   },
   {
    "duration": 1344,
    "start_time": "2022-05-03T08:13:24.763Z"
   },
   {
    "duration": 288,
    "start_time": "2022-05-03T08:13:26.109Z"
   },
   {
    "duration": 57,
    "start_time": "2022-05-03T08:13:26.399Z"
   },
   {
    "duration": 15,
    "start_time": "2022-05-03T08:13:26.458Z"
   },
   {
    "duration": 15,
    "start_time": "2022-05-03T08:13:26.474Z"
   },
   {
    "duration": 104,
    "start_time": "2022-05-03T08:13:26.490Z"
   },
   {
    "duration": 41,
    "start_time": "2022-05-03T08:13:26.595Z"
   },
   {
    "duration": 19,
    "start_time": "2022-05-03T08:13:26.638Z"
   },
   {
    "duration": 110,
    "start_time": "2022-05-03T08:13:26.659Z"
   },
   {
    "duration": 81,
    "start_time": "2022-05-03T08:13:26.772Z"
   },
   {
    "duration": 16,
    "start_time": "2022-05-03T08:13:26.855Z"
   },
   {
    "duration": 122,
    "start_time": "2022-05-03T08:13:26.872Z"
   },
   {
    "duration": 12,
    "start_time": "2022-05-03T08:13:26.996Z"
   },
   {
    "duration": 19,
    "start_time": "2022-05-03T08:13:27.009Z"
   },
   {
    "duration": 24,
    "start_time": "2022-05-03T08:13:27.030Z"
   },
   {
    "duration": 157,
    "start_time": "2022-05-03T08:13:27.055Z"
   },
   {
    "duration": 44,
    "start_time": "2022-05-03T08:13:27.214Z"
   },
   {
    "duration": 25,
    "start_time": "2022-05-03T08:13:27.260Z"
   },
   {
    "duration": 191,
    "start_time": "2022-05-03T08:13:27.287Z"
   },
   {
    "duration": 636,
    "start_time": "2022-05-03T08:13:27.479Z"
   },
   {
    "duration": 1212,
    "start_time": "2022-05-03T08:13:28.122Z"
   },
   {
    "duration": 64,
    "start_time": "2022-05-03T08:13:29.336Z"
   },
   {
    "duration": 69,
    "start_time": "2022-05-03T08:13:29.402Z"
   },
   {
    "duration": 21,
    "start_time": "2022-05-03T08:13:29.472Z"
   },
   {
    "duration": 572,
    "start_time": "2022-05-03T08:13:29.495Z"
   },
   {
    "duration": 10,
    "start_time": "2022-05-03T08:13:30.069Z"
   },
   {
    "duration": 191,
    "start_time": "2022-05-03T08:13:30.081Z"
   },
   {
    "duration": 412,
    "start_time": "2022-05-03T08:13:30.277Z"
   },
   {
    "duration": 16,
    "start_time": "2022-05-03T08:13:30.691Z"
   },
   {
    "duration": 142,
    "start_time": "2022-05-03T08:13:30.709Z"
   },
   {
    "duration": 1300,
    "start_time": "2022-05-03T08:13:58.473Z"
   },
   {
    "duration": 283,
    "start_time": "2022-05-03T08:13:59.775Z"
   },
   {
    "duration": 54,
    "start_time": "2022-05-03T08:14:00.060Z"
   },
   {
    "duration": 20,
    "start_time": "2022-05-03T08:14:00.117Z"
   },
   {
    "duration": 17,
    "start_time": "2022-05-03T08:14:00.138Z"
   },
   {
    "duration": 116,
    "start_time": "2022-05-03T08:14:00.156Z"
   },
   {
    "duration": 26,
    "start_time": "2022-05-03T08:14:00.274Z"
   },
   {
    "duration": 42,
    "start_time": "2022-05-03T08:14:00.302Z"
   },
   {
    "duration": 118,
    "start_time": "2022-05-03T08:14:00.345Z"
   },
   {
    "duration": 93,
    "start_time": "2022-05-03T08:14:00.466Z"
   },
   {
    "duration": 19,
    "start_time": "2022-05-03T08:14:00.562Z"
   },
   {
    "duration": 130,
    "start_time": "2022-05-03T08:14:00.583Z"
   },
   {
    "duration": 20,
    "start_time": "2022-05-03T08:14:00.715Z"
   },
   {
    "duration": 11,
    "start_time": "2022-05-03T08:14:00.737Z"
   },
   {
    "duration": 35,
    "start_time": "2022-05-03T08:14:00.750Z"
   },
   {
    "duration": 164,
    "start_time": "2022-05-03T08:14:00.786Z"
   },
   {
    "duration": 42,
    "start_time": "2022-05-03T08:14:00.952Z"
   },
   {
    "duration": 40,
    "start_time": "2022-05-03T08:14:00.996Z"
   },
   {
    "duration": 213,
    "start_time": "2022-05-03T08:14:01.038Z"
   },
   {
    "duration": 679,
    "start_time": "2022-05-03T08:14:01.254Z"
   },
   {
    "duration": 1294,
    "start_time": "2022-05-03T08:14:01.935Z"
   },
   {
    "duration": 81,
    "start_time": "2022-05-03T08:14:03.233Z"
   },
   {
    "duration": 68,
    "start_time": "2022-05-03T08:14:03.323Z"
   },
   {
    "duration": 49,
    "start_time": "2022-05-03T08:14:03.393Z"
   },
   {
    "duration": 576,
    "start_time": "2022-05-03T08:14:03.444Z"
   },
   {
    "duration": 16,
    "start_time": "2022-05-03T08:14:04.022Z"
   },
   {
    "duration": 187,
    "start_time": "2022-05-03T08:14:04.040Z"
   },
   {
    "duration": 441,
    "start_time": "2022-05-03T08:14:04.231Z"
   },
   {
    "duration": 15,
    "start_time": "2022-05-03T08:14:04.674Z"
   },
   {
    "duration": 187,
    "start_time": "2022-05-03T08:14:04.691Z"
   },
   {
    "duration": 1327,
    "start_time": "2022-05-03T08:15:29.650Z"
   },
   {
    "duration": 289,
    "start_time": "2022-05-03T08:15:30.980Z"
   },
   {
    "duration": 50,
    "start_time": "2022-05-03T08:15:31.271Z"
   },
   {
    "duration": 18,
    "start_time": "2022-05-03T08:15:31.325Z"
   },
   {
    "duration": 25,
    "start_time": "2022-05-03T08:15:31.345Z"
   },
   {
    "duration": 96,
    "start_time": "2022-05-03T08:15:31.371Z"
   },
   {
    "duration": 24,
    "start_time": "2022-05-03T08:15:31.469Z"
   },
   {
    "duration": 38,
    "start_time": "2022-05-03T08:15:31.495Z"
   },
   {
    "duration": 103,
    "start_time": "2022-05-03T08:15:31.535Z"
   },
   {
    "duration": 67,
    "start_time": "2022-05-03T08:15:31.640Z"
   },
   {
    "duration": 30,
    "start_time": "2022-05-03T08:15:31.709Z"
   },
   {
    "duration": 113,
    "start_time": "2022-05-03T08:15:31.740Z"
   },
   {
    "duration": 12,
    "start_time": "2022-05-03T08:15:31.855Z"
   },
   {
    "duration": 4,
    "start_time": "2022-05-03T08:15:31.870Z"
   },
   {
    "duration": 23,
    "start_time": "2022-05-03T08:15:31.876Z"
   },
   {
    "duration": 190,
    "start_time": "2022-05-03T08:15:31.900Z"
   },
   {
    "duration": 47,
    "start_time": "2022-05-03T08:15:32.092Z"
   },
   {
    "duration": 23,
    "start_time": "2022-05-03T08:15:32.141Z"
   },
   {
    "duration": 199,
    "start_time": "2022-05-03T08:15:32.166Z"
   },
   {
    "duration": 673,
    "start_time": "2022-05-03T08:15:32.367Z"
   },
   {
    "duration": 1166,
    "start_time": "2022-05-03T08:15:33.042Z"
   },
   {
    "duration": 86,
    "start_time": "2022-05-03T08:15:34.210Z"
   },
   {
    "duration": 79,
    "start_time": "2022-05-03T08:15:34.298Z"
   },
   {
    "duration": 25,
    "start_time": "2022-05-03T08:15:34.379Z"
   },
   {
    "duration": 577,
    "start_time": "2022-05-03T08:15:34.406Z"
   },
   {
    "duration": 10,
    "start_time": "2022-05-03T08:15:34.985Z"
   },
   {
    "duration": 193,
    "start_time": "2022-05-03T08:15:34.997Z"
   },
   {
    "duration": 417,
    "start_time": "2022-05-03T08:15:35.192Z"
   },
   {
    "duration": 30,
    "start_time": "2022-05-03T08:15:35.611Z"
   },
   {
    "duration": 159,
    "start_time": "2022-05-03T08:15:35.643Z"
   },
   {
    "duration": 12,
    "start_time": "2022-05-03T08:19:47.353Z"
   },
   {
    "duration": 1201,
    "start_time": "2022-05-03T08:20:09.909Z"
   },
   {
    "duration": 210,
    "start_time": "2022-05-03T08:20:26.197Z"
   },
   {
    "duration": 13,
    "start_time": "2022-05-03T08:20:53.005Z"
   },
   {
    "duration": 35,
    "start_time": "2022-05-03T08:23:19.619Z"
   },
   {
    "duration": 30,
    "start_time": "2022-05-03T08:23:55.101Z"
   },
   {
    "duration": 1319,
    "start_time": "2022-05-03T08:24:10.077Z"
   },
   {
    "duration": 302,
    "start_time": "2022-05-03T08:24:11.398Z"
   },
   {
    "duration": 61,
    "start_time": "2022-05-03T08:24:11.702Z"
   },
   {
    "duration": 18,
    "start_time": "2022-05-03T08:24:11.765Z"
   },
   {
    "duration": 42,
    "start_time": "2022-05-03T08:24:11.787Z"
   },
   {
    "duration": 110,
    "start_time": "2022-05-03T08:24:11.831Z"
   },
   {
    "duration": 26,
    "start_time": "2022-05-03T08:24:11.943Z"
   },
   {
    "duration": 22,
    "start_time": "2022-05-03T08:24:11.971Z"
   },
   {
    "duration": 129,
    "start_time": "2022-05-03T08:24:11.995Z"
   },
   {
    "duration": 77,
    "start_time": "2022-05-03T08:24:12.127Z"
   },
   {
    "duration": 36,
    "start_time": "2022-05-03T08:24:12.206Z"
   },
   {
    "duration": 127,
    "start_time": "2022-05-03T08:24:12.243Z"
   },
   {
    "duration": 13,
    "start_time": "2022-05-03T08:24:12.372Z"
   },
   {
    "duration": 5,
    "start_time": "2022-05-03T08:24:12.388Z"
   },
   {
    "duration": 44,
    "start_time": "2022-05-03T08:24:12.395Z"
   },
   {
    "duration": 162,
    "start_time": "2022-05-03T08:24:12.441Z"
   },
   {
    "duration": 50,
    "start_time": "2022-05-03T08:24:12.605Z"
   },
   {
    "duration": 25,
    "start_time": "2022-05-03T08:24:12.657Z"
   },
   {
    "duration": 200,
    "start_time": "2022-05-03T08:24:12.684Z"
   },
   {
    "duration": 693,
    "start_time": "2022-05-03T08:24:12.886Z"
   },
   {
    "duration": 1334,
    "start_time": "2022-05-03T08:24:13.581Z"
   },
   {
    "duration": 79,
    "start_time": "2022-05-03T08:24:14.916Z"
   },
   {
    "duration": 78,
    "start_time": "2022-05-03T08:24:14.997Z"
   },
   {
    "duration": 26,
    "start_time": "2022-05-03T08:24:15.077Z"
   },
   {
    "duration": 590,
    "start_time": "2022-05-03T08:24:15.104Z"
   },
   {
    "duration": 11,
    "start_time": "2022-05-03T08:24:15.697Z"
   },
   {
    "duration": 190,
    "start_time": "2022-05-03T08:24:15.710Z"
   },
   {
    "duration": 422,
    "start_time": "2022-05-03T08:24:15.901Z"
   },
   {
    "duration": 18,
    "start_time": "2022-05-03T08:24:16.326Z"
   },
   {
    "duration": 138,
    "start_time": "2022-05-03T08:24:16.346Z"
   },
   {
    "duration": 38,
    "start_time": "2022-05-03T08:24:16.485Z"
   },
   {
    "duration": 26,
    "start_time": "2022-05-03T08:24:49.057Z"
   },
   {
    "duration": 28,
    "start_time": "2022-05-03T08:28:57.848Z"
   },
   {
    "duration": 28,
    "start_time": "2022-05-03T08:29:03.194Z"
   },
   {
    "duration": 135,
    "start_time": "2022-05-03T08:29:10.157Z"
   },
   {
    "duration": 29,
    "start_time": "2022-05-03T08:29:13.088Z"
   },
   {
    "duration": 1431,
    "start_time": "2022-05-03T08:47:45.582Z"
   },
   {
    "duration": 252,
    "start_time": "2022-05-03T08:47:47.015Z"
   },
   {
    "duration": 51,
    "start_time": "2022-05-03T08:47:47.268Z"
   },
   {
    "duration": 15,
    "start_time": "2022-05-03T08:47:47.320Z"
   },
   {
    "duration": 16,
    "start_time": "2022-05-03T08:47:47.338Z"
   },
   {
    "duration": 104,
    "start_time": "2022-05-03T08:47:47.355Z"
   },
   {
    "duration": 26,
    "start_time": "2022-05-03T08:47:47.461Z"
   },
   {
    "duration": 42,
    "start_time": "2022-05-03T08:47:47.489Z"
   },
   {
    "duration": 98,
    "start_time": "2022-05-03T08:47:47.533Z"
   },
   {
    "duration": 74,
    "start_time": "2022-05-03T08:47:47.633Z"
   },
   {
    "duration": 14,
    "start_time": "2022-05-03T08:47:47.723Z"
   },
   {
    "duration": 108,
    "start_time": "2022-05-03T08:47:47.739Z"
   },
   {
    "duration": 12,
    "start_time": "2022-05-03T08:47:47.849Z"
   },
   {
    "duration": 5,
    "start_time": "2022-05-03T08:47:47.864Z"
   },
   {
    "duration": 22,
    "start_time": "2022-05-03T08:47:47.870Z"
   },
   {
    "duration": 166,
    "start_time": "2022-05-03T08:47:47.893Z"
   },
   {
    "duration": 38,
    "start_time": "2022-05-03T08:47:48.061Z"
   },
   {
    "duration": 37,
    "start_time": "2022-05-03T08:47:48.101Z"
   },
   {
    "duration": 179,
    "start_time": "2022-05-03T08:47:48.139Z"
   },
   {
    "duration": 633,
    "start_time": "2022-05-03T08:47:48.321Z"
   },
   {
    "duration": 1075,
    "start_time": "2022-05-03T08:47:48.956Z"
   },
   {
    "duration": 64,
    "start_time": "2022-05-03T08:47:50.033Z"
   },
   {
    "duration": 69,
    "start_time": "2022-05-03T08:47:50.099Z"
   },
   {
    "duration": 22,
    "start_time": "2022-05-03T08:47:50.169Z"
   },
   {
    "duration": 572,
    "start_time": "2022-05-03T08:47:50.193Z"
   },
   {
    "duration": 10,
    "start_time": "2022-05-03T08:47:50.767Z"
   },
   {
    "duration": 170,
    "start_time": "2022-05-03T08:47:50.779Z"
   },
   {
    "duration": 381,
    "start_time": "2022-05-03T08:47:50.951Z"
   },
   {
    "duration": 13,
    "start_time": "2022-05-03T08:47:51.334Z"
   },
   {
    "duration": 119,
    "start_time": "2022-05-03T08:47:51.349Z"
   },
   {
    "duration": 4,
    "start_time": "2022-05-03T08:47:51.469Z"
   },
   {
    "duration": 27,
    "start_time": "2022-05-03T08:47:51.474Z"
   },
   {
    "duration": 106,
    "start_time": "2022-05-03T08:48:08.503Z"
   },
   {
    "duration": 9,
    "start_time": "2022-05-03T08:48:14.170Z"
   },
   {
    "duration": 2019,
    "start_time": "2022-05-03T08:57:41.330Z"
   },
   {
    "duration": 1988,
    "start_time": "2022-05-03T08:57:45.187Z"
   },
   {
    "duration": 2111,
    "start_time": "2022-05-03T08:59:07.993Z"
   },
   {
    "duration": 2156,
    "start_time": "2022-05-03T09:01:19.781Z"
   },
   {
    "duration": 2075,
    "start_time": "2022-05-03T09:02:14.281Z"
   },
   {
    "duration": 2077,
    "start_time": "2022-05-03T09:02:23.549Z"
   },
   {
    "duration": 2840,
    "start_time": "2022-05-03T09:02:43.120Z"
   },
   {
    "duration": 2255,
    "start_time": "2022-05-03T09:03:10.629Z"
   },
   {
    "duration": 2080,
    "start_time": "2022-05-03T09:08:01.983Z"
   },
   {
    "duration": 2085,
    "start_time": "2022-05-03T09:09:40.009Z"
   },
   {
    "duration": 81,
    "start_time": "2022-05-03T09:10:49.393Z"
   },
   {
    "duration": 132,
    "start_time": "2022-05-03T09:11:44.727Z"
   },
   {
    "duration": 114,
    "start_time": "2022-05-03T09:13:02.957Z"
   },
   {
    "duration": 109,
    "start_time": "2022-05-03T09:13:26.617Z"
   },
   {
    "duration": 21,
    "start_time": "2022-05-03T09:14:10.801Z"
   },
   {
    "duration": 17,
    "start_time": "2022-05-03T09:14:43.785Z"
   },
   {
    "duration": 10,
    "start_time": "2022-05-03T09:14:53.573Z"
   },
   {
    "duration": 15,
    "start_time": "2022-05-03T09:15:22.275Z"
   },
   {
    "duration": 17,
    "start_time": "2022-05-03T09:15:40.448Z"
   },
   {
    "duration": 17,
    "start_time": "2022-05-03T09:16:51.102Z"
   },
   {
    "duration": 16,
    "start_time": "2022-05-03T09:19:39.940Z"
   },
   {
    "duration": 14,
    "start_time": "2022-05-03T09:20:01.481Z"
   },
   {
    "duration": 15,
    "start_time": "2022-05-03T09:23:26.796Z"
   },
   {
    "duration": 5,
    "start_time": "2022-05-03T09:23:44.721Z"
   },
   {
    "duration": 282,
    "start_time": "2022-05-03T09:23:44.728Z"
   },
   {
    "duration": 44,
    "start_time": "2022-05-03T09:23:45.012Z"
   },
   {
    "duration": 15,
    "start_time": "2022-05-03T09:23:45.058Z"
   },
   {
    "duration": 47,
    "start_time": "2022-05-03T09:23:45.076Z"
   },
   {
    "duration": 82,
    "start_time": "2022-05-03T09:23:45.124Z"
   },
   {
    "duration": 47,
    "start_time": "2022-05-03T09:23:45.208Z"
   },
   {
    "duration": 24,
    "start_time": "2022-05-03T09:23:45.257Z"
   },
   {
    "duration": 104,
    "start_time": "2022-05-03T09:23:45.282Z"
   },
   {
    "duration": 69,
    "start_time": "2022-05-03T09:23:45.388Z"
   },
   {
    "duration": 17,
    "start_time": "2022-05-03T09:23:45.459Z"
   },
   {
    "duration": 116,
    "start_time": "2022-05-03T09:23:45.478Z"
   },
   {
    "duration": 12,
    "start_time": "2022-05-03T09:23:45.596Z"
   },
   {
    "duration": 23,
    "start_time": "2022-05-03T09:23:45.611Z"
   },
   {
    "duration": 62,
    "start_time": "2022-05-03T09:23:45.636Z"
   },
   {
    "duration": 162,
    "start_time": "2022-05-03T09:23:45.700Z"
   },
   {
    "duration": 37,
    "start_time": "2022-05-03T09:23:45.863Z"
   },
   {
    "duration": 32,
    "start_time": "2022-05-03T09:23:45.901Z"
   },
   {
    "duration": 176,
    "start_time": "2022-05-03T09:23:45.935Z"
   },
   {
    "duration": 534,
    "start_time": "2022-05-03T09:23:46.113Z"
   },
   {
    "duration": 1111,
    "start_time": "2022-05-03T09:23:46.648Z"
   },
   {
    "duration": 76,
    "start_time": "2022-05-03T09:23:47.761Z"
   },
   {
    "duration": 54,
    "start_time": "2022-05-03T09:23:47.839Z"
   },
   {
    "duration": 41,
    "start_time": "2022-05-03T09:23:47.895Z"
   },
   {
    "duration": 526,
    "start_time": "2022-05-03T09:23:47.939Z"
   },
   {
    "duration": 11,
    "start_time": "2022-05-03T09:23:48.467Z"
   },
   {
    "duration": 174,
    "start_time": "2022-05-03T09:23:48.480Z"
   },
   {
    "duration": 398,
    "start_time": "2022-05-03T09:23:48.656Z"
   },
   {
    "duration": 15,
    "start_time": "2022-05-03T09:23:49.055Z"
   },
   {
    "duration": 151,
    "start_time": "2022-05-03T09:23:49.072Z"
   },
   {
    "duration": 14,
    "start_time": "2022-05-03T09:24:03.527Z"
   },
   {
    "duration": 14,
    "start_time": "2022-05-03T09:26:12.615Z"
   },
   {
    "duration": 8,
    "start_time": "2022-05-03T09:26:32.601Z"
   },
   {
    "duration": 1394,
    "start_time": "2022-05-03T09:27:09.403Z"
   },
   {
    "duration": 281,
    "start_time": "2022-05-03T09:27:10.799Z"
   },
   {
    "duration": 52,
    "start_time": "2022-05-03T09:27:11.082Z"
   },
   {
    "duration": 16,
    "start_time": "2022-05-03T09:27:11.135Z"
   },
   {
    "duration": 30,
    "start_time": "2022-05-03T09:27:11.153Z"
   },
   {
    "duration": 114,
    "start_time": "2022-05-03T09:27:11.184Z"
   },
   {
    "duration": 30,
    "start_time": "2022-05-03T09:27:11.299Z"
   },
   {
    "duration": 21,
    "start_time": "2022-05-03T09:27:11.331Z"
   },
   {
    "duration": 120,
    "start_time": "2022-05-03T09:27:11.353Z"
   },
   {
    "duration": 85,
    "start_time": "2022-05-03T09:27:11.475Z"
   },
   {
    "duration": 17,
    "start_time": "2022-05-03T09:27:11.561Z"
   },
   {
    "duration": 122,
    "start_time": "2022-05-03T09:27:11.579Z"
   },
   {
    "duration": 21,
    "start_time": "2022-05-03T09:27:11.703Z"
   },
   {
    "duration": 4,
    "start_time": "2022-05-03T09:27:11.728Z"
   },
   {
    "duration": 23,
    "start_time": "2022-05-03T09:27:11.734Z"
   },
   {
    "duration": 180,
    "start_time": "2022-05-03T09:27:11.759Z"
   },
   {
    "duration": 39,
    "start_time": "2022-05-03T09:27:11.941Z"
   },
   {
    "duration": 46,
    "start_time": "2022-05-03T09:27:11.982Z"
   },
   {
    "duration": 186,
    "start_time": "2022-05-03T09:27:12.030Z"
   },
   {
    "duration": 665,
    "start_time": "2022-05-03T09:27:12.222Z"
   },
   {
    "duration": 1194,
    "start_time": "2022-05-03T09:27:12.889Z"
   },
   {
    "duration": 82,
    "start_time": "2022-05-03T09:27:14.084Z"
   },
   {
    "duration": 71,
    "start_time": "2022-05-03T09:27:14.168Z"
   },
   {
    "duration": 25,
    "start_time": "2022-05-03T09:27:14.241Z"
   },
   {
    "duration": 590,
    "start_time": "2022-05-03T09:27:14.268Z"
   },
   {
    "duration": 12,
    "start_time": "2022-05-03T09:27:14.860Z"
   },
   {
    "duration": 196,
    "start_time": "2022-05-03T09:27:14.874Z"
   },
   {
    "duration": 411,
    "start_time": "2022-05-03T09:27:15.072Z"
   },
   {
    "duration": 17,
    "start_time": "2022-05-03T09:27:15.486Z"
   },
   {
    "duration": 173,
    "start_time": "2022-05-03T09:27:15.506Z"
   },
   {
    "duration": 6,
    "start_time": "2022-05-03T09:27:15.681Z"
   },
   {
    "duration": 6,
    "start_time": "2022-05-03T09:27:42.547Z"
   },
   {
    "duration": 21,
    "start_time": "2022-05-03T09:30:00.774Z"
   },
   {
    "duration": 141,
    "start_time": "2022-05-03T09:30:50.633Z"
   },
   {
    "duration": 6,
    "start_time": "2022-05-03T09:30:59.258Z"
   },
   {
    "duration": 14,
    "start_time": "2022-05-03T09:31:42.363Z"
   },
   {
    "duration": 15,
    "start_time": "2022-05-03T09:32:17.561Z"
   },
   {
    "duration": 8,
    "start_time": "2022-05-03T09:35:10.502Z"
   },
   {
    "duration": 17,
    "start_time": "2022-05-03T09:37:48.277Z"
   },
   {
    "duration": 219,
    "start_time": "2022-05-03T10:34:10.748Z"
   },
   {
    "duration": 193,
    "start_time": "2022-05-03T10:34:15.819Z"
   },
   {
    "duration": 13,
    "start_time": "2022-05-03T10:34:25.614Z"
   },
   {
    "duration": 11,
    "start_time": "2022-05-03T10:35:07.431Z"
   },
   {
    "duration": 14,
    "start_time": "2022-05-03T10:35:28.687Z"
   },
   {
    "duration": 5,
    "start_time": "2022-05-03T10:36:15.167Z"
   },
   {
    "duration": 6,
    "start_time": "2022-05-03T10:36:32.319Z"
   },
   {
    "duration": 171,
    "start_time": "2022-05-03T10:37:40.092Z"
   },
   {
    "duration": 11,
    "start_time": "2022-05-03T10:37:59.791Z"
   },
   {
    "duration": 11,
    "start_time": "2022-05-03T10:38:40.099Z"
   },
   {
    "duration": 7,
    "start_time": "2022-05-03T10:39:01.697Z"
   },
   {
    "duration": 6,
    "start_time": "2022-05-03T10:39:25.511Z"
   },
   {
    "duration": 5,
    "start_time": "2022-05-03T10:40:36.992Z"
   },
   {
    "duration": 20,
    "start_time": "2022-05-03T11:00:30.595Z"
   },
   {
    "duration": 1735,
    "start_time": "2022-05-03T11:02:13.339Z"
   },
   {
    "duration": 388,
    "start_time": "2022-05-03T11:02:15.076Z"
   },
   {
    "duration": 58,
    "start_time": "2022-05-03T11:02:15.467Z"
   },
   {
    "duration": 23,
    "start_time": "2022-05-03T11:02:15.527Z"
   },
   {
    "duration": 39,
    "start_time": "2022-05-03T11:02:15.554Z"
   },
   {
    "duration": 160,
    "start_time": "2022-05-03T11:02:15.595Z"
   },
   {
    "duration": 30,
    "start_time": "2022-05-03T11:02:15.757Z"
   },
   {
    "duration": 47,
    "start_time": "2022-05-03T11:02:15.789Z"
   },
   {
    "duration": 155,
    "start_time": "2022-05-03T11:02:15.838Z"
   },
   {
    "duration": 138,
    "start_time": "2022-05-03T11:02:15.995Z"
   },
   {
    "duration": 24,
    "start_time": "2022-05-03T11:02:16.135Z"
   },
   {
    "duration": 198,
    "start_time": "2022-05-03T11:02:16.162Z"
   },
   {
    "duration": 19,
    "start_time": "2022-05-03T11:02:16.362Z"
   },
   {
    "duration": 6,
    "start_time": "2022-05-03T11:02:16.385Z"
   },
   {
    "duration": 49,
    "start_time": "2022-05-03T11:02:16.393Z"
   },
   {
    "duration": 190,
    "start_time": "2022-05-03T11:02:16.444Z"
   },
   {
    "duration": 42,
    "start_time": "2022-05-03T11:02:16.637Z"
   },
   {
    "duration": 48,
    "start_time": "2022-05-03T11:02:16.682Z"
   },
   {
    "duration": 281,
    "start_time": "2022-05-03T11:02:16.733Z"
   },
   {
    "duration": 1052,
    "start_time": "2022-05-03T11:02:17.023Z"
   },
   {
    "duration": 1515,
    "start_time": "2022-05-03T11:02:18.077Z"
   },
   {
    "duration": 93,
    "start_time": "2022-05-03T11:02:19.594Z"
   },
   {
    "duration": 73,
    "start_time": "2022-05-03T11:02:19.689Z"
   },
   {
    "duration": 23,
    "start_time": "2022-05-03T11:02:19.764Z"
   },
   {
    "duration": 745,
    "start_time": "2022-05-03T11:02:19.789Z"
   },
   {
    "duration": 15,
    "start_time": "2022-05-03T11:02:20.536Z"
   },
   {
    "duration": 199,
    "start_time": "2022-05-03T11:02:20.553Z"
   },
   {
    "duration": 435,
    "start_time": "2022-05-03T11:02:20.755Z"
   },
   {
    "duration": 17,
    "start_time": "2022-05-03T11:02:21.192Z"
   },
   {
    "duration": 42,
    "start_time": "2022-05-03T11:02:21.223Z"
   },
   {
    "duration": 180,
    "start_time": "2022-05-03T11:02:21.267Z"
   },
   {
    "duration": 16,
    "start_time": "2022-05-03T11:02:21.449Z"
   },
   {
    "duration": 9,
    "start_time": "2022-05-03T11:02:21.468Z"
   },
   {
    "duration": 9,
    "start_time": "2022-05-03T11:02:21.479Z"
   },
   {
    "duration": 9,
    "start_time": "2022-05-03T11:02:21.522Z"
   },
   {
    "duration": 49,
    "start_time": "2022-05-03T11:02:21.533Z"
   },
   {
    "duration": 227,
    "start_time": "2022-05-03T11:02:21.585Z"
   },
   {
    "duration": 12,
    "start_time": "2022-05-03T11:05:49.854Z"
   },
   {
    "duration": 14,
    "start_time": "2022-05-03T11:05:59.449Z"
   },
   {
    "duration": 17,
    "start_time": "2022-05-03T11:06:04.449Z"
   },
   {
    "duration": 12,
    "start_time": "2022-05-03T11:06:15.784Z"
   },
   {
    "duration": 9,
    "start_time": "2022-05-03T11:07:38.216Z"
   },
   {
    "duration": 8,
    "start_time": "2022-05-03T11:07:51.004Z"
   },
   {
    "duration": 9,
    "start_time": "2022-05-03T11:07:57.454Z"
   },
   {
    "duration": 8,
    "start_time": "2022-05-03T11:08:13.643Z"
   },
   {
    "duration": 17,
    "start_time": "2022-05-03T11:08:39.680Z"
   },
   {
    "duration": 17,
    "start_time": "2022-05-03T11:09:12.837Z"
   },
   {
    "duration": 24,
    "start_time": "2022-05-03T11:09:19.096Z"
   },
   {
    "duration": 14,
    "start_time": "2022-05-03T11:27:55.265Z"
   },
   {
    "duration": 41,
    "start_time": "2022-05-03T11:28:06.424Z"
   },
   {
    "duration": 33,
    "start_time": "2022-05-03T11:28:13.537Z"
   },
   {
    "duration": 4,
    "start_time": "2022-05-03T11:30:46.556Z"
   },
   {
    "duration": 13,
    "start_time": "2022-05-03T11:36:02.676Z"
   },
   {
    "duration": 35,
    "start_time": "2022-05-03T11:36:10.056Z"
   },
   {
    "duration": 36,
    "start_time": "2022-05-03T11:36:38.608Z"
   },
   {
    "duration": 30,
    "start_time": "2022-05-03T11:38:53.490Z"
   },
   {
    "duration": 29,
    "start_time": "2022-05-03T11:40:25.856Z"
   },
   {
    "duration": 30,
    "start_time": "2022-05-03T11:40:41.088Z"
   },
   {
    "duration": 32,
    "start_time": "2022-05-03T11:44:09.808Z"
   },
   {
    "duration": 30,
    "start_time": "2022-05-03T11:44:17.017Z"
   },
   {
    "duration": 48,
    "start_time": "2022-05-03T11:53:49.357Z"
   },
   {
    "duration": 53,
    "start_time": "2022-05-03T11:54:05.449Z"
   },
   {
    "duration": 49,
    "start_time": "2022-05-03T11:54:12.109Z"
   },
   {
    "duration": 55,
    "start_time": "2022-05-03T12:19:03.643Z"
   },
   {
    "duration": 43,
    "start_time": "2022-05-03T12:19:28.593Z"
   },
   {
    "duration": 54,
    "start_time": "2022-05-03T12:20:31.207Z"
   },
   {
    "duration": 57,
    "start_time": "2022-05-03T12:21:59.044Z"
   },
   {
    "duration": 44,
    "start_time": "2022-05-03T12:22:33.855Z"
   },
   {
    "duration": 57,
    "start_time": "2022-05-03T12:22:40.707Z"
   },
   {
    "duration": 95,
    "start_time": "2022-05-03T12:23:24.484Z"
   },
   {
    "duration": 88,
    "start_time": "2022-05-03T12:23:37.232Z"
   },
   {
    "duration": 63,
    "start_time": "2022-05-03T12:24:04.488Z"
   },
   {
    "duration": 77,
    "start_time": "2022-05-03T12:25:09.404Z"
   },
   {
    "duration": 70,
    "start_time": "2022-05-03T12:25:17.115Z"
   },
   {
    "duration": 28,
    "start_time": "2022-05-03T12:28:29.981Z"
   },
   {
    "duration": 19,
    "start_time": "2022-05-03T12:32:48.690Z"
   },
   {
    "duration": 250,
    "start_time": "2022-05-03T12:38:58.502Z"
   },
   {
    "duration": 181,
    "start_time": "2022-05-03T12:39:11.502Z"
   },
   {
    "duration": 166,
    "start_time": "2022-05-03T12:40:00.836Z"
   },
   {
    "duration": 32,
    "start_time": "2022-05-03T12:40:12.475Z"
   },
   {
    "duration": 29,
    "start_time": "2022-05-03T12:40:47.035Z"
   },
   {
    "duration": 29,
    "start_time": "2022-05-03T12:40:57.059Z"
   },
   {
    "duration": 172,
    "start_time": "2022-05-03T12:41:58.201Z"
   },
   {
    "duration": 173,
    "start_time": "2022-05-03T12:42:01.697Z"
   },
   {
    "duration": 36,
    "start_time": "2022-05-03T12:42:06.854Z"
   },
   {
    "duration": 31,
    "start_time": "2022-05-03T12:43:58.744Z"
   },
   {
    "duration": 16,
    "start_time": "2022-05-03T12:48:52.115Z"
   },
   {
    "duration": 13,
    "start_time": "2022-05-03T12:49:30.857Z"
   },
   {
    "duration": 10,
    "start_time": "2022-05-03T12:50:13.950Z"
   },
   {
    "duration": 14,
    "start_time": "2022-05-03T12:51:05.307Z"
   },
   {
    "duration": 5,
    "start_time": "2022-05-03T12:51:37.076Z"
   },
   {
    "duration": 6,
    "start_time": "2022-05-03T12:52:07.610Z"
   },
   {
    "duration": 9,
    "start_time": "2022-05-03T12:52:15.808Z"
   },
   {
    "duration": 184,
    "start_time": "2022-05-03T12:52:34.563Z"
   },
   {
    "duration": 16,
    "start_time": "2022-05-03T12:52:38.661Z"
   },
   {
    "duration": 12,
    "start_time": "2022-05-03T12:53:07.357Z"
   },
   {
    "duration": 6,
    "start_time": "2022-05-03T12:58:21.945Z"
   },
   {
    "duration": 6,
    "start_time": "2022-05-03T12:58:48.552Z"
   },
   {
    "duration": 5,
    "start_time": "2022-05-03T12:58:56.196Z"
   },
   {
    "duration": 6,
    "start_time": "2022-05-03T13:01:37.288Z"
   },
   {
    "duration": 6,
    "start_time": "2022-05-03T13:01:57.638Z"
   },
   {
    "duration": 9,
    "start_time": "2022-05-03T13:06:47.936Z"
   },
   {
    "duration": 14,
    "start_time": "2022-05-03T13:07:10.237Z"
   },
   {
    "duration": 17,
    "start_time": "2022-05-03T13:10:26.296Z"
   },
   {
    "duration": 41,
    "start_time": "2022-05-03T13:12:53.656Z"
   },
   {
    "duration": 44,
    "start_time": "2022-05-03T13:14:26.956Z"
   },
   {
    "duration": 60,
    "start_time": "2022-05-03T13:14:57.724Z"
   },
   {
    "duration": 18,
    "start_time": "2022-05-03T13:17:43.023Z"
   },
   {
    "duration": 14,
    "start_time": "2022-05-03T13:18:25.962Z"
   },
   {
    "duration": 8,
    "start_time": "2022-05-03T13:18:46.492Z"
   },
   {
    "duration": 17,
    "start_time": "2022-05-03T13:18:59.817Z"
   },
   {
    "duration": 14,
    "start_time": "2022-05-03T13:20:08.808Z"
   },
   {
    "duration": 19,
    "start_time": "2022-05-03T13:20:45.436Z"
   },
   {
    "duration": 12,
    "start_time": "2022-05-03T13:21:30.276Z"
   },
   {
    "duration": 16,
    "start_time": "2022-05-03T13:21:36.024Z"
   },
   {
    "duration": 15,
    "start_time": "2022-05-03T13:21:40.216Z"
   },
   {
    "duration": 14,
    "start_time": "2022-05-03T13:22:18.512Z"
   },
   {
    "duration": 30,
    "start_time": "2022-05-03T13:22:29.236Z"
   },
   {
    "duration": 12,
    "start_time": "2022-05-03T13:22:53.473Z"
   },
   {
    "duration": 11,
    "start_time": "2022-05-03T13:24:43.068Z"
   },
   {
    "duration": 15,
    "start_time": "2022-05-03T13:24:53.718Z"
   },
   {
    "duration": 175,
    "start_time": "2022-05-03T13:25:08.855Z"
   },
   {
    "duration": 5,
    "start_time": "2022-05-03T13:25:11.458Z"
   },
   {
    "duration": 7,
    "start_time": "2022-05-03T13:25:31.436Z"
   },
   {
    "duration": 1471,
    "start_time": "2022-05-03T13:25:43.203Z"
   },
   {
    "duration": 291,
    "start_time": "2022-05-03T13:25:44.676Z"
   },
   {
    "duration": 49,
    "start_time": "2022-05-03T13:25:44.968Z"
   },
   {
    "duration": 27,
    "start_time": "2022-05-03T13:25:45.019Z"
   },
   {
    "duration": 18,
    "start_time": "2022-05-03T13:25:45.048Z"
   },
   {
    "duration": 110,
    "start_time": "2022-05-03T13:25:45.068Z"
   },
   {
    "duration": 25,
    "start_time": "2022-05-03T13:25:45.179Z"
   },
   {
    "duration": 53,
    "start_time": "2022-05-03T13:25:45.206Z"
   },
   {
    "duration": 126,
    "start_time": "2022-05-03T13:25:45.261Z"
   },
   {
    "duration": 89,
    "start_time": "2022-05-03T13:25:45.391Z"
   },
   {
    "duration": 18,
    "start_time": "2022-05-03T13:25:45.482Z"
   },
   {
    "duration": 134,
    "start_time": "2022-05-03T13:25:45.501Z"
   },
   {
    "duration": 20,
    "start_time": "2022-05-03T13:25:45.637Z"
   },
   {
    "duration": 23,
    "start_time": "2022-05-03T13:25:45.659Z"
   },
   {
    "duration": 76,
    "start_time": "2022-05-03T13:25:45.683Z"
   },
   {
    "duration": 161,
    "start_time": "2022-05-03T13:25:45.761Z"
   },
   {
    "duration": 52,
    "start_time": "2022-05-03T13:25:45.924Z"
   },
   {
    "duration": 49,
    "start_time": "2022-05-03T13:25:45.979Z"
   },
   {
    "duration": 204,
    "start_time": "2022-05-03T13:25:46.029Z"
   },
   {
    "duration": 710,
    "start_time": "2022-05-03T13:25:46.236Z"
   },
   {
    "duration": 1264,
    "start_time": "2022-05-03T13:25:46.950Z"
   },
   {
    "duration": 109,
    "start_time": "2022-05-03T13:25:48.216Z"
   },
   {
    "duration": 74,
    "start_time": "2022-05-03T13:25:48.327Z"
   },
   {
    "duration": 54,
    "start_time": "2022-05-03T13:25:48.403Z"
   },
   {
    "duration": 612,
    "start_time": "2022-05-03T13:25:48.459Z"
   },
   {
    "duration": 10,
    "start_time": "2022-05-03T13:25:49.073Z"
   },
   {
    "duration": 204,
    "start_time": "2022-05-03T13:25:49.085Z"
   },
   {
    "duration": 450,
    "start_time": "2022-05-03T13:25:49.293Z"
   },
   {
    "duration": 19,
    "start_time": "2022-05-03T13:25:49.745Z"
   },
   {
    "duration": 35,
    "start_time": "2022-05-03T13:25:49.766Z"
   },
   {
    "duration": 185,
    "start_time": "2022-05-03T13:25:49.803Z"
   },
   {
    "duration": 15,
    "start_time": "2022-05-03T13:25:49.990Z"
   },
   {
    "duration": 26,
    "start_time": "2022-05-03T13:25:50.007Z"
   },
   {
    "duration": 6,
    "start_time": "2022-05-03T13:25:50.035Z"
   },
   {
    "duration": 8,
    "start_time": "2022-05-03T13:25:50.043Z"
   },
   {
    "duration": 20,
    "start_time": "2022-05-03T13:25:50.052Z"
   },
   {
    "duration": 13,
    "start_time": "2022-05-03T13:25:50.074Z"
   },
   {
    "duration": 39,
    "start_time": "2022-05-03T13:25:50.088Z"
   },
   {
    "duration": 224,
    "start_time": "2022-05-03T13:25:50.129Z"
   },
   {
    "duration": 7,
    "start_time": "2022-05-03T13:25:50.355Z"
   },
   {
    "duration": 197,
    "start_time": "2022-05-03T13:26:53.526Z"
   },
   {
    "duration": 11,
    "start_time": "2022-05-03T13:27:49.743Z"
   },
   {
    "duration": 150,
    "start_time": "2022-05-03T13:28:35.362Z"
   },
   {
    "duration": 6,
    "start_time": "2022-05-03T13:28:39.122Z"
   },
   {
    "duration": 149,
    "start_time": "2022-05-03T13:29:36.836Z"
   },
   {
    "duration": 139,
    "start_time": "2022-05-03T13:29:50.791Z"
   },
   {
    "duration": 10,
    "start_time": "2022-05-03T13:29:52.823Z"
   },
   {
    "duration": 172,
    "start_time": "2022-05-03T13:30:07.202Z"
   },
   {
    "duration": 6,
    "start_time": "2022-05-03T13:30:16.743Z"
   },
   {
    "duration": 115,
    "start_time": "2022-05-03T13:47:57.096Z"
   },
   {
    "duration": 24,
    "start_time": "2022-05-03T13:48:09.576Z"
   },
   {
    "duration": 181,
    "start_time": "2022-05-03T13:50:28.856Z"
   },
   {
    "duration": 23,
    "start_time": "2022-05-03T13:50:37.068Z"
   },
   {
    "duration": 49,
    "start_time": "2022-05-03T13:54:24.756Z"
   },
   {
    "duration": 59,
    "start_time": "2022-05-03T13:54:44.176Z"
   },
   {
    "duration": 42,
    "start_time": "2022-05-03T13:54:53.056Z"
   },
   {
    "duration": 40,
    "start_time": "2022-05-03T13:55:07.736Z"
   },
   {
    "duration": 38,
    "start_time": "2022-05-03T13:57:09.404Z"
   },
   {
    "duration": 3,
    "start_time": "2022-05-03T13:57:48.012Z"
   },
   {
    "duration": 12,
    "start_time": "2022-05-03T13:57:52.548Z"
   },
   {
    "duration": 13,
    "start_time": "2022-05-03T13:59:02.974Z"
   },
   {
    "duration": 24,
    "start_time": "2022-05-03T14:01:12.756Z"
   },
   {
    "duration": 41,
    "start_time": "2022-05-03T14:01:17.715Z"
   },
   {
    "duration": 34,
    "start_time": "2022-05-03T14:03:33.657Z"
   },
   {
    "duration": 38,
    "start_time": "2022-05-03T14:03:44.986Z"
   },
   {
    "duration": 1425,
    "start_time": "2022-05-03T14:04:39.940Z"
   },
   {
    "duration": 124,
    "start_time": "2022-05-03T18:49:08.501Z"
   },
   {
    "duration": 2493,
    "start_time": "2022-05-03T18:49:14.622Z"
   },
   {
    "duration": 643,
    "start_time": "2022-05-03T18:49:17.124Z"
   },
   {
    "duration": 71,
    "start_time": "2022-05-03T18:49:17.770Z"
   },
   {
    "duration": 27,
    "start_time": "2022-05-03T18:49:17.845Z"
   },
   {
    "duration": 61,
    "start_time": "2022-05-03T18:49:17.878Z"
   },
   {
    "duration": 154,
    "start_time": "2022-05-03T18:49:17.942Z"
   },
   {
    "duration": 64,
    "start_time": "2022-05-03T18:49:18.100Z"
   },
   {
    "duration": 63,
    "start_time": "2022-05-03T18:49:18.167Z"
   },
   {
    "duration": 143,
    "start_time": "2022-05-03T18:49:18.232Z"
   },
   {
    "duration": 121,
    "start_time": "2022-05-03T18:49:18.378Z"
   },
   {
    "duration": 45,
    "start_time": "2022-05-03T18:49:18.502Z"
   },
   {
    "duration": 190,
    "start_time": "2022-05-03T18:49:18.549Z"
   },
   {
    "duration": 20,
    "start_time": "2022-05-03T18:49:18.744Z"
   },
   {
    "duration": 9,
    "start_time": "2022-05-03T18:49:18.769Z"
   },
   {
    "duration": 61,
    "start_time": "2022-05-03T18:49:18.781Z"
   },
   {
    "duration": 261,
    "start_time": "2022-05-03T18:49:18.845Z"
   },
   {
    "duration": 62,
    "start_time": "2022-05-03T18:49:19.109Z"
   },
   {
    "duration": 57,
    "start_time": "2022-05-03T18:49:19.174Z"
   },
   {
    "duration": 332,
    "start_time": "2022-05-03T18:49:19.236Z"
   },
   {
    "duration": 1179,
    "start_time": "2022-05-03T18:49:19.571Z"
   },
   {
    "duration": 2616,
    "start_time": "2022-05-03T18:49:20.752Z"
   },
   {
    "duration": 175,
    "start_time": "2022-05-03T18:49:23.371Z"
   },
   {
    "duration": 129,
    "start_time": "2022-05-03T18:49:23.549Z"
   },
   {
    "duration": 67,
    "start_time": "2022-05-03T18:49:23.682Z"
   },
   {
    "duration": 1008,
    "start_time": "2022-05-03T18:49:23.752Z"
   },
   {
    "duration": 16,
    "start_time": "2022-05-03T18:49:24.763Z"
   },
   {
    "duration": 346,
    "start_time": "2022-05-03T18:49:24.782Z"
   },
   {
    "duration": 14,
    "start_time": "2022-05-03T18:49:32.632Z"
   },
   {
    "duration": 2943,
    "start_time": "2022-05-03T19:18:43.468Z"
   },
   {
    "duration": 9,
    "start_time": "2022-05-03T19:19:21.884Z"
   },
   {
    "duration": 1900,
    "start_time": "2022-05-03T19:19:22.062Z"
   },
   {
    "duration": 60,
    "start_time": "2022-05-03T19:19:23.965Z"
   },
   {
    "duration": 28,
    "start_time": "2022-05-03T19:19:24.028Z"
   },
   {
    "duration": 25,
    "start_time": "2022-05-03T19:19:24.059Z"
   },
   {
    "duration": 138,
    "start_time": "2022-05-03T19:19:24.127Z"
   },
   {
    "duration": 74,
    "start_time": "2022-05-03T19:19:24.268Z"
   },
   {
    "duration": 126,
    "start_time": "2022-05-03T19:19:24.345Z"
   },
   {
    "duration": 136,
    "start_time": "2022-05-03T19:19:24.473Z"
   },
   {
    "duration": 118,
    "start_time": "2022-05-03T19:19:24.611Z"
   },
   {
    "duration": 32,
    "start_time": "2022-05-03T19:19:24.731Z"
   },
   {
    "duration": 177,
    "start_time": "2022-05-03T19:19:24.765Z"
   },
   {
    "duration": 19,
    "start_time": "2022-05-03T19:19:24.945Z"
   },
   {
    "duration": 7,
    "start_time": "2022-05-03T19:19:24.967Z"
   },
   {
    "duration": 70,
    "start_time": "2022-05-03T19:19:24.980Z"
   },
   {
    "duration": 355,
    "start_time": "2022-05-03T19:19:25.052Z"
   },
   {
    "duration": 68,
    "start_time": "2022-05-03T19:19:25.410Z"
   },
   {
    "duration": 58,
    "start_time": "2022-05-03T19:19:25.481Z"
   },
   {
    "duration": 359,
    "start_time": "2022-05-03T19:19:25.542Z"
   },
   {
    "duration": 1359,
    "start_time": "2022-05-03T19:19:25.904Z"
   },
   {
    "duration": 2497,
    "start_time": "2022-05-03T19:19:27.266Z"
   },
   {
    "duration": 184,
    "start_time": "2022-05-03T19:19:29.766Z"
   },
   {
    "duration": 133,
    "start_time": "2022-05-03T19:19:29.953Z"
   },
   {
    "duration": 61,
    "start_time": "2022-05-03T19:19:30.089Z"
   },
   {
    "duration": 1116,
    "start_time": "2022-05-03T19:19:30.152Z"
   },
   {
    "duration": 15,
    "start_time": "2022-05-03T19:19:31.271Z"
   },
   {
    "duration": 461,
    "start_time": "2022-05-03T19:19:31.289Z"
   },
   {
    "duration": 820,
    "start_time": "2022-05-03T19:19:31.753Z"
   },
   {
    "duration": 18,
    "start_time": "2022-05-03T19:19:32.576Z"
   },
   {
    "duration": 88,
    "start_time": "2022-05-03T19:19:32.596Z"
   },
   {
    "duration": 265,
    "start_time": "2022-05-03T19:19:32.687Z"
   },
   {
    "duration": 22,
    "start_time": "2022-05-03T19:19:32.955Z"
   },
   {
    "duration": 12,
    "start_time": "2022-05-03T19:19:32.979Z"
   },
   {
    "duration": 41,
    "start_time": "2022-05-03T19:19:32.993Z"
   },
   {
    "duration": 16,
    "start_time": "2022-05-03T19:19:33.036Z"
   },
   {
    "duration": 38,
    "start_time": "2022-05-03T19:19:33.055Z"
   },
   {
    "duration": 54,
    "start_time": "2022-05-03T19:19:33.096Z"
   },
   {
    "duration": 14,
    "start_time": "2022-05-03T19:19:33.153Z"
   },
   {
    "duration": 281,
    "start_time": "2022-05-03T19:19:33.169Z"
   },
   {
    "duration": 8,
    "start_time": "2022-05-03T19:19:33.452Z"
   },
   {
    "duration": 202,
    "start_time": "2022-05-03T19:19:33.463Z"
   },
   {
    "duration": 24,
    "start_time": "2022-05-03T19:20:46.648Z"
   },
   {
    "duration": 22,
    "start_time": "2022-05-03T19:21:22.767Z"
   },
   {
    "duration": 15,
    "start_time": "2022-05-03T19:22:07.187Z"
   },
   {
    "duration": 18,
    "start_time": "2022-05-03T19:22:20.756Z"
   },
   {
    "duration": 28,
    "start_time": "2022-05-03T19:22:36.567Z"
   },
   {
    "duration": 22,
    "start_time": "2022-05-03T19:22:52.872Z"
   },
   {
    "duration": 32,
    "start_time": "2022-05-03T19:23:09.821Z"
   },
   {
    "duration": 2124,
    "start_time": "2022-05-03T19:23:27.147Z"
   },
   {
    "duration": 2054,
    "start_time": "2022-05-03T19:23:56.028Z"
   },
   {
    "duration": 2205,
    "start_time": "2022-05-03T19:24:06.467Z"
   },
   {
    "duration": 2491,
    "start_time": "2022-05-03T19:24:18.988Z"
   },
   {
    "duration": 458,
    "start_time": "2022-05-03T19:24:21.483Z"
   },
   {
    "duration": 68,
    "start_time": "2022-05-03T19:24:21.943Z"
   },
   {
    "duration": 39,
    "start_time": "2022-05-03T19:24:22.025Z"
   },
   {
    "duration": 64,
    "start_time": "2022-05-03T19:24:22.069Z"
   },
   {
    "duration": 141,
    "start_time": "2022-05-03T19:24:22.136Z"
   },
   {
    "duration": 57,
    "start_time": "2022-05-03T19:24:22.279Z"
   },
   {
    "duration": 34,
    "start_time": "2022-05-03T19:24:22.338Z"
   },
   {
    "duration": 220,
    "start_time": "2022-05-03T19:24:22.375Z"
   },
   {
    "duration": 175,
    "start_time": "2022-05-03T19:24:22.598Z"
   },
   {
    "duration": 53,
    "start_time": "2022-05-03T19:24:22.775Z"
   },
   {
    "duration": 162,
    "start_time": "2022-05-03T19:24:22.831Z"
   },
   {
    "duration": 28,
    "start_time": "2022-05-03T19:24:22.996Z"
   },
   {
    "duration": 9,
    "start_time": "2022-05-03T19:24:23.029Z"
   },
   {
    "duration": 41,
    "start_time": "2022-05-03T19:24:23.041Z"
   },
   {
    "duration": 306,
    "start_time": "2022-05-03T19:24:23.084Z"
   },
   {
    "duration": 78,
    "start_time": "2022-05-03T19:24:23.392Z"
   },
   {
    "duration": 35,
    "start_time": "2022-05-03T19:24:23.472Z"
   },
   {
    "duration": 354,
    "start_time": "2022-05-03T19:24:23.509Z"
   },
   {
    "duration": 1046,
    "start_time": "2022-05-03T19:24:23.865Z"
   },
   {
    "duration": 2243,
    "start_time": "2022-05-03T19:24:24.914Z"
   },
   {
    "duration": 132,
    "start_time": "2022-05-03T19:24:27.160Z"
   },
   {
    "duration": 98,
    "start_time": "2022-05-03T19:24:27.295Z"
   },
   {
    "duration": 52,
    "start_time": "2022-05-03T19:24:27.396Z"
   },
   {
    "duration": 1164,
    "start_time": "2022-05-03T19:24:27.450Z"
   },
   {
    "duration": 20,
    "start_time": "2022-05-03T19:24:28.625Z"
   },
   {
    "duration": 451,
    "start_time": "2022-05-03T19:24:28.647Z"
   },
   {
    "duration": 944,
    "start_time": "2022-05-03T19:24:29.101Z"
   },
   {
    "duration": 20,
    "start_time": "2022-05-03T19:24:30.048Z"
   },
   {
    "duration": 77,
    "start_time": "2022-05-03T19:24:30.071Z"
   },
   {
    "duration": 245,
    "start_time": "2022-05-03T19:24:30.151Z"
   },
   {
    "duration": 35,
    "start_time": "2022-05-03T19:24:30.398Z"
   },
   {
    "duration": 22,
    "start_time": "2022-05-03T19:24:30.436Z"
   },
   {
    "duration": 9,
    "start_time": "2022-05-03T19:24:30.461Z"
   },
   {
    "duration": 12,
    "start_time": "2022-05-03T19:24:30.472Z"
   },
   {
    "duration": 65,
    "start_time": "2022-05-03T19:24:30.486Z"
   },
   {
    "duration": 18,
    "start_time": "2022-05-03T19:24:30.554Z"
   },
   {
    "duration": 13,
    "start_time": "2022-05-03T19:24:30.574Z"
   },
   {
    "duration": 275,
    "start_time": "2022-05-03T19:24:30.590Z"
   },
   {
    "duration": 7,
    "start_time": "2022-05-03T19:24:30.867Z"
   },
   {
    "duration": 103,
    "start_time": "2022-05-03T19:24:30.882Z"
   },
   {
    "duration": 43,
    "start_time": "2022-05-03T19:24:30.987Z"
   },
   {
    "duration": 1997,
    "start_time": "2022-05-03T19:24:31.051Z"
   },
   {
    "duration": 101,
    "start_time": "2022-05-03T19:25:27.918Z"
   },
   {
    "duration": 2598,
    "start_time": "2022-05-03T19:26:36.179Z"
   },
   {
    "duration": 2047,
    "start_time": "2022-05-04T06:47:33.284Z"
   },
   {
    "duration": 516,
    "start_time": "2022-05-04T06:47:35.334Z"
   },
   {
    "duration": 68,
    "start_time": "2022-05-04T06:47:35.852Z"
   },
   {
    "duration": 23,
    "start_time": "2022-05-04T06:47:35.924Z"
   },
   {
    "duration": 24,
    "start_time": "2022-05-04T06:47:35.949Z"
   },
   {
    "duration": 164,
    "start_time": "2022-05-04T06:47:35.975Z"
   },
   {
    "duration": 36,
    "start_time": "2022-05-04T06:47:36.141Z"
   },
   {
    "duration": 52,
    "start_time": "2022-05-04T06:47:36.179Z"
   },
   {
    "duration": 139,
    "start_time": "2022-05-04T06:47:36.233Z"
   },
   {
    "duration": 107,
    "start_time": "2022-05-04T06:47:36.376Z"
   },
   {
    "duration": 45,
    "start_time": "2022-05-04T06:47:36.485Z"
   },
   {
    "duration": 148,
    "start_time": "2022-05-04T06:47:36.532Z"
   },
   {
    "duration": 18,
    "start_time": "2022-05-04T06:47:36.682Z"
   },
   {
    "duration": 23,
    "start_time": "2022-05-04T06:47:36.702Z"
   },
   {
    "duration": 35,
    "start_time": "2022-05-04T06:47:36.727Z"
   },
   {
    "duration": 239,
    "start_time": "2022-05-04T06:47:36.765Z"
   },
   {
    "duration": 59,
    "start_time": "2022-05-04T06:47:37.006Z"
   },
   {
    "duration": 35,
    "start_time": "2022-05-04T06:47:37.067Z"
   },
   {
    "duration": 334,
    "start_time": "2022-05-04T06:47:37.104Z"
   },
   {
    "duration": 1019,
    "start_time": "2022-05-04T06:47:37.440Z"
   },
   {
    "duration": 2163,
    "start_time": "2022-05-04T06:47:38.461Z"
   },
   {
    "duration": 116,
    "start_time": "2022-05-04T06:47:40.626Z"
   },
   {
    "duration": 91,
    "start_time": "2022-05-04T06:47:40.744Z"
   },
   {
    "duration": 35,
    "start_time": "2022-05-04T06:47:40.837Z"
   },
   {
    "duration": 867,
    "start_time": "2022-05-04T06:47:40.874Z"
   },
   {
    "duration": 15,
    "start_time": "2022-05-04T06:47:41.743Z"
   },
   {
    "duration": 310,
    "start_time": "2022-05-04T06:47:41.760Z"
   },
   {
    "duration": 641,
    "start_time": "2022-05-04T06:47:42.076Z"
   },
   {
    "duration": 20,
    "start_time": "2022-05-04T06:47:42.720Z"
   },
   {
    "duration": 52,
    "start_time": "2022-05-04T06:47:42.743Z"
   },
   {
    "duration": 245,
    "start_time": "2022-05-04T06:47:42.825Z"
   },
   {
    "duration": 23,
    "start_time": "2022-05-04T06:47:43.073Z"
   },
   {
    "duration": 31,
    "start_time": "2022-05-04T06:47:43.099Z"
   },
   {
    "duration": 8,
    "start_time": "2022-05-04T06:47:43.133Z"
   },
   {
    "duration": 15,
    "start_time": "2022-05-04T06:47:43.144Z"
   },
   {
    "duration": 63,
    "start_time": "2022-05-04T06:47:43.162Z"
   },
   {
    "duration": 21,
    "start_time": "2022-05-04T06:47:43.227Z"
   },
   {
    "duration": 30,
    "start_time": "2022-05-04T06:47:43.251Z"
   },
   {
    "duration": 247,
    "start_time": "2022-05-04T06:47:43.284Z"
   },
   {
    "duration": 6,
    "start_time": "2022-05-04T06:47:43.534Z"
   },
   {
    "duration": 13,
    "start_time": "2022-05-04T06:49:51.453Z"
   },
   {
    "duration": 19,
    "start_time": "2022-05-04T06:51:23.914Z"
   },
   {
    "duration": 11,
    "start_time": "2022-05-04T06:51:44.415Z"
   },
   {
    "duration": 13,
    "start_time": "2022-05-04T06:51:51.819Z"
   },
   {
    "duration": 12,
    "start_time": "2022-05-04T06:58:25.416Z"
   },
   {
    "duration": 5,
    "start_time": "2022-05-04T06:58:37.569Z"
   },
   {
    "duration": 8,
    "start_time": "2022-05-04T06:59:04.210Z"
   },
   {
    "duration": 5,
    "start_time": "2022-05-04T07:00:29.015Z"
   },
   {
    "duration": 6,
    "start_time": "2022-05-04T07:00:39.991Z"
   },
   {
    "duration": 5,
    "start_time": "2022-05-04T07:00:52.090Z"
   },
   {
    "duration": 6,
    "start_time": "2022-05-04T07:01:18.804Z"
   },
   {
    "duration": 5,
    "start_time": "2022-05-04T07:04:12.096Z"
   },
   {
    "duration": 6,
    "start_time": "2022-05-04T07:04:24.033Z"
   },
   {
    "duration": 151,
    "start_time": "2022-05-04T07:08:46.489Z"
   },
   {
    "duration": 12,
    "start_time": "2022-05-04T07:08:51.691Z"
   },
   {
    "duration": 13,
    "start_time": "2022-05-04T07:09:00.206Z"
   },
   {
    "duration": 6,
    "start_time": "2022-05-04T07:09:28.367Z"
   },
   {
    "duration": 12,
    "start_time": "2022-05-04T07:09:34.605Z"
   },
   {
    "duration": 12,
    "start_time": "2022-05-04T07:09:40.682Z"
   },
   {
    "duration": 14,
    "start_time": "2022-05-04T07:09:47.356Z"
   },
   {
    "duration": 14,
    "start_time": "2022-05-04T07:11:21.420Z"
   },
   {
    "duration": 13,
    "start_time": "2022-05-04T07:11:27.258Z"
   },
   {
    "duration": 5,
    "start_time": "2022-05-04T07:11:36.710Z"
   },
   {
    "duration": 5,
    "start_time": "2022-05-04T07:16:34.375Z"
   },
   {
    "duration": 234,
    "start_time": "2022-05-04T07:53:46.926Z"
   },
   {
    "duration": 288,
    "start_time": "2022-05-04T07:54:19.035Z"
   },
   {
    "duration": 288,
    "start_time": "2022-05-04T07:55:18.722Z"
   },
   {
    "duration": 14,
    "start_time": "2022-05-04T07:56:06.772Z"
   },
   {
    "duration": 6,
    "start_time": "2022-05-04T07:56:30.939Z"
   },
   {
    "duration": 14,
    "start_time": "2022-05-04T07:56:33.166Z"
   },
   {
    "duration": 5,
    "start_time": "2022-05-04T07:56:43.031Z"
   },
   {
    "duration": 16,
    "start_time": "2022-05-04T07:56:45.527Z"
   },
   {
    "duration": 12,
    "start_time": "2022-05-04T07:57:03.730Z"
   },
   {
    "duration": 12,
    "start_time": "2022-05-04T07:57:19.419Z"
   },
   {
    "duration": 19,
    "start_time": "2022-05-04T07:57:31.402Z"
   },
   {
    "duration": 13,
    "start_time": "2022-05-04T07:57:55.593Z"
   },
   {
    "duration": 318,
    "start_time": "2022-05-04T07:58:55.693Z"
   },
   {
    "duration": 301,
    "start_time": "2022-05-04T07:59:10.952Z"
   },
   {
    "duration": 356,
    "start_time": "2022-05-04T07:59:18.821Z"
   },
   {
    "duration": 342,
    "start_time": "2022-05-04T08:01:37.752Z"
   },
   {
    "duration": 370,
    "start_time": "2022-05-04T08:02:08.171Z"
   },
   {
    "duration": 343,
    "start_time": "2022-05-04T08:02:18.423Z"
   },
   {
    "duration": 405,
    "start_time": "2022-05-04T08:02:35.081Z"
   },
   {
    "duration": 6,
    "start_time": "2022-05-04T08:02:45.749Z"
   },
   {
    "duration": 398,
    "start_time": "2022-05-04T08:02:47.280Z"
   },
   {
    "duration": 425,
    "start_time": "2022-05-04T08:03:09.902Z"
   },
   {
    "duration": 452,
    "start_time": "2022-05-04T08:03:20.635Z"
   },
   {
    "duration": 341,
    "start_time": "2022-05-04T08:03:28.592Z"
   },
   {
    "duration": 398,
    "start_time": "2022-05-04T08:03:33.391Z"
   },
   {
    "duration": 340,
    "start_time": "2022-05-04T08:03:43.229Z"
   },
   {
    "duration": 338,
    "start_time": "2022-05-04T08:03:59.741Z"
   },
   {
    "duration": 337,
    "start_time": "2022-05-04T08:04:09.911Z"
   },
   {
    "duration": 340,
    "start_time": "2022-05-04T08:04:59.795Z"
   },
   {
    "duration": 358,
    "start_time": "2022-05-04T08:05:51.551Z"
   },
   {
    "duration": 329,
    "start_time": "2022-05-04T08:09:39.673Z"
   },
   {
    "duration": 338,
    "start_time": "2022-05-04T08:09:58.338Z"
   },
   {
    "duration": 336,
    "start_time": "2022-05-04T08:10:16.074Z"
   },
   {
    "duration": 130,
    "start_time": "2022-05-04T08:12:09.342Z"
   },
   {
    "duration": 344,
    "start_time": "2022-05-04T08:12:16.668Z"
   },
   {
    "duration": 9,
    "start_time": "2022-05-04T08:15:09.430Z"
   },
   {
    "duration": 9,
    "start_time": "2022-05-04T08:15:58.833Z"
   },
   {
    "duration": 10,
    "start_time": "2022-05-04T08:16:04.352Z"
   },
   {
    "duration": 10,
    "start_time": "2022-05-04T08:16:14.070Z"
   },
   {
    "duration": 12,
    "start_time": "2022-05-04T08:19:50.786Z"
   },
   {
    "duration": 15,
    "start_time": "2022-05-04T08:20:50.318Z"
   },
   {
    "duration": 12,
    "start_time": "2022-05-04T08:24:32.466Z"
   },
   {
    "duration": 12,
    "start_time": "2022-05-04T08:25:25.035Z"
   },
   {
    "duration": 10,
    "start_time": "2022-05-04T08:25:52.850Z"
   },
   {
    "duration": 12,
    "start_time": "2022-05-04T08:25:57.232Z"
   },
   {
    "duration": 10,
    "start_time": "2022-05-04T08:26:01.680Z"
   },
   {
    "duration": 12,
    "start_time": "2022-05-04T08:26:09.134Z"
   },
   {
    "duration": 13,
    "start_time": "2022-05-04T08:26:26.995Z"
   },
   {
    "duration": 13,
    "start_time": "2022-05-04T08:26:35.736Z"
   },
   {
    "duration": 12,
    "start_time": "2022-05-04T08:26:40.586Z"
   },
   {
    "duration": 11,
    "start_time": "2022-05-04T08:26:45.692Z"
   },
   {
    "duration": 16,
    "start_time": "2022-05-04T08:26:50.970Z"
   },
   {
    "duration": 12,
    "start_time": "2022-05-04T08:29:31.200Z"
   },
   {
    "duration": 131,
    "start_time": "2022-05-04T08:29:43.270Z"
   },
   {
    "duration": 13,
    "start_time": "2022-05-04T08:29:47.212Z"
   },
   {
    "duration": 11,
    "start_time": "2022-05-04T08:32:07.372Z"
   },
   {
    "duration": 11,
    "start_time": "2022-05-04T08:32:13.878Z"
   },
   {
    "duration": 164,
    "start_time": "2022-05-04T09:17:48.012Z"
   },
   {
    "duration": 1746,
    "start_time": "2022-05-04T10:08:06.244Z"
   },
   {
    "duration": 322,
    "start_time": "2022-05-04T10:08:07.993Z"
   },
   {
    "duration": 73,
    "start_time": "2022-05-04T10:08:08.317Z"
   },
   {
    "duration": 43,
    "start_time": "2022-05-04T10:08:08.393Z"
   },
   {
    "duration": 26,
    "start_time": "2022-05-04T10:08:08.439Z"
   },
   {
    "duration": 150,
    "start_time": "2022-05-04T10:08:08.468Z"
   },
   {
    "duration": 40,
    "start_time": "2022-05-04T10:08:08.625Z"
   },
   {
    "duration": 30,
    "start_time": "2022-05-04T10:08:08.668Z"
   },
   {
    "duration": 145,
    "start_time": "2022-05-04T10:08:08.724Z"
   },
   {
    "duration": 114,
    "start_time": "2022-05-04T10:08:08.871Z"
   },
   {
    "duration": 40,
    "start_time": "2022-05-04T10:08:08.987Z"
   },
   {
    "duration": 164,
    "start_time": "2022-05-04T10:08:09.032Z"
   },
   {
    "duration": 29,
    "start_time": "2022-05-04T10:08:09.198Z"
   },
   {
    "duration": 12,
    "start_time": "2022-05-04T10:08:09.232Z"
   },
   {
    "duration": 44,
    "start_time": "2022-05-04T10:08:09.247Z"
   },
   {
    "duration": 251,
    "start_time": "2022-05-04T10:08:09.293Z"
   },
   {
    "duration": 56,
    "start_time": "2022-05-04T10:08:09.546Z"
   },
   {
    "duration": 55,
    "start_time": "2022-05-04T10:08:09.604Z"
   },
   {
    "duration": 329,
    "start_time": "2022-05-04T10:08:09.662Z"
   },
   {
    "duration": 1060,
    "start_time": "2022-05-04T10:08:09.994Z"
   },
   {
    "duration": 2309,
    "start_time": "2022-05-04T10:08:11.057Z"
   },
   {
    "duration": 124,
    "start_time": "2022-05-04T10:08:13.369Z"
   },
   {
    "duration": 91,
    "start_time": "2022-05-04T10:08:13.496Z"
   },
   {
    "duration": 59,
    "start_time": "2022-05-04T10:08:13.589Z"
   },
   {
    "duration": 849,
    "start_time": "2022-05-04T10:08:13.650Z"
   },
   {
    "duration": 27,
    "start_time": "2022-05-04T10:08:14.501Z"
   },
   {
    "duration": 448,
    "start_time": "2022-05-04T10:08:14.532Z"
   },
   {
    "duration": 986,
    "start_time": "2022-05-04T10:08:14.984Z"
   },
   {
    "duration": 25,
    "start_time": "2022-05-04T10:08:15.972Z"
   },
   {
    "duration": 82,
    "start_time": "2022-05-04T10:08:16.000Z"
   },
   {
    "duration": 357,
    "start_time": "2022-05-04T10:08:16.085Z"
   },
   {
    "duration": 27,
    "start_time": "2022-05-04T10:08:16.445Z"
   },
   {
    "duration": 13,
    "start_time": "2022-05-04T10:08:16.475Z"
   },
   {
    "duration": 39,
    "start_time": "2022-05-04T10:08:16.491Z"
   },
   {
    "duration": 21,
    "start_time": "2022-05-04T10:08:16.532Z"
   },
   {
    "duration": 28,
    "start_time": "2022-05-04T10:08:16.555Z"
   },
   {
    "duration": 17,
    "start_time": "2022-05-04T10:08:16.585Z"
   },
   {
    "duration": 17,
    "start_time": "2022-05-04T10:08:16.626Z"
   },
   {
    "duration": 303,
    "start_time": "2022-05-04T10:08:16.646Z"
   },
   {
    "duration": 7,
    "start_time": "2022-05-04T10:08:16.952Z"
   },
   {
    "duration": 6,
    "start_time": "2022-05-04T10:08:16.965Z"
   },
   {
    "duration": 393,
    "start_time": "2022-05-04T10:08:16.973Z"
   },
   {
    "duration": 9,
    "start_time": "2022-05-04T10:08:17.368Z"
   },
   {
    "duration": 14,
    "start_time": "2022-05-04T10:08:17.379Z"
   },
   {
    "duration": 35,
    "start_time": "2022-05-04T10:08:17.395Z"
   },
   {
    "duration": 431,
    "start_time": "2022-05-04T10:08:33.580Z"
   },
   {
    "duration": 1477,
    "start_time": "2022-05-05T08:41:52.366Z"
   },
   {
    "duration": 234,
    "start_time": "2022-05-05T08:41:53.845Z"
   },
   {
    "duration": 47,
    "start_time": "2022-05-05T08:41:54.081Z"
   },
   {
    "duration": 16,
    "start_time": "2022-05-05T08:41:54.130Z"
   },
   {
    "duration": 38,
    "start_time": "2022-05-05T08:41:54.148Z"
   },
   {
    "duration": 104,
    "start_time": "2022-05-05T08:41:54.188Z"
   },
   {
    "duration": 24,
    "start_time": "2022-05-05T08:41:54.294Z"
   },
   {
    "duration": 20,
    "start_time": "2022-05-05T08:41:54.320Z"
   },
   {
    "duration": 109,
    "start_time": "2022-05-05T08:41:54.342Z"
   },
   {
    "duration": 83,
    "start_time": "2022-05-05T08:41:54.453Z"
   },
   {
    "duration": 36,
    "start_time": "2022-05-05T08:41:54.538Z"
   },
   {
    "duration": 108,
    "start_time": "2022-05-05T08:41:54.576Z"
   },
   {
    "duration": 13,
    "start_time": "2022-05-05T08:41:54.685Z"
   },
   {
    "duration": 4,
    "start_time": "2022-05-05T08:41:54.702Z"
   },
   {
    "duration": 25,
    "start_time": "2022-05-05T08:41:54.707Z"
   },
   {
    "duration": 178,
    "start_time": "2022-05-05T08:41:54.734Z"
   },
   {
    "duration": 37,
    "start_time": "2022-05-05T08:41:54.914Z"
   },
   {
    "duration": 36,
    "start_time": "2022-05-05T08:41:54.953Z"
   },
   {
    "duration": 194,
    "start_time": "2022-05-05T08:41:54.991Z"
   },
   {
    "duration": 611,
    "start_time": "2022-05-05T08:41:55.187Z"
   },
   {
    "duration": 1087,
    "start_time": "2022-05-05T08:41:55.800Z"
   },
   {
    "duration": 68,
    "start_time": "2022-05-05T08:41:56.888Z"
   },
   {
    "duration": 68,
    "start_time": "2022-05-05T08:41:56.957Z"
   },
   {
    "duration": 24,
    "start_time": "2022-05-05T08:41:57.026Z"
   },
   {
    "duration": 634,
    "start_time": "2022-05-05T08:41:57.052Z"
   },
   {
    "duration": 11,
    "start_time": "2022-05-05T08:41:57.688Z"
   },
   {
    "duration": 183,
    "start_time": "2022-05-05T08:41:57.701Z"
   },
   {
    "duration": 416,
    "start_time": "2022-05-05T08:41:57.886Z"
   },
   {
    "duration": 14,
    "start_time": "2022-05-05T08:41:58.304Z"
   },
   {
    "duration": 38,
    "start_time": "2022-05-05T08:41:58.320Z"
   },
   {
    "duration": 176,
    "start_time": "2022-05-05T08:41:58.374Z"
   },
   {
    "duration": 31,
    "start_time": "2022-05-05T08:41:58.552Z"
   },
   {
    "duration": 10,
    "start_time": "2022-05-05T08:41:58.585Z"
   },
   {
    "duration": 6,
    "start_time": "2022-05-05T08:41:58.598Z"
   },
   {
    "duration": 11,
    "start_time": "2022-05-05T08:41:58.606Z"
   },
   {
    "duration": 20,
    "start_time": "2022-05-05T08:41:58.619Z"
   },
   {
    "duration": 44,
    "start_time": "2022-05-05T08:41:58.641Z"
   },
   {
    "duration": 13,
    "start_time": "2022-05-05T08:41:58.687Z"
   },
   {
    "duration": 237,
    "start_time": "2022-05-05T08:41:58.702Z"
   },
   {
    "duration": 4,
    "start_time": "2022-05-05T08:41:58.941Z"
   },
   {
    "duration": 5,
    "start_time": "2022-05-05T08:41:58.949Z"
   },
   {
    "duration": 226,
    "start_time": "2022-05-05T08:41:58.956Z"
   },
   {
    "duration": 6,
    "start_time": "2022-05-05T08:41:59.184Z"
   },
   {
    "duration": 10,
    "start_time": "2022-05-05T08:41:59.192Z"
   },
   {
    "duration": 8,
    "start_time": "2022-05-05T08:41:59.204Z"
   },
   {
    "duration": 21,
    "start_time": "2022-05-05T08:59:30.365Z"
   },
   {
    "duration": 3,
    "start_time": "2022-05-05T09:01:04.458Z"
   },
   {
    "duration": 4,
    "start_time": "2022-05-05T09:01:11.309Z"
   },
   {
    "duration": 92,
    "start_time": "2022-05-05T13:33:42.967Z"
   },
   {
    "duration": 2065,
    "start_time": "2022-05-05T13:59:15.433Z"
   },
   {
    "duration": 4019,
    "start_time": "2022-05-05T13:59:17.502Z"
   },
   {
    "duration": 70,
    "start_time": "2022-05-05T13:59:21.524Z"
   },
   {
    "duration": 32,
    "start_time": "2022-05-05T13:59:21.598Z"
   },
   {
    "duration": 23,
    "start_time": "2022-05-05T13:59:21.632Z"
   },
   {
    "duration": 132,
    "start_time": "2022-05-05T13:59:21.657Z"
   },
   {
    "duration": 44,
    "start_time": "2022-05-05T13:59:21.792Z"
   },
   {
    "duration": 27,
    "start_time": "2022-05-05T13:59:21.838Z"
   },
   {
    "duration": 141,
    "start_time": "2022-05-05T13:59:21.868Z"
   },
   {
    "duration": 108,
    "start_time": "2022-05-05T13:59:22.014Z"
   },
   {
    "duration": 26,
    "start_time": "2022-05-05T13:59:22.125Z"
   },
   {
    "duration": 171,
    "start_time": "2022-05-05T13:59:22.153Z"
   },
   {
    "duration": 20,
    "start_time": "2022-05-05T13:59:22.327Z"
   },
   {
    "duration": 5,
    "start_time": "2022-05-05T13:59:22.350Z"
   },
   {
    "duration": 45,
    "start_time": "2022-05-05T13:59:22.357Z"
   },
   {
    "duration": 306,
    "start_time": "2022-05-05T13:59:22.405Z"
   },
   {
    "duration": 127,
    "start_time": "2022-05-05T13:59:22.716Z"
   },
   {
    "duration": 73,
    "start_time": "2022-05-05T13:59:22.845Z"
   },
   {
    "duration": 604,
    "start_time": "2022-05-05T13:59:22.920Z"
   },
   {
    "duration": 1233,
    "start_time": "2022-05-05T13:59:23.527Z"
   },
   {
    "duration": 2589,
    "start_time": "2022-05-05T13:59:24.763Z"
   },
   {
    "duration": 163,
    "start_time": "2022-05-05T13:59:27.355Z"
   },
   {
    "duration": 95,
    "start_time": "2022-05-05T13:59:27.521Z"
   },
   {
    "duration": 33,
    "start_time": "2022-05-05T13:59:27.619Z"
   },
   {
    "duration": 941,
    "start_time": "2022-05-05T13:59:27.655Z"
   },
   {
    "duration": 17,
    "start_time": "2022-05-05T13:59:28.600Z"
   },
   {
    "duration": 315,
    "start_time": "2022-05-05T13:59:28.619Z"
   },
   {
    "duration": 641,
    "start_time": "2022-05-05T13:59:28.939Z"
   },
   {
    "duration": 33,
    "start_time": "2022-05-05T13:59:29.582Z"
   },
   {
    "duration": 86,
    "start_time": "2022-05-05T13:59:29.618Z"
   },
   {
    "duration": 225,
    "start_time": "2022-05-05T13:59:29.706Z"
   },
   {
    "duration": 21,
    "start_time": "2022-05-05T13:59:29.934Z"
   },
   {
    "duration": 37,
    "start_time": "2022-05-05T13:59:29.958Z"
   },
   {
    "duration": 20,
    "start_time": "2022-05-05T13:59:29.998Z"
   },
   {
    "duration": 10,
    "start_time": "2022-05-05T13:59:30.021Z"
   },
   {
    "duration": 36,
    "start_time": "2022-05-05T13:59:30.033Z"
   },
   {
    "duration": 40,
    "start_time": "2022-05-05T13:59:30.071Z"
   },
   {
    "duration": 21,
    "start_time": "2022-05-05T13:59:30.115Z"
   },
   {
    "duration": 350,
    "start_time": "2022-05-05T13:59:30.139Z"
   },
   {
    "duration": 7,
    "start_time": "2022-05-05T13:59:30.493Z"
   },
   {
    "duration": 31,
    "start_time": "2022-05-05T13:59:30.503Z"
   },
   {
    "duration": 535,
    "start_time": "2022-05-05T13:59:30.536Z"
   },
   {
    "duration": 8,
    "start_time": "2022-05-05T13:59:31.074Z"
   },
   {
    "duration": 15,
    "start_time": "2022-05-05T13:59:31.095Z"
   },
   {
    "duration": 13,
    "start_time": "2022-05-05T13:59:31.112Z"
   },
   {
    "duration": 7,
    "start_time": "2022-05-05T13:59:31.660Z"
   },
   {
    "duration": 366,
    "start_time": "2022-05-05T13:59:31.675Z"
   },
   {
    "duration": 94,
    "start_time": "2022-05-05T13:59:32.044Z"
   },
   {
    "duration": 24,
    "start_time": "2022-05-05T13:59:32.140Z"
   },
   {
    "duration": 58,
    "start_time": "2022-05-05T13:59:32.169Z"
   },
   {
    "duration": 139,
    "start_time": "2022-05-05T13:59:32.229Z"
   },
   {
    "duration": 48,
    "start_time": "2022-05-05T13:59:32.370Z"
   },
   {
    "duration": 29,
    "start_time": "2022-05-05T13:59:32.421Z"
   },
   {
    "duration": 167,
    "start_time": "2022-05-05T13:59:32.452Z"
   },
   {
    "duration": 116,
    "start_time": "2022-05-05T13:59:32.621Z"
   },
   {
    "duration": 27,
    "start_time": "2022-05-05T13:59:32.740Z"
   },
   {
    "duration": 185,
    "start_time": "2022-05-05T13:59:32.769Z"
   },
   {
    "duration": 48,
    "start_time": "2022-05-05T13:59:32.957Z"
   },
   {
    "duration": 14,
    "start_time": "2022-05-05T13:59:33.012Z"
   },
   {
    "duration": 32,
    "start_time": "2022-05-05T13:59:33.029Z"
   },
   {
    "duration": 352,
    "start_time": "2022-05-05T13:59:33.064Z"
   },
   {
    "duration": 76,
    "start_time": "2022-05-05T13:59:33.420Z"
   },
   {
    "duration": 42,
    "start_time": "2022-05-05T13:59:33.498Z"
   },
   {
    "duration": 360,
    "start_time": "2022-05-05T13:59:33.545Z"
   },
   {
    "duration": 975,
    "start_time": "2022-05-05T13:59:33.908Z"
   },
   {
    "duration": 2275,
    "start_time": "2022-05-05T13:59:34.886Z"
   },
   {
    "duration": 172,
    "start_time": "2022-05-05T13:59:37.163Z"
   },
   {
    "duration": 96,
    "start_time": "2022-05-05T13:59:37.337Z"
   },
   {
    "duration": 35,
    "start_time": "2022-05-05T13:59:37.435Z"
   },
   {
    "duration": 837,
    "start_time": "2022-05-05T13:59:37.496Z"
   },
   {
    "duration": 14,
    "start_time": "2022-05-05T13:59:38.335Z"
   },
   {
    "duration": 324,
    "start_time": "2022-05-05T13:59:38.351Z"
   },
   {
    "duration": 585,
    "start_time": "2022-05-05T13:59:38.677Z"
   },
   {
    "duration": 37,
    "start_time": "2022-05-05T13:59:39.264Z"
   },
   {
    "duration": 64,
    "start_time": "2022-05-05T13:59:39.304Z"
   },
   {
    "duration": 316,
    "start_time": "2022-05-05T13:59:39.370Z"
   },
   {
    "duration": 27,
    "start_time": "2022-05-05T13:59:39.693Z"
   },
   {
    "duration": 11,
    "start_time": "2022-05-05T13:59:39.725Z"
   },
   {
    "duration": 8,
    "start_time": "2022-05-05T13:59:39.739Z"
   },
   {
    "duration": 8,
    "start_time": "2022-05-05T13:59:39.749Z"
   },
   {
    "duration": 38,
    "start_time": "2022-05-05T13:59:39.759Z"
   },
   {
    "duration": 18,
    "start_time": "2022-05-05T13:59:39.799Z"
   },
   {
    "duration": 18,
    "start_time": "2022-05-05T13:59:39.819Z"
   },
   {
    "duration": 304,
    "start_time": "2022-05-05T13:59:39.840Z"
   },
   {
    "duration": 7,
    "start_time": "2022-05-05T13:59:40.146Z"
   },
   {
    "duration": 6,
    "start_time": "2022-05-05T13:59:40.155Z"
   },
   {
    "duration": 369,
    "start_time": "2022-05-05T13:59:40.163Z"
   },
   {
    "duration": 9,
    "start_time": "2022-05-05T13:59:40.535Z"
   },
   {
    "duration": 16,
    "start_time": "2022-05-05T13:59:40.546Z"
   },
   {
    "duration": 13,
    "start_time": "2022-05-05T13:59:40.565Z"
   },
   {
    "duration": 469,
    "start_time": "2022-05-05T14:00:00.066Z"
   },
   {
    "duration": 109,
    "start_time": "2022-05-05T14:00:00.538Z"
   },
   {
    "duration": 24,
    "start_time": "2022-05-05T14:00:00.650Z"
   },
   {
    "duration": 29,
    "start_time": "2022-05-05T14:00:00.705Z"
   },
   {
    "duration": 175,
    "start_time": "2022-05-05T14:00:00.737Z"
   },
   {
    "duration": 78,
    "start_time": "2022-05-05T14:00:00.915Z"
   },
   {
    "duration": 78,
    "start_time": "2022-05-05T14:00:00.995Z"
   },
   {
    "duration": 174,
    "start_time": "2022-05-05T14:00:01.076Z"
   },
   {
    "duration": 110,
    "start_time": "2022-05-05T14:00:01.254Z"
   },
   {
    "duration": 48,
    "start_time": "2022-05-05T14:00:01.367Z"
   },
   {
    "duration": 274,
    "start_time": "2022-05-05T14:00:01.418Z"
   },
   {
    "duration": 29,
    "start_time": "2022-05-05T14:00:01.695Z"
   },
   {
    "duration": 120,
    "start_time": "2022-05-05T14:00:01.727Z"
   },
   {
    "duration": 60,
    "start_time": "2022-05-05T14:00:01.850Z"
   },
   {
    "duration": 333,
    "start_time": "2022-05-05T14:00:01.913Z"
   },
   {
    "duration": 68,
    "start_time": "2022-05-05T14:00:02.248Z"
   },
   {
    "duration": 36,
    "start_time": "2022-05-05T14:00:02.319Z"
   },
   {
    "duration": 375,
    "start_time": "2022-05-05T14:00:02.358Z"
   },
   {
    "duration": 1235,
    "start_time": "2022-05-05T14:00:02.737Z"
   },
   {
    "duration": 3027,
    "start_time": "2022-05-05T14:00:03.975Z"
   },
   {
    "duration": 127,
    "start_time": "2022-05-05T14:00:07.005Z"
   },
   {
    "duration": 98,
    "start_time": "2022-05-05T14:00:07.134Z"
   },
   {
    "duration": 34,
    "start_time": "2022-05-05T14:00:07.236Z"
   },
   {
    "duration": 1890,
    "start_time": "2022-05-05T14:00:11.489Z"
   },
   {
    "duration": 342,
    "start_time": "2022-05-05T14:00:13.381Z"
   },
   {
    "duration": 73,
    "start_time": "2022-05-05T14:00:13.725Z"
   },
   {
    "duration": 26,
    "start_time": "2022-05-05T14:00:13.802Z"
   },
   {
    "duration": 26,
    "start_time": "2022-05-05T14:00:13.831Z"
   },
   {
    "duration": 172,
    "start_time": "2022-05-05T14:00:13.859Z"
   },
   {
    "duration": 35,
    "start_time": "2022-05-05T14:00:14.033Z"
   },
   {
    "duration": 34,
    "start_time": "2022-05-05T14:00:14.094Z"
   },
   {
    "duration": 168,
    "start_time": "2022-05-05T14:00:14.130Z"
   },
   {
    "duration": 113,
    "start_time": "2022-05-05T14:00:14.303Z"
   },
   {
    "duration": 24,
    "start_time": "2022-05-05T14:00:14.418Z"
   },
   {
    "duration": 191,
    "start_time": "2022-05-05T14:00:14.444Z"
   },
   {
    "duration": 50,
    "start_time": "2022-05-05T14:00:14.638Z"
   },
   {
    "duration": 83,
    "start_time": "2022-05-05T14:00:14.691Z"
   },
   {
    "duration": 55,
    "start_time": "2022-05-05T14:00:14.776Z"
   },
   {
    "duration": 232,
    "start_time": "2022-05-05T14:00:14.834Z"
   },
   {
    "duration": 65,
    "start_time": "2022-05-05T14:00:15.069Z"
   },
   {
    "duration": 32,
    "start_time": "2022-05-05T14:00:15.136Z"
   },
   {
    "duration": 323,
    "start_time": "2022-05-05T14:00:15.170Z"
   },
   {
    "duration": 1054,
    "start_time": "2022-05-05T14:00:15.495Z"
   },
   {
    "duration": 2499,
    "start_time": "2022-05-05T14:00:16.551Z"
   },
   {
    "duration": 121,
    "start_time": "2022-05-05T14:00:19.053Z"
   },
   {
    "duration": 92,
    "start_time": "2022-05-05T14:00:19.177Z"
   },
   {
    "duration": 54,
    "start_time": "2022-05-05T14:00:19.272Z"
   },
   {
    "duration": 924,
    "start_time": "2022-05-05T14:00:19.329Z"
   },
   {
    "duration": 14,
    "start_time": "2022-05-05T14:00:20.256Z"
   },
   {
    "duration": 316,
    "start_time": "2022-05-05T14:00:20.272Z"
   },
   {
    "duration": 762,
    "start_time": "2022-05-05T14:00:20.602Z"
   },
   {
    "duration": 36,
    "start_time": "2022-05-05T14:00:21.368Z"
   },
   {
    "duration": 56,
    "start_time": "2022-05-05T14:00:21.407Z"
   },
   {
    "duration": 250,
    "start_time": "2022-05-05T14:00:21.465Z"
   },
   {
    "duration": 21,
    "start_time": "2022-05-05T14:00:21.717Z"
   },
   {
    "duration": 21,
    "start_time": "2022-05-05T14:00:21.740Z"
   },
   {
    "duration": 32,
    "start_time": "2022-05-05T14:00:21.764Z"
   },
   {
    "duration": 10,
    "start_time": "2022-05-05T14:00:21.800Z"
   },
   {
    "duration": 21,
    "start_time": "2022-05-05T14:00:21.813Z"
   },
   {
    "duration": 16,
    "start_time": "2022-05-05T14:00:21.836Z"
   },
   {
    "duration": 70,
    "start_time": "2022-05-05T14:00:21.854Z"
   },
   {
    "duration": 301,
    "start_time": "2022-05-05T14:00:21.927Z"
   },
   {
    "duration": 7,
    "start_time": "2022-05-05T14:00:22.231Z"
   },
   {
    "duration": 39,
    "start_time": "2022-05-05T14:00:22.240Z"
   },
   {
    "duration": 375,
    "start_time": "2022-05-05T14:00:22.282Z"
   },
   {
    "duration": 9,
    "start_time": "2022-05-05T14:00:22.660Z"
   },
   {
    "duration": 29,
    "start_time": "2022-05-05T14:00:22.672Z"
   },
   {
    "duration": 14,
    "start_time": "2022-05-05T14:00:22.703Z"
   },
   {
    "duration": 5,
    "start_time": "2022-05-05T15:58:36.155Z"
   },
   {
    "duration": 335,
    "start_time": "2022-05-05T15:58:36.163Z"
   },
   {
    "duration": 60,
    "start_time": "2022-05-05T15:58:36.500Z"
   },
   {
    "duration": 39,
    "start_time": "2022-05-05T15:58:36.563Z"
   },
   {
    "duration": 23,
    "start_time": "2022-05-05T15:58:36.604Z"
   },
   {
    "duration": 153,
    "start_time": "2022-05-05T15:58:36.629Z"
   },
   {
    "duration": 39,
    "start_time": "2022-05-05T15:58:36.785Z"
   },
   {
    "duration": 26,
    "start_time": "2022-05-05T15:58:36.826Z"
   },
   {
    "duration": 151,
    "start_time": "2022-05-05T15:58:36.854Z"
   },
   {
    "duration": 99,
    "start_time": "2022-05-05T15:58:37.009Z"
   },
   {
    "duration": 29,
    "start_time": "2022-05-05T15:58:37.111Z"
   },
   {
    "duration": 237,
    "start_time": "2022-05-05T15:58:37.143Z"
   },
   {
    "duration": 23,
    "start_time": "2022-05-05T15:58:37.382Z"
   },
   {
    "duration": 9,
    "start_time": "2022-05-05T15:58:37.407Z"
   },
   {
    "duration": 40,
    "start_time": "2022-05-05T15:58:37.418Z"
   },
   {
    "duration": 301,
    "start_time": "2022-05-05T15:58:37.461Z"
   },
   {
    "duration": 58,
    "start_time": "2022-05-05T15:58:37.765Z"
   },
   {
    "duration": 32,
    "start_time": "2022-05-05T15:58:37.825Z"
   },
   {
    "duration": 307,
    "start_time": "2022-05-05T15:58:37.859Z"
   },
   {
    "duration": 926,
    "start_time": "2022-05-05T15:58:38.168Z"
   },
   {
    "duration": 2013,
    "start_time": "2022-05-05T15:58:39.097Z"
   },
   {
    "duration": 108,
    "start_time": "2022-05-05T15:58:41.112Z"
   },
   {
    "duration": 80,
    "start_time": "2022-05-05T15:58:41.222Z"
   },
   {
    "duration": 34,
    "start_time": "2022-05-05T15:58:41.304Z"
   },
   {
    "duration": 887,
    "start_time": "2022-05-05T15:58:41.340Z"
   },
   {
    "duration": 14,
    "start_time": "2022-05-05T15:58:42.230Z"
   },
   {
    "duration": 382,
    "start_time": "2022-05-05T15:58:42.246Z"
   },
   {
    "duration": 500,
    "start_time": "2022-05-05T15:58:42.633Z"
   },
   {
    "duration": 19,
    "start_time": "2022-05-05T15:58:52.034Z"
   },
   {
    "duration": 242,
    "start_time": "2022-05-05T15:59:58.067Z"
   },
   {
    "duration": 208,
    "start_time": "2022-05-05T16:00:01.766Z"
   },
   {
    "duration": 179,
    "start_time": "2022-05-05T16:00:13.262Z"
   },
   {
    "duration": 37,
    "start_time": "2022-05-05T16:01:37.582Z"
   },
   {
    "duration": 46,
    "start_time": "2022-05-05T16:01:47.654Z"
   },
   {
    "duration": 260,
    "start_time": "2022-05-05T16:02:29.622Z"
   },
   {
    "duration": 363,
    "start_time": "2022-05-05T16:04:16.844Z"
   },
   {
    "duration": 465,
    "start_time": "2022-05-05T16:04:44.902Z"
   },
   {
    "duration": 46,
    "start_time": "2022-05-06T09:18:33.641Z"
   },
   {
    "duration": 1336,
    "start_time": "2022-05-06T09:18:42.539Z"
   },
   {
    "duration": 669,
    "start_time": "2022-05-06T09:18:43.877Z"
   },
   {
    "duration": 45,
    "start_time": "2022-05-06T09:18:44.547Z"
   },
   {
    "duration": 15,
    "start_time": "2022-05-06T09:18:44.594Z"
   },
   {
    "duration": 24,
    "start_time": "2022-05-06T09:18:44.611Z"
   },
   {
    "duration": 86,
    "start_time": "2022-05-06T09:18:44.637Z"
   },
   {
    "duration": 22,
    "start_time": "2022-05-06T09:18:44.725Z"
   },
   {
    "duration": 19,
    "start_time": "2022-05-06T09:18:44.749Z"
   },
   {
    "duration": 95,
    "start_time": "2022-05-06T09:18:44.770Z"
   },
   {
    "duration": 72,
    "start_time": "2022-05-06T09:18:44.867Z"
   },
   {
    "duration": 15,
    "start_time": "2022-05-06T09:18:44.940Z"
   },
   {
    "duration": 100,
    "start_time": "2022-05-06T09:18:44.956Z"
   },
   {
    "duration": 12,
    "start_time": "2022-05-06T09:18:45.058Z"
   },
   {
    "duration": 7,
    "start_time": "2022-05-06T09:18:45.073Z"
   },
   {
    "duration": 43,
    "start_time": "2022-05-06T09:18:45.082Z"
   },
   {
    "duration": 138,
    "start_time": "2022-05-06T09:18:45.127Z"
   },
   {
    "duration": 35,
    "start_time": "2022-05-06T09:18:45.267Z"
   },
   {
    "duration": 34,
    "start_time": "2022-05-06T09:18:45.304Z"
   },
   {
    "duration": 169,
    "start_time": "2022-05-06T09:18:45.340Z"
   },
   {
    "duration": 592,
    "start_time": "2022-05-06T09:18:45.511Z"
   },
   {
    "duration": 1161,
    "start_time": "2022-05-06T09:18:46.105Z"
   },
   {
    "duration": 74,
    "start_time": "2022-05-06T09:18:47.268Z"
   },
   {
    "duration": 49,
    "start_time": "2022-05-06T09:18:47.344Z"
   },
   {
    "duration": 36,
    "start_time": "2022-05-06T09:18:47.395Z"
   },
   {
    "duration": 568,
    "start_time": "2022-05-06T09:18:47.433Z"
   },
   {
    "duration": 9,
    "start_time": "2022-05-06T09:18:48.003Z"
   },
   {
    "duration": 157,
    "start_time": "2022-05-06T09:18:48.023Z"
   },
   {
    "duration": 364,
    "start_time": "2022-05-06T09:18:48.184Z"
   },
   {
    "duration": 12,
    "start_time": "2022-05-06T09:18:48.550Z"
   },
   {
    "duration": 32,
    "start_time": "2022-05-06T09:18:48.564Z"
   },
   {
    "duration": 141,
    "start_time": "2022-05-06T09:18:48.598Z"
   },
   {
    "duration": 15,
    "start_time": "2022-05-06T09:18:48.741Z"
   },
   {
    "duration": 8,
    "start_time": "2022-05-06T09:18:48.758Z"
   },
   {
    "duration": 5,
    "start_time": "2022-05-06T09:18:48.768Z"
   },
   {
    "duration": 7,
    "start_time": "2022-05-06T09:18:48.775Z"
   },
   {
    "duration": 46,
    "start_time": "2022-05-06T09:18:48.784Z"
   },
   {
    "duration": 13,
    "start_time": "2022-05-06T09:18:48.832Z"
   },
   {
    "duration": 8,
    "start_time": "2022-05-06T09:18:48.847Z"
   },
   {
    "duration": 208,
    "start_time": "2022-05-06T09:18:48.856Z"
   },
   {
    "duration": 4,
    "start_time": "2022-05-06T09:18:49.066Z"
   },
   {
    "duration": 17,
    "start_time": "2022-05-06T09:18:49.071Z"
   },
   {
    "duration": 183,
    "start_time": "2022-05-06T09:18:49.090Z"
   },
   {
    "duration": 7,
    "start_time": "2022-05-06T09:18:49.275Z"
   },
   {
    "duration": 14,
    "start_time": "2022-05-06T09:18:49.284Z"
   },
   {
    "duration": 57,
    "start_time": "2022-05-06T09:18:49.300Z"
   },
   {
    "duration": 183,
    "start_time": "2022-05-06T09:19:55.725Z"
   },
   {
    "duration": 194,
    "start_time": "2022-05-06T09:22:22.563Z"
   },
   {
    "duration": 7,
    "start_time": "2022-05-06T09:22:35.303Z"
   },
   {
    "duration": 180,
    "start_time": "2022-05-06T09:22:36.801Z"
   },
   {
    "duration": 1535,
    "start_time": "2022-05-06T11:10:56.176Z"
   },
   {
    "duration": 224,
    "start_time": "2022-05-06T11:10:57.713Z"
   },
   {
    "duration": 47,
    "start_time": "2022-05-06T11:10:57.939Z"
   },
   {
    "duration": 16,
    "start_time": "2022-05-06T11:10:57.988Z"
   },
   {
    "duration": 28,
    "start_time": "2022-05-06T11:10:58.006Z"
   },
   {
    "duration": 97,
    "start_time": "2022-05-06T11:10:58.035Z"
   },
   {
    "duration": 24,
    "start_time": "2022-05-06T11:10:58.133Z"
   },
   {
    "duration": 18,
    "start_time": "2022-05-06T11:10:58.158Z"
   },
   {
    "duration": 107,
    "start_time": "2022-05-06T11:10:58.177Z"
   },
   {
    "duration": 70,
    "start_time": "2022-05-06T11:10:58.286Z"
   },
   {
    "duration": 16,
    "start_time": "2022-05-06T11:10:58.358Z"
   },
   {
    "duration": 111,
    "start_time": "2022-05-06T11:10:58.376Z"
   },
   {
    "duration": 12,
    "start_time": "2022-05-06T11:10:58.488Z"
   },
   {
    "duration": 24,
    "start_time": "2022-05-06T11:10:58.501Z"
   },
   {
    "duration": 22,
    "start_time": "2022-05-06T11:10:58.527Z"
   },
   {
    "duration": 155,
    "start_time": "2022-05-06T11:10:58.551Z"
   },
   {
    "duration": 42,
    "start_time": "2022-05-06T11:10:58.708Z"
   },
   {
    "duration": 24,
    "start_time": "2022-05-06T11:10:58.752Z"
   },
   {
    "duration": 189,
    "start_time": "2022-05-06T11:10:58.777Z"
   },
   {
    "duration": 619,
    "start_time": "2022-05-06T11:10:58.968Z"
   },
   {
    "duration": 1115,
    "start_time": "2022-05-06T11:10:59.589Z"
   },
   {
    "duration": 72,
    "start_time": "2022-05-06T11:11:00.706Z"
   },
   {
    "duration": 67,
    "start_time": "2022-05-06T11:11:00.780Z"
   },
   {
    "duration": 25,
    "start_time": "2022-05-06T11:11:00.849Z"
   },
   {
    "duration": 569,
    "start_time": "2022-05-06T11:11:00.876Z"
   },
   {
    "duration": 11,
    "start_time": "2022-05-06T11:11:01.448Z"
   },
   {
    "duration": 182,
    "start_time": "2022-05-06T11:11:01.461Z"
   },
   {
    "duration": 388,
    "start_time": "2022-05-06T11:11:01.648Z"
   },
   {
    "duration": 14,
    "start_time": "2022-05-06T11:11:02.038Z"
   },
   {
    "duration": 54,
    "start_time": "2022-05-06T11:11:02.053Z"
   },
   {
    "duration": 140,
    "start_time": "2022-05-06T11:11:02.109Z"
   },
   {
    "duration": 16,
    "start_time": "2022-05-06T11:11:02.251Z"
   },
   {
    "duration": 17,
    "start_time": "2022-05-06T11:11:02.269Z"
   },
   {
    "duration": 8,
    "start_time": "2022-05-06T11:11:02.288Z"
   },
   {
    "duration": 29,
    "start_time": "2022-05-06T11:11:02.298Z"
   },
   {
    "duration": 18,
    "start_time": "2022-05-06T11:11:02.329Z"
   },
   {
    "duration": 25,
    "start_time": "2022-05-06T11:11:02.349Z"
   },
   {
    "duration": 9,
    "start_time": "2022-05-06T11:11:02.375Z"
   },
   {
    "duration": 204,
    "start_time": "2022-05-06T11:11:02.385Z"
   },
   {
    "duration": 4,
    "start_time": "2022-05-06T11:11:02.590Z"
   },
   {
    "duration": 6,
    "start_time": "2022-05-06T11:11:02.596Z"
   },
   {
    "duration": 1771,
    "start_time": "2022-05-06T11:11:02.604Z"
   },
   {
    "duration": 0,
    "start_time": "2022-05-06T11:11:04.377Z"
   },
   {
    "duration": 0,
    "start_time": "2022-05-06T11:11:04.378Z"
   },
   {
    "duration": 0,
    "start_time": "2022-05-06T11:11:04.379Z"
   },
   {
    "duration": 1220,
    "start_time": "2022-05-06T11:19:02.459Z"
   },
   {
    "duration": 230,
    "start_time": "2022-05-06T11:19:03.681Z"
   },
   {
    "duration": 49,
    "start_time": "2022-05-06T11:19:03.912Z"
   },
   {
    "duration": 15,
    "start_time": "2022-05-06T11:19:03.963Z"
   },
   {
    "duration": 14,
    "start_time": "2022-05-06T11:19:03.980Z"
   },
   {
    "duration": 104,
    "start_time": "2022-05-06T11:19:03.995Z"
   },
   {
    "duration": 39,
    "start_time": "2022-05-06T11:19:04.101Z"
   },
   {
    "duration": 22,
    "start_time": "2022-05-06T11:19:04.142Z"
   },
   {
    "duration": 101,
    "start_time": "2022-05-06T11:19:04.165Z"
   },
   {
    "duration": 77,
    "start_time": "2022-05-06T11:19:04.269Z"
   },
   {
    "duration": 17,
    "start_time": "2022-05-06T11:19:04.347Z"
   },
   {
    "duration": 110,
    "start_time": "2022-05-06T11:19:04.365Z"
   },
   {
    "duration": 13,
    "start_time": "2022-05-06T11:19:04.477Z"
   },
   {
    "duration": 6,
    "start_time": "2022-05-06T11:19:04.492Z"
   },
   {
    "duration": 45,
    "start_time": "2022-05-06T11:19:04.500Z"
   },
   {
    "duration": 156,
    "start_time": "2022-05-06T11:19:04.546Z"
   },
   {
    "duration": 49,
    "start_time": "2022-05-06T11:19:04.704Z"
   },
   {
    "duration": 22,
    "start_time": "2022-05-06T11:19:04.756Z"
   },
   {
    "duration": 195,
    "start_time": "2022-05-06T11:19:04.780Z"
   },
   {
    "duration": 634,
    "start_time": "2022-05-06T11:19:04.977Z"
   },
   {
    "duration": 1199,
    "start_time": "2022-05-06T11:19:05.612Z"
   },
   {
    "duration": 79,
    "start_time": "2022-05-06T11:19:06.812Z"
   },
   {
    "duration": 73,
    "start_time": "2022-05-06T11:19:06.893Z"
   },
   {
    "duration": 24,
    "start_time": "2022-05-06T11:19:06.968Z"
   },
   {
    "duration": 567,
    "start_time": "2022-05-06T11:19:06.994Z"
   },
   {
    "duration": 10,
    "start_time": "2022-05-06T11:19:07.563Z"
   },
   {
    "duration": 187,
    "start_time": "2022-05-06T11:19:07.575Z"
   },
   {
    "duration": 410,
    "start_time": "2022-05-06T11:19:07.765Z"
   },
   {
    "duration": 14,
    "start_time": "2022-05-06T11:19:08.177Z"
   },
   {
    "duration": 51,
    "start_time": "2022-05-06T11:19:08.193Z"
   },
   {
    "duration": 155,
    "start_time": "2022-05-06T11:19:08.246Z"
   },
   {
    "duration": 14,
    "start_time": "2022-05-06T11:19:08.402Z"
   },
   {
    "duration": 10,
    "start_time": "2022-05-06T11:19:08.423Z"
   },
   {
    "duration": 10,
    "start_time": "2022-05-06T11:19:08.435Z"
   },
   {
    "duration": 12,
    "start_time": "2022-05-06T11:19:08.446Z"
   },
   {
    "duration": 20,
    "start_time": "2022-05-06T11:19:08.459Z"
   },
   {
    "duration": 11,
    "start_time": "2022-05-06T11:19:08.481Z"
   },
   {
    "duration": 10,
    "start_time": "2022-05-06T11:19:08.494Z"
   },
   {
    "duration": 197,
    "start_time": "2022-05-06T11:19:08.527Z"
   },
   {
    "duration": 5,
    "start_time": "2022-05-06T11:19:08.728Z"
   },
   {
    "duration": 12,
    "start_time": "2022-05-06T11:19:08.734Z"
   },
   {
    "duration": 13,
    "start_time": "2022-05-06T11:19:08.748Z"
   },
   {
    "duration": 9,
    "start_time": "2022-05-06T11:19:08.763Z"
   },
   {
    "duration": 212,
    "start_time": "2022-05-06T11:19:08.773Z"
   },
   {
    "duration": 7,
    "start_time": "2022-05-06T11:19:08.987Z"
   }
  ],
  "kernelspec": {
   "display_name": "Python 3 (ipykernel)",
   "language": "python",
   "name": "python3"
  },
  "language_info": {
   "codemirror_mode": {
    "name": "ipython",
    "version": 3
   },
   "file_extension": ".py",
   "mimetype": "text/x-python",
   "name": "python",
   "nbconvert_exporter": "python",
   "pygments_lexer": "ipython3",
   "version": "3.9.5"
  },
  "toc": {
   "base_numbering": 1,
   "nav_menu": {},
   "number_sections": false,
   "sideBar": true,
   "skip_h1_title": false,
   "title_cell": "Table of Contents",
   "title_sidebar": "Contents",
   "toc_cell": false,
   "toc_position": {},
   "toc_section_display": true,
   "toc_window_display": false
  }
 },
 "nbformat": 4,
 "nbformat_minor": 2
}

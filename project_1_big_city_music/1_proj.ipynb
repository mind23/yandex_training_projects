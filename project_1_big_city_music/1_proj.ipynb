{
 "cells": [
  {
   "cell_type": "markdown",
   "metadata": {
    "id": "E0vqbgi9ay0H"
   },
   "source": [
    "# Сравнение музыкальных предпочтений в Москве и Санкт-Петербурге"
   ]
  },
  {
   "cell_type": "markdown",
   "metadata": {
    "id": "Ml1hmfXC_Zcs"
   },
   "source": [
    "## Обзор данных\n",
    "\n",
    "Составим первое представление о данных Яндекс.Музыки.\n",
    "\n",
    "\n"
   ]
  },
  {
   "cell_type": "code",
   "execution_count": 1,
   "metadata": {
    "id": "AXN7PHPN_Zcs"
   },
   "outputs": [],
   "source": [
    "# импорт библиотеки pandas\n",
    "import pandas as pd"
   ]
  },
  {
   "cell_type": "code",
   "execution_count": 2,
   "metadata": {
    "id": "fFVu7vqh_Zct"
   },
   "outputs": [],
   "source": [
    "# чтение файла с данными и сохранение в df\n",
    "df = pd.read_csv('/datasets/yandex_music_project.csv')"
   ]
  },
  {
   "cell_type": "code",
   "execution_count": 3,
   "metadata": {
    "id": "oWTVX3gW_Zct"
   },
   "outputs": [
    {
     "data": {
      "text/html": [
       "<div>\n",
       "<style scoped>\n",
       "    .dataframe tbody tr th:only-of-type {\n",
       "        vertical-align: middle;\n",
       "    }\n",
       "\n",
       "    .dataframe tbody tr th {\n",
       "        vertical-align: top;\n",
       "    }\n",
       "\n",
       "    .dataframe thead th {\n",
       "        text-align: right;\n",
       "    }\n",
       "</style>\n",
       "<table border=\"1\" class=\"dataframe\">\n",
       "  <thead>\n",
       "    <tr style=\"text-align: right;\">\n",
       "      <th></th>\n",
       "      <th>userID</th>\n",
       "      <th>Track</th>\n",
       "      <th>artist</th>\n",
       "      <th>genre</th>\n",
       "      <th>City</th>\n",
       "      <th>time</th>\n",
       "      <th>Day</th>\n",
       "    </tr>\n",
       "  </thead>\n",
       "  <tbody>\n",
       "    <tr>\n",
       "      <th>0</th>\n",
       "      <td>FFB692EC</td>\n",
       "      <td>Kamigata To Boots</td>\n",
       "      <td>The Mass Missile</td>\n",
       "      <td>rock</td>\n",
       "      <td>Saint-Petersburg</td>\n",
       "      <td>20:28:33</td>\n",
       "      <td>Wednesday</td>\n",
       "    </tr>\n",
       "    <tr>\n",
       "      <th>1</th>\n",
       "      <td>55204538</td>\n",
       "      <td>Delayed Because of Accident</td>\n",
       "      <td>Andreas Rönnberg</td>\n",
       "      <td>rock</td>\n",
       "      <td>Moscow</td>\n",
       "      <td>14:07:09</td>\n",
       "      <td>Friday</td>\n",
       "    </tr>\n",
       "    <tr>\n",
       "      <th>2</th>\n",
       "      <td>20EC38</td>\n",
       "      <td>Funiculì funiculà</td>\n",
       "      <td>Mario Lanza</td>\n",
       "      <td>pop</td>\n",
       "      <td>Saint-Petersburg</td>\n",
       "      <td>20:58:07</td>\n",
       "      <td>Wednesday</td>\n",
       "    </tr>\n",
       "    <tr>\n",
       "      <th>3</th>\n",
       "      <td>A3DD03C9</td>\n",
       "      <td>Dragons in the Sunset</td>\n",
       "      <td>Fire + Ice</td>\n",
       "      <td>folk</td>\n",
       "      <td>Saint-Petersburg</td>\n",
       "      <td>08:37:09</td>\n",
       "      <td>Monday</td>\n",
       "    </tr>\n",
       "    <tr>\n",
       "      <th>4</th>\n",
       "      <td>E2DC1FAE</td>\n",
       "      <td>Soul People</td>\n",
       "      <td>Space Echo</td>\n",
       "      <td>dance</td>\n",
       "      <td>Moscow</td>\n",
       "      <td>08:34:34</td>\n",
       "      <td>Monday</td>\n",
       "    </tr>\n",
       "    <tr>\n",
       "      <th>5</th>\n",
       "      <td>842029A1</td>\n",
       "      <td>Преданная</td>\n",
       "      <td>IMPERVTOR</td>\n",
       "      <td>rusrap</td>\n",
       "      <td>Saint-Petersburg</td>\n",
       "      <td>13:09:41</td>\n",
       "      <td>Friday</td>\n",
       "    </tr>\n",
       "    <tr>\n",
       "      <th>6</th>\n",
       "      <td>4CB90AA5</td>\n",
       "      <td>True</td>\n",
       "      <td>Roman Messer</td>\n",
       "      <td>dance</td>\n",
       "      <td>Moscow</td>\n",
       "      <td>13:00:07</td>\n",
       "      <td>Wednesday</td>\n",
       "    </tr>\n",
       "    <tr>\n",
       "      <th>7</th>\n",
       "      <td>F03E1C1F</td>\n",
       "      <td>Feeling This Way</td>\n",
       "      <td>Polina Griffith</td>\n",
       "      <td>dance</td>\n",
       "      <td>Moscow</td>\n",
       "      <td>20:47:49</td>\n",
       "      <td>Wednesday</td>\n",
       "    </tr>\n",
       "    <tr>\n",
       "      <th>8</th>\n",
       "      <td>8FA1D3BE</td>\n",
       "      <td>И вновь продолжается бой</td>\n",
       "      <td>NaN</td>\n",
       "      <td>ruspop</td>\n",
       "      <td>Moscow</td>\n",
       "      <td>09:17:40</td>\n",
       "      <td>Friday</td>\n",
       "    </tr>\n",
       "    <tr>\n",
       "      <th>9</th>\n",
       "      <td>E772D5C0</td>\n",
       "      <td>Pessimist</td>\n",
       "      <td>NaN</td>\n",
       "      <td>dance</td>\n",
       "      <td>Saint-Petersburg</td>\n",
       "      <td>21:20:49</td>\n",
       "      <td>Wednesday</td>\n",
       "    </tr>\n",
       "  </tbody>\n",
       "</table>\n",
       "</div>"
      ],
      "text/plain": [
       "     userID                        Track            artist   genre  \\\n",
       "0  FFB692EC            Kamigata To Boots  The Mass Missile    rock   \n",
       "1  55204538  Delayed Because of Accident  Andreas Rönnberg    rock   \n",
       "2    20EC38            Funiculì funiculà       Mario Lanza     pop   \n",
       "3  A3DD03C9        Dragons in the Sunset        Fire + Ice    folk   \n",
       "4  E2DC1FAE                  Soul People        Space Echo   dance   \n",
       "5  842029A1                    Преданная         IMPERVTOR  rusrap   \n",
       "6  4CB90AA5                         True      Roman Messer   dance   \n",
       "7  F03E1C1F             Feeling This Way   Polina Griffith   dance   \n",
       "8  8FA1D3BE     И вновь продолжается бой               NaN  ruspop   \n",
       "9  E772D5C0                    Pessimist               NaN   dance   \n",
       "\n",
       "             City        time        Day  \n",
       "0  Saint-Petersburg  20:28:33  Wednesday  \n",
       "1            Moscow  14:07:09     Friday  \n",
       "2  Saint-Petersburg  20:58:07  Wednesday  \n",
       "3  Saint-Petersburg  08:37:09     Monday  \n",
       "4            Moscow  08:34:34     Monday  \n",
       "5  Saint-Petersburg  13:09:41     Friday  \n",
       "6            Moscow  13:00:07  Wednesday  \n",
       "7            Moscow  20:47:49  Wednesday  \n",
       "8            Moscow  09:17:40     Friday  \n",
       "9  Saint-Petersburg  21:20:49  Wednesday  "
      ]
     },
     "metadata": {},
     "output_type": "display_data"
    }
   ],
   "source": [
    "# получение первых 10 строк таблицы df\n",
    "display(df.head(10))"
   ]
  },
  {
   "cell_type": "markdown",
   "metadata": {
    "id": "EO73Kwic_Zct"
   },
   "source": [
    "Одной командой получим общую информацию о таблице:"
   ]
  },
  {
   "cell_type": "code",
   "execution_count": 4,
   "metadata": {
    "id": "DSf2kIb-_Zct"
   },
   "outputs": [
    {
     "name": "stdout",
     "output_type": "stream",
     "text": [
      "<class 'pandas.core.frame.DataFrame'>\n",
      "RangeIndex: 65079 entries, 0 to 65078\n",
      "Data columns (total 7 columns):\n",
      " #   Column    Non-Null Count  Dtype \n",
      "---  ------    --------------  ----- \n",
      " 0     userID  65079 non-null  object\n",
      " 1   Track     63848 non-null  object\n",
      " 2   artist    57876 non-null  object\n",
      " 3   genre     63881 non-null  object\n",
      " 4     City    65079 non-null  object\n",
      " 5   time      65079 non-null  object\n",
      " 6   Day       65079 non-null  object\n",
      "dtypes: object(7)\n",
      "memory usage: 3.5+ MB\n"
     ]
    }
   ],
   "source": [
    "# получение общей информации о данных в таблице df\n",
    "df.info()"
   ]
  },
  {
   "cell_type": "markdown",
   "metadata": {
    "id": "TaQ2Iwbr_Zct"
   },
   "source": [
    "Итак, в таблице семь столбцов. Тип данных во всех столбцах — `object`.\n",
    "\n",
    "Согласно документации к данным:\n",
    "* `userID` — идентификатор пользователя;\n",
    "* `Track` — название трека;  \n",
    "* `artist` — имя исполнителя;\n",
    "* `genre` — название жанра;\n",
    "* `City` — город пользователя;\n",
    "* `time` — время начала прослушивания;\n",
    "* `Day` — день недели.\n",
    "\n",
    "В названиях колонок видны три нарушения стиля:\n",
    "1. Строчные буквы сочетаются с прописными.\n",
    "2. Встречаются пробелы.\n",
    "3. `UserID лучше написать в змеином стиле через _.`\n",
    "\n",
    "`А еще названия колонок time и Day не отражают смысла своих данных. Вероятно, речь идет о времени и дне воспроизведения трэка.`\n",
    "\n",
    "\n",
    "\n",
    "Количество значений в столбцах различается. Значит, в данных есть пропущенные значения.\n"
   ]
  },
  {
   "cell_type": "markdown",
   "metadata": {
    "id": "MCB6-dXG_Zct"
   },
   "source": [
    "**Выводы**\n",
    "\n",
    "В каждой строке таблицы — данные о прослушанном треке. Часть колонок описывает саму композицию: название, исполнителя и жанр. Остальные данные рассказывают о пользователе: из какого он города, когда он слушал музыку. \n",
    "\n",
    "Предварительно можно утверждать, что, данных достаточно для проверки гипотез. Но встречаются пропуски в данных, а в названиях колонок — расхождения с хорошим стилем.\n",
    "\n",
    "Чтобы двигаться дальше, нужно устранить проблемы в данных."
   ]
  },
  {
   "cell_type": "markdown",
   "metadata": {
    "id": "SjYF6Ub9_Zct"
   },
   "source": [
    "## Предобработка данных\n",
    "Исправим стиль в заголовках столбцов, исключим пропуски. Затем проверим данные на дубликаты."
   ]
  },
  {
   "cell_type": "markdown",
   "metadata": {
    "id": "dIaKXr29_Zct"
   },
   "source": [
    "### Стиль заголовков\n",
    "Выведим на экран названия столбцов:"
   ]
  },
  {
   "cell_type": "code",
   "execution_count": 5,
   "metadata": {
    "id": "oKOTdF_Q_Zct",
    "scrolled": true
   },
   "outputs": [
    {
     "data": {
      "text/plain": [
       "Index(['  userID', 'Track', 'artist', 'genre', '  City  ', 'time', 'Day'], dtype='object')"
      ]
     },
     "execution_count": 5,
     "metadata": {},
     "output_type": "execute_result"
    }
   ],
   "source": [
    "# перечень названий столбцов таблицы df\n",
    "df.columns"
   ]
  },
  {
   "cell_type": "markdown",
   "metadata": {
    "id": "zj5534cv_Zct"
   },
   "source": [
    "Приведем названия в соответствие со \"змеиным\" стилем:"
   ]
  },
  {
   "cell_type": "code",
   "execution_count": 6,
   "metadata": {
    "id": "ISlFqs5y_Zct"
   },
   "outputs": [],
   "source": [
    "# переименование столбцов\n",
    "df = df.rename(columns={'  userID':'user_id','Track':'track','  City  ':'city','Day':'day'})"
   ]
  },
  {
   "cell_type": "code",
   "execution_count": 7,
   "metadata": {
    "id": "d4NOAmTW_Zct"
   },
   "outputs": [
    {
     "data": {
      "text/plain": [
       "Index(['user_id', 'track', 'artist', 'genre', 'city', 'time', 'day'], dtype='object')"
      ]
     },
     "execution_count": 7,
     "metadata": {},
     "output_type": "execute_result"
    }
   ],
   "source": [
    "# проверка результатов - перечень названий столбцов\n",
    "df.columns"
   ]
  },
  {
   "cell_type": "markdown",
   "metadata": {
    "id": "5ISfbcfY_Zct"
   },
   "source": [
    "### Пропуски значений\n",
    "Посчитаем, сколько в таблице пропущенных значений."
   ]
  },
  {
   "cell_type": "code",
   "execution_count": 8,
   "metadata": {
    "id": "RskX29qr_Zct"
   },
   "outputs": [
    {
     "data": {
      "text/plain": [
       "user_id       0\n",
       "track      1231\n",
       "artist     7203\n",
       "genre      1198\n",
       "city          0\n",
       "time          0\n",
       "day           0\n",
       "dtype: int64"
      ]
     },
     "execution_count": 8,
     "metadata": {},
     "output_type": "execute_result"
    }
   ],
   "source": [
    "# подсчёт пропусков\n",
    "df.isna().sum()"
   ]
  },
  {
   "cell_type": "markdown",
   "metadata": {
    "id": "qubhgnlO_Zct"
   },
   "source": [
    "Не все пропущенные значения влияют на исследование. Так в `track` и `artist` пропуски не важны для нашей работы. Достаточно заменить их явными обозначениями.\n",
    "\n",
    "Пропуски в `genre` могут помешать сравнению музыкальных вкусов в Москве и Санкт-Петербурге. На практике было бы правильно установить причину пропусков и восстановить данные. Такой возможности нет в учебном проекте. Придётся:\n",
    "* заполнить и эти пропуски явными обозначениями,\n",
    "* оценить, насколько они повредят расчётам. "
   ]
  },
  {
   "cell_type": "markdown",
   "metadata": {
    "id": "fSv2laPA_Zct"
   },
   "source": [
    "Заменим пропущенные значения в столбцах `track`, `artist` и `genre` на строку `'unknown'`. Для этого создадим список `columns_to_replace`, переберем его элементы циклом `for` и для каждого столбца выполним замену пропущенных значений:"
   ]
  },
  {
   "cell_type": "code",
   "execution_count": 9,
   "metadata": {
    "id": "KplB5qWs_Zct"
   },
   "outputs": [],
   "source": [
    "# перебор названий столбцов в цикле и замена пропущенных значений на 'unknown'\n",
    "columns_to_replace = ['track', 'artist', 'genre']\n",
    "for col in columns_to_replace:\n",
    "    df[col] = df[col].fillna('unknown')"
   ]
  },
  {
   "cell_type": "code",
   "execution_count": 10,
   "metadata": {
    "id": "Tq4nYRX4_Zct"
   },
   "outputs": [
    {
     "data": {
      "text/plain": [
       "user_id    0\n",
       "track      0\n",
       "artist     0\n",
       "genre      0\n",
       "city       0\n",
       "time       0\n",
       "day        0\n",
       "dtype: int64"
      ]
     },
     "execution_count": 10,
     "metadata": {},
     "output_type": "execute_result"
    }
   ],
   "source": [
    "# подсчёт пропусков\n",
    "df.isna().sum()"
   ]
  },
  {
   "cell_type": "markdown",
   "metadata": {
    "id": "BWKRtBJ3_Zct"
   },
   "source": [
    "### Дубликаты\n",
    "Посчитаем явные дубликаты в таблице одной командой:"
   ]
  },
  {
   "cell_type": "code",
   "execution_count": 11,
   "metadata": {
    "id": "36eES_S0_Zct"
   },
   "outputs": [
    {
     "data": {
      "text/plain": [
       "3826"
      ]
     },
     "execution_count": 11,
     "metadata": {},
     "output_type": "execute_result"
    }
   ],
   "source": [
    "# подсчёт явных дубликатов\n",
    "df.duplicated().sum()"
   ]
  },
  {
   "cell_type": "code",
   "execution_count": 12,
   "metadata": {
    "id": "exFHq6tt_Zct"
   },
   "outputs": [],
   "source": [
    "# удаление явных дубликатов (с удалением старых индексов и формированием новых)\n",
    "df = df.drop_duplicates().reset_index(drop=True) "
   ]
  },
  {
   "cell_type": "code",
   "execution_count": 13,
   "metadata": {
    "id": "-8PuNWQ0_Zct"
   },
   "outputs": [
    {
     "data": {
      "text/plain": [
       "0"
      ]
     },
     "execution_count": 13,
     "metadata": {},
     "output_type": "execute_result"
    }
   ],
   "source": [
    "# проверка на отсутствие дубликатов\n",
    "df.duplicated().sum()"
   ]
  },
  {
   "cell_type": "markdown",
   "metadata": {
    "id": "QlFBsxAr_Zct"
   },
   "source": [
    "Избавимся от неявных дубликатов в колонке `genre`. Например, название одного и того же жанра может быть записано немного по-разному."
   ]
  },
  {
   "cell_type": "markdown",
   "metadata": {
    "id": "eSjWwsOh_Zct"
   },
   "source": [
    "Выведем на экран список уникальных названий жанров, отсортированный в алфавитном порядке. "
   ]
  },
  {
   "cell_type": "code",
   "execution_count": 14,
   "metadata": {
    "id": "JIUcqzZN_Zct"
   },
   "outputs": [
    {
     "data": {
      "text/plain": [
       "array(['acid', 'acoustic', 'action', 'adult', 'africa', 'afrikaans',\n",
       "       'alternative', 'alternativepunk', 'ambient', 'americana',\n",
       "       'animated', 'anime', 'arabesk', 'arabic', 'arena',\n",
       "       'argentinetango', 'art', 'audiobook', 'author', 'avantgarde',\n",
       "       'axé', 'baile', 'balkan', 'beats', 'bigroom', 'black', 'bluegrass',\n",
       "       'blues', 'bollywood', 'bossa', 'brazilian', 'breakbeat', 'breaks',\n",
       "       'broadway', 'cantautori', 'cantopop', 'canzone', 'caribbean',\n",
       "       'caucasian', 'celtic', 'chamber', 'chanson', 'children', 'chill',\n",
       "       'chinese', 'choral', 'christian', 'christmas', 'classical',\n",
       "       'classicmetal', 'club', 'colombian', 'comedy', 'conjazz',\n",
       "       'contemporary', 'country', 'cuban', 'dance', 'dancehall',\n",
       "       'dancepop', 'dark', 'death', 'deep', 'deutschrock', 'deutschspr',\n",
       "       'dirty', 'disco', 'dnb', 'documentary', 'downbeat', 'downtempo',\n",
       "       'drum', 'dub', 'dubstep', 'eastern', 'easy', 'electronic',\n",
       "       'electropop', 'emo', 'entehno', 'epicmetal', 'estrada', 'ethnic',\n",
       "       'eurofolk', 'european', 'experimental', 'extrememetal', 'fado',\n",
       "       'fairytail', 'film', 'fitness', 'flamenco', 'folk', 'folklore',\n",
       "       'folkmetal', 'folkrock', 'folktronica', 'forró', 'frankreich',\n",
       "       'französisch', 'french', 'funk', 'future', 'gangsta', 'garage',\n",
       "       'german', 'ghazal', 'gitarre', 'glitch', 'gospel', 'gothic',\n",
       "       'grime', 'grunge', 'gypsy', 'handsup', \"hard'n'heavy\", 'hardcore',\n",
       "       'hardstyle', 'hardtechno', 'hip', 'hip-hop', 'hiphop',\n",
       "       'historisch', 'holiday', 'hop', 'horror', 'house', 'hymn', 'idm',\n",
       "       'independent', 'indian', 'indie', 'indipop', 'industrial',\n",
       "       'inspirational', 'instrumental', 'international', 'irish', 'jam',\n",
       "       'japanese', 'jazz', 'jewish', 'jpop', 'jungle', 'k-pop',\n",
       "       'karadeniz', 'karaoke', 'kayokyoku', 'korean', 'laiko', 'latin',\n",
       "       'latino', 'leftfield', 'local', 'lounge', 'loungeelectronic',\n",
       "       'lovers', 'malaysian', 'mandopop', 'marschmusik', 'meditative',\n",
       "       'mediterranean', 'melodic', 'metal', 'metalcore', 'mexican',\n",
       "       'middle', 'minimal', 'miscellaneous', 'modern', 'mood', 'mpb',\n",
       "       'muslim', 'native', 'neoklassik', 'neue', 'new', 'newage',\n",
       "       'newwave', 'nu', 'nujazz', 'numetal', 'oceania', 'old', 'opera',\n",
       "       'orchestral', 'other', 'piano', 'podcasts', 'pop', 'popdance',\n",
       "       'popelectronic', 'popeurodance', 'poprussian', 'post',\n",
       "       'posthardcore', 'postrock', 'power', 'progmetal', 'progressive',\n",
       "       'psychedelic', 'punjabi', 'punk', 'quebecois', 'ragga', 'ram',\n",
       "       'rancheras', 'rap', 'rave', 'reggae', 'reggaeton', 'regional',\n",
       "       'relax', 'religious', 'retro', 'rhythm', 'rnb', 'rnr', 'rock',\n",
       "       'rockabilly', 'rockalternative', 'rockindie', 'rockother',\n",
       "       'romance', 'roots', 'ruspop', 'rusrap', 'rusrock', 'russian',\n",
       "       'salsa', 'samba', 'scenic', 'schlager', 'self', 'sertanejo',\n",
       "       'shanson', 'shoegazing', 'showtunes', 'singer', 'ska', 'skarock',\n",
       "       'slow', 'smooth', 'soft', 'soul', 'soulful', 'sound', 'soundtrack',\n",
       "       'southern', 'specialty', 'speech', 'spiritual', 'sport',\n",
       "       'stonerrock', 'surf', 'swing', 'synthpop', 'synthrock',\n",
       "       'sängerportrait', 'tango', 'tanzorchester', 'taraftar', 'tatar',\n",
       "       'tech', 'techno', 'teen', 'thrash', 'top', 'traditional',\n",
       "       'tradjazz', 'trance', 'tribal', 'trip', 'triphop', 'tropical',\n",
       "       'türk', 'türkçe', 'ukrrock', 'unknown', 'urban', 'uzbek',\n",
       "       'variété', 'vi', 'videogame', 'vocal', 'western', 'world',\n",
       "       'worldbeat', 'ïîï', 'электроника'], dtype=object)"
      ]
     },
     "execution_count": 14,
     "metadata": {},
     "output_type": "execute_result"
    }
   ],
   "source": [
    "# Просмотр уникальных названий жанров\n",
    "df['genre'].sort_values().unique()"
   ]
  },
  {
   "cell_type": "markdown",
   "metadata": {
    "id": "qej-Qmuo_Zct"
   },
   "source": [
    "Просмотрим список и найдем неявные дубликаты названия `hiphop`. Это могут быть названия с ошибками или альтернативные названия того же жанра.\n"
   ]
  },
  {
   "cell_type": "code",
   "execution_count": 15,
   "metadata": {
    "id": "ErNDkmns_Zct"
   },
   "outputs": [],
   "source": [
    "# Функция для замены неявных дубликатов\n",
    "def replace_wrong_genres(wrong_genres, correct_genre):\n",
    "    for val in wrong_genres:\n",
    "        df['genre'] = df['genre'].replace(val, correct_genre)"
   ]
  },
  {
   "cell_type": "code",
   "execution_count": 16,
   "metadata": {
    "id": "YN5i2hpmSo09"
   },
   "outputs": [],
   "source": [
    "# Устранение неявных дубликатов\n",
    "duplicates  = ['hip', 'hop',  'hip-hop']\n",
    "correct = 'hiphop'\n",
    "replace_wrong_genres(duplicates, correct)"
   ]
  },
  {
   "cell_type": "code",
   "execution_count": 17,
   "metadata": {
    "id": "wvixALnFG15m"
   },
   "outputs": [
    {
     "data": {
      "text/plain": [
       "array(['acid', 'acoustic', 'action', 'adult', 'africa', 'afrikaans',\n",
       "       'alternative', 'alternativepunk', 'ambient', 'americana',\n",
       "       'animated', 'anime', 'arabesk', 'arabic', 'arena',\n",
       "       'argentinetango', 'art', 'audiobook', 'author', 'avantgarde',\n",
       "       'axé', 'baile', 'balkan', 'beats', 'bigroom', 'black', 'bluegrass',\n",
       "       'blues', 'bollywood', 'bossa', 'brazilian', 'breakbeat', 'breaks',\n",
       "       'broadway', 'cantautori', 'cantopop', 'canzone', 'caribbean',\n",
       "       'caucasian', 'celtic', 'chamber', 'chanson', 'children', 'chill',\n",
       "       'chinese', 'choral', 'christian', 'christmas', 'classical',\n",
       "       'classicmetal', 'club', 'colombian', 'comedy', 'conjazz',\n",
       "       'contemporary', 'country', 'cuban', 'dance', 'dancehall',\n",
       "       'dancepop', 'dark', 'death', 'deep', 'deutschrock', 'deutschspr',\n",
       "       'dirty', 'disco', 'dnb', 'documentary', 'downbeat', 'downtempo',\n",
       "       'drum', 'dub', 'dubstep', 'eastern', 'easy', 'electronic',\n",
       "       'electropop', 'emo', 'entehno', 'epicmetal', 'estrada', 'ethnic',\n",
       "       'eurofolk', 'european', 'experimental', 'extrememetal', 'fado',\n",
       "       'fairytail', 'film', 'fitness', 'flamenco', 'folk', 'folklore',\n",
       "       'folkmetal', 'folkrock', 'folktronica', 'forró', 'frankreich',\n",
       "       'französisch', 'french', 'funk', 'future', 'gangsta', 'garage',\n",
       "       'german', 'ghazal', 'gitarre', 'glitch', 'gospel', 'gothic',\n",
       "       'grime', 'grunge', 'gypsy', 'handsup', \"hard'n'heavy\", 'hardcore',\n",
       "       'hardstyle', 'hardtechno', 'hiphop', 'historisch', 'holiday',\n",
       "       'horror', 'house', 'hymn', 'idm', 'independent', 'indian', 'indie',\n",
       "       'indipop', 'industrial', 'inspirational', 'instrumental',\n",
       "       'international', 'irish', 'jam', 'japanese', 'jazz', 'jewish',\n",
       "       'jpop', 'jungle', 'k-pop', 'karadeniz', 'karaoke', 'kayokyoku',\n",
       "       'korean', 'laiko', 'latin', 'latino', 'leftfield', 'local',\n",
       "       'lounge', 'loungeelectronic', 'lovers', 'malaysian', 'mandopop',\n",
       "       'marschmusik', 'meditative', 'mediterranean', 'melodic', 'metal',\n",
       "       'metalcore', 'mexican', 'middle', 'minimal', 'miscellaneous',\n",
       "       'modern', 'mood', 'mpb', 'muslim', 'native', 'neoklassik', 'neue',\n",
       "       'new', 'newage', 'newwave', 'nu', 'nujazz', 'numetal', 'oceania',\n",
       "       'old', 'opera', 'orchestral', 'other', 'piano', 'podcasts', 'pop',\n",
       "       'popdance', 'popelectronic', 'popeurodance', 'poprussian', 'post',\n",
       "       'posthardcore', 'postrock', 'power', 'progmetal', 'progressive',\n",
       "       'psychedelic', 'punjabi', 'punk', 'quebecois', 'ragga', 'ram',\n",
       "       'rancheras', 'rap', 'rave', 'reggae', 'reggaeton', 'regional',\n",
       "       'relax', 'religious', 'retro', 'rhythm', 'rnb', 'rnr', 'rock',\n",
       "       'rockabilly', 'rockalternative', 'rockindie', 'rockother',\n",
       "       'romance', 'roots', 'ruspop', 'rusrap', 'rusrock', 'russian',\n",
       "       'salsa', 'samba', 'scenic', 'schlager', 'self', 'sertanejo',\n",
       "       'shanson', 'shoegazing', 'showtunes', 'singer', 'ska', 'skarock',\n",
       "       'slow', 'smooth', 'soft', 'soul', 'soulful', 'sound', 'soundtrack',\n",
       "       'southern', 'specialty', 'speech', 'spiritual', 'sport',\n",
       "       'stonerrock', 'surf', 'swing', 'synthpop', 'synthrock',\n",
       "       'sängerportrait', 'tango', 'tanzorchester', 'taraftar', 'tatar',\n",
       "       'tech', 'techno', 'teen', 'thrash', 'top', 'traditional',\n",
       "       'tradjazz', 'trance', 'tribal', 'trip', 'triphop', 'tropical',\n",
       "       'türk', 'türkçe', 'ukrrock', 'unknown', 'urban', 'uzbek',\n",
       "       'variété', 'vi', 'videogame', 'vocal', 'western', 'world',\n",
       "       'worldbeat', 'ïîï', 'электроника'], dtype=object)"
      ]
     },
     "execution_count": 17,
     "metadata": {},
     "output_type": "execute_result"
    }
   ],
   "source": [
    "# Проверка на неявные дубликаты\n",
    "df['genre'].sort_values().unique()"
   ]
  },
  {
   "cell_type": "markdown",
   "metadata": {
    "id": "jz6a9-7HQUDd"
   },
   "source": [
    "**Выводы**\n",
    "\n",
    "Предобработка обнаружила три проблемы в данных:\n",
    "\n",
    "- нарушения в стиле заголовков,\n",
    "- пропущенные значения,\n",
    "- дубликаты — явные и неявные.\n",
    "\n",
    "Теперь можно перейти к проверке гипотез. "
   ]
  },
  {
   "cell_type": "markdown",
   "metadata": {
    "id": "WttZHXH0SqKk"
   },
   "source": [
    "## Проверка гипотез"
   ]
  },
  {
   "cell_type": "markdown",
   "metadata": {
    "id": "Im936VVi_Zcu"
   },
   "source": [
    "### Сравнение поведения пользователей двух столиц"
   ]
  },
  {
   "cell_type": "markdown",
   "metadata": {
    "id": "nwt_MuaL_Zcu"
   },
   "source": [
    "Первая гипотеза утверждает, что пользователи по-разному слушают музыку в Москве и Санкт-Петербурге. Проверьте это предположение по данным о трёх днях недели — понедельнике, среде и пятнице. Для этого:\n",
    "\n",
    "* Разделим пользователей Москвы и Санкт-Петербурга\n",
    "* Сравним, сколько треков послушала каждая группа пользователей в понедельник, среду и пятницу.\n"
   ]
  },
  {
   "cell_type": "markdown",
   "metadata": {
    "id": "8Dw_YMmT_Zcu"
   },
   "source": [
    "Оценим активность пользователей в каждом городе. Сгруппируем данные по городу и посчитаем прослушивания в каждой группе."
   ]
  },
  {
   "cell_type": "code",
   "execution_count": 18,
   "metadata": {
    "id": "0_Qs96oh_Zcu"
   },
   "outputs": [
    {
     "name": "stdout",
     "output_type": "stream",
     "text": [
      "Прослушиваний в СПб: 18512\n",
      "Прослушиваний в Мск: 42741\n"
     ]
    }
   ],
   "source": [
    "# Подсчёт прослушиваний в каждом городе\n",
    "users_spb = df[df['city'] == 'Saint-Petersburg']\n",
    "users_msk = df[df['city'] == 'Moscow']\n",
    "\n",
    "play_spb = users_spb.groupby('city')['user_id'].count()\n",
    "play_msk = users_msk.groupby('city')['user_id'].count()\n",
    "\n",
    "print('Прослушиваний в СПб:', int(play_spb))\n",
    "print('Прослушиваний в Мск:', int(play_msk))"
   ]
  },
  {
   "cell_type": "markdown",
   "metadata": {
    "id": "dzli3w8o_Zcu"
   },
   "source": [
    "В Москве прослушиваний больше, чем в Петербурге. Из этого не следует, что московские пользователи чаще слушают музыку. Просто самих пользователей в Москве больше.\n",
    "\n",
    "Теперь сгруппируем данные по дню недели и подсчитайте прослушивания в понедельник, среду и пятницу."
   ]
  },
  {
   "cell_type": "code",
   "execution_count": 19,
   "metadata": {
    "id": "uZMKjiJz_Zcu"
   },
   "outputs": [
    {
     "name": "stdout",
     "output_type": "stream",
     "text": [
      "day\n",
      "Friday       21840\n",
      "Monday       21354\n",
      "Wednesday    18059\n",
      "Name: user_id, dtype: int64\n"
     ]
    }
   ],
   "source": [
    "# Подсчёт прослушиваний в каждый из трёх дней\n",
    "play_days = df.groupby('day')['user_id'].count()\n",
    "print(play_days)"
   ]
  },
  {
   "cell_type": "markdown",
   "metadata": {
    "id": "cC2tNrlL_Zcu"
   },
   "source": [
    "В среднем пользователи из двух городов менее активны по средам. Но картина может измениться, если рассмотреть каждый город в отдельности."
   ]
  },
  {
   "cell_type": "markdown",
   "metadata": {
    "id": "POzs8bGa_Zcu"
   },
   "source": [
    "Мы видели, как работает группировка по городу и по дням недели. Теперь напишем функцию, которая объединит два эти расчёта."
   ]
  },
  {
   "cell_type": "code",
   "execution_count": 20,
   "metadata": {
    "id": "Nz3GdQB1_Zcu"
   },
   "outputs": [],
   "source": [
    "# <создание функции number_tracks()>\n",
    "# Объявляется функция с двумя параметрами: day, city.\n",
    "def number_tracks(day, city):\n",
    "    track_list = df[df['day'] == day]\n",
    "    track_list = track_list[track_list['city'] == city]\n",
    "    track_list_count = track_list['user_id'].count()\n",
    "# Функция возвращает число - значение track_list_count.\n",
    "    return track_list_count"
   ]
  },
  {
   "cell_type": "code",
   "execution_count": 21,
   "metadata": {
    "id": "rJcRATNQ_Zcu"
   },
   "outputs": [
    {
     "data": {
      "text/plain": [
       "15740"
      ]
     },
     "execution_count": 21,
     "metadata": {},
     "output_type": "execute_result"
    }
   ],
   "source": [
    "# количество прослушиваний в Москве по понедельникам\n",
    "number_tracks ('Monday','Moscow')"
   ]
  },
  {
   "cell_type": "code",
   "execution_count": 22,
   "metadata": {
    "id": "hq_ncZ5T_Zcu"
   },
   "outputs": [
    {
     "data": {
      "text/plain": [
       "5614"
      ]
     },
     "execution_count": 22,
     "metadata": {},
     "output_type": "execute_result"
    }
   ],
   "source": [
    "# количество прослушиваний в Санкт-Петербурге по понедельникам\n",
    "number_tracks ('Monday','Saint-Petersburg')"
   ]
  },
  {
   "cell_type": "code",
   "execution_count": 23,
   "metadata": {
    "id": "_NTy2VPU_Zcu"
   },
   "outputs": [
    {
     "data": {
      "text/plain": [
       "11056"
      ]
     },
     "execution_count": 23,
     "metadata": {},
     "output_type": "execute_result"
    }
   ],
   "source": [
    "# количество прослушиваний в Москве по средам\n",
    "number_tracks ('Wednesday','Moscow')"
   ]
  },
  {
   "cell_type": "code",
   "execution_count": 24,
   "metadata": {
    "id": "j2y3TAwo_Zcu"
   },
   "outputs": [
    {
     "data": {
      "text/plain": [
       "7003"
      ]
     },
     "execution_count": 24,
     "metadata": {},
     "output_type": "execute_result"
    }
   ],
   "source": [
    "# количество прослушиваний в Санкт-Петербурге по средам\n",
    "number_tracks ('Wednesday','Saint-Petersburg')"
   ]
  },
  {
   "cell_type": "code",
   "execution_count": 25,
   "metadata": {
    "id": "vYDw5u_K_Zcu"
   },
   "outputs": [
    {
     "data": {
      "text/plain": [
       "15945"
      ]
     },
     "execution_count": 25,
     "metadata": {},
     "output_type": "execute_result"
    }
   ],
   "source": [
    "# количество прослушиваний в Москве по пятницам\n",
    "number_tracks ('Friday','Moscow')"
   ]
  },
  {
   "cell_type": "code",
   "execution_count": 26,
   "metadata": {
    "id": "8_yzFtW3_Zcu"
   },
   "outputs": [
    {
     "data": {
      "text/plain": [
       "5895"
      ]
     },
     "execution_count": 26,
     "metadata": {},
     "output_type": "execute_result"
    }
   ],
   "source": [
    "# количество прослушиваний в Санкт-Петербурге по пятницам\n",
    "number_tracks ('Friday','Saint-Petersburg')"
   ]
  },
  {
   "cell_type": "markdown",
   "metadata": {
    "id": "7QXffbO-_Zcu"
   },
   "source": [
    "Создадим таблицу результатов"
   ]
  },
  {
   "cell_type": "code",
   "execution_count": 27,
   "metadata": {
    "id": "APAcLpOr_Zcu"
   },
   "outputs": [
    {
     "data": {
      "text/html": [
       "<div>\n",
       "<style scoped>\n",
       "    .dataframe tbody tr th:only-of-type {\n",
       "        vertical-align: middle;\n",
       "    }\n",
       "\n",
       "    .dataframe tbody tr th {\n",
       "        vertical-align: top;\n",
       "    }\n",
       "\n",
       "    .dataframe thead th {\n",
       "        text-align: right;\n",
       "    }\n",
       "</style>\n",
       "<table border=\"1\" class=\"dataframe\">\n",
       "  <thead>\n",
       "    <tr style=\"text-align: right;\">\n",
       "      <th></th>\n",
       "      <th>city</th>\n",
       "      <th>monday</th>\n",
       "      <th>wednesday</th>\n",
       "      <th>friday</th>\n",
       "    </tr>\n",
       "  </thead>\n",
       "  <tbody>\n",
       "    <tr>\n",
       "      <th>0</th>\n",
       "      <td>Moscow</td>\n",
       "      <td>15740</td>\n",
       "      <td>11056</td>\n",
       "      <td>15945</td>\n",
       "    </tr>\n",
       "    <tr>\n",
       "      <th>1</th>\n",
       "      <td>Saint-Petersburg</td>\n",
       "      <td>5614</td>\n",
       "      <td>7003</td>\n",
       "      <td>5895</td>\n",
       "    </tr>\n",
       "  </tbody>\n",
       "</table>\n",
       "</div>"
      ],
      "text/plain": [
       "               city  monday  wednesday  friday\n",
       "0            Moscow   15740      11056   15945\n",
       "1  Saint-Petersburg    5614       7003    5895"
      ]
     },
     "metadata": {},
     "output_type": "display_data"
    }
   ],
   "source": [
    "# Таблица с результатами\n",
    "columns = ['city', 'monday', 'wednesday', 'friday']\n",
    "data = [['Moscow', 15740, 11056, 15945],['Saint-Petersburg', 5614, 7003, 5895]]\n",
    "res = pd.DataFrame(data = data, columns=columns)\n",
    "display(res)"
   ]
  },
  {
   "cell_type": "markdown",
   "metadata": {
    "id": "-EgPIHYu_Zcu"
   },
   "source": [
    "**Выводы**\n",
    "\n",
    "Данные показывают разницу поведения пользователей:\n",
    "\n",
    "- В Москве пик прослушиваний приходится на понедельник и пятницу, а в среду заметен спад.\n",
    "- В Петербурге, наоборот, больше слушают музыку по средам. Активность в понедельник и пятницу здесь почти в равной мере уступает среде.\n",
    "\n",
    "Значит, данные говорят в пользу первой гипотезы."
   ]
  },
  {
   "cell_type": "markdown",
   "metadata": {
    "id": "atZAxtq4_Zcu"
   },
   "source": [
    "### Музыка в начале и в конце недели"
   ]
  },
  {
   "cell_type": "markdown",
   "metadata": {
    "id": "eXrQqXFH_Zcu"
   },
   "source": [
    "Согласно второй гипотезе, утром в понедельник в Москве преобладают одни жанры, а в Петербурге — другие. Так же и вечером пятницы преобладают разные жанры — в зависимости от города."
   ]
  },
  {
   "cell_type": "markdown",
   "metadata": {
    "id": "S8UcW6Hw_Zcu"
   },
   "source": [
    "Сохраним таблицы с данными в две переменные:\n",
    "* по Москве — в `moscow_general`;\n",
    "* по Санкт-Петербургу — в `spb_general`."
   ]
  },
  {
   "cell_type": "code",
   "execution_count": 28,
   "metadata": {
    "id": "qeaFfM_P_Zcu"
   },
   "outputs": [],
   "source": [
    "moscow_general = df[df['city'] == 'Moscow']"
   ]
  },
  {
   "cell_type": "code",
   "execution_count": 29,
   "metadata": {
    "id": "ORaVRKto_Zcu"
   },
   "outputs": [],
   "source": [
    "spb_general = df[df['city'] == 'Saint-Petersburg']"
   ]
  },
  {
   "cell_type": "markdown",
   "metadata": {
    "id": "MEJV-CX2_Zcu"
   },
   "source": [
    "Создадим функцию `genre_weekday()` с четырьмя параметрами:\n",
    "* таблица (датафрейм) с данными,\n",
    "* день недели,\n",
    "* начальная временная метка в формате 'hh:mm', \n",
    "* последняя временная метка в формате 'hh:mm'.\n",
    "\n",
    "Она должна вернуть информацию о топ-10 жанров тех треков, которые прослушивали в указанный день, в промежутке между двумя отметками времени."
   ]
  },
  {
   "cell_type": "code",
   "execution_count": 30,
   "metadata": {
    "id": "laJT9BYl_Zcu"
   },
   "outputs": [],
   "source": [
    "def genre_weekday(table, day, time1, time2):\n",
    "    genre_df = table[table['day'] == day]\n",
    "    genre_df = genre_df [genre_df['time'] > time1] \n",
    "    genre_df = genre_df [genre_df['time'] < time2]\n",
    "    genre_df_count = genre_df.groupby('genre')['user_id'].count()\n",
    "    genre_df_sorted = genre_df_count.sort_values(ascending=False)\n",
    "    return genre_df_sorted.head(10)"
   ]
  },
  {
   "cell_type": "markdown",
   "metadata": {
    "id": "la2s2_PF_Zcu"
   },
   "source": [
    "Cравним результаты функции `genre_weekday()` для Москвы и Санкт-Петербурга в понедельник утром (с 7:00 до 11:00) и в пятницу вечером (с 17:00 до 23:00):"
   ]
  },
  {
   "cell_type": "code",
   "execution_count": 31,
   "metadata": {
    "id": "yz7itPUQ_Zcu"
   },
   "outputs": [
    {
     "data": {
      "text/plain": [
       "genre\n",
       "pop            781\n",
       "dance          549\n",
       "electronic     480\n",
       "rock           474\n",
       "hiphop         286\n",
       "ruspop         186\n",
       "world          181\n",
       "rusrap         175\n",
       "alternative    164\n",
       "unknown        161\n",
       "Name: user_id, dtype: int64"
      ]
     },
     "execution_count": 31,
     "metadata": {},
     "output_type": "execute_result"
    }
   ],
   "source": [
    "genre_weekday(moscow_general, 'Monday', '07:00', '11:00')"
   ]
  },
  {
   "cell_type": "code",
   "execution_count": 32,
   "metadata": {
    "id": "kwUcHPdy_Zcu"
   },
   "outputs": [
    {
     "data": {
      "text/plain": [
       "genre\n",
       "pop            218\n",
       "dance          182\n",
       "rock           162\n",
       "electronic     147\n",
       "hiphop          80\n",
       "ruspop          64\n",
       "alternative     58\n",
       "rusrap          55\n",
       "jazz            44\n",
       "classical       40\n",
       "Name: user_id, dtype: int64"
      ]
     },
     "execution_count": 32,
     "metadata": {},
     "output_type": "execute_result"
    }
   ],
   "source": [
    "# вызов функции для утра понедельника в Петербурге \n",
    "genre_weekday(spb_general, 'Monday', '07:00', '11:00')"
   ]
  },
  {
   "cell_type": "code",
   "execution_count": 33,
   "metadata": {
    "id": "EzXVRE1o_Zcu"
   },
   "outputs": [
    {
     "data": {
      "text/plain": [
       "genre\n",
       "pop            713\n",
       "rock           517\n",
       "dance          495\n",
       "electronic     482\n",
       "hiphop         273\n",
       "world          208\n",
       "ruspop         170\n",
       "alternative    163\n",
       "classical      163\n",
       "rusrap         142\n",
       "Name: user_id, dtype: int64"
      ]
     },
     "execution_count": 33,
     "metadata": {},
     "output_type": "execute_result"
    }
   ],
   "source": [
    "# вызов функции для вечера пятницы в Москве\n",
    "genre_weekday(moscow_general, 'Friday', '17:00', '23:00')"
   ]
  },
  {
   "cell_type": "code",
   "execution_count": 34,
   "metadata": {
    "id": "JZaEKu5v_Zcu"
   },
   "outputs": [
    {
     "data": {
      "text/plain": [
       "genre\n",
       "pop            256\n",
       "electronic     216\n",
       "rock           216\n",
       "dance          210\n",
       "hiphop          97\n",
       "alternative     63\n",
       "jazz            61\n",
       "classical       60\n",
       "rusrap          59\n",
       "world           54\n",
       "Name: user_id, dtype: int64"
      ]
     },
     "execution_count": 34,
     "metadata": {},
     "output_type": "execute_result"
    }
   ],
   "source": [
    "# вызов функции для вечера пятницы в Петербурге\n",
    "genre_weekday(spb_general, 'Friday', '17:00', '23:00')"
   ]
  },
  {
   "cell_type": "markdown",
   "metadata": {
    "id": "wrCe4MNX_Zcu"
   },
   "source": [
    "**Выводы**\n",
    "\n",
    "Если сравнить топ-10 жанров в понедельник утром, можно сделать такие выводы:\n",
    "\n",
    "1. В Москве и Петербурге слушают похожую музыку. Единственное отличие — в московский рейтинг вошёл жанр “world”, а в петербургский — джаз и классика.\n",
    "\n",
    "2. В Москве пропущенных значений оказалось так много, что значение `'unknown'` заняло десятое место среди самых популярных жанров. Значит, пропущенные значения занимают существенную долю в данных и угрожают достоверности исследования.\n",
    "\n",
    "Вечер пятницы не меняет эту картину. Некоторые жанры поднимаются немного выше, другие спускаются, но в целом топ-10 остаётся тем же самым.\n",
    "\n",
    "Таким образом, вторая гипотеза подтвердилась лишь частично:\n",
    "* Пользователи слушают похожую музыку в начале недели и в конце.\n",
    "* Разница между Москвой и Петербургом не слишком выражена. В Москве чаще слушают русскую популярную музыку, в Петербурге — джаз.\n",
    "\n",
    "Однако пропуски в данных ставят под сомнение этот результат. В Москве их так много, что рейтинг топ-10 мог бы выглядеть иначе, если бы не утерянные  данные о жанрах."
   ]
  },
  {
   "cell_type": "markdown",
   "metadata": {
    "id": "JolODAqr_Zcu"
   },
   "source": [
    "### Жанровые предпочтения в Москве и Петербурге\n",
    "\n",
    "Гипотеза: Петербург — столица рэпа, музыку этого жанра там слушают чаще, чем в Москве.  А Москва — город контрастов, в котором, тем не менее, преобладает поп-музыка."
   ]
  },
  {
   "cell_type": "markdown",
   "metadata": {
    "id": "DlegSvaT_Zcu"
   },
   "source": [
    "Сгруппируем таблицу `moscow_general` по жанру и посчитаем прослушивания треков каждого жанра методом `count()`. Затем отсортируем результат в порядке убывания и сохраним его в таблице `moscow_genres`."
   ]
  },
  {
   "cell_type": "code",
   "execution_count": 35,
   "metadata": {
    "id": "r19lIPke_Zcu"
   },
   "outputs": [],
   "source": [
    "moscow_genres = moscow_general.groupby('genre')['genre'].count().sort_values(ascending=False)"
   ]
  },
  {
   "cell_type": "code",
   "execution_count": 36,
   "metadata": {
    "id": "WhCSooF8_Zcv"
   },
   "outputs": [
    {
     "name": "stdout",
     "output_type": "stream",
     "text": [
      "genre\n",
      "pop            5892\n",
      "dance          4435\n",
      "rock           3965\n",
      "electronic     3786\n",
      "hiphop         2096\n",
      "classical      1616\n",
      "world          1432\n",
      "alternative    1379\n",
      "ruspop         1372\n",
      "rusrap         1161\n",
      "Name: genre, dtype: int64\n"
     ]
    }
   ],
   "source": [
    "# просмотр первых 10 строк moscow_genres\n",
    "print(moscow_genres.head(10))"
   ]
  },
  {
   "cell_type": "markdown",
   "metadata": {
    "id": "cnPG2vnN_Zcv"
   },
   "source": [
    "Аналогично для Петербурга."
   ]
  },
  {
   "cell_type": "code",
   "execution_count": 37,
   "metadata": {
    "id": "gluLIpE7_Zcv"
   },
   "outputs": [],
   "source": [
    "spb_genres = spb_general.groupby('genre')['genre'].count().sort_values(ascending=False)"
   ]
  },
  {
   "cell_type": "code",
   "execution_count": 38,
   "metadata": {
    "id": "uaGJHjVU_Zcv"
   },
   "outputs": [
    {
     "name": "stdout",
     "output_type": "stream",
     "text": [
      "genre\n",
      "pop            2431\n",
      "dance          1932\n",
      "rock           1879\n",
      "electronic     1736\n",
      "hiphop          960\n",
      "alternative     649\n",
      "classical       646\n",
      "rusrap          564\n",
      "ruspop          538\n",
      "world           515\n",
      "Name: genre, dtype: int64\n"
     ]
    }
   ],
   "source": [
    "print(spb_genres.head(10))"
   ]
  },
  {
   "cell_type": "markdown",
   "metadata": {
    "id": "RY51YJYu_Zcv"
   },
   "source": [
    "**Выводы**"
   ]
  },
  {
   "cell_type": "markdown",
   "metadata": {
    "id": "nVhnJEm__Zcv"
   },
   "source": [
    "Гипотеза частично подтвердилась:\n",
    "* Поп-музыка — самый популярный жанр в Москве, как и предполагала гипотеза. Более того, в топ-10 жанров встречается близкий жанр — русская популярная музыка.\n",
    "* Вопреки ожиданиям, рэп одинаково популярен в Москве и Петербурге. \n"
   ]
  },
  {
   "cell_type": "markdown",
   "metadata": {
    "id": "ykKQ0N65_Zcv"
   },
   "source": [
    "## Итоги исследования"
   ]
  },
  {
   "cell_type": "markdown",
   "metadata": {
    "id": "tjUwbHb3_Zcv"
   },
   "source": [
    "Мы проверили три гипотезы и установили:\n",
    "\n",
    "1. День недели по-разному влияет на активность пользователей в Москве и Петербурге. \n",
    "\n",
    "Первая гипотеза полностью подтвердилась.\n",
    "\n",
    "2. Музыкальные предпочтения не сильно меняются в течение недели — будь то Москва или Петербург. Небольшие различия заметны в начале недели, по понедельникам:\n",
    "* в Москве слушают музыку жанра “world”,\n",
    "* в Петербурге — джаз и классику.\n",
    "\n",
    "Таким образом, вторая гипотеза подтвердилась лишь отчасти. Этот результат мог оказаться иным, если бы не пропуски в данных.\n",
    "\n",
    "3. Во вкусах пользователей Москвы и Петербурга больше общего чем различий. Вопреки ожиданиям, предпочтения жанров в Петербурге напоминают московские.\n",
    "\n",
    "Третья гипотеза не подтвердилась. Если различия в предпочтениях и существуют, на основной массе пользователей они незаметны."
   ]
  }
 ],
 "metadata": {
  "ExecuteTimeLog": [
   {
    "duration": 318,
    "start_time": "2021-11-06T14:04:43.920Z"
   },
   {
    "duration": 552,
    "start_time": "2021-11-06T14:04:54.593Z"
   },
   {
    "duration": 3,
    "start_time": "2021-11-06T14:04:57.232Z"
   },
   {
    "duration": 1319,
    "start_time": "2021-11-06T14:04:58.978Z"
   },
   {
    "duration": 1377,
    "start_time": "2021-11-06T14:05:20.068Z"
   },
   {
    "duration": 3,
    "start_time": "2021-11-06T14:05:42.578Z"
   },
   {
    "duration": 1136,
    "start_time": "2021-11-06T14:05:43.564Z"
   },
   {
    "duration": 1185,
    "start_time": "2021-11-06T14:05:46.683Z"
   },
   {
    "duration": 1299,
    "start_time": "2021-11-06T14:05:52.395Z"
   },
   {
    "duration": 122,
    "start_time": "2021-11-06T14:06:03.164Z"
   },
   {
    "duration": 127,
    "start_time": "2021-11-06T14:06:08.365Z"
   },
   {
    "duration": 22,
    "start_time": "2021-11-06T14:07:44.527Z"
   },
   {
    "duration": 39,
    "start_time": "2021-11-06T14:08:27.319Z"
   },
   {
    "duration": 23,
    "start_time": "2021-11-06T14:08:39.895Z"
   },
   {
    "duration": 22,
    "start_time": "2021-11-06T14:08:46.536Z"
   },
   {
    "duration": 4,
    "start_time": "2021-11-06T14:19:12.797Z"
   },
   {
    "duration": 26,
    "start_time": "2021-11-06T14:39:10.580Z"
   },
   {
    "duration": 33,
    "start_time": "2021-11-06T14:39:24.550Z"
   },
   {
    "duration": 3,
    "start_time": "2021-11-06T14:42:07.682Z"
   },
   {
    "duration": 16,
    "start_time": "2021-11-06T14:42:17.147Z"
   },
   {
    "duration": 4,
    "start_time": "2021-11-06T14:42:23.834Z"
   },
   {
    "duration": 21,
    "start_time": "2021-11-06T14:43:51.196Z"
   },
   {
    "duration": 20,
    "start_time": "2021-11-06T14:44:17.765Z"
   },
   {
    "duration": 20,
    "start_time": "2021-11-06T14:44:19.020Z"
   },
   {
    "duration": 3,
    "start_time": "2021-11-06T15:00:38.852Z"
   },
   {
    "duration": 14,
    "start_time": "2021-11-06T15:00:41.807Z"
   },
   {
    "duration": 21,
    "start_time": "2021-11-06T15:01:40.184Z"
   },
   {
    "duration": 13,
    "start_time": "2021-11-06T15:01:47.152Z"
   },
   {
    "duration": 22,
    "start_time": "2021-11-06T15:01:49.201Z"
   },
   {
    "duration": 30,
    "start_time": "2021-11-06T15:02:10.257Z"
   },
   {
    "duration": 32,
    "start_time": "2021-11-06T15:02:34.113Z"
   },
   {
    "duration": 16,
    "start_time": "2021-11-06T15:02:41.458Z"
   },
   {
    "duration": 21,
    "start_time": "2021-11-06T15:02:45.129Z"
   },
   {
    "duration": 52,
    "start_time": "2021-11-06T15:06:00.126Z"
   },
   {
    "duration": 55,
    "start_time": "2021-11-06T15:07:38.001Z"
   },
   {
    "duration": 44,
    "start_time": "2021-11-06T15:07:48.001Z"
   },
   {
    "duration": 172,
    "start_time": "2021-11-06T15:10:12.445Z"
   },
   {
    "duration": 10,
    "start_time": "2021-11-06T15:11:06.343Z"
   },
   {
    "duration": 36,
    "start_time": "2021-11-06T15:11:41.672Z"
   },
   {
    "duration": 3,
    "start_time": "2021-11-06T15:24:52.787Z"
   },
   {
    "duration": 427,
    "start_time": "2021-11-06T15:26:27.894Z"
   },
   {
    "duration": 331,
    "start_time": "2021-11-06T15:26:43.343Z"
   },
   {
    "duration": 352,
    "start_time": "2021-11-06T15:27:40.064Z"
   },
   {
    "duration": 3,
    "start_time": "2021-11-06T15:27:43.224Z"
   },
   {
    "duration": 2,
    "start_time": "2021-11-06T15:27:44.918Z"
   },
   {
    "duration": 1142,
    "start_time": "2021-11-06T15:27:47.927Z"
   },
   {
    "duration": 380,
    "start_time": "2021-11-06T15:30:02.730Z"
   },
   {
    "duration": 3,
    "start_time": "2021-11-06T15:32:11.524Z"
   },
   {
    "duration": 342,
    "start_time": "2021-11-06T15:32:13.831Z"
   },
   {
    "duration": 9,
    "start_time": "2021-11-06T15:33:43.464Z"
   },
   {
    "duration": 36,
    "start_time": "2021-11-06T15:34:15.322Z"
   },
   {
    "duration": 32,
    "start_time": "2021-11-06T15:45:40.620Z"
   },
   {
    "duration": 39,
    "start_time": "2021-11-06T15:46:37.508Z"
   },
   {
    "duration": 166,
    "start_time": "2021-11-06T15:47:28.757Z"
   },
   {
    "duration": 672,
    "start_time": "2021-11-06T15:47:41.570Z"
   },
   {
    "duration": 4379,
    "start_time": "2021-11-06T15:47:55.631Z"
   },
   {
    "duration": 16,
    "start_time": "2021-11-06T15:48:33.223Z"
   },
   {
    "duration": 22,
    "start_time": "2021-11-06T15:49:57.737Z"
   },
   {
    "duration": 30,
    "start_time": "2021-11-06T15:52:06.285Z"
   },
   {
    "duration": 192,
    "start_time": "2021-11-06T15:52:21.333Z"
   },
   {
    "duration": 22,
    "start_time": "2021-11-06T15:52:46.877Z"
   },
   {
    "duration": 26,
    "start_time": "2021-11-06T15:53:14.119Z"
   },
   {
    "duration": 34,
    "start_time": "2021-11-06T15:54:24.336Z"
   },
   {
    "duration": 41,
    "start_time": "2021-11-06T15:54:35.033Z"
   },
   {
    "duration": 39,
    "start_time": "2021-11-06T15:54:48.472Z"
   },
   {
    "duration": 37,
    "start_time": "2021-11-06T15:54:50.192Z"
   },
   {
    "duration": 36,
    "start_time": "2021-11-06T15:55:34.434Z"
   },
   {
    "duration": 27,
    "start_time": "2021-11-06T15:56:45.236Z"
   },
   {
    "duration": 24,
    "start_time": "2021-11-06T15:58:34.166Z"
   },
   {
    "duration": 5043,
    "start_time": "2021-11-06T15:58:42.399Z"
   },
   {
    "duration": 25,
    "start_time": "2021-11-06T15:58:57.375Z"
   },
   {
    "duration": 30,
    "start_time": "2021-11-06T15:59:13.128Z"
   },
   {
    "duration": 58,
    "start_time": "2021-11-06T15:59:32.680Z"
   },
   {
    "duration": 25,
    "start_time": "2021-11-06T15:59:39.001Z"
   },
   {
    "duration": 27,
    "start_time": "2021-11-06T15:59:48.184Z"
   },
   {
    "duration": 26,
    "start_time": "2021-11-06T16:00:09.185Z"
   },
   {
    "duration": 12,
    "start_time": "2021-11-06T16:03:01.684Z"
   },
   {
    "duration": 179,
    "start_time": "2021-11-06T16:08:19.413Z"
   },
   {
    "duration": 13,
    "start_time": "2021-11-06T16:08:38.069Z"
   },
   {
    "duration": 10,
    "start_time": "2021-11-06T16:08:50.926Z"
   },
   {
    "duration": 10,
    "start_time": "2021-11-06T16:09:06.783Z"
   },
   {
    "duration": 11,
    "start_time": "2021-11-06T16:09:08.782Z"
   },
   {
    "duration": 11,
    "start_time": "2021-11-06T16:09:27.415Z"
   },
   {
    "duration": 11,
    "start_time": "2021-11-06T16:09:32.591Z"
   },
   {
    "duration": 60,
    "start_time": "2021-11-06T16:10:13.456Z"
   },
   {
    "duration": 12,
    "start_time": "2021-11-06T16:10:20.185Z"
   },
   {
    "duration": 12,
    "start_time": "2021-11-06T16:10:30.680Z"
   },
   {
    "duration": 12,
    "start_time": "2021-11-06T16:10:47.377Z"
   },
   {
    "duration": 12,
    "start_time": "2021-11-06T16:11:40.274Z"
   },
   {
    "duration": 12,
    "start_time": "2021-11-06T16:13:16.693Z"
   },
   {
    "duration": 12,
    "start_time": "2021-11-06T16:13:22.469Z"
   },
   {
    "duration": 177,
    "start_time": "2021-11-06T16:15:04.655Z"
   },
   {
    "duration": 17,
    "start_time": "2021-11-06T16:15:40.032Z"
   },
   {
    "duration": 9,
    "start_time": "2021-11-06T16:16:35.305Z"
   },
   {
    "duration": 10,
    "start_time": "2021-11-06T16:16:44.001Z"
   },
   {
    "duration": 9,
    "start_time": "2021-11-06T16:17:15.899Z"
   },
   {
    "duration": 4,
    "start_time": "2021-11-06T16:28:12.584Z"
   },
   {
    "duration": 3,
    "start_time": "2021-11-06T16:29:52.453Z"
   },
   {
    "duration": 34,
    "start_time": "2021-11-06T16:30:32.206Z"
   },
   {
    "duration": 36,
    "start_time": "2021-11-06T16:30:43.174Z"
   },
   {
    "duration": 38,
    "start_time": "2021-11-06T16:30:51.782Z"
   },
   {
    "duration": 16,
    "start_time": "2021-11-06T16:31:15.943Z"
   },
   {
    "duration": 14,
    "start_time": "2021-11-06T16:31:47.632Z"
   },
   {
    "duration": 14,
    "start_time": "2021-11-06T16:32:39.769Z"
   },
   {
    "duration": 14,
    "start_time": "2021-11-06T16:32:41.664Z"
   },
   {
    "duration": 16,
    "start_time": "2021-11-06T16:32:43.577Z"
   },
   {
    "duration": 15,
    "start_time": "2021-11-06T16:32:45.465Z"
   },
   {
    "duration": 8,
    "start_time": "2021-11-06T16:36:49.142Z"
   },
   {
    "duration": 5,
    "start_time": "2021-11-06T16:39:00.401Z"
   },
   {
    "duration": 10,
    "start_time": "2021-11-06T16:39:08.915Z"
   },
   {
    "duration": 444,
    "start_time": "2021-11-07T08:32:02.993Z"
   },
   {
    "duration": 790,
    "start_time": "2021-11-07T08:32:30.815Z"
   },
   {
    "duration": 185,
    "start_time": "2021-11-07T08:32:31.607Z"
   },
   {
    "duration": 26,
    "start_time": "2021-11-07T08:32:31.795Z"
   },
   {
    "duration": 38,
    "start_time": "2021-11-07T08:32:31.824Z"
   },
   {
    "duration": 5,
    "start_time": "2021-11-07T08:32:31.865Z"
   },
   {
    "duration": 52,
    "start_time": "2021-11-07T08:32:31.873Z"
   },
   {
    "duration": 13,
    "start_time": "2021-11-07T08:32:31.928Z"
   },
   {
    "duration": 42,
    "start_time": "2021-11-07T08:32:31.943Z"
   },
   {
    "duration": 30,
    "start_time": "2021-11-07T08:32:31.990Z"
   },
   {
    "duration": 29,
    "start_time": "2021-11-07T08:32:32.023Z"
   },
   {
    "duration": 113,
    "start_time": "2021-11-07T08:32:32.055Z"
   },
   {
    "duration": 111,
    "start_time": "2021-11-07T08:32:32.170Z"
   },
   {
    "duration": 87,
    "start_time": "2021-11-07T08:32:32.283Z"
   },
   {
    "duration": 61,
    "start_time": "2021-11-07T08:32:32.373Z"
   },
   {
    "duration": 4,
    "start_time": "2021-11-07T08:32:32.436Z"
   },
   {
    "duration": 19,
    "start_time": "2021-11-07T08:32:32.442Z"
   },
   {
    "duration": 81,
    "start_time": "2021-11-07T08:32:32.463Z"
   },
   {
    "duration": 36,
    "start_time": "2021-11-07T08:32:32.546Z"
   },
   {
    "duration": 14,
    "start_time": "2021-11-07T08:32:32.601Z"
   },
   {
    "duration": 5,
    "start_time": "2021-11-07T08:32:32.617Z"
   },
   {
    "duration": 29,
    "start_time": "2021-11-07T08:32:32.624Z"
   },
   {
    "duration": 53,
    "start_time": "2021-11-07T08:32:32.655Z"
   },
   {
    "duration": 20,
    "start_time": "2021-11-07T08:32:32.710Z"
   },
   {
    "duration": 17,
    "start_time": "2021-11-07T08:32:32.733Z"
   },
   {
    "duration": 52,
    "start_time": "2021-11-07T08:32:32.752Z"
   },
   {
    "duration": 24,
    "start_time": "2021-11-07T08:32:32.807Z"
   },
   {
    "duration": 13,
    "start_time": "2021-11-07T08:32:32.836Z"
   },
   {
    "duration": 49,
    "start_time": "2021-11-07T08:32:32.851Z"
   },
   {
    "duration": 12,
    "start_time": "2021-11-07T08:32:32.903Z"
   },
   {
    "duration": 20,
    "start_time": "2021-11-07T08:32:39.755Z"
   },
   {
    "duration": 15,
    "start_time": "2021-11-07T08:32:41.866Z"
   },
   {
    "duration": 5,
    "start_time": "2021-11-07T08:50:01.075Z"
   },
   {
    "duration": 6,
    "start_time": "2021-11-07T08:56:49.572Z"
   },
   {
    "duration": 26,
    "start_time": "2021-11-07T08:57:46.760Z"
   },
   {
    "duration": 6,
    "start_time": "2021-11-07T08:58:00.673Z"
   },
   {
    "duration": 26,
    "start_time": "2021-11-07T08:58:02.887Z"
   },
   {
    "duration": 5,
    "start_time": "2021-11-07T08:58:08.816Z"
   },
   {
    "duration": 24,
    "start_time": "2021-11-07T08:58:10.609Z"
   },
   {
    "duration": 25,
    "start_time": "2021-11-07T08:58:33.168Z"
   },
   {
    "duration": 24,
    "start_time": "2021-11-07T08:58:37.921Z"
   },
   {
    "duration": 18,
    "start_time": "2021-11-07T08:59:38.441Z"
   },
   {
    "duration": 23,
    "start_time": "2021-11-07T09:00:48.732Z"
   },
   {
    "duration": 18,
    "start_time": "2021-11-07T09:00:51.866Z"
   },
   {
    "duration": 13,
    "start_time": "2021-11-07T09:05:40.898Z"
   },
   {
    "duration": 6,
    "start_time": "2021-11-07T09:05:56.003Z"
   },
   {
    "duration": 12,
    "start_time": "2021-11-07T09:06:51.481Z"
   },
   {
    "duration": 6,
    "start_time": "2021-11-07T09:06:52.701Z"
   },
   {
    "duration": 724,
    "start_time": "2021-11-07T09:34:48.848Z"
   },
   {
    "duration": 142,
    "start_time": "2021-11-07T09:34:49.574Z"
   },
   {
    "duration": 15,
    "start_time": "2021-11-07T09:34:49.718Z"
   },
   {
    "duration": 38,
    "start_time": "2021-11-07T09:34:49.735Z"
   },
   {
    "duration": 3,
    "start_time": "2021-11-07T09:34:49.775Z"
   },
   {
    "duration": 24,
    "start_time": "2021-11-07T09:34:49.780Z"
   },
   {
    "duration": 4,
    "start_time": "2021-11-07T09:34:49.806Z"
   },
   {
    "duration": 25,
    "start_time": "2021-11-07T09:34:49.812Z"
   },
   {
    "duration": 41,
    "start_time": "2021-11-07T09:34:49.839Z"
   },
   {
    "duration": 22,
    "start_time": "2021-11-07T09:34:49.881Z"
   },
   {
    "duration": 74,
    "start_time": "2021-11-07T09:34:49.905Z"
   },
   {
    "duration": 86,
    "start_time": "2021-11-07T09:34:49.980Z"
   },
   {
    "duration": 54,
    "start_time": "2021-11-07T09:34:50.068Z"
   },
   {
    "duration": 50,
    "start_time": "2021-11-07T09:34:50.124Z"
   },
   {
    "duration": 3,
    "start_time": "2021-11-07T09:34:50.176Z"
   },
   {
    "duration": 12,
    "start_time": "2021-11-07T09:34:50.180Z"
   },
   {
    "duration": 39,
    "start_time": "2021-11-07T09:34:50.193Z"
   },
   {
    "duration": 50,
    "start_time": "2021-11-07T09:34:50.234Z"
   },
   {
    "duration": 9,
    "start_time": "2021-11-07T09:34:50.285Z"
   },
   {
    "duration": 3,
    "start_time": "2021-11-07T09:34:50.296Z"
   },
   {
    "duration": 21,
    "start_time": "2021-11-07T09:34:50.301Z"
   },
   {
    "duration": 40,
    "start_time": "2021-11-07T09:34:50.324Z"
   },
   {
    "duration": 16,
    "start_time": "2021-11-07T09:34:50.369Z"
   },
   {
    "duration": 15,
    "start_time": "2021-11-07T09:34:50.387Z"
   },
   {
    "duration": 19,
    "start_time": "2021-11-07T09:34:50.403Z"
   },
   {
    "duration": 50,
    "start_time": "2021-11-07T09:34:50.424Z"
   },
   {
    "duration": 9,
    "start_time": "2021-11-07T09:34:50.476Z"
   },
   {
    "duration": 16,
    "start_time": "2021-11-07T09:34:50.486Z"
   },
   {
    "duration": 11,
    "start_time": "2021-11-07T09:34:50.504Z"
   },
   {
    "duration": 5,
    "start_time": "2021-11-07T09:34:50.517Z"
   },
   {
    "duration": 50,
    "start_time": "2021-11-07T09:34:50.524Z"
   },
   {
    "duration": 14,
    "start_time": "2021-11-07T09:34:50.576Z"
   },
   {
    "duration": 19,
    "start_time": "2021-11-07T09:34:50.592Z"
   },
   {
    "duration": 14,
    "start_time": "2021-11-07T09:34:50.613Z"
   },
   {
    "duration": 43,
    "start_time": "2021-11-07T09:34:50.629Z"
   },
   {
    "duration": 7,
    "start_time": "2021-11-07T09:34:50.673Z"
   },
   {
    "duration": 18,
    "start_time": "2021-11-07T09:34:50.681Z"
   },
   {
    "duration": 10,
    "start_time": "2021-11-07T09:34:50.701Z"
   },
   {
    "duration": 11,
    "start_time": "2021-11-07T09:42:20.753Z"
   },
   {
    "duration": 5,
    "start_time": "2021-11-07T10:42:55.328Z"
   },
   {
    "duration": 8,
    "start_time": "2021-11-07T10:44:32.180Z"
   },
   {
    "duration": 2,
    "start_time": "2021-11-07T10:52:47.815Z"
   },
   {
    "duration": 171,
    "start_time": "2021-11-07T10:52:47.819Z"
   },
   {
    "duration": 9,
    "start_time": "2021-11-07T10:52:47.992Z"
   },
   {
    "duration": 26,
    "start_time": "2021-11-07T10:52:48.003Z"
   },
   {
    "duration": 4,
    "start_time": "2021-11-07T10:52:48.031Z"
   },
   {
    "duration": 47,
    "start_time": "2021-11-07T10:52:48.036Z"
   },
   {
    "duration": 4,
    "start_time": "2021-11-07T10:52:48.085Z"
   },
   {
    "duration": 26,
    "start_time": "2021-11-07T10:52:48.090Z"
   },
   {
    "duration": 18,
    "start_time": "2021-11-07T10:52:48.119Z"
   },
   {
    "duration": 40,
    "start_time": "2021-11-07T10:52:48.139Z"
   },
   {
    "duration": 57,
    "start_time": "2021-11-07T10:52:48.181Z"
   },
   {
    "duration": 88,
    "start_time": "2021-11-07T10:52:48.240Z"
   },
   {
    "duration": 68,
    "start_time": "2021-11-07T10:52:48.330Z"
   },
   {
    "duration": 64,
    "start_time": "2021-11-07T10:52:48.400Z"
   },
   {
    "duration": 3,
    "start_time": "2021-11-07T10:52:48.467Z"
   },
   {
    "duration": 15,
    "start_time": "2021-11-07T10:52:48.472Z"
   },
   {
    "duration": 43,
    "start_time": "2021-11-07T10:52:48.489Z"
   },
   {
    "duration": 52,
    "start_time": "2021-11-07T10:52:48.534Z"
   },
   {
    "duration": 9,
    "start_time": "2021-11-07T10:52:48.588Z"
   },
   {
    "duration": 3,
    "start_time": "2021-11-07T10:52:48.599Z"
   },
   {
    "duration": 22,
    "start_time": "2021-11-07T10:52:48.603Z"
   },
   {
    "duration": 15,
    "start_time": "2021-11-07T10:52:48.626Z"
   },
   {
    "duration": 16,
    "start_time": "2021-11-07T10:52:48.664Z"
   },
   {
    "duration": 16,
    "start_time": "2021-11-07T10:52:48.681Z"
   },
   {
    "duration": 19,
    "start_time": "2021-11-07T10:52:48.699Z"
   },
   {
    "duration": 44,
    "start_time": "2021-11-07T10:52:48.720Z"
   },
   {
    "duration": 8,
    "start_time": "2021-11-07T10:52:48.767Z"
   },
   {
    "duration": 16,
    "start_time": "2021-11-07T10:52:48.777Z"
   },
   {
    "duration": 11,
    "start_time": "2021-11-07T10:52:48.795Z"
   },
   {
    "duration": 4,
    "start_time": "2021-11-07T10:52:48.807Z"
   },
   {
    "duration": 28,
    "start_time": "2021-11-07T10:52:48.812Z"
   },
   {
    "duration": 32,
    "start_time": "2021-11-07T10:52:48.842Z"
   },
   {
    "duration": 18,
    "start_time": "2021-11-07T10:52:48.876Z"
   },
   {
    "duration": 12,
    "start_time": "2021-11-07T10:52:48.896Z"
   },
   {
    "duration": 7,
    "start_time": "2021-11-07T10:52:48.910Z"
   },
   {
    "duration": 6,
    "start_time": "2021-11-07T10:52:48.919Z"
   },
   {
    "duration": 39,
    "start_time": "2021-11-07T10:52:48.927Z"
   },
   {
    "duration": 4,
    "start_time": "2021-11-07T10:52:48.968Z"
   },
   {
    "duration": 75,
    "start_time": "2022-03-27T15:43:15.207Z"
   },
   {
    "duration": 5,
    "start_time": "2022-03-27T15:47:31.806Z"
   },
   {
    "duration": 512,
    "start_time": "2022-03-27T15:50:48.586Z"
   },
   {
    "duration": 203,
    "start_time": "2022-03-27T15:50:49.101Z"
   },
   {
    "duration": 33,
    "start_time": "2022-03-27T15:50:49.308Z"
   },
   {
    "duration": 91,
    "start_time": "2022-03-27T15:50:49.345Z"
   },
   {
    "duration": 6,
    "start_time": "2022-03-27T15:50:49.440Z"
   },
   {
    "duration": 37,
    "start_time": "2022-03-27T15:50:49.449Z"
   },
   {
    "duration": 11,
    "start_time": "2022-03-27T15:50:49.488Z"
   },
   {
    "duration": 72,
    "start_time": "2022-03-27T15:50:49.501Z"
   },
   {
    "duration": 28,
    "start_time": "2022-03-27T15:50:49.576Z"
   },
   {
    "duration": 67,
    "start_time": "2022-03-27T15:50:49.609Z"
   },
   {
    "duration": 157,
    "start_time": "2022-03-27T15:50:49.679Z"
   },
   {
    "duration": 177,
    "start_time": "2022-03-27T15:50:49.838Z"
   },
   {
    "duration": 148,
    "start_time": "2022-03-27T15:50:50.018Z"
   },
   {
    "duration": 60,
    "start_time": "2022-03-27T15:50:50.173Z"
   },
   {
    "duration": 6,
    "start_time": "2022-03-27T15:50:50.236Z"
   },
   {
    "duration": 39,
    "start_time": "2022-03-27T15:50:50.245Z"
   },
   {
    "duration": 55,
    "start_time": "2022-03-27T15:50:50.287Z"
   },
   {
    "duration": 63,
    "start_time": "2022-03-27T15:50:50.344Z"
   },
   {
    "duration": 16,
    "start_time": "2022-03-27T15:50:50.409Z"
   },
   {
    "duration": 4,
    "start_time": "2022-03-27T15:50:50.427Z"
   },
   {
    "duration": 57,
    "start_time": "2022-03-27T15:50:50.433Z"
   },
   {
    "duration": 20,
    "start_time": "2022-03-27T15:50:50.492Z"
   },
   {
    "duration": 21,
    "start_time": "2022-03-27T15:50:50.514Z"
   },
   {
    "duration": 55,
    "start_time": "2022-03-27T15:50:50.537Z"
   },
   {
    "duration": 25,
    "start_time": "2022-03-27T15:50:50.595Z"
   },
   {
    "duration": 52,
    "start_time": "2022-03-27T15:50:50.623Z"
   },
   {
    "duration": 12,
    "start_time": "2022-03-27T15:50:50.677Z"
   },
   {
    "duration": 21,
    "start_time": "2022-03-27T15:50:50.694Z"
   },
   {
    "duration": 18,
    "start_time": "2022-03-27T15:50:50.718Z"
   },
   {
    "duration": 7,
    "start_time": "2022-03-27T15:50:50.773Z"
   },
   {
    "duration": 26,
    "start_time": "2022-03-27T15:50:50.783Z"
   },
   {
    "duration": 16,
    "start_time": "2022-03-27T15:50:50.811Z"
   },
   {
    "duration": 66,
    "start_time": "2022-03-27T15:50:50.830Z"
   },
   {
    "duration": 22,
    "start_time": "2022-03-27T15:50:50.899Z"
   },
   {
    "duration": 18,
    "start_time": "2022-03-27T15:50:50.924Z"
   },
   {
    "duration": 30,
    "start_time": "2022-03-27T15:50:50.945Z"
   },
   {
    "duration": 14,
    "start_time": "2022-03-27T15:50:50.978Z"
   },
   {
    "duration": 6,
    "start_time": "2022-03-27T15:50:50.994Z"
   },
   {
    "duration": 498,
    "start_time": "2022-03-27T16:35:15.622Z"
   },
   {
    "duration": 205,
    "start_time": "2022-03-27T16:35:16.123Z"
   },
   {
    "duration": 28,
    "start_time": "2022-03-27T16:35:16.330Z"
   },
   {
    "duration": 58,
    "start_time": "2022-03-27T16:35:16.362Z"
   },
   {
    "duration": 7,
    "start_time": "2022-03-27T16:35:16.423Z"
   },
   {
    "duration": 50,
    "start_time": "2022-03-27T16:35:16.433Z"
   },
   {
    "duration": 10,
    "start_time": "2022-03-27T16:35:16.486Z"
   },
   {
    "duration": 43,
    "start_time": "2022-03-27T16:35:16.499Z"
   },
   {
    "duration": 41,
    "start_time": "2022-03-27T16:35:16.545Z"
   },
   {
    "duration": 35,
    "start_time": "2022-03-27T16:35:16.590Z"
   },
   {
    "duration": 117,
    "start_time": "2022-03-27T16:35:16.628Z"
   },
   {
    "duration": 122,
    "start_time": "2022-03-27T16:35:16.748Z"
   },
   {
    "duration": 100,
    "start_time": "2022-03-27T16:35:16.872Z"
   },
   {
    "duration": 61,
    "start_time": "2022-03-27T16:35:16.974Z"
   },
   {
    "duration": 4,
    "start_time": "2022-03-27T16:35:17.038Z"
   },
   {
    "duration": 41,
    "start_time": "2022-03-27T16:35:17.045Z"
   },
   {
    "duration": 53,
    "start_time": "2022-03-27T16:35:17.088Z"
   },
   {
    "duration": 60,
    "start_time": "2022-03-27T16:35:17.143Z"
   },
   {
    "duration": 16,
    "start_time": "2022-03-27T16:35:17.205Z"
   },
   {
    "duration": 16,
    "start_time": "2022-03-27T16:35:17.223Z"
   },
   {
    "duration": 50,
    "start_time": "2022-03-27T16:35:17.241Z"
   },
   {
    "duration": 20,
    "start_time": "2022-03-27T16:35:17.293Z"
   },
   {
    "duration": 30,
    "start_time": "2022-03-27T16:35:17.315Z"
   },
   {
    "duration": 40,
    "start_time": "2022-03-27T16:35:17.347Z"
   },
   {
    "duration": 22,
    "start_time": "2022-03-27T16:35:17.389Z"
   },
   {
    "duration": 21,
    "start_time": "2022-03-27T16:35:17.413Z"
   },
   {
    "duration": 11,
    "start_time": "2022-03-27T16:35:17.436Z"
   },
   {
    "duration": 16,
    "start_time": "2022-03-27T16:35:17.486Z"
   },
   {
    "duration": 20,
    "start_time": "2022-03-27T16:35:17.504Z"
   },
   {
    "duration": 6,
    "start_time": "2022-03-27T16:35:17.526Z"
   },
   {
    "duration": 33,
    "start_time": "2022-03-27T16:35:17.534Z"
   },
   {
    "duration": 20,
    "start_time": "2022-03-27T16:35:17.584Z"
   },
   {
    "duration": 24,
    "start_time": "2022-03-27T16:35:17.606Z"
   },
   {
    "duration": 53,
    "start_time": "2022-03-27T16:35:17.632Z"
   },
   {
    "duration": 11,
    "start_time": "2022-03-27T16:35:17.687Z"
   },
   {
    "duration": 6,
    "start_time": "2022-03-27T16:35:17.700Z"
   },
   {
    "duration": 12,
    "start_time": "2022-03-27T16:35:17.709Z"
   },
   {
    "duration": 8,
    "start_time": "2022-03-27T16:35:17.723Z"
   }
  ],
  "colab": {
   "collapsed_sections": [
    "E0vqbgi9ay0H",
    "VUC88oWjTJw2"
   ],
   "name": "yandex_music_project_2021.2.ipynb",
   "provenance": []
  },
  "kernelspec": {
   "display_name": "Python 3 (ipykernel)",
   "language": "python",
   "name": "python3"
  },
  "language_info": {
   "codemirror_mode": {
    "name": "ipython",
    "version": 3
   },
   "file_extension": ".py",
   "mimetype": "text/x-python",
   "name": "python",
   "nbconvert_exporter": "python",
   "pygments_lexer": "ipython3",
   "version": "3.9.5"
  },
  "toc": {
   "base_numbering": 1,
   "nav_menu": {},
   "number_sections": true,
   "sideBar": true,
   "skip_h1_title": true,
   "title_cell": "Table of Contents",
   "title_sidebar": "Contents",
   "toc_cell": false,
   "toc_position": {},
   "toc_section_display": true,
   "toc_window_display": false
  }
 },
 "nbformat": 4,
 "nbformat_minor": 1
}

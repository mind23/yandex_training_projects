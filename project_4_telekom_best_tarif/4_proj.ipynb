{
 "cells": [
  {
   "cell_type": "markdown",
   "metadata": {},
   "source": [
    "# Определение перспективного тарифа для телеком-компании\n",
    "\n",
    "Компания «Мегалайн» — федеральный оператор сотовой связи. Клиентам предлагают два тарифных плана: «Смарт» и «Ультра». Чтобы скорректировать рекламный бюджет, коммерческий департамент хочет понять, какой тариф приносит больше денег.\n",
    "\n",
    "Нам предстоит сделать предварительный анализ тарифов на небольшой выборке клиентов. В нашем распоряжении данные 500 пользователей «Мегалайна»: кто они, откуда, каким тарифом пользуются, сколько звонков и сообщений каждый отправил за 2018 год. Проанализируем поведение клиентов и сделаем вывод — какой тариф лучше.\n",
    "\n",
    "\n",
    "**Описание тарифов**<br>\n",
    "\n",
    "Тариф «Смарт»<br>\n",
    "1.Ежемесячная плата: 550 рублей<br>\n",
    "2.Включено 500 минут разговора, 50 сообщений и 15 Гб интернет-трафика<br>\n",
    "3.Стоимость услуг сверх тарифного пакета: \n",
    "* минута разговора: 3 рубля («Мегалайн» всегда округляет вверх значения минут и мегабайтов. Если пользователь проговорил всего 1 секунду, в тарифе засчитывается целая минута); \n",
    "* сообщение: 3 рубля; \n",
    "* 1 Гб интернет-трафика: 200 рублей.\n",
    "\n",
    "\n",
    "1.Тариф «Ультра»<br>\n",
    "2.Ежемесячная плата: 1950 рублей<br>\n",
    "3.Включено 3000 минут разговора, 1000 сообщений и 30 Гб интернет-трафика<br>\n",
    "Стоимость услуг сверх тарифного пакета:\n",
    "* минута разговора: 1 рубль; \n",
    "* сообщение: 1 рубль; \n",
    "* 1 Гб интернет-трафика: 150 рублей.\n",
    "\n",
    "Примечание:\n",
    "«Мегалайн» всегда округляет секунды до минут, а мегабайты — до гигабайт. Каждый звонок округляется отдельно: даже если он длился всего 1 секунду, будет засчитан как 1 минута.\n",
    "Для веб-трафика отдельные сессии не считаются. Вместо этого общая сумма за месяц округляется в бо́льшую сторону. Если абонент использует 1025 мегабайт в этом месяце, с него возьмут плату за 2 гигабайта."
   ]
  },
  {
   "cell_type": "markdown",
   "metadata": {},
   "source": [
    "**Цель исследования:** выяснить на основе выборки клиентов, какой тариф «Смарт» или «Ультра» выгоднее для компании, путем проверки двух гипотез:\n",
    "\n",
    "* средняя выручка пользователей тарифов «Ультра» и «Смарт» различаются;\n",
    "* средняя выручка пользователей из Москвы отличается от выручки пользователей из других регионов."
   ]
  },
  {
   "cell_type": "markdown",
   "metadata": {},
   "source": [
    "**Содержание**\n",
    "    \n",
    "    \n",
    "1. [Изучение данных из файла](#open)\n",
    "    \n",
    "    \n",
    "2. [Предобработка данных](#preproc)\n",
    "     \n",
    "    \n",
    "3. [Предварительный анализ данных](#pred)\n",
    "\n",
    "\n",
    "4. [Проверка гипотез](#research)\n",
    "    * [4.1 Средняя выручка пользователей тарифов «Ультра» и «Смарт» различаются](#ans1)\n",
    "    * [4.2 Средняя выручка пользователей из Москвы отличается от выручки пользователей из других регионов](#ans2)\n",
    "    \n",
    "    \n",
    "4. [Общий вывод](#summary)"
   ]
  },
  {
   "cell_type": "markdown",
   "metadata": {},
   "source": [
    "<a id=\"open\"></a>\n",
    "## 1. Изучение данных из файла"
   ]
  },
  {
   "cell_type": "markdown",
   "metadata": {},
   "source": [
    "**Описание данных:**\n",
    "\n",
    "\n",
    "Таблица users (информация о пользователях):\n",
    "\n",
    "user_id — уникальный идентификатор пользователя<br>\n",
    "first_name — имя пользователя<br>\n",
    "last_name — фамилия пользователя<br>\n",
    "age — возраст пользователя (годы)<br>\n",
    "reg_date — дата подключения тарифа (день, месяц, год)<br>\n",
    "churn_date — дата прекращения пользования тарифом (если значение пропущено, то тариф ещё действовал на момент выгрузки данных)<br>\n",
    "city — город проживания пользователя<br>\n",
    "tarif — название тарифного плана\n",
    "\n",
    "Таблица calls (информация о звонках):\n",
    "\n",
    "id — уникальный номер звонка<br>\n",
    "call_date — дата звонка<br>\n",
    "duration — длительность звонка в минутах<br>\n",
    "user_id — идентификатор пользователя, сделавшего звонок<br>\n",
    "\n",
    "Таблица messages (информация о сообщениях):\n",
    "\n",
    "id — уникальный номер сообщения<br>\n",
    "message_date — дата сообщения<br>\n",
    "user_id — идентификатор пользователя, отправившего сообщение<br>\n",
    "\n",
    "Таблица internet (информация об интернет-сессиях):\n",
    "\n",
    "id — уникальный номер сессии<br>\n",
    "mb_used — объём потраченного за сессию интернет-трафика (в мегабайтах)<br>\n",
    "session_date — дата интернет-сессии<br>\n",
    "user_id — идентификатор пользователя\n",
    "\n",
    "Таблица tariffs (информация о тарифах):\n",
    "\n",
    "tariff_name — название тарифа<br>\n",
    "rub_monthly_fee — ежемесячная абонентская плата в рублях<br>\n",
    "minutes_included — количество минут разговора в месяц, включённых в абонентскую плату<br>\n",
    "messages_included — количество сообщений в месяц, включённых в абонентскую плату<br>\n",
    "mb_per_month_included — объём интернет-трафика, включённого в абонентскую плату (в мегабайтах)<br>\n",
    "rub_per_minute — стоимость минуты разговора сверх тарифного пакета (например, если в тарифе 100 минут разговора в месяц, то со 101 минуты будет взиматься плата)<br>\n",
    "rub_per_message — стоимость отправки сообщения сверх тарифного пакета<br>\n",
    "rub_per_gb — стоимость дополнительного гигабайта интернет-трафика сверх тарифного пакета (1 гигабайт = 1024 мегабайта)<br>"
   ]
  },
  {
   "cell_type": "code",
   "execution_count": 1,
   "metadata": {},
   "outputs": [],
   "source": [
    "# Импортируем библиотеки\n",
    "\n",
    "import pandas as pd\n",
    "import seaborn as sb\n",
    "import matplotlib.pyplot as plt\n",
    "import numpy as np\n",
    "from math import factorial\n",
    "from scipy import stats as st\n",
    "\n",
    "pd.set_option('display.max_columns', None)\n",
    "pd.set_option('display.float_format', '{:,.2f}'.format)"
   ]
  },
  {
   "cell_type": "code",
   "execution_count": 2,
   "metadata": {
    "scrolled": false
   },
   "outputs": [
    {
     "data": {
      "text/html": [
       "<div>\n",
       "<style scoped>\n",
       "    .dataframe tbody tr th:only-of-type {\n",
       "        vertical-align: middle;\n",
       "    }\n",
       "\n",
       "    .dataframe tbody tr th {\n",
       "        vertical-align: top;\n",
       "    }\n",
       "\n",
       "    .dataframe thead th {\n",
       "        text-align: right;\n",
       "    }\n",
       "</style>\n",
       "<table border=\"1\" class=\"dataframe\">\n",
       "  <thead>\n",
       "    <tr style=\"text-align: right;\">\n",
       "      <th></th>\n",
       "      <th>id</th>\n",
       "      <th>call_date</th>\n",
       "      <th>duration</th>\n",
       "      <th>user_id</th>\n",
       "    </tr>\n",
       "  </thead>\n",
       "  <tbody>\n",
       "    <tr>\n",
       "      <td>0</td>\n",
       "      <td>1000_0</td>\n",
       "      <td>2018-07-25</td>\n",
       "      <td>0.00</td>\n",
       "      <td>1000</td>\n",
       "    </tr>\n",
       "    <tr>\n",
       "      <td>1</td>\n",
       "      <td>1000_1</td>\n",
       "      <td>2018-08-17</td>\n",
       "      <td>0.00</td>\n",
       "      <td>1000</td>\n",
       "    </tr>\n",
       "    <tr>\n",
       "      <td>2</td>\n",
       "      <td>1000_2</td>\n",
       "      <td>2018-06-11</td>\n",
       "      <td>2.85</td>\n",
       "      <td>1000</td>\n",
       "    </tr>\n",
       "    <tr>\n",
       "      <td>3</td>\n",
       "      <td>1000_3</td>\n",
       "      <td>2018-09-21</td>\n",
       "      <td>13.80</td>\n",
       "      <td>1000</td>\n",
       "    </tr>\n",
       "    <tr>\n",
       "      <td>4</td>\n",
       "      <td>1000_4</td>\n",
       "      <td>2018-12-15</td>\n",
       "      <td>5.18</td>\n",
       "      <td>1000</td>\n",
       "    </tr>\n",
       "    <tr>\n",
       "      <td>5</td>\n",
       "      <td>1000_5</td>\n",
       "      <td>2018-11-02</td>\n",
       "      <td>0.00</td>\n",
       "      <td>1000</td>\n",
       "    </tr>\n",
       "    <tr>\n",
       "      <td>6</td>\n",
       "      <td>1000_6</td>\n",
       "      <td>2018-10-18</td>\n",
       "      <td>0.00</td>\n",
       "      <td>1000</td>\n",
       "    </tr>\n",
       "    <tr>\n",
       "      <td>7</td>\n",
       "      <td>1000_7</td>\n",
       "      <td>2018-08-22</td>\n",
       "      <td>18.31</td>\n",
       "      <td>1000</td>\n",
       "    </tr>\n",
       "    <tr>\n",
       "      <td>8</td>\n",
       "      <td>1000_8</td>\n",
       "      <td>2018-09-15</td>\n",
       "      <td>18.44</td>\n",
       "      <td>1000</td>\n",
       "    </tr>\n",
       "    <tr>\n",
       "      <td>9</td>\n",
       "      <td>1000_9</td>\n",
       "      <td>2018-08-15</td>\n",
       "      <td>0.00</td>\n",
       "      <td>1000</td>\n",
       "    </tr>\n",
       "  </tbody>\n",
       "</table>\n",
       "</div>"
      ],
      "text/plain": [
       "       id   call_date  duration  user_id\n",
       "0  1000_0  2018-07-25      0.00     1000\n",
       "1  1000_1  2018-08-17      0.00     1000\n",
       "2  1000_2  2018-06-11      2.85     1000\n",
       "3  1000_3  2018-09-21     13.80     1000\n",
       "4  1000_4  2018-12-15      5.18     1000\n",
       "5  1000_5  2018-11-02      0.00     1000\n",
       "6  1000_6  2018-10-18      0.00     1000\n",
       "7  1000_7  2018-08-22     18.31     1000\n",
       "8  1000_8  2018-09-15     18.44     1000\n",
       "9  1000_9  2018-08-15      0.00     1000"
      ]
     },
     "metadata": {},
     "output_type": "display_data"
    },
    {
     "name": "stdout",
     "output_type": "stream",
     "text": [
      "<class 'pandas.core.frame.DataFrame'>\n",
      "RangeIndex: 202607 entries, 0 to 202606\n",
      "Data columns (total 4 columns):\n",
      "id           202607 non-null object\n",
      "call_date    202607 non-null object\n",
      "duration     202607 non-null float64\n",
      "user_id      202607 non-null int64\n",
      "dtypes: float64(1), int64(1), object(2)\n",
      "memory usage: 6.2+ MB\n"
     ]
    },
    {
     "data": {
      "text/html": [
       "<div>\n",
       "<style scoped>\n",
       "    .dataframe tbody tr th:only-of-type {\n",
       "        vertical-align: middle;\n",
       "    }\n",
       "\n",
       "    .dataframe tbody tr th {\n",
       "        vertical-align: top;\n",
       "    }\n",
       "\n",
       "    .dataframe thead th {\n",
       "        text-align: right;\n",
       "    }\n",
       "</style>\n",
       "<table border=\"1\" class=\"dataframe\">\n",
       "  <thead>\n",
       "    <tr style=\"text-align: right;\">\n",
       "      <th></th>\n",
       "      <th>count</th>\n",
       "      <th>mean</th>\n",
       "      <th>std</th>\n",
       "      <th>min</th>\n",
       "      <th>25%</th>\n",
       "      <th>50%</th>\n",
       "      <th>75%</th>\n",
       "      <th>max</th>\n",
       "    </tr>\n",
       "  </thead>\n",
       "  <tbody>\n",
       "    <tr>\n",
       "      <td>duration</td>\n",
       "      <td>202,607.00</td>\n",
       "      <td>6.76</td>\n",
       "      <td>5.84</td>\n",
       "      <td>0.00</td>\n",
       "      <td>1.30</td>\n",
       "      <td>6.00</td>\n",
       "      <td>10.70</td>\n",
       "      <td>38.00</td>\n",
       "    </tr>\n",
       "    <tr>\n",
       "      <td>user_id</td>\n",
       "      <td>202,607.00</td>\n",
       "      <td>1,253.94</td>\n",
       "      <td>144.72</td>\n",
       "      <td>1,000.00</td>\n",
       "      <td>1,126.00</td>\n",
       "      <td>1,260.00</td>\n",
       "      <td>1,379.00</td>\n",
       "      <td>1,499.00</td>\n",
       "    </tr>\n",
       "  </tbody>\n",
       "</table>\n",
       "</div>"
      ],
      "text/plain": [
       "              count     mean    std      min      25%      50%      75%  \\\n",
       "duration 202,607.00     6.76   5.84     0.00     1.30     6.00    10.70   \n",
       "user_id  202,607.00 1,253.94 144.72 1,000.00 1,126.00 1,260.00 1,379.00   \n",
       "\n",
       "              max  \n",
       "duration    38.00  \n",
       "user_id  1,499.00  "
      ]
     },
     "execution_count": 2,
     "metadata": {},
     "output_type": "execute_result"
    }
   ],
   "source": [
    "# Изучаем таблицу звонков\n",
    "\n",
    "calls = pd.read_csv('/datasets/calls.csv', sep = ',' )\n",
    "display(calls.head(10))\n",
    "calls.tail(10)\n",
    "calls.sample(5)\n",
    "calls.info()\n",
    "calls.describe().T"
   ]
  },
  {
   "cell_type": "code",
   "execution_count": 3,
   "metadata": {
    "scrolled": false
   },
   "outputs": [
    {
     "data": {
      "text/html": [
       "<div>\n",
       "<style scoped>\n",
       "    .dataframe tbody tr th:only-of-type {\n",
       "        vertical-align: middle;\n",
       "    }\n",
       "\n",
       "    .dataframe tbody tr th {\n",
       "        vertical-align: top;\n",
       "    }\n",
       "\n",
       "    .dataframe thead th {\n",
       "        text-align: right;\n",
       "    }\n",
       "</style>\n",
       "<table border=\"1\" class=\"dataframe\">\n",
       "  <thead>\n",
       "    <tr style=\"text-align: right;\">\n",
       "      <th></th>\n",
       "      <th>Unnamed: 0</th>\n",
       "      <th>id</th>\n",
       "      <th>mb_used</th>\n",
       "      <th>session_date</th>\n",
       "      <th>user_id</th>\n",
       "    </tr>\n",
       "  </thead>\n",
       "  <tbody>\n",
       "    <tr>\n",
       "      <td>0</td>\n",
       "      <td>0</td>\n",
       "      <td>1000_0</td>\n",
       "      <td>112.95</td>\n",
       "      <td>2018-11-25</td>\n",
       "      <td>1000</td>\n",
       "    </tr>\n",
       "    <tr>\n",
       "      <td>1</td>\n",
       "      <td>1</td>\n",
       "      <td>1000_1</td>\n",
       "      <td>1,052.81</td>\n",
       "      <td>2018-09-07</td>\n",
       "      <td>1000</td>\n",
       "    </tr>\n",
       "    <tr>\n",
       "      <td>2</td>\n",
       "      <td>2</td>\n",
       "      <td>1000_2</td>\n",
       "      <td>1,197.26</td>\n",
       "      <td>2018-06-25</td>\n",
       "      <td>1000</td>\n",
       "    </tr>\n",
       "    <tr>\n",
       "      <td>3</td>\n",
       "      <td>3</td>\n",
       "      <td>1000_3</td>\n",
       "      <td>550.27</td>\n",
       "      <td>2018-08-22</td>\n",
       "      <td>1000</td>\n",
       "    </tr>\n",
       "    <tr>\n",
       "      <td>4</td>\n",
       "      <td>4</td>\n",
       "      <td>1000_4</td>\n",
       "      <td>302.56</td>\n",
       "      <td>2018-09-24</td>\n",
       "      <td>1000</td>\n",
       "    </tr>\n",
       "    <tr>\n",
       "      <td>5</td>\n",
       "      <td>5</td>\n",
       "      <td>1000_5</td>\n",
       "      <td>399.97</td>\n",
       "      <td>2018-10-02</td>\n",
       "      <td>1000</td>\n",
       "    </tr>\n",
       "    <tr>\n",
       "      <td>6</td>\n",
       "      <td>6</td>\n",
       "      <td>1000_6</td>\n",
       "      <td>540.08</td>\n",
       "      <td>2018-09-07</td>\n",
       "      <td>1000</td>\n",
       "    </tr>\n",
       "    <tr>\n",
       "      <td>7</td>\n",
       "      <td>7</td>\n",
       "      <td>1000_7</td>\n",
       "      <td>415.70</td>\n",
       "      <td>2018-07-11</td>\n",
       "      <td>1000</td>\n",
       "    </tr>\n",
       "    <tr>\n",
       "      <td>8</td>\n",
       "      <td>8</td>\n",
       "      <td>1000_8</td>\n",
       "      <td>505.40</td>\n",
       "      <td>2018-10-08</td>\n",
       "      <td>1000</td>\n",
       "    </tr>\n",
       "    <tr>\n",
       "      <td>9</td>\n",
       "      <td>9</td>\n",
       "      <td>1000_9</td>\n",
       "      <td>345.54</td>\n",
       "      <td>2018-09-03</td>\n",
       "      <td>1000</td>\n",
       "    </tr>\n",
       "  </tbody>\n",
       "</table>\n",
       "</div>"
      ],
      "text/plain": [
       "   Unnamed: 0      id  mb_used session_date  user_id\n",
       "0           0  1000_0   112.95   2018-11-25     1000\n",
       "1           1  1000_1 1,052.81   2018-09-07     1000\n",
       "2           2  1000_2 1,197.26   2018-06-25     1000\n",
       "3           3  1000_3   550.27   2018-08-22     1000\n",
       "4           4  1000_4   302.56   2018-09-24     1000\n",
       "5           5  1000_5   399.97   2018-10-02     1000\n",
       "6           6  1000_6   540.08   2018-09-07     1000\n",
       "7           7  1000_7   415.70   2018-07-11     1000\n",
       "8           8  1000_8   505.40   2018-10-08     1000\n",
       "9           9  1000_9   345.54   2018-09-03     1000"
      ]
     },
     "metadata": {},
     "output_type": "display_data"
    },
    {
     "name": "stdout",
     "output_type": "stream",
     "text": [
      "<class 'pandas.core.frame.DataFrame'>\n",
      "RangeIndex: 149396 entries, 0 to 149395\n",
      "Data columns (total 5 columns):\n",
      "Unnamed: 0      149396 non-null int64\n",
      "id              149396 non-null object\n",
      "mb_used         149396 non-null float64\n",
      "session_date    149396 non-null object\n",
      "user_id         149396 non-null int64\n",
      "dtypes: float64(1), int64(2), object(2)\n",
      "memory usage: 5.7+ MB\n"
     ]
    },
    {
     "data": {
      "text/html": [
       "<div>\n",
       "<style scoped>\n",
       "    .dataframe tbody tr th:only-of-type {\n",
       "        vertical-align: middle;\n",
       "    }\n",
       "\n",
       "    .dataframe tbody tr th {\n",
       "        vertical-align: top;\n",
       "    }\n",
       "\n",
       "    .dataframe thead th {\n",
       "        text-align: right;\n",
       "    }\n",
       "</style>\n",
       "<table border=\"1\" class=\"dataframe\">\n",
       "  <thead>\n",
       "    <tr style=\"text-align: right;\">\n",
       "      <th></th>\n",
       "      <th>count</th>\n",
       "      <th>mean</th>\n",
       "      <th>std</th>\n",
       "      <th>min</th>\n",
       "      <th>25%</th>\n",
       "      <th>50%</th>\n",
       "      <th>75%</th>\n",
       "      <th>max</th>\n",
       "    </tr>\n",
       "  </thead>\n",
       "  <tbody>\n",
       "    <tr>\n",
       "      <td>Unnamed: 0</td>\n",
       "      <td>149,396.00</td>\n",
       "      <td>74,697.50</td>\n",
       "      <td>43,127.05</td>\n",
       "      <td>0.00</td>\n",
       "      <td>37,348.75</td>\n",
       "      <td>74,697.50</td>\n",
       "      <td>112,046.25</td>\n",
       "      <td>149,395.00</td>\n",
       "    </tr>\n",
       "    <tr>\n",
       "      <td>mb_used</td>\n",
       "      <td>149,396.00</td>\n",
       "      <td>370.19</td>\n",
       "      <td>278.30</td>\n",
       "      <td>0.00</td>\n",
       "      <td>138.19</td>\n",
       "      <td>348.01</td>\n",
       "      <td>559.55</td>\n",
       "      <td>1,724.83</td>\n",
       "    </tr>\n",
       "    <tr>\n",
       "      <td>user_id</td>\n",
       "      <td>149,396.00</td>\n",
       "      <td>1,252.10</td>\n",
       "      <td>144.05</td>\n",
       "      <td>1,000.00</td>\n",
       "      <td>1,130.00</td>\n",
       "      <td>1,251.00</td>\n",
       "      <td>1,380.00</td>\n",
       "      <td>1,499.00</td>\n",
       "    </tr>\n",
       "  </tbody>\n",
       "</table>\n",
       "</div>"
      ],
      "text/plain": [
       "                count      mean       std      min       25%       50%  \\\n",
       "Unnamed: 0 149,396.00 74,697.50 43,127.05     0.00 37,348.75 74,697.50   \n",
       "mb_used    149,396.00    370.19    278.30     0.00    138.19    348.01   \n",
       "user_id    149,396.00  1,252.10    144.05 1,000.00  1,130.00  1,251.00   \n",
       "\n",
       "                  75%        max  \n",
       "Unnamed: 0 112,046.25 149,395.00  \n",
       "mb_used        559.55   1,724.83  \n",
       "user_id      1,380.00   1,499.00  "
      ]
     },
     "execution_count": 3,
     "metadata": {},
     "output_type": "execute_result"
    }
   ],
   "source": [
    "# Изучаем таблицу интернет сессий\n",
    "\n",
    "internet = pd.read_csv('/datasets/internet.csv', sep = ',' )\n",
    "display(internet.head(10))\n",
    "internet.tail(10)\n",
    "internet.sample(5)\n",
    "internet.info()\n",
    "internet.describe().T"
   ]
  },
  {
   "cell_type": "code",
   "execution_count": 4,
   "metadata": {
    "scrolled": false
   },
   "outputs": [
    {
     "data": {
      "text/html": [
       "<div>\n",
       "<style scoped>\n",
       "    .dataframe tbody tr th:only-of-type {\n",
       "        vertical-align: middle;\n",
       "    }\n",
       "\n",
       "    .dataframe tbody tr th {\n",
       "        vertical-align: top;\n",
       "    }\n",
       "\n",
       "    .dataframe thead th {\n",
       "        text-align: right;\n",
       "    }\n",
       "</style>\n",
       "<table border=\"1\" class=\"dataframe\">\n",
       "  <thead>\n",
       "    <tr style=\"text-align: right;\">\n",
       "      <th></th>\n",
       "      <th>id</th>\n",
       "      <th>message_date</th>\n",
       "      <th>user_id</th>\n",
       "    </tr>\n",
       "  </thead>\n",
       "  <tbody>\n",
       "    <tr>\n",
       "      <td>0</td>\n",
       "      <td>1000_0</td>\n",
       "      <td>2018-06-27</td>\n",
       "      <td>1000</td>\n",
       "    </tr>\n",
       "    <tr>\n",
       "      <td>1</td>\n",
       "      <td>1000_1</td>\n",
       "      <td>2018-10-08</td>\n",
       "      <td>1000</td>\n",
       "    </tr>\n",
       "    <tr>\n",
       "      <td>2</td>\n",
       "      <td>1000_2</td>\n",
       "      <td>2018-08-04</td>\n",
       "      <td>1000</td>\n",
       "    </tr>\n",
       "    <tr>\n",
       "      <td>3</td>\n",
       "      <td>1000_3</td>\n",
       "      <td>2018-06-16</td>\n",
       "      <td>1000</td>\n",
       "    </tr>\n",
       "    <tr>\n",
       "      <td>4</td>\n",
       "      <td>1000_4</td>\n",
       "      <td>2018-12-05</td>\n",
       "      <td>1000</td>\n",
       "    </tr>\n",
       "    <tr>\n",
       "      <td>5</td>\n",
       "      <td>1000_5</td>\n",
       "      <td>2018-06-20</td>\n",
       "      <td>1000</td>\n",
       "    </tr>\n",
       "    <tr>\n",
       "      <td>6</td>\n",
       "      <td>1000_6</td>\n",
       "      <td>2018-11-19</td>\n",
       "      <td>1000</td>\n",
       "    </tr>\n",
       "    <tr>\n",
       "      <td>7</td>\n",
       "      <td>1000_7</td>\n",
       "      <td>2018-10-29</td>\n",
       "      <td>1000</td>\n",
       "    </tr>\n",
       "    <tr>\n",
       "      <td>8</td>\n",
       "      <td>1000_8</td>\n",
       "      <td>2018-06-25</td>\n",
       "      <td>1000</td>\n",
       "    </tr>\n",
       "    <tr>\n",
       "      <td>9</td>\n",
       "      <td>1000_9</td>\n",
       "      <td>2018-12-18</td>\n",
       "      <td>1000</td>\n",
       "    </tr>\n",
       "  </tbody>\n",
       "</table>\n",
       "</div>"
      ],
      "text/plain": [
       "       id message_date  user_id\n",
       "0  1000_0   2018-06-27     1000\n",
       "1  1000_1   2018-10-08     1000\n",
       "2  1000_2   2018-08-04     1000\n",
       "3  1000_3   2018-06-16     1000\n",
       "4  1000_4   2018-12-05     1000\n",
       "5  1000_5   2018-06-20     1000\n",
       "6  1000_6   2018-11-19     1000\n",
       "7  1000_7   2018-10-29     1000\n",
       "8  1000_8   2018-06-25     1000\n",
       "9  1000_9   2018-12-18     1000"
      ]
     },
     "metadata": {},
     "output_type": "display_data"
    },
    {
     "name": "stdout",
     "output_type": "stream",
     "text": [
      "<class 'pandas.core.frame.DataFrame'>\n",
      "RangeIndex: 123036 entries, 0 to 123035\n",
      "Data columns (total 3 columns):\n",
      "id              123036 non-null object\n",
      "message_date    123036 non-null object\n",
      "user_id         123036 non-null int64\n",
      "dtypes: int64(1), object(2)\n",
      "memory usage: 2.8+ MB\n"
     ]
    },
    {
     "data": {
      "text/html": [
       "<div>\n",
       "<style scoped>\n",
       "    .dataframe tbody tr th:only-of-type {\n",
       "        vertical-align: middle;\n",
       "    }\n",
       "\n",
       "    .dataframe tbody tr th {\n",
       "        vertical-align: top;\n",
       "    }\n",
       "\n",
       "    .dataframe thead th {\n",
       "        text-align: right;\n",
       "    }\n",
       "</style>\n",
       "<table border=\"1\" class=\"dataframe\">\n",
       "  <thead>\n",
       "    <tr style=\"text-align: right;\">\n",
       "      <th></th>\n",
       "      <th>count</th>\n",
       "      <th>mean</th>\n",
       "      <th>std</th>\n",
       "      <th>min</th>\n",
       "      <th>25%</th>\n",
       "      <th>50%</th>\n",
       "      <th>75%</th>\n",
       "      <th>max</th>\n",
       "    </tr>\n",
       "  </thead>\n",
       "  <tbody>\n",
       "    <tr>\n",
       "      <td>user_id</td>\n",
       "      <td>123,036.00</td>\n",
       "      <td>1,256.99</td>\n",
       "      <td>143.52</td>\n",
       "      <td>1,000.00</td>\n",
       "      <td>1,134.00</td>\n",
       "      <td>1,271.00</td>\n",
       "      <td>1,381.00</td>\n",
       "      <td>1,499.00</td>\n",
       "    </tr>\n",
       "  </tbody>\n",
       "</table>\n",
       "</div>"
      ],
      "text/plain": [
       "             count     mean    std      min      25%      50%      75%  \\\n",
       "user_id 123,036.00 1,256.99 143.52 1,000.00 1,134.00 1,271.00 1,381.00   \n",
       "\n",
       "             max  \n",
       "user_id 1,499.00  "
      ]
     },
     "execution_count": 4,
     "metadata": {},
     "output_type": "execute_result"
    }
   ],
   "source": [
    "# Изучаем таблицу sms\n",
    "\n",
    "messages = pd.read_csv('/datasets/messages.csv', sep = ',' )\n",
    "display(messages.head(10))\n",
    "messages.tail(10)\n",
    "messages.sample(5)\n",
    "messages.info()\n",
    "messages.describe().T"
   ]
  },
  {
   "cell_type": "code",
   "execution_count": 5,
   "metadata": {
    "scrolled": false
   },
   "outputs": [
    {
     "data": {
      "text/html": [
       "<div>\n",
       "<style scoped>\n",
       "    .dataframe tbody tr th:only-of-type {\n",
       "        vertical-align: middle;\n",
       "    }\n",
       "\n",
       "    .dataframe tbody tr th {\n",
       "        vertical-align: top;\n",
       "    }\n",
       "\n",
       "    .dataframe thead th {\n",
       "        text-align: right;\n",
       "    }\n",
       "</style>\n",
       "<table border=\"1\" class=\"dataframe\">\n",
       "  <thead>\n",
       "    <tr style=\"text-align: right;\">\n",
       "      <th></th>\n",
       "      <th>messages_included</th>\n",
       "      <th>mb_per_month_included</th>\n",
       "      <th>minutes_included</th>\n",
       "      <th>rub_monthly_fee</th>\n",
       "      <th>rub_per_gb</th>\n",
       "      <th>rub_per_message</th>\n",
       "      <th>rub_per_minute</th>\n",
       "      <th>tariff_name</th>\n",
       "    </tr>\n",
       "  </thead>\n",
       "  <tbody>\n",
       "    <tr>\n",
       "      <td>0</td>\n",
       "      <td>50</td>\n",
       "      <td>15360</td>\n",
       "      <td>500</td>\n",
       "      <td>550</td>\n",
       "      <td>200</td>\n",
       "      <td>3</td>\n",
       "      <td>3</td>\n",
       "      <td>smart</td>\n",
       "    </tr>\n",
       "    <tr>\n",
       "      <td>1</td>\n",
       "      <td>1000</td>\n",
       "      <td>30720</td>\n",
       "      <td>3000</td>\n",
       "      <td>1950</td>\n",
       "      <td>150</td>\n",
       "      <td>1</td>\n",
       "      <td>1</td>\n",
       "      <td>ultra</td>\n",
       "    </tr>\n",
       "  </tbody>\n",
       "</table>\n",
       "</div>"
      ],
      "text/plain": [
       "   messages_included  mb_per_month_included  minutes_included  \\\n",
       "0                 50                  15360               500   \n",
       "1               1000                  30720              3000   \n",
       "\n",
       "   rub_monthly_fee  rub_per_gb  rub_per_message  rub_per_minute tariff_name  \n",
       "0              550         200                3               3       smart  \n",
       "1             1950         150                1               1       ultra  "
      ]
     },
     "metadata": {},
     "output_type": "display_data"
    },
    {
     "name": "stdout",
     "output_type": "stream",
     "text": [
      "<class 'pandas.core.frame.DataFrame'>\n",
      "RangeIndex: 2 entries, 0 to 1\n",
      "Data columns (total 8 columns):\n",
      "messages_included        2 non-null int64\n",
      "mb_per_month_included    2 non-null int64\n",
      "minutes_included         2 non-null int64\n",
      "rub_monthly_fee          2 non-null int64\n",
      "rub_per_gb               2 non-null int64\n",
      "rub_per_message          2 non-null int64\n",
      "rub_per_minute           2 non-null int64\n",
      "tariff_name              2 non-null object\n",
      "dtypes: int64(7), object(1)\n",
      "memory usage: 256.0+ bytes\n"
     ]
    },
    {
     "data": {
      "text/html": [
       "<div>\n",
       "<style scoped>\n",
       "    .dataframe tbody tr th:only-of-type {\n",
       "        vertical-align: middle;\n",
       "    }\n",
       "\n",
       "    .dataframe tbody tr th {\n",
       "        vertical-align: top;\n",
       "    }\n",
       "\n",
       "    .dataframe thead th {\n",
       "        text-align: right;\n",
       "    }\n",
       "</style>\n",
       "<table border=\"1\" class=\"dataframe\">\n",
       "  <thead>\n",
       "    <tr style=\"text-align: right;\">\n",
       "      <th></th>\n",
       "      <th>count</th>\n",
       "      <th>mean</th>\n",
       "      <th>std</th>\n",
       "      <th>min</th>\n",
       "      <th>25%</th>\n",
       "      <th>50%</th>\n",
       "      <th>75%</th>\n",
       "      <th>max</th>\n",
       "    </tr>\n",
       "  </thead>\n",
       "  <tbody>\n",
       "    <tr>\n",
       "      <td>messages_included</td>\n",
       "      <td>2.00</td>\n",
       "      <td>525.00</td>\n",
       "      <td>671.75</td>\n",
       "      <td>50.00</td>\n",
       "      <td>287.50</td>\n",
       "      <td>525.00</td>\n",
       "      <td>762.50</td>\n",
       "      <td>1,000.00</td>\n",
       "    </tr>\n",
       "    <tr>\n",
       "      <td>mb_per_month_included</td>\n",
       "      <td>2.00</td>\n",
       "      <td>23,040.00</td>\n",
       "      <td>10,861.16</td>\n",
       "      <td>15,360.00</td>\n",
       "      <td>19,200.00</td>\n",
       "      <td>23,040.00</td>\n",
       "      <td>26,880.00</td>\n",
       "      <td>30,720.00</td>\n",
       "    </tr>\n",
       "    <tr>\n",
       "      <td>minutes_included</td>\n",
       "      <td>2.00</td>\n",
       "      <td>1,750.00</td>\n",
       "      <td>1,767.77</td>\n",
       "      <td>500.00</td>\n",
       "      <td>1,125.00</td>\n",
       "      <td>1,750.00</td>\n",
       "      <td>2,375.00</td>\n",
       "      <td>3,000.00</td>\n",
       "    </tr>\n",
       "    <tr>\n",
       "      <td>rub_monthly_fee</td>\n",
       "      <td>2.00</td>\n",
       "      <td>1,250.00</td>\n",
       "      <td>989.95</td>\n",
       "      <td>550.00</td>\n",
       "      <td>900.00</td>\n",
       "      <td>1,250.00</td>\n",
       "      <td>1,600.00</td>\n",
       "      <td>1,950.00</td>\n",
       "    </tr>\n",
       "    <tr>\n",
       "      <td>rub_per_gb</td>\n",
       "      <td>2.00</td>\n",
       "      <td>175.00</td>\n",
       "      <td>35.36</td>\n",
       "      <td>150.00</td>\n",
       "      <td>162.50</td>\n",
       "      <td>175.00</td>\n",
       "      <td>187.50</td>\n",
       "      <td>200.00</td>\n",
       "    </tr>\n",
       "    <tr>\n",
       "      <td>rub_per_message</td>\n",
       "      <td>2.00</td>\n",
       "      <td>2.00</td>\n",
       "      <td>1.41</td>\n",
       "      <td>1.00</td>\n",
       "      <td>1.50</td>\n",
       "      <td>2.00</td>\n",
       "      <td>2.50</td>\n",
       "      <td>3.00</td>\n",
       "    </tr>\n",
       "    <tr>\n",
       "      <td>rub_per_minute</td>\n",
       "      <td>2.00</td>\n",
       "      <td>2.00</td>\n",
       "      <td>1.41</td>\n",
       "      <td>1.00</td>\n",
       "      <td>1.50</td>\n",
       "      <td>2.00</td>\n",
       "      <td>2.50</td>\n",
       "      <td>3.00</td>\n",
       "    </tr>\n",
       "  </tbody>\n",
       "</table>\n",
       "</div>"
      ],
      "text/plain": [
       "                       count      mean       std       min       25%  \\\n",
       "messages_included       2.00    525.00    671.75     50.00    287.50   \n",
       "mb_per_month_included   2.00 23,040.00 10,861.16 15,360.00 19,200.00   \n",
       "minutes_included        2.00  1,750.00  1,767.77    500.00  1,125.00   \n",
       "rub_monthly_fee         2.00  1,250.00    989.95    550.00    900.00   \n",
       "rub_per_gb              2.00    175.00     35.36    150.00    162.50   \n",
       "rub_per_message         2.00      2.00      1.41      1.00      1.50   \n",
       "rub_per_minute          2.00      2.00      1.41      1.00      1.50   \n",
       "\n",
       "                            50%       75%       max  \n",
       "messages_included        525.00    762.50  1,000.00  \n",
       "mb_per_month_included 23,040.00 26,880.00 30,720.00  \n",
       "minutes_included       1,750.00  2,375.00  3,000.00  \n",
       "rub_monthly_fee        1,250.00  1,600.00  1,950.00  \n",
       "rub_per_gb               175.00    187.50    200.00  \n",
       "rub_per_message            2.00      2.50      3.00  \n",
       "rub_per_minute             2.00      2.50      3.00  "
      ]
     },
     "execution_count": 5,
     "metadata": {},
     "output_type": "execute_result"
    }
   ],
   "source": [
    "# Изучаем таблицу тарифов\n",
    "\n",
    "tariffs = pd.read_csv('/datasets/tariffs.csv', sep = ',' )\n",
    "display(tariffs.head(10))\n",
    "tariffs.tail(10)\n",
    "# tariffs.sample(5)\n",
    "tariffs.info()\n",
    "tariffs.describe().T"
   ]
  },
  {
   "cell_type": "code",
   "execution_count": 6,
   "metadata": {
    "scrolled": false
   },
   "outputs": [
    {
     "data": {
      "text/html": [
       "<div>\n",
       "<style scoped>\n",
       "    .dataframe tbody tr th:only-of-type {\n",
       "        vertical-align: middle;\n",
       "    }\n",
       "\n",
       "    .dataframe tbody tr th {\n",
       "        vertical-align: top;\n",
       "    }\n",
       "\n",
       "    .dataframe thead th {\n",
       "        text-align: right;\n",
       "    }\n",
       "</style>\n",
       "<table border=\"1\" class=\"dataframe\">\n",
       "  <thead>\n",
       "    <tr style=\"text-align: right;\">\n",
       "      <th></th>\n",
       "      <th>user_id</th>\n",
       "      <th>age</th>\n",
       "      <th>churn_date</th>\n",
       "      <th>city</th>\n",
       "      <th>first_name</th>\n",
       "      <th>last_name</th>\n",
       "      <th>reg_date</th>\n",
       "      <th>tariff</th>\n",
       "    </tr>\n",
       "  </thead>\n",
       "  <tbody>\n",
       "    <tr>\n",
       "      <td>19</td>\n",
       "      <td>1019</td>\n",
       "      <td>63</td>\n",
       "      <td>2018-10-05</td>\n",
       "      <td>Томск</td>\n",
       "      <td>Игнатий</td>\n",
       "      <td>Круглов</td>\n",
       "      <td>2018-05-16</td>\n",
       "      <td>ultra</td>\n",
       "    </tr>\n",
       "    <tr>\n",
       "      <td>20</td>\n",
       "      <td>1020</td>\n",
       "      <td>59</td>\n",
       "      <td>2018-12-18</td>\n",
       "      <td>Чита</td>\n",
       "      <td>Тала</td>\n",
       "      <td>Костина</td>\n",
       "      <td>2018-10-22</td>\n",
       "      <td>smart</td>\n",
       "    </tr>\n",
       "    <tr>\n",
       "      <td>34</td>\n",
       "      <td>1034</td>\n",
       "      <td>66</td>\n",
       "      <td>2018-11-21</td>\n",
       "      <td>Вологда</td>\n",
       "      <td>Святослав</td>\n",
       "      <td>Бондарев</td>\n",
       "      <td>2018-08-26</td>\n",
       "      <td>smart</td>\n",
       "    </tr>\n",
       "    <tr>\n",
       "      <td>50</td>\n",
       "      <td>1050</td>\n",
       "      <td>44</td>\n",
       "      <td>2018-10-03</td>\n",
       "      <td>Тюмень</td>\n",
       "      <td>Рузана</td>\n",
       "      <td>Аничкина</td>\n",
       "      <td>2018-06-16</td>\n",
       "      <td>ultra</td>\n",
       "    </tr>\n",
       "    <tr>\n",
       "      <td>51</td>\n",
       "      <td>1051</td>\n",
       "      <td>37</td>\n",
       "      <td>2018-10-14</td>\n",
       "      <td>Москва</td>\n",
       "      <td>Кристина</td>\n",
       "      <td>Сомова</td>\n",
       "      <td>2018-05-28</td>\n",
       "      <td>smart</td>\n",
       "    </tr>\n",
       "    <tr>\n",
       "      <td>56</td>\n",
       "      <td>1056</td>\n",
       "      <td>73</td>\n",
       "      <td>2018-10-14</td>\n",
       "      <td>Иркутск</td>\n",
       "      <td>Радислав</td>\n",
       "      <td>Артемьев</td>\n",
       "      <td>2018-04-13</td>\n",
       "      <td>smart</td>\n",
       "    </tr>\n",
       "    <tr>\n",
       "      <td>62</td>\n",
       "      <td>1062</td>\n",
       "      <td>24</td>\n",
       "      <td>2018-12-09</td>\n",
       "      <td>Москва</td>\n",
       "      <td>Александр</td>\n",
       "      <td>Коршунов</td>\n",
       "      <td>2018-11-16</td>\n",
       "      <td>smart</td>\n",
       "    </tr>\n",
       "    <tr>\n",
       "      <td>63</td>\n",
       "      <td>1063</td>\n",
       "      <td>45</td>\n",
       "      <td>2018-12-11</td>\n",
       "      <td>Тула</td>\n",
       "      <td>Таира</td>\n",
       "      <td>Климова</td>\n",
       "      <td>2018-04-12</td>\n",
       "      <td>ultra</td>\n",
       "    </tr>\n",
       "    <tr>\n",
       "      <td>64</td>\n",
       "      <td>1064</td>\n",
       "      <td>55</td>\n",
       "      <td>2018-12-26</td>\n",
       "      <td>Якутск</td>\n",
       "      <td>Динара</td>\n",
       "      <td>Алфеева</td>\n",
       "      <td>2018-03-17</td>\n",
       "      <td>smart</td>\n",
       "    </tr>\n",
       "    <tr>\n",
       "      <td>65</td>\n",
       "      <td>1065</td>\n",
       "      <td>53</td>\n",
       "      <td>2018-12-09</td>\n",
       "      <td>Москва</td>\n",
       "      <td>Роза</td>\n",
       "      <td>Игнатова</td>\n",
       "      <td>2018-03-08</td>\n",
       "      <td>smart</td>\n",
       "    </tr>\n",
       "  </tbody>\n",
       "</table>\n",
       "</div>"
      ],
      "text/plain": [
       "    user_id  age  churn_date     city first_name last_name    reg_date tariff\n",
       "19     1019   63  2018-10-05    Томск    Игнатий   Круглов  2018-05-16  ultra\n",
       "20     1020   59  2018-12-18     Чита       Тала   Костина  2018-10-22  smart\n",
       "34     1034   66  2018-11-21  Вологда  Святослав  Бондарев  2018-08-26  smart\n",
       "50     1050   44  2018-10-03   Тюмень     Рузана  Аничкина  2018-06-16  ultra\n",
       "51     1051   37  2018-10-14   Москва   Кристина    Сомова  2018-05-28  smart\n",
       "56     1056   73  2018-10-14  Иркутск   Радислав  Артемьев  2018-04-13  smart\n",
       "62     1062   24  2018-12-09   Москва  Александр  Коршунов  2018-11-16  smart\n",
       "63     1063   45  2018-12-11     Тула      Таира   Климова  2018-04-12  ultra\n",
       "64     1064   55  2018-12-26   Якутск     Динара   Алфеева  2018-03-17  smart\n",
       "65     1065   53  2018-12-09   Москва       Роза  Игнатова  2018-03-08  smart"
      ]
     },
     "metadata": {},
     "output_type": "display_data"
    },
    {
     "name": "stdout",
     "output_type": "stream",
     "text": [
      "<class 'pandas.core.frame.DataFrame'>\n",
      "RangeIndex: 500 entries, 0 to 499\n",
      "Data columns (total 8 columns):\n",
      "user_id       500 non-null int64\n",
      "age           500 non-null int64\n",
      "churn_date    38 non-null object\n",
      "city          500 non-null object\n",
      "first_name    500 non-null object\n",
      "last_name     500 non-null object\n",
      "reg_date      500 non-null object\n",
      "tariff        500 non-null object\n",
      "dtypes: int64(2), object(6)\n",
      "memory usage: 31.4+ KB\n"
     ]
    },
    {
     "data": {
      "text/html": [
       "<div>\n",
       "<style scoped>\n",
       "    .dataframe tbody tr th:only-of-type {\n",
       "        vertical-align: middle;\n",
       "    }\n",
       "\n",
       "    .dataframe tbody tr th {\n",
       "        vertical-align: top;\n",
       "    }\n",
       "\n",
       "    .dataframe thead th {\n",
       "        text-align: right;\n",
       "    }\n",
       "</style>\n",
       "<table border=\"1\" class=\"dataframe\">\n",
       "  <thead>\n",
       "    <tr style=\"text-align: right;\">\n",
       "      <th></th>\n",
       "      <th>count</th>\n",
       "      <th>mean</th>\n",
       "      <th>std</th>\n",
       "      <th>min</th>\n",
       "      <th>25%</th>\n",
       "      <th>50%</th>\n",
       "      <th>75%</th>\n",
       "      <th>max</th>\n",
       "    </tr>\n",
       "  </thead>\n",
       "  <tbody>\n",
       "    <tr>\n",
       "      <td>user_id</td>\n",
       "      <td>500.00</td>\n",
       "      <td>1,249.50</td>\n",
       "      <td>144.48</td>\n",
       "      <td>1,000.00</td>\n",
       "      <td>1,124.75</td>\n",
       "      <td>1,249.50</td>\n",
       "      <td>1,374.25</td>\n",
       "      <td>1,499.00</td>\n",
       "    </tr>\n",
       "    <tr>\n",
       "      <td>age</td>\n",
       "      <td>500.00</td>\n",
       "      <td>46.59</td>\n",
       "      <td>16.67</td>\n",
       "      <td>18.00</td>\n",
       "      <td>32.00</td>\n",
       "      <td>46.00</td>\n",
       "      <td>62.00</td>\n",
       "      <td>75.00</td>\n",
       "    </tr>\n",
       "  </tbody>\n",
       "</table>\n",
       "</div>"
      ],
      "text/plain": [
       "         count     mean    std      min      25%      50%      75%      max\n",
       "user_id 500.00 1,249.50 144.48 1,000.00 1,124.75 1,249.50 1,374.25 1,499.00\n",
       "age     500.00    46.59  16.67    18.00    32.00    46.00    62.00    75.00"
      ]
     },
     "execution_count": 6,
     "metadata": {},
     "output_type": "execute_result"
    }
   ],
   "source": [
    "# Изучаем таблицу пользователей\n",
    "\n",
    "users = pd.read_csv('/datasets/users.csv', sep = ',' )\n",
    "display(users.query('churn_date.notna()').head(10))\n",
    "users.tail(10)\n",
    "users.sample(5)\n",
    "users.info()\n",
    "users['tariff'].unique()\n",
    "users.describe().T"
   ]
  },
  {
   "cell_type": "markdown",
   "metadata": {},
   "source": [
    "### Вывод\n",
    "\n",
    "Данные открыты и изучены.\n",
    "\n",
    "Названия колонок выглядят приемлимо. Найдена колонка без названия совпадающая с индексом в таблице internet, удалим ее.\n",
    "\n",
    "Найдены пропуски в поле таблицы users: \n",
    "* churn_date    \n",
    "\n",
    "Это дата прекращения пользования тарифом (если значение пропущено, то тариф ещё действовал на момент выгрузки данных).\n",
    "\n",
    "Некоректные типы данных:\n",
    "\n",
    "\n",
    "Таблица calls\n",
    "\n",
    "* call_date следует привести к типу datetime, округлив до дней\n",
    "* duration снизим битность поля\n",
    "* user_id снизим битность поля\n",
    "\n",
    "Таблица internet\n",
    "\n",
    "* session_date следует привести к типу datetime, округлив до дней\n",
    "* mb_used снизим битность поля\n",
    "* user_id снизим битность поля\n",
    "\n",
    "Таблица messages\n",
    "\n",
    "* message_date следует привести к типу datetime, округлив до дней\n",
    "* user_id снизим битность поля\n",
    "\n",
    "Таблица tariffs\n",
    "\n",
    "* messages_included снизим битность поля\n",
    "* mb_per_month_included снизим битность поля\n",
    "* minutes_included снизим битность поля\n",
    "* rub_monthly_fee снизим битность поля\n",
    "* rub_per_gb снизим битность поля\n",
    "* rub_per_message снизим битность поля\n",
    "* rub_per_minute снизим битность поля\n",
    "\n",
    "Таблица users\n",
    "* user_id снизим битность поля\n",
    "* age снизим битность поля\n",
    "* churn_date следует привести к типу datetime, округлив до дней\n",
    "* reg_date следует привести к типу datetime, округлив до дней\n"
   ]
  },
  {
   "cell_type": "markdown",
   "metadata": {},
   "source": [
    "<a id=\"preproc\"></a>\n",
    "## 2. Предобработка данных"
   ]
  },
  {
   "cell_type": "markdown",
   "metadata": {},
   "source": [
    "Удалим поле Unnamed: 0 из internet"
   ]
  },
  {
   "cell_type": "code",
   "execution_count": 7,
   "metadata": {
    "scrolled": true
   },
   "outputs": [
    {
     "name": "stdout",
     "output_type": "stream",
     "text": [
      "<class 'pandas.core.frame.DataFrame'>\n",
      "RangeIndex: 149396 entries, 0 to 149395\n",
      "Data columns (total 5 columns):\n",
      "del             149396 non-null int64\n",
      "id              149396 non-null object\n",
      "mb_used         149396 non-null float64\n",
      "session_date    149396 non-null object\n",
      "user_id         149396 non-null int64\n",
      "dtypes: float64(1), int64(2), object(2)\n",
      "memory usage: 5.7+ MB\n"
     ]
    }
   ],
   "source": [
    "try:\n",
    "    internet.rename({\"Unnamed: 0\":\"del\"}, axis=\"columns\", inplace=True)\n",
    "    internet.drop([\"del\"], axis=1)\n",
    "except:\n",
    "    print('Поле удалено')\n",
    "    print()\n",
    "internet.info()"
   ]
  },
  {
   "cell_type": "markdown",
   "metadata": {},
   "source": [
    "Изменим типы данных в соответствии с нашими решениями."
   ]
  },
  {
   "cell_type": "code",
   "execution_count": 8,
   "metadata": {},
   "outputs": [
    {
     "name": "stdout",
     "output_type": "stream",
     "text": [
      "<class 'pandas.core.frame.DataFrame'>\n",
      "RangeIndex: 202607 entries, 0 to 202606\n",
      "Data columns (total 4 columns):\n",
      "id           202607 non-null object\n",
      "call_date    202607 non-null datetime64[ns]\n",
      "duration     202607 non-null float32\n",
      "user_id      202607 non-null int32\n",
      "dtypes: datetime64[ns](1), float32(1), int32(1), object(1)\n",
      "memory usage: 4.6+ MB\n",
      "<class 'pandas.core.frame.DataFrame'>\n",
      "RangeIndex: 149396 entries, 0 to 149395\n",
      "Data columns (total 5 columns):\n",
      "del             149396 non-null int64\n",
      "id              149396 non-null object\n",
      "mb_used         149396 non-null int16\n",
      "session_date    149396 non-null datetime64[ns]\n",
      "user_id         149396 non-null int32\n",
      "dtypes: datetime64[ns](1), int16(1), int32(1), int64(1), object(1)\n",
      "memory usage: 4.3+ MB\n",
      "<class 'pandas.core.frame.DataFrame'>\n",
      "RangeIndex: 123036 entries, 0 to 123035\n",
      "Data columns (total 3 columns):\n",
      "id              123036 non-null object\n",
      "message_date    123036 non-null datetime64[ns]\n",
      "user_id         123036 non-null int32\n",
      "dtypes: datetime64[ns](1), int32(1), object(1)\n",
      "memory usage: 2.3+ MB\n",
      "<class 'pandas.core.frame.DataFrame'>\n",
      "RangeIndex: 500 entries, 0 to 499\n",
      "Data columns (total 8 columns):\n",
      "user_id       500 non-null int32\n",
      "age           500 non-null int8\n",
      "churn_date    38 non-null datetime64[ns]\n",
      "city          500 non-null object\n",
      "first_name    500 non-null object\n",
      "last_name     500 non-null object\n",
      "reg_date      500 non-null datetime64[ns]\n",
      "tariff        500 non-null object\n",
      "dtypes: datetime64[ns](2), int32(1), int8(1), object(4)\n",
      "memory usage: 26.0+ KB\n",
      "<class 'pandas.core.frame.DataFrame'>\n",
      "RangeIndex: 2 entries, 0 to 1\n",
      "Data columns (total 8 columns):\n",
      "messages_included        2 non-null int16\n",
      "mb_per_month_included    2 non-null int32\n",
      "minutes_included         2 non-null int16\n",
      "rub_monthly_fee          2 non-null int16\n",
      "rub_per_gb               2 non-null int16\n",
      "rub_per_message          2 non-null int16\n",
      "rub_per_minute           2 non-null int16\n",
      "tariff_name              2 non-null object\n",
      "dtypes: int16(6), int32(1), object(1)\n",
      "memory usage: 176.0+ bytes\n"
     ]
    }
   ],
   "source": [
    "# Меняем текстовые даты на datetime\n",
    "\n",
    "calls['call_date'] = pd.to_datetime(calls['call_date'], format='%Y-%m-%dT%H:%M:%S').dt.round('1d')\n",
    "internet['session_date'] = pd.to_datetime(internet['session_date'], format='%Y-%m-%dT%H:%M:%S').dt.round('1d')\n",
    "messages['message_date'] = pd.to_datetime(messages['message_date'], format='%Y-%m-%dT%H:%M:%S').dt.round('1d')\n",
    "users['churn_date'] = pd.to_datetime(users['churn_date'], format='%Y-%m-%dT%H:%M:%S').dt.round('1d')\n",
    "users['reg_date'] = pd.to_datetime(users['reg_date'], format='%Y-%m-%dT%H:%M:%S').dt.round('1d')\n",
    "\n",
    "# Снижаем битность у оставшихся числовых полей\n",
    "calls['duration'] = calls['duration'].astype('float32')\n",
    "calls['user_id'] = calls['user_id'].astype('int32')\n",
    "internet['mb_used'] = internet['mb_used'].astype('int16')\n",
    "internet['user_id'] = internet['user_id'].astype('int32')\n",
    "messages['user_id'] = messages['user_id'].astype('int32')\n",
    "tariffs['messages_included'] = tariffs['messages_included'].astype('int16')\n",
    "tariffs['mb_per_month_included'] = tariffs['mb_per_month_included'].astype('int32')\n",
    "tariffs['minutes_included'] = tariffs['minutes_included'].astype('int16')\n",
    "tariffs['rub_monthly_fee'] = tariffs['rub_monthly_fee'].astype('int16')\n",
    "tariffs['rub_per_gb'] = tariffs['rub_per_gb'].astype('int16')\n",
    "tariffs['rub_per_message'] = tariffs['rub_per_message'].astype('int16')\n",
    "tariffs['rub_per_minute'] = tariffs['rub_per_minute'].astype('int16')\n",
    "users['age'] = users['age'].astype('int8')\n",
    "users['user_id'] = users['user_id'].astype('int32')\n",
    "\n",
    "calls.info()\n",
    "internet.info()\n",
    "messages.info()\n",
    "users.info()\n",
    "tariffs.info()"
   ]
  },
  {
   "cell_type": "markdown",
   "metadata": {},
   "source": [
    "Типы данных успешно изменены, использование памяти сокращено почти в 2 раза."
   ]
  },
  {
   "cell_type": "markdown",
   "metadata": {},
   "source": [
    "Посчитаем количество сделанных звонков и израсходованных минут разговора по месяцам для каждого пользователя"
   ]
  },
  {
   "cell_type": "code",
   "execution_count": 9,
   "metadata": {},
   "outputs": [
    {
     "data": {
      "text/html": [
       "<div>\n",
       "<style scoped>\n",
       "    .dataframe tbody tr th:only-of-type {\n",
       "        vertical-align: middle;\n",
       "    }\n",
       "\n",
       "    .dataframe tbody tr th {\n",
       "        vertical-align: top;\n",
       "    }\n",
       "\n",
       "    .dataframe thead th {\n",
       "        text-align: right;\n",
       "    }\n",
       "</style>\n",
       "<table border=\"1\" class=\"dataframe\">\n",
       "  <thead>\n",
       "    <tr style=\"text-align: right;\">\n",
       "      <th></th>\n",
       "      <th>user_id</th>\n",
       "      <th>mnth</th>\n",
       "      <th>sum_duration</th>\n",
       "      <th>cnt_calls</th>\n",
       "    </tr>\n",
       "  </thead>\n",
       "  <tbody>\n",
       "    <tr>\n",
       "      <td>0</td>\n",
       "      <td>1000</td>\n",
       "      <td>5.00</td>\n",
       "      <td>159.00</td>\n",
       "      <td>22</td>\n",
       "    </tr>\n",
       "    <tr>\n",
       "      <td>1</td>\n",
       "      <td>1000</td>\n",
       "      <td>6.00</td>\n",
       "      <td>172.00</td>\n",
       "      <td>43</td>\n",
       "    </tr>\n",
       "    <tr>\n",
       "      <td>2</td>\n",
       "      <td>1000</td>\n",
       "      <td>7.00</td>\n",
       "      <td>340.00</td>\n",
       "      <td>47</td>\n",
       "    </tr>\n",
       "    <tr>\n",
       "      <td>3</td>\n",
       "      <td>1000</td>\n",
       "      <td>8.00</td>\n",
       "      <td>408.00</td>\n",
       "      <td>52</td>\n",
       "    </tr>\n",
       "    <tr>\n",
       "      <td>4</td>\n",
       "      <td>1000</td>\n",
       "      <td>9.00</td>\n",
       "      <td>466.00</td>\n",
       "      <td>58</td>\n",
       "    </tr>\n",
       "    <tr>\n",
       "      <td>5</td>\n",
       "      <td>1000</td>\n",
       "      <td>10.00</td>\n",
       "      <td>350.00</td>\n",
       "      <td>57</td>\n",
       "    </tr>\n",
       "    <tr>\n",
       "      <td>6</td>\n",
       "      <td>1000</td>\n",
       "      <td>11.00</td>\n",
       "      <td>338.00</td>\n",
       "      <td>43</td>\n",
       "    </tr>\n",
       "    <tr>\n",
       "      <td>7</td>\n",
       "      <td>1000</td>\n",
       "      <td>12.00</td>\n",
       "      <td>333.00</td>\n",
       "      <td>46</td>\n",
       "    </tr>\n",
       "    <tr>\n",
       "      <td>8</td>\n",
       "      <td>1001</td>\n",
       "      <td>11.00</td>\n",
       "      <td>430.00</td>\n",
       "      <td>59</td>\n",
       "    </tr>\n",
       "    <tr>\n",
       "      <td>9</td>\n",
       "      <td>1001</td>\n",
       "      <td>12.00</td>\n",
       "      <td>414.00</td>\n",
       "      <td>63</td>\n",
       "    </tr>\n",
       "    <tr>\n",
       "      <td>10</td>\n",
       "      <td>1002</td>\n",
       "      <td>6.00</td>\n",
       "      <td>117.00</td>\n",
       "      <td>15</td>\n",
       "    </tr>\n",
       "    <tr>\n",
       "      <td>11</td>\n",
       "      <td>1002</td>\n",
       "      <td>7.00</td>\n",
       "      <td>214.00</td>\n",
       "      <td>26</td>\n",
       "    </tr>\n",
       "    <tr>\n",
       "      <td>12</td>\n",
       "      <td>1002</td>\n",
       "      <td>8.00</td>\n",
       "      <td>289.00</td>\n",
       "      <td>42</td>\n",
       "    </tr>\n",
       "    <tr>\n",
       "      <td>13</td>\n",
       "      <td>1002</td>\n",
       "      <td>9.00</td>\n",
       "      <td>206.00</td>\n",
       "      <td>36</td>\n",
       "    </tr>\n",
       "    <tr>\n",
       "      <td>14</td>\n",
       "      <td>1002</td>\n",
       "      <td>10.00</td>\n",
       "      <td>212.00</td>\n",
       "      <td>33</td>\n",
       "    </tr>\n",
       "  </tbody>\n",
       "</table>\n",
       "</div>"
      ],
      "text/plain": [
       "    user_id  mnth  sum_duration  cnt_calls\n",
       "0      1000  5.00        159.00         22\n",
       "1      1000  6.00        172.00         43\n",
       "2      1000  7.00        340.00         47\n",
       "3      1000  8.00        408.00         52\n",
       "4      1000  9.00        466.00         58\n",
       "5      1000 10.00        350.00         57\n",
       "6      1000 11.00        338.00         43\n",
       "7      1000 12.00        333.00         46\n",
       "8      1001 11.00        430.00         59\n",
       "9      1001 12.00        414.00         63\n",
       "10     1002  6.00        117.00         15\n",
       "11     1002  7.00        214.00         26\n",
       "12     1002  8.00        289.00         42\n",
       "13     1002  9.00        206.00         36\n",
       "14     1002 10.00        212.00         33"
      ]
     },
     "execution_count": 9,
     "metadata": {},
     "output_type": "execute_result"
    }
   ],
   "source": [
    "# Округлим длительность каждого звонка в большую сторону согласно условиям задачи.\n",
    "calls['duration'] = np.ceil(calls['duration'])\n",
    "\n",
    "users_calls = users.merge(calls, how='left', on='user_id').pivot_table(index=['user_id', calls['call_date'].dt.month], values='duration', aggfunc=['sum', 'count']).reset_index()\n",
    "# users_calls = users.merge(calls, how='left', on='user_id').pivot_table(index=['user_id', calls['call_date']], values='duration', aggfunc=['sum', 'count']).reset_index()\n",
    "users_calls.columns = ['user_id','mnth','sum_duration', 'cnt_calls']\n",
    "display(users_calls.sort_values(['user_id', 'mnth']).head(15))"
   ]
  },
  {
   "cell_type": "markdown",
   "metadata": {},
   "source": [
    "Посчитаем количество отправленных сообщений по месяцам для каждого пользователя"
   ]
  },
  {
   "cell_type": "code",
   "execution_count": 10,
   "metadata": {},
   "outputs": [
    {
     "data": {
      "text/html": [
       "<div>\n",
       "<style scoped>\n",
       "    .dataframe tbody tr th:only-of-type {\n",
       "        vertical-align: middle;\n",
       "    }\n",
       "\n",
       "    .dataframe tbody tr th {\n",
       "        vertical-align: top;\n",
       "    }\n",
       "\n",
       "    .dataframe thead th {\n",
       "        text-align: right;\n",
       "    }\n",
       "</style>\n",
       "<table border=\"1\" class=\"dataframe\">\n",
       "  <thead>\n",
       "    <tr style=\"text-align: right;\">\n",
       "      <th></th>\n",
       "      <th>user_id</th>\n",
       "      <th>mnth</th>\n",
       "      <th>cnt_sms</th>\n",
       "    </tr>\n",
       "  </thead>\n",
       "  <tbody>\n",
       "    <tr>\n",
       "      <td>0</td>\n",
       "      <td>1000</td>\n",
       "      <td>5.00</td>\n",
       "      <td>22</td>\n",
       "    </tr>\n",
       "    <tr>\n",
       "      <td>1</td>\n",
       "      <td>1000</td>\n",
       "      <td>6.00</td>\n",
       "      <td>60</td>\n",
       "    </tr>\n",
       "    <tr>\n",
       "      <td>2</td>\n",
       "      <td>1000</td>\n",
       "      <td>7.00</td>\n",
       "      <td>75</td>\n",
       "    </tr>\n",
       "    <tr>\n",
       "      <td>3</td>\n",
       "      <td>1000</td>\n",
       "      <td>8.00</td>\n",
       "      <td>81</td>\n",
       "    </tr>\n",
       "    <tr>\n",
       "      <td>4</td>\n",
       "      <td>1000</td>\n",
       "      <td>9.00</td>\n",
       "      <td>57</td>\n",
       "    </tr>\n",
       "    <tr>\n",
       "      <td>5</td>\n",
       "      <td>1000</td>\n",
       "      <td>10.00</td>\n",
       "      <td>73</td>\n",
       "    </tr>\n",
       "    <tr>\n",
       "      <td>6</td>\n",
       "      <td>1000</td>\n",
       "      <td>11.00</td>\n",
       "      <td>58</td>\n",
       "    </tr>\n",
       "    <tr>\n",
       "      <td>7</td>\n",
       "      <td>1000</td>\n",
       "      <td>12.00</td>\n",
       "      <td>70</td>\n",
       "    </tr>\n",
       "    <tr>\n",
       "      <td>8</td>\n",
       "      <td>1001</td>\n",
       "      <td>11.00</td>\n",
       "      <td>0</td>\n",
       "    </tr>\n",
       "    <tr>\n",
       "      <td>9</td>\n",
       "      <td>1002</td>\n",
       "      <td>6.00</td>\n",
       "      <td>4</td>\n",
       "    </tr>\n",
       "    <tr>\n",
       "      <td>10</td>\n",
       "      <td>1002</td>\n",
       "      <td>7.00</td>\n",
       "      <td>11</td>\n",
       "    </tr>\n",
       "    <tr>\n",
       "      <td>11</td>\n",
       "      <td>1002</td>\n",
       "      <td>8.00</td>\n",
       "      <td>13</td>\n",
       "    </tr>\n",
       "    <tr>\n",
       "      <td>12</td>\n",
       "      <td>1002</td>\n",
       "      <td>9.00</td>\n",
       "      <td>5</td>\n",
       "    </tr>\n",
       "    <tr>\n",
       "      <td>13</td>\n",
       "      <td>1002</td>\n",
       "      <td>10.00</td>\n",
       "      <td>10</td>\n",
       "    </tr>\n",
       "    <tr>\n",
       "      <td>14</td>\n",
       "      <td>1002</td>\n",
       "      <td>11.00</td>\n",
       "      <td>15</td>\n",
       "    </tr>\n",
       "  </tbody>\n",
       "</table>\n",
       "</div>"
      ],
      "text/plain": [
       "    user_id  mnth  cnt_sms\n",
       "0      1000  5.00       22\n",
       "1      1000  6.00       60\n",
       "2      1000  7.00       75\n",
       "3      1000  8.00       81\n",
       "4      1000  9.00       57\n",
       "5      1000 10.00       73\n",
       "6      1000 11.00       58\n",
       "7      1000 12.00       70\n",
       "8      1001 11.00        0\n",
       "9      1002  6.00        4\n",
       "10     1002  7.00       11\n",
       "11     1002  8.00       13\n",
       "12     1002  9.00        5\n",
       "13     1002 10.00       10\n",
       "14     1002 11.00       15"
      ]
     },
     "execution_count": 10,
     "metadata": {},
     "output_type": "execute_result"
    }
   ],
   "source": [
    "# users_sms = users.merge(messages, how='left', on='user_id').pivot_table(index=['user_id', messages['message_date']], values='id', aggfunc='count').reset_index()\n",
    "users_sms = users.merge(messages, how='left', on='user_id').pivot_table(index=['user_id', messages['message_date'].dt.month], values='id', aggfunc='count').reset_index()\n",
    "users_sms.columns = ['user_id','mnth', 'cnt_sms']\n",
    "display(users_sms.sort_values(['user_id', 'mnth']).head(15))"
   ]
  },
  {
   "cell_type": "markdown",
   "metadata": {},
   "source": [
    "Посчитаем объем израсходованного интернет-трафика по месяцам для каждого пользователя"
   ]
  },
  {
   "cell_type": "code",
   "execution_count": 11,
   "metadata": {},
   "outputs": [
    {
     "data": {
      "text/html": [
       "<div>\n",
       "<style scoped>\n",
       "    .dataframe tbody tr th:only-of-type {\n",
       "        vertical-align: middle;\n",
       "    }\n",
       "\n",
       "    .dataframe tbody tr th {\n",
       "        vertical-align: top;\n",
       "    }\n",
       "\n",
       "    .dataframe thead th {\n",
       "        text-align: right;\n",
       "    }\n",
       "</style>\n",
       "<table border=\"1\" class=\"dataframe\">\n",
       "  <thead>\n",
       "    <tr style=\"text-align: right;\">\n",
       "      <th></th>\n",
       "      <th>user_id</th>\n",
       "      <th>mnth</th>\n",
       "      <th>sum_mb</th>\n",
       "    </tr>\n",
       "  </thead>\n",
       "  <tbody>\n",
       "    <tr>\n",
       "      <td>0</td>\n",
       "      <td>1000</td>\n",
       "      <td>5.00</td>\n",
       "      <td>2,252.00</td>\n",
       "    </tr>\n",
       "    <tr>\n",
       "      <td>1</td>\n",
       "      <td>1000</td>\n",
       "      <td>6.00</td>\n",
       "      <td>23,213.00</td>\n",
       "    </tr>\n",
       "    <tr>\n",
       "      <td>2</td>\n",
       "      <td>1000</td>\n",
       "      <td>7.00</td>\n",
       "      <td>13,988.00</td>\n",
       "    </tr>\n",
       "    <tr>\n",
       "      <td>3</td>\n",
       "      <td>1000</td>\n",
       "      <td>8.00</td>\n",
       "      <td>14,043.00</td>\n",
       "    </tr>\n",
       "    <tr>\n",
       "      <td>4</td>\n",
       "      <td>1000</td>\n",
       "      <td>9.00</td>\n",
       "      <td>14,556.00</td>\n",
       "    </tr>\n",
       "    <tr>\n",
       "      <td>5</td>\n",
       "      <td>1000</td>\n",
       "      <td>10.00</td>\n",
       "      <td>14,690.00</td>\n",
       "    </tr>\n",
       "    <tr>\n",
       "      <td>6</td>\n",
       "      <td>1000</td>\n",
       "      <td>11.00</td>\n",
       "      <td>14,745.00</td>\n",
       "    </tr>\n",
       "    <tr>\n",
       "      <td>7</td>\n",
       "      <td>1000</td>\n",
       "      <td>12.00</td>\n",
       "      <td>9,808.00</td>\n",
       "    </tr>\n",
       "    <tr>\n",
       "      <td>8</td>\n",
       "      <td>1001</td>\n",
       "      <td>11.00</td>\n",
       "      <td>18,405.00</td>\n",
       "    </tr>\n",
       "    <tr>\n",
       "      <td>9</td>\n",
       "      <td>1001</td>\n",
       "      <td>12.00</td>\n",
       "      <td>14,018.00</td>\n",
       "    </tr>\n",
       "    <tr>\n",
       "      <td>10</td>\n",
       "      <td>1002</td>\n",
       "      <td>6.00</td>\n",
       "      <td>10,844.00</td>\n",
       "    </tr>\n",
       "    <tr>\n",
       "      <td>11</td>\n",
       "      <td>1002</td>\n",
       "      <td>7.00</td>\n",
       "      <td>17,557.00</td>\n",
       "    </tr>\n",
       "    <tr>\n",
       "      <td>12</td>\n",
       "      <td>1002</td>\n",
       "      <td>8.00</td>\n",
       "      <td>20,298.00</td>\n",
       "    </tr>\n",
       "    <tr>\n",
       "      <td>13</td>\n",
       "      <td>1002</td>\n",
       "      <td>9.00</td>\n",
       "      <td>16,669.00</td>\n",
       "    </tr>\n",
       "    <tr>\n",
       "      <td>14</td>\n",
       "      <td>1002</td>\n",
       "      <td>10.00</td>\n",
       "      <td>13,869.00</td>\n",
       "    </tr>\n",
       "  </tbody>\n",
       "</table>\n",
       "</div>"
      ],
      "text/plain": [
       "    user_id  mnth    sum_mb\n",
       "0      1000  5.00  2,252.00\n",
       "1      1000  6.00 23,213.00\n",
       "2      1000  7.00 13,988.00\n",
       "3      1000  8.00 14,043.00\n",
       "4      1000  9.00 14,556.00\n",
       "5      1000 10.00 14,690.00\n",
       "6      1000 11.00 14,745.00\n",
       "7      1000 12.00  9,808.00\n",
       "8      1001 11.00 18,405.00\n",
       "9      1001 12.00 14,018.00\n",
       "10     1002  6.00 10,844.00\n",
       "11     1002  7.00 17,557.00\n",
       "12     1002  8.00 20,298.00\n",
       "13     1002  9.00 16,669.00\n",
       "14     1002 10.00 13,869.00"
      ]
     },
     "execution_count": 11,
     "metadata": {},
     "output_type": "execute_result"
    }
   ],
   "source": [
    "# users_internet = users.merge(internet, how='left', on='user_id').pivot_table(index=['user_id', internet['session_date']], values='mb_used', aggfunc='sum').reset_index()\n",
    "users_internet = users.merge(internet, how='left', on='user_id').pivot_table(index=['user_id', internet['session_date'].dt.month], values='mb_used', aggfunc='sum').reset_index()\n",
    "users_internet.columns = ['user_id','mnth', 'sum_mb']\n",
    "display(users_internet.sort_values(['user_id', 'mnth']).head(15))"
   ]
  },
  {
   "cell_type": "markdown",
   "metadata": {},
   "source": [
    "Посчитаем помесячную выручку с каждого пользователя"
   ]
  },
  {
   "cell_type": "code",
   "execution_count": 12,
   "metadata": {
    "scrolled": false
   },
   "outputs": [
    {
     "data": {
      "text/html": [
       "<div>\n",
       "<style scoped>\n",
       "    .dataframe tbody tr th:only-of-type {\n",
       "        vertical-align: middle;\n",
       "    }\n",
       "\n",
       "    .dataframe tbody tr th {\n",
       "        vertical-align: top;\n",
       "    }\n",
       "\n",
       "    .dataframe thead th {\n",
       "        text-align: right;\n",
       "    }\n",
       "</style>\n",
       "<table border=\"1\" class=\"dataframe\">\n",
       "  <thead>\n",
       "    <tr style=\"text-align: right;\">\n",
       "      <th></th>\n",
       "      <th>user_id</th>\n",
       "      <th>age</th>\n",
       "      <th>churn_date</th>\n",
       "      <th>city</th>\n",
       "      <th>first_name</th>\n",
       "      <th>last_name</th>\n",
       "      <th>reg_date</th>\n",
       "      <th>tariff</th>\n",
       "      <th>mnth</th>\n",
       "      <th>sum_duration</th>\n",
       "      <th>cnt_calls</th>\n",
       "      <th>cnt_sms</th>\n",
       "      <th>sum_mb</th>\n",
       "      <th>messages_included</th>\n",
       "      <th>mb_per_month_included</th>\n",
       "      <th>minutes_included</th>\n",
       "      <th>rub_monthly_fee</th>\n",
       "      <th>rub_per_gb</th>\n",
       "      <th>rub_per_message</th>\n",
       "      <th>rub_per_minute</th>\n",
       "      <th>tariff_name</th>\n",
       "    </tr>\n",
       "  </thead>\n",
       "  <tbody>\n",
       "    <tr>\n",
       "      <td>0</td>\n",
       "      <td>1000</td>\n",
       "      <td>52</td>\n",
       "      <td>NaT</td>\n",
       "      <td>Краснодар</td>\n",
       "      <td>Рафаил</td>\n",
       "      <td>Верещагин</td>\n",
       "      <td>2018-05-25</td>\n",
       "      <td>ultra</td>\n",
       "      <td>5.00</td>\n",
       "      <td>159.00</td>\n",
       "      <td>22</td>\n",
       "      <td>22.00</td>\n",
       "      <td>2,252.00</td>\n",
       "      <td>1000</td>\n",
       "      <td>30720</td>\n",
       "      <td>3000</td>\n",
       "      <td>1950</td>\n",
       "      <td>150</td>\n",
       "      <td>1</td>\n",
       "      <td>1</td>\n",
       "      <td>ultra</td>\n",
       "    </tr>\n",
       "    <tr>\n",
       "      <td>1</td>\n",
       "      <td>1000</td>\n",
       "      <td>52</td>\n",
       "      <td>NaT</td>\n",
       "      <td>Краснодар</td>\n",
       "      <td>Рафаил</td>\n",
       "      <td>Верещагин</td>\n",
       "      <td>2018-05-25</td>\n",
       "      <td>ultra</td>\n",
       "      <td>6.00</td>\n",
       "      <td>172.00</td>\n",
       "      <td>43</td>\n",
       "      <td>60.00</td>\n",
       "      <td>23,213.00</td>\n",
       "      <td>1000</td>\n",
       "      <td>30720</td>\n",
       "      <td>3000</td>\n",
       "      <td>1950</td>\n",
       "      <td>150</td>\n",
       "      <td>1</td>\n",
       "      <td>1</td>\n",
       "      <td>ultra</td>\n",
       "    </tr>\n",
       "    <tr>\n",
       "      <td>2</td>\n",
       "      <td>1000</td>\n",
       "      <td>52</td>\n",
       "      <td>NaT</td>\n",
       "      <td>Краснодар</td>\n",
       "      <td>Рафаил</td>\n",
       "      <td>Верещагин</td>\n",
       "      <td>2018-05-25</td>\n",
       "      <td>ultra</td>\n",
       "      <td>7.00</td>\n",
       "      <td>340.00</td>\n",
       "      <td>47</td>\n",
       "      <td>75.00</td>\n",
       "      <td>13,988.00</td>\n",
       "      <td>1000</td>\n",
       "      <td>30720</td>\n",
       "      <td>3000</td>\n",
       "      <td>1950</td>\n",
       "      <td>150</td>\n",
       "      <td>1</td>\n",
       "      <td>1</td>\n",
       "      <td>ultra</td>\n",
       "    </tr>\n",
       "    <tr>\n",
       "      <td>3</td>\n",
       "      <td>1000</td>\n",
       "      <td>52</td>\n",
       "      <td>NaT</td>\n",
       "      <td>Краснодар</td>\n",
       "      <td>Рафаил</td>\n",
       "      <td>Верещагин</td>\n",
       "      <td>2018-05-25</td>\n",
       "      <td>ultra</td>\n",
       "      <td>8.00</td>\n",
       "      <td>408.00</td>\n",
       "      <td>52</td>\n",
       "      <td>81.00</td>\n",
       "      <td>14,043.00</td>\n",
       "      <td>1000</td>\n",
       "      <td>30720</td>\n",
       "      <td>3000</td>\n",
       "      <td>1950</td>\n",
       "      <td>150</td>\n",
       "      <td>1</td>\n",
       "      <td>1</td>\n",
       "      <td>ultra</td>\n",
       "    </tr>\n",
       "    <tr>\n",
       "      <td>4</td>\n",
       "      <td>1000</td>\n",
       "      <td>52</td>\n",
       "      <td>NaT</td>\n",
       "      <td>Краснодар</td>\n",
       "      <td>Рафаил</td>\n",
       "      <td>Верещагин</td>\n",
       "      <td>2018-05-25</td>\n",
       "      <td>ultra</td>\n",
       "      <td>9.00</td>\n",
       "      <td>466.00</td>\n",
       "      <td>58</td>\n",
       "      <td>57.00</td>\n",
       "      <td>14,556.00</td>\n",
       "      <td>1000</td>\n",
       "      <td>30720</td>\n",
       "      <td>3000</td>\n",
       "      <td>1950</td>\n",
       "      <td>150</td>\n",
       "      <td>1</td>\n",
       "      <td>1</td>\n",
       "      <td>ultra</td>\n",
       "    </tr>\n",
       "    <tr>\n",
       "      <td>5</td>\n",
       "      <td>1000</td>\n",
       "      <td>52</td>\n",
       "      <td>NaT</td>\n",
       "      <td>Краснодар</td>\n",
       "      <td>Рафаил</td>\n",
       "      <td>Верещагин</td>\n",
       "      <td>2018-05-25</td>\n",
       "      <td>ultra</td>\n",
       "      <td>10.00</td>\n",
       "      <td>350.00</td>\n",
       "      <td>57</td>\n",
       "      <td>73.00</td>\n",
       "      <td>14,690.00</td>\n",
       "      <td>1000</td>\n",
       "      <td>30720</td>\n",
       "      <td>3000</td>\n",
       "      <td>1950</td>\n",
       "      <td>150</td>\n",
       "      <td>1</td>\n",
       "      <td>1</td>\n",
       "      <td>ultra</td>\n",
       "    </tr>\n",
       "    <tr>\n",
       "      <td>6</td>\n",
       "      <td>1000</td>\n",
       "      <td>52</td>\n",
       "      <td>NaT</td>\n",
       "      <td>Краснодар</td>\n",
       "      <td>Рафаил</td>\n",
       "      <td>Верещагин</td>\n",
       "      <td>2018-05-25</td>\n",
       "      <td>ultra</td>\n",
       "      <td>11.00</td>\n",
       "      <td>338.00</td>\n",
       "      <td>43</td>\n",
       "      <td>58.00</td>\n",
       "      <td>14,745.00</td>\n",
       "      <td>1000</td>\n",
       "      <td>30720</td>\n",
       "      <td>3000</td>\n",
       "      <td>1950</td>\n",
       "      <td>150</td>\n",
       "      <td>1</td>\n",
       "      <td>1</td>\n",
       "      <td>ultra</td>\n",
       "    </tr>\n",
       "    <tr>\n",
       "      <td>7</td>\n",
       "      <td>1000</td>\n",
       "      <td>52</td>\n",
       "      <td>NaT</td>\n",
       "      <td>Краснодар</td>\n",
       "      <td>Рафаил</td>\n",
       "      <td>Верещагин</td>\n",
       "      <td>2018-05-25</td>\n",
       "      <td>ultra</td>\n",
       "      <td>12.00</td>\n",
       "      <td>333.00</td>\n",
       "      <td>46</td>\n",
       "      <td>70.00</td>\n",
       "      <td>9,808.00</td>\n",
       "      <td>1000</td>\n",
       "      <td>30720</td>\n",
       "      <td>3000</td>\n",
       "      <td>1950</td>\n",
       "      <td>150</td>\n",
       "      <td>1</td>\n",
       "      <td>1</td>\n",
       "      <td>ultra</td>\n",
       "    </tr>\n",
       "    <tr>\n",
       "      <td>8</td>\n",
       "      <td>1001</td>\n",
       "      <td>41</td>\n",
       "      <td>NaT</td>\n",
       "      <td>Москва</td>\n",
       "      <td>Иван</td>\n",
       "      <td>Ежов</td>\n",
       "      <td>2018-11-01</td>\n",
       "      <td>smart</td>\n",
       "      <td>11.00</td>\n",
       "      <td>430.00</td>\n",
       "      <td>59</td>\n",
       "      <td>0.00</td>\n",
       "      <td>18,405.00</td>\n",
       "      <td>50</td>\n",
       "      <td>15360</td>\n",
       "      <td>500</td>\n",
       "      <td>550</td>\n",
       "      <td>200</td>\n",
       "      <td>3</td>\n",
       "      <td>3</td>\n",
       "      <td>smart</td>\n",
       "    </tr>\n",
       "    <tr>\n",
       "      <td>9</td>\n",
       "      <td>1001</td>\n",
       "      <td>41</td>\n",
       "      <td>NaT</td>\n",
       "      <td>Москва</td>\n",
       "      <td>Иван</td>\n",
       "      <td>Ежов</td>\n",
       "      <td>2018-11-01</td>\n",
       "      <td>smart</td>\n",
       "      <td>12.00</td>\n",
       "      <td>414.00</td>\n",
       "      <td>63</td>\n",
       "      <td>nan</td>\n",
       "      <td>14,018.00</td>\n",
       "      <td>50</td>\n",
       "      <td>15360</td>\n",
       "      <td>500</td>\n",
       "      <td>550</td>\n",
       "      <td>200</td>\n",
       "      <td>3</td>\n",
       "      <td>3</td>\n",
       "      <td>smart</td>\n",
       "    </tr>\n",
       "    <tr>\n",
       "      <td>10</td>\n",
       "      <td>1002</td>\n",
       "      <td>59</td>\n",
       "      <td>NaT</td>\n",
       "      <td>Стерлитамак</td>\n",
       "      <td>Евгений</td>\n",
       "      <td>Абрамович</td>\n",
       "      <td>2018-06-17</td>\n",
       "      <td>smart</td>\n",
       "      <td>6.00</td>\n",
       "      <td>117.00</td>\n",
       "      <td>15</td>\n",
       "      <td>4.00</td>\n",
       "      <td>10,844.00</td>\n",
       "      <td>50</td>\n",
       "      <td>15360</td>\n",
       "      <td>500</td>\n",
       "      <td>550</td>\n",
       "      <td>200</td>\n",
       "      <td>3</td>\n",
       "      <td>3</td>\n",
       "      <td>smart</td>\n",
       "    </tr>\n",
       "    <tr>\n",
       "      <td>11</td>\n",
       "      <td>1002</td>\n",
       "      <td>59</td>\n",
       "      <td>NaT</td>\n",
       "      <td>Стерлитамак</td>\n",
       "      <td>Евгений</td>\n",
       "      <td>Абрамович</td>\n",
       "      <td>2018-06-17</td>\n",
       "      <td>smart</td>\n",
       "      <td>7.00</td>\n",
       "      <td>214.00</td>\n",
       "      <td>26</td>\n",
       "      <td>11.00</td>\n",
       "      <td>17,557.00</td>\n",
       "      <td>50</td>\n",
       "      <td>15360</td>\n",
       "      <td>500</td>\n",
       "      <td>550</td>\n",
       "      <td>200</td>\n",
       "      <td>3</td>\n",
       "      <td>3</td>\n",
       "      <td>smart</td>\n",
       "    </tr>\n",
       "    <tr>\n",
       "      <td>12</td>\n",
       "      <td>1002</td>\n",
       "      <td>59</td>\n",
       "      <td>NaT</td>\n",
       "      <td>Стерлитамак</td>\n",
       "      <td>Евгений</td>\n",
       "      <td>Абрамович</td>\n",
       "      <td>2018-06-17</td>\n",
       "      <td>smart</td>\n",
       "      <td>8.00</td>\n",
       "      <td>289.00</td>\n",
       "      <td>42</td>\n",
       "      <td>13.00</td>\n",
       "      <td>20,298.00</td>\n",
       "      <td>50</td>\n",
       "      <td>15360</td>\n",
       "      <td>500</td>\n",
       "      <td>550</td>\n",
       "      <td>200</td>\n",
       "      <td>3</td>\n",
       "      <td>3</td>\n",
       "      <td>smart</td>\n",
       "    </tr>\n",
       "    <tr>\n",
       "      <td>13</td>\n",
       "      <td>1002</td>\n",
       "      <td>59</td>\n",
       "      <td>NaT</td>\n",
       "      <td>Стерлитамак</td>\n",
       "      <td>Евгений</td>\n",
       "      <td>Абрамович</td>\n",
       "      <td>2018-06-17</td>\n",
       "      <td>smart</td>\n",
       "      <td>9.00</td>\n",
       "      <td>206.00</td>\n",
       "      <td>36</td>\n",
       "      <td>5.00</td>\n",
       "      <td>16,669.00</td>\n",
       "      <td>50</td>\n",
       "      <td>15360</td>\n",
       "      <td>500</td>\n",
       "      <td>550</td>\n",
       "      <td>200</td>\n",
       "      <td>3</td>\n",
       "      <td>3</td>\n",
       "      <td>smart</td>\n",
       "    </tr>\n",
       "    <tr>\n",
       "      <td>14</td>\n",
       "      <td>1002</td>\n",
       "      <td>59</td>\n",
       "      <td>NaT</td>\n",
       "      <td>Стерлитамак</td>\n",
       "      <td>Евгений</td>\n",
       "      <td>Абрамович</td>\n",
       "      <td>2018-06-17</td>\n",
       "      <td>smart</td>\n",
       "      <td>10.00</td>\n",
       "      <td>212.00</td>\n",
       "      <td>33</td>\n",
       "      <td>10.00</td>\n",
       "      <td>13,869.00</td>\n",
       "      <td>50</td>\n",
       "      <td>15360</td>\n",
       "      <td>500</td>\n",
       "      <td>550</td>\n",
       "      <td>200</td>\n",
       "      <td>3</td>\n",
       "      <td>3</td>\n",
       "      <td>smart</td>\n",
       "    </tr>\n",
       "  </tbody>\n",
       "</table>\n",
       "</div>"
      ],
      "text/plain": [
       "    user_id  age churn_date         city first_name  last_name   reg_date  \\\n",
       "0      1000   52        NaT    Краснодар     Рафаил  Верещагин 2018-05-25   \n",
       "1      1000   52        NaT    Краснодар     Рафаил  Верещагин 2018-05-25   \n",
       "2      1000   52        NaT    Краснодар     Рафаил  Верещагин 2018-05-25   \n",
       "3      1000   52        NaT    Краснодар     Рафаил  Верещагин 2018-05-25   \n",
       "4      1000   52        NaT    Краснодар     Рафаил  Верещагин 2018-05-25   \n",
       "5      1000   52        NaT    Краснодар     Рафаил  Верещагин 2018-05-25   \n",
       "6      1000   52        NaT    Краснодар     Рафаил  Верещагин 2018-05-25   \n",
       "7      1000   52        NaT    Краснодар     Рафаил  Верещагин 2018-05-25   \n",
       "8      1001   41        NaT       Москва       Иван       Ежов 2018-11-01   \n",
       "9      1001   41        NaT       Москва       Иван       Ежов 2018-11-01   \n",
       "10     1002   59        NaT  Стерлитамак    Евгений  Абрамович 2018-06-17   \n",
       "11     1002   59        NaT  Стерлитамак    Евгений  Абрамович 2018-06-17   \n",
       "12     1002   59        NaT  Стерлитамак    Евгений  Абрамович 2018-06-17   \n",
       "13     1002   59        NaT  Стерлитамак    Евгений  Абрамович 2018-06-17   \n",
       "14     1002   59        NaT  Стерлитамак    Евгений  Абрамович 2018-06-17   \n",
       "\n",
       "   tariff  mnth  sum_duration  cnt_calls  cnt_sms    sum_mb  \\\n",
       "0   ultra  5.00        159.00         22    22.00  2,252.00   \n",
       "1   ultra  6.00        172.00         43    60.00 23,213.00   \n",
       "2   ultra  7.00        340.00         47    75.00 13,988.00   \n",
       "3   ultra  8.00        408.00         52    81.00 14,043.00   \n",
       "4   ultra  9.00        466.00         58    57.00 14,556.00   \n",
       "5   ultra 10.00        350.00         57    73.00 14,690.00   \n",
       "6   ultra 11.00        338.00         43    58.00 14,745.00   \n",
       "7   ultra 12.00        333.00         46    70.00  9,808.00   \n",
       "8   smart 11.00        430.00         59     0.00 18,405.00   \n",
       "9   smart 12.00        414.00         63      nan 14,018.00   \n",
       "10  smart  6.00        117.00         15     4.00 10,844.00   \n",
       "11  smart  7.00        214.00         26    11.00 17,557.00   \n",
       "12  smart  8.00        289.00         42    13.00 20,298.00   \n",
       "13  smart  9.00        206.00         36     5.00 16,669.00   \n",
       "14  smart 10.00        212.00         33    10.00 13,869.00   \n",
       "\n",
       "    messages_included  mb_per_month_included  minutes_included  \\\n",
       "0                1000                  30720              3000   \n",
       "1                1000                  30720              3000   \n",
       "2                1000                  30720              3000   \n",
       "3                1000                  30720              3000   \n",
       "4                1000                  30720              3000   \n",
       "5                1000                  30720              3000   \n",
       "6                1000                  30720              3000   \n",
       "7                1000                  30720              3000   \n",
       "8                  50                  15360               500   \n",
       "9                  50                  15360               500   \n",
       "10                 50                  15360               500   \n",
       "11                 50                  15360               500   \n",
       "12                 50                  15360               500   \n",
       "13                 50                  15360               500   \n",
       "14                 50                  15360               500   \n",
       "\n",
       "    rub_monthly_fee  rub_per_gb  rub_per_message  rub_per_minute tariff_name  \n",
       "0              1950         150                1               1       ultra  \n",
       "1              1950         150                1               1       ultra  \n",
       "2              1950         150                1               1       ultra  \n",
       "3              1950         150                1               1       ultra  \n",
       "4              1950         150                1               1       ultra  \n",
       "5              1950         150                1               1       ultra  \n",
       "6              1950         150                1               1       ultra  \n",
       "7              1950         150                1               1       ultra  \n",
       "8               550         200                3               3       smart  \n",
       "9               550         200                3               3       smart  \n",
       "10              550         200                3               3       smart  \n",
       "11              550         200                3               3       smart  \n",
       "12              550         200                3               3       smart  \n",
       "13              550         200                3               3       smart  \n",
       "14              550         200                3               3       smart  "
      ]
     },
     "metadata": {},
     "output_type": "display_data"
    },
    {
     "data": {
      "text/html": [
       "<div>\n",
       "<style scoped>\n",
       "    .dataframe tbody tr th:only-of-type {\n",
       "        vertical-align: middle;\n",
       "    }\n",
       "\n",
       "    .dataframe tbody tr th {\n",
       "        vertical-align: top;\n",
       "    }\n",
       "\n",
       "    .dataframe thead th {\n",
       "        text-align: right;\n",
       "    }\n",
       "</style>\n",
       "<table border=\"1\" class=\"dataframe\">\n",
       "  <thead>\n",
       "    <tr style=\"text-align: right;\">\n",
       "      <th></th>\n",
       "      <th>count</th>\n",
       "      <th>mean</th>\n",
       "      <th>std</th>\n",
       "      <th>min</th>\n",
       "      <th>25%</th>\n",
       "      <th>50%</th>\n",
       "      <th>75%</th>\n",
       "      <th>max</th>\n",
       "    </tr>\n",
       "  </thead>\n",
       "  <tbody>\n",
       "    <tr>\n",
       "      <td>user_id</td>\n",
       "      <td>3,463.00</td>\n",
       "      <td>1,257.50</td>\n",
       "      <td>143.55</td>\n",
       "      <td>1,000.00</td>\n",
       "      <td>1,135.00</td>\n",
       "      <td>1,262.00</td>\n",
       "      <td>1,382.00</td>\n",
       "      <td>1,499.00</td>\n",
       "    </tr>\n",
       "    <tr>\n",
       "      <td>age</td>\n",
       "      <td>3,463.00</td>\n",
       "      <td>46.66</td>\n",
       "      <td>16.57</td>\n",
       "      <td>18.00</td>\n",
       "      <td>32.00</td>\n",
       "      <td>46.00</td>\n",
       "      <td>62.00</td>\n",
       "      <td>75.00</td>\n",
       "    </tr>\n",
       "    <tr>\n",
       "      <td>mnth</td>\n",
       "      <td>3,463.00</td>\n",
       "      <td>8.20</td>\n",
       "      <td>2.93</td>\n",
       "      <td>1.00</td>\n",
       "      <td>6.00</td>\n",
       "      <td>9.00</td>\n",
       "      <td>11.00</td>\n",
       "      <td>12.00</td>\n",
       "    </tr>\n",
       "    <tr>\n",
       "      <td>sum_duration</td>\n",
       "      <td>3,463.00</td>\n",
       "      <td>418.78</td>\n",
       "      <td>258.64</td>\n",
       "      <td>0.00</td>\n",
       "      <td>239.50</td>\n",
       "      <td>419.00</td>\n",
       "      <td>576.00</td>\n",
       "      <td>1,628.00</td>\n",
       "    </tr>\n",
       "    <tr>\n",
       "      <td>cnt_calls</td>\n",
       "      <td>3,463.00</td>\n",
       "      <td>58.50</td>\n",
       "      <td>35.71</td>\n",
       "      <td>0.00</td>\n",
       "      <td>34.00</td>\n",
       "      <td>59.00</td>\n",
       "      <td>80.00</td>\n",
       "      <td>239.00</td>\n",
       "    </tr>\n",
       "    <tr>\n",
       "      <td>cnt_sms</td>\n",
       "      <td>2,927.00</td>\n",
       "      <td>40.72</td>\n",
       "      <td>34.92</td>\n",
       "      <td>0.00</td>\n",
       "      <td>13.00</td>\n",
       "      <td>33.00</td>\n",
       "      <td>59.00</td>\n",
       "      <td>223.00</td>\n",
       "    </tr>\n",
       "    <tr>\n",
       "      <td>sum_mb</td>\n",
       "      <td>3,234.00</td>\n",
       "      <td>16,868.78</td>\n",
       "      <td>7,774.23</td>\n",
       "      <td>0.00</td>\n",
       "      <td>12,258.75</td>\n",
       "      <td>16,760.50</td>\n",
       "      <td>21,173.25</td>\n",
       "      <td>49,701.00</td>\n",
       "    </tr>\n",
       "    <tr>\n",
       "      <td>messages_included</td>\n",
       "      <td>3,463.00</td>\n",
       "      <td>334.20</td>\n",
       "      <td>435.06</td>\n",
       "      <td>50.00</td>\n",
       "      <td>50.00</td>\n",
       "      <td>50.00</td>\n",
       "      <td>1,000.00</td>\n",
       "      <td>1,000.00</td>\n",
       "    </tr>\n",
       "    <tr>\n",
       "      <td>mb_per_month_included</td>\n",
       "      <td>3,463.00</td>\n",
       "      <td>19,955.14</td>\n",
       "      <td>7,034.22</td>\n",
       "      <td>15,360.00</td>\n",
       "      <td>15,360.00</td>\n",
       "      <td>15,360.00</td>\n",
       "      <td>30,720.00</td>\n",
       "      <td>30,720.00</td>\n",
       "    </tr>\n",
       "    <tr>\n",
       "      <td>minutes_included</td>\n",
       "      <td>3,463.00</td>\n",
       "      <td>1,247.91</td>\n",
       "      <td>1,144.89</td>\n",
       "      <td>500.00</td>\n",
       "      <td>500.00</td>\n",
       "      <td>500.00</td>\n",
       "      <td>3,000.00</td>\n",
       "      <td>3,000.00</td>\n",
       "    </tr>\n",
       "    <tr>\n",
       "      <td>rub_monthly_fee</td>\n",
       "      <td>3,463.00</td>\n",
       "      <td>968.83</td>\n",
       "      <td>641.14</td>\n",
       "      <td>550.00</td>\n",
       "      <td>550.00</td>\n",
       "      <td>550.00</td>\n",
       "      <td>1,950.00</td>\n",
       "      <td>1,950.00</td>\n",
       "    </tr>\n",
       "    <tr>\n",
       "      <td>rub_per_gb</td>\n",
       "      <td>3,463.00</td>\n",
       "      <td>185.04</td>\n",
       "      <td>22.90</td>\n",
       "      <td>150.00</td>\n",
       "      <td>150.00</td>\n",
       "      <td>200.00</td>\n",
       "      <td>200.00</td>\n",
       "      <td>200.00</td>\n",
       "    </tr>\n",
       "    <tr>\n",
       "      <td>rub_per_message</td>\n",
       "      <td>3,463.00</td>\n",
       "      <td>2.40</td>\n",
       "      <td>0.92</td>\n",
       "      <td>1.00</td>\n",
       "      <td>1.00</td>\n",
       "      <td>3.00</td>\n",
       "      <td>3.00</td>\n",
       "      <td>3.00</td>\n",
       "    </tr>\n",
       "    <tr>\n",
       "      <td>rub_per_minute</td>\n",
       "      <td>3,463.00</td>\n",
       "      <td>2.40</td>\n",
       "      <td>0.92</td>\n",
       "      <td>1.00</td>\n",
       "      <td>1.00</td>\n",
       "      <td>3.00</td>\n",
       "      <td>3.00</td>\n",
       "      <td>3.00</td>\n",
       "    </tr>\n",
       "  </tbody>\n",
       "</table>\n",
       "</div>"
      ],
      "text/plain": [
       "                         count      mean      std       min       25%  \\\n",
       "user_id               3,463.00  1,257.50   143.55  1,000.00  1,135.00   \n",
       "age                   3,463.00     46.66    16.57     18.00     32.00   \n",
       "mnth                  3,463.00      8.20     2.93      1.00      6.00   \n",
       "sum_duration          3,463.00    418.78   258.64      0.00    239.50   \n",
       "cnt_calls             3,463.00     58.50    35.71      0.00     34.00   \n",
       "cnt_sms               2,927.00     40.72    34.92      0.00     13.00   \n",
       "sum_mb                3,234.00 16,868.78 7,774.23      0.00 12,258.75   \n",
       "messages_included     3,463.00    334.20   435.06     50.00     50.00   \n",
       "mb_per_month_included 3,463.00 19,955.14 7,034.22 15,360.00 15,360.00   \n",
       "minutes_included      3,463.00  1,247.91 1,144.89    500.00    500.00   \n",
       "rub_monthly_fee       3,463.00    968.83   641.14    550.00    550.00   \n",
       "rub_per_gb            3,463.00    185.04    22.90    150.00    150.00   \n",
       "rub_per_message       3,463.00      2.40     0.92      1.00      1.00   \n",
       "rub_per_minute        3,463.00      2.40     0.92      1.00      1.00   \n",
       "\n",
       "                            50%       75%       max  \n",
       "user_id                1,262.00  1,382.00  1,499.00  \n",
       "age                       46.00     62.00     75.00  \n",
       "mnth                       9.00     11.00     12.00  \n",
       "sum_duration             419.00    576.00  1,628.00  \n",
       "cnt_calls                 59.00     80.00    239.00  \n",
       "cnt_sms                   33.00     59.00    223.00  \n",
       "sum_mb                16,760.50 21,173.25 49,701.00  \n",
       "messages_included         50.00  1,000.00  1,000.00  \n",
       "mb_per_month_included 15,360.00 30,720.00 30,720.00  \n",
       "minutes_included         500.00  3,000.00  3,000.00  \n",
       "rub_monthly_fee          550.00  1,950.00  1,950.00  \n",
       "rub_per_gb               200.00    200.00    200.00  \n",
       "rub_per_message            3.00      3.00      3.00  \n",
       "rub_per_minute             3.00      3.00      3.00  "
      ]
     },
     "metadata": {},
     "output_type": "display_data"
    }
   ],
   "source": [
    "# объединим все требуемые таблицы\n",
    "\n",
    "users_info_all = users.merge(users_calls,on=['user_id'],how='left').merge(users_sms,on=['user_id','mnth'],how='left').merge(users_internet,on=['user_id','mnth'],how='left').merge(tariffs,left_on='tariff',right_on='tariff_name',how='left')\n",
    "\n",
    "display(users_info_all.sort_values(['user_id', 'mnth']).head(15))\n",
    "\n",
    "display(users_info_all.describe().T)\n",
    "\n",
    "# Заполним пропуски в sms и sum_mb,\n",
    "# предположим что в эти периоды данные пользователи не совершали звонков и не использовали интернет\n",
    "users_info_all['cnt_sms'] = users_info_all['cnt_sms'].fillna(0)\n",
    "users_info_all['sum_mb'] = users_info_all['sum_mb'].fillna(0)"
   ]
  },
  {
   "cell_type": "code",
   "execution_count": 13,
   "metadata": {},
   "outputs": [
    {
     "data": {
      "text/plain": [
       "500"
      ]
     },
     "execution_count": 13,
     "metadata": {},
     "output_type": "execute_result"
    }
   ],
   "source": [
    "print(users_info_all.user_id.nunique())"
   ]
  },
  {
   "cell_type": "code",
   "execution_count": 14,
   "metadata": {},
   "outputs": [
    {
     "data": {
      "text/plain": [
       "(3463, 21)"
      ]
     },
     "execution_count": 14,
     "metadata": {},
     "output_type": "execute_result"
    }
   ],
   "source": [
    "print(users_info_all.shape)"
   ]
  },
  {
   "cell_type": "code",
   "execution_count": 15,
   "metadata": {},
   "outputs": [
    {
     "data": {
      "text/html": [
       "<div>\n",
       "<style scoped>\n",
       "    .dataframe tbody tr th:only-of-type {\n",
       "        vertical-align: middle;\n",
       "    }\n",
       "\n",
       "    .dataframe tbody tr th {\n",
       "        vertical-align: top;\n",
       "    }\n",
       "\n",
       "    .dataframe thead th {\n",
       "        text-align: right;\n",
       "    }\n",
       "</style>\n",
       "<table border=\"1\" class=\"dataframe\">\n",
       "  <thead>\n",
       "    <tr style=\"text-align: right;\">\n",
       "      <th></th>\n",
       "      <th>count</th>\n",
       "      <th>mean</th>\n",
       "      <th>std</th>\n",
       "      <th>min</th>\n",
       "      <th>25%</th>\n",
       "      <th>50%</th>\n",
       "      <th>75%</th>\n",
       "      <th>max</th>\n",
       "    </tr>\n",
       "  </thead>\n",
       "  <tbody>\n",
       "    <tr>\n",
       "      <td>user_id</td>\n",
       "      <td>3,463.00</td>\n",
       "      <td>1,257.50</td>\n",
       "      <td>143.55</td>\n",
       "      <td>1,000.00</td>\n",
       "      <td>1,135.00</td>\n",
       "      <td>1,262.00</td>\n",
       "      <td>1,382.00</td>\n",
       "      <td>1,499.00</td>\n",
       "    </tr>\n",
       "    <tr>\n",
       "      <td>age</td>\n",
       "      <td>3,463.00</td>\n",
       "      <td>46.66</td>\n",
       "      <td>16.57</td>\n",
       "      <td>18.00</td>\n",
       "      <td>32.00</td>\n",
       "      <td>46.00</td>\n",
       "      <td>62.00</td>\n",
       "      <td>75.00</td>\n",
       "    </tr>\n",
       "    <tr>\n",
       "      <td>mnth</td>\n",
       "      <td>3,463.00</td>\n",
       "      <td>8.20</td>\n",
       "      <td>2.93</td>\n",
       "      <td>1.00</td>\n",
       "      <td>6.00</td>\n",
       "      <td>9.00</td>\n",
       "      <td>11.00</td>\n",
       "      <td>12.00</td>\n",
       "    </tr>\n",
       "    <tr>\n",
       "      <td>sum_duration</td>\n",
       "      <td>3,463.00</td>\n",
       "      <td>418.78</td>\n",
       "      <td>258.64</td>\n",
       "      <td>0.00</td>\n",
       "      <td>239.50</td>\n",
       "      <td>419.00</td>\n",
       "      <td>576.00</td>\n",
       "      <td>1,628.00</td>\n",
       "    </tr>\n",
       "    <tr>\n",
       "      <td>cnt_calls</td>\n",
       "      <td>3,463.00</td>\n",
       "      <td>58.50</td>\n",
       "      <td>35.71</td>\n",
       "      <td>0.00</td>\n",
       "      <td>34.00</td>\n",
       "      <td>59.00</td>\n",
       "      <td>80.00</td>\n",
       "      <td>239.00</td>\n",
       "    </tr>\n",
       "    <tr>\n",
       "      <td>cnt_sms</td>\n",
       "      <td>3,463.00</td>\n",
       "      <td>34.42</td>\n",
       "      <td>35.32</td>\n",
       "      <td>0.00</td>\n",
       "      <td>5.00</td>\n",
       "      <td>25.00</td>\n",
       "      <td>53.00</td>\n",
       "      <td>223.00</td>\n",
       "    </tr>\n",
       "    <tr>\n",
       "      <td>sum_mb</td>\n",
       "      <td>3,463.00</td>\n",
       "      <td>15,753.29</td>\n",
       "      <td>8,603.41</td>\n",
       "      <td>0.00</td>\n",
       "      <td>10,767.00</td>\n",
       "      <td>16,203.00</td>\n",
       "      <td>20,802.50</td>\n",
       "      <td>49,701.00</td>\n",
       "    </tr>\n",
       "    <tr>\n",
       "      <td>messages_included</td>\n",
       "      <td>3,463.00</td>\n",
       "      <td>334.20</td>\n",
       "      <td>435.06</td>\n",
       "      <td>50.00</td>\n",
       "      <td>50.00</td>\n",
       "      <td>50.00</td>\n",
       "      <td>1,000.00</td>\n",
       "      <td>1,000.00</td>\n",
       "    </tr>\n",
       "    <tr>\n",
       "      <td>mb_per_month_included</td>\n",
       "      <td>3,463.00</td>\n",
       "      <td>19,955.14</td>\n",
       "      <td>7,034.22</td>\n",
       "      <td>15,360.00</td>\n",
       "      <td>15,360.00</td>\n",
       "      <td>15,360.00</td>\n",
       "      <td>30,720.00</td>\n",
       "      <td>30,720.00</td>\n",
       "    </tr>\n",
       "    <tr>\n",
       "      <td>minutes_included</td>\n",
       "      <td>3,463.00</td>\n",
       "      <td>1,247.91</td>\n",
       "      <td>1,144.89</td>\n",
       "      <td>500.00</td>\n",
       "      <td>500.00</td>\n",
       "      <td>500.00</td>\n",
       "      <td>3,000.00</td>\n",
       "      <td>3,000.00</td>\n",
       "    </tr>\n",
       "    <tr>\n",
       "      <td>rub_monthly_fee</td>\n",
       "      <td>3,463.00</td>\n",
       "      <td>968.83</td>\n",
       "      <td>641.14</td>\n",
       "      <td>550.00</td>\n",
       "      <td>550.00</td>\n",
       "      <td>550.00</td>\n",
       "      <td>1,950.00</td>\n",
       "      <td>1,950.00</td>\n",
       "    </tr>\n",
       "    <tr>\n",
       "      <td>rub_per_gb</td>\n",
       "      <td>3,463.00</td>\n",
       "      <td>185.04</td>\n",
       "      <td>22.90</td>\n",
       "      <td>150.00</td>\n",
       "      <td>150.00</td>\n",
       "      <td>200.00</td>\n",
       "      <td>200.00</td>\n",
       "      <td>200.00</td>\n",
       "    </tr>\n",
       "    <tr>\n",
       "      <td>rub_per_message</td>\n",
       "      <td>3,463.00</td>\n",
       "      <td>2.40</td>\n",
       "      <td>0.92</td>\n",
       "      <td>1.00</td>\n",
       "      <td>1.00</td>\n",
       "      <td>3.00</td>\n",
       "      <td>3.00</td>\n",
       "      <td>3.00</td>\n",
       "    </tr>\n",
       "    <tr>\n",
       "      <td>rub_per_minute</td>\n",
       "      <td>3,463.00</td>\n",
       "      <td>2.40</td>\n",
       "      <td>0.92</td>\n",
       "      <td>1.00</td>\n",
       "      <td>1.00</td>\n",
       "      <td>3.00</td>\n",
       "      <td>3.00</td>\n",
       "      <td>3.00</td>\n",
       "    </tr>\n",
       "    <tr>\n",
       "      <td>rev_calls</td>\n",
       "      <td>3,463.00</td>\n",
       "      <td>79.29</td>\n",
       "      <td>207.21</td>\n",
       "      <td>0.00</td>\n",
       "      <td>0.00</td>\n",
       "      <td>0.00</td>\n",
       "      <td>0.00</td>\n",
       "      <td>2,643.00</td>\n",
       "    </tr>\n",
       "    <tr>\n",
       "      <td>rev_sms</td>\n",
       "      <td>3,463.00</td>\n",
       "      <td>10.83</td>\n",
       "      <td>33.11</td>\n",
       "      <td>0.00</td>\n",
       "      <td>0.00</td>\n",
       "      <td>0.00</td>\n",
       "      <td>0.00</td>\n",
       "      <td>348.00</td>\n",
       "    </tr>\n",
       "    <tr>\n",
       "      <td>rev_inet</td>\n",
       "      <td>3,463.00</td>\n",
       "      <td>421.31</td>\n",
       "      <td>676.62</td>\n",
       "      <td>0.00</td>\n",
       "      <td>0.00</td>\n",
       "      <td>0.00</td>\n",
       "      <td>800.00</td>\n",
       "      <td>5,600.00</td>\n",
       "    </tr>\n",
       "    <tr>\n",
       "      <td>revenue</td>\n",
       "      <td>3,463.00</td>\n",
       "      <td>1,480.26</td>\n",
       "      <td>807.42</td>\n",
       "      <td>550.00</td>\n",
       "      <td>613.00</td>\n",
       "      <td>1,550.00</td>\n",
       "      <td>1,950.00</td>\n",
       "      <td>7,692.00</td>\n",
       "    </tr>\n",
       "  </tbody>\n",
       "</table>\n",
       "</div>"
      ],
      "text/plain": [
       "                         count      mean      std       min       25%  \\\n",
       "user_id               3,463.00  1,257.50   143.55  1,000.00  1,135.00   \n",
       "age                   3,463.00     46.66    16.57     18.00     32.00   \n",
       "mnth                  3,463.00      8.20     2.93      1.00      6.00   \n",
       "sum_duration          3,463.00    418.78   258.64      0.00    239.50   \n",
       "cnt_calls             3,463.00     58.50    35.71      0.00     34.00   \n",
       "cnt_sms               3,463.00     34.42    35.32      0.00      5.00   \n",
       "sum_mb                3,463.00 15,753.29 8,603.41      0.00 10,767.00   \n",
       "messages_included     3,463.00    334.20   435.06     50.00     50.00   \n",
       "mb_per_month_included 3,463.00 19,955.14 7,034.22 15,360.00 15,360.00   \n",
       "minutes_included      3,463.00  1,247.91 1,144.89    500.00    500.00   \n",
       "rub_monthly_fee       3,463.00    968.83   641.14    550.00    550.00   \n",
       "rub_per_gb            3,463.00    185.04    22.90    150.00    150.00   \n",
       "rub_per_message       3,463.00      2.40     0.92      1.00      1.00   \n",
       "rub_per_minute        3,463.00      2.40     0.92      1.00      1.00   \n",
       "rev_calls             3,463.00     79.29   207.21      0.00      0.00   \n",
       "rev_sms               3,463.00     10.83    33.11      0.00      0.00   \n",
       "rev_inet              3,463.00    421.31   676.62      0.00      0.00   \n",
       "revenue               3,463.00  1,480.26   807.42    550.00    613.00   \n",
       "\n",
       "                            50%       75%       max  \n",
       "user_id                1,262.00  1,382.00  1,499.00  \n",
       "age                       46.00     62.00     75.00  \n",
       "mnth                       9.00     11.00     12.00  \n",
       "sum_duration             419.00    576.00  1,628.00  \n",
       "cnt_calls                 59.00     80.00    239.00  \n",
       "cnt_sms                   25.00     53.00    223.00  \n",
       "sum_mb                16,203.00 20,802.50 49,701.00  \n",
       "messages_included         50.00  1,000.00  1,000.00  \n",
       "mb_per_month_included 15,360.00 30,720.00 30,720.00  \n",
       "minutes_included         500.00  3,000.00  3,000.00  \n",
       "rub_monthly_fee          550.00  1,950.00  1,950.00  \n",
       "rub_per_gb               200.00    200.00    200.00  \n",
       "rub_per_message            3.00      3.00      3.00  \n",
       "rub_per_minute             3.00      3.00      3.00  \n",
       "rev_calls                  0.00      0.00  2,643.00  \n",
       "rev_sms                    0.00      0.00    348.00  \n",
       "rev_inet                   0.00    800.00  5,600.00  \n",
       "revenue                1,550.00  1,950.00  7,692.00  "
      ]
     },
     "metadata": {},
     "output_type": "display_data"
    },
    {
     "data": {
      "text/html": [
       "<div>\n",
       "<style scoped>\n",
       "    .dataframe tbody tr th:only-of-type {\n",
       "        vertical-align: middle;\n",
       "    }\n",
       "\n",
       "    .dataframe tbody tr th {\n",
       "        vertical-align: top;\n",
       "    }\n",
       "\n",
       "    .dataframe thead th {\n",
       "        text-align: right;\n",
       "    }\n",
       "</style>\n",
       "<table border=\"1\" class=\"dataframe\">\n",
       "  <thead>\n",
       "    <tr style=\"text-align: right;\">\n",
       "      <th></th>\n",
       "      <th>user_id</th>\n",
       "      <th>mnth</th>\n",
       "      <th>revenue</th>\n",
       "    </tr>\n",
       "  </thead>\n",
       "  <tbody>\n",
       "    <tr>\n",
       "      <td>2035</td>\n",
       "      <td>1306</td>\n",
       "      <td>12.00</td>\n",
       "      <td>4,350.00</td>\n",
       "    </tr>\n",
       "    <tr>\n",
       "      <td>3188</td>\n",
       "      <td>1462</td>\n",
       "      <td>12.00</td>\n",
       "      <td>4,366.00</td>\n",
       "    </tr>\n",
       "    <tr>\n",
       "      <td>3145</td>\n",
       "      <td>1456</td>\n",
       "      <td>11.00</td>\n",
       "      <td>4,369.00</td>\n",
       "    </tr>\n",
       "    <tr>\n",
       "      <td>1422</td>\n",
       "      <td>1216</td>\n",
       "      <td>12.00</td>\n",
       "      <td>4,393.00</td>\n",
       "    </tr>\n",
       "    <tr>\n",
       "      <td>1720</td>\n",
       "      <td>1261</td>\n",
       "      <td>11.00</td>\n",
       "      <td>4,523.00</td>\n",
       "    </tr>\n",
       "    <tr>\n",
       "      <td>3379</td>\n",
       "      <td>1486</td>\n",
       "      <td>11.00</td>\n",
       "      <td>4,787.00</td>\n",
       "    </tr>\n",
       "    <tr>\n",
       "      <td>1578</td>\n",
       "      <td>1240</td>\n",
       "      <td>8.00</td>\n",
       "      <td>4,800.00</td>\n",
       "    </tr>\n",
       "    <tr>\n",
       "      <td>795</td>\n",
       "      <td>1124</td>\n",
       "      <td>10.00</td>\n",
       "      <td>4,800.00</td>\n",
       "    </tr>\n",
       "    <tr>\n",
       "      <td>879</td>\n",
       "      <td>1138</td>\n",
       "      <td>8.00</td>\n",
       "      <td>4,924.00</td>\n",
       "    </tr>\n",
       "    <tr>\n",
       "      <td>617</td>\n",
       "      <td>1098</td>\n",
       "      <td>12.00</td>\n",
       "      <td>5,025.00</td>\n",
       "    </tr>\n",
       "    <tr>\n",
       "      <td>1033</td>\n",
       "      <td>1159</td>\n",
       "      <td>12.00</td>\n",
       "      <td>5,372.00</td>\n",
       "    </tr>\n",
       "    <tr>\n",
       "      <td>1899</td>\n",
       "      <td>1286</td>\n",
       "      <td>12.00</td>\n",
       "      <td>5,401.00</td>\n",
       "    </tr>\n",
       "    <tr>\n",
       "      <td>260</td>\n",
       "      <td>1042</td>\n",
       "      <td>12.00</td>\n",
       "      <td>5,691.00</td>\n",
       "    </tr>\n",
       "    <tr>\n",
       "      <td>1721</td>\n",
       "      <td>1261</td>\n",
       "      <td>12.00</td>\n",
       "      <td>6,090.00</td>\n",
       "    </tr>\n",
       "    <tr>\n",
       "      <td>3380</td>\n",
       "      <td>1486</td>\n",
       "      <td>12.00</td>\n",
       "      <td>7,692.00</td>\n",
       "    </tr>\n",
       "  </tbody>\n",
       "</table>\n",
       "</div>"
      ],
      "text/plain": [
       "      user_id  mnth  revenue\n",
       "2035     1306 12.00 4,350.00\n",
       "3188     1462 12.00 4,366.00\n",
       "3145     1456 11.00 4,369.00\n",
       "1422     1216 12.00 4,393.00\n",
       "1720     1261 11.00 4,523.00\n",
       "3379     1486 11.00 4,787.00\n",
       "1578     1240  8.00 4,800.00\n",
       "795      1124 10.00 4,800.00\n",
       "879      1138  8.00 4,924.00\n",
       "617      1098 12.00 5,025.00\n",
       "1033     1159 12.00 5,372.00\n",
       "1899     1286 12.00 5,401.00\n",
       "260      1042 12.00 5,691.00\n",
       "1721     1261 12.00 6,090.00\n",
       "3380     1486 12.00 7,692.00"
      ]
     },
     "execution_count": 15,
     "metadata": {},
     "output_type": "execute_result"
    }
   ],
   "source": [
    "# Расчитаем выручку\n",
    "\n",
    "# Выручка по звонкам\n",
    "users_info_all['rev_calls'] = (np.where(users_info_all['sum_duration']>users_info_all['minutes_included'],\n",
    "(users_info_all['sum_duration']-users_info_all['minutes_included'])*users_info_all['rub_per_minute'], 0))\n",
    "\n",
    "# Выручка по смс\n",
    "users_info_all['rev_sms'] = (np.where(users_info_all['cnt_sms']>users_info_all['messages_included'],\n",
    "(users_info_all['cnt_sms']-users_info_all['messages_included'])*users_info_all['rub_per_message'], 0))\n",
    "\n",
    "# Выручка по интернет трафику\n",
    "users_info_all['rev_inet'] = (np.where(users_info_all['sum_mb']>users_info_all['mb_per_month_included'],\n",
    "np.ceil((users_info_all['sum_mb']-users_info_all['mb_per_month_included'])/1000)*users_info_all['rub_per_gb'], 0))\n",
    "                             \n",
    "users_info_all['revenue'] = users_info_all['rub_monthly_fee']+users_info_all['rev_calls']+users_info_all['rev_sms']+users_info_all['rev_inet']\n",
    "\n",
    "\n",
    "display(users_info_all.describe().T)\n",
    "users_info_all[['user_id','mnth','revenue']].sort_values('revenue').head(15)\n",
    "display(users_info_all[['user_id','mnth','revenue']].sort_values('revenue').tail(15))"
   ]
  },
  {
   "cell_type": "code",
   "execution_count": 16,
   "metadata": {
    "scrolled": true
   },
   "outputs": [
    {
     "data": {
      "text/plain": [
       "array([1950., 1350.,  550., 1150., 1550.,  950.,  886., 1186.,  835.,\n",
       "        772.,  949.,  559., 1219.,  694.,  838.,  750.,  685.,  981.,\n",
       "       1750., 1015.,  990.,  562., 2550., 2350., 1356., 1995., 1540.,\n",
       "       2553., 2150., 2950., 3350., 3150., 2750., 2159., 2753., 1019.,\n",
       "       3037., 1838., 3204., 1004., 1229., 1983., 1631., 1672.,  986.,\n",
       "       3321., 3900., 2850., 1906.,  781.,  592., 1009.,  739.,  959.,\n",
       "        655., 1061., 2919., 1998., 2319., 1087., 1723.,  718.,  703.,\n",
       "        688.,  679.,  667., 1482.,  676., 1045.,  736., 1013., 1171.,\n",
       "       2028., 2837., 1646., 2610., 1813., 1640., 1697.,  589.,  753.,\n",
       "       1359.,  553., 1112.,  840., 1057., 3233., 5691., 2186., 1661.,\n",
       "        571., 2165.,  995.,  971., 2192.,  759., 2216.,  762., 1885.,\n",
       "       2115., 3581., 3979., 2700.,  601., 1942., 2788., 2130., 2267.,\n",
       "       1765., 1157., 1476., 1488., 1815., 1077., 1905., 2219., 1245.,\n",
       "       1665., 1103.,  924., 2004., 2441., 1321., 2210., 1553., 2463.,\n",
       "       2965., 1131., 2813., 1622., 1948., 1608., 4050., 2367., 1539.,\n",
       "       1214., 1954., 1556., 2598., 3566., 2204., 1804., 2605., 3201.,\n",
       "       1960., 2237., 2595., 4011., 1069.,  867., 1705., 2359.,  613.,\n",
       "        973.,  712.,  595.,  604.,  634., 2916., 3375.,  798., 2712.,\n",
       "       2501., 3053., 2201., 3550.,  849., 2190., 1046.,  819.,  837.,\n",
       "       2103., 1852., 3211., 1969., 1924., 2382.,  814., 2020., 1908.,\n",
       "       3202.,  871.,  826.,  859.,  730.,  784.,  607., 1676., 1365.,\n",
       "       1106., 1297., 1698.,  780.,  948.,  577., 1780., 1580., 2589.,\n",
       "       1034., 2368., 2574., 1032., 2655., 1690., 2452., 2580., 3574.,\n",
       "       1446., 2088., 3765., 2005., 5025., 1300., 1017., 1122.,  778.,\n",
       "        962.,  742.,  766., 1381.,  865., 1897., 2074., 3407., 3022.,\n",
       "       2828.,  646.,  625.,  925., 1040.,  682., 1162., 3154.,  649.,\n",
       "        697., 2385., 1160., 1249., 1243., 1036.,  715., 1108.,  808.,\n",
       "       1030., 1275., 1312., 1414., 1756., 1237., 1322., 1003., 2786.,\n",
       "        870.,  760.,  565., 1295., 2031., 2213., 1630., 1417., 1972.,\n",
       "       4800., 3000., 3450., 2400.,  619.,  673., 1458.,  813.,  610.,\n",
       "        804.,  631.,  783., 1405., 1589., 1565., 1270.,  580., 2285.,\n",
       "        850., 1659., 1080., 1021.,  817.,  977., 1601.,  616., 1404.,\n",
       "        583.,  670.,  643., 1598., 1235.,  897., 3676., 1293., 4924.,\n",
       "       2603., 1993., 2531., 3757., 1068., 1763., 1814., 1903., 1177.,\n",
       "        846., 1374., 1261.,  706.,  709., 1527., 2466., 1055.,  700.,\n",
       "        877.,  931., 2551., 1530.,  775., 2879., 2100., 3258., 3052.,\n",
       "       3085., 2300., 1043., 1837., 2619.,  828., 3607., 2013., 1634.,\n",
       "       3286.,  637., 1204.,  989.,  598.,  556., 5372., 2250., 1051.,\n",
       "       1294., 1165., 1443., 1317., 1085.,  658., 2780., 3950., 2647.,\n",
       "       2573., 2752., 2657., 1800., 1711.,  996., 1554.,  855., 1142.,\n",
       "       1857.,  751., 1586.,  574., 1368., 1109.,  622.,  811.,  793.,\n",
       "       1796., 3004., 1121.,  856.,  745., 3300., 3600., 3750.,  586.,\n",
       "       1095.,  727., 1024., 1315., 2041., 1007., 3445., 2079., 2365.,\n",
       "       2182., 1642., 1188., 2273., 2500., 1688., 1018., 2177., 2348.,\n",
       "       3497., 1303., 1585., 1178., 1207., 1670., 2231., 1380., 1710.,\n",
       "       1132., 1549., 2014., 2321., 1518., 1856., 1008., 1464., 4393.,\n",
       "        786., 1136., 2234., 1201., 1731., 2107., 1428., 1829., 2840.,\n",
       "       3135., 1696., 2271., 2716., 1801., 2482., 2910., 1913., 3041.,\n",
       "       1927., 2415., 2062., 3638., 4138., 2495., 2111., 2814., 2692.,\n",
       "       2481., 1692., 3274.,  763., 1349., 2085., 2181., 1419., 1605.,\n",
       "       2029., 4350., 1422., 3076., 2055., 2889., 2718., 2174., 1386.,\n",
       "       2006., 1663., 2323., 2808., 1614., 1959., 2064., 1822., 2073.,\n",
       "       3417., 2394., 2909., 2255.,  998., 2867., 1495., 1423., 1082.,\n",
       "       1327., 4523., 6090., 2422., 1124., 1174., 1066., 2502., 1197.,\n",
       "       3084.,  757., 1762., 1855., 1101., 1099., 1360., 1759.,  661.,\n",
       "        628.,  946., 1595., 2134.,  913., 1444., 1054., 1773., 1307.,\n",
       "       1291., 1737., 1516., 1853., 1225., 1828., 2470., 1489., 1159.,\n",
       "       1063., 1867., 1107., 1395.,  724.,  721.,  832., 5401., 3282.,\n",
       "       1819., 1296.,  847.,  652., 2034., 1925., 1440., 1758.,  934.,\n",
       "       1050.,  787.,  799., 1494., 1479., 1574., 2601., 1563., 3200.,\n",
       "        777., 1016., 1521., 3092.,  807., 1168., 1416., 1255., 2332.,\n",
       "       2881.,  879., 2091., 1870., 1636., 1902., 1392.,  568.,  792.,\n",
       "       1783., 2109., 1533., 3123., 3245., 2146., 1457.,  843., 1454.,\n",
       "       1346., 1048., 2224., 1709., 3168., 1166.,  829., 1172., 1707.,\n",
       "       1795., 1196., 1825., 3174., 2294., 3839., 3182., 3797., 2536.,\n",
       "        831., 2063., 1604., 2157., 2374., 1753., 1555.,  983., 1389.,\n",
       "       2679., 3240., 1084., 1072.,  841., 1267., 2395., 1272., 2638.,\n",
       "       4208.,  979., 1956., 2559., 1238., 1616., 1074., 3120., 1200.,\n",
       "       2039., 3237., 2577., 1953., 2664., 1128., 1877., 1130., 1184.,\n",
       "       1358.,  790.,  691., 1247., 2286., 1548., 2337., 2617., 2811.,\n",
       "       1407., 1022., 1938.,  796., 1190.,  912., 1067., 2233., 1525.,\n",
       "        937., 2009., 1545., 1552., 1720., 2450., 1042., 1576., 1930.,\n",
       "       2848., 1559.,  640.,  891., 2156., 2016., 2189.,  768., 1258.,\n",
       "       1528., 1180., 1278., 1858., 1144., 2059., 1989., 2756., 2133.,\n",
       "        823., 1091., 1001., 1461.,  825.,  876., 1058., 2291., 2266.,\n",
       "       2317., 1793.,  961., 1189., 2386., 2118., 1452., 1613., 3606.,\n",
       "       1519., 2284., 1866., 2378., 1145.,  898., 1606., 1234.,  822.,\n",
       "       1849., 1240., 2802., 1029., 3186., 3132., 4369., 3678.,  927.,\n",
       "       1963.,  880., 1012., 1678., 2667., 1285., 2379., 4366., 1677.,\n",
       "       1125., 2154., 1435., 1952., 3420., 1382.,  874., 1915., 1643.,\n",
       "       1228., 1656., 1473., 2259., 2672., 1760., 2552., 1974., 2614.,\n",
       "       1667., 2542., 2643., 3440., 2263., 1383., 2364., 3091., 2137.,\n",
       "       1664., 2644.,  795., 1387., 1755., 1971., 3241., 1510.,  933.,\n",
       "       1898., 4787., 7692.,  765., 1318., 2377., 2757., 2124., 2982.,\n",
       "       3007., 3791., 2855., 2330., 2080., 2344., 1151.])"
      ]
     },
     "execution_count": 16,
     "metadata": {},
     "output_type": "execute_result"
    }
   ],
   "source": [
    "users_info_all['revenue'].unique()"
   ]
  },
  {
   "cell_type": "markdown",
   "metadata": {},
   "source": [
    "### Вывод\n",
    "\n",
    "Предобработка проведена: \n",
    "* типы данных изменены на более корректные;\n",
    "* удалена дублирующая индекс колонка без названия;\n",
    "* данные сгруппированы по месяцам и собраны в одну таблицу;\n",
    "* проведены расчеты необходимые для дальнейшего исследования."
   ]
  },
  {
   "cell_type": "markdown",
   "metadata": {},
   "source": [
    "<a id=\"pred\"></a>\n",
    "## 3. Предварительный анализ данных"
   ]
  },
  {
   "cell_type": "markdown",
   "metadata": {},
   "source": [
    "Опишем поведение клиентов оператора, исходя из данной выборки"
   ]
  },
  {
   "cell_type": "code",
   "execution_count": 17,
   "metadata": {
    "scrolled": false
   },
   "outputs": [
    {
     "data": {
      "text/plain": [
       "tariff_name\n",
       "smart   383.81\n",
       "ultra   500.70\n",
       "Name: sum_duration, dtype: float32"
      ]
     },
     "metadata": {},
     "output_type": "display_data"
    },
    {
     "data": {
      "text/plain": [
       "tariff_name\n",
       "smart    45,360.36\n",
       "ultra   107,845.98\n",
       "Name: sum_duration, dtype: float32"
      ]
     },
     "metadata": {},
     "output_type": "display_data"
    },
    {
     "data": {
      "text/plain": [
       "tariff_name\n",
       "smart   212.98\n",
       "ultra   328.40\n",
       "Name: sum_duration, dtype: float32"
      ]
     },
     "metadata": {},
     "output_type": "display_data"
    },
    {
     "data": {
      "image/png": "[encoded data removed]",
      "text/plain": [
       "<Figure size 1080x432 with 1 Axes>"
      ]
     },
     "metadata": {
      "needs_background": "light"
     },
     "output_type": "display_data"
    },
    {
     "data": {
      "image/png": "[encoded data removed]",
      "text/plain": [
       "<Figure size 1080x432 with 1 Axes>"
      ]
     },
     "metadata": {
      "needs_background": "light"
     },
     "output_type": "display_data"
    }
   ],
   "source": [
    "# Посчитаем сколько минут разговора в среднем требуется пользователям каждого тарифа в месяц\n",
    "# display(users_info_all.groupby(['mnth','tariff_name'])['sum_duration'].mean())\n",
    "display(users_info_all.groupby(['tariff_name'])['sum_duration'].mean())\n",
    "\n",
    "# Посчитаем дисперсию минут разговора пользователей каждого тарифа в месяц\n",
    "display(users_info_all.groupby(['tariff_name'])['sum_duration'].var())\n",
    "\n",
    "# Посчитаем стандартное отклонение минут разговора пользователей каждого тарифа в месяц\n",
    "display(users_info_all.groupby(['tariff_name'])['sum_duration'].std())\n",
    "\n",
    "# hist = users_info_all['sum_duration'].plot(kind='hist',  alpha=0.7, figsize=(10, 5),  density=True)\n",
    "# hist = users_info_all['sum_duration'].plot.kde()\n",
    "\n",
    "fig_dims = (15, 6)\n",
    "fig, ax = plt.subplots(figsize=fig_dims)\n",
    "sb_plot = sb.distplot(users_info_all.query('tariff_name==\"smart\"')['sum_duration'])\n",
    "fig = sb_plot.get_figure()\n",
    "sb_plot = sb.kdeplot(users_info_all.query('tariff_name==\"smart\"')['sum_duration'], shade=True)\n",
    "fig = sb_plot.get_figure()\n",
    "sb_plot.set(xlabel='Длителность звонков в месяц, мин.', ylabel='Плотность частоты', title='Распределение дительности звонков в месяц на тарифе Смарт') \n",
    "plt.legend([],[], frameon=False)\n",
    "plt.show()\n",
    "\n",
    "\n",
    "fig_dims = (15, 6)\n",
    "fig, ax = plt.subplots(figsize=fig_dims)\n",
    "sb_plot = sb.distplot(users_info_all.query('tariff_name==\"ultra\"')['sum_duration'])\n",
    "fig = sb_plot.get_figure()\n",
    "sb_plot = sb.kdeplot(users_info_all.query('tariff_name==\"ultra\"')['sum_duration'], shade=True)\n",
    "fig = sb_plot.get_figure()\n",
    "sb_plot.set(xlabel='Длителность звонков в месяц, мин.', ylabel='Плотность частоты', title='Распределение дительности звонков в месяц на тарифе Ультра') \n",
    "plt.legend([],[], frameon=False)\n",
    "plt.show()\n"
   ]
  },
  {
   "cell_type": "markdown",
   "metadata": {},
   "source": [
    "На тарифе Смарт месячное распределение длительности звонков похоже на нормальное, если не считать пика около нуля минут из-за непринятых вызовов. Значения распределены вокруг среднего (383.81 мин/мес) с дисперсией 45360.56 и стандартным отклонением 212.98.\n",
    "Распределение ассиметрично с положительной скошенностью. \n",
    "\n",
    "На тарифе Ультра месячное распределение длительности звонков также похоже на нормальное. Значения распределены вокруг среднего (500.70 мин/мес) с дисперсией 107845.98 и стандартным отклонением 328.40.\n",
    "Распределение ассиметрично с положительной скошенностью. Стандартное отклонение значений значительно выше, чем на тарифе Смарт (на 115,42 мин), среднее заметно выше (на 116,89).\n"
   ]
  },
  {
   "cell_type": "code",
   "execution_count": 18,
   "metadata": {
    "scrolled": false
   },
   "outputs": [
    {
     "data": {
      "text/plain": [
       "tariff_name\n",
       "smart   30.01\n",
       "ultra   44.74\n",
       "Name: cnt_sms, dtype: float64"
      ]
     },
     "metadata": {},
     "output_type": "display_data"
    },
    {
     "data": {
      "text/plain": [
       "tariff_name\n",
       "smart     798.69\n",
       "ultra   2,148.04\n",
       "Name: cnt_sms, dtype: float64"
      ]
     },
     "metadata": {},
     "output_type": "display_data"
    },
    {
     "data": {
      "text/plain": [
       "tariff_name\n",
       "smart   28.26\n",
       "ultra   46.35\n",
       "Name: cnt_sms, dtype: float64"
      ]
     },
     "metadata": {},
     "output_type": "display_data"
    },
    {
     "data": {
      "image/png": "[encoded data removed]",
      "text/plain": [
       "<Figure size 1080x432 with 1 Axes>"
      ]
     },
     "metadata": {
      "needs_background": "light"
     },
     "output_type": "display_data"
    },
    {
     "data": {
      "image/png": "[encoded data removed]",
      "text/plain": [
       "<Figure size 1080x432 with 1 Axes>"
      ]
     },
     "metadata": {
      "needs_background": "light"
     },
     "output_type": "display_data"
    }
   ],
   "source": [
    "# Посчитаем сколько сообщений в среднем требуется пользователям каждого тарифа в месяц\n",
    "# display(users_info_all.groupby(['mnth','tariff_name'])['sum_duration'].mean())\n",
    "display(users_info_all.groupby(['tariff_name'])['cnt_sms'].mean())\n",
    "\n",
    "# Посчитаем дисперсию кол-ва сообщений пользователей каждого тарифа в месяц\n",
    "display(users_info_all.groupby(['tariff_name'])['cnt_sms'].var())\n",
    "\n",
    "# Посчитаем стандартное отклонение кол-ва сообщений пользователей каждого тарифа в месяц\n",
    "display(users_info_all.groupby(['tariff_name'])['cnt_sms'].std())\n",
    "\n",
    "# hist = users_info_all['sum_duration'].plot(kind='hist',  alpha=0.7, figsize=(10, 5),  density=True)\n",
    "# hist = users_info_all['sum_duration'].plot.kde()\n",
    "\n",
    "\n",
    "fig_dims = (15, 6)\n",
    "fig, ax = plt.subplots(figsize=fig_dims)\n",
    "sb_plot = sb.distplot(users_info_all.query('tariff_name==\"smart\"')['cnt_sms'])\n",
    "fig = sb_plot.get_figure()\n",
    "sb_plot = sb.kdeplot(users_info_all.query('tariff_name==\"smart\"')['cnt_sms'], shade=True)\n",
    "fig = sb_plot.get_figure()\n",
    "sb_plot.set(xlabel='Кол-во сообщений в месяц, шт.', ylabel='Плотность частоты', title='Распределение дительности кол-ва сообщений в месяц на тарифе Смарт') \n",
    "plt.legend([],[], frameon=False)\n",
    "plt.show()\n",
    "\n",
    "\n",
    "fig_dims = (15, 6)\n",
    "fig, ax = plt.subplots(figsize=fig_dims)\n",
    "sb_plot = sb.distplot(users_info_all.query('tariff_name==\"ultra\"')['cnt_sms'])\n",
    "fig = sb_plot.get_figure()\n",
    "sb_plot = sb.kdeplot(users_info_all.query('tariff_name==\"ultra\"')['cnt_sms'], shade=True)\n",
    "fig = sb_plot.get_figure()\n",
    "sb_plot.set(xlabel='Кол-во сообщений в месяц, шт.', ylabel='Плотность частоты', title='Распределение дительности кол-ва сообщений в месяц на тарифе Ультра') \n",
    "plt.legend([],[], frameon=False)\n",
    "plt.show()\n",
    "\n",
    "\n"
   ]
  },
  {
   "cell_type": "markdown",
   "metadata": {},
   "source": [
    "На тарифе Смарт месячное распределение отправленных сообщений похоже на распределение Пуассона, пик около нуля минут связан с нашим предположением о пропусках. Значения распределены вокруг среднего (около 30 сообщений/мес) с дисперсией 798.69 и стандартным отклонением 28.26.\n",
    "Распределение ассиметрично с положительной скошенностью. \n",
    "\n",
    "На тарифе Ультра месячное распределение похожее. Значения распределены вокруг среднего (44.74 сообщений/мес) с дисперсией 2148.04 и стандартным отклонением 46.35.\n",
    "Распределение ассиметрично с положительной скошенностью. Дисперсия значений значительно выросла, по сравнению с тарифом Смарт, (на 1349.35), среднее выше на 14,73.\n"
   ]
  },
  {
   "cell_type": "code",
   "execution_count": 19,
   "metadata": {
    "scrolled": false
   },
   "outputs": [
    {
     "data": {
      "text/plain": [
       "tariff_name\n",
       "smart   14,820.99\n",
       "ultra   17,937.35\n",
       "Name: sum_mb, dtype: float64"
      ]
     },
     "metadata": {},
     "output_type": "display_data"
    },
    {
     "data": {
      "text/plain": [
       "tariff_name\n",
       "smart    51,239,880.88\n",
       "ultra   120,669,673.62\n",
       "Name: sum_mb, dtype: float64"
      ]
     },
     "metadata": {},
     "output_type": "display_data"
    },
    {
     "data": {
      "text/plain": [
       "tariff_name\n",
       "smart    7,158.20\n",
       "ultra   10,984.97\n",
       "Name: sum_mb, dtype: float64"
      ]
     },
     "metadata": {},
     "output_type": "display_data"
    },
    {
     "data": {
      "image/png": "[encoded data removed]",
      "text/plain": [
       "<Figure size 1080x432 with 1 Axes>"
      ]
     },
     "metadata": {
      "needs_background": "light"
     },
     "output_type": "display_data"
    },
    {
     "data": {
      "image/png": "[encoded data removed]",
      "text/plain": [
       "<Figure size 1080x432 with 1 Axes>"
      ]
     },
     "metadata": {
      "needs_background": "light"
     },
     "output_type": "display_data"
    }
   ],
   "source": [
    "# Посчитаем сколько интернет трафика в среднем требуется пользователям каждого тарифа в месяц\n",
    "# display(users_info_all.groupby(['mnth','tariff_name'])['sum_duration'].mean())\n",
    "display(users_info_all.groupby(['tariff_name'])['sum_mb'].mean())\n",
    "\n",
    "# Посчитаем дисперсию интернет трафика пользователей каждого тарифа в месяц\n",
    "display(users_info_all.groupby(['tariff_name'])['sum_mb'].var())\n",
    "\n",
    "# Посчитаем стандартное отклонение интернет трафика пользователей каждого тарифа в месяц\n",
    "display(users_info_all.groupby(['tariff_name'])['sum_mb'].std())\n",
    "\n",
    "# hist = users_info_all['sum_duration'].plot(kind='hist',  alpha=0.7, figsize=(10, 5),  density=True)\n",
    "# hist = users_info_all['sum_duration'].plot.kde()\n",
    "\n",
    "\n",
    "fig_dims = (15, 6)\n",
    "fig, ax = plt.subplots(figsize=fig_dims)\n",
    "sb_plot = sb.distplot(users_info_all.query('tariff_name==\"smart\"')['sum_mb'])\n",
    "fig = sb_plot.get_figure()\n",
    "sb_plot = sb.kdeplot(users_info_all.query('tariff_name==\"smart\"')['sum_mb'], shade=True)\n",
    "fig = sb_plot.get_figure()\n",
    "sb_plot.set(xlabel='Объем интернет трафика в месяц, мб.', ylabel='Плотность частоты', title='Распределение дительности интернет трафика в месяц на тарифе Смарт') \n",
    "plt.legend([],[], frameon=False)\n",
    "plt.show()\n",
    "\n",
    "\n",
    "fig_dims = (15, 6)\n",
    "fig, ax = plt.subplots(figsize=fig_dims)\n",
    "sb_plot = sb.distplot(users_info_all.query('tariff_name==\"ultra\"')['sum_mb'])\n",
    "fig = sb_plot.get_figure()\n",
    "sb_plot = sb.kdeplot(users_info_all.query('tariff_name==\"ultra\"')['sum_mb'], shade=True)\n",
    "fig = sb_plot.get_figure()\n",
    "sb_plot.set(xlabel='Объем интернет трафика в месяц, мб.', ylabel='Плотность частоты', title='Распределение дительности интернет трафика в месяц на тарифе Ультра') \n",
    "plt.legend([],[], frameon=False)\n",
    "plt.show()\n",
    "\n",
    "\n"
   ]
  },
  {
   "cell_type": "markdown",
   "metadata": {},
   "source": [
    "На тарифе Смарт месячное распределение интернет трафика похоже на нормальное, пик около нуля минут связан с нашим предположением о пропусках. Значения распределены вокруг среднего (около 14.8 Гб/мес) с дисперсией 51.24 Гб и стандартным отклонением 7.2 Гб.\n",
    "Распределение слегка ассиметрично с положительной скошенностью. \n",
    "\n",
    "На тарифе Ультра месячное распределение интернет трафика также похоже на нормальное. Значения распределены вокруг среднего (17.9 Гб/мес) с дисперсией 120.67 Гб и стандартным отклонением 11 Гб.\n",
    "Распределение ассиметрично с положительной скошенностью. Дисперсия значений значительно выросла, по сравнению с тарифом Смарт, (более чем в 2 раза), среднее выше на 3,1 Гб.\n"
   ]
  },
  {
   "cell_type": "markdown",
   "metadata": {},
   "source": [
    "### Вывод\n",
    "\n",
    "* Распределения всех графиков похоже на нормальное, не считая пиков около 0. Распределение сообщений ближе к распр. Пуассона;\n",
    "* все графики скошены в положительную сторону;\n",
    "* средние значения заметно выше на тарифе Ультра на всех гистограммах;\n",
    "* разброс значений меньше на тарифе Смарт на всех гистограммах."
   ]
  },
  {
   "cell_type": "markdown",
   "metadata": {},
   "source": [
    "<a id=\"research\"></a>\n",
    "## 4. Проверка гипотез"
   ]
  },
  {
   "cell_type": "markdown",
   "metadata": {},
   "source": [
    "<a id=\"ans1\"></a>\n",
    "### 4.1 Средняя выручка пользователей тарифов «Ультра» и «Смарт» различаются"
   ]
  },
  {
   "cell_type": "markdown",
   "metadata": {},
   "source": [
    "Посчитаем среднюю месячную выручку от пользователя на разных тарифах в выборке"
   ]
  },
  {
   "cell_type": "code",
   "execution_count": 20,
   "metadata": {},
   "outputs": [
    {
     "name": "stdout",
     "output_type": "stream",
     "text": [
      "Средняя месячная выручка от пользователя на тарифе «Смарт»: 1231.53811289658\n",
      "Средняя месячная выручка от пользователя на тарифе «Ультра»: 2062.934362934363\n"
     ]
    },
    {
     "data": {
      "text/plain": [
       "831.3962500377829"
      ]
     },
     "execution_count": 20,
     "metadata": {},
     "output_type": "execute_result"
    }
   ],
   "source": [
    "print('Средняя месячная выручка от пользователя на тарифе «Смарт»:', users_info_all.query('tariff_name==\"smart\"')['revenue'].mean())\n",
    "print('Средняя месячная выручка от пользователя на тарифе «Ультра»:', users_info_all.query('tariff_name==\"ultra\"')['revenue'].mean())\n",
    "\n",
    "# Разница между ними велика:\n",
    "different_rev = users_info_all.query('tariff_name==\"ultra\"')['revenue'].abs().mean() - users_info_all.query('tariff_name==\"smart\"')['revenue'].mean()\n",
    "different_rev"
   ]
  },
  {
   "cell_type": "markdown",
   "metadata": {},
   "source": [
    "Выборочные средние по выручке очень значительно различаются на разных тарифах в выборке.\n",
    "\n",
    "Сформулируем 0-гипотезу:\n",
    "Средняя выручка пользователей тарифов «Ультра» и «Смарт» генеральной совокупности равны\n",
    "\n",
    "Сформулируем N-гипотезу:\n",
    "Средняя выручка пользователей тарифов «Ультра» и «Смарт» генеральной совокупности различаются"
   ]
  },
  {
   "cell_type": "code",
   "execution_count": 24,
   "metadata": {
    "scrolled": false
   },
   "outputs": [
    {
     "name": "stdout",
     "output_type": "stream",
     "text": [
      "668669.4811313096\n",
      "128407.41984220248\n",
      "p-значение: 4.929884919808995e-307\n",
      "Отвергаем нулевую гипотезу\n"
     ]
    }
   ],
   "source": [
    "revenue_smart = users_info_all.query('tariff_name==\"smart\"')['revenue']\n",
    "revenue_ultra = users_info_all.query('tariff_name==\"ultra\"')['revenue']\n",
    "\n",
    "# print(revenue_smart.var())\n",
    "# print(revenue_ultra.var())\n",
    "\n",
    "alpha = 0.05\n",
    "\n",
    "results = st.ttest_ind(revenue_smart, revenue_ultra, equal_var = False)  \n",
    "\n",
    "print('p-значение:', results.pvalue)\n",
    "\n",
    "if results.pvalue < alpha: \n",
    "    print(\"Отвергаем нулевую гипотезу\")\n",
    "else:\n",
    "    print(\"Не получилось отвергнуть нулевую гипотезу\")"
   ]
  },
  {
   "cell_type": "markdown",
   "metadata": {},
   "source": [
    "Средняя выручка пользователей тарифов «Ультра» и «Смарт» однозначно различается."
   ]
  },
  {
   "cell_type": "markdown",
   "metadata": {},
   "source": [
    "<a id=\"ans2\"></a>\n",
    "### 4.2 Средняя выручка пользователей из Москвы отличается от выручки пользователей из других регионов"
   ]
  },
  {
   "cell_type": "markdown",
   "metadata": {},
   "source": [
    "Посчитаем среднюю месячную выручку от пользователя по разным регионам в выборке"
   ]
  },
  {
   "cell_type": "code",
   "execution_count": 25,
   "metadata": {},
   "outputs": [
    {
     "name": "stdout",
     "output_type": "stream",
     "text": [
      "Средняя месячная выручка от пользователя в Москве: 1496.3046757164404\n",
      "Средняя месячная выручка от пользователя в других регионах: 1476.4617857142857\n",
      "598746.456881428\n",
      "664660.53658845\n"
     ]
    },
    {
     "data": {
      "text/plain": [
       "19.842890002154718"
      ]
     },
     "execution_count": 25,
     "metadata": {},
     "output_type": "execute_result"
    }
   ],
   "source": [
    "print('Средняя месячная выручка от пользователя в Москве:', users_info_all.query('city==\"Москва\"')['revenue'].mean())\n",
    "print('Средняя месячная выручка от пользователя в других регионах:', users_info_all.query('city!=\"Москва\"')['revenue'].mean())\n",
    "\n",
    "# Разница между ними велика:\n",
    "different_rev_reg =users_info_all.query('city==\"Москва\"')['revenue'].mean() - users_info_all.query('city!=\"Москва\"')['revenue'].mean()\n",
    "different_rev_reg"
   ]
  },
  {
   "cell_type": "markdown",
   "metadata": {},
   "source": [
    "Выборочные средние по выручке различаются в разных регионах и мск на около 1,5%.\n",
    "\n",
    "Сформулируем 0-гипотезу:\n",
    "Средняя выручка пользователей из Москвы и пользователей других регионов генеральной совокупности равны.\n",
    "\n",
    "Сформулируем N-гипотезу:\n",
    "Средняя выручка пользователей из Москвы и пользователей других регионов генеральной совокупности различаются."
   ]
  },
  {
   "cell_type": "code",
   "execution_count": 28,
   "metadata": {
    "scrolled": false
   },
   "outputs": [
    {
     "name": "stdout",
     "output_type": "stream",
     "text": [
      "598746.456881428\n",
      "664660.53658845\n",
      "p-значение: 4.929884919808995e-307\n",
      "Отвергаем нулевую гипотезу\n"
     ]
    }
   ],
   "source": [
    "revenue_msk = users_info_all.query('city==\"Москва\"')['revenue']\n",
    "revenue_no_msk = users_info_all.query('city!=\"Москва\"')['revenue']\n",
    "\n",
    "# print(revenue_msk.var())\n",
    "# print(revenue_no_msk.var())\n",
    "\n",
    "alpha = 0.01\n",
    "\n",
    "results = st.ttest_ind(revenue_smart, revenue_ultra, equal_var = False)  \n",
    "\n",
    "print('p-значение:', results.pvalue)\n",
    "\n",
    "if results.pvalue < alpha: \n",
    "    print(\"Отвергаем нулевую гипотезу\")\n",
    "else:\n",
    "    print(\"Не получилось отвергнуть нулевую гипотезу\")"
   ]
  },
  {
   "cell_type": "markdown",
   "metadata": {},
   "source": [
    "Средняя выручка пользователей из Москвы и пользователей других регионов генеральной совокупности однозначно различаются."
   ]
  },
  {
   "cell_type": "markdown",
   "metadata": {},
   "source": [
    "<a id=\"summary\"></a>\n",
    "## 5. Общий вывод"
   ]
  },
  {
   "cell_type": "markdown",
   "metadata": {},
   "source": [
    "Были открыты и изучены данные о поведении клиентов камании \"Мегалайн\" за 2018 год.\n",
    "\n",
    "* Проведена предобработка данных, часть пропусков было заполнена исходя из логики данных.<br>\n",
    "* Типы полей были изменены в соответствии с данными в них и исходя из целей экономии памяти.<br>\n",
    "* Таблицы были объединены методом merge и сгруппированы по месяцам для последуюющего анализа выборки.<br>\n",
    "* В сгруппированный датафрэйм было добавлено поле с расчетом выручки от пользователя.\n",
    "\n",
    "Была проведеан описательная статистика данных:\n",
    "\n",
    "* Описано поведение клиентов оператора с точки зрения требуемой длительности звонков, количества сообщений, а также интернет трафика в месяц.\n",
    "* Посчитаны средние, дисперсии и стандартные отклонения этих характеристик\n",
    "* Построены плотностные гистограммы.\n",
    "* Сделаны выводы о распределениях:\n",
    "\n",
    "Распределения всех графиков похоже на нормальное, не считая пиков около 0. Распределение сообщений ближе к распр. Пуассона;<br>\n",
    "Все графики скошены в положительную сторону;<br>\n",
    "Средние значения заметно выше на тарифе Ультра на всех гистограммах;<br>\n",
    "Разброс значений меньше на тарифе Смарт на всех гистограммах.\n",
    "\n",
    "\n",
    "Проверены следующие гипотезы:\n",
    "* Средняя выручка пользователей тарифов «Ультра» и «Смарт» различаются\n",
    "Гипотеза не отвергнута.\n",
    "* Средняя выручка пользователей из Москвы отличается от выручки пользователей из других регионов\n",
    "Гипотеза не отвергнута.\n",
    "\n",
    "Вывод: Тариф \"Ультра\" в среднем перспективнее, чем тариф \"Смарт\".\n",
    "\n",
    "\n",
    "\n",
    "\n",
    "\n",
    "\n",
    "\n",
    "\n",
    "\n",
    "\n",
    "\n",
    "\n",
    "\n"
   ]
  }
 ],
 "metadata": {
  "ExecuteTimeLog": [
   {
    "duration": 1261,
    "start_time": "2021-12-07T07:19:38.960Z"
   },
   {
    "duration": 302,
    "start_time": "2021-12-07T07:19:40.223Z"
   },
   {
    "duration": 5,
    "start_time": "2021-12-07T07:19:40.529Z"
   },
   {
    "duration": 9478,
    "start_time": "2021-12-07T07:19:40.535Z"
   },
   {
    "duration": -548,
    "start_time": "2021-12-07T07:19:50.565Z"
   },
   {
    "duration": -549,
    "start_time": "2021-12-07T07:19:50.567Z"
   },
   {
    "duration": -555,
    "start_time": "2021-12-07T07:19:50.574Z"
   },
   {
    "duration": -557,
    "start_time": "2021-12-07T07:19:50.577Z"
   },
   {
    "duration": -559,
    "start_time": "2021-12-07T07:19:50.580Z"
   },
   {
    "duration": -563,
    "start_time": "2021-12-07T07:19:50.585Z"
   },
   {
    "duration": -564,
    "start_time": "2021-12-07T07:19:50.587Z"
   },
   {
    "duration": -567,
    "start_time": "2021-12-07T07:19:50.591Z"
   },
   {
    "duration": -568,
    "start_time": "2021-12-07T07:19:50.593Z"
   },
   {
    "duration": -569,
    "start_time": "2021-12-07T07:19:50.595Z"
   },
   {
    "duration": -569,
    "start_time": "2021-12-07T07:19:50.596Z"
   },
   {
    "duration": -572,
    "start_time": "2021-12-07T07:19:50.600Z"
   },
   {
    "duration": -572,
    "start_time": "2021-12-07T07:19:50.602Z"
   },
   {
    "duration": -573,
    "start_time": "2021-12-07T07:19:50.604Z"
   },
   {
    "duration": -580,
    "start_time": "2021-12-07T07:19:50.612Z"
   },
   {
    "duration": -583,
    "start_time": "2021-12-07T07:19:50.616Z"
   },
   {
    "duration": -584,
    "start_time": "2021-12-07T07:19:50.618Z"
   },
   {
    "duration": -585,
    "start_time": "2021-12-07T07:19:50.621Z"
   },
   {
    "duration": -586,
    "start_time": "2021-12-07T07:19:50.623Z"
   },
   {
    "duration": -587,
    "start_time": "2021-12-07T07:19:50.625Z"
   },
   {
    "duration": -588,
    "start_time": "2021-12-07T07:19:50.627Z"
   },
   {
    "duration": -589,
    "start_time": "2021-12-07T07:19:50.629Z"
   },
   {
    "duration": -590,
    "start_time": "2021-12-07T07:19:50.631Z"
   },
   {
    "duration": -592,
    "start_time": "2021-12-07T07:19:50.634Z"
   },
   {
    "duration": -593,
    "start_time": "2021-12-07T07:19:50.636Z"
   },
   {
    "duration": -594,
    "start_time": "2021-12-07T07:19:50.638Z"
   },
   {
    "duration": -595,
    "start_time": "2021-12-07T07:19:50.640Z"
   },
   {
    "duration": -596,
    "start_time": "2021-12-07T07:19:50.642Z"
   },
   {
    "duration": -597,
    "start_time": "2021-12-07T07:19:50.644Z"
   },
   {
    "duration": -598,
    "start_time": "2021-12-07T07:19:50.646Z"
   },
   {
    "duration": -605,
    "start_time": "2021-12-07T07:19:50.654Z"
   },
   {
    "duration": -607,
    "start_time": "2021-12-07T07:19:50.657Z"
   },
   {
    "duration": -607,
    "start_time": "2021-12-07T07:19:50.658Z"
   },
   {
    "duration": -609,
    "start_time": "2021-12-07T07:19:50.661Z"
   },
   {
    "duration": 1115,
    "start_time": "2021-12-07T07:30:09.697Z"
   },
   {
    "duration": 1522,
    "start_time": "2021-12-07T07:30:10.814Z"
   },
   {
    "duration": -650,
    "start_time": "2021-12-07T07:30:12.991Z"
   },
   {
    "duration": -656,
    "start_time": "2021-12-07T07:30:12.998Z"
   },
   {
    "duration": -661,
    "start_time": "2021-12-07T07:30:13.004Z"
   },
   {
    "duration": -667,
    "start_time": "2021-12-07T07:30:13.011Z"
   },
   {
    "duration": -672,
    "start_time": "2021-12-07T07:30:13.017Z"
   },
   {
    "duration": -675,
    "start_time": "2021-12-07T07:30:13.021Z"
   },
   {
    "duration": -680,
    "start_time": "2021-12-07T07:30:13.027Z"
   },
   {
    "duration": -687,
    "start_time": "2021-12-07T07:30:13.035Z"
   },
   {
    "duration": -688,
    "start_time": "2021-12-07T07:30:13.037Z"
   },
   {
    "duration": -689,
    "start_time": "2021-12-07T07:30:13.039Z"
   },
   {
    "duration": -691,
    "start_time": "2021-12-07T07:30:13.042Z"
   },
   {
    "duration": -693,
    "start_time": "2021-12-07T07:30:13.045Z"
   },
   {
    "duration": -693,
    "start_time": "2021-12-07T07:30:13.047Z"
   },
   {
    "duration": -695,
    "start_time": "2021-12-07T07:30:13.050Z"
   },
   {
    "duration": -696,
    "start_time": "2021-12-07T07:30:13.052Z"
   },
   {
    "duration": -697,
    "start_time": "2021-12-07T07:30:13.054Z"
   },
   {
    "duration": -698,
    "start_time": "2021-12-07T07:30:13.056Z"
   },
   {
    "duration": -700,
    "start_time": "2021-12-07T07:30:13.059Z"
   },
   {
    "duration": -700,
    "start_time": "2021-12-07T07:30:13.061Z"
   },
   {
    "duration": -711,
    "start_time": "2021-12-07T07:30:13.073Z"
   },
   {
    "duration": -713,
    "start_time": "2021-12-07T07:30:13.076Z"
   },
   {
    "duration": -719,
    "start_time": "2021-12-07T07:30:13.083Z"
   },
   {
    "duration": -724,
    "start_time": "2021-12-07T07:30:13.089Z"
   },
   {
    "duration": -730,
    "start_time": "2021-12-07T07:30:13.096Z"
   },
   {
    "duration": -735,
    "start_time": "2021-12-07T07:30:13.102Z"
   },
   {
    "duration": -741,
    "start_time": "2021-12-07T07:30:13.109Z"
   },
   {
    "duration": -746,
    "start_time": "2021-12-07T07:30:13.115Z"
   },
   {
    "duration": -753,
    "start_time": "2021-12-07T07:30:13.122Z"
   },
   {
    "duration": -754,
    "start_time": "2021-12-07T07:30:13.124Z"
   },
   {
    "duration": -759,
    "start_time": "2021-12-07T07:30:13.130Z"
   },
   {
    "duration": -765,
    "start_time": "2021-12-07T07:30:13.137Z"
   },
   {
    "duration": -770,
    "start_time": "2021-12-07T07:30:13.143Z"
   },
   {
    "duration": -775,
    "start_time": "2021-12-07T07:30:13.149Z"
   },
   {
    "duration": -781,
    "start_time": "2021-12-07T07:30:13.156Z"
   },
   {
    "duration": -782,
    "start_time": "2021-12-07T07:30:13.158Z"
   },
   {
    "duration": -788,
    "start_time": "2021-12-07T07:30:13.165Z"
   },
   {
    "duration": 1866,
    "start_time": "2021-12-07T07:30:34.184Z"
   },
   {
    "duration": 159,
    "start_time": "2021-12-07T07:31:39.315Z"
   },
   {
    "duration": 1050,
    "start_time": "2021-12-07T07:31:53.448Z"
   },
   {
    "duration": 159,
    "start_time": "2021-12-07T07:31:54.500Z"
   },
   {
    "duration": 9,
    "start_time": "2021-12-07T07:31:54.660Z"
   },
   {
    "duration": 37,
    "start_time": "2021-12-07T07:31:54.670Z"
   },
   {
    "duration": 37,
    "start_time": "2021-12-07T07:31:54.709Z"
   },
   {
    "duration": 14,
    "start_time": "2021-12-07T07:31:54.748Z"
   },
   {
    "duration": 38,
    "start_time": "2021-12-07T07:31:54.764Z"
   },
   {
    "duration": 16,
    "start_time": "2021-12-07T07:31:54.805Z"
   },
   {
    "duration": 13,
    "start_time": "2021-12-07T07:31:54.823Z"
   },
   {
    "duration": 744,
    "start_time": "2021-12-07T07:31:54.837Z"
   },
   {
    "duration": 1208,
    "start_time": "2021-12-07T07:31:55.583Z"
   },
   {
    "duration": 276,
    "start_time": "2021-12-07T07:31:56.793Z"
   },
   {
    "duration": 738,
    "start_time": "2021-12-07T07:31:57.071Z"
   },
   {
    "duration": 1192,
    "start_time": "2021-12-07T07:31:57.810Z"
   },
   {
    "duration": 16,
    "start_time": "2021-12-07T07:31:59.004Z"
   },
   {
    "duration": 2796,
    "start_time": "2021-12-07T07:31:59.021Z"
   },
   {
    "duration": 557,
    "start_time": "2021-12-07T07:32:01.819Z"
   },
   {
    "duration": 520,
    "start_time": "2021-12-07T07:32:02.378Z"
   },
   {
    "duration": 492,
    "start_time": "2021-12-07T07:32:02.900Z"
   },
   {
    "duration": 22,
    "start_time": "2021-12-07T07:32:03.394Z"
   },
   {
    "duration": 652,
    "start_time": "2021-12-07T07:32:03.417Z"
   },
   {
    "duration": 522,
    "start_time": "2021-12-07T07:32:04.071Z"
   },
   {
    "duration": 493,
    "start_time": "2021-12-07T07:32:04.596Z"
   },
   {
    "duration": 17,
    "start_time": "2021-12-07T07:32:05.092Z"
   },
   {
    "duration": 232,
    "start_time": "2021-12-07T07:32:05.111Z"
   },
   {
    "duration": 7,
    "start_time": "2021-12-07T07:32:05.345Z"
   },
   {
    "duration": 515,
    "start_time": "2021-12-07T07:32:05.354Z"
   },
   {
    "duration": 7,
    "start_time": "2021-12-07T07:32:05.871Z"
   },
   {
    "duration": 475,
    "start_time": "2021-12-07T07:32:05.879Z"
   },
   {
    "duration": 470,
    "start_time": "2021-12-07T07:32:06.356Z"
   },
   {
    "duration": 341,
    "start_time": "2021-12-07T07:32:06.827Z"
   },
   {
    "duration": 589,
    "start_time": "2021-12-07T07:32:07.170Z"
   },
   {
    "duration": 458,
    "start_time": "2021-12-07T07:32:07.761Z"
   },
   {
    "duration": 422,
    "start_time": "2021-12-07T07:32:08.220Z"
   },
   {
    "duration": 19,
    "start_time": "2021-12-07T07:32:08.643Z"
   },
   {
    "duration": 447,
    "start_time": "2021-12-07T07:32:08.664Z"
   },
   {
    "duration": 427,
    "start_time": "2021-12-07T07:32:09.113Z"
   },
   {
    "duration": 413,
    "start_time": "2021-12-07T07:32:09.542Z"
   },
   {
    "duration": 476,
    "start_time": "2021-12-07T07:32:12.067Z"
   },
   {
    "duration": 1157,
    "start_time": "2021-12-07T07:37:51.488Z"
   },
   {
    "duration": 179,
    "start_time": "2021-12-07T07:37:52.647Z"
   },
   {
    "duration": 10,
    "start_time": "2021-12-07T07:37:52.829Z"
   },
   {
    "duration": 49,
    "start_time": "2021-12-07T07:37:52.841Z"
   },
   {
    "duration": 40,
    "start_time": "2021-12-07T07:37:52.892Z"
   },
   {
    "duration": 19,
    "start_time": "2021-12-07T07:37:52.934Z"
   },
   {
    "duration": 41,
    "start_time": "2021-12-07T07:37:52.955Z"
   },
   {
    "duration": 36,
    "start_time": "2021-12-07T07:37:52.999Z"
   },
   {
    "duration": 35,
    "start_time": "2021-12-07T07:37:53.038Z"
   },
   {
    "duration": 723,
    "start_time": "2021-12-07T07:37:53.075Z"
   },
   {
    "duration": 1148,
    "start_time": "2021-12-07T07:37:53.800Z"
   },
   {
    "duration": 256,
    "start_time": "2021-12-07T07:37:54.950Z"
   },
   {
    "duration": 719,
    "start_time": "2021-12-07T07:37:55.209Z"
   },
   {
    "duration": 1157,
    "start_time": "2021-12-07T07:37:55.930Z"
   },
   {
    "duration": 19,
    "start_time": "2021-12-07T07:37:57.089Z"
   },
   {
    "duration": 2741,
    "start_time": "2021-12-07T07:37:57.110Z"
   },
   {
    "duration": 544,
    "start_time": "2021-12-07T07:37:59.852Z"
   },
   {
    "duration": 578,
    "start_time": "2021-12-07T07:38:00.398Z"
   },
   {
    "duration": 551,
    "start_time": "2021-12-07T07:38:00.978Z"
   },
   {
    "duration": 36,
    "start_time": "2021-12-07T07:38:01.531Z"
   },
   {
    "duration": 702,
    "start_time": "2021-12-07T07:38:01.569Z"
   },
   {
    "duration": 536,
    "start_time": "2021-12-07T07:38:02.274Z"
   },
   {
    "duration": 543,
    "start_time": "2021-12-07T07:38:02.813Z"
   },
   {
    "duration": 21,
    "start_time": "2021-12-07T07:38:03.363Z"
   },
   {
    "duration": 238,
    "start_time": "2021-12-07T07:38:03.387Z"
   },
   {
    "duration": 8,
    "start_time": "2021-12-07T07:38:03.627Z"
   },
   {
    "duration": 484,
    "start_time": "2021-12-07T07:38:03.637Z"
   },
   {
    "duration": 7,
    "start_time": "2021-12-07T07:38:04.123Z"
   },
   {
    "duration": 478,
    "start_time": "2021-12-07T07:38:04.132Z"
   },
   {
    "duration": 574,
    "start_time": "2021-12-07T07:38:04.612Z"
   },
   {
    "duration": 351,
    "start_time": "2021-12-07T07:38:05.188Z"
   },
   {
    "duration": 608,
    "start_time": "2021-12-07T07:38:05.542Z"
   },
   {
    "duration": 458,
    "start_time": "2021-12-07T07:38:06.151Z"
   },
   {
    "duration": 441,
    "start_time": "2021-12-07T07:38:06.611Z"
   },
   {
    "duration": 27,
    "start_time": "2021-12-07T07:38:07.054Z"
   },
   {
    "duration": 430,
    "start_time": "2021-12-07T07:38:07.083Z"
   },
   {
    "duration": 427,
    "start_time": "2021-12-07T07:38:07.515Z"
   },
   {
    "duration": 456,
    "start_time": "2021-12-07T07:38:07.944Z"
   },
   {
    "duration": 498,
    "start_time": "2021-12-07T11:42:04.805Z"
   },
   {
    "duration": 1428,
    "start_time": "2021-12-07T11:42:24.612Z"
   },
   {
    "duration": 5,
    "start_time": "2021-12-07T11:42:34.348Z"
   },
   {
    "duration": 219,
    "start_time": "2021-12-07T11:42:36.301Z"
   },
   {
    "duration": 45,
    "start_time": "2021-12-07T11:55:13.300Z"
   },
   {
    "duration": 33,
    "start_time": "2021-12-07T12:00:20.989Z"
   },
   {
    "duration": 1582,
    "start_time": "2021-12-07T12:01:27.558Z"
   },
   {
    "duration": 235,
    "start_time": "2021-12-07T12:01:29.143Z"
   },
   {
    "duration": 11,
    "start_time": "2021-12-07T12:01:29.384Z"
   },
   {
    "duration": 62,
    "start_time": "2021-12-07T12:01:29.397Z"
   },
   {
    "duration": 540,
    "start_time": "2021-12-07T12:01:29.462Z"
   },
   {
    "duration": 328,
    "start_time": "2021-12-07T12:01:29.678Z"
   },
   {
    "duration": 325,
    "start_time": "2021-12-07T12:01:29.682Z"
   },
   {
    "duration": 324,
    "start_time": "2021-12-07T12:01:29.685Z"
   },
   {
    "duration": 323,
    "start_time": "2021-12-07T12:01:29.689Z"
   },
   {
    "duration": 320,
    "start_time": "2021-12-07T12:01:29.693Z"
   },
   {
    "duration": 318,
    "start_time": "2021-12-07T12:01:29.697Z"
   },
   {
    "duration": 315,
    "start_time": "2021-12-07T12:01:29.702Z"
   },
   {
    "duration": 315,
    "start_time": "2021-12-07T12:01:29.704Z"
   },
   {
    "duration": 314,
    "start_time": "2021-12-07T12:01:29.707Z"
   },
   {
    "duration": 304,
    "start_time": "2021-12-07T12:01:29.718Z"
   },
   {
    "duration": 303,
    "start_time": "2021-12-07T12:01:29.721Z"
   },
   {
    "duration": 301,
    "start_time": "2021-12-07T12:01:29.724Z"
   },
   {
    "duration": 300,
    "start_time": "2021-12-07T12:01:29.727Z"
   },
   {
    "duration": 298,
    "start_time": "2021-12-07T12:01:29.730Z"
   },
   {
    "duration": 297,
    "start_time": "2021-12-07T12:01:29.732Z"
   },
   {
    "duration": 293,
    "start_time": "2021-12-07T12:01:29.737Z"
   },
   {
    "duration": 293,
    "start_time": "2021-12-07T12:01:29.739Z"
   },
   {
    "duration": 292,
    "start_time": "2021-12-07T12:01:29.742Z"
   },
   {
    "duration": 292,
    "start_time": "2021-12-07T12:01:29.744Z"
   },
   {
    "duration": 291,
    "start_time": "2021-12-07T12:01:29.746Z"
   },
   {
    "duration": 291,
    "start_time": "2021-12-07T12:01:29.748Z"
   },
   {
    "duration": 290,
    "start_time": "2021-12-07T12:01:29.751Z"
   },
   {
    "duration": 305,
    "start_time": "2021-12-07T12:01:29.754Z"
   },
   {
    "duration": 305,
    "start_time": "2021-12-07T12:01:29.757Z"
   },
   {
    "duration": 300,
    "start_time": "2021-12-07T12:01:29.764Z"
   },
   {
    "duration": 299,
    "start_time": "2021-12-07T12:01:29.767Z"
   },
   {
    "duration": 299,
    "start_time": "2021-12-07T12:01:29.769Z"
   },
   {
    "duration": 301,
    "start_time": "2021-12-07T12:01:29.771Z"
   },
   {
    "duration": 300,
    "start_time": "2021-12-07T12:01:29.774Z"
   },
   {
    "duration": 300,
    "start_time": "2021-12-07T12:01:29.776Z"
   },
   {
    "duration": 299,
    "start_time": "2021-12-07T12:01:29.778Z"
   },
   {
    "duration": 291,
    "start_time": "2021-12-07T12:01:29.788Z"
   },
   {
    "duration": 285,
    "start_time": "2021-12-07T12:01:29.795Z"
   },
   {
    "duration": 54,
    "start_time": "2021-12-07T12:02:45.274Z"
   },
   {
    "duration": 35,
    "start_time": "2021-12-07T12:03:06.193Z"
   },
   {
    "duration": 433,
    "start_time": "2021-12-07T12:04:15.859Z"
   },
   {
    "duration": 2099,
    "start_time": "2021-12-07T12:04:40.139Z"
   },
   {
    "duration": 1691,
    "start_time": "2021-12-07T12:04:51.540Z"
   },
   {
    "duration": 396,
    "start_time": "2021-12-07T12:06:48.518Z"
   },
   {
    "duration": 400,
    "start_time": "2021-12-07T12:07:41.913Z"
   },
   {
    "duration": 385,
    "start_time": "2021-12-07T12:07:46.648Z"
   },
   {
    "duration": 403,
    "start_time": "2021-12-07T12:08:04.688Z"
   },
   {
    "duration": 33,
    "start_time": "2021-12-07T12:08:24.489Z"
   },
   {
    "duration": 1505,
    "start_time": "2021-12-07T12:08:56.545Z"
   },
   {
    "duration": 214,
    "start_time": "2021-12-07T12:08:58.053Z"
   },
   {
    "duration": 11,
    "start_time": "2021-12-07T12:08:58.270Z"
   },
   {
    "duration": 37,
    "start_time": "2021-12-07T12:08:58.285Z"
   },
   {
    "duration": 79,
    "start_time": "2021-12-07T12:08:58.325Z"
   },
   {
    "duration": 6,
    "start_time": "2021-12-07T12:08:58.408Z"
   },
   {
    "duration": 48,
    "start_time": "2021-12-07T12:08:58.417Z"
   },
   {
    "duration": 25,
    "start_time": "2021-12-07T12:08:58.470Z"
   },
   {
    "duration": 7,
    "start_time": "2021-12-07T12:08:58.498Z"
   },
   {
    "duration": 1235,
    "start_time": "2021-12-07T12:08:58.508Z"
   },
   {
    "duration": 2022,
    "start_time": "2021-12-07T12:08:59.747Z"
   },
   {
    "duration": 406,
    "start_time": "2021-12-07T12:09:01.771Z"
   },
   {
    "duration": 1472,
    "start_time": "2021-12-07T12:09:02.179Z"
   },
   {
    "duration": 1926,
    "start_time": "2021-12-07T12:09:03.658Z"
   },
   {
    "duration": 27,
    "start_time": "2021-12-07T12:09:05.586Z"
   },
   {
    "duration": 4536,
    "start_time": "2021-12-07T12:09:05.616Z"
   },
   {
    "duration": 821,
    "start_time": "2021-12-07T12:09:10.155Z"
   },
   {
    "duration": 806,
    "start_time": "2021-12-07T12:09:10.979Z"
   },
   {
    "duration": 755,
    "start_time": "2021-12-07T12:09:11.788Z"
   },
   {
    "duration": 48,
    "start_time": "2021-12-07T12:09:12.547Z"
   },
   {
    "duration": 1220,
    "start_time": "2021-12-07T12:09:12.598Z"
   },
   {
    "duration": 772,
    "start_time": "2021-12-07T12:09:13.821Z"
   },
   {
    "duration": 800,
    "start_time": "2021-12-07T12:09:14.598Z"
   },
   {
    "duration": 29,
    "start_time": "2021-12-07T12:09:15.401Z"
   },
   {
    "duration": 382,
    "start_time": "2021-12-07T12:09:15.432Z"
   },
   {
    "duration": 10,
    "start_time": "2021-12-07T12:09:15.816Z"
   },
   {
    "duration": 845,
    "start_time": "2021-12-07T12:09:15.828Z"
   },
   {
    "duration": 10,
    "start_time": "2021-12-07T12:09:16.676Z"
   },
   {
    "duration": 1070,
    "start_time": "2021-12-07T12:09:16.689Z"
   },
   {
    "duration": 908,
    "start_time": "2021-12-07T12:09:17.762Z"
   },
   {
    "duration": 576,
    "start_time": "2021-12-07T12:09:18.672Z"
   },
   {
    "duration": 899,
    "start_time": "2021-12-07T12:09:19.250Z"
   },
   {
    "duration": 670,
    "start_time": "2021-12-07T12:09:20.160Z"
   },
   {
    "duration": 710,
    "start_time": "2021-12-07T12:09:20.833Z"
   },
   {
    "duration": 42,
    "start_time": "2021-12-07T12:09:21.546Z"
   },
   {
    "duration": 656,
    "start_time": "2021-12-07T12:09:21.591Z"
   },
   {
    "duration": 602,
    "start_time": "2021-12-07T12:09:22.251Z"
   },
   {
    "duration": 604,
    "start_time": "2021-12-07T12:09:22.860Z"
   },
   {
    "duration": 1777,
    "start_time": "2021-12-07T12:17:59.875Z"
   },
   {
    "duration": 2778,
    "start_time": "2021-12-07T12:19:04.340Z"
   },
   {
    "duration": 2414,
    "start_time": "2021-12-07T12:20:10.093Z"
   },
   {
    "duration": 649,
    "start_time": "2021-12-07T12:20:21.177Z"
   },
   {
    "duration": 1482,
    "start_time": "2021-12-07T12:26:04.901Z"
   },
   {
    "duration": 546,
    "start_time": "2021-12-07T12:26:10.726Z"
   },
   {
    "duration": 2321,
    "start_time": "2021-12-07T12:26:34.822Z"
   },
   {
    "duration": 2296,
    "start_time": "2021-12-07T12:27:32.664Z"
   },
   {
    "duration": 235,
    "start_time": "2021-12-07T12:30:41.298Z"
   },
   {
    "duration": 295,
    "start_time": "2021-12-07T12:31:37.718Z"
   },
   {
    "duration": 1563,
    "start_time": "2021-12-07T12:36:15.910Z"
   },
   {
    "duration": 226,
    "start_time": "2021-12-07T12:36:17.475Z"
   },
   {
    "duration": 10,
    "start_time": "2021-12-07T12:36:17.704Z"
   },
   {
    "duration": 45,
    "start_time": "2021-12-07T12:36:17.717Z"
   },
   {
    "duration": 48,
    "start_time": "2021-12-07T12:36:17.764Z"
   },
   {
    "duration": 5,
    "start_time": "2021-12-07T12:36:17.814Z"
   },
   {
    "duration": 29,
    "start_time": "2021-12-07T12:36:17.821Z"
   },
   {
    "duration": 28,
    "start_time": "2021-12-07T12:36:17.853Z"
   },
   {
    "duration": 7,
    "start_time": "2021-12-07T12:36:17.884Z"
   },
   {
    "duration": 1337,
    "start_time": "2021-12-07T12:36:17.893Z"
   },
   {
    "duration": 1842,
    "start_time": "2021-12-07T12:36:19.233Z"
   },
   {
    "duration": 411,
    "start_time": "2021-12-07T12:36:21.077Z"
   },
   {
    "duration": 1202,
    "start_time": "2021-12-07T12:36:21.490Z"
   },
   {
    "duration": 1885,
    "start_time": "2021-12-07T12:36:22.695Z"
   },
   {
    "duration": 28,
    "start_time": "2021-12-07T12:36:24.583Z"
   },
   {
    "duration": 4623,
    "start_time": "2021-12-07T12:36:24.614Z"
   },
   {
    "duration": 793,
    "start_time": "2021-12-07T12:36:29.239Z"
   },
   {
    "duration": 825,
    "start_time": "2021-12-07T12:36:30.035Z"
   },
   {
    "duration": 784,
    "start_time": "2021-12-07T12:36:30.862Z"
   },
   {
    "duration": 41,
    "start_time": "2021-12-07T12:36:31.648Z"
   },
   {
    "duration": 920,
    "start_time": "2021-12-07T12:36:31.692Z"
   },
   {
    "duration": 744,
    "start_time": "2021-12-07T12:36:32.615Z"
   },
   {
    "duration": 775,
    "start_time": "2021-12-07T12:36:33.366Z"
   },
   {
    "duration": 36,
    "start_time": "2021-12-07T12:36:34.144Z"
   },
   {
    "duration": 357,
    "start_time": "2021-12-07T12:36:34.183Z"
   },
   {
    "duration": 20,
    "start_time": "2021-12-07T12:36:34.543Z"
   },
   {
    "duration": 919,
    "start_time": "2021-12-07T12:36:34.566Z"
   },
   {
    "duration": 11,
    "start_time": "2021-12-07T12:36:35.488Z"
   },
   {
    "duration": 887,
    "start_time": "2021-12-07T12:36:35.501Z"
   },
   {
    "duration": 800,
    "start_time": "2021-12-07T12:36:36.390Z"
   },
   {
    "duration": 526,
    "start_time": "2021-12-07T12:36:37.193Z"
   },
   {
    "duration": 874,
    "start_time": "2021-12-07T12:36:37.722Z"
   },
   {
    "duration": 646,
    "start_time": "2021-12-07T12:36:38.599Z"
   },
   {
    "duration": 640,
    "start_time": "2021-12-07T12:36:39.247Z"
   },
   {
    "duration": 33,
    "start_time": "2021-12-07T12:36:39.889Z"
   },
   {
    "duration": 619,
    "start_time": "2021-12-07T12:36:39.925Z"
   },
   {
    "duration": 612,
    "start_time": "2021-12-07T12:36:40.547Z"
   },
   {
    "duration": 617,
    "start_time": "2021-12-07T12:36:41.161Z"
   },
   {
    "duration": 31,
    "start_time": "2021-12-07T12:38:29.196Z"
   },
   {
    "duration": 26,
    "start_time": "2021-12-07T12:38:50.835Z"
   },
   {
    "duration": 38,
    "start_time": "2021-12-07T12:39:09.244Z"
   },
   {
    "duration": 25,
    "start_time": "2021-12-07T12:39:14.468Z"
   },
   {
    "duration": 26,
    "start_time": "2021-12-07T12:39:17.524Z"
   },
   {
    "duration": 28,
    "start_time": "2021-12-07T12:39:44.460Z"
   },
   {
    "duration": 26,
    "start_time": "2021-12-07T12:40:11.973Z"
   },
   {
    "duration": 27,
    "start_time": "2021-12-07T12:40:23.189Z"
   },
   {
    "duration": 5176,
    "start_time": "2021-12-07T12:40:31.102Z"
   },
   {
    "duration": 35,
    "start_time": "2021-12-07T12:41:38.935Z"
   },
   {
    "duration": 583,
    "start_time": "2021-12-07T12:43:33.456Z"
   },
   {
    "duration": 471,
    "start_time": "2021-12-07T12:44:13.307Z"
   },
   {
    "duration": 470,
    "start_time": "2021-12-07T12:44:34.699Z"
   },
   {
    "duration": 469,
    "start_time": "2021-12-07T12:44:49.236Z"
   },
   {
    "duration": 468,
    "start_time": "2021-12-07T12:45:25.436Z"
   },
   {
    "duration": 751,
    "start_time": "2021-12-07T12:47:17.414Z"
   },
   {
    "duration": 10,
    "start_time": "2021-12-07T12:47:57.617Z"
   },
   {
    "duration": 1482,
    "start_time": "2021-12-07T12:48:08.059Z"
   },
   {
    "duration": 233,
    "start_time": "2021-12-07T12:48:09.544Z"
   },
   {
    "duration": 13,
    "start_time": "2021-12-07T12:48:09.781Z"
   },
   {
    "duration": 35,
    "start_time": "2021-12-07T12:48:09.797Z"
   },
   {
    "duration": 50,
    "start_time": "2021-12-07T12:48:09.860Z"
   },
   {
    "duration": 4,
    "start_time": "2021-12-07T12:48:09.913Z"
   },
   {
    "duration": 42,
    "start_time": "2021-12-07T12:48:09.920Z"
   },
   {
    "duration": 24,
    "start_time": "2021-12-07T12:48:09.966Z"
   },
   {
    "duration": 6,
    "start_time": "2021-12-07T12:48:09.994Z"
   },
   {
    "duration": 1177,
    "start_time": "2021-12-07T12:48:10.003Z"
   },
   {
    "duration": 1908,
    "start_time": "2021-12-07T12:48:11.183Z"
   },
   {
    "duration": 390,
    "start_time": "2021-12-07T12:48:13.094Z"
   },
   {
    "duration": 1162,
    "start_time": "2021-12-07T12:48:13.487Z"
   },
   {
    "duration": 2007,
    "start_time": "2021-12-07T12:48:14.652Z"
   },
   {
    "duration": 28,
    "start_time": "2021-12-07T12:48:16.661Z"
   },
   {
    "duration": 4970,
    "start_time": "2021-12-07T12:48:16.691Z"
   },
   {
    "duration": 906,
    "start_time": "2021-12-07T12:48:21.664Z"
   },
   {
    "duration": 837,
    "start_time": "2021-12-07T12:48:22.572Z"
   },
   {
    "duration": 774,
    "start_time": "2021-12-07T12:48:23.411Z"
   },
   {
    "duration": 421,
    "start_time": "2021-12-07T12:48:24.189Z"
   },
   {
    "duration": 971,
    "start_time": "2021-12-07T12:48:24.612Z"
   },
   {
    "duration": 897,
    "start_time": "2021-12-07T12:48:25.586Z"
   },
   {
    "duration": 996,
    "start_time": "2021-12-07T12:48:26.488Z"
   },
   {
    "duration": 28,
    "start_time": "2021-12-07T12:48:27.487Z"
   },
   {
    "duration": 547,
    "start_time": "2021-12-07T12:48:27.517Z"
   },
   {
    "duration": 12,
    "start_time": "2021-12-07T12:48:28.066Z"
   },
   {
    "duration": 790,
    "start_time": "2021-12-07T12:48:28.081Z"
   },
   {
    "duration": 11,
    "start_time": "2021-12-07T12:48:28.875Z"
   },
   {
    "duration": 773,
    "start_time": "2021-12-07T12:48:28.889Z"
   },
   {
    "duration": 820,
    "start_time": "2021-12-07T12:48:29.665Z"
   },
   {
    "duration": 652,
    "start_time": "2021-12-07T12:48:30.487Z"
   },
   {
    "duration": 756,
    "start_time": "2021-12-07T12:48:31.142Z"
   },
   {
    "duration": 724,
    "start_time": "2021-12-07T12:48:31.900Z"
   },
   {
    "duration": 732,
    "start_time": "2021-12-07T12:48:32.627Z"
   },
   {
    "duration": 30,
    "start_time": "2021-12-07T12:48:33.361Z"
   },
   {
    "duration": 703,
    "start_time": "2021-12-07T12:48:33.394Z"
   },
   {
    "duration": 786,
    "start_time": "2021-12-07T12:48:34.101Z"
   },
   {
    "duration": 674,
    "start_time": "2021-12-07T12:48:34.890Z"
   },
   {
    "duration": 160,
    "start_time": "2021-12-07T12:56:57.604Z"
   },
   {
    "duration": 459,
    "start_time": "2021-12-07T12:57:01.989Z"
   },
   {
    "duration": 459,
    "start_time": "2021-12-07T12:57:12.879Z"
   },
   {
    "duration": 1124,
    "start_time": "2021-12-07T13:17:48.514Z"
   },
   {
    "duration": 1137,
    "start_time": "2021-12-07T13:18:05.962Z"
   },
   {
    "duration": 3241,
    "start_time": "2021-12-07T13:18:59.259Z"
   },
   {
    "duration": 3138,
    "start_time": "2021-12-07T13:19:10.964Z"
   },
   {
    "duration": 3114,
    "start_time": "2021-12-07T13:19:30.973Z"
   },
   {
    "duration": 1144,
    "start_time": "2021-12-07T13:19:37.845Z"
   },
   {
    "duration": 1047,
    "start_time": "2021-12-07T13:21:32.591Z"
   },
   {
    "duration": 1043,
    "start_time": "2021-12-07T13:21:55.720Z"
   },
   {
    "duration": 1057,
    "start_time": "2021-12-07T13:22:01.544Z"
   },
   {
    "duration": 1265,
    "start_time": "2021-12-07T13:22:18.781Z"
   },
   {
    "duration": 1169,
    "start_time": "2021-12-07T13:22:31.833Z"
   },
   {
    "duration": 1046,
    "start_time": "2021-12-07T13:22:38.361Z"
   },
   {
    "duration": 1122,
    "start_time": "2021-12-07T13:22:43.185Z"
   },
   {
    "duration": 1076,
    "start_time": "2021-12-07T13:23:06.354Z"
   },
   {
    "duration": 1237,
    "start_time": "2021-12-07T13:23:22.242Z"
   },
   {
    "duration": 1041,
    "start_time": "2021-12-07T13:24:44.284Z"
   },
   {
    "duration": 2200,
    "start_time": "2021-12-07T13:24:59.948Z"
   },
   {
    "duration": 1889,
    "start_time": "2021-12-07T13:26:08.918Z"
   },
   {
    "duration": 2315,
    "start_time": "2021-12-07T13:27:13.160Z"
   },
   {
    "duration": 1883,
    "start_time": "2021-12-07T13:29:00.730Z"
   },
   {
    "duration": 2145,
    "start_time": "2021-12-07T13:29:23.138Z"
   },
   {
    "duration": 1842,
    "start_time": "2021-12-07T13:29:38.523Z"
   },
   {
    "duration": 2012,
    "start_time": "2021-12-07T13:30:23.147Z"
   },
   {
    "duration": 2020,
    "start_time": "2021-12-07T13:30:34.988Z"
   },
   {
    "duration": 1929,
    "start_time": "2021-12-07T13:30:58.269Z"
   },
   {
    "duration": 2069,
    "start_time": "2021-12-07T13:32:21.006Z"
   },
   {
    "duration": 1191,
    "start_time": "2021-12-07T13:32:30.919Z"
   },
   {
    "duration": 2056,
    "start_time": "2021-12-07T13:32:43.167Z"
   },
   {
    "duration": 2084,
    "start_time": "2021-12-07T13:33:12.800Z"
   },
   {
    "duration": 2333,
    "start_time": "2021-12-07T13:33:42.760Z"
   },
   {
    "duration": 2196,
    "start_time": "2021-12-07T13:34:07.097Z"
   },
   {
    "duration": 1968,
    "start_time": "2021-12-07T13:37:07.534Z"
   },
   {
    "duration": 2463,
    "start_time": "2021-12-07T13:37:24.846Z"
   },
   {
    "duration": 1735,
    "start_time": "2021-12-07T13:37:49.367Z"
   },
   {
    "duration": 1710,
    "start_time": "2021-12-07T13:38:00.111Z"
   },
   {
    "duration": 1903,
    "start_time": "2021-12-07T13:38:08.071Z"
   },
   {
    "duration": 1916,
    "start_time": "2021-12-07T13:40:09.977Z"
   },
   {
    "duration": 2560,
    "start_time": "2021-12-07T13:44:06.231Z"
   },
   {
    "duration": 11908,
    "start_time": "2021-12-07T13:45:50.721Z"
   },
   {
    "duration": 2842,
    "start_time": "2021-12-07T13:46:04.177Z"
   },
   {
    "duration": 2389,
    "start_time": "2021-12-07T13:47:12.595Z"
   },
   {
    "duration": 2425,
    "start_time": "2021-12-07T13:47:22.452Z"
   },
   {
    "duration": 579,
    "start_time": "2021-12-07T13:48:35.974Z"
   },
   {
    "duration": 137,
    "start_time": "2021-12-07T13:53:26.740Z"
   },
   {
    "duration": 130,
    "start_time": "2021-12-07T13:53:33.844Z"
   },
   {
    "duration": 170,
    "start_time": "2021-12-07T13:53:40.340Z"
   },
   {
    "duration": 130,
    "start_time": "2021-12-07T13:53:48.429Z"
   },
   {
    "duration": 2398,
    "start_time": "2021-12-07T13:53:56.332Z"
   },
   {
    "duration": 1410,
    "start_time": "2021-12-07T13:54:52.127Z"
   },
   {
    "duration": 1300,
    "start_time": "2021-12-07T13:55:37.967Z"
   },
   {
    "duration": 2133,
    "start_time": "2021-12-07T13:56:04.673Z"
   },
   {
    "duration": 1503,
    "start_time": "2021-12-07T13:56:14.913Z"
   },
   {
    "duration": 1454,
    "start_time": "2021-12-07T13:56:29.585Z"
   },
   {
    "duration": 1293,
    "start_time": "2021-12-07T13:56:34.480Z"
   },
   {
    "duration": 2112,
    "start_time": "2021-12-07T13:56:44.409Z"
   },
   {
    "duration": 2079,
    "start_time": "2021-12-07T13:56:55.121Z"
   },
   {
    "duration": 1343,
    "start_time": "2021-12-07T13:57:01.241Z"
   },
   {
    "duration": 1418,
    "start_time": "2021-12-07T13:57:07.016Z"
   },
   {
    "duration": 2106,
    "start_time": "2021-12-07T13:58:25.987Z"
   },
   {
    "duration": 2292,
    "start_time": "2021-12-07T13:58:39.963Z"
   },
   {
    "duration": 2109,
    "start_time": "2021-12-07T13:58:45.987Z"
   },
   {
    "duration": 2070,
    "start_time": "2021-12-07T13:58:55.908Z"
   },
   {
    "duration": 1933,
    "start_time": "2021-12-07T13:59:06.820Z"
   },
   {
    "duration": 2057,
    "start_time": "2021-12-07T13:59:25.020Z"
   },
   {
    "duration": 2040,
    "start_time": "2021-12-07T13:59:42.100Z"
   },
   {
    "duration": 2224,
    "start_time": "2021-12-07T14:02:20.057Z"
   },
   {
    "duration": 2169,
    "start_time": "2021-12-07T14:02:53.618Z"
   },
   {
    "duration": 2061,
    "start_time": "2021-12-07T14:03:02.899Z"
   },
   {
    "duration": 2041,
    "start_time": "2021-12-07T14:03:10.722Z"
   },
   {
    "duration": 1979,
    "start_time": "2021-12-07T14:03:23.939Z"
   },
   {
    "duration": 1940,
    "start_time": "2021-12-07T14:03:36.683Z"
   },
   {
    "duration": 2043,
    "start_time": "2021-12-07T14:04:04.036Z"
   },
   {
    "duration": 2177,
    "start_time": "2021-12-07T14:04:15.924Z"
   },
   {
    "duration": 2148,
    "start_time": "2021-12-07T14:05:00.397Z"
   },
   {
    "duration": 1928,
    "start_time": "2021-12-07T14:07:15.331Z"
   },
   {
    "duration": 2189,
    "start_time": "2021-12-07T14:10:20.980Z"
   },
   {
    "duration": 2244,
    "start_time": "2021-12-07T14:11:39.215Z"
   },
   {
    "duration": 1642,
    "start_time": "2021-12-07T14:12:18.675Z"
   },
   {
    "duration": 222,
    "start_time": "2021-12-07T14:12:20.320Z"
   },
   {
    "duration": 19,
    "start_time": "2021-12-07T14:12:20.546Z"
   },
   {
    "duration": 44,
    "start_time": "2021-12-07T14:12:20.568Z"
   },
   {
    "duration": 69,
    "start_time": "2021-12-07T14:12:20.614Z"
   },
   {
    "duration": 5,
    "start_time": "2021-12-07T14:12:20.685Z"
   },
   {
    "duration": 31,
    "start_time": "2021-12-07T14:12:20.692Z"
   },
   {
    "duration": 39,
    "start_time": "2021-12-07T14:12:20.727Z"
   },
   {
    "duration": 6,
    "start_time": "2021-12-07T14:12:20.769Z"
   },
   {
    "duration": 1198,
    "start_time": "2021-12-07T14:12:20.778Z"
   },
   {
    "duration": 2101,
    "start_time": "2021-12-07T14:12:21.979Z"
   },
   {
    "duration": 406,
    "start_time": "2021-12-07T14:12:24.082Z"
   },
   {
    "duration": 1212,
    "start_time": "2021-12-07T14:12:24.491Z"
   },
   {
    "duration": 2048,
    "start_time": "2021-12-07T14:12:25.705Z"
   },
   {
    "duration": 31,
    "start_time": "2021-12-07T14:12:27.759Z"
   },
   {
    "duration": 4736,
    "start_time": "2021-12-07T14:12:27.793Z"
   },
   {
    "duration": 830,
    "start_time": "2021-12-07T14:12:32.532Z"
   },
   {
    "duration": 780,
    "start_time": "2021-12-07T14:12:33.365Z"
   },
   {
    "duration": 797,
    "start_time": "2021-12-07T14:12:34.148Z"
   },
   {
    "duration": 391,
    "start_time": "2021-12-07T14:12:34.948Z"
   },
   {
    "duration": 1037,
    "start_time": "2021-12-07T14:12:35.342Z"
   },
   {
    "duration": 907,
    "start_time": "2021-12-07T14:12:36.382Z"
   },
   {
    "duration": 1016,
    "start_time": "2021-12-07T14:12:37.295Z"
   },
   {
    "duration": 45,
    "start_time": "2021-12-07T14:12:38.314Z"
   },
   {
    "duration": 551,
    "start_time": "2021-12-07T14:12:38.362Z"
   },
   {
    "duration": 10,
    "start_time": "2021-12-07T14:12:38.915Z"
   },
   {
    "duration": 810,
    "start_time": "2021-12-07T14:12:38.928Z"
   },
   {
    "duration": 18,
    "start_time": "2021-12-07T14:12:39.741Z"
   },
   {
    "duration": 2174,
    "start_time": "2021-12-07T14:12:39.762Z"
   },
   {
    "duration": 2020,
    "start_time": "2021-12-07T14:12:41.939Z"
   },
   {
    "duration": 1856,
    "start_time": "2021-12-07T14:12:43.962Z"
   },
   {
    "duration": 2075,
    "start_time": "2021-12-07T14:12:45.820Z"
   },
   {
    "duration": 2069,
    "start_time": "2021-12-07T14:12:47.898Z"
   },
   {
    "duration": 1934,
    "start_time": "2021-12-07T14:12:49.969Z"
   },
   {
    "duration": 495,
    "start_time": "2021-12-07T14:12:51.906Z"
   },
   {
    "duration": 3038,
    "start_time": "2021-12-07T14:12:52.404Z"
   },
   {
    "duration": 3316,
    "start_time": "2021-12-07T14:12:55.445Z"
   },
   {
    "duration": 1927,
    "start_time": "2021-12-07T14:12:58.764Z"
   },
   {
    "duration": 393,
    "start_time": "2021-12-07T16:46:12.465Z"
   },
   {
    "duration": 1192,
    "start_time": "2021-12-07T16:46:23.364Z"
   },
   {
    "duration": 164,
    "start_time": "2021-12-07T16:46:24.558Z"
   },
   {
    "duration": 10,
    "start_time": "2021-12-07T16:46:24.724Z"
   },
   {
    "duration": 29,
    "start_time": "2021-12-07T16:46:24.736Z"
   },
   {
    "duration": 61,
    "start_time": "2021-12-07T16:46:24.767Z"
   },
   {
    "duration": 4,
    "start_time": "2021-12-07T16:46:24.830Z"
   },
   {
    "duration": 19,
    "start_time": "2021-12-07T16:46:24.836Z"
   },
   {
    "duration": 19,
    "start_time": "2021-12-07T16:46:24.858Z"
   },
   {
    "duration": 27,
    "start_time": "2021-12-07T16:46:24.879Z"
   },
   {
    "duration": 742,
    "start_time": "2021-12-07T16:46:24.909Z"
   },
   {
    "duration": 1149,
    "start_time": "2021-12-07T16:46:25.653Z"
   },
   {
    "duration": 246,
    "start_time": "2021-12-07T16:46:26.803Z"
   },
   {
    "duration": 725,
    "start_time": "2021-12-07T16:46:27.051Z"
   },
   {
    "duration": 1282,
    "start_time": "2021-12-07T16:46:27.778Z"
   },
   {
    "duration": 20,
    "start_time": "2021-12-07T16:46:29.062Z"
   },
   {
    "duration": 2681,
    "start_time": "2021-12-07T16:46:29.084Z"
   },
   {
    "duration": 554,
    "start_time": "2021-12-07T16:46:31.767Z"
   },
   {
    "duration": 529,
    "start_time": "2021-12-07T16:46:32.323Z"
   },
   {
    "duration": 543,
    "start_time": "2021-12-07T16:46:32.854Z"
   },
   {
    "duration": 280,
    "start_time": "2021-12-07T16:46:33.407Z"
   },
   {
    "duration": 592,
    "start_time": "2021-12-07T16:46:33.689Z"
   },
   {
    "duration": 590,
    "start_time": "2021-12-07T16:46:34.283Z"
   },
   {
    "duration": 619,
    "start_time": "2021-12-07T16:46:34.876Z"
   },
   {
    "duration": 25,
    "start_time": "2021-12-07T16:46:35.497Z"
   },
   {
    "duration": 342,
    "start_time": "2021-12-07T16:46:35.524Z"
   },
   {
    "duration": 7,
    "start_time": "2021-12-07T16:46:35.876Z"
   },
   {
    "duration": 465,
    "start_time": "2021-12-07T16:47:34.962Z"
   },
   {
    "duration": 100,
    "start_time": "2021-12-07T16:53:45.298Z"
   },
   {
    "duration": 456,
    "start_time": "2021-12-07T16:54:02.339Z"
   },
   {
    "duration": 1246,
    "start_time": "2021-12-07T16:54:38.219Z"
   },
   {
    "duration": 558,
    "start_time": "2021-12-07T16:54:48.491Z"
   },
   {
    "duration": 477,
    "start_time": "2021-12-07T16:55:00.646Z"
   },
   {
    "duration": 500,
    "start_time": "2021-12-07T16:55:07.596Z"
   },
   {
    "duration": 486,
    "start_time": "2021-12-07T16:57:14.895Z"
   },
   {
    "duration": 473,
    "start_time": "2021-12-07T16:57:21.935Z"
   },
   {
    "duration": 1550,
    "start_time": "2021-12-15T15:51:03.091Z"
   },
   {
    "duration": 5,
    "start_time": "2021-12-15T15:52:39.179Z"
   },
   {
    "duration": 586,
    "start_time": "2021-12-15T15:55:52.066Z"
   },
   {
    "duration": 304,
    "start_time": "2021-12-15T15:56:27.214Z"
   },
   {
    "duration": 240,
    "start_time": "2021-12-15T15:58:26.472Z"
   },
   {
    "duration": 160,
    "start_time": "2021-12-15T16:00:08.280Z"
   },
   {
    "duration": 111,
    "start_time": "2021-12-15T16:00:43.613Z"
   },
   {
    "duration": 1865,
    "start_time": "2021-12-15T16:01:02.397Z"
   },
   {
    "duration": 114,
    "start_time": "2021-12-15T16:01:26.292Z"
   },
   {
    "duration": 72,
    "start_time": "2021-12-15T16:01:49.470Z"
   },
   {
    "duration": 253,
    "start_time": "2021-12-15T16:22:14.621Z"
   },
   {
    "duration": 240,
    "start_time": "2021-12-15T16:22:24.353Z"
   },
   {
    "duration": 152,
    "start_time": "2021-12-15T16:31:13.546Z"
   },
   {
    "duration": 72,
    "start_time": "2021-12-15T16:32:46.963Z"
   },
   {
    "duration": 76,
    "start_time": "2021-12-15T16:32:59.068Z"
   },
   {
    "duration": 73,
    "start_time": "2021-12-15T16:33:15.509Z"
   },
   {
    "duration": 78,
    "start_time": "2021-12-15T16:33:32.613Z"
   },
   {
    "duration": 6,
    "start_time": "2021-12-15T16:40:41.361Z"
   },
   {
    "duration": 274,
    "start_time": "2021-12-15T16:40:41.370Z"
   },
   {
    "duration": 255,
    "start_time": "2021-12-15T16:40:41.647Z"
   },
   {
    "duration": 173,
    "start_time": "2021-12-15T16:40:41.906Z"
   },
   {
    "duration": 81,
    "start_time": "2021-12-15T16:40:42.082Z"
   },
   {
    "duration": 73,
    "start_time": "2021-12-15T16:40:42.167Z"
   },
   {
    "duration": 9699,
    "start_time": "2021-12-15T16:40:45.815Z"
   },
   {
    "duration": 487,
    "start_time": "2021-12-15T16:42:05.258Z"
   },
   {
    "duration": 28,
    "start_time": "2021-12-15T16:42:11.809Z"
   },
   {
    "duration": 246,
    "start_time": "2021-12-15T16:43:27.571Z"
   },
   {
    "duration": 45,
    "start_time": "2021-12-15T16:43:57.228Z"
   },
   {
    "duration": 54,
    "start_time": "2021-12-15T16:46:40.126Z"
   },
   {
    "duration": 494,
    "start_time": "2021-12-15T16:47:23.984Z"
   },
   {
    "duration": 30,
    "start_time": "2021-12-15T16:48:45.139Z"
   },
   {
    "duration": 30,
    "start_time": "2021-12-15T16:48:56.219Z"
   },
   {
    "duration": 29,
    "start_time": "2021-12-15T16:49:15.187Z"
   },
   {
    "duration": 167,
    "start_time": "2021-12-15T17:01:47.508Z"
   },
   {
    "duration": 181,
    "start_time": "2021-12-15T17:19:42.841Z"
   },
   {
    "duration": 167,
    "start_time": "2021-12-15T17:19:59.457Z"
   },
   {
    "duration": 250,
    "start_time": "2021-12-15T17:20:17.066Z"
   },
   {
    "duration": 851,
    "start_time": "2021-12-15T17:22:35.411Z"
   },
   {
    "duration": 971,
    "start_time": "2021-12-15T17:23:05.342Z"
   },
   {
    "duration": 792,
    "start_time": "2021-12-15T17:23:14.470Z"
   },
   {
    "duration": 747,
    "start_time": "2021-12-15T17:24:11.855Z"
   },
   {
    "duration": 37,
    "start_time": "2021-12-15T17:24:33.752Z"
   },
   {
    "duration": 174,
    "start_time": "2021-12-15T17:27:27.177Z"
   },
   {
    "duration": 990,
    "start_time": "2021-12-15T17:28:03.309Z"
   },
   {
    "duration": 9248,
    "start_time": "2021-12-15T17:28:04.301Z"
   },
   {
    "duration": 149,
    "start_time": "2021-12-15T17:28:13.404Z"
   },
   {
    "duration": 147,
    "start_time": "2021-12-15T17:28:13.407Z"
   },
   {
    "duration": 147,
    "start_time": "2021-12-15T17:28:13.409Z"
   },
   {
    "duration": 145,
    "start_time": "2021-12-15T17:28:13.412Z"
   },
   {
    "duration": 143,
    "start_time": "2021-12-15T17:28:13.415Z"
   },
   {
    "duration": 141,
    "start_time": "2021-12-15T17:28:13.418Z"
   },
   {
    "duration": 141,
    "start_time": "2021-12-15T17:28:13.420Z"
   },
   {
    "duration": 139,
    "start_time": "2021-12-15T17:28:13.423Z"
   },
   {
    "duration": 138,
    "start_time": "2021-12-15T17:28:13.425Z"
   },
   {
    "duration": 130,
    "start_time": "2021-12-15T17:28:13.434Z"
   },
   {
    "duration": 129,
    "start_time": "2021-12-15T17:28:13.437Z"
   },
   {
    "duration": 127,
    "start_time": "2021-12-15T17:28:13.440Z"
   },
   {
    "duration": 126,
    "start_time": "2021-12-15T17:28:13.442Z"
   },
   {
    "duration": 125,
    "start_time": "2021-12-15T17:28:13.445Z"
   },
   {
    "duration": 123,
    "start_time": "2021-12-15T17:28:13.448Z"
   },
   {
    "duration": 122,
    "start_time": "2021-12-15T17:28:13.450Z"
   },
   {
    "duration": 120,
    "start_time": "2021-12-15T17:28:13.453Z"
   },
   {
    "duration": 119,
    "start_time": "2021-12-15T17:28:13.455Z"
   },
   {
    "duration": 118,
    "start_time": "2021-12-15T17:28:13.457Z"
   },
   {
    "duration": 88,
    "start_time": "2021-12-15T17:28:13.489Z"
   },
   {
    "duration": 87,
    "start_time": "2021-12-15T17:28:13.492Z"
   },
   {
    "duration": 82,
    "start_time": "2021-12-15T17:28:13.498Z"
   },
   {
    "duration": 81,
    "start_time": "2021-12-15T17:28:13.501Z"
   },
   {
    "duration": 80,
    "start_time": "2021-12-15T17:28:13.504Z"
   },
   {
    "duration": 71,
    "start_time": "2021-12-15T17:28:13.515Z"
   },
   {
    "duration": 69,
    "start_time": "2021-12-15T17:28:13.518Z"
   },
   {
    "duration": 65,
    "start_time": "2021-12-15T17:28:13.524Z"
   },
   {
    "duration": 53,
    "start_time": "2021-12-15T17:28:13.538Z"
   },
   {
    "duration": 52,
    "start_time": "2021-12-15T17:28:13.541Z"
   },
   {
    "duration": 51,
    "start_time": "2021-12-15T17:28:13.544Z"
   },
   {
    "duration": 49,
    "start_time": "2021-12-15T17:28:13.547Z"
   },
   {
    "duration": 48,
    "start_time": "2021-12-15T17:28:13.550Z"
   },
   {
    "duration": 1503,
    "start_time": "2021-12-15T17:28:36.816Z"
   },
   {
    "duration": 272,
    "start_time": "2021-12-15T17:28:38.322Z"
   },
   {
    "duration": 232,
    "start_time": "2021-12-15T17:28:38.597Z"
   },
   {
    "duration": 160,
    "start_time": "2021-12-15T17:28:38.832Z"
   },
   {
    "duration": 79,
    "start_time": "2021-12-15T17:28:38.994Z"
   },
   {
    "duration": 96,
    "start_time": "2021-12-15T17:28:39.075Z"
   },
   {
    "duration": 41,
    "start_time": "2021-12-15T17:28:39.174Z"
   },
   {
    "duration": 197,
    "start_time": "2021-12-15T17:28:39.218Z"
   },
   {
    "duration": 725,
    "start_time": "2021-12-15T17:28:42.410Z"
   },
   {
    "duration": 169,
    "start_time": "2021-12-15T17:28:54.810Z"
   },
   {
    "duration": 166,
    "start_time": "2021-12-15T17:37:36.794Z"
   },
   {
    "duration": 170,
    "start_time": "2021-12-15T17:38:00.440Z"
   },
   {
    "duration": 156,
    "start_time": "2021-12-15T17:39:46.587Z"
   },
   {
    "duration": 1445,
    "start_time": "2021-12-15T17:40:06.771Z"
   },
   {
    "duration": 166,
    "start_time": "2021-12-15T17:40:19.716Z"
   },
   {
    "duration": 175,
    "start_time": "2021-12-15T17:42:07.942Z"
   },
   {
    "duration": 150,
    "start_time": "2021-12-15T17:42:28.678Z"
   },
   {
    "duration": 1534,
    "start_time": "2021-12-15T17:42:41.415Z"
   },
   {
    "duration": 140,
    "start_time": "2021-12-15T17:42:55.391Z"
   },
   {
    "duration": 144,
    "start_time": "2021-12-15T17:42:59.727Z"
   },
   {
    "duration": 171,
    "start_time": "2021-12-15T17:43:05.463Z"
   },
   {
    "duration": 298,
    "start_time": "2021-12-15T17:45:27.140Z"
   },
   {
    "duration": 264,
    "start_time": "2021-12-15T17:45:53.795Z"
   },
   {
    "duration": 266,
    "start_time": "2021-12-15T17:46:13.227Z"
   },
   {
    "duration": 303,
    "start_time": "2021-12-15T17:47:05.274Z"
   },
   {
    "duration": 658,
    "start_time": "2021-12-15T17:47:35.816Z"
   },
   {
    "duration": 222,
    "start_time": "2021-12-15T17:47:49.262Z"
   },
   {
    "duration": 258,
    "start_time": "2021-12-15T17:48:16.463Z"
   },
   {
    "duration": 225,
    "start_time": "2021-12-15T17:48:29.920Z"
   },
   {
    "duration": 249,
    "start_time": "2021-12-15T17:48:59.928Z"
   },
   {
    "duration": 258,
    "start_time": "2021-12-15T17:56:39.380Z"
   },
   {
    "duration": 13300,
    "start_time": "2021-12-15T17:58:50.550Z"
   },
   {
    "duration": 132,
    "start_time": "2021-12-15T17:59:27.863Z"
   },
   {
    "duration": 165,
    "start_time": "2021-12-15T18:02:15.668Z"
   },
   {
    "duration": 133,
    "start_time": "2021-12-15T18:02:22.476Z"
   },
   {
    "duration": 256,
    "start_time": "2021-12-15T18:02:24.755Z"
   },
   {
    "duration": 169,
    "start_time": "2021-12-15T18:10:32.512Z"
   },
   {
    "duration": 374,
    "start_time": "2021-12-15T18:10:41.488Z"
   },
   {
    "duration": 474,
    "start_time": "2021-12-15T18:11:03.393Z"
   },
   {
    "duration": 613,
    "start_time": "2021-12-15T18:11:18.785Z"
   },
   {
    "duration": 651,
    "start_time": "2021-12-15T18:11:28.337Z"
   },
   {
    "duration": 153,
    "start_time": "2021-12-15T18:13:42.453Z"
   },
   {
    "duration": 92,
    "start_time": "2021-12-15T18:13:51.557Z"
   },
   {
    "duration": 430,
    "start_time": "2021-12-15T18:15:59.386Z"
   },
   {
    "duration": 96,
    "start_time": "2021-12-15T18:16:25.145Z"
   },
   {
    "duration": 108,
    "start_time": "2021-12-15T18:20:06.566Z"
   },
   {
    "duration": 158,
    "start_time": "2021-12-15T18:20:10.206Z"
   },
   {
    "duration": 460,
    "start_time": "2021-12-15T18:21:44.392Z"
   },
   {
    "duration": 473,
    "start_time": "2021-12-15T18:21:52.897Z"
   },
   {
    "duration": 157,
    "start_time": "2021-12-15T18:22:07.352Z"
   },
   {
    "duration": 206,
    "start_time": "2021-12-15T18:22:37.153Z"
   },
   {
    "duration": 193,
    "start_time": "2021-12-15T18:22:41.217Z"
   },
   {
    "duration": 187,
    "start_time": "2021-12-15T18:23:54.995Z"
   },
   {
    "duration": 96,
    "start_time": "2021-12-15T18:24:40.253Z"
   },
   {
    "duration": 401,
    "start_time": "2021-12-15T18:26:49.592Z"
   },
   {
    "duration": 395,
    "start_time": "2021-12-15T18:27:13.584Z"
   },
   {
    "duration": 52,
    "start_time": "2021-12-15T18:28:36.018Z"
   },
   {
    "duration": 59,
    "start_time": "2021-12-15T18:29:21.043Z"
   },
   {
    "duration": 49,
    "start_time": "2021-12-15T18:30:01.268Z"
   },
   {
    "duration": 401,
    "start_time": "2021-12-15T18:34:17.067Z"
   },
   {
    "duration": 394,
    "start_time": "2021-12-15T18:34:33.834Z"
   },
   {
    "duration": 389,
    "start_time": "2021-12-15T18:34:45.243Z"
   },
   {
    "duration": 60,
    "start_time": "2021-12-15T18:34:56.002Z"
   },
   {
    "duration": 93,
    "start_time": "2021-12-15T18:35:43.573Z"
   },
   {
    "duration": 123,
    "start_time": "2021-12-15T18:37:55.663Z"
   },
   {
    "duration": 125,
    "start_time": "2021-12-15T18:41:31.845Z"
   },
   {
    "duration": 125,
    "start_time": "2021-12-15T18:43:36.545Z"
   },
   {
    "duration": 275,
    "start_time": "2021-12-15T18:45:01.745Z"
   },
   {
    "duration": 265,
    "start_time": "2021-12-15T18:45:09.922Z"
   },
   {
    "duration": 126,
    "start_time": "2021-12-15T18:47:22.126Z"
   },
   {
    "duration": 167,
    "start_time": "2021-12-15T18:48:21.352Z"
   },
   {
    "duration": 7,
    "start_time": "2021-12-15T18:53:47.655Z"
   },
   {
    "duration": 10,
    "start_time": "2021-12-15T18:53:56.543Z"
   },
   {
    "duration": 12,
    "start_time": "2021-12-15T19:01:08.507Z"
   },
   {
    "duration": 12,
    "start_time": "2021-12-15T19:02:42.708Z"
   },
   {
    "duration": 371,
    "start_time": "2021-12-15T19:10:03.472Z"
   },
   {
    "duration": 5,
    "start_time": "2021-12-15T19:10:58.984Z"
   },
   {
    "duration": 734,
    "start_time": "2021-12-15T19:11:05.400Z"
   },
   {
    "duration": 607,
    "start_time": "2021-12-15T19:11:37.297Z"
   },
   {
    "duration": 453,
    "start_time": "2021-12-15T19:11:43.257Z"
   },
   {
    "duration": 13,
    "start_time": "2021-12-15T19:12:58.835Z"
   },
   {
    "duration": 5,
    "start_time": "2021-12-15T19:13:09.459Z"
   },
   {
    "duration": 13,
    "start_time": "2021-12-15T19:13:42.531Z"
   },
   {
    "duration": 15,
    "start_time": "2021-12-15T19:13:47.364Z"
   },
   {
    "duration": 14,
    "start_time": "2021-12-15T19:14:46.957Z"
   },
   {
    "duration": 53,
    "start_time": "2021-12-15T19:15:21.670Z"
   },
   {
    "duration": 23,
    "start_time": "2021-12-15T19:16:41.360Z"
   },
   {
    "duration": 21,
    "start_time": "2021-12-15T19:18:23.198Z"
   },
   {
    "duration": 22,
    "start_time": "2021-12-15T19:18:27.581Z"
   },
   {
    "duration": 20,
    "start_time": "2021-12-15T19:18:38.356Z"
   },
   {
    "duration": 86,
    "start_time": "2021-12-15T19:19:10.932Z"
   },
   {
    "duration": 20,
    "start_time": "2021-12-15T19:19:31.493Z"
   },
   {
    "duration": 134,
    "start_time": "2021-12-15T19:21:56.232Z"
   },
   {
    "duration": 19,
    "start_time": "2021-12-15T19:22:26.313Z"
   },
   {
    "duration": 1652,
    "start_time": "2021-12-15T19:23:07.361Z"
   },
   {
    "duration": 305,
    "start_time": "2021-12-15T19:23:09.016Z"
   },
   {
    "duration": 302,
    "start_time": "2021-12-15T19:23:09.325Z"
   },
   {
    "duration": 170,
    "start_time": "2021-12-15T19:23:09.631Z"
   },
   {
    "duration": 75,
    "start_time": "2021-12-15T19:23:09.803Z"
   },
   {
    "duration": 116,
    "start_time": "2021-12-15T19:23:09.881Z"
   },
   {
    "duration": 63,
    "start_time": "2021-12-15T19:23:10.000Z"
   },
   {
    "duration": 224,
    "start_time": "2021-12-15T19:23:10.068Z"
   },
   {
    "duration": 286,
    "start_time": "2021-12-15T19:23:10.296Z"
   },
   {
    "duration": 168,
    "start_time": "2021-12-15T19:23:10.585Z"
   },
   {
    "duration": 209,
    "start_time": "2021-12-15T19:23:10.756Z"
   },
   {
    "duration": 164,
    "start_time": "2021-12-15T19:23:10.968Z"
   },
   {
    "duration": 37,
    "start_time": "2021-12-15T19:23:11.135Z"
   },
   {
    "duration": 857,
    "start_time": "2021-12-15T19:23:11.175Z"
   },
   {
    "duration": 203,
    "start_time": "2021-12-15T19:23:11.834Z"
   },
   {
    "duration": 197,
    "start_time": "2021-12-15T19:23:11.842Z"
   },
   {
    "duration": 191,
    "start_time": "2021-12-15T19:23:11.849Z"
   },
   {
    "duration": 187,
    "start_time": "2021-12-15T19:23:11.855Z"
   },
   {
    "duration": 185,
    "start_time": "2021-12-15T19:23:11.859Z"
   },
   {
    "duration": 183,
    "start_time": "2021-12-15T19:23:11.862Z"
   },
   {
    "duration": 182,
    "start_time": "2021-12-15T19:23:11.865Z"
   },
   {
    "duration": 181,
    "start_time": "2021-12-15T19:23:11.868Z"
   },
   {
    "duration": 179,
    "start_time": "2021-12-15T19:23:11.871Z"
   },
   {
    "duration": 178,
    "start_time": "2021-12-15T19:23:11.874Z"
   },
   {
    "duration": 176,
    "start_time": "2021-12-15T19:23:11.877Z"
   },
   {
    "duration": 171,
    "start_time": "2021-12-15T19:23:11.884Z"
   },
   {
    "duration": 168,
    "start_time": "2021-12-15T19:23:11.888Z"
   },
   {
    "duration": 167,
    "start_time": "2021-12-15T19:23:11.891Z"
   },
   {
    "duration": 166,
    "start_time": "2021-12-15T19:23:11.894Z"
   },
   {
    "duration": 164,
    "start_time": "2021-12-15T19:23:11.897Z"
   },
   {
    "duration": 163,
    "start_time": "2021-12-15T19:23:11.900Z"
   },
   {
    "duration": 163,
    "start_time": "2021-12-15T19:23:11.902Z"
   },
   {
    "duration": 161,
    "start_time": "2021-12-15T19:23:11.905Z"
   },
   {
    "duration": 161,
    "start_time": "2021-12-15T19:23:11.907Z"
   },
   {
    "duration": 160,
    "start_time": "2021-12-15T19:23:11.910Z"
   },
   {
    "duration": 159,
    "start_time": "2021-12-15T19:23:11.912Z"
   },
   {
    "duration": 153,
    "start_time": "2021-12-15T19:23:11.920Z"
   },
   {
    "duration": 151,
    "start_time": "2021-12-15T19:23:11.923Z"
   },
   {
    "duration": 150,
    "start_time": "2021-12-15T19:23:11.926Z"
   },
   {
    "duration": 149,
    "start_time": "2021-12-15T19:23:11.928Z"
   },
   {
    "duration": 148,
    "start_time": "2021-12-15T19:23:11.931Z"
   },
   {
    "duration": 148,
    "start_time": "2021-12-15T19:23:11.933Z"
   },
   {
    "duration": 146,
    "start_time": "2021-12-15T19:23:11.936Z"
   },
   {
    "duration": 112,
    "start_time": "2021-12-15T19:23:11.972Z"
   },
   {
    "duration": 106,
    "start_time": "2021-12-15T19:23:11.980Z"
   },
   {
    "duration": 100,
    "start_time": "2021-12-15T19:23:11.987Z"
   },
   {
    "duration": 129,
    "start_time": "2021-12-15T19:23:55.230Z"
   },
   {
    "duration": 20,
    "start_time": "2021-12-15T19:24:04.588Z"
   },
   {
    "duration": 22,
    "start_time": "2021-12-15T19:24:20.779Z"
   },
   {
    "duration": 18,
    "start_time": "2021-12-15T19:24:24.524Z"
   },
   {
    "duration": 31,
    "start_time": "2021-12-15T19:24:32.036Z"
   },
   {
    "duration": 120,
    "start_time": "2021-12-15T19:25:13.022Z"
   },
   {
    "duration": 3,
    "start_time": "2021-12-15T19:52:07.428Z"
   },
   {
    "duration": 7,
    "start_time": "2021-12-15T19:56:56.020Z"
   },
   {
    "duration": 28,
    "start_time": "2021-12-15T19:58:26.719Z"
   },
   {
    "duration": 508,
    "start_time": "2021-12-15T19:58:52.216Z"
   },
   {
    "duration": 375,
    "start_time": "2021-12-15T19:58:58.040Z"
   },
   {
    "duration": 371,
    "start_time": "2021-12-15T19:59:08.536Z"
   },
   {
    "duration": 28,
    "start_time": "2021-12-15T19:59:22.288Z"
   },
   {
    "duration": 9,
    "start_time": "2021-12-15T20:00:30.259Z"
   },
   {
    "duration": 10,
    "start_time": "2021-12-15T20:00:38.908Z"
   },
   {
    "duration": 364,
    "start_time": "2021-12-15T20:01:09.403Z"
   },
   {
    "duration": 387,
    "start_time": "2021-12-15T20:02:06.780Z"
   },
   {
    "duration": 15,
    "start_time": "2021-12-15T20:02:29.789Z"
   },
   {
    "duration": 14,
    "start_time": "2021-12-15T20:04:17.424Z"
   },
   {
    "duration": 12,
    "start_time": "2021-12-15T20:04:31.631Z"
   },
   {
    "duration": 15,
    "start_time": "2021-12-15T20:04:43.487Z"
   },
   {
    "duration": 18,
    "start_time": "2021-12-15T20:06:23.835Z"
   },
   {
    "duration": 610,
    "start_time": "2021-12-15T20:12:43.405Z"
   },
   {
    "duration": 406,
    "start_time": "2021-12-15T20:45:01.810Z"
   },
   {
    "duration": 748,
    "start_time": "2021-12-15T20:45:14.943Z"
   },
   {
    "duration": 362,
    "start_time": "2021-12-15T20:45:31.096Z"
   },
   {
    "duration": 357,
    "start_time": "2021-12-15T20:47:10.762Z"
   },
   {
    "duration": 409,
    "start_time": "2021-12-15T20:47:19.754Z"
   },
   {
    "duration": 199,
    "start_time": "2021-12-15T20:58:47.249Z"
   },
   {
    "duration": 644,
    "start_time": "2021-12-15T20:58:52.275Z"
   },
   {
    "duration": 17232,
    "start_time": "2021-12-15T20:59:15.564Z"
   },
   {
    "duration": 3280,
    "start_time": "2021-12-15T20:59:39.637Z"
   },
   {
    "duration": 388,
    "start_time": "2021-12-15T21:00:21.567Z"
   },
   {
    "duration": 1165,
    "start_time": "2021-12-15T21:00:31.573Z"
   },
   {
    "duration": 388,
    "start_time": "2021-12-15T21:00:57.662Z"
   },
   {
    "duration": 314,
    "start_time": "2021-12-15T21:02:38.721Z"
   },
   {
    "duration": 442,
    "start_time": "2021-12-15T21:03:27.881Z"
   },
   {
    "duration": 471,
    "start_time": "2021-12-15T21:03:50.003Z"
   },
   {
    "duration": 423,
    "start_time": "2021-12-15T21:04:11.076Z"
   },
   {
    "duration": 411,
    "start_time": "2021-12-15T21:05:10.293Z"
   },
   {
    "duration": 729,
    "start_time": "2021-12-15T21:05:22.485Z"
   },
   {
    "duration": 740,
    "start_time": "2021-12-15T21:07:05.488Z"
   },
   {
    "duration": 804,
    "start_time": "2021-12-15T21:07:11.424Z"
   },
   {
    "duration": 856,
    "start_time": "2021-12-15T21:07:17.608Z"
   },
   {
    "duration": 571,
    "start_time": "2021-12-15T21:08:19.472Z"
   },
   {
    "duration": 1328,
    "start_time": "2021-12-15T21:08:48.978Z"
   },
   {
    "duration": 826,
    "start_time": "2021-12-15T21:08:54.411Z"
   },
   {
    "duration": 872,
    "start_time": "2021-12-15T21:09:27.987Z"
   },
   {
    "duration": 575,
    "start_time": "2021-12-15T21:10:26.108Z"
   },
   {
    "duration": 1247,
    "start_time": "2021-12-15T21:10:34.852Z"
   },
   {
    "duration": 1042,
    "start_time": "2021-12-15T21:10:39.324Z"
   },
   {
    "duration": 1281,
    "start_time": "2021-12-15T21:10:42.413Z"
   },
   {
    "duration": 948,
    "start_time": "2021-12-15T21:10:48.261Z"
   },
   {
    "duration": 1272,
    "start_time": "2021-12-15T21:10:55.589Z"
   },
   {
    "duration": 895,
    "start_time": "2021-12-15T21:11:01.390Z"
   },
   {
    "duration": 588,
    "start_time": "2021-12-15T21:11:54.485Z"
   },
   {
    "duration": 1293,
    "start_time": "2021-12-15T21:12:56.967Z"
   },
   {
    "duration": 1110,
    "start_time": "2021-12-15T21:13:44.929Z"
   },
   {
    "duration": 959,
    "start_time": "2021-12-15T21:14:31.234Z"
   },
   {
    "duration": 1093,
    "start_time": "2021-12-15T21:14:45.435Z"
   },
   {
    "duration": 953,
    "start_time": "2021-12-15T21:15:17.539Z"
   },
   {
    "duration": 575,
    "start_time": "2021-12-15T21:15:37.731Z"
   },
   {
    "duration": 575,
    "start_time": "2021-12-15T21:15:59.169Z"
   },
   {
    "duration": 576,
    "start_time": "2021-12-15T21:16:18.301Z"
   },
   {
    "duration": 591,
    "start_time": "2021-12-15T21:17:00.750Z"
   },
   {
    "duration": 587,
    "start_time": "2021-12-15T21:18:02.391Z"
   },
   {
    "duration": 685,
    "start_time": "2021-12-15T21:19:10.553Z"
   },
   {
    "duration": 728,
    "start_time": "2021-12-15T21:19:22.809Z"
   },
   {
    "duration": 689,
    "start_time": "2021-12-15T21:20:17.474Z"
   },
   {
    "duration": 584,
    "start_time": "2021-12-15T21:20:33.731Z"
   },
   {
    "duration": 584,
    "start_time": "2021-12-15T21:21:08.027Z"
   },
   {
    "duration": 590,
    "start_time": "2021-12-15T21:21:37.860Z"
   },
   {
    "duration": 1570,
    "start_time": "2021-12-15T21:27:17.381Z"
   },
   {
    "duration": 570,
    "start_time": "2021-12-15T21:27:37.494Z"
   },
   {
    "duration": 583,
    "start_time": "2021-12-15T21:27:53.645Z"
   },
   {
    "duration": 577,
    "start_time": "2021-12-15T21:28:38.206Z"
   },
   {
    "duration": 591,
    "start_time": "2021-12-15T21:28:54.999Z"
   },
   {
    "duration": 952,
    "start_time": "2021-12-15T21:29:03.439Z"
   },
   {
    "duration": 1091,
    "start_time": "2021-12-15T21:29:16.192Z"
   },
   {
    "duration": 578,
    "start_time": "2021-12-15T21:29:24.897Z"
   },
   {
    "duration": 1208,
    "start_time": "2021-12-15T21:29:50.897Z"
   },
   {
    "duration": 1108,
    "start_time": "2021-12-15T21:30:14.344Z"
   },
   {
    "duration": 76,
    "start_time": "2021-12-16T07:20:55.608Z"
   },
   {
    "duration": 268,
    "start_time": "2021-12-16T07:20:59.776Z"
   },
   {
    "duration": 1080,
    "start_time": "2021-12-16T07:21:11.152Z"
   },
   {
    "duration": 191,
    "start_time": "2021-12-16T07:21:12.233Z"
   },
   {
    "duration": 232,
    "start_time": "2021-12-16T07:21:12.426Z"
   },
   {
    "duration": 164,
    "start_time": "2021-12-16T07:21:12.661Z"
   },
   {
    "duration": 62,
    "start_time": "2021-12-16T07:21:12.828Z"
   },
   {
    "duration": 74,
    "start_time": "2021-12-16T07:21:12.892Z"
   },
   {
    "duration": 41,
    "start_time": "2021-12-16T07:21:12.968Z"
   },
   {
    "duration": 190,
    "start_time": "2021-12-16T07:21:13.012Z"
   },
   {
    "duration": 224,
    "start_time": "2021-12-16T07:21:13.205Z"
   },
   {
    "duration": 134,
    "start_time": "2021-12-16T07:21:13.431Z"
   },
   {
    "duration": 146,
    "start_time": "2021-12-16T07:21:13.567Z"
   },
   {
    "duration": 127,
    "start_time": "2021-12-16T07:21:13.715Z"
   },
   {
    "duration": 92,
    "start_time": "2021-12-16T07:21:13.845Z"
   },
   {
    "duration": 3040,
    "start_time": "2021-12-16T07:21:15.651Z"
   },
   {
    "duration": 213,
    "start_time": "2021-12-16T07:22:18.564Z"
   },
   {
    "duration": 717,
    "start_time": "2021-12-16T07:29:31.726Z"
   },
   {
    "duration": 382,
    "start_time": "2021-12-16T07:42:24.321Z"
   },
   {
    "duration": 257,
    "start_time": "2021-12-16T07:43:52.859Z"
   },
   {
    "duration": 5,
    "start_time": "2021-12-16T07:51:35.898Z"
   },
   {
    "duration": 272,
    "start_time": "2021-12-16T07:51:35.905Z"
   },
   {
    "duration": 249,
    "start_time": "2021-12-16T07:51:36.180Z"
   },
   {
    "duration": 115,
    "start_time": "2021-12-16T07:51:36.431Z"
   },
   {
    "duration": 49,
    "start_time": "2021-12-16T07:51:36.548Z"
   },
   {
    "duration": 54,
    "start_time": "2021-12-16T07:51:36.599Z"
   },
   {
    "duration": 37,
    "start_time": "2021-12-16T07:51:36.655Z"
   },
   {
    "duration": 141,
    "start_time": "2021-12-16T07:51:36.695Z"
   },
   {
    "duration": 166,
    "start_time": "2021-12-16T07:51:36.838Z"
   },
   {
    "duration": 100,
    "start_time": "2021-12-16T07:51:37.005Z"
   },
   {
    "duration": 107,
    "start_time": "2021-12-16T07:51:37.107Z"
   },
   {
    "duration": 92,
    "start_time": "2021-12-16T07:51:37.215Z"
   },
   {
    "duration": 48,
    "start_time": "2021-12-16T07:51:37.309Z"
   },
   {
    "duration": 608,
    "start_time": "2021-12-16T07:51:37.359Z"
   },
   {
    "duration": 692,
    "start_time": "2021-12-16T08:01:01.147Z"
   },
   {
    "duration": 746,
    "start_time": "2021-12-16T08:01:19.932Z"
   },
   {
    "duration": 791,
    "start_time": "2021-12-16T08:15:06.416Z"
   },
   {
    "duration": 585,
    "start_time": "2021-12-16T08:15:40.455Z"
   },
   {
    "duration": 581,
    "start_time": "2021-12-16T08:16:03.394Z"
   },
   {
    "duration": 980,
    "start_time": "2021-12-16T08:18:37.492Z"
   },
   {
    "duration": 934,
    "start_time": "2021-12-16T08:29:53.204Z"
   },
   {
    "duration": 16,
    "start_time": "2021-12-16T09:58:01.473Z"
   },
   {
    "duration": 18,
    "start_time": "2021-12-16T09:59:07.209Z"
   },
   {
    "duration": 12,
    "start_time": "2021-12-16T09:59:20.168Z"
   },
   {
    "duration": 11,
    "start_time": "2021-12-16T09:59:26.857Z"
   },
   {
    "duration": 10,
    "start_time": "2021-12-16T10:02:54.348Z"
   },
   {
    "duration": 8,
    "start_time": "2021-12-16T10:17:06.451Z"
   },
   {
    "duration": 20,
    "start_time": "2021-12-16T10:19:34.781Z"
   },
   {
    "duration": 16,
    "start_time": "2021-12-16T10:20:17.016Z"
   },
   {
    "duration": 261,
    "start_time": "2021-12-16T10:20:49.753Z"
   },
   {
    "duration": 19,
    "start_time": "2021-12-16T10:21:15.179Z"
   },
   {
    "duration": 23,
    "start_time": "2021-12-16T10:21:29.561Z"
   },
   {
    "duration": 12,
    "start_time": "2021-12-16T10:31:44.983Z"
   },
   {
    "duration": 14,
    "start_time": "2021-12-16T10:32:42.370Z"
   },
   {
    "duration": 248,
    "start_time": "2021-12-16T10:36:42.752Z"
   },
   {
    "duration": 15,
    "start_time": "2021-12-16T10:37:20.634Z"
   },
   {
    "duration": 255,
    "start_time": "2021-12-16T10:37:58.275Z"
   },
   {
    "duration": 311,
    "start_time": "2021-12-16T10:38:07.642Z"
   },
   {
    "duration": 16,
    "start_time": "2021-12-16T10:38:43.716Z"
   },
   {
    "duration": 13,
    "start_time": "2021-12-16T10:40:39.678Z"
   },
   {
    "duration": 17,
    "start_time": "2021-12-16T10:48:25.037Z"
   },
   {
    "duration": 11,
    "start_time": "2021-12-16T10:51:51.527Z"
   },
   {
    "duration": 10,
    "start_time": "2021-12-16T11:00:05.890Z"
   },
   {
    "duration": 12,
    "start_time": "2021-12-16T11:00:13.642Z"
   },
   {
    "duration": 14,
    "start_time": "2021-12-16T11:00:24.410Z"
   },
   {
    "duration": 15,
    "start_time": "2021-12-16T11:00:27.482Z"
   },
   {
    "duration": 15,
    "start_time": "2021-12-16T11:00:31.331Z"
   },
   {
    "duration": 1392,
    "start_time": "2021-12-16T11:14:37.295Z"
   },
   {
    "duration": 273,
    "start_time": "2021-12-16T11:14:38.689Z"
   },
   {
    "duration": 242,
    "start_time": "2021-12-16T11:14:38.966Z"
   },
   {
    "duration": 159,
    "start_time": "2021-12-16T11:14:39.210Z"
   },
   {
    "duration": 52,
    "start_time": "2021-12-16T11:14:39.370Z"
   },
   {
    "duration": 53,
    "start_time": "2021-12-16T11:14:39.424Z"
   },
   {
    "duration": 29,
    "start_time": "2021-12-16T11:14:39.479Z"
   },
   {
    "duration": 134,
    "start_time": "2021-12-16T11:14:39.510Z"
   },
   {
    "duration": 168,
    "start_time": "2021-12-16T11:14:39.646Z"
   },
   {
    "duration": 104,
    "start_time": "2021-12-16T11:14:39.816Z"
   },
   {
    "duration": 115,
    "start_time": "2021-12-16T11:14:39.922Z"
   },
   {
    "duration": 79,
    "start_time": "2021-12-16T11:14:40.038Z"
   },
   {
    "duration": 46,
    "start_time": "2021-12-16T11:14:40.119Z"
   },
   {
    "duration": 610,
    "start_time": "2021-12-16T11:14:40.167Z"
   },
   {
    "duration": 577,
    "start_time": "2021-12-16T11:14:40.779Z"
   },
   {
    "duration": 776,
    "start_time": "2021-12-16T11:14:41.359Z"
   },
   {
    "duration": 20,
    "start_time": "2021-12-16T11:14:42.137Z"
   },
   {
    "duration": 29,
    "start_time": "2021-12-16T11:14:42.159Z"
   },
   {
    "duration": 16,
    "start_time": "2021-12-16T11:14:42.190Z"
   },
   {
    "duration": 90,
    "start_time": "2021-12-16T11:14:42.207Z"
   },
   {
    "duration": 1096,
    "start_time": "2021-12-16T13:58:49.177Z"
   },
   {
    "duration": 213,
    "start_time": "2021-12-16T13:58:50.275Z"
   },
   {
    "duration": 170,
    "start_time": "2021-12-16T13:58:50.490Z"
   },
   {
    "duration": 115,
    "start_time": "2021-12-16T13:58:50.662Z"
   },
   {
    "duration": 47,
    "start_time": "2021-12-16T13:58:50.779Z"
   },
   {
    "duration": 68,
    "start_time": "2021-12-16T13:58:50.827Z"
   },
   {
    "duration": 33,
    "start_time": "2021-12-16T13:58:50.896Z"
   },
   {
    "duration": 144,
    "start_time": "2021-12-16T13:58:50.931Z"
   },
   {
    "duration": 194,
    "start_time": "2021-12-16T13:58:51.078Z"
   },
   {
    "duration": 119,
    "start_time": "2021-12-16T13:58:51.274Z"
   },
   {
    "duration": 129,
    "start_time": "2021-12-16T13:58:51.395Z"
   },
   {
    "duration": 87,
    "start_time": "2021-12-16T13:58:51.526Z"
   },
   {
    "duration": 69,
    "start_time": "2021-12-16T13:58:51.615Z"
   },
   {
    "duration": 663,
    "start_time": "2021-12-16T13:58:51.686Z"
   },
   {
    "duration": 665,
    "start_time": "2021-12-16T13:58:52.351Z"
   },
   {
    "duration": 662,
    "start_time": "2021-12-16T13:58:53.018Z"
   },
   {
    "duration": 17,
    "start_time": "2021-12-16T13:58:53.681Z"
   },
   {
    "duration": 10,
    "start_time": "2021-12-16T13:58:53.699Z"
   },
   {
    "duration": 41,
    "start_time": "2021-12-16T13:58:53.711Z"
   },
   {
    "duration": 11,
    "start_time": "2021-12-16T13:58:53.753Z"
   },
   {
    "duration": 99,
    "start_time": "2021-12-16T14:05:36.217Z"
   },
   {
    "duration": 93,
    "start_time": "2021-12-16T14:05:54.597Z"
   },
   {
    "duration": 4,
    "start_time": "2021-12-16T14:05:57.764Z"
   },
   {
    "duration": 3,
    "start_time": "2021-12-16T14:06:02.020Z"
   },
   {
    "duration": 8,
    "start_time": "2021-12-16T14:06:40.558Z"
   },
   {
    "duration": 6,
    "start_time": "2021-12-16T14:15:14.102Z"
   },
   {
    "duration": 795,
    "start_time": "2021-12-16T14:58:15.041Z"
   },
   {
    "duration": 1119,
    "start_time": "2021-12-16T14:58:26.595Z"
   },
   {
    "duration": 202,
    "start_time": "2021-12-16T14:58:27.716Z"
   },
   {
    "duration": 178,
    "start_time": "2021-12-16T14:58:27.920Z"
   },
   {
    "duration": 118,
    "start_time": "2021-12-16T14:58:28.100Z"
   },
   {
    "duration": 45,
    "start_time": "2021-12-16T14:58:28.220Z"
   },
   {
    "duration": 52,
    "start_time": "2021-12-16T14:58:28.266Z"
   },
   {
    "duration": 32,
    "start_time": "2021-12-16T14:58:30.251Z"
   },
   {
    "duration": 355,
    "start_time": "2021-12-16T15:10:32.743Z"
   },
   {
    "duration": 138,
    "start_time": "2021-12-16T15:11:00.190Z"
   },
   {
    "duration": 185,
    "start_time": "2021-12-16T15:11:02.989Z"
   },
   {
    "duration": 207,
    "start_time": "2021-12-16T15:15:48.597Z"
   },
   {
    "duration": 102,
    "start_time": "2021-12-16T15:17:10.222Z"
   },
   {
    "duration": 113,
    "start_time": "2021-12-16T15:18:19.137Z"
   },
   {
    "duration": 57,
    "start_time": "2021-12-16T15:19:23.962Z"
   },
   {
    "duration": 59,
    "start_time": "2021-12-16T15:19:28.881Z"
   },
   {
    "duration": 63,
    "start_time": "2021-12-16T15:19:33.242Z"
   },
   {
    "duration": 853,
    "start_time": "2021-12-16T15:19:50.170Z"
   },
   {
    "duration": 199,
    "start_time": "2021-12-16T15:20:13.539Z"
   },
   {
    "duration": 1308,
    "start_time": "2021-12-16T15:20:16.452Z"
   },
   {
    "duration": 720,
    "start_time": "2021-12-16T15:20:32.812Z"
   },
   {
    "duration": 204,
    "start_time": "2021-12-16T15:25:25.011Z"
   },
   {
    "duration": 112,
    "start_time": "2021-12-16T15:25:29.176Z"
   },
   {
    "duration": 120,
    "start_time": "2021-12-16T15:25:31.860Z"
   },
   {
    "duration": 136,
    "start_time": "2021-12-16T15:25:43.003Z"
   },
   {
    "duration": 189,
    "start_time": "2021-12-16T15:25:50.468Z"
   },
   {
    "duration": 5,
    "start_time": "2021-12-16T15:25:57.875Z"
   },
   {
    "duration": 4,
    "start_time": "2021-12-16T15:26:02.699Z"
   },
   {
    "duration": 89,
    "start_time": "2021-12-16T15:26:18.037Z"
   },
   {
    "duration": 12,
    "start_time": "2021-12-16T15:26:20.499Z"
   },
   {
    "duration": 4,
    "start_time": "2021-12-16T15:30:02.902Z"
   },
   {
    "duration": 205,
    "start_time": "2021-12-16T15:30:02.907Z"
   },
   {
    "duration": 183,
    "start_time": "2021-12-16T15:30:03.114Z"
   },
   {
    "duration": 113,
    "start_time": "2021-12-16T15:30:03.299Z"
   },
   {
    "duration": 47,
    "start_time": "2021-12-16T15:30:03.414Z"
   },
   {
    "duration": 53,
    "start_time": "2021-12-16T15:30:03.462Z"
   },
   {
    "duration": 26,
    "start_time": "2021-12-16T15:30:03.517Z"
   },
   {
    "duration": 146,
    "start_time": "2021-12-16T15:30:03.546Z"
   },
   {
    "duration": 197,
    "start_time": "2021-12-16T15:30:03.694Z"
   },
   {
    "duration": 99,
    "start_time": "2021-12-16T15:30:03.893Z"
   },
   {
    "duration": 123,
    "start_time": "2021-12-16T15:30:03.994Z"
   },
   {
    "duration": 180,
    "start_time": "2021-12-16T15:30:04.119Z"
   },
   {
    "duration": 4,
    "start_time": "2021-12-16T15:30:04.300Z"
   },
   {
    "duration": 14,
    "start_time": "2021-12-16T15:30:04.305Z"
   },
   {
    "duration": 88,
    "start_time": "2021-12-16T15:30:06.570Z"
   },
   {
    "duration": 11,
    "start_time": "2021-12-16T15:30:13.065Z"
   },
   {
    "duration": 171,
    "start_time": "2021-12-16T15:30:41.147Z"
   },
   {
    "duration": 91,
    "start_time": "2021-12-16T15:39:52.185Z"
   },
   {
    "duration": 90,
    "start_time": "2021-12-16T15:40:32.121Z"
   },
   {
    "duration": 474,
    "start_time": "2021-12-17T08:12:47.757Z"
   },
   {
    "duration": 1460,
    "start_time": "2021-12-17T08:12:54.617Z"
   },
   {
    "duration": 282,
    "start_time": "2021-12-17T08:12:56.080Z"
   },
   {
    "duration": 226,
    "start_time": "2021-12-17T08:12:56.366Z"
   },
   {
    "duration": 161,
    "start_time": "2021-12-17T08:12:56.594Z"
   },
   {
    "duration": 78,
    "start_time": "2021-12-17T08:12:56.758Z"
   },
   {
    "duration": 80,
    "start_time": "2021-12-17T08:12:56.839Z"
   },
   {
    "duration": 40,
    "start_time": "2021-12-17T08:12:56.922Z"
   },
   {
    "duration": 203,
    "start_time": "2021-12-17T08:12:56.967Z"
   },
   {
    "duration": 302,
    "start_time": "2021-12-17T08:12:57.173Z"
   },
   {
    "duration": 165,
    "start_time": "2021-12-17T08:12:57.477Z"
   },
   {
    "duration": 200,
    "start_time": "2021-12-17T08:12:57.645Z"
   },
   {
    "duration": 333,
    "start_time": "2021-12-17T08:12:57.848Z"
   },
   {
    "duration": 6,
    "start_time": "2021-12-17T08:12:58.184Z"
   },
   {
    "duration": 31,
    "start_time": "2021-12-17T08:12:58.192Z"
   },
   {
    "duration": 410,
    "start_time": "2021-12-17T08:13:01.998Z"
   },
   {
    "duration": 329,
    "start_time": "2021-12-17T08:16:12.457Z"
   },
   {
    "duration": 326,
    "start_time": "2021-12-17T08:17:34.317Z"
   },
   {
    "duration": 321,
    "start_time": "2021-12-17T08:18:18.550Z"
   },
   {
    "duration": 345,
    "start_time": "2021-12-17T08:18:57.832Z"
   },
   {
    "duration": 2513,
    "start_time": "2021-12-17T08:19:08.720Z"
   },
   {
    "duration": 2587,
    "start_time": "2021-12-17T08:20:28.575Z"
   },
   {
    "duration": 2222,
    "start_time": "2021-12-17T08:20:45.394Z"
   },
   {
    "duration": 2514,
    "start_time": "2021-12-17T08:35:02.632Z"
   },
   {
    "duration": 433,
    "start_time": "2021-12-17T08:35:30.617Z"
   },
   {
    "duration": 306,
    "start_time": "2021-12-17T08:35:37.096Z"
   },
   {
    "duration": 2619,
    "start_time": "2021-12-17T08:35:41.392Z"
   },
   {
    "duration": 2392,
    "start_time": "2021-12-17T08:36:01.913Z"
   },
   {
    "duration": 9,
    "start_time": "2021-12-17T08:37:14.048Z"
   },
   {
    "duration": 866,
    "start_time": "2021-12-17T08:37:47.224Z"
   },
   {
    "duration": 2816,
    "start_time": "2021-12-17T08:37:55.101Z"
   },
   {
    "duration": 14,
    "start_time": "2021-12-17T08:54:33.997Z"
   },
   {
    "duration": 64,
    "start_time": "2021-12-17T08:54:38.005Z"
   },
   {
    "duration": 143,
    "start_time": "2021-12-17T08:54:55.998Z"
   },
   {
    "duration": 340,
    "start_time": "2021-12-17T08:59:01.604Z"
   },
   {
    "duration": 25874,
    "start_time": "2021-12-17T08:59:12.661Z"
   },
   {
    "duration": 6,
    "start_time": "2021-12-17T09:01:26.568Z"
   },
   {
    "duration": 335,
    "start_time": "2021-12-17T09:01:26.578Z"
   },
   {
    "duration": 359,
    "start_time": "2021-12-17T09:01:26.916Z"
   },
   {
    "duration": 183,
    "start_time": "2021-12-17T09:01:27.277Z"
   },
   {
    "duration": 94,
    "start_time": "2021-12-17T09:01:27.463Z"
   },
   {
    "duration": 105,
    "start_time": "2021-12-17T09:01:27.560Z"
   },
   {
    "duration": 70,
    "start_time": "2021-12-17T09:01:27.669Z"
   },
   {
    "duration": 232,
    "start_time": "2021-12-17T09:01:27.743Z"
   },
   {
    "duration": 369,
    "start_time": "2021-12-17T09:01:27.978Z"
   },
   {
    "duration": 193,
    "start_time": "2021-12-17T09:01:28.350Z"
   },
   {
    "duration": 197,
    "start_time": "2021-12-17T09:01:28.546Z"
   },
   {
    "duration": 304,
    "start_time": "2021-12-17T09:01:28.747Z"
   },
   {
    "duration": 6,
    "start_time": "2021-12-17T09:01:29.054Z"
   },
   {
    "duration": 17,
    "start_time": "2021-12-17T09:01:29.063Z"
   },
   {
    "duration": 100804,
    "start_time": "2021-12-17T09:01:31.480Z"
   },
   {
    "duration": 88,
    "start_time": "2021-12-17T09:03:57.147Z"
   },
   {
    "duration": 9,
    "start_time": "2021-12-17T09:04:16.747Z"
   },
   {
    "duration": 11,
    "start_time": "2021-12-17T09:04:30.083Z"
   },
   {
    "duration": 2447,
    "start_time": "2021-12-17T09:04:54.933Z"
   },
   {
    "duration": 2057,
    "start_time": "2021-12-17T09:05:33.334Z"
   },
   {
    "duration": 95,
    "start_time": "2021-12-17T09:05:45.030Z"
   },
   {
    "duration": 353,
    "start_time": "2021-12-17T09:12:10.559Z"
   },
   {
    "duration": 345,
    "start_time": "2021-12-17T09:12:26.696Z"
   },
   {
    "duration": 402,
    "start_time": "2021-12-17T09:25:24.379Z"
   },
   {
    "duration": 107,
    "start_time": "2021-12-17T09:25:50.627Z"
   },
   {
    "duration": 10,
    "start_time": "2021-12-17T09:26:07.266Z"
   },
   {
    "duration": 114,
    "start_time": "2021-12-17T09:26:32.572Z"
   },
   {
    "duration": 107,
    "start_time": "2021-12-17T09:26:57.121Z"
   },
   {
    "duration": 98,
    "start_time": "2021-12-17T09:27:30.974Z"
   },
   {
    "duration": 125,
    "start_time": "2021-12-17T09:27:34.943Z"
   },
   {
    "duration": 9,
    "start_time": "2021-12-17T09:27:40.829Z"
   },
   {
    "duration": 114,
    "start_time": "2021-12-17T09:29:26.921Z"
   },
   {
    "duration": 131,
    "start_time": "2021-12-17T09:30:13.946Z"
   },
   {
    "duration": 14,
    "start_time": "2021-12-17T09:30:28.034Z"
   },
   {
    "duration": 110,
    "start_time": "2021-12-17T09:30:51.125Z"
   },
   {
    "duration": 10,
    "start_time": "2021-12-17T09:30:56.889Z"
   },
   {
    "duration": 98,
    "start_time": "2021-12-17T09:31:18.852Z"
   },
   {
    "duration": 1733,
    "start_time": "2021-12-17T09:31:44.744Z"
   },
   {
    "duration": 331,
    "start_time": "2021-12-17T09:31:46.480Z"
   },
   {
    "duration": 261,
    "start_time": "2021-12-17T09:31:46.823Z"
   },
   {
    "duration": 226,
    "start_time": "2021-12-17T09:31:47.088Z"
   },
   {
    "duration": 85,
    "start_time": "2021-12-17T09:31:47.316Z"
   },
   {
    "duration": 162,
    "start_time": "2021-12-17T09:31:47.404Z"
   },
   {
    "duration": 69,
    "start_time": "2021-12-17T09:31:47.569Z"
   },
   {
    "duration": 257,
    "start_time": "2021-12-17T09:31:47.642Z"
   },
   {
    "duration": 352,
    "start_time": "2021-12-17T09:31:47.904Z"
   },
   {
    "duration": 271,
    "start_time": "2021-12-17T09:31:48.262Z"
   },
   {
    "duration": 307,
    "start_time": "2021-12-17T09:31:48.539Z"
   },
   {
    "duration": 359,
    "start_time": "2021-12-17T09:31:48.849Z"
   },
   {
    "duration": 18,
    "start_time": "2021-12-17T09:31:49.210Z"
   },
   {
    "duration": 21,
    "start_time": "2021-12-17T09:31:49.231Z"
   },
   {
    "duration": 11087,
    "start_time": "2021-12-17T09:31:49.256Z"
   },
   {
    "duration": 184,
    "start_time": "2021-12-17T09:32:00.161Z"
   },
   {
    "duration": 184,
    "start_time": "2021-12-17T09:32:00.163Z"
   },
   {
    "duration": 183,
    "start_time": "2021-12-17T09:32:00.165Z"
   },
   {
    "duration": 183,
    "start_time": "2021-12-17T09:32:00.167Z"
   },
   {
    "duration": 184,
    "start_time": "2021-12-17T09:32:00.168Z"
   },
   {
    "duration": 184,
    "start_time": "2021-12-17T09:32:00.170Z"
   },
   {
    "duration": 183,
    "start_time": "2021-12-17T09:32:00.172Z"
   },
   {
    "duration": 173,
    "start_time": "2021-12-17T09:32:00.185Z"
   },
   {
    "duration": 9909,
    "start_time": "2021-12-17T09:32:28.778Z"
   },
   {
    "duration": 607,
    "start_time": "2021-12-17T09:32:47.211Z"
   },
   {
    "duration": 8671,
    "start_time": "2021-12-17T09:33:16.731Z"
   },
   {
    "duration": 564,
    "start_time": "2021-12-17T09:34:26.285Z"
   },
   {
    "duration": 653,
    "start_time": "2021-12-17T09:34:42.022Z"
   },
   {
    "duration": 235,
    "start_time": "2021-12-17T09:36:14.736Z"
   },
   {
    "duration": 157,
    "start_time": "2021-12-17T09:36:30.616Z"
   },
   {
    "duration": 146,
    "start_time": "2021-12-17T09:36:45.689Z"
   },
   {
    "duration": 15,
    "start_time": "2021-12-17T09:37:08.072Z"
   },
   {
    "duration": 89,
    "start_time": "2021-12-17T09:38:13.947Z"
   },
   {
    "duration": 25,
    "start_time": "2021-12-17T09:39:02.516Z"
   },
   {
    "duration": 5,
    "start_time": "2021-12-17T09:40:19.040Z"
   },
   {
    "duration": 277,
    "start_time": "2021-12-17T09:40:19.048Z"
   },
   {
    "duration": 243,
    "start_time": "2021-12-17T09:40:19.329Z"
   },
   {
    "duration": 165,
    "start_time": "2021-12-17T09:40:19.575Z"
   },
   {
    "duration": 83,
    "start_time": "2021-12-17T09:40:19.742Z"
   },
   {
    "duration": 101,
    "start_time": "2021-12-17T09:40:19.827Z"
   },
   {
    "duration": 36,
    "start_time": "2021-12-17T09:40:19.931Z"
   },
   {
    "duration": 191,
    "start_time": "2021-12-17T09:40:19.971Z"
   },
   {
    "duration": 293,
    "start_time": "2021-12-17T09:40:20.164Z"
   },
   {
    "duration": 187,
    "start_time": "2021-12-17T09:40:20.460Z"
   },
   {
    "duration": 179,
    "start_time": "2021-12-17T09:40:20.650Z"
   },
   {
    "duration": 144,
    "start_time": "2021-12-17T09:40:20.832Z"
   },
   {
    "duration": 8,
    "start_time": "2021-12-17T09:40:20.979Z"
   },
   {
    "duration": 35,
    "start_time": "2021-12-17T09:40:20.990Z"
   },
   {
    "duration": 72,
    "start_time": "2021-12-17T09:40:30.372Z"
   },
   {
    "duration": 120,
    "start_time": "2021-12-17T09:41:13.455Z"
   },
   {
    "duration": 13,
    "start_time": "2021-12-17T09:41:27.086Z"
   },
   {
    "duration": 127,
    "start_time": "2021-12-17T09:44:17.916Z"
   },
   {
    "duration": 107,
    "start_time": "2021-12-17T09:45:59.607Z"
   },
   {
    "duration": 529,
    "start_time": "2021-12-17T10:26:42.274Z"
   },
   {
    "duration": 83,
    "start_time": "2021-12-17T10:32:14.714Z"
   },
   {
    "duration": 7,
    "start_time": "2021-12-17T10:32:22.898Z"
   },
   {
    "duration": 7,
    "start_time": "2021-12-17T10:32:29.050Z"
   },
   {
    "duration": 88,
    "start_time": "2021-12-17T10:39:02.605Z"
   },
   {
    "duration": 98,
    "start_time": "2021-12-17T10:39:30.244Z"
   },
   {
    "duration": 14,
    "start_time": "2021-12-17T10:39:41.500Z"
   },
   {
    "duration": 1644,
    "start_time": "2021-12-17T10:41:49.233Z"
   },
   {
    "duration": 1059,
    "start_time": "2021-12-17T10:42:04.593Z"
   },
   {
    "duration": 1237,
    "start_time": "2021-12-17T10:42:16.729Z"
   },
   {
    "duration": 27,
    "start_time": "2021-12-17T10:42:38.880Z"
   },
   {
    "duration": 16,
    "start_time": "2021-12-17T10:43:01.218Z"
   },
   {
    "duration": 17,
    "start_time": "2021-12-17T10:43:19.514Z"
   },
   {
    "duration": 27,
    "start_time": "2021-12-17T10:44:08.262Z"
   },
   {
    "duration": 18,
    "start_time": "2021-12-17T10:44:17.789Z"
   },
   {
    "duration": 1985,
    "start_time": "2021-12-17T10:46:36.435Z"
   },
   {
    "duration": 418,
    "start_time": "2021-12-17T10:46:38.424Z"
   },
   {
    "duration": 360,
    "start_time": "2021-12-17T10:46:38.846Z"
   },
   {
    "duration": 247,
    "start_time": "2021-12-17T10:46:39.210Z"
   },
   {
    "duration": 81,
    "start_time": "2021-12-17T10:46:39.460Z"
   },
   {
    "duration": 91,
    "start_time": "2021-12-17T10:46:39.544Z"
   },
   {
    "duration": 44,
    "start_time": "2021-12-17T10:46:39.638Z"
   },
   {
    "duration": 211,
    "start_time": "2021-12-17T10:46:39.687Z"
   },
   {
    "duration": 298,
    "start_time": "2021-12-17T10:46:39.901Z"
   },
   {
    "duration": 185,
    "start_time": "2021-12-17T10:46:40.202Z"
   },
   {
    "duration": 269,
    "start_time": "2021-12-17T10:46:40.390Z"
   },
   {
    "duration": 235,
    "start_time": "2021-12-17T10:46:40.662Z"
   },
   {
    "duration": 8,
    "start_time": "2021-12-17T10:46:40.901Z"
   },
   {
    "duration": 45,
    "start_time": "2021-12-17T10:46:40.924Z"
   },
   {
    "duration": 188,
    "start_time": "2021-12-17T10:46:40.971Z"
   },
   {
    "duration": 27,
    "start_time": "2021-12-17T10:46:41.163Z"
   },
   {
    "duration": 1612,
    "start_time": "2021-12-17T10:46:41.193Z"
   },
   {
    "duration": 1053,
    "start_time": "2021-12-17T10:46:42.809Z"
   },
   {
    "duration": 1181,
    "start_time": "2021-12-17T10:46:43.865Z"
   },
   {
    "duration": 31,
    "start_time": "2021-12-17T10:46:45.049Z"
   },
   {
    "duration": 50,
    "start_time": "2021-12-17T10:46:45.083Z"
   },
   {
    "duration": 36,
    "start_time": "2021-12-17T10:46:45.136Z"
   },
   {
    "duration": 20,
    "start_time": "2021-12-17T10:46:45.176Z"
   },
   {
    "duration": 26,
    "start_time": "2021-12-17T10:51:56.409Z"
   },
   {
    "duration": 47,
    "start_time": "2021-12-17T10:52:54.019Z"
   },
   {
    "duration": 20,
    "start_time": "2021-12-17T10:53:18.763Z"
   },
   {
    "duration": 19,
    "start_time": "2021-12-17T10:53:33.051Z"
   },
   {
    "duration": 20,
    "start_time": "2021-12-17T10:53:42.899Z"
   }
  ],
  "kernelspec": {
   "display_name": "Python 3 (ipykernel)",
   "language": "python",
   "name": "python3"
  },
  "language_info": {
   "codemirror_mode": {
    "name": "ipython",
    "version": 3
   },
   "file_extension": ".py",
   "mimetype": "text/x-python",
   "name": "python",
   "nbconvert_exporter": "python",
   "pygments_lexer": "ipython3",
   "version": "3.9.5"
  },
  "toc": {
   "base_numbering": 1,
   "nav_menu": {},
   "number_sections": false,
   "sideBar": false,
   "skip_h1_title": false,
   "title_cell": "Содержание",
   "title_sidebar": "Contents",
   "toc_cell": false,
   "toc_position": {
    "height": "calc(100% - 180px)",
    "left": "10px",
    "top": "150px",
    "width": "165px"
   },
   "toc_section_display": true,
   "toc_window_display": false
  }
 },
 "nbformat": 4,
 "nbformat_minor": 2
}

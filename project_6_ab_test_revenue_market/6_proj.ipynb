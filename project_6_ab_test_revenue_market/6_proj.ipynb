{
 "cells": [
  {
   "cell_type": "markdown",
   "metadata": {},
   "source": [
    "# Приоритизация и A/B тест гипотез для увеличения выручки\n",
    "\n",
    "Вместе с отделом маркетинга был подготовлен список гипотез для увеличения выручки.\n",
    "Приоритизируем гипотезы, запустим A/B-тест и проанализируем результаты."
   ]
  },
  {
   "cell_type": "markdown",
   "metadata": {},
   "source": [
    "**Цель исследования:** отобрать и предложенные проверить гипотезы по увеличению выручки магазина"
   ]
  },
  {
   "cell_type": "markdown",
   "metadata": {},
   "source": [
    "**Содержание**\n",
    "    \n",
    "    \n",
    "1. [Изучение данных из файлов](#open)\n",
    "    \n",
    "    \n",
    "2. [Часть 1. Приоритизация гипотез.](#preproc)\n",
    "     \n",
    "    \n",
    "3. [Часть 2. Анализ A/B-теста](#pred)\n",
    "\n",
    "\n",
    "4. [Общий вывод](#summary)"
   ]
  },
  {
   "cell_type": "markdown",
   "metadata": {},
   "source": [
    "<a id=\"open\"></a>\n",
    "## Изучение данных из файла"
   ]
  },
  {
   "cell_type": "markdown",
   "metadata": {},
   "source": [
    "**Данные для первой части:**\n",
    "\n",
    "**Таблица hypothesis** (информация о гипотезах):\n",
    "\n",
    "Hypothesis — краткое описание гипотезы;<br>\n",
    "Reach — охват пользователей по 10-балльной шкале;<br>\n",
    "Impact — влияние на пользователей по 10-балльной шкале;<br>\n",
    "Confidence — уверенность в гипотезе по 10-балльной шкале;<br>\n",
    "Efforts — затраты ресурсов на проверку гипотезы по 10-балльной шкале. Чем больше значение Efforts, тем дороже проверка гипотезы.\n",
    "\n",
    "\n",
    "**Данные для второй части:**\n",
    "\n",
    "**Таблица orders** (информация о заказах):\n",
    "\n",
    "transactionId — идентификатор заказа;<br>\n",
    "visitorId — идентификатор пользователя, совершившего заказ;<br>\n",
    "date — дата, когда был совершён заказ;<br>\n",
    "revenue — выручка заказа;<br>\n",
    "group — группа A/B-теста, в которую попал заказ.\n",
    "\n",
    "\n",
    "**Таблица visitors** (информация о трафике):\n",
    "\n",
    "date — дата;<br>\n",
    "group — группа A/B-теста;<br>\n",
    "visitors — количество пользователей в указанную дату в указанной группе A/B-теста"
   ]
  },
  {
   "cell_type": "code",
   "execution_count": 1,
   "metadata": {},
   "outputs": [],
   "source": [
    "# Импортируем библиотеки\n",
    "\n",
    "import pandas as pd\n",
    "import seaborn as sb\n",
    "import datetime as dt\n",
    "import matplotlib.pyplot as plt\n",
    "import numpy as np\n",
    "from math import factorial\n",
    "from scipy import stats as st\n",
    "\n",
    "pd.set_option('display.max_columns', None)\n",
    "pd.set_option('display.max_colwidth', 500)\n",
    "pd.set_option('display.float_format', '{:,.2f}'.format)\n",
    "\n",
    "from pandas.plotting import register_matplotlib_converters\n",
    "register_matplotlib_converters()"
   ]
  },
  {
   "cell_type": "code",
   "execution_count": 2,
   "metadata": {
    "scrolled": false
   },
   "outputs": [
    {
     "data": {
      "text/html": [
       "<div>\n",
       "<style scoped>\n",
       "    .dataframe tbody tr th:only-of-type {\n",
       "        vertical-align: middle;\n",
       "    }\n",
       "\n",
       "    .dataframe tbody tr th {\n",
       "        vertical-align: top;\n",
       "    }\n",
       "\n",
       "    .dataframe thead th {\n",
       "        text-align: right;\n",
       "    }\n",
       "</style>\n",
       "<table border=\"1\" class=\"dataframe\">\n",
       "  <thead>\n",
       "    <tr style=\"text-align: right;\">\n",
       "      <th></th>\n",
       "      <th>Hypothesis</th>\n",
       "      <th>Reach</th>\n",
       "      <th>Impact</th>\n",
       "      <th>Confidence</th>\n",
       "      <th>Efforts</th>\n",
       "    </tr>\n",
       "  </thead>\n",
       "  <tbody>\n",
       "    <tr>\n",
       "      <th>0</th>\n",
       "      <td>Добавить два новых канала привлечения трафика, что позволит привлекать на 30% больше пользователей</td>\n",
       "      <td>3</td>\n",
       "      <td>10</td>\n",
       "      <td>8</td>\n",
       "      <td>6</td>\n",
       "    </tr>\n",
       "    <tr>\n",
       "      <th>1</th>\n",
       "      <td>Запустить собственную службу доставки, что сократит срок доставки заказов</td>\n",
       "      <td>2</td>\n",
       "      <td>5</td>\n",
       "      <td>4</td>\n",
       "      <td>10</td>\n",
       "    </tr>\n",
       "    <tr>\n",
       "      <th>2</th>\n",
       "      <td>Добавить блоки рекомендаций товаров на сайт интернет магазина, чтобы повысить конверсию и средний чек заказа</td>\n",
       "      <td>8</td>\n",
       "      <td>3</td>\n",
       "      <td>7</td>\n",
       "      <td>3</td>\n",
       "    </tr>\n",
       "    <tr>\n",
       "      <th>3</th>\n",
       "      <td>Изменить структура категорий, что увеличит конверсию, т.к. пользователи быстрее найдут нужный товар</td>\n",
       "      <td>8</td>\n",
       "      <td>3</td>\n",
       "      <td>3</td>\n",
       "      <td>8</td>\n",
       "    </tr>\n",
       "    <tr>\n",
       "      <th>4</th>\n",
       "      <td>Изменить цвет фона главной страницы, чтобы увеличить вовлеченность пользователей</td>\n",
       "      <td>3</td>\n",
       "      <td>1</td>\n",
       "      <td>1</td>\n",
       "      <td>1</td>\n",
       "    </tr>\n",
       "    <tr>\n",
       "      <th>5</th>\n",
       "      <td>Добавить страницу отзывов клиентов о магазине, что позволит увеличить количество заказов</td>\n",
       "      <td>3</td>\n",
       "      <td>2</td>\n",
       "      <td>2</td>\n",
       "      <td>3</td>\n",
       "    </tr>\n",
       "    <tr>\n",
       "      <th>6</th>\n",
       "      <td>Показать на главной странице баннеры с актуальными акциями и распродажами, чтобы увеличить конверсию</td>\n",
       "      <td>5</td>\n",
       "      <td>3</td>\n",
       "      <td>8</td>\n",
       "      <td>3</td>\n",
       "    </tr>\n",
       "    <tr>\n",
       "      <th>7</th>\n",
       "      <td>Добавить форму подписки на все основные страницы, чтобы собрать базу клиентов для email-рассылок</td>\n",
       "      <td>10</td>\n",
       "      <td>7</td>\n",
       "      <td>8</td>\n",
       "      <td>5</td>\n",
       "    </tr>\n",
       "    <tr>\n",
       "      <th>8</th>\n",
       "      <td>Запустить акцию, дающую скидку на товар в день рождения</td>\n",
       "      <td>1</td>\n",
       "      <td>9</td>\n",
       "      <td>9</td>\n",
       "      <td>5</td>\n",
       "    </tr>\n",
       "  </tbody>\n",
       "</table>\n",
       "</div>"
      ],
      "text/plain": [
       "                                                                                                     Hypothesis  \\\n",
       "0            Добавить два новых канала привлечения трафика, что позволит привлекать на 30% больше пользователей   \n",
       "1                                     Запустить собственную службу доставки, что сократит срок доставки заказов   \n",
       "2  Добавить блоки рекомендаций товаров на сайт интернет магазина, чтобы повысить конверсию и средний чек заказа   \n",
       "3           Изменить структура категорий, что увеличит конверсию, т.к. пользователи быстрее найдут нужный товар   \n",
       "4                              Изменить цвет фона главной страницы, чтобы увеличить вовлеченность пользователей   \n",
       "5                      Добавить страницу отзывов клиентов о магазине, что позволит увеличить количество заказов   \n",
       "6          Показать на главной странице баннеры с актуальными акциями и распродажами, чтобы увеличить конверсию   \n",
       "7              Добавить форму подписки на все основные страницы, чтобы собрать базу клиентов для email-рассылок   \n",
       "8                                                       Запустить акцию, дающую скидку на товар в день рождения   \n",
       "\n",
       "   Reach  Impact  Confidence  Efforts  \n",
       "0      3      10           8        6  \n",
       "1      2       5           4       10  \n",
       "2      8       3           7        3  \n",
       "3      8       3           3        8  \n",
       "4      3       1           1        1  \n",
       "5      3       2           2        3  \n",
       "6      5       3           8        3  \n",
       "7     10       7           8        5  \n",
       "8      1       9           9        5  "
      ]
     },
     "metadata": {},
     "output_type": "display_data"
    },
    {
     "name": "stdout",
     "output_type": "stream",
     "text": [
      "<class 'pandas.core.frame.DataFrame'>\n",
      "RangeIndex: 9 entries, 0 to 8\n",
      "Data columns (total 5 columns):\n",
      " #   Column      Non-Null Count  Dtype \n",
      "---  ------      --------------  ----- \n",
      " 0   Hypothesis  9 non-null      object\n",
      " 1   Reach       9 non-null      int64 \n",
      " 2   Impact      9 non-null      int64 \n",
      " 3   Confidence  9 non-null      int64 \n",
      " 4   Efforts     9 non-null      int64 \n",
      "dtypes: int64(4), object(1)\n",
      "memory usage: 488.0+ bytes\n"
     ]
    }
   ],
   "source": [
    "# Изучаем таблицу гипотез\n",
    "\n",
    "hypothesis = pd.read_csv('/datasets/hypothesis.csv', sep = ',' )\n",
    "display(hypothesis.head(10))\n",
    "hypothesis.tail(10)\n",
    "hypothesis.sample(5)\n",
    "hypothesis.info()\n"
   ]
  },
  {
   "cell_type": "code",
   "execution_count": 3,
   "metadata": {
    "scrolled": false
   },
   "outputs": [
    {
     "data": {
      "text/html": [
       "<div>\n",
       "<style scoped>\n",
       "    .dataframe tbody tr th:only-of-type {\n",
       "        vertical-align: middle;\n",
       "    }\n",
       "\n",
       "    .dataframe tbody tr th {\n",
       "        vertical-align: top;\n",
       "    }\n",
       "\n",
       "    .dataframe thead th {\n",
       "        text-align: right;\n",
       "    }\n",
       "</style>\n",
       "<table border=\"1\" class=\"dataframe\">\n",
       "  <thead>\n",
       "    <tr style=\"text-align: right;\">\n",
       "      <th></th>\n",
       "      <th>transactionId</th>\n",
       "      <th>visitorId</th>\n",
       "      <th>date</th>\n",
       "      <th>revenue</th>\n",
       "      <th>group</th>\n",
       "    </tr>\n",
       "  </thead>\n",
       "  <tbody>\n",
       "    <tr>\n",
       "      <th>0</th>\n",
       "      <td>3667963787</td>\n",
       "      <td>3312258926</td>\n",
       "      <td>2019-08-15</td>\n",
       "      <td>1650</td>\n",
       "      <td>B</td>\n",
       "    </tr>\n",
       "    <tr>\n",
       "      <th>1</th>\n",
       "      <td>2804400009</td>\n",
       "      <td>3642806036</td>\n",
       "      <td>2019-08-15</td>\n",
       "      <td>730</td>\n",
       "      <td>B</td>\n",
       "    </tr>\n",
       "    <tr>\n",
       "      <th>2</th>\n",
       "      <td>2961555356</td>\n",
       "      <td>4069496402</td>\n",
       "      <td>2019-08-15</td>\n",
       "      <td>400</td>\n",
       "      <td>A</td>\n",
       "    </tr>\n",
       "    <tr>\n",
       "      <th>3</th>\n",
       "      <td>3797467345</td>\n",
       "      <td>1196621759</td>\n",
       "      <td>2019-08-15</td>\n",
       "      <td>9759</td>\n",
       "      <td>B</td>\n",
       "    </tr>\n",
       "    <tr>\n",
       "      <th>4</th>\n",
       "      <td>2282983706</td>\n",
       "      <td>2322279887</td>\n",
       "      <td>2019-08-15</td>\n",
       "      <td>2308</td>\n",
       "      <td>B</td>\n",
       "    </tr>\n",
       "    <tr>\n",
       "      <th>5</th>\n",
       "      <td>182168103</td>\n",
       "      <td>935554773</td>\n",
       "      <td>2019-08-15</td>\n",
       "      <td>2210</td>\n",
       "      <td>B</td>\n",
       "    </tr>\n",
       "    <tr>\n",
       "      <th>6</th>\n",
       "      <td>398296753</td>\n",
       "      <td>2900797465</td>\n",
       "      <td>2019-08-15</td>\n",
       "      <td>1860</td>\n",
       "      <td>B</td>\n",
       "    </tr>\n",
       "    <tr>\n",
       "      <th>7</th>\n",
       "      <td>2626614568</td>\n",
       "      <td>78758296</td>\n",
       "      <td>2019-08-15</td>\n",
       "      <td>1044</td>\n",
       "      <td>A</td>\n",
       "    </tr>\n",
       "    <tr>\n",
       "      <th>8</th>\n",
       "      <td>1576988021</td>\n",
       "      <td>295230930</td>\n",
       "      <td>2019-08-15</td>\n",
       "      <td>13710</td>\n",
       "      <td>A</td>\n",
       "    </tr>\n",
       "    <tr>\n",
       "      <th>9</th>\n",
       "      <td>1506739906</td>\n",
       "      <td>1882260405</td>\n",
       "      <td>2019-08-15</td>\n",
       "      <td>1855</td>\n",
       "      <td>B</td>\n",
       "    </tr>\n",
       "  </tbody>\n",
       "</table>\n",
       "</div>"
      ],
      "text/plain": [
       "   transactionId   visitorId        date  revenue group\n",
       "0     3667963787  3312258926  2019-08-15     1650     B\n",
       "1     2804400009  3642806036  2019-08-15      730     B\n",
       "2     2961555356  4069496402  2019-08-15      400     A\n",
       "3     3797467345  1196621759  2019-08-15     9759     B\n",
       "4     2282983706  2322279887  2019-08-15     2308     B\n",
       "5      182168103   935554773  2019-08-15     2210     B\n",
       "6      398296753  2900797465  2019-08-15     1860     B\n",
       "7     2626614568    78758296  2019-08-15     1044     A\n",
       "8     1576988021   295230930  2019-08-15    13710     A\n",
       "9     1506739906  1882260405  2019-08-15     1855     B"
      ]
     },
     "metadata": {},
     "output_type": "display_data"
    },
    {
     "name": "stdout",
     "output_type": "stream",
     "text": [
      "<class 'pandas.core.frame.DataFrame'>\n",
      "RangeIndex: 1197 entries, 0 to 1196\n",
      "Data columns (total 5 columns):\n",
      " #   Column         Non-Null Count  Dtype         \n",
      "---  ------         --------------  -----         \n",
      " 0   transactionId  1197 non-null   int64         \n",
      " 1   visitorId      1197 non-null   int64         \n",
      " 2   date           1197 non-null   datetime64[ns]\n",
      " 3   revenue        1197 non-null   int64         \n",
      " 4   group          1197 non-null   object        \n",
      "dtypes: datetime64[ns](1), int64(3), object(1)\n",
      "memory usage: 46.9+ KB\n"
     ]
    },
    {
     "data": {
      "text/html": [
       "<div>\n",
       "<style scoped>\n",
       "    .dataframe tbody tr th:only-of-type {\n",
       "        vertical-align: middle;\n",
       "    }\n",
       "\n",
       "    .dataframe tbody tr th {\n",
       "        vertical-align: top;\n",
       "    }\n",
       "\n",
       "    .dataframe thead th {\n",
       "        text-align: right;\n",
       "    }\n",
       "</style>\n",
       "<table border=\"1\" class=\"dataframe\">\n",
       "  <thead>\n",
       "    <tr style=\"text-align: right;\">\n",
       "      <th></th>\n",
       "      <th>count</th>\n",
       "      <th>mean</th>\n",
       "      <th>std</th>\n",
       "      <th>min</th>\n",
       "      <th>25%</th>\n",
       "      <th>50%</th>\n",
       "      <th>75%</th>\n",
       "      <th>max</th>\n",
       "    </tr>\n",
       "  </thead>\n",
       "  <tbody>\n",
       "    <tr>\n",
       "      <th>transactionId</th>\n",
       "      <td>1,197.00</td>\n",
       "      <td>2,155,621,385.53</td>\n",
       "      <td>1,229,084,904.76</td>\n",
       "      <td>1,062,393.00</td>\n",
       "      <td>1,166,775,572.00</td>\n",
       "      <td>2,145,193,898.00</td>\n",
       "      <td>3,237,740,112.00</td>\n",
       "      <td>4,293,855,558.00</td>\n",
       "    </tr>\n",
       "    <tr>\n",
       "      <th>visitorId</th>\n",
       "      <td>1,197.00</td>\n",
       "      <td>2,165,960,143.10</td>\n",
       "      <td>1,236,014,192.15</td>\n",
       "      <td>5,114,589.00</td>\n",
       "      <td>1,111,826,046.00</td>\n",
       "      <td>2,217,984,702.00</td>\n",
       "      <td>3,177,606,451.00</td>\n",
       "      <td>4,283,872,382.00</td>\n",
       "    </tr>\n",
       "    <tr>\n",
       "      <th>revenue</th>\n",
       "      <td>1,197.00</td>\n",
       "      <td>8,348.01</td>\n",
       "      <td>39,191.13</td>\n",
       "      <td>50.00</td>\n",
       "      <td>1,220.00</td>\n",
       "      <td>2,978.00</td>\n",
       "      <td>8,290.00</td>\n",
       "      <td>1,294,500.00</td>\n",
       "    </tr>\n",
       "  </tbody>\n",
       "</table>\n",
       "</div>"
      ],
      "text/plain": [
       "                 count             mean              std          min  \\\n",
       "transactionId 1,197.00 2,155,621,385.53 1,229,084,904.76 1,062,393.00   \n",
       "visitorId     1,197.00 2,165,960,143.10 1,236,014,192.15 5,114,589.00   \n",
       "revenue       1,197.00         8,348.01        39,191.13        50.00   \n",
       "\n",
       "                           25%              50%              75%  \\\n",
       "transactionId 1,166,775,572.00 2,145,193,898.00 3,237,740,112.00   \n",
       "visitorId     1,111,826,046.00 2,217,984,702.00 3,177,606,451.00   \n",
       "revenue               1,220.00         2,978.00         8,290.00   \n",
       "\n",
       "                           max  \n",
       "transactionId 4,293,855,558.00  \n",
       "visitorId     4,283,872,382.00  \n",
       "revenue           1,294,500.00  "
      ]
     },
     "execution_count": 3,
     "metadata": {},
     "output_type": "execute_result"
    }
   ],
   "source": [
    "# Изучаем таблицу заказов по результатам A/B теста\n",
    "\n",
    "orders = pd.read_csv('/datasets/orders.csv', sep = ',' )\n",
    "display(orders.head(10))\n",
    "orders.tail(10)\n",
    "orders.sample(5)\n",
    "\n",
    "# Приведем дату к нужному для исследования виду\n",
    "orders['date'] = orders['date'].map(\n",
    "    lambda x: dt.datetime.strptime(x, '%Y-%m-%d')\n",
    ")\n",
    "\n",
    "orders.info()\n",
    "orders.describe().T"
   ]
  },
  {
   "cell_type": "code",
   "execution_count": 4,
   "metadata": {
    "scrolled": false
   },
   "outputs": [
    {
     "data": {
      "text/html": [
       "<div>\n",
       "<style scoped>\n",
       "    .dataframe tbody tr th:only-of-type {\n",
       "        vertical-align: middle;\n",
       "    }\n",
       "\n",
       "    .dataframe tbody tr th {\n",
       "        vertical-align: top;\n",
       "    }\n",
       "\n",
       "    .dataframe thead th {\n",
       "        text-align: right;\n",
       "    }\n",
       "</style>\n",
       "<table border=\"1\" class=\"dataframe\">\n",
       "  <thead>\n",
       "    <tr style=\"text-align: right;\">\n",
       "      <th></th>\n",
       "      <th>date</th>\n",
       "      <th>group</th>\n",
       "      <th>visitors</th>\n",
       "    </tr>\n",
       "  </thead>\n",
       "  <tbody>\n",
       "    <tr>\n",
       "      <th>0</th>\n",
       "      <td>2019-08-01</td>\n",
       "      <td>A</td>\n",
       "      <td>719</td>\n",
       "    </tr>\n",
       "    <tr>\n",
       "      <th>1</th>\n",
       "      <td>2019-08-02</td>\n",
       "      <td>A</td>\n",
       "      <td>619</td>\n",
       "    </tr>\n",
       "    <tr>\n",
       "      <th>2</th>\n",
       "      <td>2019-08-03</td>\n",
       "      <td>A</td>\n",
       "      <td>507</td>\n",
       "    </tr>\n",
       "    <tr>\n",
       "      <th>3</th>\n",
       "      <td>2019-08-04</td>\n",
       "      <td>A</td>\n",
       "      <td>717</td>\n",
       "    </tr>\n",
       "    <tr>\n",
       "      <th>4</th>\n",
       "      <td>2019-08-05</td>\n",
       "      <td>A</td>\n",
       "      <td>756</td>\n",
       "    </tr>\n",
       "    <tr>\n",
       "      <th>5</th>\n",
       "      <td>2019-08-06</td>\n",
       "      <td>A</td>\n",
       "      <td>667</td>\n",
       "    </tr>\n",
       "    <tr>\n",
       "      <th>6</th>\n",
       "      <td>2019-08-07</td>\n",
       "      <td>A</td>\n",
       "      <td>644</td>\n",
       "    </tr>\n",
       "    <tr>\n",
       "      <th>7</th>\n",
       "      <td>2019-08-08</td>\n",
       "      <td>A</td>\n",
       "      <td>610</td>\n",
       "    </tr>\n",
       "    <tr>\n",
       "      <th>8</th>\n",
       "      <td>2019-08-09</td>\n",
       "      <td>A</td>\n",
       "      <td>617</td>\n",
       "    </tr>\n",
       "    <tr>\n",
       "      <th>9</th>\n",
       "      <td>2019-08-10</td>\n",
       "      <td>A</td>\n",
       "      <td>406</td>\n",
       "    </tr>\n",
       "  </tbody>\n",
       "</table>\n",
       "</div>"
      ],
      "text/plain": [
       "         date group  visitors\n",
       "0  2019-08-01     A       719\n",
       "1  2019-08-02     A       619\n",
       "2  2019-08-03     A       507\n",
       "3  2019-08-04     A       717\n",
       "4  2019-08-05     A       756\n",
       "5  2019-08-06     A       667\n",
       "6  2019-08-07     A       644\n",
       "7  2019-08-08     A       610\n",
       "8  2019-08-09     A       617\n",
       "9  2019-08-10     A       406"
      ]
     },
     "metadata": {},
     "output_type": "display_data"
    },
    {
     "name": "stdout",
     "output_type": "stream",
     "text": [
      "<class 'pandas.core.frame.DataFrame'>\n",
      "RangeIndex: 62 entries, 0 to 61\n",
      "Data columns (total 3 columns):\n",
      " #   Column    Non-Null Count  Dtype         \n",
      "---  ------    --------------  -----         \n",
      " 0   date      62 non-null     datetime64[ns]\n",
      " 1   group     62 non-null     object        \n",
      " 2   visitors  62 non-null     int64         \n",
      "dtypes: datetime64[ns](1), int64(1), object(1)\n",
      "memory usage: 1.6+ KB\n"
     ]
    },
    {
     "data": {
      "text/html": [
       "<div>\n",
       "<style scoped>\n",
       "    .dataframe tbody tr th:only-of-type {\n",
       "        vertical-align: middle;\n",
       "    }\n",
       "\n",
       "    .dataframe tbody tr th {\n",
       "        vertical-align: top;\n",
       "    }\n",
       "\n",
       "    .dataframe thead th {\n",
       "        text-align: right;\n",
       "    }\n",
       "</style>\n",
       "<table border=\"1\" class=\"dataframe\">\n",
       "  <thead>\n",
       "    <tr style=\"text-align: right;\">\n",
       "      <th></th>\n",
       "      <th>count</th>\n",
       "      <th>mean</th>\n",
       "      <th>std</th>\n",
       "      <th>min</th>\n",
       "      <th>25%</th>\n",
       "      <th>50%</th>\n",
       "      <th>75%</th>\n",
       "      <th>max</th>\n",
       "    </tr>\n",
       "  </thead>\n",
       "  <tbody>\n",
       "    <tr>\n",
       "      <th>visitors</th>\n",
       "      <td>62.00</td>\n",
       "      <td>607.29</td>\n",
       "      <td>114.40</td>\n",
       "      <td>361.00</td>\n",
       "      <td>534.00</td>\n",
       "      <td>624.50</td>\n",
       "      <td>710.50</td>\n",
       "      <td>770.00</td>\n",
       "    </tr>\n",
       "  </tbody>\n",
       "</table>\n",
       "</div>"
      ],
      "text/plain": [
       "          count   mean    std    min    25%    50%    75%    max\n",
       "visitors  62.00 607.29 114.40 361.00 534.00 624.50 710.50 770.00"
      ]
     },
     "execution_count": 4,
     "metadata": {},
     "output_type": "execute_result"
    }
   ],
   "source": [
    "# Изучаем таблицу трафика по результатам A/B теста\n",
    "\n",
    "visitors = pd.read_csv('/datasets/visitors.csv', sep = ',' )\n",
    "display(visitors.head(10))\n",
    "visitors.tail(10)\n",
    "visitors.sample(5)\n",
    "\n",
    "# Приведем дату к нужному для исследования виду\n",
    "visitors['date'] = visitors['date'].map(\n",
    "    lambda x: dt.datetime.strptime(x, '%Y-%m-%d')\n",
    ")\n",
    "\n",
    "visitors.info()\n",
    "visitors.describe().T"
   ]
  },
  {
   "cell_type": "code",
   "execution_count": 5,
   "metadata": {},
   "outputs": [
    {
     "data": {
      "text/html": [
       "<div>\n",
       "<style scoped>\n",
       "    .dataframe tbody tr th:only-of-type {\n",
       "        vertical-align: middle;\n",
       "    }\n",
       "\n",
       "    .dataframe tbody tr th {\n",
       "        vertical-align: top;\n",
       "    }\n",
       "\n",
       "    .dataframe thead th {\n",
       "        text-align: right;\n",
       "    }\n",
       "</style>\n",
       "<table border=\"1\" class=\"dataframe\">\n",
       "  <thead>\n",
       "    <tr style=\"text-align: right;\">\n",
       "      <th></th>\n",
       "      <th>transactionId</th>\n",
       "      <th>visitorId</th>\n",
       "      <th>date</th>\n",
       "      <th>revenue</th>\n",
       "      <th>group</th>\n",
       "    </tr>\n",
       "  </thead>\n",
       "  <tbody>\n",
       "    <tr>\n",
       "      <th>0</th>\n",
       "      <td>3667963787</td>\n",
       "      <td>3312258926</td>\n",
       "      <td>2019-08-15</td>\n",
       "      <td>1650</td>\n",
       "      <td>B</td>\n",
       "    </tr>\n",
       "    <tr>\n",
       "      <th>1</th>\n",
       "      <td>2804400009</td>\n",
       "      <td>3642806036</td>\n",
       "      <td>2019-08-15</td>\n",
       "      <td>730</td>\n",
       "      <td>B</td>\n",
       "    </tr>\n",
       "    <tr>\n",
       "      <th>3</th>\n",
       "      <td>3797467345</td>\n",
       "      <td>1196621759</td>\n",
       "      <td>2019-08-15</td>\n",
       "      <td>9759</td>\n",
       "      <td>B</td>\n",
       "    </tr>\n",
       "    <tr>\n",
       "      <th>4</th>\n",
       "      <td>2282983706</td>\n",
       "      <td>2322279887</td>\n",
       "      <td>2019-08-15</td>\n",
       "      <td>2308</td>\n",
       "      <td>B</td>\n",
       "    </tr>\n",
       "    <tr>\n",
       "      <th>5</th>\n",
       "      <td>182168103</td>\n",
       "      <td>935554773</td>\n",
       "      <td>2019-08-15</td>\n",
       "      <td>2210</td>\n",
       "      <td>B</td>\n",
       "    </tr>\n",
       "    <tr>\n",
       "      <th>...</th>\n",
       "      <td>...</td>\n",
       "      <td>...</td>\n",
       "      <td>...</td>\n",
       "      <td>...</td>\n",
       "      <td>...</td>\n",
       "    </tr>\n",
       "    <tr>\n",
       "      <th>1191</th>\n",
       "      <td>3592955527</td>\n",
       "      <td>608641596</td>\n",
       "      <td>2019-08-14</td>\n",
       "      <td>16490</td>\n",
       "      <td>B</td>\n",
       "    </tr>\n",
       "    <tr>\n",
       "      <th>1192</th>\n",
       "      <td>2662137336</td>\n",
       "      <td>3733762160</td>\n",
       "      <td>2019-08-14</td>\n",
       "      <td>6490</td>\n",
       "      <td>B</td>\n",
       "    </tr>\n",
       "    <tr>\n",
       "      <th>1193</th>\n",
       "      <td>2203539145</td>\n",
       "      <td>370388673</td>\n",
       "      <td>2019-08-14</td>\n",
       "      <td>3190</td>\n",
       "      <td>A</td>\n",
       "    </tr>\n",
       "    <tr>\n",
       "      <th>1194</th>\n",
       "      <td>1807773912</td>\n",
       "      <td>573423106</td>\n",
       "      <td>2019-08-14</td>\n",
       "      <td>10550</td>\n",
       "      <td>A</td>\n",
       "    </tr>\n",
       "    <tr>\n",
       "      <th>1196</th>\n",
       "      <td>3936777065</td>\n",
       "      <td>2108080724</td>\n",
       "      <td>2019-08-15</td>\n",
       "      <td>202740</td>\n",
       "      <td>B</td>\n",
       "    </tr>\n",
       "  </tbody>\n",
       "</table>\n",
       "<p>1016 rows × 5 columns</p>\n",
       "</div>"
      ],
      "text/plain": [
       "      transactionId   visitorId       date  revenue group\n",
       "0        3667963787  3312258926 2019-08-15     1650     B\n",
       "1        2804400009  3642806036 2019-08-15      730     B\n",
       "3        3797467345  1196621759 2019-08-15     9759     B\n",
       "4        2282983706  2322279887 2019-08-15     2308     B\n",
       "5         182168103   935554773 2019-08-15     2210     B\n",
       "...             ...         ...        ...      ...   ...\n",
       "1191     3592955527   608641596 2019-08-14    16490     B\n",
       "1192     2662137336  3733762160 2019-08-14     6490     B\n",
       "1193     2203539145   370388673 2019-08-14     3190     A\n",
       "1194     1807773912   573423106 2019-08-14    10550     A\n",
       "1196     3936777065  2108080724 2019-08-15   202740     B\n",
       "\n",
       "[1016 rows x 5 columns]"
      ]
     },
     "metadata": {},
     "output_type": "display_data"
    }
   ],
   "source": [
    "# Проверим, есть посетители попавшие в обе группы.\n",
    "\n",
    "user_group = orders.groupby('visitorId', as_index=False).agg({'group': pd.Series.nunique})\n",
    "\n",
    "# user_group[user_group['group']>1]['visitorId'].count()\n",
    "# Таких 58\n",
    "\n",
    "users_bad = user_group[user_group['group']>1]['visitorId']\n",
    "\n",
    "# Удалим таких юзеров из выборки, так как они мешают исследованию\n",
    "orders = orders[~orders['visitorId'].isin(users_bad)] \n",
    "\n",
    "display(orders)"
   ]
  },
  {
   "cell_type": "markdown",
   "metadata": {},
   "source": [
    "### Вывод\n",
    "\n",
    "Данные открыты и изучены, из выборки были удалены посетители, попавшие сразу в две группы. Можно приступать к исследованию."
   ]
  },
  {
   "cell_type": "markdown",
   "metadata": {},
   "source": [
    "<a id=\"preproc\"></a>\n",
    "## Часть 1. Приоритизация гипотез"
   ]
  },
  {
   "cell_type": "markdown",
   "metadata": {},
   "source": [
    "Применим фреймворк ICE для приоритизации гипотез. Отсортируем их по убыванию приоритета."
   ]
  },
  {
   "cell_type": "code",
   "execution_count": 6,
   "metadata": {
    "scrolled": true
   },
   "outputs": [
    {
     "data": {
      "text/html": [
       "<div>\n",
       "<style scoped>\n",
       "    .dataframe tbody tr th:only-of-type {\n",
       "        vertical-align: middle;\n",
       "    }\n",
       "\n",
       "    .dataframe tbody tr th {\n",
       "        vertical-align: top;\n",
       "    }\n",
       "\n",
       "    .dataframe thead th {\n",
       "        text-align: right;\n",
       "    }\n",
       "</style>\n",
       "<table border=\"1\" class=\"dataframe\">\n",
       "  <thead>\n",
       "    <tr style=\"text-align: right;\">\n",
       "      <th></th>\n",
       "      <th>Hypothesis</th>\n",
       "      <th>ICE</th>\n",
       "    </tr>\n",
       "  </thead>\n",
       "  <tbody>\n",
       "    <tr>\n",
       "      <th>8</th>\n",
       "      <td>Запустить акцию, дающую скидку на товар в день рождения</td>\n",
       "      <td>16.20</td>\n",
       "    </tr>\n",
       "    <tr>\n",
       "      <th>0</th>\n",
       "      <td>Добавить два новых канала привлечения трафика, что позволит привлекать на 30% больше пользователей</td>\n",
       "      <td>13.33</td>\n",
       "    </tr>\n",
       "    <tr>\n",
       "      <th>7</th>\n",
       "      <td>Добавить форму подписки на все основные страницы, чтобы собрать базу клиентов для email-рассылок</td>\n",
       "      <td>11.20</td>\n",
       "    </tr>\n",
       "    <tr>\n",
       "      <th>6</th>\n",
       "      <td>Показать на главной странице баннеры с актуальными акциями и распродажами, чтобы увеличить конверсию</td>\n",
       "      <td>8.00</td>\n",
       "    </tr>\n",
       "    <tr>\n",
       "      <th>2</th>\n",
       "      <td>Добавить блоки рекомендаций товаров на сайт интернет магазина, чтобы повысить конверсию и средний чек заказа</td>\n",
       "      <td>7.00</td>\n",
       "    </tr>\n",
       "    <tr>\n",
       "      <th>1</th>\n",
       "      <td>Запустить собственную службу доставки, что сократит срок доставки заказов</td>\n",
       "      <td>2.00</td>\n",
       "    </tr>\n",
       "    <tr>\n",
       "      <th>5</th>\n",
       "      <td>Добавить страницу отзывов клиентов о магазине, что позволит увеличить количество заказов</td>\n",
       "      <td>1.33</td>\n",
       "    </tr>\n",
       "    <tr>\n",
       "      <th>3</th>\n",
       "      <td>Изменить структура категорий, что увеличит конверсию, т.к. пользователи быстрее найдут нужный товар</td>\n",
       "      <td>1.12</td>\n",
       "    </tr>\n",
       "    <tr>\n",
       "      <th>4</th>\n",
       "      <td>Изменить цвет фона главной страницы, чтобы увеличить вовлеченность пользователей</td>\n",
       "      <td>1.00</td>\n",
       "    </tr>\n",
       "  </tbody>\n",
       "</table>\n",
       "</div>"
      ],
      "text/plain": [
       "                                                                                                     Hypothesis  \\\n",
       "8                                                       Запустить акцию, дающую скидку на товар в день рождения   \n",
       "0            Добавить два новых канала привлечения трафика, что позволит привлекать на 30% больше пользователей   \n",
       "7              Добавить форму подписки на все основные страницы, чтобы собрать базу клиентов для email-рассылок   \n",
       "6          Показать на главной странице баннеры с актуальными акциями и распродажами, чтобы увеличить конверсию   \n",
       "2  Добавить блоки рекомендаций товаров на сайт интернет магазина, чтобы повысить конверсию и средний чек заказа   \n",
       "1                                     Запустить собственную службу доставки, что сократит срок доставки заказов   \n",
       "5                      Добавить страницу отзывов клиентов о магазине, что позволит увеличить количество заказов   \n",
       "3           Изменить структура категорий, что увеличит конверсию, т.к. пользователи быстрее найдут нужный товар   \n",
       "4                              Изменить цвет фона главной страницы, чтобы увеличить вовлеченность пользователей   \n",
       "\n",
       "    ICE  \n",
       "8 16.20  \n",
       "0 13.33  \n",
       "7 11.20  \n",
       "6  8.00  \n",
       "2  7.00  \n",
       "1  2.00  \n",
       "5  1.33  \n",
       "3  1.12  \n",
       "4  1.00  "
      ]
     },
     "metadata": {},
     "output_type": "display_data"
    }
   ],
   "source": [
    "hypothesis['ICE'] = (hypothesis['Impact'] * hypothesis['Confidence'])/hypothesis['Efforts']\n",
    "\n",
    "display(hypothesis[['Hypothesis','ICE']].sort_values(by='ICE', ascending=False))"
   ]
  },
  {
   "cell_type": "markdown",
   "metadata": {},
   "source": [
    "Применим фреймворк RICE для приоритизации гипотез. Отсортируем их по убыванию приоритета."
   ]
  },
  {
   "cell_type": "code",
   "execution_count": 7,
   "metadata": {},
   "outputs": [
    {
     "data": {
      "text/html": [
       "<div>\n",
       "<style scoped>\n",
       "    .dataframe tbody tr th:only-of-type {\n",
       "        vertical-align: middle;\n",
       "    }\n",
       "\n",
       "    .dataframe tbody tr th {\n",
       "        vertical-align: top;\n",
       "    }\n",
       "\n",
       "    .dataframe thead th {\n",
       "        text-align: right;\n",
       "    }\n",
       "</style>\n",
       "<table border=\"1\" class=\"dataframe\">\n",
       "  <thead>\n",
       "    <tr style=\"text-align: right;\">\n",
       "      <th></th>\n",
       "      <th>Hypothesis</th>\n",
       "      <th>RICE</th>\n",
       "    </tr>\n",
       "  </thead>\n",
       "  <tbody>\n",
       "    <tr>\n",
       "      <th>7</th>\n",
       "      <td>Добавить форму подписки на все основные страницы, чтобы собрать базу клиентов для email-рассылок</td>\n",
       "      <td>112.00</td>\n",
       "    </tr>\n",
       "    <tr>\n",
       "      <th>2</th>\n",
       "      <td>Добавить блоки рекомендаций товаров на сайт интернет магазина, чтобы повысить конверсию и средний чек заказа</td>\n",
       "      <td>56.00</td>\n",
       "    </tr>\n",
       "    <tr>\n",
       "      <th>0</th>\n",
       "      <td>Добавить два новых канала привлечения трафика, что позволит привлекать на 30% больше пользователей</td>\n",
       "      <td>40.00</td>\n",
       "    </tr>\n",
       "    <tr>\n",
       "      <th>6</th>\n",
       "      <td>Показать на главной странице баннеры с актуальными акциями и распродажами, чтобы увеличить конверсию</td>\n",
       "      <td>40.00</td>\n",
       "    </tr>\n",
       "    <tr>\n",
       "      <th>8</th>\n",
       "      <td>Запустить акцию, дающую скидку на товар в день рождения</td>\n",
       "      <td>16.20</td>\n",
       "    </tr>\n",
       "    <tr>\n",
       "      <th>3</th>\n",
       "      <td>Изменить структура категорий, что увеличит конверсию, т.к. пользователи быстрее найдут нужный товар</td>\n",
       "      <td>9.00</td>\n",
       "    </tr>\n",
       "    <tr>\n",
       "      <th>1</th>\n",
       "      <td>Запустить собственную службу доставки, что сократит срок доставки заказов</td>\n",
       "      <td>4.00</td>\n",
       "    </tr>\n",
       "    <tr>\n",
       "      <th>5</th>\n",
       "      <td>Добавить страницу отзывов клиентов о магазине, что позволит увеличить количество заказов</td>\n",
       "      <td>4.00</td>\n",
       "    </tr>\n",
       "    <tr>\n",
       "      <th>4</th>\n",
       "      <td>Изменить цвет фона главной страницы, чтобы увеличить вовлеченность пользователей</td>\n",
       "      <td>3.00</td>\n",
       "    </tr>\n",
       "  </tbody>\n",
       "</table>\n",
       "</div>"
      ],
      "text/plain": [
       "                                                                                                     Hypothesis  \\\n",
       "7              Добавить форму подписки на все основные страницы, чтобы собрать базу клиентов для email-рассылок   \n",
       "2  Добавить блоки рекомендаций товаров на сайт интернет магазина, чтобы повысить конверсию и средний чек заказа   \n",
       "0            Добавить два новых канала привлечения трафика, что позволит привлекать на 30% больше пользователей   \n",
       "6          Показать на главной странице баннеры с актуальными акциями и распродажами, чтобы увеличить конверсию   \n",
       "8                                                       Запустить акцию, дающую скидку на товар в день рождения   \n",
       "3           Изменить структура категорий, что увеличит конверсию, т.к. пользователи быстрее найдут нужный товар   \n",
       "1                                     Запустить собственную службу доставки, что сократит срок доставки заказов   \n",
       "5                      Добавить страницу отзывов клиентов о магазине, что позволит увеличить количество заказов   \n",
       "4                              Изменить цвет фона главной страницы, чтобы увеличить вовлеченность пользователей   \n",
       "\n",
       "    RICE  \n",
       "7 112.00  \n",
       "2  56.00  \n",
       "0  40.00  \n",
       "6  40.00  \n",
       "8  16.20  \n",
       "3   9.00  \n",
       "1   4.00  \n",
       "5   4.00  \n",
       "4   3.00  "
      ]
     },
     "metadata": {},
     "output_type": "display_data"
    }
   ],
   "source": [
    "hypothesis['RICE'] = (hypothesis['Reach'] * hypothesis['Impact'] * hypothesis['Confidence'])/hypothesis['Efforts']\n",
    "\n",
    "display(hypothesis[['Hypothesis','RICE']].sort_values(by='RICE', ascending=False))"
   ]
  },
  {
   "cell_type": "code",
   "execution_count": 8,
   "metadata": {},
   "outputs": [
    {
     "data": {
      "text/html": [
       "<style  type=\"text/css\" >\n",
       "#T_d13ea_row0_col0,#T_d13ea_row0_col1,#T_d13ea_row0_col2,#T_d13ea_row0_col3,#T_d13ea_row1_col0,#T_d13ea_row1_col1,#T_d13ea_row1_col2,#T_d13ea_row1_col3,#T_d13ea_row2_col0,#T_d13ea_row2_col1,#T_d13ea_row2_col2,#T_d13ea_row2_col3,#T_d13ea_row3_col0,#T_d13ea_row3_col1,#T_d13ea_row3_col2,#T_d13ea_row3_col3,#T_d13ea_row4_col0,#T_d13ea_row4_col1,#T_d13ea_row4_col2,#T_d13ea_row4_col3{\n",
       "            background:  lightgreen;\n",
       "        }</style><table id=\"T_d13ea_\" ><thead>    <tr>        <th class=\"blank level0\" ></th>        <th class=\"col_heading level0 col0\" >Hypothesis</th>        <th class=\"col_heading level0 col1\" >RICE</th>        <th class=\"col_heading level0 col2\" >ICE</th>        <th class=\"col_heading level0 col3\" >rang</th>    </tr></thead><tbody>\n",
       "                <tr>\n",
       "                        <th id=\"T_d13ea_level0_row0\" class=\"row_heading level0 row0\" >7</th>\n",
       "                        <td id=\"T_d13ea_row0_col0\" class=\"data row0 col0\" >Добавить форму подписки на все основные страницы, чтобы собрать базу клиентов для email-рассылок</td>\n",
       "                        <td id=\"T_d13ea_row0_col1\" class=\"data row0 col1\" >112.000000</td>\n",
       "                        <td id=\"T_d13ea_row0_col2\" class=\"data row0 col2\" >11.200000</td>\n",
       "                        <td id=\"T_d13ea_row0_col3\" class=\"data row0 col3\" >1.000000</td>\n",
       "            </tr>\n",
       "            <tr>\n",
       "                        <th id=\"T_d13ea_level0_row1\" class=\"row_heading level0 row1\" >2</th>\n",
       "                        <td id=\"T_d13ea_row1_col0\" class=\"data row1 col0\" >Добавить блоки рекомендаций товаров на сайт интернет магазина, чтобы повысить конверсию и средний чек заказа</td>\n",
       "                        <td id=\"T_d13ea_row1_col1\" class=\"data row1 col1\" >56.000000</td>\n",
       "                        <td id=\"T_d13ea_row1_col2\" class=\"data row1 col2\" >7.000000</td>\n",
       "                        <td id=\"T_d13ea_row1_col3\" class=\"data row1 col3\" >2.000000</td>\n",
       "            </tr>\n",
       "            <tr>\n",
       "                        <th id=\"T_d13ea_level0_row2\" class=\"row_heading level0 row2\" >0</th>\n",
       "                        <td id=\"T_d13ea_row2_col0\" class=\"data row2 col0\" >Добавить два новых канала привлечения трафика, что позволит привлекать на 30% больше пользователей</td>\n",
       "                        <td id=\"T_d13ea_row2_col1\" class=\"data row2 col1\" >40.000000</td>\n",
       "                        <td id=\"T_d13ea_row2_col2\" class=\"data row2 col2\" >13.333333</td>\n",
       "                        <td id=\"T_d13ea_row2_col3\" class=\"data row2 col3\" >3.000000</td>\n",
       "            </tr>\n",
       "            <tr>\n",
       "                        <th id=\"T_d13ea_level0_row3\" class=\"row_heading level0 row3\" >6</th>\n",
       "                        <td id=\"T_d13ea_row3_col0\" class=\"data row3 col0\" >Показать на главной странице баннеры с актуальными акциями и распродажами, чтобы увеличить конверсию</td>\n",
       "                        <td id=\"T_d13ea_row3_col1\" class=\"data row3 col1\" >40.000000</td>\n",
       "                        <td id=\"T_d13ea_row3_col2\" class=\"data row3 col2\" >8.000000</td>\n",
       "                        <td id=\"T_d13ea_row3_col3\" class=\"data row3 col3\" >4.000000</td>\n",
       "            </tr>\n",
       "            <tr>\n",
       "                        <th id=\"T_d13ea_level0_row4\" class=\"row_heading level0 row4\" >8</th>\n",
       "                        <td id=\"T_d13ea_row4_col0\" class=\"data row4 col0\" >Запустить акцию, дающую скидку на товар в день рождения</td>\n",
       "                        <td id=\"T_d13ea_row4_col1\" class=\"data row4 col1\" >16.200000</td>\n",
       "                        <td id=\"T_d13ea_row4_col2\" class=\"data row4 col2\" >16.200000</td>\n",
       "                        <td id=\"T_d13ea_row4_col3\" class=\"data row4 col3\" >5.000000</td>\n",
       "            </tr>\n",
       "            <tr>\n",
       "                        <th id=\"T_d13ea_level0_row5\" class=\"row_heading level0 row5\" >3</th>\n",
       "                        <td id=\"T_d13ea_row5_col0\" class=\"data row5 col0\" >Изменить структура категорий, что увеличит конверсию, т.к. пользователи быстрее найдут нужный товар</td>\n",
       "                        <td id=\"T_d13ea_row5_col1\" class=\"data row5 col1\" >9.000000</td>\n",
       "                        <td id=\"T_d13ea_row5_col2\" class=\"data row5 col2\" >1.125000</td>\n",
       "                        <td id=\"T_d13ea_row5_col3\" class=\"data row5 col3\" >6.000000</td>\n",
       "            </tr>\n",
       "            <tr>\n",
       "                        <th id=\"T_d13ea_level0_row6\" class=\"row_heading level0 row6\" >1</th>\n",
       "                        <td id=\"T_d13ea_row6_col0\" class=\"data row6 col0\" >Запустить собственную службу доставки, что сократит срок доставки заказов</td>\n",
       "                        <td id=\"T_d13ea_row6_col1\" class=\"data row6 col1\" >4.000000</td>\n",
       "                        <td id=\"T_d13ea_row6_col2\" class=\"data row6 col2\" >2.000000</td>\n",
       "                        <td id=\"T_d13ea_row6_col3\" class=\"data row6 col3\" >7.000000</td>\n",
       "            </tr>\n",
       "            <tr>\n",
       "                        <th id=\"T_d13ea_level0_row7\" class=\"row_heading level0 row7\" >5</th>\n",
       "                        <td id=\"T_d13ea_row7_col0\" class=\"data row7 col0\" >Добавить страницу отзывов клиентов о магазине, что позволит увеличить количество заказов</td>\n",
       "                        <td id=\"T_d13ea_row7_col1\" class=\"data row7 col1\" >4.000000</td>\n",
       "                        <td id=\"T_d13ea_row7_col2\" class=\"data row7 col2\" >1.333333</td>\n",
       "                        <td id=\"T_d13ea_row7_col3\" class=\"data row7 col3\" >8.000000</td>\n",
       "            </tr>\n",
       "            <tr>\n",
       "                        <th id=\"T_d13ea_level0_row8\" class=\"row_heading level0 row8\" >4</th>\n",
       "                        <td id=\"T_d13ea_row8_col0\" class=\"data row8 col0\" >Изменить цвет фона главной страницы, чтобы увеличить вовлеченность пользователей</td>\n",
       "                        <td id=\"T_d13ea_row8_col1\" class=\"data row8 col1\" >3.000000</td>\n",
       "                        <td id=\"T_d13ea_row8_col2\" class=\"data row8 col2\" >1.000000</td>\n",
       "                        <td id=\"T_d13ea_row8_col3\" class=\"data row8 col3\" >9.000000</td>\n",
       "            </tr>\n",
       "    </tbody></table>"
      ],
      "text/plain": [
       "<pandas.io.formats.style.Styler at 0x7f1f3f0331f0>"
      ]
     },
     "metadata": {},
     "output_type": "display_data"
    }
   ],
   "source": [
    "priority = hypothesis[['Hypothesis','RICE']].merge(hypothesis[['Hypothesis','ICE']], on = 'Hypothesis' )\n",
    "priority['rang'] = priority['RICE'].rank(ascending=False, method = 'first')\n",
    "display(priority.sort_values(by=['RICE', 'ICE'], ascending=False).style.apply(lambda x: ['background: lightgreen' if x.rang < 6 else '' for i in x],  axis=1))"
   ]
  },
  {
   "cell_type": "markdown",
   "metadata": {},
   "source": [
    "### Вывод\n",
    "При применении фреймворка ICE самыми приоритетными (топ 3) оказались гипотезы с индексами 8, 0 и 7. Фреймворк RICE показал иную приоритетность: 7, 2, 0 и 6. Приоритет изменился, так как фреймворк RICE учитывает параметр \"Reach\" - скольких пользователей затронет изменение, которое мы хотите внести. У гипотезы 8 (Запустить акцию, дающую скидку на товар в день рождения) Reach оценен всего в 1 балл, поскольку, к сожалению, день рождения только раз в году.\n",
    "Зато добавились в приоритет гипотезы 2 и 6 с достаточно высоким Reach. Итоговый список приоритетов может выглядеть следующим образом:\n",
    "\n",
    "* Добавить форму подписки на все основные страницы, чтобы собрать базу клиентов для email-рассылок\n",
    "* Добавить блоки рекомендаций товаров на сайт интернет магазина, чтобы повысить конверсию и средний чек заказа\n",
    "* Добавить два новых канала привлечения трафика, что позволит привлекать на 30% больше пользователей\n",
    "* Показать на главной странице баннеры с актуальными акциями и распродажами, чтобы увеличить конверсию\n",
    "* Запустить акцию, дающую скидку на товар в день рождения"
   ]
  },
  {
   "cell_type": "markdown",
   "metadata": {},
   "source": [
    "<a id=\"pred\"></a>\n",
    "## Часть 2. Анализ A/B-теста"
   ]
  },
  {
   "cell_type": "markdown",
   "metadata": {},
   "source": [
    "1. Построим график кумулятивной выручки по группам."
   ]
  },
  {
   "cell_type": "code",
   "execution_count": 9,
   "metadata": {
    "scrolled": false
   },
   "outputs": [
    {
     "name": "stdout",
     "output_type": "stream",
     "text": [
      "         date group  orders  buyers  revenue  visitors\n",
      "57 2019-08-29     B     510     490  4746610     17708\n",
      "58 2019-08-30     A     460     437  3311413     18037\n",
      "59 2019-08-30     B     531     511  4955833     18198\n",
      "60 2019-08-31     A     468     445  3364656     18736\n",
      "61 2019-08-31     B     548     528  5068972     18916\n"
     ]
    }
   ],
   "source": [
    "# создаем массив уникальных пар значений дат и групп теста\n",
    "datesGroups = orders[['date','group']].drop_duplicates() \n",
    "\n",
    "# получаем агрегированные кумулятивные по дням данные о заказах \n",
    "ordersAggregated = datesGroups.apply(lambda x: orders[np.logical_and(orders['date'] <= x['date'], orders['group'] == x['group'])].agg({'date' : 'max', 'group' : 'max', 'transactionId' : 'nunique', 'visitorId' : 'nunique', 'revenue' : 'sum'}), axis=1).sort_values(by=['date','group'])\n",
    "\n",
    "# # получаем агрегированные кумулятивные по дням данные о посетителях интернет-магазина \n",
    "visitorsAggregated = datesGroups.apply(lambda x: visitors[np.logical_and(visitors['date'] <= x['date'], visitors['group'] == x['group'])].agg({'date' : 'max', 'group' : 'max', 'visitors' : 'sum'}), axis=1).sort_values(by=['date','group'])\n",
    "\n",
    "# объединяем кумулятивные данные в одной таблице и присваиваем ее столбцам понятные названия\n",
    "cumulativeData = ordersAggregated.merge(visitorsAggregated, left_on=['date', 'group'], right_on=['date', 'group'])\n",
    "cumulativeData.columns = ['date', 'group', 'orders', 'buyers', 'revenue', 'visitors']\n",
    "\n",
    "print(cumulativeData.tail(5)) \n"
   ]
  },
  {
   "cell_type": "code",
   "execution_count": 10,
   "metadata": {},
   "outputs": [
    {
     "data": {
      "image/png": "[encoded data removed]",
      "text/plain": [
       "<Figure size 1080x432 with 1 Axes>"
      ]
     },
     "metadata": {
      "needs_background": "light"
     },
     "output_type": "display_data"
    }
   ],
   "source": [
    "# датафрейм с кумулятивным количеством заказов и кумулятивной выручкой по дням в группе А\n",
    "cumulativeRevenueA = cumulativeData[cumulativeData['group']=='A'][['date','revenue', 'orders']]\n",
    "\n",
    "# датафрейм с кумулятивным количеством заказов и кумулятивной выручкой по дням в группе B\n",
    "cumulativeRevenueB = cumulativeData[cumulativeData['group']=='B'][['date','revenue', 'orders']]\n",
    "\n",
    "# Строим график выручки группы А\n",
    "plt.figure(figsize=(15,6))\n",
    "plt.plot(cumulativeRevenueA['date'], cumulativeRevenueA['revenue'], label='Группа A')\n",
    "\n",
    "# Строим график выручки группы B\n",
    "plt.plot(cumulativeRevenueB['date'], cumulativeRevenueB['revenue'], label='Группа B')\n",
    "plt.title(\"График кумулятивной выручки по группам\")\n",
    "plt.legend() \n",
    "plt.xlabel('Дата')\n",
    "plt.ylabel('Выручка, руб.')\n",
    "\n",
    "plt.annotate('скачок', xy=('2019-08-17', 2800000), xytext=('2019-08-10', 3500000),\n",
    "            arrowprops=dict(facecolor='g'))\n",
    "plt.annotate('отрыв', xy=('2019-08-05', 800000), xytext=('2019-08-05', 2000000),\n",
    "            arrowprops=dict(facecolor='g')) \n",
    "\n",
    "plt.show()"
   ]
  },
  {
   "cell_type": "markdown",
   "metadata": {},
   "source": [
    "Выручка почти равномерно увеличивается до 17-18 августа 2019, затем график по группе B резко опережает группу A. Это может сигнализировать о выбросах по числу или стоимости заказов."
   ]
  },
  {
   "cell_type": "markdown",
   "metadata": {},
   "source": [
    "2. Построим график кумулятивного среднего чека по группам."
   ]
  },
  {
   "cell_type": "code",
   "execution_count": 11,
   "metadata": {},
   "outputs": [
    {
     "data": {
      "image/png": "[encoded data removed]",
      "text/plain": [
       "<Figure size 1080x432 with 1 Axes>"
      ]
     },
     "metadata": {
      "needs_background": "light"
     },
     "output_type": "display_data"
    }
   ],
   "source": [
    "plt.figure(figsize=(15,6))\n",
    "plt.plot(cumulativeRevenueA['date'], cumulativeRevenueA['revenue']/cumulativeRevenueA['orders'], label='Группа A')\n",
    "plt.plot(cumulativeRevenueB['date'], cumulativeRevenueB['revenue']/cumulativeRevenueB['orders'], label='Группа B')\n",
    "plt.title(\"График кумулятивного среднего чека по группам\")\n",
    "plt.legend() \n",
    "plt.xlabel('Дата')\n",
    "plt.ylabel('Средний чек, руб.')\n",
    "plt.show()"
   ]
  },
  {
   "cell_type": "markdown",
   "metadata": {},
   "source": [
    "Средний чек тоже испытывает всплески, особенно для группы B в середине тестируемого периода., это может быть связано с одним или несколькими крупными заказами. В то же время график группы A начал стабилизироваться, но это не точно."
   ]
  },
  {
   "cell_type": "markdown",
   "metadata": {},
   "source": [
    "3. Построим график относительного изменения кумулятивного среднего чека группы B к группе A."
   ]
  },
  {
   "cell_type": "code",
   "execution_count": 12,
   "metadata": {},
   "outputs": [
    {
     "data": {
      "image/png": "[encoded data removed]",
      "text/plain": [
       "<Figure size 1080x432 with 1 Axes>"
      ]
     },
     "metadata": {
      "needs_background": "light"
     },
     "output_type": "display_data"
    }
   ],
   "source": [
    "# собираем данные в одном датафрейме\n",
    "mergedCumulativeRevenue = cumulativeRevenueA.merge(cumulativeRevenueB, left_on='date', right_on='date', how='left', suffixes=['A', 'B'])\n",
    "\n",
    "# cтроим отношение средних чеков\n",
    "plt.figure(figsize=(15,6))\n",
    "plt.plot(mergedCumulativeRevenue['date'], (mergedCumulativeRevenue['revenueB']/mergedCumulativeRevenue['ordersB'])/(mergedCumulativeRevenue['revenueA']/mergedCumulativeRevenue['ordersA'])-1)\n",
    "\n",
    "# добавляем ось X\n",
    "plt.axhline(y=0, color='black', linestyle='--') \n",
    "plt.title(\"График относительного изменения кумулятивного среднего чека группы B к группе A\")\n",
    "plt.xlabel('Дата')\n",
    "plt.ylabel('Различие среднего чека, %')\n",
    "plt.show()"
   ]
  },
  {
   "cell_type": "markdown",
   "metadata": {},
   "source": [
    "График резко меняется в нескольких точках (особенно рост на 6 пунктов в середине периода), скорее всего это связано с выбросами в сырых данных."
   ]
  },
  {
   "cell_type": "markdown",
   "metadata": {},
   "source": [
    "4. Построим график кумулятивной конверсии по группам."
   ]
  },
  {
   "cell_type": "code",
   "execution_count": 13,
   "metadata": {},
   "outputs": [
    {
     "data": {
      "image/png": "[encoded data removed]",
      "text/plain": [
       "<Figure size 1080x432 with 1 Axes>"
      ]
     },
     "metadata": {
      "needs_background": "light"
     },
     "output_type": "display_data"
    }
   ],
   "source": [
    "# считаем кумулятивную конверсию\n",
    "cumulativeData['conversion'] = cumulativeData['orders']/cumulativeData['visitors']\n",
    "\n",
    "# отделяем данные по группе A\n",
    "cumulativeDataA = cumulativeData[cumulativeData['group']=='A']\n",
    "\n",
    "# отделяем данные по группе B\n",
    "cumulativeDataB = cumulativeData[cumulativeData['group']=='B']\n",
    "\n",
    "# строим графики\n",
    "plt.figure(figsize=(15,6))\n",
    "plt.plot(cumulativeDataA['date'], cumulativeDataA['conversion'], label='Группа A')\n",
    "plt.plot(cumulativeDataB['date'], cumulativeDataB['conversion'], label='Группа B')\n",
    "plt.legend()\n",
    "\n",
    "# задаем масштаб осей\n",
    "plt.axis([\"2019-08-01\", '2019-08-31', 0.02, 0.05]) \n",
    "plt.title(\"График кумулятивной конверсии по группам\")\n",
    "plt.xlabel('Дата')\n",
    "plt.ylabel('Конверсия, %')\n",
    "plt.show()"
   ]
  },
  {
   "cell_type": "markdown",
   "metadata": {},
   "source": [
    "Графики шли рядом в начале периода, но затем конверсия по группе B вышла вперед и стабильно опережала группу A до конца тестирования. Абсолютные значения достаточно ровные с разбросом не более 1%."
   ]
  },
  {
   "cell_type": "markdown",
   "metadata": {},
   "source": [
    "5. Построим график относительного изменения кумулятивной конверсии группы B к группе A."
   ]
  },
  {
   "cell_type": "code",
   "execution_count": 14,
   "metadata": {},
   "outputs": [
    {
     "data": {
      "image/png": "[encoded data removed]",
      "text/plain": [
       "<Figure size 1080x432 with 1 Axes>"
      ]
     },
     "metadata": {
      "needs_background": "light"
     },
     "output_type": "display_data"
    }
   ],
   "source": [
    "mergedCumulativeConversions = cumulativeDataA[['date','conversion']].merge(cumulativeDataB[['date','conversion']], left_on='date', right_on='date', how='left', suffixes=['A', 'B'])\n",
    "\n",
    "plt.figure(figsize=(15,6))\n",
    "plt.plot(mergedCumulativeConversions['date'], mergedCumulativeConversions['conversionB']/mergedCumulativeConversions['conversionA']-1, label=\"Относительный прирост конверсии группы B относительно группы A\")\n",
    "\n",
    "plt.axhline(y=0, color='black', linestyle='--')\n",
    "plt.axhline(y=0.15, color='grey', linestyle='--')\n",
    "plt.axis([\"2019-08-01\", '2019-08-31', -0.3, 0.5]) \n",
    "plt.title(\"График относительного изменения кумулятивной конверсии группы B к группе A\")\n",
    "plt.xlabel('Дата')\n",
    "plt.ylabel('Различие конверсии, %')\n",
    "plt.show()"
   ]
  },
  {
   "cell_type": "markdown",
   "metadata": {},
   "source": [
    "Почти с начала периода группа B лидирует по конверсии и фиксируется около 15% прироста относительно конверсии группы A.\n",
    "\n",
    "\n",
    "Проанализируем аномалии для более точных выводов."
   ]
  },
  {
   "cell_type": "markdown",
   "metadata": {},
   "source": [
    "6. Построим точечный график количества заказов по пользователям."
   ]
  },
  {
   "cell_type": "code",
   "execution_count": 15,
   "metadata": {},
   "outputs": [
    {
     "data": {
      "text/html": [
       "<div>\n",
       "<style scoped>\n",
       "    .dataframe tbody tr th:only-of-type {\n",
       "        vertical-align: middle;\n",
       "    }\n",
       "\n",
       "    .dataframe tbody tr th {\n",
       "        vertical-align: top;\n",
       "    }\n",
       "\n",
       "    .dataframe thead th {\n",
       "        text-align: right;\n",
       "    }\n",
       "</style>\n",
       "<table border=\"1\" class=\"dataframe\">\n",
       "  <thead>\n",
       "    <tr style=\"text-align: right;\">\n",
       "      <th></th>\n",
       "      <th>visitorId</th>\n",
       "      <th>orders</th>\n",
       "    </tr>\n",
       "  </thead>\n",
       "  <tbody>\n",
       "    <tr>\n",
       "      <th>908</th>\n",
       "      <td>3967698036</td>\n",
       "      <td>3</td>\n",
       "    </tr>\n",
       "    <tr>\n",
       "      <th>55</th>\n",
       "      <td>249864742</td>\n",
       "      <td>3</td>\n",
       "    </tr>\n",
       "    <tr>\n",
       "      <th>478</th>\n",
       "      <td>2108163459</td>\n",
       "      <td>3</td>\n",
       "    </tr>\n",
       "    <tr>\n",
       "      <th>687</th>\n",
       "      <td>2988190573</td>\n",
       "      <td>3</td>\n",
       "    </tr>\n",
       "    <tr>\n",
       "      <th>890</th>\n",
       "      <td>3908431265</td>\n",
       "      <td>3</td>\n",
       "    </tr>\n",
       "    <tr>\n",
       "      <th>138</th>\n",
       "      <td>611059232</td>\n",
       "      <td>3</td>\n",
       "    </tr>\n",
       "    <tr>\n",
       "      <th>632</th>\n",
       "      <td>2742574263</td>\n",
       "      <td>3</td>\n",
       "    </tr>\n",
       "    <tr>\n",
       "      <th>157</th>\n",
       "      <td>678354126</td>\n",
       "      <td>2</td>\n",
       "    </tr>\n",
       "    <tr>\n",
       "      <th>323</th>\n",
       "      <td>1404560065</td>\n",
       "      <td>2</td>\n",
       "    </tr>\n",
       "    <tr>\n",
       "      <th>452</th>\n",
       "      <td>1985475298</td>\n",
       "      <td>2</td>\n",
       "    </tr>\n",
       "  </tbody>\n",
       "</table>\n",
       "</div>"
      ],
      "text/plain": [
       "      visitorId  orders\n",
       "908  3967698036       3\n",
       "55    249864742       3\n",
       "478  2108163459       3\n",
       "687  2988190573       3\n",
       "890  3908431265       3\n",
       "138   611059232       3\n",
       "632  2742574263       3\n",
       "157   678354126       2\n",
       "323  1404560065       2\n",
       "452  1985475298       2"
      ]
     },
     "metadata": {},
     "output_type": "display_data"
    },
    {
     "data": {
      "image/png": "[encoded data removed]",
      "text/plain": [
       "<Figure size 1080x432 with 1 Axes>"
      ]
     },
     "metadata": {
      "needs_background": "light"
     },
     "output_type": "display_data"
    }
   ],
   "source": [
    "ordersByUsers = (\n",
    "    orders.groupby('visitorId', as_index=False)\n",
    "    .agg({'transactionId': pd.Series.nunique})\n",
    ")\n",
    "\n",
    "ordersByUsers.columns = ['visitorId', 'orders']\n",
    "\n",
    "display(ordersByUsers.sort_values(by='orders', ascending=False).head(10)) \n",
    "\n",
    "x_values = pd.Series(range(0, len(ordersByUsers)))\n",
    "\n",
    "plt.figure(figsize=(15,6))\n",
    "plt.scatter(x_values, ordersByUsers['orders']) \n",
    "plt.title(\"Точечный график количества заказов по пользователям\")\n",
    "plt.xlabel('Пользователи')\n",
    "plt.ylabel('Кол-во заказов, шт.')\n",
    "plt.show()"
   ]
  },
  {
   "cell_type": "markdown",
   "metadata": {},
   "source": [
    "Абсолютное большинство делает 1 заказ, до 3 заказов доходят редко. Посмотрим на выборочные перцентили."
   ]
  },
  {
   "cell_type": "markdown",
   "metadata": {},
   "source": [
    "7. Посчитаем 95-й и 99-й перцентили количества заказов на пользователя. Выберем границу для определения аномальных пользователей."
   ]
  },
  {
   "cell_type": "code",
   "execution_count": 16,
   "metadata": {},
   "outputs": [
    {
     "name": "stdout",
     "output_type": "stream",
     "text": [
      "[1. 2.]\n"
     ]
    }
   ],
   "source": [
    "print(np.percentile(ordersByUsers['orders'], [95, 99])) "
   ]
  },
  {
   "cell_type": "markdown",
   "metadata": {},
   "source": [
    "Не более 5% посетителей сайта совершали больше 1 заказа и не более 1% посетителей - больше 2х заказов. Разумно выбрать 2 заказа на одного пользователя за верхнюю границу числа заказов, и отсеять аномальных пользователей по ней."
   ]
  },
  {
   "cell_type": "markdown",
   "metadata": {},
   "source": [
    "8. Построем точечный график стоимостей заказов."
   ]
  },
  {
   "cell_type": "code",
   "execution_count": 17,
   "metadata": {},
   "outputs": [
    {
     "data": {
      "text/html": [
       "<div>\n",
       "<style scoped>\n",
       "    .dataframe tbody tr th:only-of-type {\n",
       "        vertical-align: middle;\n",
       "    }\n",
       "\n",
       "    .dataframe tbody tr th {\n",
       "        vertical-align: top;\n",
       "    }\n",
       "\n",
       "    .dataframe thead th {\n",
       "        text-align: right;\n",
       "    }\n",
       "</style>\n",
       "<table border=\"1\" class=\"dataframe\">\n",
       "  <thead>\n",
       "    <tr style=\"text-align: right;\">\n",
       "      <th></th>\n",
       "      <th>transactionId</th>\n",
       "      <th>visitorId</th>\n",
       "      <th>date</th>\n",
       "      <th>revenue</th>\n",
       "      <th>group</th>\n",
       "    </tr>\n",
       "  </thead>\n",
       "  <tbody>\n",
       "    <tr>\n",
       "      <th>425</th>\n",
       "      <td>590470918</td>\n",
       "      <td>1920142716</td>\n",
       "      <td>2019-08-19</td>\n",
       "      <td>1294500</td>\n",
       "      <td>B</td>\n",
       "    </tr>\n",
       "    <tr>\n",
       "      <th>1196</th>\n",
       "      <td>3936777065</td>\n",
       "      <td>2108080724</td>\n",
       "      <td>2019-08-15</td>\n",
       "      <td>202740</td>\n",
       "      <td>B</td>\n",
       "    </tr>\n",
       "    <tr>\n",
       "      <th>1136</th>\n",
       "      <td>666610489</td>\n",
       "      <td>1307669133</td>\n",
       "      <td>2019-08-13</td>\n",
       "      <td>92550</td>\n",
       "      <td>A</td>\n",
       "    </tr>\n",
       "    <tr>\n",
       "      <th>744</th>\n",
       "      <td>3668308183</td>\n",
       "      <td>888512513</td>\n",
       "      <td>2019-08-27</td>\n",
       "      <td>86620</td>\n",
       "      <td>B</td>\n",
       "    </tr>\n",
       "    <tr>\n",
       "      <th>743</th>\n",
       "      <td>3603576309</td>\n",
       "      <td>4133034833</td>\n",
       "      <td>2019-08-09</td>\n",
       "      <td>67990</td>\n",
       "      <td>A</td>\n",
       "    </tr>\n",
       "    <tr>\n",
       "      <th>1103</th>\n",
       "      <td>1348774318</td>\n",
       "      <td>1164614297</td>\n",
       "      <td>2019-08-12</td>\n",
       "      <td>66350</td>\n",
       "      <td>A</td>\n",
       "    </tr>\n",
       "    <tr>\n",
       "      <th>1099</th>\n",
       "      <td>316924019</td>\n",
       "      <td>148427295</td>\n",
       "      <td>2019-08-12</td>\n",
       "      <td>65710</td>\n",
       "      <td>A</td>\n",
       "    </tr>\n",
       "    <tr>\n",
       "      <th>949</th>\n",
       "      <td>1347999392</td>\n",
       "      <td>887908475</td>\n",
       "      <td>2019-08-21</td>\n",
       "      <td>60450</td>\n",
       "      <td>A</td>\n",
       "    </tr>\n",
       "    <tr>\n",
       "      <th>940</th>\n",
       "      <td>2420050534</td>\n",
       "      <td>4003628586</td>\n",
       "      <td>2019-08-08</td>\n",
       "      <td>58550</td>\n",
       "      <td>B</td>\n",
       "    </tr>\n",
       "    <tr>\n",
       "      <th>131</th>\n",
       "      <td>3163614039</td>\n",
       "      <td>2254586615</td>\n",
       "      <td>2019-08-22</td>\n",
       "      <td>53904</td>\n",
       "      <td>A</td>\n",
       "    </tr>\n",
       "  </tbody>\n",
       "</table>\n",
       "</div>"
      ],
      "text/plain": [
       "      transactionId   visitorId       date  revenue group\n",
       "425       590470918  1920142716 2019-08-19  1294500     B\n",
       "1196     3936777065  2108080724 2019-08-15   202740     B\n",
       "1136      666610489  1307669133 2019-08-13    92550     A\n",
       "744      3668308183   888512513 2019-08-27    86620     B\n",
       "743      3603576309  4133034833 2019-08-09    67990     A\n",
       "1103     1348774318  1164614297 2019-08-12    66350     A\n",
       "1099      316924019   148427295 2019-08-12    65710     A\n",
       "949      1347999392   887908475 2019-08-21    60450     A\n",
       "940      2420050534  4003628586 2019-08-08    58550     B\n",
       "131      3163614039  2254586615 2019-08-22    53904     A"
      ]
     },
     "metadata": {},
     "output_type": "display_data"
    },
    {
     "data": {
      "image/png": "[encoded data removed]",
      "text/plain": [
       "<Figure size 1080x432 with 1 Axes>"
      ]
     },
     "metadata": {
      "needs_background": "light"
     },
     "output_type": "display_data"
    }
   ],
   "source": [
    "display(orders.sort_values(by='revenue', ascending=False).head(10))\n",
    "\n",
    "x_values = pd.Series(range(0, len(orders['revenue'])))\n",
    "\n",
    "plt.figure(figsize=(15,6))\n",
    "plt.scatter(x_values, orders['revenue']) \n",
    "plt.title(\"Точечный график стоимостей заказов\")\n",
    "plt.xlabel('Пользователи')\n",
    "plt.ylabel('Стоимость одного заказа, руб.')\n",
    "plt.show()"
   ]
  },
  {
   "cell_type": "markdown",
   "metadata": {},
   "source": [
    "Заказов стоимостью более 100 000 практически нет. Видны выбросы на 200 000 и на 1,3млн. Посмотрим на перцентили."
   ]
  },
  {
   "cell_type": "markdown",
   "metadata": {},
   "source": [
    "9. Посчитаем 95-й и 99-й перцентили стоимости заказов. Выберем границу для определения аномальных заказов."
   ]
  },
  {
   "cell_type": "code",
   "execution_count": 18,
   "metadata": {},
   "outputs": [
    {
     "name": "stdout",
     "output_type": "stream",
     "text": [
      "[26785. 53904.]\n"
     ]
    }
   ],
   "source": [
    "print(np.percentile(orders['revenue'], [95, 99])) "
   ]
  },
  {
   "cell_type": "markdown",
   "metadata": {},
   "source": [
    "Не более чем у 5% заказов чек дороже 26785 и не более 1% заказов - дороже 53904. Разумно выбрать верхнюю границу среднего чека на 50 000 и отсеять аномальные чеки по ней."
   ]
  },
  {
   "cell_type": "markdown",
   "metadata": {},
   "source": [
    "10. Посчитаем статистическую значимость различий в конверсии между группами по «сырым» данным. \n",
    "\n",
    "Сформулируем 0-гипотезу: Конверсия в заказ пользователей группы «A» и группы «B» по «сырым» данным равны;\n",
    "\n",
    "Сформулируем N-гипотезу: Конверсия в заказ пользователей группы «A» и группы «B» по «сырым» данным различаются."
   ]
  },
  {
   "cell_type": "code",
   "execution_count": 19,
   "metadata": {
    "scrolled": true
   },
   "outputs": [
    {
     "data": {
      "text/html": [
       "<div>\n",
       "<style scoped>\n",
       "    .dataframe tbody tr th:only-of-type {\n",
       "        vertical-align: middle;\n",
       "    }\n",
       "\n",
       "    .dataframe tbody tr th {\n",
       "        vertical-align: top;\n",
       "    }\n",
       "\n",
       "    .dataframe thead th {\n",
       "        text-align: right;\n",
       "    }\n",
       "</style>\n",
       "<table border=\"1\" class=\"dataframe\">\n",
       "  <thead>\n",
       "    <tr style=\"text-align: right;\">\n",
       "      <th></th>\n",
       "      <th>date</th>\n",
       "      <th>ordersPerDateA</th>\n",
       "      <th>revenuePerDateA</th>\n",
       "      <th>ordersPerDateB</th>\n",
       "      <th>revenuePerDateB</th>\n",
       "      <th>ordersCummulativeA</th>\n",
       "      <th>revenueCummulativeA</th>\n",
       "      <th>ordersCummulativeB</th>\n",
       "      <th>revenueCummulativeB</th>\n",
       "      <th>visitorsPerDateA</th>\n",
       "      <th>visitorsPerDateB</th>\n",
       "      <th>visitorsCummulativeA</th>\n",
       "      <th>visitorsCummulativeB</th>\n",
       "    </tr>\n",
       "  </thead>\n",
       "  <tbody>\n",
       "    <tr>\n",
       "      <th>0</th>\n",
       "      <td>2019-08-01</td>\n",
       "      <td>23</td>\n",
       "      <td>142779</td>\n",
       "      <td>17</td>\n",
       "      <td>59758</td>\n",
       "      <td>23</td>\n",
       "      <td>142779</td>\n",
       "      <td>17</td>\n",
       "      <td>59758</td>\n",
       "      <td>719</td>\n",
       "      <td>713</td>\n",
       "      <td>719</td>\n",
       "      <td>713</td>\n",
       "    </tr>\n",
       "    <tr>\n",
       "      <th>1</th>\n",
       "      <td>2019-08-02</td>\n",
       "      <td>19</td>\n",
       "      <td>91602</td>\n",
       "      <td>23</td>\n",
       "      <td>162043</td>\n",
       "      <td>42</td>\n",
       "      <td>234381</td>\n",
       "      <td>40</td>\n",
       "      <td>221801</td>\n",
       "      <td>619</td>\n",
       "      <td>581</td>\n",
       "      <td>1338</td>\n",
       "      <td>1294</td>\n",
       "    </tr>\n",
       "    <tr>\n",
       "      <th>2</th>\n",
       "      <td>2019-08-03</td>\n",
       "      <td>24</td>\n",
       "      <td>112473</td>\n",
       "      <td>14</td>\n",
       "      <td>67049</td>\n",
       "      <td>66</td>\n",
       "      <td>346854</td>\n",
       "      <td>54</td>\n",
       "      <td>288850</td>\n",
       "      <td>507</td>\n",
       "      <td>509</td>\n",
       "      <td>1845</td>\n",
       "      <td>1803</td>\n",
       "    </tr>\n",
       "    <tr>\n",
       "      <th>3</th>\n",
       "      <td>2019-08-04</td>\n",
       "      <td>11</td>\n",
       "      <td>41176</td>\n",
       "      <td>14</td>\n",
       "      <td>96890</td>\n",
       "      <td>77</td>\n",
       "      <td>388030</td>\n",
       "      <td>68</td>\n",
       "      <td>385740</td>\n",
       "      <td>717</td>\n",
       "      <td>770</td>\n",
       "      <td>2562</td>\n",
       "      <td>2573</td>\n",
       "    </tr>\n",
       "    <tr>\n",
       "      <th>4</th>\n",
       "      <td>2019-08-05</td>\n",
       "      <td>22</td>\n",
       "      <td>86383</td>\n",
       "      <td>21</td>\n",
       "      <td>89908</td>\n",
       "      <td>99</td>\n",
       "      <td>474413</td>\n",
       "      <td>89</td>\n",
       "      <td>475648</td>\n",
       "      <td>756</td>\n",
       "      <td>707</td>\n",
       "      <td>3318</td>\n",
       "      <td>3280</td>\n",
       "    </tr>\n",
       "  </tbody>\n",
       "</table>\n",
       "</div>"
      ],
      "text/plain": [
       "        date  ordersPerDateA  revenuePerDateA  ordersPerDateB  \\\n",
       "0 2019-08-01              23           142779              17   \n",
       "1 2019-08-02              19            91602              23   \n",
       "2 2019-08-03              24           112473              14   \n",
       "3 2019-08-04              11            41176              14   \n",
       "4 2019-08-05              22            86383              21   \n",
       "\n",
       "   revenuePerDateB  ordersCummulativeA  revenueCummulativeA  \\\n",
       "0            59758                  23               142779   \n",
       "1           162043                  42               234381   \n",
       "2            67049                  66               346854   \n",
       "3            96890                  77               388030   \n",
       "4            89908                  99               474413   \n",
       "\n",
       "   ordersCummulativeB  revenueCummulativeB  visitorsPerDateA  \\\n",
       "0                  17                59758               719   \n",
       "1                  40               221801               619   \n",
       "2                  54               288850               507   \n",
       "3                  68               385740               717   \n",
       "4                  89               475648               756   \n",
       "\n",
       "   visitorsPerDateB  visitorsCummulativeA  visitorsCummulativeB  \n",
       "0               713                   719                   713  \n",
       "1               581                  1338                  1294  \n",
       "2               509                  1845                  1803  \n",
       "3               770                  2562                  2573  \n",
       "4               707                  3318                  3280  "
      ]
     },
     "metadata": {},
     "output_type": "display_data"
    },
    {
     "name": "stdout",
     "output_type": "stream",
     "text": [
      "p-value = 0.011\n",
      "Относительный прирост конверсии группы B к группе A = 0.160\n"
     ]
    }
   ],
   "source": [
    "# Подготовим данные\n",
    "\n",
    "visitorsADaily = visitors[visitors['group'] == 'A'][['date', 'visitors']]\n",
    "visitorsADaily.columns = ['date', 'visitorsPerDateA']\n",
    "\n",
    "visitorsACummulative = visitorsADaily.apply(\n",
    "    lambda x: visitorsADaily[visitorsADaily['date'] <= x['date']].agg(\n",
    "        {'date': 'max', 'visitorsPerDateA': 'sum'}\n",
    "    ),\n",
    "    axis=1,\n",
    ")\n",
    "visitorsACummulative.columns = ['date', 'visitorsCummulativeA']\n",
    "\n",
    "visitorsBDaily = visitors[visitors['group'] == 'B'][['date', 'visitors']]\n",
    "visitorsBDaily.columns = ['date', 'visitorsPerDateB']\n",
    "\n",
    "visitorsBCummulative = visitorsBDaily.apply(\n",
    "    lambda x: visitorsBDaily[visitorsBDaily['date'] <= x['date']].agg(\n",
    "        {'date': 'max', 'visitorsPerDateB': 'sum'}\n",
    "    ),\n",
    "    axis=1,\n",
    ")\n",
    "visitorsBCummulative.columns = ['date', 'visitorsCummulativeB']\n",
    "\n",
    "ordersADaily = (\n",
    "    orders[orders['group'] == 'A'][['date', 'transactionId', 'visitorId', 'revenue']]\n",
    "    .groupby('date', as_index=False)\n",
    "    .agg({'transactionId': pd.Series.nunique, 'revenue': 'sum'})\n",
    ")\n",
    "ordersADaily.columns = ['date', 'ordersPerDateA', 'revenuePerDateA']\n",
    "\n",
    "ordersACummulative = ordersADaily.apply(\n",
    "    lambda x: ordersADaily[ordersADaily['date'] <= x['date']].agg(\n",
    "        {'date': 'max', 'ordersPerDateA': 'sum', 'revenuePerDateA': 'sum'}\n",
    "    ),\n",
    "    axis=1,\n",
    ").sort_values(by=['date'])\n",
    "ordersACummulative.columns = [\n",
    "    'date',\n",
    "    'ordersCummulativeA',\n",
    "    'revenueCummulativeA',\n",
    "]\n",
    "\n",
    "ordersBDaily = (\n",
    "    orders[orders['group'] == 'B'][['date', 'transactionId', 'visitorId', 'revenue']]\n",
    "    .groupby('date', as_index=False)\n",
    "    .agg({'transactionId': pd.Series.nunique, 'revenue': 'sum'})\n",
    ")\n",
    "ordersBDaily.columns = ['date', 'ordersPerDateB', 'revenuePerDateB']\n",
    "\n",
    "ordersBCummulative = ordersBDaily.apply(\n",
    "    lambda x: ordersBDaily[ordersBDaily['date'] <= x['date']].agg(\n",
    "        {'date': 'max', 'ordersPerDateB': 'sum', 'revenuePerDateB': 'sum'}\n",
    "    ),\n",
    "    axis=1,\n",
    ").sort_values(by=['date'])\n",
    "ordersBCummulative.columns = [\n",
    "    'date',\n",
    "    'ordersCummulativeB',\n",
    "    'revenueCummulativeB',\n",
    "]\n",
    "\n",
    "data = (\n",
    "    ordersADaily.merge(\n",
    "        ordersBDaily, left_on='date', right_on='date', how='left'\n",
    "    )\n",
    "    .merge(ordersACummulative, left_on='date', right_on='date', how='left')\n",
    "    .merge(ordersBCummulative, left_on='date', right_on='date', how='left')\n",
    "    .merge(visitorsADaily, left_on='date', right_on='date', how='left')\n",
    "    .merge(visitorsBDaily, left_on='date', right_on='date', how='left')\n",
    "    .merge(visitorsACummulative, left_on='date', right_on='date', how='left')\n",
    "    .merge(visitorsBCummulative, left_on='date', right_on='date', how='left')\n",
    ")\n",
    "\n",
    "display(data.head(5))\n",
    "\n",
    "\n",
    "ordersByUsersA = (\n",
    "    orders[orders['group'] == 'A']\n",
    "    .groupby('visitorId', as_index=False)\n",
    "    .agg({'transactionId': pd.Series.nunique})\n",
    ")\n",
    "ordersByUsersA.columns = ['visitorId', 'orders']\n",
    "\n",
    "ordersByUsersB = (\n",
    "    orders[orders['group'] == 'B']\n",
    "    .groupby('visitorId', as_index=False)\n",
    "    .agg({'transactionId': pd.Series.nunique})\n",
    ")\n",
    "ordersByUsersB.columns = ['visitorId', 'orders'] \n",
    "\n",
    "\n",
    "sampleA = pd.concat([ordersByUsersA['orders'],pd.Series(0, index=np.arange(data['visitorsPerDateA'].sum() - len(ordersByUsersA['orders'])), name='orders')],axis=0)\n",
    "\n",
    "sampleB = pd.concat([ordersByUsersB['orders'],pd.Series(0, index=np.arange(data['visitorsPerDateB'].sum() - len(ordersByUsersB['orders'])), name='orders')],axis=0) \n",
    "\n",
    "\n",
    "ordersByUsersA = (\n",
    "    orders[orders['group'] == 'A']\n",
    "    .groupby('visitorId', as_index=False)\n",
    "    .agg({'transactionId': pd.Series.nunique})\n",
    ")\n",
    "ordersByUsersA.columns = ['visitorId', 'orders']\n",
    "\n",
    "ordersByUsersB = (\n",
    "    orders[orders['group'] == 'B']\n",
    "    .groupby('visitorId', as_index=False)\n",
    "    .agg({'transactionId': pd.Series.nunique})\n",
    ")\n",
    "ordersByUsersB.columns = ['visitorId', 'orders']\n",
    "\n",
    "sampleA = pd.concat(\n",
    "    [\n",
    "        ordersByUsersA['orders'],\n",
    "        pd.Series(\n",
    "            0,\n",
    "            index=np.arange(\n",
    "                data['visitorsPerDateA'].sum() - len(ordersByUsersA['orders'])\n",
    "            ),\n",
    "            name='orders',\n",
    "        ),\n",
    "    ],\n",
    "    axis=0,\n",
    ")\n",
    "\n",
    "sampleB = pd.concat(\n",
    "    [\n",
    "        ordersByUsersB['orders'],\n",
    "        pd.Series(\n",
    "            0,\n",
    "            index=np.arange(\n",
    "                data['visitorsPerDateB'].sum() - len(ordersByUsersB['orders'])\n",
    "            ),\n",
    "            name='orders',\n",
    "        ),\n",
    "    ],\n",
    "    axis=0,\n",
    ")\n",
    "\n",
    "\n",
    "\n",
    "print('p-value =',\"{0:.3f}\".format(st.mannwhitneyu(sampleA, sampleB)[1]))\n",
    "\n",
    "# print(\"{0:.3f}\".format(sampleB.mean() / sampleA.mean() - 1))\n",
    "\n",
    "print('Относительный прирост конверсии группы B к группе A =',\"{0:.3f}\".format((data['ordersPerDateB'].sum()/data['visitorsPerDateB'].sum())/(data['ordersPerDateA'].sum()/data['visitorsPerDateA'].sum())-1)) \n",
    "\n",
    "\n",
    "# Названия столбцов данных:\n",
    "# date — дата;\n",
    "# ordersPerDateA — количество заказов в выбранную дату в группе A;\n",
    "# revenuePerDateA — суммарная выручка в выбранную дату в группе A;\n",
    "# ordersPerDateB — количество заказов в выбранную дату в группе B;\n",
    "# revenuePerDateB — суммарная выручка в выбранную дату в группе B;\n",
    "# ordersCummulativeA — суммарное число заказов до выбранной даты включительно в группе A;\n",
    "# revenueCummulativeA — суммарная выручка до выбранной даты включительно в группе A;\n",
    "# ordersCummulativeB — суммарное количество заказов до выбранной даты включительно в группе B;\n",
    "# revenueCummulativeB — суммарная выручка до выбранной даты включительно в группе B;\n",
    "# visitorsPerDateA — количество пользователей в выбранную дату в группе A;\n",
    "# visitorsPerDateB — количество пользователей в выбранную дату в группе B;\n",
    "# visitorsCummulativeA — количество пользователей до выбранной даты включительно в группе A;\n",
    "# visitorsCummulativeB — количество пользователей до выбранной даты включительно в группе B.\n"
   ]
  },
  {
   "cell_type": "markdown",
   "metadata": {},
   "source": [
    "P-value заметно меньше 0.05, поэтому отвергаем нулевую гиппотезу - статистически значимые различия между группами по конверсии обнаружены.\n",
    "Относительный прирост конверсии в группе B равен 16%."
   ]
  },
  {
   "cell_type": "markdown",
   "metadata": {},
   "source": [
    "11. Посчитаем статистическую значимость различий в среднем чеке заказа между группами по «сырым» данным.\n",
    "\n",
    "Сформулируем 0-гипотезу: Средний чек заказа пользователей группы «A» и группы «B» по «сырым» данным равны;\n",
    "\n",
    "Сформулируем N-гипотезу: Средний чек заказа пользователей группы «A» и группы «B» по «сырым» данным различаются."
   ]
  },
  {
   "cell_type": "code",
   "execution_count": 20,
   "metadata": {},
   "outputs": [
    {
     "name": "stdout",
     "output_type": "stream",
     "text": [
      "p-value = 0.829\n",
      "Относительное различие среднего чека группы B к группе A = 0.287\n"
     ]
    }
   ],
   "source": [
    "print('p-value =','{0:.3f}'.format(st.mannwhitneyu(orders[orders['group']=='A']['revenue'], orders[orders['group']=='B']['revenue'])[1]))\n",
    "print('Относительное различие среднего чека группы B к группе A =','{0:.3f}'.format(orders[orders['group']=='B']['revenue'].mean()/orders[orders['group']=='A']['revenue'].mean()-1)) "
   ]
  },
  {
   "cell_type": "markdown",
   "metadata": {},
   "source": [
    "P-value больше 0.05, поэтому мы не отвергаем нулевую гиппотезу - статистически значимые различия между группами по среднему чеку отсутствуют.\n",
    "Однако относительный прирост среднего чека в группе B значительный: 28.7%."
   ]
  },
  {
   "cell_type": "markdown",
   "metadata": {},
   "source": [
    "12. Посчитаем статистическую значимость различий в конверсии между группами по «очищенным» данным.\n",
    "\n",
    "Сформулируем 0-гипотезу: Конверсия в заказ пользователей группы «A» и группы «B» по «очищенным» данным равны;\n",
    "\n",
    "Сформулируем N-гипотезу: Конверсия в заказ пользователей группы «A» и группы «B» по «очищенным» данным различаются.\n",
    "\n",
    "В соответствии с нашими решениями, отсеем аномальных посетителей по границе более 2 заказов и заказы дороже 50 000."
   ]
  },
  {
   "cell_type": "code",
   "execution_count": 21,
   "metadata": {},
   "outputs": [
    {
     "name": "stdout",
     "output_type": "stream",
     "text": [
      "1099    148427295\n",
      "33      249864742\n",
      "58      611059232\n",
      "1137    759473111\n",
      "949     887908475\n",
      "Name: visitorId, dtype: int64\n",
      "(22,)\n"
     ]
    }
   ],
   "source": [
    "usersWithManyOrders = pd.concat(\n",
    "    [\n",
    "        ordersByUsersA[ordersByUsersA['orders'] > 2]['visitorId'],\n",
    "        ordersByUsersB[ordersByUsersB['orders'] > 2]['visitorId'],\n",
    "    ],\n",
    "    axis=0,\n",
    ")\n",
    "usersWithExpensiveOrders = orders[orders['revenue'] > 50000]['visitorId']\n",
    "abnormalUsers = (\n",
    "    pd.concat([usersWithManyOrders, usersWithExpensiveOrders], axis=0)\n",
    "    .drop_duplicates()\n",
    "    .sort_values()\n",
    ")\n",
    "print(abnormalUsers.head(5))\n",
    "print(abnormalUsers.shape) "
   ]
  },
  {
   "cell_type": "markdown",
   "metadata": {},
   "source": [
    "Всего 22 аномальных посетителей. Посчитаем статистическую значимость различия конверсии после удаления выбросов."
   ]
  },
  {
   "cell_type": "code",
   "execution_count": 22,
   "metadata": {},
   "outputs": [
    {
     "name": "stdout",
     "output_type": "stream",
     "text": [
      "p-value =0.00561\n",
      "Относительный прирост конверсии группы B к группе A = 0.198\n"
     ]
    }
   ],
   "source": [
    "\n",
    "sampleAFiltered = pd.concat(\n",
    "    [\n",
    "        ordersByUsersA[\n",
    "            np.logical_not(ordersByUsersA['visitorId'].isin(abnormalUsers))\n",
    "        ]['orders'],\n",
    "        pd.Series(\n",
    "            0,\n",
    "            index=np.arange(\n",
    "                data['visitorsPerDateA'].sum() - len(ordersByUsersA['orders'])\n",
    "            ),\n",
    "            name='orders',\n",
    "        ),\n",
    "    ],\n",
    "    axis=0,\n",
    ")\n",
    "\n",
    "sampleBFiltered = pd.concat(\n",
    "    [\n",
    "        ordersByUsersB[\n",
    "            np.logical_not(ordersByUsersB['visitorId'].isin(abnormalUsers))\n",
    "        ]['orders'],\n",
    "        pd.Series(\n",
    "            0,\n",
    "            index=np.arange(\n",
    "                data['visitorsPerDateB'].sum() - len(ordersByUsersB['orders'])\n",
    "            ),\n",
    "            name='orders',\n",
    "        ),\n",
    "    ],\n",
    "    axis=0,\n",
    ") \n",
    "\n",
    "\n",
    "print('p-value =''{0:.5f}'.format(st.mannwhitneyu(sampleAFiltered, sampleBFiltered)[1]))\n",
    "print('Относительный прирост конверсии группы B к группе A =','{0:.3f}'.format(sampleBFiltered.mean()/sampleAFiltered.mean()-1)) "
   ]
  },
  {
   "cell_type": "markdown",
   "metadata": {},
   "source": [
    "Как и по сырым данным, нулевая гипотеза отвергается, статистическая значимость есть. Различие в конверсии без выбросов выросло до 17.2%."
   ]
  },
  {
   "cell_type": "markdown",
   "metadata": {},
   "source": [
    "13. Посчитаем статистическую значимость различий в среднем чеке заказа между группами по «очищенным» данным.\n",
    "\n",
    "Сформулируем 0-гипотезу: Средний чек пользователей группы «A» и группы «B» по «очищенным» данным равны;\n",
    "\n",
    "Сформулируем N-гипотезу: Средний чек пользователей группы «A» и группы «B» по «очищенным» данным различаются."
   ]
  },
  {
   "cell_type": "code",
   "execution_count": 23,
   "metadata": {
    "scrolled": true
   },
   "outputs": [
    {
     "name": "stdout",
     "output_type": "stream",
     "text": [
      "p-value = 0.939\n",
      "Относительное различие среднего чека группы B к группе A = 0.011\n"
     ]
    }
   ],
   "source": [
    "print('p-value =',\n",
    "    '{0:.3f}'.format(\n",
    "        st.mannwhitneyu(\n",
    "            orders[\n",
    "                np.logical_and(\n",
    "                    orders['group'] == 'A',\n",
    "                    np.logical_not(orders['visitorId'].isin(abnormalUsers)),\n",
    "                )\n",
    "            ]['revenue'],\n",
    "            orders[\n",
    "                np.logical_and(\n",
    "                    orders['group'] == 'B',\n",
    "                    np.logical_not(orders['visitorId'].isin(abnormalUsers)),\n",
    "                )\n",
    "            ]['revenue'],\n",
    "        )[1]\n",
    "    )\n",
    ")\n",
    "\n",
    "print('Относительное различие среднего чека группы B к группе A =',\n",
    "    \"{0:.3f}\".format(\n",
    "        orders[\n",
    "            np.logical_and(\n",
    "                orders['group'] == 'B',\n",
    "                np.logical_not(orders['visitorId'].isin(abnormalUsers)),\n",
    "            )\n",
    "        ]['revenue'].mean()\n",
    "        / orders[\n",
    "            np.logical_and(\n",
    "                orders['group'] == 'A',\n",
    "                np.logical_not(orders['visitorId'].isin(abnormalUsers)),\n",
    "            )\n",
    "        ]['revenue'].mean()\n",
    "        - 1\n",
    "    )\n",
    ") "
   ]
  },
  {
   "cell_type": "markdown",
   "metadata": {},
   "source": [
    "P-value стало еще больше, статистической значимости нет, зато разница в чеке между сегментами сократилась с 25.9% до 0.9%."
   ]
  },
  {
   "cell_type": "markdown",
   "metadata": {},
   "source": [
    "### Вывод\n",
    "\n",
    "Есть статистически значимое различие по конверсии между группами как по сырым данным, так и после фильтрации аномалий.\n",
    "По среднему чеку статистически значимого различия между группами нет ни на сырых данных, ни после отсеивания выбросов. \n",
    "График различия конверсии между группами говорит о том, что результаты группы B лучше, чем у A. График различия среднего чека подвержен сильным колебаниям и не позволяет сделать определённые выводы.\n",
    "\n",
    "Принимаем решение остановить тест, зафиксировать победу группы B над группой A по метрике \"конверсия в заказ\". В то же время нельзя утверждать, что выручка увеличится после нововведений, поскольку результат теста об относительном изменении среднего чека неопределенный. "
   ]
  },
  {
   "cell_type": "markdown",
   "metadata": {},
   "source": [
    "<a id=\"summary\"></a>\n",
    "## 5. Общий вывод"
   ]
  },
  {
   "cell_type": "markdown",
   "metadata": {},
   "source": [
    "1. Данные были открыты и изучены, мы обнаружили и удалили из выборки посетителей, попавших сразу в две группы A/B тестирования.\n",
    "\n",
    "\n",
    "2. Была произведена работа по приоритезации гипотез:\n",
    "\n",
    "При применении фреймворка ICE самыми приоритетными (топ 3) оказались гипотезы с индексами 8, 0 и 7. Фреймворк RICE показал иную приоритетность: 7, 2, 0 и 6. Итоговый список приоритетов может выглядеть следующим образом:\n",
    "\n",
    "* Добавить форму подписки на все основные страницы, чтобы собрать базу клиентов для email-рассылок\n",
    "* Добавить блоки рекомендаций товаров на сайт интернет магазина, чтобы повысить конверсию и средний чек заказа\n",
    "* Добавить два новых канала привлечения трафика, что позволит привлекать на 30% больше пользователей\n",
    "* Показать на главной странице баннеры с актуальными акциями и распродажами, чтобы увеличить конверсию\n",
    "* Запустить акцию, дающую скидку на товар в день рождения\n",
    "\n",
    "3. Было изучено распределение результатов теста, найдены и отсеяны выбросы по среднему чеку и по количеству заказов, проанализированы результаты A/B теста:\n",
    "\n",
    "Обнаружено статистически значимое различие по конверсии между группами как по сырым данным, так и после фильтрации аномалий. По среднему чеку статистически значимого различия между группами не обнаружено ни на сырых данных, ни после отсеивания выбросов. График различия конверсии между группами показал, что результаты группы B лучше, чем у A. График различия среднего чека подвержен сильным колебаниям и не позволил сделать определённые выводы.\n",
    "\n",
    "Принято решение остановить тест, зафиксировать победу группы B над группой A по метрике \"конверсия в заказ\". В то же время нельзя утверждать, что выручка увеличится после нововведений, поскольку результат теста об относительном изменении среднего чека неопределенный."
   ]
  }
 ],
 "metadata": {
  "ExecuteTimeLog": [
   {
    "duration": 1261,
    "start_time": "2021-12-07T07:19:38.960Z"
   },
   {
    "duration": 302,
    "start_time": "2021-12-07T07:19:40.223Z"
   },
   {
    "duration": 5,
    "start_time": "2021-12-07T07:19:40.529Z"
   },
   {
    "duration": 9478,
    "start_time": "2021-12-07T07:19:40.535Z"
   },
   {
    "duration": -548,
    "start_time": "2021-12-07T07:19:50.565Z"
   },
   {
    "duration": -549,
    "start_time": "2021-12-07T07:19:50.567Z"
   },
   {
    "duration": -555,
    "start_time": "2021-12-07T07:19:50.574Z"
   },
   {
    "duration": -557,
    "start_time": "2021-12-07T07:19:50.577Z"
   },
   {
    "duration": -559,
    "start_time": "2021-12-07T07:19:50.580Z"
   },
   {
    "duration": -563,
    "start_time": "2021-12-07T07:19:50.585Z"
   },
   {
    "duration": -564,
    "start_time": "2021-12-07T07:19:50.587Z"
   },
   {
    "duration": -567,
    "start_time": "2021-12-07T07:19:50.591Z"
   },
   {
    "duration": -568,
    "start_time": "2021-12-07T07:19:50.593Z"
   },
   {
    "duration": -569,
    "start_time": "2021-12-07T07:19:50.595Z"
   },
   {
    "duration": -569,
    "start_time": "2021-12-07T07:19:50.596Z"
   },
   {
    "duration": -572,
    "start_time": "2021-12-07T07:19:50.600Z"
   },
   {
    "duration": -572,
    "start_time": "2021-12-07T07:19:50.602Z"
   },
   {
    "duration": -573,
    "start_time": "2021-12-07T07:19:50.604Z"
   },
   {
    "duration": -580,
    "start_time": "2021-12-07T07:19:50.612Z"
   },
   {
    "duration": -583,
    "start_time": "2021-12-07T07:19:50.616Z"
   },
   {
    "duration": -584,
    "start_time": "2021-12-07T07:19:50.618Z"
   },
   {
    "duration": -585,
    "start_time": "2021-12-07T07:19:50.621Z"
   },
   {
    "duration": -586,
    "start_time": "2021-12-07T07:19:50.623Z"
   },
   {
    "duration": -587,
    "start_time": "2021-12-07T07:19:50.625Z"
   },
   {
    "duration": -588,
    "start_time": "2021-12-07T07:19:50.627Z"
   },
   {
    "duration": -589,
    "start_time": "2021-12-07T07:19:50.629Z"
   },
   {
    "duration": -590,
    "start_time": "2021-12-07T07:19:50.631Z"
   },
   {
    "duration": -592,
    "start_time": "2021-12-07T07:19:50.634Z"
   },
   {
    "duration": -593,
    "start_time": "2021-12-07T07:19:50.636Z"
   },
   {
    "duration": -594,
    "start_time": "2021-12-07T07:19:50.638Z"
   },
   {
    "duration": -595,
    "start_time": "2021-12-07T07:19:50.640Z"
   },
   {
    "duration": -596,
    "start_time": "2021-12-07T07:19:50.642Z"
   },
   {
    "duration": -597,
    "start_time": "2021-12-07T07:19:50.644Z"
   },
   {
    "duration": -598,
    "start_time": "2021-12-07T07:19:50.646Z"
   },
   {
    "duration": -605,
    "start_time": "2021-12-07T07:19:50.654Z"
   },
   {
    "duration": -607,
    "start_time": "2021-12-07T07:19:50.657Z"
   },
   {
    "duration": -607,
    "start_time": "2021-12-07T07:19:50.658Z"
   },
   {
    "duration": -609,
    "start_time": "2021-12-07T07:19:50.661Z"
   },
   {
    "duration": 1115,
    "start_time": "2021-12-07T07:30:09.697Z"
   },
   {
    "duration": 1522,
    "start_time": "2021-12-07T07:30:10.814Z"
   },
   {
    "duration": -650,
    "start_time": "2021-12-07T07:30:12.991Z"
   },
   {
    "duration": -656,
    "start_time": "2021-12-07T07:30:12.998Z"
   },
   {
    "duration": -661,
    "start_time": "2021-12-07T07:30:13.004Z"
   },
   {
    "duration": -667,
    "start_time": "2021-12-07T07:30:13.011Z"
   },
   {
    "duration": -672,
    "start_time": "2021-12-07T07:30:13.017Z"
   },
   {
    "duration": -675,
    "start_time": "2021-12-07T07:30:13.021Z"
   },
   {
    "duration": -680,
    "start_time": "2021-12-07T07:30:13.027Z"
   },
   {
    "duration": -687,
    "start_time": "2021-12-07T07:30:13.035Z"
   },
   {
    "duration": -688,
    "start_time": "2021-12-07T07:30:13.037Z"
   },
   {
    "duration": -689,
    "start_time": "2021-12-07T07:30:13.039Z"
   },
   {
    "duration": -691,
    "start_time": "2021-12-07T07:30:13.042Z"
   },
   {
    "duration": -693,
    "start_time": "2021-12-07T07:30:13.045Z"
   },
   {
    "duration": -693,
    "start_time": "2021-12-07T07:30:13.047Z"
   },
   {
    "duration": -695,
    "start_time": "2021-12-07T07:30:13.050Z"
   },
   {
    "duration": -696,
    "start_time": "2021-12-07T07:30:13.052Z"
   },
   {
    "duration": -697,
    "start_time": "2021-12-07T07:30:13.054Z"
   },
   {
    "duration": -698,
    "start_time": "2021-12-07T07:30:13.056Z"
   },
   {
    "duration": -700,
    "start_time": "2021-12-07T07:30:13.059Z"
   },
   {
    "duration": -700,
    "start_time": "2021-12-07T07:30:13.061Z"
   },
   {
    "duration": -711,
    "start_time": "2021-12-07T07:30:13.073Z"
   },
   {
    "duration": -713,
    "start_time": "2021-12-07T07:30:13.076Z"
   },
   {
    "duration": -719,
    "start_time": "2021-12-07T07:30:13.083Z"
   },
   {
    "duration": -724,
    "start_time": "2021-12-07T07:30:13.089Z"
   },
   {
    "duration": -730,
    "start_time": "2021-12-07T07:30:13.096Z"
   },
   {
    "duration": -735,
    "start_time": "2021-12-07T07:30:13.102Z"
   },
   {
    "duration": -741,
    "start_time": "2021-12-07T07:30:13.109Z"
   },
   {
    "duration": -746,
    "start_time": "2021-12-07T07:30:13.115Z"
   },
   {
    "duration": -753,
    "start_time": "2021-12-07T07:30:13.122Z"
   },
   {
    "duration": -754,
    "start_time": "2021-12-07T07:30:13.124Z"
   },
   {
    "duration": -759,
    "start_time": "2021-12-07T07:30:13.130Z"
   },
   {
    "duration": -765,
    "start_time": "2021-12-07T07:30:13.137Z"
   },
   {
    "duration": -770,
    "start_time": "2021-12-07T07:30:13.143Z"
   },
   {
    "duration": -775,
    "start_time": "2021-12-07T07:30:13.149Z"
   },
   {
    "duration": -781,
    "start_time": "2021-12-07T07:30:13.156Z"
   },
   {
    "duration": -782,
    "start_time": "2021-12-07T07:30:13.158Z"
   },
   {
    "duration": -788,
    "start_time": "2021-12-07T07:30:13.165Z"
   },
   {
    "duration": 1866,
    "start_time": "2021-12-07T07:30:34.184Z"
   },
   {
    "duration": 159,
    "start_time": "2021-12-07T07:31:39.315Z"
   },
   {
    "duration": 1050,
    "start_time": "2021-12-07T07:31:53.448Z"
   },
   {
    "duration": 159,
    "start_time": "2021-12-07T07:31:54.500Z"
   },
   {
    "duration": 9,
    "start_time": "2021-12-07T07:31:54.660Z"
   },
   {
    "duration": 37,
    "start_time": "2021-12-07T07:31:54.670Z"
   },
   {
    "duration": 37,
    "start_time": "2021-12-07T07:31:54.709Z"
   },
   {
    "duration": 14,
    "start_time": "2021-12-07T07:31:54.748Z"
   },
   {
    "duration": 38,
    "start_time": "2021-12-07T07:31:54.764Z"
   },
   {
    "duration": 16,
    "start_time": "2021-12-07T07:31:54.805Z"
   },
   {
    "duration": 13,
    "start_time": "2021-12-07T07:31:54.823Z"
   },
   {
    "duration": 744,
    "start_time": "2021-12-07T07:31:54.837Z"
   },
   {
    "duration": 1208,
    "start_time": "2021-12-07T07:31:55.583Z"
   },
   {
    "duration": 276,
    "start_time": "2021-12-07T07:31:56.793Z"
   },
   {
    "duration": 738,
    "start_time": "2021-12-07T07:31:57.071Z"
   },
   {
    "duration": 1192,
    "start_time": "2021-12-07T07:31:57.810Z"
   },
   {
    "duration": 16,
    "start_time": "2021-12-07T07:31:59.004Z"
   },
   {
    "duration": 2796,
    "start_time": "2021-12-07T07:31:59.021Z"
   },
   {
    "duration": 557,
    "start_time": "2021-12-07T07:32:01.819Z"
   },
   {
    "duration": 520,
    "start_time": "2021-12-07T07:32:02.378Z"
   },
   {
    "duration": 492,
    "start_time": "2021-12-07T07:32:02.900Z"
   },
   {
    "duration": 22,
    "start_time": "2021-12-07T07:32:03.394Z"
   },
   {
    "duration": 652,
    "start_time": "2021-12-07T07:32:03.417Z"
   },
   {
    "duration": 522,
    "start_time": "2021-12-07T07:32:04.071Z"
   },
   {
    "duration": 493,
    "start_time": "2021-12-07T07:32:04.596Z"
   },
   {
    "duration": 17,
    "start_time": "2021-12-07T07:32:05.092Z"
   },
   {
    "duration": 232,
    "start_time": "2021-12-07T07:32:05.111Z"
   },
   {
    "duration": 7,
    "start_time": "2021-12-07T07:32:05.345Z"
   },
   {
    "duration": 515,
    "start_time": "2021-12-07T07:32:05.354Z"
   },
   {
    "duration": 7,
    "start_time": "2021-12-07T07:32:05.871Z"
   },
   {
    "duration": 475,
    "start_time": "2021-12-07T07:32:05.879Z"
   },
   {
    "duration": 470,
    "start_time": "2021-12-07T07:32:06.356Z"
   },
   {
    "duration": 341,
    "start_time": "2021-12-07T07:32:06.827Z"
   },
   {
    "duration": 589,
    "start_time": "2021-12-07T07:32:07.170Z"
   },
   {
    "duration": 458,
    "start_time": "2021-12-07T07:32:07.761Z"
   },
   {
    "duration": 422,
    "start_time": "2021-12-07T07:32:08.220Z"
   },
   {
    "duration": 19,
    "start_time": "2021-12-07T07:32:08.643Z"
   },
   {
    "duration": 447,
    "start_time": "2021-12-07T07:32:08.664Z"
   },
   {
    "duration": 427,
    "start_time": "2021-12-07T07:32:09.113Z"
   },
   {
    "duration": 413,
    "start_time": "2021-12-07T07:32:09.542Z"
   },
   {
    "duration": 476,
    "start_time": "2021-12-07T07:32:12.067Z"
   },
   {
    "duration": 1157,
    "start_time": "2021-12-07T07:37:51.488Z"
   },
   {
    "duration": 179,
    "start_time": "2021-12-07T07:37:52.647Z"
   },
   {
    "duration": 10,
    "start_time": "2021-12-07T07:37:52.829Z"
   },
   {
    "duration": 49,
    "start_time": "2021-12-07T07:37:52.841Z"
   },
   {
    "duration": 40,
    "start_time": "2021-12-07T07:37:52.892Z"
   },
   {
    "duration": 19,
    "start_time": "2021-12-07T07:37:52.934Z"
   },
   {
    "duration": 41,
    "start_time": "2021-12-07T07:37:52.955Z"
   },
   {
    "duration": 36,
    "start_time": "2021-12-07T07:37:52.999Z"
   },
   {
    "duration": 35,
    "start_time": "2021-12-07T07:37:53.038Z"
   },
   {
    "duration": 723,
    "start_time": "2021-12-07T07:37:53.075Z"
   },
   {
    "duration": 1148,
    "start_time": "2021-12-07T07:37:53.800Z"
   },
   {
    "duration": 256,
    "start_time": "2021-12-07T07:37:54.950Z"
   },
   {
    "duration": 719,
    "start_time": "2021-12-07T07:37:55.209Z"
   },
   {
    "duration": 1157,
    "start_time": "2021-12-07T07:37:55.930Z"
   },
   {
    "duration": 19,
    "start_time": "2021-12-07T07:37:57.089Z"
   },
   {
    "duration": 2741,
    "start_time": "2021-12-07T07:37:57.110Z"
   },
   {
    "duration": 544,
    "start_time": "2021-12-07T07:37:59.852Z"
   },
   {
    "duration": 578,
    "start_time": "2021-12-07T07:38:00.398Z"
   },
   {
    "duration": 551,
    "start_time": "2021-12-07T07:38:00.978Z"
   },
   {
    "duration": 36,
    "start_time": "2021-12-07T07:38:01.531Z"
   },
   {
    "duration": 702,
    "start_time": "2021-12-07T07:38:01.569Z"
   },
   {
    "duration": 536,
    "start_time": "2021-12-07T07:38:02.274Z"
   },
   {
    "duration": 543,
    "start_time": "2021-12-07T07:38:02.813Z"
   },
   {
    "duration": 21,
    "start_time": "2021-12-07T07:38:03.363Z"
   },
   {
    "duration": 238,
    "start_time": "2021-12-07T07:38:03.387Z"
   },
   {
    "duration": 8,
    "start_time": "2021-12-07T07:38:03.627Z"
   },
   {
    "duration": 484,
    "start_time": "2021-12-07T07:38:03.637Z"
   },
   {
    "duration": 7,
    "start_time": "2021-12-07T07:38:04.123Z"
   },
   {
    "duration": 478,
    "start_time": "2021-12-07T07:38:04.132Z"
   },
   {
    "duration": 574,
    "start_time": "2021-12-07T07:38:04.612Z"
   },
   {
    "duration": 351,
    "start_time": "2021-12-07T07:38:05.188Z"
   },
   {
    "duration": 608,
    "start_time": "2021-12-07T07:38:05.542Z"
   },
   {
    "duration": 458,
    "start_time": "2021-12-07T07:38:06.151Z"
   },
   {
    "duration": 441,
    "start_time": "2021-12-07T07:38:06.611Z"
   },
   {
    "duration": 27,
    "start_time": "2021-12-07T07:38:07.054Z"
   },
   {
    "duration": 430,
    "start_time": "2021-12-07T07:38:07.083Z"
   },
   {
    "duration": 427,
    "start_time": "2021-12-07T07:38:07.515Z"
   },
   {
    "duration": 456,
    "start_time": "2021-12-07T07:38:07.944Z"
   },
   {
    "duration": 498,
    "start_time": "2021-12-07T11:42:04.805Z"
   },
   {
    "duration": 1428,
    "start_time": "2021-12-07T11:42:24.612Z"
   },
   {
    "duration": 5,
    "start_time": "2021-12-07T11:42:34.348Z"
   },
   {
    "duration": 219,
    "start_time": "2021-12-07T11:42:36.301Z"
   },
   {
    "duration": 45,
    "start_time": "2021-12-07T11:55:13.300Z"
   },
   {
    "duration": 33,
    "start_time": "2021-12-07T12:00:20.989Z"
   },
   {
    "duration": 1582,
    "start_time": "2021-12-07T12:01:27.558Z"
   },
   {
    "duration": 235,
    "start_time": "2021-12-07T12:01:29.143Z"
   },
   {
    "duration": 11,
    "start_time": "2021-12-07T12:01:29.384Z"
   },
   {
    "duration": 62,
    "start_time": "2021-12-07T12:01:29.397Z"
   },
   {
    "duration": 540,
    "start_time": "2021-12-07T12:01:29.462Z"
   },
   {
    "duration": 328,
    "start_time": "2021-12-07T12:01:29.678Z"
   },
   {
    "duration": 325,
    "start_time": "2021-12-07T12:01:29.682Z"
   },
   {
    "duration": 324,
    "start_time": "2021-12-07T12:01:29.685Z"
   },
   {
    "duration": 323,
    "start_time": "2021-12-07T12:01:29.689Z"
   },
   {
    "duration": 320,
    "start_time": "2021-12-07T12:01:29.693Z"
   },
   {
    "duration": 318,
    "start_time": "2021-12-07T12:01:29.697Z"
   },
   {
    "duration": 315,
    "start_time": "2021-12-07T12:01:29.702Z"
   },
   {
    "duration": 315,
    "start_time": "2021-12-07T12:01:29.704Z"
   },
   {
    "duration": 314,
    "start_time": "2021-12-07T12:01:29.707Z"
   },
   {
    "duration": 304,
    "start_time": "2021-12-07T12:01:29.718Z"
   },
   {
    "duration": 303,
    "start_time": "2021-12-07T12:01:29.721Z"
   },
   {
    "duration": 301,
    "start_time": "2021-12-07T12:01:29.724Z"
   },
   {
    "duration": 300,
    "start_time": "2021-12-07T12:01:29.727Z"
   },
   {
    "duration": 298,
    "start_time": "2021-12-07T12:01:29.730Z"
   },
   {
    "duration": 297,
    "start_time": "2021-12-07T12:01:29.732Z"
   },
   {
    "duration": 293,
    "start_time": "2021-12-07T12:01:29.737Z"
   },
   {
    "duration": 293,
    "start_time": "2021-12-07T12:01:29.739Z"
   },
   {
    "duration": 292,
    "start_time": "2021-12-07T12:01:29.742Z"
   },
   {
    "duration": 292,
    "start_time": "2021-12-07T12:01:29.744Z"
   },
   {
    "duration": 291,
    "start_time": "2021-12-07T12:01:29.746Z"
   },
   {
    "duration": 291,
    "start_time": "2021-12-07T12:01:29.748Z"
   },
   {
    "duration": 290,
    "start_time": "2021-12-07T12:01:29.751Z"
   },
   {
    "duration": 305,
    "start_time": "2021-12-07T12:01:29.754Z"
   },
   {
    "duration": 305,
    "start_time": "2021-12-07T12:01:29.757Z"
   },
   {
    "duration": 300,
    "start_time": "2021-12-07T12:01:29.764Z"
   },
   {
    "duration": 299,
    "start_time": "2021-12-07T12:01:29.767Z"
   },
   {
    "duration": 299,
    "start_time": "2021-12-07T12:01:29.769Z"
   },
   {
    "duration": 301,
    "start_time": "2021-12-07T12:01:29.771Z"
   },
   {
    "duration": 300,
    "start_time": "2021-12-07T12:01:29.774Z"
   },
   {
    "duration": 300,
    "start_time": "2021-12-07T12:01:29.776Z"
   },
   {
    "duration": 299,
    "start_time": "2021-12-07T12:01:29.778Z"
   },
   {
    "duration": 291,
    "start_time": "2021-12-07T12:01:29.788Z"
   },
   {
    "duration": 285,
    "start_time": "2021-12-07T12:01:29.795Z"
   },
   {
    "duration": 54,
    "start_time": "2021-12-07T12:02:45.274Z"
   },
   {
    "duration": 35,
    "start_time": "2021-12-07T12:03:06.193Z"
   },
   {
    "duration": 433,
    "start_time": "2021-12-07T12:04:15.859Z"
   },
   {
    "duration": 2099,
    "start_time": "2021-12-07T12:04:40.139Z"
   },
   {
    "duration": 1691,
    "start_time": "2021-12-07T12:04:51.540Z"
   },
   {
    "duration": 396,
    "start_time": "2021-12-07T12:06:48.518Z"
   },
   {
    "duration": 400,
    "start_time": "2021-12-07T12:07:41.913Z"
   },
   {
    "duration": 385,
    "start_time": "2021-12-07T12:07:46.648Z"
   },
   {
    "duration": 403,
    "start_time": "2021-12-07T12:08:04.688Z"
   },
   {
    "duration": 33,
    "start_time": "2021-12-07T12:08:24.489Z"
   },
   {
    "duration": 1505,
    "start_time": "2021-12-07T12:08:56.545Z"
   },
   {
    "duration": 214,
    "start_time": "2021-12-07T12:08:58.053Z"
   },
   {
    "duration": 11,
    "start_time": "2021-12-07T12:08:58.270Z"
   },
   {
    "duration": 37,
    "start_time": "2021-12-07T12:08:58.285Z"
   },
   {
    "duration": 79,
    "start_time": "2021-12-07T12:08:58.325Z"
   },
   {
    "duration": 6,
    "start_time": "2021-12-07T12:08:58.408Z"
   },
   {
    "duration": 48,
    "start_time": "2021-12-07T12:08:58.417Z"
   },
   {
    "duration": 25,
    "start_time": "2021-12-07T12:08:58.470Z"
   },
   {
    "duration": 7,
    "start_time": "2021-12-07T12:08:58.498Z"
   },
   {
    "duration": 1235,
    "start_time": "2021-12-07T12:08:58.508Z"
   },
   {
    "duration": 2022,
    "start_time": "2021-12-07T12:08:59.747Z"
   },
   {
    "duration": 406,
    "start_time": "2021-12-07T12:09:01.771Z"
   },
   {
    "duration": 1472,
    "start_time": "2021-12-07T12:09:02.179Z"
   },
   {
    "duration": 1926,
    "start_time": "2021-12-07T12:09:03.658Z"
   },
   {
    "duration": 27,
    "start_time": "2021-12-07T12:09:05.586Z"
   },
   {
    "duration": 4536,
    "start_time": "2021-12-07T12:09:05.616Z"
   },
   {
    "duration": 821,
    "start_time": "2021-12-07T12:09:10.155Z"
   },
   {
    "duration": 806,
    "start_time": "2021-12-07T12:09:10.979Z"
   },
   {
    "duration": 755,
    "start_time": "2021-12-07T12:09:11.788Z"
   },
   {
    "duration": 48,
    "start_time": "2021-12-07T12:09:12.547Z"
   },
   {
    "duration": 1220,
    "start_time": "2021-12-07T12:09:12.598Z"
   },
   {
    "duration": 772,
    "start_time": "2021-12-07T12:09:13.821Z"
   },
   {
    "duration": 800,
    "start_time": "2021-12-07T12:09:14.598Z"
   },
   {
    "duration": 29,
    "start_time": "2021-12-07T12:09:15.401Z"
   },
   {
    "duration": 382,
    "start_time": "2021-12-07T12:09:15.432Z"
   },
   {
    "duration": 10,
    "start_time": "2021-12-07T12:09:15.816Z"
   },
   {
    "duration": 845,
    "start_time": "2021-12-07T12:09:15.828Z"
   },
   {
    "duration": 10,
    "start_time": "2021-12-07T12:09:16.676Z"
   },
   {
    "duration": 1070,
    "start_time": "2021-12-07T12:09:16.689Z"
   },
   {
    "duration": 908,
    "start_time": "2021-12-07T12:09:17.762Z"
   },
   {
    "duration": 576,
    "start_time": "2021-12-07T12:09:18.672Z"
   },
   {
    "duration": 899,
    "start_time": "2021-12-07T12:09:19.250Z"
   },
   {
    "duration": 670,
    "start_time": "2021-12-07T12:09:20.160Z"
   },
   {
    "duration": 710,
    "start_time": "2021-12-07T12:09:20.833Z"
   },
   {
    "duration": 42,
    "start_time": "2021-12-07T12:09:21.546Z"
   },
   {
    "duration": 656,
    "start_time": "2021-12-07T12:09:21.591Z"
   },
   {
    "duration": 602,
    "start_time": "2021-12-07T12:09:22.251Z"
   },
   {
    "duration": 604,
    "start_time": "2021-12-07T12:09:22.860Z"
   },
   {
    "duration": 1777,
    "start_time": "2021-12-07T12:17:59.875Z"
   },
   {
    "duration": 2778,
    "start_time": "2021-12-07T12:19:04.340Z"
   },
   {
    "duration": 2414,
    "start_time": "2021-12-07T12:20:10.093Z"
   },
   {
    "duration": 649,
    "start_time": "2021-12-07T12:20:21.177Z"
   },
   {
    "duration": 1482,
    "start_time": "2021-12-07T12:26:04.901Z"
   },
   {
    "duration": 546,
    "start_time": "2021-12-07T12:26:10.726Z"
   },
   {
    "duration": 2321,
    "start_time": "2021-12-07T12:26:34.822Z"
   },
   {
    "duration": 2296,
    "start_time": "2021-12-07T12:27:32.664Z"
   },
   {
    "duration": 235,
    "start_time": "2021-12-07T12:30:41.298Z"
   },
   {
    "duration": 295,
    "start_time": "2021-12-07T12:31:37.718Z"
   },
   {
    "duration": 1563,
    "start_time": "2021-12-07T12:36:15.910Z"
   },
   {
    "duration": 226,
    "start_time": "2021-12-07T12:36:17.475Z"
   },
   {
    "duration": 10,
    "start_time": "2021-12-07T12:36:17.704Z"
   },
   {
    "duration": 45,
    "start_time": "2021-12-07T12:36:17.717Z"
   },
   {
    "duration": 48,
    "start_time": "2021-12-07T12:36:17.764Z"
   },
   {
    "duration": 5,
    "start_time": "2021-12-07T12:36:17.814Z"
   },
   {
    "duration": 29,
    "start_time": "2021-12-07T12:36:17.821Z"
   },
   {
    "duration": 28,
    "start_time": "2021-12-07T12:36:17.853Z"
   },
   {
    "duration": 7,
    "start_time": "2021-12-07T12:36:17.884Z"
   },
   {
    "duration": 1337,
    "start_time": "2021-12-07T12:36:17.893Z"
   },
   {
    "duration": 1842,
    "start_time": "2021-12-07T12:36:19.233Z"
   },
   {
    "duration": 411,
    "start_time": "2021-12-07T12:36:21.077Z"
   },
   {
    "duration": 1202,
    "start_time": "2021-12-07T12:36:21.490Z"
   },
   {
    "duration": 1885,
    "start_time": "2021-12-07T12:36:22.695Z"
   },
   {
    "duration": 28,
    "start_time": "2021-12-07T12:36:24.583Z"
   },
   {
    "duration": 4623,
    "start_time": "2021-12-07T12:36:24.614Z"
   },
   {
    "duration": 793,
    "start_time": "2021-12-07T12:36:29.239Z"
   },
   {
    "duration": 825,
    "start_time": "2021-12-07T12:36:30.035Z"
   },
   {
    "duration": 784,
    "start_time": "2021-12-07T12:36:30.862Z"
   },
   {
    "duration": 41,
    "start_time": "2021-12-07T12:36:31.648Z"
   },
   {
    "duration": 920,
    "start_time": "2021-12-07T12:36:31.692Z"
   },
   {
    "duration": 744,
    "start_time": "2021-12-07T12:36:32.615Z"
   },
   {
    "duration": 775,
    "start_time": "2021-12-07T12:36:33.366Z"
   },
   {
    "duration": 36,
    "start_time": "2021-12-07T12:36:34.144Z"
   },
   {
    "duration": 357,
    "start_time": "2021-12-07T12:36:34.183Z"
   },
   {
    "duration": 20,
    "start_time": "2021-12-07T12:36:34.543Z"
   },
   {
    "duration": 919,
    "start_time": "2021-12-07T12:36:34.566Z"
   },
   {
    "duration": 11,
    "start_time": "2021-12-07T12:36:35.488Z"
   },
   {
    "duration": 887,
    "start_time": "2021-12-07T12:36:35.501Z"
   },
   {
    "duration": 800,
    "start_time": "2021-12-07T12:36:36.390Z"
   },
   {
    "duration": 526,
    "start_time": "2021-12-07T12:36:37.193Z"
   },
   {
    "duration": 874,
    "start_time": "2021-12-07T12:36:37.722Z"
   },
   {
    "duration": 646,
    "start_time": "2021-12-07T12:36:38.599Z"
   },
   {
    "duration": 640,
    "start_time": "2021-12-07T12:36:39.247Z"
   },
   {
    "duration": 33,
    "start_time": "2021-12-07T12:36:39.889Z"
   },
   {
    "duration": 619,
    "start_time": "2021-12-07T12:36:39.925Z"
   },
   {
    "duration": 612,
    "start_time": "2021-12-07T12:36:40.547Z"
   },
   {
    "duration": 617,
    "start_time": "2021-12-07T12:36:41.161Z"
   },
   {
    "duration": 31,
    "start_time": "2021-12-07T12:38:29.196Z"
   },
   {
    "duration": 26,
    "start_time": "2021-12-07T12:38:50.835Z"
   },
   {
    "duration": 38,
    "start_time": "2021-12-07T12:39:09.244Z"
   },
   {
    "duration": 25,
    "start_time": "2021-12-07T12:39:14.468Z"
   },
   {
    "duration": 26,
    "start_time": "2021-12-07T12:39:17.524Z"
   },
   {
    "duration": 28,
    "start_time": "2021-12-07T12:39:44.460Z"
   },
   {
    "duration": 26,
    "start_time": "2021-12-07T12:40:11.973Z"
   },
   {
    "duration": 27,
    "start_time": "2021-12-07T12:40:23.189Z"
   },
   {
    "duration": 5176,
    "start_time": "2021-12-07T12:40:31.102Z"
   },
   {
    "duration": 35,
    "start_time": "2021-12-07T12:41:38.935Z"
   },
   {
    "duration": 583,
    "start_time": "2021-12-07T12:43:33.456Z"
   },
   {
    "duration": 471,
    "start_time": "2021-12-07T12:44:13.307Z"
   },
   {
    "duration": 470,
    "start_time": "2021-12-07T12:44:34.699Z"
   },
   {
    "duration": 469,
    "start_time": "2021-12-07T12:44:49.236Z"
   },
   {
    "duration": 468,
    "start_time": "2021-12-07T12:45:25.436Z"
   },
   {
    "duration": 751,
    "start_time": "2021-12-07T12:47:17.414Z"
   },
   {
    "duration": 10,
    "start_time": "2021-12-07T12:47:57.617Z"
   },
   {
    "duration": 1482,
    "start_time": "2021-12-07T12:48:08.059Z"
   },
   {
    "duration": 233,
    "start_time": "2021-12-07T12:48:09.544Z"
   },
   {
    "duration": 13,
    "start_time": "2021-12-07T12:48:09.781Z"
   },
   {
    "duration": 35,
    "start_time": "2021-12-07T12:48:09.797Z"
   },
   {
    "duration": 50,
    "start_time": "2021-12-07T12:48:09.860Z"
   },
   {
    "duration": 4,
    "start_time": "2021-12-07T12:48:09.913Z"
   },
   {
    "duration": 42,
    "start_time": "2021-12-07T12:48:09.920Z"
   },
   {
    "duration": 24,
    "start_time": "2021-12-07T12:48:09.966Z"
   },
   {
    "duration": 6,
    "start_time": "2021-12-07T12:48:09.994Z"
   },
   {
    "duration": 1177,
    "start_time": "2021-12-07T12:48:10.003Z"
   },
   {
    "duration": 1908,
    "start_time": "2021-12-07T12:48:11.183Z"
   },
   {
    "duration": 390,
    "start_time": "2021-12-07T12:48:13.094Z"
   },
   {
    "duration": 1162,
    "start_time": "2021-12-07T12:48:13.487Z"
   },
   {
    "duration": 2007,
    "start_time": "2021-12-07T12:48:14.652Z"
   },
   {
    "duration": 28,
    "start_time": "2021-12-07T12:48:16.661Z"
   },
   {
    "duration": 4970,
    "start_time": "2021-12-07T12:48:16.691Z"
   },
   {
    "duration": 906,
    "start_time": "2021-12-07T12:48:21.664Z"
   },
   {
    "duration": 837,
    "start_time": "2021-12-07T12:48:22.572Z"
   },
   {
    "duration": 774,
    "start_time": "2021-12-07T12:48:23.411Z"
   },
   {
    "duration": 421,
    "start_time": "2021-12-07T12:48:24.189Z"
   },
   {
    "duration": 971,
    "start_time": "2021-12-07T12:48:24.612Z"
   },
   {
    "duration": 897,
    "start_time": "2021-12-07T12:48:25.586Z"
   },
   {
    "duration": 996,
    "start_time": "2021-12-07T12:48:26.488Z"
   },
   {
    "duration": 28,
    "start_time": "2021-12-07T12:48:27.487Z"
   },
   {
    "duration": 547,
    "start_time": "2021-12-07T12:48:27.517Z"
   },
   {
    "duration": 12,
    "start_time": "2021-12-07T12:48:28.066Z"
   },
   {
    "duration": 790,
    "start_time": "2021-12-07T12:48:28.081Z"
   },
   {
    "duration": 11,
    "start_time": "2021-12-07T12:48:28.875Z"
   },
   {
    "duration": 773,
    "start_time": "2021-12-07T12:48:28.889Z"
   },
   {
    "duration": 820,
    "start_time": "2021-12-07T12:48:29.665Z"
   },
   {
    "duration": 652,
    "start_time": "2021-12-07T12:48:30.487Z"
   },
   {
    "duration": 756,
    "start_time": "2021-12-07T12:48:31.142Z"
   },
   {
    "duration": 724,
    "start_time": "2021-12-07T12:48:31.900Z"
   },
   {
    "duration": 732,
    "start_time": "2021-12-07T12:48:32.627Z"
   },
   {
    "duration": 30,
    "start_time": "2021-12-07T12:48:33.361Z"
   },
   {
    "duration": 703,
    "start_time": "2021-12-07T12:48:33.394Z"
   },
   {
    "duration": 786,
    "start_time": "2021-12-07T12:48:34.101Z"
   },
   {
    "duration": 674,
    "start_time": "2021-12-07T12:48:34.890Z"
   },
   {
    "duration": 160,
    "start_time": "2021-12-07T12:56:57.604Z"
   },
   {
    "duration": 459,
    "start_time": "2021-12-07T12:57:01.989Z"
   },
   {
    "duration": 459,
    "start_time": "2021-12-07T12:57:12.879Z"
   },
   {
    "duration": 1124,
    "start_time": "2021-12-07T13:17:48.514Z"
   },
   {
    "duration": 1137,
    "start_time": "2021-12-07T13:18:05.962Z"
   },
   {
    "duration": 3241,
    "start_time": "2021-12-07T13:18:59.259Z"
   },
   {
    "duration": 3138,
    "start_time": "2021-12-07T13:19:10.964Z"
   },
   {
    "duration": 3114,
    "start_time": "2021-12-07T13:19:30.973Z"
   },
   {
    "duration": 1144,
    "start_time": "2021-12-07T13:19:37.845Z"
   },
   {
    "duration": 1047,
    "start_time": "2021-12-07T13:21:32.591Z"
   },
   {
    "duration": 1043,
    "start_time": "2021-12-07T13:21:55.720Z"
   },
   {
    "duration": 1057,
    "start_time": "2021-12-07T13:22:01.544Z"
   },
   {
    "duration": 1265,
    "start_time": "2021-12-07T13:22:18.781Z"
   },
   {
    "duration": 1169,
    "start_time": "2021-12-07T13:22:31.833Z"
   },
   {
    "duration": 1046,
    "start_time": "2021-12-07T13:22:38.361Z"
   },
   {
    "duration": 1122,
    "start_time": "2021-12-07T13:22:43.185Z"
   },
   {
    "duration": 1076,
    "start_time": "2021-12-07T13:23:06.354Z"
   },
   {
    "duration": 1237,
    "start_time": "2021-12-07T13:23:22.242Z"
   },
   {
    "duration": 1041,
    "start_time": "2021-12-07T13:24:44.284Z"
   },
   {
    "duration": 2200,
    "start_time": "2021-12-07T13:24:59.948Z"
   },
   {
    "duration": 1889,
    "start_time": "2021-12-07T13:26:08.918Z"
   },
   {
    "duration": 2315,
    "start_time": "2021-12-07T13:27:13.160Z"
   },
   {
    "duration": 1883,
    "start_time": "2021-12-07T13:29:00.730Z"
   },
   {
    "duration": 2145,
    "start_time": "2021-12-07T13:29:23.138Z"
   },
   {
    "duration": 1842,
    "start_time": "2021-12-07T13:29:38.523Z"
   },
   {
    "duration": 2012,
    "start_time": "2021-12-07T13:30:23.147Z"
   },
   {
    "duration": 2020,
    "start_time": "2021-12-07T13:30:34.988Z"
   },
   {
    "duration": 1929,
    "start_time": "2021-12-07T13:30:58.269Z"
   },
   {
    "duration": 2069,
    "start_time": "2021-12-07T13:32:21.006Z"
   },
   {
    "duration": 1191,
    "start_time": "2021-12-07T13:32:30.919Z"
   },
   {
    "duration": 2056,
    "start_time": "2021-12-07T13:32:43.167Z"
   },
   {
    "duration": 2084,
    "start_time": "2021-12-07T13:33:12.800Z"
   },
   {
    "duration": 2333,
    "start_time": "2021-12-07T13:33:42.760Z"
   },
   {
    "duration": 2196,
    "start_time": "2021-12-07T13:34:07.097Z"
   },
   {
    "duration": 1968,
    "start_time": "2021-12-07T13:37:07.534Z"
   },
   {
    "duration": 2463,
    "start_time": "2021-12-07T13:37:24.846Z"
   },
   {
    "duration": 1735,
    "start_time": "2021-12-07T13:37:49.367Z"
   },
   {
    "duration": 1710,
    "start_time": "2021-12-07T13:38:00.111Z"
   },
   {
    "duration": 1903,
    "start_time": "2021-12-07T13:38:08.071Z"
   },
   {
    "duration": 1916,
    "start_time": "2021-12-07T13:40:09.977Z"
   },
   {
    "duration": 2560,
    "start_time": "2021-12-07T13:44:06.231Z"
   },
   {
    "duration": 11908,
    "start_time": "2021-12-07T13:45:50.721Z"
   },
   {
    "duration": 2842,
    "start_time": "2021-12-07T13:46:04.177Z"
   },
   {
    "duration": 2389,
    "start_time": "2021-12-07T13:47:12.595Z"
   },
   {
    "duration": 2425,
    "start_time": "2021-12-07T13:47:22.452Z"
   },
   {
    "duration": 579,
    "start_time": "2021-12-07T13:48:35.974Z"
   },
   {
    "duration": 137,
    "start_time": "2021-12-07T13:53:26.740Z"
   },
   {
    "duration": 130,
    "start_time": "2021-12-07T13:53:33.844Z"
   },
   {
    "duration": 170,
    "start_time": "2021-12-07T13:53:40.340Z"
   },
   {
    "duration": 130,
    "start_time": "2021-12-07T13:53:48.429Z"
   },
   {
    "duration": 2398,
    "start_time": "2021-12-07T13:53:56.332Z"
   },
   {
    "duration": 1410,
    "start_time": "2021-12-07T13:54:52.127Z"
   },
   {
    "duration": 1300,
    "start_time": "2021-12-07T13:55:37.967Z"
   },
   {
    "duration": 2133,
    "start_time": "2021-12-07T13:56:04.673Z"
   },
   {
    "duration": 1503,
    "start_time": "2021-12-07T13:56:14.913Z"
   },
   {
    "duration": 1454,
    "start_time": "2021-12-07T13:56:29.585Z"
   },
   {
    "duration": 1293,
    "start_time": "2021-12-07T13:56:34.480Z"
   },
   {
    "duration": 2112,
    "start_time": "2021-12-07T13:56:44.409Z"
   },
   {
    "duration": 2079,
    "start_time": "2021-12-07T13:56:55.121Z"
   },
   {
    "duration": 1343,
    "start_time": "2021-12-07T13:57:01.241Z"
   },
   {
    "duration": 1418,
    "start_time": "2021-12-07T13:57:07.016Z"
   },
   {
    "duration": 2106,
    "start_time": "2021-12-07T13:58:25.987Z"
   },
   {
    "duration": 2292,
    "start_time": "2021-12-07T13:58:39.963Z"
   },
   {
    "duration": 2109,
    "start_time": "2021-12-07T13:58:45.987Z"
   },
   {
    "duration": 2070,
    "start_time": "2021-12-07T13:58:55.908Z"
   },
   {
    "duration": 1933,
    "start_time": "2021-12-07T13:59:06.820Z"
   },
   {
    "duration": 2057,
    "start_time": "2021-12-07T13:59:25.020Z"
   },
   {
    "duration": 2040,
    "start_time": "2021-12-07T13:59:42.100Z"
   },
   {
    "duration": 2224,
    "start_time": "2021-12-07T14:02:20.057Z"
   },
   {
    "duration": 2169,
    "start_time": "2021-12-07T14:02:53.618Z"
   },
   {
    "duration": 2061,
    "start_time": "2021-12-07T14:03:02.899Z"
   },
   {
    "duration": 2041,
    "start_time": "2021-12-07T14:03:10.722Z"
   },
   {
    "duration": 1979,
    "start_time": "2021-12-07T14:03:23.939Z"
   },
   {
    "duration": 1940,
    "start_time": "2021-12-07T14:03:36.683Z"
   },
   {
    "duration": 2043,
    "start_time": "2021-12-07T14:04:04.036Z"
   },
   {
    "duration": 2177,
    "start_time": "2021-12-07T14:04:15.924Z"
   },
   {
    "duration": 2148,
    "start_time": "2021-12-07T14:05:00.397Z"
   },
   {
    "duration": 1928,
    "start_time": "2021-12-07T14:07:15.331Z"
   },
   {
    "duration": 2189,
    "start_time": "2021-12-07T14:10:20.980Z"
   },
   {
    "duration": 2244,
    "start_time": "2021-12-07T14:11:39.215Z"
   },
   {
    "duration": 1642,
    "start_time": "2021-12-07T14:12:18.675Z"
   },
   {
    "duration": 222,
    "start_time": "2021-12-07T14:12:20.320Z"
   },
   {
    "duration": 19,
    "start_time": "2021-12-07T14:12:20.546Z"
   },
   {
    "duration": 44,
    "start_time": "2021-12-07T14:12:20.568Z"
   },
   {
    "duration": 69,
    "start_time": "2021-12-07T14:12:20.614Z"
   },
   {
    "duration": 5,
    "start_time": "2021-12-07T14:12:20.685Z"
   },
   {
    "duration": 31,
    "start_time": "2021-12-07T14:12:20.692Z"
   },
   {
    "duration": 39,
    "start_time": "2021-12-07T14:12:20.727Z"
   },
   {
    "duration": 6,
    "start_time": "2021-12-07T14:12:20.769Z"
   },
   {
    "duration": 1198,
    "start_time": "2021-12-07T14:12:20.778Z"
   },
   {
    "duration": 2101,
    "start_time": "2021-12-07T14:12:21.979Z"
   },
   {
    "duration": 406,
    "start_time": "2021-12-07T14:12:24.082Z"
   },
   {
    "duration": 1212,
    "start_time": "2021-12-07T14:12:24.491Z"
   },
   {
    "duration": 2048,
    "start_time": "2021-12-07T14:12:25.705Z"
   },
   {
    "duration": 31,
    "start_time": "2021-12-07T14:12:27.759Z"
   },
   {
    "duration": 4736,
    "start_time": "2021-12-07T14:12:27.793Z"
   },
   {
    "duration": 830,
    "start_time": "2021-12-07T14:12:32.532Z"
   },
   {
    "duration": 780,
    "start_time": "2021-12-07T14:12:33.365Z"
   },
   {
    "duration": 797,
    "start_time": "2021-12-07T14:12:34.148Z"
   },
   {
    "duration": 391,
    "start_time": "2021-12-07T14:12:34.948Z"
   },
   {
    "duration": 1037,
    "start_time": "2021-12-07T14:12:35.342Z"
   },
   {
    "duration": 907,
    "start_time": "2021-12-07T14:12:36.382Z"
   },
   {
    "duration": 1016,
    "start_time": "2021-12-07T14:12:37.295Z"
   },
   {
    "duration": 45,
    "start_time": "2021-12-07T14:12:38.314Z"
   },
   {
    "duration": 551,
    "start_time": "2021-12-07T14:12:38.362Z"
   },
   {
    "duration": 10,
    "start_time": "2021-12-07T14:12:38.915Z"
   },
   {
    "duration": 810,
    "start_time": "2021-12-07T14:12:38.928Z"
   },
   {
    "duration": 18,
    "start_time": "2021-12-07T14:12:39.741Z"
   },
   {
    "duration": 2174,
    "start_time": "2021-12-07T14:12:39.762Z"
   },
   {
    "duration": 2020,
    "start_time": "2021-12-07T14:12:41.939Z"
   },
   {
    "duration": 1856,
    "start_time": "2021-12-07T14:12:43.962Z"
   },
   {
    "duration": 2075,
    "start_time": "2021-12-07T14:12:45.820Z"
   },
   {
    "duration": 2069,
    "start_time": "2021-12-07T14:12:47.898Z"
   },
   {
    "duration": 1934,
    "start_time": "2021-12-07T14:12:49.969Z"
   },
   {
    "duration": 495,
    "start_time": "2021-12-07T14:12:51.906Z"
   },
   {
    "duration": 3038,
    "start_time": "2021-12-07T14:12:52.404Z"
   },
   {
    "duration": 3316,
    "start_time": "2021-12-07T14:12:55.445Z"
   },
   {
    "duration": 1927,
    "start_time": "2021-12-07T14:12:58.764Z"
   },
   {
    "duration": 393,
    "start_time": "2021-12-07T16:46:12.465Z"
   },
   {
    "duration": 1192,
    "start_time": "2021-12-07T16:46:23.364Z"
   },
   {
    "duration": 164,
    "start_time": "2021-12-07T16:46:24.558Z"
   },
   {
    "duration": 10,
    "start_time": "2021-12-07T16:46:24.724Z"
   },
   {
    "duration": 29,
    "start_time": "2021-12-07T16:46:24.736Z"
   },
   {
    "duration": 61,
    "start_time": "2021-12-07T16:46:24.767Z"
   },
   {
    "duration": 4,
    "start_time": "2021-12-07T16:46:24.830Z"
   },
   {
    "duration": 19,
    "start_time": "2021-12-07T16:46:24.836Z"
   },
   {
    "duration": 19,
    "start_time": "2021-12-07T16:46:24.858Z"
   },
   {
    "duration": 27,
    "start_time": "2021-12-07T16:46:24.879Z"
   },
   {
    "duration": 742,
    "start_time": "2021-12-07T16:46:24.909Z"
   },
   {
    "duration": 1149,
    "start_time": "2021-12-07T16:46:25.653Z"
   },
   {
    "duration": 246,
    "start_time": "2021-12-07T16:46:26.803Z"
   },
   {
    "duration": 725,
    "start_time": "2021-12-07T16:46:27.051Z"
   },
   {
    "duration": 1282,
    "start_time": "2021-12-07T16:46:27.778Z"
   },
   {
    "duration": 20,
    "start_time": "2021-12-07T16:46:29.062Z"
   },
   {
    "duration": 2681,
    "start_time": "2021-12-07T16:46:29.084Z"
   },
   {
    "duration": 554,
    "start_time": "2021-12-07T16:46:31.767Z"
   },
   {
    "duration": 529,
    "start_time": "2021-12-07T16:46:32.323Z"
   },
   {
    "duration": 543,
    "start_time": "2021-12-07T16:46:32.854Z"
   },
   {
    "duration": 280,
    "start_time": "2021-12-07T16:46:33.407Z"
   },
   {
    "duration": 592,
    "start_time": "2021-12-07T16:46:33.689Z"
   },
   {
    "duration": 590,
    "start_time": "2021-12-07T16:46:34.283Z"
   },
   {
    "duration": 619,
    "start_time": "2021-12-07T16:46:34.876Z"
   },
   {
    "duration": 25,
    "start_time": "2021-12-07T16:46:35.497Z"
   },
   {
    "duration": 342,
    "start_time": "2021-12-07T16:46:35.524Z"
   },
   {
    "duration": 7,
    "start_time": "2021-12-07T16:46:35.876Z"
   },
   {
    "duration": 465,
    "start_time": "2021-12-07T16:47:34.962Z"
   },
   {
    "duration": 100,
    "start_time": "2021-12-07T16:53:45.298Z"
   },
   {
    "duration": 456,
    "start_time": "2021-12-07T16:54:02.339Z"
   },
   {
    "duration": 1246,
    "start_time": "2021-12-07T16:54:38.219Z"
   },
   {
    "duration": 558,
    "start_time": "2021-12-07T16:54:48.491Z"
   },
   {
    "duration": 477,
    "start_time": "2021-12-07T16:55:00.646Z"
   },
   {
    "duration": 500,
    "start_time": "2021-12-07T16:55:07.596Z"
   },
   {
    "duration": 486,
    "start_time": "2021-12-07T16:57:14.895Z"
   },
   {
    "duration": 473,
    "start_time": "2021-12-07T16:57:21.935Z"
   },
   {
    "duration": 1550,
    "start_time": "2021-12-15T15:51:03.091Z"
   },
   {
    "duration": 5,
    "start_time": "2021-12-15T15:52:39.179Z"
   },
   {
    "duration": 586,
    "start_time": "2021-12-15T15:55:52.066Z"
   },
   {
    "duration": 304,
    "start_time": "2021-12-15T15:56:27.214Z"
   },
   {
    "duration": 240,
    "start_time": "2021-12-15T15:58:26.472Z"
   },
   {
    "duration": 160,
    "start_time": "2021-12-15T16:00:08.280Z"
   },
   {
    "duration": 111,
    "start_time": "2021-12-15T16:00:43.613Z"
   },
   {
    "duration": 1865,
    "start_time": "2021-12-15T16:01:02.397Z"
   },
   {
    "duration": 114,
    "start_time": "2021-12-15T16:01:26.292Z"
   },
   {
    "duration": 72,
    "start_time": "2021-12-15T16:01:49.470Z"
   },
   {
    "duration": 253,
    "start_time": "2021-12-15T16:22:14.621Z"
   },
   {
    "duration": 240,
    "start_time": "2021-12-15T16:22:24.353Z"
   },
   {
    "duration": 152,
    "start_time": "2021-12-15T16:31:13.546Z"
   },
   {
    "duration": 72,
    "start_time": "2021-12-15T16:32:46.963Z"
   },
   {
    "duration": 76,
    "start_time": "2021-12-15T16:32:59.068Z"
   },
   {
    "duration": 73,
    "start_time": "2021-12-15T16:33:15.509Z"
   },
   {
    "duration": 78,
    "start_time": "2021-12-15T16:33:32.613Z"
   },
   {
    "duration": 6,
    "start_time": "2021-12-15T16:40:41.361Z"
   },
   {
    "duration": 274,
    "start_time": "2021-12-15T16:40:41.370Z"
   },
   {
    "duration": 255,
    "start_time": "2021-12-15T16:40:41.647Z"
   },
   {
    "duration": 173,
    "start_time": "2021-12-15T16:40:41.906Z"
   },
   {
    "duration": 81,
    "start_time": "2021-12-15T16:40:42.082Z"
   },
   {
    "duration": 73,
    "start_time": "2021-12-15T16:40:42.167Z"
   },
   {
    "duration": 9699,
    "start_time": "2021-12-15T16:40:45.815Z"
   },
   {
    "duration": 487,
    "start_time": "2021-12-15T16:42:05.258Z"
   },
   {
    "duration": 28,
    "start_time": "2021-12-15T16:42:11.809Z"
   },
   {
    "duration": 246,
    "start_time": "2021-12-15T16:43:27.571Z"
   },
   {
    "duration": 45,
    "start_time": "2021-12-15T16:43:57.228Z"
   },
   {
    "duration": 54,
    "start_time": "2021-12-15T16:46:40.126Z"
   },
   {
    "duration": 494,
    "start_time": "2021-12-15T16:47:23.984Z"
   },
   {
    "duration": 30,
    "start_time": "2021-12-15T16:48:45.139Z"
   },
   {
    "duration": 30,
    "start_time": "2021-12-15T16:48:56.219Z"
   },
   {
    "duration": 29,
    "start_time": "2021-12-15T16:49:15.187Z"
   },
   {
    "duration": 167,
    "start_time": "2021-12-15T17:01:47.508Z"
   },
   {
    "duration": 181,
    "start_time": "2021-12-15T17:19:42.841Z"
   },
   {
    "duration": 167,
    "start_time": "2021-12-15T17:19:59.457Z"
   },
   {
    "duration": 250,
    "start_time": "2021-12-15T17:20:17.066Z"
   },
   {
    "duration": 851,
    "start_time": "2021-12-15T17:22:35.411Z"
   },
   {
    "duration": 971,
    "start_time": "2021-12-15T17:23:05.342Z"
   },
   {
    "duration": 792,
    "start_time": "2021-12-15T17:23:14.470Z"
   },
   {
    "duration": 747,
    "start_time": "2021-12-15T17:24:11.855Z"
   },
   {
    "duration": 37,
    "start_time": "2021-12-15T17:24:33.752Z"
   },
   {
    "duration": 174,
    "start_time": "2021-12-15T17:27:27.177Z"
   },
   {
    "duration": 990,
    "start_time": "2021-12-15T17:28:03.309Z"
   },
   {
    "duration": 9248,
    "start_time": "2021-12-15T17:28:04.301Z"
   },
   {
    "duration": 149,
    "start_time": "2021-12-15T17:28:13.404Z"
   },
   {
    "duration": 147,
    "start_time": "2021-12-15T17:28:13.407Z"
   },
   {
    "duration": 147,
    "start_time": "2021-12-15T17:28:13.409Z"
   },
   {
    "duration": 145,
    "start_time": "2021-12-15T17:28:13.412Z"
   },
   {
    "duration": 143,
    "start_time": "2021-12-15T17:28:13.415Z"
   },
   {
    "duration": 141,
    "start_time": "2021-12-15T17:28:13.418Z"
   },
   {
    "duration": 141,
    "start_time": "2021-12-15T17:28:13.420Z"
   },
   {
    "duration": 139,
    "start_time": "2021-12-15T17:28:13.423Z"
   },
   {
    "duration": 138,
    "start_time": "2021-12-15T17:28:13.425Z"
   },
   {
    "duration": 130,
    "start_time": "2021-12-15T17:28:13.434Z"
   },
   {
    "duration": 129,
    "start_time": "2021-12-15T17:28:13.437Z"
   },
   {
    "duration": 127,
    "start_time": "2021-12-15T17:28:13.440Z"
   },
   {
    "duration": 126,
    "start_time": "2021-12-15T17:28:13.442Z"
   },
   {
    "duration": 125,
    "start_time": "2021-12-15T17:28:13.445Z"
   },
   {
    "duration": 123,
    "start_time": "2021-12-15T17:28:13.448Z"
   },
   {
    "duration": 122,
    "start_time": "2021-12-15T17:28:13.450Z"
   },
   {
    "duration": 120,
    "start_time": "2021-12-15T17:28:13.453Z"
   },
   {
    "duration": 119,
    "start_time": "2021-12-15T17:28:13.455Z"
   },
   {
    "duration": 118,
    "start_time": "2021-12-15T17:28:13.457Z"
   },
   {
    "duration": 88,
    "start_time": "2021-12-15T17:28:13.489Z"
   },
   {
    "duration": 87,
    "start_time": "2021-12-15T17:28:13.492Z"
   },
   {
    "duration": 82,
    "start_time": "2021-12-15T17:28:13.498Z"
   },
   {
    "duration": 81,
    "start_time": "2021-12-15T17:28:13.501Z"
   },
   {
    "duration": 80,
    "start_time": "2021-12-15T17:28:13.504Z"
   },
   {
    "duration": 71,
    "start_time": "2021-12-15T17:28:13.515Z"
   },
   {
    "duration": 69,
    "start_time": "2021-12-15T17:28:13.518Z"
   },
   {
    "duration": 65,
    "start_time": "2021-12-15T17:28:13.524Z"
   },
   {
    "duration": 53,
    "start_time": "2021-12-15T17:28:13.538Z"
   },
   {
    "duration": 52,
    "start_time": "2021-12-15T17:28:13.541Z"
   },
   {
    "duration": 51,
    "start_time": "2021-12-15T17:28:13.544Z"
   },
   {
    "duration": 49,
    "start_time": "2021-12-15T17:28:13.547Z"
   },
   {
    "duration": 48,
    "start_time": "2021-12-15T17:28:13.550Z"
   },
   {
    "duration": 1503,
    "start_time": "2021-12-15T17:28:36.816Z"
   },
   {
    "duration": 272,
    "start_time": "2021-12-15T17:28:38.322Z"
   },
   {
    "duration": 232,
    "start_time": "2021-12-15T17:28:38.597Z"
   },
   {
    "duration": 160,
    "start_time": "2021-12-15T17:28:38.832Z"
   },
   {
    "duration": 79,
    "start_time": "2021-12-15T17:28:38.994Z"
   },
   {
    "duration": 96,
    "start_time": "2021-12-15T17:28:39.075Z"
   },
   {
    "duration": 41,
    "start_time": "2021-12-15T17:28:39.174Z"
   },
   {
    "duration": 197,
    "start_time": "2021-12-15T17:28:39.218Z"
   },
   {
    "duration": 725,
    "start_time": "2021-12-15T17:28:42.410Z"
   },
   {
    "duration": 169,
    "start_time": "2021-12-15T17:28:54.810Z"
   },
   {
    "duration": 166,
    "start_time": "2021-12-15T17:37:36.794Z"
   },
   {
    "duration": 170,
    "start_time": "2021-12-15T17:38:00.440Z"
   },
   {
    "duration": 156,
    "start_time": "2021-12-15T17:39:46.587Z"
   },
   {
    "duration": 1445,
    "start_time": "2021-12-15T17:40:06.771Z"
   },
   {
    "duration": 166,
    "start_time": "2021-12-15T17:40:19.716Z"
   },
   {
    "duration": 175,
    "start_time": "2021-12-15T17:42:07.942Z"
   },
   {
    "duration": 150,
    "start_time": "2021-12-15T17:42:28.678Z"
   },
   {
    "duration": 1534,
    "start_time": "2021-12-15T17:42:41.415Z"
   },
   {
    "duration": 140,
    "start_time": "2021-12-15T17:42:55.391Z"
   },
   {
    "duration": 144,
    "start_time": "2021-12-15T17:42:59.727Z"
   },
   {
    "duration": 171,
    "start_time": "2021-12-15T17:43:05.463Z"
   },
   {
    "duration": 298,
    "start_time": "2021-12-15T17:45:27.140Z"
   },
   {
    "duration": 264,
    "start_time": "2021-12-15T17:45:53.795Z"
   },
   {
    "duration": 266,
    "start_time": "2021-12-15T17:46:13.227Z"
   },
   {
    "duration": 303,
    "start_time": "2021-12-15T17:47:05.274Z"
   },
   {
    "duration": 658,
    "start_time": "2021-12-15T17:47:35.816Z"
   },
   {
    "duration": 222,
    "start_time": "2021-12-15T17:47:49.262Z"
   },
   {
    "duration": 258,
    "start_time": "2021-12-15T17:48:16.463Z"
   },
   {
    "duration": 225,
    "start_time": "2021-12-15T17:48:29.920Z"
   },
   {
    "duration": 249,
    "start_time": "2021-12-15T17:48:59.928Z"
   },
   {
    "duration": 258,
    "start_time": "2021-12-15T17:56:39.380Z"
   },
   {
    "duration": 13300,
    "start_time": "2021-12-15T17:58:50.550Z"
   },
   {
    "duration": 132,
    "start_time": "2021-12-15T17:59:27.863Z"
   },
   {
    "duration": 165,
    "start_time": "2021-12-15T18:02:15.668Z"
   },
   {
    "duration": 133,
    "start_time": "2021-12-15T18:02:22.476Z"
   },
   {
    "duration": 256,
    "start_time": "2021-12-15T18:02:24.755Z"
   },
   {
    "duration": 169,
    "start_time": "2021-12-15T18:10:32.512Z"
   },
   {
    "duration": 374,
    "start_time": "2021-12-15T18:10:41.488Z"
   },
   {
    "duration": 474,
    "start_time": "2021-12-15T18:11:03.393Z"
   },
   {
    "duration": 613,
    "start_time": "2021-12-15T18:11:18.785Z"
   },
   {
    "duration": 651,
    "start_time": "2021-12-15T18:11:28.337Z"
   },
   {
    "duration": 153,
    "start_time": "2021-12-15T18:13:42.453Z"
   },
   {
    "duration": 92,
    "start_time": "2021-12-15T18:13:51.557Z"
   },
   {
    "duration": 430,
    "start_time": "2021-12-15T18:15:59.386Z"
   },
   {
    "duration": 96,
    "start_time": "2021-12-15T18:16:25.145Z"
   },
   {
    "duration": 108,
    "start_time": "2021-12-15T18:20:06.566Z"
   },
   {
    "duration": 158,
    "start_time": "2021-12-15T18:20:10.206Z"
   },
   {
    "duration": 460,
    "start_time": "2021-12-15T18:21:44.392Z"
   },
   {
    "duration": 473,
    "start_time": "2021-12-15T18:21:52.897Z"
   },
   {
    "duration": 157,
    "start_time": "2021-12-15T18:22:07.352Z"
   },
   {
    "duration": 206,
    "start_time": "2021-12-15T18:22:37.153Z"
   },
   {
    "duration": 193,
    "start_time": "2021-12-15T18:22:41.217Z"
   },
   {
    "duration": 187,
    "start_time": "2021-12-15T18:23:54.995Z"
   },
   {
    "duration": 96,
    "start_time": "2021-12-15T18:24:40.253Z"
   },
   {
    "duration": 401,
    "start_time": "2021-12-15T18:26:49.592Z"
   },
   {
    "duration": 395,
    "start_time": "2021-12-15T18:27:13.584Z"
   },
   {
    "duration": 52,
    "start_time": "2021-12-15T18:28:36.018Z"
   },
   {
    "duration": 59,
    "start_time": "2021-12-15T18:29:21.043Z"
   },
   {
    "duration": 49,
    "start_time": "2021-12-15T18:30:01.268Z"
   },
   {
    "duration": 401,
    "start_time": "2021-12-15T18:34:17.067Z"
   },
   {
    "duration": 394,
    "start_time": "2021-12-15T18:34:33.834Z"
   },
   {
    "duration": 389,
    "start_time": "2021-12-15T18:34:45.243Z"
   },
   {
    "duration": 60,
    "start_time": "2021-12-15T18:34:56.002Z"
   },
   {
    "duration": 93,
    "start_time": "2021-12-15T18:35:43.573Z"
   },
   {
    "duration": 123,
    "start_time": "2021-12-15T18:37:55.663Z"
   },
   {
    "duration": 125,
    "start_time": "2021-12-15T18:41:31.845Z"
   },
   {
    "duration": 125,
    "start_time": "2021-12-15T18:43:36.545Z"
   },
   {
    "duration": 275,
    "start_time": "2021-12-15T18:45:01.745Z"
   },
   {
    "duration": 265,
    "start_time": "2021-12-15T18:45:09.922Z"
   },
   {
    "duration": 126,
    "start_time": "2021-12-15T18:47:22.126Z"
   },
   {
    "duration": 167,
    "start_time": "2021-12-15T18:48:21.352Z"
   },
   {
    "duration": 7,
    "start_time": "2021-12-15T18:53:47.655Z"
   },
   {
    "duration": 10,
    "start_time": "2021-12-15T18:53:56.543Z"
   },
   {
    "duration": 12,
    "start_time": "2021-12-15T19:01:08.507Z"
   },
   {
    "duration": 12,
    "start_time": "2021-12-15T19:02:42.708Z"
   },
   {
    "duration": 371,
    "start_time": "2021-12-15T19:10:03.472Z"
   },
   {
    "duration": 5,
    "start_time": "2021-12-15T19:10:58.984Z"
   },
   {
    "duration": 734,
    "start_time": "2021-12-15T19:11:05.400Z"
   },
   {
    "duration": 607,
    "start_time": "2021-12-15T19:11:37.297Z"
   },
   {
    "duration": 453,
    "start_time": "2021-12-15T19:11:43.257Z"
   },
   {
    "duration": 13,
    "start_time": "2021-12-15T19:12:58.835Z"
   },
   {
    "duration": 5,
    "start_time": "2021-12-15T19:13:09.459Z"
   },
   {
    "duration": 13,
    "start_time": "2021-12-15T19:13:42.531Z"
   },
   {
    "duration": 15,
    "start_time": "2021-12-15T19:13:47.364Z"
   },
   {
    "duration": 14,
    "start_time": "2021-12-15T19:14:46.957Z"
   },
   {
    "duration": 53,
    "start_time": "2021-12-15T19:15:21.670Z"
   },
   {
    "duration": 23,
    "start_time": "2021-12-15T19:16:41.360Z"
   },
   {
    "duration": 21,
    "start_time": "2021-12-15T19:18:23.198Z"
   },
   {
    "duration": 22,
    "start_time": "2021-12-15T19:18:27.581Z"
   },
   {
    "duration": 20,
    "start_time": "2021-12-15T19:18:38.356Z"
   },
   {
    "duration": 86,
    "start_time": "2021-12-15T19:19:10.932Z"
   },
   {
    "duration": 20,
    "start_time": "2021-12-15T19:19:31.493Z"
   },
   {
    "duration": 134,
    "start_time": "2021-12-15T19:21:56.232Z"
   },
   {
    "duration": 19,
    "start_time": "2021-12-15T19:22:26.313Z"
   },
   {
    "duration": 1652,
    "start_time": "2021-12-15T19:23:07.361Z"
   },
   {
    "duration": 305,
    "start_time": "2021-12-15T19:23:09.016Z"
   },
   {
    "duration": 302,
    "start_time": "2021-12-15T19:23:09.325Z"
   },
   {
    "duration": 170,
    "start_time": "2021-12-15T19:23:09.631Z"
   },
   {
    "duration": 75,
    "start_time": "2021-12-15T19:23:09.803Z"
   },
   {
    "duration": 116,
    "start_time": "2021-12-15T19:23:09.881Z"
   },
   {
    "duration": 63,
    "start_time": "2021-12-15T19:23:10.000Z"
   },
   {
    "duration": 224,
    "start_time": "2021-12-15T19:23:10.068Z"
   },
   {
    "duration": 286,
    "start_time": "2021-12-15T19:23:10.296Z"
   },
   {
    "duration": 168,
    "start_time": "2021-12-15T19:23:10.585Z"
   },
   {
    "duration": 209,
    "start_time": "2021-12-15T19:23:10.756Z"
   },
   {
    "duration": 164,
    "start_time": "2021-12-15T19:23:10.968Z"
   },
   {
    "duration": 37,
    "start_time": "2021-12-15T19:23:11.135Z"
   },
   {
    "duration": 857,
    "start_time": "2021-12-15T19:23:11.175Z"
   },
   {
    "duration": 203,
    "start_time": "2021-12-15T19:23:11.834Z"
   },
   {
    "duration": 197,
    "start_time": "2021-12-15T19:23:11.842Z"
   },
   {
    "duration": 191,
    "start_time": "2021-12-15T19:23:11.849Z"
   },
   {
    "duration": 187,
    "start_time": "2021-12-15T19:23:11.855Z"
   },
   {
    "duration": 185,
    "start_time": "2021-12-15T19:23:11.859Z"
   },
   {
    "duration": 183,
    "start_time": "2021-12-15T19:23:11.862Z"
   },
   {
    "duration": 182,
    "start_time": "2021-12-15T19:23:11.865Z"
   },
   {
    "duration": 181,
    "start_time": "2021-12-15T19:23:11.868Z"
   },
   {
    "duration": 179,
    "start_time": "2021-12-15T19:23:11.871Z"
   },
   {
    "duration": 178,
    "start_time": "2021-12-15T19:23:11.874Z"
   },
   {
    "duration": 176,
    "start_time": "2021-12-15T19:23:11.877Z"
   },
   {
    "duration": 171,
    "start_time": "2021-12-15T19:23:11.884Z"
   },
   {
    "duration": 168,
    "start_time": "2021-12-15T19:23:11.888Z"
   },
   {
    "duration": 167,
    "start_time": "2021-12-15T19:23:11.891Z"
   },
   {
    "duration": 166,
    "start_time": "2021-12-15T19:23:11.894Z"
   },
   {
    "duration": 164,
    "start_time": "2021-12-15T19:23:11.897Z"
   },
   {
    "duration": 163,
    "start_time": "2021-12-15T19:23:11.900Z"
   },
   {
    "duration": 163,
    "start_time": "2021-12-15T19:23:11.902Z"
   },
   {
    "duration": 161,
    "start_time": "2021-12-15T19:23:11.905Z"
   },
   {
    "duration": 161,
    "start_time": "2021-12-15T19:23:11.907Z"
   },
   {
    "duration": 160,
    "start_time": "2021-12-15T19:23:11.910Z"
   },
   {
    "duration": 159,
    "start_time": "2021-12-15T19:23:11.912Z"
   },
   {
    "duration": 153,
    "start_time": "2021-12-15T19:23:11.920Z"
   },
   {
    "duration": 151,
    "start_time": "2021-12-15T19:23:11.923Z"
   },
   {
    "duration": 150,
    "start_time": "2021-12-15T19:23:11.926Z"
   },
   {
    "duration": 149,
    "start_time": "2021-12-15T19:23:11.928Z"
   },
   {
    "duration": 148,
    "start_time": "2021-12-15T19:23:11.931Z"
   },
   {
    "duration": 148,
    "start_time": "2021-12-15T19:23:11.933Z"
   },
   {
    "duration": 146,
    "start_time": "2021-12-15T19:23:11.936Z"
   },
   {
    "duration": 112,
    "start_time": "2021-12-15T19:23:11.972Z"
   },
   {
    "duration": 106,
    "start_time": "2021-12-15T19:23:11.980Z"
   },
   {
    "duration": 100,
    "start_time": "2021-12-15T19:23:11.987Z"
   },
   {
    "duration": 129,
    "start_time": "2021-12-15T19:23:55.230Z"
   },
   {
    "duration": 20,
    "start_time": "2021-12-15T19:24:04.588Z"
   },
   {
    "duration": 22,
    "start_time": "2021-12-15T19:24:20.779Z"
   },
   {
    "duration": 18,
    "start_time": "2021-12-15T19:24:24.524Z"
   },
   {
    "duration": 31,
    "start_time": "2021-12-15T19:24:32.036Z"
   },
   {
    "duration": 120,
    "start_time": "2021-12-15T19:25:13.022Z"
   },
   {
    "duration": 3,
    "start_time": "2021-12-15T19:52:07.428Z"
   },
   {
    "duration": 7,
    "start_time": "2021-12-15T19:56:56.020Z"
   },
   {
    "duration": 28,
    "start_time": "2021-12-15T19:58:26.719Z"
   },
   {
    "duration": 508,
    "start_time": "2021-12-15T19:58:52.216Z"
   },
   {
    "duration": 375,
    "start_time": "2021-12-15T19:58:58.040Z"
   },
   {
    "duration": 371,
    "start_time": "2021-12-15T19:59:08.536Z"
   },
   {
    "duration": 28,
    "start_time": "2021-12-15T19:59:22.288Z"
   },
   {
    "duration": 9,
    "start_time": "2021-12-15T20:00:30.259Z"
   },
   {
    "duration": 10,
    "start_time": "2021-12-15T20:00:38.908Z"
   },
   {
    "duration": 364,
    "start_time": "2021-12-15T20:01:09.403Z"
   },
   {
    "duration": 387,
    "start_time": "2021-12-15T20:02:06.780Z"
   },
   {
    "duration": 15,
    "start_time": "2021-12-15T20:02:29.789Z"
   },
   {
    "duration": 14,
    "start_time": "2021-12-15T20:04:17.424Z"
   },
   {
    "duration": 12,
    "start_time": "2021-12-15T20:04:31.631Z"
   },
   {
    "duration": 15,
    "start_time": "2021-12-15T20:04:43.487Z"
   },
   {
    "duration": 18,
    "start_time": "2021-12-15T20:06:23.835Z"
   },
   {
    "duration": 610,
    "start_time": "2021-12-15T20:12:43.405Z"
   },
   {
    "duration": 406,
    "start_time": "2021-12-15T20:45:01.810Z"
   },
   {
    "duration": 748,
    "start_time": "2021-12-15T20:45:14.943Z"
   },
   {
    "duration": 362,
    "start_time": "2021-12-15T20:45:31.096Z"
   },
   {
    "duration": 357,
    "start_time": "2021-12-15T20:47:10.762Z"
   },
   {
    "duration": 409,
    "start_time": "2021-12-15T20:47:19.754Z"
   },
   {
    "duration": 199,
    "start_time": "2021-12-15T20:58:47.249Z"
   },
   {
    "duration": 644,
    "start_time": "2021-12-15T20:58:52.275Z"
   },
   {
    "duration": 17232,
    "start_time": "2021-12-15T20:59:15.564Z"
   },
   {
    "duration": 3280,
    "start_time": "2021-12-15T20:59:39.637Z"
   },
   {
    "duration": 388,
    "start_time": "2021-12-15T21:00:21.567Z"
   },
   {
    "duration": 1165,
    "start_time": "2021-12-15T21:00:31.573Z"
   },
   {
    "duration": 388,
    "start_time": "2021-12-15T21:00:57.662Z"
   },
   {
    "duration": 314,
    "start_time": "2021-12-15T21:02:38.721Z"
   },
   {
    "duration": 442,
    "start_time": "2021-12-15T21:03:27.881Z"
   },
   {
    "duration": 471,
    "start_time": "2021-12-15T21:03:50.003Z"
   },
   {
    "duration": 423,
    "start_time": "2021-12-15T21:04:11.076Z"
   },
   {
    "duration": 411,
    "start_time": "2021-12-15T21:05:10.293Z"
   },
   {
    "duration": 729,
    "start_time": "2021-12-15T21:05:22.485Z"
   },
   {
    "duration": 740,
    "start_time": "2021-12-15T21:07:05.488Z"
   },
   {
    "duration": 804,
    "start_time": "2021-12-15T21:07:11.424Z"
   },
   {
    "duration": 856,
    "start_time": "2021-12-15T21:07:17.608Z"
   },
   {
    "duration": 571,
    "start_time": "2021-12-15T21:08:19.472Z"
   },
   {
    "duration": 1328,
    "start_time": "2021-12-15T21:08:48.978Z"
   },
   {
    "duration": 826,
    "start_time": "2021-12-15T21:08:54.411Z"
   },
   {
    "duration": 872,
    "start_time": "2021-12-15T21:09:27.987Z"
   },
   {
    "duration": 575,
    "start_time": "2021-12-15T21:10:26.108Z"
   },
   {
    "duration": 1247,
    "start_time": "2021-12-15T21:10:34.852Z"
   },
   {
    "duration": 1042,
    "start_time": "2021-12-15T21:10:39.324Z"
   },
   {
    "duration": 1281,
    "start_time": "2021-12-15T21:10:42.413Z"
   },
   {
    "duration": 948,
    "start_time": "2021-12-15T21:10:48.261Z"
   },
   {
    "duration": 1272,
    "start_time": "2021-12-15T21:10:55.589Z"
   },
   {
    "duration": 895,
    "start_time": "2021-12-15T21:11:01.390Z"
   },
   {
    "duration": 588,
    "start_time": "2021-12-15T21:11:54.485Z"
   },
   {
    "duration": 1293,
    "start_time": "2021-12-15T21:12:56.967Z"
   },
   {
    "duration": 1110,
    "start_time": "2021-12-15T21:13:44.929Z"
   },
   {
    "duration": 959,
    "start_time": "2021-12-15T21:14:31.234Z"
   },
   {
    "duration": 1093,
    "start_time": "2021-12-15T21:14:45.435Z"
   },
   {
    "duration": 953,
    "start_time": "2021-12-15T21:15:17.539Z"
   },
   {
    "duration": 575,
    "start_time": "2021-12-15T21:15:37.731Z"
   },
   {
    "duration": 575,
    "start_time": "2021-12-15T21:15:59.169Z"
   },
   {
    "duration": 576,
    "start_time": "2021-12-15T21:16:18.301Z"
   },
   {
    "duration": 591,
    "start_time": "2021-12-15T21:17:00.750Z"
   },
   {
    "duration": 587,
    "start_time": "2021-12-15T21:18:02.391Z"
   },
   {
    "duration": 685,
    "start_time": "2021-12-15T21:19:10.553Z"
   },
   {
    "duration": 728,
    "start_time": "2021-12-15T21:19:22.809Z"
   },
   {
    "duration": 689,
    "start_time": "2021-12-15T21:20:17.474Z"
   },
   {
    "duration": 584,
    "start_time": "2021-12-15T21:20:33.731Z"
   },
   {
    "duration": 584,
    "start_time": "2021-12-15T21:21:08.027Z"
   },
   {
    "duration": 590,
    "start_time": "2021-12-15T21:21:37.860Z"
   },
   {
    "duration": 1570,
    "start_time": "2021-12-15T21:27:17.381Z"
   },
   {
    "duration": 570,
    "start_time": "2021-12-15T21:27:37.494Z"
   },
   {
    "duration": 583,
    "start_time": "2021-12-15T21:27:53.645Z"
   },
   {
    "duration": 577,
    "start_time": "2021-12-15T21:28:38.206Z"
   },
   {
    "duration": 591,
    "start_time": "2021-12-15T21:28:54.999Z"
   },
   {
    "duration": 952,
    "start_time": "2021-12-15T21:29:03.439Z"
   },
   {
    "duration": 1091,
    "start_time": "2021-12-15T21:29:16.192Z"
   },
   {
    "duration": 578,
    "start_time": "2021-12-15T21:29:24.897Z"
   },
   {
    "duration": 1208,
    "start_time": "2021-12-15T21:29:50.897Z"
   },
   {
    "duration": 1108,
    "start_time": "2021-12-15T21:30:14.344Z"
   },
   {
    "duration": 76,
    "start_time": "2021-12-16T07:20:55.608Z"
   },
   {
    "duration": 268,
    "start_time": "2021-12-16T07:20:59.776Z"
   },
   {
    "duration": 1080,
    "start_time": "2021-12-16T07:21:11.152Z"
   },
   {
    "duration": 191,
    "start_time": "2021-12-16T07:21:12.233Z"
   },
   {
    "duration": 232,
    "start_time": "2021-12-16T07:21:12.426Z"
   },
   {
    "duration": 164,
    "start_time": "2021-12-16T07:21:12.661Z"
   },
   {
    "duration": 62,
    "start_time": "2021-12-16T07:21:12.828Z"
   },
   {
    "duration": 74,
    "start_time": "2021-12-16T07:21:12.892Z"
   },
   {
    "duration": 41,
    "start_time": "2021-12-16T07:21:12.968Z"
   },
   {
    "duration": 190,
    "start_time": "2021-12-16T07:21:13.012Z"
   },
   {
    "duration": 224,
    "start_time": "2021-12-16T07:21:13.205Z"
   },
   {
    "duration": 134,
    "start_time": "2021-12-16T07:21:13.431Z"
   },
   {
    "duration": 146,
    "start_time": "2021-12-16T07:21:13.567Z"
   },
   {
    "duration": 127,
    "start_time": "2021-12-16T07:21:13.715Z"
   },
   {
    "duration": 92,
    "start_time": "2021-12-16T07:21:13.845Z"
   },
   {
    "duration": 3040,
    "start_time": "2021-12-16T07:21:15.651Z"
   },
   {
    "duration": 213,
    "start_time": "2021-12-16T07:22:18.564Z"
   },
   {
    "duration": 717,
    "start_time": "2021-12-16T07:29:31.726Z"
   },
   {
    "duration": 382,
    "start_time": "2021-12-16T07:42:24.321Z"
   },
   {
    "duration": 257,
    "start_time": "2021-12-16T07:43:52.859Z"
   },
   {
    "duration": 5,
    "start_time": "2021-12-16T07:51:35.898Z"
   },
   {
    "duration": 272,
    "start_time": "2021-12-16T07:51:35.905Z"
   },
   {
    "duration": 249,
    "start_time": "2021-12-16T07:51:36.180Z"
   },
   {
    "duration": 115,
    "start_time": "2021-12-16T07:51:36.431Z"
   },
   {
    "duration": 49,
    "start_time": "2021-12-16T07:51:36.548Z"
   },
   {
    "duration": 54,
    "start_time": "2021-12-16T07:51:36.599Z"
   },
   {
    "duration": 37,
    "start_time": "2021-12-16T07:51:36.655Z"
   },
   {
    "duration": 141,
    "start_time": "2021-12-16T07:51:36.695Z"
   },
   {
    "duration": 166,
    "start_time": "2021-12-16T07:51:36.838Z"
   },
   {
    "duration": 100,
    "start_time": "2021-12-16T07:51:37.005Z"
   },
   {
    "duration": 107,
    "start_time": "2021-12-16T07:51:37.107Z"
   },
   {
    "duration": 92,
    "start_time": "2021-12-16T07:51:37.215Z"
   },
   {
    "duration": 48,
    "start_time": "2021-12-16T07:51:37.309Z"
   },
   {
    "duration": 608,
    "start_time": "2021-12-16T07:51:37.359Z"
   },
   {
    "duration": 692,
    "start_time": "2021-12-16T08:01:01.147Z"
   },
   {
    "duration": 746,
    "start_time": "2021-12-16T08:01:19.932Z"
   },
   {
    "duration": 791,
    "start_time": "2021-12-16T08:15:06.416Z"
   },
   {
    "duration": 585,
    "start_time": "2021-12-16T08:15:40.455Z"
   },
   {
    "duration": 581,
    "start_time": "2021-12-16T08:16:03.394Z"
   },
   {
    "duration": 980,
    "start_time": "2021-12-16T08:18:37.492Z"
   },
   {
    "duration": 934,
    "start_time": "2021-12-16T08:29:53.204Z"
   },
   {
    "duration": 16,
    "start_time": "2021-12-16T09:58:01.473Z"
   },
   {
    "duration": 18,
    "start_time": "2021-12-16T09:59:07.209Z"
   },
   {
    "duration": 12,
    "start_time": "2021-12-16T09:59:20.168Z"
   },
   {
    "duration": 11,
    "start_time": "2021-12-16T09:59:26.857Z"
   },
   {
    "duration": 10,
    "start_time": "2021-12-16T10:02:54.348Z"
   },
   {
    "duration": 8,
    "start_time": "2021-12-16T10:17:06.451Z"
   },
   {
    "duration": 20,
    "start_time": "2021-12-16T10:19:34.781Z"
   },
   {
    "duration": 16,
    "start_time": "2021-12-16T10:20:17.016Z"
   },
   {
    "duration": 261,
    "start_time": "2021-12-16T10:20:49.753Z"
   },
   {
    "duration": 19,
    "start_time": "2021-12-16T10:21:15.179Z"
   },
   {
    "duration": 23,
    "start_time": "2021-12-16T10:21:29.561Z"
   },
   {
    "duration": 12,
    "start_time": "2021-12-16T10:31:44.983Z"
   },
   {
    "duration": 14,
    "start_time": "2021-12-16T10:32:42.370Z"
   },
   {
    "duration": 248,
    "start_time": "2021-12-16T10:36:42.752Z"
   },
   {
    "duration": 15,
    "start_time": "2021-12-16T10:37:20.634Z"
   },
   {
    "duration": 255,
    "start_time": "2021-12-16T10:37:58.275Z"
   },
   {
    "duration": 311,
    "start_time": "2021-12-16T10:38:07.642Z"
   },
   {
    "duration": 16,
    "start_time": "2021-12-16T10:38:43.716Z"
   },
   {
    "duration": 13,
    "start_time": "2021-12-16T10:40:39.678Z"
   },
   {
    "duration": 17,
    "start_time": "2021-12-16T10:48:25.037Z"
   },
   {
    "duration": 11,
    "start_time": "2021-12-16T10:51:51.527Z"
   },
   {
    "duration": 10,
    "start_time": "2021-12-16T11:00:05.890Z"
   },
   {
    "duration": 12,
    "start_time": "2021-12-16T11:00:13.642Z"
   },
   {
    "duration": 14,
    "start_time": "2021-12-16T11:00:24.410Z"
   },
   {
    "duration": 15,
    "start_time": "2021-12-16T11:00:27.482Z"
   },
   {
    "duration": 15,
    "start_time": "2021-12-16T11:00:31.331Z"
   },
   {
    "duration": 1392,
    "start_time": "2021-12-16T11:14:37.295Z"
   },
   {
    "duration": 273,
    "start_time": "2021-12-16T11:14:38.689Z"
   },
   {
    "duration": 242,
    "start_time": "2021-12-16T11:14:38.966Z"
   },
   {
    "duration": 159,
    "start_time": "2021-12-16T11:14:39.210Z"
   },
   {
    "duration": 52,
    "start_time": "2021-12-16T11:14:39.370Z"
   },
   {
    "duration": 53,
    "start_time": "2021-12-16T11:14:39.424Z"
   },
   {
    "duration": 29,
    "start_time": "2021-12-16T11:14:39.479Z"
   },
   {
    "duration": 134,
    "start_time": "2021-12-16T11:14:39.510Z"
   },
   {
    "duration": 168,
    "start_time": "2021-12-16T11:14:39.646Z"
   },
   {
    "duration": 104,
    "start_time": "2021-12-16T11:14:39.816Z"
   },
   {
    "duration": 115,
    "start_time": "2021-12-16T11:14:39.922Z"
   },
   {
    "duration": 79,
    "start_time": "2021-12-16T11:14:40.038Z"
   },
   {
    "duration": 46,
    "start_time": "2021-12-16T11:14:40.119Z"
   },
   {
    "duration": 610,
    "start_time": "2021-12-16T11:14:40.167Z"
   },
   {
    "duration": 577,
    "start_time": "2021-12-16T11:14:40.779Z"
   },
   {
    "duration": 776,
    "start_time": "2021-12-16T11:14:41.359Z"
   },
   {
    "duration": 20,
    "start_time": "2021-12-16T11:14:42.137Z"
   },
   {
    "duration": 29,
    "start_time": "2021-12-16T11:14:42.159Z"
   },
   {
    "duration": 16,
    "start_time": "2021-12-16T11:14:42.190Z"
   },
   {
    "duration": 90,
    "start_time": "2021-12-16T11:14:42.207Z"
   },
   {
    "duration": 1096,
    "start_time": "2021-12-16T13:58:49.177Z"
   },
   {
    "duration": 213,
    "start_time": "2021-12-16T13:58:50.275Z"
   },
   {
    "duration": 170,
    "start_time": "2021-12-16T13:58:50.490Z"
   },
   {
    "duration": 115,
    "start_time": "2021-12-16T13:58:50.662Z"
   },
   {
    "duration": 47,
    "start_time": "2021-12-16T13:58:50.779Z"
   },
   {
    "duration": 68,
    "start_time": "2021-12-16T13:58:50.827Z"
   },
   {
    "duration": 33,
    "start_time": "2021-12-16T13:58:50.896Z"
   },
   {
    "duration": 144,
    "start_time": "2021-12-16T13:58:50.931Z"
   },
   {
    "duration": 194,
    "start_time": "2021-12-16T13:58:51.078Z"
   },
   {
    "duration": 119,
    "start_time": "2021-12-16T13:58:51.274Z"
   },
   {
    "duration": 129,
    "start_time": "2021-12-16T13:58:51.395Z"
   },
   {
    "duration": 87,
    "start_time": "2021-12-16T13:58:51.526Z"
   },
   {
    "duration": 69,
    "start_time": "2021-12-16T13:58:51.615Z"
   },
   {
    "duration": 663,
    "start_time": "2021-12-16T13:58:51.686Z"
   },
   {
    "duration": 665,
    "start_time": "2021-12-16T13:58:52.351Z"
   },
   {
    "duration": 662,
    "start_time": "2021-12-16T13:58:53.018Z"
   },
   {
    "duration": 17,
    "start_time": "2021-12-16T13:58:53.681Z"
   },
   {
    "duration": 10,
    "start_time": "2021-12-16T13:58:53.699Z"
   },
   {
    "duration": 41,
    "start_time": "2021-12-16T13:58:53.711Z"
   },
   {
    "duration": 11,
    "start_time": "2021-12-16T13:58:53.753Z"
   },
   {
    "duration": 99,
    "start_time": "2021-12-16T14:05:36.217Z"
   },
   {
    "duration": 93,
    "start_time": "2021-12-16T14:05:54.597Z"
   },
   {
    "duration": 4,
    "start_time": "2021-12-16T14:05:57.764Z"
   },
   {
    "duration": 3,
    "start_time": "2021-12-16T14:06:02.020Z"
   },
   {
    "duration": 8,
    "start_time": "2021-12-16T14:06:40.558Z"
   },
   {
    "duration": 6,
    "start_time": "2021-12-16T14:15:14.102Z"
   },
   {
    "duration": 795,
    "start_time": "2021-12-16T14:58:15.041Z"
   },
   {
    "duration": 1119,
    "start_time": "2021-12-16T14:58:26.595Z"
   },
   {
    "duration": 202,
    "start_time": "2021-12-16T14:58:27.716Z"
   },
   {
    "duration": 178,
    "start_time": "2021-12-16T14:58:27.920Z"
   },
   {
    "duration": 118,
    "start_time": "2021-12-16T14:58:28.100Z"
   },
   {
    "duration": 45,
    "start_time": "2021-12-16T14:58:28.220Z"
   },
   {
    "duration": 52,
    "start_time": "2021-12-16T14:58:28.266Z"
   },
   {
    "duration": 32,
    "start_time": "2021-12-16T14:58:30.251Z"
   },
   {
    "duration": 355,
    "start_time": "2021-12-16T15:10:32.743Z"
   },
   {
    "duration": 138,
    "start_time": "2021-12-16T15:11:00.190Z"
   },
   {
    "duration": 185,
    "start_time": "2021-12-16T15:11:02.989Z"
   },
   {
    "duration": 207,
    "start_time": "2021-12-16T15:15:48.597Z"
   },
   {
    "duration": 102,
    "start_time": "2021-12-16T15:17:10.222Z"
   },
   {
    "duration": 113,
    "start_time": "2021-12-16T15:18:19.137Z"
   },
   {
    "duration": 57,
    "start_time": "2021-12-16T15:19:23.962Z"
   },
   {
    "duration": 59,
    "start_time": "2021-12-16T15:19:28.881Z"
   },
   {
    "duration": 63,
    "start_time": "2021-12-16T15:19:33.242Z"
   },
   {
    "duration": 853,
    "start_time": "2021-12-16T15:19:50.170Z"
   },
   {
    "duration": 199,
    "start_time": "2021-12-16T15:20:13.539Z"
   },
   {
    "duration": 1308,
    "start_time": "2021-12-16T15:20:16.452Z"
   },
   {
    "duration": 720,
    "start_time": "2021-12-16T15:20:32.812Z"
   },
   {
    "duration": 204,
    "start_time": "2021-12-16T15:25:25.011Z"
   },
   {
    "duration": 112,
    "start_time": "2021-12-16T15:25:29.176Z"
   },
   {
    "duration": 120,
    "start_time": "2021-12-16T15:25:31.860Z"
   },
   {
    "duration": 136,
    "start_time": "2021-12-16T15:25:43.003Z"
   },
   {
    "duration": 189,
    "start_time": "2021-12-16T15:25:50.468Z"
   },
   {
    "duration": 5,
    "start_time": "2021-12-16T15:25:57.875Z"
   },
   {
    "duration": 4,
    "start_time": "2021-12-16T15:26:02.699Z"
   },
   {
    "duration": 89,
    "start_time": "2021-12-16T15:26:18.037Z"
   },
   {
    "duration": 12,
    "start_time": "2021-12-16T15:26:20.499Z"
   },
   {
    "duration": 4,
    "start_time": "2021-12-16T15:30:02.902Z"
   },
   {
    "duration": 205,
    "start_time": "2021-12-16T15:30:02.907Z"
   },
   {
    "duration": 183,
    "start_time": "2021-12-16T15:30:03.114Z"
   },
   {
    "duration": 113,
    "start_time": "2021-12-16T15:30:03.299Z"
   },
   {
    "duration": 47,
    "start_time": "2021-12-16T15:30:03.414Z"
   },
   {
    "duration": 53,
    "start_time": "2021-12-16T15:30:03.462Z"
   },
   {
    "duration": 26,
    "start_time": "2021-12-16T15:30:03.517Z"
   },
   {
    "duration": 146,
    "start_time": "2021-12-16T15:30:03.546Z"
   },
   {
    "duration": 197,
    "start_time": "2021-12-16T15:30:03.694Z"
   },
   {
    "duration": 99,
    "start_time": "2021-12-16T15:30:03.893Z"
   },
   {
    "duration": 123,
    "start_time": "2021-12-16T15:30:03.994Z"
   },
   {
    "duration": 180,
    "start_time": "2021-12-16T15:30:04.119Z"
   },
   {
    "duration": 4,
    "start_time": "2021-12-16T15:30:04.300Z"
   },
   {
    "duration": 14,
    "start_time": "2021-12-16T15:30:04.305Z"
   },
   {
    "duration": 88,
    "start_time": "2021-12-16T15:30:06.570Z"
   },
   {
    "duration": 11,
    "start_time": "2021-12-16T15:30:13.065Z"
   },
   {
    "duration": 171,
    "start_time": "2021-12-16T15:30:41.147Z"
   },
   {
    "duration": 91,
    "start_time": "2021-12-16T15:39:52.185Z"
   },
   {
    "duration": 90,
    "start_time": "2021-12-16T15:40:32.121Z"
   },
   {
    "duration": 474,
    "start_time": "2021-12-17T08:12:47.757Z"
   },
   {
    "duration": 1460,
    "start_time": "2021-12-17T08:12:54.617Z"
   },
   {
    "duration": 282,
    "start_time": "2021-12-17T08:12:56.080Z"
   },
   {
    "duration": 226,
    "start_time": "2021-12-17T08:12:56.366Z"
   },
   {
    "duration": 161,
    "start_time": "2021-12-17T08:12:56.594Z"
   },
   {
    "duration": 78,
    "start_time": "2021-12-17T08:12:56.758Z"
   },
   {
    "duration": 80,
    "start_time": "2021-12-17T08:12:56.839Z"
   },
   {
    "duration": 40,
    "start_time": "2021-12-17T08:12:56.922Z"
   },
   {
    "duration": 203,
    "start_time": "2021-12-17T08:12:56.967Z"
   },
   {
    "duration": 302,
    "start_time": "2021-12-17T08:12:57.173Z"
   },
   {
    "duration": 165,
    "start_time": "2021-12-17T08:12:57.477Z"
   },
   {
    "duration": 200,
    "start_time": "2021-12-17T08:12:57.645Z"
   },
   {
    "duration": 333,
    "start_time": "2021-12-17T08:12:57.848Z"
   },
   {
    "duration": 6,
    "start_time": "2021-12-17T08:12:58.184Z"
   },
   {
    "duration": 31,
    "start_time": "2021-12-17T08:12:58.192Z"
   },
   {
    "duration": 410,
    "start_time": "2021-12-17T08:13:01.998Z"
   },
   {
    "duration": 329,
    "start_time": "2021-12-17T08:16:12.457Z"
   },
   {
    "duration": 326,
    "start_time": "2021-12-17T08:17:34.317Z"
   },
   {
    "duration": 321,
    "start_time": "2021-12-17T08:18:18.550Z"
   },
   {
    "duration": 345,
    "start_time": "2021-12-17T08:18:57.832Z"
   },
   {
    "duration": 2513,
    "start_time": "2021-12-17T08:19:08.720Z"
   },
   {
    "duration": 2587,
    "start_time": "2021-12-17T08:20:28.575Z"
   },
   {
    "duration": 2222,
    "start_time": "2021-12-17T08:20:45.394Z"
   },
   {
    "duration": 2514,
    "start_time": "2021-12-17T08:35:02.632Z"
   },
   {
    "duration": 433,
    "start_time": "2021-12-17T08:35:30.617Z"
   },
   {
    "duration": 306,
    "start_time": "2021-12-17T08:35:37.096Z"
   },
   {
    "duration": 2619,
    "start_time": "2021-12-17T08:35:41.392Z"
   },
   {
    "duration": 2392,
    "start_time": "2021-12-17T08:36:01.913Z"
   },
   {
    "duration": 9,
    "start_time": "2021-12-17T08:37:14.048Z"
   },
   {
    "duration": 866,
    "start_time": "2021-12-17T08:37:47.224Z"
   },
   {
    "duration": 2816,
    "start_time": "2021-12-17T08:37:55.101Z"
   },
   {
    "duration": 14,
    "start_time": "2021-12-17T08:54:33.997Z"
   },
   {
    "duration": 64,
    "start_time": "2021-12-17T08:54:38.005Z"
   },
   {
    "duration": 143,
    "start_time": "2021-12-17T08:54:55.998Z"
   },
   {
    "duration": 340,
    "start_time": "2021-12-17T08:59:01.604Z"
   },
   {
    "duration": 25874,
    "start_time": "2021-12-17T08:59:12.661Z"
   },
   {
    "duration": 6,
    "start_time": "2021-12-17T09:01:26.568Z"
   },
   {
    "duration": 335,
    "start_time": "2021-12-17T09:01:26.578Z"
   },
   {
    "duration": 359,
    "start_time": "2021-12-17T09:01:26.916Z"
   },
   {
    "duration": 183,
    "start_time": "2021-12-17T09:01:27.277Z"
   },
   {
    "duration": 94,
    "start_time": "2021-12-17T09:01:27.463Z"
   },
   {
    "duration": 105,
    "start_time": "2021-12-17T09:01:27.560Z"
   },
   {
    "duration": 70,
    "start_time": "2021-12-17T09:01:27.669Z"
   },
   {
    "duration": 232,
    "start_time": "2021-12-17T09:01:27.743Z"
   },
   {
    "duration": 369,
    "start_time": "2021-12-17T09:01:27.978Z"
   },
   {
    "duration": 193,
    "start_time": "2021-12-17T09:01:28.350Z"
   },
   {
    "duration": 197,
    "start_time": "2021-12-17T09:01:28.546Z"
   },
   {
    "duration": 304,
    "start_time": "2021-12-17T09:01:28.747Z"
   },
   {
    "duration": 6,
    "start_time": "2021-12-17T09:01:29.054Z"
   },
   {
    "duration": 17,
    "start_time": "2021-12-17T09:01:29.063Z"
   },
   {
    "duration": 100804,
    "start_time": "2021-12-17T09:01:31.480Z"
   },
   {
    "duration": 88,
    "start_time": "2021-12-17T09:03:57.147Z"
   },
   {
    "duration": 9,
    "start_time": "2021-12-17T09:04:16.747Z"
   },
   {
    "duration": 11,
    "start_time": "2021-12-17T09:04:30.083Z"
   },
   {
    "duration": 2447,
    "start_time": "2021-12-17T09:04:54.933Z"
   },
   {
    "duration": 2057,
    "start_time": "2021-12-17T09:05:33.334Z"
   },
   {
    "duration": 95,
    "start_time": "2021-12-17T09:05:45.030Z"
   },
   {
    "duration": 353,
    "start_time": "2021-12-17T09:12:10.559Z"
   },
   {
    "duration": 345,
    "start_time": "2021-12-17T09:12:26.696Z"
   },
   {
    "duration": 402,
    "start_time": "2021-12-17T09:25:24.379Z"
   },
   {
    "duration": 107,
    "start_time": "2021-12-17T09:25:50.627Z"
   },
   {
    "duration": 10,
    "start_time": "2021-12-17T09:26:07.266Z"
   },
   {
    "duration": 114,
    "start_time": "2021-12-17T09:26:32.572Z"
   },
   {
    "duration": 107,
    "start_time": "2021-12-17T09:26:57.121Z"
   },
   {
    "duration": 98,
    "start_time": "2021-12-17T09:27:30.974Z"
   },
   {
    "duration": 125,
    "start_time": "2021-12-17T09:27:34.943Z"
   },
   {
    "duration": 9,
    "start_time": "2021-12-17T09:27:40.829Z"
   },
   {
    "duration": 114,
    "start_time": "2021-12-17T09:29:26.921Z"
   },
   {
    "duration": 131,
    "start_time": "2021-12-17T09:30:13.946Z"
   },
   {
    "duration": 14,
    "start_time": "2021-12-17T09:30:28.034Z"
   },
   {
    "duration": 110,
    "start_time": "2021-12-17T09:30:51.125Z"
   },
   {
    "duration": 10,
    "start_time": "2021-12-17T09:30:56.889Z"
   },
   {
    "duration": 98,
    "start_time": "2021-12-17T09:31:18.852Z"
   },
   {
    "duration": 1733,
    "start_time": "2021-12-17T09:31:44.744Z"
   },
   {
    "duration": 331,
    "start_time": "2021-12-17T09:31:46.480Z"
   },
   {
    "duration": 261,
    "start_time": "2021-12-17T09:31:46.823Z"
   },
   {
    "duration": 226,
    "start_time": "2021-12-17T09:31:47.088Z"
   },
   {
    "duration": 85,
    "start_time": "2021-12-17T09:31:47.316Z"
   },
   {
    "duration": 162,
    "start_time": "2021-12-17T09:31:47.404Z"
   },
   {
    "duration": 69,
    "start_time": "2021-12-17T09:31:47.569Z"
   },
   {
    "duration": 257,
    "start_time": "2021-12-17T09:31:47.642Z"
   },
   {
    "duration": 352,
    "start_time": "2021-12-17T09:31:47.904Z"
   },
   {
    "duration": 271,
    "start_time": "2021-12-17T09:31:48.262Z"
   },
   {
    "duration": 307,
    "start_time": "2021-12-17T09:31:48.539Z"
   },
   {
    "duration": 359,
    "start_time": "2021-12-17T09:31:48.849Z"
   },
   {
    "duration": 18,
    "start_time": "2021-12-17T09:31:49.210Z"
   },
   {
    "duration": 21,
    "start_time": "2021-12-17T09:31:49.231Z"
   },
   {
    "duration": 11087,
    "start_time": "2021-12-17T09:31:49.256Z"
   },
   {
    "duration": 184,
    "start_time": "2021-12-17T09:32:00.161Z"
   },
   {
    "duration": 184,
    "start_time": "2021-12-17T09:32:00.163Z"
   },
   {
    "duration": 183,
    "start_time": "2021-12-17T09:32:00.165Z"
   },
   {
    "duration": 183,
    "start_time": "2021-12-17T09:32:00.167Z"
   },
   {
    "duration": 184,
    "start_time": "2021-12-17T09:32:00.168Z"
   },
   {
    "duration": 184,
    "start_time": "2021-12-17T09:32:00.170Z"
   },
   {
    "duration": 183,
    "start_time": "2021-12-17T09:32:00.172Z"
   },
   {
    "duration": 173,
    "start_time": "2021-12-17T09:32:00.185Z"
   },
   {
    "duration": 9909,
    "start_time": "2021-12-17T09:32:28.778Z"
   },
   {
    "duration": 607,
    "start_time": "2021-12-17T09:32:47.211Z"
   },
   {
    "duration": 8671,
    "start_time": "2021-12-17T09:33:16.731Z"
   },
   {
    "duration": 564,
    "start_time": "2021-12-17T09:34:26.285Z"
   },
   {
    "duration": 653,
    "start_time": "2021-12-17T09:34:42.022Z"
   },
   {
    "duration": 235,
    "start_time": "2021-12-17T09:36:14.736Z"
   },
   {
    "duration": 157,
    "start_time": "2021-12-17T09:36:30.616Z"
   },
   {
    "duration": 146,
    "start_time": "2021-12-17T09:36:45.689Z"
   },
   {
    "duration": 15,
    "start_time": "2021-12-17T09:37:08.072Z"
   },
   {
    "duration": 89,
    "start_time": "2021-12-17T09:38:13.947Z"
   },
   {
    "duration": 25,
    "start_time": "2021-12-17T09:39:02.516Z"
   },
   {
    "duration": 5,
    "start_time": "2021-12-17T09:40:19.040Z"
   },
   {
    "duration": 277,
    "start_time": "2021-12-17T09:40:19.048Z"
   },
   {
    "duration": 243,
    "start_time": "2021-12-17T09:40:19.329Z"
   },
   {
    "duration": 165,
    "start_time": "2021-12-17T09:40:19.575Z"
   },
   {
    "duration": 83,
    "start_time": "2021-12-17T09:40:19.742Z"
   },
   {
    "duration": 101,
    "start_time": "2021-12-17T09:40:19.827Z"
   },
   {
    "duration": 36,
    "start_time": "2021-12-17T09:40:19.931Z"
   },
   {
    "duration": 191,
    "start_time": "2021-12-17T09:40:19.971Z"
   },
   {
    "duration": 293,
    "start_time": "2021-12-17T09:40:20.164Z"
   },
   {
    "duration": 187,
    "start_time": "2021-12-17T09:40:20.460Z"
   },
   {
    "duration": 179,
    "start_time": "2021-12-17T09:40:20.650Z"
   },
   {
    "duration": 144,
    "start_time": "2021-12-17T09:40:20.832Z"
   },
   {
    "duration": 8,
    "start_time": "2021-12-17T09:40:20.979Z"
   },
   {
    "duration": 35,
    "start_time": "2021-12-17T09:40:20.990Z"
   },
   {
    "duration": 72,
    "start_time": "2021-12-17T09:40:30.372Z"
   },
   {
    "duration": 120,
    "start_time": "2021-12-17T09:41:13.455Z"
   },
   {
    "duration": 13,
    "start_time": "2021-12-17T09:41:27.086Z"
   },
   {
    "duration": 127,
    "start_time": "2021-12-17T09:44:17.916Z"
   },
   {
    "duration": 107,
    "start_time": "2021-12-17T09:45:59.607Z"
   },
   {
    "duration": 529,
    "start_time": "2021-12-17T10:26:42.274Z"
   },
   {
    "duration": 83,
    "start_time": "2021-12-17T10:32:14.714Z"
   },
   {
    "duration": 7,
    "start_time": "2021-12-17T10:32:22.898Z"
   },
   {
    "duration": 7,
    "start_time": "2021-12-17T10:32:29.050Z"
   },
   {
    "duration": 88,
    "start_time": "2021-12-17T10:39:02.605Z"
   },
   {
    "duration": 98,
    "start_time": "2021-12-17T10:39:30.244Z"
   },
   {
    "duration": 14,
    "start_time": "2021-12-17T10:39:41.500Z"
   },
   {
    "duration": 1644,
    "start_time": "2021-12-17T10:41:49.233Z"
   },
   {
    "duration": 1059,
    "start_time": "2021-12-17T10:42:04.593Z"
   },
   {
    "duration": 1237,
    "start_time": "2021-12-17T10:42:16.729Z"
   },
   {
    "duration": 27,
    "start_time": "2021-12-17T10:42:38.880Z"
   },
   {
    "duration": 16,
    "start_time": "2021-12-17T10:43:01.218Z"
   },
   {
    "duration": 17,
    "start_time": "2021-12-17T10:43:19.514Z"
   },
   {
    "duration": 27,
    "start_time": "2021-12-17T10:44:08.262Z"
   },
   {
    "duration": 18,
    "start_time": "2021-12-17T10:44:17.789Z"
   },
   {
    "duration": 1985,
    "start_time": "2021-12-17T10:46:36.435Z"
   },
   {
    "duration": 418,
    "start_time": "2021-12-17T10:46:38.424Z"
   },
   {
    "duration": 360,
    "start_time": "2021-12-17T10:46:38.846Z"
   },
   {
    "duration": 247,
    "start_time": "2021-12-17T10:46:39.210Z"
   },
   {
    "duration": 81,
    "start_time": "2021-12-17T10:46:39.460Z"
   },
   {
    "duration": 91,
    "start_time": "2021-12-17T10:46:39.544Z"
   },
   {
    "duration": 44,
    "start_time": "2021-12-17T10:46:39.638Z"
   },
   {
    "duration": 211,
    "start_time": "2021-12-17T10:46:39.687Z"
   },
   {
    "duration": 298,
    "start_time": "2021-12-17T10:46:39.901Z"
   },
   {
    "duration": 185,
    "start_time": "2021-12-17T10:46:40.202Z"
   },
   {
    "duration": 269,
    "start_time": "2021-12-17T10:46:40.390Z"
   },
   {
    "duration": 235,
    "start_time": "2021-12-17T10:46:40.662Z"
   },
   {
    "duration": 8,
    "start_time": "2021-12-17T10:46:40.901Z"
   },
   {
    "duration": 45,
    "start_time": "2021-12-17T10:46:40.924Z"
   },
   {
    "duration": 188,
    "start_time": "2021-12-17T10:46:40.971Z"
   },
   {
    "duration": 27,
    "start_time": "2021-12-17T10:46:41.163Z"
   },
   {
    "duration": 1612,
    "start_time": "2021-12-17T10:46:41.193Z"
   },
   {
    "duration": 1053,
    "start_time": "2021-12-17T10:46:42.809Z"
   },
   {
    "duration": 1181,
    "start_time": "2021-12-17T10:46:43.865Z"
   },
   {
    "duration": 31,
    "start_time": "2021-12-17T10:46:45.049Z"
   },
   {
    "duration": 50,
    "start_time": "2021-12-17T10:46:45.083Z"
   },
   {
    "duration": 36,
    "start_time": "2021-12-17T10:46:45.136Z"
   },
   {
    "duration": 20,
    "start_time": "2021-12-17T10:46:45.176Z"
   },
   {
    "duration": 26,
    "start_time": "2021-12-17T10:51:56.409Z"
   },
   {
    "duration": 47,
    "start_time": "2021-12-17T10:52:54.019Z"
   },
   {
    "duration": 20,
    "start_time": "2021-12-17T10:53:18.763Z"
   },
   {
    "duration": 19,
    "start_time": "2021-12-17T10:53:33.051Z"
   },
   {
    "duration": 20,
    "start_time": "2021-12-17T10:53:42.899Z"
   },
   {
    "duration": 183,
    "start_time": "2022-02-17T10:48:23.437Z"
   },
   {
    "duration": 1122,
    "start_time": "2022-02-17T10:48:28.688Z"
   },
   {
    "duration": 57,
    "start_time": "2022-02-17T10:48:30.832Z"
   },
   {
    "duration": 20,
    "start_time": "2022-02-17T10:49:17.434Z"
   },
   {
    "duration": 48,
    "start_time": "2022-02-17T10:49:54.579Z"
   },
   {
    "duration": 32,
    "start_time": "2022-02-17T10:50:42.731Z"
   },
   {
    "duration": 210,
    "start_time": "2022-02-17T11:09:56.779Z"
   },
   {
    "duration": 148,
    "start_time": "2022-02-17T11:10:30.599Z"
   },
   {
    "duration": 8,
    "start_time": "2022-02-17T11:11:01.106Z"
   },
   {
    "duration": 11,
    "start_time": "2022-02-17T11:11:23.137Z"
   },
   {
    "duration": 10,
    "start_time": "2022-02-17T11:12:53.052Z"
   },
   {
    "duration": 4,
    "start_time": "2022-02-17T11:13:28.445Z"
   },
   {
    "duration": 22,
    "start_time": "2022-02-17T11:13:36.165Z"
   },
   {
    "duration": 10,
    "start_time": "2022-02-17T11:13:41.533Z"
   },
   {
    "duration": 4,
    "start_time": "2022-02-17T11:14:09.974Z"
   },
   {
    "duration": 210,
    "start_time": "2022-02-17T11:14:50.631Z"
   },
   {
    "duration": 4,
    "start_time": "2022-02-17T11:15:04.039Z"
   },
   {
    "duration": 20,
    "start_time": "2022-02-17T11:15:07.463Z"
   },
   {
    "duration": 4,
    "start_time": "2022-02-17T11:15:10.711Z"
   },
   {
    "duration": 21,
    "start_time": "2022-02-17T11:15:11.927Z"
   },
   {
    "duration": 254,
    "start_time": "2022-02-17T11:16:36.593Z"
   },
   {
    "duration": 23,
    "start_time": "2022-02-17T11:16:42.354Z"
   },
   {
    "duration": 165,
    "start_time": "2022-02-17T11:17:46.380Z"
   },
   {
    "duration": 139,
    "start_time": "2022-02-17T11:17:57.475Z"
   },
   {
    "duration": 158,
    "start_time": "2022-02-17T11:18:20.164Z"
   },
   {
    "duration": 27,
    "start_time": "2022-02-17T11:19:41.294Z"
   },
   {
    "duration": 22,
    "start_time": "2022-02-17T11:20:33.048Z"
   },
   {
    "duration": 10,
    "start_time": "2022-02-17T11:20:37.539Z"
   },
   {
    "duration": 128,
    "start_time": "2022-02-17T11:21:57.601Z"
   },
   {
    "duration": 10,
    "start_time": "2022-02-17T11:22:10.009Z"
   },
   {
    "duration": 11,
    "start_time": "2022-02-17T11:22:15.545Z"
   },
   {
    "duration": 4,
    "start_time": "2022-02-17T11:50:11.391Z"
   },
   {
    "duration": 30,
    "start_time": "2022-02-17T11:50:11.397Z"
   },
   {
    "duration": 48,
    "start_time": "2022-02-17T11:50:11.430Z"
   },
   {
    "duration": 31,
    "start_time": "2022-02-17T11:50:11.480Z"
   },
   {
    "duration": 11,
    "start_time": "2022-02-17T11:50:11.513Z"
   },
   {
    "duration": 41,
    "start_time": "2022-02-17T11:50:11.526Z"
   },
   {
    "duration": 7,
    "start_time": "2022-02-17T11:56:20.150Z"
   },
   {
    "duration": 505,
    "start_time": "2022-02-17T12:00:13.261Z"
   },
   {
    "duration": 9194,
    "start_time": "2022-02-17T12:01:36.631Z"
   },
   {
    "duration": 1267,
    "start_time": "2022-02-17T12:02:10.504Z"
   },
   {
    "duration": 4,
    "start_time": "2022-02-17T12:02:32.432Z"
   },
   {
    "duration": 64,
    "start_time": "2022-02-17T12:02:35.312Z"
   },
   {
    "duration": 1397,
    "start_time": "2022-02-17T12:03:08.089Z"
   },
   {
    "duration": 34,
    "start_time": "2022-02-17T12:03:38.743Z"
   },
   {
    "duration": 592,
    "start_time": "2022-02-17T12:04:30.523Z"
   },
   {
    "duration": 7400,
    "start_time": "2022-02-17T12:06:51.088Z"
   },
   {
    "duration": 6968,
    "start_time": "2022-02-17T12:07:14.506Z"
   },
   {
    "duration": 6,
    "start_time": "2022-02-17T12:07:28.649Z"
   },
   {
    "duration": 7100,
    "start_time": "2022-02-17T12:07:39.111Z"
   },
   {
    "duration": 159,
    "start_time": "2022-02-17T12:09:43.700Z"
   },
   {
    "duration": 5975,
    "start_time": "2022-02-17T12:10:35.701Z"
   },
   {
    "duration": 274,
    "start_time": "2022-02-17T12:11:40.772Z"
   },
   {
    "duration": 1408,
    "start_time": "2022-02-17T12:12:16.901Z"
   },
   {
    "duration": 25,
    "start_time": "2022-02-17T12:12:18.310Z"
   },
   {
    "duration": 86,
    "start_time": "2022-02-17T12:12:18.337Z"
   },
   {
    "duration": 43,
    "start_time": "2022-02-17T12:12:18.426Z"
   },
   {
    "duration": 14,
    "start_time": "2022-02-17T12:12:18.472Z"
   },
   {
    "duration": 12,
    "start_time": "2022-02-17T12:12:18.488Z"
   },
   {
    "duration": 165,
    "start_time": "2022-02-17T12:12:22.979Z"
   },
   {
    "duration": 8024,
    "start_time": "2022-02-17T12:13:38.738Z"
   },
   {
    "duration": 10812,
    "start_time": "2022-02-17T12:13:59.763Z"
   },
   {
    "duration": 177,
    "start_time": "2022-02-17T12:14:18.596Z"
   },
   {
    "duration": 320,
    "start_time": "2022-02-17T12:14:46.780Z"
   },
   {
    "duration": 345,
    "start_time": "2022-02-17T12:14:58.764Z"
   },
   {
    "duration": 432,
    "start_time": "2022-02-17T12:15:39.645Z"
   },
   {
    "duration": 223,
    "start_time": "2022-02-17T12:17:12.215Z"
   },
   {
    "duration": 210,
    "start_time": "2022-02-17T12:18:39.394Z"
   },
   {
    "duration": 2278,
    "start_time": "2022-02-17T12:20:35.780Z"
   },
   {
    "duration": 1919,
    "start_time": "2022-02-17T12:22:25.959Z"
   },
   {
    "duration": 1539,
    "start_time": "2022-02-17T12:22:37.319Z"
   },
   {
    "duration": 539,
    "start_time": "2022-02-17T12:22:41.864Z"
   },
   {
    "duration": 426,
    "start_time": "2022-02-17T12:22:49.959Z"
   },
   {
    "duration": 521,
    "start_time": "2022-02-17T12:23:11.376Z"
   },
   {
    "duration": 265,
    "start_time": "2022-02-17T12:23:18.296Z"
   },
   {
    "duration": 515,
    "start_time": "2022-02-17T12:25:18.860Z"
   },
   {
    "duration": 473,
    "start_time": "2022-02-17T12:26:35.926Z"
   },
   {
    "duration": 280,
    "start_time": "2022-02-17T12:26:41.150Z"
   },
   {
    "duration": 295,
    "start_time": "2022-02-17T12:26:59.429Z"
   },
   {
    "duration": 293,
    "start_time": "2022-02-17T12:27:25.671Z"
   },
   {
    "duration": 211,
    "start_time": "2022-02-17T12:32:25.661Z"
   },
   {
    "duration": 200,
    "start_time": "2022-02-17T12:32:41.686Z"
   },
   {
    "duration": 512,
    "start_time": "2022-02-17T12:32:49.926Z"
   },
   {
    "duration": 264,
    "start_time": "2022-02-17T12:32:57.518Z"
   },
   {
    "duration": 330,
    "start_time": "2022-02-17T12:41:18.468Z"
   },
   {
    "duration": 388,
    "start_time": "2022-02-17T12:41:55.668Z"
   },
   {
    "duration": 365,
    "start_time": "2022-02-17T12:42:04.082Z"
   },
   {
    "duration": 208,
    "start_time": "2022-02-17T13:47:51.714Z"
   },
   {
    "duration": 343,
    "start_time": "2022-02-17T13:49:02.652Z"
   },
   {
    "duration": 196,
    "start_time": "2022-02-17T13:49:22.116Z"
   },
   {
    "duration": 192,
    "start_time": "2022-02-17T13:49:34.284Z"
   },
   {
    "duration": 203,
    "start_time": "2022-02-17T13:49:48.260Z"
   },
   {
    "duration": 202,
    "start_time": "2022-02-17T13:50:02.180Z"
   },
   {
    "duration": 212,
    "start_time": "2022-02-17T13:50:07.877Z"
   },
   {
    "duration": 198,
    "start_time": "2022-02-17T13:50:21.382Z"
   },
   {
    "duration": 332,
    "start_time": "2022-02-17T13:50:31.126Z"
   },
   {
    "duration": 218,
    "start_time": "2022-02-17T13:50:35.550Z"
   },
   {
    "duration": 272,
    "start_time": "2022-02-17T13:51:10.767Z"
   },
   {
    "duration": 388,
    "start_time": "2022-02-17T13:58:47.130Z"
   },
   {
    "duration": 391,
    "start_time": "2022-02-17T13:59:43.123Z"
   },
   {
    "duration": 427,
    "start_time": "2022-02-17T14:00:14.532Z"
   },
   {
    "duration": 357,
    "start_time": "2022-02-17T14:02:28.423Z"
   },
   {
    "duration": 351,
    "start_time": "2022-02-17T14:03:54.785Z"
   },
   {
    "duration": 136,
    "start_time": "2022-02-17T14:13:16.694Z"
   },
   {
    "duration": 149,
    "start_time": "2022-02-17T14:13:51.904Z"
   },
   {
    "duration": 100,
    "start_time": "2022-02-17T14:14:07.247Z"
   },
   {
    "duration": 283,
    "start_time": "2022-02-17T14:14:58.697Z"
   },
   {
    "duration": 386,
    "start_time": "2022-02-17T14:15:40.554Z"
   },
   {
    "duration": 463,
    "start_time": "2022-02-17T14:16:24.300Z"
   },
   {
    "duration": 5,
    "start_time": "2022-02-17T15:07:26.824Z"
   },
   {
    "duration": 169,
    "start_time": "2022-02-17T15:12:48.553Z"
   },
   {
    "duration": 3410,
    "start_time": "2022-02-17T15:13:32.130Z"
   },
   {
    "duration": 357,
    "start_time": "2022-02-17T15:13:59.524Z"
   },
   {
    "duration": 389,
    "start_time": "2022-02-17T15:14:39.151Z"
   },
   {
    "duration": 508,
    "start_time": "2022-02-17T15:15:17.461Z"
   },
   {
    "duration": 466,
    "start_time": "2022-02-17T15:15:38.678Z"
   },
   {
    "duration": 466,
    "start_time": "2022-02-17T15:17:42.153Z"
   },
   {
    "duration": 6,
    "start_time": "2022-02-17T15:24:31.012Z"
   },
   {
    "duration": 260,
    "start_time": "2022-02-17T15:33:44.452Z"
   },
   {
    "duration": 286,
    "start_time": "2022-02-17T15:38:00.683Z"
   },
   {
    "duration": 284,
    "start_time": "2022-02-17T15:38:16.451Z"
   },
   {
    "duration": 512,
    "start_time": "2022-02-17T15:38:49.804Z"
   },
   {
    "duration": 613,
    "start_time": "2022-02-17T15:39:04.228Z"
   },
   {
    "duration": 490,
    "start_time": "2022-02-17T15:39:39.444Z"
   },
   {
    "duration": 486,
    "start_time": "2022-02-17T15:40:36.255Z"
   },
   {
    "duration": 496,
    "start_time": "2022-02-17T15:44:55.652Z"
   },
   {
    "duration": 484,
    "start_time": "2022-02-17T15:46:16.006Z"
   },
   {
    "duration": 511,
    "start_time": "2022-02-17T15:46:20.054Z"
   },
   {
    "duration": 481,
    "start_time": "2022-02-17T15:46:28.502Z"
   },
   {
    "duration": 489,
    "start_time": "2022-02-17T15:47:01.049Z"
   },
   {
    "duration": 478,
    "start_time": "2022-02-17T15:47:09.927Z"
   },
   {
    "duration": 459,
    "start_time": "2022-02-17T15:47:16.735Z"
   },
   {
    "duration": 138,
    "start_time": "2022-02-17T15:51:24.939Z"
   },
   {
    "duration": 12,
    "start_time": "2022-02-17T15:51:31.779Z"
   },
   {
    "duration": 11,
    "start_time": "2022-02-17T15:52:51.253Z"
   },
   {
    "duration": 10,
    "start_time": "2022-02-17T15:53:35.646Z"
   },
   {
    "duration": 11,
    "start_time": "2022-02-17T16:01:07.266Z"
   },
   {
    "duration": 10,
    "start_time": "2022-02-17T16:01:18.914Z"
   },
   {
    "duration": 3571,
    "start_time": "2022-02-17T16:03:42.078Z"
   },
   {
    "duration": 157,
    "start_time": "2022-02-17T16:03:57.821Z"
   },
   {
    "duration": 14,
    "start_time": "2022-02-17T16:04:02.550Z"
   },
   {
    "duration": 13,
    "start_time": "2022-02-17T16:06:06.577Z"
   },
   {
    "duration": 10,
    "start_time": "2022-02-17T16:10:34.295Z"
   },
   {
    "duration": 13,
    "start_time": "2022-02-17T16:10:36.753Z"
   },
   {
    "duration": 192,
    "start_time": "2022-02-17T16:12:45.283Z"
   },
   {
    "duration": 15,
    "start_time": "2022-02-17T16:12:58.083Z"
   },
   {
    "duration": 15,
    "start_time": "2022-02-17T16:13:34.045Z"
   },
   {
    "duration": 1179,
    "start_time": "2022-02-18T07:51:36.292Z"
   },
   {
    "duration": 23,
    "start_time": "2022-02-18T07:51:37.473Z"
   },
   {
    "duration": 54,
    "start_time": "2022-02-18T07:51:37.498Z"
   },
   {
    "duration": 31,
    "start_time": "2022-02-18T07:51:37.554Z"
   },
   {
    "duration": 11,
    "start_time": "2022-02-18T07:51:37.586Z"
   },
   {
    "duration": 10,
    "start_time": "2022-02-18T07:51:37.598Z"
   },
   {
    "duration": 377,
    "start_time": "2022-02-18T07:51:37.610Z"
   },
   {
    "duration": 349,
    "start_time": "2022-02-18T07:51:37.989Z"
   },
   {
    "duration": 278,
    "start_time": "2022-02-18T07:51:38.340Z"
   },
   {
    "duration": 380,
    "start_time": "2022-02-18T07:51:38.620Z"
   },
   {
    "duration": 277,
    "start_time": "2022-02-18T07:51:39.002Z"
   },
   {
    "duration": 427,
    "start_time": "2022-02-18T07:51:39.281Z"
   },
   {
    "duration": 514,
    "start_time": "2022-02-18T07:51:39.710Z"
   },
   {
    "duration": 5,
    "start_time": "2022-02-18T07:51:40.227Z"
   },
   {
    "duration": 471,
    "start_time": "2022-02-18T07:51:40.234Z"
   },
   {
    "duration": 11,
    "start_time": "2022-02-18T07:51:40.707Z"
   },
   {
    "duration": 503,
    "start_time": "2022-02-18T07:51:40.720Z"
   },
   {
    "duration": 10,
    "start_time": "2022-02-18T07:51:41.224Z"
   },
   {
    "duration": 12,
    "start_time": "2022-02-18T07:51:41.236Z"
   },
   {
    "duration": 14,
    "start_time": "2022-02-18T07:51:41.250Z"
   },
   {
    "duration": 13,
    "start_time": "2022-02-18T07:51:41.265Z"
   },
   {
    "duration": 275,
    "start_time": "2022-02-18T07:52:43.219Z"
   },
   {
    "duration": 1456,
    "start_time": "2022-02-18T17:51:26.396Z"
   },
   {
    "duration": 35,
    "start_time": "2022-02-18T17:51:27.854Z"
   },
   {
    "duration": 85,
    "start_time": "2022-02-18T17:51:27.892Z"
   },
   {
    "duration": 46,
    "start_time": "2022-02-18T17:51:27.979Z"
   },
   {
    "duration": 42,
    "start_time": "2022-02-18T17:51:28.028Z"
   },
   {
    "duration": 17,
    "start_time": "2022-02-18T17:51:28.072Z"
   },
   {
    "duration": 621,
    "start_time": "2022-02-18T17:51:28.091Z"
   },
   {
    "duration": 483,
    "start_time": "2022-02-18T17:51:28.717Z"
   },
   {
    "duration": 441,
    "start_time": "2022-02-18T17:51:29.203Z"
   },
   {
    "duration": 564,
    "start_time": "2022-02-18T17:51:29.647Z"
   },
   {
    "duration": 502,
    "start_time": "2022-02-18T17:51:30.214Z"
   },
   {
    "duration": 591,
    "start_time": "2022-02-18T17:51:30.719Z"
   },
   {
    "duration": 766,
    "start_time": "2022-02-18T17:51:31.312Z"
   },
   {
    "duration": 6,
    "start_time": "2022-02-18T17:51:32.080Z"
   },
   {
    "duration": 620,
    "start_time": "2022-02-18T17:51:32.088Z"
   },
   {
    "duration": 6,
    "start_time": "2022-02-18T17:51:32.710Z"
   },
   {
    "duration": 951,
    "start_time": "2022-02-18T17:51:32.719Z"
   },
   {
    "duration": 25,
    "start_time": "2022-02-18T17:51:33.672Z"
   },
   {
    "duration": 15,
    "start_time": "2022-02-18T17:51:33.700Z"
   },
   {
    "duration": 48,
    "start_time": "2022-02-18T17:51:33.717Z"
   },
   {
    "duration": 22,
    "start_time": "2022-02-18T17:51:33.767Z"
   },
   {
    "duration": 4,
    "start_time": "2022-02-22T11:30:21.299Z"
   },
   {
    "duration": 341,
    "start_time": "2022-02-22T11:32:33.590Z"
   },
   {
    "duration": 1598,
    "start_time": "2022-02-22T11:32:45.418Z"
   },
   {
    "duration": 36,
    "start_time": "2022-02-22T11:32:47.020Z"
   },
   {
    "duration": 88,
    "start_time": "2022-02-22T11:32:47.059Z"
   },
   {
    "duration": 59,
    "start_time": "2022-02-22T11:32:47.150Z"
   },
   {
    "duration": 7,
    "start_time": "2022-02-22T11:32:47.213Z"
   },
   {
    "duration": 22,
    "start_time": "2022-02-22T11:32:47.223Z"
   },
   {
    "duration": 52,
    "start_time": "2022-02-22T11:32:47.249Z"
   },
   {
    "duration": 831,
    "start_time": "2022-02-22T11:32:47.307Z"
   },
   {
    "duration": 490,
    "start_time": "2022-02-22T11:32:48.142Z"
   },
   {
    "duration": 467,
    "start_time": "2022-02-22T11:32:48.635Z"
   },
   {
    "duration": 772,
    "start_time": "2022-02-22T11:32:49.106Z"
   },
   {
    "duration": 760,
    "start_time": "2022-02-22T11:32:49.881Z"
   },
   {
    "duration": 718,
    "start_time": "2022-02-22T11:32:50.644Z"
   },
   {
    "duration": 1073,
    "start_time": "2022-02-22T11:32:51.364Z"
   },
   {
    "duration": 6,
    "start_time": "2022-02-22T11:32:52.440Z"
   },
   {
    "duration": 681,
    "start_time": "2022-02-22T11:32:52.449Z"
   },
   {
    "duration": 5,
    "start_time": "2022-02-22T11:32:53.133Z"
   },
   {
    "duration": 1246,
    "start_time": "2022-02-22T11:32:53.140Z"
   },
   {
    "duration": 24,
    "start_time": "2022-02-22T11:32:54.389Z"
   },
   {
    "duration": 22,
    "start_time": "2022-02-22T11:32:54.416Z"
   },
   {
    "duration": 65,
    "start_time": "2022-02-22T11:32:54.441Z"
   },
   {
    "duration": 23,
    "start_time": "2022-02-22T11:32:54.509Z"
   },
   {
    "duration": 388,
    "start_time": "2022-02-22T11:35:07.859Z"
   },
   {
    "duration": 361,
    "start_time": "2022-02-22T11:36:06.861Z"
   },
   {
    "duration": 312,
    "start_time": "2022-02-22T11:36:34.646Z"
   },
   {
    "duration": 309,
    "start_time": "2022-02-22T11:36:45.030Z"
   },
   {
    "duration": 260,
    "start_time": "2022-02-22T11:38:55.711Z"
   },
   {
    "duration": 252,
    "start_time": "2022-02-22T11:42:01.357Z"
   },
   {
    "duration": 261,
    "start_time": "2022-02-22T11:42:17.335Z"
   },
   {
    "duration": 327,
    "start_time": "2022-02-22T11:42:25.478Z"
   },
   {
    "duration": 264,
    "start_time": "2022-02-22T11:42:36.630Z"
   },
   {
    "duration": 242,
    "start_time": "2022-02-22T11:42:52.919Z"
   },
   {
    "duration": 350,
    "start_time": "2022-02-22T11:45:09.632Z"
   },
   {
    "duration": 431,
    "start_time": "2022-02-22T11:45:43.707Z"
   },
   {
    "duration": 14,
    "start_time": "2022-02-22T11:50:38.472Z"
   },
   {
    "duration": 23,
    "start_time": "2022-02-22T11:53:40.376Z"
   },
   {
    "duration": 21,
    "start_time": "2022-02-22T11:54:25.367Z"
   },
   {
    "duration": 25,
    "start_time": "2022-02-22T11:55:11.017Z"
   },
   {
    "duration": 1222,
    "start_time": "2022-02-22T11:56:50.572Z"
   },
   {
    "duration": 33,
    "start_time": "2022-02-22T11:56:56.748Z"
   },
   {
    "duration": 24,
    "start_time": "2022-02-22T11:57:11.404Z"
   },
   {
    "duration": 36,
    "start_time": "2022-02-22T11:57:21.405Z"
   },
   {
    "duration": 38,
    "start_time": "2022-02-22T11:57:37.421Z"
   },
   {
    "duration": 32,
    "start_time": "2022-02-22T11:57:43.869Z"
   },
   {
    "duration": 344,
    "start_time": "2022-02-22T11:58:03.022Z"
   },
   {
    "duration": 380,
    "start_time": "2022-02-22T11:58:06.110Z"
   },
   {
    "duration": 21,
    "start_time": "2022-02-22T12:01:57.555Z"
   },
   {
    "duration": 27,
    "start_time": "2022-02-22T12:02:44.276Z"
   },
   {
    "duration": 338,
    "start_time": "2022-02-22T12:03:11.490Z"
   },
   {
    "duration": 32,
    "start_time": "2022-02-22T12:03:15.533Z"
   },
   {
    "duration": 618,
    "start_time": "2022-02-22T12:08:47.187Z"
   },
   {
    "duration": 295,
    "start_time": "2022-02-22T12:09:05.838Z"
   },
   {
    "duration": 44,
    "start_time": "2022-02-22T12:09:21.790Z"
   },
   {
    "duration": 46,
    "start_time": "2022-02-22T12:09:40.600Z"
   },
   {
    "duration": 64,
    "start_time": "2022-02-22T12:10:14.328Z"
   },
   {
    "duration": 51,
    "start_time": "2022-02-22T12:10:20.568Z"
   },
   {
    "duration": 8,
    "start_time": "2022-02-22T12:11:21.128Z"
   },
   {
    "duration": 54,
    "start_time": "2022-02-22T12:11:21.140Z"
   },
   {
    "duration": 82,
    "start_time": "2022-02-22T12:11:21.197Z"
   },
   {
    "duration": 56,
    "start_time": "2022-02-22T12:11:21.282Z"
   },
   {
    "duration": 293,
    "start_time": "2022-02-22T12:11:21.341Z"
   },
   {
    "duration": 17,
    "start_time": "2022-02-22T12:11:21.638Z"
   },
   {
    "duration": 52,
    "start_time": "2022-02-22T12:11:21.658Z"
   },
   {
    "duration": 60,
    "start_time": "2022-02-22T12:11:21.713Z"
   },
   {
    "duration": 821,
    "start_time": "2022-02-22T12:11:24.138Z"
   },
   {
    "duration": 632,
    "start_time": "2022-02-22T12:11:28.978Z"
   },
   {
    "duration": 7,
    "start_time": "2022-02-22T12:13:07.317Z"
   },
   {
    "duration": 686,
    "start_time": "2022-02-22T12:13:14.012Z"
   },
   {
    "duration": 910,
    "start_time": "2022-02-22T12:14:36.895Z"
   },
   {
    "duration": 631,
    "start_time": "2022-02-22T12:15:40.625Z"
   },
   {
    "duration": 489,
    "start_time": "2022-02-22T12:17:27.571Z"
   },
   {
    "duration": 490,
    "start_time": "2022-02-22T12:17:38.842Z"
   },
   {
    "duration": 589,
    "start_time": "2022-02-22T12:19:10.389Z"
   },
   {
    "duration": 644,
    "start_time": "2022-02-22T12:22:41.657Z"
   },
   {
    "duration": 451,
    "start_time": "2022-02-22T12:23:09.508Z"
   },
   {
    "duration": 774,
    "start_time": "2022-02-22T12:25:12.374Z"
   },
   {
    "duration": 748,
    "start_time": "2022-02-22T12:25:36.991Z"
   },
   {
    "duration": 801,
    "start_time": "2022-02-22T12:25:56.679Z"
   },
   {
    "duration": 676,
    "start_time": "2022-02-22T12:27:05.265Z"
   },
   {
    "duration": 586,
    "start_time": "2022-02-22T12:27:44.594Z"
   },
   {
    "duration": 528,
    "start_time": "2022-02-22T12:28:50.003Z"
   },
   {
    "duration": 459,
    "start_time": "2022-02-22T12:29:01.948Z"
   },
   {
    "duration": 1738,
    "start_time": "2022-02-22T12:29:13.361Z"
   },
   {
    "duration": 45,
    "start_time": "2022-02-22T12:29:15.103Z"
   },
   {
    "duration": 96,
    "start_time": "2022-02-22T12:29:15.157Z"
   },
   {
    "duration": 59,
    "start_time": "2022-02-22T12:29:15.256Z"
   },
   {
    "duration": 319,
    "start_time": "2022-02-22T12:29:15.317Z"
   },
   {
    "duration": 19,
    "start_time": "2022-02-22T12:29:15.639Z"
   },
   {
    "duration": 45,
    "start_time": "2022-02-22T12:29:15.664Z"
   },
   {
    "duration": 806,
    "start_time": "2022-02-22T12:29:15.713Z"
   },
   {
    "duration": 667,
    "start_time": "2022-02-22T12:29:16.522Z"
   },
   {
    "duration": 960,
    "start_time": "2022-02-22T12:29:17.194Z"
   },
   {
    "duration": 511,
    "start_time": "2022-02-22T12:29:18.156Z"
   },
   {
    "duration": 660,
    "start_time": "2022-02-22T12:29:18.670Z"
   },
   {
    "duration": 570,
    "start_time": "2022-02-22T12:29:19.334Z"
   },
   {
    "duration": 587,
    "start_time": "2022-02-22T12:29:19.907Z"
   },
   {
    "duration": 748,
    "start_time": "2022-02-22T12:29:20.497Z"
   },
   {
    "duration": 8,
    "start_time": "2022-02-22T12:29:21.248Z"
   },
   {
    "duration": 595,
    "start_time": "2022-02-22T12:29:21.260Z"
   },
   {
    "duration": 6,
    "start_time": "2022-02-22T12:29:21.858Z"
   },
   {
    "duration": 928,
    "start_time": "2022-02-22T12:29:21.867Z"
   },
   {
    "duration": 16,
    "start_time": "2022-02-22T12:29:22.798Z"
   },
   {
    "duration": 19,
    "start_time": "2022-02-22T12:29:22.816Z"
   },
   {
    "duration": 54,
    "start_time": "2022-02-22T12:29:22.840Z"
   },
   {
    "duration": 26,
    "start_time": "2022-02-22T12:29:22.897Z"
   },
   {
    "duration": 15,
    "start_time": "2022-02-22T12:33:13.573Z"
   },
   {
    "duration": 95,
    "start_time": "2022-02-22T12:57:03.626Z"
   },
   {
    "duration": 1770,
    "start_time": "2022-02-22T12:58:13.442Z"
   },
   {
    "duration": 37,
    "start_time": "2022-02-22T12:58:15.215Z"
   },
   {
    "duration": 87,
    "start_time": "2022-02-22T12:58:15.255Z"
   },
   {
    "duration": 60,
    "start_time": "2022-02-22T12:58:15.345Z"
   },
   {
    "duration": 300,
    "start_time": "2022-02-22T12:58:15.407Z"
   },
   {
    "duration": 22,
    "start_time": "2022-02-22T12:58:15.709Z"
   },
   {
    "duration": 21,
    "start_time": "2022-02-22T12:58:15.734Z"
   },
   {
    "duration": 641,
    "start_time": "2022-02-22T12:58:15.759Z"
   },
   {
    "duration": 625,
    "start_time": "2022-02-22T12:58:16.403Z"
   },
   {
    "duration": 596,
    "start_time": "2022-02-22T12:58:17.031Z"
   },
   {
    "duration": 482,
    "start_time": "2022-02-22T12:58:17.629Z"
   },
   {
    "duration": 619,
    "start_time": "2022-02-22T12:58:18.114Z"
   },
   {
    "duration": 555,
    "start_time": "2022-02-22T12:58:18.735Z"
   },
   {
    "duration": 655,
    "start_time": "2022-02-22T12:58:19.292Z"
   },
   {
    "duration": 773,
    "start_time": "2022-02-22T12:58:19.949Z"
   },
   {
    "duration": 6,
    "start_time": "2022-02-22T12:58:20.724Z"
   },
   {
    "duration": 736,
    "start_time": "2022-02-22T12:58:20.732Z"
   },
   {
    "duration": 21,
    "start_time": "2022-02-22T12:58:21.472Z"
   },
   {
    "duration": 865,
    "start_time": "2022-02-22T12:58:21.496Z"
   },
   {
    "duration": 35,
    "start_time": "2022-02-22T12:58:22.363Z"
   },
   {
    "duration": 14,
    "start_time": "2022-02-22T12:58:22.401Z"
   },
   {
    "duration": 27,
    "start_time": "2022-02-22T12:58:22.418Z"
   },
   {
    "duration": 46,
    "start_time": "2022-02-22T12:58:22.449Z"
   },
   {
    "duration": 1350,
    "start_time": "2022-04-03T08:03:52.324Z"
   },
   {
    "duration": 41,
    "start_time": "2022-04-03T08:03:53.676Z"
   },
   {
    "duration": 78,
    "start_time": "2022-04-03T08:03:53.719Z"
   },
   {
    "duration": 45,
    "start_time": "2022-04-03T08:03:53.800Z"
   },
   {
    "duration": 296,
    "start_time": "2022-04-03T08:03:53.848Z"
   },
   {
    "duration": 13,
    "start_time": "2022-04-03T08:03:54.146Z"
   },
   {
    "duration": 31,
    "start_time": "2022-04-03T08:03:54.162Z"
   },
   {
    "duration": 93,
    "start_time": "2022-04-03T08:03:54.195Z"
   },
   {
    "duration": 441,
    "start_time": "2022-04-03T08:03:54.290Z"
   },
   {
    "duration": 551,
    "start_time": "2022-04-03T08:03:54.734Z"
   },
   {
    "duration": 346,
    "start_time": "2022-04-03T08:03:55.288Z"
   },
   {
    "duration": 456,
    "start_time": "2022-04-03T08:03:55.636Z"
   },
   {
    "duration": 317,
    "start_time": "2022-04-03T08:03:56.094Z"
   },
   {
    "duration": 459,
    "start_time": "2022-04-03T08:03:56.414Z"
   },
   {
    "duration": 489,
    "start_time": "2022-04-03T08:03:56.881Z"
   },
   {
    "duration": 13,
    "start_time": "2022-04-03T08:03:57.372Z"
   },
   {
    "duration": 268,
    "start_time": "2022-04-03T08:03:57.387Z"
   },
   {
    "duration": 7,
    "start_time": "2022-04-03T08:03:57.658Z"
   },
   {
    "duration": 859,
    "start_time": "2022-04-03T08:03:57.683Z"
   },
   {
    "duration": 15,
    "start_time": "2022-04-03T08:03:58.545Z"
   },
   {
    "duration": 14,
    "start_time": "2022-04-03T08:03:58.581Z"
   },
   {
    "duration": 39,
    "start_time": "2022-04-03T08:03:58.598Z"
   },
   {
    "duration": 47,
    "start_time": "2022-04-03T08:03:58.639Z"
   }
  ],
  "kernelspec": {
   "display_name": "Python 3 (ipykernel)",
   "language": "python",
   "name": "python3"
  },
  "language_info": {
   "codemirror_mode": {
    "name": "ipython",
    "version": 3
   },
   "file_extension": ".py",
   "mimetype": "text/x-python",
   "name": "python",
   "nbconvert_exporter": "python",
   "pygments_lexer": "ipython3",
   "version": "3.9.5"
  },
  "toc": {
   "base_numbering": 1,
   "nav_menu": {},
   "number_sections": false,
   "sideBar": false,
   "skip_h1_title": false,
   "title_cell": "Содержание",
   "title_sidebar": "Contents",
   "toc_cell": false,
   "toc_position": {
    "height": "calc(100% - 180px)",
    "left": "10px",
    "top": "150px",
    "width": "165px"
   },
   "toc_section_display": true,
   "toc_window_display": false
  }
 },
 "nbformat": 4,
 "nbformat_minor": 2
}

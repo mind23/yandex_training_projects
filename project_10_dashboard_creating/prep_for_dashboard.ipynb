{
 "cells": [
  {
   "cell_type": "markdown",
   "id": "444f9a5b",
   "metadata": {},
   "source": [
    "# Подготовка выгрузки для создания дашборда"
   ]
  },
  {
   "cell_type": "code",
   "execution_count": 1,
   "id": "7a12bd9d",
   "metadata": {},
   "outputs": [],
   "source": [
    "# Импортируем библиотеки\n",
    "import pandas as pd\n",
    "from sqlalchemy import create_engine\n",
    "\n",
    "db_config = {'user': 'praktikum_student', # имя пользователя\n",
    "            'pwd': 'Sdf4$2;d-d30pp', # пароль\n",
    "            'host': 'rc1b-wcoijxj3yxfsf3fs.mdb.yandexcloud.net',\n",
    "            'port': 6432, # порт подключения\n",
    "            'db': 'data-analyst-zen-project-db'} # название базы данных\n",
    "\n",
    "connection_string = 'postgresql://{}:{}@{}:{}/{}'.format(db_config['user'],\n",
    "                                                db_config['pwd'],\n",
    "                                                db_config['host'],\n",
    "                                                db_config['port'],\n",
    "                                                db_config['db'])\n",
    "\n",
    "engine = create_engine(connection_string) "
   ]
  },
  {
   "cell_type": "code",
   "execution_count": 5,
   "id": "8952e2dd",
   "metadata": {},
   "outputs": [],
   "source": [
    "pd.set_option('display.max_columns', None)\n",
    "pd.set_option('display.float_format', '{:,.2f}'.format)\n",
    "pd.set_option('display.max_colwidth', 500)\n",
    "pd.options.mode.chained_assignment = None"
   ]
  },
  {
   "cell_type": "code",
   "execution_count": 9,
   "id": "d1b642bd",
   "metadata": {},
   "outputs": [
    {
     "data": {
      "text/html": [
       "<div>\n",
       "<style scoped>\n",
       "    .dataframe tbody tr th:only-of-type {\n",
       "        vertical-align: middle;\n",
       "    }\n",
       "\n",
       "    .dataframe tbody tr th {\n",
       "        vertical-align: top;\n",
       "    }\n",
       "\n",
       "    .dataframe thead th {\n",
       "        text-align: right;\n",
       "    }\n",
       "</style>\n",
       "<table border=\"1\" class=\"dataframe\">\n",
       "  <thead>\n",
       "    <tr style=\"text-align: right;\">\n",
       "      <th></th>\n",
       "      <th>record_id</th>\n",
       "      <th>item_topic</th>\n",
       "      <th>source_topic</th>\n",
       "      <th>age_segment</th>\n",
       "      <th>dt</th>\n",
       "      <th>visits</th>\n",
       "    </tr>\n",
       "  </thead>\n",
       "  <tbody>\n",
       "    <tr>\n",
       "      <td>0</td>\n",
       "      <td>1040597</td>\n",
       "      <td>Деньги</td>\n",
       "      <td>Авто</td>\n",
       "      <td>18-25</td>\n",
       "      <td>2019-09-24 18:32:00</td>\n",
       "      <td>3</td>\n",
       "    </tr>\n",
       "    <tr>\n",
       "      <td>1</td>\n",
       "      <td>1040598</td>\n",
       "      <td>Деньги</td>\n",
       "      <td>Авто</td>\n",
       "      <td>18-25</td>\n",
       "      <td>2019-09-24 18:35:00</td>\n",
       "      <td>1</td>\n",
       "    </tr>\n",
       "    <tr>\n",
       "      <td>2</td>\n",
       "      <td>1040599</td>\n",
       "      <td>Деньги</td>\n",
       "      <td>Авто</td>\n",
       "      <td>18-25</td>\n",
       "      <td>2019-09-24 18:54:00</td>\n",
       "      <td>4</td>\n",
       "    </tr>\n",
       "    <tr>\n",
       "      <td>3</td>\n",
       "      <td>1040600</td>\n",
       "      <td>Деньги</td>\n",
       "      <td>Авто</td>\n",
       "      <td>18-25</td>\n",
       "      <td>2019-09-24 18:55:00</td>\n",
       "      <td>17</td>\n",
       "    </tr>\n",
       "    <tr>\n",
       "      <td>4</td>\n",
       "      <td>1040601</td>\n",
       "      <td>Деньги</td>\n",
       "      <td>Авто</td>\n",
       "      <td>18-25</td>\n",
       "      <td>2019-09-24 18:56:00</td>\n",
       "      <td>27</td>\n",
       "    </tr>\n",
       "    <tr>\n",
       "      <td>...</td>\n",
       "      <td>...</td>\n",
       "      <td>...</td>\n",
       "      <td>...</td>\n",
       "      <td>...</td>\n",
       "      <td>...</td>\n",
       "      <td>...</td>\n",
       "    </tr>\n",
       "    <tr>\n",
       "      <td>30740</td>\n",
       "      <td>1071337</td>\n",
       "      <td>Юмор</td>\n",
       "      <td>Финансы</td>\n",
       "      <td>36-40</td>\n",
       "      <td>2019-09-24 18:57:00</td>\n",
       "      <td>2</td>\n",
       "    </tr>\n",
       "    <tr>\n",
       "      <td>30741</td>\n",
       "      <td>1071338</td>\n",
       "      <td>Юмор</td>\n",
       "      <td>Финансы</td>\n",
       "      <td>36-40</td>\n",
       "      <td>2019-09-24 19:00:00</td>\n",
       "      <td>1</td>\n",
       "    </tr>\n",
       "    <tr>\n",
       "      <td>30742</td>\n",
       "      <td>1071339</td>\n",
       "      <td>Юмор</td>\n",
       "      <td>Финансы</td>\n",
       "      <td>41-45</td>\n",
       "      <td>2019-09-24 18:54:00</td>\n",
       "      <td>1</td>\n",
       "    </tr>\n",
       "    <tr>\n",
       "      <td>30743</td>\n",
       "      <td>1071340</td>\n",
       "      <td>Юмор</td>\n",
       "      <td>Финансы</td>\n",
       "      <td>41-45</td>\n",
       "      <td>2019-09-24 18:56:00</td>\n",
       "      <td>1</td>\n",
       "    </tr>\n",
       "    <tr>\n",
       "      <td>30744</td>\n",
       "      <td>1071341</td>\n",
       "      <td>Юмор</td>\n",
       "      <td>Финансы</td>\n",
       "      <td>41-45</td>\n",
       "      <td>2019-09-24 19:00:00</td>\n",
       "      <td>1</td>\n",
       "    </tr>\n",
       "  </tbody>\n",
       "</table>\n",
       "<p>30745 rows × 6 columns</p>\n",
       "</div>"
      ],
      "text/plain": [
       "       record_id item_topic source_topic age_segment                  dt  \\\n",
       "0        1040597     Деньги         Авто       18-25 2019-09-24 18:32:00   \n",
       "1        1040598     Деньги         Авто       18-25 2019-09-24 18:35:00   \n",
       "2        1040599     Деньги         Авто       18-25 2019-09-24 18:54:00   \n",
       "3        1040600     Деньги         Авто       18-25 2019-09-24 18:55:00   \n",
       "4        1040601     Деньги         Авто       18-25 2019-09-24 18:56:00   \n",
       "...          ...        ...          ...         ...                 ...   \n",
       "30740    1071337       Юмор      Финансы       36-40 2019-09-24 18:57:00   \n",
       "30741    1071338       Юмор      Финансы       36-40 2019-09-24 19:00:00   \n",
       "30742    1071339       Юмор      Финансы       41-45 2019-09-24 18:54:00   \n",
       "30743    1071340       Юмор      Финансы       41-45 2019-09-24 18:56:00   \n",
       "30744    1071341       Юмор      Финансы       41-45 2019-09-24 19:00:00   \n",
       "\n",
       "       visits  \n",
       "0           3  \n",
       "1           1  \n",
       "2           4  \n",
       "3          17  \n",
       "4          27  \n",
       "...       ...  \n",
       "30740       2  \n",
       "30741       1  \n",
       "30742       1  \n",
       "30743       1  \n",
       "30744       1  \n",
       "\n",
       "[30745 rows x 6 columns]"
      ]
     },
     "metadata": {},
     "output_type": "display_data"
    },
    {
     "name": "stdout",
     "output_type": "stream",
     "text": [
      "<class 'pandas.core.frame.DataFrame'>\n",
      "RangeIndex: 30745 entries, 0 to 30744\n",
      "Data columns (total 6 columns):\n",
      "record_id       30745 non-null int64\n",
      "item_topic      30745 non-null object\n",
      "source_topic    30745 non-null object\n",
      "age_segment     30745 non-null object\n",
      "dt              30745 non-null datetime64[ns]\n",
      "visits          30745 non-null int64\n",
      "dtypes: datetime64[ns](1), int64(2), object(3)\n",
      "memory usage: 1.4+ MB\n"
     ]
    },
    {
     "data": {
      "text/plain": [
       "None"
      ]
     },
     "metadata": {},
     "output_type": "display_data"
    },
    {
     "data": {
      "text/html": [
       "<div>\n",
       "<style scoped>\n",
       "    .dataframe tbody tr th:only-of-type {\n",
       "        vertical-align: middle;\n",
       "    }\n",
       "\n",
       "    .dataframe tbody tr th {\n",
       "        vertical-align: top;\n",
       "    }\n",
       "\n",
       "    .dataframe thead th {\n",
       "        text-align: right;\n",
       "    }\n",
       "</style>\n",
       "<table border=\"1\" class=\"dataframe\">\n",
       "  <thead>\n",
       "    <tr style=\"text-align: right;\">\n",
       "      <th></th>\n",
       "      <th>count</th>\n",
       "      <th>mean</th>\n",
       "      <th>std</th>\n",
       "      <th>min</th>\n",
       "      <th>25%</th>\n",
       "      <th>50%</th>\n",
       "      <th>75%</th>\n",
       "      <th>max</th>\n",
       "    </tr>\n",
       "  </thead>\n",
       "  <tbody>\n",
       "    <tr>\n",
       "      <td>record_id</td>\n",
       "      <td>30,745.00</td>\n",
       "      <td>1,055,969.00</td>\n",
       "      <td>8,875.46</td>\n",
       "      <td>1,040,597.00</td>\n",
       "      <td>1,048,283.00</td>\n",
       "      <td>1,055,969.00</td>\n",
       "      <td>1,063,655.00</td>\n",
       "      <td>1,071,341.00</td>\n",
       "    </tr>\n",
       "    <tr>\n",
       "      <td>visits</td>\n",
       "      <td>30,745.00</td>\n",
       "      <td>10.09</td>\n",
       "      <td>19.73</td>\n",
       "      <td>1.00</td>\n",
       "      <td>1.00</td>\n",
       "      <td>3.00</td>\n",
       "      <td>10.00</td>\n",
       "      <td>371.00</td>\n",
       "    </tr>\n",
       "  </tbody>\n",
       "</table>\n",
       "</div>"
      ],
      "text/plain": [
       "              count         mean      std          min          25%  \\\n",
       "record_id 30,745.00 1,055,969.00 8,875.46 1,040,597.00 1,048,283.00   \n",
       "visits    30,745.00        10.09    19.73         1.00         1.00   \n",
       "\n",
       "                   50%          75%          max  \n",
       "record_id 1,055,969.00 1,063,655.00 1,071,341.00  \n",
       "visits            3.00        10.00       371.00  "
      ]
     },
     "metadata": {},
     "output_type": "display_data"
    }
   ],
   "source": [
    "# Открываем таблицу\n",
    "query='select * from dash_visits' \n",
    "dash_visits= pd.io.sql.read_sql(query, con = engine)\n",
    "\n",
    "display(dash_visits)\n",
    "display(dash_visits.info())\n",
    "display(dash_visits.describe().T)"
   ]
  },
  {
   "cell_type": "code",
   "execution_count": 17,
   "id": "66e98951",
   "metadata": {
    "scrolled": true
   },
   "outputs": [
    {
     "name": "stdout",
     "output_type": "stream",
     "text": [
      "Отношения             1536\n",
      "Интересные факты      1535\n",
      "Наука                 1505\n",
      "Подборки              1456\n",
      "Полезные советы       1424\n",
      "Общество              1422\n",
      "Россия                1385\n",
      "История               1363\n",
      "Семья                 1287\n",
      "Путешествия           1247\n",
      "Деньги                1234\n",
      "Женщины               1230\n",
      "Дети                  1229\n",
      "Туризм                1206\n",
      "Здоровье              1203\n",
      "Красота               1193\n",
      "Культура              1160\n",
      "Юмор                  1129\n",
      "Искусство             1119\n",
      "Рассказы              1109\n",
      "Психология            1056\n",
      "Скандалы              1023\n",
      "Знаменитости           976\n",
      "Женская психология     914\n",
      "Шоу                    804\n",
      "Name: item_topic, dtype: int64\n",
      "\n",
      "Семейные отношения    1822\n",
      "Россия                1687\n",
      "Знаменитости          1650\n",
      "Полезные советы       1578\n",
      "Путешествия           1563\n",
      "Кино                  1505\n",
      "Дети                  1459\n",
      "История               1437\n",
      "Семья                 1405\n",
      "Одежда                1379\n",
      "Здоровье              1243\n",
      "Искусство             1228\n",
      "Авто                  1077\n",
      "Психология            1055\n",
      "Сад и дача            1036\n",
      "Политика              1024\n",
      "Спорт                 1007\n",
      "Сделай сам             995\n",
      "Ремонт                 985\n",
      "Деньги                 973\n",
      "Еда                    912\n",
      "Интерьеры              809\n",
      "Строительство          758\n",
      "Музыка                 750\n",
      "Технологии             741\n",
      "Финансы                667\n",
      "Name: source_topic, dtype: int64\n",
      "\n",
      "18-25    7056\n",
      "26-30    5875\n",
      "31-35    5552\n",
      "36-40    5105\n",
      "41-45    3903\n",
      "45+      3254\n",
      "Name: age_segment, dtype: int64\n",
      "\n",
      "['2019-09-24T18:28:00.000000000' '2019-09-24T18:29:00.000000000'\n",
      " '2019-09-24T18:30:00.000000000' '2019-09-24T18:31:00.000000000'\n",
      " '2019-09-24T18:32:00.000000000' '2019-09-24T18:33:00.000000000'\n",
      " '2019-09-24T18:34:00.000000000' '2019-09-24T18:35:00.000000000'\n",
      " '2019-09-24T18:52:00.000000000' '2019-09-24T18:53:00.000000000'\n",
      " '2019-09-24T18:54:00.000000000' '2019-09-24T18:55:00.000000000'\n",
      " '2019-09-24T18:56:00.000000000' '2019-09-24T18:57:00.000000000'\n",
      " '2019-09-24T18:58:00.000000000' '2019-09-24T18:59:00.000000000'\n",
      " '2019-09-24T19:00:00.000000000']\n",
      "\n",
      "17\n"
     ]
    }
   ],
   "source": [
    "# Изучим некоторые колонки подробнее\n",
    "print(dash_visits['item_topic'].value_counts())\n",
    "print()\n",
    "print(dash_visits['source_topic'].value_counts())\n",
    "print()\n",
    "print(dash_visits['age_segment'].value_counts())\n",
    "print()\n",
    "print(dash_visits['dt'].sort_values().unique())\n",
    "print()\n",
    "print(len(dash_visits['dt'].sort_values().unique()))"
   ]
  },
  {
   "cell_type": "markdown",
   "id": "774b27cc",
   "metadata": {},
   "source": [
    "Вывод: данные открыты и изучены, типы данных в порядке, дубликатов нет. Данные лога охватывают 9 сентября 2019 года с 18:28 до 19:00. Можно производить выгрузку для построения дашборда."
   ]
  },
  {
   "cell_type": "code",
   "execution_count": null,
   "id": "c80c2984",
   "metadata": {},
   "outputs": [],
   "source": [
    "# Выгружаем данные в файл\n",
    "\n",
    "path = 'C:/Users/user/dash_visits.csv'\n",
    "dash_visits.to_csv(path, index=False, sep=\";\")"
   ]
  }
 ],
 "metadata": {
  "ExecuteTimeLog": [
   {
    "duration": 1609,
    "start_time": "2022-01-28T11:21:15.640Z"
   },
   {
    "duration": 5575,
    "start_time": "2022-03-31T06:13:41.424Z"
   },
   {
    "duration": 7781,
    "start_time": "2022-04-01T07:19:15.737Z"
   },
   {
    "duration": 104,
    "start_time": "2022-04-01T07:20:10.601Z"
   },
   {
    "duration": 13,
    "start_time": "2022-04-01T07:20:28.223Z"
   },
   {
    "duration": 72,
    "start_time": "2022-04-01T07:24:46.828Z"
   },
   {
    "duration": 8328,
    "start_time": "2022-04-01T07:24:48.844Z"
   },
   {
    "duration": 528,
    "start_time": "2022-04-01T07:24:59.608Z"
   },
   {
    "duration": 365,
    "start_time": "2022-04-01T07:35:12.719Z"
   },
   {
    "duration": 398,
    "start_time": "2022-04-01T07:35:43.419Z"
   },
   {
    "duration": 363,
    "start_time": "2022-04-01T07:37:05.300Z"
   },
   {
    "duration": 382,
    "start_time": "2022-04-01T07:38:25.931Z"
   },
   {
    "duration": 351,
    "start_time": "2022-04-01T07:38:36.200Z"
   },
   {
    "duration": 339,
    "start_time": "2022-04-01T07:39:24.219Z"
   },
   {
    "duration": 336,
    "start_time": "2022-04-01T07:39:43.919Z"
   },
   {
    "duration": 353,
    "start_time": "2022-04-01T07:40:15.359Z"
   }
  ],
  "kernelspec": {
   "display_name": "Python 3",
   "language": "python",
   "name": "python3"
  },
  "language_info": {
   "codemirror_mode": {
    "name": "ipython",
    "version": 3
   },
   "file_extension": ".py",
   "mimetype": "text/x-python",
   "name": "python",
   "nbconvert_exporter": "python",
   "pygments_lexer": "ipython3",
   "version": "3.7.12"
  },
  "toc": {
   "base_numbering": 1,
   "nav_menu": {},
   "number_sections": true,
   "sideBar": true,
   "skip_h1_title": true,
   "title_cell": "Table of Contents",
   "title_sidebar": "Contents",
   "toc_cell": false,
   "toc_position": {},
   "toc_section_display": true,
   "toc_window_display": false
  }
 },
 "nbformat": 4,
 "nbformat_minor": 5
}

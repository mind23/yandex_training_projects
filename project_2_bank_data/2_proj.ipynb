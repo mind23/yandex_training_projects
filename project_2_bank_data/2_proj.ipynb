{
 "cells": [
  {
   "cell_type": "markdown",
   "metadata": {},
   "source": [
    "# Исследование надёжности заёмщиков\n",
    "\n",
    "Заказчик — кредитный отдел банка. Необходимо разобраться, влияет ли семейное положение и количество детей клиента на факт погашения кредита в срок. Входные данные от банка — статистика о платёжеспособности клиентов.\n",
    "\n",
    "Результаты исследования будут учтены при построении модели **кредитного скоринга** — специальной системы, которая оценивает способность потенциального заёмщика вернуть кредит банку."
   ]
  },
  {
   "cell_type": "markdown",
   "metadata": {},
   "source": [
    "**Цель исследования** — ответить на четыре вопроса по предостваленной выборке данных:\n",
    "    \n",
    "1. Существует ли зависимость между наличием детей у заемщиков и возвратом ими кредита в срок?\n",
    "2. Существует ли зависимость между между семейным положением и возвратом кредита в срок?\n",
    "3. Существует ли зависимость между уровнем дохода и возвратом кредита в срок?\n",
    "4. Как разные цели кредита влияют на его возврат в срок?  \n",
    "\n",
    "**Оглавление**\n",
    "    \n",
    "1. [Открытие данных](#open)\n",
    "    \n",
    "    \n",
    "2. [Предобработка данных](#preproc)\n",
    "    * [Обработка пропусков](#blanks)\n",
    "    * [Замена типа данных](#types)\n",
    "    * [Обработка дубликатов](#dubl)\n",
    "    * [Лемматизация](#lemm)\n",
    "    * [Категоризация данных](#categ)\n",
    "    \n",
    "    \n",
    "3. [Ответы на вопросы исследования](#answer)\n",
    "    * [Зависимость между наличием детей и возвратом кредита в срок](#ans1)\n",
    "    * [Зависимость между семейным положением и возвратом кредита в срок](#ans2)\n",
    "    * [Зависимость между уровнем дохода и возвратом кредита в срок](#ans3)\n",
    "    * [Влияние разных целей кредита на его возврат в срок](#ans4)\n",
    "    \n",
    "    \n",
    "4. [Общий вывод](#summary)"
   ]
  },
  {
   "cell_type": "markdown",
   "metadata": {},
   "source": [
    "<a id=\"open\"></a>\n",
    "## Открытие данных\n"
   ]
  },
  {
   "cell_type": "code",
   "execution_count": 1,
   "metadata": {},
   "outputs": [],
   "source": [
    "import pandas as pd\n",
    "import seaborn as sb\n",
    "import matplotlib.pyplot as plt\n",
    "from pymystem3 import Mystem\n",
    "m = Mystem() \n"
   ]
  },
  {
   "cell_type": "code",
   "execution_count": 2,
   "metadata": {},
   "outputs": [
    {
     "name": "stdout",
     "output_type": "stream",
     "text": [
      "<class 'pandas.core.frame.DataFrame'>\n",
      "RangeIndex: 21525 entries, 0 to 21524\n",
      "Data columns (total 12 columns):\n",
      " #   Column            Non-Null Count  Dtype  \n",
      "---  ------            --------------  -----  \n",
      " 0   children          21525 non-null  int64  \n",
      " 1   days_employed     19351 non-null  float64\n",
      " 2   dob_years         21525 non-null  int64  \n",
      " 3   education         21525 non-null  object \n",
      " 4   education_id      21525 non-null  int64  \n",
      " 5   family_status     21525 non-null  object \n",
      " 6   family_status_id  21525 non-null  int64  \n",
      " 7   gender            21525 non-null  object \n",
      " 8   income_type       21525 non-null  object \n",
      " 9   debt              21525 non-null  int64  \n",
      " 10  total_income      19351 non-null  float64\n",
      " 11  purpose           21525 non-null  object \n",
      "dtypes: float64(2), int64(5), object(5)\n",
      "memory usage: 2.0+ MB\n"
     ]
    },
    {
     "data": {
      "text/html": [
       "<div>\n",
       "<style scoped>\n",
       "    .dataframe tbody tr th:only-of-type {\n",
       "        vertical-align: middle;\n",
       "    }\n",
       "\n",
       "    .dataframe tbody tr th {\n",
       "        vertical-align: top;\n",
       "    }\n",
       "\n",
       "    .dataframe thead th {\n",
       "        text-align: right;\n",
       "    }\n",
       "</style>\n",
       "<table border=\"1\" class=\"dataframe\">\n",
       "  <thead>\n",
       "    <tr style=\"text-align: right;\">\n",
       "      <th></th>\n",
       "      <th>children</th>\n",
       "      <th>days_employed</th>\n",
       "      <th>dob_years</th>\n",
       "      <th>education</th>\n",
       "      <th>education_id</th>\n",
       "      <th>family_status</th>\n",
       "      <th>family_status_id</th>\n",
       "      <th>gender</th>\n",
       "      <th>income_type</th>\n",
       "      <th>debt</th>\n",
       "      <th>total_income</th>\n",
       "      <th>purpose</th>\n",
       "    </tr>\n",
       "  </thead>\n",
       "  <tbody>\n",
       "    <tr>\n",
       "      <th>0</th>\n",
       "      <td>1</td>\n",
       "      <td>-8437.673028</td>\n",
       "      <td>42</td>\n",
       "      <td>высшее</td>\n",
       "      <td>0</td>\n",
       "      <td>женат / замужем</td>\n",
       "      <td>0</td>\n",
       "      <td>F</td>\n",
       "      <td>сотрудник</td>\n",
       "      <td>0</td>\n",
       "      <td>253875.639453</td>\n",
       "      <td>покупка жилья</td>\n",
       "    </tr>\n",
       "    <tr>\n",
       "      <th>1</th>\n",
       "      <td>1</td>\n",
       "      <td>-4024.803754</td>\n",
       "      <td>36</td>\n",
       "      <td>среднее</td>\n",
       "      <td>1</td>\n",
       "      <td>женат / замужем</td>\n",
       "      <td>0</td>\n",
       "      <td>F</td>\n",
       "      <td>сотрудник</td>\n",
       "      <td>0</td>\n",
       "      <td>112080.014102</td>\n",
       "      <td>приобретение автомобиля</td>\n",
       "    </tr>\n",
       "    <tr>\n",
       "      <th>2</th>\n",
       "      <td>0</td>\n",
       "      <td>-5623.422610</td>\n",
       "      <td>33</td>\n",
       "      <td>Среднее</td>\n",
       "      <td>1</td>\n",
       "      <td>женат / замужем</td>\n",
       "      <td>0</td>\n",
       "      <td>M</td>\n",
       "      <td>сотрудник</td>\n",
       "      <td>0</td>\n",
       "      <td>145885.952297</td>\n",
       "      <td>покупка жилья</td>\n",
       "    </tr>\n",
       "    <tr>\n",
       "      <th>3</th>\n",
       "      <td>3</td>\n",
       "      <td>-4124.747207</td>\n",
       "      <td>32</td>\n",
       "      <td>среднее</td>\n",
       "      <td>1</td>\n",
       "      <td>женат / замужем</td>\n",
       "      <td>0</td>\n",
       "      <td>M</td>\n",
       "      <td>сотрудник</td>\n",
       "      <td>0</td>\n",
       "      <td>267628.550329</td>\n",
       "      <td>дополнительное образование</td>\n",
       "    </tr>\n",
       "    <tr>\n",
       "      <th>4</th>\n",
       "      <td>0</td>\n",
       "      <td>340266.072047</td>\n",
       "      <td>53</td>\n",
       "      <td>среднее</td>\n",
       "      <td>1</td>\n",
       "      <td>гражданский брак</td>\n",
       "      <td>1</td>\n",
       "      <td>F</td>\n",
       "      <td>пенсионер</td>\n",
       "      <td>0</td>\n",
       "      <td>158616.077870</td>\n",
       "      <td>сыграть свадьбу</td>\n",
       "    </tr>\n",
       "  </tbody>\n",
       "</table>\n",
       "</div>"
      ],
      "text/plain": [
       "   children  days_employed  dob_years education  education_id  \\\n",
       "0         1   -8437.673028         42    высшее             0   \n",
       "1         1   -4024.803754         36   среднее             1   \n",
       "2         0   -5623.422610         33   Среднее             1   \n",
       "3         3   -4124.747207         32   среднее             1   \n",
       "4         0  340266.072047         53   среднее             1   \n",
       "\n",
       "      family_status  family_status_id gender income_type  debt   total_income  \\\n",
       "0   женат / замужем                 0      F   сотрудник     0  253875.639453   \n",
       "1   женат / замужем                 0      F   сотрудник     0  112080.014102   \n",
       "2   женат / замужем                 0      M   сотрудник     0  145885.952297   \n",
       "3   женат / замужем                 0      M   сотрудник     0  267628.550329   \n",
       "4  гражданский брак                 1      F   пенсионер     0  158616.077870   \n",
       "\n",
       "                      purpose  \n",
       "0               покупка жилья  \n",
       "1     приобретение автомобиля  \n",
       "2               покупка жилья  \n",
       "3  дополнительное образование  \n",
       "4             сыграть свадьбу  "
      ]
     },
     "metadata": {},
     "output_type": "display_data"
    },
    {
     "data": {
      "text/html": [
       "<div>\n",
       "<style scoped>\n",
       "    .dataframe tbody tr th:only-of-type {\n",
       "        vertical-align: middle;\n",
       "    }\n",
       "\n",
       "    .dataframe tbody tr th {\n",
       "        vertical-align: top;\n",
       "    }\n",
       "\n",
       "    .dataframe thead th {\n",
       "        text-align: right;\n",
       "    }\n",
       "</style>\n",
       "<table border=\"1\" class=\"dataframe\">\n",
       "  <thead>\n",
       "    <tr style=\"text-align: right;\">\n",
       "      <th></th>\n",
       "      <th>count</th>\n",
       "      <th>mean</th>\n",
       "      <th>std</th>\n",
       "      <th>min</th>\n",
       "      <th>25%</th>\n",
       "      <th>50%</th>\n",
       "      <th>75%</th>\n",
       "      <th>max</th>\n",
       "    </tr>\n",
       "  </thead>\n",
       "  <tbody>\n",
       "    <tr>\n",
       "      <th>children</th>\n",
       "      <td>21525.0</td>\n",
       "      <td>0.538908</td>\n",
       "      <td>1.381587</td>\n",
       "      <td>-1.000000</td>\n",
       "      <td>0.000000</td>\n",
       "      <td>0.000000</td>\n",
       "      <td>1.000000</td>\n",
       "      <td>2.000000e+01</td>\n",
       "    </tr>\n",
       "    <tr>\n",
       "      <th>days_employed</th>\n",
       "      <td>19351.0</td>\n",
       "      <td>63046.497661</td>\n",
       "      <td>140827.311974</td>\n",
       "      <td>-18388.949901</td>\n",
       "      <td>-2747.423625</td>\n",
       "      <td>-1203.369529</td>\n",
       "      <td>-291.095954</td>\n",
       "      <td>4.017554e+05</td>\n",
       "    </tr>\n",
       "    <tr>\n",
       "      <th>dob_years</th>\n",
       "      <td>21525.0</td>\n",
       "      <td>43.293380</td>\n",
       "      <td>12.574584</td>\n",
       "      <td>0.000000</td>\n",
       "      <td>33.000000</td>\n",
       "      <td>42.000000</td>\n",
       "      <td>53.000000</td>\n",
       "      <td>7.500000e+01</td>\n",
       "    </tr>\n",
       "    <tr>\n",
       "      <th>education_id</th>\n",
       "      <td>21525.0</td>\n",
       "      <td>0.817236</td>\n",
       "      <td>0.548138</td>\n",
       "      <td>0.000000</td>\n",
       "      <td>1.000000</td>\n",
       "      <td>1.000000</td>\n",
       "      <td>1.000000</td>\n",
       "      <td>4.000000e+00</td>\n",
       "    </tr>\n",
       "    <tr>\n",
       "      <th>family_status_id</th>\n",
       "      <td>21525.0</td>\n",
       "      <td>0.972544</td>\n",
       "      <td>1.420324</td>\n",
       "      <td>0.000000</td>\n",
       "      <td>0.000000</td>\n",
       "      <td>0.000000</td>\n",
       "      <td>1.000000</td>\n",
       "      <td>4.000000e+00</td>\n",
       "    </tr>\n",
       "    <tr>\n",
       "      <th>debt</th>\n",
       "      <td>21525.0</td>\n",
       "      <td>0.080883</td>\n",
       "      <td>0.272661</td>\n",
       "      <td>0.000000</td>\n",
       "      <td>0.000000</td>\n",
       "      <td>0.000000</td>\n",
       "      <td>0.000000</td>\n",
       "      <td>1.000000e+00</td>\n",
       "    </tr>\n",
       "    <tr>\n",
       "      <th>total_income</th>\n",
       "      <td>19351.0</td>\n",
       "      <td>167422.302208</td>\n",
       "      <td>102971.566448</td>\n",
       "      <td>20667.263793</td>\n",
       "      <td>103053.152913</td>\n",
       "      <td>145017.937533</td>\n",
       "      <td>203435.067663</td>\n",
       "      <td>2.265604e+06</td>\n",
       "    </tr>\n",
       "  </tbody>\n",
       "</table>\n",
       "</div>"
      ],
      "text/plain": [
       "                    count           mean            std           min  \\\n",
       "children          21525.0       0.538908       1.381587     -1.000000   \n",
       "days_employed     19351.0   63046.497661  140827.311974 -18388.949901   \n",
       "dob_years         21525.0      43.293380      12.574584      0.000000   \n",
       "education_id      21525.0       0.817236       0.548138      0.000000   \n",
       "family_status_id  21525.0       0.972544       1.420324      0.000000   \n",
       "debt              21525.0       0.080883       0.272661      0.000000   \n",
       "total_income      19351.0  167422.302208  102971.566448  20667.263793   \n",
       "\n",
       "                            25%            50%            75%           max  \n",
       "children               0.000000       0.000000       1.000000  2.000000e+01  \n",
       "days_employed      -2747.423625   -1203.369529    -291.095954  4.017554e+05  \n",
       "dob_years             33.000000      42.000000      53.000000  7.500000e+01  \n",
       "education_id           1.000000       1.000000       1.000000  4.000000e+00  \n",
       "family_status_id       0.000000       0.000000       1.000000  4.000000e+00  \n",
       "debt                   0.000000       0.000000       0.000000  1.000000e+00  \n",
       "total_income      103053.152913  145017.937533  203435.067663  2.265604e+06  "
      ]
     },
     "execution_count": 2,
     "metadata": {},
     "output_type": "execute_result"
    }
   ],
   "source": [
    "df = pd.read_csv ('/datasets/data.csv')\n",
    "df.info()\n",
    "display(df.head(5))\n",
    "df.tail(5)\n",
    "df.sample()\n",
    "df.sample(n = 5,random_state = 7)\n",
    "df.describe()\n",
    "df.describe().T"
   ]
  },
  {
   "cell_type": "markdown",
   "metadata": {},
   "source": [
    "**Вывод**"
   ]
  },
  {
   "cell_type": "markdown",
   "metadata": {},
   "source": [
    "Данные о платежеспособности клиентов вызывают вопросы.\n",
    "\n",
    "* В поле days_employed (общий трудовой стаж в днях) дробные числа, да еще и встречаются отрицательные.\n",
    "* В категориальной характеристике образования (education) - точно есть неявные дубликаты связанные с регистром.\n",
    "* Поле total_income имеет чрезмерную точность для рублевого дохода.\n",
    "* В полях days_employed и total_income есть пропуски.\n",
    "\n",
    "Названия колонок выглядят нормально. Типы полей на первый взгляд соответствуют логике данных (кроме поля days_employed и вероятно, total_income).\n",
    "\n",
    "Общее количество строк в таблице: 21525. Этого должно хватить для целей исследования, но требуется предобработка данных."
   ]
  },
  {
   "cell_type": "markdown",
   "metadata": {},
   "source": [
    "<a id=\"preproc\"></a>\n",
    "## Предобработка данных"
   ]
  },
  {
   "cell_type": "markdown",
   "metadata": {},
   "source": [
    "<a id=\"blanks\"></a>\n",
    "### Обработка пропусков"
   ]
  },
  {
   "cell_type": "markdown",
   "metadata": {},
   "source": [
    "Посмотрим на строки с пропущенными days_employed и посчитаем их. Затем воспользуемся медианным методом (предварительно избавившись от отрицательных чисел в колонке), чтобы заполнить пропуски."
   ]
  },
  {
   "cell_type": "code",
   "execution_count": 3,
   "metadata": {
    "scrolled": false
   },
   "outputs": [
    {
     "name": "stdout",
     "output_type": "stream",
     "text": [
      "Медианное значение стажа: 2194.220566878695\n",
      "\n",
      "<class 'pandas.core.frame.DataFrame'>\n",
      "RangeIndex: 21525 entries, 0 to 21524\n",
      "Data columns (total 12 columns):\n",
      " #   Column            Non-Null Count  Dtype  \n",
      "---  ------            --------------  -----  \n",
      " 0   children          21525 non-null  int64  \n",
      " 1   days_employed     21525 non-null  float64\n",
      " 2   dob_years         21525 non-null  int64  \n",
      " 3   education         21525 non-null  object \n",
      " 4   education_id      21525 non-null  int64  \n",
      " 5   family_status     21525 non-null  object \n",
      " 6   family_status_id  21525 non-null  int64  \n",
      " 7   gender            21525 non-null  object \n",
      " 8   income_type       21525 non-null  object \n",
      " 9   debt              21525 non-null  int64  \n",
      " 10  total_income      19351 non-null  float64\n",
      " 11  purpose           21525 non-null  object \n",
      "dtypes: float64(2), int64(5), object(5)\n",
      "memory usage: 2.0+ MB\n"
     ]
    }
   ],
   "source": [
    "df[df['days_employed'].isna()].head(5) # Пропуски, это NaN\n",
    "\n",
    "len(df[df['days_employed'].isna()]) #Пропущено 2174 значения, около 1% от всего датафрейма, лучше их заполнить.\n",
    "\n",
    "#Избавимся от отрицательных чисел\n",
    "df['days_employed'] = df['days_employed'].abs()\n",
    "days_employed_med = df['days_employed'].median()\n",
    "print('Медианное значение стажа:',days_employed_med, end='\\n\\n') \n",
    "\n",
    "#Заменяем пропуски на days_employed_med\n",
    "df['days_employed'] = df['days_employed'].fillna(days_employed_med)\n",
    "\n",
    "#Проверим на строки с пропущенными days_employed\n",
    "df.info() #Код сработал"
   ]
  },
  {
   "cell_type": "markdown",
   "metadata": {},
   "source": [
    "Поступим аналогичным образом с полем total_income"
   ]
  },
  {
   "cell_type": "code",
   "execution_count": 4,
   "metadata": {},
   "outputs": [
    {
     "name": "stdout",
     "output_type": "stream",
     "text": [
      "Медианное значение дохода: 145017.93753253992\n",
      "\n",
      "<class 'pandas.core.frame.DataFrame'>\n",
      "RangeIndex: 21525 entries, 0 to 21524\n",
      "Data columns (total 12 columns):\n",
      " #   Column            Non-Null Count  Dtype  \n",
      "---  ------            --------------  -----  \n",
      " 0   children          21525 non-null  int64  \n",
      " 1   days_employed     21525 non-null  float64\n",
      " 2   dob_years         21525 non-null  int64  \n",
      " 3   education         21525 non-null  object \n",
      " 4   education_id      21525 non-null  int64  \n",
      " 5   family_status     21525 non-null  object \n",
      " 6   family_status_id  21525 non-null  int64  \n",
      " 7   gender            21525 non-null  object \n",
      " 8   income_type       21525 non-null  object \n",
      " 9   debt              21525 non-null  int64  \n",
      " 10  total_income      21525 non-null  float64\n",
      " 11  purpose           21525 non-null  object \n",
      "dtypes: float64(2), int64(5), object(5)\n",
      "memory usage: 2.0+ MB\n"
     ]
    }
   ],
   "source": [
    "df[df['total_income'].isna()].head(5) # Пропуски, это NaN\n",
    "\n",
    "#total_income - количественная характеристика, заменим в ней пропуски на медианное значение поля.\n",
    "total_income_med = df['total_income'].median()\n",
    "print('Медианное значение дохода:',total_income_med, end='\\n\\n') \n",
    "#Заменяем пропуски на total_income_med\n",
    "df['total_income'] = df['total_income'].fillna(total_income_med)\n",
    "\n",
    "#Проверим на строки с пропущенными total_income\n",
    "df.info() #Код сработал, явных пропусков в датафрэйме больше нет"
   ]
  },
  {
   "cell_type": "markdown",
   "metadata": {},
   "source": [
    "Заодно проверим другие поля важные для исследования:\n",
    "\n"
   ]
  },
  {
   "cell_type": "code",
   "execution_count": 5,
   "metadata": {},
   "outputs": [
    {
     "data": {
      "text/plain": [
       "0    19784\n",
       "1     1741\n",
       "Name: debt, dtype: int64"
      ]
     },
     "execution_count": 5,
     "metadata": {},
     "output_type": "execute_result"
    }
   ],
   "source": [
    "\n",
    "df['children'].value_counts() #-1 это точно ошибка, заменим ее на 1\n",
    "df['children'] = df['children'].replace(-1, 1)\n",
    "df['debt'].value_counts() # тут все в порядке"
   ]
  },
  {
   "cell_type": "markdown",
   "metadata": {},
   "source": [
    "**Вывод**"
   ]
  },
  {
   "cell_type": "markdown",
   "metadata": {},
   "source": [
    "* Были обнаружены пропуски в полях days_employed и total_income, в обоих случаях это NaN.\n",
    "* Причинами ппропусков может быть намеренное незаполнение этих данных заемщиками, однако странно если бы таким людям дали кредит. Учитывая, что в данных были артефакты в виде отрицательного стажа, причина пропуска может быть и технического характера - потеря данных при копировании, записи и т.п.\n",
    "* Пропуски в этих количественных полях были заполнены медианным методом, так как разброс по стажу и доходу значительный и среднее значение может повлиять на исход исследования."
   ]
  },
  {
   "cell_type": "markdown",
   "metadata": {},
   "source": [
    "<a id=\"types\"></a>\n",
    "### Замена типа данных"
   ]
  },
  {
   "cell_type": "markdown",
   "metadata": {},
   "source": [
    "Изменим тип данных в поле days_employed и total_income на целочисленный, согласно требуемой точности этих данных для исследования.\n",
    "\n",
    "А также уменьшим объем затрачиваемой памяти в ьаблице, оптимизировав другие типы."
   ]
  },
  {
   "cell_type": "code",
   "execution_count": 6,
   "metadata": {},
   "outputs": [
    {
     "name": "stdout",
     "output_type": "stream",
     "text": [
      "<class 'pandas.core.frame.DataFrame'>\n",
      "RangeIndex: 21525 entries, 0 to 21524\n",
      "Data columns (total 12 columns):\n",
      " #   Column            Non-Null Count  Dtype  \n",
      "---  ------            --------------  -----  \n",
      " 0   children          21525 non-null  int64  \n",
      " 1   days_employed     21525 non-null  float64\n",
      " 2   dob_years         21525 non-null  int64  \n",
      " 3   education         21525 non-null  object \n",
      " 4   education_id      21525 non-null  int64  \n",
      " 5   family_status     21525 non-null  object \n",
      " 6   family_status_id  21525 non-null  int64  \n",
      " 7   gender            21525 non-null  object \n",
      " 8   income_type       21525 non-null  object \n",
      " 9   debt              21525 non-null  int64  \n",
      " 10  total_income      21525 non-null  float64\n",
      " 11  purpose           21525 non-null  object \n",
      "dtypes: float64(2), int64(5), object(5)\n",
      "memory usage: 2.0+ MB\n"
     ]
    },
    {
     "data": {
      "text/plain": [
       "None"
      ]
     },
     "metadata": {},
     "output_type": "display_data"
    },
    {
     "name": "stdout",
     "output_type": "stream",
     "text": [
      "<class 'pandas.core.frame.DataFrame'>\n",
      "RangeIndex: 21525 entries, 0 to 21524\n",
      "Data columns (total 12 columns):\n",
      " #   Column            Non-Null Count  Dtype \n",
      "---  ------            --------------  ----- \n",
      " 0   children          21525 non-null  int8  \n",
      " 1   days_employed     21525 non-null  int32 \n",
      " 2   dob_years         21525 non-null  int8  \n",
      " 3   education         21525 non-null  object\n",
      " 4   education_id      21525 non-null  int8  \n",
      " 5   family_status     21525 non-null  object\n",
      " 6   family_status_id  21525 non-null  int8  \n",
      " 7   gender            21525 non-null  object\n",
      " 8   income_type       21525 non-null  object\n",
      " 9   debt              21525 non-null  int8  \n",
      " 10  total_income      21525 non-null  int32 \n",
      " 11  purpose           21525 non-null  object\n",
      "dtypes: int32(2), int8(5), object(5)\n",
      "memory usage: 1.1+ MB\n"
     ]
    }
   ],
   "source": [
    "display(df.info())\n",
    "df['children'] = df['children'].astype('int8')\n",
    "df['days_employed'] = df['days_employed'].astype('int32')\n",
    "df['dob_years'] = df['total_income'].astype('int8')\n",
    "df['education_id'] = df['education_id'].astype('int8')\n",
    "df['family_status_id'] = df['family_status_id'].astype('int8')\n",
    "df['debt'] = df['debt'].astype('int8')\n",
    "df['total_income'] = df['total_income'].astype('int32')\n",
    "\n",
    "df.info()"
   ]
  },
  {
   "cell_type": "markdown",
   "metadata": {},
   "source": [
    "Засчет изменения типов полей сэкономлено около 50% памяти."
   ]
  },
  {
   "cell_type": "markdown",
   "metadata": {},
   "source": [
    "**Вывод**"
   ]
  },
  {
   "cell_type": "markdown",
   "metadata": {},
   "source": [
    "В полях стажа и дохода для целей исследования достаточна целая часть значений, поэтому мы переводим эти поля в целочисленные типы. Метод to_numeric() не подходит, так как он возвращает тип float. Поэтому был использован метод astype()."
   ]
  },
  {
   "cell_type": "markdown",
   "metadata": {},
   "source": [
    "<a id=\"dubl\"></a>\n",
    "### Обработка дубликатов"
   ]
  },
  {
   "cell_type": "code",
   "execution_count": 7,
   "metadata": {},
   "outputs": [
    {
     "name": "stdout",
     "output_type": "stream",
     "text": [
      "0\n"
     ]
    },
    {
     "data": {
      "text/plain": [
       "среднее                14670\n",
       "высшее                  5154\n",
       "неоконченное высшее      743\n",
       "начальное                282\n",
       "ученая степень             6\n",
       "Name: education, dtype: int64"
      ]
     },
     "metadata": {},
     "output_type": "display_data"
    }
   ],
   "source": [
    "#Проверим таблицу поля на явные полные дубликаты\n",
    "df.duplicated().sum() #54 строки, избавимся от них\n",
    "df = df.drop_duplicates()\n",
    "#Проверим\n",
    "print(df.duplicated().sum()) \n",
    "\n",
    "#Проверим строковые поля на неявные дубликаты\n",
    "df['purpose'].value_counts() #здесь лучше обработать данные с помощью лемматизации\n",
    "df['gender'].value_counts() #странное значение 'XNA', но это не похоже дубликат\n",
    "df['family_status'].value_counts() #здесь все нормально\n",
    "df['education'].value_counts() #здесь полно неявных дубликатов, надо поработать с регистром\n",
    "\n",
    "#приводим образование к нижнему регистру\n",
    "df['education'] = df['education'].str.lower()\n",
    "#проверка\n",
    "display(df['education'].value_counts())\n"
   ]
  },
  {
   "cell_type": "markdown",
   "metadata": {},
   "source": [
    "**Вывод**"
   ]
  },
  {
   "cell_type": "markdown",
   "metadata": {},
   "source": [
    "Сначала были выявлены полные явные дубликаты, от них избавляемся методом drop_duplicates(). Затем с помощью value_counts() были просмотрены строковые поля на признак неявных дублей, были замечены проблемы с регистром в поле education и исправлены с помощью str.lower().\n",
    "\n",
    "Появление разнорегистровых дубликатов возможно произошло из-за человеческого фактора при вводе данных."
   ]
  },
  {
   "cell_type": "markdown",
   "metadata": {},
   "source": [
    "<a id=\"lemm\"></a>\n",
    "### Лемматизация"
   ]
  },
  {
   "cell_type": "code",
   "execution_count": 8,
   "metadata": {
    "scrolled": false
   },
   "outputs": [
    {
     "name": "stdout",
     "output_type": "stream",
     "text": [
      "['покупка', ' ', 'жилье', ' ', 'приобретение', ' ', 'автомобиль', ' ', 'дополнительный', ' ', 'образование', ' ', 'сыграть', ' ', 'свадьба', ' ', 'операция', ' ', 'с', ' ', 'жилье', ' ', 'образование', ' ', 'на', ' ', 'проведение', ' ', 'свадьба', ' ', 'покупка', ' ', 'жилье', ' ', 'для', ' ', 'семья', ' ', 'покупка', ' ', 'недвижимость', ' ', 'покупка', ' ', 'коммерческий', ' ', 'недвижимость', ' ', 'покупка', ' ', 'жилой', ' ', 'недвижимость', ' ', 'строительство', ' ', 'собственный', ' ', 'недвижимость', ' ', 'недвижимость', ' ', 'строительство', ' ', 'недвижимость', ' ', 'на', ' ', 'покупка', ' ', 'подержать', ' ', 'автомобиль', ' ', 'на', ' ', 'покупка', ' ', 'свой', ' ', 'автомобиль', ' ', 'операция', ' ', 'с', ' ', 'коммерческий', ' ', 'недвижимость', ' ', 'строительство', ' ', 'жилой', ' ', 'недвижимость', ' ', 'жилье', ' ', 'операция', ' ', 'со', ' ', 'свой', ' ', 'недвижимость', ' ', 'автомобиль', ' ', 'заниматься', ' ', 'образование', ' ', 'сделка', ' ', 'с', ' ', 'подержать', ' ', 'автомобиль', ' ', 'получение', ' ', 'образование', ' ', 'автомобиль', ' ', 'свадьба', ' ', 'получение', ' ', 'дополнительный', ' ', 'образование', ' ', 'покупка', ' ', 'свой', ' ', 'жилье', ' ', 'операция', ' ', 'с', ' ', 'недвижимость', ' ', 'получение', ' ', 'высокий', ' ', 'образование', ' ', 'свой', ' ', 'автомобиль', ' ', 'сделка', ' ', 'с', ' ', 'автомобиль', ' ', 'профильный', ' ', 'образование', ' ', 'высокий', ' ', 'образование', ' ', 'покупка', ' ', 'жилье', ' ', 'для', ' ', 'сдача', ' ', 'на', ' ', 'покупка', ' ', 'автомобиль', ' ', 'ремонт', ' ', 'жилье', ' ', 'заниматься', ' ', 'высокий', ' ', 'образование', '\\n']\n",
      "\n",
      "Counter({' ': 96, 'покупка': 10, 'недвижимость': 10, 'автомобиль': 9, 'образование': 9, 'жилье': 7, 'с': 5, 'операция': 4, 'на': 4, 'свой': 4, 'свадьба': 3, 'строительство': 3, 'получение': 3, 'высокий': 3, 'дополнительный': 2, 'для': 2, 'коммерческий': 2, 'жилой': 2, 'подержать': 2, 'заниматься': 2, 'сделка': 2, 'приобретение': 1, 'сыграть': 1, 'проведение': 1, 'семья': 1, 'собственный': 1, 'со': 1, 'профильный': 1, 'сдача': 1, 'ремонт': 1, '\\n': 1})\n"
     ]
    }
   ],
   "source": [
    "#Получаем список уникальных значений из поля purpose\n",
    "purpose_uniq = df['purpose'].unique()\n",
    "#print(purpose_uniq)\n",
    "\n",
    "#првевращаем список в строку для дальнейшей лемматизации\n",
    "purpose_uniq_str =' '.join(purpose_uniq)\n",
    "#print(purpose_uniq_str)\n",
    "\n",
    "#Лемматизируем полученную строку\n",
    "lemmas = m.lemmatize(purpose_uniq_str)\n",
    "print(lemmas) \n",
    "print()\n",
    "\n",
    "#подсчитаем вхождения лемм в строке\n",
    "from collections import Counter\n",
    "print(Counter(lemmas)) \n",
    "#Основные леммы выделены: недвижимсть, автомобиль, строительство, образование, свадьба, ремонт, жилье"
   ]
  },
  {
   "cell_type": "code",
   "execution_count": 9,
   "metadata": {
    "scrolled": false
   },
   "outputs": [
    {
     "data": {
      "text/html": [
       "<div>\n",
       "<style scoped>\n",
       "    .dataframe tbody tr th:only-of-type {\n",
       "        vertical-align: middle;\n",
       "    }\n",
       "\n",
       "    .dataframe tbody tr th {\n",
       "        vertical-align: top;\n",
       "    }\n",
       "\n",
       "    .dataframe thead th {\n",
       "        text-align: right;\n",
       "    }\n",
       "</style>\n",
       "<table border=\"1\" class=\"dataframe\">\n",
       "  <thead>\n",
       "    <tr style=\"text-align: right;\">\n",
       "      <th></th>\n",
       "      <th>children</th>\n",
       "      <th>days_employed</th>\n",
       "      <th>dob_years</th>\n",
       "      <th>education</th>\n",
       "      <th>education_id</th>\n",
       "      <th>family_status</th>\n",
       "      <th>family_status_id</th>\n",
       "      <th>gender</th>\n",
       "      <th>income_type</th>\n",
       "      <th>debt</th>\n",
       "      <th>total_income</th>\n",
       "      <th>purpose</th>\n",
       "      <th>purpose_cat</th>\n",
       "    </tr>\n",
       "  </thead>\n",
       "  <tbody>\n",
       "    <tr>\n",
       "      <th>0</th>\n",
       "      <td>1</td>\n",
       "      <td>8437</td>\n",
       "      <td>-77</td>\n",
       "      <td>высшее</td>\n",
       "      <td>0</td>\n",
       "      <td>женат / замужем</td>\n",
       "      <td>0</td>\n",
       "      <td>F</td>\n",
       "      <td>сотрудник</td>\n",
       "      <td>0</td>\n",
       "      <td>253875</td>\n",
       "      <td>покупка жилья</td>\n",
       "      <td>Недвижимсть</td>\n",
       "    </tr>\n",
       "    <tr>\n",
       "      <th>1</th>\n",
       "      <td>1</td>\n",
       "      <td>4024</td>\n",
       "      <td>-48</td>\n",
       "      <td>среднее</td>\n",
       "      <td>1</td>\n",
       "      <td>женат / замужем</td>\n",
       "      <td>0</td>\n",
       "      <td>F</td>\n",
       "      <td>сотрудник</td>\n",
       "      <td>0</td>\n",
       "      <td>112080</td>\n",
       "      <td>приобретение автомобиля</td>\n",
       "      <td>Автомобиль</td>\n",
       "    </tr>\n",
       "    <tr>\n",
       "      <th>2</th>\n",
       "      <td>0</td>\n",
       "      <td>5623</td>\n",
       "      <td>-35</td>\n",
       "      <td>среднее</td>\n",
       "      <td>1</td>\n",
       "      <td>женат / замужем</td>\n",
       "      <td>0</td>\n",
       "      <td>M</td>\n",
       "      <td>сотрудник</td>\n",
       "      <td>0</td>\n",
       "      <td>145885</td>\n",
       "      <td>покупка жилья</td>\n",
       "      <td>Недвижимсть</td>\n",
       "    </tr>\n",
       "    <tr>\n",
       "      <th>3</th>\n",
       "      <td>3</td>\n",
       "      <td>4124</td>\n",
       "      <td>108</td>\n",
       "      <td>среднее</td>\n",
       "      <td>1</td>\n",
       "      <td>женат / замужем</td>\n",
       "      <td>0</td>\n",
       "      <td>M</td>\n",
       "      <td>сотрудник</td>\n",
       "      <td>0</td>\n",
       "      <td>267628</td>\n",
       "      <td>дополнительное образование</td>\n",
       "      <td>Образование</td>\n",
       "    </tr>\n",
       "    <tr>\n",
       "      <th>4</th>\n",
       "      <td>0</td>\n",
       "      <td>340266</td>\n",
       "      <td>-104</td>\n",
       "      <td>среднее</td>\n",
       "      <td>1</td>\n",
       "      <td>гражданский брак</td>\n",
       "      <td>1</td>\n",
       "      <td>F</td>\n",
       "      <td>пенсионер</td>\n",
       "      <td>0</td>\n",
       "      <td>158616</td>\n",
       "      <td>сыграть свадьбу</td>\n",
       "      <td>Свадьба</td>\n",
       "    </tr>\n",
       "    <tr>\n",
       "      <th>5</th>\n",
       "      <td>0</td>\n",
       "      <td>926</td>\n",
       "      <td>19</td>\n",
       "      <td>высшее</td>\n",
       "      <td>0</td>\n",
       "      <td>гражданский брак</td>\n",
       "      <td>1</td>\n",
       "      <td>M</td>\n",
       "      <td>компаньон</td>\n",
       "      <td>0</td>\n",
       "      <td>255763</td>\n",
       "      <td>покупка жилья</td>\n",
       "      <td>Недвижимсть</td>\n",
       "    </tr>\n",
       "    <tr>\n",
       "      <th>6</th>\n",
       "      <td>0</td>\n",
       "      <td>2879</td>\n",
       "      <td>-115</td>\n",
       "      <td>высшее</td>\n",
       "      <td>0</td>\n",
       "      <td>женат / замужем</td>\n",
       "      <td>0</td>\n",
       "      <td>F</td>\n",
       "      <td>компаньон</td>\n",
       "      <td>0</td>\n",
       "      <td>240525</td>\n",
       "      <td>операции с жильем</td>\n",
       "      <td>Недвижимсть</td>\n",
       "    </tr>\n",
       "    <tr>\n",
       "      <th>7</th>\n",
       "      <td>0</td>\n",
       "      <td>152</td>\n",
       "      <td>-113</td>\n",
       "      <td>среднее</td>\n",
       "      <td>1</td>\n",
       "      <td>женат / замужем</td>\n",
       "      <td>0</td>\n",
       "      <td>M</td>\n",
       "      <td>сотрудник</td>\n",
       "      <td>0</td>\n",
       "      <td>135823</td>\n",
       "      <td>образование</td>\n",
       "      <td>Образование</td>\n",
       "    </tr>\n",
       "    <tr>\n",
       "      <th>8</th>\n",
       "      <td>2</td>\n",
       "      <td>6929</td>\n",
       "      <td>112</td>\n",
       "      <td>высшее</td>\n",
       "      <td>0</td>\n",
       "      <td>гражданский брак</td>\n",
       "      <td>1</td>\n",
       "      <td>F</td>\n",
       "      <td>сотрудник</td>\n",
       "      <td>0</td>\n",
       "      <td>95856</td>\n",
       "      <td>на проведение свадьбы</td>\n",
       "      <td>Свадьба</td>\n",
       "    </tr>\n",
       "    <tr>\n",
       "      <th>9</th>\n",
       "      <td>0</td>\n",
       "      <td>2188</td>\n",
       "      <td>41</td>\n",
       "      <td>среднее</td>\n",
       "      <td>1</td>\n",
       "      <td>женат / замужем</td>\n",
       "      <td>0</td>\n",
       "      <td>M</td>\n",
       "      <td>сотрудник</td>\n",
       "      <td>0</td>\n",
       "      <td>144425</td>\n",
       "      <td>покупка жилья для семьи</td>\n",
       "      <td>Недвижимсть</td>\n",
       "    </tr>\n",
       "  </tbody>\n",
       "</table>\n",
       "</div>"
      ],
      "text/plain": [
       "   children  days_employed  dob_years education  education_id  \\\n",
       "0         1           8437        -77    высшее             0   \n",
       "1         1           4024        -48   среднее             1   \n",
       "2         0           5623        -35   среднее             1   \n",
       "3         3           4124        108   среднее             1   \n",
       "4         0         340266       -104   среднее             1   \n",
       "5         0            926         19    высшее             0   \n",
       "6         0           2879       -115    высшее             0   \n",
       "7         0            152       -113   среднее             1   \n",
       "8         2           6929        112    высшее             0   \n",
       "9         0           2188         41   среднее             1   \n",
       "\n",
       "      family_status  family_status_id gender income_type  debt  total_income  \\\n",
       "0   женат / замужем                 0      F   сотрудник     0        253875   \n",
       "1   женат / замужем                 0      F   сотрудник     0        112080   \n",
       "2   женат / замужем                 0      M   сотрудник     0        145885   \n",
       "3   женат / замужем                 0      M   сотрудник     0        267628   \n",
       "4  гражданский брак                 1      F   пенсионер     0        158616   \n",
       "5  гражданский брак                 1      M   компаньон     0        255763   \n",
       "6   женат / замужем                 0      F   компаньон     0        240525   \n",
       "7   женат / замужем                 0      M   сотрудник     0        135823   \n",
       "8  гражданский брак                 1      F   сотрудник     0         95856   \n",
       "9   женат / замужем                 0      M   сотрудник     0        144425   \n",
       "\n",
       "                      purpose  purpose_cat  \n",
       "0               покупка жилья  Недвижимсть  \n",
       "1     приобретение автомобиля   Автомобиль  \n",
       "2               покупка жилья  Недвижимсть  \n",
       "3  дополнительное образование  Образование  \n",
       "4             сыграть свадьбу      Свадьба  \n",
       "5               покупка жилья  Недвижимсть  \n",
       "6           операции с жильем  Недвижимсть  \n",
       "7                 образование  Образование  \n",
       "8       на проведение свадьбы      Свадьба  \n",
       "9     покупка жилья для семьи  Недвижимсть  "
      ]
     },
     "metadata": {},
     "output_type": "display_data"
    }
   ],
   "source": [
    "#Напишем функцию, которая будет лематизировать строки столбца purpose и проверять, какая из категорий там обнаруживается,\n",
    "#чтобы затем категоризировать данные:\n",
    "def lemma_func (row):\n",
    "    \n",
    "    purpose = row['purpose']\n",
    "    \n",
    "    for i in range(len(df)):\n",
    "        try: \n",
    "\n",
    "            if 'ремонт' in  m.lemmatize(purpose):\n",
    "                return 'Ремонт'\n",
    "            elif  'недвижимсть' in  m.lemmatize(purpose):\n",
    "                return 'Недвижимсть'\n",
    "            elif 'жилье' in  m.lemmatize(purpose):\n",
    "                return 'Недвижимсть'\n",
    "            elif 'строительство' in  m.lemmatize(purpose):\n",
    "                return 'Недвижимсть'\n",
    "            elif 'автомобиль' in  m.lemmatize(purpose):\n",
    "                return 'Автомобиль'\n",
    "            elif 'образование' in  m.lemmatize(purpose):\n",
    "                return 'Образование'\n",
    "            elif 'свадьба' in  m.lemmatize(purpose):\n",
    "                return 'Свадьба'\n",
    "            else:\n",
    "                return 'Другое'\n",
    "        except:\n",
    "            return 'Ошибка' \n",
    "    \n",
    "df['purpose_cat'] = df.apply(lemma_func, axis=1)\n",
    "display(df.head(10))  "
   ]
  },
  {
   "cell_type": "markdown",
   "metadata": {},
   "source": [
    "**Вывод**"
   ]
  },
  {
   "cell_type": "markdown",
   "metadata": {},
   "source": [
    "Выделены основные леммы: недвижимсть, автомобиль, строительство, образование, свадьба, ремонт, жилье. Создана функция, соотносящая цели по категориям целей исходя из выводов лемматизации. Функция применена к отдельному полю, теперь можно разбить данные на словари и основной датафрейм."
   ]
  },
  {
   "cell_type": "markdown",
   "metadata": {},
   "source": [
    "<a id=\"categ\"></a>\n",
    "### Категоризация данных"
   ]
  },
  {
   "cell_type": "code",
   "execution_count": 10,
   "metadata": {
    "scrolled": true
   },
   "outputs": [
    {
     "data": {
      "text/html": [
       "<div>\n",
       "<style scoped>\n",
       "    .dataframe tbody tr th:only-of-type {\n",
       "        vertical-align: middle;\n",
       "    }\n",
       "\n",
       "    .dataframe tbody tr th {\n",
       "        vertical-align: top;\n",
       "    }\n",
       "\n",
       "    .dataframe thead th {\n",
       "        text-align: right;\n",
       "    }\n",
       "</style>\n",
       "<table border=\"1\" class=\"dataframe\">\n",
       "  <thead>\n",
       "    <tr style=\"text-align: right;\">\n",
       "      <th></th>\n",
       "      <th>family_status_id</th>\n",
       "      <th>family_status</th>\n",
       "    </tr>\n",
       "  </thead>\n",
       "  <tbody>\n",
       "    <tr>\n",
       "      <th>0</th>\n",
       "      <td>0</td>\n",
       "      <td>женат / замужем</td>\n",
       "    </tr>\n",
       "    <tr>\n",
       "      <th>1</th>\n",
       "      <td>1</td>\n",
       "      <td>гражданский брак</td>\n",
       "    </tr>\n",
       "    <tr>\n",
       "      <th>2</th>\n",
       "      <td>2</td>\n",
       "      <td>вдовец / вдова</td>\n",
       "    </tr>\n",
       "    <tr>\n",
       "      <th>3</th>\n",
       "      <td>3</td>\n",
       "      <td>в разводе</td>\n",
       "    </tr>\n",
       "    <tr>\n",
       "      <th>4</th>\n",
       "      <td>4</td>\n",
       "      <td>Не женат / не замужем</td>\n",
       "    </tr>\n",
       "  </tbody>\n",
       "</table>\n",
       "</div>"
      ],
      "text/plain": [
       "   family_status_id          family_status\n",
       "0                 0        женат / замужем\n",
       "1                 1       гражданский брак\n",
       "2                 2         вдовец / вдова\n",
       "3                 3              в разводе\n",
       "4                 4  Не женат / не замужем"
      ]
     },
     "metadata": {},
     "output_type": "display_data"
    }
   ],
   "source": [
    "#Для целей исследования разделим таблицу на основной датафрейм credit_info и таблицы-справочники.\n",
    "#Основной датафрэйм:\n",
    "credit_info = df[['children','days_employed','days_employed','dob_years','days_employed','education_id','family_status_id','gender','income_type','debt','total_income','purpose_cat']]\n",
    "credit_info\n",
    "\n",
    "#Справочник по образованию заемщика:\n",
    "education_dict = df[['education_id', 'education']]\n",
    "#удалим дубликаты\n",
    "education_dict = education_dict.drop_duplicates().reset_index(drop=True)\n",
    "education_dict.head(15)\n",
    "\n",
    "#Справочник по семейному статусу заемщика:\n",
    "family_status_dict = df[['family_status_id', 'family_status']]\n",
    "#удалим дубликаты\n",
    "family_status_dict = family_status_dict.drop_duplicates().reset_index(drop=True)\n",
    "display(family_status_dict.head(15))\n"
   ]
  },
  {
   "cell_type": "markdown",
   "metadata": {},
   "source": [
    "**Вывод**"
   ]
  },
  {
   "cell_type": "markdown",
   "metadata": {},
   "source": [
    "Данные были категоризированы на основной датафрэйм и на словари по образованию и по семейному статусу. Эти словари были выбраны потому, что значения в них ограничены и немногочисленны, а в основной таблице удобнее будет работать с числами."
   ]
  },
  {
   "cell_type": "markdown",
   "metadata": {},
   "source": [
    "<a id=\"answer\"></a>\n",
    "## Ответы на вопросы исследования"
   ]
  },
  {
   "cell_type": "markdown",
   "metadata": {},
   "source": [
    "<a id=\"ans1\"></a>\n",
    "### Есть ли зависимость между наличием детей и возвратом кредита в срок?"
   ]
  },
  {
   "cell_type": "code",
   "execution_count": 11,
   "metadata": {
    "scrolled": false
   },
   "outputs": [
    {
     "data": {
      "text/html": [
       "<div>\n",
       "<style scoped>\n",
       "    .dataframe tbody tr th:only-of-type {\n",
       "        vertical-align: middle;\n",
       "    }\n",
       "\n",
       "    .dataframe tbody tr th {\n",
       "        vertical-align: top;\n",
       "    }\n",
       "\n",
       "    .dataframe thead th {\n",
       "        text-align: right;\n",
       "    }\n",
       "</style>\n",
       "<table border=\"1\" class=\"dataframe\">\n",
       "  <thead>\n",
       "    <tr style=\"text-align: right;\">\n",
       "      <th></th>\n",
       "      <th>debt</th>\n",
       "    </tr>\n",
       "    <tr>\n",
       "      <th>children_cat</th>\n",
       "      <th></th>\n",
       "    </tr>\n",
       "  </thead>\n",
       "  <tbody>\n",
       "    <tr>\n",
       "      <th>Малодетные</th>\n",
       "      <td>0.094211</td>\n",
       "    </tr>\n",
       "    <tr>\n",
       "      <th>Многодетные</th>\n",
       "      <td>0.085714</td>\n",
       "    </tr>\n",
       "    <tr>\n",
       "      <th>Бездетные</th>\n",
       "      <td>0.077488</td>\n",
       "    </tr>\n",
       "  </tbody>\n",
       "</table>\n",
       "</div>"
      ],
      "text/plain": [
       "                  debt\n",
       "children_cat          \n",
       "Малодетные    0.094211\n",
       "Многодетные   0.085714\n",
       "Бездетные     0.077488"
      ]
     },
     "metadata": {},
     "output_type": "display_data"
    },
    {
     "data": {
      "text/html": [
       "<div>\n",
       "<style scoped>\n",
       "    .dataframe tbody tr th:only-of-type {\n",
       "        vertical-align: middle;\n",
       "    }\n",
       "\n",
       "    .dataframe tbody tr th {\n",
       "        vertical-align: top;\n",
       "    }\n",
       "\n",
       "    .dataframe thead th {\n",
       "        text-align: right;\n",
       "    }\n",
       "</style>\n",
       "<table border=\"1\" class=\"dataframe\">\n",
       "  <thead>\n",
       "    <tr style=\"text-align: right;\">\n",
       "      <th></th>\n",
       "      <th>debt</th>\n",
       "    </tr>\n",
       "    <tr>\n",
       "      <th>children_cat</th>\n",
       "      <th></th>\n",
       "    </tr>\n",
       "  </thead>\n",
       "  <tbody>\n",
       "    <tr>\n",
       "      <th>С детьми</th>\n",
       "      <td>0.093676</td>\n",
       "    </tr>\n",
       "    <tr>\n",
       "      <th>Бездетные</th>\n",
       "      <td>0.077488</td>\n",
       "    </tr>\n",
       "  </tbody>\n",
       "</table>\n",
       "</div>"
      ],
      "text/plain": [
       "                  debt\n",
       "children_cat          \n",
       "С детьми      0.093676\n",
       "Бездетные     0.077488"
      ]
     },
     "metadata": {},
     "output_type": "display_data"
    },
    {
     "data": {
      "image/png": "[encoded data removed]",
      "text/plain": [
       "<Figure size 432x288 with 1 Axes>"
      ]
     },
     "metadata": {
      "needs_background": "light"
     },
     "output_type": "display_data"
    }
   ],
   "source": [
    "#Сгруппируем данные о количестве детей для удобства представления будущего результата. Используем для этого функцию.\n",
    "def children_cnt_func (row):\n",
    "\n",
    "    children = row['children']   \n",
    "    for i in range(len(credit_info)):\n",
    "        try: \n",
    "            if children == 0:\n",
    "                return 'Бездетные'\n",
    "            elif children > 0 and children < 3:\n",
    "                return 'Малодетные'\n",
    "            elif children > 2:\n",
    "                return 'Многодетные'\n",
    "        except:\n",
    "            return 'Ошибка'\n",
    "credit_info['children_cat'] = credit_info.apply(children_cnt_func, axis=1)\n",
    "credit_info.head(10)\n",
    "\n",
    "#Посмотрим каково среднее значение debt для разных категорий по количеству детей\n",
    "data_pivot_det = credit_info.pivot_table(index=['children_cat'], values='debt', aggfunc='mean')\n",
    "display(data_pivot_det.sort_values('debt', ascending = False))\n",
    "#возврат кредита у мало и многодетных отличается не сильно, но положительная зависимость прослеживается. \n",
    "\n",
    "#Поскольку мало и многодетные не слишком различаются по debt, объединим эти категории в одну\n",
    "def children_cnt_func2 (row):\n",
    "    children = row['children']   \n",
    "    for i in range(len(credit_info)):\n",
    "        try:  \n",
    "            if children == 0:\n",
    "                return 'Бездетные'\n",
    "            elif children > 0:\n",
    "                return 'С детьми'\n",
    "        except:\n",
    "            return 'Ошибка'\n",
    "        \n",
    "credit_info['children_cat'] = credit_info.apply(children_cnt_func2, axis=1)\n",
    "credit_info.head(10)      \n",
    "data_pivot_det = credit_info.pivot_table(index=['children_cat'], values='debt', aggfunc='mean')\n",
    "display(data_pivot_det.sort_values('debt', ascending = False))\n",
    "\n",
    "'''\n",
    "#Процент бездетных среди невыплативших кредит в срок:\n",
    "bezdet_debt = credit_info[(credit_info['children'] == 0) & (credit_info['debt'] == 0)]['children'].count()\n",
    "bezdet_nodebt = credit_info[(credit_info['children'] == 0) & (credit_info['debt'] == 1)]['children'].count()\n",
    "total = len(credit_info['children'])\n",
    "print('Процент бездетных среди невыплативших кредит в срок {:.0%}'.format(bezdet_debt/total)) \n",
    "print('Процент бездетных среди выплативших кредит в срок {:.0%}'.format(bezdet_nodebt/total)) \n",
    "#Данное сравнение некорректно, так как бездетных в выборке сильно меньше, чем людей с детьми.\n",
    "'''\n",
    "\n",
    "#Построим график зависимости между количеством детей и возвратом долга\n",
    "sb.barplot(data=credit_info, x=\"children\", y=\"debt\")\n",
    "\n",
    "#Обнаглеем и предположим, что 20 детей это перебор и имелось ввиду 2\n",
    "credit_info['children'] = credit_info['children'].replace(20, 2)\n",
    "# перестроим график\n",
    "bar1 = sb.barplot(data=credit_info, x=\"children\", y=\"debt\")\n",
    "bar1.set(title='Влияние кол-ва детей заемщика на возврат кредита', xlabel='Кол-во детей заемщика, шт.', ylabel='Возврат по кредиту')\n",
    "plt.show()"
   ]
  },
  {
   "cell_type": "markdown",
   "metadata": {},
   "source": [
    "**Вывод**"
   ]
  },
  {
   "cell_type": "markdown",
   "metadata": {},
   "source": [
    "Некоторая зависимость между наличием детей и возвратом кредита в срок прослеживается в данной выборке и она положительная. Однако у людей с тремя детьми видно некоторое снижение платежеспособности относительно соседних категорий."
   ]
  },
  {
   "cell_type": "markdown",
   "metadata": {},
   "source": [
    "<a id=\"ans2\"></a>\n",
    "### Есть ли зависимость между семейным положением и возвратом кредита в срок?"
   ]
  },
  {
   "cell_type": "code",
   "execution_count": 12,
   "metadata": {},
   "outputs": [
    {
     "data": {
      "text/html": [
       "<div>\n",
       "<style scoped>\n",
       "    .dataframe tbody tr th:only-of-type {\n",
       "        vertical-align: middle;\n",
       "    }\n",
       "\n",
       "    .dataframe tbody tr th {\n",
       "        vertical-align: top;\n",
       "    }\n",
       "\n",
       "    .dataframe thead th {\n",
       "        text-align: right;\n",
       "    }\n",
       "</style>\n",
       "<table border=\"1\" class=\"dataframe\">\n",
       "  <thead>\n",
       "    <tr style=\"text-align: right;\">\n",
       "      <th></th>\n",
       "      <th>debt</th>\n",
       "    </tr>\n",
       "    <tr>\n",
       "      <th>family_status</th>\n",
       "      <th></th>\n",
       "    </tr>\n",
       "  </thead>\n",
       "  <tbody>\n",
       "    <tr>\n",
       "      <th>Не женат / не замужем</th>\n",
       "      <td>0.099096</td>\n",
       "    </tr>\n",
       "    <tr>\n",
       "      <th>гражданский брак</th>\n",
       "      <td>0.095238</td>\n",
       "    </tr>\n",
       "    <tr>\n",
       "      <th>женат / замужем</th>\n",
       "      <td>0.077716</td>\n",
       "    </tr>\n",
       "    <tr>\n",
       "      <th>в разводе</th>\n",
       "      <td>0.071730</td>\n",
       "    </tr>\n",
       "    <tr>\n",
       "      <th>вдовец / вдова</th>\n",
       "      <td>0.066667</td>\n",
       "    </tr>\n",
       "  </tbody>\n",
       "</table>\n",
       "</div>"
      ],
      "text/plain": [
       "                           debt\n",
       "family_status                  \n",
       "Не женат / не замужем  0.099096\n",
       "гражданский брак       0.095238\n",
       "женат / замужем        0.077716\n",
       "в разводе              0.071730\n",
       "вдовец / вдова         0.066667"
      ]
     },
     "metadata": {},
     "output_type": "display_data"
    },
    {
     "data": {
      "image/png": "[encoded data removed]",
      "text/plain": [
       "<Figure size 432x288 with 1 Axes>"
      ]
     },
     "metadata": {
      "needs_background": "light"
     },
     "output_type": "display_data"
    }
   ],
   "source": [
    "#вернем словарь по семейному статусу для текущего исследования\n",
    "credit_info_family = credit_info.merge(family_status_dict, on='family_status_id', how='left')\n",
    "credit_info_family.head(10)   \n",
    "\n",
    "#Посмотрим каково среднее значение debt для разных категорий по семейному статусу\n",
    "data_pivot_fam = credit_info_family.pivot_table(index=['family_status'], values='debt', aggfunc='mean')\n",
    "display(data_pivot_fam.sort_values('debt', ascending = False))\n",
    "\n",
    "#Построим график зависимости между семейным статусом и возвратом долга\n",
    "credit_info_family['family_status'] = credit_info_family['family_status'].replace('Не женат / не замужем','Вне брака').replace('гражданский брак','Гражд.').replace('женат / замужем','В браке').replace('в разводе','Разв.').replace('вдовец / вдова','Вдов.')\n",
    "\n",
    "bar2 = sb.barplot(data=credit_info_family, x=\"family_status\", y=\"debt\")\n",
    "bar2.set(title='Влияние семейного статуса заемщика на возврат кредита', xlabel='Семейный статус', ylabel='Возврат по кредиту')\n",
    "plt.show()"
   ]
  },
  {
   "cell_type": "markdown",
   "metadata": {},
   "source": [
    "**Вывод**"
   ]
  },
  {
   "cell_type": "markdown",
   "metadata": {},
   "source": [
    "Несмотря на то, что люди со статусом \"Не женат / не замужем\" в данной выборке чаще возвращают кредит в срок, говорить о наличии четкой зависимости здесть некорректно.\n",
    "Категория \"Не женат / не замужем\" может совпадать со всеми категориями, кроме \"женат / замужем\" и рассматривать ее отдельно было бы неправильно.\n",
    "Среди остальных категорий можно выделить \"Гражданский брак\", здесь высокий процент платежеспособности. В категориях \"в разводе\" и \"вдовец / вдова\" возвраты по кредитам ниже среднего."
   ]
  },
  {
   "cell_type": "markdown",
   "metadata": {},
   "source": [
    "<a id=\"ans3\"></a>\n",
    "### Есть ли зависимость между уровнем дохода и возвратом кредита в срок?"
   ]
  },
  {
   "cell_type": "code",
   "execution_count": 13,
   "metadata": {},
   "outputs": [
    {
     "data": {
      "text/html": [
       "<div>\n",
       "<style scoped>\n",
       "    .dataframe tbody tr th:only-of-type {\n",
       "        vertical-align: middle;\n",
       "    }\n",
       "\n",
       "    .dataframe tbody tr th {\n",
       "        vertical-align: top;\n",
       "    }\n",
       "\n",
       "    .dataframe thead th {\n",
       "        text-align: right;\n",
       "    }\n",
       "</style>\n",
       "<table border=\"1\" class=\"dataframe\">\n",
       "  <thead>\n",
       "    <tr style=\"text-align: right;\">\n",
       "      <th></th>\n",
       "      <th>debt</th>\n",
       "    </tr>\n",
       "    <tr>\n",
       "      <th>total_income_cat</th>\n",
       "      <th></th>\n",
       "    </tr>\n",
       "  </thead>\n",
       "  <tbody>\n",
       "    <tr>\n",
       "      <th>120-200 т.р</th>\n",
       "      <td>0.092129</td>\n",
       "    </tr>\n",
       "    <tr>\n",
       "      <th>&lt;30 т.р</th>\n",
       "      <td>0.090909</td>\n",
       "    </tr>\n",
       "    <tr>\n",
       "      <th>70-120 т.р</th>\n",
       "      <td>0.083783</td>\n",
       "    </tr>\n",
       "    <tr>\n",
       "      <th>&gt;1000 т.р.</th>\n",
       "      <td>0.080000</td>\n",
       "    </tr>\n",
       "    <tr>\n",
       "      <th>300-500 т.р</th>\n",
       "      <td>0.073016</td>\n",
       "    </tr>\n",
       "    <tr>\n",
       "      <th>200-300 т.р</th>\n",
       "      <td>0.070312</td>\n",
       "    </tr>\n",
       "    <tr>\n",
       "      <th>30-70 т.р</th>\n",
       "      <td>0.068182</td>\n",
       "    </tr>\n",
       "    <tr>\n",
       "      <th>500-1000 т.р</th>\n",
       "      <td>0.060914</td>\n",
       "    </tr>\n",
       "  </tbody>\n",
       "</table>\n",
       "</div>"
      ],
      "text/plain": [
       "                      debt\n",
       "total_income_cat          \n",
       "120-200 т.р       0.092129\n",
       "<30 т.р           0.090909\n",
       "70-120 т.р        0.083783\n",
       ">1000 т.р.        0.080000\n",
       "300-500 т.р       0.073016\n",
       "200-300 т.р       0.070312\n",
       "30-70 т.р         0.068182\n",
       "500-1000 т.р      0.060914"
      ]
     },
     "metadata": {},
     "output_type": "display_data"
    },
    {
     "data": {
      "image/png": "[encoded data removed]",
      "text/plain": [
       "<Figure size 432x288 with 1 Axes>"
      ]
     },
     "metadata": {
      "needs_background": "light"
     },
     "output_type": "display_data"
    }
   ],
   "source": [
    "#Сгруппируем данные о доходе. Используем для этого функцию.\n",
    "def income_func (row):\n",
    "\n",
    "    total_income = row['total_income']   \n",
    "    for i in range(len(credit_info)):\n",
    "        try: \n",
    "            if total_income <= 30000:\n",
    "                return '<30 т.р'\n",
    "            elif total_income > 30000 and total_income <= 70000:\n",
    "                return '30-70 т.р'\n",
    "            elif total_income > 70000 and total_income <= 120000:\n",
    "                return '70-120 т.р'\n",
    "            elif total_income > 120000 and total_income <= 200000:\n",
    "                return '120-200 т.р'\n",
    "            elif total_income > 200000 and total_income <= 300000:\n",
    "                return '200-300 т.р'\n",
    "            elif total_income > 300000 and total_income <= 500000:\n",
    "                return '300-500 т.р'\n",
    "            elif total_income > 500000 and total_income <= 1000000:\n",
    "                return '500-1000 т.р'\n",
    "            elif total_income > 1000000:\n",
    "                return '>1000 т.р.'\n",
    "        except:\n",
    "            return 'Ошибка'\n",
    "        \n",
    "credit_info['total_income_cat'] = credit_info.apply(income_func, axis=1)\n",
    "credit_info.head(10)\n",
    "\n",
    "#Посмотрим каково среднее значение debt для разных категорий по ежемесячному доходу\n",
    "data_pivot_inc = credit_info.pivot_table(index=['total_income_cat'], values='debt', aggfunc='mean')\n",
    "display(data_pivot_inc.sort_values('debt', ascending = False))\n",
    "\n",
    "#Построим график зависимости между ежемесячным доходом и возвратом долга\n",
    "\n",
    "bar3 = sb.barplot(data=credit_info, y=\"total_income_cat\", x=\"debt\")\n",
    "bar3.set(title='Влияние доходов заемщика на возврат кредита', xlabel='Возврат по кредиту', ylabel='Ежемесячный доход, тыс.р.')\n",
    "plt.show()\n",
    "\n"
   ]
  },
  {
   "cell_type": "markdown",
   "metadata": {},
   "source": [
    "**Вывод**"
   ]
  },
  {
   "cell_type": "markdown",
   "metadata": {},
   "source": [
    "Четкая зависимость между ежемесячным доходом и возвратом кредита в срок не прослеживается. В категории самого низкого дохода чаще всего кредит возвращается в срок, однако по остальным значениям происходит случайный разброс, а минимумы приходятся на совершенно разные категории 30-70 т.р и 500-1000 т.р."
   ]
  },
  {
   "cell_type": "markdown",
   "metadata": {},
   "source": [
    "<a id=\"ans4\"></a>\n",
    "### Как разные цели кредита влияют на его возврат в срок?"
   ]
  },
  {
   "cell_type": "code",
   "execution_count": 14,
   "metadata": {},
   "outputs": [
    {
     "data": {
      "text/html": [
       "<div>\n",
       "<style scoped>\n",
       "    .dataframe tbody tr th:only-of-type {\n",
       "        vertical-align: middle;\n",
       "    }\n",
       "\n",
       "    .dataframe tbody tr th {\n",
       "        vertical-align: top;\n",
       "    }\n",
       "\n",
       "    .dataframe thead th {\n",
       "        text-align: right;\n",
       "    }\n",
       "</style>\n",
       "<table border=\"1\" class=\"dataframe\">\n",
       "  <thead>\n",
       "    <tr style=\"text-align: right;\">\n",
       "      <th></th>\n",
       "      <th>debt</th>\n",
       "    </tr>\n",
       "    <tr>\n",
       "      <th>purpose_cat</th>\n",
       "      <th></th>\n",
       "    </tr>\n",
       "  </thead>\n",
       "  <tbody>\n",
       "    <tr>\n",
       "      <th>Автомобиль</th>\n",
       "      <td>0.095408</td>\n",
       "    </tr>\n",
       "    <tr>\n",
       "      <th>Образование</th>\n",
       "      <td>0.094220</td>\n",
       "    </tr>\n",
       "    <tr>\n",
       "      <th>Свадьба</th>\n",
       "      <td>0.081982</td>\n",
       "    </tr>\n",
       "    <tr>\n",
       "      <th>Другое</th>\n",
       "      <td>0.075859</td>\n",
       "    </tr>\n",
       "    <tr>\n",
       "      <th>Недвижимсть</th>\n",
       "      <td>0.074592</td>\n",
       "    </tr>\n",
       "    <tr>\n",
       "      <th>Ремонт</th>\n",
       "      <td>0.059222</td>\n",
       "    </tr>\n",
       "  </tbody>\n",
       "</table>\n",
       "</div>"
      ],
      "text/plain": [
       "                 debt\n",
       "purpose_cat          \n",
       "Автомобиль   0.095408\n",
       "Образование  0.094220\n",
       "Свадьба      0.081982\n",
       "Другое       0.075859\n",
       "Недвижимсть  0.074592\n",
       "Ремонт       0.059222"
      ]
     },
     "metadata": {},
     "output_type": "display_data"
    },
    {
     "data": {
      "image/png": "[encoded data removed]",
      "text/plain": [
       "<Figure size 432x288 with 1 Axes>"
      ]
     },
     "metadata": {
      "needs_background": "light"
     },
     "output_type": "display_data"
    }
   ],
   "source": [
    "#Посмотрим каково среднее значение debt по разным целям кредита\n",
    "data_pivot_purp = credit_info.pivot_table(index=['purpose_cat'], values='debt', aggfunc='mean')\n",
    "display(data_pivot_purp.sort_values('debt', ascending = False))\n",
    "\n",
    "#Построим график зависимости между семейным статусом и возвратом долга\n",
    "sb.barplot(data=credit_info, x=\"debt\", y=\"purpose_cat\")\n",
    "\n",
    "bar4 = sb.barplot(data=credit_info, y=\"purpose_cat\", x=\"debt\")\n",
    "bar4.set(title='Влияние целей займа на возврат кредита', xlabel='Возврат по кредиту', ylabel='Цель займа')\n",
    "plt.show()"
   ]
  },
  {
   "cell_type": "markdown",
   "metadata": {},
   "source": [
    "**Вывод**"
   ]
  },
  {
   "cell_type": "markdown",
   "metadata": {},
   "source": [
    "Судя по графику, чаще в срок возвращают кредит заемщики, которые берут его для покупки автомобиля и в целях образования. На втором месте идут свадебные цели. Заемщики, берущие кредит в целях операций с недвижимостью и для других (неопределенных в исследовании) целей занимают третье место. На последнем месте по возвратам оказались заемщики с целями по ремонту."
   ]
  },
  {
   "cell_type": "markdown",
   "metadata": {},
   "source": [
    "<a id=\"summary\"></a>\n",
    "## Общий вывод"
   ]
  },
  {
   "cell_type": "markdown",
   "metadata": {},
   "source": [
    "* В данных предложенных для исследования были выявлены явные и неявные дубликаты, пропуски, артефакты в виде отрицательных чисел в полях, где их не должно быть.\n",
    "* Проведена предобработка данных, пропуски в количественных характеристиках были заполнены медианным методом, явные дубликаты удалены, неявные дубликаты строковых типов устранены с помощью приведения к одному регистру.\n",
    "* Данные были лемматизированы и разбиты на категории для удобства исследования и предоставлений результата.\n",
    "\n",
    "Были получены ответы на вопросы исследования:\n",
    "\n",
    "1.Есть ли зависимость между наличием детей и возвратом кредита в срок?<br>`Некоторая зависимость между наличием детей и возвратом кредита в срок прослеживается в данной выборке и она положительная. В среднем доля возвратов кредита в срок у заемщиков с детьми 93% , в то время как у бездетных заемщиков 77%.`\n",
    "\n",
    "2.Есть ли зависимость между семейным положением и возвратом кредита в срок?<br>`Четкой зависимости не выявлено. Наиболее часто (99% и 95% соответственно) в срок возвращаются кредиты у заемщиков вне брака, а также в гражданском браке. Снижение возвращаемости займа наблюдается у категорий в браке и в разводе - 77% и 71% соответственно. Наиболее низкий процент возвратов в категории вдовец/вдова, всего 67%.`\n",
    "\n",
    "3.Есть ли зависимость между уровнем дохода и возвратом кредита в срок?<br>`Четкой зависимости не выявлено. В категории самого низкого дохода (менее 30т.р. в месяц) чаще всего кредит возвращается в срок (91%), однако по остальным значениям происходит случайный разброс, а минимумы приходятся на совершенно разные категории 30-70 т.р и 500-1000 т.р. - 68% и 61% соответственно.`\n",
    "\n",
    "4.Как разные цели кредита влияют на его возврат в срок?<br>`Чаще в срок возвращают кредит заемщики, которые берут его для покупки автомобиля (95% случаев) и в целях образования (94% случаев). На втором месте идут свадебные цели (82%). Заемщики, берущие кредит в целях операций с недвижимостью (75%) и для других (неопределенных в исследовании) целей (76%) занимают третье место. На последнем месте по возвратам оказались заемщики с целями по ремонту - всего 59% возвратов.`"
   ]
  }
 ],
 "metadata": {
  "ExecuteTimeLog": [
   {
    "duration": 868,
    "start_time": "2021-11-18T15:11:17.704Z"
   },
   {
    "duration": 30,
    "start_time": "2021-11-18T15:11:18.574Z"
   },
   {
    "duration": 31,
    "start_time": "2021-11-18T15:11:18.607Z"
   },
   {
    "duration": 108,
    "start_time": "2021-11-18T15:11:18.641Z"
   },
   {
    "duration": 931,
    "start_time": "2021-11-18T15:11:18.752Z"
   },
   {
    "duration": 16522,
    "start_time": "2021-11-18T15:11:19.686Z"
   },
   {
    "duration": 6,
    "start_time": "2021-11-18T15:11:36.211Z"
   },
   {
    "duration": 32,
    "start_time": "2021-11-18T15:30:11.281Z"
   },
   {
    "duration": 37,
    "start_time": "2021-11-18T15:31:01.249Z"
   },
   {
    "duration": 20,
    "start_time": "2021-11-18T15:35:03.989Z"
   },
   {
    "duration": 19,
    "start_time": "2021-11-18T15:35:26.615Z"
   },
   {
    "duration": 25,
    "start_time": "2021-11-18T15:36:54.963Z"
   },
   {
    "duration": 124,
    "start_time": "2021-11-18T15:46:10.130Z"
   },
   {
    "duration": 596,
    "start_time": "2021-11-18T15:46:14.944Z"
   },
   {
    "duration": 581,
    "start_time": "2021-11-18T15:46:41.057Z"
   },
   {
    "duration": 569,
    "start_time": "2021-11-18T15:46:51.122Z"
   },
   {
    "duration": 896,
    "start_time": "2021-11-18T15:46:59.849Z"
   },
   {
    "duration": 23,
    "start_time": "2021-11-18T15:47:27.843Z"
   },
   {
    "duration": 925,
    "start_time": "2021-11-18T15:47:45.139Z"
   },
   {
    "duration": 1003,
    "start_time": "2021-11-18T15:47:50.603Z"
   },
   {
    "duration": 934,
    "start_time": "2021-11-18T15:50:31.524Z"
   },
   {
    "duration": 906,
    "start_time": "2021-11-18T15:50:49.775Z"
   },
   {
    "duration": 966,
    "start_time": "2021-11-18T15:50:59.689Z"
   },
   {
    "duration": 934,
    "start_time": "2021-11-18T15:58:41.696Z"
   },
   {
    "duration": 435,
    "start_time": "2021-11-19T08:14:21.692Z"
   },
   {
    "duration": 906,
    "start_time": "2021-11-19T08:14:35.090Z"
   },
   {
    "duration": 32,
    "start_time": "2021-11-19T08:14:35.999Z"
   },
   {
    "duration": 20,
    "start_time": "2021-11-19T08:14:36.035Z"
   },
   {
    "duration": 127,
    "start_time": "2021-11-19T08:14:36.059Z"
   },
   {
    "duration": 978,
    "start_time": "2021-11-19T08:14:36.189Z"
   },
   {
    "duration": 16283,
    "start_time": "2021-11-19T08:14:37.170Z"
   },
   {
    "duration": 49,
    "start_time": "2021-11-19T08:14:53.456Z"
   },
   {
    "duration": 1021,
    "start_time": "2021-11-19T08:14:53.508Z"
   },
   {
    "duration": 1571,
    "start_time": "2021-11-19T08:18:07.933Z"
   },
   {
    "duration": 1547,
    "start_time": "2021-11-19T08:19:33.600Z"
   },
   {
    "duration": 922,
    "start_time": "2021-11-19T08:19:45.712Z"
   },
   {
    "duration": 960,
    "start_time": "2021-11-19T08:20:18.184Z"
   },
   {
    "duration": 924,
    "start_time": "2021-11-19T08:23:19.685Z"
   },
   {
    "duration": 911,
    "start_time": "2021-11-19T08:23:29.085Z"
   },
   {
    "duration": 1829,
    "start_time": "2021-11-19T08:55:30.715Z"
   },
   {
    "duration": 2911,
    "start_time": "2021-11-19T08:57:25.573Z"
   },
   {
    "duration": 3017,
    "start_time": "2021-11-19T09:08:52.422Z"
   },
   {
    "duration": 4099,
    "start_time": "2021-11-19T09:09:08.505Z"
   },
   {
    "duration": 2347,
    "start_time": "2021-11-19T09:14:29.988Z"
   },
   {
    "duration": 2807,
    "start_time": "2021-11-19T09:14:54.081Z"
   },
   {
    "duration": 3215,
    "start_time": "2021-11-19T09:15:10.010Z"
   },
   {
    "duration": 2425,
    "start_time": "2021-11-19T09:19:06.128Z"
   },
   {
    "duration": 2866,
    "start_time": "2021-11-19T09:19:18.850Z"
   },
   {
    "duration": 106,
    "start_time": "2021-11-19T09:22:07.588Z"
   },
   {
    "duration": 89,
    "start_time": "2021-11-19T09:26:11.410Z"
   },
   {
    "duration": 91,
    "start_time": "2021-11-19T09:26:35.643Z"
   },
   {
    "duration": 93,
    "start_time": "2021-11-19T09:26:46.326Z"
   },
   {
    "duration": 44,
    "start_time": "2021-11-19T09:26:46.422Z"
   },
   {
    "duration": 39,
    "start_time": "2021-11-19T09:26:46.468Z"
   },
   {
    "duration": 78,
    "start_time": "2021-11-19T09:26:48.282Z"
   },
   {
    "duration": 96,
    "start_time": "2021-11-19T09:27:25.310Z"
   },
   {
    "duration": 77,
    "start_time": "2021-11-19T09:28:19.765Z"
   },
   {
    "duration": 88,
    "start_time": "2021-11-19T09:28:38.381Z"
   },
   {
    "duration": 49,
    "start_time": "2021-11-19T09:28:38.472Z"
   },
   {
    "duration": 17,
    "start_time": "2021-11-19T09:28:38.524Z"
   },
   {
    "duration": 75,
    "start_time": "2021-11-19T09:28:39.509Z"
   },
   {
    "duration": 75,
    "start_time": "2021-11-19T09:28:56.334Z"
   },
   {
    "duration": 77,
    "start_time": "2021-11-19T09:29:19.062Z"
   },
   {
    "duration": 94,
    "start_time": "2021-11-19T09:30:05.928Z"
   },
   {
    "duration": 105,
    "start_time": "2021-11-19T09:30:31.920Z"
   },
   {
    "duration": 2970,
    "start_time": "2021-11-19T09:31:14.601Z"
   },
   {
    "duration": 105,
    "start_time": "2021-11-19T09:31:26.481Z"
   },
   {
    "duration": 50,
    "start_time": "2021-11-19T09:31:26.601Z"
   },
   {
    "duration": 19,
    "start_time": "2021-11-19T09:31:26.654Z"
   },
   {
    "duration": 124,
    "start_time": "2021-11-19T09:31:26.676Z"
   },
   {
    "duration": 1110,
    "start_time": "2021-11-19T09:31:26.803Z"
   },
   {
    "duration": 16445,
    "start_time": "2021-11-19T09:31:27.916Z"
   },
   {
    "duration": 47,
    "start_time": "2021-11-19T09:31:44.364Z"
   },
   {
    "duration": 2719,
    "start_time": "2021-11-19T09:31:48.738Z"
   },
   {
    "duration": 2444,
    "start_time": "2021-11-19T09:33:38.845Z"
   },
   {
    "duration": 2691,
    "start_time": "2021-11-19T09:33:49.829Z"
   },
   {
    "duration": 3357,
    "start_time": "2021-11-19T09:38:33.460Z"
   },
   {
    "duration": 139,
    "start_time": "2021-11-19T09:46:35.001Z"
   },
   {
    "duration": 117,
    "start_time": "2021-11-19T09:46:43.592Z"
   },
   {
    "duration": 116,
    "start_time": "2021-11-19T09:47:09.184Z"
   },
   {
    "duration": 250,
    "start_time": "2021-11-19T09:47:20.921Z"
   },
   {
    "duration": 114,
    "start_time": "2021-11-19T09:47:50.185Z"
   },
   {
    "duration": 274,
    "start_time": "2021-11-19T09:48:00.450Z"
   },
   {
    "duration": 331,
    "start_time": "2021-11-19T09:48:21.003Z"
   },
   {
    "duration": 3412,
    "start_time": "2021-11-19T09:48:30.866Z"
   },
   {
    "duration": 297,
    "start_time": "2021-11-19T09:48:45.419Z"
   },
   {
    "duration": 261,
    "start_time": "2021-11-19T09:49:00.835Z"
   },
   {
    "duration": 540,
    "start_time": "2021-11-19T09:49:16.221Z"
   },
   {
    "duration": 559,
    "start_time": "2021-11-19T09:49:22.644Z"
   },
   {
    "duration": 119,
    "start_time": "2021-11-19T09:49:40.325Z"
   },
   {
    "duration": 3399,
    "start_time": "2021-11-19T09:52:16.696Z"
   },
   {
    "duration": 3367,
    "start_time": "2021-11-19T09:52:33.977Z"
   },
   {
    "duration": 3359,
    "start_time": "2021-11-19T09:52:44.057Z"
   },
   {
    "duration": 3368,
    "start_time": "2021-11-19T09:53:03.865Z"
   },
   {
    "duration": 3507,
    "start_time": "2021-11-19T09:53:47.748Z"
   },
   {
    "duration": 125,
    "start_time": "2021-11-19T09:54:04.075Z"
   },
   {
    "duration": 3584,
    "start_time": "2021-11-19T09:54:12.379Z"
   },
   {
    "duration": 3711,
    "start_time": "2021-11-19T09:56:39.063Z"
   },
   {
    "duration": 3354,
    "start_time": "2021-11-19T09:57:01.023Z"
   },
   {
    "duration": 3540,
    "start_time": "2021-11-19T09:57:10.063Z"
   },
   {
    "duration": 3689,
    "start_time": "2021-11-19T09:59:21.691Z"
   },
   {
    "duration": 3421,
    "start_time": "2021-11-19T10:00:15.372Z"
   },
   {
    "duration": 5129,
    "start_time": "2021-11-19T10:08:59.153Z"
   },
   {
    "duration": 38,
    "start_time": "2021-11-19T10:23:10.893Z"
   },
   {
    "duration": 6809,
    "start_time": "2021-11-19T10:26:39.891Z"
   },
   {
    "duration": 40,
    "start_time": "2021-11-19T10:26:52.154Z"
   },
   {
    "duration": 39,
    "start_time": "2021-11-19T10:27:02.650Z"
   },
   {
    "duration": 1246,
    "start_time": "2021-11-19T10:28:37.357Z"
   },
   {
    "duration": 1351,
    "start_time": "2021-11-19T10:29:08.334Z"
   },
   {
    "duration": 1405,
    "start_time": "2021-11-19T10:30:21.351Z"
   },
   {
    "duration": 1741,
    "start_time": "2021-11-19T10:33:54.405Z"
   },
   {
    "duration": 379,
    "start_time": "2021-11-19T10:34:49.846Z"
   },
   {
    "duration": 408,
    "start_time": "2021-11-19T10:35:00.758Z"
   },
   {
    "duration": 1100,
    "start_time": "2021-11-19T10:36:44.240Z"
   },
   {
    "duration": 1094,
    "start_time": "2021-11-19T10:38:33.620Z"
   },
   {
    "duration": 1071,
    "start_time": "2021-11-19T10:40:31.391Z"
   },
   {
    "duration": 1125,
    "start_time": "2021-11-19T10:41:09.575Z"
   },
   {
    "duration": 1073,
    "start_time": "2021-11-19T10:43:32.403Z"
   },
   {
    "duration": 317,
    "start_time": "2021-11-19T10:56:48.712Z"
   },
   {
    "duration": 747,
    "start_time": "2021-11-19T10:58:10.304Z"
   },
   {
    "duration": 3550,
    "start_time": "2021-11-19T11:02:29.798Z"
   },
   {
    "duration": 3578,
    "start_time": "2021-11-19T11:03:23.575Z"
   },
   {
    "duration": 731,
    "start_time": "2021-11-19T11:04:56.715Z"
   },
   {
    "duration": 115,
    "start_time": "2021-11-19T11:05:22.072Z"
   },
   {
    "duration": 60,
    "start_time": "2021-11-19T11:05:22.190Z"
   },
   {
    "duration": 20,
    "start_time": "2021-11-19T11:05:22.253Z"
   },
   {
    "duration": 119,
    "start_time": "2021-11-19T11:05:22.300Z"
   },
   {
    "duration": 1020,
    "start_time": "2021-11-19T11:05:22.421Z"
   },
   {
    "duration": 18276,
    "start_time": "2021-11-19T11:05:23.444Z"
   },
   {
    "duration": 47,
    "start_time": "2021-11-19T11:05:41.723Z"
   },
   {
    "duration": 3751,
    "start_time": "2021-11-19T11:05:41.775Z"
   },
   {
    "duration": 1103,
    "start_time": "2021-11-19T11:05:45.529Z"
   },
   {
    "duration": 758,
    "start_time": "2021-11-19T11:05:46.635Z"
   },
   {
    "duration": 353,
    "start_time": "2021-11-19T11:13:28.158Z"
   },
   {
    "duration": 1902,
    "start_time": "2021-11-19T11:13:42.926Z"
   },
   {
    "duration": 1940,
    "start_time": "2021-11-19T11:15:29.201Z"
   },
   {
    "duration": 1784,
    "start_time": "2021-11-19T11:16:08.050Z"
   },
   {
    "duration": 1747,
    "start_time": "2021-11-19T11:16:26.778Z"
   },
   {
    "duration": 3046,
    "start_time": "2021-11-19T11:16:34.514Z"
   },
   {
    "duration": 1832,
    "start_time": "2021-11-19T11:17:14.428Z"
   },
   {
    "duration": 2123,
    "start_time": "2021-11-19T11:17:26.596Z"
   },
   {
    "duration": 1785,
    "start_time": "2021-11-19T11:36:21.767Z"
   },
   {
    "duration": 2641,
    "start_time": "2021-11-19T11:40:11.701Z"
   },
   {
    "duration": 1232,
    "start_time": "2021-11-19T11:41:12.839Z"
   },
   {
    "duration": 1131,
    "start_time": "2021-11-19T11:44:06.010Z"
   },
   {
    "duration": 1991,
    "start_time": "2021-11-19T11:44:19.443Z"
   },
   {
    "duration": 2181,
    "start_time": "2021-11-19T11:44:41.499Z"
   },
   {
    "duration": 2020,
    "start_time": "2021-11-19T11:44:52.492Z"
   },
   {
    "duration": 3751,
    "start_time": "2021-11-19T11:47:36.032Z"
   },
   {
    "duration": 2020,
    "start_time": "2021-11-19T11:52:50.031Z"
   },
   {
    "duration": 1657,
    "start_time": "2021-11-19T11:53:14.824Z"
   },
   {
    "duration": 2079,
    "start_time": "2021-11-19T11:53:39.809Z"
   },
   {
    "duration": 2220,
    "start_time": "2021-11-19T11:59:03.161Z"
   },
   {
    "duration": 6107,
    "start_time": "2021-11-19T12:00:34.523Z"
   },
   {
    "duration": 6385,
    "start_time": "2021-11-19T12:00:57.428Z"
   },
   {
    "duration": 6563,
    "start_time": "2021-11-19T12:01:16.837Z"
   },
   {
    "duration": 2372,
    "start_time": "2021-11-19T12:02:53.087Z"
   },
   {
    "duration": 2383,
    "start_time": "2021-11-19T12:03:02.495Z"
   },
   {
    "duration": 1728,
    "start_time": "2021-11-19T12:04:49.961Z"
   },
   {
    "duration": 1832,
    "start_time": "2021-11-19T12:04:58.065Z"
   },
   {
    "duration": 1722,
    "start_time": "2021-11-19T12:05:31.226Z"
   },
   {
    "duration": 1688,
    "start_time": "2021-11-19T12:05:39.386Z"
   },
   {
    "duration": 1638,
    "start_time": "2021-11-19T12:06:42.220Z"
   },
   {
    "duration": 2176,
    "start_time": "2021-11-19T12:11:28.706Z"
   },
   {
    "duration": 2154,
    "start_time": "2021-11-19T12:12:27.412Z"
   },
   {
    "duration": 2203,
    "start_time": "2021-11-19T12:12:57.221Z"
   },
   {
    "duration": 2208,
    "start_time": "2021-11-19T12:13:46.279Z"
   },
   {
    "duration": 2285,
    "start_time": "2021-11-19T12:14:35.936Z"
   },
   {
    "duration": 2047,
    "start_time": "2021-11-19T12:15:46.057Z"
   },
   {
    "duration": 1182,
    "start_time": "2021-11-19T12:15:54.809Z"
   },
   {
    "duration": 2072,
    "start_time": "2021-11-19T12:17:49.980Z"
   },
   {
    "duration": 2078,
    "start_time": "2021-11-19T12:18:16.173Z"
   },
   {
    "duration": 2162,
    "start_time": "2021-11-19T12:21:42.202Z"
   },
   {
    "duration": 2366,
    "start_time": "2021-11-19T12:22:08.579Z"
   },
   {
    "duration": 2126,
    "start_time": "2021-11-19T12:22:29.995Z"
   },
   {
    "duration": 1966,
    "start_time": "2021-11-19T12:23:41.045Z"
   },
   {
    "duration": 344,
    "start_time": "2021-11-19T12:29:26.205Z"
   },
   {
    "duration": 366,
    "start_time": "2021-11-19T12:29:59.573Z"
   },
   {
    "duration": 1117,
    "start_time": "2021-11-19T12:30:17.486Z"
   },
   {
    "duration": 97,
    "start_time": "2021-11-19T12:36:28.404Z"
   },
   {
    "duration": 48,
    "start_time": "2021-11-19T12:36:28.504Z"
   },
   {
    "duration": 51,
    "start_time": "2021-11-19T12:36:28.555Z"
   },
   {
    "duration": 101,
    "start_time": "2021-11-19T12:36:28.609Z"
   },
   {
    "duration": 989,
    "start_time": "2021-11-19T12:36:28.712Z"
   },
   {
    "duration": 20328,
    "start_time": "2021-11-19T12:36:29.705Z"
   },
   {
    "duration": 33,
    "start_time": "2021-11-19T12:36:50.035Z"
   },
   {
    "duration": 3469,
    "start_time": "2021-11-19T12:36:50.072Z"
   },
   {
    "duration": 1047,
    "start_time": "2021-11-19T12:36:53.544Z"
   },
   {
    "duration": 2047,
    "start_time": "2021-11-19T12:36:54.600Z"
   },
   {
    "duration": 1319,
    "start_time": "2021-11-19T12:36:56.650Z"
   },
   {
    "duration": 1202,
    "start_time": "2021-11-19T12:38:57.010Z"
   },
   {
    "duration": 132,
    "start_time": "2021-11-19T12:51:33.517Z"
   },
   {
    "duration": 78,
    "start_time": "2021-11-19T12:51:33.652Z"
   },
   {
    "duration": 18,
    "start_time": "2021-11-19T12:51:33.733Z"
   },
   {
    "duration": 123,
    "start_time": "2021-11-19T12:51:33.754Z"
   },
   {
    "duration": 1148,
    "start_time": "2021-11-19T12:51:33.879Z"
   },
   {
    "duration": 20728,
    "start_time": "2021-11-19T12:51:35.030Z"
   },
   {
    "duration": 45,
    "start_time": "2021-11-19T12:51:55.761Z"
   },
   {
    "duration": 3475,
    "start_time": "2021-11-19T12:51:55.812Z"
   },
   {
    "duration": 1222,
    "start_time": "2021-11-19T12:51:59.290Z"
   },
   {
    "duration": 2082,
    "start_time": "2021-11-19T12:52:00.515Z"
   },
   {
    "duration": 1168,
    "start_time": "2021-11-19T12:52:02.604Z"
   },
   {
    "duration": 1291,
    "start_time": "2021-11-19T16:12:29.841Z"
   },
   {
    "duration": 102,
    "start_time": "2021-11-19T16:12:31.135Z"
   },
   {
    "duration": 75,
    "start_time": "2021-11-19T16:12:31.239Z"
   },
   {
    "duration": 128,
    "start_time": "2021-11-19T16:12:31.316Z"
   },
   {
    "duration": 1887,
    "start_time": "2021-11-19T16:12:31.446Z"
   },
   {
    "duration": 37415,
    "start_time": "2021-11-19T16:12:33.336Z"
   },
   {
    "duration": 78,
    "start_time": "2021-11-19T16:13:10.753Z"
   },
   {
    "duration": 5103,
    "start_time": "2021-11-19T16:13:10.834Z"
   },
   {
    "duration": 1313,
    "start_time": "2021-11-19T16:13:15.939Z"
   },
   {
    "duration": 2344,
    "start_time": "2021-11-19T16:13:17.307Z"
   },
   {
    "duration": 1456,
    "start_time": "2021-11-19T16:13:19.653Z"
   },
   {
    "duration": 78,
    "start_time": "2021-11-20T12:37:00.893Z"
   },
   {
    "duration": 282,
    "start_time": "2021-11-20T13:12:13.138Z"
   },
   {
    "duration": 229,
    "start_time": "2021-11-20T13:14:06.395Z"
   },
   {
    "duration": 278,
    "start_time": "2021-11-20T13:14:22.428Z"
   },
   {
    "duration": 243,
    "start_time": "2021-11-20T13:15:06.943Z"
   },
   {
    "duration": 226,
    "start_time": "2021-11-20T13:15:17.584Z"
   },
   {
    "duration": 244,
    "start_time": "2021-11-20T13:15:19.600Z"
   },
   {
    "duration": 233,
    "start_time": "2021-11-20T13:15:33.136Z"
   },
   {
    "duration": 294,
    "start_time": "2021-11-20T13:15:58.146Z"
   },
   {
    "duration": 1194,
    "start_time": "2021-11-20T13:16:22.305Z"
   },
   {
    "duration": 32,
    "start_time": "2021-11-20T13:16:30.672Z"
   },
   {
    "duration": 14,
    "start_time": "2021-11-20T13:16:36.929Z"
   },
   {
    "duration": 62,
    "start_time": "2021-11-20T13:16:39.546Z"
   },
   {
    "duration": 626,
    "start_time": "2021-11-20T13:16:41.265Z"
   },
   {
    "duration": 294,
    "start_time": "2021-11-20T13:16:45.666Z"
   },
   {
    "duration": 15468,
    "start_time": "2021-11-20T13:16:49.211Z"
   },
   {
    "duration": 23,
    "start_time": "2021-11-20T13:17:06.691Z"
   },
   {
    "duration": 1921,
    "start_time": "2021-11-20T13:17:11.100Z"
   },
   {
    "duration": 64,
    "start_time": "2021-11-20T13:18:25.796Z"
   },
   {
    "duration": 16,
    "start_time": "2021-11-20T13:18:28.530Z"
   },
   {
    "duration": 70,
    "start_time": "2021-11-20T13:18:30.685Z"
   },
   {
    "duration": 68,
    "start_time": "2021-11-20T13:19:48.662Z"
   },
   {
    "duration": 66,
    "start_time": "2021-11-20T13:21:04.097Z"
   },
   {
    "duration": 70,
    "start_time": "2021-11-20T13:21:12.120Z"
   },
   {
    "duration": 69,
    "start_time": "2021-11-20T13:21:16.352Z"
   },
   {
    "duration": 79,
    "start_time": "2021-11-20T13:24:54.951Z"
   },
   {
    "duration": 69,
    "start_time": "2021-11-20T13:26:19.584Z"
   },
   {
    "duration": 71,
    "start_time": "2021-11-20T13:26:21.489Z"
   },
   {
    "duration": 59,
    "start_time": "2021-11-20T13:26:22.128Z"
   },
   {
    "duration": 68,
    "start_time": "2021-11-20T13:26:22.672Z"
   },
   {
    "duration": 59,
    "start_time": "2021-11-20T13:26:23.224Z"
   },
   {
    "duration": 67,
    "start_time": "2021-11-20T13:26:26.544Z"
   },
   {
    "duration": 69,
    "start_time": "2021-11-20T13:26:32.088Z"
   },
   {
    "duration": 69,
    "start_time": "2021-11-20T13:26:55.073Z"
   },
   {
    "duration": 70,
    "start_time": "2021-11-20T13:27:05.433Z"
   },
   {
    "duration": 73,
    "start_time": "2021-11-20T13:27:11.200Z"
   },
   {
    "duration": 86,
    "start_time": "2021-11-20T13:27:55.619Z"
   },
   {
    "duration": 119,
    "start_time": "2021-11-20T13:28:08.395Z"
   },
   {
    "duration": 109,
    "start_time": "2021-11-20T13:28:26.604Z"
   },
   {
    "duration": 111,
    "start_time": "2021-11-20T13:29:16.629Z"
   },
   {
    "duration": 105,
    "start_time": "2021-11-20T13:29:21.940Z"
   },
   {
    "duration": 3,
    "start_time": "2021-11-20T13:29:34.333Z"
   },
   {
    "duration": 103,
    "start_time": "2021-11-20T13:29:35.813Z"
   },
   {
    "duration": 17,
    "start_time": "2021-11-20T13:31:39.280Z"
   },
   {
    "duration": 18,
    "start_time": "2021-11-20T13:35:38.550Z"
   },
   {
    "duration": 16,
    "start_time": "2021-11-20T13:35:44.870Z"
   },
   {
    "duration": 84,
    "start_time": "2021-11-20T13:35:56.367Z"
   },
   {
    "duration": 16,
    "start_time": "2021-11-20T13:35:59.494Z"
   },
   {
    "duration": 77,
    "start_time": "2021-11-20T13:36:00.967Z"
   },
   {
    "duration": 73,
    "start_time": "2021-11-20T13:36:07.647Z"
   },
   {
    "duration": 14,
    "start_time": "2021-11-20T13:36:09.966Z"
   },
   {
    "duration": 17,
    "start_time": "2021-11-20T13:36:48.207Z"
   },
   {
    "duration": 8,
    "start_time": "2021-11-20T13:37:40.553Z"
   },
   {
    "duration": 9,
    "start_time": "2021-11-20T13:38:18.322Z"
   },
   {
    "duration": 35,
    "start_time": "2021-11-20T13:49:13.771Z"
   },
   {
    "duration": 9,
    "start_time": "2021-11-20T13:49:21.315Z"
   },
   {
    "duration": 33,
    "start_time": "2021-11-20T13:49:26.050Z"
   },
   {
    "duration": 25,
    "start_time": "2021-11-20T13:54:56.258Z"
   },
   {
    "duration": 24,
    "start_time": "2021-11-20T13:56:51.873Z"
   },
   {
    "duration": 39,
    "start_time": "2021-11-20T13:57:13.862Z"
   },
   {
    "duration": 28,
    "start_time": "2021-11-20T13:59:40.994Z"
   },
   {
    "duration": 10,
    "start_time": "2021-11-20T13:59:47.457Z"
   },
   {
    "duration": 39,
    "start_time": "2021-11-20T13:59:52.066Z"
   },
   {
    "duration": 1300,
    "start_time": "2021-11-20T14:00:19.388Z"
   },
   {
    "duration": 136,
    "start_time": "2021-11-20T14:00:20.695Z"
   },
   {
    "duration": 17,
    "start_time": "2021-11-20T14:00:20.836Z"
   },
   {
    "duration": 47,
    "start_time": "2021-11-20T14:00:20.855Z"
   },
   {
    "duration": 16,
    "start_time": "2021-11-20T14:00:20.904Z"
   },
   {
    "duration": 38,
    "start_time": "2021-11-20T14:00:20.922Z"
   },
   {
    "duration": 78,
    "start_time": "2021-11-20T14:00:20.961Z"
   },
   {
    "duration": 798,
    "start_time": "2021-11-20T14:00:21.042Z"
   },
   {
    "duration": 17914,
    "start_time": "2021-11-20T14:00:21.842Z"
   },
   {
    "duration": 41,
    "start_time": "2021-11-20T14:00:39.758Z"
   },
   {
    "duration": 2386,
    "start_time": "2021-11-20T14:00:39.803Z"
   },
   {
    "duration": 729,
    "start_time": "2021-11-20T14:00:42.192Z"
   },
   {
    "duration": 1429,
    "start_time": "2021-11-20T14:00:42.923Z"
   },
   {
    "duration": 889,
    "start_time": "2021-11-20T14:00:44.354Z"
   },
   {
    "duration": 21,
    "start_time": "2021-11-20T14:16:37.864Z"
   },
   {
    "duration": 1907,
    "start_time": "2021-11-20T14:19:05.581Z"
   },
   {
    "duration": 1986,
    "start_time": "2021-11-20T14:19:25.086Z"
   },
   {
    "duration": 2003,
    "start_time": "2021-11-20T14:21:47.128Z"
   },
   {
    "duration": 2008,
    "start_time": "2021-11-20T14:24:00.828Z"
   },
   {
    "duration": 1985,
    "start_time": "2021-11-20T14:24:20.076Z"
   },
   {
    "duration": 494,
    "start_time": "2021-11-20T14:25:02.677Z"
   },
   {
    "duration": 4,
    "start_time": "2021-11-20T14:25:27.147Z"
   },
   {
    "duration": 116,
    "start_time": "2021-11-20T14:25:27.153Z"
   },
   {
    "duration": 18,
    "start_time": "2021-11-20T14:25:27.271Z"
   },
   {
    "duration": 18,
    "start_time": "2021-11-20T14:25:27.291Z"
   },
   {
    "duration": 8,
    "start_time": "2021-11-20T14:25:27.311Z"
   },
   {
    "duration": 57,
    "start_time": "2021-11-20T14:25:27.321Z"
   },
   {
    "duration": 83,
    "start_time": "2021-11-20T14:25:27.380Z"
   },
   {
    "duration": 944,
    "start_time": "2021-11-20T14:25:27.465Z"
   },
   {
    "duration": 18730,
    "start_time": "2021-11-20T14:25:28.412Z"
   },
   {
    "duration": 38,
    "start_time": "2021-11-20T14:25:47.144Z"
   },
   {
    "duration": 2519,
    "start_time": "2021-11-20T14:25:47.185Z"
   },
   {
    "duration": 750,
    "start_time": "2021-11-20T14:25:53.031Z"
   },
   {
    "duration": 1038,
    "start_time": "2021-11-20T14:26:22.176Z"
   },
   {
    "duration": 1300,
    "start_time": "2021-11-20T14:27:36.657Z"
   },
   {
    "duration": 1200,
    "start_time": "2021-11-20T14:27:55.074Z"
   },
   {
    "duration": 1318,
    "start_time": "2021-11-20T14:28:12.393Z"
   },
   {
    "duration": 1427,
    "start_time": "2021-11-20T14:29:17.836Z"
   },
   {
    "duration": 1345,
    "start_time": "2021-11-20T14:46:48.775Z"
   },
   {
    "duration": 119,
    "start_time": "2021-11-20T14:46:50.122Z"
   },
   {
    "duration": 23,
    "start_time": "2021-11-20T14:46:50.245Z"
   },
   {
    "duration": 17,
    "start_time": "2021-11-20T14:46:50.270Z"
   },
   {
    "duration": 8,
    "start_time": "2021-11-20T14:46:50.289Z"
   },
   {
    "duration": 28,
    "start_time": "2021-11-20T14:46:50.299Z"
   },
   {
    "duration": 104,
    "start_time": "2021-11-20T14:46:50.365Z"
   },
   {
    "duration": 1021,
    "start_time": "2021-11-20T14:46:50.471Z"
   },
   {
    "duration": 17786,
    "start_time": "2021-11-20T14:46:51.495Z"
   },
   {
    "duration": 24,
    "start_time": "2021-11-20T14:47:09.283Z"
   },
   {
    "duration": 2227,
    "start_time": "2021-11-20T14:47:09.310Z"
   },
   {
    "duration": 603,
    "start_time": "2021-11-20T14:47:11.539Z"
   },
   {
    "duration": 1170,
    "start_time": "2021-11-20T14:47:12.144Z"
   },
   {
    "duration": 1397,
    "start_time": "2021-11-20T14:47:13.316Z"
   },
   {
    "duration": 66,
    "start_time": "2022-04-03T07:31:25.844Z"
   },
   {
    "duration": 1654,
    "start_time": "2022-04-03T07:34:39.852Z"
   },
   {
    "duration": 173,
    "start_time": "2022-04-03T07:34:41.509Z"
   },
   {
    "duration": 26,
    "start_time": "2022-04-03T07:34:41.684Z"
   },
   {
    "duration": 23,
    "start_time": "2022-04-03T07:34:41.713Z"
   },
   {
    "duration": 45,
    "start_time": "2022-04-03T07:34:41.738Z"
   },
   {
    "duration": 42,
    "start_time": "2022-04-03T07:34:41.785Z"
   },
   {
    "duration": 107,
    "start_time": "2022-04-03T07:34:41.829Z"
   },
   {
    "duration": 847,
    "start_time": "2022-04-03T07:34:41.938Z"
   },
   {
    "duration": 17659,
    "start_time": "2022-04-03T07:34:42.788Z"
   },
   {
    "duration": 43,
    "start_time": "2022-04-03T07:35:00.451Z"
   },
   {
    "duration": 1925,
    "start_time": "2022-04-03T07:35:00.496Z"
   },
   {
    "duration": 560,
    "start_time": "2022-04-03T07:35:02.424Z"
   },
   {
    "duration": 1158,
    "start_time": "2022-04-03T07:35:02.987Z"
   },
   {
    "duration": 1002,
    "start_time": "2022-04-03T07:35:04.148Z"
   }
  ],
  "kernelspec": {
   "display_name": "Python 3 (ipykernel)",
   "language": "python",
   "name": "python3"
  },
  "language_info": {
   "codemirror_mode": {
    "name": "ipython",
    "version": 3
   },
   "file_extension": ".py",
   "mimetype": "text/x-python",
   "name": "python",
   "nbconvert_exporter": "python",
   "pygments_lexer": "ipython3",
   "version": "3.9.5"
  },
  "toc": {
   "base_numbering": 1,
   "nav_menu": {},
   "number_sections": true,
   "sideBar": true,
   "skip_h1_title": true,
   "title_cell": "Table of Contents",
   "title_sidebar": "Contents",
   "toc_cell": false,
   "toc_position": {},
   "toc_section_display": true,
   "toc_window_display": false
  }
 },
 "nbformat": 4,
 "nbformat_minor": 2
}

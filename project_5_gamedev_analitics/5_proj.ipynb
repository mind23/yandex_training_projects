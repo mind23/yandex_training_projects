{
 "cells": [
  {
   "cell_type": "markdown",
   "metadata": {},
   "source": [
    "# Маркетинговое исследование по продажам видеоигр\n",
    "\n",
    "Интернет-магазин «Стримчик» продаёт по всему миру компьютерные игры. Из открытых источников доступны исторические данные о продажах игр, оценки пользователей и экспертов, жанры и платформы (например, Xbox или PlayStation). Выявим определяющие успешность игры закономерности. Это позволит сделать ставку на потенциально популярный продукт и спланировать рекламные кампании.\n",
    "\n",
    "\n",
    "Перед нами данные до 2016 года. Представим, что сейчас декабрь 2016 г., и спланируем кампанию на 2017-й. \n",
    "В наборе данных попадается аббревиатура ESRB (Entertainment Software Rating Board) — это ассоциация, определяющая возрастной рейтинг компьютерных игр. ESRB оценивает игровой контент и присваивает ему подходящую возрастную категорию, например, «Для взрослых», «Для детей младшего возраста» или «Для подростков»."
   ]
  },
  {
   "cell_type": "markdown",
   "metadata": {},
   "source": [
    "**Цель исследования:** Выявить определяющие успешность игры закономерности, путем проверки гипотез:\n",
    "\n",
    "* Средние пользовательские рейтинги платформ Xbox One и PC одинаковые;;\n",
    "* Средние пользовательские рейтинги жанров Action (англ. «действие», экшен-игры) и Sports (англ. «спортивные соревнования») разные."
   ]
  },
  {
   "cell_type": "markdown",
   "metadata": {},
   "source": [
    "**Содержание**\n",
    "    \n",
    "    \n",
    "1. [Изучение данных из файла](#open)\n",
    "    \n",
    "    \n",
    "2. [Предобработка данных](#preproc)\n",
    "     \n",
    "    \n",
    "3. [Исследовательский анализ данных](#pred)\n",
    "\n",
    "\n",
    "4. [Портрет пользователей по регионам](#portr)\n",
    "\n",
    "\n",
    "5. [Проверка гипотез](#research)\n",
    "    * [5.1 Средние пользовательские рейтинги платформ Xbox One и PC одинаковые](#ans1)\n",
    "    * [5.2 Средние пользовательские рейтинги жанров Action и Sports разные](#ans2)\n",
    "    \n",
    "    \n",
    "6. [Общий вывод](#summary)"
   ]
  },
  {
   "cell_type": "markdown",
   "metadata": {},
   "source": [
    "<a id=\"open\"></a>\n",
    "## 1. Изучение данных из файла"
   ]
  },
  {
   "cell_type": "markdown",
   "metadata": {},
   "source": [
    "**Описание данных:**\n",
    "\n",
    "*\tName — название игры\n",
    "*\tPlatform — платформа\n",
    "*\tYear_of_Release — год выпуска\n",
    "*\tGenre — жанр игры\n",
    "*\tNA_sales — продажи в Северной Америке (миллионы проданных копий)\n",
    "*\tEU_sales — продажи в Европе (миллионы проданных копий)\n",
    "*\tJP_sales — продажи в Японии (миллионы проданных копий)\n",
    "*\tOther_sales — продажи в других странах (миллионы проданных копий)\n",
    "*\tCritic_Score — оценка критиков (максимум 100)\n",
    "*\tUser_Score — оценка пользователей (максимум 10)\n",
    "*\tRating — рейтинг от организации ESRB (англ. Entertainment Software Rating Board). Эта ассоциация определяет рейтинг компьютерных игр и присваивает им подходящую возрастную категорию.\n",
    "\n",
    "Данные за 2016 год могут быть неполными.\n"
   ]
  },
  {
   "cell_type": "code",
   "execution_count": 1,
   "metadata": {},
   "outputs": [],
   "source": [
    "# Импортируем библиотеки\n",
    "\n",
    "import pandas as pd\n",
    "import seaborn as sb\n",
    "import matplotlib.pyplot as plt\n",
    "import numpy as np\n",
    "from math import factorial\n",
    "from scipy import stats as st\n",
    "\n",
    "pd.set_option('display.max_columns', None)\n",
    "pd.set_option('display.float_format', '{:,.2f}'.format)"
   ]
  },
  {
   "cell_type": "code",
   "execution_count": 2,
   "metadata": {
    "scrolled": false
   },
   "outputs": [
    {
     "data": {
      "text/html": [
       "<div>\n",
       "<style scoped>\n",
       "    .dataframe tbody tr th:only-of-type {\n",
       "        vertical-align: middle;\n",
       "    }\n",
       "\n",
       "    .dataframe tbody tr th {\n",
       "        vertical-align: top;\n",
       "    }\n",
       "\n",
       "    .dataframe thead th {\n",
       "        text-align: right;\n",
       "    }\n",
       "</style>\n",
       "<table border=\"1\" class=\"dataframe\">\n",
       "  <thead>\n",
       "    <tr style=\"text-align: right;\">\n",
       "      <th></th>\n",
       "      <th>Name</th>\n",
       "      <th>Platform</th>\n",
       "      <th>Year_of_Release</th>\n",
       "      <th>Genre</th>\n",
       "      <th>NA_sales</th>\n",
       "      <th>EU_sales</th>\n",
       "      <th>JP_sales</th>\n",
       "      <th>Other_sales</th>\n",
       "      <th>Critic_Score</th>\n",
       "      <th>User_Score</th>\n",
       "      <th>Rating</th>\n",
       "    </tr>\n",
       "  </thead>\n",
       "  <tbody>\n",
       "    <tr>\n",
       "      <th>0</th>\n",
       "      <td>Wii Sports</td>\n",
       "      <td>Wii</td>\n",
       "      <td>2,006.00</td>\n",
       "      <td>Sports</td>\n",
       "      <td>41.36</td>\n",
       "      <td>28.96</td>\n",
       "      <td>3.77</td>\n",
       "      <td>8.45</td>\n",
       "      <td>76.00</td>\n",
       "      <td>8</td>\n",
       "      <td>E</td>\n",
       "    </tr>\n",
       "    <tr>\n",
       "      <th>1</th>\n",
       "      <td>Super Mario Bros.</td>\n",
       "      <td>NES</td>\n",
       "      <td>1,985.00</td>\n",
       "      <td>Platform</td>\n",
       "      <td>29.08</td>\n",
       "      <td>3.58</td>\n",
       "      <td>6.81</td>\n",
       "      <td>0.77</td>\n",
       "      <td>NaN</td>\n",
       "      <td>NaN</td>\n",
       "      <td>NaN</td>\n",
       "    </tr>\n",
       "    <tr>\n",
       "      <th>2</th>\n",
       "      <td>Mario Kart Wii</td>\n",
       "      <td>Wii</td>\n",
       "      <td>2,008.00</td>\n",
       "      <td>Racing</td>\n",
       "      <td>15.68</td>\n",
       "      <td>12.76</td>\n",
       "      <td>3.79</td>\n",
       "      <td>3.29</td>\n",
       "      <td>82.00</td>\n",
       "      <td>8.3</td>\n",
       "      <td>E</td>\n",
       "    </tr>\n",
       "    <tr>\n",
       "      <th>3</th>\n",
       "      <td>Wii Sports Resort</td>\n",
       "      <td>Wii</td>\n",
       "      <td>2,009.00</td>\n",
       "      <td>Sports</td>\n",
       "      <td>15.61</td>\n",
       "      <td>10.93</td>\n",
       "      <td>3.28</td>\n",
       "      <td>2.95</td>\n",
       "      <td>80.00</td>\n",
       "      <td>8</td>\n",
       "      <td>E</td>\n",
       "    </tr>\n",
       "    <tr>\n",
       "      <th>4</th>\n",
       "      <td>Pokemon Red/Pokemon Blue</td>\n",
       "      <td>GB</td>\n",
       "      <td>1,996.00</td>\n",
       "      <td>Role-Playing</td>\n",
       "      <td>11.27</td>\n",
       "      <td>8.89</td>\n",
       "      <td>10.22</td>\n",
       "      <td>1.00</td>\n",
       "      <td>NaN</td>\n",
       "      <td>NaN</td>\n",
       "      <td>NaN</td>\n",
       "    </tr>\n",
       "    <tr>\n",
       "      <th>5</th>\n",
       "      <td>Tetris</td>\n",
       "      <td>GB</td>\n",
       "      <td>1,989.00</td>\n",
       "      <td>Puzzle</td>\n",
       "      <td>23.20</td>\n",
       "      <td>2.26</td>\n",
       "      <td>4.22</td>\n",
       "      <td>0.58</td>\n",
       "      <td>NaN</td>\n",
       "      <td>NaN</td>\n",
       "      <td>NaN</td>\n",
       "    </tr>\n",
       "    <tr>\n",
       "      <th>6</th>\n",
       "      <td>New Super Mario Bros.</td>\n",
       "      <td>DS</td>\n",
       "      <td>2,006.00</td>\n",
       "      <td>Platform</td>\n",
       "      <td>11.28</td>\n",
       "      <td>9.14</td>\n",
       "      <td>6.50</td>\n",
       "      <td>2.88</td>\n",
       "      <td>89.00</td>\n",
       "      <td>8.5</td>\n",
       "      <td>E</td>\n",
       "    </tr>\n",
       "    <tr>\n",
       "      <th>7</th>\n",
       "      <td>Wii Play</td>\n",
       "      <td>Wii</td>\n",
       "      <td>2,006.00</td>\n",
       "      <td>Misc</td>\n",
       "      <td>13.96</td>\n",
       "      <td>9.18</td>\n",
       "      <td>2.93</td>\n",
       "      <td>2.84</td>\n",
       "      <td>58.00</td>\n",
       "      <td>6.6</td>\n",
       "      <td>E</td>\n",
       "    </tr>\n",
       "    <tr>\n",
       "      <th>8</th>\n",
       "      <td>New Super Mario Bros. Wii</td>\n",
       "      <td>Wii</td>\n",
       "      <td>2,009.00</td>\n",
       "      <td>Platform</td>\n",
       "      <td>14.44</td>\n",
       "      <td>6.94</td>\n",
       "      <td>4.70</td>\n",
       "      <td>2.24</td>\n",
       "      <td>87.00</td>\n",
       "      <td>8.4</td>\n",
       "      <td>E</td>\n",
       "    </tr>\n",
       "    <tr>\n",
       "      <th>9</th>\n",
       "      <td>Duck Hunt</td>\n",
       "      <td>NES</td>\n",
       "      <td>1,984.00</td>\n",
       "      <td>Shooter</td>\n",
       "      <td>26.93</td>\n",
       "      <td>0.63</td>\n",
       "      <td>0.28</td>\n",
       "      <td>0.47</td>\n",
       "      <td>NaN</td>\n",
       "      <td>NaN</td>\n",
       "      <td>NaN</td>\n",
       "    </tr>\n",
       "  </tbody>\n",
       "</table>\n",
       "</div>"
      ],
      "text/plain": [
       "                        Name Platform  Year_of_Release         Genre  \\\n",
       "0                 Wii Sports      Wii         2,006.00        Sports   \n",
       "1          Super Mario Bros.      NES         1,985.00      Platform   \n",
       "2             Mario Kart Wii      Wii         2,008.00        Racing   \n",
       "3          Wii Sports Resort      Wii         2,009.00        Sports   \n",
       "4   Pokemon Red/Pokemon Blue       GB         1,996.00  Role-Playing   \n",
       "5                     Tetris       GB         1,989.00        Puzzle   \n",
       "6      New Super Mario Bros.       DS         2,006.00      Platform   \n",
       "7                   Wii Play      Wii         2,006.00          Misc   \n",
       "8  New Super Mario Bros. Wii      Wii         2,009.00      Platform   \n",
       "9                  Duck Hunt      NES         1,984.00       Shooter   \n",
       "\n",
       "   NA_sales  EU_sales  JP_sales  Other_sales  Critic_Score User_Score Rating  \n",
       "0     41.36     28.96      3.77         8.45         76.00          8      E  \n",
       "1     29.08      3.58      6.81         0.77           NaN        NaN    NaN  \n",
       "2     15.68     12.76      3.79         3.29         82.00        8.3      E  \n",
       "3     15.61     10.93      3.28         2.95         80.00          8      E  \n",
       "4     11.27      8.89     10.22         1.00           NaN        NaN    NaN  \n",
       "5     23.20      2.26      4.22         0.58           NaN        NaN    NaN  \n",
       "6     11.28      9.14      6.50         2.88         89.00        8.5      E  \n",
       "7     13.96      9.18      2.93         2.84         58.00        6.6      E  \n",
       "8     14.44      6.94      4.70         2.24         87.00        8.4      E  \n",
       "9     26.93      0.63      0.28         0.47           NaN        NaN    NaN  "
      ]
     },
     "metadata": {},
     "output_type": "display_data"
    },
    {
     "name": "stdout",
     "output_type": "stream",
     "text": [
      "<class 'pandas.core.frame.DataFrame'>\n",
      "RangeIndex: 16715 entries, 0 to 16714\n",
      "Data columns (total 11 columns):\n",
      " #   Column           Non-Null Count  Dtype  \n",
      "---  ------           --------------  -----  \n",
      " 0   Name             16713 non-null  object \n",
      " 1   Platform         16715 non-null  object \n",
      " 2   Year_of_Release  16446 non-null  float64\n",
      " 3   Genre            16713 non-null  object \n",
      " 4   NA_sales         16715 non-null  float64\n",
      " 5   EU_sales         16715 non-null  float64\n",
      " 6   JP_sales         16715 non-null  float64\n",
      " 7   Other_sales      16715 non-null  float64\n",
      " 8   Critic_Score     8137 non-null   float64\n",
      " 9   User_Score       10014 non-null  object \n",
      " 10  Rating           9949 non-null   object \n",
      "dtypes: float64(6), object(5)\n",
      "memory usage: 1.4+ MB\n"
     ]
    },
    {
     "data": {
      "text/html": [
       "<div>\n",
       "<style scoped>\n",
       "    .dataframe tbody tr th:only-of-type {\n",
       "        vertical-align: middle;\n",
       "    }\n",
       "\n",
       "    .dataframe tbody tr th {\n",
       "        vertical-align: top;\n",
       "    }\n",
       "\n",
       "    .dataframe thead th {\n",
       "        text-align: right;\n",
       "    }\n",
       "</style>\n",
       "<table border=\"1\" class=\"dataframe\">\n",
       "  <thead>\n",
       "    <tr style=\"text-align: right;\">\n",
       "      <th></th>\n",
       "      <th>count</th>\n",
       "      <th>mean</th>\n",
       "      <th>std</th>\n",
       "      <th>min</th>\n",
       "      <th>25%</th>\n",
       "      <th>50%</th>\n",
       "      <th>75%</th>\n",
       "      <th>max</th>\n",
       "    </tr>\n",
       "  </thead>\n",
       "  <tbody>\n",
       "    <tr>\n",
       "      <th>Year_of_Release</th>\n",
       "      <td>16,446.00</td>\n",
       "      <td>2,006.48</td>\n",
       "      <td>5.88</td>\n",
       "      <td>1,980.00</td>\n",
       "      <td>2,003.00</td>\n",
       "      <td>2,007.00</td>\n",
       "      <td>2,010.00</td>\n",
       "      <td>2,016.00</td>\n",
       "    </tr>\n",
       "    <tr>\n",
       "      <th>NA_sales</th>\n",
       "      <td>16,715.00</td>\n",
       "      <td>0.26</td>\n",
       "      <td>0.81</td>\n",
       "      <td>0.00</td>\n",
       "      <td>0.00</td>\n",
       "      <td>0.08</td>\n",
       "      <td>0.24</td>\n",
       "      <td>41.36</td>\n",
       "    </tr>\n",
       "    <tr>\n",
       "      <th>EU_sales</th>\n",
       "      <td>16,715.00</td>\n",
       "      <td>0.15</td>\n",
       "      <td>0.50</td>\n",
       "      <td>0.00</td>\n",
       "      <td>0.00</td>\n",
       "      <td>0.02</td>\n",
       "      <td>0.11</td>\n",
       "      <td>28.96</td>\n",
       "    </tr>\n",
       "    <tr>\n",
       "      <th>JP_sales</th>\n",
       "      <td>16,715.00</td>\n",
       "      <td>0.08</td>\n",
       "      <td>0.31</td>\n",
       "      <td>0.00</td>\n",
       "      <td>0.00</td>\n",
       "      <td>0.00</td>\n",
       "      <td>0.04</td>\n",
       "      <td>10.22</td>\n",
       "    </tr>\n",
       "    <tr>\n",
       "      <th>Other_sales</th>\n",
       "      <td>16,715.00</td>\n",
       "      <td>0.05</td>\n",
       "      <td>0.19</td>\n",
       "      <td>0.00</td>\n",
       "      <td>0.00</td>\n",
       "      <td>0.01</td>\n",
       "      <td>0.03</td>\n",
       "      <td>10.57</td>\n",
       "    </tr>\n",
       "    <tr>\n",
       "      <th>Critic_Score</th>\n",
       "      <td>8,137.00</td>\n",
       "      <td>68.97</td>\n",
       "      <td>13.94</td>\n",
       "      <td>13.00</td>\n",
       "      <td>60.00</td>\n",
       "      <td>71.00</td>\n",
       "      <td>79.00</td>\n",
       "      <td>98.00</td>\n",
       "    </tr>\n",
       "  </tbody>\n",
       "</table>\n",
       "</div>"
      ],
      "text/plain": [
       "                    count     mean   std      min      25%      50%      75%  \\\n",
       "Year_of_Release 16,446.00 2,006.48  5.88 1,980.00 2,003.00 2,007.00 2,010.00   \n",
       "NA_sales        16,715.00     0.26  0.81     0.00     0.00     0.08     0.24   \n",
       "EU_sales        16,715.00     0.15  0.50     0.00     0.00     0.02     0.11   \n",
       "JP_sales        16,715.00     0.08  0.31     0.00     0.00     0.00     0.04   \n",
       "Other_sales     16,715.00     0.05  0.19     0.00     0.00     0.01     0.03   \n",
       "Critic_Score     8,137.00    68.97 13.94    13.00    60.00    71.00    79.00   \n",
       "\n",
       "                     max  \n",
       "Year_of_Release 2,016.00  \n",
       "NA_sales           41.36  \n",
       "EU_sales           28.96  \n",
       "JP_sales           10.22  \n",
       "Other_sales        10.57  \n",
       "Critic_Score       98.00  "
      ]
     },
     "execution_count": 2,
     "metadata": {},
     "output_type": "execute_result"
    }
   ],
   "source": [
    "# Изучаем таблицу\n",
    "\n",
    "# data = pd.read_csv('games.csv', sep = ',' )\n",
    "data = pd.read_csv('/datasets/games.csv', sep = ',' )\n",
    "display(data.head(10))\n",
    "data.tail(10)\n",
    "data.sample(5)\n",
    "data.info()\n",
    "data['User_Score'].unique()\n",
    "data['Critic_Score'].unique()\n",
    "data['Name'].unique()\n",
    "data['Platform'].unique()\n",
    "data.describe().T\n"
   ]
  },
  {
   "cell_type": "markdown",
   "metadata": {},
   "source": [
    "### Вывод\n",
    "\n",
    "Данные открыты и изучены. Названия колонок следует привести к нижнему регистру. \n",
    "\n",
    "Найдены редкие пропуски в полях: \n",
    "* Name\n",
    "* Genre\n",
    "\n",
    "А также множественные пропуски в полях: \n",
    "* Year_of_Release\n",
    "* Critic_Score\n",
    "* User_Score\n",
    "* Rating\n",
    "\n",
    "Пропуски могли возникнуть по техническим причинам или из-за человеческого фактора.\n",
    "\n",
    "Некоректные типы данных:\n",
    "\n",
    "* Year_of_Release следует привести к типу int16\n",
    "* NA_sales снизим битность поля\n",
    "* EU_sales снизим битность поля\n",
    "* JP_sales снизим битность поля\n",
    "* Other_sales снизим битность поля\n",
    "* Critic_Score следует привести к типу int8\n",
    "* User_Score следует привести к типу float\n"
   ]
  },
  {
   "cell_type": "markdown",
   "metadata": {},
   "source": [
    "<a id=\"preproc\"></a>\n",
    "## 2. Предобработка данных"
   ]
  },
  {
   "cell_type": "markdown",
   "metadata": {},
   "source": [
    "Переименуем поля"
   ]
  },
  {
   "cell_type": "code",
   "execution_count": 3,
   "metadata": {
    "scrolled": true
   },
   "outputs": [
    {
     "name": "stdout",
     "output_type": "stream",
     "text": [
      "<class 'pandas.core.frame.DataFrame'>\n",
      "RangeIndex: 16715 entries, 0 to 16714\n",
      "Data columns (total 11 columns):\n",
      " #   Column           Non-Null Count  Dtype  \n",
      "---  ------           --------------  -----  \n",
      " 0   name             16713 non-null  object \n",
      " 1   platform         16715 non-null  object \n",
      " 2   year_of_release  16446 non-null  float64\n",
      " 3   genre            16713 non-null  object \n",
      " 4   na_sales         16715 non-null  float64\n",
      " 5   eu_sales         16715 non-null  float64\n",
      " 6   jp_sales         16715 non-null  float64\n",
      " 7   other_sales      16715 non-null  float64\n",
      " 8   critic_score     8137 non-null   float64\n",
      " 9   user_score       10014 non-null  object \n",
      " 10  rating           9949 non-null   object \n",
      "dtypes: float64(6), object(5)\n",
      "memory usage: 1.4+ MB\n"
     ]
    }
   ],
   "source": [
    "data.columns = data.columns.str.lower()\n",
    "data.info()"
   ]
  },
  {
   "cell_type": "markdown",
   "metadata": {},
   "source": [
    "Обработаем пропуски в годе выпуска, заполнив аналогичными значениями по названию игры. Пропуски в других полях пока оставим, так как они не зависят от других известных нам характеристик."
   ]
  },
  {
   "cell_type": "code",
   "execution_count": 4,
   "metadata": {},
   "outputs": [],
   "source": [
    "#сгруппируем данные по играм и году издания\n",
    "god_game = data.groupby('name')['year_of_release'].max().reset_index()\n",
    "god_game = god_game.rename(columns = {'year_of_release':'year'})\n",
    "data = data.merge(god_game, how='left', on='name')\n",
    "\n",
    "#Воспользуемся логической индексацией:\n",
    "data.loc[data['year_of_release'].isna(), 'year_of_release'] = data['year']"
   ]
  },
  {
   "cell_type": "code",
   "execution_count": 5,
   "metadata": {},
   "outputs": [
    {
     "name": "stdout",
     "output_type": "stream",
     "text": [
      "Поля удалены\n"
     ]
    }
   ],
   "source": [
    "#Удалим лишние добавленные нами колонки\n",
    "try:\n",
    "    data = data.drop([\"year_x\"], axis=1)\n",
    "    data = data.drop([\"year_y\"], axis=1)\n",
    "    data = data.drop([\"year\"], axis=1)\n",
    "except:\n",
    "     print('Поля удалены')"
   ]
  },
  {
   "cell_type": "markdown",
   "metadata": {},
   "source": [
    "Обработаем аббревиатуру tbd в столбцах с рейтингом. Аббревиатура переводится, как \"to be determined, to be done\", это означает что данные пропущены специально. Заменим их на NaN."
   ]
  },
  {
   "cell_type": "code",
   "execution_count": 6,
   "metadata": {},
   "outputs": [],
   "source": [
    "data['user_score'] = data['user_score'].replace('tbd', np.nan)\n",
    "# data['user_score'].unique()"
   ]
  },
  {
   "cell_type": "markdown",
   "metadata": {},
   "source": [
    "Изменим типы данных в соответствии с нашими решениями."
   ]
  },
  {
   "cell_type": "code",
   "execution_count": 7,
   "metadata": {},
   "outputs": [
    {
     "name": "stdout",
     "output_type": "stream",
     "text": [
      "<class 'pandas.core.frame.DataFrame'>\n",
      "Int64Index: 16715 entries, 0 to 16714\n",
      "Data columns (total 12 columns):\n",
      " #   Column           Non-Null Count  Dtype  \n",
      "---  ------           --------------  -----  \n",
      " 0   name             16713 non-null  object \n",
      " 1   platform         16715 non-null  object \n",
      " 2   year_of_release  16569 non-null  Int16  \n",
      " 3   genre            16713 non-null  object \n",
      " 4   na_sales         16715 non-null  float32\n",
      " 5   eu_sales         16715 non-null  float32\n",
      " 6   jp_sales         16715 non-null  float32\n",
      " 7   other_sales      16715 non-null  float32\n",
      " 8   critic_score     8137 non-null   float32\n",
      " 9   user_score       7590 non-null   float32\n",
      " 10  rating           9949 non-null   object \n",
      " 11  year             16567 non-null  float64\n",
      "dtypes: Int16(1), float32(6), float64(1), object(4)\n",
      "memory usage: 1.7+ MB\n"
     ]
    }
   ],
   "source": [
    "\n",
    "data = data.astype({\"na_sales\": \"float32\", \"eu_sales\": \"float32\", \"jp_sales\": \"float32\", \"other_sales\": \"float32\", \"user_score\": \"float32\", \"critic_score\": \"float32\"})\n",
    "data['year_of_release'] = data['year_of_release'].astype('Int16')\n",
    "data.info()"
   ]
  },
  {
   "cell_type": "markdown",
   "metadata": {},
   "source": [
    "Типы данных успешно изменены, использование памяти сокращено на 15%"
   ]
  },
  {
   "cell_type": "markdown",
   "metadata": {},
   "source": [
    "Посчитаем суммарные продажи во всех регионах"
   ]
  },
  {
   "cell_type": "code",
   "execution_count": 8,
   "metadata": {},
   "outputs": [
    {
     "data": {
      "text/html": [
       "<div>\n",
       "<style scoped>\n",
       "    .dataframe tbody tr th:only-of-type {\n",
       "        vertical-align: middle;\n",
       "    }\n",
       "\n",
       "    .dataframe tbody tr th {\n",
       "        vertical-align: top;\n",
       "    }\n",
       "\n",
       "    .dataframe thead th {\n",
       "        text-align: right;\n",
       "    }\n",
       "</style>\n",
       "<table border=\"1\" class=\"dataframe\">\n",
       "  <thead>\n",
       "    <tr style=\"text-align: right;\">\n",
       "      <th></th>\n",
       "      <th>name</th>\n",
       "      <th>platform</th>\n",
       "      <th>year_of_release</th>\n",
       "      <th>genre</th>\n",
       "      <th>na_sales</th>\n",
       "      <th>eu_sales</th>\n",
       "      <th>jp_sales</th>\n",
       "      <th>other_sales</th>\n",
       "      <th>critic_score</th>\n",
       "      <th>user_score</th>\n",
       "      <th>rating</th>\n",
       "      <th>year</th>\n",
       "      <th>total_sales</th>\n",
       "    </tr>\n",
       "  </thead>\n",
       "  <tbody>\n",
       "    <tr>\n",
       "      <th>0</th>\n",
       "      <td>Wii Sports</td>\n",
       "      <td>Wii</td>\n",
       "      <td>2006</td>\n",
       "      <td>Sports</td>\n",
       "      <td>41.36</td>\n",
       "      <td>28.96</td>\n",
       "      <td>3.77</td>\n",
       "      <td>8.45</td>\n",
       "      <td>76.00</td>\n",
       "      <td>8.00</td>\n",
       "      <td>E</td>\n",
       "      <td>2,006.00</td>\n",
       "      <td>82.54</td>\n",
       "    </tr>\n",
       "    <tr>\n",
       "      <th>1</th>\n",
       "      <td>Super Mario Bros.</td>\n",
       "      <td>NES</td>\n",
       "      <td>1985</td>\n",
       "      <td>Platform</td>\n",
       "      <td>29.08</td>\n",
       "      <td>3.58</td>\n",
       "      <td>6.81</td>\n",
       "      <td>0.77</td>\n",
       "      <td>NaN</td>\n",
       "      <td>NaN</td>\n",
       "      <td>NaN</td>\n",
       "      <td>1,999.00</td>\n",
       "      <td>40.24</td>\n",
       "    </tr>\n",
       "    <tr>\n",
       "      <th>2</th>\n",
       "      <td>Mario Kart Wii</td>\n",
       "      <td>Wii</td>\n",
       "      <td>2008</td>\n",
       "      <td>Racing</td>\n",
       "      <td>15.68</td>\n",
       "      <td>12.76</td>\n",
       "      <td>3.79</td>\n",
       "      <td>3.29</td>\n",
       "      <td>82.00</td>\n",
       "      <td>8.30</td>\n",
       "      <td>E</td>\n",
       "      <td>2,008.00</td>\n",
       "      <td>35.52</td>\n",
       "    </tr>\n",
       "    <tr>\n",
       "      <th>3</th>\n",
       "      <td>Wii Sports Resort</td>\n",
       "      <td>Wii</td>\n",
       "      <td>2009</td>\n",
       "      <td>Sports</td>\n",
       "      <td>15.61</td>\n",
       "      <td>10.93</td>\n",
       "      <td>3.28</td>\n",
       "      <td>2.95</td>\n",
       "      <td>80.00</td>\n",
       "      <td>8.00</td>\n",
       "      <td>E</td>\n",
       "      <td>2,009.00</td>\n",
       "      <td>32.77</td>\n",
       "    </tr>\n",
       "    <tr>\n",
       "      <th>4</th>\n",
       "      <td>Pokemon Red/Pokemon Blue</td>\n",
       "      <td>GB</td>\n",
       "      <td>1996</td>\n",
       "      <td>Role-Playing</td>\n",
       "      <td>11.27</td>\n",
       "      <td>8.89</td>\n",
       "      <td>10.22</td>\n",
       "      <td>1.00</td>\n",
       "      <td>NaN</td>\n",
       "      <td>NaN</td>\n",
       "      <td>NaN</td>\n",
       "      <td>1,996.00</td>\n",
       "      <td>31.38</td>\n",
       "    </tr>\n",
       "    <tr>\n",
       "      <th>5</th>\n",
       "      <td>Tetris</td>\n",
       "      <td>GB</td>\n",
       "      <td>1989</td>\n",
       "      <td>Puzzle</td>\n",
       "      <td>23.20</td>\n",
       "      <td>2.26</td>\n",
       "      <td>4.22</td>\n",
       "      <td>0.58</td>\n",
       "      <td>NaN</td>\n",
       "      <td>NaN</td>\n",
       "      <td>NaN</td>\n",
       "      <td>1,989.00</td>\n",
       "      <td>30.26</td>\n",
       "    </tr>\n",
       "    <tr>\n",
       "      <th>6</th>\n",
       "      <td>New Super Mario Bros.</td>\n",
       "      <td>DS</td>\n",
       "      <td>2006</td>\n",
       "      <td>Platform</td>\n",
       "      <td>11.28</td>\n",
       "      <td>9.14</td>\n",
       "      <td>6.50</td>\n",
       "      <td>2.88</td>\n",
       "      <td>89.00</td>\n",
       "      <td>8.50</td>\n",
       "      <td>E</td>\n",
       "      <td>2,006.00</td>\n",
       "      <td>29.80</td>\n",
       "    </tr>\n",
       "    <tr>\n",
       "      <th>7</th>\n",
       "      <td>Wii Play</td>\n",
       "      <td>Wii</td>\n",
       "      <td>2006</td>\n",
       "      <td>Misc</td>\n",
       "      <td>13.96</td>\n",
       "      <td>9.18</td>\n",
       "      <td>2.93</td>\n",
       "      <td>2.84</td>\n",
       "      <td>58.00</td>\n",
       "      <td>6.60</td>\n",
       "      <td>E</td>\n",
       "      <td>2,006.00</td>\n",
       "      <td>28.91</td>\n",
       "    </tr>\n",
       "    <tr>\n",
       "      <th>8</th>\n",
       "      <td>New Super Mario Bros. Wii</td>\n",
       "      <td>Wii</td>\n",
       "      <td>2009</td>\n",
       "      <td>Platform</td>\n",
       "      <td>14.44</td>\n",
       "      <td>6.94</td>\n",
       "      <td>4.70</td>\n",
       "      <td>2.24</td>\n",
       "      <td>87.00</td>\n",
       "      <td>8.40</td>\n",
       "      <td>E</td>\n",
       "      <td>2,009.00</td>\n",
       "      <td>28.32</td>\n",
       "    </tr>\n",
       "    <tr>\n",
       "      <th>9</th>\n",
       "      <td>Duck Hunt</td>\n",
       "      <td>NES</td>\n",
       "      <td>1984</td>\n",
       "      <td>Shooter</td>\n",
       "      <td>26.93</td>\n",
       "      <td>0.63</td>\n",
       "      <td>0.28</td>\n",
       "      <td>0.47</td>\n",
       "      <td>NaN</td>\n",
       "      <td>NaN</td>\n",
       "      <td>NaN</td>\n",
       "      <td>1,984.00</td>\n",
       "      <td>28.31</td>\n",
       "    </tr>\n",
       "  </tbody>\n",
       "</table>\n",
       "</div>"
      ],
      "text/plain": [
       "                        name platform  year_of_release         genre  \\\n",
       "0                 Wii Sports      Wii             2006        Sports   \n",
       "1          Super Mario Bros.      NES             1985      Platform   \n",
       "2             Mario Kart Wii      Wii             2008        Racing   \n",
       "3          Wii Sports Resort      Wii             2009        Sports   \n",
       "4   Pokemon Red/Pokemon Blue       GB             1996  Role-Playing   \n",
       "5                     Tetris       GB             1989        Puzzle   \n",
       "6      New Super Mario Bros.       DS             2006      Platform   \n",
       "7                   Wii Play      Wii             2006          Misc   \n",
       "8  New Super Mario Bros. Wii      Wii             2009      Platform   \n",
       "9                  Duck Hunt      NES             1984       Shooter   \n",
       "\n",
       "   na_sales  eu_sales  jp_sales  other_sales  critic_score  user_score rating  \\\n",
       "0     41.36     28.96      3.77         8.45         76.00        8.00      E   \n",
       "1     29.08      3.58      6.81         0.77           NaN         NaN    NaN   \n",
       "2     15.68     12.76      3.79         3.29         82.00        8.30      E   \n",
       "3     15.61     10.93      3.28         2.95         80.00        8.00      E   \n",
       "4     11.27      8.89     10.22         1.00           NaN         NaN    NaN   \n",
       "5     23.20      2.26      4.22         0.58           NaN         NaN    NaN   \n",
       "6     11.28      9.14      6.50         2.88         89.00        8.50      E   \n",
       "7     13.96      9.18      2.93         2.84         58.00        6.60      E   \n",
       "8     14.44      6.94      4.70         2.24         87.00        8.40      E   \n",
       "9     26.93      0.63      0.28         0.47           NaN         NaN    NaN   \n",
       "\n",
       "      year  total_sales  \n",
       "0 2,006.00        82.54  \n",
       "1 1,999.00        40.24  \n",
       "2 2,008.00        35.52  \n",
       "3 2,009.00        32.77  \n",
       "4 1,996.00        31.38  \n",
       "5 1,989.00        30.26  \n",
       "6 2,006.00        29.80  \n",
       "7 2,006.00        28.91  \n",
       "8 2,009.00        28.32  \n",
       "9 1,984.00        28.31  "
      ]
     },
     "execution_count": 8,
     "metadata": {},
     "output_type": "execute_result"
    }
   ],
   "source": [
    "data['total_sales'] = data['na_sales'] + data['eu_sales'] + data['jp_sales'] + data['other_sales']\n",
    "data.head(10)"
   ]
  },
  {
   "cell_type": "markdown",
   "metadata": {},
   "source": [
    "### Вывод\n",
    "\n",
    "Предобработка проведена: \n",
    "* типы данных изменены на более корректные;\n",
    "* колонки переименованы в нижний регистр;\n",
    "* пропуски обработаны в полях, где это целесообразно;\n",
    "* проведен расчет суммарных продаж необходимый для дальнейшего исследования."
   ]
  },
  {
   "cell_type": "markdown",
   "metadata": {},
   "source": [
    "<a id=\"pred\"></a>\n",
    "## 3. Исследовательский анализ данных"
   ]
  },
  {
   "cell_type": "markdown",
   "metadata": {},
   "source": [
    "Выясним, сколько игр выпускалось в разные годы и важны ли данные за все периоды.\n"
   ]
  },
  {
   "cell_type": "code",
   "execution_count": 34,
   "metadata": {
    "scrolled": false
   },
   "outputs": [
    {
     "data": {
      "image/png": "[encoded data removed]",
      "text/plain": [
       "<Figure size 1440x864 with 1 Axes>"
      ]
     },
     "metadata": {},
     "output_type": "display_data"
    }
   ],
   "source": [
    "# Сгруппируем таблицу по году выпуска, чтобы просмотреть как менялось количество игр\n",
    "games_years = data.pivot_table(index='year_of_release', values='name', aggfunc='count').reset_index()\n",
    "games_years.columns = ['year_of_release', 'cnt_games']\n",
    "# display(games_years.sort_values('year_of_release'))\n",
    "\n",
    "bar = sb.barplot(y='cnt_games',x='year_of_release',  data=games_years.sort_values('year_of_release'))\n",
    "sb.set(rc = {'figure.figsize':(20,12)})\n",
    "bar.set(xlabel='Год', ylabel='Кол-во выпущенных игр, шт.', title='Кол-во выпущенных игр по годам')\n",
    "plt.show()"
   ]
  },
  {
   "cell_type": "markdown",
   "metadata": {},
   "source": [
    "По графику можно увидеть, что количество игр резко возросло после с 1991го года. Пик приходится на 2007 год.\n",
    "С 2008 года производство игр пошло на спад. Вероятно, геймдив ушел в мобильную разработку из-за роста популярности смартфонов, а мобильные платформы в данных не представлены."
   ]
  },
  {
   "cell_type": "markdown",
   "metadata": {},
   "source": [
    "Выясним, как менялись продажи по платформам. Выберем платформы с наибольшими суммарными продажами и построим распределение по годам. Определим период 4 года. Посмотрим, за какой характерный срок появляются новые и исчезают старые платформы. \n"
   ]
  },
  {
   "cell_type": "code",
   "execution_count": 10,
   "metadata": {},
   "outputs": [
    {
     "data": {
      "image/png": "[encoded data removed]",
      "text/plain": [
       "<Figure size 1440x864 with 1 Axes>"
      ]
     },
     "metadata": {},
     "output_type": "display_data"
    }
   ],
   "source": [
    "platform_sales = data.pivot_table(index='platform', values='total_sales', aggfunc='sum').reset_index().sort_values(by='total_sales', ascending=False)\n",
    "# platform_sales\n",
    "\n",
    "bar = sb.barplot(y='total_sales',x='platform',  data=platform_sales)\n",
    "sb.set(rc = {'figure.figsize':(11,8)})\n",
    "bar.set(xlabel='Платформа', ylabel='Суммарные продажи, млн. копий', title='График продаж по платформам')\n",
    "plt.show()"
   ]
  },
  {
   "cell_type": "markdown",
   "metadata": {},
   "source": [
    "Самые популярные игровые платформы за все годы: PS2, X360, PS3, WII, DS, PS."
   ]
  },
  {
   "cell_type": "code",
   "execution_count": 11,
   "metadata": {
    "scrolled": true
   },
   "outputs": [
    {
     "data": {
      "text/html": [
       "<div>\n",
       "<style scoped>\n",
       "    .dataframe tbody tr th:only-of-type {\n",
       "        vertical-align: middle;\n",
       "    }\n",
       "\n",
       "    .dataframe tbody tr th {\n",
       "        vertical-align: top;\n",
       "    }\n",
       "\n",
       "    .dataframe thead th {\n",
       "        text-align: right;\n",
       "    }\n",
       "</style>\n",
       "<table border=\"1\" class=\"dataframe\">\n",
       "  <thead>\n",
       "    <tr style=\"text-align: right;\">\n",
       "      <th></th>\n",
       "      <th>platform</th>\n",
       "      <th>total_sales</th>\n",
       "    </tr>\n",
       "  </thead>\n",
       "  <tbody>\n",
       "    <tr>\n",
       "      <th>0</th>\n",
       "      <td>PS4</td>\n",
       "      <td>314.14</td>\n",
       "    </tr>\n",
       "    <tr>\n",
       "      <th>1</th>\n",
       "      <td>PS3</td>\n",
       "      <td>181.43</td>\n",
       "    </tr>\n",
       "    <tr>\n",
       "      <th>2</th>\n",
       "      <td>XOne</td>\n",
       "      <td>159.32</td>\n",
       "    </tr>\n",
       "    <tr>\n",
       "      <th>3</th>\n",
       "      <td>3DS</td>\n",
       "      <td>143.25</td>\n",
       "    </tr>\n",
       "    <tr>\n",
       "      <th>4</th>\n",
       "      <td>X360</td>\n",
       "      <td>136.80</td>\n",
       "    </tr>\n",
       "    <tr>\n",
       "      <th>5</th>\n",
       "      <td>WiiU</td>\n",
       "      <td>64.63</td>\n",
       "    </tr>\n",
       "  </tbody>\n",
       "</table>\n",
       "</div>"
      ],
      "text/plain": [
       "  platform  total_sales\n",
       "0      PS4       314.14\n",
       "1      PS3       181.43\n",
       "2     XOne       159.32\n",
       "3      3DS       143.25\n",
       "4     X360       136.80\n",
       "5     WiiU        64.63"
      ]
     },
     "metadata": {},
     "output_type": "display_data"
    }
   ],
   "source": [
    "# Отберем самые популярные платформы за последние 4 года\n",
    "top_platforms = data.query('year_of_release>=2013').pivot_table(index='platform', values='total_sales', aggfunc='sum').sort_values(by='total_sales', ascending=False).head(6)\n",
    "top_platforms =top_platforms.reset_index()\n",
    "display(top_platforms)"
   ]
  },
  {
   "cell_type": "code",
   "execution_count": 12,
   "metadata": {},
   "outputs": [],
   "source": [
    "# Добавим функцию, которая будет возвращать сгруппированные по продажам данные с 2013 года\n",
    "def sale_platform_for_years(platf):\n",
    "    prepare = data[(data['platform'] == platf) & (data['year_of_release'] >= 2013) & (data['total_sales'].isna()==False)]\n",
    "    res = prepare.pivot_table(index='year_of_release', values='total_sales', aggfunc='sum').sort_values('year_of_release', ascending=False)\n",
    "    return res"
   ]
  },
  {
   "cell_type": "code",
   "execution_count": 13,
   "metadata": {
    "scrolled": false
   },
   "outputs": [
    {
     "data": {
      "image/png": "[encoded data removed]",
      "text/plain": [
       "<Figure size 864x432 with 1 Axes>"
      ]
     },
     "metadata": {},
     "output_type": "display_data"
    }
   ],
   "source": [
    "# Построим распределение популярных платформ по годам, начиная с 2013-го\n",
    "\n",
    "plt.figure(figsize=(12,6))\n",
    "plt.title('Суммарные продажи игр популярных платформ с 2013 по 2016гг.')\n",
    "plt.xlabel('Год')\n",
    "plt.ylabel('Суммарные продажи, млн. копий')\n",
    "\n",
    "for p in list(top_platforms['platform']):\n",
    "      try:\n",
    "#       print(sale_platform_for_years(p)['total_sales'],p)\n",
    "        sb.lineplot(data=sale_platform_for_years(p)['total_sales'], label=p)\n",
    "        plt.legend()\n",
    "      except:\n",
    "        ''"
   ]
  },
  {
   "cell_type": "markdown",
   "metadata": {},
   "source": [
    "Посчитаем разницу в годах между последней продажей и первой для каждой платформы и посчитаем среднее."
   ]
  },
  {
   "cell_type": "code",
   "execution_count": 14,
   "metadata": {
    "scrolled": false
   },
   "outputs": [
    {
     "data": {
      "text/plain": [
       "8.161290322580646"
      ]
     },
     "execution_count": 14,
     "metadata": {},
     "output_type": "execute_result"
    }
   ],
   "source": [
    "maxyear_plat = data.groupby('platform')['year_of_release'].max().reset_index() \n",
    "minyear_plat = data.groupby('platform')['year_of_release'].min().reset_index()\n",
    "merge_plat = maxyear_plat.merge(minyear_plat,on='platform')\n",
    "merge_plat['diff_years'] = merge_plat['year_of_release_x'] - merge_plat['year_of_release_y']\n",
    "merge_plat['diff_years'].mean()"
   ]
  },
  {
   "cell_type": "markdown",
   "metadata": {},
   "source": [
    "Среднее время жизни платформ составляет 8 лет."
   ]
  },
  {
   "cell_type": "markdown",
   "metadata": {},
   "source": [
    "За рассматриваемый период наилучшие продажи были у PS4, XOne и 3DS, примем их за потенциально самые прибыльные, так как срок их жизни еще не подошел к концу. Добавим в список также PC, платформу пережившую многие другие, которая актуальна до сих пор несмотря на более низкие продажи, чем у консолей."
   ]
  },
  {
   "cell_type": "markdown",
   "metadata": {},
   "source": [
    "Построим график «ящик с усами» по глобальным продажам игр в разбивке по выбранным популярным платформам."
   ]
  },
  {
   "cell_type": "code",
   "execution_count": 15,
   "metadata": {
    "scrolled": false
   },
   "outputs": [
    {
     "data": {
      "image/png": "[encoded data removed]",
      "text/plain": [
       "<Figure size 792x576 with 1 Axes>"
      ]
     },
     "metadata": {},
     "output_type": "display_data"
    }
   ],
   "source": [
    "top = data[data['platform'].isin(['PS4','XOne','3DS','PC'])]\n",
    "\n",
    "bar = sb.boxplot(data=top, x='platform', y='total_sales')\n",
    "sb.set(rc = {'figure.figsize':(15,5)})\n",
    "bar.set(xlabel='Платформа', ylabel='Суммарные продажи, млн. копий', title='Распределение продаж по платформам за 4 года')\n",
    "plt.show()"
   ]
  },
  {
   "cell_type": "code",
   "execution_count": 16,
   "metadata": {
    "scrolled": false
   },
   "outputs": [
    {
     "data": {
      "image/png": "[encoded data removed]",
      "text/plain": [
       "<Figure size 1080x360 with 1 Axes>"
      ]
     },
     "metadata": {},
     "output_type": "display_data"
    }
   ],
   "source": [
    "# Отбросим более редкие значения\n",
    "top = top[top['total_sales']<3]\n",
    "\n",
    "bar = sb.boxplot(data=top, x='platform', y='total_sales')\n",
    "sb.set(rc = {'figure.figsize':(15,5)})\n",
    "bar.set(xlabel='Платформа', ylabel='Суммарные продажи, млн. копий', title='Распределение продаж по платформам за 4 года')\n",
    "plt.show()"
   ]
  },
  {
   "cell_type": "markdown",
   "metadata": {},
   "source": [
    "По второму графику видно, что медианы продаж выше всего у игр на PS4 и XOne."
   ]
  },
  {
   "cell_type": "markdown",
   "metadata": {},
   "source": [
    "Посмотрим, как влияют на продажи внутри одной популярной платформы отзывы пользователей и критиков. Построим диаграмму рассеяния и посчитаем корреляцию между отзывами и продажами."
   ]
  },
  {
   "cell_type": "code",
   "execution_count": 17,
   "metadata": {},
   "outputs": [
    {
     "data": {
      "text/plain": [
       "-0.031957105603966966"
      ]
     },
     "execution_count": 17,
     "metadata": {},
     "output_type": "execute_result"
    }
   ],
   "source": [
    "#Корреляция между оценками пользователей и общими продажами \n",
    "ps = data[data['platform']=='PS4']\n",
    "ps['user_score'].corr(ps['total_sales'])"
   ]
  },
  {
   "cell_type": "code",
   "execution_count": 18,
   "metadata": {},
   "outputs": [
    {
     "data": {
      "text/plain": [
       "0.40656790102834933"
      ]
     },
     "execution_count": 18,
     "metadata": {},
     "output_type": "execute_result"
    }
   ],
   "source": [
    "#Корреляция между оценкой критиков и общими продажам\n",
    "ps['critic_score'].corr(ps['total_sales'])"
   ]
  },
  {
   "cell_type": "code",
   "execution_count": 19,
   "metadata": {},
   "outputs": [
    {
     "data": {
      "image/png": "[encoded data removed]",
      "text/plain": [
       "<Figure size 1080x432 with 1 Axes>"
      ]
     },
     "metadata": {},
     "output_type": "display_data"
    }
   ],
   "source": [
    "#Построим диаграмму рассеяния по оценкам пользователей и продажам\n",
    "scat = ps.plot(x = 'user_score', y = 'total_sales', kind = 'scatter', figsize=(15, 6), color='steelblue', alpha=0.6) \n",
    "scat.set(xlabel='Оценки пользователей', ylabel='Суммарные продажи, млн. копий', title='Зависимость продаж от оценок пользователей') \n",
    "plt.show()"
   ]
  },
  {
   "cell_type": "code",
   "execution_count": 20,
   "metadata": {},
   "outputs": [
    {
     "data": {
      "image/png": "[encoded data removed]",
      "text/plain": [
       "<Figure size 1080x432 with 1 Axes>"
      ]
     },
     "metadata": {},
     "output_type": "display_data"
    }
   ],
   "source": [
    "#Построим диаграмму рассеяния по оценкам критиков и продажам\n",
    "scat = ps.plot(x = 'critic_score', y = 'total_sales', kind = 'scatter', figsize=(15, 6), color='steelblue', alpha=0.6) \n",
    "scat.set(xlabel='Оценки критиков', ylabel='Суммарные продажи, млн. копий', title='Зависимость продаж от оценок критиков') \n",
    "plt.show()"
   ]
  },
  {
   "cell_type": "markdown",
   "metadata": {},
   "source": [
    "По диаграммам рассеяния видно, что оценки критиков гораздо сильнее коррелируют с продажами, чем оценки пользователей. Коэфициент Пирсона больше на 0.4"
   ]
  },
  {
   "cell_type": "markdown",
   "metadata": {},
   "source": [
    "Соотнесем выводы с продажами игр на других платформах."
   ]
  },
  {
   "cell_type": "code",
   "execution_count": 21,
   "metadata": {},
   "outputs": [],
   "source": [
    "#Напишем функцию для построения диаграмм рассеивания и расчета коэффициента корреляции по оценкам и продажам в других платформах\n",
    "\n",
    "def scatter_and_korr (name):\n",
    "    platform = data[data['platform']==name]\n",
    "    fig, ax = plt.subplots(1, 2, figsize=(12,5))\n",
    "    sb.scatterplot(x='user_score', y='total_sales', data=platform, ax=ax[0])\n",
    "    sb.scatterplot(x='critic_score', y='total_sales', data=platform, ax=ax[1])\n",
    "    fig.suptitle(name)\n",
    "    ax[0].set(xlabel='Оценки пользователей')\n",
    "    ax[1].set(xlabel='Оценки критиков')\n",
    "    ax[0].set(ylabel='Суммарные продажи, млн. копий')\n",
    "    ax[1].set(ylabel='Суммарные продажи, млн. копий')\n",
    "    plt.show()    \n",
    "    cor_users = platform['user_score'].corr(platform['total_sales'])\n",
    "    cor_critics = platform['critic_score'].corr(platform['total_sales'])\n",
    "    print('Коэфициент корреляции Пирсона между продажами и оценками\\nПОЛЬЗОВАТЕЛЕЙ:', cor_users,'\\nКРИТИКОВ:', cor_critics)"
   ]
  },
  {
   "cell_type": "code",
   "execution_count": 22,
   "metadata": {
    "scrolled": false
   },
   "outputs": [
    {
     "data": {
      "image/png": "[encoded data removed]",
      "text/plain": [
       "<Figure size 864x360 with 2 Axes>"
      ]
     },
     "metadata": {},
     "output_type": "display_data"
    },
    {
     "name": "stdout",
     "output_type": "stream",
     "text": [
      "Коэфициент корреляции Пирсона между продажами и оценками\n",
      "ПОЛЬЗОВАТЕЛЕЙ: -0.031957105603966966 \n",
      "КРИТИКОВ: 0.40656790102834933\n"
     ]
    },
    {
     "data": {
      "image/png": "[encoded data removed]",
      "text/plain": [
       "<Figure size 864x360 with 2 Axes>"
      ]
     },
     "metadata": {},
     "output_type": "display_data"
    },
    {
     "name": "stdout",
     "output_type": "stream",
     "text": [
      "Коэфициент корреляции Пирсона между продажами и оценками\n",
      "ПОЛЬЗОВАТЕЛЕЙ: 0.12669134879725075 \n",
      "КРИТИКОВ: 0.43243157461161663\n"
     ]
    },
    {
     "data": {
      "image/png": "[encoded data removed]",
      "text/plain": [
       "<Figure size 864x360 with 2 Axes>"
      ]
     },
     "metadata": {},
     "output_type": "display_data"
    },
    {
     "name": "stdout",
     "output_type": "stream",
     "text": [
      "Коэфициент корреляции Пирсона между продажами и оценками\n",
      "ПОЛЬЗОВАТЕЛЕЙ: -0.06892505829722281 \n",
      "КРИТИКОВ: 0.41699832684400107\n"
     ]
    },
    {
     "data": {
      "image/png": "[encoded data removed]",
      "text/plain": [
       "<Figure size 864x360 with 2 Axes>"
      ]
     },
     "metadata": {},
     "output_type": "display_data"
    },
    {
     "name": "stdout",
     "output_type": "stream",
     "text": [
      "Коэфициент корреляции Пирсона между продажами и оценками\n",
      "ПОЛЬЗОВАТЕЛЕЙ: 0.2248079511342652 \n",
      "КРИТИКОВ: 0.3494009305453435\n"
     ]
    },
    {
     "data": {
      "image/png": "[encoded data removed]",
      "text/plain": [
       "<Figure size 864x360 with 2 Axes>"
      ]
     },
     "metadata": {},
     "output_type": "display_data"
    },
    {
     "name": "stdout",
     "output_type": "stream",
     "text": [
      "Коэфициент корреляции Пирсона между продажами и оценками\n",
      "ПОЛЬЗОВАТЕЛЕЙ: 0.11445883570530249 \n",
      "КРИТИКОВ: 0.39373586671840544\n"
     ]
    },
    {
     "data": {
      "image/png": "[encoded data removed]",
      "text/plain": [
       "<Figure size 864x360 with 2 Axes>"
      ]
     },
     "metadata": {},
     "output_type": "display_data"
    },
    {
     "name": "stdout",
     "output_type": "stream",
     "text": [
      "Коэфициент корреляции Пирсона между продажами и оценками\n",
      "ПОЛЬЗОВАТЕЛЕЙ: 0.4002190371566136 \n",
      "КРИТИКОВ: 0.3483797599500602\n"
     ]
    }
   ],
   "source": [
    "for platform in list(top_platforms['platform']): \n",
    "# ['XOne','3DS','PC']:\n",
    "    scatter_and_korr(platform)"
   ]
  },
  {
   "cell_type": "markdown",
   "metadata": {},
   "source": [
    "Выводы по избранной нами платформе PS4 совпадают с выводами по другим платформам: корреляция между продажами и оценками критиков заметно выше, чем аналогичная корреляция с оценками пользователей."
   ]
  },
  {
   "cell_type": "markdown",
   "metadata": {},
   "source": [
    "Посмотрим на общее распределение игр по жанрам: что можно сказать о самых прибыльных жанрах, выделяются ли жанры с высокими и низкими продажами."
   ]
  },
  {
   "cell_type": "code",
   "execution_count": 23,
   "metadata": {},
   "outputs": [
    {
     "data": {
      "text/html": [
       "<div>\n",
       "<style scoped>\n",
       "    .dataframe tbody tr th:only-of-type {\n",
       "        vertical-align: middle;\n",
       "    }\n",
       "\n",
       "    .dataframe tbody tr th {\n",
       "        vertical-align: top;\n",
       "    }\n",
       "\n",
       "    .dataframe thead th {\n",
       "        text-align: right;\n",
       "    }\n",
       "</style>\n",
       "<table border=\"1\" class=\"dataframe\">\n",
       "  <thead>\n",
       "    <tr style=\"text-align: right;\">\n",
       "      <th></th>\n",
       "      <th>genre</th>\n",
       "      <th>total_sales</th>\n",
       "    </tr>\n",
       "  </thead>\n",
       "  <tbody>\n",
       "    <tr>\n",
       "      <th>0</th>\n",
       "      <td>Strategy</td>\n",
       "      <td>174.23</td>\n",
       "    </tr>\n",
       "    <tr>\n",
       "      <th>1</th>\n",
       "      <td>Adventure</td>\n",
       "      <td>237.59</td>\n",
       "    </tr>\n",
       "    <tr>\n",
       "      <th>2</th>\n",
       "      <td>Puzzle</td>\n",
       "      <td>242.57</td>\n",
       "    </tr>\n",
       "    <tr>\n",
       "      <th>3</th>\n",
       "      <td>Simulation</td>\n",
       "      <td>389.97</td>\n",
       "    </tr>\n",
       "    <tr>\n",
       "      <th>4</th>\n",
       "      <td>Fighting</td>\n",
       "      <td>447.53</td>\n",
       "    </tr>\n",
       "    <tr>\n",
       "      <th>5</th>\n",
       "      <td>Racing</td>\n",
       "      <td>728.67</td>\n",
       "    </tr>\n",
       "    <tr>\n",
       "      <th>6</th>\n",
       "      <td>Misc</td>\n",
       "      <td>802.51</td>\n",
       "    </tr>\n",
       "    <tr>\n",
       "      <th>7</th>\n",
       "      <td>Platform</td>\n",
       "      <td>827.77</td>\n",
       "    </tr>\n",
       "    <tr>\n",
       "      <th>8</th>\n",
       "      <td>Role-Playing</td>\n",
       "      <td>934.56</td>\n",
       "    </tr>\n",
       "    <tr>\n",
       "      <th>9</th>\n",
       "      <td>Shooter</td>\n",
       "      <td>1,052.45</td>\n",
       "    </tr>\n",
       "    <tr>\n",
       "      <th>10</th>\n",
       "      <td>Sports</td>\n",
       "      <td>1,331.27</td>\n",
       "    </tr>\n",
       "    <tr>\n",
       "      <th>11</th>\n",
       "      <td>Action</td>\n",
       "      <td>1,744.17</td>\n",
       "    </tr>\n",
       "  </tbody>\n",
       "</table>\n",
       "</div>"
      ],
      "text/plain": [
       "           genre  total_sales\n",
       "0       Strategy       174.23\n",
       "1      Adventure       237.59\n",
       "2         Puzzle       242.57\n",
       "3     Simulation       389.97\n",
       "4       Fighting       447.53\n",
       "5         Racing       728.67\n",
       "6           Misc       802.51\n",
       "7       Platform       827.77\n",
       "8   Role-Playing       934.56\n",
       "9        Shooter     1,052.45\n",
       "10        Sports     1,331.27\n",
       "11        Action     1,744.17"
      ]
     },
     "metadata": {},
     "output_type": "display_data"
    },
    {
     "data": {
      "image/png": "[encoded data removed]",
      "text/plain": [
       "<Figure size 1080x360 with 1 Axes>"
      ]
     },
     "metadata": {},
     "output_type": "display_data"
    }
   ],
   "source": [
    "# Воспользуемся сводной таблицей\n",
    "genre_sales = data.pivot_table(index='genre', values='total_sales',aggfunc='sum')\n",
    "display(genre_sales.sort_values('total_sales').reset_index())\n",
    "\n",
    "bar = sb.barplot(y='total_sales',x='genre', data=genre_sales.sort_values('total_sales').reset_index())\n",
    "sb.set(rc = {'figure.figsize':(12,5)})\n",
    "bar.set(ylabel='Суммарные продажи, млн. копий', xlabel='Жанр', title='Распределение общих продаж по жанрам игр')\n",
    "plt.show()\n"
   ]
  },
  {
   "cell_type": "markdown",
   "metadata": {},
   "source": [
    "Наиболее продаваемый жанр - Action, самый невыгодный, к сожалению, Strategy. Большинство покупателей предпочитает расслабляться во время игры, а не думать. Интересная особенность в том, что Sport вышел на второе место, вероятно засчет любителей Fifa и футбола."
   ]
  },
  {
   "cell_type": "markdown",
   "metadata": {},
   "source": [
    "<a id=\"portr\"></a>\n",
    "## 4. Портрет пользователей по регионам"
   ]
  },
  {
   "cell_type": "markdown",
   "metadata": {},
   "source": [
    "Определим самые популярные платформы, жанры и рейтинги ESRB в по продажам игр в различных регионах."
   ]
  },
  {
   "cell_type": "code",
   "execution_count": 31,
   "metadata": {
    "scrolled": false
   },
   "outputs": [
    {
     "data": {
      "image/png": "[encoded data removed]",
      "text/plain": [
       "<Figure size 432x216 with 1 Axes>"
      ]
     },
     "metadata": {},
     "output_type": "display_data"
    },
    {
     "data": {
      "image/png": "[encoded data removed]",
      "text/plain": [
       "<Figure size 432x216 with 1 Axes>"
      ]
     },
     "metadata": {},
     "output_type": "display_data"
    },
    {
     "data": {
      "image/png": "[encoded data removed]",
      "text/plain": [
       "<Figure size 432x216 with 1 Axes>"
      ]
     },
     "metadata": {},
     "output_type": "display_data"
    }
   ],
   "source": [
    "# Посмотрим на графики наилучших продаж по разным характеристикам и регионам\n",
    "\n",
    "prop = ['platform','genre','rating']\n",
    "# region = ['na_sales','eu_sales','jp_sales']\n",
    "for i in prop:\n",
    "        top_na = data.query('year_of_release>=2013').pivot_table(index=i, values='na_sales', aggfunc='sum').sort_values(by='na_sales',ascending=False).head(5).reset_index()\n",
    "        bar = sb.barplot(y='na_sales',x=i,  data=top_na)\n",
    "        sb.set(rc = {'figure.figsize':(6,3)})\n",
    "        bar.set(xlabel=i, ylabel='sales',title='NA_sales')\n",
    "        plt.show()"
   ]
  },
  {
   "cell_type": "markdown",
   "metadata": {},
   "source": [
    "Самые популярные игровые платформы в северо-американском регионе в период с 2013 по 2016 гг: PS4, XOne\n",
    "Самые популярные игровые жанры в северо-американском регионе в период с 2013 по 2016 гг: action, shooter, sports\n",
    "Самые доходные рейтинги ESRB в северо-американском регионе в период с 2013 по 2016 гг: \"для взрослых\", на втором месте \"для всех\" и затем подросткам \"для всех от 10 и старше\"."
   ]
  },
  {
   "cell_type": "code",
   "execution_count": 25,
   "metadata": {},
   "outputs": [
    {
     "data": {
      "image/png": "[encoded data removed]",
      "text/plain": [
       "<Figure size 432x216 with 1 Axes>"
      ]
     },
     "metadata": {},
     "output_type": "display_data"
    },
    {
     "data": {
      "image/png": "[encoded data removed]",
      "text/plain": [
       "<Figure size 432x216 with 1 Axes>"
      ]
     },
     "metadata": {},
     "output_type": "display_data"
    },
    {
     "data": {
      "image/png": "[encoded data removed]",
      "text/plain": [
       "<Figure size 432x216 with 1 Axes>"
      ]
     },
     "metadata": {},
     "output_type": "display_data"
    }
   ],
   "source": [
    "prop = ['platform','genre','rating']\n",
    "# region = ['na_sales','eu_sales','jp_sales']\n",
    "for i in prop:\n",
    "        top_na = data.query('year_of_release>=2013').pivot_table(index=i, values='eu_sales', aggfunc='sum').sort_values(by='eu_sales',ascending=False).head(5).reset_index()\n",
    "        bar = sb.barplot(y='eu_sales',x=i,  data=top_na)\n",
    "        sb.set(rc = {'figure.figsize':(6,3)})\n",
    "        bar.set(xlabel=i, ylabel='sales',title='EU_sales')\n",
    "        plt.show()"
   ]
  },
  {
   "cell_type": "markdown",
   "metadata": {},
   "source": [
    "Самые популярные игровые платформы в европейском регионе в период с 2013 по 2016 гг: PS4, XOne\n",
    "Самые популярные игровые жанры в европейском регионе в период с 2013 по 2016 гг: action, shooter, sports\n",
    "Самые доходные рейтинги ESRB в европейском регионе в период с 2013 по 2016 гг: \"для взрослых\", на втором месте \"для всех\" и затем подросткам \"для всех от 10 и старше\"."
   ]
  },
  {
   "cell_type": "code",
   "execution_count": 26,
   "metadata": {},
   "outputs": [
    {
     "data": {
      "image/png": "[encoded data removed]",
      "text/plain": [
       "<Figure size 432x216 with 1 Axes>"
      ]
     },
     "metadata": {},
     "output_type": "display_data"
    },
    {
     "data": {
      "image/png": "[encoded data removed]",
      "text/plain": [
       "<Figure size 432x216 with 1 Axes>"
      ]
     },
     "metadata": {},
     "output_type": "display_data"
    },
    {
     "data": {
      "image/png": "[encoded data removed]",
      "text/plain": [
       "<Figure size 432x216 with 1 Axes>"
      ]
     },
     "metadata": {},
     "output_type": "display_data"
    }
   ],
   "source": [
    "prop = ['platform','genre','rating']\n",
    "# region = ['na_sales','eu_sales','jp_sales']\n",
    "for i in prop:\n",
    "        top_na = data.query('year_of_release>=2013').pivot_table(index=i, values='jp_sales', aggfunc='sum').sort_values(by='jp_sales',ascending=False).head(5).reset_index()\n",
    "        bar = sb.barplot(y='jp_sales',x=i,  data=top_na)\n",
    "        sb.set(rc = {'figure.figsize':(6,3)})\n",
    "        bar.set(xlabel=i, ylabel='sales',title='JP_sales')\n",
    "        plt.show()"
   ]
  },
  {
   "cell_type": "markdown",
   "metadata": {},
   "source": [
    "Самые популярные игровые платформы в Японии в период с 2013 по 2016 гг:  3DS, PS\n",
    "Самые популярные игровые жанры в Японии в период с 2013 по 2016 гг: role-playng, action, misc\n",
    "Самые доходные рейтинги ESRB в Японии в период с 2013 по 2016 гг: подросткам \"от 13 и выше\", на втором месте \"для всех\" и затем \"для взрослых\"."
   ]
  },
  {
   "cell_type": "markdown",
   "metadata": {},
   "source": [
    "Исходя из этих данных, можно сказать, что игровые предпочтения жителей североамериканского и европейского региона почти сопадают, в то время как предпочтения японских геймеров отличаются, возможно, в силу культурных особенностей. Соответственно, бюджет следует планировать с учетом различий японского рынка от западных рынков.\n",
    "В среднем наиболее прибыльными показывают себя игры в жанре action и shooter для консольных платформ Xbox и PS с рейтингом ESRB T (\"Для взрослых\")."
   ]
  },
  {
   "cell_type": "markdown",
   "metadata": {},
   "source": [
    "<a id=\"research\"></a>\n",
    "## 5. Проверка гипотез"
   ]
  },
  {
   "cell_type": "markdown",
   "metadata": {},
   "source": [
    "<a id=\"ans1\"></a>\n",
    "### 5.1 Средние пользовательские рейтинги платформ Xbox One и PC одинаковые"
   ]
  },
  {
   "cell_type": "markdown",
   "metadata": {},
   "source": [
    "Сформулируем гипотезы:\n",
    "\n",
    "Нулевая гипотеза H₀: Средние пользовательские рейтинги платформ Xbox One и PC одинаковые\n",
    "\n",
    "Альтернативная гипотеза H₁: Средние пользовательские рейтинги платформ Xbox One и PC различаются"
   ]
  },
  {
   "cell_type": "code",
   "execution_count": 27,
   "metadata": {},
   "outputs": [
    {
     "name": "stdout",
     "output_type": "stream",
     "text": [
      "Средний рейтинг Xbox One: 6.521428\n",
      "Средний рейтинг PC: 6.28038\n"
     ]
    }
   ],
   "source": [
    "# Посмотрим на средние рейтинги в соответствии с нашим периодом и указанными платформами.\n",
    "\n",
    "xone_rat = data.query('platform ==\"XOne\" and year_of_release>=2013 and user_score.isna()==False')['user_score']\n",
    "print('Средний рейтинг Xbox One:', xone_rat.mean())\n",
    "\n",
    "pc_rat = data.query('platform ==\"PC\" and year_of_release>=2013 and user_score.isna()==False')['user_score']\n",
    "print('Средний рейтинг PC:', pc_rat.mean())"
   ]
  },
  {
   "cell_type": "code",
   "execution_count": 28,
   "metadata": {},
   "outputs": [
    {
     "name": "stdout",
     "output_type": "stream",
     "text": [
      "p-значение: 0.16174444115103942\n",
      "Не получилось отвергнуть нулевую гипотезу\n"
     ]
    }
   ],
   "source": [
    "#Проверим гипотезу с помощью ttest_ind\n",
    "\n",
    "# print(xone_rat.var())\n",
    "# print(pc_rat.var())\n",
    "\n",
    "alpha = 0.01\n",
    "results = st.ttest_ind(xone_rat, pc_rat, equal_var=False)\n",
    "print('p-значение:', results.pvalue)\n",
    "\n",
    "if (results.pvalue < alpha):\n",
    "    print(\"Отвергаем нулевую гипотезу\")\n",
    "else:\n",
    "    print(\"Не получилось отвергнуть нулевую гипотезу\")"
   ]
  },
  {
   "cell_type": "markdown",
   "metadata": {},
   "source": [
    "Значение p-value заметно меньше 1%. Соответственно, отвергаем нулевую гипотезу: вероятно, средние пользовательские рейтинги платформ Xbox One и PC различаются."
   ]
  },
  {
   "cell_type": "markdown",
   "metadata": {},
   "source": [
    "<a id=\"ans2\"></a>\n",
    "### 5.2 Средние пользовательские рейтинги жанров Action и Sports разные"
   ]
  },
  {
   "cell_type": "markdown",
   "metadata": {},
   "source": [
    "Сформулируем гипотезы:\n",
    "\n",
    "Нулевая гипотеза H₀: Средние пользовательские рейтинги жанров Action и Sports одинаковые\n",
    "\n",
    "Альтернативная гипотеза H₁: Средние пользовательские рейтинги жанров Action и Sports различаются"
   ]
  },
  {
   "cell_type": "code",
   "execution_count": 29,
   "metadata": {},
   "outputs": [
    {
     "name": "stdout",
     "output_type": "stream",
     "text": [
      "Средний рейтинг жанра Action: 6.8375\n",
      "Средний рейтинг жанра Sports: 5.238125\n"
     ]
    }
   ],
   "source": [
    "# Посмотрим на средние рейтинги в соответствии с нашим периодом и указанными жанрами.\n",
    "\n",
    "action_rat = data.query('genre ==\"Action\" and year_of_release>=2013 and user_score.isna()==False')['user_score']\n",
    "print('Средний рейтинг жанра Action:', action_rat.mean())\n",
    "\n",
    "sports_rat = data.query('genre ==\"Sports\" and year_of_release>=2013 and user_score.isna()==False')['user_score']\n",
    "print('Средний рейтинг жанра Sports:', sports_rat.mean())"
   ]
  },
  {
   "cell_type": "code",
   "execution_count": 30,
   "metadata": {},
   "outputs": [
    {
     "name": "stdout",
     "output_type": "stream",
     "text": [
      "p-значение: 1.3883285709002667e-20\n",
      "Отвергаем нулевую гипотезу\n"
     ]
    }
   ],
   "source": [
    "#Проверим гипотезу с помощью ttest_ind\n",
    "\n",
    "# print(action_rat.var())\n",
    "# print(sports_rat.var())\n",
    "\n",
    "alpha = 0.01\n",
    "results = st.ttest_ind(action_rat, sports_rat, equal_var=False)\n",
    "print('p-значение:', results.pvalue)\n",
    "\n",
    "if (results.pvalue < alpha):\n",
    "    print(\"Отвергаем нулевую гипотезу\")\n",
    "else:\n",
    "    print(\"Не получилось отвергнуть нулевую гипотезу\")"
   ]
  },
  {
   "cell_type": "markdown",
   "metadata": {},
   "source": [
    "Значение p-value намного меньше 1%. Соответственно, отвергаем нулевую гипотезу: вероятно, средние пользовательские рейтинги жанров Action и Sports различаются. Гипотеза о различии оправдала себя."
   ]
  },
  {
   "cell_type": "markdown",
   "metadata": {},
   "source": [
    "<a id=\"summary\"></a>\n",
    "## 6. Общий вывод"
   ]
  },
  {
   "cell_type": "markdown",
   "metadata": {},
   "source": [
    "Были открыты и изучены данные о продажах игр кампании \"Стримчик\" до 2016 года.\n",
    "\n",
    "* Проведена предобработка данных, часть пропусков было заполнена исходя из логики данных.<br>\n",
    "* Типы полей были изменены в соответствии с данными в них и исходя из целей экономии памяти.<br>\n",
    "* Названия полей были приведены к нижнему регистру.<br>\n",
    "* В датафрэйм было добавлено поле с расчетом общих продаж.\n",
    "\n",
    "Был проведен исследовательский анализ данных:\n",
    "\n",
    "* Было выявлено, что количество игр резко возросло после с 1991го года. Пик приходится на 2007 год. С 2008 года производство игр пошло на спад из-за роста популярности мобильных игр.\n",
    "* Найдены самые популярные игровые платформы за все годы: PS2, X360, PS3, WII, DS, PS.\n",
    "* Отмечено, что продажи платформ существуют в среднем 8 лет. За рассматриваемый период 2013-2016, наилучшие продажи были у PS4 и XOne.\n",
    "* Построен график \"ящик с усами\" по которому видно, что медианы продаж выше всего у игр на PS4 и XOne.\n",
    "* Построены диаграммы рассеяния и посчитана корреляция между отзывами и продажами: корреляция между продажами и оценками критиков заметно выше, чем аналогичная корреляция с оценками пользователей.\n",
    "* Выявлено, что наиболее продаваемый жанр - Action, самый невыгодный, Strategy.\n",
    "\n",
    "Составлены портреты пользователей различных регионов:\n",
    "\n",
    "* Можно сказать, что игровые предпочтения жителей североамериканского и европейского региона почти сопадают, в то время как предпочтения японских геймеров отличаются, возможно, в силу культурных особенностей.\n",
    "* В среднем наиболее прибыльными для всех регионов показывают себя игры в жанре action для консольных платформ XOne и PS4 с рейтингом ESRB T (\"Для взрослых\").\n",
    "\n",
    "Проверены следующие гипотезы:\n",
    "* Средние пользовательские рейтинги платформ Xbox One и PC одинаковые\n",
    "Гипотеза отвергнута.\n",
    "* Средние пользовательские рейтинги жанров Action и Sports разные\n",
    "Гипотеза не отвергнута.\n",
    "\n",
    "Вывод: Оптимальным планом продаж на 2017 год был бы выбор игр в жанрах action, sports, shooter на платформах XOne и PS4 новых поколений с рейтингом ESRB T (\"Для взрослых\") для западных стран и role-playng, action на платформах PS4, Nintendo для Японии с аналогичным рейтингом."
   ]
  }
 ],
 "metadata": {
  "ExecuteTimeLog": [
   {
    "duration": 1261,
    "start_time": "2021-12-07T07:19:38.960Z"
   },
   {
    "duration": 302,
    "start_time": "2021-12-07T07:19:40.223Z"
   },
   {
    "duration": 5,
    "start_time": "2021-12-07T07:19:40.529Z"
   },
   {
    "duration": 9478,
    "start_time": "2021-12-07T07:19:40.535Z"
   },
   {
    "duration": -548,
    "start_time": "2021-12-07T07:19:50.565Z"
   },
   {
    "duration": -549,
    "start_time": "2021-12-07T07:19:50.567Z"
   },
   {
    "duration": -555,
    "start_time": "2021-12-07T07:19:50.574Z"
   },
   {
    "duration": -557,
    "start_time": "2021-12-07T07:19:50.577Z"
   },
   {
    "duration": -559,
    "start_time": "2021-12-07T07:19:50.580Z"
   },
   {
    "duration": -563,
    "start_time": "2021-12-07T07:19:50.585Z"
   },
   {
    "duration": -564,
    "start_time": "2021-12-07T07:19:50.587Z"
   },
   {
    "duration": -567,
    "start_time": "2021-12-07T07:19:50.591Z"
   },
   {
    "duration": -568,
    "start_time": "2021-12-07T07:19:50.593Z"
   },
   {
    "duration": -569,
    "start_time": "2021-12-07T07:19:50.595Z"
   },
   {
    "duration": -569,
    "start_time": "2021-12-07T07:19:50.596Z"
   },
   {
    "duration": -572,
    "start_time": "2021-12-07T07:19:50.600Z"
   },
   {
    "duration": -572,
    "start_time": "2021-12-07T07:19:50.602Z"
   },
   {
    "duration": -573,
    "start_time": "2021-12-07T07:19:50.604Z"
   },
   {
    "duration": -580,
    "start_time": "2021-12-07T07:19:50.612Z"
   },
   {
    "duration": -583,
    "start_time": "2021-12-07T07:19:50.616Z"
   },
   {
    "duration": -584,
    "start_time": "2021-12-07T07:19:50.618Z"
   },
   {
    "duration": -585,
    "start_time": "2021-12-07T07:19:50.621Z"
   },
   {
    "duration": -586,
    "start_time": "2021-12-07T07:19:50.623Z"
   },
   {
    "duration": -587,
    "start_time": "2021-12-07T07:19:50.625Z"
   },
   {
    "duration": -588,
    "start_time": "2021-12-07T07:19:50.627Z"
   },
   {
    "duration": -589,
    "start_time": "2021-12-07T07:19:50.629Z"
   },
   {
    "duration": -590,
    "start_time": "2021-12-07T07:19:50.631Z"
   },
   {
    "duration": -592,
    "start_time": "2021-12-07T07:19:50.634Z"
   },
   {
    "duration": -593,
    "start_time": "2021-12-07T07:19:50.636Z"
   },
   {
    "duration": -594,
    "start_time": "2021-12-07T07:19:50.638Z"
   },
   {
    "duration": -595,
    "start_time": "2021-12-07T07:19:50.640Z"
   },
   {
    "duration": -596,
    "start_time": "2021-12-07T07:19:50.642Z"
   },
   {
    "duration": -597,
    "start_time": "2021-12-07T07:19:50.644Z"
   },
   {
    "duration": -598,
    "start_time": "2021-12-07T07:19:50.646Z"
   },
   {
    "duration": -605,
    "start_time": "2021-12-07T07:19:50.654Z"
   },
   {
    "duration": -607,
    "start_time": "2021-12-07T07:19:50.657Z"
   },
   {
    "duration": -607,
    "start_time": "2021-12-07T07:19:50.658Z"
   },
   {
    "duration": -609,
    "start_time": "2021-12-07T07:19:50.661Z"
   },
   {
    "duration": 1115,
    "start_time": "2021-12-07T07:30:09.697Z"
   },
   {
    "duration": 1522,
    "start_time": "2021-12-07T07:30:10.814Z"
   },
   {
    "duration": -650,
    "start_time": "2021-12-07T07:30:12.991Z"
   },
   {
    "duration": -656,
    "start_time": "2021-12-07T07:30:12.998Z"
   },
   {
    "duration": -661,
    "start_time": "2021-12-07T07:30:13.004Z"
   },
   {
    "duration": -667,
    "start_time": "2021-12-07T07:30:13.011Z"
   },
   {
    "duration": -672,
    "start_time": "2021-12-07T07:30:13.017Z"
   },
   {
    "duration": -675,
    "start_time": "2021-12-07T07:30:13.021Z"
   },
   {
    "duration": -680,
    "start_time": "2021-12-07T07:30:13.027Z"
   },
   {
    "duration": -687,
    "start_time": "2021-12-07T07:30:13.035Z"
   },
   {
    "duration": -688,
    "start_time": "2021-12-07T07:30:13.037Z"
   },
   {
    "duration": -689,
    "start_time": "2021-12-07T07:30:13.039Z"
   },
   {
    "duration": -691,
    "start_time": "2021-12-07T07:30:13.042Z"
   },
   {
    "duration": -693,
    "start_time": "2021-12-07T07:30:13.045Z"
   },
   {
    "duration": -693,
    "start_time": "2021-12-07T07:30:13.047Z"
   },
   {
    "duration": -695,
    "start_time": "2021-12-07T07:30:13.050Z"
   },
   {
    "duration": -696,
    "start_time": "2021-12-07T07:30:13.052Z"
   },
   {
    "duration": -697,
    "start_time": "2021-12-07T07:30:13.054Z"
   },
   {
    "duration": -698,
    "start_time": "2021-12-07T07:30:13.056Z"
   },
   {
    "duration": -700,
    "start_time": "2021-12-07T07:30:13.059Z"
   },
   {
    "duration": -700,
    "start_time": "2021-12-07T07:30:13.061Z"
   },
   {
    "duration": -711,
    "start_time": "2021-12-07T07:30:13.073Z"
   },
   {
    "duration": -713,
    "start_time": "2021-12-07T07:30:13.076Z"
   },
   {
    "duration": -719,
    "start_time": "2021-12-07T07:30:13.083Z"
   },
   {
    "duration": -724,
    "start_time": "2021-12-07T07:30:13.089Z"
   },
   {
    "duration": -730,
    "start_time": "2021-12-07T07:30:13.096Z"
   },
   {
    "duration": -735,
    "start_time": "2021-12-07T07:30:13.102Z"
   },
   {
    "duration": -741,
    "start_time": "2021-12-07T07:30:13.109Z"
   },
   {
    "duration": -746,
    "start_time": "2021-12-07T07:30:13.115Z"
   },
   {
    "duration": -753,
    "start_time": "2021-12-07T07:30:13.122Z"
   },
   {
    "duration": -754,
    "start_time": "2021-12-07T07:30:13.124Z"
   },
   {
    "duration": -759,
    "start_time": "2021-12-07T07:30:13.130Z"
   },
   {
    "duration": -765,
    "start_time": "2021-12-07T07:30:13.137Z"
   },
   {
    "duration": -770,
    "start_time": "2021-12-07T07:30:13.143Z"
   },
   {
    "duration": -775,
    "start_time": "2021-12-07T07:30:13.149Z"
   },
   {
    "duration": -781,
    "start_time": "2021-12-07T07:30:13.156Z"
   },
   {
    "duration": -782,
    "start_time": "2021-12-07T07:30:13.158Z"
   },
   {
    "duration": -788,
    "start_time": "2021-12-07T07:30:13.165Z"
   },
   {
    "duration": 1866,
    "start_time": "2021-12-07T07:30:34.184Z"
   },
   {
    "duration": 159,
    "start_time": "2021-12-07T07:31:39.315Z"
   },
   {
    "duration": 1050,
    "start_time": "2021-12-07T07:31:53.448Z"
   },
   {
    "duration": 159,
    "start_time": "2021-12-07T07:31:54.500Z"
   },
   {
    "duration": 9,
    "start_time": "2021-12-07T07:31:54.660Z"
   },
   {
    "duration": 37,
    "start_time": "2021-12-07T07:31:54.670Z"
   },
   {
    "duration": 37,
    "start_time": "2021-12-07T07:31:54.709Z"
   },
   {
    "duration": 14,
    "start_time": "2021-12-07T07:31:54.748Z"
   },
   {
    "duration": 38,
    "start_time": "2021-12-07T07:31:54.764Z"
   },
   {
    "duration": 16,
    "start_time": "2021-12-07T07:31:54.805Z"
   },
   {
    "duration": 13,
    "start_time": "2021-12-07T07:31:54.823Z"
   },
   {
    "duration": 744,
    "start_time": "2021-12-07T07:31:54.837Z"
   },
   {
    "duration": 1208,
    "start_time": "2021-12-07T07:31:55.583Z"
   },
   {
    "duration": 276,
    "start_time": "2021-12-07T07:31:56.793Z"
   },
   {
    "duration": 738,
    "start_time": "2021-12-07T07:31:57.071Z"
   },
   {
    "duration": 1192,
    "start_time": "2021-12-07T07:31:57.810Z"
   },
   {
    "duration": 16,
    "start_time": "2021-12-07T07:31:59.004Z"
   },
   {
    "duration": 2796,
    "start_time": "2021-12-07T07:31:59.021Z"
   },
   {
    "duration": 557,
    "start_time": "2021-12-07T07:32:01.819Z"
   },
   {
    "duration": 520,
    "start_time": "2021-12-07T07:32:02.378Z"
   },
   {
    "duration": 492,
    "start_time": "2021-12-07T07:32:02.900Z"
   },
   {
    "duration": 22,
    "start_time": "2021-12-07T07:32:03.394Z"
   },
   {
    "duration": 652,
    "start_time": "2021-12-07T07:32:03.417Z"
   },
   {
    "duration": 522,
    "start_time": "2021-12-07T07:32:04.071Z"
   },
   {
    "duration": 493,
    "start_time": "2021-12-07T07:32:04.596Z"
   },
   {
    "duration": 17,
    "start_time": "2021-12-07T07:32:05.092Z"
   },
   {
    "duration": 232,
    "start_time": "2021-12-07T07:32:05.111Z"
   },
   {
    "duration": 7,
    "start_time": "2021-12-07T07:32:05.345Z"
   },
   {
    "duration": 515,
    "start_time": "2021-12-07T07:32:05.354Z"
   },
   {
    "duration": 7,
    "start_time": "2021-12-07T07:32:05.871Z"
   },
   {
    "duration": 475,
    "start_time": "2021-12-07T07:32:05.879Z"
   },
   {
    "duration": 470,
    "start_time": "2021-12-07T07:32:06.356Z"
   },
   {
    "duration": 341,
    "start_time": "2021-12-07T07:32:06.827Z"
   },
   {
    "duration": 589,
    "start_time": "2021-12-07T07:32:07.170Z"
   },
   {
    "duration": 458,
    "start_time": "2021-12-07T07:32:07.761Z"
   },
   {
    "duration": 422,
    "start_time": "2021-12-07T07:32:08.220Z"
   },
   {
    "duration": 19,
    "start_time": "2021-12-07T07:32:08.643Z"
   },
   {
    "duration": 447,
    "start_time": "2021-12-07T07:32:08.664Z"
   },
   {
    "duration": 427,
    "start_time": "2021-12-07T07:32:09.113Z"
   },
   {
    "duration": 413,
    "start_time": "2021-12-07T07:32:09.542Z"
   },
   {
    "duration": 476,
    "start_time": "2021-12-07T07:32:12.067Z"
   },
   {
    "duration": 1157,
    "start_time": "2021-12-07T07:37:51.488Z"
   },
   {
    "duration": 179,
    "start_time": "2021-12-07T07:37:52.647Z"
   },
   {
    "duration": 10,
    "start_time": "2021-12-07T07:37:52.829Z"
   },
   {
    "duration": 49,
    "start_time": "2021-12-07T07:37:52.841Z"
   },
   {
    "duration": 40,
    "start_time": "2021-12-07T07:37:52.892Z"
   },
   {
    "duration": 19,
    "start_time": "2021-12-07T07:37:52.934Z"
   },
   {
    "duration": 41,
    "start_time": "2021-12-07T07:37:52.955Z"
   },
   {
    "duration": 36,
    "start_time": "2021-12-07T07:37:52.999Z"
   },
   {
    "duration": 35,
    "start_time": "2021-12-07T07:37:53.038Z"
   },
   {
    "duration": 723,
    "start_time": "2021-12-07T07:37:53.075Z"
   },
   {
    "duration": 1148,
    "start_time": "2021-12-07T07:37:53.800Z"
   },
   {
    "duration": 256,
    "start_time": "2021-12-07T07:37:54.950Z"
   },
   {
    "duration": 719,
    "start_time": "2021-12-07T07:37:55.209Z"
   },
   {
    "duration": 1157,
    "start_time": "2021-12-07T07:37:55.930Z"
   },
   {
    "duration": 19,
    "start_time": "2021-12-07T07:37:57.089Z"
   },
   {
    "duration": 2741,
    "start_time": "2021-12-07T07:37:57.110Z"
   },
   {
    "duration": 544,
    "start_time": "2021-12-07T07:37:59.852Z"
   },
   {
    "duration": 578,
    "start_time": "2021-12-07T07:38:00.398Z"
   },
   {
    "duration": 551,
    "start_time": "2021-12-07T07:38:00.978Z"
   },
   {
    "duration": 36,
    "start_time": "2021-12-07T07:38:01.531Z"
   },
   {
    "duration": 702,
    "start_time": "2021-12-07T07:38:01.569Z"
   },
   {
    "duration": 536,
    "start_time": "2021-12-07T07:38:02.274Z"
   },
   {
    "duration": 543,
    "start_time": "2021-12-07T07:38:02.813Z"
   },
   {
    "duration": 21,
    "start_time": "2021-12-07T07:38:03.363Z"
   },
   {
    "duration": 238,
    "start_time": "2021-12-07T07:38:03.387Z"
   },
   {
    "duration": 8,
    "start_time": "2021-12-07T07:38:03.627Z"
   },
   {
    "duration": 484,
    "start_time": "2021-12-07T07:38:03.637Z"
   },
   {
    "duration": 7,
    "start_time": "2021-12-07T07:38:04.123Z"
   },
   {
    "duration": 478,
    "start_time": "2021-12-07T07:38:04.132Z"
   },
   {
    "duration": 574,
    "start_time": "2021-12-07T07:38:04.612Z"
   },
   {
    "duration": 351,
    "start_time": "2021-12-07T07:38:05.188Z"
   },
   {
    "duration": 608,
    "start_time": "2021-12-07T07:38:05.542Z"
   },
   {
    "duration": 458,
    "start_time": "2021-12-07T07:38:06.151Z"
   },
   {
    "duration": 441,
    "start_time": "2021-12-07T07:38:06.611Z"
   },
   {
    "duration": 27,
    "start_time": "2021-12-07T07:38:07.054Z"
   },
   {
    "duration": 430,
    "start_time": "2021-12-07T07:38:07.083Z"
   },
   {
    "duration": 427,
    "start_time": "2021-12-07T07:38:07.515Z"
   },
   {
    "duration": 456,
    "start_time": "2021-12-07T07:38:07.944Z"
   },
   {
    "duration": 498,
    "start_time": "2021-12-07T11:42:04.805Z"
   },
   {
    "duration": 1428,
    "start_time": "2021-12-07T11:42:24.612Z"
   },
   {
    "duration": 5,
    "start_time": "2021-12-07T11:42:34.348Z"
   },
   {
    "duration": 219,
    "start_time": "2021-12-07T11:42:36.301Z"
   },
   {
    "duration": 45,
    "start_time": "2021-12-07T11:55:13.300Z"
   },
   {
    "duration": 33,
    "start_time": "2021-12-07T12:00:20.989Z"
   },
   {
    "duration": 1582,
    "start_time": "2021-12-07T12:01:27.558Z"
   },
   {
    "duration": 235,
    "start_time": "2021-12-07T12:01:29.143Z"
   },
   {
    "duration": 11,
    "start_time": "2021-12-07T12:01:29.384Z"
   },
   {
    "duration": 62,
    "start_time": "2021-12-07T12:01:29.397Z"
   },
   {
    "duration": 540,
    "start_time": "2021-12-07T12:01:29.462Z"
   },
   {
    "duration": 328,
    "start_time": "2021-12-07T12:01:29.678Z"
   },
   {
    "duration": 325,
    "start_time": "2021-12-07T12:01:29.682Z"
   },
   {
    "duration": 324,
    "start_time": "2021-12-07T12:01:29.685Z"
   },
   {
    "duration": 323,
    "start_time": "2021-12-07T12:01:29.689Z"
   },
   {
    "duration": 320,
    "start_time": "2021-12-07T12:01:29.693Z"
   },
   {
    "duration": 318,
    "start_time": "2021-12-07T12:01:29.697Z"
   },
   {
    "duration": 315,
    "start_time": "2021-12-07T12:01:29.702Z"
   },
   {
    "duration": 315,
    "start_time": "2021-12-07T12:01:29.704Z"
   },
   {
    "duration": 314,
    "start_time": "2021-12-07T12:01:29.707Z"
   },
   {
    "duration": 304,
    "start_time": "2021-12-07T12:01:29.718Z"
   },
   {
    "duration": 303,
    "start_time": "2021-12-07T12:01:29.721Z"
   },
   {
    "duration": 301,
    "start_time": "2021-12-07T12:01:29.724Z"
   },
   {
    "duration": 300,
    "start_time": "2021-12-07T12:01:29.727Z"
   },
   {
    "duration": 298,
    "start_time": "2021-12-07T12:01:29.730Z"
   },
   {
    "duration": 297,
    "start_time": "2021-12-07T12:01:29.732Z"
   },
   {
    "duration": 293,
    "start_time": "2021-12-07T12:01:29.737Z"
   },
   {
    "duration": 293,
    "start_time": "2021-12-07T12:01:29.739Z"
   },
   {
    "duration": 292,
    "start_time": "2021-12-07T12:01:29.742Z"
   },
   {
    "duration": 292,
    "start_time": "2021-12-07T12:01:29.744Z"
   },
   {
    "duration": 291,
    "start_time": "2021-12-07T12:01:29.746Z"
   },
   {
    "duration": 291,
    "start_time": "2021-12-07T12:01:29.748Z"
   },
   {
    "duration": 290,
    "start_time": "2021-12-07T12:01:29.751Z"
   },
   {
    "duration": 305,
    "start_time": "2021-12-07T12:01:29.754Z"
   },
   {
    "duration": 305,
    "start_time": "2021-12-07T12:01:29.757Z"
   },
   {
    "duration": 300,
    "start_time": "2021-12-07T12:01:29.764Z"
   },
   {
    "duration": 299,
    "start_time": "2021-12-07T12:01:29.767Z"
   },
   {
    "duration": 299,
    "start_time": "2021-12-07T12:01:29.769Z"
   },
   {
    "duration": 301,
    "start_time": "2021-12-07T12:01:29.771Z"
   },
   {
    "duration": 300,
    "start_time": "2021-12-07T12:01:29.774Z"
   },
   {
    "duration": 300,
    "start_time": "2021-12-07T12:01:29.776Z"
   },
   {
    "duration": 299,
    "start_time": "2021-12-07T12:01:29.778Z"
   },
   {
    "duration": 291,
    "start_time": "2021-12-07T12:01:29.788Z"
   },
   {
    "duration": 285,
    "start_time": "2021-12-07T12:01:29.795Z"
   },
   {
    "duration": 54,
    "start_time": "2021-12-07T12:02:45.274Z"
   },
   {
    "duration": 35,
    "start_time": "2021-12-07T12:03:06.193Z"
   },
   {
    "duration": 433,
    "start_time": "2021-12-07T12:04:15.859Z"
   },
   {
    "duration": 2099,
    "start_time": "2021-12-07T12:04:40.139Z"
   },
   {
    "duration": 1691,
    "start_time": "2021-12-07T12:04:51.540Z"
   },
   {
    "duration": 396,
    "start_time": "2021-12-07T12:06:48.518Z"
   },
   {
    "duration": 400,
    "start_time": "2021-12-07T12:07:41.913Z"
   },
   {
    "duration": 385,
    "start_time": "2021-12-07T12:07:46.648Z"
   },
   {
    "duration": 403,
    "start_time": "2021-12-07T12:08:04.688Z"
   },
   {
    "duration": 33,
    "start_time": "2021-12-07T12:08:24.489Z"
   },
   {
    "duration": 1505,
    "start_time": "2021-12-07T12:08:56.545Z"
   },
   {
    "duration": 214,
    "start_time": "2021-12-07T12:08:58.053Z"
   },
   {
    "duration": 11,
    "start_time": "2021-12-07T12:08:58.270Z"
   },
   {
    "duration": 37,
    "start_time": "2021-12-07T12:08:58.285Z"
   },
   {
    "duration": 79,
    "start_time": "2021-12-07T12:08:58.325Z"
   },
   {
    "duration": 6,
    "start_time": "2021-12-07T12:08:58.408Z"
   },
   {
    "duration": 48,
    "start_time": "2021-12-07T12:08:58.417Z"
   },
   {
    "duration": 25,
    "start_time": "2021-12-07T12:08:58.470Z"
   },
   {
    "duration": 7,
    "start_time": "2021-12-07T12:08:58.498Z"
   },
   {
    "duration": 1235,
    "start_time": "2021-12-07T12:08:58.508Z"
   },
   {
    "duration": 2022,
    "start_time": "2021-12-07T12:08:59.747Z"
   },
   {
    "duration": 406,
    "start_time": "2021-12-07T12:09:01.771Z"
   },
   {
    "duration": 1472,
    "start_time": "2021-12-07T12:09:02.179Z"
   },
   {
    "duration": 1926,
    "start_time": "2021-12-07T12:09:03.658Z"
   },
   {
    "duration": 27,
    "start_time": "2021-12-07T12:09:05.586Z"
   },
   {
    "duration": 4536,
    "start_time": "2021-12-07T12:09:05.616Z"
   },
   {
    "duration": 821,
    "start_time": "2021-12-07T12:09:10.155Z"
   },
   {
    "duration": 806,
    "start_time": "2021-12-07T12:09:10.979Z"
   },
   {
    "duration": 755,
    "start_time": "2021-12-07T12:09:11.788Z"
   },
   {
    "duration": 48,
    "start_time": "2021-12-07T12:09:12.547Z"
   },
   {
    "duration": 1220,
    "start_time": "2021-12-07T12:09:12.598Z"
   },
   {
    "duration": 772,
    "start_time": "2021-12-07T12:09:13.821Z"
   },
   {
    "duration": 800,
    "start_time": "2021-12-07T12:09:14.598Z"
   },
   {
    "duration": 29,
    "start_time": "2021-12-07T12:09:15.401Z"
   },
   {
    "duration": 382,
    "start_time": "2021-12-07T12:09:15.432Z"
   },
   {
    "duration": 10,
    "start_time": "2021-12-07T12:09:15.816Z"
   },
   {
    "duration": 845,
    "start_time": "2021-12-07T12:09:15.828Z"
   },
   {
    "duration": 10,
    "start_time": "2021-12-07T12:09:16.676Z"
   },
   {
    "duration": 1070,
    "start_time": "2021-12-07T12:09:16.689Z"
   },
   {
    "duration": 908,
    "start_time": "2021-12-07T12:09:17.762Z"
   },
   {
    "duration": 576,
    "start_time": "2021-12-07T12:09:18.672Z"
   },
   {
    "duration": 899,
    "start_time": "2021-12-07T12:09:19.250Z"
   },
   {
    "duration": 670,
    "start_time": "2021-12-07T12:09:20.160Z"
   },
   {
    "duration": 710,
    "start_time": "2021-12-07T12:09:20.833Z"
   },
   {
    "duration": 42,
    "start_time": "2021-12-07T12:09:21.546Z"
   },
   {
    "duration": 656,
    "start_time": "2021-12-07T12:09:21.591Z"
   },
   {
    "duration": 602,
    "start_time": "2021-12-07T12:09:22.251Z"
   },
   {
    "duration": 604,
    "start_time": "2021-12-07T12:09:22.860Z"
   },
   {
    "duration": 1777,
    "start_time": "2021-12-07T12:17:59.875Z"
   },
   {
    "duration": 2778,
    "start_time": "2021-12-07T12:19:04.340Z"
   },
   {
    "duration": 2414,
    "start_time": "2021-12-07T12:20:10.093Z"
   },
   {
    "duration": 649,
    "start_time": "2021-12-07T12:20:21.177Z"
   },
   {
    "duration": 1482,
    "start_time": "2021-12-07T12:26:04.901Z"
   },
   {
    "duration": 546,
    "start_time": "2021-12-07T12:26:10.726Z"
   },
   {
    "duration": 2321,
    "start_time": "2021-12-07T12:26:34.822Z"
   },
   {
    "duration": 2296,
    "start_time": "2021-12-07T12:27:32.664Z"
   },
   {
    "duration": 235,
    "start_time": "2021-12-07T12:30:41.298Z"
   },
   {
    "duration": 295,
    "start_time": "2021-12-07T12:31:37.718Z"
   },
   {
    "duration": 1563,
    "start_time": "2021-12-07T12:36:15.910Z"
   },
   {
    "duration": 226,
    "start_time": "2021-12-07T12:36:17.475Z"
   },
   {
    "duration": 10,
    "start_time": "2021-12-07T12:36:17.704Z"
   },
   {
    "duration": 45,
    "start_time": "2021-12-07T12:36:17.717Z"
   },
   {
    "duration": 48,
    "start_time": "2021-12-07T12:36:17.764Z"
   },
   {
    "duration": 5,
    "start_time": "2021-12-07T12:36:17.814Z"
   },
   {
    "duration": 29,
    "start_time": "2021-12-07T12:36:17.821Z"
   },
   {
    "duration": 28,
    "start_time": "2021-12-07T12:36:17.853Z"
   },
   {
    "duration": 7,
    "start_time": "2021-12-07T12:36:17.884Z"
   },
   {
    "duration": 1337,
    "start_time": "2021-12-07T12:36:17.893Z"
   },
   {
    "duration": 1842,
    "start_time": "2021-12-07T12:36:19.233Z"
   },
   {
    "duration": 411,
    "start_time": "2021-12-07T12:36:21.077Z"
   },
   {
    "duration": 1202,
    "start_time": "2021-12-07T12:36:21.490Z"
   },
   {
    "duration": 1885,
    "start_time": "2021-12-07T12:36:22.695Z"
   },
   {
    "duration": 28,
    "start_time": "2021-12-07T12:36:24.583Z"
   },
   {
    "duration": 4623,
    "start_time": "2021-12-07T12:36:24.614Z"
   },
   {
    "duration": 793,
    "start_time": "2021-12-07T12:36:29.239Z"
   },
   {
    "duration": 825,
    "start_time": "2021-12-07T12:36:30.035Z"
   },
   {
    "duration": 784,
    "start_time": "2021-12-07T12:36:30.862Z"
   },
   {
    "duration": 41,
    "start_time": "2021-12-07T12:36:31.648Z"
   },
   {
    "duration": 920,
    "start_time": "2021-12-07T12:36:31.692Z"
   },
   {
    "duration": 744,
    "start_time": "2021-12-07T12:36:32.615Z"
   },
   {
    "duration": 775,
    "start_time": "2021-12-07T12:36:33.366Z"
   },
   {
    "duration": 36,
    "start_time": "2021-12-07T12:36:34.144Z"
   },
   {
    "duration": 357,
    "start_time": "2021-12-07T12:36:34.183Z"
   },
   {
    "duration": 20,
    "start_time": "2021-12-07T12:36:34.543Z"
   },
   {
    "duration": 919,
    "start_time": "2021-12-07T12:36:34.566Z"
   },
   {
    "duration": 11,
    "start_time": "2021-12-07T12:36:35.488Z"
   },
   {
    "duration": 887,
    "start_time": "2021-12-07T12:36:35.501Z"
   },
   {
    "duration": 800,
    "start_time": "2021-12-07T12:36:36.390Z"
   },
   {
    "duration": 526,
    "start_time": "2021-12-07T12:36:37.193Z"
   },
   {
    "duration": 874,
    "start_time": "2021-12-07T12:36:37.722Z"
   },
   {
    "duration": 646,
    "start_time": "2021-12-07T12:36:38.599Z"
   },
   {
    "duration": 640,
    "start_time": "2021-12-07T12:36:39.247Z"
   },
   {
    "duration": 33,
    "start_time": "2021-12-07T12:36:39.889Z"
   },
   {
    "duration": 619,
    "start_time": "2021-12-07T12:36:39.925Z"
   },
   {
    "duration": 612,
    "start_time": "2021-12-07T12:36:40.547Z"
   },
   {
    "duration": 617,
    "start_time": "2021-12-07T12:36:41.161Z"
   },
   {
    "duration": 31,
    "start_time": "2021-12-07T12:38:29.196Z"
   },
   {
    "duration": 26,
    "start_time": "2021-12-07T12:38:50.835Z"
   },
   {
    "duration": 38,
    "start_time": "2021-12-07T12:39:09.244Z"
   },
   {
    "duration": 25,
    "start_time": "2021-12-07T12:39:14.468Z"
   },
   {
    "duration": 26,
    "start_time": "2021-12-07T12:39:17.524Z"
   },
   {
    "duration": 28,
    "start_time": "2021-12-07T12:39:44.460Z"
   },
   {
    "duration": 26,
    "start_time": "2021-12-07T12:40:11.973Z"
   },
   {
    "duration": 27,
    "start_time": "2021-12-07T12:40:23.189Z"
   },
   {
    "duration": 5176,
    "start_time": "2021-12-07T12:40:31.102Z"
   },
   {
    "duration": 35,
    "start_time": "2021-12-07T12:41:38.935Z"
   },
   {
    "duration": 583,
    "start_time": "2021-12-07T12:43:33.456Z"
   },
   {
    "duration": 471,
    "start_time": "2021-12-07T12:44:13.307Z"
   },
   {
    "duration": 470,
    "start_time": "2021-12-07T12:44:34.699Z"
   },
   {
    "duration": 469,
    "start_time": "2021-12-07T12:44:49.236Z"
   },
   {
    "duration": 468,
    "start_time": "2021-12-07T12:45:25.436Z"
   },
   {
    "duration": 751,
    "start_time": "2021-12-07T12:47:17.414Z"
   },
   {
    "duration": 10,
    "start_time": "2021-12-07T12:47:57.617Z"
   },
   {
    "duration": 1482,
    "start_time": "2021-12-07T12:48:08.059Z"
   },
   {
    "duration": 233,
    "start_time": "2021-12-07T12:48:09.544Z"
   },
   {
    "duration": 13,
    "start_time": "2021-12-07T12:48:09.781Z"
   },
   {
    "duration": 35,
    "start_time": "2021-12-07T12:48:09.797Z"
   },
   {
    "duration": 50,
    "start_time": "2021-12-07T12:48:09.860Z"
   },
   {
    "duration": 4,
    "start_time": "2021-12-07T12:48:09.913Z"
   },
   {
    "duration": 42,
    "start_time": "2021-12-07T12:48:09.920Z"
   },
   {
    "duration": 24,
    "start_time": "2021-12-07T12:48:09.966Z"
   },
   {
    "duration": 6,
    "start_time": "2021-12-07T12:48:09.994Z"
   },
   {
    "duration": 1177,
    "start_time": "2021-12-07T12:48:10.003Z"
   },
   {
    "duration": 1908,
    "start_time": "2021-12-07T12:48:11.183Z"
   },
   {
    "duration": 390,
    "start_time": "2021-12-07T12:48:13.094Z"
   },
   {
    "duration": 1162,
    "start_time": "2021-12-07T12:48:13.487Z"
   },
   {
    "duration": 2007,
    "start_time": "2021-12-07T12:48:14.652Z"
   },
   {
    "duration": 28,
    "start_time": "2021-12-07T12:48:16.661Z"
   },
   {
    "duration": 4970,
    "start_time": "2021-12-07T12:48:16.691Z"
   },
   {
    "duration": 906,
    "start_time": "2021-12-07T12:48:21.664Z"
   },
   {
    "duration": 837,
    "start_time": "2021-12-07T12:48:22.572Z"
   },
   {
    "duration": 774,
    "start_time": "2021-12-07T12:48:23.411Z"
   },
   {
    "duration": 421,
    "start_time": "2021-12-07T12:48:24.189Z"
   },
   {
    "duration": 971,
    "start_time": "2021-12-07T12:48:24.612Z"
   },
   {
    "duration": 897,
    "start_time": "2021-12-07T12:48:25.586Z"
   },
   {
    "duration": 996,
    "start_time": "2021-12-07T12:48:26.488Z"
   },
   {
    "duration": 28,
    "start_time": "2021-12-07T12:48:27.487Z"
   },
   {
    "duration": 547,
    "start_time": "2021-12-07T12:48:27.517Z"
   },
   {
    "duration": 12,
    "start_time": "2021-12-07T12:48:28.066Z"
   },
   {
    "duration": 790,
    "start_time": "2021-12-07T12:48:28.081Z"
   },
   {
    "duration": 11,
    "start_time": "2021-12-07T12:48:28.875Z"
   },
   {
    "duration": 773,
    "start_time": "2021-12-07T12:48:28.889Z"
   },
   {
    "duration": 820,
    "start_time": "2021-12-07T12:48:29.665Z"
   },
   {
    "duration": 652,
    "start_time": "2021-12-07T12:48:30.487Z"
   },
   {
    "duration": 756,
    "start_time": "2021-12-07T12:48:31.142Z"
   },
   {
    "duration": 724,
    "start_time": "2021-12-07T12:48:31.900Z"
   },
   {
    "duration": 732,
    "start_time": "2021-12-07T12:48:32.627Z"
   },
   {
    "duration": 30,
    "start_time": "2021-12-07T12:48:33.361Z"
   },
   {
    "duration": 703,
    "start_time": "2021-12-07T12:48:33.394Z"
   },
   {
    "duration": 786,
    "start_time": "2021-12-07T12:48:34.101Z"
   },
   {
    "duration": 674,
    "start_time": "2021-12-07T12:48:34.890Z"
   },
   {
    "duration": 160,
    "start_time": "2021-12-07T12:56:57.604Z"
   },
   {
    "duration": 459,
    "start_time": "2021-12-07T12:57:01.989Z"
   },
   {
    "duration": 459,
    "start_time": "2021-12-07T12:57:12.879Z"
   },
   {
    "duration": 1124,
    "start_time": "2021-12-07T13:17:48.514Z"
   },
   {
    "duration": 1137,
    "start_time": "2021-12-07T13:18:05.962Z"
   },
   {
    "duration": 3241,
    "start_time": "2021-12-07T13:18:59.259Z"
   },
   {
    "duration": 3138,
    "start_time": "2021-12-07T13:19:10.964Z"
   },
   {
    "duration": 3114,
    "start_time": "2021-12-07T13:19:30.973Z"
   },
   {
    "duration": 1144,
    "start_time": "2021-12-07T13:19:37.845Z"
   },
   {
    "duration": 1047,
    "start_time": "2021-12-07T13:21:32.591Z"
   },
   {
    "duration": 1043,
    "start_time": "2021-12-07T13:21:55.720Z"
   },
   {
    "duration": 1057,
    "start_time": "2021-12-07T13:22:01.544Z"
   },
   {
    "duration": 1265,
    "start_time": "2021-12-07T13:22:18.781Z"
   },
   {
    "duration": 1169,
    "start_time": "2021-12-07T13:22:31.833Z"
   },
   {
    "duration": 1046,
    "start_time": "2021-12-07T13:22:38.361Z"
   },
   {
    "duration": 1122,
    "start_time": "2021-12-07T13:22:43.185Z"
   },
   {
    "duration": 1076,
    "start_time": "2021-12-07T13:23:06.354Z"
   },
   {
    "duration": 1237,
    "start_time": "2021-12-07T13:23:22.242Z"
   },
   {
    "duration": 1041,
    "start_time": "2021-12-07T13:24:44.284Z"
   },
   {
    "duration": 2200,
    "start_time": "2021-12-07T13:24:59.948Z"
   },
   {
    "duration": 1889,
    "start_time": "2021-12-07T13:26:08.918Z"
   },
   {
    "duration": 2315,
    "start_time": "2021-12-07T13:27:13.160Z"
   },
   {
    "duration": 1883,
    "start_time": "2021-12-07T13:29:00.730Z"
   },
   {
    "duration": 2145,
    "start_time": "2021-12-07T13:29:23.138Z"
   },
   {
    "duration": 1842,
    "start_time": "2021-12-07T13:29:38.523Z"
   },
   {
    "duration": 2012,
    "start_time": "2021-12-07T13:30:23.147Z"
   },
   {
    "duration": 2020,
    "start_time": "2021-12-07T13:30:34.988Z"
   },
   {
    "duration": 1929,
    "start_time": "2021-12-07T13:30:58.269Z"
   },
   {
    "duration": 2069,
    "start_time": "2021-12-07T13:32:21.006Z"
   },
   {
    "duration": 1191,
    "start_time": "2021-12-07T13:32:30.919Z"
   },
   {
    "duration": 2056,
    "start_time": "2021-12-07T13:32:43.167Z"
   },
   {
    "duration": 2084,
    "start_time": "2021-12-07T13:33:12.800Z"
   },
   {
    "duration": 2333,
    "start_time": "2021-12-07T13:33:42.760Z"
   },
   {
    "duration": 2196,
    "start_time": "2021-12-07T13:34:07.097Z"
   },
   {
    "duration": 1968,
    "start_time": "2021-12-07T13:37:07.534Z"
   },
   {
    "duration": 2463,
    "start_time": "2021-12-07T13:37:24.846Z"
   },
   {
    "duration": 1735,
    "start_time": "2021-12-07T13:37:49.367Z"
   },
   {
    "duration": 1710,
    "start_time": "2021-12-07T13:38:00.111Z"
   },
   {
    "duration": 1903,
    "start_time": "2021-12-07T13:38:08.071Z"
   },
   {
    "duration": 1916,
    "start_time": "2021-12-07T13:40:09.977Z"
   },
   {
    "duration": 2560,
    "start_time": "2021-12-07T13:44:06.231Z"
   },
   {
    "duration": 11908,
    "start_time": "2021-12-07T13:45:50.721Z"
   },
   {
    "duration": 2842,
    "start_time": "2021-12-07T13:46:04.177Z"
   },
   {
    "duration": 2389,
    "start_time": "2021-12-07T13:47:12.595Z"
   },
   {
    "duration": 2425,
    "start_time": "2021-12-07T13:47:22.452Z"
   },
   {
    "duration": 579,
    "start_time": "2021-12-07T13:48:35.974Z"
   },
   {
    "duration": 137,
    "start_time": "2021-12-07T13:53:26.740Z"
   },
   {
    "duration": 130,
    "start_time": "2021-12-07T13:53:33.844Z"
   },
   {
    "duration": 170,
    "start_time": "2021-12-07T13:53:40.340Z"
   },
   {
    "duration": 130,
    "start_time": "2021-12-07T13:53:48.429Z"
   },
   {
    "duration": 2398,
    "start_time": "2021-12-07T13:53:56.332Z"
   },
   {
    "duration": 1410,
    "start_time": "2021-12-07T13:54:52.127Z"
   },
   {
    "duration": 1300,
    "start_time": "2021-12-07T13:55:37.967Z"
   },
   {
    "duration": 2133,
    "start_time": "2021-12-07T13:56:04.673Z"
   },
   {
    "duration": 1503,
    "start_time": "2021-12-07T13:56:14.913Z"
   },
   {
    "duration": 1454,
    "start_time": "2021-12-07T13:56:29.585Z"
   },
   {
    "duration": 1293,
    "start_time": "2021-12-07T13:56:34.480Z"
   },
   {
    "duration": 2112,
    "start_time": "2021-12-07T13:56:44.409Z"
   },
   {
    "duration": 2079,
    "start_time": "2021-12-07T13:56:55.121Z"
   },
   {
    "duration": 1343,
    "start_time": "2021-12-07T13:57:01.241Z"
   },
   {
    "duration": 1418,
    "start_time": "2021-12-07T13:57:07.016Z"
   },
   {
    "duration": 2106,
    "start_time": "2021-12-07T13:58:25.987Z"
   },
   {
    "duration": 2292,
    "start_time": "2021-12-07T13:58:39.963Z"
   },
   {
    "duration": 2109,
    "start_time": "2021-12-07T13:58:45.987Z"
   },
   {
    "duration": 2070,
    "start_time": "2021-12-07T13:58:55.908Z"
   },
   {
    "duration": 1933,
    "start_time": "2021-12-07T13:59:06.820Z"
   },
   {
    "duration": 2057,
    "start_time": "2021-12-07T13:59:25.020Z"
   },
   {
    "duration": 2040,
    "start_time": "2021-12-07T13:59:42.100Z"
   },
   {
    "duration": 2224,
    "start_time": "2021-12-07T14:02:20.057Z"
   },
   {
    "duration": 2169,
    "start_time": "2021-12-07T14:02:53.618Z"
   },
   {
    "duration": 2061,
    "start_time": "2021-12-07T14:03:02.899Z"
   },
   {
    "duration": 2041,
    "start_time": "2021-12-07T14:03:10.722Z"
   },
   {
    "duration": 1979,
    "start_time": "2021-12-07T14:03:23.939Z"
   },
   {
    "duration": 1940,
    "start_time": "2021-12-07T14:03:36.683Z"
   },
   {
    "duration": 2043,
    "start_time": "2021-12-07T14:04:04.036Z"
   },
   {
    "duration": 2177,
    "start_time": "2021-12-07T14:04:15.924Z"
   },
   {
    "duration": 2148,
    "start_time": "2021-12-07T14:05:00.397Z"
   },
   {
    "duration": 1928,
    "start_time": "2021-12-07T14:07:15.331Z"
   },
   {
    "duration": 2189,
    "start_time": "2021-12-07T14:10:20.980Z"
   },
   {
    "duration": 2244,
    "start_time": "2021-12-07T14:11:39.215Z"
   },
   {
    "duration": 1642,
    "start_time": "2021-12-07T14:12:18.675Z"
   },
   {
    "duration": 222,
    "start_time": "2021-12-07T14:12:20.320Z"
   },
   {
    "duration": 19,
    "start_time": "2021-12-07T14:12:20.546Z"
   },
   {
    "duration": 44,
    "start_time": "2021-12-07T14:12:20.568Z"
   },
   {
    "duration": 69,
    "start_time": "2021-12-07T14:12:20.614Z"
   },
   {
    "duration": 5,
    "start_time": "2021-12-07T14:12:20.685Z"
   },
   {
    "duration": 31,
    "start_time": "2021-12-07T14:12:20.692Z"
   },
   {
    "duration": 39,
    "start_time": "2021-12-07T14:12:20.727Z"
   },
   {
    "duration": 6,
    "start_time": "2021-12-07T14:12:20.769Z"
   },
   {
    "duration": 1198,
    "start_time": "2021-12-07T14:12:20.778Z"
   },
   {
    "duration": 2101,
    "start_time": "2021-12-07T14:12:21.979Z"
   },
   {
    "duration": 406,
    "start_time": "2021-12-07T14:12:24.082Z"
   },
   {
    "duration": 1212,
    "start_time": "2021-12-07T14:12:24.491Z"
   },
   {
    "duration": 2048,
    "start_time": "2021-12-07T14:12:25.705Z"
   },
   {
    "duration": 31,
    "start_time": "2021-12-07T14:12:27.759Z"
   },
   {
    "duration": 4736,
    "start_time": "2021-12-07T14:12:27.793Z"
   },
   {
    "duration": 830,
    "start_time": "2021-12-07T14:12:32.532Z"
   },
   {
    "duration": 780,
    "start_time": "2021-12-07T14:12:33.365Z"
   },
   {
    "duration": 797,
    "start_time": "2021-12-07T14:12:34.148Z"
   },
   {
    "duration": 391,
    "start_time": "2021-12-07T14:12:34.948Z"
   },
   {
    "duration": 1037,
    "start_time": "2021-12-07T14:12:35.342Z"
   },
   {
    "duration": 907,
    "start_time": "2021-12-07T14:12:36.382Z"
   },
   {
    "duration": 1016,
    "start_time": "2021-12-07T14:12:37.295Z"
   },
   {
    "duration": 45,
    "start_time": "2021-12-07T14:12:38.314Z"
   },
   {
    "duration": 551,
    "start_time": "2021-12-07T14:12:38.362Z"
   },
   {
    "duration": 10,
    "start_time": "2021-12-07T14:12:38.915Z"
   },
   {
    "duration": 810,
    "start_time": "2021-12-07T14:12:38.928Z"
   },
   {
    "duration": 18,
    "start_time": "2021-12-07T14:12:39.741Z"
   },
   {
    "duration": 2174,
    "start_time": "2021-12-07T14:12:39.762Z"
   },
   {
    "duration": 2020,
    "start_time": "2021-12-07T14:12:41.939Z"
   },
   {
    "duration": 1856,
    "start_time": "2021-12-07T14:12:43.962Z"
   },
   {
    "duration": 2075,
    "start_time": "2021-12-07T14:12:45.820Z"
   },
   {
    "duration": 2069,
    "start_time": "2021-12-07T14:12:47.898Z"
   },
   {
    "duration": 1934,
    "start_time": "2021-12-07T14:12:49.969Z"
   },
   {
    "duration": 495,
    "start_time": "2021-12-07T14:12:51.906Z"
   },
   {
    "duration": 3038,
    "start_time": "2021-12-07T14:12:52.404Z"
   },
   {
    "duration": 3316,
    "start_time": "2021-12-07T14:12:55.445Z"
   },
   {
    "duration": 1927,
    "start_time": "2021-12-07T14:12:58.764Z"
   },
   {
    "duration": 393,
    "start_time": "2021-12-07T16:46:12.465Z"
   },
   {
    "duration": 1192,
    "start_time": "2021-12-07T16:46:23.364Z"
   },
   {
    "duration": 164,
    "start_time": "2021-12-07T16:46:24.558Z"
   },
   {
    "duration": 10,
    "start_time": "2021-12-07T16:46:24.724Z"
   },
   {
    "duration": 29,
    "start_time": "2021-12-07T16:46:24.736Z"
   },
   {
    "duration": 61,
    "start_time": "2021-12-07T16:46:24.767Z"
   },
   {
    "duration": 4,
    "start_time": "2021-12-07T16:46:24.830Z"
   },
   {
    "duration": 19,
    "start_time": "2021-12-07T16:46:24.836Z"
   },
   {
    "duration": 19,
    "start_time": "2021-12-07T16:46:24.858Z"
   },
   {
    "duration": 27,
    "start_time": "2021-12-07T16:46:24.879Z"
   },
   {
    "duration": 742,
    "start_time": "2021-12-07T16:46:24.909Z"
   },
   {
    "duration": 1149,
    "start_time": "2021-12-07T16:46:25.653Z"
   },
   {
    "duration": 246,
    "start_time": "2021-12-07T16:46:26.803Z"
   },
   {
    "duration": 725,
    "start_time": "2021-12-07T16:46:27.051Z"
   },
   {
    "duration": 1282,
    "start_time": "2021-12-07T16:46:27.778Z"
   },
   {
    "duration": 20,
    "start_time": "2021-12-07T16:46:29.062Z"
   },
   {
    "duration": 2681,
    "start_time": "2021-12-07T16:46:29.084Z"
   },
   {
    "duration": 554,
    "start_time": "2021-12-07T16:46:31.767Z"
   },
   {
    "duration": 529,
    "start_time": "2021-12-07T16:46:32.323Z"
   },
   {
    "duration": 543,
    "start_time": "2021-12-07T16:46:32.854Z"
   },
   {
    "duration": 280,
    "start_time": "2021-12-07T16:46:33.407Z"
   },
   {
    "duration": 592,
    "start_time": "2021-12-07T16:46:33.689Z"
   },
   {
    "duration": 590,
    "start_time": "2021-12-07T16:46:34.283Z"
   },
   {
    "duration": 619,
    "start_time": "2021-12-07T16:46:34.876Z"
   },
   {
    "duration": 25,
    "start_time": "2021-12-07T16:46:35.497Z"
   },
   {
    "duration": 342,
    "start_time": "2021-12-07T16:46:35.524Z"
   },
   {
    "duration": 7,
    "start_time": "2021-12-07T16:46:35.876Z"
   },
   {
    "duration": 465,
    "start_time": "2021-12-07T16:47:34.962Z"
   },
   {
    "duration": 100,
    "start_time": "2021-12-07T16:53:45.298Z"
   },
   {
    "duration": 456,
    "start_time": "2021-12-07T16:54:02.339Z"
   },
   {
    "duration": 1246,
    "start_time": "2021-12-07T16:54:38.219Z"
   },
   {
    "duration": 558,
    "start_time": "2021-12-07T16:54:48.491Z"
   },
   {
    "duration": 477,
    "start_time": "2021-12-07T16:55:00.646Z"
   },
   {
    "duration": 500,
    "start_time": "2021-12-07T16:55:07.596Z"
   },
   {
    "duration": 486,
    "start_time": "2021-12-07T16:57:14.895Z"
   },
   {
    "duration": 473,
    "start_time": "2021-12-07T16:57:21.935Z"
   },
   {
    "duration": 1550,
    "start_time": "2021-12-15T15:51:03.091Z"
   },
   {
    "duration": 5,
    "start_time": "2021-12-15T15:52:39.179Z"
   },
   {
    "duration": 586,
    "start_time": "2021-12-15T15:55:52.066Z"
   },
   {
    "duration": 304,
    "start_time": "2021-12-15T15:56:27.214Z"
   },
   {
    "duration": 240,
    "start_time": "2021-12-15T15:58:26.472Z"
   },
   {
    "duration": 160,
    "start_time": "2021-12-15T16:00:08.280Z"
   },
   {
    "duration": 111,
    "start_time": "2021-12-15T16:00:43.613Z"
   },
   {
    "duration": 1865,
    "start_time": "2021-12-15T16:01:02.397Z"
   },
   {
    "duration": 114,
    "start_time": "2021-12-15T16:01:26.292Z"
   },
   {
    "duration": 72,
    "start_time": "2021-12-15T16:01:49.470Z"
   },
   {
    "duration": 253,
    "start_time": "2021-12-15T16:22:14.621Z"
   },
   {
    "duration": 240,
    "start_time": "2021-12-15T16:22:24.353Z"
   },
   {
    "duration": 152,
    "start_time": "2021-12-15T16:31:13.546Z"
   },
   {
    "duration": 72,
    "start_time": "2021-12-15T16:32:46.963Z"
   },
   {
    "duration": 76,
    "start_time": "2021-12-15T16:32:59.068Z"
   },
   {
    "duration": 73,
    "start_time": "2021-12-15T16:33:15.509Z"
   },
   {
    "duration": 78,
    "start_time": "2021-12-15T16:33:32.613Z"
   },
   {
    "duration": 6,
    "start_time": "2021-12-15T16:40:41.361Z"
   },
   {
    "duration": 274,
    "start_time": "2021-12-15T16:40:41.370Z"
   },
   {
    "duration": 255,
    "start_time": "2021-12-15T16:40:41.647Z"
   },
   {
    "duration": 173,
    "start_time": "2021-12-15T16:40:41.906Z"
   },
   {
    "duration": 81,
    "start_time": "2021-12-15T16:40:42.082Z"
   },
   {
    "duration": 73,
    "start_time": "2021-12-15T16:40:42.167Z"
   },
   {
    "duration": 9699,
    "start_time": "2021-12-15T16:40:45.815Z"
   },
   {
    "duration": 487,
    "start_time": "2021-12-15T16:42:05.258Z"
   },
   {
    "duration": 28,
    "start_time": "2021-12-15T16:42:11.809Z"
   },
   {
    "duration": 246,
    "start_time": "2021-12-15T16:43:27.571Z"
   },
   {
    "duration": 45,
    "start_time": "2021-12-15T16:43:57.228Z"
   },
   {
    "duration": 54,
    "start_time": "2021-12-15T16:46:40.126Z"
   },
   {
    "duration": 494,
    "start_time": "2021-12-15T16:47:23.984Z"
   },
   {
    "duration": 30,
    "start_time": "2021-12-15T16:48:45.139Z"
   },
   {
    "duration": 30,
    "start_time": "2021-12-15T16:48:56.219Z"
   },
   {
    "duration": 29,
    "start_time": "2021-12-15T16:49:15.187Z"
   },
   {
    "duration": 167,
    "start_time": "2021-12-15T17:01:47.508Z"
   },
   {
    "duration": 181,
    "start_time": "2021-12-15T17:19:42.841Z"
   },
   {
    "duration": 167,
    "start_time": "2021-12-15T17:19:59.457Z"
   },
   {
    "duration": 250,
    "start_time": "2021-12-15T17:20:17.066Z"
   },
   {
    "duration": 851,
    "start_time": "2021-12-15T17:22:35.411Z"
   },
   {
    "duration": 971,
    "start_time": "2021-12-15T17:23:05.342Z"
   },
   {
    "duration": 792,
    "start_time": "2021-12-15T17:23:14.470Z"
   },
   {
    "duration": 747,
    "start_time": "2021-12-15T17:24:11.855Z"
   },
   {
    "duration": 37,
    "start_time": "2021-12-15T17:24:33.752Z"
   },
   {
    "duration": 174,
    "start_time": "2021-12-15T17:27:27.177Z"
   },
   {
    "duration": 990,
    "start_time": "2021-12-15T17:28:03.309Z"
   },
   {
    "duration": 9248,
    "start_time": "2021-12-15T17:28:04.301Z"
   },
   {
    "duration": 149,
    "start_time": "2021-12-15T17:28:13.404Z"
   },
   {
    "duration": 147,
    "start_time": "2021-12-15T17:28:13.407Z"
   },
   {
    "duration": 147,
    "start_time": "2021-12-15T17:28:13.409Z"
   },
   {
    "duration": 145,
    "start_time": "2021-12-15T17:28:13.412Z"
   },
   {
    "duration": 143,
    "start_time": "2021-12-15T17:28:13.415Z"
   },
   {
    "duration": 141,
    "start_time": "2021-12-15T17:28:13.418Z"
   },
   {
    "duration": 141,
    "start_time": "2021-12-15T17:28:13.420Z"
   },
   {
    "duration": 139,
    "start_time": "2021-12-15T17:28:13.423Z"
   },
   {
    "duration": 138,
    "start_time": "2021-12-15T17:28:13.425Z"
   },
   {
    "duration": 130,
    "start_time": "2021-12-15T17:28:13.434Z"
   },
   {
    "duration": 129,
    "start_time": "2021-12-15T17:28:13.437Z"
   },
   {
    "duration": 127,
    "start_time": "2021-12-15T17:28:13.440Z"
   },
   {
    "duration": 126,
    "start_time": "2021-12-15T17:28:13.442Z"
   },
   {
    "duration": 125,
    "start_time": "2021-12-15T17:28:13.445Z"
   },
   {
    "duration": 123,
    "start_time": "2021-12-15T17:28:13.448Z"
   },
   {
    "duration": 122,
    "start_time": "2021-12-15T17:28:13.450Z"
   },
   {
    "duration": 120,
    "start_time": "2021-12-15T17:28:13.453Z"
   },
   {
    "duration": 119,
    "start_time": "2021-12-15T17:28:13.455Z"
   },
   {
    "duration": 118,
    "start_time": "2021-12-15T17:28:13.457Z"
   },
   {
    "duration": 88,
    "start_time": "2021-12-15T17:28:13.489Z"
   },
   {
    "duration": 87,
    "start_time": "2021-12-15T17:28:13.492Z"
   },
   {
    "duration": 82,
    "start_time": "2021-12-15T17:28:13.498Z"
   },
   {
    "duration": 81,
    "start_time": "2021-12-15T17:28:13.501Z"
   },
   {
    "duration": 80,
    "start_time": "2021-12-15T17:28:13.504Z"
   },
   {
    "duration": 71,
    "start_time": "2021-12-15T17:28:13.515Z"
   },
   {
    "duration": 69,
    "start_time": "2021-12-15T17:28:13.518Z"
   },
   {
    "duration": 65,
    "start_time": "2021-12-15T17:28:13.524Z"
   },
   {
    "duration": 53,
    "start_time": "2021-12-15T17:28:13.538Z"
   },
   {
    "duration": 52,
    "start_time": "2021-12-15T17:28:13.541Z"
   },
   {
    "duration": 51,
    "start_time": "2021-12-15T17:28:13.544Z"
   },
   {
    "duration": 49,
    "start_time": "2021-12-15T17:28:13.547Z"
   },
   {
    "duration": 48,
    "start_time": "2021-12-15T17:28:13.550Z"
   },
   {
    "duration": 1503,
    "start_time": "2021-12-15T17:28:36.816Z"
   },
   {
    "duration": 272,
    "start_time": "2021-12-15T17:28:38.322Z"
   },
   {
    "duration": 232,
    "start_time": "2021-12-15T17:28:38.597Z"
   },
   {
    "duration": 160,
    "start_time": "2021-12-15T17:28:38.832Z"
   },
   {
    "duration": 79,
    "start_time": "2021-12-15T17:28:38.994Z"
   },
   {
    "duration": 96,
    "start_time": "2021-12-15T17:28:39.075Z"
   },
   {
    "duration": 41,
    "start_time": "2021-12-15T17:28:39.174Z"
   },
   {
    "duration": 197,
    "start_time": "2021-12-15T17:28:39.218Z"
   },
   {
    "duration": 725,
    "start_time": "2021-12-15T17:28:42.410Z"
   },
   {
    "duration": 169,
    "start_time": "2021-12-15T17:28:54.810Z"
   },
   {
    "duration": 166,
    "start_time": "2021-12-15T17:37:36.794Z"
   },
   {
    "duration": 170,
    "start_time": "2021-12-15T17:38:00.440Z"
   },
   {
    "duration": 156,
    "start_time": "2021-12-15T17:39:46.587Z"
   },
   {
    "duration": 1445,
    "start_time": "2021-12-15T17:40:06.771Z"
   },
   {
    "duration": 166,
    "start_time": "2021-12-15T17:40:19.716Z"
   },
   {
    "duration": 175,
    "start_time": "2021-12-15T17:42:07.942Z"
   },
   {
    "duration": 150,
    "start_time": "2021-12-15T17:42:28.678Z"
   },
   {
    "duration": 1534,
    "start_time": "2021-12-15T17:42:41.415Z"
   },
   {
    "duration": 140,
    "start_time": "2021-12-15T17:42:55.391Z"
   },
   {
    "duration": 144,
    "start_time": "2021-12-15T17:42:59.727Z"
   },
   {
    "duration": 171,
    "start_time": "2021-12-15T17:43:05.463Z"
   },
   {
    "duration": 298,
    "start_time": "2021-12-15T17:45:27.140Z"
   },
   {
    "duration": 264,
    "start_time": "2021-12-15T17:45:53.795Z"
   },
   {
    "duration": 266,
    "start_time": "2021-12-15T17:46:13.227Z"
   },
   {
    "duration": 303,
    "start_time": "2021-12-15T17:47:05.274Z"
   },
   {
    "duration": 658,
    "start_time": "2021-12-15T17:47:35.816Z"
   },
   {
    "duration": 222,
    "start_time": "2021-12-15T17:47:49.262Z"
   },
   {
    "duration": 258,
    "start_time": "2021-12-15T17:48:16.463Z"
   },
   {
    "duration": 225,
    "start_time": "2021-12-15T17:48:29.920Z"
   },
   {
    "duration": 249,
    "start_time": "2021-12-15T17:48:59.928Z"
   },
   {
    "duration": 258,
    "start_time": "2021-12-15T17:56:39.380Z"
   },
   {
    "duration": 13300,
    "start_time": "2021-12-15T17:58:50.550Z"
   },
   {
    "duration": 132,
    "start_time": "2021-12-15T17:59:27.863Z"
   },
   {
    "duration": 165,
    "start_time": "2021-12-15T18:02:15.668Z"
   },
   {
    "duration": 133,
    "start_time": "2021-12-15T18:02:22.476Z"
   },
   {
    "duration": 256,
    "start_time": "2021-12-15T18:02:24.755Z"
   },
   {
    "duration": 169,
    "start_time": "2021-12-15T18:10:32.512Z"
   },
   {
    "duration": 374,
    "start_time": "2021-12-15T18:10:41.488Z"
   },
   {
    "duration": 474,
    "start_time": "2021-12-15T18:11:03.393Z"
   },
   {
    "duration": 613,
    "start_time": "2021-12-15T18:11:18.785Z"
   },
   {
    "duration": 651,
    "start_time": "2021-12-15T18:11:28.337Z"
   },
   {
    "duration": 153,
    "start_time": "2021-12-15T18:13:42.453Z"
   },
   {
    "duration": 92,
    "start_time": "2021-12-15T18:13:51.557Z"
   },
   {
    "duration": 430,
    "start_time": "2021-12-15T18:15:59.386Z"
   },
   {
    "duration": 96,
    "start_time": "2021-12-15T18:16:25.145Z"
   },
   {
    "duration": 108,
    "start_time": "2021-12-15T18:20:06.566Z"
   },
   {
    "duration": 158,
    "start_time": "2021-12-15T18:20:10.206Z"
   },
   {
    "duration": 460,
    "start_time": "2021-12-15T18:21:44.392Z"
   },
   {
    "duration": 473,
    "start_time": "2021-12-15T18:21:52.897Z"
   },
   {
    "duration": 157,
    "start_time": "2021-12-15T18:22:07.352Z"
   },
   {
    "duration": 206,
    "start_time": "2021-12-15T18:22:37.153Z"
   },
   {
    "duration": 193,
    "start_time": "2021-12-15T18:22:41.217Z"
   },
   {
    "duration": 187,
    "start_time": "2021-12-15T18:23:54.995Z"
   },
   {
    "duration": 96,
    "start_time": "2021-12-15T18:24:40.253Z"
   },
   {
    "duration": 401,
    "start_time": "2021-12-15T18:26:49.592Z"
   },
   {
    "duration": 395,
    "start_time": "2021-12-15T18:27:13.584Z"
   },
   {
    "duration": 52,
    "start_time": "2021-12-15T18:28:36.018Z"
   },
   {
    "duration": 59,
    "start_time": "2021-12-15T18:29:21.043Z"
   },
   {
    "duration": 49,
    "start_time": "2021-12-15T18:30:01.268Z"
   },
   {
    "duration": 401,
    "start_time": "2021-12-15T18:34:17.067Z"
   },
   {
    "duration": 394,
    "start_time": "2021-12-15T18:34:33.834Z"
   },
   {
    "duration": 389,
    "start_time": "2021-12-15T18:34:45.243Z"
   },
   {
    "duration": 60,
    "start_time": "2021-12-15T18:34:56.002Z"
   },
   {
    "duration": 93,
    "start_time": "2021-12-15T18:35:43.573Z"
   },
   {
    "duration": 123,
    "start_time": "2021-12-15T18:37:55.663Z"
   },
   {
    "duration": 125,
    "start_time": "2021-12-15T18:41:31.845Z"
   },
   {
    "duration": 125,
    "start_time": "2021-12-15T18:43:36.545Z"
   },
   {
    "duration": 275,
    "start_time": "2021-12-15T18:45:01.745Z"
   },
   {
    "duration": 265,
    "start_time": "2021-12-15T18:45:09.922Z"
   },
   {
    "duration": 126,
    "start_time": "2021-12-15T18:47:22.126Z"
   },
   {
    "duration": 167,
    "start_time": "2021-12-15T18:48:21.352Z"
   },
   {
    "duration": 7,
    "start_time": "2021-12-15T18:53:47.655Z"
   },
   {
    "duration": 10,
    "start_time": "2021-12-15T18:53:56.543Z"
   },
   {
    "duration": 12,
    "start_time": "2021-12-15T19:01:08.507Z"
   },
   {
    "duration": 12,
    "start_time": "2021-12-15T19:02:42.708Z"
   },
   {
    "duration": 371,
    "start_time": "2021-12-15T19:10:03.472Z"
   },
   {
    "duration": 5,
    "start_time": "2021-12-15T19:10:58.984Z"
   },
   {
    "duration": 734,
    "start_time": "2021-12-15T19:11:05.400Z"
   },
   {
    "duration": 607,
    "start_time": "2021-12-15T19:11:37.297Z"
   },
   {
    "duration": 453,
    "start_time": "2021-12-15T19:11:43.257Z"
   },
   {
    "duration": 13,
    "start_time": "2021-12-15T19:12:58.835Z"
   },
   {
    "duration": 5,
    "start_time": "2021-12-15T19:13:09.459Z"
   },
   {
    "duration": 13,
    "start_time": "2021-12-15T19:13:42.531Z"
   },
   {
    "duration": 15,
    "start_time": "2021-12-15T19:13:47.364Z"
   },
   {
    "duration": 14,
    "start_time": "2021-12-15T19:14:46.957Z"
   },
   {
    "duration": 53,
    "start_time": "2021-12-15T19:15:21.670Z"
   },
   {
    "duration": 23,
    "start_time": "2021-12-15T19:16:41.360Z"
   },
   {
    "duration": 21,
    "start_time": "2021-12-15T19:18:23.198Z"
   },
   {
    "duration": 22,
    "start_time": "2021-12-15T19:18:27.581Z"
   },
   {
    "duration": 20,
    "start_time": "2021-12-15T19:18:38.356Z"
   },
   {
    "duration": 86,
    "start_time": "2021-12-15T19:19:10.932Z"
   },
   {
    "duration": 20,
    "start_time": "2021-12-15T19:19:31.493Z"
   },
   {
    "duration": 134,
    "start_time": "2021-12-15T19:21:56.232Z"
   },
   {
    "duration": 19,
    "start_time": "2021-12-15T19:22:26.313Z"
   },
   {
    "duration": 1652,
    "start_time": "2021-12-15T19:23:07.361Z"
   },
   {
    "duration": 305,
    "start_time": "2021-12-15T19:23:09.016Z"
   },
   {
    "duration": 302,
    "start_time": "2021-12-15T19:23:09.325Z"
   },
   {
    "duration": 170,
    "start_time": "2021-12-15T19:23:09.631Z"
   },
   {
    "duration": 75,
    "start_time": "2021-12-15T19:23:09.803Z"
   },
   {
    "duration": 116,
    "start_time": "2021-12-15T19:23:09.881Z"
   },
   {
    "duration": 63,
    "start_time": "2021-12-15T19:23:10.000Z"
   },
   {
    "duration": 224,
    "start_time": "2021-12-15T19:23:10.068Z"
   },
   {
    "duration": 286,
    "start_time": "2021-12-15T19:23:10.296Z"
   },
   {
    "duration": 168,
    "start_time": "2021-12-15T19:23:10.585Z"
   },
   {
    "duration": 209,
    "start_time": "2021-12-15T19:23:10.756Z"
   },
   {
    "duration": 164,
    "start_time": "2021-12-15T19:23:10.968Z"
   },
   {
    "duration": 37,
    "start_time": "2021-12-15T19:23:11.135Z"
   },
   {
    "duration": 857,
    "start_time": "2021-12-15T19:23:11.175Z"
   },
   {
    "duration": 203,
    "start_time": "2021-12-15T19:23:11.834Z"
   },
   {
    "duration": 197,
    "start_time": "2021-12-15T19:23:11.842Z"
   },
   {
    "duration": 191,
    "start_time": "2021-12-15T19:23:11.849Z"
   },
   {
    "duration": 187,
    "start_time": "2021-12-15T19:23:11.855Z"
   },
   {
    "duration": 185,
    "start_time": "2021-12-15T19:23:11.859Z"
   },
   {
    "duration": 183,
    "start_time": "2021-12-15T19:23:11.862Z"
   },
   {
    "duration": 182,
    "start_time": "2021-12-15T19:23:11.865Z"
   },
   {
    "duration": 181,
    "start_time": "2021-12-15T19:23:11.868Z"
   },
   {
    "duration": 179,
    "start_time": "2021-12-15T19:23:11.871Z"
   },
   {
    "duration": 178,
    "start_time": "2021-12-15T19:23:11.874Z"
   },
   {
    "duration": 176,
    "start_time": "2021-12-15T19:23:11.877Z"
   },
   {
    "duration": 171,
    "start_time": "2021-12-15T19:23:11.884Z"
   },
   {
    "duration": 168,
    "start_time": "2021-12-15T19:23:11.888Z"
   },
   {
    "duration": 167,
    "start_time": "2021-12-15T19:23:11.891Z"
   },
   {
    "duration": 166,
    "start_time": "2021-12-15T19:23:11.894Z"
   },
   {
    "duration": 164,
    "start_time": "2021-12-15T19:23:11.897Z"
   },
   {
    "duration": 163,
    "start_time": "2021-12-15T19:23:11.900Z"
   },
   {
    "duration": 163,
    "start_time": "2021-12-15T19:23:11.902Z"
   },
   {
    "duration": 161,
    "start_time": "2021-12-15T19:23:11.905Z"
   },
   {
    "duration": 161,
    "start_time": "2021-12-15T19:23:11.907Z"
   },
   {
    "duration": 160,
    "start_time": "2021-12-15T19:23:11.910Z"
   },
   {
    "duration": 159,
    "start_time": "2021-12-15T19:23:11.912Z"
   },
   {
    "duration": 153,
    "start_time": "2021-12-15T19:23:11.920Z"
   },
   {
    "duration": 151,
    "start_time": "2021-12-15T19:23:11.923Z"
   },
   {
    "duration": 150,
    "start_time": "2021-12-15T19:23:11.926Z"
   },
   {
    "duration": 149,
    "start_time": "2021-12-15T19:23:11.928Z"
   },
   {
    "duration": 148,
    "start_time": "2021-12-15T19:23:11.931Z"
   },
   {
    "duration": 148,
    "start_time": "2021-12-15T19:23:11.933Z"
   },
   {
    "duration": 146,
    "start_time": "2021-12-15T19:23:11.936Z"
   },
   {
    "duration": 112,
    "start_time": "2021-12-15T19:23:11.972Z"
   },
   {
    "duration": 106,
    "start_time": "2021-12-15T19:23:11.980Z"
   },
   {
    "duration": 100,
    "start_time": "2021-12-15T19:23:11.987Z"
   },
   {
    "duration": 129,
    "start_time": "2021-12-15T19:23:55.230Z"
   },
   {
    "duration": 20,
    "start_time": "2021-12-15T19:24:04.588Z"
   },
   {
    "duration": 22,
    "start_time": "2021-12-15T19:24:20.779Z"
   },
   {
    "duration": 18,
    "start_time": "2021-12-15T19:24:24.524Z"
   },
   {
    "duration": 31,
    "start_time": "2021-12-15T19:24:32.036Z"
   },
   {
    "duration": 120,
    "start_time": "2021-12-15T19:25:13.022Z"
   },
   {
    "duration": 3,
    "start_time": "2021-12-15T19:52:07.428Z"
   },
   {
    "duration": 7,
    "start_time": "2021-12-15T19:56:56.020Z"
   },
   {
    "duration": 28,
    "start_time": "2021-12-15T19:58:26.719Z"
   },
   {
    "duration": 508,
    "start_time": "2021-12-15T19:58:52.216Z"
   },
   {
    "duration": 375,
    "start_time": "2021-12-15T19:58:58.040Z"
   },
   {
    "duration": 371,
    "start_time": "2021-12-15T19:59:08.536Z"
   },
   {
    "duration": 28,
    "start_time": "2021-12-15T19:59:22.288Z"
   },
   {
    "duration": 9,
    "start_time": "2021-12-15T20:00:30.259Z"
   },
   {
    "duration": 10,
    "start_time": "2021-12-15T20:00:38.908Z"
   },
   {
    "duration": 364,
    "start_time": "2021-12-15T20:01:09.403Z"
   },
   {
    "duration": 387,
    "start_time": "2021-12-15T20:02:06.780Z"
   },
   {
    "duration": 15,
    "start_time": "2021-12-15T20:02:29.789Z"
   },
   {
    "duration": 14,
    "start_time": "2021-12-15T20:04:17.424Z"
   },
   {
    "duration": 12,
    "start_time": "2021-12-15T20:04:31.631Z"
   },
   {
    "duration": 15,
    "start_time": "2021-12-15T20:04:43.487Z"
   },
   {
    "duration": 18,
    "start_time": "2021-12-15T20:06:23.835Z"
   },
   {
    "duration": 610,
    "start_time": "2021-12-15T20:12:43.405Z"
   },
   {
    "duration": 406,
    "start_time": "2021-12-15T20:45:01.810Z"
   },
   {
    "duration": 748,
    "start_time": "2021-12-15T20:45:14.943Z"
   },
   {
    "duration": 362,
    "start_time": "2021-12-15T20:45:31.096Z"
   },
   {
    "duration": 357,
    "start_time": "2021-12-15T20:47:10.762Z"
   },
   {
    "duration": 409,
    "start_time": "2021-12-15T20:47:19.754Z"
   },
   {
    "duration": 199,
    "start_time": "2021-12-15T20:58:47.249Z"
   },
   {
    "duration": 644,
    "start_time": "2021-12-15T20:58:52.275Z"
   },
   {
    "duration": 17232,
    "start_time": "2021-12-15T20:59:15.564Z"
   },
   {
    "duration": 3280,
    "start_time": "2021-12-15T20:59:39.637Z"
   },
   {
    "duration": 388,
    "start_time": "2021-12-15T21:00:21.567Z"
   },
   {
    "duration": 1165,
    "start_time": "2021-12-15T21:00:31.573Z"
   },
   {
    "duration": 388,
    "start_time": "2021-12-15T21:00:57.662Z"
   },
   {
    "duration": 314,
    "start_time": "2021-12-15T21:02:38.721Z"
   },
   {
    "duration": 442,
    "start_time": "2021-12-15T21:03:27.881Z"
   },
   {
    "duration": 471,
    "start_time": "2021-12-15T21:03:50.003Z"
   },
   {
    "duration": 423,
    "start_time": "2021-12-15T21:04:11.076Z"
   },
   {
    "duration": 411,
    "start_time": "2021-12-15T21:05:10.293Z"
   },
   {
    "duration": 729,
    "start_time": "2021-12-15T21:05:22.485Z"
   },
   {
    "duration": 740,
    "start_time": "2021-12-15T21:07:05.488Z"
   },
   {
    "duration": 804,
    "start_time": "2021-12-15T21:07:11.424Z"
   },
   {
    "duration": 856,
    "start_time": "2021-12-15T21:07:17.608Z"
   },
   {
    "duration": 571,
    "start_time": "2021-12-15T21:08:19.472Z"
   },
   {
    "duration": 1328,
    "start_time": "2021-12-15T21:08:48.978Z"
   },
   {
    "duration": 826,
    "start_time": "2021-12-15T21:08:54.411Z"
   },
   {
    "duration": 872,
    "start_time": "2021-12-15T21:09:27.987Z"
   },
   {
    "duration": 575,
    "start_time": "2021-12-15T21:10:26.108Z"
   },
   {
    "duration": 1247,
    "start_time": "2021-12-15T21:10:34.852Z"
   },
   {
    "duration": 1042,
    "start_time": "2021-12-15T21:10:39.324Z"
   },
   {
    "duration": 1281,
    "start_time": "2021-12-15T21:10:42.413Z"
   },
   {
    "duration": 948,
    "start_time": "2021-12-15T21:10:48.261Z"
   },
   {
    "duration": 1272,
    "start_time": "2021-12-15T21:10:55.589Z"
   },
   {
    "duration": 895,
    "start_time": "2021-12-15T21:11:01.390Z"
   },
   {
    "duration": 588,
    "start_time": "2021-12-15T21:11:54.485Z"
   },
   {
    "duration": 1293,
    "start_time": "2021-12-15T21:12:56.967Z"
   },
   {
    "duration": 1110,
    "start_time": "2021-12-15T21:13:44.929Z"
   },
   {
    "duration": 959,
    "start_time": "2021-12-15T21:14:31.234Z"
   },
   {
    "duration": 1093,
    "start_time": "2021-12-15T21:14:45.435Z"
   },
   {
    "duration": 953,
    "start_time": "2021-12-15T21:15:17.539Z"
   },
   {
    "duration": 575,
    "start_time": "2021-12-15T21:15:37.731Z"
   },
   {
    "duration": 575,
    "start_time": "2021-12-15T21:15:59.169Z"
   },
   {
    "duration": 576,
    "start_time": "2021-12-15T21:16:18.301Z"
   },
   {
    "duration": 591,
    "start_time": "2021-12-15T21:17:00.750Z"
   },
   {
    "duration": 587,
    "start_time": "2021-12-15T21:18:02.391Z"
   },
   {
    "duration": 685,
    "start_time": "2021-12-15T21:19:10.553Z"
   },
   {
    "duration": 728,
    "start_time": "2021-12-15T21:19:22.809Z"
   },
   {
    "duration": 689,
    "start_time": "2021-12-15T21:20:17.474Z"
   },
   {
    "duration": 584,
    "start_time": "2021-12-15T21:20:33.731Z"
   },
   {
    "duration": 584,
    "start_time": "2021-12-15T21:21:08.027Z"
   },
   {
    "duration": 590,
    "start_time": "2021-12-15T21:21:37.860Z"
   },
   {
    "duration": 1570,
    "start_time": "2021-12-15T21:27:17.381Z"
   },
   {
    "duration": 570,
    "start_time": "2021-12-15T21:27:37.494Z"
   },
   {
    "duration": 583,
    "start_time": "2021-12-15T21:27:53.645Z"
   },
   {
    "duration": 577,
    "start_time": "2021-12-15T21:28:38.206Z"
   },
   {
    "duration": 591,
    "start_time": "2021-12-15T21:28:54.999Z"
   },
   {
    "duration": 952,
    "start_time": "2021-12-15T21:29:03.439Z"
   },
   {
    "duration": 1091,
    "start_time": "2021-12-15T21:29:16.192Z"
   },
   {
    "duration": 578,
    "start_time": "2021-12-15T21:29:24.897Z"
   },
   {
    "duration": 1208,
    "start_time": "2021-12-15T21:29:50.897Z"
   },
   {
    "duration": 1108,
    "start_time": "2021-12-15T21:30:14.344Z"
   },
   {
    "duration": 76,
    "start_time": "2021-12-16T07:20:55.608Z"
   },
   {
    "duration": 268,
    "start_time": "2021-12-16T07:20:59.776Z"
   },
   {
    "duration": 1080,
    "start_time": "2021-12-16T07:21:11.152Z"
   },
   {
    "duration": 191,
    "start_time": "2021-12-16T07:21:12.233Z"
   },
   {
    "duration": 232,
    "start_time": "2021-12-16T07:21:12.426Z"
   },
   {
    "duration": 164,
    "start_time": "2021-12-16T07:21:12.661Z"
   },
   {
    "duration": 62,
    "start_time": "2021-12-16T07:21:12.828Z"
   },
   {
    "duration": 74,
    "start_time": "2021-12-16T07:21:12.892Z"
   },
   {
    "duration": 41,
    "start_time": "2021-12-16T07:21:12.968Z"
   },
   {
    "duration": 190,
    "start_time": "2021-12-16T07:21:13.012Z"
   },
   {
    "duration": 224,
    "start_time": "2021-12-16T07:21:13.205Z"
   },
   {
    "duration": 134,
    "start_time": "2021-12-16T07:21:13.431Z"
   },
   {
    "duration": 146,
    "start_time": "2021-12-16T07:21:13.567Z"
   },
   {
    "duration": 127,
    "start_time": "2021-12-16T07:21:13.715Z"
   },
   {
    "duration": 92,
    "start_time": "2021-12-16T07:21:13.845Z"
   },
   {
    "duration": 3040,
    "start_time": "2021-12-16T07:21:15.651Z"
   },
   {
    "duration": 213,
    "start_time": "2021-12-16T07:22:18.564Z"
   },
   {
    "duration": 717,
    "start_time": "2021-12-16T07:29:31.726Z"
   },
   {
    "duration": 382,
    "start_time": "2021-12-16T07:42:24.321Z"
   },
   {
    "duration": 257,
    "start_time": "2021-12-16T07:43:52.859Z"
   },
   {
    "duration": 5,
    "start_time": "2021-12-16T07:51:35.898Z"
   },
   {
    "duration": 272,
    "start_time": "2021-12-16T07:51:35.905Z"
   },
   {
    "duration": 249,
    "start_time": "2021-12-16T07:51:36.180Z"
   },
   {
    "duration": 115,
    "start_time": "2021-12-16T07:51:36.431Z"
   },
   {
    "duration": 49,
    "start_time": "2021-12-16T07:51:36.548Z"
   },
   {
    "duration": 54,
    "start_time": "2021-12-16T07:51:36.599Z"
   },
   {
    "duration": 37,
    "start_time": "2021-12-16T07:51:36.655Z"
   },
   {
    "duration": 141,
    "start_time": "2021-12-16T07:51:36.695Z"
   },
   {
    "duration": 166,
    "start_time": "2021-12-16T07:51:36.838Z"
   },
   {
    "duration": 100,
    "start_time": "2021-12-16T07:51:37.005Z"
   },
   {
    "duration": 107,
    "start_time": "2021-12-16T07:51:37.107Z"
   },
   {
    "duration": 92,
    "start_time": "2021-12-16T07:51:37.215Z"
   },
   {
    "duration": 48,
    "start_time": "2021-12-16T07:51:37.309Z"
   },
   {
    "duration": 608,
    "start_time": "2021-12-16T07:51:37.359Z"
   },
   {
    "duration": 692,
    "start_time": "2021-12-16T08:01:01.147Z"
   },
   {
    "duration": 746,
    "start_time": "2021-12-16T08:01:19.932Z"
   },
   {
    "duration": 791,
    "start_time": "2021-12-16T08:15:06.416Z"
   },
   {
    "duration": 585,
    "start_time": "2021-12-16T08:15:40.455Z"
   },
   {
    "duration": 581,
    "start_time": "2021-12-16T08:16:03.394Z"
   },
   {
    "duration": 980,
    "start_time": "2021-12-16T08:18:37.492Z"
   },
   {
    "duration": 934,
    "start_time": "2021-12-16T08:29:53.204Z"
   },
   {
    "duration": 16,
    "start_time": "2021-12-16T09:58:01.473Z"
   },
   {
    "duration": 18,
    "start_time": "2021-12-16T09:59:07.209Z"
   },
   {
    "duration": 12,
    "start_time": "2021-12-16T09:59:20.168Z"
   },
   {
    "duration": 11,
    "start_time": "2021-12-16T09:59:26.857Z"
   },
   {
    "duration": 10,
    "start_time": "2021-12-16T10:02:54.348Z"
   },
   {
    "duration": 8,
    "start_time": "2021-12-16T10:17:06.451Z"
   },
   {
    "duration": 20,
    "start_time": "2021-12-16T10:19:34.781Z"
   },
   {
    "duration": 16,
    "start_time": "2021-12-16T10:20:17.016Z"
   },
   {
    "duration": 261,
    "start_time": "2021-12-16T10:20:49.753Z"
   },
   {
    "duration": 19,
    "start_time": "2021-12-16T10:21:15.179Z"
   },
   {
    "duration": 23,
    "start_time": "2021-12-16T10:21:29.561Z"
   },
   {
    "duration": 12,
    "start_time": "2021-12-16T10:31:44.983Z"
   },
   {
    "duration": 14,
    "start_time": "2021-12-16T10:32:42.370Z"
   },
   {
    "duration": 248,
    "start_time": "2021-12-16T10:36:42.752Z"
   },
   {
    "duration": 15,
    "start_time": "2021-12-16T10:37:20.634Z"
   },
   {
    "duration": 255,
    "start_time": "2021-12-16T10:37:58.275Z"
   },
   {
    "duration": 311,
    "start_time": "2021-12-16T10:38:07.642Z"
   },
   {
    "duration": 16,
    "start_time": "2021-12-16T10:38:43.716Z"
   },
   {
    "duration": 13,
    "start_time": "2021-12-16T10:40:39.678Z"
   },
   {
    "duration": 17,
    "start_time": "2021-12-16T10:48:25.037Z"
   },
   {
    "duration": 11,
    "start_time": "2021-12-16T10:51:51.527Z"
   },
   {
    "duration": 10,
    "start_time": "2021-12-16T11:00:05.890Z"
   },
   {
    "duration": 12,
    "start_time": "2021-12-16T11:00:13.642Z"
   },
   {
    "duration": 14,
    "start_time": "2021-12-16T11:00:24.410Z"
   },
   {
    "duration": 15,
    "start_time": "2021-12-16T11:00:27.482Z"
   },
   {
    "duration": 15,
    "start_time": "2021-12-16T11:00:31.331Z"
   },
   {
    "duration": 1392,
    "start_time": "2021-12-16T11:14:37.295Z"
   },
   {
    "duration": 273,
    "start_time": "2021-12-16T11:14:38.689Z"
   },
   {
    "duration": 242,
    "start_time": "2021-12-16T11:14:38.966Z"
   },
   {
    "duration": 159,
    "start_time": "2021-12-16T11:14:39.210Z"
   },
   {
    "duration": 52,
    "start_time": "2021-12-16T11:14:39.370Z"
   },
   {
    "duration": 53,
    "start_time": "2021-12-16T11:14:39.424Z"
   },
   {
    "duration": 29,
    "start_time": "2021-12-16T11:14:39.479Z"
   },
   {
    "duration": 134,
    "start_time": "2021-12-16T11:14:39.510Z"
   },
   {
    "duration": 168,
    "start_time": "2021-12-16T11:14:39.646Z"
   },
   {
    "duration": 104,
    "start_time": "2021-12-16T11:14:39.816Z"
   },
   {
    "duration": 115,
    "start_time": "2021-12-16T11:14:39.922Z"
   },
   {
    "duration": 79,
    "start_time": "2021-12-16T11:14:40.038Z"
   },
   {
    "duration": 46,
    "start_time": "2021-12-16T11:14:40.119Z"
   },
   {
    "duration": 610,
    "start_time": "2021-12-16T11:14:40.167Z"
   },
   {
    "duration": 577,
    "start_time": "2021-12-16T11:14:40.779Z"
   },
   {
    "duration": 776,
    "start_time": "2021-12-16T11:14:41.359Z"
   },
   {
    "duration": 20,
    "start_time": "2021-12-16T11:14:42.137Z"
   },
   {
    "duration": 29,
    "start_time": "2021-12-16T11:14:42.159Z"
   },
   {
    "duration": 16,
    "start_time": "2021-12-16T11:14:42.190Z"
   },
   {
    "duration": 90,
    "start_time": "2021-12-16T11:14:42.207Z"
   },
   {
    "duration": 1096,
    "start_time": "2021-12-16T13:58:49.177Z"
   },
   {
    "duration": 213,
    "start_time": "2021-12-16T13:58:50.275Z"
   },
   {
    "duration": 170,
    "start_time": "2021-12-16T13:58:50.490Z"
   },
   {
    "duration": 115,
    "start_time": "2021-12-16T13:58:50.662Z"
   },
   {
    "duration": 47,
    "start_time": "2021-12-16T13:58:50.779Z"
   },
   {
    "duration": 68,
    "start_time": "2021-12-16T13:58:50.827Z"
   },
   {
    "duration": 33,
    "start_time": "2021-12-16T13:58:50.896Z"
   },
   {
    "duration": 144,
    "start_time": "2021-12-16T13:58:50.931Z"
   },
   {
    "duration": 194,
    "start_time": "2021-12-16T13:58:51.078Z"
   },
   {
    "duration": 119,
    "start_time": "2021-12-16T13:58:51.274Z"
   },
   {
    "duration": 129,
    "start_time": "2021-12-16T13:58:51.395Z"
   },
   {
    "duration": 87,
    "start_time": "2021-12-16T13:58:51.526Z"
   },
   {
    "duration": 69,
    "start_time": "2021-12-16T13:58:51.615Z"
   },
   {
    "duration": 663,
    "start_time": "2021-12-16T13:58:51.686Z"
   },
   {
    "duration": 665,
    "start_time": "2021-12-16T13:58:52.351Z"
   },
   {
    "duration": 662,
    "start_time": "2021-12-16T13:58:53.018Z"
   },
   {
    "duration": 17,
    "start_time": "2021-12-16T13:58:53.681Z"
   },
   {
    "duration": 10,
    "start_time": "2021-12-16T13:58:53.699Z"
   },
   {
    "duration": 41,
    "start_time": "2021-12-16T13:58:53.711Z"
   },
   {
    "duration": 11,
    "start_time": "2021-12-16T13:58:53.753Z"
   },
   {
    "duration": 99,
    "start_time": "2021-12-16T14:05:36.217Z"
   },
   {
    "duration": 93,
    "start_time": "2021-12-16T14:05:54.597Z"
   },
   {
    "duration": 4,
    "start_time": "2021-12-16T14:05:57.764Z"
   },
   {
    "duration": 3,
    "start_time": "2021-12-16T14:06:02.020Z"
   },
   {
    "duration": 8,
    "start_time": "2021-12-16T14:06:40.558Z"
   },
   {
    "duration": 6,
    "start_time": "2021-12-16T14:15:14.102Z"
   },
   {
    "duration": 795,
    "start_time": "2021-12-16T14:58:15.041Z"
   },
   {
    "duration": 1119,
    "start_time": "2021-12-16T14:58:26.595Z"
   },
   {
    "duration": 202,
    "start_time": "2021-12-16T14:58:27.716Z"
   },
   {
    "duration": 178,
    "start_time": "2021-12-16T14:58:27.920Z"
   },
   {
    "duration": 118,
    "start_time": "2021-12-16T14:58:28.100Z"
   },
   {
    "duration": 45,
    "start_time": "2021-12-16T14:58:28.220Z"
   },
   {
    "duration": 52,
    "start_time": "2021-12-16T14:58:28.266Z"
   },
   {
    "duration": 32,
    "start_time": "2021-12-16T14:58:30.251Z"
   },
   {
    "duration": 355,
    "start_time": "2021-12-16T15:10:32.743Z"
   },
   {
    "duration": 138,
    "start_time": "2021-12-16T15:11:00.190Z"
   },
   {
    "duration": 185,
    "start_time": "2021-12-16T15:11:02.989Z"
   },
   {
    "duration": 207,
    "start_time": "2021-12-16T15:15:48.597Z"
   },
   {
    "duration": 102,
    "start_time": "2021-12-16T15:17:10.222Z"
   },
   {
    "duration": 113,
    "start_time": "2021-12-16T15:18:19.137Z"
   },
   {
    "duration": 57,
    "start_time": "2021-12-16T15:19:23.962Z"
   },
   {
    "duration": 59,
    "start_time": "2021-12-16T15:19:28.881Z"
   },
   {
    "duration": 63,
    "start_time": "2021-12-16T15:19:33.242Z"
   },
   {
    "duration": 853,
    "start_time": "2021-12-16T15:19:50.170Z"
   },
   {
    "duration": 199,
    "start_time": "2021-12-16T15:20:13.539Z"
   },
   {
    "duration": 1308,
    "start_time": "2021-12-16T15:20:16.452Z"
   },
   {
    "duration": 720,
    "start_time": "2021-12-16T15:20:32.812Z"
   },
   {
    "duration": 204,
    "start_time": "2021-12-16T15:25:25.011Z"
   },
   {
    "duration": 112,
    "start_time": "2021-12-16T15:25:29.176Z"
   },
   {
    "duration": 120,
    "start_time": "2021-12-16T15:25:31.860Z"
   },
   {
    "duration": 136,
    "start_time": "2021-12-16T15:25:43.003Z"
   },
   {
    "duration": 189,
    "start_time": "2021-12-16T15:25:50.468Z"
   },
   {
    "duration": 5,
    "start_time": "2021-12-16T15:25:57.875Z"
   },
   {
    "duration": 4,
    "start_time": "2021-12-16T15:26:02.699Z"
   },
   {
    "duration": 89,
    "start_time": "2021-12-16T15:26:18.037Z"
   },
   {
    "duration": 12,
    "start_time": "2021-12-16T15:26:20.499Z"
   },
   {
    "duration": 4,
    "start_time": "2021-12-16T15:30:02.902Z"
   },
   {
    "duration": 205,
    "start_time": "2021-12-16T15:30:02.907Z"
   },
   {
    "duration": 183,
    "start_time": "2021-12-16T15:30:03.114Z"
   },
   {
    "duration": 113,
    "start_time": "2021-12-16T15:30:03.299Z"
   },
   {
    "duration": 47,
    "start_time": "2021-12-16T15:30:03.414Z"
   },
   {
    "duration": 53,
    "start_time": "2021-12-16T15:30:03.462Z"
   },
   {
    "duration": 26,
    "start_time": "2021-12-16T15:30:03.517Z"
   },
   {
    "duration": 146,
    "start_time": "2021-12-16T15:30:03.546Z"
   },
   {
    "duration": 197,
    "start_time": "2021-12-16T15:30:03.694Z"
   },
   {
    "duration": 99,
    "start_time": "2021-12-16T15:30:03.893Z"
   },
   {
    "duration": 123,
    "start_time": "2021-12-16T15:30:03.994Z"
   },
   {
    "duration": 180,
    "start_time": "2021-12-16T15:30:04.119Z"
   },
   {
    "duration": 4,
    "start_time": "2021-12-16T15:30:04.300Z"
   },
   {
    "duration": 14,
    "start_time": "2021-12-16T15:30:04.305Z"
   },
   {
    "duration": 88,
    "start_time": "2021-12-16T15:30:06.570Z"
   },
   {
    "duration": 11,
    "start_time": "2021-12-16T15:30:13.065Z"
   },
   {
    "duration": 171,
    "start_time": "2021-12-16T15:30:41.147Z"
   },
   {
    "duration": 91,
    "start_time": "2021-12-16T15:39:52.185Z"
   },
   {
    "duration": 90,
    "start_time": "2021-12-16T15:40:32.121Z"
   },
   {
    "duration": 474,
    "start_time": "2021-12-17T08:12:47.757Z"
   },
   {
    "duration": 1460,
    "start_time": "2021-12-17T08:12:54.617Z"
   },
   {
    "duration": 282,
    "start_time": "2021-12-17T08:12:56.080Z"
   },
   {
    "duration": 226,
    "start_time": "2021-12-17T08:12:56.366Z"
   },
   {
    "duration": 161,
    "start_time": "2021-12-17T08:12:56.594Z"
   },
   {
    "duration": 78,
    "start_time": "2021-12-17T08:12:56.758Z"
   },
   {
    "duration": 80,
    "start_time": "2021-12-17T08:12:56.839Z"
   },
   {
    "duration": 40,
    "start_time": "2021-12-17T08:12:56.922Z"
   },
   {
    "duration": 203,
    "start_time": "2021-12-17T08:12:56.967Z"
   },
   {
    "duration": 302,
    "start_time": "2021-12-17T08:12:57.173Z"
   },
   {
    "duration": 165,
    "start_time": "2021-12-17T08:12:57.477Z"
   },
   {
    "duration": 200,
    "start_time": "2021-12-17T08:12:57.645Z"
   },
   {
    "duration": 333,
    "start_time": "2021-12-17T08:12:57.848Z"
   },
   {
    "duration": 6,
    "start_time": "2021-12-17T08:12:58.184Z"
   },
   {
    "duration": 31,
    "start_time": "2021-12-17T08:12:58.192Z"
   },
   {
    "duration": 410,
    "start_time": "2021-12-17T08:13:01.998Z"
   },
   {
    "duration": 329,
    "start_time": "2021-12-17T08:16:12.457Z"
   },
   {
    "duration": 326,
    "start_time": "2021-12-17T08:17:34.317Z"
   },
   {
    "duration": 321,
    "start_time": "2021-12-17T08:18:18.550Z"
   },
   {
    "duration": 345,
    "start_time": "2021-12-17T08:18:57.832Z"
   },
   {
    "duration": 2513,
    "start_time": "2021-12-17T08:19:08.720Z"
   },
   {
    "duration": 2587,
    "start_time": "2021-12-17T08:20:28.575Z"
   },
   {
    "duration": 2222,
    "start_time": "2021-12-17T08:20:45.394Z"
   },
   {
    "duration": 2514,
    "start_time": "2021-12-17T08:35:02.632Z"
   },
   {
    "duration": 433,
    "start_time": "2021-12-17T08:35:30.617Z"
   },
   {
    "duration": 306,
    "start_time": "2021-12-17T08:35:37.096Z"
   },
   {
    "duration": 2619,
    "start_time": "2021-12-17T08:35:41.392Z"
   },
   {
    "duration": 2392,
    "start_time": "2021-12-17T08:36:01.913Z"
   },
   {
    "duration": 9,
    "start_time": "2021-12-17T08:37:14.048Z"
   },
   {
    "duration": 866,
    "start_time": "2021-12-17T08:37:47.224Z"
   },
   {
    "duration": 2816,
    "start_time": "2021-12-17T08:37:55.101Z"
   },
   {
    "duration": 14,
    "start_time": "2021-12-17T08:54:33.997Z"
   },
   {
    "duration": 64,
    "start_time": "2021-12-17T08:54:38.005Z"
   },
   {
    "duration": 143,
    "start_time": "2021-12-17T08:54:55.998Z"
   },
   {
    "duration": 340,
    "start_time": "2021-12-17T08:59:01.604Z"
   },
   {
    "duration": 25874,
    "start_time": "2021-12-17T08:59:12.661Z"
   },
   {
    "duration": 6,
    "start_time": "2021-12-17T09:01:26.568Z"
   },
   {
    "duration": 335,
    "start_time": "2021-12-17T09:01:26.578Z"
   },
   {
    "duration": 359,
    "start_time": "2021-12-17T09:01:26.916Z"
   },
   {
    "duration": 183,
    "start_time": "2021-12-17T09:01:27.277Z"
   },
   {
    "duration": 94,
    "start_time": "2021-12-17T09:01:27.463Z"
   },
   {
    "duration": 105,
    "start_time": "2021-12-17T09:01:27.560Z"
   },
   {
    "duration": 70,
    "start_time": "2021-12-17T09:01:27.669Z"
   },
   {
    "duration": 232,
    "start_time": "2021-12-17T09:01:27.743Z"
   },
   {
    "duration": 369,
    "start_time": "2021-12-17T09:01:27.978Z"
   },
   {
    "duration": 193,
    "start_time": "2021-12-17T09:01:28.350Z"
   },
   {
    "duration": 197,
    "start_time": "2021-12-17T09:01:28.546Z"
   },
   {
    "duration": 304,
    "start_time": "2021-12-17T09:01:28.747Z"
   },
   {
    "duration": 6,
    "start_time": "2021-12-17T09:01:29.054Z"
   },
   {
    "duration": 17,
    "start_time": "2021-12-17T09:01:29.063Z"
   },
   {
    "duration": 100804,
    "start_time": "2021-12-17T09:01:31.480Z"
   },
   {
    "duration": 88,
    "start_time": "2021-12-17T09:03:57.147Z"
   },
   {
    "duration": 9,
    "start_time": "2021-12-17T09:04:16.747Z"
   },
   {
    "duration": 11,
    "start_time": "2021-12-17T09:04:30.083Z"
   },
   {
    "duration": 2447,
    "start_time": "2021-12-17T09:04:54.933Z"
   },
   {
    "duration": 2057,
    "start_time": "2021-12-17T09:05:33.334Z"
   },
   {
    "duration": 95,
    "start_time": "2021-12-17T09:05:45.030Z"
   },
   {
    "duration": 353,
    "start_time": "2021-12-17T09:12:10.559Z"
   },
   {
    "duration": 345,
    "start_time": "2021-12-17T09:12:26.696Z"
   },
   {
    "duration": 402,
    "start_time": "2021-12-17T09:25:24.379Z"
   },
   {
    "duration": 107,
    "start_time": "2021-12-17T09:25:50.627Z"
   },
   {
    "duration": 10,
    "start_time": "2021-12-17T09:26:07.266Z"
   },
   {
    "duration": 114,
    "start_time": "2021-12-17T09:26:32.572Z"
   },
   {
    "duration": 107,
    "start_time": "2021-12-17T09:26:57.121Z"
   },
   {
    "duration": 98,
    "start_time": "2021-12-17T09:27:30.974Z"
   },
   {
    "duration": 125,
    "start_time": "2021-12-17T09:27:34.943Z"
   },
   {
    "duration": 9,
    "start_time": "2021-12-17T09:27:40.829Z"
   },
   {
    "duration": 114,
    "start_time": "2021-12-17T09:29:26.921Z"
   },
   {
    "duration": 131,
    "start_time": "2021-12-17T09:30:13.946Z"
   },
   {
    "duration": 14,
    "start_time": "2021-12-17T09:30:28.034Z"
   },
   {
    "duration": 110,
    "start_time": "2021-12-17T09:30:51.125Z"
   },
   {
    "duration": 10,
    "start_time": "2021-12-17T09:30:56.889Z"
   },
   {
    "duration": 98,
    "start_time": "2021-12-17T09:31:18.852Z"
   },
   {
    "duration": 1733,
    "start_time": "2021-12-17T09:31:44.744Z"
   },
   {
    "duration": 331,
    "start_time": "2021-12-17T09:31:46.480Z"
   },
   {
    "duration": 261,
    "start_time": "2021-12-17T09:31:46.823Z"
   },
   {
    "duration": 226,
    "start_time": "2021-12-17T09:31:47.088Z"
   },
   {
    "duration": 85,
    "start_time": "2021-12-17T09:31:47.316Z"
   },
   {
    "duration": 162,
    "start_time": "2021-12-17T09:31:47.404Z"
   },
   {
    "duration": 69,
    "start_time": "2021-12-17T09:31:47.569Z"
   },
   {
    "duration": 257,
    "start_time": "2021-12-17T09:31:47.642Z"
   },
   {
    "duration": 352,
    "start_time": "2021-12-17T09:31:47.904Z"
   },
   {
    "duration": 271,
    "start_time": "2021-12-17T09:31:48.262Z"
   },
   {
    "duration": 307,
    "start_time": "2021-12-17T09:31:48.539Z"
   },
   {
    "duration": 359,
    "start_time": "2021-12-17T09:31:48.849Z"
   },
   {
    "duration": 18,
    "start_time": "2021-12-17T09:31:49.210Z"
   },
   {
    "duration": 21,
    "start_time": "2021-12-17T09:31:49.231Z"
   },
   {
    "duration": 11087,
    "start_time": "2021-12-17T09:31:49.256Z"
   },
   {
    "duration": 184,
    "start_time": "2021-12-17T09:32:00.161Z"
   },
   {
    "duration": 184,
    "start_time": "2021-12-17T09:32:00.163Z"
   },
   {
    "duration": 183,
    "start_time": "2021-12-17T09:32:00.165Z"
   },
   {
    "duration": 183,
    "start_time": "2021-12-17T09:32:00.167Z"
   },
   {
    "duration": 184,
    "start_time": "2021-12-17T09:32:00.168Z"
   },
   {
    "duration": 184,
    "start_time": "2021-12-17T09:32:00.170Z"
   },
   {
    "duration": 183,
    "start_time": "2021-12-17T09:32:00.172Z"
   },
   {
    "duration": 173,
    "start_time": "2021-12-17T09:32:00.185Z"
   },
   {
    "duration": 9909,
    "start_time": "2021-12-17T09:32:28.778Z"
   },
   {
    "duration": 607,
    "start_time": "2021-12-17T09:32:47.211Z"
   },
   {
    "duration": 8671,
    "start_time": "2021-12-17T09:33:16.731Z"
   },
   {
    "duration": 564,
    "start_time": "2021-12-17T09:34:26.285Z"
   },
   {
    "duration": 653,
    "start_time": "2021-12-17T09:34:42.022Z"
   },
   {
    "duration": 235,
    "start_time": "2021-12-17T09:36:14.736Z"
   },
   {
    "duration": 157,
    "start_time": "2021-12-17T09:36:30.616Z"
   },
   {
    "duration": 146,
    "start_time": "2021-12-17T09:36:45.689Z"
   },
   {
    "duration": 15,
    "start_time": "2021-12-17T09:37:08.072Z"
   },
   {
    "duration": 89,
    "start_time": "2021-12-17T09:38:13.947Z"
   },
   {
    "duration": 25,
    "start_time": "2021-12-17T09:39:02.516Z"
   },
   {
    "duration": 5,
    "start_time": "2021-12-17T09:40:19.040Z"
   },
   {
    "duration": 277,
    "start_time": "2021-12-17T09:40:19.048Z"
   },
   {
    "duration": 243,
    "start_time": "2021-12-17T09:40:19.329Z"
   },
   {
    "duration": 165,
    "start_time": "2021-12-17T09:40:19.575Z"
   },
   {
    "duration": 83,
    "start_time": "2021-12-17T09:40:19.742Z"
   },
   {
    "duration": 101,
    "start_time": "2021-12-17T09:40:19.827Z"
   },
   {
    "duration": 36,
    "start_time": "2021-12-17T09:40:19.931Z"
   },
   {
    "duration": 191,
    "start_time": "2021-12-17T09:40:19.971Z"
   },
   {
    "duration": 293,
    "start_time": "2021-12-17T09:40:20.164Z"
   },
   {
    "duration": 187,
    "start_time": "2021-12-17T09:40:20.460Z"
   },
   {
    "duration": 179,
    "start_time": "2021-12-17T09:40:20.650Z"
   },
   {
    "duration": 144,
    "start_time": "2021-12-17T09:40:20.832Z"
   },
   {
    "duration": 8,
    "start_time": "2021-12-17T09:40:20.979Z"
   },
   {
    "duration": 35,
    "start_time": "2021-12-17T09:40:20.990Z"
   },
   {
    "duration": 72,
    "start_time": "2021-12-17T09:40:30.372Z"
   },
   {
    "duration": 120,
    "start_time": "2021-12-17T09:41:13.455Z"
   },
   {
    "duration": 13,
    "start_time": "2021-12-17T09:41:27.086Z"
   },
   {
    "duration": 127,
    "start_time": "2021-12-17T09:44:17.916Z"
   },
   {
    "duration": 107,
    "start_time": "2021-12-17T09:45:59.607Z"
   },
   {
    "duration": 529,
    "start_time": "2021-12-17T10:26:42.274Z"
   },
   {
    "duration": 83,
    "start_time": "2021-12-17T10:32:14.714Z"
   },
   {
    "duration": 7,
    "start_time": "2021-12-17T10:32:22.898Z"
   },
   {
    "duration": 7,
    "start_time": "2021-12-17T10:32:29.050Z"
   },
   {
    "duration": 88,
    "start_time": "2021-12-17T10:39:02.605Z"
   },
   {
    "duration": 98,
    "start_time": "2021-12-17T10:39:30.244Z"
   },
   {
    "duration": 14,
    "start_time": "2021-12-17T10:39:41.500Z"
   },
   {
    "duration": 1644,
    "start_time": "2021-12-17T10:41:49.233Z"
   },
   {
    "duration": 1059,
    "start_time": "2021-12-17T10:42:04.593Z"
   },
   {
    "duration": 1237,
    "start_time": "2021-12-17T10:42:16.729Z"
   },
   {
    "duration": 27,
    "start_time": "2021-12-17T10:42:38.880Z"
   },
   {
    "duration": 16,
    "start_time": "2021-12-17T10:43:01.218Z"
   },
   {
    "duration": 17,
    "start_time": "2021-12-17T10:43:19.514Z"
   },
   {
    "duration": 27,
    "start_time": "2021-12-17T10:44:08.262Z"
   },
   {
    "duration": 18,
    "start_time": "2021-12-17T10:44:17.789Z"
   },
   {
    "duration": 1985,
    "start_time": "2021-12-17T10:46:36.435Z"
   },
   {
    "duration": 418,
    "start_time": "2021-12-17T10:46:38.424Z"
   },
   {
    "duration": 360,
    "start_time": "2021-12-17T10:46:38.846Z"
   },
   {
    "duration": 247,
    "start_time": "2021-12-17T10:46:39.210Z"
   },
   {
    "duration": 81,
    "start_time": "2021-12-17T10:46:39.460Z"
   },
   {
    "duration": 91,
    "start_time": "2021-12-17T10:46:39.544Z"
   },
   {
    "duration": 44,
    "start_time": "2021-12-17T10:46:39.638Z"
   },
   {
    "duration": 211,
    "start_time": "2021-12-17T10:46:39.687Z"
   },
   {
    "duration": 298,
    "start_time": "2021-12-17T10:46:39.901Z"
   },
   {
    "duration": 185,
    "start_time": "2021-12-17T10:46:40.202Z"
   },
   {
    "duration": 269,
    "start_time": "2021-12-17T10:46:40.390Z"
   },
   {
    "duration": 235,
    "start_time": "2021-12-17T10:46:40.662Z"
   },
   {
    "duration": 8,
    "start_time": "2021-12-17T10:46:40.901Z"
   },
   {
    "duration": 45,
    "start_time": "2021-12-17T10:46:40.924Z"
   },
   {
    "duration": 188,
    "start_time": "2021-12-17T10:46:40.971Z"
   },
   {
    "duration": 27,
    "start_time": "2021-12-17T10:46:41.163Z"
   },
   {
    "duration": 1612,
    "start_time": "2021-12-17T10:46:41.193Z"
   },
   {
    "duration": 1053,
    "start_time": "2021-12-17T10:46:42.809Z"
   },
   {
    "duration": 1181,
    "start_time": "2021-12-17T10:46:43.865Z"
   },
   {
    "duration": 31,
    "start_time": "2021-12-17T10:46:45.049Z"
   },
   {
    "duration": 50,
    "start_time": "2021-12-17T10:46:45.083Z"
   },
   {
    "duration": 36,
    "start_time": "2021-12-17T10:46:45.136Z"
   },
   {
    "duration": 20,
    "start_time": "2021-12-17T10:46:45.176Z"
   },
   {
    "duration": 26,
    "start_time": "2021-12-17T10:51:56.409Z"
   },
   {
    "duration": 47,
    "start_time": "2021-12-17T10:52:54.019Z"
   },
   {
    "duration": 20,
    "start_time": "2021-12-17T10:53:18.763Z"
   },
   {
    "duration": 19,
    "start_time": "2021-12-17T10:53:33.051Z"
   },
   {
    "duration": 20,
    "start_time": "2021-12-17T10:53:42.899Z"
   },
   {
    "duration": 1633,
    "start_time": "2021-12-29T09:08:43.130Z"
   },
   {
    "duration": 135,
    "start_time": "2021-12-29T09:08:44.768Z"
   },
   {
    "duration": 14,
    "start_time": "2021-12-29T09:08:44.905Z"
   },
   {
    "duration": 73,
    "start_time": "2021-12-29T09:08:44.922Z"
   },
   {
    "duration": 7,
    "start_time": "2021-12-29T09:08:44.997Z"
   },
   {
    "duration": 18,
    "start_time": "2021-12-29T09:08:45.007Z"
   },
   {
    "duration": 43,
    "start_time": "2021-12-29T09:08:45.027Z"
   },
   {
    "duration": 26,
    "start_time": "2021-12-29T09:08:45.074Z"
   },
   {
    "duration": 718,
    "start_time": "2021-12-29T09:08:45.103Z"
   },
   {
    "duration": 1109,
    "start_time": "2021-12-29T09:08:45.824Z"
   },
   {
    "duration": 34,
    "start_time": "2021-12-29T09:08:46.936Z"
   },
   {
    "duration": 5,
    "start_time": "2021-12-29T09:08:46.972Z"
   },
   {
    "duration": 878,
    "start_time": "2021-12-29T09:08:46.979Z"
   },
   {
    "duration": 571,
    "start_time": "2021-12-29T09:08:47.868Z"
   },
   {
    "duration": 507,
    "start_time": "2021-12-29T09:08:48.441Z"
   },
   {
    "duration": 20,
    "start_time": "2021-12-29T09:08:48.950Z"
   },
   {
    "duration": 11,
    "start_time": "2021-12-29T09:08:48.973Z"
   },
   {
    "duration": 748,
    "start_time": "2021-12-29T09:08:48.987Z"
   },
   {
    "duration": 729,
    "start_time": "2021-12-29T09:08:49.738Z"
   },
   {
    "duration": 8,
    "start_time": "2021-12-29T09:08:50.469Z"
   },
   {
    "duration": 6054,
    "start_time": "2021-12-29T09:08:50.480Z"
   },
   {
    "duration": 572,
    "start_time": "2021-12-29T09:08:56.537Z"
   },
   {
    "duration": 2914,
    "start_time": "2021-12-29T09:08:57.113Z"
   },
   {
    "duration": 47,
    "start_time": "2021-12-29T09:09:00.030Z"
   },
   {
    "duration": 11,
    "start_time": "2021-12-29T09:09:00.080Z"
   },
   {
    "duration": 30,
    "start_time": "2021-12-29T09:09:00.094Z"
   },
   {
    "duration": 21,
    "start_time": "2021-12-29T09:09:00.127Z"
   },
   {
    "duration": 456,
    "start_time": "2021-12-29T13:02:52.138Z"
   },
   {
    "duration": 1427,
    "start_time": "2021-12-29T13:02:57.457Z"
   },
   {
    "duration": 114,
    "start_time": "2021-12-29T13:02:58.887Z"
   },
   {
    "duration": 28,
    "start_time": "2021-12-29T13:02:59.003Z"
   },
   {
    "duration": 47,
    "start_time": "2021-12-29T13:02:59.034Z"
   },
   {
    "duration": 6,
    "start_time": "2021-12-29T13:02:59.083Z"
   },
   {
    "duration": 6,
    "start_time": "2021-12-29T13:03:00.644Z"
   },
   {
    "duration": 449,
    "start_time": "2021-12-29T13:03:14.466Z"
   },
   {
    "duration": 9,
    "start_time": "2021-12-29T13:03:21.513Z"
   },
   {
    "duration": 5,
    "start_time": "2021-12-29T13:13:02.045Z"
   },
   {
    "duration": 119,
    "start_time": "2021-12-29T13:13:02.054Z"
   },
   {
    "duration": 14,
    "start_time": "2021-12-29T13:13:02.176Z"
   },
   {
    "duration": 73,
    "start_time": "2021-12-29T13:13:02.192Z"
   },
   {
    "duration": 6,
    "start_time": "2021-12-29T13:13:02.267Z"
   },
   {
    "duration": 28,
    "start_time": "2021-12-29T13:13:02.275Z"
   },
   {
    "duration": 39,
    "start_time": "2021-12-29T13:13:02.305Z"
   },
   {
    "duration": 29,
    "start_time": "2021-12-29T13:13:02.347Z"
   },
   {
    "duration": 799,
    "start_time": "2021-12-29T13:13:02.378Z"
   },
   {
    "duration": 1090,
    "start_time": "2021-12-29T13:13:03.180Z"
   },
   {
    "duration": 22,
    "start_time": "2021-12-29T13:13:04.274Z"
   },
   {
    "duration": 5,
    "start_time": "2021-12-29T13:13:09.681Z"
   },
   {
    "duration": 4,
    "start_time": "2021-12-29T13:13:55.427Z"
   },
   {
    "duration": 9441,
    "start_time": "2021-12-29T13:13:57.352Z"
   },
   {
    "duration": 22,
    "start_time": "2021-12-29T13:14:48.853Z"
   },
   {
    "duration": 5,
    "start_time": "2021-12-29T13:14:53.970Z"
   },
   {
    "duration": 10030,
    "start_time": "2021-12-29T13:14:55.635Z"
   },
   {
    "duration": 4,
    "start_time": "2021-12-29T13:15:27.948Z"
   },
   {
    "duration": 10135,
    "start_time": "2021-12-29T13:15:29.468Z"
   },
   {
    "duration": 5,
    "start_time": "2021-12-29T13:16:14.232Z"
   },
   {
    "duration": 9088,
    "start_time": "2021-12-29T13:16:50.036Z"
   },
   {
    "duration": 8662,
    "start_time": "2021-12-29T13:17:38.638Z"
   },
   {
    "duration": 84,
    "start_time": "2021-12-29T13:17:56.405Z"
   },
   {
    "duration": 196,
    "start_time": "2021-12-29T13:19:20.435Z"
   },
   {
    "duration": 121,
    "start_time": "2021-12-29T13:19:38.848Z"
   },
   {
    "duration": 592,
    "start_time": "2021-12-29T13:19:59.989Z"
   },
   {
    "duration": 132,
    "start_time": "2021-12-29T13:20:04.627Z"
   },
   {
    "duration": 112,
    "start_time": "2021-12-29T13:20:45.991Z"
   },
   {
    "duration": 5,
    "start_time": "2021-12-29T13:21:15.909Z"
   },
   {
    "duration": 88,
    "start_time": "2021-12-29T13:21:19.575Z"
   },
   {
    "duration": 10148,
    "start_time": "2021-12-29T13:21:34.894Z"
   },
   {
    "duration": 123,
    "start_time": "2021-12-29T13:21:59.396Z"
   },
   {
    "duration": 90,
    "start_time": "2021-12-29T13:22:39.756Z"
   },
   {
    "duration": 5,
    "start_time": "2021-12-29T13:23:27.119Z"
   },
   {
    "duration": 85,
    "start_time": "2021-12-29T13:23:29.301Z"
   },
   {
    "duration": 8451,
    "start_time": "2021-12-29T13:24:09.594Z"
   },
   {
    "duration": 9319,
    "start_time": "2021-12-29T13:24:57.131Z"
   },
   {
    "duration": 21,
    "start_time": "2021-12-29T13:25:37.104Z"
   },
   {
    "duration": 5,
    "start_time": "2021-12-29T13:25:39.630Z"
   },
   {
    "duration": 9041,
    "start_time": "2021-12-29T13:25:41.137Z"
   },
   {
    "duration": 83,
    "start_time": "2021-12-29T13:26:54.411Z"
   },
   {
    "duration": 812,
    "start_time": "2021-12-29T13:28:14.400Z"
   },
   {
    "duration": 728,
    "start_time": "2021-12-29T13:28:50.828Z"
   },
   {
    "duration": 830,
    "start_time": "2021-12-29T13:28:58.235Z"
   },
   {
    "duration": 1446,
    "start_time": "2021-12-29T13:29:36.623Z"
   },
   {
    "duration": 117,
    "start_time": "2021-12-29T13:29:38.072Z"
   },
   {
    "duration": 34,
    "start_time": "2021-12-29T13:29:38.192Z"
   },
   {
    "duration": 49,
    "start_time": "2021-12-29T13:29:38.228Z"
   },
   {
    "duration": 6,
    "start_time": "2021-12-29T13:29:38.280Z"
   },
   {
    "duration": 36,
    "start_time": "2021-12-29T13:29:38.288Z"
   },
   {
    "duration": 25,
    "start_time": "2021-12-29T13:29:38.326Z"
   },
   {
    "duration": 31,
    "start_time": "2021-12-29T13:29:38.355Z"
   },
   {
    "duration": 719,
    "start_time": "2021-12-29T13:29:38.389Z"
   },
   {
    "duration": 1188,
    "start_time": "2021-12-29T13:29:39.110Z"
   },
   {
    "duration": 35,
    "start_time": "2021-12-29T13:29:40.300Z"
   },
   {
    "duration": 5,
    "start_time": "2021-12-29T13:29:40.338Z"
   },
   {
    "duration": 811,
    "start_time": "2021-12-29T13:29:40.346Z"
   },
   {
    "duration": 468,
    "start_time": "2021-12-29T13:29:41.159Z"
   },
   {
    "duration": 785,
    "start_time": "2021-12-29T13:29:41.630Z"
   },
   {
    "duration": 16,
    "start_time": "2021-12-29T13:29:42.417Z"
   },
   {
    "duration": 8,
    "start_time": "2021-12-29T13:29:42.435Z"
   },
   {
    "duration": 649,
    "start_time": "2021-12-29T13:29:42.446Z"
   },
   {
    "duration": 678,
    "start_time": "2021-12-29T13:29:43.097Z"
   },
   {
    "duration": 7,
    "start_time": "2021-12-29T13:29:43.778Z"
   },
   {
    "duration": 5345,
    "start_time": "2021-12-29T13:29:43.788Z"
   },
   {
    "duration": 545,
    "start_time": "2021-12-29T13:29:49.136Z"
   },
   {
    "duration": 2459,
    "start_time": "2021-12-29T13:29:49.686Z"
   },
   {
    "duration": 25,
    "start_time": "2021-12-29T13:29:52.149Z"
   },
   {
    "duration": 9,
    "start_time": "2021-12-29T13:29:52.177Z"
   },
   {
    "duration": 57,
    "start_time": "2021-12-29T13:29:52.189Z"
   },
   {
    "duration": 8,
    "start_time": "2021-12-29T13:29:52.248Z"
   },
   {
    "duration": 153,
    "start_time": "2021-12-29T13:30:10.839Z"
   },
   {
    "duration": 5,
    "start_time": "2021-12-29T13:30:19.597Z"
   },
   {
    "duration": 5,
    "start_time": "2021-12-29T13:30:24.703Z"
   },
   {
    "duration": 1012,
    "start_time": "2021-12-29T13:30:27.595Z"
   },
   {
    "duration": 911,
    "start_time": "2021-12-29T13:34:51.047Z"
   },
   {
    "duration": 871,
    "start_time": "2021-12-29T13:35:59.231Z"
   },
   {
    "duration": 813,
    "start_time": "2021-12-29T13:36:07.604Z"
   },
   {
    "duration": 488,
    "start_time": "2021-12-29T13:36:59.393Z"
   },
   {
    "duration": 36,
    "start_time": "2021-12-29T13:37:05.571Z"
   },
   {
    "duration": 34,
    "start_time": "2021-12-29T13:37:13.509Z"
   },
   {
    "duration": 7,
    "start_time": "2021-12-29T13:37:38.475Z"
   },
   {
    "duration": 24,
    "start_time": "2021-12-29T13:37:40.026Z"
   },
   {
    "duration": 710,
    "start_time": "2021-12-29T13:37:46.752Z"
   },
   {
    "duration": 5,
    "start_time": "2021-12-29T13:38:22.897Z"
   },
   {
    "duration": 747,
    "start_time": "2021-12-29T13:38:27.160Z"
   },
   {
    "duration": 5,
    "start_time": "2021-12-29T13:38:57.026Z"
   },
   {
    "duration": 719,
    "start_time": "2021-12-29T13:38:58.972Z"
   },
   {
    "duration": 5,
    "start_time": "2021-12-29T13:39:07.729Z"
   },
   {
    "duration": 720,
    "start_time": "2021-12-29T13:39:09.870Z"
   },
   {
    "duration": 5,
    "start_time": "2021-12-29T13:39:18.201Z"
   },
   {
    "duration": 781,
    "start_time": "2021-12-29T13:39:19.912Z"
   },
   {
    "duration": 5,
    "start_time": "2021-12-29T13:39:29.701Z"
   },
   {
    "duration": 707,
    "start_time": "2021-12-29T13:39:31.232Z"
   },
   {
    "duration": 937,
    "start_time": "2021-12-29T13:40:33.357Z"
   },
   {
    "duration": 790,
    "start_time": "2021-12-29T13:40:40.791Z"
   },
   {
    "duration": 784,
    "start_time": "2021-12-29T13:42:26.839Z"
   },
   {
    "duration": 528,
    "start_time": "2021-12-29T13:43:07.697Z"
   },
   {
    "duration": 569,
    "start_time": "2021-12-29T13:43:21.193Z"
   },
   {
    "duration": 828,
    "start_time": "2021-12-29T13:43:27.805Z"
   },
   {
    "duration": 305,
    "start_time": "2021-12-29T13:44:32.548Z"
   },
   {
    "duration": 726,
    "start_time": "2021-12-29T13:44:51.178Z"
   },
   {
    "duration": 5,
    "start_time": "2021-12-29T13:48:39.625Z"
   },
   {
    "duration": 912,
    "start_time": "2021-12-29T13:48:41.992Z"
   },
   {
    "duration": 1229,
    "start_time": "2021-12-29T13:49:17.135Z"
   },
   {
    "duration": 6,
    "start_time": "2021-12-29T14:48:31.583Z"
   },
   {
    "duration": 1154,
    "start_time": "2021-12-29T14:48:33.477Z"
   },
   {
    "duration": 5,
    "start_time": "2021-12-29T14:49:27.909Z"
   },
   {
    "duration": 804,
    "start_time": "2021-12-29T14:49:30.071Z"
   },
   {
    "duration": 5,
    "start_time": "2021-12-29T14:49:47.141Z"
   },
   {
    "duration": 774,
    "start_time": "2021-12-29T14:49:48.615Z"
   },
   {
    "duration": 760,
    "start_time": "2021-12-29T14:49:51.833Z"
   },
   {
    "duration": 773,
    "start_time": "2021-12-29T14:53:09.250Z"
   },
   {
    "duration": 1268,
    "start_time": "2021-12-29T14:53:12.279Z"
   },
   {
    "duration": 126,
    "start_time": "2021-12-29T15:00:06.546Z"
   },
   {
    "duration": 17,
    "start_time": "2021-12-29T15:06:37.799Z"
   },
   {
    "duration": 353,
    "start_time": "2021-12-29T15:06:57.603Z"
   },
   {
    "duration": 112,
    "start_time": "2021-12-29T15:09:17.819Z"
   },
   {
    "duration": 14,
    "start_time": "2021-12-29T15:09:31.207Z"
   },
   {
    "duration": 404,
    "start_time": "2021-12-29T15:10:28.519Z"
   },
   {
    "duration": 31,
    "start_time": "2021-12-29T15:11:11.101Z"
   },
   {
    "duration": 34,
    "start_time": "2021-12-29T15:15:09.816Z"
   },
   {
    "duration": 25,
    "start_time": "2021-12-29T15:16:09.360Z"
   },
   {
    "duration": 1010,
    "start_time": "2021-12-29T15:18:30.222Z"
   },
   {
    "duration": 22,
    "start_time": "2021-12-29T15:18:41.894Z"
   },
   {
    "duration": 1428,
    "start_time": "2021-12-29T15:28:55.052Z"
   },
   {
    "duration": 113,
    "start_time": "2021-12-29T15:28:56.483Z"
   },
   {
    "duration": 25,
    "start_time": "2021-12-29T15:28:56.599Z"
   },
   {
    "duration": 44,
    "start_time": "2021-12-29T15:28:56.627Z"
   },
   {
    "duration": 5,
    "start_time": "2021-12-29T15:28:56.673Z"
   },
   {
    "duration": 7,
    "start_time": "2021-12-29T15:28:56.680Z"
   },
   {
    "duration": 48,
    "start_time": "2021-12-29T15:28:56.690Z"
   },
   {
    "duration": 22,
    "start_time": "2021-12-29T15:28:56.741Z"
   },
   {
    "duration": 657,
    "start_time": "2021-12-29T15:28:56.766Z"
   },
   {
    "duration": 1061,
    "start_time": "2021-12-29T15:28:57.426Z"
   },
   {
    "duration": 35,
    "start_time": "2021-12-29T15:28:58.490Z"
   },
   {
    "duration": 6,
    "start_time": "2021-12-29T15:28:58.528Z"
   },
   {
    "duration": 728,
    "start_time": "2021-12-29T15:28:58.537Z"
   },
   {
    "duration": 26,
    "start_time": "2021-12-29T15:28:59.268Z"
   },
   {
    "duration": 526,
    "start_time": "2021-12-29T15:28:59.297Z"
   },
   {
    "duration": 474,
    "start_time": "2021-12-29T15:28:59.827Z"
   },
   {
    "duration": 24,
    "start_time": "2021-12-29T15:29:00.303Z"
   },
   {
    "duration": 10,
    "start_time": "2021-12-29T15:29:00.329Z"
   },
   {
    "duration": 661,
    "start_time": "2021-12-29T15:29:00.341Z"
   },
   {
    "duration": 660,
    "start_time": "2021-12-29T15:29:01.004Z"
   },
   {
    "duration": 7,
    "start_time": "2021-12-29T15:29:01.667Z"
   },
   {
    "duration": 5235,
    "start_time": "2021-12-29T15:29:01.676Z"
   },
   {
    "duration": 523,
    "start_time": "2021-12-29T15:29:06.923Z"
   },
   {
    "duration": 2431,
    "start_time": "2021-12-29T15:29:07.449Z"
   },
   {
    "duration": 22,
    "start_time": "2021-12-29T15:29:09.883Z"
   },
   {
    "duration": 6,
    "start_time": "2021-12-29T15:29:09.923Z"
   },
   {
    "duration": 27,
    "start_time": "2021-12-29T15:29:09.931Z"
   },
   {
    "duration": 6,
    "start_time": "2021-12-29T15:29:09.960Z"
   },
   {
    "duration": 21,
    "start_time": "2021-12-29T15:37:11.932Z"
   },
   {
    "duration": 5,
    "start_time": "2021-12-29T15:37:14.343Z"
   },
   {
    "duration": 818,
    "start_time": "2021-12-29T15:37:18.858Z"
   },
   {
    "duration": 324,
    "start_time": "2021-12-29T15:37:28.537Z"
   },
   {
    "duration": 407,
    "start_time": "2021-12-29T15:37:31.985Z"
   },
   {
    "duration": 471,
    "start_time": "2021-12-29T15:37:36.436Z"
   },
   {
    "duration": 426,
    "start_time": "2021-12-30T12:06:42.502Z"
   },
   {
    "duration": 1666,
    "start_time": "2021-12-30T12:06:49.613Z"
   },
   {
    "duration": 127,
    "start_time": "2021-12-30T12:06:51.282Z"
   },
   {
    "duration": 16,
    "start_time": "2021-12-30T12:06:51.413Z"
   },
   {
    "duration": 52,
    "start_time": "2021-12-30T12:06:51.460Z"
   },
   {
    "duration": 7,
    "start_time": "2021-12-30T12:06:51.514Z"
   },
   {
    "duration": 35,
    "start_time": "2021-12-30T12:06:51.524Z"
   },
   {
    "duration": 25,
    "start_time": "2021-12-30T12:06:51.562Z"
   },
   {
    "duration": 24,
    "start_time": "2021-12-30T12:06:51.593Z"
   },
   {
    "duration": 688,
    "start_time": "2021-12-30T12:06:51.619Z"
   },
   {
    "duration": 1080,
    "start_time": "2021-12-30T12:06:52.309Z"
   },
   {
    "duration": 21,
    "start_time": "2021-12-30T12:06:53.392Z"
   },
   {
    "duration": 5,
    "start_time": "2021-12-30T12:06:53.416Z"
   },
   {
    "duration": 749,
    "start_time": "2021-12-30T12:06:53.423Z"
   },
   {
    "duration": 24,
    "start_time": "2021-12-30T12:06:54.174Z"
   },
   {
    "duration": 550,
    "start_time": "2021-12-30T12:06:54.201Z"
   },
   {
    "duration": 479,
    "start_time": "2021-12-30T12:06:54.760Z"
   },
   {
    "duration": 686,
    "start_time": "2021-12-30T12:06:58.687Z"
   },
   {
    "duration": 1667,
    "start_time": "2021-12-30T12:19:18.542Z"
   },
   {
    "duration": 1488,
    "start_time": "2021-12-30T12:30:43.000Z"
   },
   {
    "duration": 26,
    "start_time": "2021-12-30T12:33:11.715Z"
   },
   {
    "duration": 5,
    "start_time": "2021-12-30T12:33:39.815Z"
   },
   {
    "duration": 818,
    "start_time": "2021-12-30T12:33:42.730Z"
   },
   {
    "duration": 538,
    "start_time": "2021-12-30T12:39:43.104Z"
   },
   {
    "duration": 547,
    "start_time": "2021-12-30T12:40:00.046Z"
   },
   {
    "duration": 10,
    "start_time": "2021-12-30T12:41:37.815Z"
   },
   {
    "duration": 7,
    "start_time": "2021-12-30T12:41:45.625Z"
   },
   {
    "duration": 27,
    "start_time": "2021-12-30T12:42:34.850Z"
   },
   {
    "duration": 24,
    "start_time": "2021-12-30T12:42:45.812Z"
   },
   {
    "duration": 5,
    "start_time": "2021-12-30T12:42:52.242Z"
   },
   {
    "duration": 868,
    "start_time": "2021-12-30T12:42:56.520Z"
   },
   {
    "duration": 441,
    "start_time": "2021-12-30T12:43:26.609Z"
   },
   {
    "duration": 6,
    "start_time": "2021-12-30T12:43:39.879Z"
   },
   {
    "duration": 10,
    "start_time": "2021-12-30T12:43:42.432Z"
   },
   {
    "duration": 666,
    "start_time": "2021-12-30T12:43:49.363Z"
   },
   {
    "duration": 668,
    "start_time": "2021-12-30T12:43:53.878Z"
   },
   {
    "duration": 8,
    "start_time": "2021-12-30T12:44:48.783Z"
   },
   {
    "duration": 3323,
    "start_time": "2021-12-30T12:45:12.153Z"
   },
   {
    "duration": 3149,
    "start_time": "2021-12-30T12:45:46.225Z"
   },
   {
    "duration": 3350,
    "start_time": "2021-12-30T12:46:35.360Z"
   },
   {
    "duration": 138,
    "start_time": "2021-12-30T12:49:54.747Z"
   },
   {
    "duration": 6472,
    "start_time": "2021-12-30T12:50:06.552Z"
   },
   {
    "duration": 421,
    "start_time": "2021-12-30T12:55:07.475Z"
   },
   {
    "duration": 986,
    "start_time": "2021-12-30T12:55:28.094Z"
   },
   {
    "duration": 817,
    "start_time": "2021-12-30T12:55:36.856Z"
   },
   {
    "duration": 799,
    "start_time": "2021-12-30T12:56:46.966Z"
   },
   {
    "duration": 780,
    "start_time": "2021-12-30T13:06:20.361Z"
   },
   {
    "duration": 24,
    "start_time": "2021-12-30T13:08:52.877Z"
   },
   {
    "duration": 7,
    "start_time": "2021-12-30T13:08:58.804Z"
   },
   {
    "duration": 34,
    "start_time": "2021-12-30T13:09:18.153Z"
   },
   {
    "duration": 9,
    "start_time": "2021-12-30T13:09:26.485Z"
   },
   {
    "duration": 1495,
    "start_time": "2021-12-30T13:14:53.936Z"
   },
   {
    "duration": 119,
    "start_time": "2021-12-30T13:14:55.434Z"
   },
   {
    "duration": 15,
    "start_time": "2021-12-30T13:14:55.555Z"
   },
   {
    "duration": 47,
    "start_time": "2021-12-30T13:14:55.572Z"
   },
   {
    "duration": 5,
    "start_time": "2021-12-30T13:14:55.622Z"
   },
   {
    "duration": 33,
    "start_time": "2021-12-30T13:14:55.629Z"
   },
   {
    "duration": 24,
    "start_time": "2021-12-30T13:14:55.665Z"
   },
   {
    "duration": 22,
    "start_time": "2021-12-30T13:14:55.691Z"
   },
   {
    "duration": 687,
    "start_time": "2021-12-30T13:14:55.717Z"
   },
   {
    "duration": 1053,
    "start_time": "2021-12-30T13:14:56.407Z"
   },
   {
    "duration": 24,
    "start_time": "2021-12-30T13:14:57.462Z"
   },
   {
    "duration": 6,
    "start_time": "2021-12-30T13:14:57.489Z"
   },
   {
    "duration": 939,
    "start_time": "2021-12-30T13:14:57.498Z"
   },
   {
    "duration": 33,
    "start_time": "2021-12-30T13:14:58.440Z"
   },
   {
    "duration": 532,
    "start_time": "2021-12-30T13:14:58.475Z"
   },
   {
    "duration": 441,
    "start_time": "2021-12-30T13:14:59.010Z"
   },
   {
    "duration": 12,
    "start_time": "2021-12-30T13:14:59.453Z"
   },
   {
    "duration": 6,
    "start_time": "2021-12-30T13:14:59.467Z"
   },
   {
    "duration": 663,
    "start_time": "2021-12-30T13:14:59.475Z"
   },
   {
    "duration": 824,
    "start_time": "2021-12-30T13:15:00.142Z"
   },
   {
    "duration": 8,
    "start_time": "2021-12-30T13:15:00.968Z"
   },
   {
    "duration": 6881,
    "start_time": "2021-12-30T13:15:00.978Z"
   },
   {
    "duration": 541,
    "start_time": "2021-12-30T13:15:07.861Z"
   },
   {
    "duration": 978,
    "start_time": "2021-12-30T13:15:08.405Z"
   },
   {
    "duration": 814,
    "start_time": "2021-12-30T13:15:09.387Z"
   },
   {
    "duration": 869,
    "start_time": "2021-12-30T13:15:10.204Z"
   },
   {
    "duration": 25,
    "start_time": "2021-12-30T13:15:11.078Z"
   },
   {
    "duration": 6,
    "start_time": "2021-12-30T13:15:11.106Z"
   },
   {
    "duration": 55,
    "start_time": "2021-12-30T13:15:11.115Z"
   },
   {
    "duration": 8,
    "start_time": "2021-12-30T13:15:11.172Z"
   },
   {
    "duration": 1457,
    "start_time": "2021-12-31T05:46:42.474Z"
   },
   {
    "duration": 118,
    "start_time": "2021-12-31T05:46:43.934Z"
   },
   {
    "duration": 14,
    "start_time": "2021-12-31T05:46:44.060Z"
   },
   {
    "duration": 48,
    "start_time": "2021-12-31T05:46:44.077Z"
   },
   {
    "duration": 6,
    "start_time": "2021-12-31T05:46:44.127Z"
   },
   {
    "duration": 7,
    "start_time": "2021-12-31T05:46:44.160Z"
   },
   {
    "duration": 25,
    "start_time": "2021-12-31T05:46:44.169Z"
   },
   {
    "duration": 23,
    "start_time": "2021-12-31T05:46:44.198Z"
   },
   {
    "duration": 658,
    "start_time": "2021-12-31T05:46:44.261Z"
   },
   {
    "duration": 1106,
    "start_time": "2021-12-31T05:46:44.921Z"
   },
   {
    "duration": 32,
    "start_time": "2021-12-31T05:46:46.029Z"
   },
   {
    "duration": 5,
    "start_time": "2021-12-31T05:46:46.063Z"
   },
   {
    "duration": 998,
    "start_time": "2021-12-31T05:46:46.070Z"
   },
   {
    "duration": 28,
    "start_time": "2021-12-31T05:46:47.070Z"
   },
   {
    "duration": 571,
    "start_time": "2021-12-31T05:46:47.101Z"
   },
   {
    "duration": 423,
    "start_time": "2021-12-31T05:46:47.676Z"
   },
   {
    "duration": 11,
    "start_time": "2021-12-31T05:46:48.101Z"
   },
   {
    "duration": 7,
    "start_time": "2021-12-31T05:46:48.115Z"
   },
   {
    "duration": 695,
    "start_time": "2021-12-31T05:46:48.124Z"
   },
   {
    "duration": 694,
    "start_time": "2021-12-31T05:46:48.822Z"
   },
   {
    "duration": 7,
    "start_time": "2021-12-31T05:46:49.519Z"
   },
   {
    "duration": 6166,
    "start_time": "2021-12-31T05:46:49.528Z"
   },
   {
    "duration": 535,
    "start_time": "2021-12-31T05:46:55.700Z"
   },
   {
    "duration": 875,
    "start_time": "2021-12-31T05:46:56.238Z"
   },
   {
    "duration": 802,
    "start_time": "2021-12-31T05:46:57.115Z"
   },
   {
    "duration": 843,
    "start_time": "2021-12-31T05:46:57.919Z"
   },
   {
    "duration": 23,
    "start_time": "2021-12-31T05:46:58.764Z"
   },
   {
    "duration": 7,
    "start_time": "2021-12-31T05:46:58.790Z"
   },
   {
    "duration": 23,
    "start_time": "2021-12-31T05:46:58.799Z"
   },
   {
    "duration": 8,
    "start_time": "2021-12-31T05:46:58.860Z"
   },
   {
    "duration": 1463,
    "start_time": "2021-12-31T05:55:42.145Z"
   },
   {
    "duration": 121,
    "start_time": "2021-12-31T05:55:43.611Z"
   },
   {
    "duration": 27,
    "start_time": "2021-12-31T05:55:43.734Z"
   },
   {
    "duration": 51,
    "start_time": "2021-12-31T05:55:43.764Z"
   },
   {
    "duration": 5,
    "start_time": "2021-12-31T05:55:43.817Z"
   },
   {
    "duration": 6,
    "start_time": "2021-12-31T05:55:43.824Z"
   },
   {
    "duration": 24,
    "start_time": "2021-12-31T05:55:43.860Z"
   },
   {
    "duration": 29,
    "start_time": "2021-12-31T05:55:43.886Z"
   },
   {
    "duration": 677,
    "start_time": "2021-12-31T05:55:43.919Z"
   },
   {
    "duration": 1071,
    "start_time": "2021-12-31T05:55:44.599Z"
   },
   {
    "duration": 26,
    "start_time": "2021-12-31T05:55:45.672Z"
   },
   {
    "duration": 5,
    "start_time": "2021-12-31T05:55:45.700Z"
   },
   {
    "duration": 857,
    "start_time": "2021-12-31T05:55:45.707Z"
   },
   {
    "duration": 25,
    "start_time": "2021-12-31T05:55:46.566Z"
   },
   {
    "duration": 541,
    "start_time": "2021-12-31T05:55:46.593Z"
   },
   {
    "duration": 426,
    "start_time": "2021-12-31T05:55:47.136Z"
   },
   {
    "duration": 10,
    "start_time": "2021-12-31T05:55:47.564Z"
   },
   {
    "duration": 9,
    "start_time": "2021-12-31T05:55:47.576Z"
   },
   {
    "duration": 642,
    "start_time": "2021-12-31T05:55:47.587Z"
   },
   {
    "duration": 695,
    "start_time": "2021-12-31T05:55:48.231Z"
   },
   {
    "duration": 7,
    "start_time": "2021-12-31T05:55:48.929Z"
   },
   {
    "duration": 6243,
    "start_time": "2021-12-31T05:55:48.938Z"
   },
   {
    "duration": 511,
    "start_time": "2021-12-31T05:55:55.183Z"
   },
   {
    "duration": 856,
    "start_time": "2021-12-31T05:55:55.697Z"
   },
   {
    "duration": 787,
    "start_time": "2021-12-31T05:55:56.559Z"
   },
   {
    "duration": 868,
    "start_time": "2021-12-31T05:55:57.349Z"
   },
   {
    "duration": 37,
    "start_time": "2021-12-31T05:55:58.222Z"
   },
   {
    "duration": 7,
    "start_time": "2021-12-31T05:55:58.262Z"
   },
   {
    "duration": 27,
    "start_time": "2021-12-31T05:55:58.271Z"
   },
   {
    "duration": 7,
    "start_time": "2021-12-31T05:55:58.300Z"
   },
   {
    "duration": 1131,
    "start_time": "2022-04-02T14:39:17.439Z"
   },
   {
    "duration": 90,
    "start_time": "2022-04-02T14:39:18.572Z"
   },
   {
    "duration": 14,
    "start_time": "2022-04-02T14:39:18.664Z"
   },
   {
    "duration": 29,
    "start_time": "2022-04-02T14:39:18.679Z"
   },
   {
    "duration": 4,
    "start_time": "2022-04-02T14:39:18.732Z"
   },
   {
    "duration": 6,
    "start_time": "2022-04-02T14:39:18.738Z"
   },
   {
    "duration": 22,
    "start_time": "2022-04-02T14:39:18.746Z"
   },
   {
    "duration": 18,
    "start_time": "2022-04-02T14:39:18.769Z"
   },
   {
    "duration": 344,
    "start_time": "2022-04-02T14:39:18.789Z"
   },
   {
    "duration": 401,
    "start_time": "2022-04-02T14:39:19.134Z"
   },
   {
    "duration": 18,
    "start_time": "2022-04-02T14:39:19.536Z"
   },
   {
    "duration": 4,
    "start_time": "2022-04-02T14:39:19.555Z"
   },
   {
    "duration": 373,
    "start_time": "2022-04-02T14:39:19.560Z"
   },
   {
    "duration": 16,
    "start_time": "2022-04-02T14:39:19.936Z"
   },
   {
    "duration": 193,
    "start_time": "2022-04-02T14:39:19.954Z"
   },
   {
    "duration": 178,
    "start_time": "2022-04-02T14:39:20.149Z"
   },
   {
    "duration": 8,
    "start_time": "2022-04-02T14:39:20.332Z"
   },
   {
    "duration": 6,
    "start_time": "2022-04-02T14:39:20.341Z"
   },
   {
    "duration": 210,
    "start_time": "2022-04-02T14:39:20.348Z"
   },
   {
    "duration": 281,
    "start_time": "2022-04-02T14:39:20.560Z"
   },
   {
    "duration": 6,
    "start_time": "2022-04-02T14:39:20.843Z"
   },
   {
    "duration": 1784,
    "start_time": "2022-04-02T14:39:20.850Z"
   },
   {
    "duration": 239,
    "start_time": "2022-04-02T14:39:22.635Z"
   },
   {
    "duration": 391,
    "start_time": "2022-04-02T14:39:22.876Z"
   },
   {
    "duration": 458,
    "start_time": "2022-04-02T14:39:23.269Z"
   },
   {
    "duration": 345,
    "start_time": "2022-04-02T14:39:23.730Z"
   },
   {
    "duration": 15,
    "start_time": "2022-04-02T14:39:24.076Z"
   },
   {
    "duration": 5,
    "start_time": "2022-04-02T14:39:24.093Z"
   },
   {
    "duration": 36,
    "start_time": "2022-04-02T14:39:24.099Z"
   },
   {
    "duration": 4,
    "start_time": "2022-04-02T14:39:24.137Z"
   },
   {
    "duration": 355,
    "start_time": "2022-04-02T14:39:48.437Z"
   },
   {
    "duration": 358,
    "start_time": "2022-04-02T14:40:19.765Z"
   },
   {
    "duration": 527,
    "start_time": "2022-04-02T14:40:21.946Z"
   },
   {
    "duration": 427,
    "start_time": "2022-04-02T14:40:25.432Z"
   }
  ],
  "kernelspec": {
   "display_name": "Python 3 (ipykernel)",
   "language": "python",
   "name": "python3"
  },
  "language_info": {
   "codemirror_mode": {
    "name": "ipython",
    "version": 3
   },
   "file_extension": ".py",
   "mimetype": "text/x-python",
   "name": "python",
   "nbconvert_exporter": "python",
   "pygments_lexer": "ipython3",
   "version": "3.9.5"
  },
  "toc": {
   "base_numbering": 1,
   "nav_menu": {},
   "number_sections": false,
   "sideBar": false,
   "skip_h1_title": false,
   "title_cell": "Содержание",
   "title_sidebar": "Contents",
   "toc_cell": false,
   "toc_position": {
    "height": "calc(100% - 180px)",
    "left": "10px",
    "top": "150px",
    "width": "165px"
   },
   "toc_section_display": true,
   "toc_window_display": false
  }
 },
 "nbformat": 4,
 "nbformat_minor": 2
}

{
 "cells": [
  {
   "cell_type": "markdown",
   "metadata": {},
   "source": [
    "# Исследование рынка заведений общественного питания г. Москвы\n",
    "\n",
    "Мы решили открыть небольшое кафе в Москве. Оно оригинальное — гостей должны обслуживать роботы. Проект многообещающий, но дорогой. Вместе с партнёрами мы решились обратиться к инвесторам. Их интересует текущее положение дел на рынке — сможем ли мы снискать популярность на долгое время, когда все зеваки насмотрятся на роботов-официантов?\n",
    "Подготовим исследование рынка. У вас есть открытые данные о заведениях общественного питания в Москве."
   ]
  },
  {
   "cell_type": "markdown",
   "metadata": {},
   "source": [
    "**Цель исследования:** Проанализировать и рынок общепита Москвы, сделать презентацию для инвесторов."
   ]
  },
  {
   "cell_type": "markdown",
   "metadata": {},
   "source": [
    "**Содержание**\n",
    "    \n",
    "    \n",
    "1. [Изучение и предобработка данных из файла](#open)\n",
    "        \n",
    "    \n",
    "2. [Исследовательский анализ данных](#pred)\n",
    "\n",
    "\n",
    "3. [Подготовка презентации](#portr)\n",
    "\n",
    "\n",
    "4. [Общий вывод](#summary)"
   ]
  },
  {
   "cell_type": "markdown",
   "metadata": {},
   "source": [
    "<a id=\"open\"></a>\n",
    "## 1. Изучение и предобработка данных из файла"
   ]
  },
  {
   "cell_type": "markdown",
   "metadata": {},
   "source": [
    "**Описание данных:**\n",
    "\n",
    "Таблица rest_data:\n",
    "* id — идентификатор объекта;\n",
    "* object_name — название объекта общественного питания;\n",
    "* chain — сетевой ресторан;\n",
    "* object_type — тип объекта общественного питания;\n",
    "* address — адрес;\n",
    "* number — количество посадочных мест.\n"
   ]
  },
  {
   "cell_type": "code",
   "execution_count": 1,
   "metadata": {},
   "outputs": [],
   "source": [
    "# Импортируем библиотеки\n",
    "\n",
    "import pandas as pd\n",
    "import seaborn as sb\n",
    "import datetime as dt\n",
    "import matplotlib.pyplot as plt\n",
    "import numpy as np\n",
    "from math import factorial\n",
    "from scipy import stats as stats\n",
    "import plotly.express as px\n",
    "from plotly import graph_objects as go\n",
    "import requests\n",
    "from bs4 import BeautifulSoup\n",
    "import requests, io, urllib.request\n",
    "\n",
    "pd.set_option('display.max_columns', None)\n",
    "pd.set_option('display.float_format', '{:,.2f}'.format)\n",
    "pd.set_option('display.max_colwidth', 500)\n",
    "pd.options.mode.chained_assignment = None\n",
    "\n",
    "from pandas.plotting import register_matplotlib_converters\n",
    "register_matplotlib_converters()"
   ]
  },
  {
   "cell_type": "code",
   "execution_count": 2,
   "metadata": {
    "scrolled": false
   },
   "outputs": [
    {
     "data": {
      "text/html": [
       "<div>\n",
       "<style scoped>\n",
       "    .dataframe tbody tr th:only-of-type {\n",
       "        vertical-align: middle;\n",
       "    }\n",
       "\n",
       "    .dataframe tbody tr th {\n",
       "        vertical-align: top;\n",
       "    }\n",
       "\n",
       "    .dataframe thead th {\n",
       "        text-align: right;\n",
       "    }\n",
       "</style>\n",
       "<table border=\"1\" class=\"dataframe\">\n",
       "  <thead>\n",
       "    <tr style=\"text-align: right;\">\n",
       "      <th></th>\n",
       "      <th>id</th>\n",
       "      <th>object_name</th>\n",
       "      <th>chain</th>\n",
       "      <th>object_type</th>\n",
       "      <th>address</th>\n",
       "      <th>number</th>\n",
       "    </tr>\n",
       "  </thead>\n",
       "  <tbody>\n",
       "    <tr>\n",
       "      <th>0</th>\n",
       "      <td>151635</td>\n",
       "      <td>СМЕТАНА</td>\n",
       "      <td>нет</td>\n",
       "      <td>кафе</td>\n",
       "      <td>город Москва, улица Егора Абакумова, дом 9</td>\n",
       "      <td>48</td>\n",
       "    </tr>\n",
       "    <tr>\n",
       "      <th>1</th>\n",
       "      <td>77874</td>\n",
       "      <td>Родник</td>\n",
       "      <td>нет</td>\n",
       "      <td>кафе</td>\n",
       "      <td>город Москва, улица Талалихина, дом 2/1, корпус 1</td>\n",
       "      <td>35</td>\n",
       "    </tr>\n",
       "    <tr>\n",
       "      <th>2</th>\n",
       "      <td>24309</td>\n",
       "      <td>Кафе «Академия»</td>\n",
       "      <td>нет</td>\n",
       "      <td>кафе</td>\n",
       "      <td>город Москва, Абельмановская улица, дом 6</td>\n",
       "      <td>95</td>\n",
       "    </tr>\n",
       "    <tr>\n",
       "      <th>3</th>\n",
       "      <td>21894</td>\n",
       "      <td>ПИЦЦЕТОРИЯ</td>\n",
       "      <td>да</td>\n",
       "      <td>кафе</td>\n",
       "      <td>город Москва, Абрамцевская улица, дом 1</td>\n",
       "      <td>40</td>\n",
       "    </tr>\n",
       "    <tr>\n",
       "      <th>4</th>\n",
       "      <td>119365</td>\n",
       "      <td>Кафе «Вишневая метель»</td>\n",
       "      <td>нет</td>\n",
       "      <td>кафе</td>\n",
       "      <td>город Москва, Абрамцевская улица, дом 9, корпус 1</td>\n",
       "      <td>50</td>\n",
       "    </tr>\n",
       "    <tr>\n",
       "      <th>5</th>\n",
       "      <td>27429</td>\n",
       "      <td>СТОЛ. ПРИ ГОУ СОШ № 1051</td>\n",
       "      <td>нет</td>\n",
       "      <td>столовая</td>\n",
       "      <td>город Москва, Абрамцевская улица, дом 15, корпус 1</td>\n",
       "      <td>240</td>\n",
       "    </tr>\n",
       "    <tr>\n",
       "      <th>6</th>\n",
       "      <td>148815</td>\n",
       "      <td>Брусника</td>\n",
       "      <td>да</td>\n",
       "      <td>кафе</td>\n",
       "      <td>город Москва, переулок Сивцев Вражек, дом 6/2</td>\n",
       "      <td>10</td>\n",
       "    </tr>\n",
       "    <tr>\n",
       "      <th>7</th>\n",
       "      <td>20957</td>\n",
       "      <td>Буфет МТУСИ</td>\n",
       "      <td>нет</td>\n",
       "      <td>столовая</td>\n",
       "      <td>город Москва, Авиамоторная улица, дом 8, строение 1</td>\n",
       "      <td>90</td>\n",
       "    </tr>\n",
       "    <tr>\n",
       "      <th>8</th>\n",
       "      <td>20958</td>\n",
       "      <td>КПФ СЕМЬЯ-1</td>\n",
       "      <td>нет</td>\n",
       "      <td>столовая</td>\n",
       "      <td>город Москва, Авиамоторная улица, дом 8, строение 1</td>\n",
       "      <td>150</td>\n",
       "    </tr>\n",
       "    <tr>\n",
       "      <th>9</th>\n",
       "      <td>28858</td>\n",
       "      <td>Столовая МТУСИ</td>\n",
       "      <td>нет</td>\n",
       "      <td>столовая</td>\n",
       "      <td>город Москва, Авиамоторная улица, дом 8, строение 1</td>\n",
       "      <td>120</td>\n",
       "    </tr>\n",
       "  </tbody>\n",
       "</table>\n",
       "</div>"
      ],
      "text/plain": [
       "       id               object_name chain object_type  \\\n",
       "0  151635                   СМЕТАНА   нет        кафе   \n",
       "1   77874                    Родник   нет        кафе   \n",
       "2   24309           Кафе «Академия»   нет        кафе   \n",
       "3   21894                ПИЦЦЕТОРИЯ    да        кафе   \n",
       "4  119365    Кафе «Вишневая метель»   нет        кафе   \n",
       "5   27429  СТОЛ. ПРИ ГОУ СОШ № 1051   нет    столовая   \n",
       "6  148815                  Брусника    да        кафе   \n",
       "7   20957               Буфет МТУСИ   нет    столовая   \n",
       "8   20958               КПФ СЕМЬЯ-1   нет    столовая   \n",
       "9   28858            Столовая МТУСИ   нет    столовая   \n",
       "\n",
       "                                               address  number  \n",
       "0           город Москва, улица Егора Абакумова, дом 9      48  \n",
       "1    город Москва, улица Талалихина, дом 2/1, корпус 1      35  \n",
       "2            город Москва, Абельмановская улица, дом 6      95  \n",
       "3              город Москва, Абрамцевская улица, дом 1      40  \n",
       "4    город Москва, Абрамцевская улица, дом 9, корпус 1      50  \n",
       "5   город Москва, Абрамцевская улица, дом 15, корпус 1     240  \n",
       "6        город Москва, переулок Сивцев Вражек, дом 6/2      10  \n",
       "7  город Москва, Авиамоторная улица, дом 8, строение 1      90  \n",
       "8  город Москва, Авиамоторная улица, дом 8, строение 1     150  \n",
       "9  город Москва, Авиамоторная улица, дом 8, строение 1     120  "
      ]
     },
     "metadata": {},
     "output_type": "display_data"
    },
    {
     "name": "stdout",
     "output_type": "stream",
     "text": [
      "<class 'pandas.core.frame.DataFrame'>\n",
      "RangeIndex: 15366 entries, 0 to 15365\n",
      "Data columns (total 6 columns):\n",
      " #   Column       Non-Null Count  Dtype \n",
      "---  ------       --------------  ----- \n",
      " 0   id           15366 non-null  int64 \n",
      " 1   object_name  15366 non-null  object\n",
      " 2   chain        15366 non-null  object\n",
      " 3   object_type  15366 non-null  object\n",
      " 4   address      15366 non-null  object\n",
      " 5   number       15366 non-null  int64 \n",
      "dtypes: int64(2), object(4)\n",
      "memory usage: 720.4+ KB\n"
     ]
    }
   ],
   "source": [
    "# Изучаем таблицу\n",
    "\n",
    "path = '/datasets/rest_data.csv'\n",
    "\n",
    "data = pd.read_csv(path, sep = ',' )\n",
    "display(data.head(10))\n",
    "data.tail(10)\n",
    "data.sample(5)\n",
    "data.describe().T\n",
    "data.info()\n",
    "# data['object_type'].unique()\n",
    "# data['object_name'].unique()\n",
    "# data['chain'].unique()"
   ]
  },
  {
   "cell_type": "markdown",
   "metadata": {},
   "source": [
    "Избавимся от неявных дубликатов и длинных значений"
   ]
  },
  {
   "cell_type": "code",
   "execution_count": 3,
   "metadata": {},
   "outputs": [],
   "source": [
    "data['object_type'] = (data['object_type'].replace('кафетерий', 'кафе')\n",
    "                       .replace('предприятие быстрого обслуживания', 'фастфуд')\n",
    "                       .replace('магазин (отдел кулинарии)', 'отдел в магазине')\n",
    "                      )"
   ]
  },
  {
   "cell_type": "markdown",
   "metadata": {},
   "source": [
    "Преобразуем некорректные типы данных"
   ]
  },
  {
   "cell_type": "code",
   "execution_count": 4,
   "metadata": {
    "scrolled": true
   },
   "outputs": [
    {
     "name": "stdout",
     "output_type": "stream",
     "text": [
      "<class 'pandas.core.frame.DataFrame'>\n",
      "RangeIndex: 15366 entries, 0 to 15365\n",
      "Data columns (total 6 columns):\n",
      " #   Column       Non-Null Count  Dtype \n",
      "---  ------       --------------  ----- \n",
      " 0   id           15366 non-null  int64 \n",
      " 1   object_name  15366 non-null  object\n",
      " 2   chain        15366 non-null  bool  \n",
      " 3   object_type  15366 non-null  object\n",
      " 4   address      15366 non-null  object\n",
      " 5   number       15366 non-null  Int16 \n",
      "dtypes: Int16(1), bool(1), int64(1), object(3)\n",
      "memory usage: 540.3+ KB\n"
     ]
    }
   ],
   "source": [
    "data['chain'] = data['chain'].replace('нет', False).replace('да', True).astype('bool') \n",
    "data['number'] = data['number'].astype('Int16') \n",
    "data.info()"
   ]
  },
  {
   "cell_type": "markdown",
   "metadata": {},
   "source": [
    "### Вывод\n",
    "\n",
    "Данные открыты и изучены. Названия колонок выглядят нормально. Пропусков в значениях не обнаружено. От неявных дубликатов избавились. Типы данных приведены к корректным.\n"
   ]
  },
  {
   "cell_type": "markdown",
   "metadata": {},
   "source": [
    "<a id=\"pred\"></a>\n",
    "## 2. Исследовательский анализ данных"
   ]
  },
  {
   "cell_type": "markdown",
   "metadata": {},
   "source": [
    "Выясним, какое соотношение видов объектов общественного питания по количеству\n"
   ]
  },
  {
   "cell_type": "code",
   "execution_count": 10,
   "metadata": {
    "scrolled": false
   },
   "outputs": [
    {
     "data": {
      "text/html": [
       "<div>\n",
       "<style scoped>\n",
       "    .dataframe tbody tr th:only-of-type {\n",
       "        vertical-align: middle;\n",
       "    }\n",
       "\n",
       "    .dataframe tbody tr th {\n",
       "        vertical-align: top;\n",
       "    }\n",
       "\n",
       "    .dataframe thead th {\n",
       "        text-align: right;\n",
       "    }\n",
       "</style>\n",
       "<table border=\"1\" class=\"dataframe\">\n",
       "  <thead>\n",
       "    <tr style=\"text-align: right;\">\n",
       "      <th></th>\n",
       "      <th>object_type</th>\n",
       "      <th>cnt</th>\n",
       "      <th>total</th>\n",
       "      <th>share</th>\n",
       "    </tr>\n",
       "  </thead>\n",
       "  <tbody>\n",
       "    <tr>\n",
       "      <th>0</th>\n",
       "      <td>бар</td>\n",
       "      <td>856</td>\n",
       "      <td>15366</td>\n",
       "      <td>0.06</td>\n",
       "    </tr>\n",
       "    <tr>\n",
       "      <th>1</th>\n",
       "      <td>буфет</td>\n",
       "      <td>585</td>\n",
       "      <td>15366</td>\n",
       "      <td>0.04</td>\n",
       "    </tr>\n",
       "    <tr>\n",
       "      <th>2</th>\n",
       "      <td>закусочная</td>\n",
       "      <td>360</td>\n",
       "      <td>15366</td>\n",
       "      <td>0.02</td>\n",
       "    </tr>\n",
       "    <tr>\n",
       "      <th>3</th>\n",
       "      <td>кафе</td>\n",
       "      <td>6497</td>\n",
       "      <td>15366</td>\n",
       "      <td>0.42</td>\n",
       "    </tr>\n",
       "    <tr>\n",
       "      <th>4</th>\n",
       "      <td>отдел в магазине</td>\n",
       "      <td>273</td>\n",
       "      <td>15366</td>\n",
       "      <td>0.02</td>\n",
       "    </tr>\n",
       "    <tr>\n",
       "      <th>5</th>\n",
       "      <td>ресторан</td>\n",
       "      <td>2285</td>\n",
       "      <td>15366</td>\n",
       "      <td>0.15</td>\n",
       "    </tr>\n",
       "    <tr>\n",
       "      <th>6</th>\n",
       "      <td>столовая</td>\n",
       "      <td>2587</td>\n",
       "      <td>15366</td>\n",
       "      <td>0.17</td>\n",
       "    </tr>\n",
       "    <tr>\n",
       "      <th>7</th>\n",
       "      <td>фастфуд</td>\n",
       "      <td>1923</td>\n",
       "      <td>15366</td>\n",
       "      <td>0.13</td>\n",
       "    </tr>\n",
       "  </tbody>\n",
       "</table>\n",
       "</div>"
      ],
      "text/plain": [
       "        object_type   cnt  total  share\n",
       "0               бар   856  15366   0.06\n",
       "1             буфет   585  15366   0.04\n",
       "2        закусочная   360  15366   0.02\n",
       "3              кафе  6497  15366   0.42\n",
       "4  отдел в магазине   273  15366   0.02\n",
       "5          ресторан  2285  15366   0.15\n",
       "6          столовая  2587  15366   0.17\n",
       "7           фастфуд  1923  15366   0.13"
      ]
     },
     "metadata": {},
     "output_type": "display_data"
    },
    {
     "data": {
      "image/png": "[encoded data removed]",
      "text/plain": [
       "<Figure size 864x360 with 1 Axes>"
      ]
     },
     "metadata": {},
     "output_type": "display_data"
    }
   ],
   "source": [
    "# Сгруппируем таблицу по типам общепита\n",
    "tip_op = data.pivot_table(index='object_type', values='id', aggfunc='count').reset_index()\n",
    "tip_op.columns = ['object_type', 'cnt']\n",
    "tip_op['total'] = tip_op['cnt'].sum()\n",
    "tip_op['share'] = tip_op['cnt']/tip_op['total']\n",
    "tip_op=tip_op.sort_values('object_type')\n",
    "display(tip_op)\n",
    "\n",
    "# Построим график\n",
    "bar = sb.barplot(y='share',x='object_type',  data=tip_op.sort_values('object_type'))\n",
    "sb.set(rc = {'figure.figsize':(12,5)})\n",
    "bar.set(xlabel='Тип заведения', ylabel='Доля заведений от общего кол-ва', title='Соотношение кол-ва заведений по типам')\n",
    "plt.show()"
   ]
  },
  {
   "cell_type": "markdown",
   "metadata": {},
   "source": [
    "По графику можно увидеть, что большинство заведений относятся к типу кафе, затем идут столовые, рестораны и фастфуд."
   ]
  },
  {
   "cell_type": "markdown",
   "metadata": {},
   "source": [
    "Исследуем соотношение сетевых и несетевых заведений по количеству."
   ]
  },
  {
   "cell_type": "code",
   "execution_count": 6,
   "metadata": {},
   "outputs": [
    {
     "data": {
      "text/html": [
       "<div>\n",
       "<style scoped>\n",
       "    .dataframe tbody tr th:only-of-type {\n",
       "        vertical-align: middle;\n",
       "    }\n",
       "\n",
       "    .dataframe tbody tr th {\n",
       "        vertical-align: top;\n",
       "    }\n",
       "\n",
       "    .dataframe thead th {\n",
       "        text-align: right;\n",
       "    }\n",
       "</style>\n",
       "<table border=\"1\" class=\"dataframe\">\n",
       "  <thead>\n",
       "    <tr style=\"text-align: right;\">\n",
       "      <th></th>\n",
       "      <th>chain</th>\n",
       "      <th>cnt</th>\n",
       "      <th>total</th>\n",
       "      <th>share</th>\n",
       "    </tr>\n",
       "  </thead>\n",
       "  <tbody>\n",
       "    <tr>\n",
       "      <th>0</th>\n",
       "      <td>False</td>\n",
       "      <td>12398</td>\n",
       "      <td>15366</td>\n",
       "      <td>0.81</td>\n",
       "    </tr>\n",
       "    <tr>\n",
       "      <th>1</th>\n",
       "      <td>True</td>\n",
       "      <td>2968</td>\n",
       "      <td>15366</td>\n",
       "      <td>0.19</td>\n",
       "    </tr>\n",
       "  </tbody>\n",
       "</table>\n",
       "</div>"
      ],
      "text/plain": [
       "   chain    cnt  total  share\n",
       "0  False  12398  15366   0.81\n",
       "1   True   2968  15366   0.19"
      ]
     },
     "metadata": {},
     "output_type": "display_data"
    },
    {
     "data": {
      "image/png": "[encoded data removed]",
      "text/plain": [
       "<Figure size 864x360 with 1 Axes>"
      ]
     },
     "metadata": {},
     "output_type": "display_data"
    }
   ],
   "source": [
    "# Сгруппируем таблицу по признаку \"сетевое\"\n",
    "tip_chain = data.pivot_table(index='chain', values='id', aggfunc='count').reset_index()\n",
    "tip_chain.columns = ['chain', 'cnt']\n",
    "tip_chain['total'] = tip_chain['cnt'].sum()\n",
    "tip_chain['share'] = tip_chain['cnt']/tip_chain['total']\n",
    "display(tip_chain.sort_values('chain'))\n",
    "\n",
    "# Построим график \n",
    "bar = sb.barplot(y='share',x='chain',  data=tip_chain.sort_values('chain'))\n",
    "sb.set(rc = {'figure.figsize':(12,5)})\n",
    "bar.set(xlabel='Признак \"сетевое заведение\"', ylabel='Доля сетевых заведений от общего кол-ва', title='Соотношение кол-ва сетевых  и несетевых заведений')\n",
    "plt.show()"
   ]
  },
  {
   "cell_type": "markdown",
   "metadata": {},
   "source": [
    "80% заведений - не сетевые"
   ]
  },
  {
   "cell_type": "markdown",
   "metadata": {},
   "source": [
    "Посмотрим для какого вида объекта общественного питания характерно сетевое распространение."
   ]
  },
  {
   "cell_type": "code",
   "execution_count": 7,
   "metadata": {
    "scrolled": false
   },
   "outputs": [
    {
     "data": {
      "text/html": [
       "<div>\n",
       "<style scoped>\n",
       "    .dataframe tbody tr th:only-of-type {\n",
       "        vertical-align: middle;\n",
       "    }\n",
       "\n",
       "    .dataframe tbody tr th {\n",
       "        vertical-align: top;\n",
       "    }\n",
       "\n",
       "    .dataframe thead th {\n",
       "        text-align: right;\n",
       "    }\n",
       "</style>\n",
       "<table border=\"1\" class=\"dataframe\">\n",
       "  <thead>\n",
       "    <tr style=\"text-align: right;\">\n",
       "      <th></th>\n",
       "      <th>nochain</th>\n",
       "      <th>chain</th>\n",
       "      <th>total</th>\n",
       "      <th>share</th>\n",
       "    </tr>\n",
       "    <tr>\n",
       "      <th>object_type</th>\n",
       "      <th></th>\n",
       "      <th></th>\n",
       "      <th></th>\n",
       "      <th></th>\n",
       "    </tr>\n",
       "  </thead>\n",
       "  <tbody>\n",
       "    <tr>\n",
       "      <th>столовая</th>\n",
       "      <td>2584</td>\n",
       "      <td>3</td>\n",
       "      <td>2587</td>\n",
       "      <td>0.12</td>\n",
       "    </tr>\n",
       "    <tr>\n",
       "      <th>буфет</th>\n",
       "      <td>574</td>\n",
       "      <td>11</td>\n",
       "      <td>585</td>\n",
       "      <td>1.88</td>\n",
       "    </tr>\n",
       "    <tr>\n",
       "      <th>бар</th>\n",
       "      <td>819</td>\n",
       "      <td>37</td>\n",
       "      <td>856</td>\n",
       "      <td>4.32</td>\n",
       "    </tr>\n",
       "    <tr>\n",
       "      <th>закусочная</th>\n",
       "      <td>304</td>\n",
       "      <td>56</td>\n",
       "      <td>360</td>\n",
       "      <td>15.56</td>\n",
       "    </tr>\n",
       "    <tr>\n",
       "      <th>кафе</th>\n",
       "      <td>5049</td>\n",
       "      <td>1448</td>\n",
       "      <td>6497</td>\n",
       "      <td>22.29</td>\n",
       "    </tr>\n",
       "    <tr>\n",
       "      <th>ресторан</th>\n",
       "      <td>1741</td>\n",
       "      <td>544</td>\n",
       "      <td>2285</td>\n",
       "      <td>23.81</td>\n",
       "    </tr>\n",
       "    <tr>\n",
       "      <th>отдел в магазине</th>\n",
       "      <td>195</td>\n",
       "      <td>78</td>\n",
       "      <td>273</td>\n",
       "      <td>28.57</td>\n",
       "    </tr>\n",
       "    <tr>\n",
       "      <th>фастфуд</th>\n",
       "      <td>1132</td>\n",
       "      <td>791</td>\n",
       "      <td>1923</td>\n",
       "      <td>41.13</td>\n",
       "    </tr>\n",
       "  </tbody>\n",
       "</table>\n",
       "</div>"
      ],
      "text/plain": [
       "                  nochain  chain  total  share\n",
       "object_type                                   \n",
       "столовая             2584      3   2587   0.12\n",
       "буфет                 574     11    585   1.88\n",
       "бар                   819     37    856   4.32\n",
       "закусочная            304     56    360  15.56\n",
       "кафе                 5049   1448   6497  22.29\n",
       "ресторан             1741    544   2285  23.81\n",
       "отдел в магазине      195     78    273  28.57\n",
       "фастфуд              1132    791   1923  41.13"
      ]
     },
     "metadata": {},
     "output_type": "display_data"
    },
    {
     "data": {
      "image/png": "[encoded data removed]",
      "text/plain": [
       "<Figure size 864x360 with 1 Axes>"
      ]
     },
     "metadata": {},
     "output_type": "display_data"
    }
   ],
   "source": [
    "# Сгруппируем таблицу по типам общепита с разбвкой по признаку \"сетевое\".\n",
    "tip_op_chain = data.pivot_table(index='object_type', columns = 'chain',values='id', aggfunc='nunique')\n",
    "tip_op_chain\n",
    "tip_op_chain.columns = [ 'nochain', 'chain']\n",
    "tip_op_chain['total'] = tip_op_chain['chain'] + tip_op_chain['nochain']\n",
    "tip_op_chain['share'] = (tip_op_chain['chain'] / tip_op_chain['total']) * 100\n",
    "tip_op_chain=tip_op_chain.sort_values('share')\n",
    "display(tip_op_chain.sort_values('share'))\n",
    "\n",
    "# Построим график \n",
    "graph = tip_op_chain['share'].plot(kind = 'barh', stacked = True)\n",
    "sb.set(rc = {'figure.figsize':(12,5)})\n",
    "graph.set(xlabel='Доля сетевых заведений, %', ylabel='Тип заведения', title='Соотношение сетевых и несетевых заведений по типам')\n",
    "plt.show()"
   ]
  },
  {
   "cell_type": "markdown",
   "metadata": {},
   "source": [
    "Сетевое распространение наиболее характерно для фастфуда, магазинных кулинарий, ресторанов и кафе."
   ]
  },
  {
   "cell_type": "markdown",
   "metadata": {},
   "source": [
    "Посмотрим, что характерно для сетевых заведений: много заведений с небольшим числом посадочных мест в каждом или мало заведений с большим количеством посадочных мест."
   ]
  },
  {
   "cell_type": "code",
   "execution_count": 8,
   "metadata": {},
   "outputs": [
    {
     "data": {
      "image/png": "[encoded data removed]",
      "text/plain": [
       "<Figure size 576x576 with 1 Axes>"
      ]
     },
     "metadata": {},
     "output_type": "display_data"
    }
   ],
   "source": [
    "chain_zav = data[data['chain']==True].groupby('object_name').agg({'object_name':'count', 'number':'median'})\n",
    "chain_zav.columns = ['objects', 'med_number']\n",
    "plt.figure(figsize=(8,8))\n",
    "plt.scatter(chain_zav['med_number'], chain_zav['objects'])\n",
    "plt.xlabel('Медианное кол-во посадочных мест')\n",
    "plt.ylabel('Кол-во объектов в сети')\n",
    "plt.title('Распределение количества сетевых заведений по медиане количества мест')\n",
    "\n",
    "plt.show()\n",
    "\n",
    "# np.percentile(chain_zav['med_number'], 95)"
   ]
  },
  {
   "cell_type": "markdown",
   "metadata": {},
   "source": [
    "Из графика видно, что в сетевых заведениях - мало заведений с большим количеством посадочных мест. В 95% сетей не больше 155 посадочных мест."
   ]
  },
  {
   "cell_type": "markdown",
   "metadata": {},
   "source": [
    "Для каждого вида объекта общественного питания опишем среднее количество посадочных мест. Посмотрим, какой вид предоставляет в среднем самое большое количество посадочных мест."
   ]
  },
  {
   "cell_type": "code",
   "execution_count": 13,
   "metadata": {
    "scrolled": false
   },
   "outputs": [
    {
     "name": "stdout",
     "output_type": "stream",
     "text": [
      "Топ-5 типов объектов по количеству посадочных мест:\n",
      "\n",
      "   Тип заведений  Среднее кол-во мест\n",
      "0      столовая               103.00\n",
      "1      ресторан                80.00\n",
      "2           бар                35.00\n",
      "3         буфет                32.00\n",
      "4          кафе                30.00\n"
     ]
    },
    {
     "data": {
      "application/vnd.plotly.v1+json": {
       "config": {
        "plotlyServerURL": "https://plot.ly"
       },
       "data": [
        {
         "alignmentgroup": "True",
         "hovertemplate": "Тип заведений=%{x}<br>Среднее кол-во мест=%{text}<extra></extra>",
         "legendgroup": "столовая",
         "marker": {
          "color": "#636efa",
          "pattern": {
           "shape": ""
          }
         },
         "name": "столовая",
         "offsetgroup": "столовая",
         "orientation": "v",
         "showlegend": true,
         "text": [
          103
         ],
         "textposition": "auto",
         "type": "bar",
         "x": [
          "столовая"
         ],
         "xaxis": "x",
         "y": [
          103
         ],
         "yaxis": "y"
        },
        {
         "alignmentgroup": "True",
         "hovertemplate": "Тип заведений=%{x}<br>Среднее кол-во мест=%{text}<extra></extra>",
         "legendgroup": "ресторан",
         "marker": {
          "color": "#EF553B",
          "pattern": {
           "shape": ""
          }
         },
         "name": "ресторан",
         "offsetgroup": "ресторан",
         "orientation": "v",
         "showlegend": true,
         "text": [
          80
         ],
         "textposition": "auto",
         "type": "bar",
         "x": [
          "ресторан"
         ],
         "xaxis": "x",
         "y": [
          80
         ],
         "yaxis": "y"
        },
        {
         "alignmentgroup": "True",
         "hovertemplate": "Тип заведений=%{x}<br>Среднее кол-во мест=%{text}<extra></extra>",
         "legendgroup": "бар",
         "marker": {
          "color": "#00cc96",
          "pattern": {
           "shape": ""
          }
         },
         "name": "бар",
         "offsetgroup": "бар",
         "orientation": "v",
         "showlegend": true,
         "text": [
          35
         ],
         "textposition": "auto",
         "type": "bar",
         "x": [
          "бар"
         ],
         "xaxis": "x",
         "y": [
          35
         ],
         "yaxis": "y"
        },
        {
         "alignmentgroup": "True",
         "hovertemplate": "Тип заведений=%{x}<br>Среднее кол-во мест=%{text}<extra></extra>",
         "legendgroup": "буфет",
         "marker": {
          "color": "#ab63fa",
          "pattern": {
           "shape": ""
          }
         },
         "name": "буфет",
         "offsetgroup": "буфет",
         "orientation": "v",
         "showlegend": true,
         "text": [
          32
         ],
         "textposition": "auto",
         "type": "bar",
         "x": [
          "буфет"
         ],
         "xaxis": "x",
         "y": [
          32
         ],
         "yaxis": "y"
        },
        {
         "alignmentgroup": "True",
         "hovertemplate": "Тип заведений=%{x}<br>Среднее кол-во мест=%{text}<extra></extra>",
         "legendgroup": "кафе",
         "marker": {
          "color": "#FFA15A",
          "pattern": {
           "shape": ""
          }
         },
         "name": "кафе",
         "offsetgroup": "кафе",
         "orientation": "v",
         "showlegend": true,
         "text": [
          30
         ],
         "textposition": "auto",
         "type": "bar",
         "x": [
          "кафе"
         ],
         "xaxis": "x",
         "y": [
          30
         ],
         "yaxis": "y"
        },
        {
         "alignmentgroup": "True",
         "hovertemplate": "Тип заведений=%{x}<br>Среднее кол-во мест=%{text}<extra></extra>",
         "legendgroup": "фастфуд",
         "marker": {
          "color": "#19d3f3",
          "pattern": {
           "shape": ""
          }
         },
         "name": "фастфуд",
         "offsetgroup": "фастфуд",
         "orientation": "v",
         "showlegend": true,
         "text": [
          5
         ],
         "textposition": "auto",
         "type": "bar",
         "x": [
          "фастфуд"
         ],
         "xaxis": "x",
         "y": [
          5
         ],
         "yaxis": "y"
        },
        {
         "alignmentgroup": "True",
         "hovertemplate": "Тип заведений=%{x}<br>Среднее кол-во мест=%{text}<extra></extra>",
         "legendgroup": "закусочная",
         "marker": {
          "color": "#FF6692",
          "pattern": {
           "shape": ""
          }
         },
         "name": "закусочная",
         "offsetgroup": "закусочная",
         "orientation": "v",
         "showlegend": true,
         "text": [
          0
         ],
         "textposition": "auto",
         "type": "bar",
         "x": [
          "закусочная"
         ],
         "xaxis": "x",
         "y": [
          0
         ],
         "yaxis": "y"
        },
        {
         "alignmentgroup": "True",
         "hovertemplate": "Тип заведений=%{x}<br>Среднее кол-во мест=%{text}<extra></extra>",
         "legendgroup": "отдел в магазине",
         "marker": {
          "color": "#B6E880",
          "pattern": {
           "shape": ""
          }
         },
         "name": "отдел в магазине",
         "offsetgroup": "отдел в магазине",
         "orientation": "v",
         "showlegend": true,
         "text": [
          0
         ],
         "textposition": "auto",
         "type": "bar",
         "x": [
          "отдел в магазине"
         ],
         "xaxis": "x",
         "y": [
          0
         ],
         "yaxis": "y"
        }
       ],
       "layout": {
        "barmode": "relative",
        "height": 550,
        "legend": {
         "title": {
          "text": "Тип заведений"
         },
         "tracegroupgap": 0
        },
        "margin": {
         "t": 60
        },
        "template": {
         "data": {
          "bar": [
           {
            "error_x": {
             "color": "#2a3f5f"
            },
            "error_y": {
             "color": "#2a3f5f"
            },
            "marker": {
             "line": {
              "color": "#E5ECF6",
              "width": 0.5
             },
             "pattern": {
              "fillmode": "overlay",
              "size": 10,
              "solidity": 0.2
             }
            },
            "type": "bar"
           }
          ],
          "barpolar": [
           {
            "marker": {
             "line": {
              "color": "#E5ECF6",
              "width": 0.5
             },
             "pattern": {
              "fillmode": "overlay",
              "size": 10,
              "solidity": 0.2
             }
            },
            "type": "barpolar"
           }
          ],
          "carpet": [
           {
            "aaxis": {
             "endlinecolor": "#2a3f5f",
             "gridcolor": "white",
             "linecolor": "white",
             "minorgridcolor": "white",
             "startlinecolor": "#2a3f5f"
            },
            "baxis": {
             "endlinecolor": "#2a3f5f",
             "gridcolor": "white",
             "linecolor": "white",
             "minorgridcolor": "white",
             "startlinecolor": "#2a3f5f"
            },
            "type": "carpet"
           }
          ],
          "choropleth": [
           {
            "colorbar": {
             "outlinewidth": 0,
             "ticks": ""
            },
            "type": "choropleth"
           }
          ],
          "contour": [
           {
            "colorbar": {
             "outlinewidth": 0,
             "ticks": ""
            },
            "colorscale": [
             [
              0,
              "#0d0887"
             ],
             [
              0.1111111111111111,
              "#46039f"
             ],
             [
              0.2222222222222222,
              "#7201a8"
             ],
             [
              0.3333333333333333,
              "#9c179e"
             ],
             [
              0.4444444444444444,
              "#bd3786"
             ],
             [
              0.5555555555555556,
              "#d8576b"
             ],
             [
              0.6666666666666666,
              "#ed7953"
             ],
             [
              0.7777777777777778,
              "#fb9f3a"
             ],
             [
              0.8888888888888888,
              "#fdca26"
             ],
             [
              1,
              "#f0f921"
             ]
            ],
            "type": "contour"
           }
          ],
          "contourcarpet": [
           {
            "colorbar": {
             "outlinewidth": 0,
             "ticks": ""
            },
            "type": "contourcarpet"
           }
          ],
          "heatmap": [
           {
            "colorbar": {
             "outlinewidth": 0,
             "ticks": ""
            },
            "colorscale": [
             [
              0,
              "#0d0887"
             ],
             [
              0.1111111111111111,
              "#46039f"
             ],
             [
              0.2222222222222222,
              "#7201a8"
             ],
             [
              0.3333333333333333,
              "#9c179e"
             ],
             [
              0.4444444444444444,
              "#bd3786"
             ],
             [
              0.5555555555555556,
              "#d8576b"
             ],
             [
              0.6666666666666666,
              "#ed7953"
             ],
             [
              0.7777777777777778,
              "#fb9f3a"
             ],
             [
              0.8888888888888888,
              "#fdca26"
             ],
             [
              1,
              "#f0f921"
             ]
            ],
            "type": "heatmap"
           }
          ],
          "heatmapgl": [
           {
            "colorbar": {
             "outlinewidth": 0,
             "ticks": ""
            },
            "colorscale": [
             [
              0,
              "#0d0887"
             ],
             [
              0.1111111111111111,
              "#46039f"
             ],
             [
              0.2222222222222222,
              "#7201a8"
             ],
             [
              0.3333333333333333,
              "#9c179e"
             ],
             [
              0.4444444444444444,
              "#bd3786"
             ],
             [
              0.5555555555555556,
              "#d8576b"
             ],
             [
              0.6666666666666666,
              "#ed7953"
             ],
             [
              0.7777777777777778,
              "#fb9f3a"
             ],
             [
              0.8888888888888888,
              "#fdca26"
             ],
             [
              1,
              "#f0f921"
             ]
            ],
            "type": "heatmapgl"
           }
          ],
          "histogram": [
           {
            "marker": {
             "pattern": {
              "fillmode": "overlay",
              "size": 10,
              "solidity": 0.2
             }
            },
            "type": "histogram"
           }
          ],
          "histogram2d": [
           {
            "colorbar": {
             "outlinewidth": 0,
             "ticks": ""
            },
            "colorscale": [
             [
              0,
              "#0d0887"
             ],
             [
              0.1111111111111111,
              "#46039f"
             ],
             [
              0.2222222222222222,
              "#7201a8"
             ],
             [
              0.3333333333333333,
              "#9c179e"
             ],
             [
              0.4444444444444444,
              "#bd3786"
             ],
             [
              0.5555555555555556,
              "#d8576b"
             ],
             [
              0.6666666666666666,
              "#ed7953"
             ],
             [
              0.7777777777777778,
              "#fb9f3a"
             ],
             [
              0.8888888888888888,
              "#fdca26"
             ],
             [
              1,
              "#f0f921"
             ]
            ],
            "type": "histogram2d"
           }
          ],
          "histogram2dcontour": [
           {
            "colorbar": {
             "outlinewidth": 0,
             "ticks": ""
            },
            "colorscale": [
             [
              0,
              "#0d0887"
             ],
             [
              0.1111111111111111,
              "#46039f"
             ],
             [
              0.2222222222222222,
              "#7201a8"
             ],
             [
              0.3333333333333333,
              "#9c179e"
             ],
             [
              0.4444444444444444,
              "#bd3786"
             ],
             [
              0.5555555555555556,
              "#d8576b"
             ],
             [
              0.6666666666666666,
              "#ed7953"
             ],
             [
              0.7777777777777778,
              "#fb9f3a"
             ],
             [
              0.8888888888888888,
              "#fdca26"
             ],
             [
              1,
              "#f0f921"
             ]
            ],
            "type": "histogram2dcontour"
           }
          ],
          "mesh3d": [
           {
            "colorbar": {
             "outlinewidth": 0,
             "ticks": ""
            },
            "type": "mesh3d"
           }
          ],
          "parcoords": [
           {
            "line": {
             "colorbar": {
              "outlinewidth": 0,
              "ticks": ""
             }
            },
            "type": "parcoords"
           }
          ],
          "pie": [
           {
            "automargin": true,
            "type": "pie"
           }
          ],
          "scatter": [
           {
            "marker": {
             "colorbar": {
              "outlinewidth": 0,
              "ticks": ""
             }
            },
            "type": "scatter"
           }
          ],
          "scatter3d": [
           {
            "line": {
             "colorbar": {
              "outlinewidth": 0,
              "ticks": ""
             }
            },
            "marker": {
             "colorbar": {
              "outlinewidth": 0,
              "ticks": ""
             }
            },
            "type": "scatter3d"
           }
          ],
          "scattercarpet": [
           {
            "marker": {
             "colorbar": {
              "outlinewidth": 0,
              "ticks": ""
             }
            },
            "type": "scattercarpet"
           }
          ],
          "scattergeo": [
           {
            "marker": {
             "colorbar": {
              "outlinewidth": 0,
              "ticks": ""
             }
            },
            "type": "scattergeo"
           }
          ],
          "scattergl": [
           {
            "marker": {
             "colorbar": {
              "outlinewidth": 0,
              "ticks": ""
             }
            },
            "type": "scattergl"
           }
          ],
          "scattermapbox": [
           {
            "marker": {
             "colorbar": {
              "outlinewidth": 0,
              "ticks": ""
             }
            },
            "type": "scattermapbox"
           }
          ],
          "scatterpolar": [
           {
            "marker": {
             "colorbar": {
              "outlinewidth": 0,
              "ticks": ""
             }
            },
            "type": "scatterpolar"
           }
          ],
          "scatterpolargl": [
           {
            "marker": {
             "colorbar": {
              "outlinewidth": 0,
              "ticks": ""
             }
            },
            "type": "scatterpolargl"
           }
          ],
          "scatterternary": [
           {
            "marker": {
             "colorbar": {
              "outlinewidth": 0,
              "ticks": ""
             }
            },
            "type": "scatterternary"
           }
          ],
          "surface": [
           {
            "colorbar": {
             "outlinewidth": 0,
             "ticks": ""
            },
            "colorscale": [
             [
              0,
              "#0d0887"
             ],
             [
              0.1111111111111111,
              "#46039f"
             ],
             [
              0.2222222222222222,
              "#7201a8"
             ],
             [
              0.3333333333333333,
              "#9c179e"
             ],
             [
              0.4444444444444444,
              "#bd3786"
             ],
             [
              0.5555555555555556,
              "#d8576b"
             ],
             [
              0.6666666666666666,
              "#ed7953"
             ],
             [
              0.7777777777777778,
              "#fb9f3a"
             ],
             [
              0.8888888888888888,
              "#fdca26"
             ],
             [
              1,
              "#f0f921"
             ]
            ],
            "type": "surface"
           }
          ],
          "table": [
           {
            "cells": {
             "fill": {
              "color": "#EBF0F8"
             },
             "line": {
              "color": "white"
             }
            },
            "header": {
             "fill": {
              "color": "#C8D4E3"
             },
             "line": {
              "color": "white"
             }
            },
            "type": "table"
           }
          ]
         },
         "layout": {
          "annotationdefaults": {
           "arrowcolor": "#2a3f5f",
           "arrowhead": 0,
           "arrowwidth": 1
          },
          "autotypenumbers": "strict",
          "coloraxis": {
           "colorbar": {
            "outlinewidth": 0,
            "ticks": ""
           }
          },
          "colorscale": {
           "diverging": [
            [
             0,
             "#8e0152"
            ],
            [
             0.1,
             "#c51b7d"
            ],
            [
             0.2,
             "#de77ae"
            ],
            [
             0.3,
             "#f1b6da"
            ],
            [
             0.4,
             "#fde0ef"
            ],
            [
             0.5,
             "#f7f7f7"
            ],
            [
             0.6,
             "#e6f5d0"
            ],
            [
             0.7,
             "#b8e186"
            ],
            [
             0.8,
             "#7fbc41"
            ],
            [
             0.9,
             "#4d9221"
            ],
            [
             1,
             "#276419"
            ]
           ],
           "sequential": [
            [
             0,
             "#0d0887"
            ],
            [
             0.1111111111111111,
             "#46039f"
            ],
            [
             0.2222222222222222,
             "#7201a8"
            ],
            [
             0.3333333333333333,
             "#9c179e"
            ],
            [
             0.4444444444444444,
             "#bd3786"
            ],
            [
             0.5555555555555556,
             "#d8576b"
            ],
            [
             0.6666666666666666,
             "#ed7953"
            ],
            [
             0.7777777777777778,
             "#fb9f3a"
            ],
            [
             0.8888888888888888,
             "#fdca26"
            ],
            [
             1,
             "#f0f921"
            ]
           ],
           "sequentialminus": [
            [
             0,
             "#0d0887"
            ],
            [
             0.1111111111111111,
             "#46039f"
            ],
            [
             0.2222222222222222,
             "#7201a8"
            ],
            [
             0.3333333333333333,
             "#9c179e"
            ],
            [
             0.4444444444444444,
             "#bd3786"
            ],
            [
             0.5555555555555556,
             "#d8576b"
            ],
            [
             0.6666666666666666,
             "#ed7953"
            ],
            [
             0.7777777777777778,
             "#fb9f3a"
            ],
            [
             0.8888888888888888,
             "#fdca26"
            ],
            [
             1,
             "#f0f921"
            ]
           ]
          },
          "colorway": [
           "#636efa",
           "#EF553B",
           "#00cc96",
           "#ab63fa",
           "#FFA15A",
           "#19d3f3",
           "#FF6692",
           "#B6E880",
           "#FF97FF",
           "#FECB52"
          ],
          "font": {
           "color": "#2a3f5f"
          },
          "geo": {
           "bgcolor": "white",
           "lakecolor": "white",
           "landcolor": "#E5ECF6",
           "showlakes": true,
           "showland": true,
           "subunitcolor": "white"
          },
          "hoverlabel": {
           "align": "left"
          },
          "hovermode": "closest",
          "mapbox": {
           "style": "light"
          },
          "paper_bgcolor": "white",
          "plot_bgcolor": "#E5ECF6",
          "polar": {
           "angularaxis": {
            "gridcolor": "white",
            "linecolor": "white",
            "ticks": ""
           },
           "bgcolor": "#E5ECF6",
           "radialaxis": {
            "gridcolor": "white",
            "linecolor": "white",
            "ticks": ""
           }
          },
          "scene": {
           "xaxis": {
            "backgroundcolor": "#E5ECF6",
            "gridcolor": "white",
            "gridwidth": 2,
            "linecolor": "white",
            "showbackground": true,
            "ticks": "",
            "zerolinecolor": "white"
           },
           "yaxis": {
            "backgroundcolor": "#E5ECF6",
            "gridcolor": "white",
            "gridwidth": 2,
            "linecolor": "white",
            "showbackground": true,
            "ticks": "",
            "zerolinecolor": "white"
           },
           "zaxis": {
            "backgroundcolor": "#E5ECF6",
            "gridcolor": "white",
            "gridwidth": 2,
            "linecolor": "white",
            "showbackground": true,
            "ticks": "",
            "zerolinecolor": "white"
           }
          },
          "shapedefaults": {
           "line": {
            "color": "#2a3f5f"
           }
          },
          "ternary": {
           "aaxis": {
            "gridcolor": "white",
            "linecolor": "white",
            "ticks": ""
           },
           "baxis": {
            "gridcolor": "white",
            "linecolor": "white",
            "ticks": ""
           },
           "bgcolor": "#E5ECF6",
           "caxis": {
            "gridcolor": "white",
            "linecolor": "white",
            "ticks": ""
           }
          },
          "title": {
           "x": 0.05
          },
          "xaxis": {
           "automargin": true,
           "gridcolor": "white",
           "linecolor": "white",
           "ticks": "",
           "title": {
            "standoff": 15
           },
           "zerolinecolor": "white",
           "zerolinewidth": 2
          },
          "yaxis": {
           "automargin": true,
           "gridcolor": "white",
           "linecolor": "white",
           "ticks": "",
           "title": {
            "standoff": 15
           },
           "zerolinecolor": "white",
           "zerolinewidth": 2
          }
         }
        },
        "title": {
         "text": "Среднее кол-во посадочных мест по типам заведений"
        },
        "width": 900,
        "xaxis": {
         "anchor": "y",
         "categoryarray": [
          "столовая",
          "ресторан",
          "бар",
          "буфет",
          "кафе",
          "фастфуд",
          "закусочная",
          "отдел в магазине"
         ],
         "categoryorder": "array",
         "domain": [
          0,
          1
         ],
         "title": {
          "text": "Тип заведений"
         }
        },
        "yaxis": {
         "anchor": "x",
         "domain": [
          0,
          1
         ],
         "title": {
          "text": "Среднее кол-во мест"
         }
        }
       }
      },
      "text/html": [
       "<div>                            <div id=\"4849fcad-5322-4295-b45b-2525f5cfb0cc\" class=\"plotly-graph-div\" style=\"height:550px; width:900px;\"></div>            <script type=\"text/javascript\">                require([\"plotly\"], function(Plotly) {                    window.PLOTLYENV=window.PLOTLYENV || {};                                    if (document.getElementById(\"4849fcad-5322-4295-b45b-2525f5cfb0cc\")) {                    Plotly.newPlot(                        \"4849fcad-5322-4295-b45b-2525f5cfb0cc\",                        [{\"alignmentgroup\":\"True\",\"hovertemplate\":\"\\u0422\\u0438\\u043f \\u0437\\u0430\\u0432\\u0435\\u0434\\u0435\\u043d\\u0438\\u0439=%{x}<br>\\u0421\\u0440\\u0435\\u0434\\u043d\\u0435\\u0435 \\u043a\\u043e\\u043b-\\u0432\\u043e \\u043c\\u0435\\u0441\\u0442=%{text}<extra></extra>\",\"legendgroup\":\"\\u0441\\u0442\\u043e\\u043b\\u043e\\u0432\\u0430\\u044f\",\"marker\":{\"color\":\"#636efa\",\"pattern\":{\"shape\":\"\"}},\"name\":\"\\u0441\\u0442\\u043e\\u043b\\u043e\\u0432\\u0430\\u044f\",\"offsetgroup\":\"\\u0441\\u0442\\u043e\\u043b\\u043e\\u0432\\u0430\\u044f\",\"orientation\":\"v\",\"showlegend\":true,\"text\":[103.0],\"textposition\":\"auto\",\"x\":[\"\\u0441\\u0442\\u043e\\u043b\\u043e\\u0432\\u0430\\u044f\"],\"xaxis\":\"x\",\"y\":[103.0],\"yaxis\":\"y\",\"type\":\"bar\"},{\"alignmentgroup\":\"True\",\"hovertemplate\":\"\\u0422\\u0438\\u043f \\u0437\\u0430\\u0432\\u0435\\u0434\\u0435\\u043d\\u0438\\u0439=%{x}<br>\\u0421\\u0440\\u0435\\u0434\\u043d\\u0435\\u0435 \\u043a\\u043e\\u043b-\\u0432\\u043e \\u043c\\u0435\\u0441\\u0442=%{text}<extra></extra>\",\"legendgroup\":\"\\u0440\\u0435\\u0441\\u0442\\u043e\\u0440\\u0430\\u043d\",\"marker\":{\"color\":\"#EF553B\",\"pattern\":{\"shape\":\"\"}},\"name\":\"\\u0440\\u0435\\u0441\\u0442\\u043e\\u0440\\u0430\\u043d\",\"offsetgroup\":\"\\u0440\\u0435\\u0441\\u0442\\u043e\\u0440\\u0430\\u043d\",\"orientation\":\"v\",\"showlegend\":true,\"text\":[80.0],\"textposition\":\"auto\",\"x\":[\"\\u0440\\u0435\\u0441\\u0442\\u043e\\u0440\\u0430\\u043d\"],\"xaxis\":\"x\",\"y\":[80.0],\"yaxis\":\"y\",\"type\":\"bar\"},{\"alignmentgroup\":\"True\",\"hovertemplate\":\"\\u0422\\u0438\\u043f \\u0437\\u0430\\u0432\\u0435\\u0434\\u0435\\u043d\\u0438\\u0439=%{x}<br>\\u0421\\u0440\\u0435\\u0434\\u043d\\u0435\\u0435 \\u043a\\u043e\\u043b-\\u0432\\u043e \\u043c\\u0435\\u0441\\u0442=%{text}<extra></extra>\",\"legendgroup\":\"\\u0431\\u0430\\u0440\",\"marker\":{\"color\":\"#00cc96\",\"pattern\":{\"shape\":\"\"}},\"name\":\"\\u0431\\u0430\\u0440\",\"offsetgroup\":\"\\u0431\\u0430\\u0440\",\"orientation\":\"v\",\"showlegend\":true,\"text\":[35.0],\"textposition\":\"auto\",\"x\":[\"\\u0431\\u0430\\u0440\"],\"xaxis\":\"x\",\"y\":[35.0],\"yaxis\":\"y\",\"type\":\"bar\"},{\"alignmentgroup\":\"True\",\"hovertemplate\":\"\\u0422\\u0438\\u043f \\u0437\\u0430\\u0432\\u0435\\u0434\\u0435\\u043d\\u0438\\u0439=%{x}<br>\\u0421\\u0440\\u0435\\u0434\\u043d\\u0435\\u0435 \\u043a\\u043e\\u043b-\\u0432\\u043e \\u043c\\u0435\\u0441\\u0442=%{text}<extra></extra>\",\"legendgroup\":\"\\u0431\\u0443\\u0444\\u0435\\u0442\",\"marker\":{\"color\":\"#ab63fa\",\"pattern\":{\"shape\":\"\"}},\"name\":\"\\u0431\\u0443\\u0444\\u0435\\u0442\",\"offsetgroup\":\"\\u0431\\u0443\\u0444\\u0435\\u0442\",\"orientation\":\"v\",\"showlegend\":true,\"text\":[32.0],\"textposition\":\"auto\",\"x\":[\"\\u0431\\u0443\\u0444\\u0435\\u0442\"],\"xaxis\":\"x\",\"y\":[32.0],\"yaxis\":\"y\",\"type\":\"bar\"},{\"alignmentgroup\":\"True\",\"hovertemplate\":\"\\u0422\\u0438\\u043f \\u0437\\u0430\\u0432\\u0435\\u0434\\u0435\\u043d\\u0438\\u0439=%{x}<br>\\u0421\\u0440\\u0435\\u0434\\u043d\\u0435\\u0435 \\u043a\\u043e\\u043b-\\u0432\\u043e \\u043c\\u0435\\u0441\\u0442=%{text}<extra></extra>\",\"legendgroup\":\"\\u043a\\u0430\\u0444\\u0435\",\"marker\":{\"color\":\"#FFA15A\",\"pattern\":{\"shape\":\"\"}},\"name\":\"\\u043a\\u0430\\u0444\\u0435\",\"offsetgroup\":\"\\u043a\\u0430\\u0444\\u0435\",\"orientation\":\"v\",\"showlegend\":true,\"text\":[30.0],\"textposition\":\"auto\",\"x\":[\"\\u043a\\u0430\\u0444\\u0435\"],\"xaxis\":\"x\",\"y\":[30.0],\"yaxis\":\"y\",\"type\":\"bar\"},{\"alignmentgroup\":\"True\",\"hovertemplate\":\"\\u0422\\u0438\\u043f \\u0437\\u0430\\u0432\\u0435\\u0434\\u0435\\u043d\\u0438\\u0439=%{x}<br>\\u0421\\u0440\\u0435\\u0434\\u043d\\u0435\\u0435 \\u043a\\u043e\\u043b-\\u0432\\u043e \\u043c\\u0435\\u0441\\u0442=%{text}<extra></extra>\",\"legendgroup\":\"\\u0444\\u0430\\u0441\\u0442\\u0444\\u0443\\u0434\",\"marker\":{\"color\":\"#19d3f3\",\"pattern\":{\"shape\":\"\"}},\"name\":\"\\u0444\\u0430\\u0441\\u0442\\u0444\\u0443\\u0434\",\"offsetgroup\":\"\\u0444\\u0430\\u0441\\u0442\\u0444\\u0443\\u0434\",\"orientation\":\"v\",\"showlegend\":true,\"text\":[5.0],\"textposition\":\"auto\",\"x\":[\"\\u0444\\u0430\\u0441\\u0442\\u0444\\u0443\\u0434\"],\"xaxis\":\"x\",\"y\":[5.0],\"yaxis\":\"y\",\"type\":\"bar\"},{\"alignmentgroup\":\"True\",\"hovertemplate\":\"\\u0422\\u0438\\u043f \\u0437\\u0430\\u0432\\u0435\\u0434\\u0435\\u043d\\u0438\\u0439=%{x}<br>\\u0421\\u0440\\u0435\\u0434\\u043d\\u0435\\u0435 \\u043a\\u043e\\u043b-\\u0432\\u043e \\u043c\\u0435\\u0441\\u0442=%{text}<extra></extra>\",\"legendgroup\":\"\\u0437\\u0430\\u043a\\u0443\\u0441\\u043e\\u0447\\u043d\\u0430\\u044f\",\"marker\":{\"color\":\"#FF6692\",\"pattern\":{\"shape\":\"\"}},\"name\":\"\\u0437\\u0430\\u043a\\u0443\\u0441\\u043e\\u0447\\u043d\\u0430\\u044f\",\"offsetgroup\":\"\\u0437\\u0430\\u043a\\u0443\\u0441\\u043e\\u0447\\u043d\\u0430\\u044f\",\"orientation\":\"v\",\"showlegend\":true,\"text\":[0.0],\"textposition\":\"auto\",\"x\":[\"\\u0437\\u0430\\u043a\\u0443\\u0441\\u043e\\u0447\\u043d\\u0430\\u044f\"],\"xaxis\":\"x\",\"y\":[0.0],\"yaxis\":\"y\",\"type\":\"bar\"},{\"alignmentgroup\":\"True\",\"hovertemplate\":\"\\u0422\\u0438\\u043f \\u0437\\u0430\\u0432\\u0435\\u0434\\u0435\\u043d\\u0438\\u0439=%{x}<br>\\u0421\\u0440\\u0435\\u0434\\u043d\\u0435\\u0435 \\u043a\\u043e\\u043b-\\u0432\\u043e \\u043c\\u0435\\u0441\\u0442=%{text}<extra></extra>\",\"legendgroup\":\"\\u043e\\u0442\\u0434\\u0435\\u043b \\u0432 \\u043c\\u0430\\u0433\\u0430\\u0437\\u0438\\u043d\\u0435\",\"marker\":{\"color\":\"#B6E880\",\"pattern\":{\"shape\":\"\"}},\"name\":\"\\u043e\\u0442\\u0434\\u0435\\u043b \\u0432 \\u043c\\u0430\\u0433\\u0430\\u0437\\u0438\\u043d\\u0435\",\"offsetgroup\":\"\\u043e\\u0442\\u0434\\u0435\\u043b \\u0432 \\u043c\\u0430\\u0433\\u0430\\u0437\\u0438\\u043d\\u0435\",\"orientation\":\"v\",\"showlegend\":true,\"text\":[0.0],\"textposition\":\"auto\",\"x\":[\"\\u043e\\u0442\\u0434\\u0435\\u043b \\u0432 \\u043c\\u0430\\u0433\\u0430\\u0437\\u0438\\u043d\\u0435\"],\"xaxis\":\"x\",\"y\":[0.0],\"yaxis\":\"y\",\"type\":\"bar\"}],                        {\"template\":{\"data\":{\"bar\":[{\"error_x\":{\"color\":\"#2a3f5f\"},\"error_y\":{\"color\":\"#2a3f5f\"},\"marker\":{\"line\":{\"color\":\"#E5ECF6\",\"width\":0.5},\"pattern\":{\"fillmode\":\"overlay\",\"size\":10,\"solidity\":0.2}},\"type\":\"bar\"}],\"barpolar\":[{\"marker\":{\"line\":{\"color\":\"#E5ECF6\",\"width\":0.5},\"pattern\":{\"fillmode\":\"overlay\",\"size\":10,\"solidity\":0.2}},\"type\":\"barpolar\"}],\"carpet\":[{\"aaxis\":{\"endlinecolor\":\"#2a3f5f\",\"gridcolor\":\"white\",\"linecolor\":\"white\",\"minorgridcolor\":\"white\",\"startlinecolor\":\"#2a3f5f\"},\"baxis\":{\"endlinecolor\":\"#2a3f5f\",\"gridcolor\":\"white\",\"linecolor\":\"white\",\"minorgridcolor\":\"white\",\"startlinecolor\":\"#2a3f5f\"},\"type\":\"carpet\"}],\"choropleth\":[{\"colorbar\":{\"outlinewidth\":0,\"ticks\":\"\"},\"type\":\"choropleth\"}],\"contour\":[{\"colorbar\":{\"outlinewidth\":0,\"ticks\":\"\"},\"colorscale\":[[0.0,\"#0d0887\"],[0.1111111111111111,\"#46039f\"],[0.2222222222222222,\"#7201a8\"],[0.3333333333333333,\"#9c179e\"],[0.4444444444444444,\"#bd3786\"],[0.5555555555555556,\"#d8576b\"],[0.6666666666666666,\"#ed7953\"],[0.7777777777777778,\"#fb9f3a\"],[0.8888888888888888,\"#fdca26\"],[1.0,\"#f0f921\"]],\"type\":\"contour\"}],\"contourcarpet\":[{\"colorbar\":{\"outlinewidth\":0,\"ticks\":\"\"},\"type\":\"contourcarpet\"}],\"heatmap\":[{\"colorbar\":{\"outlinewidth\":0,\"ticks\":\"\"},\"colorscale\":[[0.0,\"#0d0887\"],[0.1111111111111111,\"#46039f\"],[0.2222222222222222,\"#7201a8\"],[0.3333333333333333,\"#9c179e\"],[0.4444444444444444,\"#bd3786\"],[0.5555555555555556,\"#d8576b\"],[0.6666666666666666,\"#ed7953\"],[0.7777777777777778,\"#fb9f3a\"],[0.8888888888888888,\"#fdca26\"],[1.0,\"#f0f921\"]],\"type\":\"heatmap\"}],\"heatmapgl\":[{\"colorbar\":{\"outlinewidth\":0,\"ticks\":\"\"},\"colorscale\":[[0.0,\"#0d0887\"],[0.1111111111111111,\"#46039f\"],[0.2222222222222222,\"#7201a8\"],[0.3333333333333333,\"#9c179e\"],[0.4444444444444444,\"#bd3786\"],[0.5555555555555556,\"#d8576b\"],[0.6666666666666666,\"#ed7953\"],[0.7777777777777778,\"#fb9f3a\"],[0.8888888888888888,\"#fdca26\"],[1.0,\"#f0f921\"]],\"type\":\"heatmapgl\"}],\"histogram\":[{\"marker\":{\"pattern\":{\"fillmode\":\"overlay\",\"size\":10,\"solidity\":0.2}},\"type\":\"histogram\"}],\"histogram2d\":[{\"colorbar\":{\"outlinewidth\":0,\"ticks\":\"\"},\"colorscale\":[[0.0,\"#0d0887\"],[0.1111111111111111,\"#46039f\"],[0.2222222222222222,\"#7201a8\"],[0.3333333333333333,\"#9c179e\"],[0.4444444444444444,\"#bd3786\"],[0.5555555555555556,\"#d8576b\"],[0.6666666666666666,\"#ed7953\"],[0.7777777777777778,\"#fb9f3a\"],[0.8888888888888888,\"#fdca26\"],[1.0,\"#f0f921\"]],\"type\":\"histogram2d\"}],\"histogram2dcontour\":[{\"colorbar\":{\"outlinewidth\":0,\"ticks\":\"\"},\"colorscale\":[[0.0,\"#0d0887\"],[0.1111111111111111,\"#46039f\"],[0.2222222222222222,\"#7201a8\"],[0.3333333333333333,\"#9c179e\"],[0.4444444444444444,\"#bd3786\"],[0.5555555555555556,\"#d8576b\"],[0.6666666666666666,\"#ed7953\"],[0.7777777777777778,\"#fb9f3a\"],[0.8888888888888888,\"#fdca26\"],[1.0,\"#f0f921\"]],\"type\":\"histogram2dcontour\"}],\"mesh3d\":[{\"colorbar\":{\"outlinewidth\":0,\"ticks\":\"\"},\"type\":\"mesh3d\"}],\"parcoords\":[{\"line\":{\"colorbar\":{\"outlinewidth\":0,\"ticks\":\"\"}},\"type\":\"parcoords\"}],\"pie\":[{\"automargin\":true,\"type\":\"pie\"}],\"scatter\":[{\"marker\":{\"colorbar\":{\"outlinewidth\":0,\"ticks\":\"\"}},\"type\":\"scatter\"}],\"scatter3d\":[{\"line\":{\"colorbar\":{\"outlinewidth\":0,\"ticks\":\"\"}},\"marker\":{\"colorbar\":{\"outlinewidth\":0,\"ticks\":\"\"}},\"type\":\"scatter3d\"}],\"scattercarpet\":[{\"marker\":{\"colorbar\":{\"outlinewidth\":0,\"ticks\":\"\"}},\"type\":\"scattercarpet\"}],\"scattergeo\":[{\"marker\":{\"colorbar\":{\"outlinewidth\":0,\"ticks\":\"\"}},\"type\":\"scattergeo\"}],\"scattergl\":[{\"marker\":{\"colorbar\":{\"outlinewidth\":0,\"ticks\":\"\"}},\"type\":\"scattergl\"}],\"scattermapbox\":[{\"marker\":{\"colorbar\":{\"outlinewidth\":0,\"ticks\":\"\"}},\"type\":\"scattermapbox\"}],\"scatterpolar\":[{\"marker\":{\"colorbar\":{\"outlinewidth\":0,\"ticks\":\"\"}},\"type\":\"scatterpolar\"}],\"scatterpolargl\":[{\"marker\":{\"colorbar\":{\"outlinewidth\":0,\"ticks\":\"\"}},\"type\":\"scatterpolargl\"}],\"scatterternary\":[{\"marker\":{\"colorbar\":{\"outlinewidth\":0,\"ticks\":\"\"}},\"type\":\"scatterternary\"}],\"surface\":[{\"colorbar\":{\"outlinewidth\":0,\"ticks\":\"\"},\"colorscale\":[[0.0,\"#0d0887\"],[0.1111111111111111,\"#46039f\"],[0.2222222222222222,\"#7201a8\"],[0.3333333333333333,\"#9c179e\"],[0.4444444444444444,\"#bd3786\"],[0.5555555555555556,\"#d8576b\"],[0.6666666666666666,\"#ed7953\"],[0.7777777777777778,\"#fb9f3a\"],[0.8888888888888888,\"#fdca26\"],[1.0,\"#f0f921\"]],\"type\":\"surface\"}],\"table\":[{\"cells\":{\"fill\":{\"color\":\"#EBF0F8\"},\"line\":{\"color\":\"white\"}},\"header\":{\"fill\":{\"color\":\"#C8D4E3\"},\"line\":{\"color\":\"white\"}},\"type\":\"table\"}]},\"layout\":{\"annotationdefaults\":{\"arrowcolor\":\"#2a3f5f\",\"arrowhead\":0,\"arrowwidth\":1},\"autotypenumbers\":\"strict\",\"coloraxis\":{\"colorbar\":{\"outlinewidth\":0,\"ticks\":\"\"}},\"colorscale\":{\"diverging\":[[0,\"#8e0152\"],[0.1,\"#c51b7d\"],[0.2,\"#de77ae\"],[0.3,\"#f1b6da\"],[0.4,\"#fde0ef\"],[0.5,\"#f7f7f7\"],[0.6,\"#e6f5d0\"],[0.7,\"#b8e186\"],[0.8,\"#7fbc41\"],[0.9,\"#4d9221\"],[1,\"#276419\"]],\"sequential\":[[0.0,\"#0d0887\"],[0.1111111111111111,\"#46039f\"],[0.2222222222222222,\"#7201a8\"],[0.3333333333333333,\"#9c179e\"],[0.4444444444444444,\"#bd3786\"],[0.5555555555555556,\"#d8576b\"],[0.6666666666666666,\"#ed7953\"],[0.7777777777777778,\"#fb9f3a\"],[0.8888888888888888,\"#fdca26\"],[1.0,\"#f0f921\"]],\"sequentialminus\":[[0.0,\"#0d0887\"],[0.1111111111111111,\"#46039f\"],[0.2222222222222222,\"#7201a8\"],[0.3333333333333333,\"#9c179e\"],[0.4444444444444444,\"#bd3786\"],[0.5555555555555556,\"#d8576b\"],[0.6666666666666666,\"#ed7953\"],[0.7777777777777778,\"#fb9f3a\"],[0.8888888888888888,\"#fdca26\"],[1.0,\"#f0f921\"]]},\"colorway\":[\"#636efa\",\"#EF553B\",\"#00cc96\",\"#ab63fa\",\"#FFA15A\",\"#19d3f3\",\"#FF6692\",\"#B6E880\",\"#FF97FF\",\"#FECB52\"],\"font\":{\"color\":\"#2a3f5f\"},\"geo\":{\"bgcolor\":\"white\",\"lakecolor\":\"white\",\"landcolor\":\"#E5ECF6\",\"showlakes\":true,\"showland\":true,\"subunitcolor\":\"white\"},\"hoverlabel\":{\"align\":\"left\"},\"hovermode\":\"closest\",\"mapbox\":{\"style\":\"light\"},\"paper_bgcolor\":\"white\",\"plot_bgcolor\":\"#E5ECF6\",\"polar\":{\"angularaxis\":{\"gridcolor\":\"white\",\"linecolor\":\"white\",\"ticks\":\"\"},\"bgcolor\":\"#E5ECF6\",\"radialaxis\":{\"gridcolor\":\"white\",\"linecolor\":\"white\",\"ticks\":\"\"}},\"scene\":{\"xaxis\":{\"backgroundcolor\":\"#E5ECF6\",\"gridcolor\":\"white\",\"gridwidth\":2,\"linecolor\":\"white\",\"showbackground\":true,\"ticks\":\"\",\"zerolinecolor\":\"white\"},\"yaxis\":{\"backgroundcolor\":\"#E5ECF6\",\"gridcolor\":\"white\",\"gridwidth\":2,\"linecolor\":\"white\",\"showbackground\":true,\"ticks\":\"\",\"zerolinecolor\":\"white\"},\"zaxis\":{\"backgroundcolor\":\"#E5ECF6\",\"gridcolor\":\"white\",\"gridwidth\":2,\"linecolor\":\"white\",\"showbackground\":true,\"ticks\":\"\",\"zerolinecolor\":\"white\"}},\"shapedefaults\":{\"line\":{\"color\":\"#2a3f5f\"}},\"ternary\":{\"aaxis\":{\"gridcolor\":\"white\",\"linecolor\":\"white\",\"ticks\":\"\"},\"baxis\":{\"gridcolor\":\"white\",\"linecolor\":\"white\",\"ticks\":\"\"},\"bgcolor\":\"#E5ECF6\",\"caxis\":{\"gridcolor\":\"white\",\"linecolor\":\"white\",\"ticks\":\"\"}},\"title\":{\"x\":0.05},\"xaxis\":{\"automargin\":true,\"gridcolor\":\"white\",\"linecolor\":\"white\",\"ticks\":\"\",\"title\":{\"standoff\":15},\"zerolinecolor\":\"white\",\"zerolinewidth\":2},\"yaxis\":{\"automargin\":true,\"gridcolor\":\"white\",\"linecolor\":\"white\",\"ticks\":\"\",\"title\":{\"standoff\":15},\"zerolinecolor\":\"white\",\"zerolinewidth\":2}}},\"xaxis\":{\"anchor\":\"y\",\"domain\":[0.0,1.0],\"title\":{\"text\":\"\\u0422\\u0438\\u043f \\u0437\\u0430\\u0432\\u0435\\u0434\\u0435\\u043d\\u0438\\u0439\"},\"categoryorder\":\"array\",\"categoryarray\":[\"\\u0441\\u0442\\u043e\\u043b\\u043e\\u0432\\u0430\\u044f\",\"\\u0440\\u0435\\u0441\\u0442\\u043e\\u0440\\u0430\\u043d\",\"\\u0431\\u0430\\u0440\",\"\\u0431\\u0443\\u0444\\u0435\\u0442\",\"\\u043a\\u0430\\u0444\\u0435\",\"\\u0444\\u0430\\u0441\\u0442\\u0444\\u0443\\u0434\",\"\\u0437\\u0430\\u043a\\u0443\\u0441\\u043e\\u0447\\u043d\\u0430\\u044f\",\"\\u043e\\u0442\\u0434\\u0435\\u043b \\u0432 \\u043c\\u0430\\u0433\\u0430\\u0437\\u0438\\u043d\\u0435\"]},\"yaxis\":{\"anchor\":\"x\",\"domain\":[0.0,1.0],\"title\":{\"text\":\"\\u0421\\u0440\\u0435\\u0434\\u043d\\u0435\\u0435 \\u043a\\u043e\\u043b-\\u0432\\u043e \\u043c\\u0435\\u0441\\u0442\"}},\"legend\":{\"title\":{\"text\":\"\\u0422\\u0438\\u043f \\u0437\\u0430\\u0432\\u0435\\u0434\\u0435\\u043d\\u0438\\u0439\"},\"tracegroupgap\":0},\"margin\":{\"t\":60},\"barmode\":\"relative\",\"height\":550,\"width\":900,\"title\":{\"text\":\"\\u0421\\u0440\\u0435\\u0434\\u043d\\u0435\\u0435 \\u043a\\u043e\\u043b-\\u0432\\u043e \\u043f\\u043e\\u0441\\u0430\\u0434\\u043e\\u0447\\u043d\\u044b\\u0445 \\u043c\\u0435\\u0441\\u0442 \\u043f\\u043e \\u0442\\u0438\\u043f\\u0430\\u043c \\u0437\\u0430\\u0432\\u0435\\u0434\\u0435\\u043d\\u0438\\u0439\"}},                        {\"responsive\": true}                    ).then(function(){\n",
       "                            \n",
       "var gd = document.getElementById('4849fcad-5322-4295-b45b-2525f5cfb0cc');\n",
       "var x = new MutationObserver(function (mutations, observer) {{\n",
       "        var display = window.getComputedStyle(gd).display;\n",
       "        if (!display || display === 'none') {{\n",
       "            console.log([gd, 'removed!']);\n",
       "            Plotly.purge(gd);\n",
       "            observer.disconnect();\n",
       "        }}\n",
       "}});\n",
       "\n",
       "// Listen for the removal of the full notebook cells\n",
       "var notebookContainer = gd.closest('#notebook-container');\n",
       "if (notebookContainer) {{\n",
       "    x.observe(notebookContainer, {childList: true});\n",
       "}}\n",
       "\n",
       "// Listen for the clearing of the current output cell\n",
       "var outputEl = gd.closest('.output');\n",
       "if (outputEl) {{\n",
       "    x.observe(outputEl, {childList: true});\n",
       "}}\n",
       "\n",
       "                        })                };                });            </script>        </div>"
      ]
     },
     "metadata": {},
     "output_type": "display_data"
    }
   ],
   "source": [
    "seats_object = data.pivot_table(index='object_type', values='number', aggfunc='median').sort_values(by='number', ascending=False).reset_index()\n",
    "seats_object.columns=['Тип заведений', 'Среднее кол-во мест']\n",
    "print('Топ-5 типов объектов по количеству посадочных мест:\\n\\n', seats_object.head(5))\n",
    "\n",
    "fig = px.bar(seats_object, x='Тип заведений', y='Среднее кол-во мест',  text = 'Среднее кол-во мест', color='Тип заведений', width = 900, height = 550)\n",
    "for trace in fig.data:\n",
    "    trace.name = trace.name.split('=')[0]\n",
    "fig.update_layout(title='Среднее кол-во посадочных мест по типам заведений')\n",
    "fig.show()\n"
   ]
  },
  {
   "cell_type": "markdown",
   "metadata": {},
   "source": [
    "Наибольшее количество посадочных мест у столовых. В среднем 103 места."
   ]
  },
  {
   "cell_type": "markdown",
   "metadata": {},
   "source": [
    "Выделим в отдельный столбец информацию об улице из столбца address"
   ]
  },
  {
   "cell_type": "code",
   "execution_count": 14,
   "metadata": {},
   "outputs": [
    {
     "data": {
      "text/html": [
       "<div>\n",
       "<style scoped>\n",
       "    .dataframe tbody tr th:only-of-type {\n",
       "        vertical-align: middle;\n",
       "    }\n",
       "\n",
       "    .dataframe tbody tr th {\n",
       "        vertical-align: top;\n",
       "    }\n",
       "\n",
       "    .dataframe thead th {\n",
       "        text-align: right;\n",
       "    }\n",
       "</style>\n",
       "<table border=\"1\" class=\"dataframe\">\n",
       "  <thead>\n",
       "    <tr style=\"text-align: right;\">\n",
       "      <th></th>\n",
       "      <th>id</th>\n",
       "      <th>object_name</th>\n",
       "      <th>chain</th>\n",
       "      <th>object_type</th>\n",
       "      <th>address</th>\n",
       "      <th>number</th>\n",
       "      <th>street</th>\n",
       "    </tr>\n",
       "  </thead>\n",
       "  <tbody>\n",
       "    <tr>\n",
       "      <th>0</th>\n",
       "      <td>151635</td>\n",
       "      <td>СМЕТАНА</td>\n",
       "      <td>False</td>\n",
       "      <td>кафе</td>\n",
       "      <td>город Москва, улица Егора Абакумова, дом 9</td>\n",
       "      <td>48</td>\n",
       "      <td>улица Егора Абакумова</td>\n",
       "    </tr>\n",
       "    <tr>\n",
       "      <th>1</th>\n",
       "      <td>77874</td>\n",
       "      <td>Родник</td>\n",
       "      <td>False</td>\n",
       "      <td>кафе</td>\n",
       "      <td>город Москва, улица Талалихина, дом 2/1, корпус 1</td>\n",
       "      <td>35</td>\n",
       "      <td>улица Талалихина</td>\n",
       "    </tr>\n",
       "    <tr>\n",
       "      <th>2</th>\n",
       "      <td>24309</td>\n",
       "      <td>Кафе «Академия»</td>\n",
       "      <td>False</td>\n",
       "      <td>кафе</td>\n",
       "      <td>город Москва, Абельмановская улица, дом 6</td>\n",
       "      <td>95</td>\n",
       "      <td>Абельмановская улица</td>\n",
       "    </tr>\n",
       "    <tr>\n",
       "      <th>3</th>\n",
       "      <td>21894</td>\n",
       "      <td>ПИЦЦЕТОРИЯ</td>\n",
       "      <td>True</td>\n",
       "      <td>кафе</td>\n",
       "      <td>город Москва, Абрамцевская улица, дом 1</td>\n",
       "      <td>40</td>\n",
       "      <td>Абрамцевская улица</td>\n",
       "    </tr>\n",
       "    <tr>\n",
       "      <th>4</th>\n",
       "      <td>119365</td>\n",
       "      <td>Кафе «Вишневая метель»</td>\n",
       "      <td>False</td>\n",
       "      <td>кафе</td>\n",
       "      <td>город Москва, Абрамцевская улица, дом 9, корпус 1</td>\n",
       "      <td>50</td>\n",
       "      <td>Абрамцевская улица</td>\n",
       "    </tr>\n",
       "  </tbody>\n",
       "</table>\n",
       "</div>"
      ],
      "text/plain": [
       "       id             object_name  chain object_type  \\\n",
       "0  151635                 СМЕТАНА  False        кафе   \n",
       "1   77874                  Родник  False        кафе   \n",
       "2   24309         Кафе «Академия»  False        кафе   \n",
       "3   21894              ПИЦЦЕТОРИЯ   True        кафе   \n",
       "4  119365  Кафе «Вишневая метель»  False        кафе   \n",
       "\n",
       "                                             address  number  \\\n",
       "0         город Москва, улица Егора Абакумова, дом 9      48   \n",
       "1  город Москва, улица Талалихина, дом 2/1, корпус 1      35   \n",
       "2          город Москва, Абельмановская улица, дом 6      95   \n",
       "3            город Москва, Абрамцевская улица, дом 1      40   \n",
       "4  город Москва, Абрамцевская улица, дом 9, корпус 1      50   \n",
       "\n",
       "                  street  \n",
       "0  улица Егора Абакумова  \n",
       "1       улица Талалихина  \n",
       "2   Абельмановская улица  \n",
       "3     Абрамцевская улица  \n",
       "4     Абрамцевская улица  "
      ]
     },
     "metadata": {},
     "output_type": "display_data"
    }
   ],
   "source": [
    "street_type = ['улица', 'бульвар', 'проспект', 'переулок', 'шоссе', 'проезд', 'набережная', 'площадь', 'аллея', 'линия', 'квартал', 'мост', 'тупик', 'просека']\n",
    "def street_parser (address):\n",
    "    for address_part in address.split(', '):\n",
    "        for types in street_type:\n",
    "            if address_part.lower().find(types)!= -1:\n",
    "                return address_part\n",
    "\n",
    "data['street'] = data['address'].apply(street_parser)\n",
    "\n",
    "data_streets = data[~(data['street'].isnull())]\n",
    "\n",
    "display(data_streets.head(5))"
   ]
  },
  {
   "cell_type": "markdown",
   "metadata": {},
   "source": [
    "Построим график топ-10 улиц по количеству объектов общественного питания. Воспользуемся внешней информацией и ответим на вопрос — в каких районах Москвы находятся эти улицы."
   ]
  },
  {
   "cell_type": "code",
   "execution_count": 15,
   "metadata": {},
   "outputs": [
    {
     "data": {
      "text/html": [
       "<div>\n",
       "<style scoped>\n",
       "    .dataframe tbody tr th:only-of-type {\n",
       "        vertical-align: middle;\n",
       "    }\n",
       "\n",
       "    .dataframe tbody tr th {\n",
       "        vertical-align: top;\n",
       "    }\n",
       "\n",
       "    .dataframe thead th {\n",
       "        text-align: right;\n",
       "    }\n",
       "</style>\n",
       "<table border=\"1\" class=\"dataframe\">\n",
       "  <thead>\n",
       "    <tr style=\"text-align: right;\">\n",
       "      <th></th>\n",
       "      <th>streetname</th>\n",
       "      <th>areaid</th>\n",
       "      <th>okrug</th>\n",
       "      <th>area</th>\n",
       "    </tr>\n",
       "  </thead>\n",
       "  <tbody>\n",
       "    <tr>\n",
       "      <th>0</th>\n",
       "      <td>Выставочный переулок</td>\n",
       "      <td>17</td>\n",
       "      <td>ЦАО</td>\n",
       "      <td>Пресненский район</td>\n",
       "    </tr>\n",
       "    <tr>\n",
       "      <th>1</th>\n",
       "      <td>улица Гашека</td>\n",
       "      <td>17</td>\n",
       "      <td>ЦАО</td>\n",
       "      <td>Пресненский район</td>\n",
       "    </tr>\n",
       "    <tr>\n",
       "      <th>2</th>\n",
       "      <td>Большая Никитская улица</td>\n",
       "      <td>17</td>\n",
       "      <td>ЦАО</td>\n",
       "      <td>Пресненский район</td>\n",
       "    </tr>\n",
       "    <tr>\n",
       "      <th>3</th>\n",
       "      <td>Глубокий переулок</td>\n",
       "      <td>17</td>\n",
       "      <td>ЦАО</td>\n",
       "      <td>Пресненский район</td>\n",
       "    </tr>\n",
       "    <tr>\n",
       "      <th>4</th>\n",
       "      <td>Большой Гнездниковский переулок</td>\n",
       "      <td>17</td>\n",
       "      <td>ЦАО</td>\n",
       "      <td>Пресненский район</td>\n",
       "    </tr>\n",
       "    <tr>\n",
       "      <th>...</th>\n",
       "      <td>...</td>\n",
       "      <td>...</td>\n",
       "      <td>...</td>\n",
       "      <td>...</td>\n",
       "    </tr>\n",
       "    <tr>\n",
       "      <th>4393</th>\n",
       "      <td>Вознесенский проезд</td>\n",
       "      <td>17</td>\n",
       "      <td>ЦАО</td>\n",
       "      <td>Пресненский район</td>\n",
       "    </tr>\n",
       "    <tr>\n",
       "      <th>4394</th>\n",
       "      <td>Волков переулок</td>\n",
       "      <td>17</td>\n",
       "      <td>ЦАО</td>\n",
       "      <td>Пресненский район</td>\n",
       "    </tr>\n",
       "    <tr>\n",
       "      <th>4395</th>\n",
       "      <td>Поварская улица</td>\n",
       "      <td>17</td>\n",
       "      <td>ЦАО</td>\n",
       "      <td>Пресненский район</td>\n",
       "    </tr>\n",
       "    <tr>\n",
       "      <th>4396</th>\n",
       "      <td>Кудринская площадь</td>\n",
       "      <td>17</td>\n",
       "      <td>ЦАО</td>\n",
       "      <td>Пресненский район</td>\n",
       "    </tr>\n",
       "    <tr>\n",
       "      <th>4397</th>\n",
       "      <td>Вспольный переулок</td>\n",
       "      <td>17</td>\n",
       "      <td>ЦАО</td>\n",
       "      <td>Пресненский район</td>\n",
       "    </tr>\n",
       "  </tbody>\n",
       "</table>\n",
       "<p>4398 rows × 4 columns</p>\n",
       "</div>"
      ],
      "text/plain": [
       "                           streetname  areaid okrug               area\n",
       "0                Выставочный переулок      17   ЦАО  Пресненский район\n",
       "1                        улица Гашека      17   ЦАО  Пресненский район\n",
       "2             Большая Никитская улица      17   ЦАО  Пресненский район\n",
       "3                   Глубокий переулок      17   ЦАО  Пресненский район\n",
       "4     Большой Гнездниковский переулок      17   ЦАО  Пресненский район\n",
       "...                               ...     ...   ...                ...\n",
       "4393              Вознесенский проезд      17   ЦАО  Пресненский район\n",
       "4394                  Волков переулок      17   ЦАО  Пресненский район\n",
       "4395                  Поварская улица      17   ЦАО  Пресненский район\n",
       "4396               Кудринская площадь      17   ЦАО  Пресненский район\n",
       "4397               Вспольный переулок      17   ЦАО  Пресненский район\n",
       "\n",
       "[4398 rows x 4 columns]"
      ]
     },
     "metadata": {},
     "output_type": "display_data"
    }
   ],
   "source": [
    "# Подключим внешние данные\n",
    "spreadsheet_id = '1CPDYDGjKCb6jGoQt9KR5WOvTspK-dHS3NUrVeqsyqJs'\n",
    "filename= 'https://docs.google.com/spreadsheets/d/{}/export?format=csv'.format(spreadsheet_id)\n",
    "# filename\n",
    "r = requests.get(filename)\n",
    "district = pd.read_csv(io.BytesIO(r.content))\n",
    "display(district)"
   ]
  },
  {
   "cell_type": "code",
   "execution_count": 17,
   "metadata": {
    "scrolled": false
   },
   "outputs": [
    {
     "name": "stdout",
     "output_type": "stream",
     "text": [
      "Топ-10 улиц с наибольшим количеством заведений:\n",
      "                       street  objects\n",
      "1426           проспект Мира      204\n",
      "1014       Профсоюзная улица      183\n",
      "686   Ленинградский проспект      173\n",
      "997   Пресненская набережная      167\n",
      "399         Варшавское шоссе      165\n",
      "689       Ленинский проспект      148\n",
      "1422    проспект Вернадского      132\n",
      "676     Кутузовский проспект      114\n",
      "599          Каширское шоссе      112\n",
      "606     Кировоградская улица      110\n"
     ]
    },
    {
     "data": {
      "application/vnd.plotly.v1+json": {
       "config": {
        "plotlyServerURL": "https://plot.ly"
       },
       "data": [
        {
         "alignmentgroup": "True",
         "hovertemplate": "street=%{x}<br>objects=%{text}<extra></extra>",
         "legendgroup": "проспект Мира",
         "marker": {
          "color": "#636efa",
          "pattern": {
           "shape": ""
          }
         },
         "name": "проспект Мира",
         "offsetgroup": "проспект Мира",
         "orientation": "v",
         "showlegend": true,
         "text": [
          204
         ],
         "textposition": "auto",
         "type": "bar",
         "x": [
          "проспект Мира"
         ],
         "xaxis": "x",
         "y": [
          204
         ],
         "yaxis": "y"
        },
        {
         "alignmentgroup": "True",
         "hovertemplate": "street=%{x}<br>objects=%{text}<extra></extra>",
         "legendgroup": "Профсоюзная улица",
         "marker": {
          "color": "#EF553B",
          "pattern": {
           "shape": ""
          }
         },
         "name": "Профсоюзная улица",
         "offsetgroup": "Профсоюзная улица",
         "orientation": "v",
         "showlegend": true,
         "text": [
          183
         ],
         "textposition": "auto",
         "type": "bar",
         "x": [
          "Профсоюзная улица"
         ],
         "xaxis": "x",
         "y": [
          183
         ],
         "yaxis": "y"
        },
        {
         "alignmentgroup": "True",
         "hovertemplate": "street=%{x}<br>objects=%{text}<extra></extra>",
         "legendgroup": "Ленинградский проспект",
         "marker": {
          "color": "#00cc96",
          "pattern": {
           "shape": ""
          }
         },
         "name": "Ленинградский проспект",
         "offsetgroup": "Ленинградский проспект",
         "orientation": "v",
         "showlegend": true,
         "text": [
          173
         ],
         "textposition": "auto",
         "type": "bar",
         "x": [
          "Ленинградский проспект"
         ],
         "xaxis": "x",
         "y": [
          173
         ],
         "yaxis": "y"
        },
        {
         "alignmentgroup": "True",
         "hovertemplate": "street=%{x}<br>objects=%{text}<extra></extra>",
         "legendgroup": "Пресненская набережная",
         "marker": {
          "color": "#ab63fa",
          "pattern": {
           "shape": ""
          }
         },
         "name": "Пресненская набережная",
         "offsetgroup": "Пресненская набережная",
         "orientation": "v",
         "showlegend": true,
         "text": [
          167
         ],
         "textposition": "auto",
         "type": "bar",
         "x": [
          "Пресненская набережная"
         ],
         "xaxis": "x",
         "y": [
          167
         ],
         "yaxis": "y"
        },
        {
         "alignmentgroup": "True",
         "hovertemplate": "street=%{x}<br>objects=%{text}<extra></extra>",
         "legendgroup": "Варшавское шоссе",
         "marker": {
          "color": "#FFA15A",
          "pattern": {
           "shape": ""
          }
         },
         "name": "Варшавское шоссе",
         "offsetgroup": "Варшавское шоссе",
         "orientation": "v",
         "showlegend": true,
         "text": [
          165
         ],
         "textposition": "auto",
         "type": "bar",
         "x": [
          "Варшавское шоссе"
         ],
         "xaxis": "x",
         "y": [
          165
         ],
         "yaxis": "y"
        },
        {
         "alignmentgroup": "True",
         "hovertemplate": "street=%{x}<br>objects=%{text}<extra></extra>",
         "legendgroup": "Ленинский проспект",
         "marker": {
          "color": "#19d3f3",
          "pattern": {
           "shape": ""
          }
         },
         "name": "Ленинский проспект",
         "offsetgroup": "Ленинский проспект",
         "orientation": "v",
         "showlegend": true,
         "text": [
          148
         ],
         "textposition": "auto",
         "type": "bar",
         "x": [
          "Ленинский проспект"
         ],
         "xaxis": "x",
         "y": [
          148
         ],
         "yaxis": "y"
        },
        {
         "alignmentgroup": "True",
         "hovertemplate": "street=%{x}<br>objects=%{text}<extra></extra>",
         "legendgroup": "проспект Вернадского",
         "marker": {
          "color": "#FF6692",
          "pattern": {
           "shape": ""
          }
         },
         "name": "проспект Вернадского",
         "offsetgroup": "проспект Вернадского",
         "orientation": "v",
         "showlegend": true,
         "text": [
          132
         ],
         "textposition": "auto",
         "type": "bar",
         "x": [
          "проспект Вернадского"
         ],
         "xaxis": "x",
         "y": [
          132
         ],
         "yaxis": "y"
        },
        {
         "alignmentgroup": "True",
         "hovertemplate": "street=%{x}<br>objects=%{text}<extra></extra>",
         "legendgroup": "Кутузовский проспект",
         "marker": {
          "color": "#B6E880",
          "pattern": {
           "shape": ""
          }
         },
         "name": "Кутузовский проспект",
         "offsetgroup": "Кутузовский проспект",
         "orientation": "v",
         "showlegend": true,
         "text": [
          114
         ],
         "textposition": "auto",
         "type": "bar",
         "x": [
          "Кутузовский проспект"
         ],
         "xaxis": "x",
         "y": [
          114
         ],
         "yaxis": "y"
        },
        {
         "alignmentgroup": "True",
         "hovertemplate": "street=%{x}<br>objects=%{text}<extra></extra>",
         "legendgroup": "Каширское шоссе",
         "marker": {
          "color": "#FF97FF",
          "pattern": {
           "shape": ""
          }
         },
         "name": "Каширское шоссе",
         "offsetgroup": "Каширское шоссе",
         "orientation": "v",
         "showlegend": true,
         "text": [
          112
         ],
         "textposition": "auto",
         "type": "bar",
         "x": [
          "Каширское шоссе"
         ],
         "xaxis": "x",
         "y": [
          112
         ],
         "yaxis": "y"
        },
        {
         "alignmentgroup": "True",
         "hovertemplate": "street=%{x}<br>objects=%{text}<extra></extra>",
         "legendgroup": "Кировоградская улица",
         "marker": {
          "color": "#FECB52",
          "pattern": {
           "shape": ""
          }
         },
         "name": "Кировоградская улица",
         "offsetgroup": "Кировоградская улица",
         "orientation": "v",
         "showlegend": true,
         "text": [
          110
         ],
         "textposition": "auto",
         "type": "bar",
         "x": [
          "Кировоградская улица"
         ],
         "xaxis": "x",
         "y": [
          110
         ],
         "yaxis": "y"
        }
       ],
       "layout": {
        "barmode": "relative",
        "height": 550,
        "legend": {
         "title": {
          "text": "street"
         },
         "tracegroupgap": 0
        },
        "margin": {
         "t": 60
        },
        "template": {
         "data": {
          "bar": [
           {
            "error_x": {
             "color": "#2a3f5f"
            },
            "error_y": {
             "color": "#2a3f5f"
            },
            "marker": {
             "line": {
              "color": "#E5ECF6",
              "width": 0.5
             },
             "pattern": {
              "fillmode": "overlay",
              "size": 10,
              "solidity": 0.2
             }
            },
            "type": "bar"
           }
          ],
          "barpolar": [
           {
            "marker": {
             "line": {
              "color": "#E5ECF6",
              "width": 0.5
             },
             "pattern": {
              "fillmode": "overlay",
              "size": 10,
              "solidity": 0.2
             }
            },
            "type": "barpolar"
           }
          ],
          "carpet": [
           {
            "aaxis": {
             "endlinecolor": "#2a3f5f",
             "gridcolor": "white",
             "linecolor": "white",
             "minorgridcolor": "white",
             "startlinecolor": "#2a3f5f"
            },
            "baxis": {
             "endlinecolor": "#2a3f5f",
             "gridcolor": "white",
             "linecolor": "white",
             "minorgridcolor": "white",
             "startlinecolor": "#2a3f5f"
            },
            "type": "carpet"
           }
          ],
          "choropleth": [
           {
            "colorbar": {
             "outlinewidth": 0,
             "ticks": ""
            },
            "type": "choropleth"
           }
          ],
          "contour": [
           {
            "colorbar": {
             "outlinewidth": 0,
             "ticks": ""
            },
            "colorscale": [
             [
              0,
              "#0d0887"
             ],
             [
              0.1111111111111111,
              "#46039f"
             ],
             [
              0.2222222222222222,
              "#7201a8"
             ],
             [
              0.3333333333333333,
              "#9c179e"
             ],
             [
              0.4444444444444444,
              "#bd3786"
             ],
             [
              0.5555555555555556,
              "#d8576b"
             ],
             [
              0.6666666666666666,
              "#ed7953"
             ],
             [
              0.7777777777777778,
              "#fb9f3a"
             ],
             [
              0.8888888888888888,
              "#fdca26"
             ],
             [
              1,
              "#f0f921"
             ]
            ],
            "type": "contour"
           }
          ],
          "contourcarpet": [
           {
            "colorbar": {
             "outlinewidth": 0,
             "ticks": ""
            },
            "type": "contourcarpet"
           }
          ],
          "heatmap": [
           {
            "colorbar": {
             "outlinewidth": 0,
             "ticks": ""
            },
            "colorscale": [
             [
              0,
              "#0d0887"
             ],
             [
              0.1111111111111111,
              "#46039f"
             ],
             [
              0.2222222222222222,
              "#7201a8"
             ],
             [
              0.3333333333333333,
              "#9c179e"
             ],
             [
              0.4444444444444444,
              "#bd3786"
             ],
             [
              0.5555555555555556,
              "#d8576b"
             ],
             [
              0.6666666666666666,
              "#ed7953"
             ],
             [
              0.7777777777777778,
              "#fb9f3a"
             ],
             [
              0.8888888888888888,
              "#fdca26"
             ],
             [
              1,
              "#f0f921"
             ]
            ],
            "type": "heatmap"
           }
          ],
          "heatmapgl": [
           {
            "colorbar": {
             "outlinewidth": 0,
             "ticks": ""
            },
            "colorscale": [
             [
              0,
              "#0d0887"
             ],
             [
              0.1111111111111111,
              "#46039f"
             ],
             [
              0.2222222222222222,
              "#7201a8"
             ],
             [
              0.3333333333333333,
              "#9c179e"
             ],
             [
              0.4444444444444444,
              "#bd3786"
             ],
             [
              0.5555555555555556,
              "#d8576b"
             ],
             [
              0.6666666666666666,
              "#ed7953"
             ],
             [
              0.7777777777777778,
              "#fb9f3a"
             ],
             [
              0.8888888888888888,
              "#fdca26"
             ],
             [
              1,
              "#f0f921"
             ]
            ],
            "type": "heatmapgl"
           }
          ],
          "histogram": [
           {
            "marker": {
             "pattern": {
              "fillmode": "overlay",
              "size": 10,
              "solidity": 0.2
             }
            },
            "type": "histogram"
           }
          ],
          "histogram2d": [
           {
            "colorbar": {
             "outlinewidth": 0,
             "ticks": ""
            },
            "colorscale": [
             [
              0,
              "#0d0887"
             ],
             [
              0.1111111111111111,
              "#46039f"
             ],
             [
              0.2222222222222222,
              "#7201a8"
             ],
             [
              0.3333333333333333,
              "#9c179e"
             ],
             [
              0.4444444444444444,
              "#bd3786"
             ],
             [
              0.5555555555555556,
              "#d8576b"
             ],
             [
              0.6666666666666666,
              "#ed7953"
             ],
             [
              0.7777777777777778,
              "#fb9f3a"
             ],
             [
              0.8888888888888888,
              "#fdca26"
             ],
             [
              1,
              "#f0f921"
             ]
            ],
            "type": "histogram2d"
           }
          ],
          "histogram2dcontour": [
           {
            "colorbar": {
             "outlinewidth": 0,
             "ticks": ""
            },
            "colorscale": [
             [
              0,
              "#0d0887"
             ],
             [
              0.1111111111111111,
              "#46039f"
             ],
             [
              0.2222222222222222,
              "#7201a8"
             ],
             [
              0.3333333333333333,
              "#9c179e"
             ],
             [
              0.4444444444444444,
              "#bd3786"
             ],
             [
              0.5555555555555556,
              "#d8576b"
             ],
             [
              0.6666666666666666,
              "#ed7953"
             ],
             [
              0.7777777777777778,
              "#fb9f3a"
             ],
             [
              0.8888888888888888,
              "#fdca26"
             ],
             [
              1,
              "#f0f921"
             ]
            ],
            "type": "histogram2dcontour"
           }
          ],
          "mesh3d": [
           {
            "colorbar": {
             "outlinewidth": 0,
             "ticks": ""
            },
            "type": "mesh3d"
           }
          ],
          "parcoords": [
           {
            "line": {
             "colorbar": {
              "outlinewidth": 0,
              "ticks": ""
             }
            },
            "type": "parcoords"
           }
          ],
          "pie": [
           {
            "automargin": true,
            "type": "pie"
           }
          ],
          "scatter": [
           {
            "marker": {
             "colorbar": {
              "outlinewidth": 0,
              "ticks": ""
             }
            },
            "type": "scatter"
           }
          ],
          "scatter3d": [
           {
            "line": {
             "colorbar": {
              "outlinewidth": 0,
              "ticks": ""
             }
            },
            "marker": {
             "colorbar": {
              "outlinewidth": 0,
              "ticks": ""
             }
            },
            "type": "scatter3d"
           }
          ],
          "scattercarpet": [
           {
            "marker": {
             "colorbar": {
              "outlinewidth": 0,
              "ticks": ""
             }
            },
            "type": "scattercarpet"
           }
          ],
          "scattergeo": [
           {
            "marker": {
             "colorbar": {
              "outlinewidth": 0,
              "ticks": ""
             }
            },
            "type": "scattergeo"
           }
          ],
          "scattergl": [
           {
            "marker": {
             "colorbar": {
              "outlinewidth": 0,
              "ticks": ""
             }
            },
            "type": "scattergl"
           }
          ],
          "scattermapbox": [
           {
            "marker": {
             "colorbar": {
              "outlinewidth": 0,
              "ticks": ""
             }
            },
            "type": "scattermapbox"
           }
          ],
          "scatterpolar": [
           {
            "marker": {
             "colorbar": {
              "outlinewidth": 0,
              "ticks": ""
             }
            },
            "type": "scatterpolar"
           }
          ],
          "scatterpolargl": [
           {
            "marker": {
             "colorbar": {
              "outlinewidth": 0,
              "ticks": ""
             }
            },
            "type": "scatterpolargl"
           }
          ],
          "scatterternary": [
           {
            "marker": {
             "colorbar": {
              "outlinewidth": 0,
              "ticks": ""
             }
            },
            "type": "scatterternary"
           }
          ],
          "surface": [
           {
            "colorbar": {
             "outlinewidth": 0,
             "ticks": ""
            },
            "colorscale": [
             [
              0,
              "#0d0887"
             ],
             [
              0.1111111111111111,
              "#46039f"
             ],
             [
              0.2222222222222222,
              "#7201a8"
             ],
             [
              0.3333333333333333,
              "#9c179e"
             ],
             [
              0.4444444444444444,
              "#bd3786"
             ],
             [
              0.5555555555555556,
              "#d8576b"
             ],
             [
              0.6666666666666666,
              "#ed7953"
             ],
             [
              0.7777777777777778,
              "#fb9f3a"
             ],
             [
              0.8888888888888888,
              "#fdca26"
             ],
             [
              1,
              "#f0f921"
             ]
            ],
            "type": "surface"
           }
          ],
          "table": [
           {
            "cells": {
             "fill": {
              "color": "#EBF0F8"
             },
             "line": {
              "color": "white"
             }
            },
            "header": {
             "fill": {
              "color": "#C8D4E3"
             },
             "line": {
              "color": "white"
             }
            },
            "type": "table"
           }
          ]
         },
         "layout": {
          "annotationdefaults": {
           "arrowcolor": "#2a3f5f",
           "arrowhead": 0,
           "arrowwidth": 1
          },
          "autotypenumbers": "strict",
          "coloraxis": {
           "colorbar": {
            "outlinewidth": 0,
            "ticks": ""
           }
          },
          "colorscale": {
           "diverging": [
            [
             0,
             "#8e0152"
            ],
            [
             0.1,
             "#c51b7d"
            ],
            [
             0.2,
             "#de77ae"
            ],
            [
             0.3,
             "#f1b6da"
            ],
            [
             0.4,
             "#fde0ef"
            ],
            [
             0.5,
             "#f7f7f7"
            ],
            [
             0.6,
             "#e6f5d0"
            ],
            [
             0.7,
             "#b8e186"
            ],
            [
             0.8,
             "#7fbc41"
            ],
            [
             0.9,
             "#4d9221"
            ],
            [
             1,
             "#276419"
            ]
           ],
           "sequential": [
            [
             0,
             "#0d0887"
            ],
            [
             0.1111111111111111,
             "#46039f"
            ],
            [
             0.2222222222222222,
             "#7201a8"
            ],
            [
             0.3333333333333333,
             "#9c179e"
            ],
            [
             0.4444444444444444,
             "#bd3786"
            ],
            [
             0.5555555555555556,
             "#d8576b"
            ],
            [
             0.6666666666666666,
             "#ed7953"
            ],
            [
             0.7777777777777778,
             "#fb9f3a"
            ],
            [
             0.8888888888888888,
             "#fdca26"
            ],
            [
             1,
             "#f0f921"
            ]
           ],
           "sequentialminus": [
            [
             0,
             "#0d0887"
            ],
            [
             0.1111111111111111,
             "#46039f"
            ],
            [
             0.2222222222222222,
             "#7201a8"
            ],
            [
             0.3333333333333333,
             "#9c179e"
            ],
            [
             0.4444444444444444,
             "#bd3786"
            ],
            [
             0.5555555555555556,
             "#d8576b"
            ],
            [
             0.6666666666666666,
             "#ed7953"
            ],
            [
             0.7777777777777778,
             "#fb9f3a"
            ],
            [
             0.8888888888888888,
             "#fdca26"
            ],
            [
             1,
             "#f0f921"
            ]
           ]
          },
          "colorway": [
           "#636efa",
           "#EF553B",
           "#00cc96",
           "#ab63fa",
           "#FFA15A",
           "#19d3f3",
           "#FF6692",
           "#B6E880",
           "#FF97FF",
           "#FECB52"
          ],
          "font": {
           "color": "#2a3f5f"
          },
          "geo": {
           "bgcolor": "white",
           "lakecolor": "white",
           "landcolor": "#E5ECF6",
           "showlakes": true,
           "showland": true,
           "subunitcolor": "white"
          },
          "hoverlabel": {
           "align": "left"
          },
          "hovermode": "closest",
          "mapbox": {
           "style": "light"
          },
          "paper_bgcolor": "white",
          "plot_bgcolor": "#E5ECF6",
          "polar": {
           "angularaxis": {
            "gridcolor": "white",
            "linecolor": "white",
            "ticks": ""
           },
           "bgcolor": "#E5ECF6",
           "radialaxis": {
            "gridcolor": "white",
            "linecolor": "white",
            "ticks": ""
           }
          },
          "scene": {
           "xaxis": {
            "backgroundcolor": "#E5ECF6",
            "gridcolor": "white",
            "gridwidth": 2,
            "linecolor": "white",
            "showbackground": true,
            "ticks": "",
            "zerolinecolor": "white"
           },
           "yaxis": {
            "backgroundcolor": "#E5ECF6",
            "gridcolor": "white",
            "gridwidth": 2,
            "linecolor": "white",
            "showbackground": true,
            "ticks": "",
            "zerolinecolor": "white"
           },
           "zaxis": {
            "backgroundcolor": "#E5ECF6",
            "gridcolor": "white",
            "gridwidth": 2,
            "linecolor": "white",
            "showbackground": true,
            "ticks": "",
            "zerolinecolor": "white"
           }
          },
          "shapedefaults": {
           "line": {
            "color": "#2a3f5f"
           }
          },
          "ternary": {
           "aaxis": {
            "gridcolor": "white",
            "linecolor": "white",
            "ticks": ""
           },
           "baxis": {
            "gridcolor": "white",
            "linecolor": "white",
            "ticks": ""
           },
           "bgcolor": "#E5ECF6",
           "caxis": {
            "gridcolor": "white",
            "linecolor": "white",
            "ticks": ""
           }
          },
          "title": {
           "x": 0.05
          },
          "xaxis": {
           "automargin": true,
           "gridcolor": "white",
           "linecolor": "white",
           "ticks": "",
           "title": {
            "standoff": 15
           },
           "zerolinecolor": "white",
           "zerolinewidth": 2
          },
          "yaxis": {
           "automargin": true,
           "gridcolor": "white",
           "linecolor": "white",
           "ticks": "",
           "title": {
            "standoff": 15
           },
           "zerolinecolor": "white",
           "zerolinewidth": 2
          }
         }
        },
        "title": {
         "text": "Топ-10 улиц с наибольшим количеством заведений"
        },
        "width": 900,
        "xaxis": {
         "anchor": "y",
         "categoryarray": [
          "проспект Мира",
          "Профсоюзная улица",
          "Ленинградский проспект",
          "Пресненская набережная",
          "Варшавское шоссе",
          "Ленинский проспект",
          "проспект Вернадского",
          "Кутузовский проспект",
          "Каширское шоссе",
          "Кировоградская улица"
         ],
         "categoryorder": "array",
         "domain": [
          0,
          1
         ],
         "tickangle": 45,
         "title": {
          "text": "Улица"
         }
        },
        "yaxis": {
         "anchor": "x",
         "domain": [
          0,
          1
         ],
         "title": {
          "text": "Количество заведений"
         }
        }
       }
      },
      "text/html": [
       "<div>                            <div id=\"c2c5542e-20a1-4b34-bf37-54df724eb74a\" class=\"plotly-graph-div\" style=\"height:550px; width:900px;\"></div>            <script type=\"text/javascript\">                require([\"plotly\"], function(Plotly) {                    window.PLOTLYENV=window.PLOTLYENV || {};                                    if (document.getElementById(\"c2c5542e-20a1-4b34-bf37-54df724eb74a\")) {                    Plotly.newPlot(                        \"c2c5542e-20a1-4b34-bf37-54df724eb74a\",                        [{\"alignmentgroup\":\"True\",\"hovertemplate\":\"street=%{x}<br>objects=%{text}<extra></extra>\",\"legendgroup\":\"\\u043f\\u0440\\u043e\\u0441\\u043f\\u0435\\u043a\\u0442 \\u041c\\u0438\\u0440\\u0430\",\"marker\":{\"color\":\"#636efa\",\"pattern\":{\"shape\":\"\"}},\"name\":\"\\u043f\\u0440\\u043e\\u0441\\u043f\\u0435\\u043a\\u0442 \\u041c\\u0438\\u0440\\u0430\",\"offsetgroup\":\"\\u043f\\u0440\\u043e\\u0441\\u043f\\u0435\\u043a\\u0442 \\u041c\\u0438\\u0440\\u0430\",\"orientation\":\"v\",\"showlegend\":true,\"text\":[204.0],\"textposition\":\"auto\",\"x\":[\"\\u043f\\u0440\\u043e\\u0441\\u043f\\u0435\\u043a\\u0442 \\u041c\\u0438\\u0440\\u0430\"],\"xaxis\":\"x\",\"y\":[204],\"yaxis\":\"y\",\"type\":\"bar\"},{\"alignmentgroup\":\"True\",\"hovertemplate\":\"street=%{x}<br>objects=%{text}<extra></extra>\",\"legendgroup\":\"\\u041f\\u0440\\u043e\\u0444\\u0441\\u043e\\u044e\\u0437\\u043d\\u0430\\u044f \\u0443\\u043b\\u0438\\u0446\\u0430\",\"marker\":{\"color\":\"#EF553B\",\"pattern\":{\"shape\":\"\"}},\"name\":\"\\u041f\\u0440\\u043e\\u0444\\u0441\\u043e\\u044e\\u0437\\u043d\\u0430\\u044f \\u0443\\u043b\\u0438\\u0446\\u0430\",\"offsetgroup\":\"\\u041f\\u0440\\u043e\\u0444\\u0441\\u043e\\u044e\\u0437\\u043d\\u0430\\u044f \\u0443\\u043b\\u0438\\u0446\\u0430\",\"orientation\":\"v\",\"showlegend\":true,\"text\":[183.0],\"textposition\":\"auto\",\"x\":[\"\\u041f\\u0440\\u043e\\u0444\\u0441\\u043e\\u044e\\u0437\\u043d\\u0430\\u044f \\u0443\\u043b\\u0438\\u0446\\u0430\"],\"xaxis\":\"x\",\"y\":[183],\"yaxis\":\"y\",\"type\":\"bar\"},{\"alignmentgroup\":\"True\",\"hovertemplate\":\"street=%{x}<br>objects=%{text}<extra></extra>\",\"legendgroup\":\"\\u041b\\u0435\\u043d\\u0438\\u043d\\u0433\\u0440\\u0430\\u0434\\u0441\\u043a\\u0438\\u0439 \\u043f\\u0440\\u043e\\u0441\\u043f\\u0435\\u043a\\u0442\",\"marker\":{\"color\":\"#00cc96\",\"pattern\":{\"shape\":\"\"}},\"name\":\"\\u041b\\u0435\\u043d\\u0438\\u043d\\u0433\\u0440\\u0430\\u0434\\u0441\\u043a\\u0438\\u0439 \\u043f\\u0440\\u043e\\u0441\\u043f\\u0435\\u043a\\u0442\",\"offsetgroup\":\"\\u041b\\u0435\\u043d\\u0438\\u043d\\u0433\\u0440\\u0430\\u0434\\u0441\\u043a\\u0438\\u0439 \\u043f\\u0440\\u043e\\u0441\\u043f\\u0435\\u043a\\u0442\",\"orientation\":\"v\",\"showlegend\":true,\"text\":[173.0],\"textposition\":\"auto\",\"x\":[\"\\u041b\\u0435\\u043d\\u0438\\u043d\\u0433\\u0440\\u0430\\u0434\\u0441\\u043a\\u0438\\u0439 \\u043f\\u0440\\u043e\\u0441\\u043f\\u0435\\u043a\\u0442\"],\"xaxis\":\"x\",\"y\":[173],\"yaxis\":\"y\",\"type\":\"bar\"},{\"alignmentgroup\":\"True\",\"hovertemplate\":\"street=%{x}<br>objects=%{text}<extra></extra>\",\"legendgroup\":\"\\u041f\\u0440\\u0435\\u0441\\u043d\\u0435\\u043d\\u0441\\u043a\\u0430\\u044f \\u043d\\u0430\\u0431\\u0435\\u0440\\u0435\\u0436\\u043d\\u0430\\u044f\",\"marker\":{\"color\":\"#ab63fa\",\"pattern\":{\"shape\":\"\"}},\"name\":\"\\u041f\\u0440\\u0435\\u0441\\u043d\\u0435\\u043d\\u0441\\u043a\\u0430\\u044f \\u043d\\u0430\\u0431\\u0435\\u0440\\u0435\\u0436\\u043d\\u0430\\u044f\",\"offsetgroup\":\"\\u041f\\u0440\\u0435\\u0441\\u043d\\u0435\\u043d\\u0441\\u043a\\u0430\\u044f \\u043d\\u0430\\u0431\\u0435\\u0440\\u0435\\u0436\\u043d\\u0430\\u044f\",\"orientation\":\"v\",\"showlegend\":true,\"text\":[167.0],\"textposition\":\"auto\",\"x\":[\"\\u041f\\u0440\\u0435\\u0441\\u043d\\u0435\\u043d\\u0441\\u043a\\u0430\\u044f \\u043d\\u0430\\u0431\\u0435\\u0440\\u0435\\u0436\\u043d\\u0430\\u044f\"],\"xaxis\":\"x\",\"y\":[167],\"yaxis\":\"y\",\"type\":\"bar\"},{\"alignmentgroup\":\"True\",\"hovertemplate\":\"street=%{x}<br>objects=%{text}<extra></extra>\",\"legendgroup\":\"\\u0412\\u0430\\u0440\\u0448\\u0430\\u0432\\u0441\\u043a\\u043e\\u0435 \\u0448\\u043e\\u0441\\u0441\\u0435\",\"marker\":{\"color\":\"#FFA15A\",\"pattern\":{\"shape\":\"\"}},\"name\":\"\\u0412\\u0430\\u0440\\u0448\\u0430\\u0432\\u0441\\u043a\\u043e\\u0435 \\u0448\\u043e\\u0441\\u0441\\u0435\",\"offsetgroup\":\"\\u0412\\u0430\\u0440\\u0448\\u0430\\u0432\\u0441\\u043a\\u043e\\u0435 \\u0448\\u043e\\u0441\\u0441\\u0435\",\"orientation\":\"v\",\"showlegend\":true,\"text\":[165.0],\"textposition\":\"auto\",\"x\":[\"\\u0412\\u0430\\u0440\\u0448\\u0430\\u0432\\u0441\\u043a\\u043e\\u0435 \\u0448\\u043e\\u0441\\u0441\\u0435\"],\"xaxis\":\"x\",\"y\":[165],\"yaxis\":\"y\",\"type\":\"bar\"},{\"alignmentgroup\":\"True\",\"hovertemplate\":\"street=%{x}<br>objects=%{text}<extra></extra>\",\"legendgroup\":\"\\u041b\\u0435\\u043d\\u0438\\u043d\\u0441\\u043a\\u0438\\u0439 \\u043f\\u0440\\u043e\\u0441\\u043f\\u0435\\u043a\\u0442\",\"marker\":{\"color\":\"#19d3f3\",\"pattern\":{\"shape\":\"\"}},\"name\":\"\\u041b\\u0435\\u043d\\u0438\\u043d\\u0441\\u043a\\u0438\\u0439 \\u043f\\u0440\\u043e\\u0441\\u043f\\u0435\\u043a\\u0442\",\"offsetgroup\":\"\\u041b\\u0435\\u043d\\u0438\\u043d\\u0441\\u043a\\u0438\\u0439 \\u043f\\u0440\\u043e\\u0441\\u043f\\u0435\\u043a\\u0442\",\"orientation\":\"v\",\"showlegend\":true,\"text\":[148.0],\"textposition\":\"auto\",\"x\":[\"\\u041b\\u0435\\u043d\\u0438\\u043d\\u0441\\u043a\\u0438\\u0439 \\u043f\\u0440\\u043e\\u0441\\u043f\\u0435\\u043a\\u0442\"],\"xaxis\":\"x\",\"y\":[148],\"yaxis\":\"y\",\"type\":\"bar\"},{\"alignmentgroup\":\"True\",\"hovertemplate\":\"street=%{x}<br>objects=%{text}<extra></extra>\",\"legendgroup\":\"\\u043f\\u0440\\u043e\\u0441\\u043f\\u0435\\u043a\\u0442 \\u0412\\u0435\\u0440\\u043d\\u0430\\u0434\\u0441\\u043a\\u043e\\u0433\\u043e\",\"marker\":{\"color\":\"#FF6692\",\"pattern\":{\"shape\":\"\"}},\"name\":\"\\u043f\\u0440\\u043e\\u0441\\u043f\\u0435\\u043a\\u0442 \\u0412\\u0435\\u0440\\u043d\\u0430\\u0434\\u0441\\u043a\\u043e\\u0433\\u043e\",\"offsetgroup\":\"\\u043f\\u0440\\u043e\\u0441\\u043f\\u0435\\u043a\\u0442 \\u0412\\u0435\\u0440\\u043d\\u0430\\u0434\\u0441\\u043a\\u043e\\u0433\\u043e\",\"orientation\":\"v\",\"showlegend\":true,\"text\":[132.0],\"textposition\":\"auto\",\"x\":[\"\\u043f\\u0440\\u043e\\u0441\\u043f\\u0435\\u043a\\u0442 \\u0412\\u0435\\u0440\\u043d\\u0430\\u0434\\u0441\\u043a\\u043e\\u0433\\u043e\"],\"xaxis\":\"x\",\"y\":[132],\"yaxis\":\"y\",\"type\":\"bar\"},{\"alignmentgroup\":\"True\",\"hovertemplate\":\"street=%{x}<br>objects=%{text}<extra></extra>\",\"legendgroup\":\"\\u041a\\u0443\\u0442\\u0443\\u0437\\u043e\\u0432\\u0441\\u043a\\u0438\\u0439 \\u043f\\u0440\\u043e\\u0441\\u043f\\u0435\\u043a\\u0442\",\"marker\":{\"color\":\"#B6E880\",\"pattern\":{\"shape\":\"\"}},\"name\":\"\\u041a\\u0443\\u0442\\u0443\\u0437\\u043e\\u0432\\u0441\\u043a\\u0438\\u0439 \\u043f\\u0440\\u043e\\u0441\\u043f\\u0435\\u043a\\u0442\",\"offsetgroup\":\"\\u041a\\u0443\\u0442\\u0443\\u0437\\u043e\\u0432\\u0441\\u043a\\u0438\\u0439 \\u043f\\u0440\\u043e\\u0441\\u043f\\u0435\\u043a\\u0442\",\"orientation\":\"v\",\"showlegend\":true,\"text\":[114.0],\"textposition\":\"auto\",\"x\":[\"\\u041a\\u0443\\u0442\\u0443\\u0437\\u043e\\u0432\\u0441\\u043a\\u0438\\u0439 \\u043f\\u0440\\u043e\\u0441\\u043f\\u0435\\u043a\\u0442\"],\"xaxis\":\"x\",\"y\":[114],\"yaxis\":\"y\",\"type\":\"bar\"},{\"alignmentgroup\":\"True\",\"hovertemplate\":\"street=%{x}<br>objects=%{text}<extra></extra>\",\"legendgroup\":\"\\u041a\\u0430\\u0448\\u0438\\u0440\\u0441\\u043a\\u043e\\u0435 \\u0448\\u043e\\u0441\\u0441\\u0435\",\"marker\":{\"color\":\"#FF97FF\",\"pattern\":{\"shape\":\"\"}},\"name\":\"\\u041a\\u0430\\u0448\\u0438\\u0440\\u0441\\u043a\\u043e\\u0435 \\u0448\\u043e\\u0441\\u0441\\u0435\",\"offsetgroup\":\"\\u041a\\u0430\\u0448\\u0438\\u0440\\u0441\\u043a\\u043e\\u0435 \\u0448\\u043e\\u0441\\u0441\\u0435\",\"orientation\":\"v\",\"showlegend\":true,\"text\":[112.0],\"textposition\":\"auto\",\"x\":[\"\\u041a\\u0430\\u0448\\u0438\\u0440\\u0441\\u043a\\u043e\\u0435 \\u0448\\u043e\\u0441\\u0441\\u0435\"],\"xaxis\":\"x\",\"y\":[112],\"yaxis\":\"y\",\"type\":\"bar\"},{\"alignmentgroup\":\"True\",\"hovertemplate\":\"street=%{x}<br>objects=%{text}<extra></extra>\",\"legendgroup\":\"\\u041a\\u0438\\u0440\\u043e\\u0432\\u043e\\u0433\\u0440\\u0430\\u0434\\u0441\\u043a\\u0430\\u044f \\u0443\\u043b\\u0438\\u0446\\u0430\",\"marker\":{\"color\":\"#FECB52\",\"pattern\":{\"shape\":\"\"}},\"name\":\"\\u041a\\u0438\\u0440\\u043e\\u0432\\u043e\\u0433\\u0440\\u0430\\u0434\\u0441\\u043a\\u0430\\u044f \\u0443\\u043b\\u0438\\u0446\\u0430\",\"offsetgroup\":\"\\u041a\\u0438\\u0440\\u043e\\u0432\\u043e\\u0433\\u0440\\u0430\\u0434\\u0441\\u043a\\u0430\\u044f \\u0443\\u043b\\u0438\\u0446\\u0430\",\"orientation\":\"v\",\"showlegend\":true,\"text\":[110.0],\"textposition\":\"auto\",\"x\":[\"\\u041a\\u0438\\u0440\\u043e\\u0432\\u043e\\u0433\\u0440\\u0430\\u0434\\u0441\\u043a\\u0430\\u044f \\u0443\\u043b\\u0438\\u0446\\u0430\"],\"xaxis\":\"x\",\"y\":[110],\"yaxis\":\"y\",\"type\":\"bar\"}],                        {\"template\":{\"data\":{\"bar\":[{\"error_x\":{\"color\":\"#2a3f5f\"},\"error_y\":{\"color\":\"#2a3f5f\"},\"marker\":{\"line\":{\"color\":\"#E5ECF6\",\"width\":0.5},\"pattern\":{\"fillmode\":\"overlay\",\"size\":10,\"solidity\":0.2}},\"type\":\"bar\"}],\"barpolar\":[{\"marker\":{\"line\":{\"color\":\"#E5ECF6\",\"width\":0.5},\"pattern\":{\"fillmode\":\"overlay\",\"size\":10,\"solidity\":0.2}},\"type\":\"barpolar\"}],\"carpet\":[{\"aaxis\":{\"endlinecolor\":\"#2a3f5f\",\"gridcolor\":\"white\",\"linecolor\":\"white\",\"minorgridcolor\":\"white\",\"startlinecolor\":\"#2a3f5f\"},\"baxis\":{\"endlinecolor\":\"#2a3f5f\",\"gridcolor\":\"white\",\"linecolor\":\"white\",\"minorgridcolor\":\"white\",\"startlinecolor\":\"#2a3f5f\"},\"type\":\"carpet\"}],\"choropleth\":[{\"colorbar\":{\"outlinewidth\":0,\"ticks\":\"\"},\"type\":\"choropleth\"}],\"contour\":[{\"colorbar\":{\"outlinewidth\":0,\"ticks\":\"\"},\"colorscale\":[[0.0,\"#0d0887\"],[0.1111111111111111,\"#46039f\"],[0.2222222222222222,\"#7201a8\"],[0.3333333333333333,\"#9c179e\"],[0.4444444444444444,\"#bd3786\"],[0.5555555555555556,\"#d8576b\"],[0.6666666666666666,\"#ed7953\"],[0.7777777777777778,\"#fb9f3a\"],[0.8888888888888888,\"#fdca26\"],[1.0,\"#f0f921\"]],\"type\":\"contour\"}],\"contourcarpet\":[{\"colorbar\":{\"outlinewidth\":0,\"ticks\":\"\"},\"type\":\"contourcarpet\"}],\"heatmap\":[{\"colorbar\":{\"outlinewidth\":0,\"ticks\":\"\"},\"colorscale\":[[0.0,\"#0d0887\"],[0.1111111111111111,\"#46039f\"],[0.2222222222222222,\"#7201a8\"],[0.3333333333333333,\"#9c179e\"],[0.4444444444444444,\"#bd3786\"],[0.5555555555555556,\"#d8576b\"],[0.6666666666666666,\"#ed7953\"],[0.7777777777777778,\"#fb9f3a\"],[0.8888888888888888,\"#fdca26\"],[1.0,\"#f0f921\"]],\"type\":\"heatmap\"}],\"heatmapgl\":[{\"colorbar\":{\"outlinewidth\":0,\"ticks\":\"\"},\"colorscale\":[[0.0,\"#0d0887\"],[0.1111111111111111,\"#46039f\"],[0.2222222222222222,\"#7201a8\"],[0.3333333333333333,\"#9c179e\"],[0.4444444444444444,\"#bd3786\"],[0.5555555555555556,\"#d8576b\"],[0.6666666666666666,\"#ed7953\"],[0.7777777777777778,\"#fb9f3a\"],[0.8888888888888888,\"#fdca26\"],[1.0,\"#f0f921\"]],\"type\":\"heatmapgl\"}],\"histogram\":[{\"marker\":{\"pattern\":{\"fillmode\":\"overlay\",\"size\":10,\"solidity\":0.2}},\"type\":\"histogram\"}],\"histogram2d\":[{\"colorbar\":{\"outlinewidth\":0,\"ticks\":\"\"},\"colorscale\":[[0.0,\"#0d0887\"],[0.1111111111111111,\"#46039f\"],[0.2222222222222222,\"#7201a8\"],[0.3333333333333333,\"#9c179e\"],[0.4444444444444444,\"#bd3786\"],[0.5555555555555556,\"#d8576b\"],[0.6666666666666666,\"#ed7953\"],[0.7777777777777778,\"#fb9f3a\"],[0.8888888888888888,\"#fdca26\"],[1.0,\"#f0f921\"]],\"type\":\"histogram2d\"}],\"histogram2dcontour\":[{\"colorbar\":{\"outlinewidth\":0,\"ticks\":\"\"},\"colorscale\":[[0.0,\"#0d0887\"],[0.1111111111111111,\"#46039f\"],[0.2222222222222222,\"#7201a8\"],[0.3333333333333333,\"#9c179e\"],[0.4444444444444444,\"#bd3786\"],[0.5555555555555556,\"#d8576b\"],[0.6666666666666666,\"#ed7953\"],[0.7777777777777778,\"#fb9f3a\"],[0.8888888888888888,\"#fdca26\"],[1.0,\"#f0f921\"]],\"type\":\"histogram2dcontour\"}],\"mesh3d\":[{\"colorbar\":{\"outlinewidth\":0,\"ticks\":\"\"},\"type\":\"mesh3d\"}],\"parcoords\":[{\"line\":{\"colorbar\":{\"outlinewidth\":0,\"ticks\":\"\"}},\"type\":\"parcoords\"}],\"pie\":[{\"automargin\":true,\"type\":\"pie\"}],\"scatter\":[{\"marker\":{\"colorbar\":{\"outlinewidth\":0,\"ticks\":\"\"}},\"type\":\"scatter\"}],\"scatter3d\":[{\"line\":{\"colorbar\":{\"outlinewidth\":0,\"ticks\":\"\"}},\"marker\":{\"colorbar\":{\"outlinewidth\":0,\"ticks\":\"\"}},\"type\":\"scatter3d\"}],\"scattercarpet\":[{\"marker\":{\"colorbar\":{\"outlinewidth\":0,\"ticks\":\"\"}},\"type\":\"scattercarpet\"}],\"scattergeo\":[{\"marker\":{\"colorbar\":{\"outlinewidth\":0,\"ticks\":\"\"}},\"type\":\"scattergeo\"}],\"scattergl\":[{\"marker\":{\"colorbar\":{\"outlinewidth\":0,\"ticks\":\"\"}},\"type\":\"scattergl\"}],\"scattermapbox\":[{\"marker\":{\"colorbar\":{\"outlinewidth\":0,\"ticks\":\"\"}},\"type\":\"scattermapbox\"}],\"scatterpolar\":[{\"marker\":{\"colorbar\":{\"outlinewidth\":0,\"ticks\":\"\"}},\"type\":\"scatterpolar\"}],\"scatterpolargl\":[{\"marker\":{\"colorbar\":{\"outlinewidth\":0,\"ticks\":\"\"}},\"type\":\"scatterpolargl\"}],\"scatterternary\":[{\"marker\":{\"colorbar\":{\"outlinewidth\":0,\"ticks\":\"\"}},\"type\":\"scatterternary\"}],\"surface\":[{\"colorbar\":{\"outlinewidth\":0,\"ticks\":\"\"},\"colorscale\":[[0.0,\"#0d0887\"],[0.1111111111111111,\"#46039f\"],[0.2222222222222222,\"#7201a8\"],[0.3333333333333333,\"#9c179e\"],[0.4444444444444444,\"#bd3786\"],[0.5555555555555556,\"#d8576b\"],[0.6666666666666666,\"#ed7953\"],[0.7777777777777778,\"#fb9f3a\"],[0.8888888888888888,\"#fdca26\"],[1.0,\"#f0f921\"]],\"type\":\"surface\"}],\"table\":[{\"cells\":{\"fill\":{\"color\":\"#EBF0F8\"},\"line\":{\"color\":\"white\"}},\"header\":{\"fill\":{\"color\":\"#C8D4E3\"},\"line\":{\"color\":\"white\"}},\"type\":\"table\"}]},\"layout\":{\"annotationdefaults\":{\"arrowcolor\":\"#2a3f5f\",\"arrowhead\":0,\"arrowwidth\":1},\"autotypenumbers\":\"strict\",\"coloraxis\":{\"colorbar\":{\"outlinewidth\":0,\"ticks\":\"\"}},\"colorscale\":{\"diverging\":[[0,\"#8e0152\"],[0.1,\"#c51b7d\"],[0.2,\"#de77ae\"],[0.3,\"#f1b6da\"],[0.4,\"#fde0ef\"],[0.5,\"#f7f7f7\"],[0.6,\"#e6f5d0\"],[0.7,\"#b8e186\"],[0.8,\"#7fbc41\"],[0.9,\"#4d9221\"],[1,\"#276419\"]],\"sequential\":[[0.0,\"#0d0887\"],[0.1111111111111111,\"#46039f\"],[0.2222222222222222,\"#7201a8\"],[0.3333333333333333,\"#9c179e\"],[0.4444444444444444,\"#bd3786\"],[0.5555555555555556,\"#d8576b\"],[0.6666666666666666,\"#ed7953\"],[0.7777777777777778,\"#fb9f3a\"],[0.8888888888888888,\"#fdca26\"],[1.0,\"#f0f921\"]],\"sequentialminus\":[[0.0,\"#0d0887\"],[0.1111111111111111,\"#46039f\"],[0.2222222222222222,\"#7201a8\"],[0.3333333333333333,\"#9c179e\"],[0.4444444444444444,\"#bd3786\"],[0.5555555555555556,\"#d8576b\"],[0.6666666666666666,\"#ed7953\"],[0.7777777777777778,\"#fb9f3a\"],[0.8888888888888888,\"#fdca26\"],[1.0,\"#f0f921\"]]},\"colorway\":[\"#636efa\",\"#EF553B\",\"#00cc96\",\"#ab63fa\",\"#FFA15A\",\"#19d3f3\",\"#FF6692\",\"#B6E880\",\"#FF97FF\",\"#FECB52\"],\"font\":{\"color\":\"#2a3f5f\"},\"geo\":{\"bgcolor\":\"white\",\"lakecolor\":\"white\",\"landcolor\":\"#E5ECF6\",\"showlakes\":true,\"showland\":true,\"subunitcolor\":\"white\"},\"hoverlabel\":{\"align\":\"left\"},\"hovermode\":\"closest\",\"mapbox\":{\"style\":\"light\"},\"paper_bgcolor\":\"white\",\"plot_bgcolor\":\"#E5ECF6\",\"polar\":{\"angularaxis\":{\"gridcolor\":\"white\",\"linecolor\":\"white\",\"ticks\":\"\"},\"bgcolor\":\"#E5ECF6\",\"radialaxis\":{\"gridcolor\":\"white\",\"linecolor\":\"white\",\"ticks\":\"\"}},\"scene\":{\"xaxis\":{\"backgroundcolor\":\"#E5ECF6\",\"gridcolor\":\"white\",\"gridwidth\":2,\"linecolor\":\"white\",\"showbackground\":true,\"ticks\":\"\",\"zerolinecolor\":\"white\"},\"yaxis\":{\"backgroundcolor\":\"#E5ECF6\",\"gridcolor\":\"white\",\"gridwidth\":2,\"linecolor\":\"white\",\"showbackground\":true,\"ticks\":\"\",\"zerolinecolor\":\"white\"},\"zaxis\":{\"backgroundcolor\":\"#E5ECF6\",\"gridcolor\":\"white\",\"gridwidth\":2,\"linecolor\":\"white\",\"showbackground\":true,\"ticks\":\"\",\"zerolinecolor\":\"white\"}},\"shapedefaults\":{\"line\":{\"color\":\"#2a3f5f\"}},\"ternary\":{\"aaxis\":{\"gridcolor\":\"white\",\"linecolor\":\"white\",\"ticks\":\"\"},\"baxis\":{\"gridcolor\":\"white\",\"linecolor\":\"white\",\"ticks\":\"\"},\"bgcolor\":\"#E5ECF6\",\"caxis\":{\"gridcolor\":\"white\",\"linecolor\":\"white\",\"ticks\":\"\"}},\"title\":{\"x\":0.05},\"xaxis\":{\"automargin\":true,\"gridcolor\":\"white\",\"linecolor\":\"white\",\"ticks\":\"\",\"title\":{\"standoff\":15},\"zerolinecolor\":\"white\",\"zerolinewidth\":2},\"yaxis\":{\"automargin\":true,\"gridcolor\":\"white\",\"linecolor\":\"white\",\"ticks\":\"\",\"title\":{\"standoff\":15},\"zerolinecolor\":\"white\",\"zerolinewidth\":2}}},\"xaxis\":{\"anchor\":\"y\",\"domain\":[0.0,1.0],\"title\":{\"text\":\"\\u0423\\u043b\\u0438\\u0446\\u0430\"},\"categoryorder\":\"array\",\"categoryarray\":[\"\\u043f\\u0440\\u043e\\u0441\\u043f\\u0435\\u043a\\u0442 \\u041c\\u0438\\u0440\\u0430\",\"\\u041f\\u0440\\u043e\\u0444\\u0441\\u043e\\u044e\\u0437\\u043d\\u0430\\u044f \\u0443\\u043b\\u0438\\u0446\\u0430\",\"\\u041b\\u0435\\u043d\\u0438\\u043d\\u0433\\u0440\\u0430\\u0434\\u0441\\u043a\\u0438\\u0439 \\u043f\\u0440\\u043e\\u0441\\u043f\\u0435\\u043a\\u0442\",\"\\u041f\\u0440\\u0435\\u0441\\u043d\\u0435\\u043d\\u0441\\u043a\\u0430\\u044f \\u043d\\u0430\\u0431\\u0435\\u0440\\u0435\\u0436\\u043d\\u0430\\u044f\",\"\\u0412\\u0430\\u0440\\u0448\\u0430\\u0432\\u0441\\u043a\\u043e\\u0435 \\u0448\\u043e\\u0441\\u0441\\u0435\",\"\\u041b\\u0435\\u043d\\u0438\\u043d\\u0441\\u043a\\u0438\\u0439 \\u043f\\u0440\\u043e\\u0441\\u043f\\u0435\\u043a\\u0442\",\"\\u043f\\u0440\\u043e\\u0441\\u043f\\u0435\\u043a\\u0442 \\u0412\\u0435\\u0440\\u043d\\u0430\\u0434\\u0441\\u043a\\u043e\\u0433\\u043e\",\"\\u041a\\u0443\\u0442\\u0443\\u0437\\u043e\\u0432\\u0441\\u043a\\u0438\\u0439 \\u043f\\u0440\\u043e\\u0441\\u043f\\u0435\\u043a\\u0442\",\"\\u041a\\u0430\\u0448\\u0438\\u0440\\u0441\\u043a\\u043e\\u0435 \\u0448\\u043e\\u0441\\u0441\\u0435\",\"\\u041a\\u0438\\u0440\\u043e\\u0432\\u043e\\u0433\\u0440\\u0430\\u0434\\u0441\\u043a\\u0430\\u044f \\u0443\\u043b\\u0438\\u0446\\u0430\"],\"tickangle\":45},\"yaxis\":{\"anchor\":\"x\",\"domain\":[0.0,1.0],\"title\":{\"text\":\"\\u041a\\u043e\\u043b\\u0438\\u0447\\u0435\\u0441\\u0442\\u0432\\u043e \\u0437\\u0430\\u0432\\u0435\\u0434\\u0435\\u043d\\u0438\\u0439\"}},\"legend\":{\"title\":{\"text\":\"street\"},\"tracegroupgap\":0},\"margin\":{\"t\":60},\"barmode\":\"relative\",\"height\":550,\"width\":900,\"title\":{\"text\":\"\\u0422\\u043e\\u043f-10 \\u0443\\u043b\\u0438\\u0446 \\u0441 \\u043d\\u0430\\u0438\\u0431\\u043e\\u043b\\u044c\\u0448\\u0438\\u043c \\u043a\\u043e\\u043b\\u0438\\u0447\\u0435\\u0441\\u0442\\u0432\\u043e\\u043c \\u0437\\u0430\\u0432\\u0435\\u0434\\u0435\\u043d\\u0438\\u0439\"}},                        {\"responsive\": true}                    ).then(function(){\n",
       "                            \n",
       "var gd = document.getElementById('c2c5542e-20a1-4b34-bf37-54df724eb74a');\n",
       "var x = new MutationObserver(function (mutations, observer) {{\n",
       "        var display = window.getComputedStyle(gd).display;\n",
       "        if (!display || display === 'none') {{\n",
       "            console.log([gd, 'removed!']);\n",
       "            Plotly.purge(gd);\n",
       "            observer.disconnect();\n",
       "        }}\n",
       "}});\n",
       "\n",
       "// Listen for the removal of the full notebook cells\n",
       "var notebookContainer = gd.closest('#notebook-container');\n",
       "if (notebookContainer) {{\n",
       "    x.observe(notebookContainer, {childList: true});\n",
       "}}\n",
       "\n",
       "// Listen for the clearing of the current output cell\n",
       "var outputEl = gd.closest('.output');\n",
       "if (outputEl) {{\n",
       "    x.observe(outputEl, {childList: true});\n",
       "}}\n",
       "\n",
       "                        })                };                });            </script>        </div>"
      ]
     },
     "metadata": {},
     "output_type": "display_data"
    },
    {
     "name": "stdout",
     "output_type": "stream",
     "text": [
      "\n",
      "\n",
      "проспект Мира находится в:\n",
      "- Алексеевский район\n",
      "- Ярославский Район\n",
      "- Район Марьина роща\n",
      "- Останкинский район\n",
      "- Район Ростокино\n",
      "- Район Свиблово\n",
      "- Мещанский район\n",
      "\n",
      "Профсоюзная улица находится в:\n",
      "- Академический район\n",
      "- Район Черемушки\n",
      "- Район Ясенево\n",
      "- Район Коньково\n",
      "- Обручевский район\n",
      "- Район Теплый Стан\n",
      "\n",
      "Ленинградский проспект находится в:\n",
      "- Район Аэропорт\n",
      "- Район Беговой\n",
      "- Хорошевский район\n",
      "- Район Сокол\n",
      "\n",
      "Пресненская набережная находится в:\n",
      "- Пресненский район\n",
      "\n",
      "Варшавское шоссе находится в:\n",
      "- Район Чертаново Центральное\n",
      "- Район Чертаново Северное\n",
      "- Район Чертаново Южное\n",
      "- Донской район\n",
      "- Район Нагатино-Садовники\n",
      "- Нагорный район\n",
      "- Район Северное Бутово\n",
      "- Район Южное Бутово\n",
      "\n",
      "Ленинский проспект находится в:\n",
      "- Район Проспект Вернадского\n",
      "- Район Тропарево-Никулино\n",
      "- Донской район\n",
      "- Район Гагаринский\n",
      "- Ломоносовский район\n",
      "- Обручевский район\n",
      "- Район Теплый Стан\n",
      "- Район Якиманка\n",
      "\n",
      "проспект Вернадского находится в:\n",
      "- Район Проспект Вернадского\n",
      "- Район Раменки\n",
      "- Район Тропарево-Никулино\n",
      "- Район Гагаринский\n",
      "- Ломоносовский район\n",
      "\n",
      "Кутузовский проспект находится в:\n",
      "- Район Дорогомилово\n",
      "- Район Фили-Давыдково\n",
      "\n",
      "Каширское шоссе находится в:\n",
      "- Район Москворечье-Сабурово\n",
      "- Район Нагатино-Садовники\n",
      "- Район Орехово-Борисово Южное\n",
      "- Район Орехово-Борисово Северное\n",
      "\n",
      "Кировоградская улица находится в:\n",
      "- Район Чертаново Центральное\n",
      "- Район Чертаново Северное\n",
      "- Район Чертаново Южное\n",
      "\n"
     ]
    }
   ],
   "source": [
    "top_streets = data_streets.groupby('street', as_index=False).agg({'object_name':'count'})\n",
    "top_streets.columns = ['street', 'objects']\n",
    "top_streets = top_streets.sort_values(by='objects', ascending = False)\n",
    "top10_streets = top_streets.head(10)\n",
    "print('Топ-10 улиц с наибольшим количеством заведений:\\n', top10_streets)\n",
    "\n",
    "fig = px.bar(top10_streets, x='street', y='objects', \n",
    "             color='street', width = 900, height = 550, text='objects')\n",
    "fig.update_xaxes(tickangle=45)\n",
    "fig.update_layout(\n",
    "    title='Топ-10 улиц с наибольшим количеством заведений',\n",
    "    xaxis_title=\"Улица\",\n",
    "    yaxis_title=\"Количество заведений\")\n",
    "for trace in fig.data:\n",
    "    trace.name = trace.name.split('=')[0]\n",
    "fig.show()\n",
    "\n",
    "\n",
    "top10_streets_merged = top10_streets.merge(district[['streetname', 'okrug', 'area']], left_on='street', right_on='streetname')\n",
    "streets = pd.DataFrame(data=top10_streets_merged['street'].unique(), columns=['street'])\n",
    "\n",
    "def areas(row, data):\n",
    "    result = data[data['street']==row['street']]['area'].to_list()\n",
    "    return result\n",
    "top10_streets['areas'] = top10_streets.apply(areas, args=[top10_streets_merged], axis=1)\n",
    "print('\\n')\n",
    "for street, areas in zip(top10_streets['street'], top10_streets['areas']):\n",
    "    print('{} находится в:'.format(street))   \n",
    "    for area in areas:\n",
    "        numeric=1\n",
    "        print('-', area)\n",
    "    print('')    "
   ]
  },
  {
   "cell_type": "markdown",
   "metadata": {},
   "source": [
    "Найдем число улиц с одним объектом общественного питания. Воспользуемся внешней информацией и ответим на вопрос — в каких районах Москвы находятся эти улицы."
   ]
  },
  {
   "cell_type": "code",
   "execution_count": 18,
   "metadata": {
    "scrolled": false
   },
   "outputs": [
    {
     "name": "stdout",
     "output_type": "stream",
     "text": [
      "Всего улиц с 1 объектом общественного питания: 551, что составляет 28.9% от всего кол-ва улиц с объектами общественного питания\n",
      "\n",
      "\n",
      "Районы, в которых находятся улицы с 1 объектом общественного питания:\n",
      "- Алексеевский район\n",
      "- Алтуфьевский район\n",
      "- Бабушкинский район\n",
      "- Басманный район\n",
      "- Бескудниковский Район\n",
      "- Бутырский район\n",
      "- Войковский Район\n",
      "- Головинский район\n",
      "- Даниловский район\n",
      "- Дмитровский район\n",
      "- Донской район\n",
      "- Красносельский район\n",
      "- Лосиноостровский район\n",
      "- Мещанский район\n",
      "- Можайский Район\n",
      "- Молжаниновский район\n",
      "- Нагорный район\n",
      "- Нижегородский район\n",
      "- Обручевский район\n",
      "- Останкинский район\n",
      "- Панфиловский район\n",
      "- Пресненский район\n",
      "- Район Арбат\n",
      "- Район Аэропорт\n",
      "- Район Беговой\n",
      "- Район Бирюлево Восточное\n",
      "- Район Богородское\n",
      "- Район Внуково\n",
      "- Район Восточное Измайлово\n",
      "- Район Восточный\n",
      "- Район Выхино-Жулебино\n",
      "- Район Гагаринский\n",
      "- Район Гольяново\n",
      "- Район Дорогомилово\n",
      "- Район Замоскворечье\n",
      "- Район Западное Дегунино\n",
      "- Район Зюзино\n",
      "- Район Ивановское\n",
      "- Район Измайлово\n",
      "- Район Коньково\n",
      "- Район Коптево\n",
      "- Район Косино-Ухтомский\n",
      "- Район Котловка\n",
      "- Район Крюково\n",
      "- Район Кузьминки\n",
      "- Район Кунцево\n",
      "- Район Куркино\n",
      "- Район Левобережный\n",
      "- Район Лефортово\n",
      "- Район Лианозово\n",
      "- Район Люблино\n",
      "- Район Марфино\n",
      "- Район Марьина роща\n",
      "- Район Марьино\n",
      "- Район Матушкино-Савелки\n",
      "- Район Метрогородок\n",
      "- Район Митино\n",
      "- Район Москворечье-Сабурово\n",
      "- Район Ново-Переделкино\n",
      "- Район Новогиреево\n",
      "- Район Отрадное\n",
      "- Район Очаково-Матвеевское\n",
      "- Район Перово\n",
      "- Район Печатники\n",
      "- Район Покровское-Стрешнево\n",
      "- Район Преображенское\n",
      "- Район Раменки\n",
      "- Район Ростокино\n",
      "- Район Свиблово\n",
      "- Район Северное Бутово\n",
      "- Район Северное Измайлово\n",
      "- Район Северное Медведково\n",
      "- Район Северный\n",
      "- Район Сокол\n",
      "- Район Соколиная Гора\n",
      "- Район Сокольники\n",
      "- Район Солнцево\n",
      "- Район Строгино\n",
      "- Район Текстильщики\n",
      "- Район Филевский Парк\n",
      "- Район Фили-Давыдково\n",
      "- Район Хамовники\n",
      "- Район Хорошево-Мневники\n",
      "- Район Царицыно\n",
      "- Район Черемушки\n",
      "- Район Чертаново Северное\n",
      "- Район Чертаново Южное\n",
      "- Район Щукино\n",
      "- Район Южное Бутово\n",
      "- Район Южное Медведково\n",
      "- Район Южное Тушино\n",
      "- Район Якиманка\n",
      "- Район Ясенево\n",
      "- Рязанский район\n",
      "- Савеловский район\n",
      "- Таганский район\n",
      "- Тверской район\n",
      "- Тимирязевский Район\n",
      "- Хорошевский район\n",
      "- Южнопортовый Район\n",
      "- Ярославский Район\n"
     ]
    }
   ],
   "source": [
    "streets_with_1_object = top_streets[top_streets['objects']==1]\n",
    "print('Всего улиц с 1 объектом общественного питания: {}, что составляет {:.1%} от всего кол-ва улиц с объектами общественного питания'\\\n",
    "      .format(len(streets_with_1_object), (len(streets_with_1_object)/len(top_streets))))\n",
    "\n",
    "streets_with_1_object_merged = streets_with_1_object.merge(district[['streetname', 'okrug', 'area']], left_on='street', right_on='streetname')\n",
    "\n",
    "def areas(row, data):\n",
    "    result = data[data['street']==row['street']]['area'].to_list()\n",
    "    return result\n",
    "streets_with_1_object['areas'] = streets_with_1_object.apply(areas, args=[streets_with_1_object_merged], axis=1)\n",
    "print('\\n')\n",
    "\n",
    "print('Районы, в которых находятся улицы с 1 объектом общественного питания:')\n",
    "for area in streets_with_1_object_merged['area'].sort_values().unique():\n",
    "    print('-', area)"
   ]
  },
  {
   "cell_type": "markdown",
   "metadata": {},
   "source": [
    "Посмотрим на распределение количества посадочных мест для улиц с большим количеством объектов общественного питания. Выявим закономерности."
   ]
  },
  {
   "cell_type": "code",
   "execution_count": 19,
   "metadata": {
    "scrolled": false
   },
   "outputs": [
    {
     "data": {
      "image/png": "[encoded data removed]",
      "text/plain": [
       "<Figure size 1080x648 with 1 Axes>"
      ]
     },
     "metadata": {},
     "output_type": "display_data"
    },
    {
     "name": "stdout",
     "output_type": "stream",
     "text": [
      "Среднее кол-во посадочных мест в заведениях на топ-10 улицах по количеству объектов: 38.5\n",
      "Среднее кол-во посадочных мест в заведениях на остальных улицах по количеству объектов: 40.0\n",
      "\n",
      "Проверим, значима ли статистически разница между кол-вами посадочных мест в заведениях на топ-10 улицах и остальных.\n",
      "Нулевой гипотезой будет гипотеза о равенстве количества посадочных мест на топ-10 улицах по количеству объектов и на остальных улицах.\n",
      "P-value: 0.3868435747276795\n",
      "Не отвергаем нулевую гипотезу. Разницы между количествами посадочных мест не выявлено.\n"
     ]
    }
   ],
   "source": [
    "top10_streets_list = top10_streets['street'].to_list()\n",
    "top10_streets_data = data.query('street in @top10_streets_list')\n",
    "\n",
    "top10_streets_data['number'].median()\n",
    "data['number'].median()\n",
    "plt.figure(figsize=(15,9))\n",
    "plt.xlim(0,700)\n",
    "sb.boxplot(data=top10_streets_data, x='number', y='street')\n",
    "plt.title('Распределение количества посадочных мест для топ-10 улиц по кол-ву объектов')\n",
    "plt.ylabel('')\n",
    "plt.xlabel('Кол-во посадочных мест')\n",
    "plt.show()\n",
    "\n",
    "print('Среднее кол-во посадочных мест в заведениях на топ-10 улицах по количеству объектов: {}'.format(top10_streets_data['number'].median()))\n",
    "print('Среднее кол-во посадочных мест в заведениях на остальных улицах по количеству объектов: {}'\\\n",
    ".format(data.query('street not in @top10_streets_list')['number'].median()))\n",
    "\n",
    "print('\\nПроверим, значима ли статистически разница между кол-вами посадочных мест в заведениях на топ-10 улицах и остальных.')\n",
    "\n",
    "print('Нулевой гипотезой будет гипотеза о равенстве количества посадочных мест на топ-10 улицах по количеству объектов и на остальных улицах.')\n",
    "alpha=0.05\n",
    "\n",
    "results = stats.ttest_ind(data.query('street not in @top10_streets_list')['number'],\n",
    "                            top10_streets_data['number'])\n",
    "print('P-value: {}'.format(results.pvalue))\n",
    "if results.pvalue < alpha:\n",
    "    print('Отвергаем нулевую гипотезу, разница между количествами посадочных мест статистически значима.')\n",
    "else:\n",
    "    print('Не отвергаем нулевую гипотезу. Разницы между количествами посадочных мест не выявлено.')"
   ]
  },
  {
   "cell_type": "markdown",
   "metadata": {},
   "source": [
    "<a id=\"portr\"></a>\n",
    "## 3. Подготовка презентации"
   ]
  },
  {
   "cell_type": "markdown",
   "metadata": {},
   "source": [
    "Презентация: https://drive.google.com/file/d/1ujAPPvtiHPxnQnS07E-iX1tlZ4CX0lg6/view?usp=sharing"
   ]
  },
  {
   "cell_type": "markdown",
   "metadata": {},
   "source": [
    "<a id=\"summary\"></a>\n",
    "## 4. Общий вывод"
   ]
  },
  {
   "cell_type": "markdown",
   "metadata": {},
   "source": [
    "Были открыты и изучены данные общепита Москвы.\n",
    "\n",
    "* Проведена предобработка данных, заменены неявные дубликаты.<br>\n",
    "* Типы полей были изменены в соответствии с данными в них и исходя из целей экономии памяти.<br>\n",
    "\n",
    "Проведен исследовательский анализ данных:\n",
    "\n",
    "* Мы выяснили, что наибольшее количество типов объектов общественного притания составляют кафе (более 40%), затем идут столовые, рестораны и фастфуд.\n",
    "\n",
    "* Только 20% от общего количества заведений - сетевые.\n",
    "\n",
    "* Сетевое распространение наиболее характерно для фастфуда, магазинных кулинарий, ресторанов и кафе..\n",
    "\n",
    "* В 95% сетей не больше  155 посадочных мест.\n",
    "\n",
    "* Среднее количество посадочных мест по типам объектов общественного питания: столовая - 103, ресторан - 80, бар - 35, буфет - 32, кафе - 30. Столовая лидирует.\n",
    "\n",
    "* Топ-10 улиц с наибольшим количеством заведений:\n",
    "\n",
    "  1. проспект Мира\n",
    "  2. Профсоюзная улица\n",
    "  3. Ленинградский проспект\n",
    "  4. Пресненская набережная\n",
    "  5. Варшавское шоссе\n",
    "  6. Ленинский проспект\n",
    "  7. проспект Вернадского\n",
    "  8. Кутузовский проспект\n",
    "  9. Каширское шоссе\n",
    "  10. Кировоградская улица\n",
    "\n",
    "\n",
    "* Всего улиц с одним объектом общественного питания: 551, что составляет 28.9% от всего кол-ва улиц с объектами общественного питания в Москве. \n",
    "\n",
    "* Среднее кол-во посадочных мест в заведениях на топ-10 улицах по количеству объектов: 38.5 Среднее кол-во посадочных мест в заведениях на остальных улицах по количеству объектов: 40. Статистически значимой разницы между количествами посадочных мест на топ-10 и остальных улицах не выявлено.\n",
    "\n",
    "Рекомендации:\n",
    "\n",
    "Наиболее популярный тип заведений на рынке - кафе со средним количеством посадочных мест на 30 персон. Порекомендуем именно этот тип общепита. Однако, если стартовый капитал невысок, стоит рассмотреть и столовую на 103 посадочных места. \n",
    "Кафе лучше разместить на одной из топ-10 улиц, вероятно, проходимость здесь самая высокая, но следует также учесть конкуренцию."
   ]
  }
 ],
 "metadata": {
  "ExecuteTimeLog": [
   {
    "duration": 1261,
    "start_time": "2021-12-07T07:19:38.960Z"
   },
   {
    "duration": 302,
    "start_time": "2021-12-07T07:19:40.223Z"
   },
   {
    "duration": 5,
    "start_time": "2021-12-07T07:19:40.529Z"
   },
   {
    "duration": 9478,
    "start_time": "2021-12-07T07:19:40.535Z"
   },
   {
    "duration": -548,
    "start_time": "2021-12-07T07:19:50.565Z"
   },
   {
    "duration": -549,
    "start_time": "2021-12-07T07:19:50.567Z"
   },
   {
    "duration": -555,
    "start_time": "2021-12-07T07:19:50.574Z"
   },
   {
    "duration": -557,
    "start_time": "2021-12-07T07:19:50.577Z"
   },
   {
    "duration": -559,
    "start_time": "2021-12-07T07:19:50.580Z"
   },
   {
    "duration": -563,
    "start_time": "2021-12-07T07:19:50.585Z"
   },
   {
    "duration": -564,
    "start_time": "2021-12-07T07:19:50.587Z"
   },
   {
    "duration": -567,
    "start_time": "2021-12-07T07:19:50.591Z"
   },
   {
    "duration": -568,
    "start_time": "2021-12-07T07:19:50.593Z"
   },
   {
    "duration": -569,
    "start_time": "2021-12-07T07:19:50.595Z"
   },
   {
    "duration": -569,
    "start_time": "2021-12-07T07:19:50.596Z"
   },
   {
    "duration": -572,
    "start_time": "2021-12-07T07:19:50.600Z"
   },
   {
    "duration": -572,
    "start_time": "2021-12-07T07:19:50.602Z"
   },
   {
    "duration": -573,
    "start_time": "2021-12-07T07:19:50.604Z"
   },
   {
    "duration": -580,
    "start_time": "2021-12-07T07:19:50.612Z"
   },
   {
    "duration": -583,
    "start_time": "2021-12-07T07:19:50.616Z"
   },
   {
    "duration": -584,
    "start_time": "2021-12-07T07:19:50.618Z"
   },
   {
    "duration": -585,
    "start_time": "2021-12-07T07:19:50.621Z"
   },
   {
    "duration": -586,
    "start_time": "2021-12-07T07:19:50.623Z"
   },
   {
    "duration": -587,
    "start_time": "2021-12-07T07:19:50.625Z"
   },
   {
    "duration": -588,
    "start_time": "2021-12-07T07:19:50.627Z"
   },
   {
    "duration": -589,
    "start_time": "2021-12-07T07:19:50.629Z"
   },
   {
    "duration": -590,
    "start_time": "2021-12-07T07:19:50.631Z"
   },
   {
    "duration": -592,
    "start_time": "2021-12-07T07:19:50.634Z"
   },
   {
    "duration": -593,
    "start_time": "2021-12-07T07:19:50.636Z"
   },
   {
    "duration": -594,
    "start_time": "2021-12-07T07:19:50.638Z"
   },
   {
    "duration": -595,
    "start_time": "2021-12-07T07:19:50.640Z"
   },
   {
    "duration": -596,
    "start_time": "2021-12-07T07:19:50.642Z"
   },
   {
    "duration": -597,
    "start_time": "2021-12-07T07:19:50.644Z"
   },
   {
    "duration": -598,
    "start_time": "2021-12-07T07:19:50.646Z"
   },
   {
    "duration": -605,
    "start_time": "2021-12-07T07:19:50.654Z"
   },
   {
    "duration": -607,
    "start_time": "2021-12-07T07:19:50.657Z"
   },
   {
    "duration": -607,
    "start_time": "2021-12-07T07:19:50.658Z"
   },
   {
    "duration": -609,
    "start_time": "2021-12-07T07:19:50.661Z"
   },
   {
    "duration": 1115,
    "start_time": "2021-12-07T07:30:09.697Z"
   },
   {
    "duration": 1522,
    "start_time": "2021-12-07T07:30:10.814Z"
   },
   {
    "duration": -650,
    "start_time": "2021-12-07T07:30:12.991Z"
   },
   {
    "duration": -656,
    "start_time": "2021-12-07T07:30:12.998Z"
   },
   {
    "duration": -661,
    "start_time": "2021-12-07T07:30:13.004Z"
   },
   {
    "duration": -667,
    "start_time": "2021-12-07T07:30:13.011Z"
   },
   {
    "duration": -672,
    "start_time": "2021-12-07T07:30:13.017Z"
   },
   {
    "duration": -675,
    "start_time": "2021-12-07T07:30:13.021Z"
   },
   {
    "duration": -680,
    "start_time": "2021-12-07T07:30:13.027Z"
   },
   {
    "duration": -687,
    "start_time": "2021-12-07T07:30:13.035Z"
   },
   {
    "duration": -688,
    "start_time": "2021-12-07T07:30:13.037Z"
   },
   {
    "duration": -689,
    "start_time": "2021-12-07T07:30:13.039Z"
   },
   {
    "duration": -691,
    "start_time": "2021-12-07T07:30:13.042Z"
   },
   {
    "duration": -693,
    "start_time": "2021-12-07T07:30:13.045Z"
   },
   {
    "duration": -693,
    "start_time": "2021-12-07T07:30:13.047Z"
   },
   {
    "duration": -695,
    "start_time": "2021-12-07T07:30:13.050Z"
   },
   {
    "duration": -696,
    "start_time": "2021-12-07T07:30:13.052Z"
   },
   {
    "duration": -697,
    "start_time": "2021-12-07T07:30:13.054Z"
   },
   {
    "duration": -698,
    "start_time": "2021-12-07T07:30:13.056Z"
   },
   {
    "duration": -700,
    "start_time": "2021-12-07T07:30:13.059Z"
   },
   {
    "duration": -700,
    "start_time": "2021-12-07T07:30:13.061Z"
   },
   {
    "duration": -711,
    "start_time": "2021-12-07T07:30:13.073Z"
   },
   {
    "duration": -713,
    "start_time": "2021-12-07T07:30:13.076Z"
   },
   {
    "duration": -719,
    "start_time": "2021-12-07T07:30:13.083Z"
   },
   {
    "duration": -724,
    "start_time": "2021-12-07T07:30:13.089Z"
   },
   {
    "duration": -730,
    "start_time": "2021-12-07T07:30:13.096Z"
   },
   {
    "duration": -735,
    "start_time": "2021-12-07T07:30:13.102Z"
   },
   {
    "duration": -741,
    "start_time": "2021-12-07T07:30:13.109Z"
   },
   {
    "duration": -746,
    "start_time": "2021-12-07T07:30:13.115Z"
   },
   {
    "duration": -753,
    "start_time": "2021-12-07T07:30:13.122Z"
   },
   {
    "duration": -754,
    "start_time": "2021-12-07T07:30:13.124Z"
   },
   {
    "duration": -759,
    "start_time": "2021-12-07T07:30:13.130Z"
   },
   {
    "duration": -765,
    "start_time": "2021-12-07T07:30:13.137Z"
   },
   {
    "duration": -770,
    "start_time": "2021-12-07T07:30:13.143Z"
   },
   {
    "duration": -775,
    "start_time": "2021-12-07T07:30:13.149Z"
   },
   {
    "duration": -781,
    "start_time": "2021-12-07T07:30:13.156Z"
   },
   {
    "duration": -782,
    "start_time": "2021-12-07T07:30:13.158Z"
   },
   {
    "duration": -788,
    "start_time": "2021-12-07T07:30:13.165Z"
   },
   {
    "duration": 1866,
    "start_time": "2021-12-07T07:30:34.184Z"
   },
   {
    "duration": 159,
    "start_time": "2021-12-07T07:31:39.315Z"
   },
   {
    "duration": 1050,
    "start_time": "2021-12-07T07:31:53.448Z"
   },
   {
    "duration": 159,
    "start_time": "2021-12-07T07:31:54.500Z"
   },
   {
    "duration": 9,
    "start_time": "2021-12-07T07:31:54.660Z"
   },
   {
    "duration": 37,
    "start_time": "2021-12-07T07:31:54.670Z"
   },
   {
    "duration": 37,
    "start_time": "2021-12-07T07:31:54.709Z"
   },
   {
    "duration": 14,
    "start_time": "2021-12-07T07:31:54.748Z"
   },
   {
    "duration": 38,
    "start_time": "2021-12-07T07:31:54.764Z"
   },
   {
    "duration": 16,
    "start_time": "2021-12-07T07:31:54.805Z"
   },
   {
    "duration": 13,
    "start_time": "2021-12-07T07:31:54.823Z"
   },
   {
    "duration": 744,
    "start_time": "2021-12-07T07:31:54.837Z"
   },
   {
    "duration": 1208,
    "start_time": "2021-12-07T07:31:55.583Z"
   },
   {
    "duration": 276,
    "start_time": "2021-12-07T07:31:56.793Z"
   },
   {
    "duration": 738,
    "start_time": "2021-12-07T07:31:57.071Z"
   },
   {
    "duration": 1192,
    "start_time": "2021-12-07T07:31:57.810Z"
   },
   {
    "duration": 16,
    "start_time": "2021-12-07T07:31:59.004Z"
   },
   {
    "duration": 2796,
    "start_time": "2021-12-07T07:31:59.021Z"
   },
   {
    "duration": 557,
    "start_time": "2021-12-07T07:32:01.819Z"
   },
   {
    "duration": 520,
    "start_time": "2021-12-07T07:32:02.378Z"
   },
   {
    "duration": 492,
    "start_time": "2021-12-07T07:32:02.900Z"
   },
   {
    "duration": 22,
    "start_time": "2021-12-07T07:32:03.394Z"
   },
   {
    "duration": 652,
    "start_time": "2021-12-07T07:32:03.417Z"
   },
   {
    "duration": 522,
    "start_time": "2021-12-07T07:32:04.071Z"
   },
   {
    "duration": 493,
    "start_time": "2021-12-07T07:32:04.596Z"
   },
   {
    "duration": 17,
    "start_time": "2021-12-07T07:32:05.092Z"
   },
   {
    "duration": 232,
    "start_time": "2021-12-07T07:32:05.111Z"
   },
   {
    "duration": 7,
    "start_time": "2021-12-07T07:32:05.345Z"
   },
   {
    "duration": 515,
    "start_time": "2021-12-07T07:32:05.354Z"
   },
   {
    "duration": 7,
    "start_time": "2021-12-07T07:32:05.871Z"
   },
   {
    "duration": 475,
    "start_time": "2021-12-07T07:32:05.879Z"
   },
   {
    "duration": 470,
    "start_time": "2021-12-07T07:32:06.356Z"
   },
   {
    "duration": 341,
    "start_time": "2021-12-07T07:32:06.827Z"
   },
   {
    "duration": 589,
    "start_time": "2021-12-07T07:32:07.170Z"
   },
   {
    "duration": 458,
    "start_time": "2021-12-07T07:32:07.761Z"
   },
   {
    "duration": 422,
    "start_time": "2021-12-07T07:32:08.220Z"
   },
   {
    "duration": 19,
    "start_time": "2021-12-07T07:32:08.643Z"
   },
   {
    "duration": 447,
    "start_time": "2021-12-07T07:32:08.664Z"
   },
   {
    "duration": 427,
    "start_time": "2021-12-07T07:32:09.113Z"
   },
   {
    "duration": 413,
    "start_time": "2021-12-07T07:32:09.542Z"
   },
   {
    "duration": 476,
    "start_time": "2021-12-07T07:32:12.067Z"
   },
   {
    "duration": 1157,
    "start_time": "2021-12-07T07:37:51.488Z"
   },
   {
    "duration": 179,
    "start_time": "2021-12-07T07:37:52.647Z"
   },
   {
    "duration": 10,
    "start_time": "2021-12-07T07:37:52.829Z"
   },
   {
    "duration": 49,
    "start_time": "2021-12-07T07:37:52.841Z"
   },
   {
    "duration": 40,
    "start_time": "2021-12-07T07:37:52.892Z"
   },
   {
    "duration": 19,
    "start_time": "2021-12-07T07:37:52.934Z"
   },
   {
    "duration": 41,
    "start_time": "2021-12-07T07:37:52.955Z"
   },
   {
    "duration": 36,
    "start_time": "2021-12-07T07:37:52.999Z"
   },
   {
    "duration": 35,
    "start_time": "2021-12-07T07:37:53.038Z"
   },
   {
    "duration": 723,
    "start_time": "2021-12-07T07:37:53.075Z"
   },
   {
    "duration": 1148,
    "start_time": "2021-12-07T07:37:53.800Z"
   },
   {
    "duration": 256,
    "start_time": "2021-12-07T07:37:54.950Z"
   },
   {
    "duration": 719,
    "start_time": "2021-12-07T07:37:55.209Z"
   },
   {
    "duration": 1157,
    "start_time": "2021-12-07T07:37:55.930Z"
   },
   {
    "duration": 19,
    "start_time": "2021-12-07T07:37:57.089Z"
   },
   {
    "duration": 2741,
    "start_time": "2021-12-07T07:37:57.110Z"
   },
   {
    "duration": 544,
    "start_time": "2021-12-07T07:37:59.852Z"
   },
   {
    "duration": 578,
    "start_time": "2021-12-07T07:38:00.398Z"
   },
   {
    "duration": 551,
    "start_time": "2021-12-07T07:38:00.978Z"
   },
   {
    "duration": 36,
    "start_time": "2021-12-07T07:38:01.531Z"
   },
   {
    "duration": 702,
    "start_time": "2021-12-07T07:38:01.569Z"
   },
   {
    "duration": 536,
    "start_time": "2021-12-07T07:38:02.274Z"
   },
   {
    "duration": 543,
    "start_time": "2021-12-07T07:38:02.813Z"
   },
   {
    "duration": 21,
    "start_time": "2021-12-07T07:38:03.363Z"
   },
   {
    "duration": 238,
    "start_time": "2021-12-07T07:38:03.387Z"
   },
   {
    "duration": 8,
    "start_time": "2021-12-07T07:38:03.627Z"
   },
   {
    "duration": 484,
    "start_time": "2021-12-07T07:38:03.637Z"
   },
   {
    "duration": 7,
    "start_time": "2021-12-07T07:38:04.123Z"
   },
   {
    "duration": 478,
    "start_time": "2021-12-07T07:38:04.132Z"
   },
   {
    "duration": 574,
    "start_time": "2021-12-07T07:38:04.612Z"
   },
   {
    "duration": 351,
    "start_time": "2021-12-07T07:38:05.188Z"
   },
   {
    "duration": 608,
    "start_time": "2021-12-07T07:38:05.542Z"
   },
   {
    "duration": 458,
    "start_time": "2021-12-07T07:38:06.151Z"
   },
   {
    "duration": 441,
    "start_time": "2021-12-07T07:38:06.611Z"
   },
   {
    "duration": 27,
    "start_time": "2021-12-07T07:38:07.054Z"
   },
   {
    "duration": 430,
    "start_time": "2021-12-07T07:38:07.083Z"
   },
   {
    "duration": 427,
    "start_time": "2021-12-07T07:38:07.515Z"
   },
   {
    "duration": 456,
    "start_time": "2021-12-07T07:38:07.944Z"
   },
   {
    "duration": 498,
    "start_time": "2021-12-07T11:42:04.805Z"
   },
   {
    "duration": 1428,
    "start_time": "2021-12-07T11:42:24.612Z"
   },
   {
    "duration": 5,
    "start_time": "2021-12-07T11:42:34.348Z"
   },
   {
    "duration": 219,
    "start_time": "2021-12-07T11:42:36.301Z"
   },
   {
    "duration": 45,
    "start_time": "2021-12-07T11:55:13.300Z"
   },
   {
    "duration": 33,
    "start_time": "2021-12-07T12:00:20.989Z"
   },
   {
    "duration": 1582,
    "start_time": "2021-12-07T12:01:27.558Z"
   },
   {
    "duration": 235,
    "start_time": "2021-12-07T12:01:29.143Z"
   },
   {
    "duration": 11,
    "start_time": "2021-12-07T12:01:29.384Z"
   },
   {
    "duration": 62,
    "start_time": "2021-12-07T12:01:29.397Z"
   },
   {
    "duration": 540,
    "start_time": "2021-12-07T12:01:29.462Z"
   },
   {
    "duration": 328,
    "start_time": "2021-12-07T12:01:29.678Z"
   },
   {
    "duration": 325,
    "start_time": "2021-12-07T12:01:29.682Z"
   },
   {
    "duration": 324,
    "start_time": "2021-12-07T12:01:29.685Z"
   },
   {
    "duration": 323,
    "start_time": "2021-12-07T12:01:29.689Z"
   },
   {
    "duration": 320,
    "start_time": "2021-12-07T12:01:29.693Z"
   },
   {
    "duration": 318,
    "start_time": "2021-12-07T12:01:29.697Z"
   },
   {
    "duration": 315,
    "start_time": "2021-12-07T12:01:29.702Z"
   },
   {
    "duration": 315,
    "start_time": "2021-12-07T12:01:29.704Z"
   },
   {
    "duration": 314,
    "start_time": "2021-12-07T12:01:29.707Z"
   },
   {
    "duration": 304,
    "start_time": "2021-12-07T12:01:29.718Z"
   },
   {
    "duration": 303,
    "start_time": "2021-12-07T12:01:29.721Z"
   },
   {
    "duration": 301,
    "start_time": "2021-12-07T12:01:29.724Z"
   },
   {
    "duration": 300,
    "start_time": "2021-12-07T12:01:29.727Z"
   },
   {
    "duration": 298,
    "start_time": "2021-12-07T12:01:29.730Z"
   },
   {
    "duration": 297,
    "start_time": "2021-12-07T12:01:29.732Z"
   },
   {
    "duration": 293,
    "start_time": "2021-12-07T12:01:29.737Z"
   },
   {
    "duration": 293,
    "start_time": "2021-12-07T12:01:29.739Z"
   },
   {
    "duration": 292,
    "start_time": "2021-12-07T12:01:29.742Z"
   },
   {
    "duration": 292,
    "start_time": "2021-12-07T12:01:29.744Z"
   },
   {
    "duration": 291,
    "start_time": "2021-12-07T12:01:29.746Z"
   },
   {
    "duration": 291,
    "start_time": "2021-12-07T12:01:29.748Z"
   },
   {
    "duration": 290,
    "start_time": "2021-12-07T12:01:29.751Z"
   },
   {
    "duration": 305,
    "start_time": "2021-12-07T12:01:29.754Z"
   },
   {
    "duration": 305,
    "start_time": "2021-12-07T12:01:29.757Z"
   },
   {
    "duration": 300,
    "start_time": "2021-12-07T12:01:29.764Z"
   },
   {
    "duration": 299,
    "start_time": "2021-12-07T12:01:29.767Z"
   },
   {
    "duration": 299,
    "start_time": "2021-12-07T12:01:29.769Z"
   },
   {
    "duration": 301,
    "start_time": "2021-12-07T12:01:29.771Z"
   },
   {
    "duration": 300,
    "start_time": "2021-12-07T12:01:29.774Z"
   },
   {
    "duration": 300,
    "start_time": "2021-12-07T12:01:29.776Z"
   },
   {
    "duration": 299,
    "start_time": "2021-12-07T12:01:29.778Z"
   },
   {
    "duration": 291,
    "start_time": "2021-12-07T12:01:29.788Z"
   },
   {
    "duration": 285,
    "start_time": "2021-12-07T12:01:29.795Z"
   },
   {
    "duration": 54,
    "start_time": "2021-12-07T12:02:45.274Z"
   },
   {
    "duration": 35,
    "start_time": "2021-12-07T12:03:06.193Z"
   },
   {
    "duration": 433,
    "start_time": "2021-12-07T12:04:15.859Z"
   },
   {
    "duration": 2099,
    "start_time": "2021-12-07T12:04:40.139Z"
   },
   {
    "duration": 1691,
    "start_time": "2021-12-07T12:04:51.540Z"
   },
   {
    "duration": 396,
    "start_time": "2021-12-07T12:06:48.518Z"
   },
   {
    "duration": 400,
    "start_time": "2021-12-07T12:07:41.913Z"
   },
   {
    "duration": 385,
    "start_time": "2021-12-07T12:07:46.648Z"
   },
   {
    "duration": 403,
    "start_time": "2021-12-07T12:08:04.688Z"
   },
   {
    "duration": 33,
    "start_time": "2021-12-07T12:08:24.489Z"
   },
   {
    "duration": 1505,
    "start_time": "2021-12-07T12:08:56.545Z"
   },
   {
    "duration": 214,
    "start_time": "2021-12-07T12:08:58.053Z"
   },
   {
    "duration": 11,
    "start_time": "2021-12-07T12:08:58.270Z"
   },
   {
    "duration": 37,
    "start_time": "2021-12-07T12:08:58.285Z"
   },
   {
    "duration": 79,
    "start_time": "2021-12-07T12:08:58.325Z"
   },
   {
    "duration": 6,
    "start_time": "2021-12-07T12:08:58.408Z"
   },
   {
    "duration": 48,
    "start_time": "2021-12-07T12:08:58.417Z"
   },
   {
    "duration": 25,
    "start_time": "2021-12-07T12:08:58.470Z"
   },
   {
    "duration": 7,
    "start_time": "2021-12-07T12:08:58.498Z"
   },
   {
    "duration": 1235,
    "start_time": "2021-12-07T12:08:58.508Z"
   },
   {
    "duration": 2022,
    "start_time": "2021-12-07T12:08:59.747Z"
   },
   {
    "duration": 406,
    "start_time": "2021-12-07T12:09:01.771Z"
   },
   {
    "duration": 1472,
    "start_time": "2021-12-07T12:09:02.179Z"
   },
   {
    "duration": 1926,
    "start_time": "2021-12-07T12:09:03.658Z"
   },
   {
    "duration": 27,
    "start_time": "2021-12-07T12:09:05.586Z"
   },
   {
    "duration": 4536,
    "start_time": "2021-12-07T12:09:05.616Z"
   },
   {
    "duration": 821,
    "start_time": "2021-12-07T12:09:10.155Z"
   },
   {
    "duration": 806,
    "start_time": "2021-12-07T12:09:10.979Z"
   },
   {
    "duration": 755,
    "start_time": "2021-12-07T12:09:11.788Z"
   },
   {
    "duration": 48,
    "start_time": "2021-12-07T12:09:12.547Z"
   },
   {
    "duration": 1220,
    "start_time": "2021-12-07T12:09:12.598Z"
   },
   {
    "duration": 772,
    "start_time": "2021-12-07T12:09:13.821Z"
   },
   {
    "duration": 800,
    "start_time": "2021-12-07T12:09:14.598Z"
   },
   {
    "duration": 29,
    "start_time": "2021-12-07T12:09:15.401Z"
   },
   {
    "duration": 382,
    "start_time": "2021-12-07T12:09:15.432Z"
   },
   {
    "duration": 10,
    "start_time": "2021-12-07T12:09:15.816Z"
   },
   {
    "duration": 845,
    "start_time": "2021-12-07T12:09:15.828Z"
   },
   {
    "duration": 10,
    "start_time": "2021-12-07T12:09:16.676Z"
   },
   {
    "duration": 1070,
    "start_time": "2021-12-07T12:09:16.689Z"
   },
   {
    "duration": 908,
    "start_time": "2021-12-07T12:09:17.762Z"
   },
   {
    "duration": 576,
    "start_time": "2021-12-07T12:09:18.672Z"
   },
   {
    "duration": 899,
    "start_time": "2021-12-07T12:09:19.250Z"
   },
   {
    "duration": 670,
    "start_time": "2021-12-07T12:09:20.160Z"
   },
   {
    "duration": 710,
    "start_time": "2021-12-07T12:09:20.833Z"
   },
   {
    "duration": 42,
    "start_time": "2021-12-07T12:09:21.546Z"
   },
   {
    "duration": 656,
    "start_time": "2021-12-07T12:09:21.591Z"
   },
   {
    "duration": 602,
    "start_time": "2021-12-07T12:09:22.251Z"
   },
   {
    "duration": 604,
    "start_time": "2021-12-07T12:09:22.860Z"
   },
   {
    "duration": 1777,
    "start_time": "2021-12-07T12:17:59.875Z"
   },
   {
    "duration": 2778,
    "start_time": "2021-12-07T12:19:04.340Z"
   },
   {
    "duration": 2414,
    "start_time": "2021-12-07T12:20:10.093Z"
   },
   {
    "duration": 649,
    "start_time": "2021-12-07T12:20:21.177Z"
   },
   {
    "duration": 1482,
    "start_time": "2021-12-07T12:26:04.901Z"
   },
   {
    "duration": 546,
    "start_time": "2021-12-07T12:26:10.726Z"
   },
   {
    "duration": 2321,
    "start_time": "2021-12-07T12:26:34.822Z"
   },
   {
    "duration": 2296,
    "start_time": "2021-12-07T12:27:32.664Z"
   },
   {
    "duration": 235,
    "start_time": "2021-12-07T12:30:41.298Z"
   },
   {
    "duration": 295,
    "start_time": "2021-12-07T12:31:37.718Z"
   },
   {
    "duration": 1563,
    "start_time": "2021-12-07T12:36:15.910Z"
   },
   {
    "duration": 226,
    "start_time": "2021-12-07T12:36:17.475Z"
   },
   {
    "duration": 10,
    "start_time": "2021-12-07T12:36:17.704Z"
   },
   {
    "duration": 45,
    "start_time": "2021-12-07T12:36:17.717Z"
   },
   {
    "duration": 48,
    "start_time": "2021-12-07T12:36:17.764Z"
   },
   {
    "duration": 5,
    "start_time": "2021-12-07T12:36:17.814Z"
   },
   {
    "duration": 29,
    "start_time": "2021-12-07T12:36:17.821Z"
   },
   {
    "duration": 28,
    "start_time": "2021-12-07T12:36:17.853Z"
   },
   {
    "duration": 7,
    "start_time": "2021-12-07T12:36:17.884Z"
   },
   {
    "duration": 1337,
    "start_time": "2021-12-07T12:36:17.893Z"
   },
   {
    "duration": 1842,
    "start_time": "2021-12-07T12:36:19.233Z"
   },
   {
    "duration": 411,
    "start_time": "2021-12-07T12:36:21.077Z"
   },
   {
    "duration": 1202,
    "start_time": "2021-12-07T12:36:21.490Z"
   },
   {
    "duration": 1885,
    "start_time": "2021-12-07T12:36:22.695Z"
   },
   {
    "duration": 28,
    "start_time": "2021-12-07T12:36:24.583Z"
   },
   {
    "duration": 4623,
    "start_time": "2021-12-07T12:36:24.614Z"
   },
   {
    "duration": 793,
    "start_time": "2021-12-07T12:36:29.239Z"
   },
   {
    "duration": 825,
    "start_time": "2021-12-07T12:36:30.035Z"
   },
   {
    "duration": 784,
    "start_time": "2021-12-07T12:36:30.862Z"
   },
   {
    "duration": 41,
    "start_time": "2021-12-07T12:36:31.648Z"
   },
   {
    "duration": 920,
    "start_time": "2021-12-07T12:36:31.692Z"
   },
   {
    "duration": 744,
    "start_time": "2021-12-07T12:36:32.615Z"
   },
   {
    "duration": 775,
    "start_time": "2021-12-07T12:36:33.366Z"
   },
   {
    "duration": 36,
    "start_time": "2021-12-07T12:36:34.144Z"
   },
   {
    "duration": 357,
    "start_time": "2021-12-07T12:36:34.183Z"
   },
   {
    "duration": 20,
    "start_time": "2021-12-07T12:36:34.543Z"
   },
   {
    "duration": 919,
    "start_time": "2021-12-07T12:36:34.566Z"
   },
   {
    "duration": 11,
    "start_time": "2021-12-07T12:36:35.488Z"
   },
   {
    "duration": 887,
    "start_time": "2021-12-07T12:36:35.501Z"
   },
   {
    "duration": 800,
    "start_time": "2021-12-07T12:36:36.390Z"
   },
   {
    "duration": 526,
    "start_time": "2021-12-07T12:36:37.193Z"
   },
   {
    "duration": 874,
    "start_time": "2021-12-07T12:36:37.722Z"
   },
   {
    "duration": 646,
    "start_time": "2021-12-07T12:36:38.599Z"
   },
   {
    "duration": 640,
    "start_time": "2021-12-07T12:36:39.247Z"
   },
   {
    "duration": 33,
    "start_time": "2021-12-07T12:36:39.889Z"
   },
   {
    "duration": 619,
    "start_time": "2021-12-07T12:36:39.925Z"
   },
   {
    "duration": 612,
    "start_time": "2021-12-07T12:36:40.547Z"
   },
   {
    "duration": 617,
    "start_time": "2021-12-07T12:36:41.161Z"
   },
   {
    "duration": 31,
    "start_time": "2021-12-07T12:38:29.196Z"
   },
   {
    "duration": 26,
    "start_time": "2021-12-07T12:38:50.835Z"
   },
   {
    "duration": 38,
    "start_time": "2021-12-07T12:39:09.244Z"
   },
   {
    "duration": 25,
    "start_time": "2021-12-07T12:39:14.468Z"
   },
   {
    "duration": 26,
    "start_time": "2021-12-07T12:39:17.524Z"
   },
   {
    "duration": 28,
    "start_time": "2021-12-07T12:39:44.460Z"
   },
   {
    "duration": 26,
    "start_time": "2021-12-07T12:40:11.973Z"
   },
   {
    "duration": 27,
    "start_time": "2021-12-07T12:40:23.189Z"
   },
   {
    "duration": 5176,
    "start_time": "2021-12-07T12:40:31.102Z"
   },
   {
    "duration": 35,
    "start_time": "2021-12-07T12:41:38.935Z"
   },
   {
    "duration": 583,
    "start_time": "2021-12-07T12:43:33.456Z"
   },
   {
    "duration": 471,
    "start_time": "2021-12-07T12:44:13.307Z"
   },
   {
    "duration": 470,
    "start_time": "2021-12-07T12:44:34.699Z"
   },
   {
    "duration": 469,
    "start_time": "2021-12-07T12:44:49.236Z"
   },
   {
    "duration": 468,
    "start_time": "2021-12-07T12:45:25.436Z"
   },
   {
    "duration": 751,
    "start_time": "2021-12-07T12:47:17.414Z"
   },
   {
    "duration": 10,
    "start_time": "2021-12-07T12:47:57.617Z"
   },
   {
    "duration": 1482,
    "start_time": "2021-12-07T12:48:08.059Z"
   },
   {
    "duration": 233,
    "start_time": "2021-12-07T12:48:09.544Z"
   },
   {
    "duration": 13,
    "start_time": "2021-12-07T12:48:09.781Z"
   },
   {
    "duration": 35,
    "start_time": "2021-12-07T12:48:09.797Z"
   },
   {
    "duration": 50,
    "start_time": "2021-12-07T12:48:09.860Z"
   },
   {
    "duration": 4,
    "start_time": "2021-12-07T12:48:09.913Z"
   },
   {
    "duration": 42,
    "start_time": "2021-12-07T12:48:09.920Z"
   },
   {
    "duration": 24,
    "start_time": "2021-12-07T12:48:09.966Z"
   },
   {
    "duration": 6,
    "start_time": "2021-12-07T12:48:09.994Z"
   },
   {
    "duration": 1177,
    "start_time": "2021-12-07T12:48:10.003Z"
   },
   {
    "duration": 1908,
    "start_time": "2021-12-07T12:48:11.183Z"
   },
   {
    "duration": 390,
    "start_time": "2021-12-07T12:48:13.094Z"
   },
   {
    "duration": 1162,
    "start_time": "2021-12-07T12:48:13.487Z"
   },
   {
    "duration": 2007,
    "start_time": "2021-12-07T12:48:14.652Z"
   },
   {
    "duration": 28,
    "start_time": "2021-12-07T12:48:16.661Z"
   },
   {
    "duration": 4970,
    "start_time": "2021-12-07T12:48:16.691Z"
   },
   {
    "duration": 906,
    "start_time": "2021-12-07T12:48:21.664Z"
   },
   {
    "duration": 837,
    "start_time": "2021-12-07T12:48:22.572Z"
   },
   {
    "duration": 774,
    "start_time": "2021-12-07T12:48:23.411Z"
   },
   {
    "duration": 421,
    "start_time": "2021-12-07T12:48:24.189Z"
   },
   {
    "duration": 971,
    "start_time": "2021-12-07T12:48:24.612Z"
   },
   {
    "duration": 897,
    "start_time": "2021-12-07T12:48:25.586Z"
   },
   {
    "duration": 996,
    "start_time": "2021-12-07T12:48:26.488Z"
   },
   {
    "duration": 28,
    "start_time": "2021-12-07T12:48:27.487Z"
   },
   {
    "duration": 547,
    "start_time": "2021-12-07T12:48:27.517Z"
   },
   {
    "duration": 12,
    "start_time": "2021-12-07T12:48:28.066Z"
   },
   {
    "duration": 790,
    "start_time": "2021-12-07T12:48:28.081Z"
   },
   {
    "duration": 11,
    "start_time": "2021-12-07T12:48:28.875Z"
   },
   {
    "duration": 773,
    "start_time": "2021-12-07T12:48:28.889Z"
   },
   {
    "duration": 820,
    "start_time": "2021-12-07T12:48:29.665Z"
   },
   {
    "duration": 652,
    "start_time": "2021-12-07T12:48:30.487Z"
   },
   {
    "duration": 756,
    "start_time": "2021-12-07T12:48:31.142Z"
   },
   {
    "duration": 724,
    "start_time": "2021-12-07T12:48:31.900Z"
   },
   {
    "duration": 732,
    "start_time": "2021-12-07T12:48:32.627Z"
   },
   {
    "duration": 30,
    "start_time": "2021-12-07T12:48:33.361Z"
   },
   {
    "duration": 703,
    "start_time": "2021-12-07T12:48:33.394Z"
   },
   {
    "duration": 786,
    "start_time": "2021-12-07T12:48:34.101Z"
   },
   {
    "duration": 674,
    "start_time": "2021-12-07T12:48:34.890Z"
   },
   {
    "duration": 160,
    "start_time": "2021-12-07T12:56:57.604Z"
   },
   {
    "duration": 459,
    "start_time": "2021-12-07T12:57:01.989Z"
   },
   {
    "duration": 459,
    "start_time": "2021-12-07T12:57:12.879Z"
   },
   {
    "duration": 1124,
    "start_time": "2021-12-07T13:17:48.514Z"
   },
   {
    "duration": 1137,
    "start_time": "2021-12-07T13:18:05.962Z"
   },
   {
    "duration": 3241,
    "start_time": "2021-12-07T13:18:59.259Z"
   },
   {
    "duration": 3138,
    "start_time": "2021-12-07T13:19:10.964Z"
   },
   {
    "duration": 3114,
    "start_time": "2021-12-07T13:19:30.973Z"
   },
   {
    "duration": 1144,
    "start_time": "2021-12-07T13:19:37.845Z"
   },
   {
    "duration": 1047,
    "start_time": "2021-12-07T13:21:32.591Z"
   },
   {
    "duration": 1043,
    "start_time": "2021-12-07T13:21:55.720Z"
   },
   {
    "duration": 1057,
    "start_time": "2021-12-07T13:22:01.544Z"
   },
   {
    "duration": 1265,
    "start_time": "2021-12-07T13:22:18.781Z"
   },
   {
    "duration": 1169,
    "start_time": "2021-12-07T13:22:31.833Z"
   },
   {
    "duration": 1046,
    "start_time": "2021-12-07T13:22:38.361Z"
   },
   {
    "duration": 1122,
    "start_time": "2021-12-07T13:22:43.185Z"
   },
   {
    "duration": 1076,
    "start_time": "2021-12-07T13:23:06.354Z"
   },
   {
    "duration": 1237,
    "start_time": "2021-12-07T13:23:22.242Z"
   },
   {
    "duration": 1041,
    "start_time": "2021-12-07T13:24:44.284Z"
   },
   {
    "duration": 2200,
    "start_time": "2021-12-07T13:24:59.948Z"
   },
   {
    "duration": 1889,
    "start_time": "2021-12-07T13:26:08.918Z"
   },
   {
    "duration": 2315,
    "start_time": "2021-12-07T13:27:13.160Z"
   },
   {
    "duration": 1883,
    "start_time": "2021-12-07T13:29:00.730Z"
   },
   {
    "duration": 2145,
    "start_time": "2021-12-07T13:29:23.138Z"
   },
   {
    "duration": 1842,
    "start_time": "2021-12-07T13:29:38.523Z"
   },
   {
    "duration": 2012,
    "start_time": "2021-12-07T13:30:23.147Z"
   },
   {
    "duration": 2020,
    "start_time": "2021-12-07T13:30:34.988Z"
   },
   {
    "duration": 1929,
    "start_time": "2021-12-07T13:30:58.269Z"
   },
   {
    "duration": 2069,
    "start_time": "2021-12-07T13:32:21.006Z"
   },
   {
    "duration": 1191,
    "start_time": "2021-12-07T13:32:30.919Z"
   },
   {
    "duration": 2056,
    "start_time": "2021-12-07T13:32:43.167Z"
   },
   {
    "duration": 2084,
    "start_time": "2021-12-07T13:33:12.800Z"
   },
   {
    "duration": 2333,
    "start_time": "2021-12-07T13:33:42.760Z"
   },
   {
    "duration": 2196,
    "start_time": "2021-12-07T13:34:07.097Z"
   },
   {
    "duration": 1968,
    "start_time": "2021-12-07T13:37:07.534Z"
   },
   {
    "duration": 2463,
    "start_time": "2021-12-07T13:37:24.846Z"
   },
   {
    "duration": 1735,
    "start_time": "2021-12-07T13:37:49.367Z"
   },
   {
    "duration": 1710,
    "start_time": "2021-12-07T13:38:00.111Z"
   },
   {
    "duration": 1903,
    "start_time": "2021-12-07T13:38:08.071Z"
   },
   {
    "duration": 1916,
    "start_time": "2021-12-07T13:40:09.977Z"
   },
   {
    "duration": 2560,
    "start_time": "2021-12-07T13:44:06.231Z"
   },
   {
    "duration": 11908,
    "start_time": "2021-12-07T13:45:50.721Z"
   },
   {
    "duration": 2842,
    "start_time": "2021-12-07T13:46:04.177Z"
   },
   {
    "duration": 2389,
    "start_time": "2021-12-07T13:47:12.595Z"
   },
   {
    "duration": 2425,
    "start_time": "2021-12-07T13:47:22.452Z"
   },
   {
    "duration": 579,
    "start_time": "2021-12-07T13:48:35.974Z"
   },
   {
    "duration": 137,
    "start_time": "2021-12-07T13:53:26.740Z"
   },
   {
    "duration": 130,
    "start_time": "2021-12-07T13:53:33.844Z"
   },
   {
    "duration": 170,
    "start_time": "2021-12-07T13:53:40.340Z"
   },
   {
    "duration": 130,
    "start_time": "2021-12-07T13:53:48.429Z"
   },
   {
    "duration": 2398,
    "start_time": "2021-12-07T13:53:56.332Z"
   },
   {
    "duration": 1410,
    "start_time": "2021-12-07T13:54:52.127Z"
   },
   {
    "duration": 1300,
    "start_time": "2021-12-07T13:55:37.967Z"
   },
   {
    "duration": 2133,
    "start_time": "2021-12-07T13:56:04.673Z"
   },
   {
    "duration": 1503,
    "start_time": "2021-12-07T13:56:14.913Z"
   },
   {
    "duration": 1454,
    "start_time": "2021-12-07T13:56:29.585Z"
   },
   {
    "duration": 1293,
    "start_time": "2021-12-07T13:56:34.480Z"
   },
   {
    "duration": 2112,
    "start_time": "2021-12-07T13:56:44.409Z"
   },
   {
    "duration": 2079,
    "start_time": "2021-12-07T13:56:55.121Z"
   },
   {
    "duration": 1343,
    "start_time": "2021-12-07T13:57:01.241Z"
   },
   {
    "duration": 1418,
    "start_time": "2021-12-07T13:57:07.016Z"
   },
   {
    "duration": 2106,
    "start_time": "2021-12-07T13:58:25.987Z"
   },
   {
    "duration": 2292,
    "start_time": "2021-12-07T13:58:39.963Z"
   },
   {
    "duration": 2109,
    "start_time": "2021-12-07T13:58:45.987Z"
   },
   {
    "duration": 2070,
    "start_time": "2021-12-07T13:58:55.908Z"
   },
   {
    "duration": 1933,
    "start_time": "2021-12-07T13:59:06.820Z"
   },
   {
    "duration": 2057,
    "start_time": "2021-12-07T13:59:25.020Z"
   },
   {
    "duration": 2040,
    "start_time": "2021-12-07T13:59:42.100Z"
   },
   {
    "duration": 2224,
    "start_time": "2021-12-07T14:02:20.057Z"
   },
   {
    "duration": 2169,
    "start_time": "2021-12-07T14:02:53.618Z"
   },
   {
    "duration": 2061,
    "start_time": "2021-12-07T14:03:02.899Z"
   },
   {
    "duration": 2041,
    "start_time": "2021-12-07T14:03:10.722Z"
   },
   {
    "duration": 1979,
    "start_time": "2021-12-07T14:03:23.939Z"
   },
   {
    "duration": 1940,
    "start_time": "2021-12-07T14:03:36.683Z"
   },
   {
    "duration": 2043,
    "start_time": "2021-12-07T14:04:04.036Z"
   },
   {
    "duration": 2177,
    "start_time": "2021-12-07T14:04:15.924Z"
   },
   {
    "duration": 2148,
    "start_time": "2021-12-07T14:05:00.397Z"
   },
   {
    "duration": 1928,
    "start_time": "2021-12-07T14:07:15.331Z"
   },
   {
    "duration": 2189,
    "start_time": "2021-12-07T14:10:20.980Z"
   },
   {
    "duration": 2244,
    "start_time": "2021-12-07T14:11:39.215Z"
   },
   {
    "duration": 1642,
    "start_time": "2021-12-07T14:12:18.675Z"
   },
   {
    "duration": 222,
    "start_time": "2021-12-07T14:12:20.320Z"
   },
   {
    "duration": 19,
    "start_time": "2021-12-07T14:12:20.546Z"
   },
   {
    "duration": 44,
    "start_time": "2021-12-07T14:12:20.568Z"
   },
   {
    "duration": 69,
    "start_time": "2021-12-07T14:12:20.614Z"
   },
   {
    "duration": 5,
    "start_time": "2021-12-07T14:12:20.685Z"
   },
   {
    "duration": 31,
    "start_time": "2021-12-07T14:12:20.692Z"
   },
   {
    "duration": 39,
    "start_time": "2021-12-07T14:12:20.727Z"
   },
   {
    "duration": 6,
    "start_time": "2021-12-07T14:12:20.769Z"
   },
   {
    "duration": 1198,
    "start_time": "2021-12-07T14:12:20.778Z"
   },
   {
    "duration": 2101,
    "start_time": "2021-12-07T14:12:21.979Z"
   },
   {
    "duration": 406,
    "start_time": "2021-12-07T14:12:24.082Z"
   },
   {
    "duration": 1212,
    "start_time": "2021-12-07T14:12:24.491Z"
   },
   {
    "duration": 2048,
    "start_time": "2021-12-07T14:12:25.705Z"
   },
   {
    "duration": 31,
    "start_time": "2021-12-07T14:12:27.759Z"
   },
   {
    "duration": 4736,
    "start_time": "2021-12-07T14:12:27.793Z"
   },
   {
    "duration": 830,
    "start_time": "2021-12-07T14:12:32.532Z"
   },
   {
    "duration": 780,
    "start_time": "2021-12-07T14:12:33.365Z"
   },
   {
    "duration": 797,
    "start_time": "2021-12-07T14:12:34.148Z"
   },
   {
    "duration": 391,
    "start_time": "2021-12-07T14:12:34.948Z"
   },
   {
    "duration": 1037,
    "start_time": "2021-12-07T14:12:35.342Z"
   },
   {
    "duration": 907,
    "start_time": "2021-12-07T14:12:36.382Z"
   },
   {
    "duration": 1016,
    "start_time": "2021-12-07T14:12:37.295Z"
   },
   {
    "duration": 45,
    "start_time": "2021-12-07T14:12:38.314Z"
   },
   {
    "duration": 551,
    "start_time": "2021-12-07T14:12:38.362Z"
   },
   {
    "duration": 10,
    "start_time": "2021-12-07T14:12:38.915Z"
   },
   {
    "duration": 810,
    "start_time": "2021-12-07T14:12:38.928Z"
   },
   {
    "duration": 18,
    "start_time": "2021-12-07T14:12:39.741Z"
   },
   {
    "duration": 2174,
    "start_time": "2021-12-07T14:12:39.762Z"
   },
   {
    "duration": 2020,
    "start_time": "2021-12-07T14:12:41.939Z"
   },
   {
    "duration": 1856,
    "start_time": "2021-12-07T14:12:43.962Z"
   },
   {
    "duration": 2075,
    "start_time": "2021-12-07T14:12:45.820Z"
   },
   {
    "duration": 2069,
    "start_time": "2021-12-07T14:12:47.898Z"
   },
   {
    "duration": 1934,
    "start_time": "2021-12-07T14:12:49.969Z"
   },
   {
    "duration": 495,
    "start_time": "2021-12-07T14:12:51.906Z"
   },
   {
    "duration": 3038,
    "start_time": "2021-12-07T14:12:52.404Z"
   },
   {
    "duration": 3316,
    "start_time": "2021-12-07T14:12:55.445Z"
   },
   {
    "duration": 1927,
    "start_time": "2021-12-07T14:12:58.764Z"
   },
   {
    "duration": 393,
    "start_time": "2021-12-07T16:46:12.465Z"
   },
   {
    "duration": 1192,
    "start_time": "2021-12-07T16:46:23.364Z"
   },
   {
    "duration": 164,
    "start_time": "2021-12-07T16:46:24.558Z"
   },
   {
    "duration": 10,
    "start_time": "2021-12-07T16:46:24.724Z"
   },
   {
    "duration": 29,
    "start_time": "2021-12-07T16:46:24.736Z"
   },
   {
    "duration": 61,
    "start_time": "2021-12-07T16:46:24.767Z"
   },
   {
    "duration": 4,
    "start_time": "2021-12-07T16:46:24.830Z"
   },
   {
    "duration": 19,
    "start_time": "2021-12-07T16:46:24.836Z"
   },
   {
    "duration": 19,
    "start_time": "2021-12-07T16:46:24.858Z"
   },
   {
    "duration": 27,
    "start_time": "2021-12-07T16:46:24.879Z"
   },
   {
    "duration": 742,
    "start_time": "2021-12-07T16:46:24.909Z"
   },
   {
    "duration": 1149,
    "start_time": "2021-12-07T16:46:25.653Z"
   },
   {
    "duration": 246,
    "start_time": "2021-12-07T16:46:26.803Z"
   },
   {
    "duration": 725,
    "start_time": "2021-12-07T16:46:27.051Z"
   },
   {
    "duration": 1282,
    "start_time": "2021-12-07T16:46:27.778Z"
   },
   {
    "duration": 20,
    "start_time": "2021-12-07T16:46:29.062Z"
   },
   {
    "duration": 2681,
    "start_time": "2021-12-07T16:46:29.084Z"
   },
   {
    "duration": 554,
    "start_time": "2021-12-07T16:46:31.767Z"
   },
   {
    "duration": 529,
    "start_time": "2021-12-07T16:46:32.323Z"
   },
   {
    "duration": 543,
    "start_time": "2021-12-07T16:46:32.854Z"
   },
   {
    "duration": 280,
    "start_time": "2021-12-07T16:46:33.407Z"
   },
   {
    "duration": 592,
    "start_time": "2021-12-07T16:46:33.689Z"
   },
   {
    "duration": 590,
    "start_time": "2021-12-07T16:46:34.283Z"
   },
   {
    "duration": 619,
    "start_time": "2021-12-07T16:46:34.876Z"
   },
   {
    "duration": 25,
    "start_time": "2021-12-07T16:46:35.497Z"
   },
   {
    "duration": 342,
    "start_time": "2021-12-07T16:46:35.524Z"
   },
   {
    "duration": 7,
    "start_time": "2021-12-07T16:46:35.876Z"
   },
   {
    "duration": 465,
    "start_time": "2021-12-07T16:47:34.962Z"
   },
   {
    "duration": 100,
    "start_time": "2021-12-07T16:53:45.298Z"
   },
   {
    "duration": 456,
    "start_time": "2021-12-07T16:54:02.339Z"
   },
   {
    "duration": 1246,
    "start_time": "2021-12-07T16:54:38.219Z"
   },
   {
    "duration": 558,
    "start_time": "2021-12-07T16:54:48.491Z"
   },
   {
    "duration": 477,
    "start_time": "2021-12-07T16:55:00.646Z"
   },
   {
    "duration": 500,
    "start_time": "2021-12-07T16:55:07.596Z"
   },
   {
    "duration": 486,
    "start_time": "2021-12-07T16:57:14.895Z"
   },
   {
    "duration": 473,
    "start_time": "2021-12-07T16:57:21.935Z"
   },
   {
    "duration": 1550,
    "start_time": "2021-12-15T15:51:03.091Z"
   },
   {
    "duration": 5,
    "start_time": "2021-12-15T15:52:39.179Z"
   },
   {
    "duration": 586,
    "start_time": "2021-12-15T15:55:52.066Z"
   },
   {
    "duration": 304,
    "start_time": "2021-12-15T15:56:27.214Z"
   },
   {
    "duration": 240,
    "start_time": "2021-12-15T15:58:26.472Z"
   },
   {
    "duration": 160,
    "start_time": "2021-12-15T16:00:08.280Z"
   },
   {
    "duration": 111,
    "start_time": "2021-12-15T16:00:43.613Z"
   },
   {
    "duration": 1865,
    "start_time": "2021-12-15T16:01:02.397Z"
   },
   {
    "duration": 114,
    "start_time": "2021-12-15T16:01:26.292Z"
   },
   {
    "duration": 72,
    "start_time": "2021-12-15T16:01:49.470Z"
   },
   {
    "duration": 253,
    "start_time": "2021-12-15T16:22:14.621Z"
   },
   {
    "duration": 240,
    "start_time": "2021-12-15T16:22:24.353Z"
   },
   {
    "duration": 152,
    "start_time": "2021-12-15T16:31:13.546Z"
   },
   {
    "duration": 72,
    "start_time": "2021-12-15T16:32:46.963Z"
   },
   {
    "duration": 76,
    "start_time": "2021-12-15T16:32:59.068Z"
   },
   {
    "duration": 73,
    "start_time": "2021-12-15T16:33:15.509Z"
   },
   {
    "duration": 78,
    "start_time": "2021-12-15T16:33:32.613Z"
   },
   {
    "duration": 6,
    "start_time": "2021-12-15T16:40:41.361Z"
   },
   {
    "duration": 274,
    "start_time": "2021-12-15T16:40:41.370Z"
   },
   {
    "duration": 255,
    "start_time": "2021-12-15T16:40:41.647Z"
   },
   {
    "duration": 173,
    "start_time": "2021-12-15T16:40:41.906Z"
   },
   {
    "duration": 81,
    "start_time": "2021-12-15T16:40:42.082Z"
   },
   {
    "duration": 73,
    "start_time": "2021-12-15T16:40:42.167Z"
   },
   {
    "duration": 9699,
    "start_time": "2021-12-15T16:40:45.815Z"
   },
   {
    "duration": 487,
    "start_time": "2021-12-15T16:42:05.258Z"
   },
   {
    "duration": 28,
    "start_time": "2021-12-15T16:42:11.809Z"
   },
   {
    "duration": 246,
    "start_time": "2021-12-15T16:43:27.571Z"
   },
   {
    "duration": 45,
    "start_time": "2021-12-15T16:43:57.228Z"
   },
   {
    "duration": 54,
    "start_time": "2021-12-15T16:46:40.126Z"
   },
   {
    "duration": 494,
    "start_time": "2021-12-15T16:47:23.984Z"
   },
   {
    "duration": 30,
    "start_time": "2021-12-15T16:48:45.139Z"
   },
   {
    "duration": 30,
    "start_time": "2021-12-15T16:48:56.219Z"
   },
   {
    "duration": 29,
    "start_time": "2021-12-15T16:49:15.187Z"
   },
   {
    "duration": 167,
    "start_time": "2021-12-15T17:01:47.508Z"
   },
   {
    "duration": 181,
    "start_time": "2021-12-15T17:19:42.841Z"
   },
   {
    "duration": 167,
    "start_time": "2021-12-15T17:19:59.457Z"
   },
   {
    "duration": 250,
    "start_time": "2021-12-15T17:20:17.066Z"
   },
   {
    "duration": 851,
    "start_time": "2021-12-15T17:22:35.411Z"
   },
   {
    "duration": 971,
    "start_time": "2021-12-15T17:23:05.342Z"
   },
   {
    "duration": 792,
    "start_time": "2021-12-15T17:23:14.470Z"
   },
   {
    "duration": 747,
    "start_time": "2021-12-15T17:24:11.855Z"
   },
   {
    "duration": 37,
    "start_time": "2021-12-15T17:24:33.752Z"
   },
   {
    "duration": 174,
    "start_time": "2021-12-15T17:27:27.177Z"
   },
   {
    "duration": 990,
    "start_time": "2021-12-15T17:28:03.309Z"
   },
   {
    "duration": 9248,
    "start_time": "2021-12-15T17:28:04.301Z"
   },
   {
    "duration": 149,
    "start_time": "2021-12-15T17:28:13.404Z"
   },
   {
    "duration": 147,
    "start_time": "2021-12-15T17:28:13.407Z"
   },
   {
    "duration": 147,
    "start_time": "2021-12-15T17:28:13.409Z"
   },
   {
    "duration": 145,
    "start_time": "2021-12-15T17:28:13.412Z"
   },
   {
    "duration": 143,
    "start_time": "2021-12-15T17:28:13.415Z"
   },
   {
    "duration": 141,
    "start_time": "2021-12-15T17:28:13.418Z"
   },
   {
    "duration": 141,
    "start_time": "2021-12-15T17:28:13.420Z"
   },
   {
    "duration": 139,
    "start_time": "2021-12-15T17:28:13.423Z"
   },
   {
    "duration": 138,
    "start_time": "2021-12-15T17:28:13.425Z"
   },
   {
    "duration": 130,
    "start_time": "2021-12-15T17:28:13.434Z"
   },
   {
    "duration": 129,
    "start_time": "2021-12-15T17:28:13.437Z"
   },
   {
    "duration": 127,
    "start_time": "2021-12-15T17:28:13.440Z"
   },
   {
    "duration": 126,
    "start_time": "2021-12-15T17:28:13.442Z"
   },
   {
    "duration": 125,
    "start_time": "2021-12-15T17:28:13.445Z"
   },
   {
    "duration": 123,
    "start_time": "2021-12-15T17:28:13.448Z"
   },
   {
    "duration": 122,
    "start_time": "2021-12-15T17:28:13.450Z"
   },
   {
    "duration": 120,
    "start_time": "2021-12-15T17:28:13.453Z"
   },
   {
    "duration": 119,
    "start_time": "2021-12-15T17:28:13.455Z"
   },
   {
    "duration": 118,
    "start_time": "2021-12-15T17:28:13.457Z"
   },
   {
    "duration": 88,
    "start_time": "2021-12-15T17:28:13.489Z"
   },
   {
    "duration": 87,
    "start_time": "2021-12-15T17:28:13.492Z"
   },
   {
    "duration": 82,
    "start_time": "2021-12-15T17:28:13.498Z"
   },
   {
    "duration": 81,
    "start_time": "2021-12-15T17:28:13.501Z"
   },
   {
    "duration": 80,
    "start_time": "2021-12-15T17:28:13.504Z"
   },
   {
    "duration": 71,
    "start_time": "2021-12-15T17:28:13.515Z"
   },
   {
    "duration": 69,
    "start_time": "2021-12-15T17:28:13.518Z"
   },
   {
    "duration": 65,
    "start_time": "2021-12-15T17:28:13.524Z"
   },
   {
    "duration": 53,
    "start_time": "2021-12-15T17:28:13.538Z"
   },
   {
    "duration": 52,
    "start_time": "2021-12-15T17:28:13.541Z"
   },
   {
    "duration": 51,
    "start_time": "2021-12-15T17:28:13.544Z"
   },
   {
    "duration": 49,
    "start_time": "2021-12-15T17:28:13.547Z"
   },
   {
    "duration": 48,
    "start_time": "2021-12-15T17:28:13.550Z"
   },
   {
    "duration": 1503,
    "start_time": "2021-12-15T17:28:36.816Z"
   },
   {
    "duration": 272,
    "start_time": "2021-12-15T17:28:38.322Z"
   },
   {
    "duration": 232,
    "start_time": "2021-12-15T17:28:38.597Z"
   },
   {
    "duration": 160,
    "start_time": "2021-12-15T17:28:38.832Z"
   },
   {
    "duration": 79,
    "start_time": "2021-12-15T17:28:38.994Z"
   },
   {
    "duration": 96,
    "start_time": "2021-12-15T17:28:39.075Z"
   },
   {
    "duration": 41,
    "start_time": "2021-12-15T17:28:39.174Z"
   },
   {
    "duration": 197,
    "start_time": "2021-12-15T17:28:39.218Z"
   },
   {
    "duration": 725,
    "start_time": "2021-12-15T17:28:42.410Z"
   },
   {
    "duration": 169,
    "start_time": "2021-12-15T17:28:54.810Z"
   },
   {
    "duration": 166,
    "start_time": "2021-12-15T17:37:36.794Z"
   },
   {
    "duration": 170,
    "start_time": "2021-12-15T17:38:00.440Z"
   },
   {
    "duration": 156,
    "start_time": "2021-12-15T17:39:46.587Z"
   },
   {
    "duration": 1445,
    "start_time": "2021-12-15T17:40:06.771Z"
   },
   {
    "duration": 166,
    "start_time": "2021-12-15T17:40:19.716Z"
   },
   {
    "duration": 175,
    "start_time": "2021-12-15T17:42:07.942Z"
   },
   {
    "duration": 150,
    "start_time": "2021-12-15T17:42:28.678Z"
   },
   {
    "duration": 1534,
    "start_time": "2021-12-15T17:42:41.415Z"
   },
   {
    "duration": 140,
    "start_time": "2021-12-15T17:42:55.391Z"
   },
   {
    "duration": 144,
    "start_time": "2021-12-15T17:42:59.727Z"
   },
   {
    "duration": 171,
    "start_time": "2021-12-15T17:43:05.463Z"
   },
   {
    "duration": 298,
    "start_time": "2021-12-15T17:45:27.140Z"
   },
   {
    "duration": 264,
    "start_time": "2021-12-15T17:45:53.795Z"
   },
   {
    "duration": 266,
    "start_time": "2021-12-15T17:46:13.227Z"
   },
   {
    "duration": 303,
    "start_time": "2021-12-15T17:47:05.274Z"
   },
   {
    "duration": 658,
    "start_time": "2021-12-15T17:47:35.816Z"
   },
   {
    "duration": 222,
    "start_time": "2021-12-15T17:47:49.262Z"
   },
   {
    "duration": 258,
    "start_time": "2021-12-15T17:48:16.463Z"
   },
   {
    "duration": 225,
    "start_time": "2021-12-15T17:48:29.920Z"
   },
   {
    "duration": 249,
    "start_time": "2021-12-15T17:48:59.928Z"
   },
   {
    "duration": 258,
    "start_time": "2021-12-15T17:56:39.380Z"
   },
   {
    "duration": 13300,
    "start_time": "2021-12-15T17:58:50.550Z"
   },
   {
    "duration": 132,
    "start_time": "2021-12-15T17:59:27.863Z"
   },
   {
    "duration": 165,
    "start_time": "2021-12-15T18:02:15.668Z"
   },
   {
    "duration": 133,
    "start_time": "2021-12-15T18:02:22.476Z"
   },
   {
    "duration": 256,
    "start_time": "2021-12-15T18:02:24.755Z"
   },
   {
    "duration": 169,
    "start_time": "2021-12-15T18:10:32.512Z"
   },
   {
    "duration": 374,
    "start_time": "2021-12-15T18:10:41.488Z"
   },
   {
    "duration": 474,
    "start_time": "2021-12-15T18:11:03.393Z"
   },
   {
    "duration": 613,
    "start_time": "2021-12-15T18:11:18.785Z"
   },
   {
    "duration": 651,
    "start_time": "2021-12-15T18:11:28.337Z"
   },
   {
    "duration": 153,
    "start_time": "2021-12-15T18:13:42.453Z"
   },
   {
    "duration": 92,
    "start_time": "2021-12-15T18:13:51.557Z"
   },
   {
    "duration": 430,
    "start_time": "2021-12-15T18:15:59.386Z"
   },
   {
    "duration": 96,
    "start_time": "2021-12-15T18:16:25.145Z"
   },
   {
    "duration": 108,
    "start_time": "2021-12-15T18:20:06.566Z"
   },
   {
    "duration": 158,
    "start_time": "2021-12-15T18:20:10.206Z"
   },
   {
    "duration": 460,
    "start_time": "2021-12-15T18:21:44.392Z"
   },
   {
    "duration": 473,
    "start_time": "2021-12-15T18:21:52.897Z"
   },
   {
    "duration": 157,
    "start_time": "2021-12-15T18:22:07.352Z"
   },
   {
    "duration": 206,
    "start_time": "2021-12-15T18:22:37.153Z"
   },
   {
    "duration": 193,
    "start_time": "2021-12-15T18:22:41.217Z"
   },
   {
    "duration": 187,
    "start_time": "2021-12-15T18:23:54.995Z"
   },
   {
    "duration": 96,
    "start_time": "2021-12-15T18:24:40.253Z"
   },
   {
    "duration": 401,
    "start_time": "2021-12-15T18:26:49.592Z"
   },
   {
    "duration": 395,
    "start_time": "2021-12-15T18:27:13.584Z"
   },
   {
    "duration": 52,
    "start_time": "2021-12-15T18:28:36.018Z"
   },
   {
    "duration": 59,
    "start_time": "2021-12-15T18:29:21.043Z"
   },
   {
    "duration": 49,
    "start_time": "2021-12-15T18:30:01.268Z"
   },
   {
    "duration": 401,
    "start_time": "2021-12-15T18:34:17.067Z"
   },
   {
    "duration": 394,
    "start_time": "2021-12-15T18:34:33.834Z"
   },
   {
    "duration": 389,
    "start_time": "2021-12-15T18:34:45.243Z"
   },
   {
    "duration": 60,
    "start_time": "2021-12-15T18:34:56.002Z"
   },
   {
    "duration": 93,
    "start_time": "2021-12-15T18:35:43.573Z"
   },
   {
    "duration": 123,
    "start_time": "2021-12-15T18:37:55.663Z"
   },
   {
    "duration": 125,
    "start_time": "2021-12-15T18:41:31.845Z"
   },
   {
    "duration": 125,
    "start_time": "2021-12-15T18:43:36.545Z"
   },
   {
    "duration": 275,
    "start_time": "2021-12-15T18:45:01.745Z"
   },
   {
    "duration": 265,
    "start_time": "2021-12-15T18:45:09.922Z"
   },
   {
    "duration": 126,
    "start_time": "2021-12-15T18:47:22.126Z"
   },
   {
    "duration": 167,
    "start_time": "2021-12-15T18:48:21.352Z"
   },
   {
    "duration": 7,
    "start_time": "2021-12-15T18:53:47.655Z"
   },
   {
    "duration": 10,
    "start_time": "2021-12-15T18:53:56.543Z"
   },
   {
    "duration": 12,
    "start_time": "2021-12-15T19:01:08.507Z"
   },
   {
    "duration": 12,
    "start_time": "2021-12-15T19:02:42.708Z"
   },
   {
    "duration": 371,
    "start_time": "2021-12-15T19:10:03.472Z"
   },
   {
    "duration": 5,
    "start_time": "2021-12-15T19:10:58.984Z"
   },
   {
    "duration": 734,
    "start_time": "2021-12-15T19:11:05.400Z"
   },
   {
    "duration": 607,
    "start_time": "2021-12-15T19:11:37.297Z"
   },
   {
    "duration": 453,
    "start_time": "2021-12-15T19:11:43.257Z"
   },
   {
    "duration": 13,
    "start_time": "2021-12-15T19:12:58.835Z"
   },
   {
    "duration": 5,
    "start_time": "2021-12-15T19:13:09.459Z"
   },
   {
    "duration": 13,
    "start_time": "2021-12-15T19:13:42.531Z"
   },
   {
    "duration": 15,
    "start_time": "2021-12-15T19:13:47.364Z"
   },
   {
    "duration": 14,
    "start_time": "2021-12-15T19:14:46.957Z"
   },
   {
    "duration": 53,
    "start_time": "2021-12-15T19:15:21.670Z"
   },
   {
    "duration": 23,
    "start_time": "2021-12-15T19:16:41.360Z"
   },
   {
    "duration": 21,
    "start_time": "2021-12-15T19:18:23.198Z"
   },
   {
    "duration": 22,
    "start_time": "2021-12-15T19:18:27.581Z"
   },
   {
    "duration": 20,
    "start_time": "2021-12-15T19:18:38.356Z"
   },
   {
    "duration": 86,
    "start_time": "2021-12-15T19:19:10.932Z"
   },
   {
    "duration": 20,
    "start_time": "2021-12-15T19:19:31.493Z"
   },
   {
    "duration": 134,
    "start_time": "2021-12-15T19:21:56.232Z"
   },
   {
    "duration": 19,
    "start_time": "2021-12-15T19:22:26.313Z"
   },
   {
    "duration": 1652,
    "start_time": "2021-12-15T19:23:07.361Z"
   },
   {
    "duration": 305,
    "start_time": "2021-12-15T19:23:09.016Z"
   },
   {
    "duration": 302,
    "start_time": "2021-12-15T19:23:09.325Z"
   },
   {
    "duration": 170,
    "start_time": "2021-12-15T19:23:09.631Z"
   },
   {
    "duration": 75,
    "start_time": "2021-12-15T19:23:09.803Z"
   },
   {
    "duration": 116,
    "start_time": "2021-12-15T19:23:09.881Z"
   },
   {
    "duration": 63,
    "start_time": "2021-12-15T19:23:10.000Z"
   },
   {
    "duration": 224,
    "start_time": "2021-12-15T19:23:10.068Z"
   },
   {
    "duration": 286,
    "start_time": "2021-12-15T19:23:10.296Z"
   },
   {
    "duration": 168,
    "start_time": "2021-12-15T19:23:10.585Z"
   },
   {
    "duration": 209,
    "start_time": "2021-12-15T19:23:10.756Z"
   },
   {
    "duration": 164,
    "start_time": "2021-12-15T19:23:10.968Z"
   },
   {
    "duration": 37,
    "start_time": "2021-12-15T19:23:11.135Z"
   },
   {
    "duration": 857,
    "start_time": "2021-12-15T19:23:11.175Z"
   },
   {
    "duration": 203,
    "start_time": "2021-12-15T19:23:11.834Z"
   },
   {
    "duration": 197,
    "start_time": "2021-12-15T19:23:11.842Z"
   },
   {
    "duration": 191,
    "start_time": "2021-12-15T19:23:11.849Z"
   },
   {
    "duration": 187,
    "start_time": "2021-12-15T19:23:11.855Z"
   },
   {
    "duration": 185,
    "start_time": "2021-12-15T19:23:11.859Z"
   },
   {
    "duration": 183,
    "start_time": "2021-12-15T19:23:11.862Z"
   },
   {
    "duration": 182,
    "start_time": "2021-12-15T19:23:11.865Z"
   },
   {
    "duration": 181,
    "start_time": "2021-12-15T19:23:11.868Z"
   },
   {
    "duration": 179,
    "start_time": "2021-12-15T19:23:11.871Z"
   },
   {
    "duration": 178,
    "start_time": "2021-12-15T19:23:11.874Z"
   },
   {
    "duration": 176,
    "start_time": "2021-12-15T19:23:11.877Z"
   },
   {
    "duration": 171,
    "start_time": "2021-12-15T19:23:11.884Z"
   },
   {
    "duration": 168,
    "start_time": "2021-12-15T19:23:11.888Z"
   },
   {
    "duration": 167,
    "start_time": "2021-12-15T19:23:11.891Z"
   },
   {
    "duration": 166,
    "start_time": "2021-12-15T19:23:11.894Z"
   },
   {
    "duration": 164,
    "start_time": "2021-12-15T19:23:11.897Z"
   },
   {
    "duration": 163,
    "start_time": "2021-12-15T19:23:11.900Z"
   },
   {
    "duration": 163,
    "start_time": "2021-12-15T19:23:11.902Z"
   },
   {
    "duration": 161,
    "start_time": "2021-12-15T19:23:11.905Z"
   },
   {
    "duration": 161,
    "start_time": "2021-12-15T19:23:11.907Z"
   },
   {
    "duration": 160,
    "start_time": "2021-12-15T19:23:11.910Z"
   },
   {
    "duration": 159,
    "start_time": "2021-12-15T19:23:11.912Z"
   },
   {
    "duration": 153,
    "start_time": "2021-12-15T19:23:11.920Z"
   },
   {
    "duration": 151,
    "start_time": "2021-12-15T19:23:11.923Z"
   },
   {
    "duration": 150,
    "start_time": "2021-12-15T19:23:11.926Z"
   },
   {
    "duration": 149,
    "start_time": "2021-12-15T19:23:11.928Z"
   },
   {
    "duration": 148,
    "start_time": "2021-12-15T19:23:11.931Z"
   },
   {
    "duration": 148,
    "start_time": "2021-12-15T19:23:11.933Z"
   },
   {
    "duration": 146,
    "start_time": "2021-12-15T19:23:11.936Z"
   },
   {
    "duration": 112,
    "start_time": "2021-12-15T19:23:11.972Z"
   },
   {
    "duration": 106,
    "start_time": "2021-12-15T19:23:11.980Z"
   },
   {
    "duration": 100,
    "start_time": "2021-12-15T19:23:11.987Z"
   },
   {
    "duration": 129,
    "start_time": "2021-12-15T19:23:55.230Z"
   },
   {
    "duration": 20,
    "start_time": "2021-12-15T19:24:04.588Z"
   },
   {
    "duration": 22,
    "start_time": "2021-12-15T19:24:20.779Z"
   },
   {
    "duration": 18,
    "start_time": "2021-12-15T19:24:24.524Z"
   },
   {
    "duration": 31,
    "start_time": "2021-12-15T19:24:32.036Z"
   },
   {
    "duration": 120,
    "start_time": "2021-12-15T19:25:13.022Z"
   },
   {
    "duration": 3,
    "start_time": "2021-12-15T19:52:07.428Z"
   },
   {
    "duration": 7,
    "start_time": "2021-12-15T19:56:56.020Z"
   },
   {
    "duration": 28,
    "start_time": "2021-12-15T19:58:26.719Z"
   },
   {
    "duration": 508,
    "start_time": "2021-12-15T19:58:52.216Z"
   },
   {
    "duration": 375,
    "start_time": "2021-12-15T19:58:58.040Z"
   },
   {
    "duration": 371,
    "start_time": "2021-12-15T19:59:08.536Z"
   },
   {
    "duration": 28,
    "start_time": "2021-12-15T19:59:22.288Z"
   },
   {
    "duration": 9,
    "start_time": "2021-12-15T20:00:30.259Z"
   },
   {
    "duration": 10,
    "start_time": "2021-12-15T20:00:38.908Z"
   },
   {
    "duration": 364,
    "start_time": "2021-12-15T20:01:09.403Z"
   },
   {
    "duration": 387,
    "start_time": "2021-12-15T20:02:06.780Z"
   },
   {
    "duration": 15,
    "start_time": "2021-12-15T20:02:29.789Z"
   },
   {
    "duration": 14,
    "start_time": "2021-12-15T20:04:17.424Z"
   },
   {
    "duration": 12,
    "start_time": "2021-12-15T20:04:31.631Z"
   },
   {
    "duration": 15,
    "start_time": "2021-12-15T20:04:43.487Z"
   },
   {
    "duration": 18,
    "start_time": "2021-12-15T20:06:23.835Z"
   },
   {
    "duration": 610,
    "start_time": "2021-12-15T20:12:43.405Z"
   },
   {
    "duration": 406,
    "start_time": "2021-12-15T20:45:01.810Z"
   },
   {
    "duration": 748,
    "start_time": "2021-12-15T20:45:14.943Z"
   },
   {
    "duration": 362,
    "start_time": "2021-12-15T20:45:31.096Z"
   },
   {
    "duration": 357,
    "start_time": "2021-12-15T20:47:10.762Z"
   },
   {
    "duration": 409,
    "start_time": "2021-12-15T20:47:19.754Z"
   },
   {
    "duration": 199,
    "start_time": "2021-12-15T20:58:47.249Z"
   },
   {
    "duration": 644,
    "start_time": "2021-12-15T20:58:52.275Z"
   },
   {
    "duration": 17232,
    "start_time": "2021-12-15T20:59:15.564Z"
   },
   {
    "duration": 3280,
    "start_time": "2021-12-15T20:59:39.637Z"
   },
   {
    "duration": 388,
    "start_time": "2021-12-15T21:00:21.567Z"
   },
   {
    "duration": 1165,
    "start_time": "2021-12-15T21:00:31.573Z"
   },
   {
    "duration": 388,
    "start_time": "2021-12-15T21:00:57.662Z"
   },
   {
    "duration": 314,
    "start_time": "2021-12-15T21:02:38.721Z"
   },
   {
    "duration": 442,
    "start_time": "2021-12-15T21:03:27.881Z"
   },
   {
    "duration": 471,
    "start_time": "2021-12-15T21:03:50.003Z"
   },
   {
    "duration": 423,
    "start_time": "2021-12-15T21:04:11.076Z"
   },
   {
    "duration": 411,
    "start_time": "2021-12-15T21:05:10.293Z"
   },
   {
    "duration": 729,
    "start_time": "2021-12-15T21:05:22.485Z"
   },
   {
    "duration": 740,
    "start_time": "2021-12-15T21:07:05.488Z"
   },
   {
    "duration": 804,
    "start_time": "2021-12-15T21:07:11.424Z"
   },
   {
    "duration": 856,
    "start_time": "2021-12-15T21:07:17.608Z"
   },
   {
    "duration": 571,
    "start_time": "2021-12-15T21:08:19.472Z"
   },
   {
    "duration": 1328,
    "start_time": "2021-12-15T21:08:48.978Z"
   },
   {
    "duration": 826,
    "start_time": "2021-12-15T21:08:54.411Z"
   },
   {
    "duration": 872,
    "start_time": "2021-12-15T21:09:27.987Z"
   },
   {
    "duration": 575,
    "start_time": "2021-12-15T21:10:26.108Z"
   },
   {
    "duration": 1247,
    "start_time": "2021-12-15T21:10:34.852Z"
   },
   {
    "duration": 1042,
    "start_time": "2021-12-15T21:10:39.324Z"
   },
   {
    "duration": 1281,
    "start_time": "2021-12-15T21:10:42.413Z"
   },
   {
    "duration": 948,
    "start_time": "2021-12-15T21:10:48.261Z"
   },
   {
    "duration": 1272,
    "start_time": "2021-12-15T21:10:55.589Z"
   },
   {
    "duration": 895,
    "start_time": "2021-12-15T21:11:01.390Z"
   },
   {
    "duration": 588,
    "start_time": "2021-12-15T21:11:54.485Z"
   },
   {
    "duration": 1293,
    "start_time": "2021-12-15T21:12:56.967Z"
   },
   {
    "duration": 1110,
    "start_time": "2021-12-15T21:13:44.929Z"
   },
   {
    "duration": 959,
    "start_time": "2021-12-15T21:14:31.234Z"
   },
   {
    "duration": 1093,
    "start_time": "2021-12-15T21:14:45.435Z"
   },
   {
    "duration": 953,
    "start_time": "2021-12-15T21:15:17.539Z"
   },
   {
    "duration": 575,
    "start_time": "2021-12-15T21:15:37.731Z"
   },
   {
    "duration": 575,
    "start_time": "2021-12-15T21:15:59.169Z"
   },
   {
    "duration": 576,
    "start_time": "2021-12-15T21:16:18.301Z"
   },
   {
    "duration": 591,
    "start_time": "2021-12-15T21:17:00.750Z"
   },
   {
    "duration": 587,
    "start_time": "2021-12-15T21:18:02.391Z"
   },
   {
    "duration": 685,
    "start_time": "2021-12-15T21:19:10.553Z"
   },
   {
    "duration": 728,
    "start_time": "2021-12-15T21:19:22.809Z"
   },
   {
    "duration": 689,
    "start_time": "2021-12-15T21:20:17.474Z"
   },
   {
    "duration": 584,
    "start_time": "2021-12-15T21:20:33.731Z"
   },
   {
    "duration": 584,
    "start_time": "2021-12-15T21:21:08.027Z"
   },
   {
    "duration": 590,
    "start_time": "2021-12-15T21:21:37.860Z"
   },
   {
    "duration": 1570,
    "start_time": "2021-12-15T21:27:17.381Z"
   },
   {
    "duration": 570,
    "start_time": "2021-12-15T21:27:37.494Z"
   },
   {
    "duration": 583,
    "start_time": "2021-12-15T21:27:53.645Z"
   },
   {
    "duration": 577,
    "start_time": "2021-12-15T21:28:38.206Z"
   },
   {
    "duration": 591,
    "start_time": "2021-12-15T21:28:54.999Z"
   },
   {
    "duration": 952,
    "start_time": "2021-12-15T21:29:03.439Z"
   },
   {
    "duration": 1091,
    "start_time": "2021-12-15T21:29:16.192Z"
   },
   {
    "duration": 578,
    "start_time": "2021-12-15T21:29:24.897Z"
   },
   {
    "duration": 1208,
    "start_time": "2021-12-15T21:29:50.897Z"
   },
   {
    "duration": 1108,
    "start_time": "2021-12-15T21:30:14.344Z"
   },
   {
    "duration": 76,
    "start_time": "2021-12-16T07:20:55.608Z"
   },
   {
    "duration": 268,
    "start_time": "2021-12-16T07:20:59.776Z"
   },
   {
    "duration": 1080,
    "start_time": "2021-12-16T07:21:11.152Z"
   },
   {
    "duration": 191,
    "start_time": "2021-12-16T07:21:12.233Z"
   },
   {
    "duration": 232,
    "start_time": "2021-12-16T07:21:12.426Z"
   },
   {
    "duration": 164,
    "start_time": "2021-12-16T07:21:12.661Z"
   },
   {
    "duration": 62,
    "start_time": "2021-12-16T07:21:12.828Z"
   },
   {
    "duration": 74,
    "start_time": "2021-12-16T07:21:12.892Z"
   },
   {
    "duration": 41,
    "start_time": "2021-12-16T07:21:12.968Z"
   },
   {
    "duration": 190,
    "start_time": "2021-12-16T07:21:13.012Z"
   },
   {
    "duration": 224,
    "start_time": "2021-12-16T07:21:13.205Z"
   },
   {
    "duration": 134,
    "start_time": "2021-12-16T07:21:13.431Z"
   },
   {
    "duration": 146,
    "start_time": "2021-12-16T07:21:13.567Z"
   },
   {
    "duration": 127,
    "start_time": "2021-12-16T07:21:13.715Z"
   },
   {
    "duration": 92,
    "start_time": "2021-12-16T07:21:13.845Z"
   },
   {
    "duration": 3040,
    "start_time": "2021-12-16T07:21:15.651Z"
   },
   {
    "duration": 213,
    "start_time": "2021-12-16T07:22:18.564Z"
   },
   {
    "duration": 717,
    "start_time": "2021-12-16T07:29:31.726Z"
   },
   {
    "duration": 382,
    "start_time": "2021-12-16T07:42:24.321Z"
   },
   {
    "duration": 257,
    "start_time": "2021-12-16T07:43:52.859Z"
   },
   {
    "duration": 5,
    "start_time": "2021-12-16T07:51:35.898Z"
   },
   {
    "duration": 272,
    "start_time": "2021-12-16T07:51:35.905Z"
   },
   {
    "duration": 249,
    "start_time": "2021-12-16T07:51:36.180Z"
   },
   {
    "duration": 115,
    "start_time": "2021-12-16T07:51:36.431Z"
   },
   {
    "duration": 49,
    "start_time": "2021-12-16T07:51:36.548Z"
   },
   {
    "duration": 54,
    "start_time": "2021-12-16T07:51:36.599Z"
   },
   {
    "duration": 37,
    "start_time": "2021-12-16T07:51:36.655Z"
   },
   {
    "duration": 141,
    "start_time": "2021-12-16T07:51:36.695Z"
   },
   {
    "duration": 166,
    "start_time": "2021-12-16T07:51:36.838Z"
   },
   {
    "duration": 100,
    "start_time": "2021-12-16T07:51:37.005Z"
   },
   {
    "duration": 107,
    "start_time": "2021-12-16T07:51:37.107Z"
   },
   {
    "duration": 92,
    "start_time": "2021-12-16T07:51:37.215Z"
   },
   {
    "duration": 48,
    "start_time": "2021-12-16T07:51:37.309Z"
   },
   {
    "duration": 608,
    "start_time": "2021-12-16T07:51:37.359Z"
   },
   {
    "duration": 692,
    "start_time": "2021-12-16T08:01:01.147Z"
   },
   {
    "duration": 746,
    "start_time": "2021-12-16T08:01:19.932Z"
   },
   {
    "duration": 791,
    "start_time": "2021-12-16T08:15:06.416Z"
   },
   {
    "duration": 585,
    "start_time": "2021-12-16T08:15:40.455Z"
   },
   {
    "duration": 581,
    "start_time": "2021-12-16T08:16:03.394Z"
   },
   {
    "duration": 980,
    "start_time": "2021-12-16T08:18:37.492Z"
   },
   {
    "duration": 934,
    "start_time": "2021-12-16T08:29:53.204Z"
   },
   {
    "duration": 16,
    "start_time": "2021-12-16T09:58:01.473Z"
   },
   {
    "duration": 18,
    "start_time": "2021-12-16T09:59:07.209Z"
   },
   {
    "duration": 12,
    "start_time": "2021-12-16T09:59:20.168Z"
   },
   {
    "duration": 11,
    "start_time": "2021-12-16T09:59:26.857Z"
   },
   {
    "duration": 10,
    "start_time": "2021-12-16T10:02:54.348Z"
   },
   {
    "duration": 8,
    "start_time": "2021-12-16T10:17:06.451Z"
   },
   {
    "duration": 20,
    "start_time": "2021-12-16T10:19:34.781Z"
   },
   {
    "duration": 16,
    "start_time": "2021-12-16T10:20:17.016Z"
   },
   {
    "duration": 261,
    "start_time": "2021-12-16T10:20:49.753Z"
   },
   {
    "duration": 19,
    "start_time": "2021-12-16T10:21:15.179Z"
   },
   {
    "duration": 23,
    "start_time": "2021-12-16T10:21:29.561Z"
   },
   {
    "duration": 12,
    "start_time": "2021-12-16T10:31:44.983Z"
   },
   {
    "duration": 14,
    "start_time": "2021-12-16T10:32:42.370Z"
   },
   {
    "duration": 248,
    "start_time": "2021-12-16T10:36:42.752Z"
   },
   {
    "duration": 15,
    "start_time": "2021-12-16T10:37:20.634Z"
   },
   {
    "duration": 255,
    "start_time": "2021-12-16T10:37:58.275Z"
   },
   {
    "duration": 311,
    "start_time": "2021-12-16T10:38:07.642Z"
   },
   {
    "duration": 16,
    "start_time": "2021-12-16T10:38:43.716Z"
   },
   {
    "duration": 13,
    "start_time": "2021-12-16T10:40:39.678Z"
   },
   {
    "duration": 17,
    "start_time": "2021-12-16T10:48:25.037Z"
   },
   {
    "duration": 11,
    "start_time": "2021-12-16T10:51:51.527Z"
   },
   {
    "duration": 10,
    "start_time": "2021-12-16T11:00:05.890Z"
   },
   {
    "duration": 12,
    "start_time": "2021-12-16T11:00:13.642Z"
   },
   {
    "duration": 14,
    "start_time": "2021-12-16T11:00:24.410Z"
   },
   {
    "duration": 15,
    "start_time": "2021-12-16T11:00:27.482Z"
   },
   {
    "duration": 15,
    "start_time": "2021-12-16T11:00:31.331Z"
   },
   {
    "duration": 1392,
    "start_time": "2021-12-16T11:14:37.295Z"
   },
   {
    "duration": 273,
    "start_time": "2021-12-16T11:14:38.689Z"
   },
   {
    "duration": 242,
    "start_time": "2021-12-16T11:14:38.966Z"
   },
   {
    "duration": 159,
    "start_time": "2021-12-16T11:14:39.210Z"
   },
   {
    "duration": 52,
    "start_time": "2021-12-16T11:14:39.370Z"
   },
   {
    "duration": 53,
    "start_time": "2021-12-16T11:14:39.424Z"
   },
   {
    "duration": 29,
    "start_time": "2021-12-16T11:14:39.479Z"
   },
   {
    "duration": 134,
    "start_time": "2021-12-16T11:14:39.510Z"
   },
   {
    "duration": 168,
    "start_time": "2021-12-16T11:14:39.646Z"
   },
   {
    "duration": 104,
    "start_time": "2021-12-16T11:14:39.816Z"
   },
   {
    "duration": 115,
    "start_time": "2021-12-16T11:14:39.922Z"
   },
   {
    "duration": 79,
    "start_time": "2021-12-16T11:14:40.038Z"
   },
   {
    "duration": 46,
    "start_time": "2021-12-16T11:14:40.119Z"
   },
   {
    "duration": 610,
    "start_time": "2021-12-16T11:14:40.167Z"
   },
   {
    "duration": 577,
    "start_time": "2021-12-16T11:14:40.779Z"
   },
   {
    "duration": 776,
    "start_time": "2021-12-16T11:14:41.359Z"
   },
   {
    "duration": 20,
    "start_time": "2021-12-16T11:14:42.137Z"
   },
   {
    "duration": 29,
    "start_time": "2021-12-16T11:14:42.159Z"
   },
   {
    "duration": 16,
    "start_time": "2021-12-16T11:14:42.190Z"
   },
   {
    "duration": 90,
    "start_time": "2021-12-16T11:14:42.207Z"
   },
   {
    "duration": 1096,
    "start_time": "2021-12-16T13:58:49.177Z"
   },
   {
    "duration": 213,
    "start_time": "2021-12-16T13:58:50.275Z"
   },
   {
    "duration": 170,
    "start_time": "2021-12-16T13:58:50.490Z"
   },
   {
    "duration": 115,
    "start_time": "2021-12-16T13:58:50.662Z"
   },
   {
    "duration": 47,
    "start_time": "2021-12-16T13:58:50.779Z"
   },
   {
    "duration": 68,
    "start_time": "2021-12-16T13:58:50.827Z"
   },
   {
    "duration": 33,
    "start_time": "2021-12-16T13:58:50.896Z"
   },
   {
    "duration": 144,
    "start_time": "2021-12-16T13:58:50.931Z"
   },
   {
    "duration": 194,
    "start_time": "2021-12-16T13:58:51.078Z"
   },
   {
    "duration": 119,
    "start_time": "2021-12-16T13:58:51.274Z"
   },
   {
    "duration": 129,
    "start_time": "2021-12-16T13:58:51.395Z"
   },
   {
    "duration": 87,
    "start_time": "2021-12-16T13:58:51.526Z"
   },
   {
    "duration": 69,
    "start_time": "2021-12-16T13:58:51.615Z"
   },
   {
    "duration": 663,
    "start_time": "2021-12-16T13:58:51.686Z"
   },
   {
    "duration": 665,
    "start_time": "2021-12-16T13:58:52.351Z"
   },
   {
    "duration": 662,
    "start_time": "2021-12-16T13:58:53.018Z"
   },
   {
    "duration": 17,
    "start_time": "2021-12-16T13:58:53.681Z"
   },
   {
    "duration": 10,
    "start_time": "2021-12-16T13:58:53.699Z"
   },
   {
    "duration": 41,
    "start_time": "2021-12-16T13:58:53.711Z"
   },
   {
    "duration": 11,
    "start_time": "2021-12-16T13:58:53.753Z"
   },
   {
    "duration": 99,
    "start_time": "2021-12-16T14:05:36.217Z"
   },
   {
    "duration": 93,
    "start_time": "2021-12-16T14:05:54.597Z"
   },
   {
    "duration": 4,
    "start_time": "2021-12-16T14:05:57.764Z"
   },
   {
    "duration": 3,
    "start_time": "2021-12-16T14:06:02.020Z"
   },
   {
    "duration": 8,
    "start_time": "2021-12-16T14:06:40.558Z"
   },
   {
    "duration": 6,
    "start_time": "2021-12-16T14:15:14.102Z"
   },
   {
    "duration": 795,
    "start_time": "2021-12-16T14:58:15.041Z"
   },
   {
    "duration": 1119,
    "start_time": "2021-12-16T14:58:26.595Z"
   },
   {
    "duration": 202,
    "start_time": "2021-12-16T14:58:27.716Z"
   },
   {
    "duration": 178,
    "start_time": "2021-12-16T14:58:27.920Z"
   },
   {
    "duration": 118,
    "start_time": "2021-12-16T14:58:28.100Z"
   },
   {
    "duration": 45,
    "start_time": "2021-12-16T14:58:28.220Z"
   },
   {
    "duration": 52,
    "start_time": "2021-12-16T14:58:28.266Z"
   },
   {
    "duration": 32,
    "start_time": "2021-12-16T14:58:30.251Z"
   },
   {
    "duration": 355,
    "start_time": "2021-12-16T15:10:32.743Z"
   },
   {
    "duration": 138,
    "start_time": "2021-12-16T15:11:00.190Z"
   },
   {
    "duration": 185,
    "start_time": "2021-12-16T15:11:02.989Z"
   },
   {
    "duration": 207,
    "start_time": "2021-12-16T15:15:48.597Z"
   },
   {
    "duration": 102,
    "start_time": "2021-12-16T15:17:10.222Z"
   },
   {
    "duration": 113,
    "start_time": "2021-12-16T15:18:19.137Z"
   },
   {
    "duration": 57,
    "start_time": "2021-12-16T15:19:23.962Z"
   },
   {
    "duration": 59,
    "start_time": "2021-12-16T15:19:28.881Z"
   },
   {
    "duration": 63,
    "start_time": "2021-12-16T15:19:33.242Z"
   },
   {
    "duration": 853,
    "start_time": "2021-12-16T15:19:50.170Z"
   },
   {
    "duration": 199,
    "start_time": "2021-12-16T15:20:13.539Z"
   },
   {
    "duration": 1308,
    "start_time": "2021-12-16T15:20:16.452Z"
   },
   {
    "duration": 720,
    "start_time": "2021-12-16T15:20:32.812Z"
   },
   {
    "duration": 204,
    "start_time": "2021-12-16T15:25:25.011Z"
   },
   {
    "duration": 112,
    "start_time": "2021-12-16T15:25:29.176Z"
   },
   {
    "duration": 120,
    "start_time": "2021-12-16T15:25:31.860Z"
   },
   {
    "duration": 136,
    "start_time": "2021-12-16T15:25:43.003Z"
   },
   {
    "duration": 189,
    "start_time": "2021-12-16T15:25:50.468Z"
   },
   {
    "duration": 5,
    "start_time": "2021-12-16T15:25:57.875Z"
   },
   {
    "duration": 4,
    "start_time": "2021-12-16T15:26:02.699Z"
   },
   {
    "duration": 89,
    "start_time": "2021-12-16T15:26:18.037Z"
   },
   {
    "duration": 12,
    "start_time": "2021-12-16T15:26:20.499Z"
   },
   {
    "duration": 4,
    "start_time": "2021-12-16T15:30:02.902Z"
   },
   {
    "duration": 205,
    "start_time": "2021-12-16T15:30:02.907Z"
   },
   {
    "duration": 183,
    "start_time": "2021-12-16T15:30:03.114Z"
   },
   {
    "duration": 113,
    "start_time": "2021-12-16T15:30:03.299Z"
   },
   {
    "duration": 47,
    "start_time": "2021-12-16T15:30:03.414Z"
   },
   {
    "duration": 53,
    "start_time": "2021-12-16T15:30:03.462Z"
   },
   {
    "duration": 26,
    "start_time": "2021-12-16T15:30:03.517Z"
   },
   {
    "duration": 146,
    "start_time": "2021-12-16T15:30:03.546Z"
   },
   {
    "duration": 197,
    "start_time": "2021-12-16T15:30:03.694Z"
   },
   {
    "duration": 99,
    "start_time": "2021-12-16T15:30:03.893Z"
   },
   {
    "duration": 123,
    "start_time": "2021-12-16T15:30:03.994Z"
   },
   {
    "duration": 180,
    "start_time": "2021-12-16T15:30:04.119Z"
   },
   {
    "duration": 4,
    "start_time": "2021-12-16T15:30:04.300Z"
   },
   {
    "duration": 14,
    "start_time": "2021-12-16T15:30:04.305Z"
   },
   {
    "duration": 88,
    "start_time": "2021-12-16T15:30:06.570Z"
   },
   {
    "duration": 11,
    "start_time": "2021-12-16T15:30:13.065Z"
   },
   {
    "duration": 171,
    "start_time": "2021-12-16T15:30:41.147Z"
   },
   {
    "duration": 91,
    "start_time": "2021-12-16T15:39:52.185Z"
   },
   {
    "duration": 90,
    "start_time": "2021-12-16T15:40:32.121Z"
   },
   {
    "duration": 474,
    "start_time": "2021-12-17T08:12:47.757Z"
   },
   {
    "duration": 1460,
    "start_time": "2021-12-17T08:12:54.617Z"
   },
   {
    "duration": 282,
    "start_time": "2021-12-17T08:12:56.080Z"
   },
   {
    "duration": 226,
    "start_time": "2021-12-17T08:12:56.366Z"
   },
   {
    "duration": 161,
    "start_time": "2021-12-17T08:12:56.594Z"
   },
   {
    "duration": 78,
    "start_time": "2021-12-17T08:12:56.758Z"
   },
   {
    "duration": 80,
    "start_time": "2021-12-17T08:12:56.839Z"
   },
   {
    "duration": 40,
    "start_time": "2021-12-17T08:12:56.922Z"
   },
   {
    "duration": 203,
    "start_time": "2021-12-17T08:12:56.967Z"
   },
   {
    "duration": 302,
    "start_time": "2021-12-17T08:12:57.173Z"
   },
   {
    "duration": 165,
    "start_time": "2021-12-17T08:12:57.477Z"
   },
   {
    "duration": 200,
    "start_time": "2021-12-17T08:12:57.645Z"
   },
   {
    "duration": 333,
    "start_time": "2021-12-17T08:12:57.848Z"
   },
   {
    "duration": 6,
    "start_time": "2021-12-17T08:12:58.184Z"
   },
   {
    "duration": 31,
    "start_time": "2021-12-17T08:12:58.192Z"
   },
   {
    "duration": 410,
    "start_time": "2021-12-17T08:13:01.998Z"
   },
   {
    "duration": 329,
    "start_time": "2021-12-17T08:16:12.457Z"
   },
   {
    "duration": 326,
    "start_time": "2021-12-17T08:17:34.317Z"
   },
   {
    "duration": 321,
    "start_time": "2021-12-17T08:18:18.550Z"
   },
   {
    "duration": 345,
    "start_time": "2021-12-17T08:18:57.832Z"
   },
   {
    "duration": 2513,
    "start_time": "2021-12-17T08:19:08.720Z"
   },
   {
    "duration": 2587,
    "start_time": "2021-12-17T08:20:28.575Z"
   },
   {
    "duration": 2222,
    "start_time": "2021-12-17T08:20:45.394Z"
   },
   {
    "duration": 2514,
    "start_time": "2021-12-17T08:35:02.632Z"
   },
   {
    "duration": 433,
    "start_time": "2021-12-17T08:35:30.617Z"
   },
   {
    "duration": 306,
    "start_time": "2021-12-17T08:35:37.096Z"
   },
   {
    "duration": 2619,
    "start_time": "2021-12-17T08:35:41.392Z"
   },
   {
    "duration": 2392,
    "start_time": "2021-12-17T08:36:01.913Z"
   },
   {
    "duration": 9,
    "start_time": "2021-12-17T08:37:14.048Z"
   },
   {
    "duration": 866,
    "start_time": "2021-12-17T08:37:47.224Z"
   },
   {
    "duration": 2816,
    "start_time": "2021-12-17T08:37:55.101Z"
   },
   {
    "duration": 14,
    "start_time": "2021-12-17T08:54:33.997Z"
   },
   {
    "duration": 64,
    "start_time": "2021-12-17T08:54:38.005Z"
   },
   {
    "duration": 143,
    "start_time": "2021-12-17T08:54:55.998Z"
   },
   {
    "duration": 340,
    "start_time": "2021-12-17T08:59:01.604Z"
   },
   {
    "duration": 25874,
    "start_time": "2021-12-17T08:59:12.661Z"
   },
   {
    "duration": 6,
    "start_time": "2021-12-17T09:01:26.568Z"
   },
   {
    "duration": 335,
    "start_time": "2021-12-17T09:01:26.578Z"
   },
   {
    "duration": 359,
    "start_time": "2021-12-17T09:01:26.916Z"
   },
   {
    "duration": 183,
    "start_time": "2021-12-17T09:01:27.277Z"
   },
   {
    "duration": 94,
    "start_time": "2021-12-17T09:01:27.463Z"
   },
   {
    "duration": 105,
    "start_time": "2021-12-17T09:01:27.560Z"
   },
   {
    "duration": 70,
    "start_time": "2021-12-17T09:01:27.669Z"
   },
   {
    "duration": 232,
    "start_time": "2021-12-17T09:01:27.743Z"
   },
   {
    "duration": 369,
    "start_time": "2021-12-17T09:01:27.978Z"
   },
   {
    "duration": 193,
    "start_time": "2021-12-17T09:01:28.350Z"
   },
   {
    "duration": 197,
    "start_time": "2021-12-17T09:01:28.546Z"
   },
   {
    "duration": 304,
    "start_time": "2021-12-17T09:01:28.747Z"
   },
   {
    "duration": 6,
    "start_time": "2021-12-17T09:01:29.054Z"
   },
   {
    "duration": 17,
    "start_time": "2021-12-17T09:01:29.063Z"
   },
   {
    "duration": 100804,
    "start_time": "2021-12-17T09:01:31.480Z"
   },
   {
    "duration": 88,
    "start_time": "2021-12-17T09:03:57.147Z"
   },
   {
    "duration": 9,
    "start_time": "2021-12-17T09:04:16.747Z"
   },
   {
    "duration": 11,
    "start_time": "2021-12-17T09:04:30.083Z"
   },
   {
    "duration": 2447,
    "start_time": "2021-12-17T09:04:54.933Z"
   },
   {
    "duration": 2057,
    "start_time": "2021-12-17T09:05:33.334Z"
   },
   {
    "duration": 95,
    "start_time": "2021-12-17T09:05:45.030Z"
   },
   {
    "duration": 353,
    "start_time": "2021-12-17T09:12:10.559Z"
   },
   {
    "duration": 345,
    "start_time": "2021-12-17T09:12:26.696Z"
   },
   {
    "duration": 402,
    "start_time": "2021-12-17T09:25:24.379Z"
   },
   {
    "duration": 107,
    "start_time": "2021-12-17T09:25:50.627Z"
   },
   {
    "duration": 10,
    "start_time": "2021-12-17T09:26:07.266Z"
   },
   {
    "duration": 114,
    "start_time": "2021-12-17T09:26:32.572Z"
   },
   {
    "duration": 107,
    "start_time": "2021-12-17T09:26:57.121Z"
   },
   {
    "duration": 98,
    "start_time": "2021-12-17T09:27:30.974Z"
   },
   {
    "duration": 125,
    "start_time": "2021-12-17T09:27:34.943Z"
   },
   {
    "duration": 9,
    "start_time": "2021-12-17T09:27:40.829Z"
   },
   {
    "duration": 114,
    "start_time": "2021-12-17T09:29:26.921Z"
   },
   {
    "duration": 131,
    "start_time": "2021-12-17T09:30:13.946Z"
   },
   {
    "duration": 14,
    "start_time": "2021-12-17T09:30:28.034Z"
   },
   {
    "duration": 110,
    "start_time": "2021-12-17T09:30:51.125Z"
   },
   {
    "duration": 10,
    "start_time": "2021-12-17T09:30:56.889Z"
   },
   {
    "duration": 98,
    "start_time": "2021-12-17T09:31:18.852Z"
   },
   {
    "duration": 1733,
    "start_time": "2021-12-17T09:31:44.744Z"
   },
   {
    "duration": 331,
    "start_time": "2021-12-17T09:31:46.480Z"
   },
   {
    "duration": 261,
    "start_time": "2021-12-17T09:31:46.823Z"
   },
   {
    "duration": 226,
    "start_time": "2021-12-17T09:31:47.088Z"
   },
   {
    "duration": 85,
    "start_time": "2021-12-17T09:31:47.316Z"
   },
   {
    "duration": 162,
    "start_time": "2021-12-17T09:31:47.404Z"
   },
   {
    "duration": 69,
    "start_time": "2021-12-17T09:31:47.569Z"
   },
   {
    "duration": 257,
    "start_time": "2021-12-17T09:31:47.642Z"
   },
   {
    "duration": 352,
    "start_time": "2021-12-17T09:31:47.904Z"
   },
   {
    "duration": 271,
    "start_time": "2021-12-17T09:31:48.262Z"
   },
   {
    "duration": 307,
    "start_time": "2021-12-17T09:31:48.539Z"
   },
   {
    "duration": 359,
    "start_time": "2021-12-17T09:31:48.849Z"
   },
   {
    "duration": 18,
    "start_time": "2021-12-17T09:31:49.210Z"
   },
   {
    "duration": 21,
    "start_time": "2021-12-17T09:31:49.231Z"
   },
   {
    "duration": 11087,
    "start_time": "2021-12-17T09:31:49.256Z"
   },
   {
    "duration": 184,
    "start_time": "2021-12-17T09:32:00.161Z"
   },
   {
    "duration": 184,
    "start_time": "2021-12-17T09:32:00.163Z"
   },
   {
    "duration": 183,
    "start_time": "2021-12-17T09:32:00.165Z"
   },
   {
    "duration": 183,
    "start_time": "2021-12-17T09:32:00.167Z"
   },
   {
    "duration": 184,
    "start_time": "2021-12-17T09:32:00.168Z"
   },
   {
    "duration": 184,
    "start_time": "2021-12-17T09:32:00.170Z"
   },
   {
    "duration": 183,
    "start_time": "2021-12-17T09:32:00.172Z"
   },
   {
    "duration": 173,
    "start_time": "2021-12-17T09:32:00.185Z"
   },
   {
    "duration": 9909,
    "start_time": "2021-12-17T09:32:28.778Z"
   },
   {
    "duration": 607,
    "start_time": "2021-12-17T09:32:47.211Z"
   },
   {
    "duration": 8671,
    "start_time": "2021-12-17T09:33:16.731Z"
   },
   {
    "duration": 564,
    "start_time": "2021-12-17T09:34:26.285Z"
   },
   {
    "duration": 653,
    "start_time": "2021-12-17T09:34:42.022Z"
   },
   {
    "duration": 235,
    "start_time": "2021-12-17T09:36:14.736Z"
   },
   {
    "duration": 157,
    "start_time": "2021-12-17T09:36:30.616Z"
   },
   {
    "duration": 146,
    "start_time": "2021-12-17T09:36:45.689Z"
   },
   {
    "duration": 15,
    "start_time": "2021-12-17T09:37:08.072Z"
   },
   {
    "duration": 89,
    "start_time": "2021-12-17T09:38:13.947Z"
   },
   {
    "duration": 25,
    "start_time": "2021-12-17T09:39:02.516Z"
   },
   {
    "duration": 5,
    "start_time": "2021-12-17T09:40:19.040Z"
   },
   {
    "duration": 277,
    "start_time": "2021-12-17T09:40:19.048Z"
   },
   {
    "duration": 243,
    "start_time": "2021-12-17T09:40:19.329Z"
   },
   {
    "duration": 165,
    "start_time": "2021-12-17T09:40:19.575Z"
   },
   {
    "duration": 83,
    "start_time": "2021-12-17T09:40:19.742Z"
   },
   {
    "duration": 101,
    "start_time": "2021-12-17T09:40:19.827Z"
   },
   {
    "duration": 36,
    "start_time": "2021-12-17T09:40:19.931Z"
   },
   {
    "duration": 191,
    "start_time": "2021-12-17T09:40:19.971Z"
   },
   {
    "duration": 293,
    "start_time": "2021-12-17T09:40:20.164Z"
   },
   {
    "duration": 187,
    "start_time": "2021-12-17T09:40:20.460Z"
   },
   {
    "duration": 179,
    "start_time": "2021-12-17T09:40:20.650Z"
   },
   {
    "duration": 144,
    "start_time": "2021-12-17T09:40:20.832Z"
   },
   {
    "duration": 8,
    "start_time": "2021-12-17T09:40:20.979Z"
   },
   {
    "duration": 35,
    "start_time": "2021-12-17T09:40:20.990Z"
   },
   {
    "duration": 72,
    "start_time": "2021-12-17T09:40:30.372Z"
   },
   {
    "duration": 120,
    "start_time": "2021-12-17T09:41:13.455Z"
   },
   {
    "duration": 13,
    "start_time": "2021-12-17T09:41:27.086Z"
   },
   {
    "duration": 127,
    "start_time": "2021-12-17T09:44:17.916Z"
   },
   {
    "duration": 107,
    "start_time": "2021-12-17T09:45:59.607Z"
   },
   {
    "duration": 529,
    "start_time": "2021-12-17T10:26:42.274Z"
   },
   {
    "duration": 83,
    "start_time": "2021-12-17T10:32:14.714Z"
   },
   {
    "duration": 7,
    "start_time": "2021-12-17T10:32:22.898Z"
   },
   {
    "duration": 7,
    "start_time": "2021-12-17T10:32:29.050Z"
   },
   {
    "duration": 88,
    "start_time": "2021-12-17T10:39:02.605Z"
   },
   {
    "duration": 98,
    "start_time": "2021-12-17T10:39:30.244Z"
   },
   {
    "duration": 14,
    "start_time": "2021-12-17T10:39:41.500Z"
   },
   {
    "duration": 1644,
    "start_time": "2021-12-17T10:41:49.233Z"
   },
   {
    "duration": 1059,
    "start_time": "2021-12-17T10:42:04.593Z"
   },
   {
    "duration": 1237,
    "start_time": "2021-12-17T10:42:16.729Z"
   },
   {
    "duration": 27,
    "start_time": "2021-12-17T10:42:38.880Z"
   },
   {
    "duration": 16,
    "start_time": "2021-12-17T10:43:01.218Z"
   },
   {
    "duration": 17,
    "start_time": "2021-12-17T10:43:19.514Z"
   },
   {
    "duration": 27,
    "start_time": "2021-12-17T10:44:08.262Z"
   },
   {
    "duration": 18,
    "start_time": "2021-12-17T10:44:17.789Z"
   },
   {
    "duration": 1985,
    "start_time": "2021-12-17T10:46:36.435Z"
   },
   {
    "duration": 418,
    "start_time": "2021-12-17T10:46:38.424Z"
   },
   {
    "duration": 360,
    "start_time": "2021-12-17T10:46:38.846Z"
   },
   {
    "duration": 247,
    "start_time": "2021-12-17T10:46:39.210Z"
   },
   {
    "duration": 81,
    "start_time": "2021-12-17T10:46:39.460Z"
   },
   {
    "duration": 91,
    "start_time": "2021-12-17T10:46:39.544Z"
   },
   {
    "duration": 44,
    "start_time": "2021-12-17T10:46:39.638Z"
   },
   {
    "duration": 211,
    "start_time": "2021-12-17T10:46:39.687Z"
   },
   {
    "duration": 298,
    "start_time": "2021-12-17T10:46:39.901Z"
   },
   {
    "duration": 185,
    "start_time": "2021-12-17T10:46:40.202Z"
   },
   {
    "duration": 269,
    "start_time": "2021-12-17T10:46:40.390Z"
   },
   {
    "duration": 235,
    "start_time": "2021-12-17T10:46:40.662Z"
   },
   {
    "duration": 8,
    "start_time": "2021-12-17T10:46:40.901Z"
   },
   {
    "duration": 45,
    "start_time": "2021-12-17T10:46:40.924Z"
   },
   {
    "duration": 188,
    "start_time": "2021-12-17T10:46:40.971Z"
   },
   {
    "duration": 27,
    "start_time": "2021-12-17T10:46:41.163Z"
   },
   {
    "duration": 1612,
    "start_time": "2021-12-17T10:46:41.193Z"
   },
   {
    "duration": 1053,
    "start_time": "2021-12-17T10:46:42.809Z"
   },
   {
    "duration": 1181,
    "start_time": "2021-12-17T10:46:43.865Z"
   },
   {
    "duration": 31,
    "start_time": "2021-12-17T10:46:45.049Z"
   },
   {
    "duration": 50,
    "start_time": "2021-12-17T10:46:45.083Z"
   },
   {
    "duration": 36,
    "start_time": "2021-12-17T10:46:45.136Z"
   },
   {
    "duration": 20,
    "start_time": "2021-12-17T10:46:45.176Z"
   },
   {
    "duration": 26,
    "start_time": "2021-12-17T10:51:56.409Z"
   },
   {
    "duration": 47,
    "start_time": "2021-12-17T10:52:54.019Z"
   },
   {
    "duration": 20,
    "start_time": "2021-12-17T10:53:18.763Z"
   },
   {
    "duration": 19,
    "start_time": "2021-12-17T10:53:33.051Z"
   },
   {
    "duration": 20,
    "start_time": "2021-12-17T10:53:42.899Z"
   },
   {
    "duration": 1633,
    "start_time": "2021-12-29T09:08:43.130Z"
   },
   {
    "duration": 135,
    "start_time": "2021-12-29T09:08:44.768Z"
   },
   {
    "duration": 14,
    "start_time": "2021-12-29T09:08:44.905Z"
   },
   {
    "duration": 73,
    "start_time": "2021-12-29T09:08:44.922Z"
   },
   {
    "duration": 7,
    "start_time": "2021-12-29T09:08:44.997Z"
   },
   {
    "duration": 18,
    "start_time": "2021-12-29T09:08:45.007Z"
   },
   {
    "duration": 43,
    "start_time": "2021-12-29T09:08:45.027Z"
   },
   {
    "duration": 26,
    "start_time": "2021-12-29T09:08:45.074Z"
   },
   {
    "duration": 718,
    "start_time": "2021-12-29T09:08:45.103Z"
   },
   {
    "duration": 1109,
    "start_time": "2021-12-29T09:08:45.824Z"
   },
   {
    "duration": 34,
    "start_time": "2021-12-29T09:08:46.936Z"
   },
   {
    "duration": 5,
    "start_time": "2021-12-29T09:08:46.972Z"
   },
   {
    "duration": 878,
    "start_time": "2021-12-29T09:08:46.979Z"
   },
   {
    "duration": 571,
    "start_time": "2021-12-29T09:08:47.868Z"
   },
   {
    "duration": 507,
    "start_time": "2021-12-29T09:08:48.441Z"
   },
   {
    "duration": 20,
    "start_time": "2021-12-29T09:08:48.950Z"
   },
   {
    "duration": 11,
    "start_time": "2021-12-29T09:08:48.973Z"
   },
   {
    "duration": 748,
    "start_time": "2021-12-29T09:08:48.987Z"
   },
   {
    "duration": 729,
    "start_time": "2021-12-29T09:08:49.738Z"
   },
   {
    "duration": 8,
    "start_time": "2021-12-29T09:08:50.469Z"
   },
   {
    "duration": 6054,
    "start_time": "2021-12-29T09:08:50.480Z"
   },
   {
    "duration": 572,
    "start_time": "2021-12-29T09:08:56.537Z"
   },
   {
    "duration": 2914,
    "start_time": "2021-12-29T09:08:57.113Z"
   },
   {
    "duration": 47,
    "start_time": "2021-12-29T09:09:00.030Z"
   },
   {
    "duration": 11,
    "start_time": "2021-12-29T09:09:00.080Z"
   },
   {
    "duration": 30,
    "start_time": "2021-12-29T09:09:00.094Z"
   },
   {
    "duration": 21,
    "start_time": "2021-12-29T09:09:00.127Z"
   },
   {
    "duration": 456,
    "start_time": "2021-12-29T13:02:52.138Z"
   },
   {
    "duration": 1427,
    "start_time": "2021-12-29T13:02:57.457Z"
   },
   {
    "duration": 114,
    "start_time": "2021-12-29T13:02:58.887Z"
   },
   {
    "duration": 28,
    "start_time": "2021-12-29T13:02:59.003Z"
   },
   {
    "duration": 47,
    "start_time": "2021-12-29T13:02:59.034Z"
   },
   {
    "duration": 6,
    "start_time": "2021-12-29T13:02:59.083Z"
   },
   {
    "duration": 6,
    "start_time": "2021-12-29T13:03:00.644Z"
   },
   {
    "duration": 449,
    "start_time": "2021-12-29T13:03:14.466Z"
   },
   {
    "duration": 9,
    "start_time": "2021-12-29T13:03:21.513Z"
   },
   {
    "duration": 5,
    "start_time": "2021-12-29T13:13:02.045Z"
   },
   {
    "duration": 119,
    "start_time": "2021-12-29T13:13:02.054Z"
   },
   {
    "duration": 14,
    "start_time": "2021-12-29T13:13:02.176Z"
   },
   {
    "duration": 73,
    "start_time": "2021-12-29T13:13:02.192Z"
   },
   {
    "duration": 6,
    "start_time": "2021-12-29T13:13:02.267Z"
   },
   {
    "duration": 28,
    "start_time": "2021-12-29T13:13:02.275Z"
   },
   {
    "duration": 39,
    "start_time": "2021-12-29T13:13:02.305Z"
   },
   {
    "duration": 29,
    "start_time": "2021-12-29T13:13:02.347Z"
   },
   {
    "duration": 799,
    "start_time": "2021-12-29T13:13:02.378Z"
   },
   {
    "duration": 1090,
    "start_time": "2021-12-29T13:13:03.180Z"
   },
   {
    "duration": 22,
    "start_time": "2021-12-29T13:13:04.274Z"
   },
   {
    "duration": 5,
    "start_time": "2021-12-29T13:13:09.681Z"
   },
   {
    "duration": 4,
    "start_time": "2021-12-29T13:13:55.427Z"
   },
   {
    "duration": 9441,
    "start_time": "2021-12-29T13:13:57.352Z"
   },
   {
    "duration": 22,
    "start_time": "2021-12-29T13:14:48.853Z"
   },
   {
    "duration": 5,
    "start_time": "2021-12-29T13:14:53.970Z"
   },
   {
    "duration": 10030,
    "start_time": "2021-12-29T13:14:55.635Z"
   },
   {
    "duration": 4,
    "start_time": "2021-12-29T13:15:27.948Z"
   },
   {
    "duration": 10135,
    "start_time": "2021-12-29T13:15:29.468Z"
   },
   {
    "duration": 5,
    "start_time": "2021-12-29T13:16:14.232Z"
   },
   {
    "duration": 9088,
    "start_time": "2021-12-29T13:16:50.036Z"
   },
   {
    "duration": 8662,
    "start_time": "2021-12-29T13:17:38.638Z"
   },
   {
    "duration": 84,
    "start_time": "2021-12-29T13:17:56.405Z"
   },
   {
    "duration": 196,
    "start_time": "2021-12-29T13:19:20.435Z"
   },
   {
    "duration": 121,
    "start_time": "2021-12-29T13:19:38.848Z"
   },
   {
    "duration": 592,
    "start_time": "2021-12-29T13:19:59.989Z"
   },
   {
    "duration": 132,
    "start_time": "2021-12-29T13:20:04.627Z"
   },
   {
    "duration": 112,
    "start_time": "2021-12-29T13:20:45.991Z"
   },
   {
    "duration": 5,
    "start_time": "2021-12-29T13:21:15.909Z"
   },
   {
    "duration": 88,
    "start_time": "2021-12-29T13:21:19.575Z"
   },
   {
    "duration": 10148,
    "start_time": "2021-12-29T13:21:34.894Z"
   },
   {
    "duration": 123,
    "start_time": "2021-12-29T13:21:59.396Z"
   },
   {
    "duration": 90,
    "start_time": "2021-12-29T13:22:39.756Z"
   },
   {
    "duration": 5,
    "start_time": "2021-12-29T13:23:27.119Z"
   },
   {
    "duration": 85,
    "start_time": "2021-12-29T13:23:29.301Z"
   },
   {
    "duration": 8451,
    "start_time": "2021-12-29T13:24:09.594Z"
   },
   {
    "duration": 9319,
    "start_time": "2021-12-29T13:24:57.131Z"
   },
   {
    "duration": 21,
    "start_time": "2021-12-29T13:25:37.104Z"
   },
   {
    "duration": 5,
    "start_time": "2021-12-29T13:25:39.630Z"
   },
   {
    "duration": 9041,
    "start_time": "2021-12-29T13:25:41.137Z"
   },
   {
    "duration": 83,
    "start_time": "2021-12-29T13:26:54.411Z"
   },
   {
    "duration": 812,
    "start_time": "2021-12-29T13:28:14.400Z"
   },
   {
    "duration": 728,
    "start_time": "2021-12-29T13:28:50.828Z"
   },
   {
    "duration": 830,
    "start_time": "2021-12-29T13:28:58.235Z"
   },
   {
    "duration": 1446,
    "start_time": "2021-12-29T13:29:36.623Z"
   },
   {
    "duration": 117,
    "start_time": "2021-12-29T13:29:38.072Z"
   },
   {
    "duration": 34,
    "start_time": "2021-12-29T13:29:38.192Z"
   },
   {
    "duration": 49,
    "start_time": "2021-12-29T13:29:38.228Z"
   },
   {
    "duration": 6,
    "start_time": "2021-12-29T13:29:38.280Z"
   },
   {
    "duration": 36,
    "start_time": "2021-12-29T13:29:38.288Z"
   },
   {
    "duration": 25,
    "start_time": "2021-12-29T13:29:38.326Z"
   },
   {
    "duration": 31,
    "start_time": "2021-12-29T13:29:38.355Z"
   },
   {
    "duration": 719,
    "start_time": "2021-12-29T13:29:38.389Z"
   },
   {
    "duration": 1188,
    "start_time": "2021-12-29T13:29:39.110Z"
   },
   {
    "duration": 35,
    "start_time": "2021-12-29T13:29:40.300Z"
   },
   {
    "duration": 5,
    "start_time": "2021-12-29T13:29:40.338Z"
   },
   {
    "duration": 811,
    "start_time": "2021-12-29T13:29:40.346Z"
   },
   {
    "duration": 468,
    "start_time": "2021-12-29T13:29:41.159Z"
   },
   {
    "duration": 785,
    "start_time": "2021-12-29T13:29:41.630Z"
   },
   {
    "duration": 16,
    "start_time": "2021-12-29T13:29:42.417Z"
   },
   {
    "duration": 8,
    "start_time": "2021-12-29T13:29:42.435Z"
   },
   {
    "duration": 649,
    "start_time": "2021-12-29T13:29:42.446Z"
   },
   {
    "duration": 678,
    "start_time": "2021-12-29T13:29:43.097Z"
   },
   {
    "duration": 7,
    "start_time": "2021-12-29T13:29:43.778Z"
   },
   {
    "duration": 5345,
    "start_time": "2021-12-29T13:29:43.788Z"
   },
   {
    "duration": 545,
    "start_time": "2021-12-29T13:29:49.136Z"
   },
   {
    "duration": 2459,
    "start_time": "2021-12-29T13:29:49.686Z"
   },
   {
    "duration": 25,
    "start_time": "2021-12-29T13:29:52.149Z"
   },
   {
    "duration": 9,
    "start_time": "2021-12-29T13:29:52.177Z"
   },
   {
    "duration": 57,
    "start_time": "2021-12-29T13:29:52.189Z"
   },
   {
    "duration": 8,
    "start_time": "2021-12-29T13:29:52.248Z"
   },
   {
    "duration": 153,
    "start_time": "2021-12-29T13:30:10.839Z"
   },
   {
    "duration": 5,
    "start_time": "2021-12-29T13:30:19.597Z"
   },
   {
    "duration": 5,
    "start_time": "2021-12-29T13:30:24.703Z"
   },
   {
    "duration": 1012,
    "start_time": "2021-12-29T13:30:27.595Z"
   },
   {
    "duration": 911,
    "start_time": "2021-12-29T13:34:51.047Z"
   },
   {
    "duration": 871,
    "start_time": "2021-12-29T13:35:59.231Z"
   },
   {
    "duration": 813,
    "start_time": "2021-12-29T13:36:07.604Z"
   },
   {
    "duration": 488,
    "start_time": "2021-12-29T13:36:59.393Z"
   },
   {
    "duration": 36,
    "start_time": "2021-12-29T13:37:05.571Z"
   },
   {
    "duration": 34,
    "start_time": "2021-12-29T13:37:13.509Z"
   },
   {
    "duration": 7,
    "start_time": "2021-12-29T13:37:38.475Z"
   },
   {
    "duration": 24,
    "start_time": "2021-12-29T13:37:40.026Z"
   },
   {
    "duration": 710,
    "start_time": "2021-12-29T13:37:46.752Z"
   },
   {
    "duration": 5,
    "start_time": "2021-12-29T13:38:22.897Z"
   },
   {
    "duration": 747,
    "start_time": "2021-12-29T13:38:27.160Z"
   },
   {
    "duration": 5,
    "start_time": "2021-12-29T13:38:57.026Z"
   },
   {
    "duration": 719,
    "start_time": "2021-12-29T13:38:58.972Z"
   },
   {
    "duration": 5,
    "start_time": "2021-12-29T13:39:07.729Z"
   },
   {
    "duration": 720,
    "start_time": "2021-12-29T13:39:09.870Z"
   },
   {
    "duration": 5,
    "start_time": "2021-12-29T13:39:18.201Z"
   },
   {
    "duration": 781,
    "start_time": "2021-12-29T13:39:19.912Z"
   },
   {
    "duration": 5,
    "start_time": "2021-12-29T13:39:29.701Z"
   },
   {
    "duration": 707,
    "start_time": "2021-12-29T13:39:31.232Z"
   },
   {
    "duration": 937,
    "start_time": "2021-12-29T13:40:33.357Z"
   },
   {
    "duration": 790,
    "start_time": "2021-12-29T13:40:40.791Z"
   },
   {
    "duration": 784,
    "start_time": "2021-12-29T13:42:26.839Z"
   },
   {
    "duration": 528,
    "start_time": "2021-12-29T13:43:07.697Z"
   },
   {
    "duration": 569,
    "start_time": "2021-12-29T13:43:21.193Z"
   },
   {
    "duration": 828,
    "start_time": "2021-12-29T13:43:27.805Z"
   },
   {
    "duration": 305,
    "start_time": "2021-12-29T13:44:32.548Z"
   },
   {
    "duration": 726,
    "start_time": "2021-12-29T13:44:51.178Z"
   },
   {
    "duration": 5,
    "start_time": "2021-12-29T13:48:39.625Z"
   },
   {
    "duration": 912,
    "start_time": "2021-12-29T13:48:41.992Z"
   },
   {
    "duration": 1229,
    "start_time": "2021-12-29T13:49:17.135Z"
   },
   {
    "duration": 6,
    "start_time": "2021-12-29T14:48:31.583Z"
   },
   {
    "duration": 1154,
    "start_time": "2021-12-29T14:48:33.477Z"
   },
   {
    "duration": 5,
    "start_time": "2021-12-29T14:49:27.909Z"
   },
   {
    "duration": 804,
    "start_time": "2021-12-29T14:49:30.071Z"
   },
   {
    "duration": 5,
    "start_time": "2021-12-29T14:49:47.141Z"
   },
   {
    "duration": 774,
    "start_time": "2021-12-29T14:49:48.615Z"
   },
   {
    "duration": 760,
    "start_time": "2021-12-29T14:49:51.833Z"
   },
   {
    "duration": 773,
    "start_time": "2021-12-29T14:53:09.250Z"
   },
   {
    "duration": 1268,
    "start_time": "2021-12-29T14:53:12.279Z"
   },
   {
    "duration": 126,
    "start_time": "2021-12-29T15:00:06.546Z"
   },
   {
    "duration": 17,
    "start_time": "2021-12-29T15:06:37.799Z"
   },
   {
    "duration": 353,
    "start_time": "2021-12-29T15:06:57.603Z"
   },
   {
    "duration": 112,
    "start_time": "2021-12-29T15:09:17.819Z"
   },
   {
    "duration": 14,
    "start_time": "2021-12-29T15:09:31.207Z"
   },
   {
    "duration": 404,
    "start_time": "2021-12-29T15:10:28.519Z"
   },
   {
    "duration": 31,
    "start_time": "2021-12-29T15:11:11.101Z"
   },
   {
    "duration": 34,
    "start_time": "2021-12-29T15:15:09.816Z"
   },
   {
    "duration": 25,
    "start_time": "2021-12-29T15:16:09.360Z"
   },
   {
    "duration": 1010,
    "start_time": "2021-12-29T15:18:30.222Z"
   },
   {
    "duration": 22,
    "start_time": "2021-12-29T15:18:41.894Z"
   },
   {
    "duration": 1428,
    "start_time": "2021-12-29T15:28:55.052Z"
   },
   {
    "duration": 113,
    "start_time": "2021-12-29T15:28:56.483Z"
   },
   {
    "duration": 25,
    "start_time": "2021-12-29T15:28:56.599Z"
   },
   {
    "duration": 44,
    "start_time": "2021-12-29T15:28:56.627Z"
   },
   {
    "duration": 5,
    "start_time": "2021-12-29T15:28:56.673Z"
   },
   {
    "duration": 7,
    "start_time": "2021-12-29T15:28:56.680Z"
   },
   {
    "duration": 48,
    "start_time": "2021-12-29T15:28:56.690Z"
   },
   {
    "duration": 22,
    "start_time": "2021-12-29T15:28:56.741Z"
   },
   {
    "duration": 657,
    "start_time": "2021-12-29T15:28:56.766Z"
   },
   {
    "duration": 1061,
    "start_time": "2021-12-29T15:28:57.426Z"
   },
   {
    "duration": 35,
    "start_time": "2021-12-29T15:28:58.490Z"
   },
   {
    "duration": 6,
    "start_time": "2021-12-29T15:28:58.528Z"
   },
   {
    "duration": 728,
    "start_time": "2021-12-29T15:28:58.537Z"
   },
   {
    "duration": 26,
    "start_time": "2021-12-29T15:28:59.268Z"
   },
   {
    "duration": 526,
    "start_time": "2021-12-29T15:28:59.297Z"
   },
   {
    "duration": 474,
    "start_time": "2021-12-29T15:28:59.827Z"
   },
   {
    "duration": 24,
    "start_time": "2021-12-29T15:29:00.303Z"
   },
   {
    "duration": 10,
    "start_time": "2021-12-29T15:29:00.329Z"
   },
   {
    "duration": 661,
    "start_time": "2021-12-29T15:29:00.341Z"
   },
   {
    "duration": 660,
    "start_time": "2021-12-29T15:29:01.004Z"
   },
   {
    "duration": 7,
    "start_time": "2021-12-29T15:29:01.667Z"
   },
   {
    "duration": 5235,
    "start_time": "2021-12-29T15:29:01.676Z"
   },
   {
    "duration": 523,
    "start_time": "2021-12-29T15:29:06.923Z"
   },
   {
    "duration": 2431,
    "start_time": "2021-12-29T15:29:07.449Z"
   },
   {
    "duration": 22,
    "start_time": "2021-12-29T15:29:09.883Z"
   },
   {
    "duration": 6,
    "start_time": "2021-12-29T15:29:09.923Z"
   },
   {
    "duration": 27,
    "start_time": "2021-12-29T15:29:09.931Z"
   },
   {
    "duration": 6,
    "start_time": "2021-12-29T15:29:09.960Z"
   },
   {
    "duration": 21,
    "start_time": "2021-12-29T15:37:11.932Z"
   },
   {
    "duration": 5,
    "start_time": "2021-12-29T15:37:14.343Z"
   },
   {
    "duration": 818,
    "start_time": "2021-12-29T15:37:18.858Z"
   },
   {
    "duration": 324,
    "start_time": "2021-12-29T15:37:28.537Z"
   },
   {
    "duration": 407,
    "start_time": "2021-12-29T15:37:31.985Z"
   },
   {
    "duration": 471,
    "start_time": "2021-12-29T15:37:36.436Z"
   },
   {
    "duration": 426,
    "start_time": "2021-12-30T12:06:42.502Z"
   },
   {
    "duration": 1666,
    "start_time": "2021-12-30T12:06:49.613Z"
   },
   {
    "duration": 127,
    "start_time": "2021-12-30T12:06:51.282Z"
   },
   {
    "duration": 16,
    "start_time": "2021-12-30T12:06:51.413Z"
   },
   {
    "duration": 52,
    "start_time": "2021-12-30T12:06:51.460Z"
   },
   {
    "duration": 7,
    "start_time": "2021-12-30T12:06:51.514Z"
   },
   {
    "duration": 35,
    "start_time": "2021-12-30T12:06:51.524Z"
   },
   {
    "duration": 25,
    "start_time": "2021-12-30T12:06:51.562Z"
   },
   {
    "duration": 24,
    "start_time": "2021-12-30T12:06:51.593Z"
   },
   {
    "duration": 688,
    "start_time": "2021-12-30T12:06:51.619Z"
   },
   {
    "duration": 1080,
    "start_time": "2021-12-30T12:06:52.309Z"
   },
   {
    "duration": 21,
    "start_time": "2021-12-30T12:06:53.392Z"
   },
   {
    "duration": 5,
    "start_time": "2021-12-30T12:06:53.416Z"
   },
   {
    "duration": 749,
    "start_time": "2021-12-30T12:06:53.423Z"
   },
   {
    "duration": 24,
    "start_time": "2021-12-30T12:06:54.174Z"
   },
   {
    "duration": 550,
    "start_time": "2021-12-30T12:06:54.201Z"
   },
   {
    "duration": 479,
    "start_time": "2021-12-30T12:06:54.760Z"
   },
   {
    "duration": 686,
    "start_time": "2021-12-30T12:06:58.687Z"
   },
   {
    "duration": 1667,
    "start_time": "2021-12-30T12:19:18.542Z"
   },
   {
    "duration": 1488,
    "start_time": "2021-12-30T12:30:43.000Z"
   },
   {
    "duration": 26,
    "start_time": "2021-12-30T12:33:11.715Z"
   },
   {
    "duration": 5,
    "start_time": "2021-12-30T12:33:39.815Z"
   },
   {
    "duration": 818,
    "start_time": "2021-12-30T12:33:42.730Z"
   },
   {
    "duration": 538,
    "start_time": "2021-12-30T12:39:43.104Z"
   },
   {
    "duration": 547,
    "start_time": "2021-12-30T12:40:00.046Z"
   },
   {
    "duration": 10,
    "start_time": "2021-12-30T12:41:37.815Z"
   },
   {
    "duration": 7,
    "start_time": "2021-12-30T12:41:45.625Z"
   },
   {
    "duration": 27,
    "start_time": "2021-12-30T12:42:34.850Z"
   },
   {
    "duration": 24,
    "start_time": "2021-12-30T12:42:45.812Z"
   },
   {
    "duration": 5,
    "start_time": "2021-12-30T12:42:52.242Z"
   },
   {
    "duration": 868,
    "start_time": "2021-12-30T12:42:56.520Z"
   },
   {
    "duration": 441,
    "start_time": "2021-12-30T12:43:26.609Z"
   },
   {
    "duration": 6,
    "start_time": "2021-12-30T12:43:39.879Z"
   },
   {
    "duration": 10,
    "start_time": "2021-12-30T12:43:42.432Z"
   },
   {
    "duration": 666,
    "start_time": "2021-12-30T12:43:49.363Z"
   },
   {
    "duration": 668,
    "start_time": "2021-12-30T12:43:53.878Z"
   },
   {
    "duration": 8,
    "start_time": "2021-12-30T12:44:48.783Z"
   },
   {
    "duration": 3323,
    "start_time": "2021-12-30T12:45:12.153Z"
   },
   {
    "duration": 3149,
    "start_time": "2021-12-30T12:45:46.225Z"
   },
   {
    "duration": 3350,
    "start_time": "2021-12-30T12:46:35.360Z"
   },
   {
    "duration": 138,
    "start_time": "2021-12-30T12:49:54.747Z"
   },
   {
    "duration": 6472,
    "start_time": "2021-12-30T12:50:06.552Z"
   },
   {
    "duration": 421,
    "start_time": "2021-12-30T12:55:07.475Z"
   },
   {
    "duration": 986,
    "start_time": "2021-12-30T12:55:28.094Z"
   },
   {
    "duration": 817,
    "start_time": "2021-12-30T12:55:36.856Z"
   },
   {
    "duration": 799,
    "start_time": "2021-12-30T12:56:46.966Z"
   },
   {
    "duration": 780,
    "start_time": "2021-12-30T13:06:20.361Z"
   },
   {
    "duration": 24,
    "start_time": "2021-12-30T13:08:52.877Z"
   },
   {
    "duration": 7,
    "start_time": "2021-12-30T13:08:58.804Z"
   },
   {
    "duration": 34,
    "start_time": "2021-12-30T13:09:18.153Z"
   },
   {
    "duration": 9,
    "start_time": "2021-12-30T13:09:26.485Z"
   },
   {
    "duration": 1495,
    "start_time": "2021-12-30T13:14:53.936Z"
   },
   {
    "duration": 119,
    "start_time": "2021-12-30T13:14:55.434Z"
   },
   {
    "duration": 15,
    "start_time": "2021-12-30T13:14:55.555Z"
   },
   {
    "duration": 47,
    "start_time": "2021-12-30T13:14:55.572Z"
   },
   {
    "duration": 5,
    "start_time": "2021-12-30T13:14:55.622Z"
   },
   {
    "duration": 33,
    "start_time": "2021-12-30T13:14:55.629Z"
   },
   {
    "duration": 24,
    "start_time": "2021-12-30T13:14:55.665Z"
   },
   {
    "duration": 22,
    "start_time": "2021-12-30T13:14:55.691Z"
   },
   {
    "duration": 687,
    "start_time": "2021-12-30T13:14:55.717Z"
   },
   {
    "duration": 1053,
    "start_time": "2021-12-30T13:14:56.407Z"
   },
   {
    "duration": 24,
    "start_time": "2021-12-30T13:14:57.462Z"
   },
   {
    "duration": 6,
    "start_time": "2021-12-30T13:14:57.489Z"
   },
   {
    "duration": 939,
    "start_time": "2021-12-30T13:14:57.498Z"
   },
   {
    "duration": 33,
    "start_time": "2021-12-30T13:14:58.440Z"
   },
   {
    "duration": 532,
    "start_time": "2021-12-30T13:14:58.475Z"
   },
   {
    "duration": 441,
    "start_time": "2021-12-30T13:14:59.010Z"
   },
   {
    "duration": 12,
    "start_time": "2021-12-30T13:14:59.453Z"
   },
   {
    "duration": 6,
    "start_time": "2021-12-30T13:14:59.467Z"
   },
   {
    "duration": 663,
    "start_time": "2021-12-30T13:14:59.475Z"
   },
   {
    "duration": 824,
    "start_time": "2021-12-30T13:15:00.142Z"
   },
   {
    "duration": 8,
    "start_time": "2021-12-30T13:15:00.968Z"
   },
   {
    "duration": 6881,
    "start_time": "2021-12-30T13:15:00.978Z"
   },
   {
    "duration": 541,
    "start_time": "2021-12-30T13:15:07.861Z"
   },
   {
    "duration": 978,
    "start_time": "2021-12-30T13:15:08.405Z"
   },
   {
    "duration": 814,
    "start_time": "2021-12-30T13:15:09.387Z"
   },
   {
    "duration": 869,
    "start_time": "2021-12-30T13:15:10.204Z"
   },
   {
    "duration": 25,
    "start_time": "2021-12-30T13:15:11.078Z"
   },
   {
    "duration": 6,
    "start_time": "2021-12-30T13:15:11.106Z"
   },
   {
    "duration": 55,
    "start_time": "2021-12-30T13:15:11.115Z"
   },
   {
    "duration": 8,
    "start_time": "2021-12-30T13:15:11.172Z"
   },
   {
    "duration": 1457,
    "start_time": "2021-12-31T05:46:42.474Z"
   },
   {
    "duration": 118,
    "start_time": "2021-12-31T05:46:43.934Z"
   },
   {
    "duration": 14,
    "start_time": "2021-12-31T05:46:44.060Z"
   },
   {
    "duration": 48,
    "start_time": "2021-12-31T05:46:44.077Z"
   },
   {
    "duration": 6,
    "start_time": "2021-12-31T05:46:44.127Z"
   },
   {
    "duration": 7,
    "start_time": "2021-12-31T05:46:44.160Z"
   },
   {
    "duration": 25,
    "start_time": "2021-12-31T05:46:44.169Z"
   },
   {
    "duration": 23,
    "start_time": "2021-12-31T05:46:44.198Z"
   },
   {
    "duration": 658,
    "start_time": "2021-12-31T05:46:44.261Z"
   },
   {
    "duration": 1106,
    "start_time": "2021-12-31T05:46:44.921Z"
   },
   {
    "duration": 32,
    "start_time": "2021-12-31T05:46:46.029Z"
   },
   {
    "duration": 5,
    "start_time": "2021-12-31T05:46:46.063Z"
   },
   {
    "duration": 998,
    "start_time": "2021-12-31T05:46:46.070Z"
   },
   {
    "duration": 28,
    "start_time": "2021-12-31T05:46:47.070Z"
   },
   {
    "duration": 571,
    "start_time": "2021-12-31T05:46:47.101Z"
   },
   {
    "duration": 423,
    "start_time": "2021-12-31T05:46:47.676Z"
   },
   {
    "duration": 11,
    "start_time": "2021-12-31T05:46:48.101Z"
   },
   {
    "duration": 7,
    "start_time": "2021-12-31T05:46:48.115Z"
   },
   {
    "duration": 695,
    "start_time": "2021-12-31T05:46:48.124Z"
   },
   {
    "duration": 694,
    "start_time": "2021-12-31T05:46:48.822Z"
   },
   {
    "duration": 7,
    "start_time": "2021-12-31T05:46:49.519Z"
   },
   {
    "duration": 6166,
    "start_time": "2021-12-31T05:46:49.528Z"
   },
   {
    "duration": 535,
    "start_time": "2021-12-31T05:46:55.700Z"
   },
   {
    "duration": 875,
    "start_time": "2021-12-31T05:46:56.238Z"
   },
   {
    "duration": 802,
    "start_time": "2021-12-31T05:46:57.115Z"
   },
   {
    "duration": 843,
    "start_time": "2021-12-31T05:46:57.919Z"
   },
   {
    "duration": 23,
    "start_time": "2021-12-31T05:46:58.764Z"
   },
   {
    "duration": 7,
    "start_time": "2021-12-31T05:46:58.790Z"
   },
   {
    "duration": 23,
    "start_time": "2021-12-31T05:46:58.799Z"
   },
   {
    "duration": 8,
    "start_time": "2021-12-31T05:46:58.860Z"
   },
   {
    "duration": 1463,
    "start_time": "2021-12-31T05:55:42.145Z"
   },
   {
    "duration": 121,
    "start_time": "2021-12-31T05:55:43.611Z"
   },
   {
    "duration": 27,
    "start_time": "2021-12-31T05:55:43.734Z"
   },
   {
    "duration": 51,
    "start_time": "2021-12-31T05:55:43.764Z"
   },
   {
    "duration": 5,
    "start_time": "2021-12-31T05:55:43.817Z"
   },
   {
    "duration": 6,
    "start_time": "2021-12-31T05:55:43.824Z"
   },
   {
    "duration": 24,
    "start_time": "2021-12-31T05:55:43.860Z"
   },
   {
    "duration": 29,
    "start_time": "2021-12-31T05:55:43.886Z"
   },
   {
    "duration": 677,
    "start_time": "2021-12-31T05:55:43.919Z"
   },
   {
    "duration": 1071,
    "start_time": "2021-12-31T05:55:44.599Z"
   },
   {
    "duration": 26,
    "start_time": "2021-12-31T05:55:45.672Z"
   },
   {
    "duration": 5,
    "start_time": "2021-12-31T05:55:45.700Z"
   },
   {
    "duration": 857,
    "start_time": "2021-12-31T05:55:45.707Z"
   },
   {
    "duration": 25,
    "start_time": "2021-12-31T05:55:46.566Z"
   },
   {
    "duration": 541,
    "start_time": "2021-12-31T05:55:46.593Z"
   },
   {
    "duration": 426,
    "start_time": "2021-12-31T05:55:47.136Z"
   },
   {
    "duration": 10,
    "start_time": "2021-12-31T05:55:47.564Z"
   },
   {
    "duration": 9,
    "start_time": "2021-12-31T05:55:47.576Z"
   },
   {
    "duration": 642,
    "start_time": "2021-12-31T05:55:47.587Z"
   },
   {
    "duration": 695,
    "start_time": "2021-12-31T05:55:48.231Z"
   },
   {
    "duration": 7,
    "start_time": "2021-12-31T05:55:48.929Z"
   },
   {
    "duration": 6243,
    "start_time": "2021-12-31T05:55:48.938Z"
   },
   {
    "duration": 511,
    "start_time": "2021-12-31T05:55:55.183Z"
   },
   {
    "duration": 856,
    "start_time": "2021-12-31T05:55:55.697Z"
   },
   {
    "duration": 787,
    "start_time": "2021-12-31T05:55:56.559Z"
   },
   {
    "duration": 868,
    "start_time": "2021-12-31T05:55:57.349Z"
   },
   {
    "duration": 37,
    "start_time": "2021-12-31T05:55:58.222Z"
   },
   {
    "duration": 7,
    "start_time": "2021-12-31T05:55:58.262Z"
   },
   {
    "duration": 27,
    "start_time": "2021-12-31T05:55:58.271Z"
   },
   {
    "duration": 7,
    "start_time": "2021-12-31T05:55:58.300Z"
   },
   {
    "duration": 1411,
    "start_time": "2022-03-04T07:53:56.076Z"
   },
   {
    "duration": 6759,
    "start_time": "2022-03-04T14:16:41.170Z"
   },
   {
    "duration": 95,
    "start_time": "2022-03-04T14:23:18.787Z"
   },
   {
    "duration": 86,
    "start_time": "2022-03-04T14:23:39.788Z"
   },
   {
    "duration": 87,
    "start_time": "2022-03-04T14:23:45.861Z"
   },
   {
    "duration": 83,
    "start_time": "2022-03-04T14:23:52.181Z"
   },
   {
    "duration": 93,
    "start_time": "2022-03-04T14:24:07.077Z"
   },
   {
    "duration": 301,
    "start_time": "2022-03-04T14:26:37.687Z"
   },
   {
    "duration": 5,
    "start_time": "2022-03-04T14:26:48.071Z"
   },
   {
    "duration": 6,
    "start_time": "2022-03-04T14:27:11.393Z"
   },
   {
    "duration": 6,
    "start_time": "2022-03-04T14:32:46.481Z"
   },
   {
    "duration": 5,
    "start_time": "2022-03-04T14:32:51.393Z"
   },
   {
    "duration": 22,
    "start_time": "2022-03-04T14:39:54.745Z"
   },
   {
    "duration": 19,
    "start_time": "2022-03-04T14:41:01.381Z"
   },
   {
    "duration": 329,
    "start_time": "2022-03-04T14:54:39.409Z"
   },
   {
    "duration": 822,
    "start_time": "2022-03-04T14:54:51.465Z"
   },
   {
    "duration": 872,
    "start_time": "2022-03-04T14:55:00.220Z"
   },
   {
    "duration": 565,
    "start_time": "2022-03-04T14:55:05.164Z"
   },
   {
    "duration": 543,
    "start_time": "2022-03-04T14:55:10.964Z"
   },
   {
    "duration": 508,
    "start_time": "2022-03-04T14:55:22.731Z"
   },
   {
    "duration": 566,
    "start_time": "2022-03-04T14:55:27.460Z"
   },
   {
    "duration": 462,
    "start_time": "2022-03-04T14:55:32.324Z"
   },
   {
    "duration": 524,
    "start_time": "2022-03-04T14:56:16.941Z"
   },
   {
    "duration": 450,
    "start_time": "2022-03-04T14:56:38.662Z"
   },
   {
    "duration": 505,
    "start_time": "2022-03-04T14:56:43.670Z"
   },
   {
    "duration": 96,
    "start_time": "2022-03-04T14:57:05.542Z"
   },
   {
    "duration": 8,
    "start_time": "2022-03-04T15:00:38.217Z"
   },
   {
    "duration": 18,
    "start_time": "2022-03-04T15:00:39.730Z"
   },
   {
    "duration": 525,
    "start_time": "2022-03-04T15:00:41.859Z"
   },
   {
    "duration": 515,
    "start_time": "2022-03-04T15:01:27.564Z"
   },
   {
    "duration": 478,
    "start_time": "2022-03-04T15:01:33.220Z"
   },
   {
    "duration": 431,
    "start_time": "2022-03-04T15:01:51.156Z"
   },
   {
    "duration": 7225,
    "start_time": "2022-03-04T15:12:19.540Z"
   },
   {
    "duration": 6589,
    "start_time": "2022-03-04T15:12:44.886Z"
   },
   {
    "duration": 1047,
    "start_time": "2022-03-04T15:12:57.478Z"
   },
   {
    "duration": 22,
    "start_time": "2022-03-04T15:13:01.925Z"
   },
   {
    "duration": 6454,
    "start_time": "2022-03-04T15:13:14.495Z"
   },
   {
    "duration": 23,
    "start_time": "2022-03-04T15:13:25.926Z"
   },
   {
    "duration": 31,
    "start_time": "2022-03-04T15:18:13.088Z"
   },
   {
    "duration": 917,
    "start_time": "2022-03-04T15:19:32.656Z"
   },
   {
    "duration": 539,
    "start_time": "2022-03-04T15:20:01.152Z"
   },
   {
    "duration": 439,
    "start_time": "2022-03-04T15:20:53.561Z"
   },
   {
    "duration": 82,
    "start_time": "2022-03-04T15:38:50.562Z"
   },
   {
    "duration": 82,
    "start_time": "2022-03-04T15:38:53.132Z"
   },
   {
    "duration": 131,
    "start_time": "2022-03-04T15:39:48.869Z"
   },
   {
    "duration": 57,
    "start_time": "2022-03-04T15:39:58.598Z"
   },
   {
    "duration": 1121,
    "start_time": "2022-03-04T15:40:58.167Z"
   },
   {
    "duration": 41,
    "start_time": "2022-03-04T15:41:12.143Z"
   },
   {
    "duration": 41,
    "start_time": "2022-03-04T15:41:26.687Z"
   },
   {
    "duration": 1390,
    "start_time": "2022-03-04T15:41:41.624Z"
   },
   {
    "duration": 1138,
    "start_time": "2022-03-04T15:41:58.048Z"
   },
   {
    "duration": 39,
    "start_time": "2022-03-04T15:42:01.184Z"
   },
   {
    "duration": 43,
    "start_time": "2022-03-04T15:42:10.336Z"
   },
   {
    "duration": 770,
    "start_time": "2022-03-04T15:45:27.941Z"
   },
   {
    "duration": 669,
    "start_time": "2022-03-04T15:45:35.621Z"
   },
   {
    "duration": 787,
    "start_time": "2022-03-04T15:45:46.782Z"
   },
   {
    "duration": 327,
    "start_time": "2022-03-04T15:45:55.894Z"
   },
   {
    "duration": 568,
    "start_time": "2022-03-04T15:46:08.526Z"
   },
   {
    "duration": 597,
    "start_time": "2022-03-04T15:46:50.279Z"
   },
   {
    "duration": 575,
    "start_time": "2022-03-04T15:48:17.057Z"
   },
   {
    "duration": 344,
    "start_time": "2022-03-04T15:55:47.428Z"
   },
   {
    "duration": 296,
    "start_time": "2022-03-04T15:56:07.429Z"
   },
   {
    "duration": 286,
    "start_time": "2022-03-04T15:56:29.253Z"
   },
   {
    "duration": 13,
    "start_time": "2022-03-04T16:11:23.259Z"
   },
   {
    "duration": 20,
    "start_time": "2022-03-04T16:11:31.147Z"
   },
   {
    "duration": 292,
    "start_time": "2022-03-04T16:11:59.716Z"
   },
   {
    "duration": 358,
    "start_time": "2022-03-04T16:13:23.948Z"
   },
   {
    "duration": 328,
    "start_time": "2022-03-04T16:14:11.679Z"
   },
   {
    "duration": 1121,
    "start_time": "2022-03-04T17:19:36.821Z"
   },
   {
    "duration": 7,
    "start_time": "2022-03-04T17:19:50.712Z"
   },
   {
    "duration": 836,
    "start_time": "2022-03-04T17:19:55.057Z"
   },
   {
    "duration": 6570,
    "start_time": "2022-03-04T17:33:46.805Z"
   },
   {
    "duration": 612,
    "start_time": "2022-03-04T17:34:10.061Z"
   },
   {
    "duration": 728,
    "start_time": "2022-03-04T17:35:16.344Z"
   },
   {
    "duration": 729,
    "start_time": "2022-03-04T17:38:52.828Z"
   },
   {
    "duration": 668,
    "start_time": "2022-03-04T17:40:58.864Z"
   },
   {
    "duration": 652,
    "start_time": "2022-03-04T17:42:55.674Z"
   },
   {
    "duration": 843,
    "start_time": "2022-03-04T17:43:54.435Z"
   },
   {
    "duration": 289,
    "start_time": "2022-03-04T17:45:41.166Z"
   },
   {
    "duration": 495,
    "start_time": "2022-03-04T17:46:26.335Z"
   },
   {
    "duration": 1130,
    "start_time": "2022-03-04T17:46:30.375Z"
   },
   {
    "duration": 464,
    "start_time": "2022-03-04T17:48:29.394Z"
   },
   {
    "duration": 399,
    "start_time": "2022-03-04T17:48:47.827Z"
   },
   {
    "duration": 592,
    "start_time": "2022-03-04T17:48:53.202Z"
   },
   {
    "duration": 472,
    "start_time": "2022-03-04T17:51:01.684Z"
   },
   {
    "duration": 613,
    "start_time": "2022-03-04T17:51:58.111Z"
   },
   {
    "duration": 898,
    "start_time": "2022-03-04T17:52:44.368Z"
   },
   {
    "duration": 910,
    "start_time": "2022-03-04T17:52:57.352Z"
   },
   {
    "duration": 649,
    "start_time": "2022-03-04T17:53:42.232Z"
   },
   {
    "duration": 518,
    "start_time": "2022-03-04T17:54:17.204Z"
   },
   {
    "duration": 626,
    "start_time": "2022-03-04T17:54:25.397Z"
   },
   {
    "duration": 700,
    "start_time": "2022-03-04T17:54:36.452Z"
   },
   {
    "duration": 882,
    "start_time": "2022-03-04T17:54:48.964Z"
   },
   {
    "duration": 16,
    "start_time": "2022-03-04T17:56:58.718Z"
   },
   {
    "duration": 1381,
    "start_time": "2022-03-04T17:59:00.400Z"
   },
   {
    "duration": 5,
    "start_time": "2022-03-04T18:00:00.132Z"
   },
   {
    "duration": 147,
    "start_time": "2022-03-04T18:00:09.739Z"
   },
   {
    "duration": 167,
    "start_time": "2022-03-04T18:00:31.020Z"
   },
   {
    "duration": 163,
    "start_time": "2022-03-04T18:04:58.300Z"
   },
   {
    "duration": 161,
    "start_time": "2022-03-04T18:05:08.427Z"
   },
   {
    "duration": 158,
    "start_time": "2022-03-04T18:05:51.395Z"
   },
   {
    "duration": 152,
    "start_time": "2022-03-04T18:06:52.205Z"
   },
   {
    "duration": 2322,
    "start_time": "2022-03-04T18:08:54.936Z"
   },
   {
    "duration": 278,
    "start_time": "2022-03-04T18:32:20.085Z"
   },
   {
    "duration": 4908,
    "start_time": "2022-03-04T18:32:56.245Z"
   },
   {
    "duration": 281,
    "start_time": "2022-03-04T18:34:35.544Z"
   },
   {
    "duration": 6,
    "start_time": "2022-03-04T18:34:48.544Z"
   },
   {
    "duration": 138,
    "start_time": "2022-03-04T18:35:26.465Z"
   },
   {
    "duration": 1393,
    "start_time": "2022-03-04T18:35:37.048Z"
   },
   {
    "duration": 209,
    "start_time": "2022-03-04T18:36:37.658Z"
   },
   {
    "duration": 1163,
    "start_time": "2022-03-04T18:36:43.210Z"
   },
   {
    "duration": 1121,
    "start_time": "2022-03-04T18:37:03.427Z"
   },
   {
    "duration": 1054,
    "start_time": "2022-03-04T18:37:36.315Z"
   },
   {
    "duration": 6,
    "start_time": "2022-03-04T18:40:45.792Z"
   },
   {
    "duration": 532,
    "start_time": "2022-03-04T18:40:55.583Z"
   },
   {
    "duration": 695,
    "start_time": "2022-03-04T18:43:26.371Z"
   },
   {
    "duration": 675,
    "start_time": "2022-03-04T18:43:39.021Z"
   },
   {
    "duration": 28,
    "start_time": "2022-03-04T18:44:19.821Z"
   },
   {
    "duration": 728,
    "start_time": "2022-03-04T18:53:54.533Z"
   },
   {
    "duration": 861,
    "start_time": "2022-03-04T18:57:03.945Z"
   },
   {
    "duration": 860,
    "start_time": "2022-03-04T18:57:19.096Z"
   },
   {
    "duration": 1433,
    "start_time": "2022-03-04T19:03:26.770Z"
   },
   {
    "duration": 1282,
    "start_time": "2022-03-04T19:04:24.043Z"
   },
   {
    "duration": 1214,
    "start_time": "2022-03-04T19:04:34.969Z"
   },
   {
    "duration": 2061,
    "start_time": "2022-03-04T19:33:49.009Z"
   },
   {
    "duration": 113,
    "start_time": "2022-03-04T19:33:51.072Z"
   },
   {
    "duration": 10,
    "start_time": "2022-03-04T19:33:51.188Z"
   },
   {
    "duration": 50,
    "start_time": "2022-03-04T19:33:51.201Z"
   },
   {
    "duration": 381,
    "start_time": "2022-03-04T19:33:51.254Z"
   },
   {
    "duration": 373,
    "start_time": "2022-03-04T19:33:51.638Z"
   },
   {
    "duration": 603,
    "start_time": "2022-03-04T19:33:52.014Z"
   },
   {
    "duration": 776,
    "start_time": "2022-03-04T19:33:52.620Z"
   },
   {
    "duration": 1056,
    "start_time": "2022-03-04T19:33:53.399Z"
   },
   {
    "duration": 831,
    "start_time": "2022-03-04T19:33:54.458Z"
   },
   {
    "duration": -85,
    "start_time": "2022-03-04T19:33:55.377Z"
   },
   {
    "duration": -87,
    "start_time": "2022-03-04T19:33:55.380Z"
   },
   {
    "duration": -86,
    "start_time": "2022-03-04T19:33:55.381Z"
   },
   {
    "duration": -89,
    "start_time": "2022-03-04T19:33:55.386Z"
   },
   {
    "duration": 729,
    "start_time": "2022-03-04T19:35:03.416Z"
   },
   {
    "duration": 426,
    "start_time": "2022-03-04T19:35:17.825Z"
   },
   {
    "duration": 419,
    "start_time": "2022-03-04T19:35:20.208Z"
   },
   {
    "duration": 552,
    "start_time": "2022-03-04T19:35:21.128Z"
   },
   {
    "duration": 441,
    "start_time": "2022-03-04T19:35:22.592Z"
   },
   {
    "duration": 422,
    "start_time": "2022-03-04T19:35:23.576Z"
   },
   {
    "duration": 423,
    "start_time": "2022-03-04T19:35:31.672Z"
   },
   {
    "duration": 457,
    "start_time": "2022-03-04T19:35:45.841Z"
   },
   {
    "duration": 2081,
    "start_time": "2022-03-04T19:38:31.344Z"
   },
   {
    "duration": 92,
    "start_time": "2022-03-04T19:38:33.428Z"
   },
   {
    "duration": 8,
    "start_time": "2022-03-04T19:38:33.523Z"
   },
   {
    "duration": 20,
    "start_time": "2022-03-04T19:38:33.550Z"
   },
   {
    "duration": 362,
    "start_time": "2022-03-04T19:38:33.573Z"
   },
   {
    "duration": 374,
    "start_time": "2022-03-04T19:38:33.938Z"
   },
   {
    "duration": 586,
    "start_time": "2022-03-04T19:38:34.316Z"
   },
   {
    "duration": 788,
    "start_time": "2022-03-04T19:38:34.905Z"
   },
   {
    "duration": 1056,
    "start_time": "2022-03-04T19:38:35.696Z"
   },
   {
    "duration": 853,
    "start_time": "2022-03-04T19:38:36.754Z"
   },
   {
    "duration": -474,
    "start_time": "2022-03-04T19:38:38.084Z"
   },
   {
    "duration": -474,
    "start_time": "2022-03-04T19:38:38.085Z"
   },
   {
    "duration": -474,
    "start_time": "2022-03-04T19:38:38.087Z"
   },
   {
    "duration": -473,
    "start_time": "2022-03-04T19:38:38.088Z"
   },
   {
    "duration": 182,
    "start_time": "2022-03-04T19:38:57.454Z"
   },
   {
    "duration": 2091,
    "start_time": "2022-03-04T19:39:11.785Z"
   },
   {
    "duration": 89,
    "start_time": "2022-03-04T19:39:13.879Z"
   },
   {
    "duration": 7,
    "start_time": "2022-03-04T19:39:13.971Z"
   },
   {
    "duration": 23,
    "start_time": "2022-03-04T19:39:13.981Z"
   },
   {
    "duration": 363,
    "start_time": "2022-03-04T19:39:14.007Z"
   },
   {
    "duration": 348,
    "start_time": "2022-03-04T19:39:14.372Z"
   },
   {
    "duration": 603,
    "start_time": "2022-03-04T19:39:14.722Z"
   },
   {
    "duration": 777,
    "start_time": "2022-03-04T19:39:15.328Z"
   },
   {
    "duration": 1045,
    "start_time": "2022-03-04T19:39:16.108Z"
   },
   {
    "duration": 299,
    "start_time": "2022-03-04T19:39:17.155Z"
   },
   {
    "duration": 1051,
    "start_time": "2022-03-04T19:39:17.457Z"
   },
   {
    "duration": 524,
    "start_time": "2022-03-04T19:39:18.510Z"
   },
   {
    "duration": 340,
    "start_time": "2022-03-04T19:39:18.696Z"
   },
   {
    "duration": 340,
    "start_time": "2022-03-04T19:39:18.698Z"
   },
   {
    "duration": 692,
    "start_time": "2022-03-04T19:39:47.799Z"
   },
   {
    "duration": 2042,
    "start_time": "2022-03-04T19:39:57.280Z"
   },
   {
    "duration": 96,
    "start_time": "2022-03-04T19:39:59.324Z"
   },
   {
    "duration": 7,
    "start_time": "2022-03-04T19:39:59.423Z"
   },
   {
    "duration": 36,
    "start_time": "2022-03-04T19:39:59.432Z"
   },
   {
    "duration": 366,
    "start_time": "2022-03-04T19:39:59.471Z"
   },
   {
    "duration": 394,
    "start_time": "2022-03-04T19:39:59.841Z"
   },
   {
    "duration": 841,
    "start_time": "2022-03-04T19:40:00.238Z"
   },
   {
    "duration": 1024,
    "start_time": "2022-03-04T19:40:01.083Z"
   },
   {
    "duration": 1445,
    "start_time": "2022-03-04T19:40:02.110Z"
   },
   {
    "duration": 403,
    "start_time": "2022-03-04T19:40:03.558Z"
   },
   {
    "duration": 806,
    "start_time": "2022-03-04T19:40:03.964Z"
   },
   {
    "duration": 685,
    "start_time": "2022-03-04T19:40:04.773Z"
   },
   {
    "duration": 735,
    "start_time": "2022-03-04T19:40:05.460Z"
   },
   {
    "duration": 886,
    "start_time": "2022-03-04T19:40:06.198Z"
   },
   {
    "duration": 1993,
    "start_time": "2022-03-05T12:11:10.252Z"
   },
   {
    "duration": 72,
    "start_time": "2022-03-05T12:11:12.247Z"
   },
   {
    "duration": 5,
    "start_time": "2022-03-05T12:11:12.322Z"
   },
   {
    "duration": 20,
    "start_time": "2022-03-05T12:11:12.329Z"
   },
   {
    "duration": 255,
    "start_time": "2022-03-05T12:11:12.350Z"
   },
   {
    "duration": 240,
    "start_time": "2022-03-05T12:11:12.607Z"
   },
   {
    "duration": 434,
    "start_time": "2022-03-05T12:11:12.849Z"
   },
   {
    "duration": 574,
    "start_time": "2022-03-05T12:11:13.285Z"
   },
   {
    "duration": 708,
    "start_time": "2022-03-05T12:11:13.862Z"
   },
   {
    "duration": 212,
    "start_time": "2022-03-05T12:11:14.572Z"
   },
   {
    "duration": 974,
    "start_time": "2022-03-05T12:11:14.786Z"
   },
   {
    "duration": 466,
    "start_time": "2022-03-05T12:11:15.762Z"
   },
   {
    "duration": 454,
    "start_time": "2022-03-05T12:11:16.230Z"
   },
   {
    "duration": 596,
    "start_time": "2022-03-05T12:11:16.685Z"
   },
   {
    "duration": 333,
    "start_time": "2022-03-08T14:51:34.287Z"
   },
   {
    "duration": 2323,
    "start_time": "2022-03-08T14:51:38.772Z"
   },
   {
    "duration": 95,
    "start_time": "2022-03-08T14:51:41.097Z"
   },
   {
    "duration": 8,
    "start_time": "2022-03-08T14:51:41.196Z"
   },
   {
    "duration": 24,
    "start_time": "2022-03-08T14:51:41.207Z"
   },
   {
    "duration": 366,
    "start_time": "2022-03-08T14:51:41.233Z"
   },
   {
    "duration": 371,
    "start_time": "2022-03-08T14:51:41.602Z"
   },
   {
    "duration": 44,
    "start_time": "2022-03-08T14:51:42.917Z"
   },
   {
    "duration": 633,
    "start_time": "2022-03-08T14:52:18.703Z"
   },
   {
    "duration": 536,
    "start_time": "2022-03-08T14:53:01.480Z"
   },
   {
    "duration": 525,
    "start_time": "2022-03-08T14:53:53.481Z"
   },
   {
    "duration": 532,
    "start_time": "2022-03-08T14:54:28.800Z"
   },
   {
    "duration": 646,
    "start_time": "2022-03-08T14:56:10.630Z"
   },
   {
    "duration": 526,
    "start_time": "2022-03-08T14:56:25.234Z"
   },
   {
    "duration": 444,
    "start_time": "2022-03-08T15:10:26.190Z"
   },
   {
    "duration": 1180,
    "start_time": "2022-03-08T15:24:20.270Z"
   },
   {
    "duration": 475,
    "start_time": "2022-03-08T15:37:58.810Z"
   },
   {
    "duration": 9,
    "start_time": "2022-03-08T15:38:03.251Z"
   },
   {
    "duration": 109,
    "start_time": "2022-03-08T15:38:03.263Z"
   },
   {
    "duration": 7,
    "start_time": "2022-03-08T15:38:03.375Z"
   },
   {
    "duration": 34,
    "start_time": "2022-03-08T15:38:03.385Z"
   },
   {
    "duration": 483,
    "start_time": "2022-03-08T15:38:03.421Z"
   },
   {
    "duration": 364,
    "start_time": "2022-03-08T15:38:03.907Z"
   },
   {
    "duration": 538,
    "start_time": "2022-03-08T15:38:04.273Z"
   },
   {
    "duration": 646,
    "start_time": "2022-03-08T15:38:04.815Z"
   },
   {
    "duration": 492,
    "start_time": "2022-03-08T15:38:05.464Z"
   },
   {
    "duration": 199,
    "start_time": "2022-03-08T15:38:05.959Z"
   },
   {
    "duration": 1418,
    "start_time": "2022-03-08T15:38:06.161Z"
   },
   {
    "duration": 1060,
    "start_time": "2022-03-08T15:38:07.638Z"
   },
   {
    "duration": 719,
    "start_time": "2022-03-08T15:39:58.677Z"
   },
   {
    "duration": 2158,
    "start_time": "2022-03-08T15:53:31.668Z"
   },
   {
    "duration": 90,
    "start_time": "2022-03-08T15:53:33.829Z"
   },
   {
    "duration": 7,
    "start_time": "2022-03-08T15:53:33.921Z"
   },
   {
    "duration": 28,
    "start_time": "2022-03-08T15:53:33.931Z"
   },
   {
    "duration": 380,
    "start_time": "2022-03-08T15:53:33.962Z"
   },
   {
    "duration": 350,
    "start_time": "2022-03-08T15:53:34.344Z"
   },
   {
    "duration": 750,
    "start_time": "2022-03-08T15:53:34.697Z"
   },
   {
    "duration": 817,
    "start_time": "2022-03-08T15:53:35.452Z"
   },
   {
    "duration": 1025,
    "start_time": "2022-03-08T15:53:36.272Z"
   },
   {
    "duration": 260,
    "start_time": "2022-03-08T15:53:37.299Z"
   },
   {
    "duration": 1169,
    "start_time": "2022-03-08T15:53:37.586Z"
   },
   {
    "duration": 640,
    "start_time": "2022-03-08T15:53:38.758Z"
   },
   {
    "duration": 752,
    "start_time": "2022-03-08T15:53:39.401Z"
   },
   {
    "duration": 883,
    "start_time": "2022-03-08T15:53:40.156Z"
   },
   {
    "duration": 11245,
    "start_time": "2022-03-08T16:38:17.692Z"
   },
   {
    "duration": 90,
    "start_time": "2022-03-08T16:38:28.941Z"
   },
   {
    "duration": 20,
    "start_time": "2022-03-08T16:38:29.034Z"
   },
   {
    "duration": 30,
    "start_time": "2022-03-08T16:38:29.056Z"
   },
   {
    "duration": 368,
    "start_time": "2022-03-08T16:38:29.089Z"
   },
   {
    "duration": 339,
    "start_time": "2022-03-08T16:38:29.460Z"
   },
   {
    "duration": 535,
    "start_time": "2022-03-08T16:38:29.802Z"
   },
   {
    "duration": 748,
    "start_time": "2022-03-08T16:38:30.340Z"
   },
   {
    "duration": 1057,
    "start_time": "2022-03-08T16:38:31.094Z"
   },
   {
    "duration": 434,
    "start_time": "2022-03-08T16:38:32.155Z"
   },
   {
    "duration": 1528,
    "start_time": "2022-03-08T16:38:32.591Z"
   },
   {
    "duration": 663,
    "start_time": "2022-03-08T16:38:34.122Z"
   },
   {
    "duration": 765,
    "start_time": "2022-03-08T16:38:34.788Z"
   },
   {
    "duration": 846,
    "start_time": "2022-03-08T16:38:35.556Z"
   },
   {
    "duration": 24,
    "start_time": "2022-03-08T16:39:21.544Z"
   },
   {
    "duration": 9,
    "start_time": "2022-03-08T16:39:41.784Z"
   },
   {
    "duration": 5,
    "start_time": "2022-03-08T16:39:49.720Z"
   },
   {
    "duration": 496,
    "start_time": "2022-03-08T16:39:59.539Z"
   },
   {
    "duration": 12,
    "start_time": "2022-03-08T16:40:11.057Z"
   },
   {
    "duration": 76,
    "start_time": "2022-03-08T16:41:57.485Z"
   },
   {
    "duration": 10748,
    "start_time": "2022-03-08T16:42:04.035Z"
   },
   {
    "duration": 15,
    "start_time": "2022-03-08T16:42:26.380Z"
   },
   {
    "duration": 14,
    "start_time": "2022-03-08T16:43:09.016Z"
   },
   {
    "duration": 338,
    "start_time": "2022-03-08T19:59:07.735Z"
   },
   {
    "duration": 2113,
    "start_time": "2022-03-08T19:59:14.090Z"
   },
   {
    "duration": 98,
    "start_time": "2022-03-08T19:59:16.207Z"
   },
   {
    "duration": 8,
    "start_time": "2022-03-08T19:59:16.309Z"
   },
   {
    "duration": 26,
    "start_time": "2022-03-08T19:59:16.319Z"
   },
   {
    "duration": 572,
    "start_time": "2022-03-08T19:59:16.348Z"
   },
   {
    "duration": 368,
    "start_time": "2022-03-08T19:59:16.923Z"
   },
   {
    "duration": 38,
    "start_time": "2022-03-08T19:59:19.882Z"
   },
   {
    "duration": 545,
    "start_time": "2022-03-08T19:59:41.295Z"
   },
   {
    "duration": 619,
    "start_time": "2022-03-08T20:01:06.728Z"
   },
   {
    "duration": 532,
    "start_time": "2022-03-08T20:08:20.418Z"
   },
   {
    "duration": 67,
    "start_time": "2022-04-03T08:23:48.197Z"
   },
   {
    "duration": 1665,
    "start_time": "2022-04-03T08:25:39.554Z"
   },
   {
    "duration": 103,
    "start_time": "2022-04-03T08:25:41.221Z"
   },
   {
    "duration": 7,
    "start_time": "2022-04-03T08:25:41.326Z"
   },
   {
    "duration": 27,
    "start_time": "2022-04-03T08:25:41.337Z"
   },
   {
    "duration": 287,
    "start_time": "2022-04-03T08:25:41.383Z"
   },
   {
    "duration": 252,
    "start_time": "2022-04-03T08:25:41.681Z"
   },
   {
    "duration": 359,
    "start_time": "2022-04-03T08:25:41.936Z"
   },
   {
    "duration": 431,
    "start_time": "2022-04-03T08:25:42.297Z"
   },
   {
    "duration": 675,
    "start_time": "2022-04-03T08:25:42.731Z"
   },
   {
    "duration": 0,
    "start_time": "2022-04-03T08:25:43.409Z"
   },
   {
    "duration": 0,
    "start_time": "2022-04-03T08:25:43.411Z"
   },
   {
    "duration": 1,
    "start_time": "2022-04-03T08:25:43.413Z"
   },
   {
    "duration": 0,
    "start_time": "2022-04-03T08:25:43.416Z"
   },
   {
    "duration": 0,
    "start_time": "2022-04-03T08:25:43.418Z"
   },
   {
    "duration": 322,
    "start_time": "2022-04-03T08:26:13.889Z"
   },
   {
    "duration": 122,
    "start_time": "2022-04-03T08:26:28.862Z"
   },
   {
    "duration": 274,
    "start_time": "2022-04-03T08:27:26.641Z"
   },
   {
    "duration": 135,
    "start_time": "2022-04-03T08:27:46.983Z"
   },
   {
    "duration": 161,
    "start_time": "2022-04-03T08:27:47.121Z"
   },
   {
    "duration": 1113,
    "start_time": "2022-04-03T08:27:47.284Z"
   },
   {
    "duration": 150,
    "start_time": "2022-04-03T08:27:48.400Z"
   },
   {
    "duration": 0,
    "start_time": "2022-04-03T08:27:48.552Z"
   },
   {
    "duration": 0,
    "start_time": "2022-04-03T08:27:48.555Z"
   },
   {
    "duration": 177,
    "start_time": "2022-04-03T08:29:02.323Z"
   },
   {
    "duration": 542,
    "start_time": "2022-04-03T08:29:14.342Z"
   },
   {
    "duration": 528,
    "start_time": "2022-04-03T08:29:18.818Z"
   }
  ],
  "kernelspec": {
   "display_name": "Python 3 (ipykernel)",
   "language": "python",
   "name": "python3"
  },
  "language_info": {
   "codemirror_mode": {
    "name": "ipython",
    "version": 3
   },
   "file_extension": ".py",
   "mimetype": "text/x-python",
   "name": "python",
   "nbconvert_exporter": "python",
   "pygments_lexer": "ipython3",
   "version": "3.9.5"
  },
  "toc": {
   "base_numbering": 1,
   "nav_menu": {},
   "number_sections": false,
   "sideBar": false,
   "skip_h1_title": false,
   "title_cell": "Содержание",
   "title_sidebar": "Contents",
   "toc_cell": false,
   "toc_position": {
    "height": "calc(100% - 180px)",
    "left": "10px",
    "top": "150px",
    "width": "165px"
   },
   "toc_section_display": true,
   "toc_window_display": false
  }
 },
 "nbformat": 4,
 "nbformat_minor": 2
}

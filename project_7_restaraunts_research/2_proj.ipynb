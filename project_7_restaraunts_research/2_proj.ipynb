{
 "cells": [
  {
   "cell_type": "markdown",
   "metadata": {},
   "source": [
    "# Исследование поведения пользователей приложения по продаже продуктов питания. \n",
    "\n",
    "\n",
    "Субъект исследования -  стартап, который продаёт продукты питания. Требуется разобраться, как ведут себя пользователи мобильного приложения.\n",
    "\n",
    "Изучим воронку продаж. Узнаем, как пользователи доходят до покупки. Сколько пользователей доходит до покупки, а сколько — «застревает» на предыдущих шагах, на каких именно.\n",
    "Исследуем результаты A/A/B-эксперимента. Дизайнеры захотели поменять шрифты во всём приложении, а менеджеры испугались, что пользователям будет непривычно. Договорились принять решение по результатам A/A/B-теста. Пользователей разбили на 3 группы: 2 контрольные со старыми шрифтами и одну экспериментальную — с новыми. Выясним, какой шрифт лучше.\n",
    "\n",
    "Создание двух групп A вместо одной имеет определённые преимущества. Если две контрольные группы окажутся равны, мы можем быть уверены в точности проведенного тестирования. Если же между значениями A и A будут существенные различия, это поможет обнаружить факторы, которые привели к искажению результатов. Сравнение контрольных групп также помогает понять, сколько времени и данных потребуется для дальнейших тестов.\n",
    "\n",
    "*В случае общей аналитики и A/A/B-эксперимента работаем с одними и теми же данными. В реальных проектах всегда идут эксперименты. Аналитики исследуют качество работы приложения по общим данным, не учитывая принадлежность пользователей к экспериментам."
   ]
  },
  {
   "cell_type": "markdown",
   "metadata": {},
   "source": [
    "**Цель исследования:** Разобраться, как ведут себя пользователи мобильного приложения по продаже продуктов питания. "
   ]
  },
  {
   "cell_type": "markdown",
   "metadata": {},
   "source": [
    "**Содержание**\n",
    "    \n",
    "    \n",
    "1. [Изучение и предобработка данных из файла](#open)\n",
    "        \n",
    "    \n",
    "2. [Исследовательский анализ данных](#pred)\n",
    "\n",
    "\n",
    "3. [Изучение воронки событий](#portr)\n",
    "\n",
    "\n",
    "4. [Изучение результатов эксперимента](#exp)\n",
    "\n",
    "\n",
    "5. [Общий вывод](#summary)"
   ]
  },
  {
   "cell_type": "markdown",
   "metadata": {},
   "source": [
    "<a id=\"open\"></a>\n",
    "## 1. Изучение и предобработка данных из файла"
   ]
  },
  {
   "cell_type": "markdown",
   "metadata": {},
   "source": [
    "**Описание данных:**\n",
    "\n",
    "Каждая запись в логе — это действие пользователя или событие.\n",
    "\n",
    "Таблица logs_exp\n",
    "\n",
    "* EventName — название события;\n",
    "* DeviceIDHash — уникальный идентификатор пользователя;\n",
    "* EventTimestamp — время события;\n",
    "* ExpId — номер эксперимента: 246 и 247 — контрольные группы, а 248 — экспериментальная.\n"
   ]
  },
  {
   "cell_type": "markdown",
   "metadata": {},
   "source": [
    "Импортируем библиотеки"
   ]
  },
  {
   "cell_type": "code",
   "execution_count": 1,
   "metadata": {},
   "outputs": [],
   "source": [
    "import pandas as pd\n",
    "import seaborn as sb\n",
    "import datetime as dt\n",
    "import matplotlib.pyplot as plt\n",
    "import numpy as np\n",
    "import math\n",
    "from scipy import stats as st\n",
    "from statsmodels.stats.multitest import multipletests\n",
    "\n",
    "# import requests\n",
    "# from bs4 import BeautifulSoup\n",
    "# import requests, io, urllib.request\n",
    "\n",
    "pd.set_option('display.max_columns', None)\n",
    "pd.set_option('display.float_format', '{:,.2f}'.format)\n",
    "pd.set_option('display.max_colwidth', 500)\n",
    "pd.options.mode.chained_assignment = None\n",
    "\n",
    "# from pandas.plotting import register_matplotlib_converters\n",
    "# register_matplotlib_converters()"
   ]
  },
  {
   "cell_type": "code",
   "execution_count": 2,
   "metadata": {
    "scrolled": false
   },
   "outputs": [
    {
     "data": {
      "text/html": [
       "<div>\n",
       "<style scoped>\n",
       "    .dataframe tbody tr th:only-of-type {\n",
       "        vertical-align: middle;\n",
       "    }\n",
       "\n",
       "    .dataframe tbody tr th {\n",
       "        vertical-align: top;\n",
       "    }\n",
       "\n",
       "    .dataframe thead th {\n",
       "        text-align: right;\n",
       "    }\n",
       "</style>\n",
       "<table border=\"1\" class=\"dataframe\">\n",
       "  <thead>\n",
       "    <tr style=\"text-align: right;\">\n",
       "      <th></th>\n",
       "      <th>EventName</th>\n",
       "      <th>DeviceIDHash</th>\n",
       "      <th>EventTimestamp</th>\n",
       "      <th>ExpId</th>\n",
       "    </tr>\n",
       "  </thead>\n",
       "  <tbody>\n",
       "    <tr>\n",
       "      <th>0</th>\n",
       "      <td>MainScreenAppear</td>\n",
       "      <td>4575588528974610257</td>\n",
       "      <td>1564029816</td>\n",
       "      <td>246</td>\n",
       "    </tr>\n",
       "    <tr>\n",
       "      <th>1</th>\n",
       "      <td>MainScreenAppear</td>\n",
       "      <td>7416695313311560658</td>\n",
       "      <td>1564053102</td>\n",
       "      <td>246</td>\n",
       "    </tr>\n",
       "    <tr>\n",
       "      <th>2</th>\n",
       "      <td>PaymentScreenSuccessful</td>\n",
       "      <td>3518123091307005509</td>\n",
       "      <td>1564054127</td>\n",
       "      <td>248</td>\n",
       "    </tr>\n",
       "    <tr>\n",
       "      <th>3</th>\n",
       "      <td>CartScreenAppear</td>\n",
       "      <td>3518123091307005509</td>\n",
       "      <td>1564054127</td>\n",
       "      <td>248</td>\n",
       "    </tr>\n",
       "    <tr>\n",
       "      <th>4</th>\n",
       "      <td>PaymentScreenSuccessful</td>\n",
       "      <td>6217807653094995999</td>\n",
       "      <td>1564055322</td>\n",
       "      <td>248</td>\n",
       "    </tr>\n",
       "    <tr>\n",
       "      <th>5</th>\n",
       "      <td>CartScreenAppear</td>\n",
       "      <td>6217807653094995999</td>\n",
       "      <td>1564055323</td>\n",
       "      <td>248</td>\n",
       "    </tr>\n",
       "    <tr>\n",
       "      <th>6</th>\n",
       "      <td>OffersScreenAppear</td>\n",
       "      <td>8351860793733343758</td>\n",
       "      <td>1564066242</td>\n",
       "      <td>246</td>\n",
       "    </tr>\n",
       "    <tr>\n",
       "      <th>7</th>\n",
       "      <td>MainScreenAppear</td>\n",
       "      <td>5682100281902512875</td>\n",
       "      <td>1564085677</td>\n",
       "      <td>246</td>\n",
       "    </tr>\n",
       "    <tr>\n",
       "      <th>8</th>\n",
       "      <td>MainScreenAppear</td>\n",
       "      <td>1850981295691852772</td>\n",
       "      <td>1564086702</td>\n",
       "      <td>247</td>\n",
       "    </tr>\n",
       "    <tr>\n",
       "      <th>9</th>\n",
       "      <td>MainScreenAppear</td>\n",
       "      <td>5407636962369102641</td>\n",
       "      <td>1564112112</td>\n",
       "      <td>246</td>\n",
       "    </tr>\n",
       "  </tbody>\n",
       "</table>\n",
       "</div>"
      ],
      "text/plain": [
       "                 EventName         DeviceIDHash  EventTimestamp  ExpId\n",
       "0         MainScreenAppear  4575588528974610257      1564029816    246\n",
       "1         MainScreenAppear  7416695313311560658      1564053102    246\n",
       "2  PaymentScreenSuccessful  3518123091307005509      1564054127    248\n",
       "3         CartScreenAppear  3518123091307005509      1564054127    248\n",
       "4  PaymentScreenSuccessful  6217807653094995999      1564055322    248\n",
       "5         CartScreenAppear  6217807653094995999      1564055323    248\n",
       "6       OffersScreenAppear  8351860793733343758      1564066242    246\n",
       "7         MainScreenAppear  5682100281902512875      1564085677    246\n",
       "8         MainScreenAppear  1850981295691852772      1564086702    247\n",
       "9         MainScreenAppear  5407636962369102641      1564112112    246"
      ]
     },
     "metadata": {},
     "output_type": "display_data"
    },
    {
     "data": {
      "text/html": [
       "<div>\n",
       "<style scoped>\n",
       "    .dataframe tbody tr th:only-of-type {\n",
       "        vertical-align: middle;\n",
       "    }\n",
       "\n",
       "    .dataframe tbody tr th {\n",
       "        vertical-align: top;\n",
       "    }\n",
       "\n",
       "    .dataframe thead th {\n",
       "        text-align: right;\n",
       "    }\n",
       "</style>\n",
       "<table border=\"1\" class=\"dataframe\">\n",
       "  <thead>\n",
       "    <tr style=\"text-align: right;\">\n",
       "      <th></th>\n",
       "      <th>count</th>\n",
       "      <th>mean</th>\n",
       "      <th>std</th>\n",
       "      <th>min</th>\n",
       "      <th>25%</th>\n",
       "      <th>50%</th>\n",
       "      <th>75%</th>\n",
       "      <th>max</th>\n",
       "    </tr>\n",
       "  </thead>\n",
       "  <tbody>\n",
       "    <tr>\n",
       "      <th>DeviceIDHash</th>\n",
       "      <td>244,126.00</td>\n",
       "      <td>4,627,568,124,591,259,648.00</td>\n",
       "      <td>2,642,424,998,963,961,856.00</td>\n",
       "      <td>6,888,746,892,508,752.00</td>\n",
       "      <td>2,372,212,476,992,240,640.00</td>\n",
       "      <td>4,623,191,541,214,045,184.00</td>\n",
       "      <td>6,932,517,045,703,054,336.00</td>\n",
       "      <td>9,222,603,179,720,523,776.00</td>\n",
       "    </tr>\n",
       "    <tr>\n",
       "      <th>EventTimestamp</th>\n",
       "      <td>244,126.00</td>\n",
       "      <td>1,564,913,915.84</td>\n",
       "      <td>177,134.32</td>\n",
       "      <td>1,564,029,816.00</td>\n",
       "      <td>1,564,756,580.25</td>\n",
       "      <td>1,564,919,395.00</td>\n",
       "      <td>1,565,074,511.00</td>\n",
       "      <td>1,565,212,517.00</td>\n",
       "    </tr>\n",
       "    <tr>\n",
       "      <th>ExpId</th>\n",
       "      <td>244,126.00</td>\n",
       "      <td>247.02</td>\n",
       "      <td>0.82</td>\n",
       "      <td>246.00</td>\n",
       "      <td>246.00</td>\n",
       "      <td>247.00</td>\n",
       "      <td>248.00</td>\n",
       "      <td>248.00</td>\n",
       "    </tr>\n",
       "  </tbody>\n",
       "</table>\n",
       "</div>"
      ],
      "text/plain": [
       "                    count                         mean  \\\n",
       "DeviceIDHash   244,126.00 4,627,568,124,591,259,648.00   \n",
       "EventTimestamp 244,126.00             1,564,913,915.84   \n",
       "ExpId          244,126.00                       247.02   \n",
       "\n",
       "                                        std                      min  \\\n",
       "DeviceIDHash   2,642,424,998,963,961,856.00 6,888,746,892,508,752.00   \n",
       "EventTimestamp                   177,134.32         1,564,029,816.00   \n",
       "ExpId                                  0.82                   246.00   \n",
       "\n",
       "                                        25%                          50%  \\\n",
       "DeviceIDHash   2,372,212,476,992,240,640.00 4,623,191,541,214,045,184.00   \n",
       "EventTimestamp             1,564,756,580.25             1,564,919,395.00   \n",
       "ExpId                                246.00                       247.00   \n",
       "\n",
       "                                        75%                          max  \n",
       "DeviceIDHash   6,932,517,045,703,054,336.00 9,222,603,179,720,523,776.00  \n",
       "EventTimestamp             1,565,074,511.00             1,565,212,517.00  \n",
       "ExpId                                248.00                       248.00  "
      ]
     },
     "metadata": {},
     "output_type": "display_data"
    },
    {
     "name": "stdout",
     "output_type": "stream",
     "text": [
      "<class 'pandas.core.frame.DataFrame'>\n",
      "RangeIndex: 244126 entries, 0 to 244125\n",
      "Data columns (total 4 columns):\n",
      " #   Column          Non-Null Count   Dtype \n",
      "---  ------          --------------   ----- \n",
      " 0   EventName       244126 non-null  object\n",
      " 1   DeviceIDHash    244126 non-null  int64 \n",
      " 2   EventTimestamp  244126 non-null  int64 \n",
      " 3   ExpId           244126 non-null  int64 \n",
      "dtypes: int64(3), object(1)\n",
      "memory usage: 7.5+ MB\n",
      "['MainScreenAppear' 'PaymentScreenSuccessful' 'CartScreenAppear'\n",
      " 'OffersScreenAppear' 'Tutorial']\n",
      "[246 248 247]\n"
     ]
    }
   ],
   "source": [
    "# Изучаем таблицу\n",
    "\n",
    "path = '/datasets/logs_exp.csv'\n",
    "df = pd.read_csv(path, sep='\\t')\n",
    "\n",
    "display(df.head(10))\n",
    "df.tail(10)\n",
    "df.sample(5)\n",
    "display(df.describe().T)\n",
    "df.info()\n",
    "print(df['EventName'].unique())\n",
    "print(df['ExpId'].unique())"
   ]
  },
  {
   "cell_type": "markdown",
   "metadata": {},
   "source": [
    "Преобразуем временные типы данных в новых колонках"
   ]
  },
  {
   "cell_type": "code",
   "execution_count": 3,
   "metadata": {},
   "outputs": [
    {
     "data": {
      "text/html": [
       "<div>\n",
       "<style scoped>\n",
       "    .dataframe tbody tr th:only-of-type {\n",
       "        vertical-align: middle;\n",
       "    }\n",
       "\n",
       "    .dataframe tbody tr th {\n",
       "        vertical-align: top;\n",
       "    }\n",
       "\n",
       "    .dataframe thead th {\n",
       "        text-align: right;\n",
       "    }\n",
       "</style>\n",
       "<table border=\"1\" class=\"dataframe\">\n",
       "  <thead>\n",
       "    <tr style=\"text-align: right;\">\n",
       "      <th></th>\n",
       "      <th>EventName</th>\n",
       "      <th>DeviceIDHash</th>\n",
       "      <th>EventTimestamp</th>\n",
       "      <th>ExpId</th>\n",
       "      <th>date_time</th>\n",
       "      <th>date</th>\n",
       "    </tr>\n",
       "  </thead>\n",
       "  <tbody>\n",
       "    <tr>\n",
       "      <th>244121</th>\n",
       "      <td>MainScreenAppear</td>\n",
       "      <td>4599628364049201812</td>\n",
       "      <td>1565212345</td>\n",
       "      <td>247</td>\n",
       "      <td>2019-08-07 21:12:25</td>\n",
       "      <td>2019-08-07</td>\n",
       "    </tr>\n",
       "    <tr>\n",
       "      <th>244122</th>\n",
       "      <td>MainScreenAppear</td>\n",
       "      <td>5849806612437486590</td>\n",
       "      <td>1565212439</td>\n",
       "      <td>246</td>\n",
       "      <td>2019-08-07 21:13:59</td>\n",
       "      <td>2019-08-07</td>\n",
       "    </tr>\n",
       "    <tr>\n",
       "      <th>244123</th>\n",
       "      <td>MainScreenAppear</td>\n",
       "      <td>5746969938801999050</td>\n",
       "      <td>1565212483</td>\n",
       "      <td>246</td>\n",
       "      <td>2019-08-07 21:14:43</td>\n",
       "      <td>2019-08-07</td>\n",
       "    </tr>\n",
       "    <tr>\n",
       "      <th>244124</th>\n",
       "      <td>MainScreenAppear</td>\n",
       "      <td>5746969938801999050</td>\n",
       "      <td>1565212498</td>\n",
       "      <td>246</td>\n",
       "      <td>2019-08-07 21:14:58</td>\n",
       "      <td>2019-08-07</td>\n",
       "    </tr>\n",
       "    <tr>\n",
       "      <th>244125</th>\n",
       "      <td>OffersScreenAppear</td>\n",
       "      <td>5746969938801999050</td>\n",
       "      <td>1565212517</td>\n",
       "      <td>246</td>\n",
       "      <td>2019-08-07 21:15:17</td>\n",
       "      <td>2019-08-07</td>\n",
       "    </tr>\n",
       "  </tbody>\n",
       "</table>\n",
       "</div>"
      ],
      "text/plain": [
       "                 EventName         DeviceIDHash  EventTimestamp  ExpId  \\\n",
       "244121    MainScreenAppear  4599628364049201812      1565212345    247   \n",
       "244122    MainScreenAppear  5849806612437486590      1565212439    246   \n",
       "244123    MainScreenAppear  5746969938801999050      1565212483    246   \n",
       "244124    MainScreenAppear  5746969938801999050      1565212498    246   \n",
       "244125  OffersScreenAppear  5746969938801999050      1565212517    246   \n",
       "\n",
       "                 date_time        date  \n",
       "244121 2019-08-07 21:12:25  2019-08-07  \n",
       "244122 2019-08-07 21:13:59  2019-08-07  \n",
       "244123 2019-08-07 21:14:43  2019-08-07  \n",
       "244124 2019-08-07 21:14:58  2019-08-07  \n",
       "244125 2019-08-07 21:15:17  2019-08-07  "
      ]
     },
     "execution_count": 3,
     "metadata": {},
     "output_type": "execute_result"
    }
   ],
   "source": [
    "df['date_time'] = pd.to_datetime(df['EventTimestamp'], unit = 's')\n",
    "df['date'] = df['date_time'].dt.strftime('%Y-%m-%d')\n",
    "df.tail()"
   ]
  },
  {
   "cell_type": "markdown",
   "metadata": {},
   "source": [
    "Понизим битность некторых данных в целях экономии памяти"
   ]
  },
  {
   "cell_type": "code",
   "execution_count": 4,
   "metadata": {
    "scrolled": true
   },
   "outputs": [
    {
     "name": "stdout",
     "output_type": "stream",
     "text": [
      "<class 'pandas.core.frame.DataFrame'>\n",
      "RangeIndex: 244126 entries, 0 to 244125\n",
      "Data columns (total 6 columns):\n",
      " #   Column          Non-Null Count   Dtype         \n",
      "---  ------          --------------   -----         \n",
      " 0   EventName       244126 non-null  object        \n",
      " 1   DeviceIDHash    244126 non-null  int64         \n",
      " 2   EventTimestamp  244126 non-null  int64         \n",
      " 3   ExpId           244126 non-null  Int16         \n",
      " 4   date_time       244126 non-null  datetime64[ns]\n",
      " 5   date            244126 non-null  object        \n",
      "dtypes: Int16(1), datetime64[ns](1), int64(2), object(2)\n",
      "memory usage: 10.0+ MB\n"
     ]
    }
   ],
   "source": [
    "df['ExpId'] = df['ExpId'].astype('Int16') \n",
    "df.info()"
   ]
  },
  {
   "cell_type": "markdown",
   "metadata": {},
   "source": [
    "Изменим названия колонок в соответствии со \"змеиным\" стилем."
   ]
  },
  {
   "cell_type": "code",
   "execution_count": 5,
   "metadata": {},
   "outputs": [
    {
     "data": {
      "text/html": [
       "<div>\n",
       "<style scoped>\n",
       "    .dataframe tbody tr th:only-of-type {\n",
       "        vertical-align: middle;\n",
       "    }\n",
       "\n",
       "    .dataframe tbody tr th {\n",
       "        vertical-align: top;\n",
       "    }\n",
       "\n",
       "    .dataframe thead th {\n",
       "        text-align: right;\n",
       "    }\n",
       "</style>\n",
       "<table border=\"1\" class=\"dataframe\">\n",
       "  <thead>\n",
       "    <tr style=\"text-align: right;\">\n",
       "      <th></th>\n",
       "      <th>event_name</th>\n",
       "      <th>user_id</th>\n",
       "      <th>event_time</th>\n",
       "      <th>exp_id</th>\n",
       "      <th>date_time</th>\n",
       "      <th>date</th>\n",
       "    </tr>\n",
       "  </thead>\n",
       "  <tbody>\n",
       "    <tr>\n",
       "      <th>25971</th>\n",
       "      <td>MainScreenAppear</td>\n",
       "      <td>1038180862674591265</td>\n",
       "      <td>1564672362</td>\n",
       "      <td>248</td>\n",
       "      <td>2019-08-01 15:12:42</td>\n",
       "      <td>2019-08-01</td>\n",
       "    </tr>\n",
       "  </tbody>\n",
       "</table>\n",
       "</div>"
      ],
      "text/plain": [
       "             event_name              user_id  event_time  exp_id  \\\n",
       "25971  MainScreenAppear  1038180862674591265  1564672362     248   \n",
       "\n",
       "                date_time        date  \n",
       "25971 2019-08-01 15:12:42  2019-08-01  "
      ]
     },
     "execution_count": 5,
     "metadata": {},
     "output_type": "execute_result"
    }
   ],
   "source": [
    "columns = ['event_name', 'user_id', 'event_time', 'exp_id', 'date_time', 'date']\n",
    "df.set_axis(columns, axis = 'columns', inplace = True)\n",
    "df.sample()"
   ]
  },
  {
   "cell_type": "markdown",
   "metadata": {},
   "source": [
    "Проверим данные на полные дубликаты и обработаем их"
   ]
  },
  {
   "cell_type": "code",
   "execution_count": 6,
   "metadata": {},
   "outputs": [
    {
     "name": "stdout",
     "output_type": "stream",
     "text": [
      "413\n"
     ]
    }
   ],
   "source": [
    "print(df.duplicated().sum())\n",
    "df.drop_duplicates(inplace = True)"
   ]
  },
  {
   "cell_type": "markdown",
   "metadata": {},
   "source": [
    "### Вывод\n",
    "\n",
    "* Данные были открыты и изучены. \n",
    "* Названия колонок приведены к единому стилю. \n",
    "* Пропусков в значениях не обнаружено. \n",
    "* Типы данных приведены к корректным\n",
    "* Добавлены дополнительны колонки дл дальнейшего исследования. \n",
    "* Дубликаты в данных удалены."
   ]
  },
  {
   "cell_type": "markdown",
   "metadata": {},
   "source": [
    "<a id=\"pred\"></a>\n",
    "## 2. Исследовательский анализ данных"
   ]
  },
  {
   "cell_type": "markdown",
   "metadata": {},
   "source": [
    "Выясним, Сколько всего событий в логе."
   ]
  },
  {
   "cell_type": "code",
   "execution_count": 7,
   "metadata": {
    "scrolled": false
   },
   "outputs": [
    {
     "name": "stdout",
     "output_type": "stream",
     "text": [
      "['MainScreenAppear' 'PaymentScreenSuccessful' 'CartScreenAppear'\n",
      " 'OffersScreenAppear' 'Tutorial']\n"
     ]
    },
    {
     "data": {
      "text/plain": [
       "243713"
      ]
     },
     "execution_count": 7,
     "metadata": {},
     "output_type": "execute_result"
    }
   ],
   "source": [
    "print(df['event_name'].unique())\n",
    "df['event_name'].count()"
   ]
  },
  {
   "cell_type": "markdown",
   "metadata": {},
   "source": [
    "Всего в логе 243713 события 4х типов."
   ]
  },
  {
   "cell_type": "markdown",
   "metadata": {},
   "source": [
    "Узнаем сколько всего пользователей в логе."
   ]
  },
  {
   "cell_type": "code",
   "execution_count": 8,
   "metadata": {},
   "outputs": [
    {
     "name": "stdout",
     "output_type": "stream",
     "text": [
      "Уникальных пользователей в логе: 7551\n"
     ]
    }
   ],
   "source": [
    "print('Уникальных пользователей в логе:',len(df['user_id'].unique()))"
   ]
  },
  {
   "cell_type": "markdown",
   "metadata": {},
   "source": [
    "Выясним сколько в среднем событий приходится на пользователя."
   ]
  },
  {
   "cell_type": "code",
   "execution_count": 9,
   "metadata": {},
   "outputs": [
    {
     "name": "stdout",
     "output_type": "stream",
     "text": [
      "Среднее количество событий на одного пользователя: 32\n"
     ]
    }
   ],
   "source": [
    "print('Среднее количество событий на одного пользователя:', int(round(df['event_name'].count()/len(df['user_id'].unique()), 0)))\n",
    " "
   ]
  },
  {
   "cell_type": "markdown",
   "metadata": {},
   "source": [
    "Исследуем, данными за какой период мы располагаеем."
   ]
  },
  {
   "cell_type": "code",
   "execution_count": 47,
   "metadata": {},
   "outputs": [
    {
     "name": "stdout",
     "output_type": "stream",
     "text": [
      "Период данных в логе: 14 дней\n"
     ]
    },
    {
     "data": {
      "image/png": "[encoded data removed]",
      "text/plain": [
       "<Figure size 864x360 with 1 Axes>"
      ]
     },
     "metadata": {},
     "output_type": "display_data"
    }
   ],
   "source": [
    "print('Период данных в логе:',len(df['date'].unique()), 'дней')\n",
    "\n",
    "traffic = df.groupby('date').agg({'user_id': 'nunique'}).reset_index()\n",
    "traffic.columns = ['date', 'uniq']\n",
    "# display(traffic)\n",
    "\n",
    "# Построим график по дням\n",
    "bar = sb.barplot(y='uniq', x='date',  data=traffic)\n",
    "sb.set(rc = {'figure.figsize':(12,5)})\n",
    "bar.set(xlabel='Дата', ylabel='Уникальных пользователей, шт.', title='Распределение трафика по периоду лога')\n",
    "plt.xticks(rotation=45)\n",
    "plt.show()"
   ]
  },
  {
   "cell_type": "markdown",
   "metadata": {},
   "source": [
    "Полные данные прослеживаются только за период с 1 по 7 августа включительно. Отбросим периоды, по которым набор данных неполный."
   ]
  },
  {
   "cell_type": "code",
   "execution_count": 11,
   "metadata": {},
   "outputs": [
    {
     "data": {
      "text/html": [
       "<div>\n",
       "<style scoped>\n",
       "    .dataframe tbody tr th:only-of-type {\n",
       "        vertical-align: middle;\n",
       "    }\n",
       "\n",
       "    .dataframe tbody tr th {\n",
       "        vertical-align: top;\n",
       "    }\n",
       "\n",
       "    .dataframe thead th {\n",
       "        text-align: right;\n",
       "    }\n",
       "</style>\n",
       "<table border=\"1\" class=\"dataframe\">\n",
       "  <thead>\n",
       "    <tr style=\"text-align: right;\">\n",
       "      <th></th>\n",
       "      <th>event_name</th>\n",
       "      <th>user_id</th>\n",
       "      <th>event_time</th>\n",
       "      <th>exp_id</th>\n",
       "      <th>date_time</th>\n",
       "      <th>date</th>\n",
       "    </tr>\n",
       "  </thead>\n",
       "  <tbody>\n",
       "    <tr>\n",
       "      <th>0</th>\n",
       "      <td>Tutorial</td>\n",
       "      <td>3737462046622621720</td>\n",
       "      <td>1564618048</td>\n",
       "      <td>246</td>\n",
       "      <td>2019-08-01 00:07:28</td>\n",
       "      <td>2019-08-01</td>\n",
       "    </tr>\n",
       "    <tr>\n",
       "      <th>1</th>\n",
       "      <td>MainScreenAppear</td>\n",
       "      <td>3737462046622621720</td>\n",
       "      <td>1564618080</td>\n",
       "      <td>246</td>\n",
       "      <td>2019-08-01 00:08:00</td>\n",
       "      <td>2019-08-01</td>\n",
       "    </tr>\n",
       "    <tr>\n",
       "      <th>2</th>\n",
       "      <td>MainScreenAppear</td>\n",
       "      <td>3737462046622621720</td>\n",
       "      <td>1564618135</td>\n",
       "      <td>246</td>\n",
       "      <td>2019-08-01 00:08:55</td>\n",
       "      <td>2019-08-01</td>\n",
       "    </tr>\n",
       "    <tr>\n",
       "      <th>3</th>\n",
       "      <td>OffersScreenAppear</td>\n",
       "      <td>3737462046622621720</td>\n",
       "      <td>1564618138</td>\n",
       "      <td>246</td>\n",
       "      <td>2019-08-01 00:08:58</td>\n",
       "      <td>2019-08-01</td>\n",
       "    </tr>\n",
       "    <tr>\n",
       "      <th>4</th>\n",
       "      <td>MainScreenAppear</td>\n",
       "      <td>1433840883824088890</td>\n",
       "      <td>1564618139</td>\n",
       "      <td>247</td>\n",
       "      <td>2019-08-01 00:08:59</td>\n",
       "      <td>2019-08-01</td>\n",
       "    </tr>\n",
       "    <tr>\n",
       "      <th>5</th>\n",
       "      <td>MainScreenAppear</td>\n",
       "      <td>4899590676214355127</td>\n",
       "      <td>1564618215</td>\n",
       "      <td>247</td>\n",
       "      <td>2019-08-01 00:10:15</td>\n",
       "      <td>2019-08-01</td>\n",
       "    </tr>\n",
       "    <tr>\n",
       "      <th>6</th>\n",
       "      <td>OffersScreenAppear</td>\n",
       "      <td>3737462046622621720</td>\n",
       "      <td>1564618226</td>\n",
       "      <td>246</td>\n",
       "      <td>2019-08-01 00:10:26</td>\n",
       "      <td>2019-08-01</td>\n",
       "    </tr>\n",
       "    <tr>\n",
       "      <th>7</th>\n",
       "      <td>MainScreenAppear</td>\n",
       "      <td>3737462046622621720</td>\n",
       "      <td>1564618247</td>\n",
       "      <td>246</td>\n",
       "      <td>2019-08-01 00:10:47</td>\n",
       "      <td>2019-08-01</td>\n",
       "    </tr>\n",
       "    <tr>\n",
       "      <th>8</th>\n",
       "      <td>MainScreenAppear</td>\n",
       "      <td>3737462046622621720</td>\n",
       "      <td>1564618270</td>\n",
       "      <td>246</td>\n",
       "      <td>2019-08-01 00:11:10</td>\n",
       "      <td>2019-08-01</td>\n",
       "    </tr>\n",
       "    <tr>\n",
       "      <th>9</th>\n",
       "      <td>MainScreenAppear</td>\n",
       "      <td>3737462046622621720</td>\n",
       "      <td>1564618280</td>\n",
       "      <td>246</td>\n",
       "      <td>2019-08-01 00:11:20</td>\n",
       "      <td>2019-08-01</td>\n",
       "    </tr>\n",
       "  </tbody>\n",
       "</table>\n",
       "</div>"
      ],
      "text/plain": [
       "           event_name              user_id  event_time  exp_id  \\\n",
       "0            Tutorial  3737462046622621720  1564618048     246   \n",
       "1    MainScreenAppear  3737462046622621720  1564618080     246   \n",
       "2    MainScreenAppear  3737462046622621720  1564618135     246   \n",
       "3  OffersScreenAppear  3737462046622621720  1564618138     246   \n",
       "4    MainScreenAppear  1433840883824088890  1564618139     247   \n",
       "5    MainScreenAppear  4899590676214355127  1564618215     247   \n",
       "6  OffersScreenAppear  3737462046622621720  1564618226     246   \n",
       "7    MainScreenAppear  3737462046622621720  1564618247     246   \n",
       "8    MainScreenAppear  3737462046622621720  1564618270     246   \n",
       "9    MainScreenAppear  3737462046622621720  1564618280     246   \n",
       "\n",
       "            date_time        date  \n",
       "0 2019-08-01 00:07:28  2019-08-01  \n",
       "1 2019-08-01 00:08:00  2019-08-01  \n",
       "2 2019-08-01 00:08:55  2019-08-01  \n",
       "3 2019-08-01 00:08:58  2019-08-01  \n",
       "4 2019-08-01 00:08:59  2019-08-01  \n",
       "5 2019-08-01 00:10:15  2019-08-01  \n",
       "6 2019-08-01 00:10:26  2019-08-01  \n",
       "7 2019-08-01 00:10:47  2019-08-01  \n",
       "8 2019-08-01 00:11:10  2019-08-01  \n",
       "9 2019-08-01 00:11:20  2019-08-01  "
      ]
     },
     "metadata": {},
     "output_type": "display_data"
    },
    {
     "name": "stdout",
     "output_type": "stream",
     "text": [
      "<class 'pandas.core.frame.DataFrame'>\n",
      "RangeIndex: 240887 entries, 0 to 240886\n",
      "Data columns (total 6 columns):\n",
      " #   Column      Non-Null Count   Dtype         \n",
      "---  ------      --------------   -----         \n",
      " 0   event_name  240887 non-null  object        \n",
      " 1   user_id     240887 non-null  int64         \n",
      " 2   event_time  240887 non-null  int64         \n",
      " 3   exp_id      240887 non-null  Int16         \n",
      " 4   date_time   240887 non-null  datetime64[ns]\n",
      " 5   date        240887 non-null  object        \n",
      "dtypes: Int16(1), datetime64[ns](1), int64(2), object(2)\n",
      "memory usage: 9.9+ MB\n"
     ]
    }
   ],
   "source": [
    "df_good = df[df['date'] > '2019-07-31'].reset_index(drop=True)\n",
    "display(df_good.head(10))\n",
    "df_good.info()"
   ]
  },
  {
   "cell_type": "markdown",
   "metadata": {},
   "source": [
    "Посмотрим много ли событий и пользователей мы потеряли, отбросив старые данные."
   ]
  },
  {
   "cell_type": "code",
   "execution_count": 12,
   "metadata": {},
   "outputs": [
    {
     "name": "stdout",
     "output_type": "stream",
     "text": [
      "Осталось уникальных посетителей: 7534\n",
      "Осталось событий: 240887\n",
      "Потеряно пользователей после фильтрации: 0.23%\n",
      "Потеряно событий после фильтрации: 1.16%\n"
     ]
    }
   ],
   "source": [
    "print('Осталось уникальных посетителей:',len(df_good['user_id'].unique()))\n",
    "print('Осталось событий:',df_good['user_id'].count())\n",
    "users_now = 100 - len(df_good['user_id'].unique()) / len(df['user_id'].unique()) * 100\n",
    "events_now = 100 - df_good['user_id'].count() / df['user_id'].count() * 100\n",
    "print('Потеряно пользователей после фильтрации: {}%'.format(round(users_now,2)) )\n",
    "print('Потеряно событий после фильтрации: {}%'.format(round(events_now,2)) )"
   ]
  },
  {
   "cell_type": "markdown",
   "metadata": {},
   "source": [
    "Потери небольшие, фильтрация лога оправдана."
   ]
  },
  {
   "cell_type": "markdown",
   "metadata": {},
   "source": [
    "Проверим, что у нас есть пользователи из всех трёх экспериментальных групп."
   ]
  },
  {
   "cell_type": "code",
   "execution_count": 13,
   "metadata": {},
   "outputs": [
    {
     "data": {
      "text/plain": [
       "3"
      ]
     },
     "execution_count": 13,
     "metadata": {},
     "output_type": "execute_result"
    }
   ],
   "source": [
    "len(df_good['exp_id'].unique())"
   ]
  },
  {
   "cell_type": "markdown",
   "metadata": {},
   "source": [
    "Все три экспериментальные группы остались в отфильтрованном логе."
   ]
  },
  {
   "cell_type": "markdown",
   "metadata": {},
   "source": [
    "### Вывод\n",
    "\n",
    "* Посчитано кол-во событий, пользователей и их отношение в среднем в логе.\n",
    "* Определен период времени в логе, данные отфильтрованы по периоду с полными сведениями\n",
    "* Определены потери от фильтрации, они незначительные, все группы экспериментов сохранены."
   ]
  },
  {
   "cell_type": "markdown",
   "metadata": {},
   "source": [
    "<a id=\"portr\"></a>\n",
    "## 3. Изучение воронки событий"
   ]
  },
  {
   "cell_type": "markdown",
   "metadata": {},
   "source": [
    "Посмотрим, какие события есть в логах, как часто они встречаются. Отсортируем события по частоте."
   ]
  },
  {
   "cell_type": "code",
   "execution_count": 14,
   "metadata": {},
   "outputs": [
    {
     "data": {
      "text/plain": [
       "array(['Tutorial', 'MainScreenAppear', 'OffersScreenAppear',\n",
       "       'CartScreenAppear', 'PaymentScreenSuccessful'], dtype=object)"
      ]
     },
     "execution_count": 14,
     "metadata": {},
     "output_type": "execute_result"
    }
   ],
   "source": [
    "df_good['event_name'].unique()"
   ]
  },
  {
   "cell_type": "markdown",
   "metadata": {},
   "source": [
    "В логе шесть типов событий: \"Обучение\", \"Переход на главный экран\", \"Экран выбора товара\", \"Экран корзины\", \"Экран оплаты\"."
   ]
  },
  {
   "cell_type": "markdown",
   "metadata": {},
   "source": [
    "Посчитаем, сколько пользователей совершали каждое из этих событий. Отсортируем события по числу пользователей. "
   ]
  },
  {
   "cell_type": "code",
   "execution_count": 15,
   "metadata": {},
   "outputs": [
    {
     "data": {
      "text/html": [
       "<div>\n",
       "<style scoped>\n",
       "    .dataframe tbody tr th:only-of-type {\n",
       "        vertical-align: middle;\n",
       "    }\n",
       "\n",
       "    .dataframe tbody tr th {\n",
       "        vertical-align: top;\n",
       "    }\n",
       "\n",
       "    .dataframe thead th {\n",
       "        text-align: right;\n",
       "    }\n",
       "</style>\n",
       "<table border=\"1\" class=\"dataframe\">\n",
       "  <thead>\n",
       "    <tr style=\"text-align: right;\">\n",
       "      <th></th>\n",
       "      <th>event_name</th>\n",
       "      <th>count</th>\n",
       "      <th>nunique</th>\n",
       "    </tr>\n",
       "  </thead>\n",
       "  <tbody>\n",
       "    <tr>\n",
       "      <th>0</th>\n",
       "      <td>MainScreenAppear</td>\n",
       "      <td>117328</td>\n",
       "      <td>7419</td>\n",
       "    </tr>\n",
       "    <tr>\n",
       "      <th>1</th>\n",
       "      <td>OffersScreenAppear</td>\n",
       "      <td>46333</td>\n",
       "      <td>4593</td>\n",
       "    </tr>\n",
       "    <tr>\n",
       "      <th>2</th>\n",
       "      <td>CartScreenAppear</td>\n",
       "      <td>42303</td>\n",
       "      <td>3734</td>\n",
       "    </tr>\n",
       "    <tr>\n",
       "      <th>3</th>\n",
       "      <td>PaymentScreenSuccessful</td>\n",
       "      <td>33918</td>\n",
       "      <td>3539</td>\n",
       "    </tr>\n",
       "    <tr>\n",
       "      <th>4</th>\n",
       "      <td>Tutorial</td>\n",
       "      <td>1005</td>\n",
       "      <td>840</td>\n",
       "    </tr>\n",
       "  </tbody>\n",
       "</table>\n",
       "</div>"
      ],
      "text/plain": [
       "                event_name   count  nunique\n",
       "0         MainScreenAppear  117328     7419\n",
       "1       OffersScreenAppear   46333     4593\n",
       "2         CartScreenAppear   42303     3734\n",
       "3  PaymentScreenSuccessful   33918     3539\n",
       "4                 Tutorial    1005      840"
      ]
     },
     "metadata": {},
     "output_type": "display_data"
    },
    {
     "data": {
      "image/png": "[encoded data removed]",
      "text/plain": [
       "<Figure size 864x360 with 1 Axes>"
      ]
     },
     "metadata": {},
     "output_type": "display_data"
    }
   ],
   "source": [
    "event_users = (df_good\n",
    "               .groupby(['event_name'])['user_id'].agg(['count','nunique'])\n",
    "               .sort_values(by='nunique', ascending=False)\n",
    "               .reset_index()\n",
    "              )\n",
    "event_users.columns = ['event_name', 'count', 'nunique']\n",
    "display(event_users)\n",
    "\n",
    "# Построим график по дням\n",
    "bar = sb.barplot(y='count', x='event_name',  data=event_users)\n",
    "sb.set(rc = {'figure.figsize':(12,5)})\n",
    "bar.set(xlabel='Тип события', ylabel='Посещений, шт.', title='Распределение трафика по типам событий')\n",
    "plt.xticks(rotation=30)\n",
    "plt.show()"
   ]
  },
  {
   "cell_type": "markdown",
   "metadata": {},
   "source": [
    "Главная страница лидирует с большим отрывом. Затем идет экран выбора товаров, далее экран корзины, и наконец, экран успешной оплаты. Почти никто не использует обучение.\n",
    "Посчитаем долю пользователей, которые хоть раз совершали событие."
   ]
  },
  {
   "cell_type": "code",
   "execution_count": 16,
   "metadata": {},
   "outputs": [
    {
     "data": {
      "text/html": [
       "<div>\n",
       "<style scoped>\n",
       "    .dataframe tbody tr th:only-of-type {\n",
       "        vertical-align: middle;\n",
       "    }\n",
       "\n",
       "    .dataframe tbody tr th {\n",
       "        vertical-align: top;\n",
       "    }\n",
       "\n",
       "    .dataframe thead th {\n",
       "        text-align: right;\n",
       "    }\n",
       "</style>\n",
       "<table border=\"1\" class=\"dataframe\">\n",
       "  <thead>\n",
       "    <tr style=\"text-align: right;\">\n",
       "      <th></th>\n",
       "      <th>event_name</th>\n",
       "      <th>count</th>\n",
       "      <th>nunique</th>\n",
       "      <th>rate</th>\n",
       "    </tr>\n",
       "  </thead>\n",
       "  <tbody>\n",
       "    <tr>\n",
       "      <th>0</th>\n",
       "      <td>MainScreenAppear</td>\n",
       "      <td>117328</td>\n",
       "      <td>7419</td>\n",
       "      <td>98.50</td>\n",
       "    </tr>\n",
       "    <tr>\n",
       "      <th>1</th>\n",
       "      <td>OffersScreenAppear</td>\n",
       "      <td>46333</td>\n",
       "      <td>4593</td>\n",
       "      <td>61.00</td>\n",
       "    </tr>\n",
       "    <tr>\n",
       "      <th>2</th>\n",
       "      <td>CartScreenAppear</td>\n",
       "      <td>42303</td>\n",
       "      <td>3734</td>\n",
       "      <td>49.60</td>\n",
       "    </tr>\n",
       "    <tr>\n",
       "      <th>3</th>\n",
       "      <td>PaymentScreenSuccessful</td>\n",
       "      <td>33918</td>\n",
       "      <td>3539</td>\n",
       "      <td>47.00</td>\n",
       "    </tr>\n",
       "    <tr>\n",
       "      <th>4</th>\n",
       "      <td>Tutorial</td>\n",
       "      <td>1005</td>\n",
       "      <td>840</td>\n",
       "      <td>11.10</td>\n",
       "    </tr>\n",
       "  </tbody>\n",
       "</table>\n",
       "</div>"
      ],
      "text/plain": [
       "                event_name   count  nunique  rate\n",
       "0         MainScreenAppear  117328     7419 98.50\n",
       "1       OffersScreenAppear   46333     4593 61.00\n",
       "2         CartScreenAppear   42303     3734 49.60\n",
       "3  PaymentScreenSuccessful   33918     3539 47.00\n",
       "4                 Tutorial    1005      840 11.10"
      ]
     },
     "execution_count": 16,
     "metadata": {},
     "output_type": "execute_result"
    }
   ],
   "source": [
    "event_users['rate'] = (event_users['nunique'] / len(df_good['user_id'].unique()) * 100).round(1)\n",
    "event_users"
   ]
  },
  {
   "cell_type": "markdown",
   "metadata": {},
   "source": [
    "98% посетителей приложения хоть раз его запускали. 61 % пользователей добрался до страницы выбора заказов. До корзины добралось  меньше половины пользователей, 47 % успешно оплатили заказ и 11 % попытались пройти обучение."
   ]
  },
  {
   "cell_type": "markdown",
   "metadata": {},
   "source": [
    "События происходят в следующем порядке:\n",
    "\n",
    "* Переход на главный экран;\n",
    "* Экран выбора товара;\n",
    "* Экран корзины;\n",
    "* Экран успешной оплаты.\n",
    "* Обучение (факультативно);\n",
    "\n",
    "Экран обучения в последовательной логической цепочке лишний, так как его посещение не влияет на переход к другим событиям.\n",
    "Отсеим данное событие из лога."
   ]
  },
  {
   "cell_type": "code",
   "execution_count": 17,
   "metadata": {},
   "outputs": [
    {
     "data": {
      "text/html": [
       "<div>\n",
       "<style scoped>\n",
       "    .dataframe tbody tr th:only-of-type {\n",
       "        vertical-align: middle;\n",
       "    }\n",
       "\n",
       "    .dataframe tbody tr th {\n",
       "        vertical-align: top;\n",
       "    }\n",
       "\n",
       "    .dataframe thead th {\n",
       "        text-align: right;\n",
       "    }\n",
       "</style>\n",
       "<table border=\"1\" class=\"dataframe\">\n",
       "  <thead>\n",
       "    <tr style=\"text-align: right;\">\n",
       "      <th></th>\n",
       "      <th>event_name</th>\n",
       "      <th>count</th>\n",
       "      <th>nunique</th>\n",
       "      <th>rate</th>\n",
       "    </tr>\n",
       "  </thead>\n",
       "  <tbody>\n",
       "    <tr>\n",
       "      <th>0</th>\n",
       "      <td>MainScreenAppear</td>\n",
       "      <td>117328</td>\n",
       "      <td>7419</td>\n",
       "      <td>98.50</td>\n",
       "    </tr>\n",
       "    <tr>\n",
       "      <th>1</th>\n",
       "      <td>OffersScreenAppear</td>\n",
       "      <td>46333</td>\n",
       "      <td>4593</td>\n",
       "      <td>61.00</td>\n",
       "    </tr>\n",
       "    <tr>\n",
       "      <th>2</th>\n",
       "      <td>CartScreenAppear</td>\n",
       "      <td>42303</td>\n",
       "      <td>3734</td>\n",
       "      <td>49.60</td>\n",
       "    </tr>\n",
       "    <tr>\n",
       "      <th>3</th>\n",
       "      <td>PaymentScreenSuccessful</td>\n",
       "      <td>33918</td>\n",
       "      <td>3539</td>\n",
       "      <td>47.00</td>\n",
       "    </tr>\n",
       "  </tbody>\n",
       "</table>\n",
       "</div>"
      ],
      "text/plain": [
       "                event_name   count  nunique  rate\n",
       "0         MainScreenAppear  117328     7419 98.50\n",
       "1       OffersScreenAppear   46333     4593 61.00\n",
       "2         CartScreenAppear   42303     3734 49.60\n",
       "3  PaymentScreenSuccessful   33918     3539 47.00"
      ]
     },
     "metadata": {},
     "output_type": "display_data"
    }
   ],
   "source": [
    "event_users = event_users[event_users['event_name'] != 'Tutorial']\n",
    "display(event_users)"
   ]
  },
  {
   "cell_type": "markdown",
   "metadata": {},
   "source": [
    "Посчитаем какая доля пользователей проходит на следующий шаг воронки (от числа пользователей на предыдущем)."
   ]
  },
  {
   "cell_type": "code",
   "execution_count": 18,
   "metadata": {},
   "outputs": [
    {
     "data": {
      "text/html": [
       "<div>\n",
       "<style scoped>\n",
       "    .dataframe tbody tr th:only-of-type {\n",
       "        vertical-align: middle;\n",
       "    }\n",
       "\n",
       "    .dataframe tbody tr th {\n",
       "        vertical-align: top;\n",
       "    }\n",
       "\n",
       "    .dataframe thead th {\n",
       "        text-align: right;\n",
       "    }\n",
       "</style>\n",
       "<table border=\"1\" class=\"dataframe\">\n",
       "  <thead>\n",
       "    <tr style=\"text-align: right;\">\n",
       "      <th></th>\n",
       "      <th>event_name</th>\n",
       "      <th>count</th>\n",
       "      <th>nunique</th>\n",
       "      <th>rate</th>\n",
       "      <th>ratio</th>\n",
       "    </tr>\n",
       "  </thead>\n",
       "  <tbody>\n",
       "    <tr>\n",
       "      <th>0</th>\n",
       "      <td>MainScreenAppear</td>\n",
       "      <td>117328</td>\n",
       "      <td>7419</td>\n",
       "      <td>98.50</td>\n",
       "      <td>100</td>\n",
       "    </tr>\n",
       "    <tr>\n",
       "      <th>1</th>\n",
       "      <td>OffersScreenAppear</td>\n",
       "      <td>46333</td>\n",
       "      <td>4593</td>\n",
       "      <td>61.00</td>\n",
       "      <td>61.90</td>\n",
       "    </tr>\n",
       "    <tr>\n",
       "      <th>2</th>\n",
       "      <td>CartScreenAppear</td>\n",
       "      <td>42303</td>\n",
       "      <td>3734</td>\n",
       "      <td>49.60</td>\n",
       "      <td>81.30</td>\n",
       "    </tr>\n",
       "    <tr>\n",
       "      <th>3</th>\n",
       "      <td>PaymentScreenSuccessful</td>\n",
       "      <td>33918</td>\n",
       "      <td>3539</td>\n",
       "      <td>47.00</td>\n",
       "      <td>94.80</td>\n",
       "    </tr>\n",
       "  </tbody>\n",
       "</table>\n",
       "</div>"
      ],
      "text/plain": [
       "                event_name   count  nunique  rate ratio\n",
       "0         MainScreenAppear  117328     7419 98.50   100\n",
       "1       OffersScreenAppear   46333     4593 61.00 61.90\n",
       "2         CartScreenAppear   42303     3734 49.60 81.30\n",
       "3  PaymentScreenSuccessful   33918     3539 47.00 94.80"
      ]
     },
     "metadata": {},
     "output_type": "display_data"
    }
   ],
   "source": [
    "event_users['ratio'] = ''\n",
    "\n",
    "def ratio(row):\n",
    "    event_users.loc[0, 'ratio'] = 100\n",
    "    for i in [0, 1, 2]:\n",
    "        ratio = ((event_users.loc[(i+1), 'nunique'] / event_users.loc[i, 'nunique']) * 100).round(1)\n",
    "        event_users.loc[(i+1), 'ratio'] = ratio\n",
    "    return row\n",
    "\n",
    "event_users = event_users.apply(ratio)\n",
    "display(event_users)"
   ]
  },
  {
   "cell_type": "markdown",
   "metadata": {},
   "source": [
    "Больше всего пользователей отсеивается на первом шаге - только 61,9 % пользователей запустивших приложение перешли к заказам. Среди последующих шагов потери замедляются. Почти 95% посетителей набравших корзину оплатили заказ."
   ]
  },
  {
   "cell_type": "markdown",
   "metadata": {},
   "source": [
    "Определим какая доля пользователей доходит от первого события до оплаты, вычислив коэффициент удержания."
   ]
  },
  {
   "cell_type": "code",
   "execution_count": 19,
   "metadata": {},
   "outputs": [
    {
     "data": {
      "text/html": [
       "<div>\n",
       "<style scoped>\n",
       "    .dataframe tbody tr th:only-of-type {\n",
       "        vertical-align: middle;\n",
       "    }\n",
       "\n",
       "    .dataframe tbody tr th {\n",
       "        vertical-align: top;\n",
       "    }\n",
       "\n",
       "    .dataframe thead th {\n",
       "        text-align: right;\n",
       "    }\n",
       "</style>\n",
       "<table border=\"1\" class=\"dataframe\">\n",
       "  <thead>\n",
       "    <tr style=\"text-align: right;\">\n",
       "      <th></th>\n",
       "      <th>event_name</th>\n",
       "      <th>count</th>\n",
       "      <th>nunique</th>\n",
       "      <th>rate</th>\n",
       "      <th>ratio</th>\n",
       "      <th>retention_rate</th>\n",
       "    </tr>\n",
       "  </thead>\n",
       "  <tbody>\n",
       "    <tr>\n",
       "      <th>0</th>\n",
       "      <td>MainScreenAppear</td>\n",
       "      <td>117328</td>\n",
       "      <td>7419</td>\n",
       "      <td>98.50</td>\n",
       "      <td>100</td>\n",
       "      <td>100</td>\n",
       "    </tr>\n",
       "    <tr>\n",
       "      <th>1</th>\n",
       "      <td>OffersScreenAppear</td>\n",
       "      <td>46333</td>\n",
       "      <td>4593</td>\n",
       "      <td>61.00</td>\n",
       "      <td>61.90</td>\n",
       "      <td>61.90</td>\n",
       "    </tr>\n",
       "    <tr>\n",
       "      <th>2</th>\n",
       "      <td>CartScreenAppear</td>\n",
       "      <td>42303</td>\n",
       "      <td>3734</td>\n",
       "      <td>49.60</td>\n",
       "      <td>81.30</td>\n",
       "      <td>50.30</td>\n",
       "    </tr>\n",
       "    <tr>\n",
       "      <th>3</th>\n",
       "      <td>PaymentScreenSuccessful</td>\n",
       "      <td>33918</td>\n",
       "      <td>3539</td>\n",
       "      <td>47.00</td>\n",
       "      <td>94.80</td>\n",
       "      <td>47.70</td>\n",
       "    </tr>\n",
       "  </tbody>\n",
       "</table>\n",
       "</div>"
      ],
      "text/plain": [
       "                event_name   count  nunique  rate ratio retention_rate\n",
       "0         MainScreenAppear  117328     7419 98.50   100            100\n",
       "1       OffersScreenAppear   46333     4593 61.00 61.90          61.90\n",
       "2         CartScreenAppear   42303     3734 49.60 81.30          50.30\n",
       "3  PaymentScreenSuccessful   33918     3539 47.00 94.80          47.70"
      ]
     },
     "metadata": {},
     "output_type": "display_data"
    }
   ],
   "source": [
    "event_users['retention_rate'] = ''\n",
    "\n",
    "def retention_rate(row):\n",
    "    event_users.loc[0, 'retention_rate'] = 100\n",
    "    for i in [0, 1, 2]:\n",
    "        retention_rate = ((event_users.loc[(i+1), 'nunique'] / event_users.loc[0, 'nunique']) * 100).round(1)\n",
    "        event_users.loc[(i+1), 'retention_rate'] = retention_rate\n",
    "    return row\n",
    "\n",
    "event_users = event_users.apply(retention_rate)\n",
    "display(event_users)"
   ]
  },
  {
   "cell_type": "code",
   "execution_count": 20,
   "metadata": {},
   "outputs": [
    {
     "data": {
      "image/png": "[encoded data removed]",
      "text/plain": [
       "<Figure size 864x360 with 1 Axes>"
      ]
     },
     "metadata": {},
     "output_type": "display_data"
    }
   ],
   "source": [
    "bar = sb.barplot(y='retention_rate', x='event_name',  data=event_users)\n",
    "sb.set(rc = {'figure.figsize':(12,5)})\n",
    "bar.set(xlabel='Тип события', ylabel='Удержание, %', title='Удержание пользователей от первого до последнего шага воронки')\n",
    "plt.xticks(rotation=30)\n",
    "plt.show()"
   ]
  },
  {
   "cell_type": "markdown",
   "metadata": {},
   "source": [
    "До оплаты заказа добирается около 48% посетителей. По графику видно, что удержание на втором шаге самое незначительное. "
   ]
  },
  {
   "cell_type": "markdown",
   "metadata": {},
   "source": [
    "### Вывод\n",
    "\n",
    "* Исследованы разные типы событий в логах по общим и уникальным посетителям\n",
    "* Выявлена закономерность и лишнее звено в последовательности событий лога\n",
    "* Исследовано поведение пользователей от первого до последнего шага воронки"
   ]
  },
  {
   "cell_type": "markdown",
   "metadata": {},
   "source": [
    "<a id=\"exp\"></a>\n",
    "## 4. Изучение результатов эксперимента"
   ]
  },
  {
   "cell_type": "markdown",
   "metadata": {},
   "source": [
    "Посмотрим сколько пользователей в каждой экспериментальной группе"
   ]
  },
  {
   "cell_type": "code",
   "execution_count": 21,
   "metadata": {},
   "outputs": [
    {
     "data": {
      "text/html": [
       "<div>\n",
       "<style scoped>\n",
       "    .dataframe tbody tr th:only-of-type {\n",
       "        vertical-align: middle;\n",
       "    }\n",
       "\n",
       "    .dataframe tbody tr th {\n",
       "        vertical-align: top;\n",
       "    }\n",
       "\n",
       "    .dataframe thead th {\n",
       "        text-align: right;\n",
       "    }\n",
       "</style>\n",
       "<table border=\"1\" class=\"dataframe\">\n",
       "  <thead>\n",
       "    <tr style=\"text-align: right;\">\n",
       "      <th></th>\n",
       "      <th>exp_id</th>\n",
       "      <th>user_id</th>\n",
       "    </tr>\n",
       "  </thead>\n",
       "  <tbody>\n",
       "    <tr>\n",
       "      <th>0</th>\n",
       "      <td>246</td>\n",
       "      <td>2484</td>\n",
       "    </tr>\n",
       "    <tr>\n",
       "      <th>1</th>\n",
       "      <td>247</td>\n",
       "      <td>2513</td>\n",
       "    </tr>\n",
       "    <tr>\n",
       "      <th>2</th>\n",
       "      <td>248</td>\n",
       "      <td>2537</td>\n",
       "    </tr>\n",
       "  </tbody>\n",
       "</table>\n",
       "</div>"
      ],
      "text/plain": [
       "   exp_id  user_id\n",
       "0     246     2484\n",
       "1     247     2513\n",
       "2     248     2537"
      ]
     },
     "metadata": {},
     "output_type": "display_data"
    }
   ],
   "source": [
    "users_group = df_good.groupby(['exp_id'])['user_id'].agg('nunique').reset_index()\n",
    "display(users_group)"
   ]
  },
  {
   "cell_type": "markdown",
   "metadata": {},
   "source": [
    "Во всех группах эксперимента сопоставимое количество уникальных пользователей. Разница составляет не более 1%.\n",
    "\n",
    "Проверим пользователей на пересечения в группах"
   ]
  },
  {
   "cell_type": "code",
   "execution_count": 22,
   "metadata": {},
   "outputs": [],
   "source": [
    "# Выделим группы в переменные\n",
    "group_a = df_good[df_good['exp_id'] == 246]['user_id'].unique()\n",
    "group_b = df_good[df_good['exp_id'] == 247]['user_id'].unique()\n",
    "group_c = df_good[df_good['exp_id'] == 248]['user_id'].unique()"
   ]
  },
  {
   "cell_type": "code",
   "execution_count": 23,
   "metadata": {},
   "outputs": [
    {
     "name": "stdout",
     "output_type": "stream",
     "text": [
      "[]\n",
      "[]\n",
      "[]\n"
     ]
    }
   ],
   "source": [
    "# Найдем пересечения\n",
    "a_b = []\n",
    "a_c = []\n",
    "b_c = []\n",
    "for item in group_a:\n",
    "    if item in group_b:\n",
    "        a_b.append(item)\n",
    "    if item in group_c:\n",
    "        a_c.append(item)\n",
    "for item in group_b:\n",
    "    if item in group_c:\n",
    "        b_c.append(item)\n",
    "        \n",
    "print(a_b)\n",
    "print(a_c)\n",
    "print(b_c)"
   ]
  },
  {
   "cell_type": "markdown",
   "metadata": {},
   "source": [
    "Пересечений не обнаружено, можно продолжать исследование. Соберем датафрэймы по разным группам."
   ]
  },
  {
   "cell_type": "code",
   "execution_count": 24,
   "metadata": {},
   "outputs": [
    {
     "data": {
      "text/html": [
       "<div>\n",
       "<style scoped>\n",
       "    .dataframe tbody tr th:only-of-type {\n",
       "        vertical-align: middle;\n",
       "    }\n",
       "\n",
       "    .dataframe tbody tr th {\n",
       "        vertical-align: top;\n",
       "    }\n",
       "\n",
       "    .dataframe thead th {\n",
       "        text-align: right;\n",
       "    }\n",
       "</style>\n",
       "<table border=\"1\" class=\"dataframe\">\n",
       "  <thead>\n",
       "    <tr style=\"text-align: right;\">\n",
       "      <th></th>\n",
       "      <th>event_name</th>\n",
       "      <th>count</th>\n",
       "      <th>nunique</th>\n",
       "      <th>retention_rate</th>\n",
       "      <th>total</th>\n",
       "    </tr>\n",
       "  </thead>\n",
       "  <tbody>\n",
       "    <tr>\n",
       "      <th>0</th>\n",
       "      <td>MainScreenAppear</td>\n",
       "      <td>37676</td>\n",
       "      <td>2450</td>\n",
       "      <td>100</td>\n",
       "      <td>2484</td>\n",
       "    </tr>\n",
       "    <tr>\n",
       "      <th>1</th>\n",
       "      <td>OffersScreenAppear</td>\n",
       "      <td>14767</td>\n",
       "      <td>1542</td>\n",
       "      <td>62.90</td>\n",
       "      <td>2484</td>\n",
       "    </tr>\n",
       "    <tr>\n",
       "      <th>2</th>\n",
       "      <td>CartScreenAppear</td>\n",
       "      <td>14690</td>\n",
       "      <td>1266</td>\n",
       "      <td>51.70</td>\n",
       "      <td>2484</td>\n",
       "    </tr>\n",
       "    <tr>\n",
       "      <th>3</th>\n",
       "      <td>PaymentScreenSuccessful</td>\n",
       "      <td>11852</td>\n",
       "      <td>1200</td>\n",
       "      <td>49.00</td>\n",
       "      <td>2484</td>\n",
       "    </tr>\n",
       "  </tbody>\n",
       "</table>\n",
       "</div>"
      ],
      "text/plain": [
       "                event_name  count  nunique retention_rate  total\n",
       "0         MainScreenAppear  37676     2450            100   2484\n",
       "1       OffersScreenAppear  14767     1542          62.90   2484\n",
       "2         CartScreenAppear  14690     1266          51.70   2484\n",
       "3  PaymentScreenSuccessful  11852     1200          49.00   2484"
      ]
     },
     "metadata": {},
     "output_type": "display_data"
    }
   ],
   "source": [
    "# Соберем датафрэйм по группе 246\n",
    "event_users_a = (df_good.query('exp_id == 246 and event_name != \"Tutorial\"')\n",
    "               .groupby(['event_name'])['user_id'].agg(['count','nunique'])\n",
    "               .sort_values(by='nunique', ascending=False)\n",
    "               .reset_index()\n",
    "              )\n",
    "event_users_a.columns = ['event_name', 'count', 'nunique']\n",
    "\n",
    "# Добавим коэфициент удержания\n",
    "event_users_a['retention_rate'] = ''\n",
    "event_users_a.loc[0, 'retention_rate'] = 100\n",
    "for i in [0, 1, 2]:\n",
    "    retention_rate = ((event_users_a.loc[(i+1), 'nunique'] / event_users_a.loc[0, 'nunique']) * 100).round(1)   \n",
    "    event_users_a.loc[(i+1), 'retention_rate'] = retention_rate\n",
    "\n",
    "# Добавим поле с общим кол-вом пользователейв группе\n",
    "event_users_a['total'] = users_group['user_id'][0]\n",
    "\n",
    "display(event_users_a)"
   ]
  },
  {
   "cell_type": "code",
   "execution_count": 25,
   "metadata": {},
   "outputs": [
    {
     "data": {
      "text/html": [
       "<div>\n",
       "<style scoped>\n",
       "    .dataframe tbody tr th:only-of-type {\n",
       "        vertical-align: middle;\n",
       "    }\n",
       "\n",
       "    .dataframe tbody tr th {\n",
       "        vertical-align: top;\n",
       "    }\n",
       "\n",
       "    .dataframe thead th {\n",
       "        text-align: right;\n",
       "    }\n",
       "</style>\n",
       "<table border=\"1\" class=\"dataframe\">\n",
       "  <thead>\n",
       "    <tr style=\"text-align: right;\">\n",
       "      <th></th>\n",
       "      <th>event_name</th>\n",
       "      <th>count</th>\n",
       "      <th>nunique</th>\n",
       "      <th>retention_rate</th>\n",
       "      <th>total</th>\n",
       "    </tr>\n",
       "  </thead>\n",
       "  <tbody>\n",
       "    <tr>\n",
       "      <th>0</th>\n",
       "      <td>MainScreenAppear</td>\n",
       "      <td>39090</td>\n",
       "      <td>2476</td>\n",
       "      <td>100</td>\n",
       "      <td>2513</td>\n",
       "    </tr>\n",
       "    <tr>\n",
       "      <th>1</th>\n",
       "      <td>OffersScreenAppear</td>\n",
       "      <td>15179</td>\n",
       "      <td>1520</td>\n",
       "      <td>61.40</td>\n",
       "      <td>2513</td>\n",
       "    </tr>\n",
       "    <tr>\n",
       "      <th>2</th>\n",
       "      <td>CartScreenAppear</td>\n",
       "      <td>12434</td>\n",
       "      <td>1238</td>\n",
       "      <td>50.00</td>\n",
       "      <td>2513</td>\n",
       "    </tr>\n",
       "    <tr>\n",
       "      <th>3</th>\n",
       "      <td>PaymentScreenSuccessful</td>\n",
       "      <td>9981</td>\n",
       "      <td>1158</td>\n",
       "      <td>46.80</td>\n",
       "      <td>2513</td>\n",
       "    </tr>\n",
       "  </tbody>\n",
       "</table>\n",
       "</div>"
      ],
      "text/plain": [
       "                event_name  count  nunique retention_rate  total\n",
       "0         MainScreenAppear  39090     2476            100   2513\n",
       "1       OffersScreenAppear  15179     1520          61.40   2513\n",
       "2         CartScreenAppear  12434     1238          50.00   2513\n",
       "3  PaymentScreenSuccessful   9981     1158          46.80   2513"
      ]
     },
     "metadata": {},
     "output_type": "display_data"
    }
   ],
   "source": [
    "# Аналогично по группе 247\n",
    "event_users_b = (df_good.query('exp_id == 247 and event_name != \"Tutorial\"')\n",
    "               .groupby(['event_name'])['user_id'].agg(['count','nunique'])\n",
    "               .sort_values(by='nunique', ascending=False)\n",
    "               .reset_index()\n",
    "              )\n",
    "event_users_b.columns = ['event_name', 'count', 'nunique']\n",
    "\n",
    "# Добавим коэфициент удержания\n",
    "event_users_b['retention_rate'] = ''\n",
    "event_users_b.loc[0, 'retention_rate'] = 100\n",
    "for i in [0, 1, 2]:\n",
    "    retention_rate = ((event_users_b.loc[(i+1), 'nunique'] / event_users_b.loc[0, 'nunique']) * 100).round(1)\n",
    "    event_users_b.loc[(i+1), 'retention_rate'] = retention_rate\n",
    "\n",
    "# Добавим поле с общим кол-вом пользователейв группе\n",
    "event_users_b['total'] = users_group['user_id'][1]\n",
    "\n",
    "display(event_users_b)"
   ]
  },
  {
   "cell_type": "code",
   "execution_count": 26,
   "metadata": {},
   "outputs": [
    {
     "data": {
      "text/html": [
       "<div>\n",
       "<style scoped>\n",
       "    .dataframe tbody tr th:only-of-type {\n",
       "        vertical-align: middle;\n",
       "    }\n",
       "\n",
       "    .dataframe tbody tr th {\n",
       "        vertical-align: top;\n",
       "    }\n",
       "\n",
       "    .dataframe thead th {\n",
       "        text-align: right;\n",
       "    }\n",
       "</style>\n",
       "<table border=\"1\" class=\"dataframe\">\n",
       "  <thead>\n",
       "    <tr style=\"text-align: right;\">\n",
       "      <th></th>\n",
       "      <th>event_name</th>\n",
       "      <th>count</th>\n",
       "      <th>nunique</th>\n",
       "      <th>retention_rate</th>\n",
       "      <th>total</th>\n",
       "    </tr>\n",
       "  </thead>\n",
       "  <tbody>\n",
       "    <tr>\n",
       "      <th>0</th>\n",
       "      <td>MainScreenAppear</td>\n",
       "      <td>40562</td>\n",
       "      <td>2493</td>\n",
       "      <td>100</td>\n",
       "      <td>2537</td>\n",
       "    </tr>\n",
       "    <tr>\n",
       "      <th>1</th>\n",
       "      <td>OffersScreenAppear</td>\n",
       "      <td>16387</td>\n",
       "      <td>1531</td>\n",
       "      <td>61.40</td>\n",
       "      <td>2537</td>\n",
       "    </tr>\n",
       "    <tr>\n",
       "      <th>2</th>\n",
       "      <td>CartScreenAppear</td>\n",
       "      <td>15179</td>\n",
       "      <td>1230</td>\n",
       "      <td>49.30</td>\n",
       "      <td>2537</td>\n",
       "    </tr>\n",
       "    <tr>\n",
       "      <th>3</th>\n",
       "      <td>PaymentScreenSuccessful</td>\n",
       "      <td>12085</td>\n",
       "      <td>1181</td>\n",
       "      <td>47.40</td>\n",
       "      <td>2537</td>\n",
       "    </tr>\n",
       "  </tbody>\n",
       "</table>\n",
       "</div>"
      ],
      "text/plain": [
       "                event_name  count  nunique retention_rate  total\n",
       "0         MainScreenAppear  40562     2493            100   2537\n",
       "1       OffersScreenAppear  16387     1531          61.40   2537\n",
       "2         CartScreenAppear  15179     1230          49.30   2537\n",
       "3  PaymentScreenSuccessful  12085     1181          47.40   2537"
      ]
     },
     "metadata": {},
     "output_type": "display_data"
    }
   ],
   "source": [
    "# И по группе 248\n",
    "event_users_c = (df_good.query('exp_id == 248 and event_name != \"Tutorial\"')\n",
    "               .groupby(['event_name'])['user_id'].agg(['count','nunique'])\n",
    "               .sort_values(by='nunique', ascending=False)\n",
    "               .reset_index()\n",
    "              )\n",
    "event_users_c.columns = ['event_name', 'count', 'nunique']\n",
    "\n",
    "# Добавим коэфициент удержания\n",
    "event_users_c['retention_rate'] = ''\n",
    "event_users_c.loc[0, 'retention_rate'] = 100\n",
    "for i in [0, 1, 2]:\n",
    "    retention_rate = ((event_users_c.loc[(i+1), 'nunique'] / event_users_c.loc[0, 'nunique']) * 100).round(1)\n",
    "    event_users_c.loc[(i+1), 'retention_rate'] = retention_rate\n",
    "\n",
    "# Добавим поле с общим кол-вом пользователейв группе\n",
    "event_users_c['total'] = users_group['user_id'][2]\n",
    "\n",
    "display(event_users_c)"
   ]
  },
  {
   "cell_type": "markdown",
   "metadata": {},
   "source": [
    "Нам необходимо проверить гипотезы о статистической разнице долей в самом популярном и в остальных событиях между выборками 246 и 247 (группы a и b) по результатам A/A теста.\n",
    "\n",
    "Затем необходимо проверить гипотезы о статистической разнице долей в самом популярном и в остальных событиях между выборками 246 и 248 (группы a и c), а также между выборками 247 и 248 (группы b и c) по результатам A/B теста.\n",
    "\n",
    "Затем необходимо проверить гипотезы о статистической разнице долей в самом популярном и в остальных событиях между объединенной выборкой 246+247 и 248 (группы a+b и c) по результатам A/B теста."
   ]
  },
  {
   "cell_type": "code",
   "execution_count": 27,
   "metadata": {},
   "outputs": [],
   "source": [
    "# Определим функцию для z-теста проверки стат разницы между группами по событиям\n",
    "def z_test(event_number, table1, table2):\n",
    "    successes = np.array([table1.loc[event_number, 'nunique'], table2.loc[event_number, 'nunique']])\n",
    "    trials = np.array([table1.loc[0, 'total'], table2.loc[0, 'total']])\n",
    "    p1 = successes[0]/trials[0]\n",
    "    p2 = successes[1]/trials[1]\n",
    "    p_combined = (successes[0] + successes[1]) / (trials[0] + trials[1])\n",
    "    difference = p1 - p2\n",
    "    \n",
    "    z_value = difference / math.sqrt(p_combined * (1 - p_combined) * (1/trials[0] + 1/trials[1]))\n",
    "    p_value = (1 - distr.cdf(abs(z_value))) * 2\n",
    "    print('p-значение: ', p_value)\n",
    "    if (p_value < alpha):\n",
    "        print(\"Отвергаем нулевую гипотезу: между долями есть значимая разница\")\n",
    "    else:\n",
    "        print(\"Не получилось отвергнуть нулевую гипотезу, нет оснований считать доли разными\")"
   ]
  },
  {
   "cell_type": "code",
   "execution_count": 28,
   "metadata": {},
   "outputs": [],
   "source": [
    "# Зададим уровень значимости и распределение\n",
    "distr = st.norm(0, 1)\n",
    "\n",
    "alpha = 0.05\n",
    "# СКОРРЕКТИРОВАННЫЙ УРОВЕНЬ ЗНАЧИМОСТИ\n",
    "# alpha = 0.003\n"
   ]
  },
  {
   "cell_type": "markdown",
   "metadata": {},
   "source": [
    "Проверим, есть ли статистически значимая разница между выборками 246 и 247 (контрольные группы для А/А-эксперимента), с помощью z-теста.\n",
    "\n",
    "Нулевая гипотеза: доли пользователей, добравшихся до успешной оплаты в группах А\\А теста одинаковы.\n",
    "\n",
    "Гипотеза Н1: между долями пользователей, добравшихся до успешной оплаты из групп А\\А теста есть статистически значимая разница."
   ]
  },
  {
   "cell_type": "code",
   "execution_count": 29,
   "metadata": {},
   "outputs": [
    {
     "name": "stdout",
     "output_type": "stream",
     "text": [
      "p-значение:  0.11456679313141849\n",
      "Не получилось отвергнуть нулевую гипотезу, нет оснований считать доли разными\n"
     ]
    }
   ],
   "source": [
    "z_test (3, event_users_a, event_users_b)"
   ]
  },
  {
   "cell_type": "markdown",
   "metadata": {},
   "source": [
    "Самым популярным событием является открытие главной страницы. Проверим, будет ли отличие между группами статистически достоверным. \n",
    "\n",
    "Нулевая гипотеза: доли пользователей, добравшихся до главной страницы в группах А\\А теста одинаковы.\n",
    "\n",
    "Гипотеза Н1: между долями пользователей, добравшихся до главной страницы из групп А\\А теста есть статистически значимая разница."
   ]
  },
  {
   "cell_type": "code",
   "execution_count": 30,
   "metadata": {},
   "outputs": [
    {
     "name": "stdout",
     "output_type": "stream",
     "text": [
      "p-значение:  0.7570597232046099\n",
      "Не получилось отвергнуть нулевую гипотезу, нет оснований считать доли разными\n"
     ]
    }
   ],
   "source": [
    "z_test (0, event_users_a, event_users_b)"
   ]
  },
  {
   "cell_type": "markdown",
   "metadata": {},
   "source": [
    "Проделаем то же самое для всех других событий."
   ]
  },
  {
   "cell_type": "markdown",
   "metadata": {},
   "source": [
    "Тест по событию перехода на страницу выбора товаров для групп A\\A теста\n",
    "\n",
    "Нулевая гипотеза: доли пользователей, добравшихся до страницы выбора товаров в группах А\\А теста одинаковы. \n",
    "\n",
    "Гипотеза Н1: между долями \n",
    "пользователей, добравшихся до страницы выбора товаров в группах А\\А теста есть статистически значимая разница."
   ]
  },
  {
   "cell_type": "code",
   "execution_count": 31,
   "metadata": {},
   "outputs": [
    {
     "name": "stdout",
     "output_type": "stream",
     "text": [
      "p-значение:  0.2480954578522181\n",
      "Не получилось отвергнуть нулевую гипотезу, нет оснований считать доли разными\n"
     ]
    }
   ],
   "source": [
    "z_test(1, event_users_a, event_users_b)"
   ]
  },
  {
   "cell_type": "markdown",
   "metadata": {},
   "source": [
    "Тест по событию перехода на страницу корзины для групп A\\A теста\n",
    "\n",
    "Нулевая гипотеза: доли пользователей, добравшихся до страницы корзины в группах А\\А теста одинаковы.\n",
    "\n",
    "Гипотеза Н1: между долями пользователей, добравшихся до страницы корзины в группах А\\А теста есть статистически значимая разница."
   ]
  },
  {
   "cell_type": "code",
   "execution_count": 32,
   "metadata": {},
   "outputs": [
    {
     "name": "stdout",
     "output_type": "stream",
     "text": [
      "p-значение:  0.22883372237997213\n",
      "Не получилось отвергнуть нулевую гипотезу, нет оснований считать доли разными\n"
     ]
    }
   ],
   "source": [
    "z_test(2, event_users_a, event_users_b)"
   ]
  },
  {
   "cell_type": "markdown",
   "metadata": {},
   "source": [
    "Вывод: настройку теста для всех событий можно считать корректной: разбиение на группы работает должным образом, статистической разницы между группами A/A теста нет ни по одному из событий."
   ]
  },
  {
   "cell_type": "markdown",
   "metadata": {},
   "source": [
    "Аналогично поступим с группой с изменённым шрифтом. Сравним результаты с каждой из контрольных групп в отдельности по каждому событию. "
   ]
  },
  {
   "cell_type": "markdown",
   "metadata": {},
   "source": [
    "Событие перехода на главную страницу для групп А и С\n",
    "\n",
    "Нулевая гипотеза: доли пользователей, добравшихся до главной страницы в группах А\\B теста одинаковы.\n",
    "\n",
    "Гипотеза Н1: между долями пользователей, добравшихся до главной страницы в группах А\\B теста есть статистически значимая разница."
   ]
  },
  {
   "cell_type": "code",
   "execution_count": 33,
   "metadata": {},
   "outputs": [
    {
     "name": "stdout",
     "output_type": "stream",
     "text": [
      "p-значение:  0.2949721933554552\n",
      "Не получилось отвергнуть нулевую гипотезу, нет оснований считать доли разными\n"
     ]
    }
   ],
   "source": [
    "z_test(0, event_users_a, event_users_c)"
   ]
  },
  {
   "cell_type": "code",
   "execution_count": 34,
   "metadata": {
    "scrolled": true
   },
   "outputs": [
    {
     "name": "stdout",
     "output_type": "stream",
     "text": [
      "p-значение:  0.4587053616621515\n",
      "Не получилось отвергнуть нулевую гипотезу, нет оснований считать доли разными\n"
     ]
    }
   ],
   "source": [
    "z_test(0, event_users_b, event_users_c)"
   ]
  },
  {
   "cell_type": "markdown",
   "metadata": {},
   "source": [
    "Событие перехода на страницу выбора товаров для групп А\\B теста\n",
    "\n",
    "Нулевая гипотеза: доли пользователей, добравшихся до страницы выбора товаров в группах А\\B теста одинаковы.\n",
    "\n",
    "Гипотеза Н1: между долями пользователей, добравшихся до страницы выбора товаров в группах А\\B теста есть статистически значимая разница."
   ]
  },
  {
   "cell_type": "code",
   "execution_count": 35,
   "metadata": {},
   "outputs": [
    {
     "name": "stdout",
     "output_type": "stream",
     "text": [
      "p-значение:  0.20836205402738917\n",
      "Не получилось отвергнуть нулевую гипотезу, нет оснований считать доли разными\n"
     ]
    }
   ],
   "source": [
    "z_test(1, event_users_a, event_users_c)"
   ]
  },
  {
   "cell_type": "code",
   "execution_count": 36,
   "metadata": {
    "scrolled": true
   },
   "outputs": [
    {
     "name": "stdout",
     "output_type": "stream",
     "text": [
      "p-значение:  0.9197817830592261\n",
      "Не получилось отвергнуть нулевую гипотезу, нет оснований считать доли разными\n"
     ]
    }
   ],
   "source": [
    "z_test(1, event_users_b, event_users_c)"
   ]
  },
  {
   "cell_type": "markdown",
   "metadata": {},
   "source": [
    "Событие перехода на страницу корзины для групп А\\B теста\n",
    "\n",
    "Нулевая гипотеза: доли пользователей, добравшихся до страницы корзины в группах А\\B теста одинаковы.\n",
    "\n",
    "Гипотеза Н1: между долями пользователей, добравшихся до страницы корзины в группах А\\B теста есть статистически значимая разница."
   ]
  },
  {
   "cell_type": "code",
   "execution_count": 37,
   "metadata": {},
   "outputs": [
    {
     "name": "stdout",
     "output_type": "stream",
     "text": [
      "p-значение:  0.07842923237520116\n",
      "Не получилось отвергнуть нулевую гипотезу, нет оснований считать доли разными\n"
     ]
    }
   ],
   "source": [
    "z_test(2, event_users_a, event_users_c)"
   ]
  },
  {
   "cell_type": "code",
   "execution_count": 38,
   "metadata": {
    "scrolled": true
   },
   "outputs": [
    {
     "name": "stdout",
     "output_type": "stream",
     "text": [
      "p-значение:  0.5786197879539783\n",
      "Не получилось отвергнуть нулевую гипотезу, нет оснований считать доли разными\n"
     ]
    }
   ],
   "source": [
    "z_test(2, event_users_b, event_users_c)"
   ]
  },
  {
   "cell_type": "markdown",
   "metadata": {},
   "source": [
    "Событие перехода на страницу успешной оплаты для групп А\\B теста\n",
    "\n",
    "Нулевая гипотеза: доли пользователей, добравшихся до страницы успешной оплаты в группах А\\B теста одинаковы.\n",
    "\n",
    "Гипотеза Н1: между долями пользователей, добравшихся до страницы успешной оплаты в группах А\\B теста есть статистически значимая разница."
   ]
  },
  {
   "cell_type": "code",
   "execution_count": 39,
   "metadata": {},
   "outputs": [
    {
     "name": "stdout",
     "output_type": "stream",
     "text": [
      "p-значение:  0.2122553275697796\n",
      "Не получилось отвергнуть нулевую гипотезу, нет оснований считать доли разными\n"
     ]
    }
   ],
   "source": [
    "z_test(3, event_users_a, event_users_c)"
   ]
  },
  {
   "cell_type": "code",
   "execution_count": 40,
   "metadata": {
    "scrolled": true
   },
   "outputs": [
    {
     "name": "stdout",
     "output_type": "stream",
     "text": [
      "p-значение:  0.7373415053803964\n",
      "Не получилось отвергнуть нулевую гипотезу, нет оснований считать доли разными\n"
     ]
    }
   ],
   "source": [
    "z_test(3, event_users_b, event_users_c)"
   ]
  },
  {
   "cell_type": "markdown",
   "metadata": {},
   "source": [
    "Судя по всему, новый шрифт никак не повлиял на поведение пользователей. Сравним результаты с объединённой контрольной группой."
   ]
  },
  {
   "cell_type": "code",
   "execution_count": 41,
   "metadata": {},
   "outputs": [
    {
     "data": {
      "text/html": [
       "<div>\n",
       "<style scoped>\n",
       "    .dataframe tbody tr th:only-of-type {\n",
       "        vertical-align: middle;\n",
       "    }\n",
       "\n",
       "    .dataframe tbody tr th {\n",
       "        vertical-align: top;\n",
       "    }\n",
       "\n",
       "    .dataframe thead th {\n",
       "        text-align: right;\n",
       "    }\n",
       "</style>\n",
       "<table border=\"1\" class=\"dataframe\">\n",
       "  <thead>\n",
       "    <tr style=\"text-align: right;\">\n",
       "      <th></th>\n",
       "      <th>event_name</th>\n",
       "      <th>count</th>\n",
       "      <th>nunique</th>\n",
       "      <th>retention_rate</th>\n",
       "      <th>total</th>\n",
       "    </tr>\n",
       "  </thead>\n",
       "  <tbody>\n",
       "    <tr>\n",
       "      <th>0</th>\n",
       "      <td>MainScreenAppear</td>\n",
       "      <td>76766</td>\n",
       "      <td>4926</td>\n",
       "      <td>100</td>\n",
       "      <td>5050</td>\n",
       "    </tr>\n",
       "    <tr>\n",
       "      <th>1</th>\n",
       "      <td>OffersScreenAppear</td>\n",
       "      <td>29946</td>\n",
       "      <td>3062</td>\n",
       "      <td>62.20</td>\n",
       "      <td>5050</td>\n",
       "    </tr>\n",
       "    <tr>\n",
       "      <th>2</th>\n",
       "      <td>CartScreenAppear</td>\n",
       "      <td>27124</td>\n",
       "      <td>2504</td>\n",
       "      <td>50.80</td>\n",
       "      <td>5050</td>\n",
       "    </tr>\n",
       "    <tr>\n",
       "      <th>3</th>\n",
       "      <td>PaymentScreenSuccessful</td>\n",
       "      <td>21833</td>\n",
       "      <td>2358</td>\n",
       "      <td>47.90</td>\n",
       "      <td>5050</td>\n",
       "    </tr>\n",
       "  </tbody>\n",
       "</table>\n",
       "</div>"
      ],
      "text/plain": [
       "                event_name  count  nunique retention_rate  total\n",
       "0         MainScreenAppear  76766     4926            100   5050\n",
       "1       OffersScreenAppear  29946     3062          62.20   5050\n",
       "2         CartScreenAppear  27124     2504          50.80   5050\n",
       "3  PaymentScreenSuccessful  21833     2358          47.90   5050"
      ]
     },
     "metadata": {},
     "output_type": "display_data"
    }
   ],
   "source": [
    "# Соберем датафрэйм по объединенной группе\n",
    "event_users_ab = (df_good.query('exp_id != 248 and event_name != \"Tutorial\"')\n",
    "               .groupby(['event_name'])['user_id'].agg(['count','nunique'])\n",
    "               .sort_values(by='nunique', ascending=False)\n",
    "               .reset_index()\n",
    "              )\n",
    "event_users_ab.columns = ['event_name', 'count', 'nunique']\n",
    "\n",
    "# Добавим коэфициент удержания\n",
    "event_users_ab['retention_rate'] = ''\n",
    "event_users_ab.loc[0, 'retention_rate'] = 100\n",
    "for i in [0, 1, 2]:\n",
    "    retention_rate = ((event_users_ab.loc[(i+1), 'nunique'] / event_users_ab.loc[0, 'nunique']) * 100).round(1)\n",
    "    event_users_ab.loc[(i+1), 'retention_rate'] = retention_rate\n",
    "\n",
    "# Добавим поле с общим кол-вом пользователей в группе\n",
    "event_users_ab['total'] = users_group['user_id'][1] + users_group['user_id'][2]\n",
    "\n",
    "display(event_users_ab)"
   ]
  },
  {
   "cell_type": "markdown",
   "metadata": {},
   "source": [
    "Событие перехода на главную страницу для групп АB и С\n",
    "\n",
    "Нулевая гипотеза: доли пользователей, добравшихся до главной страницы в группах АB и С одинаковы.\n",
    "\n",
    "Гипотеза Н1: между долями пользователей, добравшихся до главной страницы в группах АB и С теста есть статистически значимая разница."
   ]
  },
  {
   "cell_type": "code",
   "execution_count": 42,
   "metadata": {},
   "outputs": [
    {
     "name": "stdout",
     "output_type": "stream",
     "text": [
      "p-значение:  0.044030037938398214\n",
      "Отвергаем нулевую гипотезу: между долями есть значимая разница\n"
     ]
    }
   ],
   "source": [
    "z_test(0, event_users_ab, event_users_c)"
   ]
  },
  {
   "cell_type": "markdown",
   "metadata": {},
   "source": [
    "При сравнении с объединенной контрольной группой статистическая разница есть в событии главной страницы."
   ]
  },
  {
   "cell_type": "markdown",
   "metadata": {},
   "source": [
    "Событие перехода на главную страницу выбора товаров для групп АB и С\n",
    "\n",
    "Нулевая гипотеза: доли пользователей, добравшихся до страницы выбора товаров в группах АB и С одинаковы.\n",
    "\n",
    "Гипотеза Н1: между долями пользователей, добравшихся до страницы выбора товаров в группах АB и С теста есть статистически значимая разница."
   ]
  },
  {
   "cell_type": "code",
   "execution_count": 43,
   "metadata": {},
   "outputs": [
    {
     "name": "stdout",
     "output_type": "stream",
     "text": [
      "p-значение:  0.8094585855008445\n",
      "Не получилось отвергнуть нулевую гипотезу, нет оснований считать доли разными\n"
     ]
    }
   ],
   "source": [
    "z_test(1, event_users_ab, event_users_c)"
   ]
  },
  {
   "cell_type": "markdown",
   "metadata": {},
   "source": [
    "Событие перехода на страницу корзины для групп АB и С\n",
    "\n",
    "Нулевая гипотеза: доли пользователей, добравшихся на страницу корзины в группах АB и С теста одинаковы.\n",
    "\n",
    "Гипотеза Н1: между долями пользователей, добравшихся на страницу корзины в группах АB и С теста есть статистически значимая разница."
   ]
  },
  {
   "cell_type": "code",
   "execution_count": 44,
   "metadata": {},
   "outputs": [
    {
     "name": "stdout",
     "output_type": "stream",
     "text": [
      "p-значение:  0.3651688372070827\n",
      "Не получилось отвергнуть нулевую гипотезу, нет оснований считать доли разными\n"
     ]
    }
   ],
   "source": [
    "z_test(2, event_users_ab, event_users_c)"
   ]
  },
  {
   "cell_type": "markdown",
   "metadata": {},
   "source": [
    "Событие перехода на страницу успешной оплаты для групп АB и С\n",
    "\n",
    "Нулевая гипотеза: доли пользователей, добравшихся на страницу успешной оплаты в группах АB и С теста одинаковы.\n",
    "\n",
    "Гипотеза Н1: между долями пользователей, добравшихся на страницу успешной оплаты в группах АB и С теста есть статистически значимая разница."
   ]
  },
  {
   "cell_type": "code",
   "execution_count": 45,
   "metadata": {},
   "outputs": [
    {
     "name": "stdout",
     "output_type": "stream",
     "text": [
      "p-значение:  0.9068688801650748\n",
      "Не получилось отвергнуть нулевую гипотезу, нет оснований считать доли разными\n"
     ]
    }
   ],
   "source": [
    "z_test(3, event_users_ab, event_users_c)"
   ]
  },
  {
   "cell_type": "markdown",
   "metadata": {},
   "source": [
    "Поскольку мы проводим множественный тест, т.е. берем несколько выборок из одного и того же набора данных -с каждой новой проверкой гипотезы растёт вероятность ошибки первого рода. В связи с этим мы должны скорректировать уровень значимости alpha (хотя лишь по одному из проведенных сравнений обнаружилось значимое различие). \n",
    "\n",
    "Выберем метод Шидака. При проверке результатов A/B теста мы сравнивали 4 сочетания групп А1А2, А1В, А2В, А1+А2/В и 4 конверсии (без tutorial). Получается 4*4 = 16. Соответственно формула для расчета уровня значимости будет такой:"
   ]
  },
  {
   "cell_type": "code",
   "execution_count": 46,
   "metadata": {},
   "outputs": [
    {
     "name": "stdout",
     "output_type": "stream",
     "text": [
      "0.003\n"
     ]
    }
   ],
   "source": [
    "print(round(1 - (1 - 0.05)**(1/16),3))"
   ]
  },
  {
   "cell_type": "markdown",
   "metadata": {},
   "source": [
    "Пересчитаем результаты. Результат изменился в выводе по статистической разнице при сравнении с объединенной контрольной группой в событии главной страницы. Соответственно нет оснований считать что есть статзначимая разница между экспериментами на всех событиях."
   ]
  },
  {
   "cell_type": "markdown",
   "metadata": {},
   "source": [
    "### Вывод\n",
    "\n",
    "Статистически значимой разницы между долями в группах старым и новым шрифтами нет. \n",
    "\n",
    "p-value для события успешного заказа:\n",
    "* в группах А и С: 0.21 \n",
    "* в группах В и С: 0.74\n",
    "* для объединенной группы АВ и С: 0.91\n",
    "* была выявлена статистическая разница при сравнении с объединенной контрольной группой в событии главной страницы. (но только на уровне значимости без корректировки на ошибки)\n",
    "* после корректировки уровня значимости послений вывод изменился на противоположный."
   ]
  },
  {
   "cell_type": "markdown",
   "metadata": {},
   "source": [
    "<a id=\"summary\"></a>\n",
    "## 5. Общий вывод"
   ]
  },
  {
   "cell_type": "markdown",
   "metadata": {},
   "source": [
    "Данные лога были открыты и изучены. Была проведена предобработка данных:\n",
    "\n",
    "* Названия колонок приведены к единому стилю.\n",
    "* Пропусков в значениях не обнаружено.\n",
    "* Типы данных приведены к корректным\n",
    "* Добавлены дополнительны колонки дл дальнейшего исследования.\n",
    "* Дубликаты в данных удалены.\n",
    "\n",
    "Проведен исследовательский анализ:\n",
    "\n",
    "* Посчитано кол-во событий, пользователей и их отношение в среднем в логе.\n",
    "* Определен период времени в логе, данные отфильтрованы по периоду с полными сведениями\n",
    "* Определены потери от фильтрации, они незначительные, все группы экспериментов сохранены.\n",
    "\n",
    "Изучена воронка событий:\n",
    "\n",
    "* Исследованы разные типы событий в логах по общим и уникальным посетителям\n",
    "* Выявлена закономерность и лишнее звено в последовательности событий лога\n",
    "* Исследовано поведение пользователей от первого до последнего шага воронки\n",
    "\n",
    "Проанализированы результаты эксперимента:\n",
    "Статистически значимой разницы между долями в группах старым и новым шрифтами нет.\n",
    "\n",
    "p-value для события успешного заказа:\n",
    "* в группах А и С: 0.21 \n",
    "* в группах В и С: 0.74\n",
    "* для объединенной группы АВ и С: 0.91\n",
    "* была выявлена статистическая разница при сравнении с объединенной контрольной группой в событии главной страницы. (но только на уровне значимости без корректировки на ошибки)\n",
    "* после корректировки уровня значимости послений вывод изменился на противоположный.\n",
    "\n",
    "\n",
    "Рекомендуем остановить тест и признать результат изменений шрифта неуспешным.\n"
   ]
  }
 ],
 "metadata": {
  "ExecuteTimeLog": [
   {
    "duration": 1261,
    "start_time": "2021-12-07T07:19:38.960Z"
   },
   {
    "duration": 302,
    "start_time": "2021-12-07T07:19:40.223Z"
   },
   {
    "duration": 5,
    "start_time": "2021-12-07T07:19:40.529Z"
   },
   {
    "duration": 9478,
    "start_time": "2021-12-07T07:19:40.535Z"
   },
   {
    "duration": -548,
    "start_time": "2021-12-07T07:19:50.565Z"
   },
   {
    "duration": -549,
    "start_time": "2021-12-07T07:19:50.567Z"
   },
   {
    "duration": -555,
    "start_time": "2021-12-07T07:19:50.574Z"
   },
   {
    "duration": -557,
    "start_time": "2021-12-07T07:19:50.577Z"
   },
   {
    "duration": -559,
    "start_time": "2021-12-07T07:19:50.580Z"
   },
   {
    "duration": -563,
    "start_time": "2021-12-07T07:19:50.585Z"
   },
   {
    "duration": -564,
    "start_time": "2021-12-07T07:19:50.587Z"
   },
   {
    "duration": -567,
    "start_time": "2021-12-07T07:19:50.591Z"
   },
   {
    "duration": -568,
    "start_time": "2021-12-07T07:19:50.593Z"
   },
   {
    "duration": -569,
    "start_time": "2021-12-07T07:19:50.595Z"
   },
   {
    "duration": -569,
    "start_time": "2021-12-07T07:19:50.596Z"
   },
   {
    "duration": -572,
    "start_time": "2021-12-07T07:19:50.600Z"
   },
   {
    "duration": -572,
    "start_time": "2021-12-07T07:19:50.602Z"
   },
   {
    "duration": -573,
    "start_time": "2021-12-07T07:19:50.604Z"
   },
   {
    "duration": -580,
    "start_time": "2021-12-07T07:19:50.612Z"
   },
   {
    "duration": -583,
    "start_time": "2021-12-07T07:19:50.616Z"
   },
   {
    "duration": -584,
    "start_time": "2021-12-07T07:19:50.618Z"
   },
   {
    "duration": -585,
    "start_time": "2021-12-07T07:19:50.621Z"
   },
   {
    "duration": -586,
    "start_time": "2021-12-07T07:19:50.623Z"
   },
   {
    "duration": -587,
    "start_time": "2021-12-07T07:19:50.625Z"
   },
   {
    "duration": -588,
    "start_time": "2021-12-07T07:19:50.627Z"
   },
   {
    "duration": -589,
    "start_time": "2021-12-07T07:19:50.629Z"
   },
   {
    "duration": -590,
    "start_time": "2021-12-07T07:19:50.631Z"
   },
   {
    "duration": -592,
    "start_time": "2021-12-07T07:19:50.634Z"
   },
   {
    "duration": -593,
    "start_time": "2021-12-07T07:19:50.636Z"
   },
   {
    "duration": -594,
    "start_time": "2021-12-07T07:19:50.638Z"
   },
   {
    "duration": -595,
    "start_time": "2021-12-07T07:19:50.640Z"
   },
   {
    "duration": -596,
    "start_time": "2021-12-07T07:19:50.642Z"
   },
   {
    "duration": -597,
    "start_time": "2021-12-07T07:19:50.644Z"
   },
   {
    "duration": -598,
    "start_time": "2021-12-07T07:19:50.646Z"
   },
   {
    "duration": -605,
    "start_time": "2021-12-07T07:19:50.654Z"
   },
   {
    "duration": -607,
    "start_time": "2021-12-07T07:19:50.657Z"
   },
   {
    "duration": -607,
    "start_time": "2021-12-07T07:19:50.658Z"
   },
   {
    "duration": -609,
    "start_time": "2021-12-07T07:19:50.661Z"
   },
   {
    "duration": 1115,
    "start_time": "2021-12-07T07:30:09.697Z"
   },
   {
    "duration": 1522,
    "start_time": "2021-12-07T07:30:10.814Z"
   },
   {
    "duration": -650,
    "start_time": "2021-12-07T07:30:12.991Z"
   },
   {
    "duration": -656,
    "start_time": "2021-12-07T07:30:12.998Z"
   },
   {
    "duration": -661,
    "start_time": "2021-12-07T07:30:13.004Z"
   },
   {
    "duration": -667,
    "start_time": "2021-12-07T07:30:13.011Z"
   },
   {
    "duration": -672,
    "start_time": "2021-12-07T07:30:13.017Z"
   },
   {
    "duration": -675,
    "start_time": "2021-12-07T07:30:13.021Z"
   },
   {
    "duration": -680,
    "start_time": "2021-12-07T07:30:13.027Z"
   },
   {
    "duration": -687,
    "start_time": "2021-12-07T07:30:13.035Z"
   },
   {
    "duration": -688,
    "start_time": "2021-12-07T07:30:13.037Z"
   },
   {
    "duration": -689,
    "start_time": "2021-12-07T07:30:13.039Z"
   },
   {
    "duration": -691,
    "start_time": "2021-12-07T07:30:13.042Z"
   },
   {
    "duration": -693,
    "start_time": "2021-12-07T07:30:13.045Z"
   },
   {
    "duration": -693,
    "start_time": "2021-12-07T07:30:13.047Z"
   },
   {
    "duration": -695,
    "start_time": "2021-12-07T07:30:13.050Z"
   },
   {
    "duration": -696,
    "start_time": "2021-12-07T07:30:13.052Z"
   },
   {
    "duration": -697,
    "start_time": "2021-12-07T07:30:13.054Z"
   },
   {
    "duration": -698,
    "start_time": "2021-12-07T07:30:13.056Z"
   },
   {
    "duration": -700,
    "start_time": "2021-12-07T07:30:13.059Z"
   },
   {
    "duration": -700,
    "start_time": "2021-12-07T07:30:13.061Z"
   },
   {
    "duration": -711,
    "start_time": "2021-12-07T07:30:13.073Z"
   },
   {
    "duration": -713,
    "start_time": "2021-12-07T07:30:13.076Z"
   },
   {
    "duration": -719,
    "start_time": "2021-12-07T07:30:13.083Z"
   },
   {
    "duration": -724,
    "start_time": "2021-12-07T07:30:13.089Z"
   },
   {
    "duration": -730,
    "start_time": "2021-12-07T07:30:13.096Z"
   },
   {
    "duration": -735,
    "start_time": "2021-12-07T07:30:13.102Z"
   },
   {
    "duration": -741,
    "start_time": "2021-12-07T07:30:13.109Z"
   },
   {
    "duration": -746,
    "start_time": "2021-12-07T07:30:13.115Z"
   },
   {
    "duration": -753,
    "start_time": "2021-12-07T07:30:13.122Z"
   },
   {
    "duration": -754,
    "start_time": "2021-12-07T07:30:13.124Z"
   },
   {
    "duration": -759,
    "start_time": "2021-12-07T07:30:13.130Z"
   },
   {
    "duration": -765,
    "start_time": "2021-12-07T07:30:13.137Z"
   },
   {
    "duration": -770,
    "start_time": "2021-12-07T07:30:13.143Z"
   },
   {
    "duration": -775,
    "start_time": "2021-12-07T07:30:13.149Z"
   },
   {
    "duration": -781,
    "start_time": "2021-12-07T07:30:13.156Z"
   },
   {
    "duration": -782,
    "start_time": "2021-12-07T07:30:13.158Z"
   },
   {
    "duration": -788,
    "start_time": "2021-12-07T07:30:13.165Z"
   },
   {
    "duration": 1866,
    "start_time": "2021-12-07T07:30:34.184Z"
   },
   {
    "duration": 159,
    "start_time": "2021-12-07T07:31:39.315Z"
   },
   {
    "duration": 1050,
    "start_time": "2021-12-07T07:31:53.448Z"
   },
   {
    "duration": 159,
    "start_time": "2021-12-07T07:31:54.500Z"
   },
   {
    "duration": 9,
    "start_time": "2021-12-07T07:31:54.660Z"
   },
   {
    "duration": 37,
    "start_time": "2021-12-07T07:31:54.670Z"
   },
   {
    "duration": 37,
    "start_time": "2021-12-07T07:31:54.709Z"
   },
   {
    "duration": 14,
    "start_time": "2021-12-07T07:31:54.748Z"
   },
   {
    "duration": 38,
    "start_time": "2021-12-07T07:31:54.764Z"
   },
   {
    "duration": 16,
    "start_time": "2021-12-07T07:31:54.805Z"
   },
   {
    "duration": 13,
    "start_time": "2021-12-07T07:31:54.823Z"
   },
   {
    "duration": 744,
    "start_time": "2021-12-07T07:31:54.837Z"
   },
   {
    "duration": 1208,
    "start_time": "2021-12-07T07:31:55.583Z"
   },
   {
    "duration": 276,
    "start_time": "2021-12-07T07:31:56.793Z"
   },
   {
    "duration": 738,
    "start_time": "2021-12-07T07:31:57.071Z"
   },
   {
    "duration": 1192,
    "start_time": "2021-12-07T07:31:57.810Z"
   },
   {
    "duration": 16,
    "start_time": "2021-12-07T07:31:59.004Z"
   },
   {
    "duration": 2796,
    "start_time": "2021-12-07T07:31:59.021Z"
   },
   {
    "duration": 557,
    "start_time": "2021-12-07T07:32:01.819Z"
   },
   {
    "duration": 520,
    "start_time": "2021-12-07T07:32:02.378Z"
   },
   {
    "duration": 492,
    "start_time": "2021-12-07T07:32:02.900Z"
   },
   {
    "duration": 22,
    "start_time": "2021-12-07T07:32:03.394Z"
   },
   {
    "duration": 652,
    "start_time": "2021-12-07T07:32:03.417Z"
   },
   {
    "duration": 522,
    "start_time": "2021-12-07T07:32:04.071Z"
   },
   {
    "duration": 493,
    "start_time": "2021-12-07T07:32:04.596Z"
   },
   {
    "duration": 17,
    "start_time": "2021-12-07T07:32:05.092Z"
   },
   {
    "duration": 232,
    "start_time": "2021-12-07T07:32:05.111Z"
   },
   {
    "duration": 7,
    "start_time": "2021-12-07T07:32:05.345Z"
   },
   {
    "duration": 515,
    "start_time": "2021-12-07T07:32:05.354Z"
   },
   {
    "duration": 7,
    "start_time": "2021-12-07T07:32:05.871Z"
   },
   {
    "duration": 475,
    "start_time": "2021-12-07T07:32:05.879Z"
   },
   {
    "duration": 470,
    "start_time": "2021-12-07T07:32:06.356Z"
   },
   {
    "duration": 341,
    "start_time": "2021-12-07T07:32:06.827Z"
   },
   {
    "duration": 589,
    "start_time": "2021-12-07T07:32:07.170Z"
   },
   {
    "duration": 458,
    "start_time": "2021-12-07T07:32:07.761Z"
   },
   {
    "duration": 422,
    "start_time": "2021-12-07T07:32:08.220Z"
   },
   {
    "duration": 19,
    "start_time": "2021-12-07T07:32:08.643Z"
   },
   {
    "duration": 447,
    "start_time": "2021-12-07T07:32:08.664Z"
   },
   {
    "duration": 427,
    "start_time": "2021-12-07T07:32:09.113Z"
   },
   {
    "duration": 413,
    "start_time": "2021-12-07T07:32:09.542Z"
   },
   {
    "duration": 476,
    "start_time": "2021-12-07T07:32:12.067Z"
   },
   {
    "duration": 1157,
    "start_time": "2021-12-07T07:37:51.488Z"
   },
   {
    "duration": 179,
    "start_time": "2021-12-07T07:37:52.647Z"
   },
   {
    "duration": 10,
    "start_time": "2021-12-07T07:37:52.829Z"
   },
   {
    "duration": 49,
    "start_time": "2021-12-07T07:37:52.841Z"
   },
   {
    "duration": 40,
    "start_time": "2021-12-07T07:37:52.892Z"
   },
   {
    "duration": 19,
    "start_time": "2021-12-07T07:37:52.934Z"
   },
   {
    "duration": 41,
    "start_time": "2021-12-07T07:37:52.955Z"
   },
   {
    "duration": 36,
    "start_time": "2021-12-07T07:37:52.999Z"
   },
   {
    "duration": 35,
    "start_time": "2021-12-07T07:37:53.038Z"
   },
   {
    "duration": 723,
    "start_time": "2021-12-07T07:37:53.075Z"
   },
   {
    "duration": 1148,
    "start_time": "2021-12-07T07:37:53.800Z"
   },
   {
    "duration": 256,
    "start_time": "2021-12-07T07:37:54.950Z"
   },
   {
    "duration": 719,
    "start_time": "2021-12-07T07:37:55.209Z"
   },
   {
    "duration": 1157,
    "start_time": "2021-12-07T07:37:55.930Z"
   },
   {
    "duration": 19,
    "start_time": "2021-12-07T07:37:57.089Z"
   },
   {
    "duration": 2741,
    "start_time": "2021-12-07T07:37:57.110Z"
   },
   {
    "duration": 544,
    "start_time": "2021-12-07T07:37:59.852Z"
   },
   {
    "duration": 578,
    "start_time": "2021-12-07T07:38:00.398Z"
   },
   {
    "duration": 551,
    "start_time": "2021-12-07T07:38:00.978Z"
   },
   {
    "duration": 36,
    "start_time": "2021-12-07T07:38:01.531Z"
   },
   {
    "duration": 702,
    "start_time": "2021-12-07T07:38:01.569Z"
   },
   {
    "duration": 536,
    "start_time": "2021-12-07T07:38:02.274Z"
   },
   {
    "duration": 543,
    "start_time": "2021-12-07T07:38:02.813Z"
   },
   {
    "duration": 21,
    "start_time": "2021-12-07T07:38:03.363Z"
   },
   {
    "duration": 238,
    "start_time": "2021-12-07T07:38:03.387Z"
   },
   {
    "duration": 8,
    "start_time": "2021-12-07T07:38:03.627Z"
   },
   {
    "duration": 484,
    "start_time": "2021-12-07T07:38:03.637Z"
   },
   {
    "duration": 7,
    "start_time": "2021-12-07T07:38:04.123Z"
   },
   {
    "duration": 478,
    "start_time": "2021-12-07T07:38:04.132Z"
   },
   {
    "duration": 574,
    "start_time": "2021-12-07T07:38:04.612Z"
   },
   {
    "duration": 351,
    "start_time": "2021-12-07T07:38:05.188Z"
   },
   {
    "duration": 608,
    "start_time": "2021-12-07T07:38:05.542Z"
   },
   {
    "duration": 458,
    "start_time": "2021-12-07T07:38:06.151Z"
   },
   {
    "duration": 441,
    "start_time": "2021-12-07T07:38:06.611Z"
   },
   {
    "duration": 27,
    "start_time": "2021-12-07T07:38:07.054Z"
   },
   {
    "duration": 430,
    "start_time": "2021-12-07T07:38:07.083Z"
   },
   {
    "duration": 427,
    "start_time": "2021-12-07T07:38:07.515Z"
   },
   {
    "duration": 456,
    "start_time": "2021-12-07T07:38:07.944Z"
   },
   {
    "duration": 498,
    "start_time": "2021-12-07T11:42:04.805Z"
   },
   {
    "duration": 1428,
    "start_time": "2021-12-07T11:42:24.612Z"
   },
   {
    "duration": 5,
    "start_time": "2021-12-07T11:42:34.348Z"
   },
   {
    "duration": 219,
    "start_time": "2021-12-07T11:42:36.301Z"
   },
   {
    "duration": 45,
    "start_time": "2021-12-07T11:55:13.300Z"
   },
   {
    "duration": 33,
    "start_time": "2021-12-07T12:00:20.989Z"
   },
   {
    "duration": 1582,
    "start_time": "2021-12-07T12:01:27.558Z"
   },
   {
    "duration": 235,
    "start_time": "2021-12-07T12:01:29.143Z"
   },
   {
    "duration": 11,
    "start_time": "2021-12-07T12:01:29.384Z"
   },
   {
    "duration": 62,
    "start_time": "2021-12-07T12:01:29.397Z"
   },
   {
    "duration": 540,
    "start_time": "2021-12-07T12:01:29.462Z"
   },
   {
    "duration": 328,
    "start_time": "2021-12-07T12:01:29.678Z"
   },
   {
    "duration": 325,
    "start_time": "2021-12-07T12:01:29.682Z"
   },
   {
    "duration": 324,
    "start_time": "2021-12-07T12:01:29.685Z"
   },
   {
    "duration": 323,
    "start_time": "2021-12-07T12:01:29.689Z"
   },
   {
    "duration": 320,
    "start_time": "2021-12-07T12:01:29.693Z"
   },
   {
    "duration": 318,
    "start_time": "2021-12-07T12:01:29.697Z"
   },
   {
    "duration": 315,
    "start_time": "2021-12-07T12:01:29.702Z"
   },
   {
    "duration": 315,
    "start_time": "2021-12-07T12:01:29.704Z"
   },
   {
    "duration": 314,
    "start_time": "2021-12-07T12:01:29.707Z"
   },
   {
    "duration": 304,
    "start_time": "2021-12-07T12:01:29.718Z"
   },
   {
    "duration": 303,
    "start_time": "2021-12-07T12:01:29.721Z"
   },
   {
    "duration": 301,
    "start_time": "2021-12-07T12:01:29.724Z"
   },
   {
    "duration": 300,
    "start_time": "2021-12-07T12:01:29.727Z"
   },
   {
    "duration": 298,
    "start_time": "2021-12-07T12:01:29.730Z"
   },
   {
    "duration": 297,
    "start_time": "2021-12-07T12:01:29.732Z"
   },
   {
    "duration": 293,
    "start_time": "2021-12-07T12:01:29.737Z"
   },
   {
    "duration": 293,
    "start_time": "2021-12-07T12:01:29.739Z"
   },
   {
    "duration": 292,
    "start_time": "2021-12-07T12:01:29.742Z"
   },
   {
    "duration": 292,
    "start_time": "2021-12-07T12:01:29.744Z"
   },
   {
    "duration": 291,
    "start_time": "2021-12-07T12:01:29.746Z"
   },
   {
    "duration": 291,
    "start_time": "2021-12-07T12:01:29.748Z"
   },
   {
    "duration": 290,
    "start_time": "2021-12-07T12:01:29.751Z"
   },
   {
    "duration": 305,
    "start_time": "2021-12-07T12:01:29.754Z"
   },
   {
    "duration": 305,
    "start_time": "2021-12-07T12:01:29.757Z"
   },
   {
    "duration": 300,
    "start_time": "2021-12-07T12:01:29.764Z"
   },
   {
    "duration": 299,
    "start_time": "2021-12-07T12:01:29.767Z"
   },
   {
    "duration": 299,
    "start_time": "2021-12-07T12:01:29.769Z"
   },
   {
    "duration": 301,
    "start_time": "2021-12-07T12:01:29.771Z"
   },
   {
    "duration": 300,
    "start_time": "2021-12-07T12:01:29.774Z"
   },
   {
    "duration": 300,
    "start_time": "2021-12-07T12:01:29.776Z"
   },
   {
    "duration": 299,
    "start_time": "2021-12-07T12:01:29.778Z"
   },
   {
    "duration": 291,
    "start_time": "2021-12-07T12:01:29.788Z"
   },
   {
    "duration": 285,
    "start_time": "2021-12-07T12:01:29.795Z"
   },
   {
    "duration": 54,
    "start_time": "2021-12-07T12:02:45.274Z"
   },
   {
    "duration": 35,
    "start_time": "2021-12-07T12:03:06.193Z"
   },
   {
    "duration": 433,
    "start_time": "2021-12-07T12:04:15.859Z"
   },
   {
    "duration": 2099,
    "start_time": "2021-12-07T12:04:40.139Z"
   },
   {
    "duration": 1691,
    "start_time": "2021-12-07T12:04:51.540Z"
   },
   {
    "duration": 396,
    "start_time": "2021-12-07T12:06:48.518Z"
   },
   {
    "duration": 400,
    "start_time": "2021-12-07T12:07:41.913Z"
   },
   {
    "duration": 385,
    "start_time": "2021-12-07T12:07:46.648Z"
   },
   {
    "duration": 403,
    "start_time": "2021-12-07T12:08:04.688Z"
   },
   {
    "duration": 33,
    "start_time": "2021-12-07T12:08:24.489Z"
   },
   {
    "duration": 1505,
    "start_time": "2021-12-07T12:08:56.545Z"
   },
   {
    "duration": 214,
    "start_time": "2021-12-07T12:08:58.053Z"
   },
   {
    "duration": 11,
    "start_time": "2021-12-07T12:08:58.270Z"
   },
   {
    "duration": 37,
    "start_time": "2021-12-07T12:08:58.285Z"
   },
   {
    "duration": 79,
    "start_time": "2021-12-07T12:08:58.325Z"
   },
   {
    "duration": 6,
    "start_time": "2021-12-07T12:08:58.408Z"
   },
   {
    "duration": 48,
    "start_time": "2021-12-07T12:08:58.417Z"
   },
   {
    "duration": 25,
    "start_time": "2021-12-07T12:08:58.470Z"
   },
   {
    "duration": 7,
    "start_time": "2021-12-07T12:08:58.498Z"
   },
   {
    "duration": 1235,
    "start_time": "2021-12-07T12:08:58.508Z"
   },
   {
    "duration": 2022,
    "start_time": "2021-12-07T12:08:59.747Z"
   },
   {
    "duration": 406,
    "start_time": "2021-12-07T12:09:01.771Z"
   },
   {
    "duration": 1472,
    "start_time": "2021-12-07T12:09:02.179Z"
   },
   {
    "duration": 1926,
    "start_time": "2021-12-07T12:09:03.658Z"
   },
   {
    "duration": 27,
    "start_time": "2021-12-07T12:09:05.586Z"
   },
   {
    "duration": 4536,
    "start_time": "2021-12-07T12:09:05.616Z"
   },
   {
    "duration": 821,
    "start_time": "2021-12-07T12:09:10.155Z"
   },
   {
    "duration": 806,
    "start_time": "2021-12-07T12:09:10.979Z"
   },
   {
    "duration": 755,
    "start_time": "2021-12-07T12:09:11.788Z"
   },
   {
    "duration": 48,
    "start_time": "2021-12-07T12:09:12.547Z"
   },
   {
    "duration": 1220,
    "start_time": "2021-12-07T12:09:12.598Z"
   },
   {
    "duration": 772,
    "start_time": "2021-12-07T12:09:13.821Z"
   },
   {
    "duration": 800,
    "start_time": "2021-12-07T12:09:14.598Z"
   },
   {
    "duration": 29,
    "start_time": "2021-12-07T12:09:15.401Z"
   },
   {
    "duration": 382,
    "start_time": "2021-12-07T12:09:15.432Z"
   },
   {
    "duration": 10,
    "start_time": "2021-12-07T12:09:15.816Z"
   },
   {
    "duration": 845,
    "start_time": "2021-12-07T12:09:15.828Z"
   },
   {
    "duration": 10,
    "start_time": "2021-12-07T12:09:16.676Z"
   },
   {
    "duration": 1070,
    "start_time": "2021-12-07T12:09:16.689Z"
   },
   {
    "duration": 908,
    "start_time": "2021-12-07T12:09:17.762Z"
   },
   {
    "duration": 576,
    "start_time": "2021-12-07T12:09:18.672Z"
   },
   {
    "duration": 899,
    "start_time": "2021-12-07T12:09:19.250Z"
   },
   {
    "duration": 670,
    "start_time": "2021-12-07T12:09:20.160Z"
   },
   {
    "duration": 710,
    "start_time": "2021-12-07T12:09:20.833Z"
   },
   {
    "duration": 42,
    "start_time": "2021-12-07T12:09:21.546Z"
   },
   {
    "duration": 656,
    "start_time": "2021-12-07T12:09:21.591Z"
   },
   {
    "duration": 602,
    "start_time": "2021-12-07T12:09:22.251Z"
   },
   {
    "duration": 604,
    "start_time": "2021-12-07T12:09:22.860Z"
   },
   {
    "duration": 1777,
    "start_time": "2021-12-07T12:17:59.875Z"
   },
   {
    "duration": 2778,
    "start_time": "2021-12-07T12:19:04.340Z"
   },
   {
    "duration": 2414,
    "start_time": "2021-12-07T12:20:10.093Z"
   },
   {
    "duration": 649,
    "start_time": "2021-12-07T12:20:21.177Z"
   },
   {
    "duration": 1482,
    "start_time": "2021-12-07T12:26:04.901Z"
   },
   {
    "duration": 546,
    "start_time": "2021-12-07T12:26:10.726Z"
   },
   {
    "duration": 2321,
    "start_time": "2021-12-07T12:26:34.822Z"
   },
   {
    "duration": 2296,
    "start_time": "2021-12-07T12:27:32.664Z"
   },
   {
    "duration": 235,
    "start_time": "2021-12-07T12:30:41.298Z"
   },
   {
    "duration": 295,
    "start_time": "2021-12-07T12:31:37.718Z"
   },
   {
    "duration": 1563,
    "start_time": "2021-12-07T12:36:15.910Z"
   },
   {
    "duration": 226,
    "start_time": "2021-12-07T12:36:17.475Z"
   },
   {
    "duration": 10,
    "start_time": "2021-12-07T12:36:17.704Z"
   },
   {
    "duration": 45,
    "start_time": "2021-12-07T12:36:17.717Z"
   },
   {
    "duration": 48,
    "start_time": "2021-12-07T12:36:17.764Z"
   },
   {
    "duration": 5,
    "start_time": "2021-12-07T12:36:17.814Z"
   },
   {
    "duration": 29,
    "start_time": "2021-12-07T12:36:17.821Z"
   },
   {
    "duration": 28,
    "start_time": "2021-12-07T12:36:17.853Z"
   },
   {
    "duration": 7,
    "start_time": "2021-12-07T12:36:17.884Z"
   },
   {
    "duration": 1337,
    "start_time": "2021-12-07T12:36:17.893Z"
   },
   {
    "duration": 1842,
    "start_time": "2021-12-07T12:36:19.233Z"
   },
   {
    "duration": 411,
    "start_time": "2021-12-07T12:36:21.077Z"
   },
   {
    "duration": 1202,
    "start_time": "2021-12-07T12:36:21.490Z"
   },
   {
    "duration": 1885,
    "start_time": "2021-12-07T12:36:22.695Z"
   },
   {
    "duration": 28,
    "start_time": "2021-12-07T12:36:24.583Z"
   },
   {
    "duration": 4623,
    "start_time": "2021-12-07T12:36:24.614Z"
   },
   {
    "duration": 793,
    "start_time": "2021-12-07T12:36:29.239Z"
   },
   {
    "duration": 825,
    "start_time": "2021-12-07T12:36:30.035Z"
   },
   {
    "duration": 784,
    "start_time": "2021-12-07T12:36:30.862Z"
   },
   {
    "duration": 41,
    "start_time": "2021-12-07T12:36:31.648Z"
   },
   {
    "duration": 920,
    "start_time": "2021-12-07T12:36:31.692Z"
   },
   {
    "duration": 744,
    "start_time": "2021-12-07T12:36:32.615Z"
   },
   {
    "duration": 775,
    "start_time": "2021-12-07T12:36:33.366Z"
   },
   {
    "duration": 36,
    "start_time": "2021-12-07T12:36:34.144Z"
   },
   {
    "duration": 357,
    "start_time": "2021-12-07T12:36:34.183Z"
   },
   {
    "duration": 20,
    "start_time": "2021-12-07T12:36:34.543Z"
   },
   {
    "duration": 919,
    "start_time": "2021-12-07T12:36:34.566Z"
   },
   {
    "duration": 11,
    "start_time": "2021-12-07T12:36:35.488Z"
   },
   {
    "duration": 887,
    "start_time": "2021-12-07T12:36:35.501Z"
   },
   {
    "duration": 800,
    "start_time": "2021-12-07T12:36:36.390Z"
   },
   {
    "duration": 526,
    "start_time": "2021-12-07T12:36:37.193Z"
   },
   {
    "duration": 874,
    "start_time": "2021-12-07T12:36:37.722Z"
   },
   {
    "duration": 646,
    "start_time": "2021-12-07T12:36:38.599Z"
   },
   {
    "duration": 640,
    "start_time": "2021-12-07T12:36:39.247Z"
   },
   {
    "duration": 33,
    "start_time": "2021-12-07T12:36:39.889Z"
   },
   {
    "duration": 619,
    "start_time": "2021-12-07T12:36:39.925Z"
   },
   {
    "duration": 612,
    "start_time": "2021-12-07T12:36:40.547Z"
   },
   {
    "duration": 617,
    "start_time": "2021-12-07T12:36:41.161Z"
   },
   {
    "duration": 31,
    "start_time": "2021-12-07T12:38:29.196Z"
   },
   {
    "duration": 26,
    "start_time": "2021-12-07T12:38:50.835Z"
   },
   {
    "duration": 38,
    "start_time": "2021-12-07T12:39:09.244Z"
   },
   {
    "duration": 25,
    "start_time": "2021-12-07T12:39:14.468Z"
   },
   {
    "duration": 26,
    "start_time": "2021-12-07T12:39:17.524Z"
   },
   {
    "duration": 28,
    "start_time": "2021-12-07T12:39:44.460Z"
   },
   {
    "duration": 26,
    "start_time": "2021-12-07T12:40:11.973Z"
   },
   {
    "duration": 27,
    "start_time": "2021-12-07T12:40:23.189Z"
   },
   {
    "duration": 5176,
    "start_time": "2021-12-07T12:40:31.102Z"
   },
   {
    "duration": 35,
    "start_time": "2021-12-07T12:41:38.935Z"
   },
   {
    "duration": 583,
    "start_time": "2021-12-07T12:43:33.456Z"
   },
   {
    "duration": 471,
    "start_time": "2021-12-07T12:44:13.307Z"
   },
   {
    "duration": 470,
    "start_time": "2021-12-07T12:44:34.699Z"
   },
   {
    "duration": 469,
    "start_time": "2021-12-07T12:44:49.236Z"
   },
   {
    "duration": 468,
    "start_time": "2021-12-07T12:45:25.436Z"
   },
   {
    "duration": 751,
    "start_time": "2021-12-07T12:47:17.414Z"
   },
   {
    "duration": 10,
    "start_time": "2021-12-07T12:47:57.617Z"
   },
   {
    "duration": 1482,
    "start_time": "2021-12-07T12:48:08.059Z"
   },
   {
    "duration": 233,
    "start_time": "2021-12-07T12:48:09.544Z"
   },
   {
    "duration": 13,
    "start_time": "2021-12-07T12:48:09.781Z"
   },
   {
    "duration": 35,
    "start_time": "2021-12-07T12:48:09.797Z"
   },
   {
    "duration": 50,
    "start_time": "2021-12-07T12:48:09.860Z"
   },
   {
    "duration": 4,
    "start_time": "2021-12-07T12:48:09.913Z"
   },
   {
    "duration": 42,
    "start_time": "2021-12-07T12:48:09.920Z"
   },
   {
    "duration": 24,
    "start_time": "2021-12-07T12:48:09.966Z"
   },
   {
    "duration": 6,
    "start_time": "2021-12-07T12:48:09.994Z"
   },
   {
    "duration": 1177,
    "start_time": "2021-12-07T12:48:10.003Z"
   },
   {
    "duration": 1908,
    "start_time": "2021-12-07T12:48:11.183Z"
   },
   {
    "duration": 390,
    "start_time": "2021-12-07T12:48:13.094Z"
   },
   {
    "duration": 1162,
    "start_time": "2021-12-07T12:48:13.487Z"
   },
   {
    "duration": 2007,
    "start_time": "2021-12-07T12:48:14.652Z"
   },
   {
    "duration": 28,
    "start_time": "2021-12-07T12:48:16.661Z"
   },
   {
    "duration": 4970,
    "start_time": "2021-12-07T12:48:16.691Z"
   },
   {
    "duration": 906,
    "start_time": "2021-12-07T12:48:21.664Z"
   },
   {
    "duration": 837,
    "start_time": "2021-12-07T12:48:22.572Z"
   },
   {
    "duration": 774,
    "start_time": "2021-12-07T12:48:23.411Z"
   },
   {
    "duration": 421,
    "start_time": "2021-12-07T12:48:24.189Z"
   },
   {
    "duration": 971,
    "start_time": "2021-12-07T12:48:24.612Z"
   },
   {
    "duration": 897,
    "start_time": "2021-12-07T12:48:25.586Z"
   },
   {
    "duration": 996,
    "start_time": "2021-12-07T12:48:26.488Z"
   },
   {
    "duration": 28,
    "start_time": "2021-12-07T12:48:27.487Z"
   },
   {
    "duration": 547,
    "start_time": "2021-12-07T12:48:27.517Z"
   },
   {
    "duration": 12,
    "start_time": "2021-12-07T12:48:28.066Z"
   },
   {
    "duration": 790,
    "start_time": "2021-12-07T12:48:28.081Z"
   },
   {
    "duration": 11,
    "start_time": "2021-12-07T12:48:28.875Z"
   },
   {
    "duration": 773,
    "start_time": "2021-12-07T12:48:28.889Z"
   },
   {
    "duration": 820,
    "start_time": "2021-12-07T12:48:29.665Z"
   },
   {
    "duration": 652,
    "start_time": "2021-12-07T12:48:30.487Z"
   },
   {
    "duration": 756,
    "start_time": "2021-12-07T12:48:31.142Z"
   },
   {
    "duration": 724,
    "start_time": "2021-12-07T12:48:31.900Z"
   },
   {
    "duration": 732,
    "start_time": "2021-12-07T12:48:32.627Z"
   },
   {
    "duration": 30,
    "start_time": "2021-12-07T12:48:33.361Z"
   },
   {
    "duration": 703,
    "start_time": "2021-12-07T12:48:33.394Z"
   },
   {
    "duration": 786,
    "start_time": "2021-12-07T12:48:34.101Z"
   },
   {
    "duration": 674,
    "start_time": "2021-12-07T12:48:34.890Z"
   },
   {
    "duration": 160,
    "start_time": "2021-12-07T12:56:57.604Z"
   },
   {
    "duration": 459,
    "start_time": "2021-12-07T12:57:01.989Z"
   },
   {
    "duration": 459,
    "start_time": "2021-12-07T12:57:12.879Z"
   },
   {
    "duration": 1124,
    "start_time": "2021-12-07T13:17:48.514Z"
   },
   {
    "duration": 1137,
    "start_time": "2021-12-07T13:18:05.962Z"
   },
   {
    "duration": 3241,
    "start_time": "2021-12-07T13:18:59.259Z"
   },
   {
    "duration": 3138,
    "start_time": "2021-12-07T13:19:10.964Z"
   },
   {
    "duration": 3114,
    "start_time": "2021-12-07T13:19:30.973Z"
   },
   {
    "duration": 1144,
    "start_time": "2021-12-07T13:19:37.845Z"
   },
   {
    "duration": 1047,
    "start_time": "2021-12-07T13:21:32.591Z"
   },
   {
    "duration": 1043,
    "start_time": "2021-12-07T13:21:55.720Z"
   },
   {
    "duration": 1057,
    "start_time": "2021-12-07T13:22:01.544Z"
   },
   {
    "duration": 1265,
    "start_time": "2021-12-07T13:22:18.781Z"
   },
   {
    "duration": 1169,
    "start_time": "2021-12-07T13:22:31.833Z"
   },
   {
    "duration": 1046,
    "start_time": "2021-12-07T13:22:38.361Z"
   },
   {
    "duration": 1122,
    "start_time": "2021-12-07T13:22:43.185Z"
   },
   {
    "duration": 1076,
    "start_time": "2021-12-07T13:23:06.354Z"
   },
   {
    "duration": 1237,
    "start_time": "2021-12-07T13:23:22.242Z"
   },
   {
    "duration": 1041,
    "start_time": "2021-12-07T13:24:44.284Z"
   },
   {
    "duration": 2200,
    "start_time": "2021-12-07T13:24:59.948Z"
   },
   {
    "duration": 1889,
    "start_time": "2021-12-07T13:26:08.918Z"
   },
   {
    "duration": 2315,
    "start_time": "2021-12-07T13:27:13.160Z"
   },
   {
    "duration": 1883,
    "start_time": "2021-12-07T13:29:00.730Z"
   },
   {
    "duration": 2145,
    "start_time": "2021-12-07T13:29:23.138Z"
   },
   {
    "duration": 1842,
    "start_time": "2021-12-07T13:29:38.523Z"
   },
   {
    "duration": 2012,
    "start_time": "2021-12-07T13:30:23.147Z"
   },
   {
    "duration": 2020,
    "start_time": "2021-12-07T13:30:34.988Z"
   },
   {
    "duration": 1929,
    "start_time": "2021-12-07T13:30:58.269Z"
   },
   {
    "duration": 2069,
    "start_time": "2021-12-07T13:32:21.006Z"
   },
   {
    "duration": 1191,
    "start_time": "2021-12-07T13:32:30.919Z"
   },
   {
    "duration": 2056,
    "start_time": "2021-12-07T13:32:43.167Z"
   },
   {
    "duration": 2084,
    "start_time": "2021-12-07T13:33:12.800Z"
   },
   {
    "duration": 2333,
    "start_time": "2021-12-07T13:33:42.760Z"
   },
   {
    "duration": 2196,
    "start_time": "2021-12-07T13:34:07.097Z"
   },
   {
    "duration": 1968,
    "start_time": "2021-12-07T13:37:07.534Z"
   },
   {
    "duration": 2463,
    "start_time": "2021-12-07T13:37:24.846Z"
   },
   {
    "duration": 1735,
    "start_time": "2021-12-07T13:37:49.367Z"
   },
   {
    "duration": 1710,
    "start_time": "2021-12-07T13:38:00.111Z"
   },
   {
    "duration": 1903,
    "start_time": "2021-12-07T13:38:08.071Z"
   },
   {
    "duration": 1916,
    "start_time": "2021-12-07T13:40:09.977Z"
   },
   {
    "duration": 2560,
    "start_time": "2021-12-07T13:44:06.231Z"
   },
   {
    "duration": 11908,
    "start_time": "2021-12-07T13:45:50.721Z"
   },
   {
    "duration": 2842,
    "start_time": "2021-12-07T13:46:04.177Z"
   },
   {
    "duration": 2389,
    "start_time": "2021-12-07T13:47:12.595Z"
   },
   {
    "duration": 2425,
    "start_time": "2021-12-07T13:47:22.452Z"
   },
   {
    "duration": 579,
    "start_time": "2021-12-07T13:48:35.974Z"
   },
   {
    "duration": 137,
    "start_time": "2021-12-07T13:53:26.740Z"
   },
   {
    "duration": 130,
    "start_time": "2021-12-07T13:53:33.844Z"
   },
   {
    "duration": 170,
    "start_time": "2021-12-07T13:53:40.340Z"
   },
   {
    "duration": 130,
    "start_time": "2021-12-07T13:53:48.429Z"
   },
   {
    "duration": 2398,
    "start_time": "2021-12-07T13:53:56.332Z"
   },
   {
    "duration": 1410,
    "start_time": "2021-12-07T13:54:52.127Z"
   },
   {
    "duration": 1300,
    "start_time": "2021-12-07T13:55:37.967Z"
   },
   {
    "duration": 2133,
    "start_time": "2021-12-07T13:56:04.673Z"
   },
   {
    "duration": 1503,
    "start_time": "2021-12-07T13:56:14.913Z"
   },
   {
    "duration": 1454,
    "start_time": "2021-12-07T13:56:29.585Z"
   },
   {
    "duration": 1293,
    "start_time": "2021-12-07T13:56:34.480Z"
   },
   {
    "duration": 2112,
    "start_time": "2021-12-07T13:56:44.409Z"
   },
   {
    "duration": 2079,
    "start_time": "2021-12-07T13:56:55.121Z"
   },
   {
    "duration": 1343,
    "start_time": "2021-12-07T13:57:01.241Z"
   },
   {
    "duration": 1418,
    "start_time": "2021-12-07T13:57:07.016Z"
   },
   {
    "duration": 2106,
    "start_time": "2021-12-07T13:58:25.987Z"
   },
   {
    "duration": 2292,
    "start_time": "2021-12-07T13:58:39.963Z"
   },
   {
    "duration": 2109,
    "start_time": "2021-12-07T13:58:45.987Z"
   },
   {
    "duration": 2070,
    "start_time": "2021-12-07T13:58:55.908Z"
   },
   {
    "duration": 1933,
    "start_time": "2021-12-07T13:59:06.820Z"
   },
   {
    "duration": 2057,
    "start_time": "2021-12-07T13:59:25.020Z"
   },
   {
    "duration": 2040,
    "start_time": "2021-12-07T13:59:42.100Z"
   },
   {
    "duration": 2224,
    "start_time": "2021-12-07T14:02:20.057Z"
   },
   {
    "duration": 2169,
    "start_time": "2021-12-07T14:02:53.618Z"
   },
   {
    "duration": 2061,
    "start_time": "2021-12-07T14:03:02.899Z"
   },
   {
    "duration": 2041,
    "start_time": "2021-12-07T14:03:10.722Z"
   },
   {
    "duration": 1979,
    "start_time": "2021-12-07T14:03:23.939Z"
   },
   {
    "duration": 1940,
    "start_time": "2021-12-07T14:03:36.683Z"
   },
   {
    "duration": 2043,
    "start_time": "2021-12-07T14:04:04.036Z"
   },
   {
    "duration": 2177,
    "start_time": "2021-12-07T14:04:15.924Z"
   },
   {
    "duration": 2148,
    "start_time": "2021-12-07T14:05:00.397Z"
   },
   {
    "duration": 1928,
    "start_time": "2021-12-07T14:07:15.331Z"
   },
   {
    "duration": 2189,
    "start_time": "2021-12-07T14:10:20.980Z"
   },
   {
    "duration": 2244,
    "start_time": "2021-12-07T14:11:39.215Z"
   },
   {
    "duration": 1642,
    "start_time": "2021-12-07T14:12:18.675Z"
   },
   {
    "duration": 222,
    "start_time": "2021-12-07T14:12:20.320Z"
   },
   {
    "duration": 19,
    "start_time": "2021-12-07T14:12:20.546Z"
   },
   {
    "duration": 44,
    "start_time": "2021-12-07T14:12:20.568Z"
   },
   {
    "duration": 69,
    "start_time": "2021-12-07T14:12:20.614Z"
   },
   {
    "duration": 5,
    "start_time": "2021-12-07T14:12:20.685Z"
   },
   {
    "duration": 31,
    "start_time": "2021-12-07T14:12:20.692Z"
   },
   {
    "duration": 39,
    "start_time": "2021-12-07T14:12:20.727Z"
   },
   {
    "duration": 6,
    "start_time": "2021-12-07T14:12:20.769Z"
   },
   {
    "duration": 1198,
    "start_time": "2021-12-07T14:12:20.778Z"
   },
   {
    "duration": 2101,
    "start_time": "2021-12-07T14:12:21.979Z"
   },
   {
    "duration": 406,
    "start_time": "2021-12-07T14:12:24.082Z"
   },
   {
    "duration": 1212,
    "start_time": "2021-12-07T14:12:24.491Z"
   },
   {
    "duration": 2048,
    "start_time": "2021-12-07T14:12:25.705Z"
   },
   {
    "duration": 31,
    "start_time": "2021-12-07T14:12:27.759Z"
   },
   {
    "duration": 4736,
    "start_time": "2021-12-07T14:12:27.793Z"
   },
   {
    "duration": 830,
    "start_time": "2021-12-07T14:12:32.532Z"
   },
   {
    "duration": 780,
    "start_time": "2021-12-07T14:12:33.365Z"
   },
   {
    "duration": 797,
    "start_time": "2021-12-07T14:12:34.148Z"
   },
   {
    "duration": 391,
    "start_time": "2021-12-07T14:12:34.948Z"
   },
   {
    "duration": 1037,
    "start_time": "2021-12-07T14:12:35.342Z"
   },
   {
    "duration": 907,
    "start_time": "2021-12-07T14:12:36.382Z"
   },
   {
    "duration": 1016,
    "start_time": "2021-12-07T14:12:37.295Z"
   },
   {
    "duration": 45,
    "start_time": "2021-12-07T14:12:38.314Z"
   },
   {
    "duration": 551,
    "start_time": "2021-12-07T14:12:38.362Z"
   },
   {
    "duration": 10,
    "start_time": "2021-12-07T14:12:38.915Z"
   },
   {
    "duration": 810,
    "start_time": "2021-12-07T14:12:38.928Z"
   },
   {
    "duration": 18,
    "start_time": "2021-12-07T14:12:39.741Z"
   },
   {
    "duration": 2174,
    "start_time": "2021-12-07T14:12:39.762Z"
   },
   {
    "duration": 2020,
    "start_time": "2021-12-07T14:12:41.939Z"
   },
   {
    "duration": 1856,
    "start_time": "2021-12-07T14:12:43.962Z"
   },
   {
    "duration": 2075,
    "start_time": "2021-12-07T14:12:45.820Z"
   },
   {
    "duration": 2069,
    "start_time": "2021-12-07T14:12:47.898Z"
   },
   {
    "duration": 1934,
    "start_time": "2021-12-07T14:12:49.969Z"
   },
   {
    "duration": 495,
    "start_time": "2021-12-07T14:12:51.906Z"
   },
   {
    "duration": 3038,
    "start_time": "2021-12-07T14:12:52.404Z"
   },
   {
    "duration": 3316,
    "start_time": "2021-12-07T14:12:55.445Z"
   },
   {
    "duration": 1927,
    "start_time": "2021-12-07T14:12:58.764Z"
   },
   {
    "duration": 393,
    "start_time": "2021-12-07T16:46:12.465Z"
   },
   {
    "duration": 1192,
    "start_time": "2021-12-07T16:46:23.364Z"
   },
   {
    "duration": 164,
    "start_time": "2021-12-07T16:46:24.558Z"
   },
   {
    "duration": 10,
    "start_time": "2021-12-07T16:46:24.724Z"
   },
   {
    "duration": 29,
    "start_time": "2021-12-07T16:46:24.736Z"
   },
   {
    "duration": 61,
    "start_time": "2021-12-07T16:46:24.767Z"
   },
   {
    "duration": 4,
    "start_time": "2021-12-07T16:46:24.830Z"
   },
   {
    "duration": 19,
    "start_time": "2021-12-07T16:46:24.836Z"
   },
   {
    "duration": 19,
    "start_time": "2021-12-07T16:46:24.858Z"
   },
   {
    "duration": 27,
    "start_time": "2021-12-07T16:46:24.879Z"
   },
   {
    "duration": 742,
    "start_time": "2021-12-07T16:46:24.909Z"
   },
   {
    "duration": 1149,
    "start_time": "2021-12-07T16:46:25.653Z"
   },
   {
    "duration": 246,
    "start_time": "2021-12-07T16:46:26.803Z"
   },
   {
    "duration": 725,
    "start_time": "2021-12-07T16:46:27.051Z"
   },
   {
    "duration": 1282,
    "start_time": "2021-12-07T16:46:27.778Z"
   },
   {
    "duration": 20,
    "start_time": "2021-12-07T16:46:29.062Z"
   },
   {
    "duration": 2681,
    "start_time": "2021-12-07T16:46:29.084Z"
   },
   {
    "duration": 554,
    "start_time": "2021-12-07T16:46:31.767Z"
   },
   {
    "duration": 529,
    "start_time": "2021-12-07T16:46:32.323Z"
   },
   {
    "duration": 543,
    "start_time": "2021-12-07T16:46:32.854Z"
   },
   {
    "duration": 280,
    "start_time": "2021-12-07T16:46:33.407Z"
   },
   {
    "duration": 592,
    "start_time": "2021-12-07T16:46:33.689Z"
   },
   {
    "duration": 590,
    "start_time": "2021-12-07T16:46:34.283Z"
   },
   {
    "duration": 619,
    "start_time": "2021-12-07T16:46:34.876Z"
   },
   {
    "duration": 25,
    "start_time": "2021-12-07T16:46:35.497Z"
   },
   {
    "duration": 342,
    "start_time": "2021-12-07T16:46:35.524Z"
   },
   {
    "duration": 7,
    "start_time": "2021-12-07T16:46:35.876Z"
   },
   {
    "duration": 465,
    "start_time": "2021-12-07T16:47:34.962Z"
   },
   {
    "duration": 100,
    "start_time": "2021-12-07T16:53:45.298Z"
   },
   {
    "duration": 456,
    "start_time": "2021-12-07T16:54:02.339Z"
   },
   {
    "duration": 1246,
    "start_time": "2021-12-07T16:54:38.219Z"
   },
   {
    "duration": 558,
    "start_time": "2021-12-07T16:54:48.491Z"
   },
   {
    "duration": 477,
    "start_time": "2021-12-07T16:55:00.646Z"
   },
   {
    "duration": 500,
    "start_time": "2021-12-07T16:55:07.596Z"
   },
   {
    "duration": 486,
    "start_time": "2021-12-07T16:57:14.895Z"
   },
   {
    "duration": 473,
    "start_time": "2021-12-07T16:57:21.935Z"
   },
   {
    "duration": 1550,
    "start_time": "2021-12-15T15:51:03.091Z"
   },
   {
    "duration": 5,
    "start_time": "2021-12-15T15:52:39.179Z"
   },
   {
    "duration": 586,
    "start_time": "2021-12-15T15:55:52.066Z"
   },
   {
    "duration": 304,
    "start_time": "2021-12-15T15:56:27.214Z"
   },
   {
    "duration": 240,
    "start_time": "2021-12-15T15:58:26.472Z"
   },
   {
    "duration": 160,
    "start_time": "2021-12-15T16:00:08.280Z"
   },
   {
    "duration": 111,
    "start_time": "2021-12-15T16:00:43.613Z"
   },
   {
    "duration": 1865,
    "start_time": "2021-12-15T16:01:02.397Z"
   },
   {
    "duration": 114,
    "start_time": "2021-12-15T16:01:26.292Z"
   },
   {
    "duration": 72,
    "start_time": "2021-12-15T16:01:49.470Z"
   },
   {
    "duration": 253,
    "start_time": "2021-12-15T16:22:14.621Z"
   },
   {
    "duration": 240,
    "start_time": "2021-12-15T16:22:24.353Z"
   },
   {
    "duration": 152,
    "start_time": "2021-12-15T16:31:13.546Z"
   },
   {
    "duration": 72,
    "start_time": "2021-12-15T16:32:46.963Z"
   },
   {
    "duration": 76,
    "start_time": "2021-12-15T16:32:59.068Z"
   },
   {
    "duration": 73,
    "start_time": "2021-12-15T16:33:15.509Z"
   },
   {
    "duration": 78,
    "start_time": "2021-12-15T16:33:32.613Z"
   },
   {
    "duration": 6,
    "start_time": "2021-12-15T16:40:41.361Z"
   },
   {
    "duration": 274,
    "start_time": "2021-12-15T16:40:41.370Z"
   },
   {
    "duration": 255,
    "start_time": "2021-12-15T16:40:41.647Z"
   },
   {
    "duration": 173,
    "start_time": "2021-12-15T16:40:41.906Z"
   },
   {
    "duration": 81,
    "start_time": "2021-12-15T16:40:42.082Z"
   },
   {
    "duration": 73,
    "start_time": "2021-12-15T16:40:42.167Z"
   },
   {
    "duration": 9699,
    "start_time": "2021-12-15T16:40:45.815Z"
   },
   {
    "duration": 487,
    "start_time": "2021-12-15T16:42:05.258Z"
   },
   {
    "duration": 28,
    "start_time": "2021-12-15T16:42:11.809Z"
   },
   {
    "duration": 246,
    "start_time": "2021-12-15T16:43:27.571Z"
   },
   {
    "duration": 45,
    "start_time": "2021-12-15T16:43:57.228Z"
   },
   {
    "duration": 54,
    "start_time": "2021-12-15T16:46:40.126Z"
   },
   {
    "duration": 494,
    "start_time": "2021-12-15T16:47:23.984Z"
   },
   {
    "duration": 30,
    "start_time": "2021-12-15T16:48:45.139Z"
   },
   {
    "duration": 30,
    "start_time": "2021-12-15T16:48:56.219Z"
   },
   {
    "duration": 29,
    "start_time": "2021-12-15T16:49:15.187Z"
   },
   {
    "duration": 167,
    "start_time": "2021-12-15T17:01:47.508Z"
   },
   {
    "duration": 181,
    "start_time": "2021-12-15T17:19:42.841Z"
   },
   {
    "duration": 167,
    "start_time": "2021-12-15T17:19:59.457Z"
   },
   {
    "duration": 250,
    "start_time": "2021-12-15T17:20:17.066Z"
   },
   {
    "duration": 851,
    "start_time": "2021-12-15T17:22:35.411Z"
   },
   {
    "duration": 971,
    "start_time": "2021-12-15T17:23:05.342Z"
   },
   {
    "duration": 792,
    "start_time": "2021-12-15T17:23:14.470Z"
   },
   {
    "duration": 747,
    "start_time": "2021-12-15T17:24:11.855Z"
   },
   {
    "duration": 37,
    "start_time": "2021-12-15T17:24:33.752Z"
   },
   {
    "duration": 174,
    "start_time": "2021-12-15T17:27:27.177Z"
   },
   {
    "duration": 990,
    "start_time": "2021-12-15T17:28:03.309Z"
   },
   {
    "duration": 9248,
    "start_time": "2021-12-15T17:28:04.301Z"
   },
   {
    "duration": 149,
    "start_time": "2021-12-15T17:28:13.404Z"
   },
   {
    "duration": 147,
    "start_time": "2021-12-15T17:28:13.407Z"
   },
   {
    "duration": 147,
    "start_time": "2021-12-15T17:28:13.409Z"
   },
   {
    "duration": 145,
    "start_time": "2021-12-15T17:28:13.412Z"
   },
   {
    "duration": 143,
    "start_time": "2021-12-15T17:28:13.415Z"
   },
   {
    "duration": 141,
    "start_time": "2021-12-15T17:28:13.418Z"
   },
   {
    "duration": 141,
    "start_time": "2021-12-15T17:28:13.420Z"
   },
   {
    "duration": 139,
    "start_time": "2021-12-15T17:28:13.423Z"
   },
   {
    "duration": 138,
    "start_time": "2021-12-15T17:28:13.425Z"
   },
   {
    "duration": 130,
    "start_time": "2021-12-15T17:28:13.434Z"
   },
   {
    "duration": 129,
    "start_time": "2021-12-15T17:28:13.437Z"
   },
   {
    "duration": 127,
    "start_time": "2021-12-15T17:28:13.440Z"
   },
   {
    "duration": 126,
    "start_time": "2021-12-15T17:28:13.442Z"
   },
   {
    "duration": 125,
    "start_time": "2021-12-15T17:28:13.445Z"
   },
   {
    "duration": 123,
    "start_time": "2021-12-15T17:28:13.448Z"
   },
   {
    "duration": 122,
    "start_time": "2021-12-15T17:28:13.450Z"
   },
   {
    "duration": 120,
    "start_time": "2021-12-15T17:28:13.453Z"
   },
   {
    "duration": 119,
    "start_time": "2021-12-15T17:28:13.455Z"
   },
   {
    "duration": 118,
    "start_time": "2021-12-15T17:28:13.457Z"
   },
   {
    "duration": 88,
    "start_time": "2021-12-15T17:28:13.489Z"
   },
   {
    "duration": 87,
    "start_time": "2021-12-15T17:28:13.492Z"
   },
   {
    "duration": 82,
    "start_time": "2021-12-15T17:28:13.498Z"
   },
   {
    "duration": 81,
    "start_time": "2021-12-15T17:28:13.501Z"
   },
   {
    "duration": 80,
    "start_time": "2021-12-15T17:28:13.504Z"
   },
   {
    "duration": 71,
    "start_time": "2021-12-15T17:28:13.515Z"
   },
   {
    "duration": 69,
    "start_time": "2021-12-15T17:28:13.518Z"
   },
   {
    "duration": 65,
    "start_time": "2021-12-15T17:28:13.524Z"
   },
   {
    "duration": 53,
    "start_time": "2021-12-15T17:28:13.538Z"
   },
   {
    "duration": 52,
    "start_time": "2021-12-15T17:28:13.541Z"
   },
   {
    "duration": 51,
    "start_time": "2021-12-15T17:28:13.544Z"
   },
   {
    "duration": 49,
    "start_time": "2021-12-15T17:28:13.547Z"
   },
   {
    "duration": 48,
    "start_time": "2021-12-15T17:28:13.550Z"
   },
   {
    "duration": 1503,
    "start_time": "2021-12-15T17:28:36.816Z"
   },
   {
    "duration": 272,
    "start_time": "2021-12-15T17:28:38.322Z"
   },
   {
    "duration": 232,
    "start_time": "2021-12-15T17:28:38.597Z"
   },
   {
    "duration": 160,
    "start_time": "2021-12-15T17:28:38.832Z"
   },
   {
    "duration": 79,
    "start_time": "2021-12-15T17:28:38.994Z"
   },
   {
    "duration": 96,
    "start_time": "2021-12-15T17:28:39.075Z"
   },
   {
    "duration": 41,
    "start_time": "2021-12-15T17:28:39.174Z"
   },
   {
    "duration": 197,
    "start_time": "2021-12-15T17:28:39.218Z"
   },
   {
    "duration": 725,
    "start_time": "2021-12-15T17:28:42.410Z"
   },
   {
    "duration": 169,
    "start_time": "2021-12-15T17:28:54.810Z"
   },
   {
    "duration": 166,
    "start_time": "2021-12-15T17:37:36.794Z"
   },
   {
    "duration": 170,
    "start_time": "2021-12-15T17:38:00.440Z"
   },
   {
    "duration": 156,
    "start_time": "2021-12-15T17:39:46.587Z"
   },
   {
    "duration": 1445,
    "start_time": "2021-12-15T17:40:06.771Z"
   },
   {
    "duration": 166,
    "start_time": "2021-12-15T17:40:19.716Z"
   },
   {
    "duration": 175,
    "start_time": "2021-12-15T17:42:07.942Z"
   },
   {
    "duration": 150,
    "start_time": "2021-12-15T17:42:28.678Z"
   },
   {
    "duration": 1534,
    "start_time": "2021-12-15T17:42:41.415Z"
   },
   {
    "duration": 140,
    "start_time": "2021-12-15T17:42:55.391Z"
   },
   {
    "duration": 144,
    "start_time": "2021-12-15T17:42:59.727Z"
   },
   {
    "duration": 171,
    "start_time": "2021-12-15T17:43:05.463Z"
   },
   {
    "duration": 298,
    "start_time": "2021-12-15T17:45:27.140Z"
   },
   {
    "duration": 264,
    "start_time": "2021-12-15T17:45:53.795Z"
   },
   {
    "duration": 266,
    "start_time": "2021-12-15T17:46:13.227Z"
   },
   {
    "duration": 303,
    "start_time": "2021-12-15T17:47:05.274Z"
   },
   {
    "duration": 658,
    "start_time": "2021-12-15T17:47:35.816Z"
   },
   {
    "duration": 222,
    "start_time": "2021-12-15T17:47:49.262Z"
   },
   {
    "duration": 258,
    "start_time": "2021-12-15T17:48:16.463Z"
   },
   {
    "duration": 225,
    "start_time": "2021-12-15T17:48:29.920Z"
   },
   {
    "duration": 249,
    "start_time": "2021-12-15T17:48:59.928Z"
   },
   {
    "duration": 258,
    "start_time": "2021-12-15T17:56:39.380Z"
   },
   {
    "duration": 13300,
    "start_time": "2021-12-15T17:58:50.550Z"
   },
   {
    "duration": 132,
    "start_time": "2021-12-15T17:59:27.863Z"
   },
   {
    "duration": 165,
    "start_time": "2021-12-15T18:02:15.668Z"
   },
   {
    "duration": 133,
    "start_time": "2021-12-15T18:02:22.476Z"
   },
   {
    "duration": 256,
    "start_time": "2021-12-15T18:02:24.755Z"
   },
   {
    "duration": 169,
    "start_time": "2021-12-15T18:10:32.512Z"
   },
   {
    "duration": 374,
    "start_time": "2021-12-15T18:10:41.488Z"
   },
   {
    "duration": 474,
    "start_time": "2021-12-15T18:11:03.393Z"
   },
   {
    "duration": 613,
    "start_time": "2021-12-15T18:11:18.785Z"
   },
   {
    "duration": 651,
    "start_time": "2021-12-15T18:11:28.337Z"
   },
   {
    "duration": 153,
    "start_time": "2021-12-15T18:13:42.453Z"
   },
   {
    "duration": 92,
    "start_time": "2021-12-15T18:13:51.557Z"
   },
   {
    "duration": 430,
    "start_time": "2021-12-15T18:15:59.386Z"
   },
   {
    "duration": 96,
    "start_time": "2021-12-15T18:16:25.145Z"
   },
   {
    "duration": 108,
    "start_time": "2021-12-15T18:20:06.566Z"
   },
   {
    "duration": 158,
    "start_time": "2021-12-15T18:20:10.206Z"
   },
   {
    "duration": 460,
    "start_time": "2021-12-15T18:21:44.392Z"
   },
   {
    "duration": 473,
    "start_time": "2021-12-15T18:21:52.897Z"
   },
   {
    "duration": 157,
    "start_time": "2021-12-15T18:22:07.352Z"
   },
   {
    "duration": 206,
    "start_time": "2021-12-15T18:22:37.153Z"
   },
   {
    "duration": 193,
    "start_time": "2021-12-15T18:22:41.217Z"
   },
   {
    "duration": 187,
    "start_time": "2021-12-15T18:23:54.995Z"
   },
   {
    "duration": 96,
    "start_time": "2021-12-15T18:24:40.253Z"
   },
   {
    "duration": 401,
    "start_time": "2021-12-15T18:26:49.592Z"
   },
   {
    "duration": 395,
    "start_time": "2021-12-15T18:27:13.584Z"
   },
   {
    "duration": 52,
    "start_time": "2021-12-15T18:28:36.018Z"
   },
   {
    "duration": 59,
    "start_time": "2021-12-15T18:29:21.043Z"
   },
   {
    "duration": 49,
    "start_time": "2021-12-15T18:30:01.268Z"
   },
   {
    "duration": 401,
    "start_time": "2021-12-15T18:34:17.067Z"
   },
   {
    "duration": 394,
    "start_time": "2021-12-15T18:34:33.834Z"
   },
   {
    "duration": 389,
    "start_time": "2021-12-15T18:34:45.243Z"
   },
   {
    "duration": 60,
    "start_time": "2021-12-15T18:34:56.002Z"
   },
   {
    "duration": 93,
    "start_time": "2021-12-15T18:35:43.573Z"
   },
   {
    "duration": 123,
    "start_time": "2021-12-15T18:37:55.663Z"
   },
   {
    "duration": 125,
    "start_time": "2021-12-15T18:41:31.845Z"
   },
   {
    "duration": 125,
    "start_time": "2021-12-15T18:43:36.545Z"
   },
   {
    "duration": 275,
    "start_time": "2021-12-15T18:45:01.745Z"
   },
   {
    "duration": 265,
    "start_time": "2021-12-15T18:45:09.922Z"
   },
   {
    "duration": 126,
    "start_time": "2021-12-15T18:47:22.126Z"
   },
   {
    "duration": 167,
    "start_time": "2021-12-15T18:48:21.352Z"
   },
   {
    "duration": 7,
    "start_time": "2021-12-15T18:53:47.655Z"
   },
   {
    "duration": 10,
    "start_time": "2021-12-15T18:53:56.543Z"
   },
   {
    "duration": 12,
    "start_time": "2021-12-15T19:01:08.507Z"
   },
   {
    "duration": 12,
    "start_time": "2021-12-15T19:02:42.708Z"
   },
   {
    "duration": 371,
    "start_time": "2021-12-15T19:10:03.472Z"
   },
   {
    "duration": 5,
    "start_time": "2021-12-15T19:10:58.984Z"
   },
   {
    "duration": 734,
    "start_time": "2021-12-15T19:11:05.400Z"
   },
   {
    "duration": 607,
    "start_time": "2021-12-15T19:11:37.297Z"
   },
   {
    "duration": 453,
    "start_time": "2021-12-15T19:11:43.257Z"
   },
   {
    "duration": 13,
    "start_time": "2021-12-15T19:12:58.835Z"
   },
   {
    "duration": 5,
    "start_time": "2021-12-15T19:13:09.459Z"
   },
   {
    "duration": 13,
    "start_time": "2021-12-15T19:13:42.531Z"
   },
   {
    "duration": 15,
    "start_time": "2021-12-15T19:13:47.364Z"
   },
   {
    "duration": 14,
    "start_time": "2021-12-15T19:14:46.957Z"
   },
   {
    "duration": 53,
    "start_time": "2021-12-15T19:15:21.670Z"
   },
   {
    "duration": 23,
    "start_time": "2021-12-15T19:16:41.360Z"
   },
   {
    "duration": 21,
    "start_time": "2021-12-15T19:18:23.198Z"
   },
   {
    "duration": 22,
    "start_time": "2021-12-15T19:18:27.581Z"
   },
   {
    "duration": 20,
    "start_time": "2021-12-15T19:18:38.356Z"
   },
   {
    "duration": 86,
    "start_time": "2021-12-15T19:19:10.932Z"
   },
   {
    "duration": 20,
    "start_time": "2021-12-15T19:19:31.493Z"
   },
   {
    "duration": 134,
    "start_time": "2021-12-15T19:21:56.232Z"
   },
   {
    "duration": 19,
    "start_time": "2021-12-15T19:22:26.313Z"
   },
   {
    "duration": 1652,
    "start_time": "2021-12-15T19:23:07.361Z"
   },
   {
    "duration": 305,
    "start_time": "2021-12-15T19:23:09.016Z"
   },
   {
    "duration": 302,
    "start_time": "2021-12-15T19:23:09.325Z"
   },
   {
    "duration": 170,
    "start_time": "2021-12-15T19:23:09.631Z"
   },
   {
    "duration": 75,
    "start_time": "2021-12-15T19:23:09.803Z"
   },
   {
    "duration": 116,
    "start_time": "2021-12-15T19:23:09.881Z"
   },
   {
    "duration": 63,
    "start_time": "2021-12-15T19:23:10.000Z"
   },
   {
    "duration": 224,
    "start_time": "2021-12-15T19:23:10.068Z"
   },
   {
    "duration": 286,
    "start_time": "2021-12-15T19:23:10.296Z"
   },
   {
    "duration": 168,
    "start_time": "2021-12-15T19:23:10.585Z"
   },
   {
    "duration": 209,
    "start_time": "2021-12-15T19:23:10.756Z"
   },
   {
    "duration": 164,
    "start_time": "2021-12-15T19:23:10.968Z"
   },
   {
    "duration": 37,
    "start_time": "2021-12-15T19:23:11.135Z"
   },
   {
    "duration": 857,
    "start_time": "2021-12-15T19:23:11.175Z"
   },
   {
    "duration": 203,
    "start_time": "2021-12-15T19:23:11.834Z"
   },
   {
    "duration": 197,
    "start_time": "2021-12-15T19:23:11.842Z"
   },
   {
    "duration": 191,
    "start_time": "2021-12-15T19:23:11.849Z"
   },
   {
    "duration": 187,
    "start_time": "2021-12-15T19:23:11.855Z"
   },
   {
    "duration": 185,
    "start_time": "2021-12-15T19:23:11.859Z"
   },
   {
    "duration": 183,
    "start_time": "2021-12-15T19:23:11.862Z"
   },
   {
    "duration": 182,
    "start_time": "2021-12-15T19:23:11.865Z"
   },
   {
    "duration": 181,
    "start_time": "2021-12-15T19:23:11.868Z"
   },
   {
    "duration": 179,
    "start_time": "2021-12-15T19:23:11.871Z"
   },
   {
    "duration": 178,
    "start_time": "2021-12-15T19:23:11.874Z"
   },
   {
    "duration": 176,
    "start_time": "2021-12-15T19:23:11.877Z"
   },
   {
    "duration": 171,
    "start_time": "2021-12-15T19:23:11.884Z"
   },
   {
    "duration": 168,
    "start_time": "2021-12-15T19:23:11.888Z"
   },
   {
    "duration": 167,
    "start_time": "2021-12-15T19:23:11.891Z"
   },
   {
    "duration": 166,
    "start_time": "2021-12-15T19:23:11.894Z"
   },
   {
    "duration": 164,
    "start_time": "2021-12-15T19:23:11.897Z"
   },
   {
    "duration": 163,
    "start_time": "2021-12-15T19:23:11.900Z"
   },
   {
    "duration": 163,
    "start_time": "2021-12-15T19:23:11.902Z"
   },
   {
    "duration": 161,
    "start_time": "2021-12-15T19:23:11.905Z"
   },
   {
    "duration": 161,
    "start_time": "2021-12-15T19:23:11.907Z"
   },
   {
    "duration": 160,
    "start_time": "2021-12-15T19:23:11.910Z"
   },
   {
    "duration": 159,
    "start_time": "2021-12-15T19:23:11.912Z"
   },
   {
    "duration": 153,
    "start_time": "2021-12-15T19:23:11.920Z"
   },
   {
    "duration": 151,
    "start_time": "2021-12-15T19:23:11.923Z"
   },
   {
    "duration": 150,
    "start_time": "2021-12-15T19:23:11.926Z"
   },
   {
    "duration": 149,
    "start_time": "2021-12-15T19:23:11.928Z"
   },
   {
    "duration": 148,
    "start_time": "2021-12-15T19:23:11.931Z"
   },
   {
    "duration": 148,
    "start_time": "2021-12-15T19:23:11.933Z"
   },
   {
    "duration": 146,
    "start_time": "2021-12-15T19:23:11.936Z"
   },
   {
    "duration": 112,
    "start_time": "2021-12-15T19:23:11.972Z"
   },
   {
    "duration": 106,
    "start_time": "2021-12-15T19:23:11.980Z"
   },
   {
    "duration": 100,
    "start_time": "2021-12-15T19:23:11.987Z"
   },
   {
    "duration": 129,
    "start_time": "2021-12-15T19:23:55.230Z"
   },
   {
    "duration": 20,
    "start_time": "2021-12-15T19:24:04.588Z"
   },
   {
    "duration": 22,
    "start_time": "2021-12-15T19:24:20.779Z"
   },
   {
    "duration": 18,
    "start_time": "2021-12-15T19:24:24.524Z"
   },
   {
    "duration": 31,
    "start_time": "2021-12-15T19:24:32.036Z"
   },
   {
    "duration": 120,
    "start_time": "2021-12-15T19:25:13.022Z"
   },
   {
    "duration": 3,
    "start_time": "2021-12-15T19:52:07.428Z"
   },
   {
    "duration": 7,
    "start_time": "2021-12-15T19:56:56.020Z"
   },
   {
    "duration": 28,
    "start_time": "2021-12-15T19:58:26.719Z"
   },
   {
    "duration": 508,
    "start_time": "2021-12-15T19:58:52.216Z"
   },
   {
    "duration": 375,
    "start_time": "2021-12-15T19:58:58.040Z"
   },
   {
    "duration": 371,
    "start_time": "2021-12-15T19:59:08.536Z"
   },
   {
    "duration": 28,
    "start_time": "2021-12-15T19:59:22.288Z"
   },
   {
    "duration": 9,
    "start_time": "2021-12-15T20:00:30.259Z"
   },
   {
    "duration": 10,
    "start_time": "2021-12-15T20:00:38.908Z"
   },
   {
    "duration": 364,
    "start_time": "2021-12-15T20:01:09.403Z"
   },
   {
    "duration": 387,
    "start_time": "2021-12-15T20:02:06.780Z"
   },
   {
    "duration": 15,
    "start_time": "2021-12-15T20:02:29.789Z"
   },
   {
    "duration": 14,
    "start_time": "2021-12-15T20:04:17.424Z"
   },
   {
    "duration": 12,
    "start_time": "2021-12-15T20:04:31.631Z"
   },
   {
    "duration": 15,
    "start_time": "2021-12-15T20:04:43.487Z"
   },
   {
    "duration": 18,
    "start_time": "2021-12-15T20:06:23.835Z"
   },
   {
    "duration": 610,
    "start_time": "2021-12-15T20:12:43.405Z"
   },
   {
    "duration": 406,
    "start_time": "2021-12-15T20:45:01.810Z"
   },
   {
    "duration": 748,
    "start_time": "2021-12-15T20:45:14.943Z"
   },
   {
    "duration": 362,
    "start_time": "2021-12-15T20:45:31.096Z"
   },
   {
    "duration": 357,
    "start_time": "2021-12-15T20:47:10.762Z"
   },
   {
    "duration": 409,
    "start_time": "2021-12-15T20:47:19.754Z"
   },
   {
    "duration": 199,
    "start_time": "2021-12-15T20:58:47.249Z"
   },
   {
    "duration": 644,
    "start_time": "2021-12-15T20:58:52.275Z"
   },
   {
    "duration": 17232,
    "start_time": "2021-12-15T20:59:15.564Z"
   },
   {
    "duration": 3280,
    "start_time": "2021-12-15T20:59:39.637Z"
   },
   {
    "duration": 388,
    "start_time": "2021-12-15T21:00:21.567Z"
   },
   {
    "duration": 1165,
    "start_time": "2021-12-15T21:00:31.573Z"
   },
   {
    "duration": 388,
    "start_time": "2021-12-15T21:00:57.662Z"
   },
   {
    "duration": 314,
    "start_time": "2021-12-15T21:02:38.721Z"
   },
   {
    "duration": 442,
    "start_time": "2021-12-15T21:03:27.881Z"
   },
   {
    "duration": 471,
    "start_time": "2021-12-15T21:03:50.003Z"
   },
   {
    "duration": 423,
    "start_time": "2021-12-15T21:04:11.076Z"
   },
   {
    "duration": 411,
    "start_time": "2021-12-15T21:05:10.293Z"
   },
   {
    "duration": 729,
    "start_time": "2021-12-15T21:05:22.485Z"
   },
   {
    "duration": 740,
    "start_time": "2021-12-15T21:07:05.488Z"
   },
   {
    "duration": 804,
    "start_time": "2021-12-15T21:07:11.424Z"
   },
   {
    "duration": 856,
    "start_time": "2021-12-15T21:07:17.608Z"
   },
   {
    "duration": 571,
    "start_time": "2021-12-15T21:08:19.472Z"
   },
   {
    "duration": 1328,
    "start_time": "2021-12-15T21:08:48.978Z"
   },
   {
    "duration": 826,
    "start_time": "2021-12-15T21:08:54.411Z"
   },
   {
    "duration": 872,
    "start_time": "2021-12-15T21:09:27.987Z"
   },
   {
    "duration": 575,
    "start_time": "2021-12-15T21:10:26.108Z"
   },
   {
    "duration": 1247,
    "start_time": "2021-12-15T21:10:34.852Z"
   },
   {
    "duration": 1042,
    "start_time": "2021-12-15T21:10:39.324Z"
   },
   {
    "duration": 1281,
    "start_time": "2021-12-15T21:10:42.413Z"
   },
   {
    "duration": 948,
    "start_time": "2021-12-15T21:10:48.261Z"
   },
   {
    "duration": 1272,
    "start_time": "2021-12-15T21:10:55.589Z"
   },
   {
    "duration": 895,
    "start_time": "2021-12-15T21:11:01.390Z"
   },
   {
    "duration": 588,
    "start_time": "2021-12-15T21:11:54.485Z"
   },
   {
    "duration": 1293,
    "start_time": "2021-12-15T21:12:56.967Z"
   },
   {
    "duration": 1110,
    "start_time": "2021-12-15T21:13:44.929Z"
   },
   {
    "duration": 959,
    "start_time": "2021-12-15T21:14:31.234Z"
   },
   {
    "duration": 1093,
    "start_time": "2021-12-15T21:14:45.435Z"
   },
   {
    "duration": 953,
    "start_time": "2021-12-15T21:15:17.539Z"
   },
   {
    "duration": 575,
    "start_time": "2021-12-15T21:15:37.731Z"
   },
   {
    "duration": 575,
    "start_time": "2021-12-15T21:15:59.169Z"
   },
   {
    "duration": 576,
    "start_time": "2021-12-15T21:16:18.301Z"
   },
   {
    "duration": 591,
    "start_time": "2021-12-15T21:17:00.750Z"
   },
   {
    "duration": 587,
    "start_time": "2021-12-15T21:18:02.391Z"
   },
   {
    "duration": 685,
    "start_time": "2021-12-15T21:19:10.553Z"
   },
   {
    "duration": 728,
    "start_time": "2021-12-15T21:19:22.809Z"
   },
   {
    "duration": 689,
    "start_time": "2021-12-15T21:20:17.474Z"
   },
   {
    "duration": 584,
    "start_time": "2021-12-15T21:20:33.731Z"
   },
   {
    "duration": 584,
    "start_time": "2021-12-15T21:21:08.027Z"
   },
   {
    "duration": 590,
    "start_time": "2021-12-15T21:21:37.860Z"
   },
   {
    "duration": 1570,
    "start_time": "2021-12-15T21:27:17.381Z"
   },
   {
    "duration": 570,
    "start_time": "2021-12-15T21:27:37.494Z"
   },
   {
    "duration": 583,
    "start_time": "2021-12-15T21:27:53.645Z"
   },
   {
    "duration": 577,
    "start_time": "2021-12-15T21:28:38.206Z"
   },
   {
    "duration": 591,
    "start_time": "2021-12-15T21:28:54.999Z"
   },
   {
    "duration": 952,
    "start_time": "2021-12-15T21:29:03.439Z"
   },
   {
    "duration": 1091,
    "start_time": "2021-12-15T21:29:16.192Z"
   },
   {
    "duration": 578,
    "start_time": "2021-12-15T21:29:24.897Z"
   },
   {
    "duration": 1208,
    "start_time": "2021-12-15T21:29:50.897Z"
   },
   {
    "duration": 1108,
    "start_time": "2021-12-15T21:30:14.344Z"
   },
   {
    "duration": 76,
    "start_time": "2021-12-16T07:20:55.608Z"
   },
   {
    "duration": 268,
    "start_time": "2021-12-16T07:20:59.776Z"
   },
   {
    "duration": 1080,
    "start_time": "2021-12-16T07:21:11.152Z"
   },
   {
    "duration": 191,
    "start_time": "2021-12-16T07:21:12.233Z"
   },
   {
    "duration": 232,
    "start_time": "2021-12-16T07:21:12.426Z"
   },
   {
    "duration": 164,
    "start_time": "2021-12-16T07:21:12.661Z"
   },
   {
    "duration": 62,
    "start_time": "2021-12-16T07:21:12.828Z"
   },
   {
    "duration": 74,
    "start_time": "2021-12-16T07:21:12.892Z"
   },
   {
    "duration": 41,
    "start_time": "2021-12-16T07:21:12.968Z"
   },
   {
    "duration": 190,
    "start_time": "2021-12-16T07:21:13.012Z"
   },
   {
    "duration": 224,
    "start_time": "2021-12-16T07:21:13.205Z"
   },
   {
    "duration": 134,
    "start_time": "2021-12-16T07:21:13.431Z"
   },
   {
    "duration": 146,
    "start_time": "2021-12-16T07:21:13.567Z"
   },
   {
    "duration": 127,
    "start_time": "2021-12-16T07:21:13.715Z"
   },
   {
    "duration": 92,
    "start_time": "2021-12-16T07:21:13.845Z"
   },
   {
    "duration": 3040,
    "start_time": "2021-12-16T07:21:15.651Z"
   },
   {
    "duration": 213,
    "start_time": "2021-12-16T07:22:18.564Z"
   },
   {
    "duration": 717,
    "start_time": "2021-12-16T07:29:31.726Z"
   },
   {
    "duration": 382,
    "start_time": "2021-12-16T07:42:24.321Z"
   },
   {
    "duration": 257,
    "start_time": "2021-12-16T07:43:52.859Z"
   },
   {
    "duration": 5,
    "start_time": "2021-12-16T07:51:35.898Z"
   },
   {
    "duration": 272,
    "start_time": "2021-12-16T07:51:35.905Z"
   },
   {
    "duration": 249,
    "start_time": "2021-12-16T07:51:36.180Z"
   },
   {
    "duration": 115,
    "start_time": "2021-12-16T07:51:36.431Z"
   },
   {
    "duration": 49,
    "start_time": "2021-12-16T07:51:36.548Z"
   },
   {
    "duration": 54,
    "start_time": "2021-12-16T07:51:36.599Z"
   },
   {
    "duration": 37,
    "start_time": "2021-12-16T07:51:36.655Z"
   },
   {
    "duration": 141,
    "start_time": "2021-12-16T07:51:36.695Z"
   },
   {
    "duration": 166,
    "start_time": "2021-12-16T07:51:36.838Z"
   },
   {
    "duration": 100,
    "start_time": "2021-12-16T07:51:37.005Z"
   },
   {
    "duration": 107,
    "start_time": "2021-12-16T07:51:37.107Z"
   },
   {
    "duration": 92,
    "start_time": "2021-12-16T07:51:37.215Z"
   },
   {
    "duration": 48,
    "start_time": "2021-12-16T07:51:37.309Z"
   },
   {
    "duration": 608,
    "start_time": "2021-12-16T07:51:37.359Z"
   },
   {
    "duration": 692,
    "start_time": "2021-12-16T08:01:01.147Z"
   },
   {
    "duration": 746,
    "start_time": "2021-12-16T08:01:19.932Z"
   },
   {
    "duration": 791,
    "start_time": "2021-12-16T08:15:06.416Z"
   },
   {
    "duration": 585,
    "start_time": "2021-12-16T08:15:40.455Z"
   },
   {
    "duration": 581,
    "start_time": "2021-12-16T08:16:03.394Z"
   },
   {
    "duration": 980,
    "start_time": "2021-12-16T08:18:37.492Z"
   },
   {
    "duration": 934,
    "start_time": "2021-12-16T08:29:53.204Z"
   },
   {
    "duration": 16,
    "start_time": "2021-12-16T09:58:01.473Z"
   },
   {
    "duration": 18,
    "start_time": "2021-12-16T09:59:07.209Z"
   },
   {
    "duration": 12,
    "start_time": "2021-12-16T09:59:20.168Z"
   },
   {
    "duration": 11,
    "start_time": "2021-12-16T09:59:26.857Z"
   },
   {
    "duration": 10,
    "start_time": "2021-12-16T10:02:54.348Z"
   },
   {
    "duration": 8,
    "start_time": "2021-12-16T10:17:06.451Z"
   },
   {
    "duration": 20,
    "start_time": "2021-12-16T10:19:34.781Z"
   },
   {
    "duration": 16,
    "start_time": "2021-12-16T10:20:17.016Z"
   },
   {
    "duration": 261,
    "start_time": "2021-12-16T10:20:49.753Z"
   },
   {
    "duration": 19,
    "start_time": "2021-12-16T10:21:15.179Z"
   },
   {
    "duration": 23,
    "start_time": "2021-12-16T10:21:29.561Z"
   },
   {
    "duration": 12,
    "start_time": "2021-12-16T10:31:44.983Z"
   },
   {
    "duration": 14,
    "start_time": "2021-12-16T10:32:42.370Z"
   },
   {
    "duration": 248,
    "start_time": "2021-12-16T10:36:42.752Z"
   },
   {
    "duration": 15,
    "start_time": "2021-12-16T10:37:20.634Z"
   },
   {
    "duration": 255,
    "start_time": "2021-12-16T10:37:58.275Z"
   },
   {
    "duration": 311,
    "start_time": "2021-12-16T10:38:07.642Z"
   },
   {
    "duration": 16,
    "start_time": "2021-12-16T10:38:43.716Z"
   },
   {
    "duration": 13,
    "start_time": "2021-12-16T10:40:39.678Z"
   },
   {
    "duration": 17,
    "start_time": "2021-12-16T10:48:25.037Z"
   },
   {
    "duration": 11,
    "start_time": "2021-12-16T10:51:51.527Z"
   },
   {
    "duration": 10,
    "start_time": "2021-12-16T11:00:05.890Z"
   },
   {
    "duration": 12,
    "start_time": "2021-12-16T11:00:13.642Z"
   },
   {
    "duration": 14,
    "start_time": "2021-12-16T11:00:24.410Z"
   },
   {
    "duration": 15,
    "start_time": "2021-12-16T11:00:27.482Z"
   },
   {
    "duration": 15,
    "start_time": "2021-12-16T11:00:31.331Z"
   },
   {
    "duration": 1392,
    "start_time": "2021-12-16T11:14:37.295Z"
   },
   {
    "duration": 273,
    "start_time": "2021-12-16T11:14:38.689Z"
   },
   {
    "duration": 242,
    "start_time": "2021-12-16T11:14:38.966Z"
   },
   {
    "duration": 159,
    "start_time": "2021-12-16T11:14:39.210Z"
   },
   {
    "duration": 52,
    "start_time": "2021-12-16T11:14:39.370Z"
   },
   {
    "duration": 53,
    "start_time": "2021-12-16T11:14:39.424Z"
   },
   {
    "duration": 29,
    "start_time": "2021-12-16T11:14:39.479Z"
   },
   {
    "duration": 134,
    "start_time": "2021-12-16T11:14:39.510Z"
   },
   {
    "duration": 168,
    "start_time": "2021-12-16T11:14:39.646Z"
   },
   {
    "duration": 104,
    "start_time": "2021-12-16T11:14:39.816Z"
   },
   {
    "duration": 115,
    "start_time": "2021-12-16T11:14:39.922Z"
   },
   {
    "duration": 79,
    "start_time": "2021-12-16T11:14:40.038Z"
   },
   {
    "duration": 46,
    "start_time": "2021-12-16T11:14:40.119Z"
   },
   {
    "duration": 610,
    "start_time": "2021-12-16T11:14:40.167Z"
   },
   {
    "duration": 577,
    "start_time": "2021-12-16T11:14:40.779Z"
   },
   {
    "duration": 776,
    "start_time": "2021-12-16T11:14:41.359Z"
   },
   {
    "duration": 20,
    "start_time": "2021-12-16T11:14:42.137Z"
   },
   {
    "duration": 29,
    "start_time": "2021-12-16T11:14:42.159Z"
   },
   {
    "duration": 16,
    "start_time": "2021-12-16T11:14:42.190Z"
   },
   {
    "duration": 90,
    "start_time": "2021-12-16T11:14:42.207Z"
   },
   {
    "duration": 1096,
    "start_time": "2021-12-16T13:58:49.177Z"
   },
   {
    "duration": 213,
    "start_time": "2021-12-16T13:58:50.275Z"
   },
   {
    "duration": 170,
    "start_time": "2021-12-16T13:58:50.490Z"
   },
   {
    "duration": 115,
    "start_time": "2021-12-16T13:58:50.662Z"
   },
   {
    "duration": 47,
    "start_time": "2021-12-16T13:58:50.779Z"
   },
   {
    "duration": 68,
    "start_time": "2021-12-16T13:58:50.827Z"
   },
   {
    "duration": 33,
    "start_time": "2021-12-16T13:58:50.896Z"
   },
   {
    "duration": 144,
    "start_time": "2021-12-16T13:58:50.931Z"
   },
   {
    "duration": 194,
    "start_time": "2021-12-16T13:58:51.078Z"
   },
   {
    "duration": 119,
    "start_time": "2021-12-16T13:58:51.274Z"
   },
   {
    "duration": 129,
    "start_time": "2021-12-16T13:58:51.395Z"
   },
   {
    "duration": 87,
    "start_time": "2021-12-16T13:58:51.526Z"
   },
   {
    "duration": 69,
    "start_time": "2021-12-16T13:58:51.615Z"
   },
   {
    "duration": 663,
    "start_time": "2021-12-16T13:58:51.686Z"
   },
   {
    "duration": 665,
    "start_time": "2021-12-16T13:58:52.351Z"
   },
   {
    "duration": 662,
    "start_time": "2021-12-16T13:58:53.018Z"
   },
   {
    "duration": 17,
    "start_time": "2021-12-16T13:58:53.681Z"
   },
   {
    "duration": 10,
    "start_time": "2021-12-16T13:58:53.699Z"
   },
   {
    "duration": 41,
    "start_time": "2021-12-16T13:58:53.711Z"
   },
   {
    "duration": 11,
    "start_time": "2021-12-16T13:58:53.753Z"
   },
   {
    "duration": 99,
    "start_time": "2021-12-16T14:05:36.217Z"
   },
   {
    "duration": 93,
    "start_time": "2021-12-16T14:05:54.597Z"
   },
   {
    "duration": 4,
    "start_time": "2021-12-16T14:05:57.764Z"
   },
   {
    "duration": 3,
    "start_time": "2021-12-16T14:06:02.020Z"
   },
   {
    "duration": 8,
    "start_time": "2021-12-16T14:06:40.558Z"
   },
   {
    "duration": 6,
    "start_time": "2021-12-16T14:15:14.102Z"
   },
   {
    "duration": 795,
    "start_time": "2021-12-16T14:58:15.041Z"
   },
   {
    "duration": 1119,
    "start_time": "2021-12-16T14:58:26.595Z"
   },
   {
    "duration": 202,
    "start_time": "2021-12-16T14:58:27.716Z"
   },
   {
    "duration": 178,
    "start_time": "2021-12-16T14:58:27.920Z"
   },
   {
    "duration": 118,
    "start_time": "2021-12-16T14:58:28.100Z"
   },
   {
    "duration": 45,
    "start_time": "2021-12-16T14:58:28.220Z"
   },
   {
    "duration": 52,
    "start_time": "2021-12-16T14:58:28.266Z"
   },
   {
    "duration": 32,
    "start_time": "2021-12-16T14:58:30.251Z"
   },
   {
    "duration": 355,
    "start_time": "2021-12-16T15:10:32.743Z"
   },
   {
    "duration": 138,
    "start_time": "2021-12-16T15:11:00.190Z"
   },
   {
    "duration": 185,
    "start_time": "2021-12-16T15:11:02.989Z"
   },
   {
    "duration": 207,
    "start_time": "2021-12-16T15:15:48.597Z"
   },
   {
    "duration": 102,
    "start_time": "2021-12-16T15:17:10.222Z"
   },
   {
    "duration": 113,
    "start_time": "2021-12-16T15:18:19.137Z"
   },
   {
    "duration": 57,
    "start_time": "2021-12-16T15:19:23.962Z"
   },
   {
    "duration": 59,
    "start_time": "2021-12-16T15:19:28.881Z"
   },
   {
    "duration": 63,
    "start_time": "2021-12-16T15:19:33.242Z"
   },
   {
    "duration": 853,
    "start_time": "2021-12-16T15:19:50.170Z"
   },
   {
    "duration": 199,
    "start_time": "2021-12-16T15:20:13.539Z"
   },
   {
    "duration": 1308,
    "start_time": "2021-12-16T15:20:16.452Z"
   },
   {
    "duration": 720,
    "start_time": "2021-12-16T15:20:32.812Z"
   },
   {
    "duration": 204,
    "start_time": "2021-12-16T15:25:25.011Z"
   },
   {
    "duration": 112,
    "start_time": "2021-12-16T15:25:29.176Z"
   },
   {
    "duration": 120,
    "start_time": "2021-12-16T15:25:31.860Z"
   },
   {
    "duration": 136,
    "start_time": "2021-12-16T15:25:43.003Z"
   },
   {
    "duration": 189,
    "start_time": "2021-12-16T15:25:50.468Z"
   },
   {
    "duration": 5,
    "start_time": "2021-12-16T15:25:57.875Z"
   },
   {
    "duration": 4,
    "start_time": "2021-12-16T15:26:02.699Z"
   },
   {
    "duration": 89,
    "start_time": "2021-12-16T15:26:18.037Z"
   },
   {
    "duration": 12,
    "start_time": "2021-12-16T15:26:20.499Z"
   },
   {
    "duration": 4,
    "start_time": "2021-12-16T15:30:02.902Z"
   },
   {
    "duration": 205,
    "start_time": "2021-12-16T15:30:02.907Z"
   },
   {
    "duration": 183,
    "start_time": "2021-12-16T15:30:03.114Z"
   },
   {
    "duration": 113,
    "start_time": "2021-12-16T15:30:03.299Z"
   },
   {
    "duration": 47,
    "start_time": "2021-12-16T15:30:03.414Z"
   },
   {
    "duration": 53,
    "start_time": "2021-12-16T15:30:03.462Z"
   },
   {
    "duration": 26,
    "start_time": "2021-12-16T15:30:03.517Z"
   },
   {
    "duration": 146,
    "start_time": "2021-12-16T15:30:03.546Z"
   },
   {
    "duration": 197,
    "start_time": "2021-12-16T15:30:03.694Z"
   },
   {
    "duration": 99,
    "start_time": "2021-12-16T15:30:03.893Z"
   },
   {
    "duration": 123,
    "start_time": "2021-12-16T15:30:03.994Z"
   },
   {
    "duration": 180,
    "start_time": "2021-12-16T15:30:04.119Z"
   },
   {
    "duration": 4,
    "start_time": "2021-12-16T15:30:04.300Z"
   },
   {
    "duration": 14,
    "start_time": "2021-12-16T15:30:04.305Z"
   },
   {
    "duration": 88,
    "start_time": "2021-12-16T15:30:06.570Z"
   },
   {
    "duration": 11,
    "start_time": "2021-12-16T15:30:13.065Z"
   },
   {
    "duration": 171,
    "start_time": "2021-12-16T15:30:41.147Z"
   },
   {
    "duration": 91,
    "start_time": "2021-12-16T15:39:52.185Z"
   },
   {
    "duration": 90,
    "start_time": "2021-12-16T15:40:32.121Z"
   },
   {
    "duration": 474,
    "start_time": "2021-12-17T08:12:47.757Z"
   },
   {
    "duration": 1460,
    "start_time": "2021-12-17T08:12:54.617Z"
   },
   {
    "duration": 282,
    "start_time": "2021-12-17T08:12:56.080Z"
   },
   {
    "duration": 226,
    "start_time": "2021-12-17T08:12:56.366Z"
   },
   {
    "duration": 161,
    "start_time": "2021-12-17T08:12:56.594Z"
   },
   {
    "duration": 78,
    "start_time": "2021-12-17T08:12:56.758Z"
   },
   {
    "duration": 80,
    "start_time": "2021-12-17T08:12:56.839Z"
   },
   {
    "duration": 40,
    "start_time": "2021-12-17T08:12:56.922Z"
   },
   {
    "duration": 203,
    "start_time": "2021-12-17T08:12:56.967Z"
   },
   {
    "duration": 302,
    "start_time": "2021-12-17T08:12:57.173Z"
   },
   {
    "duration": 165,
    "start_time": "2021-12-17T08:12:57.477Z"
   },
   {
    "duration": 200,
    "start_time": "2021-12-17T08:12:57.645Z"
   },
   {
    "duration": 333,
    "start_time": "2021-12-17T08:12:57.848Z"
   },
   {
    "duration": 6,
    "start_time": "2021-12-17T08:12:58.184Z"
   },
   {
    "duration": 31,
    "start_time": "2021-12-17T08:12:58.192Z"
   },
   {
    "duration": 410,
    "start_time": "2021-12-17T08:13:01.998Z"
   },
   {
    "duration": 329,
    "start_time": "2021-12-17T08:16:12.457Z"
   },
   {
    "duration": 326,
    "start_time": "2021-12-17T08:17:34.317Z"
   },
   {
    "duration": 321,
    "start_time": "2021-12-17T08:18:18.550Z"
   },
   {
    "duration": 345,
    "start_time": "2021-12-17T08:18:57.832Z"
   },
   {
    "duration": 2513,
    "start_time": "2021-12-17T08:19:08.720Z"
   },
   {
    "duration": 2587,
    "start_time": "2021-12-17T08:20:28.575Z"
   },
   {
    "duration": 2222,
    "start_time": "2021-12-17T08:20:45.394Z"
   },
   {
    "duration": 2514,
    "start_time": "2021-12-17T08:35:02.632Z"
   },
   {
    "duration": 433,
    "start_time": "2021-12-17T08:35:30.617Z"
   },
   {
    "duration": 306,
    "start_time": "2021-12-17T08:35:37.096Z"
   },
   {
    "duration": 2619,
    "start_time": "2021-12-17T08:35:41.392Z"
   },
   {
    "duration": 2392,
    "start_time": "2021-12-17T08:36:01.913Z"
   },
   {
    "duration": 9,
    "start_time": "2021-12-17T08:37:14.048Z"
   },
   {
    "duration": 866,
    "start_time": "2021-12-17T08:37:47.224Z"
   },
   {
    "duration": 2816,
    "start_time": "2021-12-17T08:37:55.101Z"
   },
   {
    "duration": 14,
    "start_time": "2021-12-17T08:54:33.997Z"
   },
   {
    "duration": 64,
    "start_time": "2021-12-17T08:54:38.005Z"
   },
   {
    "duration": 143,
    "start_time": "2021-12-17T08:54:55.998Z"
   },
   {
    "duration": 340,
    "start_time": "2021-12-17T08:59:01.604Z"
   },
   {
    "duration": 25874,
    "start_time": "2021-12-17T08:59:12.661Z"
   },
   {
    "duration": 6,
    "start_time": "2021-12-17T09:01:26.568Z"
   },
   {
    "duration": 335,
    "start_time": "2021-12-17T09:01:26.578Z"
   },
   {
    "duration": 359,
    "start_time": "2021-12-17T09:01:26.916Z"
   },
   {
    "duration": 183,
    "start_time": "2021-12-17T09:01:27.277Z"
   },
   {
    "duration": 94,
    "start_time": "2021-12-17T09:01:27.463Z"
   },
   {
    "duration": 105,
    "start_time": "2021-12-17T09:01:27.560Z"
   },
   {
    "duration": 70,
    "start_time": "2021-12-17T09:01:27.669Z"
   },
   {
    "duration": 232,
    "start_time": "2021-12-17T09:01:27.743Z"
   },
   {
    "duration": 369,
    "start_time": "2021-12-17T09:01:27.978Z"
   },
   {
    "duration": 193,
    "start_time": "2021-12-17T09:01:28.350Z"
   },
   {
    "duration": 197,
    "start_time": "2021-12-17T09:01:28.546Z"
   },
   {
    "duration": 304,
    "start_time": "2021-12-17T09:01:28.747Z"
   },
   {
    "duration": 6,
    "start_time": "2021-12-17T09:01:29.054Z"
   },
   {
    "duration": 17,
    "start_time": "2021-12-17T09:01:29.063Z"
   },
   {
    "duration": 100804,
    "start_time": "2021-12-17T09:01:31.480Z"
   },
   {
    "duration": 88,
    "start_time": "2021-12-17T09:03:57.147Z"
   },
   {
    "duration": 9,
    "start_time": "2021-12-17T09:04:16.747Z"
   },
   {
    "duration": 11,
    "start_time": "2021-12-17T09:04:30.083Z"
   },
   {
    "duration": 2447,
    "start_time": "2021-12-17T09:04:54.933Z"
   },
   {
    "duration": 2057,
    "start_time": "2021-12-17T09:05:33.334Z"
   },
   {
    "duration": 95,
    "start_time": "2021-12-17T09:05:45.030Z"
   },
   {
    "duration": 353,
    "start_time": "2021-12-17T09:12:10.559Z"
   },
   {
    "duration": 345,
    "start_time": "2021-12-17T09:12:26.696Z"
   },
   {
    "duration": 402,
    "start_time": "2021-12-17T09:25:24.379Z"
   },
   {
    "duration": 107,
    "start_time": "2021-12-17T09:25:50.627Z"
   },
   {
    "duration": 10,
    "start_time": "2021-12-17T09:26:07.266Z"
   },
   {
    "duration": 114,
    "start_time": "2021-12-17T09:26:32.572Z"
   },
   {
    "duration": 107,
    "start_time": "2021-12-17T09:26:57.121Z"
   },
   {
    "duration": 98,
    "start_time": "2021-12-17T09:27:30.974Z"
   },
   {
    "duration": 125,
    "start_time": "2021-12-17T09:27:34.943Z"
   },
   {
    "duration": 9,
    "start_time": "2021-12-17T09:27:40.829Z"
   },
   {
    "duration": 114,
    "start_time": "2021-12-17T09:29:26.921Z"
   },
   {
    "duration": 131,
    "start_time": "2021-12-17T09:30:13.946Z"
   },
   {
    "duration": 14,
    "start_time": "2021-12-17T09:30:28.034Z"
   },
   {
    "duration": 110,
    "start_time": "2021-12-17T09:30:51.125Z"
   },
   {
    "duration": 10,
    "start_time": "2021-12-17T09:30:56.889Z"
   },
   {
    "duration": 98,
    "start_time": "2021-12-17T09:31:18.852Z"
   },
   {
    "duration": 1733,
    "start_time": "2021-12-17T09:31:44.744Z"
   },
   {
    "duration": 331,
    "start_time": "2021-12-17T09:31:46.480Z"
   },
   {
    "duration": 261,
    "start_time": "2021-12-17T09:31:46.823Z"
   },
   {
    "duration": 226,
    "start_time": "2021-12-17T09:31:47.088Z"
   },
   {
    "duration": 85,
    "start_time": "2021-12-17T09:31:47.316Z"
   },
   {
    "duration": 162,
    "start_time": "2021-12-17T09:31:47.404Z"
   },
   {
    "duration": 69,
    "start_time": "2021-12-17T09:31:47.569Z"
   },
   {
    "duration": 257,
    "start_time": "2021-12-17T09:31:47.642Z"
   },
   {
    "duration": 352,
    "start_time": "2021-12-17T09:31:47.904Z"
   },
   {
    "duration": 271,
    "start_time": "2021-12-17T09:31:48.262Z"
   },
   {
    "duration": 307,
    "start_time": "2021-12-17T09:31:48.539Z"
   },
   {
    "duration": 359,
    "start_time": "2021-12-17T09:31:48.849Z"
   },
   {
    "duration": 18,
    "start_time": "2021-12-17T09:31:49.210Z"
   },
   {
    "duration": 21,
    "start_time": "2021-12-17T09:31:49.231Z"
   },
   {
    "duration": 11087,
    "start_time": "2021-12-17T09:31:49.256Z"
   },
   {
    "duration": 184,
    "start_time": "2021-12-17T09:32:00.161Z"
   },
   {
    "duration": 184,
    "start_time": "2021-12-17T09:32:00.163Z"
   },
   {
    "duration": 183,
    "start_time": "2021-12-17T09:32:00.165Z"
   },
   {
    "duration": 183,
    "start_time": "2021-12-17T09:32:00.167Z"
   },
   {
    "duration": 184,
    "start_time": "2021-12-17T09:32:00.168Z"
   },
   {
    "duration": 184,
    "start_time": "2021-12-17T09:32:00.170Z"
   },
   {
    "duration": 183,
    "start_time": "2021-12-17T09:32:00.172Z"
   },
   {
    "duration": 173,
    "start_time": "2021-12-17T09:32:00.185Z"
   },
   {
    "duration": 9909,
    "start_time": "2021-12-17T09:32:28.778Z"
   },
   {
    "duration": 607,
    "start_time": "2021-12-17T09:32:47.211Z"
   },
   {
    "duration": 8671,
    "start_time": "2021-12-17T09:33:16.731Z"
   },
   {
    "duration": 564,
    "start_time": "2021-12-17T09:34:26.285Z"
   },
   {
    "duration": 653,
    "start_time": "2021-12-17T09:34:42.022Z"
   },
   {
    "duration": 235,
    "start_time": "2021-12-17T09:36:14.736Z"
   },
   {
    "duration": 157,
    "start_time": "2021-12-17T09:36:30.616Z"
   },
   {
    "duration": 146,
    "start_time": "2021-12-17T09:36:45.689Z"
   },
   {
    "duration": 15,
    "start_time": "2021-12-17T09:37:08.072Z"
   },
   {
    "duration": 89,
    "start_time": "2021-12-17T09:38:13.947Z"
   },
   {
    "duration": 25,
    "start_time": "2021-12-17T09:39:02.516Z"
   },
   {
    "duration": 5,
    "start_time": "2021-12-17T09:40:19.040Z"
   },
   {
    "duration": 277,
    "start_time": "2021-12-17T09:40:19.048Z"
   },
   {
    "duration": 243,
    "start_time": "2021-12-17T09:40:19.329Z"
   },
   {
    "duration": 165,
    "start_time": "2021-12-17T09:40:19.575Z"
   },
   {
    "duration": 83,
    "start_time": "2021-12-17T09:40:19.742Z"
   },
   {
    "duration": 101,
    "start_time": "2021-12-17T09:40:19.827Z"
   },
   {
    "duration": 36,
    "start_time": "2021-12-17T09:40:19.931Z"
   },
   {
    "duration": 191,
    "start_time": "2021-12-17T09:40:19.971Z"
   },
   {
    "duration": 293,
    "start_time": "2021-12-17T09:40:20.164Z"
   },
   {
    "duration": 187,
    "start_time": "2021-12-17T09:40:20.460Z"
   },
   {
    "duration": 179,
    "start_time": "2021-12-17T09:40:20.650Z"
   },
   {
    "duration": 144,
    "start_time": "2021-12-17T09:40:20.832Z"
   },
   {
    "duration": 8,
    "start_time": "2021-12-17T09:40:20.979Z"
   },
   {
    "duration": 35,
    "start_time": "2021-12-17T09:40:20.990Z"
   },
   {
    "duration": 72,
    "start_time": "2021-12-17T09:40:30.372Z"
   },
   {
    "duration": 120,
    "start_time": "2021-12-17T09:41:13.455Z"
   },
   {
    "duration": 13,
    "start_time": "2021-12-17T09:41:27.086Z"
   },
   {
    "duration": 127,
    "start_time": "2021-12-17T09:44:17.916Z"
   },
   {
    "duration": 107,
    "start_time": "2021-12-17T09:45:59.607Z"
   },
   {
    "duration": 529,
    "start_time": "2021-12-17T10:26:42.274Z"
   },
   {
    "duration": 83,
    "start_time": "2021-12-17T10:32:14.714Z"
   },
   {
    "duration": 7,
    "start_time": "2021-12-17T10:32:22.898Z"
   },
   {
    "duration": 7,
    "start_time": "2021-12-17T10:32:29.050Z"
   },
   {
    "duration": 88,
    "start_time": "2021-12-17T10:39:02.605Z"
   },
   {
    "duration": 98,
    "start_time": "2021-12-17T10:39:30.244Z"
   },
   {
    "duration": 14,
    "start_time": "2021-12-17T10:39:41.500Z"
   },
   {
    "duration": 1644,
    "start_time": "2021-12-17T10:41:49.233Z"
   },
   {
    "duration": 1059,
    "start_time": "2021-12-17T10:42:04.593Z"
   },
   {
    "duration": 1237,
    "start_time": "2021-12-17T10:42:16.729Z"
   },
   {
    "duration": 27,
    "start_time": "2021-12-17T10:42:38.880Z"
   },
   {
    "duration": 16,
    "start_time": "2021-12-17T10:43:01.218Z"
   },
   {
    "duration": 17,
    "start_time": "2021-12-17T10:43:19.514Z"
   },
   {
    "duration": 27,
    "start_time": "2021-12-17T10:44:08.262Z"
   },
   {
    "duration": 18,
    "start_time": "2021-12-17T10:44:17.789Z"
   },
   {
    "duration": 1985,
    "start_time": "2021-12-17T10:46:36.435Z"
   },
   {
    "duration": 418,
    "start_time": "2021-12-17T10:46:38.424Z"
   },
   {
    "duration": 360,
    "start_time": "2021-12-17T10:46:38.846Z"
   },
   {
    "duration": 247,
    "start_time": "2021-12-17T10:46:39.210Z"
   },
   {
    "duration": 81,
    "start_time": "2021-12-17T10:46:39.460Z"
   },
   {
    "duration": 91,
    "start_time": "2021-12-17T10:46:39.544Z"
   },
   {
    "duration": 44,
    "start_time": "2021-12-17T10:46:39.638Z"
   },
   {
    "duration": 211,
    "start_time": "2021-12-17T10:46:39.687Z"
   },
   {
    "duration": 298,
    "start_time": "2021-12-17T10:46:39.901Z"
   },
   {
    "duration": 185,
    "start_time": "2021-12-17T10:46:40.202Z"
   },
   {
    "duration": 269,
    "start_time": "2021-12-17T10:46:40.390Z"
   },
   {
    "duration": 235,
    "start_time": "2021-12-17T10:46:40.662Z"
   },
   {
    "duration": 8,
    "start_time": "2021-12-17T10:46:40.901Z"
   },
   {
    "duration": 45,
    "start_time": "2021-12-17T10:46:40.924Z"
   },
   {
    "duration": 188,
    "start_time": "2021-12-17T10:46:40.971Z"
   },
   {
    "duration": 27,
    "start_time": "2021-12-17T10:46:41.163Z"
   },
   {
    "duration": 1612,
    "start_time": "2021-12-17T10:46:41.193Z"
   },
   {
    "duration": 1053,
    "start_time": "2021-12-17T10:46:42.809Z"
   },
   {
    "duration": 1181,
    "start_time": "2021-12-17T10:46:43.865Z"
   },
   {
    "duration": 31,
    "start_time": "2021-12-17T10:46:45.049Z"
   },
   {
    "duration": 50,
    "start_time": "2021-12-17T10:46:45.083Z"
   },
   {
    "duration": 36,
    "start_time": "2021-12-17T10:46:45.136Z"
   },
   {
    "duration": 20,
    "start_time": "2021-12-17T10:46:45.176Z"
   },
   {
    "duration": 26,
    "start_time": "2021-12-17T10:51:56.409Z"
   },
   {
    "duration": 47,
    "start_time": "2021-12-17T10:52:54.019Z"
   },
   {
    "duration": 20,
    "start_time": "2021-12-17T10:53:18.763Z"
   },
   {
    "duration": 19,
    "start_time": "2021-12-17T10:53:33.051Z"
   },
   {
    "duration": 20,
    "start_time": "2021-12-17T10:53:42.899Z"
   },
   {
    "duration": 1633,
    "start_time": "2021-12-29T09:08:43.130Z"
   },
   {
    "duration": 135,
    "start_time": "2021-12-29T09:08:44.768Z"
   },
   {
    "duration": 14,
    "start_time": "2021-12-29T09:08:44.905Z"
   },
   {
    "duration": 73,
    "start_time": "2021-12-29T09:08:44.922Z"
   },
   {
    "duration": 7,
    "start_time": "2021-12-29T09:08:44.997Z"
   },
   {
    "duration": 18,
    "start_time": "2021-12-29T09:08:45.007Z"
   },
   {
    "duration": 43,
    "start_time": "2021-12-29T09:08:45.027Z"
   },
   {
    "duration": 26,
    "start_time": "2021-12-29T09:08:45.074Z"
   },
   {
    "duration": 718,
    "start_time": "2021-12-29T09:08:45.103Z"
   },
   {
    "duration": 1109,
    "start_time": "2021-12-29T09:08:45.824Z"
   },
   {
    "duration": 34,
    "start_time": "2021-12-29T09:08:46.936Z"
   },
   {
    "duration": 5,
    "start_time": "2021-12-29T09:08:46.972Z"
   },
   {
    "duration": 878,
    "start_time": "2021-12-29T09:08:46.979Z"
   },
   {
    "duration": 571,
    "start_time": "2021-12-29T09:08:47.868Z"
   },
   {
    "duration": 507,
    "start_time": "2021-12-29T09:08:48.441Z"
   },
   {
    "duration": 20,
    "start_time": "2021-12-29T09:08:48.950Z"
   },
   {
    "duration": 11,
    "start_time": "2021-12-29T09:08:48.973Z"
   },
   {
    "duration": 748,
    "start_time": "2021-12-29T09:08:48.987Z"
   },
   {
    "duration": 729,
    "start_time": "2021-12-29T09:08:49.738Z"
   },
   {
    "duration": 8,
    "start_time": "2021-12-29T09:08:50.469Z"
   },
   {
    "duration": 6054,
    "start_time": "2021-12-29T09:08:50.480Z"
   },
   {
    "duration": 572,
    "start_time": "2021-12-29T09:08:56.537Z"
   },
   {
    "duration": 2914,
    "start_time": "2021-12-29T09:08:57.113Z"
   },
   {
    "duration": 47,
    "start_time": "2021-12-29T09:09:00.030Z"
   },
   {
    "duration": 11,
    "start_time": "2021-12-29T09:09:00.080Z"
   },
   {
    "duration": 30,
    "start_time": "2021-12-29T09:09:00.094Z"
   },
   {
    "duration": 21,
    "start_time": "2021-12-29T09:09:00.127Z"
   },
   {
    "duration": 456,
    "start_time": "2021-12-29T13:02:52.138Z"
   },
   {
    "duration": 1427,
    "start_time": "2021-12-29T13:02:57.457Z"
   },
   {
    "duration": 114,
    "start_time": "2021-12-29T13:02:58.887Z"
   },
   {
    "duration": 28,
    "start_time": "2021-12-29T13:02:59.003Z"
   },
   {
    "duration": 47,
    "start_time": "2021-12-29T13:02:59.034Z"
   },
   {
    "duration": 6,
    "start_time": "2021-12-29T13:02:59.083Z"
   },
   {
    "duration": 6,
    "start_time": "2021-12-29T13:03:00.644Z"
   },
   {
    "duration": 449,
    "start_time": "2021-12-29T13:03:14.466Z"
   },
   {
    "duration": 9,
    "start_time": "2021-12-29T13:03:21.513Z"
   },
   {
    "duration": 5,
    "start_time": "2021-12-29T13:13:02.045Z"
   },
   {
    "duration": 119,
    "start_time": "2021-12-29T13:13:02.054Z"
   },
   {
    "duration": 14,
    "start_time": "2021-12-29T13:13:02.176Z"
   },
   {
    "duration": 73,
    "start_time": "2021-12-29T13:13:02.192Z"
   },
   {
    "duration": 6,
    "start_time": "2021-12-29T13:13:02.267Z"
   },
   {
    "duration": 28,
    "start_time": "2021-12-29T13:13:02.275Z"
   },
   {
    "duration": 39,
    "start_time": "2021-12-29T13:13:02.305Z"
   },
   {
    "duration": 29,
    "start_time": "2021-12-29T13:13:02.347Z"
   },
   {
    "duration": 799,
    "start_time": "2021-12-29T13:13:02.378Z"
   },
   {
    "duration": 1090,
    "start_time": "2021-12-29T13:13:03.180Z"
   },
   {
    "duration": 22,
    "start_time": "2021-12-29T13:13:04.274Z"
   },
   {
    "duration": 5,
    "start_time": "2021-12-29T13:13:09.681Z"
   },
   {
    "duration": 4,
    "start_time": "2021-12-29T13:13:55.427Z"
   },
   {
    "duration": 9441,
    "start_time": "2021-12-29T13:13:57.352Z"
   },
   {
    "duration": 22,
    "start_time": "2021-12-29T13:14:48.853Z"
   },
   {
    "duration": 5,
    "start_time": "2021-12-29T13:14:53.970Z"
   },
   {
    "duration": 10030,
    "start_time": "2021-12-29T13:14:55.635Z"
   },
   {
    "duration": 4,
    "start_time": "2021-12-29T13:15:27.948Z"
   },
   {
    "duration": 10135,
    "start_time": "2021-12-29T13:15:29.468Z"
   },
   {
    "duration": 5,
    "start_time": "2021-12-29T13:16:14.232Z"
   },
   {
    "duration": 9088,
    "start_time": "2021-12-29T13:16:50.036Z"
   },
   {
    "duration": 8662,
    "start_time": "2021-12-29T13:17:38.638Z"
   },
   {
    "duration": 84,
    "start_time": "2021-12-29T13:17:56.405Z"
   },
   {
    "duration": 196,
    "start_time": "2021-12-29T13:19:20.435Z"
   },
   {
    "duration": 121,
    "start_time": "2021-12-29T13:19:38.848Z"
   },
   {
    "duration": 592,
    "start_time": "2021-12-29T13:19:59.989Z"
   },
   {
    "duration": 132,
    "start_time": "2021-12-29T13:20:04.627Z"
   },
   {
    "duration": 112,
    "start_time": "2021-12-29T13:20:45.991Z"
   },
   {
    "duration": 5,
    "start_time": "2021-12-29T13:21:15.909Z"
   },
   {
    "duration": 88,
    "start_time": "2021-12-29T13:21:19.575Z"
   },
   {
    "duration": 10148,
    "start_time": "2021-12-29T13:21:34.894Z"
   },
   {
    "duration": 123,
    "start_time": "2021-12-29T13:21:59.396Z"
   },
   {
    "duration": 90,
    "start_time": "2021-12-29T13:22:39.756Z"
   },
   {
    "duration": 5,
    "start_time": "2021-12-29T13:23:27.119Z"
   },
   {
    "duration": 85,
    "start_time": "2021-12-29T13:23:29.301Z"
   },
   {
    "duration": 8451,
    "start_time": "2021-12-29T13:24:09.594Z"
   },
   {
    "duration": 9319,
    "start_time": "2021-12-29T13:24:57.131Z"
   },
   {
    "duration": 21,
    "start_time": "2021-12-29T13:25:37.104Z"
   },
   {
    "duration": 5,
    "start_time": "2021-12-29T13:25:39.630Z"
   },
   {
    "duration": 9041,
    "start_time": "2021-12-29T13:25:41.137Z"
   },
   {
    "duration": 83,
    "start_time": "2021-12-29T13:26:54.411Z"
   },
   {
    "duration": 812,
    "start_time": "2021-12-29T13:28:14.400Z"
   },
   {
    "duration": 728,
    "start_time": "2021-12-29T13:28:50.828Z"
   },
   {
    "duration": 830,
    "start_time": "2021-12-29T13:28:58.235Z"
   },
   {
    "duration": 1446,
    "start_time": "2021-12-29T13:29:36.623Z"
   },
   {
    "duration": 117,
    "start_time": "2021-12-29T13:29:38.072Z"
   },
   {
    "duration": 34,
    "start_time": "2021-12-29T13:29:38.192Z"
   },
   {
    "duration": 49,
    "start_time": "2021-12-29T13:29:38.228Z"
   },
   {
    "duration": 6,
    "start_time": "2021-12-29T13:29:38.280Z"
   },
   {
    "duration": 36,
    "start_time": "2021-12-29T13:29:38.288Z"
   },
   {
    "duration": 25,
    "start_time": "2021-12-29T13:29:38.326Z"
   },
   {
    "duration": 31,
    "start_time": "2021-12-29T13:29:38.355Z"
   },
   {
    "duration": 719,
    "start_time": "2021-12-29T13:29:38.389Z"
   },
   {
    "duration": 1188,
    "start_time": "2021-12-29T13:29:39.110Z"
   },
   {
    "duration": 35,
    "start_time": "2021-12-29T13:29:40.300Z"
   },
   {
    "duration": 5,
    "start_time": "2021-12-29T13:29:40.338Z"
   },
   {
    "duration": 811,
    "start_time": "2021-12-29T13:29:40.346Z"
   },
   {
    "duration": 468,
    "start_time": "2021-12-29T13:29:41.159Z"
   },
   {
    "duration": 785,
    "start_time": "2021-12-29T13:29:41.630Z"
   },
   {
    "duration": 16,
    "start_time": "2021-12-29T13:29:42.417Z"
   },
   {
    "duration": 8,
    "start_time": "2021-12-29T13:29:42.435Z"
   },
   {
    "duration": 649,
    "start_time": "2021-12-29T13:29:42.446Z"
   },
   {
    "duration": 678,
    "start_time": "2021-12-29T13:29:43.097Z"
   },
   {
    "duration": 7,
    "start_time": "2021-12-29T13:29:43.778Z"
   },
   {
    "duration": 5345,
    "start_time": "2021-12-29T13:29:43.788Z"
   },
   {
    "duration": 545,
    "start_time": "2021-12-29T13:29:49.136Z"
   },
   {
    "duration": 2459,
    "start_time": "2021-12-29T13:29:49.686Z"
   },
   {
    "duration": 25,
    "start_time": "2021-12-29T13:29:52.149Z"
   },
   {
    "duration": 9,
    "start_time": "2021-12-29T13:29:52.177Z"
   },
   {
    "duration": 57,
    "start_time": "2021-12-29T13:29:52.189Z"
   },
   {
    "duration": 8,
    "start_time": "2021-12-29T13:29:52.248Z"
   },
   {
    "duration": 153,
    "start_time": "2021-12-29T13:30:10.839Z"
   },
   {
    "duration": 5,
    "start_time": "2021-12-29T13:30:19.597Z"
   },
   {
    "duration": 5,
    "start_time": "2021-12-29T13:30:24.703Z"
   },
   {
    "duration": 1012,
    "start_time": "2021-12-29T13:30:27.595Z"
   },
   {
    "duration": 911,
    "start_time": "2021-12-29T13:34:51.047Z"
   },
   {
    "duration": 871,
    "start_time": "2021-12-29T13:35:59.231Z"
   },
   {
    "duration": 813,
    "start_time": "2021-12-29T13:36:07.604Z"
   },
   {
    "duration": 488,
    "start_time": "2021-12-29T13:36:59.393Z"
   },
   {
    "duration": 36,
    "start_time": "2021-12-29T13:37:05.571Z"
   },
   {
    "duration": 34,
    "start_time": "2021-12-29T13:37:13.509Z"
   },
   {
    "duration": 7,
    "start_time": "2021-12-29T13:37:38.475Z"
   },
   {
    "duration": 24,
    "start_time": "2021-12-29T13:37:40.026Z"
   },
   {
    "duration": 710,
    "start_time": "2021-12-29T13:37:46.752Z"
   },
   {
    "duration": 5,
    "start_time": "2021-12-29T13:38:22.897Z"
   },
   {
    "duration": 747,
    "start_time": "2021-12-29T13:38:27.160Z"
   },
   {
    "duration": 5,
    "start_time": "2021-12-29T13:38:57.026Z"
   },
   {
    "duration": 719,
    "start_time": "2021-12-29T13:38:58.972Z"
   },
   {
    "duration": 5,
    "start_time": "2021-12-29T13:39:07.729Z"
   },
   {
    "duration": 720,
    "start_time": "2021-12-29T13:39:09.870Z"
   },
   {
    "duration": 5,
    "start_time": "2021-12-29T13:39:18.201Z"
   },
   {
    "duration": 781,
    "start_time": "2021-12-29T13:39:19.912Z"
   },
   {
    "duration": 5,
    "start_time": "2021-12-29T13:39:29.701Z"
   },
   {
    "duration": 707,
    "start_time": "2021-12-29T13:39:31.232Z"
   },
   {
    "duration": 937,
    "start_time": "2021-12-29T13:40:33.357Z"
   },
   {
    "duration": 790,
    "start_time": "2021-12-29T13:40:40.791Z"
   },
   {
    "duration": 784,
    "start_time": "2021-12-29T13:42:26.839Z"
   },
   {
    "duration": 528,
    "start_time": "2021-12-29T13:43:07.697Z"
   },
   {
    "duration": 569,
    "start_time": "2021-12-29T13:43:21.193Z"
   },
   {
    "duration": 828,
    "start_time": "2021-12-29T13:43:27.805Z"
   },
   {
    "duration": 305,
    "start_time": "2021-12-29T13:44:32.548Z"
   },
   {
    "duration": 726,
    "start_time": "2021-12-29T13:44:51.178Z"
   },
   {
    "duration": 5,
    "start_time": "2021-12-29T13:48:39.625Z"
   },
   {
    "duration": 912,
    "start_time": "2021-12-29T13:48:41.992Z"
   },
   {
    "duration": 1229,
    "start_time": "2021-12-29T13:49:17.135Z"
   },
   {
    "duration": 6,
    "start_time": "2021-12-29T14:48:31.583Z"
   },
   {
    "duration": 1154,
    "start_time": "2021-12-29T14:48:33.477Z"
   },
   {
    "duration": 5,
    "start_time": "2021-12-29T14:49:27.909Z"
   },
   {
    "duration": 804,
    "start_time": "2021-12-29T14:49:30.071Z"
   },
   {
    "duration": 5,
    "start_time": "2021-12-29T14:49:47.141Z"
   },
   {
    "duration": 774,
    "start_time": "2021-12-29T14:49:48.615Z"
   },
   {
    "duration": 760,
    "start_time": "2021-12-29T14:49:51.833Z"
   },
   {
    "duration": 773,
    "start_time": "2021-12-29T14:53:09.250Z"
   },
   {
    "duration": 1268,
    "start_time": "2021-12-29T14:53:12.279Z"
   },
   {
    "duration": 126,
    "start_time": "2021-12-29T15:00:06.546Z"
   },
   {
    "duration": 17,
    "start_time": "2021-12-29T15:06:37.799Z"
   },
   {
    "duration": 353,
    "start_time": "2021-12-29T15:06:57.603Z"
   },
   {
    "duration": 112,
    "start_time": "2021-12-29T15:09:17.819Z"
   },
   {
    "duration": 14,
    "start_time": "2021-12-29T15:09:31.207Z"
   },
   {
    "duration": 404,
    "start_time": "2021-12-29T15:10:28.519Z"
   },
   {
    "duration": 31,
    "start_time": "2021-12-29T15:11:11.101Z"
   },
   {
    "duration": 34,
    "start_time": "2021-12-29T15:15:09.816Z"
   },
   {
    "duration": 25,
    "start_time": "2021-12-29T15:16:09.360Z"
   },
   {
    "duration": 1010,
    "start_time": "2021-12-29T15:18:30.222Z"
   },
   {
    "duration": 22,
    "start_time": "2021-12-29T15:18:41.894Z"
   },
   {
    "duration": 1428,
    "start_time": "2021-12-29T15:28:55.052Z"
   },
   {
    "duration": 113,
    "start_time": "2021-12-29T15:28:56.483Z"
   },
   {
    "duration": 25,
    "start_time": "2021-12-29T15:28:56.599Z"
   },
   {
    "duration": 44,
    "start_time": "2021-12-29T15:28:56.627Z"
   },
   {
    "duration": 5,
    "start_time": "2021-12-29T15:28:56.673Z"
   },
   {
    "duration": 7,
    "start_time": "2021-12-29T15:28:56.680Z"
   },
   {
    "duration": 48,
    "start_time": "2021-12-29T15:28:56.690Z"
   },
   {
    "duration": 22,
    "start_time": "2021-12-29T15:28:56.741Z"
   },
   {
    "duration": 657,
    "start_time": "2021-12-29T15:28:56.766Z"
   },
   {
    "duration": 1061,
    "start_time": "2021-12-29T15:28:57.426Z"
   },
   {
    "duration": 35,
    "start_time": "2021-12-29T15:28:58.490Z"
   },
   {
    "duration": 6,
    "start_time": "2021-12-29T15:28:58.528Z"
   },
   {
    "duration": 728,
    "start_time": "2021-12-29T15:28:58.537Z"
   },
   {
    "duration": 26,
    "start_time": "2021-12-29T15:28:59.268Z"
   },
   {
    "duration": 526,
    "start_time": "2021-12-29T15:28:59.297Z"
   },
   {
    "duration": 474,
    "start_time": "2021-12-29T15:28:59.827Z"
   },
   {
    "duration": 24,
    "start_time": "2021-12-29T15:29:00.303Z"
   },
   {
    "duration": 10,
    "start_time": "2021-12-29T15:29:00.329Z"
   },
   {
    "duration": 661,
    "start_time": "2021-12-29T15:29:00.341Z"
   },
   {
    "duration": 660,
    "start_time": "2021-12-29T15:29:01.004Z"
   },
   {
    "duration": 7,
    "start_time": "2021-12-29T15:29:01.667Z"
   },
   {
    "duration": 5235,
    "start_time": "2021-12-29T15:29:01.676Z"
   },
   {
    "duration": 523,
    "start_time": "2021-12-29T15:29:06.923Z"
   },
   {
    "duration": 2431,
    "start_time": "2021-12-29T15:29:07.449Z"
   },
   {
    "duration": 22,
    "start_time": "2021-12-29T15:29:09.883Z"
   },
   {
    "duration": 6,
    "start_time": "2021-12-29T15:29:09.923Z"
   },
   {
    "duration": 27,
    "start_time": "2021-12-29T15:29:09.931Z"
   },
   {
    "duration": 6,
    "start_time": "2021-12-29T15:29:09.960Z"
   },
   {
    "duration": 21,
    "start_time": "2021-12-29T15:37:11.932Z"
   },
   {
    "duration": 5,
    "start_time": "2021-12-29T15:37:14.343Z"
   },
   {
    "duration": 818,
    "start_time": "2021-12-29T15:37:18.858Z"
   },
   {
    "duration": 324,
    "start_time": "2021-12-29T15:37:28.537Z"
   },
   {
    "duration": 407,
    "start_time": "2021-12-29T15:37:31.985Z"
   },
   {
    "duration": 471,
    "start_time": "2021-12-29T15:37:36.436Z"
   },
   {
    "duration": 426,
    "start_time": "2021-12-30T12:06:42.502Z"
   },
   {
    "duration": 1666,
    "start_time": "2021-12-30T12:06:49.613Z"
   },
   {
    "duration": 127,
    "start_time": "2021-12-30T12:06:51.282Z"
   },
   {
    "duration": 16,
    "start_time": "2021-12-30T12:06:51.413Z"
   },
   {
    "duration": 52,
    "start_time": "2021-12-30T12:06:51.460Z"
   },
   {
    "duration": 7,
    "start_time": "2021-12-30T12:06:51.514Z"
   },
   {
    "duration": 35,
    "start_time": "2021-12-30T12:06:51.524Z"
   },
   {
    "duration": 25,
    "start_time": "2021-12-30T12:06:51.562Z"
   },
   {
    "duration": 24,
    "start_time": "2021-12-30T12:06:51.593Z"
   },
   {
    "duration": 688,
    "start_time": "2021-12-30T12:06:51.619Z"
   },
   {
    "duration": 1080,
    "start_time": "2021-12-30T12:06:52.309Z"
   },
   {
    "duration": 21,
    "start_time": "2021-12-30T12:06:53.392Z"
   },
   {
    "duration": 5,
    "start_time": "2021-12-30T12:06:53.416Z"
   },
   {
    "duration": 749,
    "start_time": "2021-12-30T12:06:53.423Z"
   },
   {
    "duration": 24,
    "start_time": "2021-12-30T12:06:54.174Z"
   },
   {
    "duration": 550,
    "start_time": "2021-12-30T12:06:54.201Z"
   },
   {
    "duration": 479,
    "start_time": "2021-12-30T12:06:54.760Z"
   },
   {
    "duration": 686,
    "start_time": "2021-12-30T12:06:58.687Z"
   },
   {
    "duration": 1667,
    "start_time": "2021-12-30T12:19:18.542Z"
   },
   {
    "duration": 1488,
    "start_time": "2021-12-30T12:30:43.000Z"
   },
   {
    "duration": 26,
    "start_time": "2021-12-30T12:33:11.715Z"
   },
   {
    "duration": 5,
    "start_time": "2021-12-30T12:33:39.815Z"
   },
   {
    "duration": 818,
    "start_time": "2021-12-30T12:33:42.730Z"
   },
   {
    "duration": 538,
    "start_time": "2021-12-30T12:39:43.104Z"
   },
   {
    "duration": 547,
    "start_time": "2021-12-30T12:40:00.046Z"
   },
   {
    "duration": 10,
    "start_time": "2021-12-30T12:41:37.815Z"
   },
   {
    "duration": 7,
    "start_time": "2021-12-30T12:41:45.625Z"
   },
   {
    "duration": 27,
    "start_time": "2021-12-30T12:42:34.850Z"
   },
   {
    "duration": 24,
    "start_time": "2021-12-30T12:42:45.812Z"
   },
   {
    "duration": 5,
    "start_time": "2021-12-30T12:42:52.242Z"
   },
   {
    "duration": 868,
    "start_time": "2021-12-30T12:42:56.520Z"
   },
   {
    "duration": 441,
    "start_time": "2021-12-30T12:43:26.609Z"
   },
   {
    "duration": 6,
    "start_time": "2021-12-30T12:43:39.879Z"
   },
   {
    "duration": 10,
    "start_time": "2021-12-30T12:43:42.432Z"
   },
   {
    "duration": 666,
    "start_time": "2021-12-30T12:43:49.363Z"
   },
   {
    "duration": 668,
    "start_time": "2021-12-30T12:43:53.878Z"
   },
   {
    "duration": 8,
    "start_time": "2021-12-30T12:44:48.783Z"
   },
   {
    "duration": 3323,
    "start_time": "2021-12-30T12:45:12.153Z"
   },
   {
    "duration": 3149,
    "start_time": "2021-12-30T12:45:46.225Z"
   },
   {
    "duration": 3350,
    "start_time": "2021-12-30T12:46:35.360Z"
   },
   {
    "duration": 138,
    "start_time": "2021-12-30T12:49:54.747Z"
   },
   {
    "duration": 6472,
    "start_time": "2021-12-30T12:50:06.552Z"
   },
   {
    "duration": 421,
    "start_time": "2021-12-30T12:55:07.475Z"
   },
   {
    "duration": 986,
    "start_time": "2021-12-30T12:55:28.094Z"
   },
   {
    "duration": 817,
    "start_time": "2021-12-30T12:55:36.856Z"
   },
   {
    "duration": 799,
    "start_time": "2021-12-30T12:56:46.966Z"
   },
   {
    "duration": 780,
    "start_time": "2021-12-30T13:06:20.361Z"
   },
   {
    "duration": 24,
    "start_time": "2021-12-30T13:08:52.877Z"
   },
   {
    "duration": 7,
    "start_time": "2021-12-30T13:08:58.804Z"
   },
   {
    "duration": 34,
    "start_time": "2021-12-30T13:09:18.153Z"
   },
   {
    "duration": 9,
    "start_time": "2021-12-30T13:09:26.485Z"
   },
   {
    "duration": 1495,
    "start_time": "2021-12-30T13:14:53.936Z"
   },
   {
    "duration": 119,
    "start_time": "2021-12-30T13:14:55.434Z"
   },
   {
    "duration": 15,
    "start_time": "2021-12-30T13:14:55.555Z"
   },
   {
    "duration": 47,
    "start_time": "2021-12-30T13:14:55.572Z"
   },
   {
    "duration": 5,
    "start_time": "2021-12-30T13:14:55.622Z"
   },
   {
    "duration": 33,
    "start_time": "2021-12-30T13:14:55.629Z"
   },
   {
    "duration": 24,
    "start_time": "2021-12-30T13:14:55.665Z"
   },
   {
    "duration": 22,
    "start_time": "2021-12-30T13:14:55.691Z"
   },
   {
    "duration": 687,
    "start_time": "2021-12-30T13:14:55.717Z"
   },
   {
    "duration": 1053,
    "start_time": "2021-12-30T13:14:56.407Z"
   },
   {
    "duration": 24,
    "start_time": "2021-12-30T13:14:57.462Z"
   },
   {
    "duration": 6,
    "start_time": "2021-12-30T13:14:57.489Z"
   },
   {
    "duration": 939,
    "start_time": "2021-12-30T13:14:57.498Z"
   },
   {
    "duration": 33,
    "start_time": "2021-12-30T13:14:58.440Z"
   },
   {
    "duration": 532,
    "start_time": "2021-12-30T13:14:58.475Z"
   },
   {
    "duration": 441,
    "start_time": "2021-12-30T13:14:59.010Z"
   },
   {
    "duration": 12,
    "start_time": "2021-12-30T13:14:59.453Z"
   },
   {
    "duration": 6,
    "start_time": "2021-12-30T13:14:59.467Z"
   },
   {
    "duration": 663,
    "start_time": "2021-12-30T13:14:59.475Z"
   },
   {
    "duration": 824,
    "start_time": "2021-12-30T13:15:00.142Z"
   },
   {
    "duration": 8,
    "start_time": "2021-12-30T13:15:00.968Z"
   },
   {
    "duration": 6881,
    "start_time": "2021-12-30T13:15:00.978Z"
   },
   {
    "duration": 541,
    "start_time": "2021-12-30T13:15:07.861Z"
   },
   {
    "duration": 978,
    "start_time": "2021-12-30T13:15:08.405Z"
   },
   {
    "duration": 814,
    "start_time": "2021-12-30T13:15:09.387Z"
   },
   {
    "duration": 869,
    "start_time": "2021-12-30T13:15:10.204Z"
   },
   {
    "duration": 25,
    "start_time": "2021-12-30T13:15:11.078Z"
   },
   {
    "duration": 6,
    "start_time": "2021-12-30T13:15:11.106Z"
   },
   {
    "duration": 55,
    "start_time": "2021-12-30T13:15:11.115Z"
   },
   {
    "duration": 8,
    "start_time": "2021-12-30T13:15:11.172Z"
   },
   {
    "duration": 1457,
    "start_time": "2021-12-31T05:46:42.474Z"
   },
   {
    "duration": 118,
    "start_time": "2021-12-31T05:46:43.934Z"
   },
   {
    "duration": 14,
    "start_time": "2021-12-31T05:46:44.060Z"
   },
   {
    "duration": 48,
    "start_time": "2021-12-31T05:46:44.077Z"
   },
   {
    "duration": 6,
    "start_time": "2021-12-31T05:46:44.127Z"
   },
   {
    "duration": 7,
    "start_time": "2021-12-31T05:46:44.160Z"
   },
   {
    "duration": 25,
    "start_time": "2021-12-31T05:46:44.169Z"
   },
   {
    "duration": 23,
    "start_time": "2021-12-31T05:46:44.198Z"
   },
   {
    "duration": 658,
    "start_time": "2021-12-31T05:46:44.261Z"
   },
   {
    "duration": 1106,
    "start_time": "2021-12-31T05:46:44.921Z"
   },
   {
    "duration": 32,
    "start_time": "2021-12-31T05:46:46.029Z"
   },
   {
    "duration": 5,
    "start_time": "2021-12-31T05:46:46.063Z"
   },
   {
    "duration": 998,
    "start_time": "2021-12-31T05:46:46.070Z"
   },
   {
    "duration": 28,
    "start_time": "2021-12-31T05:46:47.070Z"
   },
   {
    "duration": 571,
    "start_time": "2021-12-31T05:46:47.101Z"
   },
   {
    "duration": 423,
    "start_time": "2021-12-31T05:46:47.676Z"
   },
   {
    "duration": 11,
    "start_time": "2021-12-31T05:46:48.101Z"
   },
   {
    "duration": 7,
    "start_time": "2021-12-31T05:46:48.115Z"
   },
   {
    "duration": 695,
    "start_time": "2021-12-31T05:46:48.124Z"
   },
   {
    "duration": 694,
    "start_time": "2021-12-31T05:46:48.822Z"
   },
   {
    "duration": 7,
    "start_time": "2021-12-31T05:46:49.519Z"
   },
   {
    "duration": 6166,
    "start_time": "2021-12-31T05:46:49.528Z"
   },
   {
    "duration": 535,
    "start_time": "2021-12-31T05:46:55.700Z"
   },
   {
    "duration": 875,
    "start_time": "2021-12-31T05:46:56.238Z"
   },
   {
    "duration": 802,
    "start_time": "2021-12-31T05:46:57.115Z"
   },
   {
    "duration": 843,
    "start_time": "2021-12-31T05:46:57.919Z"
   },
   {
    "duration": 23,
    "start_time": "2021-12-31T05:46:58.764Z"
   },
   {
    "duration": 7,
    "start_time": "2021-12-31T05:46:58.790Z"
   },
   {
    "duration": 23,
    "start_time": "2021-12-31T05:46:58.799Z"
   },
   {
    "duration": 8,
    "start_time": "2021-12-31T05:46:58.860Z"
   },
   {
    "duration": 1463,
    "start_time": "2021-12-31T05:55:42.145Z"
   },
   {
    "duration": 121,
    "start_time": "2021-12-31T05:55:43.611Z"
   },
   {
    "duration": 27,
    "start_time": "2021-12-31T05:55:43.734Z"
   },
   {
    "duration": 51,
    "start_time": "2021-12-31T05:55:43.764Z"
   },
   {
    "duration": 5,
    "start_time": "2021-12-31T05:55:43.817Z"
   },
   {
    "duration": 6,
    "start_time": "2021-12-31T05:55:43.824Z"
   },
   {
    "duration": 24,
    "start_time": "2021-12-31T05:55:43.860Z"
   },
   {
    "duration": 29,
    "start_time": "2021-12-31T05:55:43.886Z"
   },
   {
    "duration": 677,
    "start_time": "2021-12-31T05:55:43.919Z"
   },
   {
    "duration": 1071,
    "start_time": "2021-12-31T05:55:44.599Z"
   },
   {
    "duration": 26,
    "start_time": "2021-12-31T05:55:45.672Z"
   },
   {
    "duration": 5,
    "start_time": "2021-12-31T05:55:45.700Z"
   },
   {
    "duration": 857,
    "start_time": "2021-12-31T05:55:45.707Z"
   },
   {
    "duration": 25,
    "start_time": "2021-12-31T05:55:46.566Z"
   },
   {
    "duration": 541,
    "start_time": "2021-12-31T05:55:46.593Z"
   },
   {
    "duration": 426,
    "start_time": "2021-12-31T05:55:47.136Z"
   },
   {
    "duration": 10,
    "start_time": "2021-12-31T05:55:47.564Z"
   },
   {
    "duration": 9,
    "start_time": "2021-12-31T05:55:47.576Z"
   },
   {
    "duration": 642,
    "start_time": "2021-12-31T05:55:47.587Z"
   },
   {
    "duration": 695,
    "start_time": "2021-12-31T05:55:48.231Z"
   },
   {
    "duration": 7,
    "start_time": "2021-12-31T05:55:48.929Z"
   },
   {
    "duration": 6243,
    "start_time": "2021-12-31T05:55:48.938Z"
   },
   {
    "duration": 511,
    "start_time": "2021-12-31T05:55:55.183Z"
   },
   {
    "duration": 856,
    "start_time": "2021-12-31T05:55:55.697Z"
   },
   {
    "duration": 787,
    "start_time": "2021-12-31T05:55:56.559Z"
   },
   {
    "duration": 868,
    "start_time": "2021-12-31T05:55:57.349Z"
   },
   {
    "duration": 37,
    "start_time": "2021-12-31T05:55:58.222Z"
   },
   {
    "duration": 7,
    "start_time": "2021-12-31T05:55:58.262Z"
   },
   {
    "duration": 27,
    "start_time": "2021-12-31T05:55:58.271Z"
   },
   {
    "duration": 7,
    "start_time": "2021-12-31T05:55:58.300Z"
   },
   {
    "duration": 1411,
    "start_time": "2022-03-04T07:53:56.076Z"
   },
   {
    "duration": 6759,
    "start_time": "2022-03-04T14:16:41.170Z"
   },
   {
    "duration": 95,
    "start_time": "2022-03-04T14:23:18.787Z"
   },
   {
    "duration": 86,
    "start_time": "2022-03-04T14:23:39.788Z"
   },
   {
    "duration": 87,
    "start_time": "2022-03-04T14:23:45.861Z"
   },
   {
    "duration": 83,
    "start_time": "2022-03-04T14:23:52.181Z"
   },
   {
    "duration": 93,
    "start_time": "2022-03-04T14:24:07.077Z"
   },
   {
    "duration": 301,
    "start_time": "2022-03-04T14:26:37.687Z"
   },
   {
    "duration": 5,
    "start_time": "2022-03-04T14:26:48.071Z"
   },
   {
    "duration": 6,
    "start_time": "2022-03-04T14:27:11.393Z"
   },
   {
    "duration": 6,
    "start_time": "2022-03-04T14:32:46.481Z"
   },
   {
    "duration": 5,
    "start_time": "2022-03-04T14:32:51.393Z"
   },
   {
    "duration": 22,
    "start_time": "2022-03-04T14:39:54.745Z"
   },
   {
    "duration": 19,
    "start_time": "2022-03-04T14:41:01.381Z"
   },
   {
    "duration": 329,
    "start_time": "2022-03-04T14:54:39.409Z"
   },
   {
    "duration": 822,
    "start_time": "2022-03-04T14:54:51.465Z"
   },
   {
    "duration": 872,
    "start_time": "2022-03-04T14:55:00.220Z"
   },
   {
    "duration": 565,
    "start_time": "2022-03-04T14:55:05.164Z"
   },
   {
    "duration": 543,
    "start_time": "2022-03-04T14:55:10.964Z"
   },
   {
    "duration": 508,
    "start_time": "2022-03-04T14:55:22.731Z"
   },
   {
    "duration": 566,
    "start_time": "2022-03-04T14:55:27.460Z"
   },
   {
    "duration": 462,
    "start_time": "2022-03-04T14:55:32.324Z"
   },
   {
    "duration": 524,
    "start_time": "2022-03-04T14:56:16.941Z"
   },
   {
    "duration": 450,
    "start_time": "2022-03-04T14:56:38.662Z"
   },
   {
    "duration": 505,
    "start_time": "2022-03-04T14:56:43.670Z"
   },
   {
    "duration": 96,
    "start_time": "2022-03-04T14:57:05.542Z"
   },
   {
    "duration": 8,
    "start_time": "2022-03-04T15:00:38.217Z"
   },
   {
    "duration": 18,
    "start_time": "2022-03-04T15:00:39.730Z"
   },
   {
    "duration": 525,
    "start_time": "2022-03-04T15:00:41.859Z"
   },
   {
    "duration": 515,
    "start_time": "2022-03-04T15:01:27.564Z"
   },
   {
    "duration": 478,
    "start_time": "2022-03-04T15:01:33.220Z"
   },
   {
    "duration": 431,
    "start_time": "2022-03-04T15:01:51.156Z"
   },
   {
    "duration": 7225,
    "start_time": "2022-03-04T15:12:19.540Z"
   },
   {
    "duration": 6589,
    "start_time": "2022-03-04T15:12:44.886Z"
   },
   {
    "duration": 1047,
    "start_time": "2022-03-04T15:12:57.478Z"
   },
   {
    "duration": 22,
    "start_time": "2022-03-04T15:13:01.925Z"
   },
   {
    "duration": 6454,
    "start_time": "2022-03-04T15:13:14.495Z"
   },
   {
    "duration": 23,
    "start_time": "2022-03-04T15:13:25.926Z"
   },
   {
    "duration": 31,
    "start_time": "2022-03-04T15:18:13.088Z"
   },
   {
    "duration": 917,
    "start_time": "2022-03-04T15:19:32.656Z"
   },
   {
    "duration": 539,
    "start_time": "2022-03-04T15:20:01.152Z"
   },
   {
    "duration": 439,
    "start_time": "2022-03-04T15:20:53.561Z"
   },
   {
    "duration": 82,
    "start_time": "2022-03-04T15:38:50.562Z"
   },
   {
    "duration": 82,
    "start_time": "2022-03-04T15:38:53.132Z"
   },
   {
    "duration": 131,
    "start_time": "2022-03-04T15:39:48.869Z"
   },
   {
    "duration": 57,
    "start_time": "2022-03-04T15:39:58.598Z"
   },
   {
    "duration": 1121,
    "start_time": "2022-03-04T15:40:58.167Z"
   },
   {
    "duration": 41,
    "start_time": "2022-03-04T15:41:12.143Z"
   },
   {
    "duration": 41,
    "start_time": "2022-03-04T15:41:26.687Z"
   },
   {
    "duration": 1390,
    "start_time": "2022-03-04T15:41:41.624Z"
   },
   {
    "duration": 1138,
    "start_time": "2022-03-04T15:41:58.048Z"
   },
   {
    "duration": 39,
    "start_time": "2022-03-04T15:42:01.184Z"
   },
   {
    "duration": 43,
    "start_time": "2022-03-04T15:42:10.336Z"
   },
   {
    "duration": 770,
    "start_time": "2022-03-04T15:45:27.941Z"
   },
   {
    "duration": 669,
    "start_time": "2022-03-04T15:45:35.621Z"
   },
   {
    "duration": 787,
    "start_time": "2022-03-04T15:45:46.782Z"
   },
   {
    "duration": 327,
    "start_time": "2022-03-04T15:45:55.894Z"
   },
   {
    "duration": 568,
    "start_time": "2022-03-04T15:46:08.526Z"
   },
   {
    "duration": 597,
    "start_time": "2022-03-04T15:46:50.279Z"
   },
   {
    "duration": 575,
    "start_time": "2022-03-04T15:48:17.057Z"
   },
   {
    "duration": 344,
    "start_time": "2022-03-04T15:55:47.428Z"
   },
   {
    "duration": 296,
    "start_time": "2022-03-04T15:56:07.429Z"
   },
   {
    "duration": 286,
    "start_time": "2022-03-04T15:56:29.253Z"
   },
   {
    "duration": 13,
    "start_time": "2022-03-04T16:11:23.259Z"
   },
   {
    "duration": 20,
    "start_time": "2022-03-04T16:11:31.147Z"
   },
   {
    "duration": 292,
    "start_time": "2022-03-04T16:11:59.716Z"
   },
   {
    "duration": 358,
    "start_time": "2022-03-04T16:13:23.948Z"
   },
   {
    "duration": 328,
    "start_time": "2022-03-04T16:14:11.679Z"
   },
   {
    "duration": 1121,
    "start_time": "2022-03-04T17:19:36.821Z"
   },
   {
    "duration": 7,
    "start_time": "2022-03-04T17:19:50.712Z"
   },
   {
    "duration": 836,
    "start_time": "2022-03-04T17:19:55.057Z"
   },
   {
    "duration": 6570,
    "start_time": "2022-03-04T17:33:46.805Z"
   },
   {
    "duration": 612,
    "start_time": "2022-03-04T17:34:10.061Z"
   },
   {
    "duration": 728,
    "start_time": "2022-03-04T17:35:16.344Z"
   },
   {
    "duration": 729,
    "start_time": "2022-03-04T17:38:52.828Z"
   },
   {
    "duration": 668,
    "start_time": "2022-03-04T17:40:58.864Z"
   },
   {
    "duration": 652,
    "start_time": "2022-03-04T17:42:55.674Z"
   },
   {
    "duration": 843,
    "start_time": "2022-03-04T17:43:54.435Z"
   },
   {
    "duration": 289,
    "start_time": "2022-03-04T17:45:41.166Z"
   },
   {
    "duration": 495,
    "start_time": "2022-03-04T17:46:26.335Z"
   },
   {
    "duration": 1130,
    "start_time": "2022-03-04T17:46:30.375Z"
   },
   {
    "duration": 464,
    "start_time": "2022-03-04T17:48:29.394Z"
   },
   {
    "duration": 399,
    "start_time": "2022-03-04T17:48:47.827Z"
   },
   {
    "duration": 592,
    "start_time": "2022-03-04T17:48:53.202Z"
   },
   {
    "duration": 472,
    "start_time": "2022-03-04T17:51:01.684Z"
   },
   {
    "duration": 613,
    "start_time": "2022-03-04T17:51:58.111Z"
   },
   {
    "duration": 898,
    "start_time": "2022-03-04T17:52:44.368Z"
   },
   {
    "duration": 910,
    "start_time": "2022-03-04T17:52:57.352Z"
   },
   {
    "duration": 649,
    "start_time": "2022-03-04T17:53:42.232Z"
   },
   {
    "duration": 518,
    "start_time": "2022-03-04T17:54:17.204Z"
   },
   {
    "duration": 626,
    "start_time": "2022-03-04T17:54:25.397Z"
   },
   {
    "duration": 700,
    "start_time": "2022-03-04T17:54:36.452Z"
   },
   {
    "duration": 882,
    "start_time": "2022-03-04T17:54:48.964Z"
   },
   {
    "duration": 16,
    "start_time": "2022-03-04T17:56:58.718Z"
   },
   {
    "duration": 1381,
    "start_time": "2022-03-04T17:59:00.400Z"
   },
   {
    "duration": 5,
    "start_time": "2022-03-04T18:00:00.132Z"
   },
   {
    "duration": 147,
    "start_time": "2022-03-04T18:00:09.739Z"
   },
   {
    "duration": 167,
    "start_time": "2022-03-04T18:00:31.020Z"
   },
   {
    "duration": 163,
    "start_time": "2022-03-04T18:04:58.300Z"
   },
   {
    "duration": 161,
    "start_time": "2022-03-04T18:05:08.427Z"
   },
   {
    "duration": 158,
    "start_time": "2022-03-04T18:05:51.395Z"
   },
   {
    "duration": 152,
    "start_time": "2022-03-04T18:06:52.205Z"
   },
   {
    "duration": 2322,
    "start_time": "2022-03-04T18:08:54.936Z"
   },
   {
    "duration": 278,
    "start_time": "2022-03-04T18:32:20.085Z"
   },
   {
    "duration": 4908,
    "start_time": "2022-03-04T18:32:56.245Z"
   },
   {
    "duration": 281,
    "start_time": "2022-03-04T18:34:35.544Z"
   },
   {
    "duration": 6,
    "start_time": "2022-03-04T18:34:48.544Z"
   },
   {
    "duration": 138,
    "start_time": "2022-03-04T18:35:26.465Z"
   },
   {
    "duration": 1393,
    "start_time": "2022-03-04T18:35:37.048Z"
   },
   {
    "duration": 209,
    "start_time": "2022-03-04T18:36:37.658Z"
   },
   {
    "duration": 1163,
    "start_time": "2022-03-04T18:36:43.210Z"
   },
   {
    "duration": 1121,
    "start_time": "2022-03-04T18:37:03.427Z"
   },
   {
    "duration": 1054,
    "start_time": "2022-03-04T18:37:36.315Z"
   },
   {
    "duration": 6,
    "start_time": "2022-03-04T18:40:45.792Z"
   },
   {
    "duration": 532,
    "start_time": "2022-03-04T18:40:55.583Z"
   },
   {
    "duration": 695,
    "start_time": "2022-03-04T18:43:26.371Z"
   },
   {
    "duration": 675,
    "start_time": "2022-03-04T18:43:39.021Z"
   },
   {
    "duration": 28,
    "start_time": "2022-03-04T18:44:19.821Z"
   },
   {
    "duration": 728,
    "start_time": "2022-03-04T18:53:54.533Z"
   },
   {
    "duration": 861,
    "start_time": "2022-03-04T18:57:03.945Z"
   },
   {
    "duration": 860,
    "start_time": "2022-03-04T18:57:19.096Z"
   },
   {
    "duration": 1433,
    "start_time": "2022-03-04T19:03:26.770Z"
   },
   {
    "duration": 1282,
    "start_time": "2022-03-04T19:04:24.043Z"
   },
   {
    "duration": 1214,
    "start_time": "2022-03-04T19:04:34.969Z"
   },
   {
    "duration": 2061,
    "start_time": "2022-03-04T19:33:49.009Z"
   },
   {
    "duration": 113,
    "start_time": "2022-03-04T19:33:51.072Z"
   },
   {
    "duration": 10,
    "start_time": "2022-03-04T19:33:51.188Z"
   },
   {
    "duration": 50,
    "start_time": "2022-03-04T19:33:51.201Z"
   },
   {
    "duration": 381,
    "start_time": "2022-03-04T19:33:51.254Z"
   },
   {
    "duration": 373,
    "start_time": "2022-03-04T19:33:51.638Z"
   },
   {
    "duration": 603,
    "start_time": "2022-03-04T19:33:52.014Z"
   },
   {
    "duration": 776,
    "start_time": "2022-03-04T19:33:52.620Z"
   },
   {
    "duration": 1056,
    "start_time": "2022-03-04T19:33:53.399Z"
   },
   {
    "duration": 831,
    "start_time": "2022-03-04T19:33:54.458Z"
   },
   {
    "duration": -85,
    "start_time": "2022-03-04T19:33:55.377Z"
   },
   {
    "duration": -87,
    "start_time": "2022-03-04T19:33:55.380Z"
   },
   {
    "duration": -86,
    "start_time": "2022-03-04T19:33:55.381Z"
   },
   {
    "duration": -89,
    "start_time": "2022-03-04T19:33:55.386Z"
   },
   {
    "duration": 729,
    "start_time": "2022-03-04T19:35:03.416Z"
   },
   {
    "duration": 426,
    "start_time": "2022-03-04T19:35:17.825Z"
   },
   {
    "duration": 419,
    "start_time": "2022-03-04T19:35:20.208Z"
   },
   {
    "duration": 552,
    "start_time": "2022-03-04T19:35:21.128Z"
   },
   {
    "duration": 441,
    "start_time": "2022-03-04T19:35:22.592Z"
   },
   {
    "duration": 422,
    "start_time": "2022-03-04T19:35:23.576Z"
   },
   {
    "duration": 423,
    "start_time": "2022-03-04T19:35:31.672Z"
   },
   {
    "duration": 457,
    "start_time": "2022-03-04T19:35:45.841Z"
   },
   {
    "duration": 2081,
    "start_time": "2022-03-04T19:38:31.344Z"
   },
   {
    "duration": 92,
    "start_time": "2022-03-04T19:38:33.428Z"
   },
   {
    "duration": 8,
    "start_time": "2022-03-04T19:38:33.523Z"
   },
   {
    "duration": 20,
    "start_time": "2022-03-04T19:38:33.550Z"
   },
   {
    "duration": 362,
    "start_time": "2022-03-04T19:38:33.573Z"
   },
   {
    "duration": 374,
    "start_time": "2022-03-04T19:38:33.938Z"
   },
   {
    "duration": 586,
    "start_time": "2022-03-04T19:38:34.316Z"
   },
   {
    "duration": 788,
    "start_time": "2022-03-04T19:38:34.905Z"
   },
   {
    "duration": 1056,
    "start_time": "2022-03-04T19:38:35.696Z"
   },
   {
    "duration": 853,
    "start_time": "2022-03-04T19:38:36.754Z"
   },
   {
    "duration": -474,
    "start_time": "2022-03-04T19:38:38.084Z"
   },
   {
    "duration": -474,
    "start_time": "2022-03-04T19:38:38.085Z"
   },
   {
    "duration": -474,
    "start_time": "2022-03-04T19:38:38.087Z"
   },
   {
    "duration": -473,
    "start_time": "2022-03-04T19:38:38.088Z"
   },
   {
    "duration": 182,
    "start_time": "2022-03-04T19:38:57.454Z"
   },
   {
    "duration": 2091,
    "start_time": "2022-03-04T19:39:11.785Z"
   },
   {
    "duration": 89,
    "start_time": "2022-03-04T19:39:13.879Z"
   },
   {
    "duration": 7,
    "start_time": "2022-03-04T19:39:13.971Z"
   },
   {
    "duration": 23,
    "start_time": "2022-03-04T19:39:13.981Z"
   },
   {
    "duration": 363,
    "start_time": "2022-03-04T19:39:14.007Z"
   },
   {
    "duration": 348,
    "start_time": "2022-03-04T19:39:14.372Z"
   },
   {
    "duration": 603,
    "start_time": "2022-03-04T19:39:14.722Z"
   },
   {
    "duration": 777,
    "start_time": "2022-03-04T19:39:15.328Z"
   },
   {
    "duration": 1045,
    "start_time": "2022-03-04T19:39:16.108Z"
   },
   {
    "duration": 299,
    "start_time": "2022-03-04T19:39:17.155Z"
   },
   {
    "duration": 1051,
    "start_time": "2022-03-04T19:39:17.457Z"
   },
   {
    "duration": 524,
    "start_time": "2022-03-04T19:39:18.510Z"
   },
   {
    "duration": 340,
    "start_time": "2022-03-04T19:39:18.696Z"
   },
   {
    "duration": 340,
    "start_time": "2022-03-04T19:39:18.698Z"
   },
   {
    "duration": 692,
    "start_time": "2022-03-04T19:39:47.799Z"
   },
   {
    "duration": 2042,
    "start_time": "2022-03-04T19:39:57.280Z"
   },
   {
    "duration": 96,
    "start_time": "2022-03-04T19:39:59.324Z"
   },
   {
    "duration": 7,
    "start_time": "2022-03-04T19:39:59.423Z"
   },
   {
    "duration": 36,
    "start_time": "2022-03-04T19:39:59.432Z"
   },
   {
    "duration": 366,
    "start_time": "2022-03-04T19:39:59.471Z"
   },
   {
    "duration": 394,
    "start_time": "2022-03-04T19:39:59.841Z"
   },
   {
    "duration": 841,
    "start_time": "2022-03-04T19:40:00.238Z"
   },
   {
    "duration": 1024,
    "start_time": "2022-03-04T19:40:01.083Z"
   },
   {
    "duration": 1445,
    "start_time": "2022-03-04T19:40:02.110Z"
   },
   {
    "duration": 403,
    "start_time": "2022-03-04T19:40:03.558Z"
   },
   {
    "duration": 806,
    "start_time": "2022-03-04T19:40:03.964Z"
   },
   {
    "duration": 685,
    "start_time": "2022-03-04T19:40:04.773Z"
   },
   {
    "duration": 735,
    "start_time": "2022-03-04T19:40:05.460Z"
   },
   {
    "duration": 886,
    "start_time": "2022-03-04T19:40:06.198Z"
   },
   {
    "duration": 1993,
    "start_time": "2022-03-05T12:11:10.252Z"
   },
   {
    "duration": 72,
    "start_time": "2022-03-05T12:11:12.247Z"
   },
   {
    "duration": 5,
    "start_time": "2022-03-05T12:11:12.322Z"
   },
   {
    "duration": 20,
    "start_time": "2022-03-05T12:11:12.329Z"
   },
   {
    "duration": 255,
    "start_time": "2022-03-05T12:11:12.350Z"
   },
   {
    "duration": 240,
    "start_time": "2022-03-05T12:11:12.607Z"
   },
   {
    "duration": 434,
    "start_time": "2022-03-05T12:11:12.849Z"
   },
   {
    "duration": 574,
    "start_time": "2022-03-05T12:11:13.285Z"
   },
   {
    "duration": 708,
    "start_time": "2022-03-05T12:11:13.862Z"
   },
   {
    "duration": 212,
    "start_time": "2022-03-05T12:11:14.572Z"
   },
   {
    "duration": 974,
    "start_time": "2022-03-05T12:11:14.786Z"
   },
   {
    "duration": 466,
    "start_time": "2022-03-05T12:11:15.762Z"
   },
   {
    "duration": 454,
    "start_time": "2022-03-05T12:11:16.230Z"
   },
   {
    "duration": 596,
    "start_time": "2022-03-05T12:11:16.685Z"
   },
   {
    "duration": 333,
    "start_time": "2022-03-08T14:51:34.287Z"
   },
   {
    "duration": 2323,
    "start_time": "2022-03-08T14:51:38.772Z"
   },
   {
    "duration": 95,
    "start_time": "2022-03-08T14:51:41.097Z"
   },
   {
    "duration": 8,
    "start_time": "2022-03-08T14:51:41.196Z"
   },
   {
    "duration": 24,
    "start_time": "2022-03-08T14:51:41.207Z"
   },
   {
    "duration": 366,
    "start_time": "2022-03-08T14:51:41.233Z"
   },
   {
    "duration": 371,
    "start_time": "2022-03-08T14:51:41.602Z"
   },
   {
    "duration": 44,
    "start_time": "2022-03-08T14:51:42.917Z"
   },
   {
    "duration": 633,
    "start_time": "2022-03-08T14:52:18.703Z"
   },
   {
    "duration": 536,
    "start_time": "2022-03-08T14:53:01.480Z"
   },
   {
    "duration": 525,
    "start_time": "2022-03-08T14:53:53.481Z"
   },
   {
    "duration": 532,
    "start_time": "2022-03-08T14:54:28.800Z"
   },
   {
    "duration": 646,
    "start_time": "2022-03-08T14:56:10.630Z"
   },
   {
    "duration": 526,
    "start_time": "2022-03-08T14:56:25.234Z"
   },
   {
    "duration": 444,
    "start_time": "2022-03-08T15:10:26.190Z"
   },
   {
    "duration": 1180,
    "start_time": "2022-03-08T15:24:20.270Z"
   },
   {
    "duration": 475,
    "start_time": "2022-03-08T15:37:58.810Z"
   },
   {
    "duration": 9,
    "start_time": "2022-03-08T15:38:03.251Z"
   },
   {
    "duration": 109,
    "start_time": "2022-03-08T15:38:03.263Z"
   },
   {
    "duration": 7,
    "start_time": "2022-03-08T15:38:03.375Z"
   },
   {
    "duration": 34,
    "start_time": "2022-03-08T15:38:03.385Z"
   },
   {
    "duration": 483,
    "start_time": "2022-03-08T15:38:03.421Z"
   },
   {
    "duration": 364,
    "start_time": "2022-03-08T15:38:03.907Z"
   },
   {
    "duration": 538,
    "start_time": "2022-03-08T15:38:04.273Z"
   },
   {
    "duration": 646,
    "start_time": "2022-03-08T15:38:04.815Z"
   },
   {
    "duration": 492,
    "start_time": "2022-03-08T15:38:05.464Z"
   },
   {
    "duration": 199,
    "start_time": "2022-03-08T15:38:05.959Z"
   },
   {
    "duration": 1418,
    "start_time": "2022-03-08T15:38:06.161Z"
   },
   {
    "duration": 1060,
    "start_time": "2022-03-08T15:38:07.638Z"
   },
   {
    "duration": 719,
    "start_time": "2022-03-08T15:39:58.677Z"
   },
   {
    "duration": 2158,
    "start_time": "2022-03-08T15:53:31.668Z"
   },
   {
    "duration": 90,
    "start_time": "2022-03-08T15:53:33.829Z"
   },
   {
    "duration": 7,
    "start_time": "2022-03-08T15:53:33.921Z"
   },
   {
    "duration": 28,
    "start_time": "2022-03-08T15:53:33.931Z"
   },
   {
    "duration": 380,
    "start_time": "2022-03-08T15:53:33.962Z"
   },
   {
    "duration": 350,
    "start_time": "2022-03-08T15:53:34.344Z"
   },
   {
    "duration": 750,
    "start_time": "2022-03-08T15:53:34.697Z"
   },
   {
    "duration": 817,
    "start_time": "2022-03-08T15:53:35.452Z"
   },
   {
    "duration": 1025,
    "start_time": "2022-03-08T15:53:36.272Z"
   },
   {
    "duration": 260,
    "start_time": "2022-03-08T15:53:37.299Z"
   },
   {
    "duration": 1169,
    "start_time": "2022-03-08T15:53:37.586Z"
   },
   {
    "duration": 640,
    "start_time": "2022-03-08T15:53:38.758Z"
   },
   {
    "duration": 752,
    "start_time": "2022-03-08T15:53:39.401Z"
   },
   {
    "duration": 883,
    "start_time": "2022-03-08T15:53:40.156Z"
   },
   {
    "duration": 11245,
    "start_time": "2022-03-08T16:38:17.692Z"
   },
   {
    "duration": 90,
    "start_time": "2022-03-08T16:38:28.941Z"
   },
   {
    "duration": 20,
    "start_time": "2022-03-08T16:38:29.034Z"
   },
   {
    "duration": 30,
    "start_time": "2022-03-08T16:38:29.056Z"
   },
   {
    "duration": 368,
    "start_time": "2022-03-08T16:38:29.089Z"
   },
   {
    "duration": 339,
    "start_time": "2022-03-08T16:38:29.460Z"
   },
   {
    "duration": 535,
    "start_time": "2022-03-08T16:38:29.802Z"
   },
   {
    "duration": 748,
    "start_time": "2022-03-08T16:38:30.340Z"
   },
   {
    "duration": 1057,
    "start_time": "2022-03-08T16:38:31.094Z"
   },
   {
    "duration": 434,
    "start_time": "2022-03-08T16:38:32.155Z"
   },
   {
    "duration": 1528,
    "start_time": "2022-03-08T16:38:32.591Z"
   },
   {
    "duration": 663,
    "start_time": "2022-03-08T16:38:34.122Z"
   },
   {
    "duration": 765,
    "start_time": "2022-03-08T16:38:34.788Z"
   },
   {
    "duration": 846,
    "start_time": "2022-03-08T16:38:35.556Z"
   },
   {
    "duration": 24,
    "start_time": "2022-03-08T16:39:21.544Z"
   },
   {
    "duration": 9,
    "start_time": "2022-03-08T16:39:41.784Z"
   },
   {
    "duration": 5,
    "start_time": "2022-03-08T16:39:49.720Z"
   },
   {
    "duration": 496,
    "start_time": "2022-03-08T16:39:59.539Z"
   },
   {
    "duration": 12,
    "start_time": "2022-03-08T16:40:11.057Z"
   },
   {
    "duration": 76,
    "start_time": "2022-03-08T16:41:57.485Z"
   },
   {
    "duration": 10748,
    "start_time": "2022-03-08T16:42:04.035Z"
   },
   {
    "duration": 15,
    "start_time": "2022-03-08T16:42:26.380Z"
   },
   {
    "duration": 14,
    "start_time": "2022-03-08T16:43:09.016Z"
   },
   {
    "duration": 338,
    "start_time": "2022-03-08T19:59:07.735Z"
   },
   {
    "duration": 2113,
    "start_time": "2022-03-08T19:59:14.090Z"
   },
   {
    "duration": 98,
    "start_time": "2022-03-08T19:59:16.207Z"
   },
   {
    "duration": 8,
    "start_time": "2022-03-08T19:59:16.309Z"
   },
   {
    "duration": 26,
    "start_time": "2022-03-08T19:59:16.319Z"
   },
   {
    "duration": 572,
    "start_time": "2022-03-08T19:59:16.348Z"
   },
   {
    "duration": 368,
    "start_time": "2022-03-08T19:59:16.923Z"
   },
   {
    "duration": 38,
    "start_time": "2022-03-08T19:59:19.882Z"
   },
   {
    "duration": 545,
    "start_time": "2022-03-08T19:59:41.295Z"
   },
   {
    "duration": 619,
    "start_time": "2022-03-08T20:01:06.728Z"
   },
   {
    "duration": 532,
    "start_time": "2022-03-08T20:08:20.418Z"
   },
   {
    "duration": 128,
    "start_time": "2022-03-15T08:51:20.259Z"
   },
   {
    "duration": 1694,
    "start_time": "2022-03-15T08:53:18.397Z"
   },
   {
    "duration": 4,
    "start_time": "2022-03-15T08:53:24.151Z"
   },
   {
    "duration": 1731,
    "start_time": "2022-03-15T08:54:08.788Z"
   },
   {
    "duration": 1654,
    "start_time": "2022-03-15T08:54:14.273Z"
   },
   {
    "duration": 1417,
    "start_time": "2022-03-15T08:54:30.509Z"
   },
   {
    "duration": 1608,
    "start_time": "2022-03-15T08:54:41.732Z"
   },
   {
    "duration": 804,
    "start_time": "2022-03-15T08:55:11.885Z"
   },
   {
    "duration": 188,
    "start_time": "2022-03-15T08:55:52.729Z"
   },
   {
    "duration": 190,
    "start_time": "2022-03-15T08:56:33.488Z"
   },
   {
    "duration": 194,
    "start_time": "2022-03-15T08:56:58.619Z"
   },
   {
    "duration": 220,
    "start_time": "2022-03-15T09:17:06.958Z"
   },
   {
    "duration": 22,
    "start_time": "2022-03-15T09:17:19.999Z"
   },
   {
    "duration": 8,
    "start_time": "2022-03-15T09:22:58.116Z"
   },
   {
    "duration": 15,
    "start_time": "2022-03-15T09:23:09.542Z"
   },
   {
    "duration": 14,
    "start_time": "2022-03-15T09:24:41.497Z"
   },
   {
    "duration": 5,
    "start_time": "2022-03-15T09:25:41.679Z"
   },
   {
    "duration": 195,
    "start_time": "2022-03-15T09:25:41.771Z"
   },
   {
    "duration": 13,
    "start_time": "2022-03-15T09:25:41.968Z"
   },
   {
    "duration": 37,
    "start_time": "2022-03-15T09:25:41.983Z"
   },
   {
    "duration": 822,
    "start_time": "2022-03-15T09:25:44.276Z"
   },
   {
    "duration": 17,
    "start_time": "2022-03-15T09:26:01.507Z"
   },
   {
    "duration": 5079,
    "start_time": "2022-03-15T09:31:38.174Z"
   },
   {
    "duration": 5,
    "start_time": "2022-03-15T09:31:50.741Z"
   },
   {
    "duration": 213,
    "start_time": "2022-03-15T09:31:50.748Z"
   },
   {
    "duration": 1139,
    "start_time": "2022-03-15T09:31:52.676Z"
   },
   {
    "duration": 39,
    "start_time": "2022-03-15T09:31:58.621Z"
   },
   {
    "duration": 17,
    "start_time": "2022-03-15T09:32:00.564Z"
   },
   {
    "duration": 250,
    "start_time": "2022-03-16T06:47:07.769Z"
   },
   {
    "duration": 209,
    "start_time": "2022-03-16T06:47:11.877Z"
   },
   {
    "duration": 296,
    "start_time": "2022-03-16T06:47:20.868Z"
   },
   {
    "duration": 172,
    "start_time": "2022-03-16T06:47:25.476Z"
   },
   {
    "duration": 1805,
    "start_time": "2022-03-16T06:47:29.848Z"
   },
   {
    "duration": 255,
    "start_time": "2022-03-16T06:47:31.655Z"
   },
   {
    "duration": 1642,
    "start_time": "2022-03-16T06:47:31.914Z"
   },
   {
    "duration": 74,
    "start_time": "2022-03-16T06:47:33.558Z"
   },
   {
    "duration": 22,
    "start_time": "2022-03-16T06:47:33.636Z"
   },
   {
    "duration": 24,
    "start_time": "2022-03-16T06:47:33.798Z"
   },
   {
    "duration": 31,
    "start_time": "2022-03-16T06:49:58.561Z"
   },
   {
    "duration": 51,
    "start_time": "2022-03-16T06:50:11.053Z"
   },
   {
    "duration": 149,
    "start_time": "2022-03-16T06:50:58.342Z"
   },
   {
    "duration": 292,
    "start_time": "2022-03-16T06:51:10.146Z"
   },
   {
    "duration": 281,
    "start_time": "2022-03-16T06:51:24.156Z"
   },
   {
    "duration": 366,
    "start_time": "2022-03-16T06:54:56.490Z"
   },
   {
    "duration": 6,
    "start_time": "2022-03-16T06:56:15.171Z"
   },
   {
    "duration": 235,
    "start_time": "2022-03-16T06:56:15.223Z"
   },
   {
    "duration": 1514,
    "start_time": "2022-03-16T06:56:15.461Z"
   },
   {
    "duration": 44,
    "start_time": "2022-03-16T06:56:16.982Z"
   },
   {
    "duration": 19,
    "start_time": "2022-03-16T06:56:17.029Z"
   },
   {
    "duration": 281,
    "start_time": "2022-03-16T06:56:17.050Z"
   },
   {
    "duration": 30,
    "start_time": "2022-03-16T06:56:17.334Z"
   },
   {
    "duration": 8,
    "start_time": "2022-03-16T06:56:38.751Z"
   },
   {
    "duration": 7,
    "start_time": "2022-03-16T06:57:32.775Z"
   },
   {
    "duration": 310,
    "start_time": "2022-03-16T06:59:43.852Z"
   },
   {
    "duration": 191,
    "start_time": "2022-03-16T06:59:51.411Z"
   },
   {
    "duration": 188,
    "start_time": "2022-03-16T07:00:10.029Z"
   },
   {
    "duration": 79,
    "start_time": "2022-03-16T07:03:01.013Z"
   },
   {
    "duration": 18,
    "start_time": "2022-03-16T07:03:09.013Z"
   },
   {
    "duration": 740,
    "start_time": "2022-03-16T07:06:07.793Z"
   },
   {
    "duration": 66,
    "start_time": "2022-03-16T07:14:49.975Z"
   },
   {
    "duration": 57,
    "start_time": "2022-03-16T07:18:44.705Z"
   },
   {
    "duration": 66,
    "start_time": "2022-03-16T07:18:50.066Z"
   },
   {
    "duration": 260,
    "start_time": "2022-03-16T07:21:06.964Z"
   },
   {
    "duration": 901,
    "start_time": "2022-03-16T07:21:25.688Z"
   },
   {
    "duration": 345,
    "start_time": "2022-03-16T07:21:44.634Z"
   },
   {
    "duration": 70,
    "start_time": "2022-03-16T07:22:15.610Z"
   },
   {
    "duration": 284,
    "start_time": "2022-03-16T07:22:36.629Z"
   },
   {
    "duration": 241,
    "start_time": "2022-03-16T07:23:41.539Z"
   },
   {
    "duration": 350,
    "start_time": "2022-03-16T07:23:56.114Z"
   },
   {
    "duration": 400,
    "start_time": "2022-03-16T07:24:12.074Z"
   },
   {
    "duration": 408,
    "start_time": "2022-03-16T07:24:20.704Z"
   },
   {
    "duration": 578,
    "start_time": "2022-03-16T07:24:23.298Z"
   },
   {
    "duration": 573,
    "start_time": "2022-03-16T07:28:07.284Z"
   },
   {
    "duration": 580,
    "start_time": "2022-03-16T07:28:30.584Z"
   },
   {
    "duration": 720,
    "start_time": "2022-03-16T07:29:03.538Z"
   },
   {
    "duration": 643,
    "start_time": "2022-03-16T07:30:24.192Z"
   },
   {
    "duration": 848,
    "start_time": "2022-03-16T07:30:36.392Z"
   },
   {
    "duration": 644,
    "start_time": "2022-03-16T07:32:00.893Z"
   },
   {
    "duration": 644,
    "start_time": "2022-03-16T07:37:59.747Z"
   },
   {
    "duration": 610,
    "start_time": "2022-03-16T07:38:27.209Z"
   },
   {
    "duration": 34419,
    "start_time": "2022-03-16T07:42:31.559Z"
   },
   {
    "duration": 612,
    "start_time": "2022-03-16T07:43:11.452Z"
   },
   {
    "duration": 1110,
    "start_time": "2022-03-16T07:44:22.338Z"
   },
   {
    "duration": 607,
    "start_time": "2022-03-16T07:45:41.915Z"
   },
   {
    "duration": 64,
    "start_time": "2022-03-16T07:48:40.613Z"
   },
   {
    "duration": 87,
    "start_time": "2022-03-16T07:49:10.652Z"
   },
   {
    "duration": 191,
    "start_time": "2022-03-16T07:49:54.846Z"
   },
   {
    "duration": 10,
    "start_time": "2022-03-16T07:50:04.751Z"
   },
   {
    "duration": 263,
    "start_time": "2022-03-16T07:53:39.365Z"
   },
   {
    "duration": 14,
    "start_time": "2022-03-16T07:53:48.930Z"
   },
   {
    "duration": 57,
    "start_time": "2022-03-16T07:55:13.394Z"
   },
   {
    "duration": 66,
    "start_time": "2022-03-16T07:55:41.590Z"
   },
   {
    "duration": 12,
    "start_time": "2022-03-16T07:56:17.603Z"
   },
   {
    "duration": 15,
    "start_time": "2022-03-16T07:56:20.811Z"
   },
   {
    "duration": 89,
    "start_time": "2022-03-16T08:02:33.362Z"
   },
   {
    "duration": 14,
    "start_time": "2022-03-16T08:02:39.329Z"
   },
   {
    "duration": 17,
    "start_time": "2022-03-16T08:06:34.640Z"
   },
   {
    "duration": 13,
    "start_time": "2022-03-16T08:06:44.433Z"
   },
   {
    "duration": 14,
    "start_time": "2022-03-16T08:06:59.076Z"
   },
   {
    "duration": 202,
    "start_time": "2022-03-16T08:07:59.495Z"
   },
   {
    "duration": 211,
    "start_time": "2022-03-16T08:08:47.117Z"
   },
   {
    "duration": 235,
    "start_time": "2022-03-16T08:08:56.494Z"
   },
   {
    "duration": 15,
    "start_time": "2022-03-16T08:08:59.389Z"
   },
   {
    "duration": 189,
    "start_time": "2022-03-16T08:09:41.141Z"
   },
   {
    "duration": 39,
    "start_time": "2022-03-16T08:09:54.196Z"
   },
   {
    "duration": 1961,
    "start_time": "2022-03-16T08:11:00.112Z"
   },
   {
    "duration": 259,
    "start_time": "2022-03-16T08:11:02.079Z"
   },
   {
    "duration": 2948,
    "start_time": "2022-03-16T08:11:02.341Z"
   },
   {
    "duration": 61,
    "start_time": "2022-03-16T08:11:05.291Z"
   },
   {
    "duration": 46,
    "start_time": "2022-03-16T08:11:05.354Z"
   },
   {
    "duration": 306,
    "start_time": "2022-03-16T08:11:05.403Z"
   },
   {
    "duration": 36,
    "start_time": "2022-03-16T08:11:05.711Z"
   },
   {
    "duration": 34,
    "start_time": "2022-03-16T08:11:05.751Z"
   },
   {
    "duration": 26,
    "start_time": "2022-03-16T08:11:05.789Z"
   },
   {
    "duration": 523,
    "start_time": "2022-03-16T08:11:05.818Z"
   },
   {
    "duration": 113,
    "start_time": "2022-03-16T08:11:06.343Z"
   },
   {
    "duration": 996,
    "start_time": "2022-03-16T08:11:13.010Z"
   },
   {
    "duration": 41,
    "start_time": "2022-03-16T08:11:25.515Z"
   },
   {
    "duration": 18,
    "start_time": "2022-03-16T08:11:39.952Z"
   },
   {
    "duration": 17,
    "start_time": "2022-03-16T08:12:07.701Z"
   },
   {
    "duration": 18,
    "start_time": "2022-03-16T08:12:44.959Z"
   },
   {
    "duration": 383,
    "start_time": "2022-03-16T08:14:04.486Z"
   },
   {
    "duration": 5078,
    "start_time": "2022-03-16T08:14:12.927Z"
   },
   {
    "duration": 20,
    "start_time": "2022-03-16T08:14:38.949Z"
   },
   {
    "duration": 18,
    "start_time": "2022-03-16T08:14:53.380Z"
   },
   {
    "duration": 19,
    "start_time": "2022-03-16T08:27:11.261Z"
   },
   {
    "duration": 41,
    "start_time": "2022-03-16T08:29:12.758Z"
   },
   {
    "duration": 1089,
    "start_time": "2022-03-16T08:30:18.847Z"
   },
   {
    "duration": 402,
    "start_time": "2022-03-16T08:32:12.988Z"
   },
   {
    "duration": 399,
    "start_time": "2022-03-16T08:32:23.786Z"
   },
   {
    "duration": 411,
    "start_time": "2022-03-16T08:33:50.605Z"
   },
   {
    "duration": 4,
    "start_time": "2022-03-16T08:37:32.128Z"
   },
   {
    "duration": 4631,
    "start_time": "2022-03-16T08:39:26.073Z"
   },
   {
    "duration": 114,
    "start_time": "2022-03-16T08:39:46.548Z"
   },
   {
    "duration": 4461,
    "start_time": "2022-03-16T09:24:06.259Z"
   },
   {
    "duration": 458,
    "start_time": "2022-03-16T09:25:10.387Z"
   },
   {
    "duration": 476,
    "start_time": "2022-03-16T09:25:30.404Z"
   },
   {
    "duration": 469,
    "start_time": "2022-03-16T09:25:39.384Z"
   },
   {
    "duration": -292,
    "start_time": "2022-03-16T09:25:40.147Z"
   },
   {
    "duration": 479,
    "start_time": "2022-03-16T09:25:51.415Z"
   },
   {
    "duration": 288,
    "start_time": "2022-03-16T09:26:25.231Z"
   },
   {
    "duration": 282,
    "start_time": "2022-03-16T09:26:40.152Z"
   },
   {
    "duration": 78,
    "start_time": "2022-03-16T09:29:06.843Z"
   },
   {
    "duration": 63,
    "start_time": "2022-03-16T09:29:44.282Z"
   },
   {
    "duration": 69,
    "start_time": "2022-03-16T09:32:40.187Z"
   },
   {
    "duration": 67,
    "start_time": "2022-03-16T09:33:36.575Z"
   },
   {
    "duration": 253,
    "start_time": "2022-03-16T09:36:10.462Z"
   },
   {
    "duration": 418,
    "start_time": "2022-03-16T09:36:29.085Z"
   },
   {
    "duration": 474,
    "start_time": "2022-03-16T09:37:10.273Z"
   },
   {
    "duration": 184,
    "start_time": "2022-03-16T09:37:41.907Z"
   },
   {
    "duration": 189,
    "start_time": "2022-03-16T09:39:35.515Z"
   },
   {
    "duration": 19,
    "start_time": "2022-03-16T09:39:43.992Z"
   },
   {
    "duration": 11,
    "start_time": "2022-03-16T09:59:17.110Z"
   },
   {
    "duration": 6,
    "start_time": "2022-03-16T10:01:50.575Z"
   },
   {
    "duration": 39,
    "start_time": "2022-03-16T10:01:57.508Z"
   },
   {
    "duration": 6,
    "start_time": "2022-03-16T10:13:38.827Z"
   },
   {
    "duration": 266,
    "start_time": "2022-03-16T10:13:38.836Z"
   },
   {
    "duration": 1588,
    "start_time": "2022-03-16T10:13:39.105Z"
   },
   {
    "duration": 46,
    "start_time": "2022-03-16T10:13:40.696Z"
   },
   {
    "duration": 40,
    "start_time": "2022-03-16T10:13:40.745Z"
   },
   {
    "duration": 259,
    "start_time": "2022-03-16T10:13:40.787Z"
   },
   {
    "duration": 39,
    "start_time": "2022-03-16T10:13:41.049Z"
   },
   {
    "duration": 7,
    "start_time": "2022-03-16T10:13:41.090Z"
   },
   {
    "duration": 18,
    "start_time": "2022-03-16T10:13:41.101Z"
   },
   {
    "duration": 618,
    "start_time": "2022-03-16T10:13:41.123Z"
   },
   {
    "duration": 102,
    "start_time": "2022-03-16T10:13:41.744Z"
   },
   {
    "duration": 16,
    "start_time": "2022-03-16T10:13:41.848Z"
   },
   {
    "duration": 19,
    "start_time": "2022-03-16T10:13:41.882Z"
   },
   {
    "duration": 19,
    "start_time": "2022-03-16T10:13:41.903Z"
   },
   {
    "duration": 457,
    "start_time": "2022-03-16T10:13:41.925Z"
   },
   {
    "duration": 15,
    "start_time": "2022-03-16T10:13:42.385Z"
   },
   {
    "duration": 13,
    "start_time": "2022-03-16T10:13:42.402Z"
   },
   {
    "duration": 6,
    "start_time": "2022-03-16T10:26:44.856Z"
   },
   {
    "duration": 270,
    "start_time": "2022-03-16T10:26:44.865Z"
   },
   {
    "duration": 1751,
    "start_time": "2022-03-16T10:26:45.139Z"
   },
   {
    "duration": 49,
    "start_time": "2022-03-16T10:26:46.893Z"
   },
   {
    "duration": 48,
    "start_time": "2022-03-16T10:26:46.945Z"
   },
   {
    "duration": 276,
    "start_time": "2022-03-16T10:26:46.996Z"
   },
   {
    "duration": 36,
    "start_time": "2022-03-16T10:26:47.275Z"
   },
   {
    "duration": 11,
    "start_time": "2022-03-16T10:26:47.314Z"
   },
   {
    "duration": 62,
    "start_time": "2022-03-16T10:26:47.331Z"
   },
   {
    "duration": 721,
    "start_time": "2022-03-16T10:26:47.397Z"
   },
   {
    "duration": 101,
    "start_time": "2022-03-16T10:26:48.120Z"
   },
   {
    "duration": 17,
    "start_time": "2022-03-16T10:26:48.223Z"
   },
   {
    "duration": 47,
    "start_time": "2022-03-16T10:26:48.243Z"
   },
   {
    "duration": 21,
    "start_time": "2022-03-16T10:26:48.294Z"
   },
   {
    "duration": 468,
    "start_time": "2022-03-16T10:26:48.317Z"
   },
   {
    "duration": 15,
    "start_time": "2022-03-16T10:26:48.788Z"
   },
   {
    "duration": 12,
    "start_time": "2022-03-16T10:26:48.805Z"
   },
   {
    "duration": 67,
    "start_time": "2022-03-16T10:26:48.819Z"
   },
   {
    "duration": 14,
    "start_time": "2022-03-16T10:28:37.953Z"
   },
   {
    "duration": 1871,
    "start_time": "2022-03-16T10:28:53.042Z"
   },
   {
    "duration": 249,
    "start_time": "2022-03-16T10:28:54.915Z"
   },
   {
    "duration": 1503,
    "start_time": "2022-03-16T10:28:55.168Z"
   },
   {
    "duration": 64,
    "start_time": "2022-03-16T10:28:56.675Z"
   },
   {
    "duration": 42,
    "start_time": "2022-03-16T10:28:56.742Z"
   },
   {
    "duration": 261,
    "start_time": "2022-03-16T10:28:56.787Z"
   },
   {
    "duration": 39,
    "start_time": "2022-03-16T10:28:57.051Z"
   },
   {
    "duration": 8,
    "start_time": "2022-03-16T10:28:57.093Z"
   },
   {
    "duration": 16,
    "start_time": "2022-03-16T10:28:57.104Z"
   },
   {
    "duration": 502,
    "start_time": "2022-03-16T10:28:57.123Z"
   },
   {
    "duration": 97,
    "start_time": "2022-03-16T10:28:57.627Z"
   },
   {
    "duration": 18,
    "start_time": "2022-03-16T10:28:57.726Z"
   },
   {
    "duration": 39,
    "start_time": "2022-03-16T10:28:57.746Z"
   },
   {
    "duration": 20,
    "start_time": "2022-03-16T10:28:57.787Z"
   },
   {
    "duration": 463,
    "start_time": "2022-03-16T10:28:57.809Z"
   },
   {
    "duration": 20,
    "start_time": "2022-03-16T10:28:58.282Z"
   },
   {
    "duration": 15,
    "start_time": "2022-03-16T10:29:04.259Z"
   },
   {
    "duration": 15,
    "start_time": "2022-03-16T10:29:08.338Z"
   },
   {
    "duration": 16,
    "start_time": "2022-03-16T10:29:37.976Z"
   },
   {
    "duration": 14,
    "start_time": "2022-03-16T10:29:47.115Z"
   },
   {
    "duration": 6,
    "start_time": "2022-03-16T10:29:51.600Z"
   },
   {
    "duration": 248,
    "start_time": "2022-03-16T10:29:51.609Z"
   },
   {
    "duration": 1449,
    "start_time": "2022-03-16T10:29:51.860Z"
   },
   {
    "duration": 55,
    "start_time": "2022-03-16T10:29:53.311Z"
   },
   {
    "duration": 22,
    "start_time": "2022-03-16T10:29:53.382Z"
   },
   {
    "duration": 288,
    "start_time": "2022-03-16T10:29:53.408Z"
   },
   {
    "duration": 32,
    "start_time": "2022-03-16T10:29:53.701Z"
   },
   {
    "duration": 7,
    "start_time": "2022-03-16T10:29:53.736Z"
   },
   {
    "duration": 47,
    "start_time": "2022-03-16T10:29:53.745Z"
   },
   {
    "duration": 692,
    "start_time": "2022-03-16T10:29:53.795Z"
   },
   {
    "duration": 106,
    "start_time": "2022-03-16T10:29:54.490Z"
   },
   {
    "duration": 17,
    "start_time": "2022-03-16T10:29:54.599Z"
   },
   {
    "duration": 19,
    "start_time": "2022-03-16T10:29:54.618Z"
   },
   {
    "duration": 54,
    "start_time": "2022-03-16T10:29:54.639Z"
   },
   {
    "duration": 523,
    "start_time": "2022-03-16T10:29:54.696Z"
   },
   {
    "duration": 19,
    "start_time": "2022-03-16T10:29:55.222Z"
   },
   {
    "duration": 13,
    "start_time": "2022-03-16T10:30:24.073Z"
   },
   {
    "duration": 39,
    "start_time": "2022-03-16T10:30:27.599Z"
   },
   {
    "duration": 35,
    "start_time": "2022-03-16T10:31:16.856Z"
   },
   {
    "duration": 36,
    "start_time": "2022-03-16T10:31:20.253Z"
   },
   {
    "duration": 36,
    "start_time": "2022-03-16T10:31:24.187Z"
   },
   {
    "duration": 35,
    "start_time": "2022-03-16T10:31:28.423Z"
   },
   {
    "duration": 37,
    "start_time": "2022-03-16T10:31:38.328Z"
   },
   {
    "duration": 8,
    "start_time": "2022-03-16T10:33:50.650Z"
   },
   {
    "duration": 382,
    "start_time": "2022-03-16T10:33:57.436Z"
   },
   {
    "duration": 199,
    "start_time": "2022-03-16T10:34:43.457Z"
   },
   {
    "duration": 6,
    "start_time": "2022-03-16T10:34:54.303Z"
   },
   {
    "duration": 244,
    "start_time": "2022-03-16T10:34:54.312Z"
   },
   {
    "duration": 1470,
    "start_time": "2022-03-16T10:34:54.560Z"
   },
   {
    "duration": 59,
    "start_time": "2022-03-16T10:34:56.033Z"
   },
   {
    "duration": 23,
    "start_time": "2022-03-16T10:34:56.095Z"
   },
   {
    "duration": 272,
    "start_time": "2022-03-16T10:34:56.121Z"
   },
   {
    "duration": 32,
    "start_time": "2022-03-16T10:34:56.397Z"
   },
   {
    "duration": 8,
    "start_time": "2022-03-16T10:34:56.433Z"
   },
   {
    "duration": 52,
    "start_time": "2022-03-16T10:34:56.444Z"
   },
   {
    "duration": 621,
    "start_time": "2022-03-16T10:34:56.499Z"
   },
   {
    "duration": 102,
    "start_time": "2022-03-16T10:34:57.124Z"
   },
   {
    "duration": 17,
    "start_time": "2022-03-16T10:34:57.229Z"
   },
   {
    "duration": 47,
    "start_time": "2022-03-16T10:34:57.249Z"
   },
   {
    "duration": 21,
    "start_time": "2022-03-16T10:34:57.299Z"
   },
   {
    "duration": 454,
    "start_time": "2022-03-16T10:34:57.323Z"
   },
   {
    "duration": 14,
    "start_time": "2022-03-16T10:34:57.782Z"
   },
   {
    "duration": 8,
    "start_time": "2022-03-16T10:35:08.076Z"
   },
   {
    "duration": 180,
    "start_time": "2022-03-16T10:35:18.064Z"
   },
   {
    "duration": 196,
    "start_time": "2022-03-16T10:36:33.918Z"
   },
   {
    "duration": 213,
    "start_time": "2022-03-16T10:38:27.743Z"
   },
   {
    "duration": 213,
    "start_time": "2022-03-16T10:42:52.127Z"
   },
   {
    "duration": 191,
    "start_time": "2022-03-16T10:43:14.219Z"
   },
   {
    "duration": 407,
    "start_time": "2022-03-16T10:43:27.130Z"
   },
   {
    "duration": 1715,
    "start_time": "2022-03-16T10:43:45.291Z"
   },
   {
    "duration": 250,
    "start_time": "2022-03-16T10:43:47.403Z"
   },
   {
    "duration": 6,
    "start_time": "2022-03-16T10:43:57.407Z"
   },
   {
    "duration": 235,
    "start_time": "2022-03-16T10:43:57.415Z"
   },
   {
    "duration": 1559,
    "start_time": "2022-03-16T10:43:57.653Z"
   },
   {
    "duration": 53,
    "start_time": "2022-03-16T10:43:59.215Z"
   },
   {
    "duration": 21,
    "start_time": "2022-03-16T10:43:59.283Z"
   },
   {
    "duration": 294,
    "start_time": "2022-03-16T10:43:59.307Z"
   },
   {
    "duration": 31,
    "start_time": "2022-03-16T10:43:59.603Z"
   },
   {
    "duration": 7,
    "start_time": "2022-03-16T10:43:59.638Z"
   },
   {
    "duration": 53,
    "start_time": "2022-03-16T10:43:59.647Z"
   },
   {
    "duration": 488,
    "start_time": "2022-03-16T10:43:59.704Z"
   },
   {
    "duration": 115,
    "start_time": "2022-03-16T10:44:00.194Z"
   },
   {
    "duration": 18,
    "start_time": "2022-03-16T10:44:00.312Z"
   },
   {
    "duration": 33,
    "start_time": "2022-03-16T10:44:00.333Z"
   },
   {
    "duration": 20,
    "start_time": "2022-03-16T10:44:00.382Z"
   },
   {
    "duration": 5,
    "start_time": "2022-03-16T10:44:15.901Z"
   },
   {
    "duration": 245,
    "start_time": "2022-03-16T10:44:15.917Z"
   },
   {
    "duration": 1577,
    "start_time": "2022-03-16T10:44:16.165Z"
   },
   {
    "duration": 65,
    "start_time": "2022-03-16T10:44:17.746Z"
   },
   {
    "duration": 22,
    "start_time": "2022-03-16T10:44:17.815Z"
   },
   {
    "duration": 284,
    "start_time": "2022-03-16T10:44:17.840Z"
   },
   {
    "duration": 35,
    "start_time": "2022-03-16T10:44:18.127Z"
   },
   {
    "duration": 26,
    "start_time": "2022-03-16T10:44:18.165Z"
   },
   {
    "duration": 22,
    "start_time": "2022-03-16T10:44:18.195Z"
   },
   {
    "duration": 617,
    "start_time": "2022-03-16T10:44:18.220Z"
   },
   {
    "duration": 100,
    "start_time": "2022-03-16T10:44:18.839Z"
   },
   {
    "duration": 16,
    "start_time": "2022-03-16T10:44:18.941Z"
   },
   {
    "duration": 37,
    "start_time": "2022-03-16T10:44:18.960Z"
   },
   {
    "duration": 19,
    "start_time": "2022-03-16T10:44:18.999Z"
   },
   {
    "duration": 465,
    "start_time": "2022-03-16T10:44:19.021Z"
   },
   {
    "duration": 425,
    "start_time": "2022-03-16T10:44:46.581Z"
   },
   {
    "duration": 404,
    "start_time": "2022-03-16T10:45:25.461Z"
   },
   {
    "duration": 417,
    "start_time": "2022-03-16T10:45:35.538Z"
   },
   {
    "duration": 420,
    "start_time": "2022-03-16T10:45:51.551Z"
   },
   {
    "duration": 18,
    "start_time": "2022-03-16T10:45:58.440Z"
   },
   {
    "duration": 14,
    "start_time": "2022-03-16T10:46:02.383Z"
   },
   {
    "duration": 129,
    "start_time": "2022-03-16T10:46:07.506Z"
   },
   {
    "duration": 13,
    "start_time": "2022-03-16T10:50:11.664Z"
   },
   {
    "duration": 1746,
    "start_time": "2022-03-16T10:50:56.100Z"
   },
   {
    "duration": 260,
    "start_time": "2022-03-16T10:50:57.849Z"
   },
   {
    "duration": 1688,
    "start_time": "2022-03-16T10:50:58.113Z"
   },
   {
    "duration": 58,
    "start_time": "2022-03-16T10:50:59.804Z"
   },
   {
    "duration": 20,
    "start_time": "2022-03-16T10:50:59.882Z"
   },
   {
    "duration": 295,
    "start_time": "2022-03-16T10:50:59.904Z"
   },
   {
    "duration": 33,
    "start_time": "2022-03-16T10:51:00.202Z"
   },
   {
    "duration": 8,
    "start_time": "2022-03-16T10:51:00.239Z"
   },
   {
    "duration": 48,
    "start_time": "2022-03-16T10:51:00.249Z"
   },
   {
    "duration": 515,
    "start_time": "2022-03-16T10:51:00.299Z"
   },
   {
    "duration": 112,
    "start_time": "2022-03-16T10:51:00.816Z"
   },
   {
    "duration": 17,
    "start_time": "2022-03-16T10:51:00.931Z"
   },
   {
    "duration": 39,
    "start_time": "2022-03-16T10:51:00.950Z"
   },
   {
    "duration": 26,
    "start_time": "2022-03-16T10:51:00.992Z"
   },
   {
    "duration": 468,
    "start_time": "2022-03-16T10:51:01.021Z"
   },
   {
    "duration": 18,
    "start_time": "2022-03-16T10:51:01.491Z"
   },
   {
    "duration": 12,
    "start_time": "2022-03-16T10:51:01.512Z"
   },
   {
    "duration": 65,
    "start_time": "2022-03-16T10:51:01.526Z"
   },
   {
    "duration": 7,
    "start_time": "2022-03-16T10:57:46.338Z"
   },
   {
    "duration": 262,
    "start_time": "2022-03-16T10:57:46.347Z"
   },
   {
    "duration": 1751,
    "start_time": "2022-03-16T10:57:46.612Z"
   },
   {
    "duration": 66,
    "start_time": "2022-03-16T10:57:48.365Z"
   },
   {
    "duration": 23,
    "start_time": "2022-03-16T10:57:48.433Z"
   },
   {
    "duration": 275,
    "start_time": "2022-03-16T10:57:48.458Z"
   },
   {
    "duration": 32,
    "start_time": "2022-03-16T10:57:48.735Z"
   },
   {
    "duration": 7,
    "start_time": "2022-03-16T10:57:48.782Z"
   },
   {
    "duration": 15,
    "start_time": "2022-03-16T10:57:48.793Z"
   },
   {
    "duration": 750,
    "start_time": "2022-03-16T10:57:48.811Z"
   },
   {
    "duration": 98,
    "start_time": "2022-03-16T10:57:49.564Z"
   },
   {
    "duration": 30,
    "start_time": "2022-03-16T10:57:49.665Z"
   },
   {
    "duration": 19,
    "start_time": "2022-03-16T10:57:49.697Z"
   },
   {
    "duration": 20,
    "start_time": "2022-03-16T10:57:49.718Z"
   },
   {
    "duration": 480,
    "start_time": "2022-03-16T10:57:49.740Z"
   },
   {
    "duration": 15,
    "start_time": "2022-03-16T10:57:50.222Z"
   },
   {
    "duration": 12,
    "start_time": "2022-03-16T10:57:50.240Z"
   },
   {
    "duration": 67,
    "start_time": "2022-03-16T10:57:50.255Z"
   },
   {
    "duration": 40,
    "start_time": "2022-03-16T11:04:58.781Z"
   },
   {
    "duration": 371,
    "start_time": "2022-03-16T11:05:24.436Z"
   },
   {
    "duration": 368,
    "start_time": "2022-03-16T11:07:20.039Z"
   },
   {
    "duration": 252,
    "start_time": "2022-03-16T11:41:12.812Z"
   },
   {
    "duration": 64,
    "start_time": "2022-03-16T11:41:32.722Z"
   },
   {
    "duration": 266,
    "start_time": "2022-03-16T11:49:30.030Z"
   },
   {
    "duration": 63,
    "start_time": "2022-03-16T11:49:37.753Z"
   },
   {
    "duration": 65,
    "start_time": "2022-03-16T11:50:04.109Z"
   },
   {
    "duration": 63,
    "start_time": "2022-03-16T11:51:02.521Z"
   },
   {
    "duration": 188,
    "start_time": "2022-03-16T12:25:10.258Z"
   },
   {
    "duration": 5152,
    "start_time": "2022-03-16T12:25:28.723Z"
   },
   {
    "duration": 34,
    "start_time": "2022-03-16T12:25:45.252Z"
   },
   {
    "duration": 57,
    "start_time": "2022-03-16T12:29:15.986Z"
   },
   {
    "duration": 54,
    "start_time": "2022-03-16T12:30:15.834Z"
   },
   {
    "duration": 4953,
    "start_time": "2022-03-16T12:35:26.616Z"
   },
   {
    "duration": 224,
    "start_time": "2022-03-16T12:35:44.870Z"
   },
   {
    "duration": 49,
    "start_time": "2022-03-16T12:36:46.768Z"
   },
   {
    "duration": 50,
    "start_time": "2022-03-16T12:36:57.329Z"
   },
   {
    "duration": 49,
    "start_time": "2022-03-16T12:41:17.420Z"
   },
   {
    "duration": 39,
    "start_time": "2022-03-16T12:41:48.510Z"
   },
   {
    "duration": 47,
    "start_time": "2022-03-16T12:46:42.914Z"
   },
   {
    "duration": 47,
    "start_time": "2022-03-16T12:47:15.064Z"
   },
   {
    "duration": 68,
    "start_time": "2022-03-16T12:49:04.534Z"
   },
   {
    "duration": 72,
    "start_time": "2022-03-16T12:49:21.199Z"
   },
   {
    "duration": 60,
    "start_time": "2022-03-16T12:51:14.572Z"
   },
   {
    "duration": 58,
    "start_time": "2022-03-16T12:52:25.377Z"
   },
   {
    "duration": 17,
    "start_time": "2022-03-16T12:53:35.706Z"
   },
   {
    "duration": 65,
    "start_time": "2022-03-16T12:54:46.431Z"
   },
   {
    "duration": 67,
    "start_time": "2022-03-16T12:56:58.770Z"
   },
   {
    "duration": 68,
    "start_time": "2022-03-16T12:57:48.924Z"
   },
   {
    "duration": 244,
    "start_time": "2022-03-16T13:19:22.211Z"
   },
   {
    "duration": 5,
    "start_time": "2022-03-16T13:19:54.421Z"
   },
   {
    "duration": 12,
    "start_time": "2022-03-16T13:20:00.557Z"
   },
   {
    "duration": 11,
    "start_time": "2022-03-16T13:23:44.637Z"
   },
   {
    "duration": 11,
    "start_time": "2022-03-16T13:25:07.231Z"
   },
   {
    "duration": 8,
    "start_time": "2022-03-16T13:30:05.519Z"
   },
   {
    "duration": 5,
    "start_time": "2022-03-16T13:32:23.003Z"
   },
   {
    "duration": 8,
    "start_time": "2022-03-16T13:36:00.952Z"
   },
   {
    "duration": 7,
    "start_time": "2022-03-16T13:46:20.958Z"
   },
   {
    "duration": 5,
    "start_time": "2022-03-16T13:47:16.724Z"
   },
   {
    "duration": 197,
    "start_time": "2022-03-16T13:47:31.223Z"
   },
   {
    "duration": 4,
    "start_time": "2022-03-16T13:47:34.315Z"
   },
   {
    "duration": 7,
    "start_time": "2022-03-16T13:47:36.004Z"
   },
   {
    "duration": 5,
    "start_time": "2022-03-16T13:47:41.957Z"
   },
   {
    "duration": 8,
    "start_time": "2022-03-16T13:48:47.484Z"
   },
   {
    "duration": 5,
    "start_time": "2022-03-16T13:48:55.628Z"
   },
   {
    "duration": 236,
    "start_time": "2022-03-16T13:49:35.999Z"
   },
   {
    "duration": 7,
    "start_time": "2022-03-16T13:49:38.066Z"
   },
   {
    "duration": 6,
    "start_time": "2022-03-16T13:49:39.848Z"
   },
   {
    "duration": 7,
    "start_time": "2022-03-16T14:02:23.586Z"
   },
   {
    "duration": 7,
    "start_time": "2022-03-16T14:02:25.706Z"
   },
   {
    "duration": 5,
    "start_time": "2022-03-16T14:02:29.294Z"
   },
   {
    "duration": 6,
    "start_time": "2022-03-16T14:05:11.610Z"
   },
   {
    "duration": 8,
    "start_time": "2022-03-16T14:08:11.733Z"
   },
   {
    "duration": 5,
    "start_time": "2022-03-16T14:08:13.796Z"
   },
   {
    "duration": 4,
    "start_time": "2022-03-16T14:13:13.614Z"
   },
   {
    "duration": 5,
    "start_time": "2022-03-16T14:18:21.246Z"
   },
   {
    "duration": 5,
    "start_time": "2022-03-16T14:19:38.855Z"
   },
   {
    "duration": 6,
    "start_time": "2022-03-16T14:23:01.564Z"
   },
   {
    "duration": 6,
    "start_time": "2022-03-16T14:23:09.812Z"
   },
   {
    "duration": 5,
    "start_time": "2022-03-16T14:23:51.039Z"
   },
   {
    "duration": 254,
    "start_time": "2022-03-16T14:23:51.051Z"
   },
   {
    "duration": 1993,
    "start_time": "2022-03-16T14:23:51.308Z"
   },
   {
    "duration": 46,
    "start_time": "2022-03-16T14:23:53.304Z"
   },
   {
    "duration": 47,
    "start_time": "2022-03-16T14:23:53.353Z"
   },
   {
    "duration": 275,
    "start_time": "2022-03-16T14:23:53.403Z"
   },
   {
    "duration": 32,
    "start_time": "2022-03-16T14:23:53.683Z"
   },
   {
    "duration": 6,
    "start_time": "2022-03-16T14:23:53.717Z"
   },
   {
    "duration": 56,
    "start_time": "2022-03-16T14:23:53.726Z"
   },
   {
    "duration": 711,
    "start_time": "2022-03-16T14:23:53.786Z"
   },
   {
    "duration": 98,
    "start_time": "2022-03-16T14:23:54.501Z"
   },
   {
    "duration": 17,
    "start_time": "2022-03-16T14:23:54.602Z"
   },
   {
    "duration": 19,
    "start_time": "2022-03-16T14:23:54.621Z"
   },
   {
    "duration": 48,
    "start_time": "2022-03-16T14:23:54.642Z"
   },
   {
    "duration": 446,
    "start_time": "2022-03-16T14:23:54.692Z"
   },
   {
    "duration": 13,
    "start_time": "2022-03-16T14:23:55.141Z"
   },
   {
    "duration": 28,
    "start_time": "2022-03-16T14:23:55.157Z"
   },
   {
    "duration": 37,
    "start_time": "2022-03-16T14:23:55.187Z"
   },
   {
    "duration": 66,
    "start_time": "2022-03-16T14:23:55.226Z"
   },
   {
    "duration": 460,
    "start_time": "2022-03-16T14:23:55.295Z"
   },
   {
    "duration": 71,
    "start_time": "2022-03-16T14:23:55.758Z"
   },
   {
    "duration": 38,
    "start_time": "2022-03-16T14:23:55.831Z"
   },
   {
    "duration": 60,
    "start_time": "2022-03-16T14:23:55.883Z"
   },
   {
    "duration": 83,
    "start_time": "2022-03-16T14:23:55.946Z"
   },
   {
    "duration": 80,
    "start_time": "2022-03-16T14:23:56.032Z"
   },
   {
    "duration": 80,
    "start_time": "2022-03-16T14:23:56.115Z"
   },
   {
    "duration": 14,
    "start_time": "2022-03-16T14:23:56.198Z"
   },
   {
    "duration": 20,
    "start_time": "2022-03-16T14:23:56.217Z"
   },
   {
    "duration": 26,
    "start_time": "2022-03-16T14:23:56.240Z"
   },
   {
    "duration": 18,
    "start_time": "2022-03-16T14:23:56.269Z"
   },
   {
    "duration": 9,
    "start_time": "2022-03-16T14:23:56.290Z"
   },
   {
    "duration": 53,
    "start_time": "2022-03-16T14:23:56.301Z"
   },
   {
    "duration": 8,
    "start_time": "2022-03-16T14:23:56.357Z"
   },
   {
    "duration": 7,
    "start_time": "2022-03-16T14:23:56.367Z"
   },
   {
    "duration": 8,
    "start_time": "2022-03-16T14:23:56.377Z"
   },
   {
    "duration": 15,
    "start_time": "2022-03-16T14:23:56.388Z"
   },
   {
    "duration": 5,
    "start_time": "2022-03-16T14:26:43.392Z"
   },
   {
    "duration": 7,
    "start_time": "2022-03-16T14:27:45.615Z"
   },
   {
    "duration": 241,
    "start_time": "2022-03-16T14:27:45.624Z"
   },
   {
    "duration": 1747,
    "start_time": "2022-03-16T14:27:45.882Z"
   },
   {
    "duration": 67,
    "start_time": "2022-03-16T14:27:47.632Z"
   },
   {
    "duration": 20,
    "start_time": "2022-03-16T14:27:47.701Z"
   },
   {
    "duration": 275,
    "start_time": "2022-03-16T14:27:47.724Z"
   },
   {
    "duration": 31,
    "start_time": "2022-03-16T14:27:48.002Z"
   },
   {
    "duration": 8,
    "start_time": "2022-03-16T14:27:48.037Z"
   },
   {
    "duration": 48,
    "start_time": "2022-03-16T14:27:48.047Z"
   },
   {
    "duration": 629,
    "start_time": "2022-03-16T14:27:48.098Z"
   },
   {
    "duration": 106,
    "start_time": "2022-03-16T14:27:48.730Z"
   },
   {
    "duration": 20,
    "start_time": "2022-03-16T14:27:48.840Z"
   },
   {
    "duration": 21,
    "start_time": "2022-03-16T14:27:48.883Z"
   },
   {
    "duration": 22,
    "start_time": "2022-03-16T14:27:48.907Z"
   },
   {
    "duration": 464,
    "start_time": "2022-03-16T14:27:48.932Z"
   },
   {
    "duration": 15,
    "start_time": "2022-03-16T14:27:49.400Z"
   },
   {
    "duration": 42,
    "start_time": "2022-03-16T14:27:49.417Z"
   },
   {
    "duration": 71,
    "start_time": "2022-03-16T14:27:49.461Z"
   },
   {
    "duration": 84,
    "start_time": "2022-03-16T14:27:49.535Z"
   },
   {
    "duration": 499,
    "start_time": "2022-03-16T14:27:49.621Z"
   },
   {
    "duration": 76,
    "start_time": "2022-03-16T14:27:50.123Z"
   },
   {
    "duration": 36,
    "start_time": "2022-03-16T14:27:50.202Z"
   },
   {
    "duration": 75,
    "start_time": "2022-03-16T14:27:50.244Z"
   },
   {
    "duration": 87,
    "start_time": "2022-03-16T14:27:50.322Z"
   },
   {
    "duration": 83,
    "start_time": "2022-03-16T14:27:50.418Z"
   },
   {
    "duration": 78,
    "start_time": "2022-03-16T14:27:50.504Z"
   },
   {
    "duration": 11,
    "start_time": "2022-03-16T14:27:50.585Z"
   },
   {
    "duration": 13,
    "start_time": "2022-03-16T14:27:50.598Z"
   },
   {
    "duration": 9,
    "start_time": "2022-03-16T14:27:50.614Z"
   },
   {
    "duration": 11,
    "start_time": "2022-03-16T14:27:50.625Z"
   },
   {
    "duration": 8,
    "start_time": "2022-03-16T14:27:50.639Z"
   },
   {
    "duration": 36,
    "start_time": "2022-03-16T14:27:50.650Z"
   },
   {
    "duration": 11,
    "start_time": "2022-03-16T14:27:50.689Z"
   },
   {
    "duration": 11,
    "start_time": "2022-03-16T14:27:50.702Z"
   },
   {
    "duration": 6,
    "start_time": "2022-03-16T14:27:54.084Z"
   },
   {
    "duration": 5,
    "start_time": "2022-03-16T14:27:55.993Z"
   },
   {
    "duration": 7,
    "start_time": "2022-03-16T14:30:37.463Z"
   },
   {
    "duration": 6,
    "start_time": "2022-03-16T14:30:43.918Z"
   },
   {
    "duration": 7,
    "start_time": "2022-03-16T14:52:12.904Z"
   },
   {
    "duration": 1852,
    "start_time": "2022-03-16T14:52:29.696Z"
   },
   {
    "duration": 253,
    "start_time": "2022-03-16T14:52:31.551Z"
   },
   {
    "duration": 1576,
    "start_time": "2022-03-16T14:52:31.808Z"
   },
   {
    "duration": 55,
    "start_time": "2022-03-16T14:52:33.387Z"
   },
   {
    "duration": 46,
    "start_time": "2022-03-16T14:52:33.444Z"
   },
   {
    "duration": 290,
    "start_time": "2022-03-16T14:52:33.492Z"
   },
   {
    "duration": 31,
    "start_time": "2022-03-16T14:52:33.785Z"
   },
   {
    "duration": 12,
    "start_time": "2022-03-16T14:52:33.819Z"
   },
   {
    "duration": 25,
    "start_time": "2022-03-16T14:52:33.835Z"
   },
   {
    "duration": 478,
    "start_time": "2022-03-16T14:52:33.863Z"
   },
   {
    "duration": 105,
    "start_time": "2022-03-16T14:52:34.343Z"
   },
   {
    "duration": 16,
    "start_time": "2022-03-16T14:52:34.450Z"
   },
   {
    "duration": 19,
    "start_time": "2022-03-16T14:52:34.483Z"
   },
   {
    "duration": 33,
    "start_time": "2022-03-16T14:52:34.505Z"
   },
   {
    "duration": 457,
    "start_time": "2022-03-16T14:52:34.541Z"
   },
   {
    "duration": 23,
    "start_time": "2022-03-16T14:52:35.001Z"
   },
   {
    "duration": 15,
    "start_time": "2022-03-16T14:52:35.027Z"
   },
   {
    "duration": 72,
    "start_time": "2022-03-16T14:52:35.045Z"
   },
   {
    "duration": 63,
    "start_time": "2022-03-16T14:52:35.120Z"
   },
   {
    "duration": 370,
    "start_time": "2022-03-16T14:52:35.185Z"
   },
   {
    "duration": 78,
    "start_time": "2022-03-16T14:52:35.558Z"
   },
   {
    "duration": 48,
    "start_time": "2022-03-16T14:52:35.638Z"
   },
   {
    "duration": 103,
    "start_time": "2022-03-16T14:52:35.689Z"
   },
   {
    "duration": 65,
    "start_time": "2022-03-16T14:52:35.794Z"
   },
   {
    "duration": 77,
    "start_time": "2022-03-16T14:52:35.861Z"
   },
   {
    "duration": 85,
    "start_time": "2022-03-16T14:52:35.941Z"
   },
   {
    "duration": 10,
    "start_time": "2022-03-16T14:52:36.031Z"
   },
   {
    "duration": 19,
    "start_time": "2022-03-16T14:52:36.044Z"
   },
   {
    "duration": 20,
    "start_time": "2022-03-16T14:52:36.065Z"
   },
   {
    "duration": 367,
    "start_time": "2022-03-16T14:52:36.089Z"
   },
   {
    "duration": -823,
    "start_time": "2022-03-16T14:52:37.281Z"
   },
   {
    "duration": -825,
    "start_time": "2022-03-16T14:52:37.285Z"
   },
   {
    "duration": -827,
    "start_time": "2022-03-16T14:52:37.288Z"
   },
   {
    "duration": -829,
    "start_time": "2022-03-16T14:52:37.291Z"
   },
   {
    "duration": -830,
    "start_time": "2022-03-16T14:52:37.294Z"
   },
   {
    "duration": -940,
    "start_time": "2022-03-16T14:52:37.405Z"
   },
   {
    "duration": -960,
    "start_time": "2022-03-16T14:52:37.427Z"
   },
   {
    "duration": 4,
    "start_time": "2022-03-16T14:53:08.871Z"
   },
   {
    "duration": 187,
    "start_time": "2022-03-16T14:53:11.303Z"
   },
   {
    "duration": 6,
    "start_time": "2022-03-16T14:53:17.733Z"
   },
   {
    "duration": 8,
    "start_time": "2022-03-16T14:53:25.688Z"
   },
   {
    "duration": 6,
    "start_time": "2022-03-16T14:53:28.070Z"
   },
   {
    "duration": 6,
    "start_time": "2022-03-16T14:53:30.128Z"
   },
   {
    "duration": 224,
    "start_time": "2022-03-16T14:53:32.795Z"
   },
   {
    "duration": 6,
    "start_time": "2022-03-16T14:53:36.930Z"
   },
   {
    "duration": 5,
    "start_time": "2022-03-16T14:53:54.981Z"
   },
   {
    "duration": 6,
    "start_time": "2022-03-16T14:54:43.031Z"
   },
   {
    "duration": 4,
    "start_time": "2022-03-16T14:54:51.643Z"
   },
   {
    "duration": 232,
    "start_time": "2022-03-16T14:56:03.917Z"
   },
   {
    "duration": 7,
    "start_time": "2022-03-16T14:56:10.446Z"
   },
   {
    "duration": 5,
    "start_time": "2022-03-16T14:56:16.387Z"
   },
   {
    "duration": 5,
    "start_time": "2022-03-16T14:56:18.770Z"
   },
   {
    "duration": 5,
    "start_time": "2022-03-16T14:56:39.612Z"
   },
   {
    "duration": 5,
    "start_time": "2022-03-16T14:56:50.952Z"
   },
   {
    "duration": 6,
    "start_time": "2022-03-16T14:56:53.331Z"
   },
   {
    "duration": 5,
    "start_time": "2022-03-16T14:59:01.793Z"
   },
   {
    "duration": 5,
    "start_time": "2022-03-16T15:00:21.079Z"
   },
   {
    "duration": 4,
    "start_time": "2022-03-16T15:00:24.358Z"
   },
   {
    "duration": 6,
    "start_time": "2022-03-16T15:01:11.980Z"
   },
   {
    "duration": 6,
    "start_time": "2022-03-16T15:01:13.597Z"
   },
   {
    "duration": 6,
    "start_time": "2022-03-16T15:14:43.264Z"
   },
   {
    "duration": 5,
    "start_time": "2022-03-16T15:14:45.967Z"
   },
   {
    "duration": 4725,
    "start_time": "2022-03-16T15:25:08.660Z"
   },
   {
    "duration": 102,
    "start_time": "2022-03-16T15:25:20.444Z"
   },
   {
    "duration": 788,
    "start_time": "2022-03-16T15:25:34.302Z"
   },
   {
    "duration": 97,
    "start_time": "2022-03-16T15:25:53.886Z"
   },
   {
    "duration": 5,
    "start_time": "2022-03-16T15:28:29.567Z"
   },
   {
    "duration": 5,
    "start_time": "2022-03-16T15:29:07.326Z"
   },
   {
    "duration": 5,
    "start_time": "2022-03-16T15:30:34.599Z"
   },
   {
    "duration": 5,
    "start_time": "2022-03-16T16:08:08.354Z"
   },
   {
    "duration": 6,
    "start_time": "2022-03-16T16:08:10.778Z"
   },
   {
    "duration": 6,
    "start_time": "2022-03-16T16:09:22.500Z"
   },
   {
    "duration": 6,
    "start_time": "2022-03-16T16:10:42.184Z"
   },
   {
    "duration": 5,
    "start_time": "2022-03-16T16:11:49.806Z"
   },
   {
    "duration": 1875,
    "start_time": "2022-03-16T16:29:23.321Z"
   },
   {
    "duration": 296,
    "start_time": "2022-03-16T16:29:25.199Z"
   },
   {
    "duration": 1636,
    "start_time": "2022-03-16T16:29:25.498Z"
   },
   {
    "duration": 77,
    "start_time": "2022-03-16T16:29:27.136Z"
   },
   {
    "duration": 22,
    "start_time": "2022-03-16T16:29:27.216Z"
   },
   {
    "duration": 321,
    "start_time": "2022-03-16T16:29:27.240Z"
   },
   {
    "duration": 42,
    "start_time": "2022-03-16T16:29:27.564Z"
   },
   {
    "duration": 8,
    "start_time": "2022-03-16T16:29:27.610Z"
   },
   {
    "duration": 17,
    "start_time": "2022-03-16T16:29:27.621Z"
   },
   {
    "duration": 542,
    "start_time": "2022-03-16T16:29:27.640Z"
   },
   {
    "duration": 108,
    "start_time": "2022-03-16T16:29:28.186Z"
   },
   {
    "duration": 19,
    "start_time": "2022-03-16T16:29:28.297Z"
   },
   {
    "duration": 19,
    "start_time": "2022-03-16T16:29:28.318Z"
   },
   {
    "duration": 59,
    "start_time": "2022-03-16T16:29:28.340Z"
   },
   {
    "duration": 473,
    "start_time": "2022-03-16T16:29:28.402Z"
   },
   {
    "duration": 21,
    "start_time": "2022-03-16T16:29:28.878Z"
   },
   {
    "duration": 16,
    "start_time": "2022-03-16T16:29:28.902Z"
   },
   {
    "duration": 77,
    "start_time": "2022-03-16T16:29:28.920Z"
   },
   {
    "duration": 42,
    "start_time": "2022-03-16T16:29:29.000Z"
   },
   {
    "duration": 406,
    "start_time": "2022-03-16T16:29:29.044Z"
   },
   {
    "duration": 80,
    "start_time": "2022-03-16T16:29:29.452Z"
   },
   {
    "duration": 35,
    "start_time": "2022-03-16T16:29:29.534Z"
   },
   {
    "duration": 61,
    "start_time": "2022-03-16T16:29:29.588Z"
   },
   {
    "duration": 85,
    "start_time": "2022-03-16T16:29:29.652Z"
   },
   {
    "duration": 85,
    "start_time": "2022-03-16T16:29:29.740Z"
   },
   {
    "duration": 72,
    "start_time": "2022-03-16T16:29:29.828Z"
   },
   {
    "duration": 12,
    "start_time": "2022-03-16T16:29:29.903Z"
   },
   {
    "duration": 9,
    "start_time": "2022-03-16T16:29:29.918Z"
   },
   {
    "duration": 15,
    "start_time": "2022-03-16T16:29:29.930Z"
   },
   {
    "duration": 362,
    "start_time": "2022-03-16T16:29:29.947Z"
   },
   {
    "duration": 1617,
    "start_time": "2022-03-16T16:29:28.697Z"
   },
   {
    "duration": 1608,
    "start_time": "2022-03-16T16:29:28.708Z"
   },
   {
    "duration": 1594,
    "start_time": "2022-03-16T16:29:28.724Z"
   },
   {
    "duration": 1588,
    "start_time": "2022-03-16T16:29:28.732Z"
   },
   {
    "duration": 1581,
    "start_time": "2022-03-16T16:29:28.741Z"
   },
   {
    "duration": 1571,
    "start_time": "2022-03-16T16:29:28.752Z"
   },
   {
    "duration": 1566,
    "start_time": "2022-03-16T16:29:28.759Z"
   },
   {
    "duration": 1449,
    "start_time": "2022-03-16T16:29:28.878Z"
   },
   {
    "duration": 1349,
    "start_time": "2022-03-16T16:29:28.979Z"
   },
   {
    "duration": 1318,
    "start_time": "2022-03-16T16:29:29.012Z"
   },
   {
    "duration": 1302,
    "start_time": "2022-03-16T16:29:29.030Z"
   },
   {
    "duration": 1295,
    "start_time": "2022-03-16T16:29:29.039Z"
   },
   {
    "duration": 1288,
    "start_time": "2022-03-16T16:29:29.047Z"
   },
   {
    "duration": 1280,
    "start_time": "2022-03-16T16:29:29.057Z"
   },
   {
    "duration": 1269,
    "start_time": "2022-03-16T16:29:29.069Z"
   },
   {
    "duration": 1261,
    "start_time": "2022-03-16T16:29:29.079Z"
   },
   {
    "duration": 1252,
    "start_time": "2022-03-16T16:29:29.089Z"
   },
   {
    "duration": 6,
    "start_time": "2022-03-16T16:30:06.141Z"
   },
   {
    "duration": 1940,
    "start_time": "2022-03-16T16:30:12.360Z"
   },
   {
    "duration": 280,
    "start_time": "2022-03-16T16:30:14.302Z"
   },
   {
    "duration": 1736,
    "start_time": "2022-03-16T16:30:14.587Z"
   },
   {
    "duration": 87,
    "start_time": "2022-03-16T16:30:16.325Z"
   },
   {
    "duration": 23,
    "start_time": "2022-03-16T16:30:16.415Z"
   },
   {
    "duration": 333,
    "start_time": "2022-03-16T16:30:16.440Z"
   },
   {
    "duration": 40,
    "start_time": "2022-03-16T16:30:16.776Z"
   },
   {
    "duration": 7,
    "start_time": "2022-03-16T16:30:16.820Z"
   },
   {
    "duration": 52,
    "start_time": "2022-03-16T16:30:16.830Z"
   },
   {
    "duration": 533,
    "start_time": "2022-03-16T16:30:16.886Z"
   },
   {
    "duration": 146,
    "start_time": "2022-03-16T16:30:17.425Z"
   },
   {
    "duration": 31,
    "start_time": "2022-03-16T16:30:17.574Z"
   },
   {
    "duration": 20,
    "start_time": "2022-03-16T16:30:17.608Z"
   },
   {
    "duration": 22,
    "start_time": "2022-03-16T16:30:17.630Z"
   },
   {
    "duration": 522,
    "start_time": "2022-03-16T16:30:17.654Z"
   },
   {
    "duration": 24,
    "start_time": "2022-03-16T16:30:18.179Z"
   },
   {
    "duration": 11,
    "start_time": "2022-03-16T16:30:18.205Z"
   },
   {
    "duration": 70,
    "start_time": "2022-03-16T16:30:18.218Z"
   },
   {
    "duration": 41,
    "start_time": "2022-03-16T16:30:18.292Z"
   },
   {
    "duration": 399,
    "start_time": "2022-03-16T16:30:18.335Z"
   },
   {
    "duration": 88,
    "start_time": "2022-03-16T16:30:18.736Z"
   },
   {
    "duration": 37,
    "start_time": "2022-03-16T16:30:18.827Z"
   },
   {
    "duration": 67,
    "start_time": "2022-03-16T16:30:18.881Z"
   },
   {
    "duration": 90,
    "start_time": "2022-03-16T16:30:18.951Z"
   },
   {
    "duration": 75,
    "start_time": "2022-03-16T16:30:19.043Z"
   },
   {
    "duration": 79,
    "start_time": "2022-03-16T16:30:19.120Z"
   },
   {
    "duration": 12,
    "start_time": "2022-03-16T16:30:19.201Z"
   },
   {
    "duration": 12,
    "start_time": "2022-03-16T16:30:19.215Z"
   },
   {
    "duration": 11,
    "start_time": "2022-03-16T16:30:19.230Z"
   },
   {
    "duration": 15,
    "start_time": "2022-03-16T16:30:19.243Z"
   },
   {
    "duration": 13,
    "start_time": "2022-03-16T16:30:19.284Z"
   },
   {
    "duration": 18,
    "start_time": "2022-03-16T16:30:19.299Z"
   },
   {
    "duration": 7,
    "start_time": "2022-03-16T16:30:19.320Z"
   },
   {
    "duration": 8,
    "start_time": "2022-03-16T16:30:19.329Z"
   },
   {
    "duration": 395,
    "start_time": "2022-03-16T16:30:19.339Z"
   },
   {
    "duration": 1389,
    "start_time": "2022-03-16T16:30:18.349Z"
   },
   {
    "duration": 1385,
    "start_time": "2022-03-16T16:30:18.355Z"
   },
   {
    "duration": 1381,
    "start_time": "2022-03-16T16:30:18.361Z"
   },
   {
    "duration": 1378,
    "start_time": "2022-03-16T16:30:18.366Z"
   },
   {
    "duration": 1376,
    "start_time": "2022-03-16T16:30:18.370Z"
   },
   {
    "duration": 1375,
    "start_time": "2022-03-16T16:30:18.374Z"
   },
   {
    "duration": 1372,
    "start_time": "2022-03-16T16:30:18.379Z"
   },
   {
    "duration": 1370,
    "start_time": "2022-03-16T16:30:18.383Z"
   },
   {
    "duration": 1367,
    "start_time": "2022-03-16T16:30:18.388Z"
   },
   {
    "duration": 1364,
    "start_time": "2022-03-16T16:30:18.392Z"
   },
   {
    "duration": 1362,
    "start_time": "2022-03-16T16:30:18.396Z"
   },
   {
    "duration": 1359,
    "start_time": "2022-03-16T16:30:18.400Z"
   },
   {
    "duration": 5,
    "start_time": "2022-03-16T16:30:42.501Z"
   },
   {
    "duration": 1957,
    "start_time": "2022-03-16T16:30:54.780Z"
   },
   {
    "duration": 279,
    "start_time": "2022-03-16T16:30:56.740Z"
   },
   {
    "duration": 1640,
    "start_time": "2022-03-16T16:30:57.022Z"
   },
   {
    "duration": 72,
    "start_time": "2022-03-16T16:30:58.665Z"
   },
   {
    "duration": 21,
    "start_time": "2022-03-16T16:30:58.739Z"
   },
   {
    "duration": 340,
    "start_time": "2022-03-16T16:30:58.762Z"
   },
   {
    "duration": 31,
    "start_time": "2022-03-16T16:30:59.105Z"
   },
   {
    "duration": 18,
    "start_time": "2022-03-16T16:30:59.139Z"
   },
   {
    "duration": 46,
    "start_time": "2022-03-16T16:30:59.160Z"
   },
   {
    "duration": 515,
    "start_time": "2022-03-16T16:30:59.208Z"
   },
   {
    "duration": 109,
    "start_time": "2022-03-16T16:30:59.725Z"
   },
   {
    "duration": 17,
    "start_time": "2022-03-16T16:30:59.836Z"
   },
   {
    "duration": 42,
    "start_time": "2022-03-16T16:30:59.855Z"
   },
   {
    "duration": 20,
    "start_time": "2022-03-16T16:30:59.899Z"
   },
   {
    "duration": 501,
    "start_time": "2022-03-16T16:30:59.921Z"
   },
   {
    "duration": 19,
    "start_time": "2022-03-16T16:31:00.425Z"
   },
   {
    "duration": 38,
    "start_time": "2022-03-16T16:31:00.447Z"
   },
   {
    "duration": 53,
    "start_time": "2022-03-16T16:31:00.488Z"
   },
   {
    "duration": 64,
    "start_time": "2022-03-16T16:31:00.544Z"
   },
   {
    "duration": 398,
    "start_time": "2022-03-16T16:31:00.611Z"
   },
   {
    "duration": 77,
    "start_time": "2022-03-16T16:31:01.011Z"
   },
   {
    "duration": 38,
    "start_time": "2022-03-16T16:31:01.092Z"
   },
   {
    "duration": 97,
    "start_time": "2022-03-16T16:31:01.136Z"
   },
   {
    "duration": 83,
    "start_time": "2022-03-16T16:31:01.237Z"
   },
   {
    "duration": 82,
    "start_time": "2022-03-16T16:31:01.322Z"
   },
   {
    "duration": 80,
    "start_time": "2022-03-16T16:31:01.406Z"
   },
   {
    "duration": 15,
    "start_time": "2022-03-16T16:31:01.489Z"
   },
   {
    "duration": 23,
    "start_time": "2022-03-16T16:31:01.506Z"
   },
   {
    "duration": 34,
    "start_time": "2022-03-16T16:31:01.532Z"
   },
   {
    "duration": 52,
    "start_time": "2022-03-16T16:31:01.568Z"
   },
   {
    "duration": 26,
    "start_time": "2022-03-16T16:31:01.623Z"
   },
   {
    "duration": 48,
    "start_time": "2022-03-16T16:31:01.652Z"
   },
   {
    "duration": 31,
    "start_time": "2022-03-16T16:31:01.702Z"
   },
   {
    "duration": 25,
    "start_time": "2022-03-16T16:31:01.736Z"
   },
   {
    "duration": 34,
    "start_time": "2022-03-16T16:31:01.764Z"
   },
   {
    "duration": 22,
    "start_time": "2022-03-16T16:31:01.801Z"
   },
   {
    "duration": 30,
    "start_time": "2022-03-16T16:31:01.825Z"
   },
   {
    "duration": 35,
    "start_time": "2022-03-16T16:31:01.857Z"
   },
   {
    "duration": 40,
    "start_time": "2022-03-16T16:31:01.895Z"
   },
   {
    "duration": 26,
    "start_time": "2022-03-16T16:31:01.938Z"
   },
   {
    "duration": 27,
    "start_time": "2022-03-16T16:31:01.967Z"
   },
   {
    "duration": 126,
    "start_time": "2022-03-16T16:31:01.997Z"
   },
   {
    "duration": 3,
    "start_time": "2022-03-16T16:31:02.126Z"
   },
   {
    "duration": 22,
    "start_time": "2022-03-16T16:31:02.132Z"
   },
   {
    "duration": 24,
    "start_time": "2022-03-16T16:31:02.157Z"
   },
   {
    "duration": 35,
    "start_time": "2022-03-16T16:31:02.184Z"
   },
   {
    "duration": 19,
    "start_time": "2022-03-16T16:31:02.221Z"
   },
   {
    "duration": 1991,
    "start_time": "2022-03-17T05:47:28.146Z"
   },
   {
    "duration": 200,
    "start_time": "2022-03-17T05:47:30.139Z"
   },
   {
    "duration": 58,
    "start_time": "2022-03-17T05:56:36.672Z"
   },
   {
    "duration": 4,
    "start_time": "2022-03-17T05:59:26.716Z"
   },
   {
    "duration": 176,
    "start_time": "2022-03-17T05:59:26.863Z"
   },
   {
    "duration": 1008,
    "start_time": "2022-03-17T05:59:27.477Z"
   },
   {
    "duration": 40,
    "start_time": "2022-03-17T05:59:28.487Z"
   },
   {
    "duration": 14,
    "start_time": "2022-03-17T05:59:28.538Z"
   },
   {
    "duration": 192,
    "start_time": "2022-03-17T05:59:28.554Z"
   },
   {
    "duration": 24,
    "start_time": "2022-03-17T05:59:29.435Z"
   },
   {
    "duration": 9,
    "start_time": "2022-03-17T05:59:29.843Z"
   },
   {
    "duration": 14,
    "start_time": "2022-03-17T05:59:30.164Z"
   },
   {
    "duration": 306,
    "start_time": "2022-03-17T05:59:30.675Z"
   },
   {
    "duration": 65,
    "start_time": "2022-03-17T05:59:31.315Z"
   },
   {
    "duration": 12,
    "start_time": "2022-03-17T05:59:31.652Z"
   },
   {
    "duration": 14,
    "start_time": "2022-03-17T05:59:32.352Z"
   },
   {
    "duration": 15,
    "start_time": "2022-03-17T05:59:33.365Z"
   },
   {
    "duration": 280,
    "start_time": "2022-03-17T05:59:33.876Z"
   },
   {
    "duration": 13,
    "start_time": "2022-03-17T05:59:34.233Z"
   },
   {
    "duration": 9,
    "start_time": "2022-03-17T05:59:34.926Z"
   },
   {
    "duration": 25,
    "start_time": "2022-03-17T05:59:35.262Z"
   },
   {
    "duration": 27,
    "start_time": "2022-03-17T05:59:35.788Z"
   },
   {
    "duration": 224,
    "start_time": "2022-03-17T05:59:35.957Z"
   },
   {
    "duration": 46,
    "start_time": "2022-03-17T05:59:37.179Z"
   },
   {
    "duration": 32,
    "start_time": "2022-03-17T05:59:37.540Z"
   },
   {
    "duration": 40,
    "start_time": "2022-03-17T05:59:37.739Z"
   },
   {
    "duration": 46,
    "start_time": "2022-03-17T05:59:45.756Z"
   },
   {
    "duration": 44,
    "start_time": "2022-03-17T05:59:46.598Z"
   },
   {
    "duration": 46,
    "start_time": "2022-03-17T05:59:47.229Z"
   },
   {
    "duration": 8,
    "start_time": "2022-03-17T05:59:48.134Z"
   },
   {
    "duration": 53,
    "start_time": "2022-03-17T06:12:23.597Z"
   },
   {
    "duration": 1588,
    "start_time": "2022-03-17T07:49:03.306Z"
   },
   {
    "duration": 287,
    "start_time": "2022-03-17T07:49:04.897Z"
   },
   {
    "duration": 1090,
    "start_time": "2022-03-17T07:49:05.187Z"
   },
   {
    "duration": 37,
    "start_time": "2022-03-17T07:49:06.279Z"
   },
   {
    "duration": 48,
    "start_time": "2022-03-17T07:49:06.318Z"
   },
   {
    "duration": 213,
    "start_time": "2022-03-17T07:49:06.368Z"
   },
   {
    "duration": 31,
    "start_time": "2022-03-17T07:49:06.583Z"
   },
   {
    "duration": 24,
    "start_time": "2022-03-17T07:49:06.615Z"
   },
   {
    "duration": 35,
    "start_time": "2022-03-17T07:49:06.643Z"
   },
   {
    "duration": 326,
    "start_time": "2022-03-17T07:49:06.681Z"
   },
   {
    "duration": 88,
    "start_time": "2022-03-17T07:49:07.009Z"
   },
   {
    "duration": 13,
    "start_time": "2022-03-17T07:49:07.099Z"
   },
   {
    "duration": 23,
    "start_time": "2022-03-17T07:49:07.132Z"
   },
   {
    "duration": 22,
    "start_time": "2022-03-17T07:49:07.157Z"
   },
   {
    "duration": 294,
    "start_time": "2022-03-17T07:49:07.181Z"
   },
   {
    "duration": 13,
    "start_time": "2022-03-17T07:49:07.476Z"
   },
   {
    "duration": 8,
    "start_time": "2022-03-17T07:49:07.491Z"
   },
   {
    "duration": 46,
    "start_time": "2022-03-17T07:49:07.500Z"
   },
   {
    "duration": 21,
    "start_time": "2022-03-17T07:49:07.548Z"
   },
   {
    "duration": 201,
    "start_time": "2022-03-17T07:49:07.571Z"
   },
   {
    "duration": 38,
    "start_time": "2022-03-17T07:49:07.774Z"
   },
   {
    "duration": 49,
    "start_time": "2022-03-17T07:49:07.814Z"
   },
   {
    "duration": 41,
    "start_time": "2022-03-17T07:49:07.865Z"
   },
   {
    "duration": 70,
    "start_time": "2022-03-17T07:49:07.908Z"
   },
   {
    "duration": 64,
    "start_time": "2022-03-17T07:49:07.980Z"
   },
   {
    "duration": 50,
    "start_time": "2022-03-17T07:49:08.047Z"
   },
   {
    "duration": 7,
    "start_time": "2022-03-17T07:49:26.445Z"
   },
   {
    "duration": 11,
    "start_time": "2022-03-17T07:51:48.340Z"
   },
   {
    "duration": 8,
    "start_time": "2022-03-17T07:53:18.076Z"
   },
   {
    "duration": 6,
    "start_time": "2022-03-17T07:54:14.614Z"
   },
   {
    "duration": 6,
    "start_time": "2022-03-17T07:55:48.884Z"
   },
   {
    "duration": 9,
    "start_time": "2022-03-17T07:55:57.995Z"
   },
   {
    "duration": 3,
    "start_time": "2022-03-17T08:29:15.583Z"
   },
   {
    "duration": 111,
    "start_time": "2022-03-17T08:32:49.947Z"
   },
   {
    "duration": 5,
    "start_time": "2022-03-17T08:32:55.645Z"
   },
   {
    "duration": 260,
    "start_time": "2022-03-17T08:32:55.655Z"
   },
   {
    "duration": 1103,
    "start_time": "2022-03-17T08:32:55.917Z"
   },
   {
    "duration": 51,
    "start_time": "2022-03-17T08:32:57.021Z"
   },
   {
    "duration": 22,
    "start_time": "2022-03-17T08:32:57.074Z"
   },
   {
    "duration": 212,
    "start_time": "2022-03-17T08:32:57.099Z"
   },
   {
    "duration": 47,
    "start_time": "2022-03-17T08:32:57.312Z"
   },
   {
    "duration": 6,
    "start_time": "2022-03-17T08:32:57.360Z"
   },
   {
    "duration": 17,
    "start_time": "2022-03-17T08:32:57.368Z"
   },
   {
    "duration": 392,
    "start_time": "2022-03-17T08:32:57.387Z"
   },
   {
    "duration": 94,
    "start_time": "2022-03-17T08:32:57.781Z"
   },
   {
    "duration": 14,
    "start_time": "2022-03-17T08:32:57.876Z"
   },
   {
    "duration": 15,
    "start_time": "2022-03-17T08:32:57.891Z"
   },
   {
    "duration": 59,
    "start_time": "2022-03-17T08:32:57.908Z"
   },
   {
    "duration": 256,
    "start_time": "2022-03-17T08:32:57.970Z"
   },
   {
    "duration": 17,
    "start_time": "2022-03-17T08:32:58.227Z"
   },
   {
    "duration": 14,
    "start_time": "2022-03-17T08:32:58.246Z"
   },
   {
    "duration": 25,
    "start_time": "2022-03-17T08:32:58.262Z"
   },
   {
    "duration": 25,
    "start_time": "2022-03-17T08:32:58.289Z"
   },
   {
    "duration": 187,
    "start_time": "2022-03-17T08:32:58.336Z"
   },
   {
    "duration": 43,
    "start_time": "2022-03-17T08:32:58.525Z"
   },
   {
    "duration": 31,
    "start_time": "2022-03-17T08:32:58.570Z"
   },
   {
    "duration": 75,
    "start_time": "2022-03-17T08:32:58.603Z"
   },
   {
    "duration": 69,
    "start_time": "2022-03-17T08:32:58.680Z"
   },
   {
    "duration": 47,
    "start_time": "2022-03-17T08:32:58.751Z"
   },
   {
    "duration": 65,
    "start_time": "2022-03-17T08:32:58.800Z"
   },
   {
    "duration": 5,
    "start_time": "2022-03-17T08:32:58.867Z"
   },
   {
    "duration": 6,
    "start_time": "2022-03-17T08:32:58.874Z"
   },
   {
    "duration": 12,
    "start_time": "2022-03-17T08:32:58.882Z"
   },
   {
    "duration": 10,
    "start_time": "2022-03-17T08:32:58.896Z"
   },
   {
    "duration": 4,
    "start_time": "2022-03-17T08:33:01.611Z"
   },
   {
    "duration": 4,
    "start_time": "2022-03-17T08:34:51.976Z"
   },
   {
    "duration": 4,
    "start_time": "2022-03-17T08:35:31.197Z"
   },
   {
    "duration": 7,
    "start_time": "2022-03-17T08:37:19.573Z"
   },
   {
    "duration": 5,
    "start_time": "2022-03-17T08:37:51.648Z"
   },
   {
    "duration": 4,
    "start_time": "2022-03-17T08:38:47.245Z"
   },
   {
    "duration": 5,
    "start_time": "2022-03-17T08:39:04.979Z"
   },
   {
    "duration": 2583,
    "start_time": "2022-03-17T08:39:45.387Z"
   },
   {
    "duration": 6,
    "start_time": "2022-03-17T08:40:10.508Z"
   },
   {
    "duration": 5,
    "start_time": "2022-03-17T08:40:21.184Z"
   },
   {
    "duration": 49,
    "start_time": "2022-03-17T08:44:14.055Z"
   },
   {
    "duration": 53,
    "start_time": "2022-03-17T08:44:36.474Z"
   },
   {
    "duration": 55,
    "start_time": "2022-03-17T08:45:01.751Z"
   },
   {
    "duration": 5,
    "start_time": "2022-03-17T08:46:10.147Z"
   },
   {
    "duration": 18,
    "start_time": "2022-03-17T08:46:20.636Z"
   },
   {
    "duration": 6,
    "start_time": "2022-03-17T08:46:43.048Z"
   },
   {
    "duration": 6,
    "start_time": "2022-03-17T08:47:01.686Z"
   },
   {
    "duration": 4,
    "start_time": "2022-03-17T08:47:40.893Z"
   },
   {
    "duration": 5,
    "start_time": "2022-03-17T08:47:45.569Z"
   },
   {
    "duration": 19,
    "start_time": "2022-03-17T09:04:18.158Z"
   },
   {
    "duration": 5,
    "start_time": "2022-03-17T09:04:22.094Z"
   },
   {
    "duration": 4,
    "start_time": "2022-03-17T09:15:52.761Z"
   },
   {
    "duration": 4,
    "start_time": "2022-03-17T09:16:27.722Z"
   },
   {
    "duration": 278,
    "start_time": "2022-03-17T09:16:27.729Z"
   },
   {
    "duration": 1137,
    "start_time": "2022-03-17T09:16:28.009Z"
   },
   {
    "duration": 36,
    "start_time": "2022-03-17T09:16:29.148Z"
   },
   {
    "duration": 25,
    "start_time": "2022-03-17T09:16:29.187Z"
   },
   {
    "duration": 236,
    "start_time": "2022-03-17T09:16:29.214Z"
   },
   {
    "duration": 33,
    "start_time": "2022-03-17T09:16:29.451Z"
   },
   {
    "duration": 8,
    "start_time": "2022-03-17T09:16:29.486Z"
   },
   {
    "duration": 42,
    "start_time": "2022-03-17T09:16:29.496Z"
   },
   {
    "duration": 422,
    "start_time": "2022-03-17T09:16:29.540Z"
   },
   {
    "duration": 130,
    "start_time": "2022-03-17T09:16:29.965Z"
   },
   {
    "duration": 19,
    "start_time": "2022-03-17T09:16:30.097Z"
   },
   {
    "duration": 26,
    "start_time": "2022-03-17T09:16:30.133Z"
   },
   {
    "duration": 27,
    "start_time": "2022-03-17T09:16:30.161Z"
   },
   {
    "duration": 362,
    "start_time": "2022-03-17T09:16:30.190Z"
   },
   {
    "duration": 13,
    "start_time": "2022-03-17T09:16:30.554Z"
   },
   {
    "duration": 28,
    "start_time": "2022-03-17T09:16:30.569Z"
   },
   {
    "duration": 26,
    "start_time": "2022-03-17T09:16:30.599Z"
   },
   {
    "duration": 42,
    "start_time": "2022-03-17T09:16:30.627Z"
   },
   {
    "duration": 214,
    "start_time": "2022-03-17T09:16:30.671Z"
   },
   {
    "duration": 50,
    "start_time": "2022-03-17T09:16:30.887Z"
   },
   {
    "duration": 31,
    "start_time": "2022-03-17T09:16:30.939Z"
   },
   {
    "duration": 42,
    "start_time": "2022-03-17T09:16:30.972Z"
   },
   {
    "duration": 55,
    "start_time": "2022-03-17T09:16:31.037Z"
   },
   {
    "duration": 69,
    "start_time": "2022-03-17T09:16:31.094Z"
   },
   {
    "duration": 51,
    "start_time": "2022-03-17T09:16:31.165Z"
   },
   {
    "duration": 19,
    "start_time": "2022-03-17T09:16:31.218Z"
   },
   {
    "duration": 18,
    "start_time": "2022-03-17T09:16:31.239Z"
   },
   {
    "duration": 50,
    "start_time": "2022-03-17T09:16:31.259Z"
   },
   {
    "duration": 44,
    "start_time": "2022-03-17T09:16:31.311Z"
   },
   {
    "duration": 16,
    "start_time": "2022-03-17T09:16:31.357Z"
   },
   {
    "duration": 15,
    "start_time": "2022-03-17T09:16:31.376Z"
   },
   {
    "duration": 4,
    "start_time": "2022-03-17T09:16:35.483Z"
   },
   {
    "duration": 5,
    "start_time": "2022-03-17T09:17:43.960Z"
   },
   {
    "duration": 5,
    "start_time": "2022-03-17T09:17:46.421Z"
   },
   {
    "duration": 5,
    "start_time": "2022-03-17T09:18:34.749Z"
   },
   {
    "duration": 4,
    "start_time": "2022-03-17T09:18:57.722Z"
   },
   {
    "duration": 4,
    "start_time": "2022-03-17T09:19:29.376Z"
   },
   {
    "duration": 5,
    "start_time": "2022-03-17T09:19:31.657Z"
   },
   {
    "duration": 5,
    "start_time": "2022-03-17T09:19:47.296Z"
   },
   {
    "duration": 4,
    "start_time": "2022-03-17T09:19:49.296Z"
   },
   {
    "duration": 4,
    "start_time": "2022-03-17T09:19:58.786Z"
   },
   {
    "duration": 4,
    "start_time": "2022-03-17T09:20:00.794Z"
   },
   {
    "duration": 74,
    "start_time": "2022-03-17T09:21:24.247Z"
   },
   {
    "duration": 4,
    "start_time": "2022-03-17T09:22:36.322Z"
   },
   {
    "duration": 4,
    "start_time": "2022-03-17T09:24:00.252Z"
   },
   {
    "duration": 5,
    "start_time": "2022-03-17T09:24:27.297Z"
   },
   {
    "duration": 4,
    "start_time": "2022-03-17T09:24:35.371Z"
   },
   {
    "duration": 14,
    "start_time": "2022-03-17T09:37:00.096Z"
   },
   {
    "duration": 14,
    "start_time": "2022-03-17T09:38:25.549Z"
   },
   {
    "duration": 11,
    "start_time": "2022-03-17T10:10:13.741Z"
   },
   {
    "duration": 4,
    "start_time": "2022-03-17T10:11:36.008Z"
   },
   {
    "duration": 5,
    "start_time": "2022-03-17T10:11:56.075Z"
   },
   {
    "duration": 2,
    "start_time": "2022-03-17T10:12:49.986Z"
   },
   {
    "duration": 1369,
    "start_time": "2022-03-17T10:13:04.130Z"
   },
   {
    "duration": 1235,
    "start_time": "2022-03-17T10:13:05.501Z"
   },
   {
    "duration": 1056,
    "start_time": "2022-03-17T10:13:06.742Z"
   },
   {
    "duration": 52,
    "start_time": "2022-03-17T10:13:07.800Z"
   },
   {
    "duration": 32,
    "start_time": "2022-03-17T10:13:07.854Z"
   },
   {
    "duration": 204,
    "start_time": "2022-03-17T10:13:07.888Z"
   },
   {
    "duration": 52,
    "start_time": "2022-03-17T10:13:08.094Z"
   },
   {
    "duration": 6,
    "start_time": "2022-03-17T10:13:08.148Z"
   },
   {
    "duration": 21,
    "start_time": "2022-03-17T10:13:08.156Z"
   },
   {
    "duration": 333,
    "start_time": "2022-03-17T10:13:08.179Z"
   },
   {
    "duration": 79,
    "start_time": "2022-03-17T10:13:08.515Z"
   },
   {
    "duration": 12,
    "start_time": "2022-03-17T10:13:08.596Z"
   },
   {
    "duration": 42,
    "start_time": "2022-03-17T10:13:08.610Z"
   },
   {
    "duration": 20,
    "start_time": "2022-03-17T10:13:08.654Z"
   },
   {
    "duration": 280,
    "start_time": "2022-03-17T10:13:08.676Z"
   },
   {
    "duration": 13,
    "start_time": "2022-03-17T10:13:08.958Z"
   },
   {
    "duration": 10,
    "start_time": "2022-03-17T10:13:08.973Z"
   },
   {
    "duration": 53,
    "start_time": "2022-03-17T10:13:08.985Z"
   },
   {
    "duration": 21,
    "start_time": "2022-03-17T10:13:09.043Z"
   },
   {
    "duration": 200,
    "start_time": "2022-03-17T10:13:09.066Z"
   },
   {
    "duration": 38,
    "start_time": "2022-03-17T10:13:09.267Z"
   },
   {
    "duration": 47,
    "start_time": "2022-03-17T10:13:09.307Z"
   },
   {
    "duration": 41,
    "start_time": "2022-03-17T10:13:09.356Z"
   },
   {
    "duration": 69,
    "start_time": "2022-03-17T10:13:09.399Z"
   },
   {
    "duration": 66,
    "start_time": "2022-03-17T10:13:09.470Z"
   },
   {
    "duration": 53,
    "start_time": "2022-03-17T10:13:09.540Z"
   },
   {
    "duration": 5,
    "start_time": "2022-03-17T10:13:09.595Z"
   },
   {
    "duration": 7,
    "start_time": "2022-03-17T10:13:09.604Z"
   },
   {
    "duration": 24,
    "start_time": "2022-03-17T10:13:09.612Z"
   },
   {
    "duration": 15,
    "start_time": "2022-03-17T10:13:09.639Z"
   },
   {
    "duration": 14,
    "start_time": "2022-03-17T10:13:09.656Z"
   },
   {
    "duration": 132,
    "start_time": "2022-03-17T10:13:09.672Z"
   },
   {
    "duration": 0,
    "start_time": "2022-03-17T10:13:09.805Z"
   },
   {
    "duration": 0,
    "start_time": "2022-03-17T10:13:09.807Z"
   },
   {
    "duration": 0,
    "start_time": "2022-03-17T10:13:09.808Z"
   },
   {
    "duration": 0,
    "start_time": "2022-03-17T10:13:09.809Z"
   },
   {
    "duration": 0,
    "start_time": "2022-03-17T10:13:09.811Z"
   },
   {
    "duration": 0,
    "start_time": "2022-03-17T10:13:09.812Z"
   },
   {
    "duration": 0,
    "start_time": "2022-03-17T10:13:09.813Z"
   },
   {
    "duration": 0,
    "start_time": "2022-03-17T10:13:09.815Z"
   },
   {
    "duration": 0,
    "start_time": "2022-03-17T10:13:09.816Z"
   },
   {
    "duration": 0,
    "start_time": "2022-03-17T10:13:09.834Z"
   },
   {
    "duration": 0,
    "start_time": "2022-03-17T10:13:09.836Z"
   },
   {
    "duration": 0,
    "start_time": "2022-03-17T10:13:09.837Z"
   },
   {
    "duration": 0,
    "start_time": "2022-03-17T10:13:09.839Z"
   },
   {
    "duration": 0,
    "start_time": "2022-03-17T10:13:09.840Z"
   },
   {
    "duration": 0,
    "start_time": "2022-03-17T10:13:09.843Z"
   },
   {
    "duration": 0,
    "start_time": "2022-03-17T10:13:09.845Z"
   },
   {
    "duration": 0,
    "start_time": "2022-03-17T10:13:09.846Z"
   },
   {
    "duration": 17,
    "start_time": "2022-03-17T10:13:46.714Z"
   },
   {
    "duration": 5,
    "start_time": "2022-03-17T10:15:50.323Z"
   },
   {
    "duration": 6,
    "start_time": "2022-03-17T10:15:55.439Z"
   },
   {
    "duration": 5,
    "start_time": "2022-03-17T10:16:01.674Z"
   },
   {
    "duration": 1662,
    "start_time": "2022-03-17T10:16:08.393Z"
   },
   {
    "duration": 315,
    "start_time": "2022-03-17T10:16:10.057Z"
   },
   {
    "duration": 1185,
    "start_time": "2022-03-17T10:16:10.374Z"
   },
   {
    "duration": 77,
    "start_time": "2022-03-17T10:16:11.561Z"
   },
   {
    "duration": 41,
    "start_time": "2022-03-17T10:16:11.642Z"
   },
   {
    "duration": 233,
    "start_time": "2022-03-17T10:16:11.685Z"
   },
   {
    "duration": 49,
    "start_time": "2022-03-17T10:16:11.920Z"
   },
   {
    "duration": 7,
    "start_time": "2022-03-17T10:16:11.972Z"
   },
   {
    "duration": 19,
    "start_time": "2022-03-17T10:16:11.981Z"
   },
   {
    "duration": 415,
    "start_time": "2022-03-17T10:16:12.002Z"
   },
   {
    "duration": 95,
    "start_time": "2022-03-17T10:16:12.419Z"
   },
   {
    "duration": 37,
    "start_time": "2022-03-17T10:16:12.516Z"
   },
   {
    "duration": 19,
    "start_time": "2022-03-17T10:16:12.556Z"
   },
   {
    "duration": 23,
    "start_time": "2022-03-17T10:16:12.581Z"
   },
   {
    "duration": 310,
    "start_time": "2022-03-17T10:16:12.606Z"
   },
   {
    "duration": 19,
    "start_time": "2022-03-17T10:16:12.918Z"
   },
   {
    "duration": 30,
    "start_time": "2022-03-17T10:16:12.939Z"
   },
   {
    "duration": 34,
    "start_time": "2022-03-17T10:16:12.972Z"
   },
   {
    "duration": 41,
    "start_time": "2022-03-17T10:16:13.008Z"
   },
   {
    "duration": 218,
    "start_time": "2022-03-17T10:16:13.052Z"
   },
   {
    "duration": 69,
    "start_time": "2022-03-17T10:16:13.272Z"
   },
   {
    "duration": 42,
    "start_time": "2022-03-17T10:16:13.344Z"
   },
   {
    "duration": 76,
    "start_time": "2022-03-17T10:16:13.388Z"
   },
   {
    "duration": 69,
    "start_time": "2022-03-17T10:16:13.466Z"
   },
   {
    "duration": 54,
    "start_time": "2022-03-17T10:16:13.537Z"
   },
   {
    "duration": 76,
    "start_time": "2022-03-17T10:16:13.593Z"
   },
   {
    "duration": 6,
    "start_time": "2022-03-17T10:16:13.671Z"
   },
   {
    "duration": 11,
    "start_time": "2022-03-17T10:16:13.679Z"
   },
   {
    "duration": 13,
    "start_time": "2022-03-17T10:16:13.693Z"
   },
   {
    "duration": 18,
    "start_time": "2022-03-17T10:16:13.708Z"
   },
   {
    "duration": 15,
    "start_time": "2022-03-17T10:16:13.728Z"
   },
   {
    "duration": 24,
    "start_time": "2022-03-17T10:16:13.745Z"
   },
   {
    "duration": 13,
    "start_time": "2022-03-17T10:16:13.772Z"
   },
   {
    "duration": 11,
    "start_time": "2022-03-17T10:16:13.788Z"
   },
   {
    "duration": 10,
    "start_time": "2022-03-17T10:16:13.804Z"
   },
   {
    "duration": 18,
    "start_time": "2022-03-17T10:16:13.816Z"
   },
   {
    "duration": 29,
    "start_time": "2022-03-17T10:16:13.836Z"
   },
   {
    "duration": 11,
    "start_time": "2022-03-17T10:16:13.868Z"
   },
   {
    "duration": 13,
    "start_time": "2022-03-17T10:16:13.881Z"
   },
   {
    "duration": 7,
    "start_time": "2022-03-17T10:16:13.897Z"
   },
   {
    "duration": 7,
    "start_time": "2022-03-17T10:16:13.909Z"
   },
   {
    "duration": 22,
    "start_time": "2022-03-17T10:16:13.918Z"
   },
   {
    "duration": 25,
    "start_time": "2022-03-17T10:16:13.942Z"
   },
   {
    "duration": 103,
    "start_time": "2022-03-17T10:16:13.970Z"
   },
   {
    "duration": 5,
    "start_time": "2022-03-17T10:16:14.074Z"
   },
   {
    "duration": 6,
    "start_time": "2022-03-17T10:16:14.081Z"
   },
   {
    "duration": 14,
    "start_time": "2022-03-17T10:16:14.089Z"
   },
   {
    "duration": 29,
    "start_time": "2022-03-17T10:16:14.106Z"
   },
   {
    "duration": 25,
    "start_time": "2022-03-17T10:16:14.140Z"
   },
   {
    "duration": 1387,
    "start_time": "2022-03-17T10:27:43.212Z"
   },
   {
    "duration": 284,
    "start_time": "2022-03-17T10:27:44.601Z"
   },
   {
    "duration": 1111,
    "start_time": "2022-03-17T10:27:44.888Z"
   },
   {
    "duration": 57,
    "start_time": "2022-03-17T10:27:46.002Z"
   },
   {
    "duration": 32,
    "start_time": "2022-03-17T10:27:46.061Z"
   },
   {
    "duration": 217,
    "start_time": "2022-03-17T10:27:46.095Z"
   },
   {
    "duration": 46,
    "start_time": "2022-03-17T10:27:46.314Z"
   },
   {
    "duration": 6,
    "start_time": "2022-03-17T10:27:46.362Z"
   },
   {
    "duration": 20,
    "start_time": "2022-03-17T10:27:46.370Z"
   },
   {
    "duration": 354,
    "start_time": "2022-03-17T10:27:46.393Z"
   },
   {
    "duration": 99,
    "start_time": "2022-03-17T10:27:46.749Z"
   },
   {
    "duration": 22,
    "start_time": "2022-03-17T10:27:46.850Z"
   },
   {
    "duration": 15,
    "start_time": "2022-03-17T10:27:46.874Z"
   },
   {
    "duration": 47,
    "start_time": "2022-03-17T10:27:46.891Z"
   },
   {
    "duration": 267,
    "start_time": "2022-03-17T10:27:46.940Z"
   },
   {
    "duration": 12,
    "start_time": "2022-03-17T10:27:47.209Z"
   },
   {
    "duration": 11,
    "start_time": "2022-03-17T10:27:47.232Z"
   },
   {
    "duration": 24,
    "start_time": "2022-03-17T10:27:47.244Z"
   },
   {
    "duration": 21,
    "start_time": "2022-03-17T10:27:47.269Z"
   },
   {
    "duration": 210,
    "start_time": "2022-03-17T10:27:47.292Z"
   },
   {
    "duration": 49,
    "start_time": "2022-03-17T10:27:47.503Z"
   },
   {
    "duration": 28,
    "start_time": "2022-03-17T10:27:47.554Z"
   },
   {
    "duration": 56,
    "start_time": "2022-03-17T10:27:47.584Z"
   },
   {
    "duration": 51,
    "start_time": "2022-03-17T10:27:47.642Z"
   },
   {
    "duration": 63,
    "start_time": "2022-03-17T10:27:47.695Z"
   },
   {
    "duration": 49,
    "start_time": "2022-03-17T10:27:47.760Z"
   },
   {
    "duration": 27,
    "start_time": "2022-03-17T10:27:47.811Z"
   },
   {
    "duration": 7,
    "start_time": "2022-03-17T10:27:47.845Z"
   },
   {
    "duration": 9,
    "start_time": "2022-03-17T10:27:47.854Z"
   },
   {
    "duration": 6,
    "start_time": "2022-03-17T10:27:47.864Z"
   },
   {
    "duration": 8,
    "start_time": "2022-03-17T10:27:47.872Z"
   },
   {
    "duration": 7,
    "start_time": "2022-03-17T10:27:47.882Z"
   },
   {
    "duration": 7,
    "start_time": "2022-03-17T10:27:47.890Z"
   },
   {
    "duration": 5,
    "start_time": "2022-03-17T10:27:47.899Z"
   },
   {
    "duration": 7,
    "start_time": "2022-03-17T10:27:47.905Z"
   },
   {
    "duration": 25,
    "start_time": "2022-03-17T10:27:47.914Z"
   },
   {
    "duration": 5,
    "start_time": "2022-03-17T10:27:47.942Z"
   },
   {
    "duration": 8,
    "start_time": "2022-03-17T10:27:47.949Z"
   },
   {
    "duration": 7,
    "start_time": "2022-03-17T10:27:47.959Z"
   },
   {
    "duration": 8,
    "start_time": "2022-03-17T10:27:47.968Z"
   },
   {
    "duration": 7,
    "start_time": "2022-03-17T10:27:47.977Z"
   },
   {
    "duration": 7,
    "start_time": "2022-03-17T10:27:47.986Z"
   },
   {
    "duration": 6,
    "start_time": "2022-03-17T10:27:47.995Z"
   },
   {
    "duration": 102,
    "start_time": "2022-03-17T10:27:48.003Z"
   },
   {
    "duration": 4,
    "start_time": "2022-03-17T10:27:48.107Z"
   },
   {
    "duration": 10,
    "start_time": "2022-03-17T10:27:48.113Z"
   },
   {
    "duration": 11,
    "start_time": "2022-03-17T10:27:48.125Z"
   },
   {
    "duration": 9,
    "start_time": "2022-03-17T10:27:48.142Z"
   },
   {
    "duration": 6,
    "start_time": "2022-03-17T10:27:48.153Z"
   },
   {
    "duration": 13,
    "start_time": "2022-03-17T16:49:54.163Z"
   },
   {
    "duration": 4,
    "start_time": "2022-03-17T16:49:58.495Z"
   },
   {
    "duration": 5,
    "start_time": "2022-03-17T16:50:47.182Z"
   },
   {
    "duration": 1450,
    "start_time": "2022-03-17T16:51:53.912Z"
   },
   {
    "duration": 247,
    "start_time": "2022-03-17T16:51:55.364Z"
   },
   {
    "duration": 968,
    "start_time": "2022-03-17T16:51:55.613Z"
   },
   {
    "duration": 36,
    "start_time": "2022-03-17T16:51:56.583Z"
   },
   {
    "duration": 33,
    "start_time": "2022-03-17T16:51:56.638Z"
   },
   {
    "duration": 201,
    "start_time": "2022-03-17T16:51:56.672Z"
   },
   {
    "duration": 28,
    "start_time": "2022-03-17T16:51:56.875Z"
   },
   {
    "duration": 5,
    "start_time": "2022-03-17T16:51:56.905Z"
   },
   {
    "duration": 36,
    "start_time": "2022-03-17T16:51:56.912Z"
   },
   {
    "duration": 290,
    "start_time": "2022-03-17T16:51:56.950Z"
   },
   {
    "duration": 69,
    "start_time": "2022-03-17T16:51:57.241Z"
   },
   {
    "duration": 29,
    "start_time": "2022-03-17T16:51:57.312Z"
   },
   {
    "duration": 15,
    "start_time": "2022-03-17T16:51:57.343Z"
   },
   {
    "duration": 23,
    "start_time": "2022-03-17T16:51:57.361Z"
   },
   {
    "duration": 257,
    "start_time": "2022-03-17T16:51:57.386Z"
   },
   {
    "duration": 12,
    "start_time": "2022-03-17T16:51:57.645Z"
   },
   {
    "duration": 8,
    "start_time": "2022-03-17T16:51:57.658Z"
   },
   {
    "duration": 22,
    "start_time": "2022-03-17T16:51:57.667Z"
   },
   {
    "duration": 46,
    "start_time": "2022-03-17T16:51:57.691Z"
   },
   {
    "duration": 171,
    "start_time": "2022-03-17T16:51:57.739Z"
   },
   {
    "duration": 45,
    "start_time": "2022-03-17T16:51:57.912Z"
   },
   {
    "duration": 30,
    "start_time": "2022-03-17T16:51:57.958Z"
   },
   {
    "duration": 53,
    "start_time": "2022-03-17T16:51:57.991Z"
   },
   {
    "duration": 47,
    "start_time": "2022-03-17T16:51:58.046Z"
   },
   {
    "duration": 63,
    "start_time": "2022-03-17T16:51:58.095Z"
   },
   {
    "duration": 46,
    "start_time": "2022-03-17T16:51:58.160Z"
   },
   {
    "duration": 6,
    "start_time": "2022-03-17T16:51:58.207Z"
   },
   {
    "duration": 24,
    "start_time": "2022-03-17T16:51:58.214Z"
   },
   {
    "duration": 8,
    "start_time": "2022-03-17T16:51:58.240Z"
   },
   {
    "duration": 6,
    "start_time": "2022-03-17T16:51:58.250Z"
   },
   {
    "duration": 8,
    "start_time": "2022-03-17T16:51:58.258Z"
   },
   {
    "duration": 13,
    "start_time": "2022-03-17T16:51:58.268Z"
   },
   {
    "duration": 14,
    "start_time": "2022-03-17T16:51:58.284Z"
   },
   {
    "duration": 8,
    "start_time": "2022-03-17T16:51:58.300Z"
   },
   {
    "duration": 8,
    "start_time": "2022-03-17T16:51:58.310Z"
   },
   {
    "duration": 7,
    "start_time": "2022-03-17T16:51:58.320Z"
   },
   {
    "duration": 4,
    "start_time": "2022-03-17T16:51:58.337Z"
   },
   {
    "duration": 8,
    "start_time": "2022-03-17T16:51:58.343Z"
   },
   {
    "duration": 7,
    "start_time": "2022-03-17T16:51:58.353Z"
   },
   {
    "duration": 6,
    "start_time": "2022-03-17T16:51:58.362Z"
   },
   {
    "duration": 4,
    "start_time": "2022-03-17T16:51:58.372Z"
   },
   {
    "duration": 8,
    "start_time": "2022-03-17T16:51:58.377Z"
   },
   {
    "duration": 10,
    "start_time": "2022-03-17T16:51:58.386Z"
   },
   {
    "duration": 97,
    "start_time": "2022-03-17T16:51:58.397Z"
   },
   {
    "duration": 4,
    "start_time": "2022-03-17T16:51:58.495Z"
   },
   {
    "duration": 7,
    "start_time": "2022-03-17T16:51:58.500Z"
   },
   {
    "duration": 7,
    "start_time": "2022-03-17T16:51:58.509Z"
   },
   {
    "duration": 21,
    "start_time": "2022-03-17T16:51:58.518Z"
   },
   {
    "duration": 4,
    "start_time": "2022-03-17T16:51:58.541Z"
   },
   {
    "duration": 1444,
    "start_time": "2022-04-02T14:01:43.605Z"
   },
   {
    "duration": 218,
    "start_time": "2022-04-02T14:01:45.051Z"
   },
   {
    "duration": 871,
    "start_time": "2022-04-02T14:01:45.270Z"
   },
   {
    "duration": 31,
    "start_time": "2022-04-02T14:01:46.143Z"
   },
   {
    "duration": 29,
    "start_time": "2022-04-02T14:01:46.176Z"
   },
   {
    "duration": 193,
    "start_time": "2022-04-02T14:01:46.206Z"
   },
   {
    "duration": 40,
    "start_time": "2022-04-02T14:01:46.400Z"
   },
   {
    "duration": 7,
    "start_time": "2022-04-02T14:01:46.442Z"
   },
   {
    "duration": 16,
    "start_time": "2022-04-02T14:01:46.450Z"
   },
   {
    "duration": 270,
    "start_time": "2022-04-02T14:01:46.467Z"
   },
   {
    "duration": 64,
    "start_time": "2022-04-02T14:01:46.739Z"
   },
   {
    "duration": 36,
    "start_time": "2022-04-02T14:01:46.804Z"
   },
   {
    "duration": 13,
    "start_time": "2022-04-02T14:01:46.842Z"
   },
   {
    "duration": 51,
    "start_time": "2022-04-02T14:01:46.858Z"
   },
   {
    "duration": 210,
    "start_time": "2022-04-02T14:01:46.911Z"
   },
   {
    "duration": 19,
    "start_time": "2022-04-02T14:01:47.123Z"
   },
   {
    "duration": 8,
    "start_time": "2022-04-02T14:01:47.143Z"
   },
   {
    "duration": 19,
    "start_time": "2022-04-02T14:01:47.152Z"
   },
   {
    "duration": 19,
    "start_time": "2022-04-02T14:01:47.173Z"
   },
   {
    "duration": 170,
    "start_time": "2022-04-02T14:01:47.194Z"
   },
   {
    "duration": 34,
    "start_time": "2022-04-02T14:01:47.366Z"
   },
   {
    "duration": 42,
    "start_time": "2022-04-02T14:01:47.402Z"
   },
   {
    "duration": 39,
    "start_time": "2022-04-02T14:01:47.445Z"
   },
   {
    "duration": 65,
    "start_time": "2022-04-02T14:01:47.486Z"
   },
   {
    "duration": 45,
    "start_time": "2022-04-02T14:01:47.553Z"
   },
   {
    "duration": 60,
    "start_time": "2022-04-02T14:01:47.600Z"
   },
   {
    "duration": 5,
    "start_time": "2022-04-02T14:01:47.662Z"
   },
   {
    "duration": 6,
    "start_time": "2022-04-02T14:01:47.668Z"
   },
   {
    "duration": 8,
    "start_time": "2022-04-02T14:01:47.676Z"
   },
   {
    "duration": 5,
    "start_time": "2022-04-02T14:01:47.686Z"
   },
   {
    "duration": 5,
    "start_time": "2022-04-02T14:01:47.693Z"
   },
   {
    "duration": 34,
    "start_time": "2022-04-02T14:01:47.700Z"
   },
   {
    "duration": 4,
    "start_time": "2022-04-02T14:01:47.736Z"
   },
   {
    "duration": 6,
    "start_time": "2022-04-02T14:01:47.742Z"
   },
   {
    "duration": 5,
    "start_time": "2022-04-02T14:01:47.750Z"
   },
   {
    "duration": 5,
    "start_time": "2022-04-02T14:01:47.756Z"
   },
   {
    "duration": 5,
    "start_time": "2022-04-02T14:01:47.763Z"
   },
   {
    "duration": 6,
    "start_time": "2022-04-02T14:01:47.770Z"
   },
   {
    "duration": 5,
    "start_time": "2022-04-02T14:01:47.778Z"
   },
   {
    "duration": 49,
    "start_time": "2022-04-02T14:01:47.785Z"
   },
   {
    "duration": 65,
    "start_time": "2022-04-02T14:01:47.839Z"
   },
   {
    "duration": 4,
    "start_time": "2022-04-02T14:01:47.905Z"
   },
   {
    "duration": 23,
    "start_time": "2022-04-02T14:01:47.911Z"
   },
   {
    "duration": 8,
    "start_time": "2022-04-02T14:01:47.936Z"
   },
   {
    "duration": 6,
    "start_time": "2022-04-02T14:01:47.946Z"
   },
   {
    "duration": 7,
    "start_time": "2022-04-02T14:01:47.954Z"
   },
   {
    "duration": 1165,
    "start_time": "2022-04-02T14:06:58.064Z"
   },
   {
    "duration": 215,
    "start_time": "2022-04-02T14:06:59.231Z"
   },
   {
    "duration": 878,
    "start_time": "2022-04-02T14:06:59.447Z"
   },
   {
    "duration": 36,
    "start_time": "2022-04-02T14:07:00.327Z"
   },
   {
    "duration": 29,
    "start_time": "2022-04-02T14:07:00.364Z"
   },
   {
    "duration": 190,
    "start_time": "2022-04-02T14:07:00.395Z"
   },
   {
    "duration": 28,
    "start_time": "2022-04-02T14:07:00.587Z"
   },
   {
    "duration": 5,
    "start_time": "2022-04-02T14:07:00.632Z"
   },
   {
    "duration": 18,
    "start_time": "2022-04-02T14:07:00.639Z"
   },
   {
    "duration": 263,
    "start_time": "2022-04-02T14:07:00.660Z"
   },
   {
    "duration": 69,
    "start_time": "2022-04-02T14:07:00.925Z"
   },
   {
    "duration": 12,
    "start_time": "2022-04-02T14:07:00.996Z"
   },
   {
    "duration": 30,
    "start_time": "2022-04-02T14:07:01.010Z"
   },
   {
    "duration": 23,
    "start_time": "2022-04-02T14:07:01.041Z"
   },
   {
    "duration": 224,
    "start_time": "2022-04-02T14:07:01.066Z"
   },
   {
    "duration": 10,
    "start_time": "2022-04-02T14:07:01.292Z"
   },
   {
    "duration": 7,
    "start_time": "2022-04-02T14:07:01.304Z"
   },
   {
    "duration": 33,
    "start_time": "2022-04-02T14:07:01.313Z"
   },
   {
    "duration": 17,
    "start_time": "2022-04-02T14:07:01.348Z"
   },
   {
    "duration": 159,
    "start_time": "2022-04-02T14:07:01.367Z"
   },
   {
    "duration": 35,
    "start_time": "2022-04-02T14:07:01.528Z"
   },
   {
    "duration": 25,
    "start_time": "2022-04-02T14:07:01.565Z"
   },
   {
    "duration": 55,
    "start_time": "2022-04-02T14:07:01.592Z"
   },
   {
    "duration": 43,
    "start_time": "2022-04-02T14:07:01.649Z"
   },
   {
    "duration": 58,
    "start_time": "2022-04-02T14:07:01.694Z"
   },
   {
    "duration": 41,
    "start_time": "2022-04-02T14:07:01.754Z"
   },
   {
    "duration": 4,
    "start_time": "2022-04-02T14:07:01.797Z"
   },
   {
    "duration": 6,
    "start_time": "2022-04-02T14:07:01.805Z"
   },
   {
    "duration": 24,
    "start_time": "2022-04-02T14:07:01.812Z"
   },
   {
    "duration": 6,
    "start_time": "2022-04-02T14:07:01.837Z"
   },
   {
    "duration": 6,
    "start_time": "2022-04-02T14:07:01.844Z"
   },
   {
    "duration": 6,
    "start_time": "2022-04-02T14:07:01.851Z"
   },
   {
    "duration": 6,
    "start_time": "2022-04-02T14:07:01.858Z"
   },
   {
    "duration": 7,
    "start_time": "2022-04-02T14:07:01.865Z"
   },
   {
    "duration": 6,
    "start_time": "2022-04-02T14:07:01.873Z"
   },
   {
    "duration": 7,
    "start_time": "2022-04-02T14:07:01.881Z"
   },
   {
    "duration": 6,
    "start_time": "2022-04-02T14:07:01.890Z"
   },
   {
    "duration": 37,
    "start_time": "2022-04-02T14:07:01.898Z"
   },
   {
    "duration": 9,
    "start_time": "2022-04-02T14:07:01.937Z"
   },
   {
    "duration": 7,
    "start_time": "2022-04-02T14:07:01.947Z"
   },
   {
    "duration": 89,
    "start_time": "2022-04-02T14:07:01.955Z"
   },
   {
    "duration": 4,
    "start_time": "2022-04-02T14:07:02.046Z"
   },
   {
    "duration": 6,
    "start_time": "2022-04-02T14:07:02.051Z"
   },
   {
    "duration": 6,
    "start_time": "2022-04-02T14:07:02.059Z"
   },
   {
    "duration": 7,
    "start_time": "2022-04-02T14:07:02.067Z"
   },
   {
    "duration": 4,
    "start_time": "2022-04-02T14:07:02.076Z"
   },
   {
    "duration": 279,
    "start_time": "2022-04-02T14:07:26.459Z"
   },
   {
    "duration": 1083,
    "start_time": "2022-04-02T14:10:07.785Z"
   },
   {
    "duration": 231,
    "start_time": "2022-04-02T14:10:08.870Z"
   },
   {
    "duration": 887,
    "start_time": "2022-04-02T14:10:09.103Z"
   },
   {
    "duration": 46,
    "start_time": "2022-04-02T14:10:09.992Z"
   },
   {
    "duration": 33,
    "start_time": "2022-04-02T14:10:10.040Z"
   },
   {
    "duration": 195,
    "start_time": "2022-04-02T14:10:10.074Z"
   },
   {
    "duration": 27,
    "start_time": "2022-04-02T14:10:10.271Z"
   },
   {
    "duration": 6,
    "start_time": "2022-04-02T14:10:10.299Z"
   },
   {
    "duration": 37,
    "start_time": "2022-04-02T14:10:10.307Z"
   },
   {
    "duration": 355,
    "start_time": "2022-04-02T14:10:10.347Z"
   },
   {
    "duration": 0,
    "start_time": "2022-04-02T14:10:10.704Z"
   },
   {
    "duration": 0,
    "start_time": "2022-04-02T14:10:10.706Z"
   },
   {
    "duration": 0,
    "start_time": "2022-04-02T14:10:10.707Z"
   },
   {
    "duration": 0,
    "start_time": "2022-04-02T14:10:10.708Z"
   },
   {
    "duration": 0,
    "start_time": "2022-04-02T14:10:10.709Z"
   },
   {
    "duration": 0,
    "start_time": "2022-04-02T14:10:10.710Z"
   },
   {
    "duration": 0,
    "start_time": "2022-04-02T14:10:10.711Z"
   },
   {
    "duration": 0,
    "start_time": "2022-04-02T14:10:10.712Z"
   },
   {
    "duration": 0,
    "start_time": "2022-04-02T14:10:10.713Z"
   },
   {
    "duration": 0,
    "start_time": "2022-04-02T14:10:10.732Z"
   },
   {
    "duration": 0,
    "start_time": "2022-04-02T14:10:10.734Z"
   },
   {
    "duration": 0,
    "start_time": "2022-04-02T14:10:10.734Z"
   },
   {
    "duration": 0,
    "start_time": "2022-04-02T14:10:10.735Z"
   },
   {
    "duration": 0,
    "start_time": "2022-04-02T14:10:10.736Z"
   },
   {
    "duration": 0,
    "start_time": "2022-04-02T14:10:10.738Z"
   },
   {
    "duration": 0,
    "start_time": "2022-04-02T14:10:10.739Z"
   },
   {
    "duration": 0,
    "start_time": "2022-04-02T14:10:10.740Z"
   },
   {
    "duration": 0,
    "start_time": "2022-04-02T14:10:10.740Z"
   },
   {
    "duration": 0,
    "start_time": "2022-04-02T14:10:10.741Z"
   },
   {
    "duration": 0,
    "start_time": "2022-04-02T14:10:10.742Z"
   },
   {
    "duration": 0,
    "start_time": "2022-04-02T14:10:10.744Z"
   },
   {
    "duration": 0,
    "start_time": "2022-04-02T14:10:10.745Z"
   },
   {
    "duration": 0,
    "start_time": "2022-04-02T14:10:10.745Z"
   },
   {
    "duration": 0,
    "start_time": "2022-04-02T14:10:10.746Z"
   },
   {
    "duration": 0,
    "start_time": "2022-04-02T14:10:10.747Z"
   },
   {
    "duration": 0,
    "start_time": "2022-04-02T14:10:10.748Z"
   },
   {
    "duration": 0,
    "start_time": "2022-04-02T14:10:10.749Z"
   },
   {
    "duration": 0,
    "start_time": "2022-04-02T14:10:10.750Z"
   },
   {
    "duration": 0,
    "start_time": "2022-04-02T14:10:10.751Z"
   },
   {
    "duration": 0,
    "start_time": "2022-04-02T14:10:10.752Z"
   },
   {
    "duration": 0,
    "start_time": "2022-04-02T14:10:10.753Z"
   },
   {
    "duration": 0,
    "start_time": "2022-04-02T14:10:10.754Z"
   },
   {
    "duration": 0,
    "start_time": "2022-04-02T14:10:10.755Z"
   },
   {
    "duration": 0,
    "start_time": "2022-04-02T14:10:10.756Z"
   },
   {
    "duration": 0,
    "start_time": "2022-04-02T14:10:10.757Z"
   },
   {
    "duration": 0,
    "start_time": "2022-04-02T14:10:10.758Z"
   },
   {
    "duration": 1174,
    "start_time": "2022-04-02T14:10:53.996Z"
   },
   {
    "duration": 224,
    "start_time": "2022-04-02T14:10:55.172Z"
   },
   {
    "duration": 900,
    "start_time": "2022-04-02T14:10:55.398Z"
   },
   {
    "duration": 41,
    "start_time": "2022-04-02T14:10:56.301Z"
   },
   {
    "duration": 31,
    "start_time": "2022-04-02T14:10:56.344Z"
   },
   {
    "duration": 195,
    "start_time": "2022-04-02T14:10:56.377Z"
   },
   {
    "duration": 27,
    "start_time": "2022-04-02T14:10:56.575Z"
   },
   {
    "duration": 6,
    "start_time": "2022-04-02T14:10:56.603Z"
   },
   {
    "duration": 35,
    "start_time": "2022-04-02T14:10:56.611Z"
   },
   {
    "duration": 272,
    "start_time": "2022-04-02T14:10:56.648Z"
   },
   {
    "duration": 72,
    "start_time": "2022-04-02T14:10:56.922Z"
   },
   {
    "duration": 13,
    "start_time": "2022-04-02T14:10:56.995Z"
   },
   {
    "duration": 37,
    "start_time": "2022-04-02T14:10:57.009Z"
   },
   {
    "duration": 18,
    "start_time": "2022-04-02T14:10:57.047Z"
   },
   {
    "duration": 234,
    "start_time": "2022-04-02T14:10:57.067Z"
   },
   {
    "duration": 12,
    "start_time": "2022-04-02T14:10:57.303Z"
   },
   {
    "duration": 21,
    "start_time": "2022-04-02T14:10:57.317Z"
   },
   {
    "duration": 17,
    "start_time": "2022-04-02T14:10:57.340Z"
   },
   {
    "duration": 17,
    "start_time": "2022-04-02T14:10:57.359Z"
   },
   {
    "duration": 166,
    "start_time": "2022-04-02T14:10:57.377Z"
   },
   {
    "duration": 33,
    "start_time": "2022-04-02T14:10:57.545Z"
   },
   {
    "duration": 28,
    "start_time": "2022-04-02T14:10:57.579Z"
   },
   {
    "duration": 55,
    "start_time": "2022-04-02T14:10:57.609Z"
   },
   {
    "duration": 47,
    "start_time": "2022-04-02T14:10:57.666Z"
   },
   {
    "duration": 60,
    "start_time": "2022-04-02T14:10:57.715Z"
   },
   {
    "duration": 64,
    "start_time": "2022-04-02T14:10:57.777Z"
   },
   {
    "duration": 6,
    "start_time": "2022-04-02T14:10:57.843Z"
   },
   {
    "duration": 5,
    "start_time": "2022-04-02T14:10:57.853Z"
   },
   {
    "duration": 112,
    "start_time": "2022-04-02T14:10:57.860Z"
   },
   {
    "duration": 0,
    "start_time": "2022-04-02T14:10:57.974Z"
   },
   {
    "duration": 0,
    "start_time": "2022-04-02T14:10:57.975Z"
   },
   {
    "duration": 0,
    "start_time": "2022-04-02T14:10:57.976Z"
   },
   {
    "duration": 0,
    "start_time": "2022-04-02T14:10:57.977Z"
   },
   {
    "duration": 0,
    "start_time": "2022-04-02T14:10:57.978Z"
   },
   {
    "duration": 0,
    "start_time": "2022-04-02T14:10:57.979Z"
   },
   {
    "duration": 0,
    "start_time": "2022-04-02T14:10:57.980Z"
   },
   {
    "duration": 0,
    "start_time": "2022-04-02T14:10:57.981Z"
   },
   {
    "duration": 0,
    "start_time": "2022-04-02T14:10:57.982Z"
   },
   {
    "duration": 0,
    "start_time": "2022-04-02T14:10:57.983Z"
   },
   {
    "duration": 0,
    "start_time": "2022-04-02T14:10:57.984Z"
   },
   {
    "duration": 0,
    "start_time": "2022-04-02T14:10:57.985Z"
   },
   {
    "duration": 0,
    "start_time": "2022-04-02T14:10:57.986Z"
   },
   {
    "duration": 0,
    "start_time": "2022-04-02T14:10:57.987Z"
   },
   {
    "duration": 0,
    "start_time": "2022-04-02T14:10:57.988Z"
   },
   {
    "duration": 0,
    "start_time": "2022-04-02T14:10:57.989Z"
   },
   {
    "duration": 0,
    "start_time": "2022-04-02T14:10:57.989Z"
   },
   {
    "duration": 1168,
    "start_time": "2022-04-02T14:11:27.210Z"
   },
   {
    "duration": 228,
    "start_time": "2022-04-02T14:11:28.380Z"
   },
   {
    "duration": 863,
    "start_time": "2022-04-02T14:11:28.610Z"
   },
   {
    "duration": 32,
    "start_time": "2022-04-02T14:11:29.475Z"
   },
   {
    "duration": 49,
    "start_time": "2022-04-02T14:11:29.509Z"
   },
   {
    "duration": 193,
    "start_time": "2022-04-02T14:11:29.559Z"
   },
   {
    "duration": 27,
    "start_time": "2022-04-02T14:11:29.754Z"
   },
   {
    "duration": 6,
    "start_time": "2022-04-02T14:11:29.782Z"
   },
   {
    "duration": 15,
    "start_time": "2022-04-02T14:11:29.789Z"
   },
   {
    "duration": 287,
    "start_time": "2022-04-02T14:11:29.806Z"
   },
   {
    "duration": 81,
    "start_time": "2022-04-02T14:11:30.094Z"
   },
   {
    "duration": 14,
    "start_time": "2022-04-02T14:11:30.176Z"
   },
   {
    "duration": 23,
    "start_time": "2022-04-02T14:11:30.192Z"
   },
   {
    "duration": 19,
    "start_time": "2022-04-02T14:11:30.232Z"
   },
   {
    "duration": 230,
    "start_time": "2022-04-02T14:11:30.253Z"
   },
   {
    "duration": 11,
    "start_time": "2022-04-02T14:11:30.485Z"
   },
   {
    "duration": 20,
    "start_time": "2022-04-02T14:11:30.498Z"
   },
   {
    "duration": 28,
    "start_time": "2022-04-02T14:11:30.519Z"
   },
   {
    "duration": 23,
    "start_time": "2022-04-02T14:11:30.549Z"
   },
   {
    "duration": 175,
    "start_time": "2022-04-02T14:11:30.574Z"
   },
   {
    "duration": 34,
    "start_time": "2022-04-02T14:11:30.751Z"
   },
   {
    "duration": 51,
    "start_time": "2022-04-02T14:11:30.787Z"
   },
   {
    "duration": 37,
    "start_time": "2022-04-02T14:11:30.840Z"
   },
   {
    "duration": 68,
    "start_time": "2022-04-02T14:11:30.878Z"
   },
   {
    "duration": 44,
    "start_time": "2022-04-02T14:11:30.948Z"
   },
   {
    "duration": 67,
    "start_time": "2022-04-02T14:11:30.994Z"
   },
   {
    "duration": 5,
    "start_time": "2022-04-02T14:11:31.064Z"
   },
   {
    "duration": 13,
    "start_time": "2022-04-02T14:11:31.071Z"
   },
   {
    "duration": 8,
    "start_time": "2022-04-02T14:11:31.085Z"
   },
   {
    "duration": 5,
    "start_time": "2022-04-02T14:11:31.095Z"
   },
   {
    "duration": 5,
    "start_time": "2022-04-02T14:11:31.102Z"
   },
   {
    "duration": 26,
    "start_time": "2022-04-02T14:11:31.109Z"
   },
   {
    "duration": 7,
    "start_time": "2022-04-02T14:11:31.137Z"
   },
   {
    "duration": 5,
    "start_time": "2022-04-02T14:11:31.146Z"
   },
   {
    "duration": 5,
    "start_time": "2022-04-02T14:11:31.153Z"
   },
   {
    "duration": 6,
    "start_time": "2022-04-02T14:11:31.160Z"
   },
   {
    "duration": 6,
    "start_time": "2022-04-02T14:11:31.168Z"
   },
   {
    "duration": 6,
    "start_time": "2022-04-02T14:11:31.176Z"
   },
   {
    "duration": 5,
    "start_time": "2022-04-02T14:11:31.184Z"
   },
   {
    "duration": 6,
    "start_time": "2022-04-02T14:11:31.191Z"
   },
   {
    "duration": 72,
    "start_time": "2022-04-02T14:11:31.236Z"
   },
   {
    "duration": 5,
    "start_time": "2022-04-02T14:11:31.310Z"
   },
   {
    "duration": 5,
    "start_time": "2022-04-02T14:11:31.334Z"
   },
   {
    "duration": 13,
    "start_time": "2022-04-02T14:11:31.341Z"
   },
   {
    "duration": 5,
    "start_time": "2022-04-02T14:11:31.356Z"
   },
   {
    "duration": 7,
    "start_time": "2022-04-02T14:11:31.363Z"
   },
   {
    "duration": 287,
    "start_time": "2022-04-02T14:11:48.933Z"
   }
  ],
  "kernelspec": {
   "display_name": "Python 3 (ipykernel)",
   "language": "python",
   "name": "python3"
  },
  "language_info": {
   "codemirror_mode": {
    "name": "ipython",
    "version": 3
   },
   "file_extension": ".py",
   "mimetype": "text/x-python",
   "name": "python",
   "nbconvert_exporter": "python",
   "pygments_lexer": "ipython3",
   "version": "3.9.5"
  },
  "toc": {
   "base_numbering": 1,
   "nav_menu": {},
   "number_sections": false,
   "sideBar": false,
   "skip_h1_title": false,
   "title_cell": "Содержание",
   "title_sidebar": "Contents",
   "toc_cell": false,
   "toc_position": {
    "height": "calc(100% - 180px)",
    "left": "10px",
    "top": "150px",
    "width": "165px"
   },
   "toc_section_display": true,
   "toc_window_display": false
  }
 },
 "nbformat": 4,
 "nbformat_minor": 2
}
